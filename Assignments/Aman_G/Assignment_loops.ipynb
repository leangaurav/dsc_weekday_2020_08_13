{
 "cells": [
  {
   "cell_type": "code",
   "execution_count": 2,
   "metadata": {},
   "outputs": [
    {
     "name": "stdout",
     "output_type": "stream",
     "text": [
      "6\n",
      "1 2 3 4 5 6 "
     ]
    }
   ],
   "source": [
    "#Solution 1\n",
    "n=int(input())\n",
    "for i in range(1,n+1):\n",
    "    print(i , end=' ')"
   ]
  },
  {
   "cell_type": "code",
   "execution_count": 6,
   "metadata": {},
   "outputs": [
    {
     "name": "stdout",
     "output_type": "stream",
     "text": [
      "5\n",
      "Sum is:15\n"
     ]
    }
   ],
   "source": [
    "#Solution 2\n",
    "n=int(input())\n",
    "s=0\n",
    "for i in range(1,n+1):\n",
    "    #print(i , end=' ')\n",
    "    s=s+i\n",
    "print(\"Sum is:\"+str(s))"
   ]
  },
  {
   "cell_type": "code",
   "execution_count": 12,
   "metadata": {},
   "outputs": [
    {
     "name": "stdout",
     "output_type": "stream",
     "text": [
      "5\n",
      "5 4 3 2 1 "
     ]
    }
   ],
   "source": [
    "#Solution 3\n",
    "n=int(input())\n",
    "for i in range(n,0,-1):\n",
    "    print(i , end=' ')\n",
    "    "
   ]
  },
  {
   "cell_type": "code",
   "execution_count": 17,
   "metadata": {},
   "outputs": [
    {
     "name": "stdout",
     "output_type": "stream",
     "text": [
      "5\n",
      "Factorial of 5 is: 120\n"
     ]
    }
   ],
   "source": [
    "#Solution 4\n",
    "n=int(input())\n",
    "f=1\n",
    "for i in range(n,1,-1):\n",
    "    f=f*i\n",
    "print(\"Factorial of \"+str(n)+\" is: \"+str(f))\n"
   ]
  },
  {
   "cell_type": "code",
   "execution_count": 24,
   "metadata": {},
   "outputs": [
    {
     "name": "stdout",
     "output_type": "stream",
     "text": [
      "5\n",
      "1 1 2 3 3 6 4 10 5 15 "
     ]
    }
   ],
   "source": [
    "#Solution 5\n",
    "n=int(input())\n",
    "a=0\n",
    "b=1\n",
    "#print(i)\n",
    "for i in range(1,n+1):\n",
    "    #print(i)\n",
    "    a=a+b\n",
    "    print(i,a , end=' ')\n",
    "    #p=i\n",
    "    #print(f)"
   ]
  },
  {
   "cell_type": "code",
   "execution_count": 3,
   "metadata": {},
   "outputs": [
    {
     "name": "stdout",
     "output_type": "stream",
     "text": [
      "12345\n",
      "15\n"
     ]
    }
   ],
   "source": [
    "#Solution 7\n",
    "a=input()\n",
    "s=len(list(a))\n",
    "v=0\n",
    "#print(s)\n",
    "for i in range(0,s):\n",
    "    v=v+int(a[i])\n",
    "print(v)\n"
   ]
  },
  {
   "cell_type": "code",
   "execution_count": 18,
   "metadata": {},
   "outputs": [
    {
     "name": "stdout",
     "output_type": "stream",
     "text": [
      "4\n",
      "1\n",
      "2\n",
      "3\n",
      "4\n",
      "33\n"
     ]
    }
   ],
   "source": [
    "#Solution 8\n",
    "#n=int(input())\n",
    "m=int(input())\n",
    "f=1\n",
    "s=0\n",
    "for j in range(1,m+1):\n",
    "    x=int(input())\n",
    "    f=1\n",
    "    for i in range(x,1,-1):\n",
    "        f=f*i\n",
    "    s=s+f\n",
    "print(s)\n",
    "#print(\"Factorial of \"+str(n)+\" is: \"+str(f))"
   ]
  },
  {
   "cell_type": "code",
   "execution_count": 21,
   "metadata": {},
   "outputs": [
    {
     "name": "stdout",
     "output_type": "stream",
     "text": [
      "Enter a base number:5\n",
      "Enter a exponent:3\n",
      "125\n"
     ]
    }
   ],
   "source": [
    "#Solution 9\n",
    "b=int(input(\"Enter a base number:\"))\n",
    "e=int(input(\"Enter a exponent:\"))\n",
    "p=1\n",
    "for i in range(1,e+1):\n",
    "    p=p*b\n",
    "print(p)"
   ]
  },
  {
   "cell_type": "code",
   "execution_count": 27,
   "metadata": {},
   "outputs": [
    {
     "name": "stdout",
     "output_type": "stream",
     "text": [
      "5\n",
      "* \n",
      "\n",
      "* * \n",
      "\n",
      "* * * \n",
      "\n",
      "* * * * \n",
      "\n",
      "* * * * * \n",
      "\n"
     ]
    }
   ],
   "source": [
    "#Solution 10a\n",
    "n=int(input())\n",
    "for i in range(n):\n",
    "    for j in range(i+1):\n",
    "        print(\"*\" , end=' ')\n",
    "    print(\"\\n\")"
   ]
  },
  {
   "cell_type": "code",
   "execution_count": 30,
   "metadata": {},
   "outputs": [
    {
     "name": "stdout",
     "output_type": "stream",
     "text": [
      "4\n",
      "* * * * \n",
      "\n",
      "* * * \n",
      "\n",
      "* * \n",
      "\n",
      "* \n",
      "\n"
     ]
    }
   ],
   "source": [
    "#Solution 10b\n",
    "n=int(input())\n",
    "for i in range(n,0,-1):\n",
    "    for j in range(i):\n",
    "        print(\"*\" , end=' ')\n",
    "    print(\"\\n\")"
   ]
  },
  {
   "cell_type": "code",
   "execution_count": 26,
   "metadata": {},
   "outputs": [
    {
     "name": "stdout",
     "output_type": "stream",
     "text": [
      "6\n",
      "     x\n",
      "    xx\n",
      "   xxx\n",
      "  xxxx\n",
      " xxxxx\n",
      "xxxxxx\n"
     ]
    }
   ],
   "source": [
    "#Solution 10c\n",
    "n=int(input())\n",
    "for i in range(n):\n",
    "    for j in range(5-i):\n",
    "        print(\" \",end='')\n",
    "    for j in range(i+1):\n",
    "        print(\"x\" , end='')\n",
    "    print()"
   ]
  },
  {
   "cell_type": "code",
   "execution_count": 11,
   "metadata": {},
   "outputs": [
    {
     "name": "stdout",
     "output_type": "stream",
     "text": [
      "5\n",
      "     x \n",
      "    x x \n",
      "   x x x \n",
      "  x x x x \n",
      " x x x x x \n"
     ]
    }
   ],
   "source": [
    "#Solution 10d\n",
    "n=int(input())\n",
    "for i in range(n):\n",
    "    for j in range(5-i):\n",
    "        print(\" \",end='')\n",
    "    for j in range(i+1):\n",
    "        print(\"x\" , end=' ')\n",
    "    print()"
   ]
  },
  {
   "cell_type": "code",
   "execution_count": 17,
   "metadata": {},
   "outputs": [
    {
     "name": "stdout",
     "output_type": "stream",
     "text": [
      "5\n",
      "1 \n",
      "2 2 \n",
      "3 3 3 \n",
      "4 4 4 4 \n",
      "5 5 5 5 5 \n"
     ]
    }
   ],
   "source": [
    "#Solution 11a\n",
    "n=int(input())\n",
    "for i in range(1,n+1):\n",
    "    for j in range(i):\n",
    "        print(i , end=' ')\n",
    "    print()\n"
   ]
  },
  {
   "cell_type": "code",
   "execution_count": 18,
   "metadata": {},
   "outputs": [
    {
     "name": "stdout",
     "output_type": "stream",
     "text": [
      "5\n",
      "1 \n",
      "1 2 \n",
      "1 2 3 \n",
      "1 2 3 4 \n",
      "1 2 3 4 5 \n"
     ]
    }
   ],
   "source": [
    "#Solution 11b\n",
    "n=int(input())\n",
    "for i in range(1,n+1):\n",
    "    for j in range(1,i+1):\n",
    "        print(j , end=' ')\n",
    "    print()"
   ]
  },
  {
   "cell_type": "code",
   "execution_count": 35,
   "metadata": {},
   "outputs": [
    {
     "name": "stdout",
     "output_type": "stream",
     "text": [
      "5\n",
      "5\n",
      "44\n",
      "333\n",
      "2222\n",
      "11111\n"
     ]
    }
   ],
   "source": [
    "#Solution 11c\n",
    "n=int(input())\n",
    "k=1\n",
    "for i in range(n,0,-1):\n",
    "    for j in range(k):\n",
    "        print(i , end='')\n",
    "    k=k+1\n",
    "    print()"
   ]
  },
  {
   "cell_type": "code",
   "execution_count": 41,
   "metadata": {},
   "outputs": [
    {
     "name": "stdout",
     "output_type": "stream",
     "text": [
      "5\n",
      "     1\n",
      "    22\n",
      "   333\n",
      "  4444\n",
      " 55555\n"
     ]
    }
   ],
   "source": [
    "#Solution 11d\n",
    "n=int(input())\n",
    "for i in range(1,n+1):\n",
    "    for j in range(6-i):\n",
    "        print(\" \",end='')\n",
    "    for j in range(i):\n",
    "        print(i, end='')\n",
    "    print()"
   ]
  },
  {
   "cell_type": "code",
   "execution_count": 47,
   "metadata": {},
   "outputs": [
    {
     "name": "stdout",
     "output_type": "stream",
     "text": [
      "5\n",
      "A\n",
      "AB\n",
      "ABC\n",
      "ABCD\n",
      "ABCDE\n"
     ]
    }
   ],
   "source": [
    "#Solution 12a\n",
    "n=int(input())\n",
    "for i in range(1,n+1):\n",
    "    b=65\n",
    "    for j in range(1,i+1):\n",
    "        a=chr(b)\n",
    "        print(a , end='')\n",
    "        b=b+1\n",
    "    print()"
   ]
  },
  {
   "cell_type": "code",
   "execution_count": 48,
   "metadata": {},
   "outputs": [
    {
     "name": "stdout",
     "output_type": "stream",
     "text": [
      "5\n",
      "A\n",
      "BC\n",
      "DEF\n",
      "GHIJ\n",
      "KLMNO\n"
     ]
    }
   ],
   "source": [
    "#Solution 12b\n",
    "n=int(input())\n",
    "b=65\n",
    "for i in range(1,n+1):\n",
    "    #b=65\n",
    "    for j in range(1,i+1):\n",
    "        a=chr(b)\n",
    "        print(a , end='')\n",
    "        b=b+1\n",
    "    print()"
   ]
  },
  {
   "cell_type": "code",
   "execution_count": 49,
   "metadata": {},
   "outputs": [
    {
     "name": "stdout",
     "output_type": "stream",
     "text": [
      "5\n",
      "A\n",
      "BB\n",
      "CCC\n",
      "DDDD\n",
      "EEEEE\n"
     ]
    }
   ],
   "source": [
    "#Solution 12c\n",
    "#Solution 12b\n",
    "n=int(input())\n",
    "b=65\n",
    "for i in range(1,n+1):\n",
    "    #b=65\n",
    "    for j in range(1,i+1):\n",
    "        a=chr(b)\n",
    "        print(a , end='')\n",
    "    b=b+1\n",
    "    print()"
   ]
  },
  {
   "cell_type": "code",
   "execution_count": 85,
   "metadata": {},
   "outputs": [
    {
     "name": "stdout",
     "output_type": "stream",
     "text": [
      "5\n",
      "     A\n",
      "    ABC\n",
      "   ABCFG\n",
      "  ABCDJKL\n",
      " ABCDEOPQR\n"
     ]
    }
   ],
   "source": [
    "n=int(input())\n",
    "c=65\n",
    "for i in range(1,n+1):\n",
    "    #c=65\n",
    "    for j in range(6-i):\n",
    "        print(\" \",end='')\n",
    "        b=65\n",
    "    for j in range(i):\n",
    "        a=chr(b)\n",
    "        print(a, end='')\n",
    "        b=b+1\n",
    "        #c=65\n",
    "    for j in range(1,i):\n",
    "        #c=65\n",
    "        a=chr(c)\n",
    "        print(a,end='')\n",
    "        c=c+1\n",
    "    c=c+2\n",
    "    print()"
   ]
  },
  {
   "cell_type": "code",
   "execution_count": 65,
   "metadata": {},
   "outputs": [
    {
     "name": "stdout",
     "output_type": "stream",
     "text": [
      "          \n",
      "        A \n",
      "      A B A \n",
      "    A B C B A \n",
      "  A B C D C B A \n",
      "A B C D E D C B A \n"
     ]
    }
   ],
   "source": [
    "for i in range(6):\n",
    "    b=65\n",
    "    for j in range(5-i):\n",
    "        print(' ', end=' ')\n",
    "    for j in range(i):\n",
    "        print(chr(b), end=' ')\n",
    "        b+=1\n",
    "    for j in range(i-1):\n",
    "        print(chr(b-2), end=' ')\n",
    "        b-=1\n",
    "    print()"
   ]
  },
  {
   "cell_type": "code",
   "execution_count": 77,
   "metadata": {},
   "outputs": [
    {
     "name": "stdout",
     "output_type": "stream",
     "text": [
      "4\n",
      "B\n",
      "BA\n",
      "A@?\n",
      "?>=<\n"
     ]
    }
   ],
   "source": [
    "n=int(input())\n",
    "c=65\n",
    "for i in range(1,n+1):\n",
    "    #c=c+1\n",
    "    for j in range(0,i):\n",
    "        #c=65\n",
    "        a=chr(c)\n",
    "        print(a,end='')\n",
    "        c=c-1\n",
    "    print()"
   ]
  },
  {
   "cell_type": "code",
   "execution_count": null,
   "metadata": {},
   "outputs": [],
   "source": [
    "n=int(input())\n",
    "b=65\n",
    "for i in range(1,n+1):\n",
    "    #b=65\n",
    "    for j in range(1,i+1):\n",
    "        a=chr(b)\n",
    "        print(a , end='')\n",
    "        b=b+1\n",
    "    print()"
   ]
  }
 ],
 "metadata": {
  "kernelspec": {
   "display_name": "Python 3",
   "language": "python",
   "name": "python3"
  },
  "language_info": {
   "codemirror_mode": {
    "name": "ipython",
    "version": 3
   },
   "file_extension": ".py",
   "mimetype": "text/x-python",
   "name": "python",
   "nbconvert_exporter": "python",
   "pygments_lexer": "ipython3",
   "version": "3.8.3"
  }
 },
 "nbformat": 4,
 "nbformat_minor": 4
}
