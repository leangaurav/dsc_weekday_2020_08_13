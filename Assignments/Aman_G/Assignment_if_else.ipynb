{
 "cells": [
  {
   "cell_type": "code",
   "execution_count": 2,
   "metadata": {},
   "outputs": [
    {
     "name": "stdout",
     "output_type": "stream",
     "text": [
      "3\n",
      "2\n",
      "False\n"
     ]
    }
   ],
   "source": [
    "#Solution 1\n",
    "a=int(input())\n",
    "b=int(input())\n",
    "if(a%b==0):\n",
    "    print(True)\n",
    "else:\n",
    "    print(False)"
   ]
  },
  {
   "cell_type": "code",
   "execution_count": 24,
   "metadata": {},
   "outputs": [
    {
     "name": "stdout",
     "output_type": "stream",
     "text": [
      "NaMan\n",
      "Number is pallindrome\n"
     ]
    }
   ],
   "source": [
    "#Solution 2\n",
    "a=input()\n",
    "b=a.upper()\n",
    "if (b==b[::-1]):\n",
    "    print('Number is pallindrome')\n",
    "else:\n",
    "    print('Number is not pallindrome')"
   ]
  },
  {
   "cell_type": "code",
   "execution_count": 39,
   "metadata": {},
   "outputs": [
    {
     "name": "stdout",
     "output_type": "stream",
     "text": [
      "2\n",
      "3\n",
      "4\n",
      "Scalene\n"
     ]
    }
   ],
   "source": [
    "#Solution 3\n",
    "a=list(input())\n",
    "b=list(input())\n",
    "c=list(input())\n",
    "if (a[0]==b[0]==c[0]):\n",
    "    print('Equilateral')\n",
    "elif(a[0]==b[0]!=c[0] or a[0]!=b[0]==c[0] or a[0]==c[0]!=b[0] ):\n",
    "    print('Isosceles')\n",
    "elif(a[0]!=b[0]!=c[0]):\n",
    "    print('Scalene')"
   ]
  },
  {
   "cell_type": "code",
   "execution_count": 41,
   "metadata": {},
   "outputs": [
    {
     "name": "stdout",
     "output_type": "stream",
     "text": [
      "22\n",
      "Even\n"
     ]
    }
   ],
   "source": [
    "#Solution 4\n",
    "a=int(input())\n",
    "if(a%2==0):\n",
    "    print(\"Even\")\n",
    "else:\n",
    "    print('Odd')"
   ]
  },
  {
   "cell_type": "code",
   "execution_count": 56,
   "metadata": {},
   "outputs": [
    {
     "name": "stdout",
     "output_type": "stream",
     "text": [
      "99\n",
      "Senior Citizen\n"
     ]
    }
   ],
   "source": [
    "#Solution 5\n",
    "a=int(input())\n",
    "b=list(range(0,13))\n",
    "c=list(range(13,18))\n",
    "d=list(range(18,51))\n",
    "e=list(range(51,101))\n",
    "#c=list(range(51,101))\n",
    "if (a in b):\n",
    "    print(\"Child\")\n",
    "elif (a in c):\n",
    "    print(\"Teen\")\n",
    "elif (a in d):\n",
    "    print(\"Adult\")\n",
    "elif(a in e):\n",
    "    print(\"Senior Citizen\")\n",
    "else:\n",
    "    print('Congratulations')"
   ]
  },
  {
   "cell_type": "code",
   "execution_count": 59,
   "metadata": {},
   "outputs": [
    {
     "name": "stdout",
     "output_type": "stream",
     "text": [
      "2006\n",
      "Not a leap year\n"
     ]
    }
   ],
   "source": [
    "#Solution 6\n",
    "a=int(input())\n",
    "if(a%4==0):\n",
    "    if(a%100==0):\n",
    "        if(a%400==0):\n",
    "            print(\"Leap Year\")\n",
    "        else:\n",
    "            print(\"Not a leap year\")\n",
    "    else:\n",
    "        print(\"Leap Year\")\n",
    "else:\n",
    "    print(\"Not a leap year\")"
   ]
  },
  {
   "cell_type": "code",
   "execution_count": 65,
   "metadata": {},
   "outputs": [
    {
     "name": "stdout",
     "output_type": "stream",
     "text": [
      "aman\n",
      "AMAN\n"
     ]
    }
   ],
   "source": [
    "#Solution 7\n",
    "a=input()\n",
    "c=a.upper()\n",
    "b=len(a)\n",
    "if (b%2==1):\n",
    "    print(a.lower())\n",
    "print(c)"
   ]
  },
  {
   "cell_type": "code",
   "execution_count": 69,
   "metadata": {},
   "outputs": [
    {
     "name": "stdout",
     "output_type": "stream",
     "text": [
      "EGG\n",
      "Non-Veg\n"
     ]
    }
   ],
   "source": [
    "#Solution 8\n",
    "a=input().lower()\n",
    "if(a=='egg'):\n",
    "    print('Non-Veg')\n",
    "else:\n",
    "    print('Veg')"
   ]
  },
  {
   "cell_type": "code",
   "execution_count": 70,
   "metadata": {},
   "outputs": [
    {
     "name": "stdout",
     "output_type": "stream",
     "text": [
      "True\n"
     ]
    }
   ],
   "source": [
    "#Solution 9a\n",
    "if not 1:\n",
    "    print(False)\n",
    "else:\n",
    "    print(True)"
   ]
  },
  {
   "cell_type": "code",
   "execution_count": 71,
   "metadata": {},
   "outputs": [
    {
     "name": "stdout",
     "output_type": "stream",
     "text": [
      "True\n"
     ]
    }
   ],
   "source": [
    "#9b\n",
    "if 1:\n",
    "    print(True)\n",
    "else:\n",
    "    print(False)"
   ]
  },
  {
   "cell_type": "code",
   "execution_count": 72,
   "metadata": {},
   "outputs": [
    {
     "name": "stdout",
     "output_type": "stream",
     "text": [
      "Weird\n"
     ]
    }
   ],
   "source": [
    "#9c\n",
    "if 'a'>'A':\n",
    "    print(\"Weird\")\n",
    "else:\n",
    "    print('Make Sense')"
   ]
  },
  {
   "cell_type": "code",
   "execution_count": 73,
   "metadata": {},
   "outputs": [
    {
     "ename": "SyntaxError",
     "evalue": "invalid syntax (<ipython-input-73-b3903171026a>, line 6)",
     "output_type": "error",
     "traceback": [
      "\u001b[1;36m  File \u001b[1;32m\"<ipython-input-73-b3903171026a>\"\u001b[1;36m, line \u001b[1;32m6\u001b[0m\n\u001b[1;33m    a=[-1::-1]\u001b[0m\n\u001b[1;37m         ^\u001b[0m\n\u001b[1;31mSyntaxError\u001b[0m\u001b[1;31m:\u001b[0m invalid syntax\n"
     ]
    }
   ],
   "source": [
    "#9d\n",
    "a=[1,2,3,4]\n",
    "if 1>1:\n",
    "    a=a[::-1]\n",
    "else:\n",
    "    a=[-1::-1]\n",
    "print(a)"
   ]
  },
  {
   "cell_type": "code",
   "execution_count": 106,
   "metadata": {},
   "outputs": [
    {
     "name": "stdout",
     "output_type": "stream",
     "text": [
      "90 89 80 98 90\n",
      "Percentage is: 89 Grade B\n"
     ]
    }
   ],
   "source": [
    "#Solution 10\n",
    "a=input()\n",
    "d=a.split()\n",
    "#print(d)\n",
    "b=len(d)\n",
    "i=0\n",
    "while(i<b):\n",
    "    d[i]=int(d[i])\n",
    "    #print(a[i])\n",
    "    i+=1\n",
    "#a[i]=int(a[i])\n",
    "Total=sum(d)\n",
    "Per=int(Total/5)\n",
    "A=list(range(90,101))\n",
    "B=list(range(80,90))    # How to consider float values inside range\n",
    "C=list(range(60,80))\n",
    "if (Per in A):\n",
    "    print(f'Percentage is: '+str(Per)+' Grade A')\n",
    "elif(Per in B):\n",
    "    print(f'Percentage is: '+str(Per)+' Grade B')\n",
    "elif(Per in C):\n",
    "    print(f'Percentage is: '+str(Per)+' Grade C')\n",
    "else:\n",
    "    print(f'Percentage is: '+str(Per)+' Grade F')"
   ]
  },
  {
   "cell_type": "code",
   "execution_count": 6,
   "metadata": {},
   "outputs": [
    {
     "name": "stdout",
     "output_type": "stream",
     "text": [
      "25\n",
      "550000\n",
      "10% tax implemented: 55000.0\n"
     ]
    }
   ],
   "source": [
    "#Solution 11\n",
    "age=int(input())\n",
    "salary=int(input())\n",
    "if(0<=salary<=250000 ):\n",
    "    print(\"0% tax will be implemented\")\n",
    "if (250001<=salary<=500000):\n",
    "    if (age<60):\n",
    "        print(f'5% tax implemented: '+str(salary*0.05))\n",
    "    else:\n",
    "        print(f'3% tax implemented: '+str(salary*0.03))\n",
    "elif(500001<=salary<=1000000):\n",
    "    if (age<60):\n",
    "        print(f'10% tax implemented: '+str(salary*0.1))\n",
    "    else:\n",
    "        print(f'8% tax implemented: '+str(salary*0.08))\n",
    "elif(salary>1000001):\n",
    "    if (age<60):\n",
    "        print(f'15% tax implemented: '+str(salary*0.15))\n",
    "    else:\n",
    "        print(f'12% tax implemented: '+str(salary*0.12))\n",
    "    \n",
    "\n",
    "    "
   ]
  },
  {
   "cell_type": "code",
   "execution_count": 8,
   "metadata": {},
   "outputs": [
    {
     "name": "stdout",
     "output_type": "stream",
     "text": [
      "10\n"
     ]
    }
   ],
   "source": [
    "#Solution 12a\n",
    "print(20  if not 1==1 else 10)"
   ]
  },
  {
   "cell_type": "code",
   "execution_count": 14,
   "metadata": {},
   "outputs": [
    {
     "name": "stdout",
     "output_type": "stream",
     "text": [
      "Overweight\n"
     ]
    }
   ],
   "source": [
    "#Solution 13\n",
    "def bmi(w,h):\n",
    "    a=(w*100*100/pow(h,2))\n",
    "    return a\n",
    "b=bmi(75,175)\n",
    "if (b<18):\n",
    "    print('Underweight')\n",
    "elif(18<=b<=24):\n",
    "    print('Normal')\n",
    "elif(24<=b<=30):\n",
    "    print('Overweight')\n",
    "else:\n",
    "    print('Obese')"
   ]
  },
  {
   "cell_type": "code",
   "execution_count": 31,
   "metadata": {},
   "outputs": [
    {
     "name": "stdout",
     "output_type": "stream",
     "text": [
      "32\n",
      "45\n",
      "21\n",
      "age3 is younger\n",
      "age 2 is older\n"
     ]
    }
   ],
   "source": [
    "#Solution 14\n",
    "age1=int(input())\n",
    "age2=int(input())\n",
    "age3=int(input())\n",
    "if (age1>age2 and age1>age3):\n",
    "    if (age2>age3):\n",
    "            print('age3 is younger')\n",
    "        elif(age3>age2):\n",
    "            print('age2 is younger')\n",
    "        print('age1 is older')\n",
    "    \n",
    "    \n",
    "        \n",
    "elif(age2>age1):\n",
    "        if(age2>age3):\n",
    "                if(age3>age1):\n",
    "                    print('age1 is younger')\n",
    "                elif(age1>age3):\n",
    "                    print('age3 is younger')\n",
    "                print('age 2 is older')\n",
    "elif(age3>age1):\n",
    "        if(age3>age2):\n",
    "            if(age1>age2):\n",
    "                print('age2 is younger')\n",
    "            elif(age2>age1):\n",
    "                print('age1 is younger')\n",
    "            print('age3 is older')      \n",
    "                          "
   ]
  },
  {
   "cell_type": "code",
   "execution_count": 40,
   "metadata": {},
   "outputs": [
    {
     "name": "stdout",
     "output_type": "stream",
     "text": [
      "56\n",
      "76\n",
      "66\n",
      "age2 is older and age1 is younger\n"
     ]
    }
   ],
   "source": [
    "#Solution 14\n",
    "age1=int(input())\n",
    "age2=int(input())\n",
    "age3=int(input())\n",
    "if (age1>age2 and age2>age3):\n",
    "    print('age1 is older and age 3 is younger')\n",
    "elif (age2>age1 and age1>age3):\n",
    "    print('age2 is older and age 3 is younger')\n",
    "elif(age2>age3 and age3>age1):\n",
    "    print('age2 is older and age1 is younger')\n",
    "elif (age3>age1 and age1>age2):\n",
    "    print('age3 is older and age 2 is younger')\n",
    "elif (age3>age2 and age2>age1):\n",
    "    print('age3 is older and age 1 is younger')\n",
    "elif(age1>age3 and age3>age2):\n",
    "    print('age1 is older and age2 is younger')"
   ]
  },
  {
   "cell_type": "code",
   "execution_count": 43,
   "metadata": {},
   "outputs": [
    {
     "name": "stdout",
     "output_type": "stream",
     "text": [
      "35\n",
      "Number is divisible by both 5 and 7\n"
     ]
    }
   ],
   "source": [
    "#Solution 15\n",
    "a=int(input())\n",
    "if(a%5==0 and a%7==0):\n",
    "    print('Number is divisible by both 5 and 7')\n",
    "#raise()"
   ]
  },
  {
   "cell_type": "code",
   "execution_count": null,
   "metadata": {},
   "outputs": [],
   "source": []
  }
 ],
 "metadata": {
  "kernelspec": {
   "display_name": "Python 3",
   "language": "python",
   "name": "python3"
  },
  "language_info": {
   "codemirror_mode": {
    "name": "ipython",
    "version": 3
   },
   "file_extension": ".py",
   "mimetype": "text/x-python",
   "name": "python",
   "nbconvert_exporter": "python",
   "pygments_lexer": "ipython3",
   "version": "3.8.3"
  }
 },
 "nbformat": 4,
 "nbformat_minor": 4
}
