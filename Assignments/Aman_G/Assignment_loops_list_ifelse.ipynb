{
 "cells": [
  {
   "cell_type": "code",
   "execution_count": 8,
   "metadata": {},
   "outputs": [
    {
     "name": "stdout",
     "output_type": "stream",
     "text": [
      "aman\n",
      "a m a n "
     ]
    }
   ],
   "source": [
    "#Solution 1\n",
    "a=input()\n",
    "s=list(a)\n",
    "l=len(s)\n",
    "for i in range(0,l):\n",
    "    print(a[i] , end=' ')\n",
    "    "
   ]
  },
  {
   "cell_type": "code",
   "execution_count": 1,
   "metadata": {},
   "outputs": [
    {
     "name": "stdout",
     "output_type": "stream",
     "text": [
      "AMan\n",
      "A 65 M 77 a 97 n 110 "
     ]
    }
   ],
   "source": [
    "#Solution 2\n",
    "a=input()\n",
    "s=list(a)\n",
    "l=len(s)\n",
    "for i in range(0,l):\n",
    "    print(a[i] , ord(a[i]) , end=' ')\n"
   ]
  },
  {
   "cell_type": "code",
   "execution_count": 161,
   "metadata": {},
   "outputs": [
    {
     "name": "stdout",
     "output_type": "stream",
     "text": [
      "12345\n",
      "['1', '2', '3', '4', '5']\n",
      "5\n",
      "Sum of odd numbers:  9\n"
     ]
    }
   ],
   "source": [
    "#Solution 3\n",
    "def sum_odd(lists,length):\n",
    "    for i in range(length):\n",
    "        lists[i]=int(lists[i])\n",
    "        if lists[i]%2==0:\n",
    "            continue\n",
    "        e_list.append(lists[i])\n",
    "    print(\"Sum of odd numbers: \",sum(e_list))\n",
    "numbers=input()\n",
    "lists=list(numbers)\n",
    "print(lists)\n",
    "length=len(lists)\n",
    "print(length)\n",
    "e_list=[]\n",
    "sum_odd(lists,length)"
   ]
  },
  {
   "cell_type": "code",
   "execution_count": 45,
   "metadata": {},
   "outputs": [
    {
     "name": "stdout",
     "output_type": "stream",
     "text": [
      "1234\n",
      "('1', '2', '3', '4')\n",
      "1\n",
      "2\n",
      "3\n",
      "4\n",
      "5\n",
      "Index of appended element is : 4\n",
      "(1, 2, 3, 4, 5)\n"
     ]
    }
   ],
   "source": [
    "#Solution 4\n",
    "n1=input()\n",
    "a=tuple(n1)\n",
    "print(a)\n",
    "l=list(a)\n",
    "length=len(a)\n",
    "#print(length)\n",
    "for i in range(length):\n",
    "    l[i]=int(l[i])\n",
    "    print(str(l[i]))\n",
    "n=int(input())\n",
    "l.append(n)\n",
    "i=l.index(n)\n",
    "print(\"Index of appended element is :\",i)\n",
    "print(tuple(l))"
   ]
  },
  {
   "cell_type": "code",
   "execution_count": 70,
   "metadata": {},
   "outputs": [
    {
     "name": "stdout",
     "output_type": "stream",
     "text": [
      "list is : [1, 8, 9, 0, 1, 8, 1, 7, 3, 5]\n",
      "Sum is:43 average is:4.3\n",
      "8 0 8 7 5 "
     ]
    }
   ],
   "source": [
    "#Solution 5\n",
    "import random\n",
    "a=[]\n",
    "for i in range(10):\n",
    "    random_list=random.randrange(10)\n",
    "    a.append(random_list)\n",
    "print('list is : '+str(a))\n",
    "s=sum(a)\n",
    "l=len(a)\n",
    "av=s/l\n",
    "print(f'Sum is:'+str(s)+' average is:'+str(av))\n",
    "for i in range(l):\n",
    "    if i%2==0:\n",
    "        continue\n",
    "    print(a[i],end=' ')"
   ]
  },
  {
   "cell_type": "code",
   "execution_count": 78,
   "metadata": {},
   "outputs": [
    {
     "name": "stdout",
     "output_type": "stream",
     "text": [
      "How many numbers: 10\n",
      "Enter number 3\n",
      "Enter number 2\n",
      "Enter number 4\n",
      "Enter number 3\n",
      "Enter number 2\n",
      "Enter number 3\n",
      "Enter number 2\n",
      "Enter number 3\n",
      "Enter number 2\n",
      "Enter number 2\n",
      "[3, 2, 4, 3, 2, 3, 2, 3, 2, 2]\n",
      "Sum of elements in given list is : 26\n"
     ]
    }
   ],
   "source": [
    "#Solution 6\n",
    "lst = []\n",
    "num = int(input('How many numbers: '))\n",
    "for n in range(num):\n",
    "    numbers = int(input('Enter number '))\n",
    "    lst.append(numbers)\n",
    "print(lst)\n",
    "print(\"Sum of elements in given list is :\", sum(lst))"
   ]
  },
  {
   "cell_type": "code",
   "execution_count": 87,
   "metadata": {},
   "outputs": [
    {
     "name": "stdout",
     "output_type": "stream",
     "text": [
      "7\n",
      "7*1=7\n",
      "7*2=14\n",
      "7*3=21\n",
      "7*4=28\n",
      "7*5=35\n",
      "7*6=42\n",
      "7*7=49\n",
      "7*8=56\n",
      "7*9=63\n",
      "7*10=70\n"
     ]
    }
   ],
   "source": [
    "#Solution 7\n",
    "n=int(input())\n",
    "for i in range(1,11):\n",
    "    m=n*i\n",
    "    print('{}*{}={}'.format(n,i,m))"
   ]
  },
  {
   "cell_type": "code",
   "execution_count": 141,
   "metadata": {},
   "outputs": [
    {
     "name": "stdout",
     "output_type": "stream",
     "text": [
      "am a n gu pt a\n",
      "No.of spaces in the string is:  5\n"
     ]
    }
   ],
   "source": [
    "#Solution 8\n",
    "a=input()\n",
    "l=list(a)\n",
    "n=0\n",
    "for i in range(len(l)):\n",
    "    if l[i]==' ':\n",
    "        n +=1\n",
    "print('No.of spaces in the string is: ',n)\n",
    " "
   ]
  },
  {
   "cell_type": "code",
   "execution_count": 102,
   "metadata": {},
   "outputs": [
    {
     "name": "stdout",
     "output_type": "stream",
     "text": [
      "Aman Gupta\n",
      "['a', 'm', 'a', 'n', ' ', 'g', 'u', 'p', 't', 'a']\n",
      "No. of vowels in a string:  4\n"
     ]
    }
   ],
   "source": [
    "#Solution 9\n",
    "a=input()\n",
    "convert=a.lower()\n",
    "l=list(convert)\n",
    "print(l)\n",
    "n=0\n",
    "for i in range(len(l)):\n",
    "    if (l[i]=='a' or l[i]=='e' or l[i]=='i' or l[i]=='o' or l[i]=='u'):\n",
    "        n +=1\n",
    "print('No. of vowels in a string: ',n)  "
   ]
  },
  {
   "cell_type": "code",
   "execution_count": 115,
   "metadata": {},
   "outputs": [
    {
     "name": "stdout",
     "output_type": "stream",
     "text": [
      "Aman Gupta\n",
      "['a', 'm', 'a', 'n', ' ', 'g', 'u', 'p', 't', 'a']\n",
      "_m_n g_pt_\n"
     ]
    }
   ],
   "source": [
    "#Solution 10\n",
    "a=input()\n",
    "convert=a.lower()\n",
    "\n",
    "l=list(convert)\n",
    "print(l)\n",
    "n=0\n",
    "for i in range(len(l)):\n",
    "    if (l[i]=='a' or l[i]=='e' or l[i]=='i' or l[i]=='o' or l[i]=='u'):\n",
    "        l[i]='_'\n",
    "        #print(l[i])\n",
    "print(''.join(l))"
   ]
  },
  {
   "cell_type": "code",
   "execution_count": 117,
   "metadata": {},
   "outputs": [
    {
     "name": "stdout",
     "output_type": "stream",
     "text": [
      "Num: 0\n",
      "Num: 1\n",
      "Num: 2\n",
      "Num: 3\n",
      "Num: 4\n",
      "Loop Ends\n"
     ]
    }
   ],
   "source": [
    "#Solution 11(a)\n",
    "for i in range(10):\n",
    "    print(\"Num:\",i)\n",
    "    if i==4:\n",
    "        break\n",
    "print(\"Loop Ends\")\n",
    "\n"
   ]
  },
  {
   "cell_type": "code",
   "execution_count": 121,
   "metadata": {},
   "outputs": [
    {
     "name": "stdout",
     "output_type": "stream",
     "text": [
      "*****\n",
      "*****\n",
      "*****\n",
      "*****\n",
      "*****\n",
      "1\n",
      "22\n",
      "333\n",
      "4444\n",
      "55555\n",
      "1\n",
      "22\n",
      "333\n",
      "4444\n",
      "55555\n",
      "**\n",
      "***\n",
      "****\n",
      "*****\n",
      "******\n"
     ]
    }
   ],
   "source": [
    "#Solution 12(a)\n",
    "for i in range(1,6):\n",
    "    for j in range(5):\n",
    "        print('*',end='')\n",
    "    print()\n",
    "    \n",
    "#b\n",
    "for i1 in range(1,6):\n",
    "    print(str(i1)*i1)\n",
    "\n",
    "#c    \n",
    "for i2 in range(1,6):\n",
    "    for j2 in range(i2):\n",
    "        print(i2,end='')\n",
    "    print()\n",
    "    \n",
    "#d\n",
    "for i2 in range(1,6):\n",
    "    for j2 in range(i2+1):\n",
    "        print('*',end='')\n",
    "    print()"
   ]
  },
  {
   "cell_type": "code",
   "execution_count": null,
   "metadata": {},
   "outputs": [],
   "source": []
  }
 ],
 "metadata": {
  "kernelspec": {
   "display_name": "Python 3",
   "language": "python",
   "name": "python3"
  },
  "language_info": {
   "codemirror_mode": {
    "name": "ipython",
    "version": 3
   },
   "file_extension": ".py",
   "mimetype": "text/x-python",
   "name": "python",
   "nbconvert_exporter": "python",
   "pygments_lexer": "ipython3",
   "version": "3.8.3"
  }
 },
 "nbformat": 4,
 "nbformat_minor": 4
}
