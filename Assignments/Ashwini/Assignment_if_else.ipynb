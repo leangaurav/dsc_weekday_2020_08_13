{
 "cells": [
  {
   "cell_type": "code",
   "execution_count": 4,
   "metadata": {},
   "outputs": [
    {
     "name": "stdout",
     "output_type": "stream",
     "text": [
      "2\n",
      "4\n",
      "false\n"
     ]
    }
   ],
   "source": [
    "#1. WAP to input 2 numbers and check whether the first is divisible by the second and print true or\n",
    "#false depending on the divisibility.\n",
    "\n",
    "a= int(input())\n",
    "b=int(input())\n",
    "if a%b==0:\n",
    "    print(\"true\")\n",
    "else:\n",
    "    print(\"false\")"
   ]
  },
  {
   "cell_type": "code",
   "execution_count": 13,
   "metadata": {},
   "outputs": [
    {
     "name": "stdout",
     "output_type": "stream",
     "text": [
      "leveL\n",
      "true\n"
     ]
    }
   ],
   "source": [
    "#2. In the palindrome example, make the code case insensitive.\n",
    "#i.e. Naman should also be treated as a palindrome (HINT: first convert to either upper or\n",
    "#lower case).\n",
    "a=input().lower()\n",
    "b=a[::-1]\n",
    "\n",
    "if a==b:\n",
    "    print(\"true\")\n",
    "else :\n",
    "    print(\"false\")"
   ]
  },
  {
   "cell_type": "code",
   "execution_count": 20,
   "metadata": {},
   "outputs": [
    {
     "name": "stdout",
     "output_type": "stream",
     "text": [
      "2\n",
      "2\n",
      "2\n",
      "its an euilateral triangle\n"
     ]
    }
   ],
   "source": [
    "#3. WAP to input the sides of a triangle and print whether equilateral(all sides equal), isosceles (2\n",
    "#sides equal), or scalene (no sides equal).\n",
    "a=int(input())\n",
    "b=int(input())\n",
    "c=int(input())\n",
    "if a==b==c:\n",
    "    print(\"its an euilateral triangle\")\n",
    "elif a==b or b==c or a==c:\n",
    "    print(\"its an isosceles triangle\")\n",
    "else :\n",
    "    print(\"its a scalene triangle\")"
   ]
  },
  {
   "cell_type": "code",
   "execution_count": 22,
   "metadata": {},
   "outputs": [
    {
     "name": "stdout",
     "output_type": "stream",
     "text": [
      "6\n",
      "even number\n"
     ]
    }
   ],
   "source": [
    "#4. WAP to input a number and print if it is even or odd.\n",
    "a=int(input())\n",
    "if a%2==0:\n",
    "    print(\"even number\")\n",
    "else:\n",
    "    print(\"odd number\")"
   ]
  },
  {
   "cell_type": "code",
   "execution_count": 59,
   "metadata": {},
   "outputs": [
    {
     "name": "stdout",
     "output_type": "stream",
     "text": [
      "102\n",
      "Congratulations\n"
     ]
    }
   ],
   "source": [
    "'''\n",
    "5. WAP to input age and print the respective text\n",
    "depending on the age ranges as present in the table.\n",
    "Age     Text to be displayed\n",
    "0-12       Child\n",
    "13-17      Teen\n",
    "18-50      Adult\n",
    "51-100     Senior Citizen\n",
    "age > 100 Contratulations\n",
    "'''\n",
    "Age=int(input())\n",
    "if Age>0:\n",
    "    if Age in range(0,13):\n",
    "        print(\"Child\")\n",
    "    elif Age in range(13,18):\n",
    "        print(\"Teen\")\n",
    "    elif Age in range(18,51):\n",
    "        print(\"Adult\")\n",
    "    elif Age in range(51,101):\n",
    "        print(\"Senior Citizen\")\n",
    "    elif Age>100:\n",
    "        print(\"Congratulations\")\n",
    "else:\n",
    "    print(\"Enter a valid Age\")\n",
    "    "
   ]
  },
  {
   "cell_type": "code",
   "execution_count": 13,
   "metadata": {},
   "outputs": [
    {
     "name": "stdout",
     "output_type": "stream",
     "text": [
      "120\n",
      "Enter a valid year\n"
     ]
    }
   ],
   "source": [
    "'''6. WAP to input year (check if user enters valid year. Should be 4-digit number and should not be\n",
    "negative) and print whether leap year or not. (If really interested in why you also have to check\n",
    "the divisibility by 400 just google the exact time it takes for the earth to revolve around the sub)'''\n",
    "\n",
    "year=int(input())\n",
    "year1=str(year)\n",
    "if len(year1)==4 and year>0:\n",
    "    if year%4==0 and year%100!=0:\n",
    "        print(\"It's a leap year\")\n",
    "    elif year%400==0:\n",
    "        print(\"It's a leap year\")\n",
    "    else:\n",
    "        print(\"It's not a leap year\")\n",
    "else:\n",
    "    print(\"Enter a valid year\")"
   ]
  },
  {
   "cell_type": "code",
   "execution_count": 19,
   "metadata": {},
   "outputs": [
    {
     "name": "stdout",
     "output_type": "stream",
     "text": [
      "ashjwe\n",
      "Number of characters 6\n",
      "ashjwe\n"
     ]
    }
   ],
   "source": [
    "#7. WAP to input a string and convert it to Upper Case if number of characters is odd and convert to\n",
    "#lower case otherwise.\n",
    "\n",
    "a=input()\n",
    "print(\"Number of characters\",len(a))\n",
    "if len(a)%2!=0:\n",
    "    a=a.upper()\n",
    "    print(a)\n",
    "else:\n",
    "    a=a.lower()\n",
    "    print(a)\n",
    "\n"
   ]
  },
  {
   "cell_type": "code",
   "execution_count": 34,
   "metadata": {},
   "outputs": [
    {
     "name": "stdout",
     "output_type": "stream",
     "text": [
      "an Egg\n",
      "Non-Veg\n"
     ]
    }
   ],
   "source": [
    "#8. WAP to input a string and print Veg if the string doesn’t contain the word egg. Otherwise print\n",
    "#Non-Veg. As usual eggs can be both big and small.\n",
    "a=input()\n",
    "a=a.lower()\n",
    "if (a.find(\"egg\")== -1):\n",
    "    print(\"Veg\")\n",
    "else:\n",
    "    print(\"Non-Veg\")"
   ]
  },
  {
   "cell_type": "code",
   "execution_count": 35,
   "metadata": {},
   "outputs": [
    {
     "name": "stdout",
     "output_type": "stream",
     "text": [
      "True\n"
     ]
    }
   ],
   "source": [
    "#9. Give output of:\n",
    "\n",
    "if not 1:\n",
    "    print(\"False\")\n",
    "else:\n",
    "    print(\"True\")"
   ]
  },
  {
   "cell_type": "code",
   "execution_count": 37,
   "metadata": {},
   "outputs": [
    {
     "name": "stdout",
     "output_type": "stream",
     "text": [
      "False\n"
     ]
    }
   ],
   "source": [
    "\n",
    "if 1:\n",
    "    print(\"False\")\n",
    "else:\n",
    "    print(\"True\")"
   ]
  },
  {
   "cell_type": "code",
   "execution_count": 39,
   "metadata": {},
   "outputs": [
    {
     "name": "stdout",
     "output_type": "stream",
     "text": [
      "Weird!!\n"
     ]
    }
   ],
   "source": [
    "if 'a' > 'A':\n",
    "    print(\"Weird!!\")\n",
    "else:\n",
    "    print(\"Makes Sense\")"
   ]
  },
  {
   "cell_type": "code",
   "execution_count": 42,
   "metadata": {},
   "outputs": [
    {
     "name": "stdout",
     "output_type": "stream",
     "text": [
      "[4, 3, 2, 1]\n"
     ]
    }
   ],
   "source": [
    "a=[1,2,3,4]\n",
    "if 1>1:\n",
    "    a=a[::-1]\n",
    "else :\n",
    "    a=a[-1::-1]\n",
    "print(a)\n",
    "    "
   ]
  },
  {
   "cell_type": "code",
   "execution_count": 13,
   "metadata": {},
   "outputs": [
    {
     "name": "stdout",
     "output_type": "stream",
     "text": [
      "subject1:99\n",
      "subject2:99\n",
      "subject3:99\n",
      "subject4:99\n",
      "subject5:99\n",
      "percentage: 99.0 %\n",
      "Grade-A\n"
     ]
    }
   ],
   "source": [
    "'''10. WAP to input marks in 5 subjects and print the grade as per following logic:\n",
    "% between 90-100 Grade-A\n",
    "% between 80 - 89 Grade-B\n",
    "% between 60 - 79 Grade-C\n",
    "% < 60 Grade-F'''\n",
    "\n",
    "a=int(input(\"subject1:\"))\n",
    "b=int(input(\"subject2:\"))\n",
    "c=int(input(\"subject3:\"))\n",
    "d=int(input(\"subject4:\"))\n",
    "e=int(input(\"subject5:\"))\n",
    "P=(a+b+c+d+e)/5\n",
    "\n",
    "\n",
    "if P in range(0,101):\n",
    "    print(\"percentage:\",P,\"%\")\n",
    "    if P in range(90,101):\n",
    "        print(\"Grade-A\")\n",
    "    elif P in range(80,90):\n",
    "        print(\"Grade-B\")\n",
    "    elif P in range(60,80):\n",
    "        print(\"Grade-C\")\n",
    "    else:\n",
    "        print(\"Grade-F\")\n",
    "else:\n",
    "    print(\"Invalid marks\")"
   ]
  },
  {
   "cell_type": "code",
   "execution_count": 1,
   "metadata": {},
   "outputs": [
    {
     "name": "stdout",
     "output_type": "stream",
     "text": [
      "Age:31\n",
      "Salary:1600000\n",
      "240000.0\n"
     ]
    }
   ],
   "source": [
    "'''11. WAP to input age and salary and calculate Tax as per tax rates if following table:\n",
    "Salary Range         Age < 60      Age >= 60\n",
    "0-2,50,000           0               0\n",
    "2,50,001-5,00,000    5%              3%\n",
    "5,00,001-10,00,000   10%             8%\n",
    "Salary>10,00,001     15%             12%\n",
    "'''\n",
    "A=int(input(\"Age:\"))\n",
    "S=int(input(\"Salary:\"))\n",
    "if A in range(0,60):\n",
    "    if S in range(0,250001):\n",
    "        T=S\n",
    "        print(T)\n",
    "    elif S in range(250001,500001):\n",
    "        T=S*5/100\n",
    "        print(T)\n",
    "    elif S in range(500001,1000001):\n",
    "        T=S*10/100\n",
    "        print(T)\n",
    "    elif S>1000001:\n",
    "        T=S*15/100\n",
    "        print(T)\n",
    "    else:\n",
    "        print(\"Enter valid salary\")\n",
    "elif A>=60:\n",
    "    if S in range(0,250001):\n",
    "        T=S\n",
    "        print(T)\n",
    "    elif S in range(250001,500001):\n",
    "        T=S*3/100\n",
    "        print(T)\n",
    "    elif S in range(500001,1000001):\n",
    "        T=S*8/100\n",
    "        print(T)\n",
    "    elif S>1000001:\n",
    "        T=S*12/100\n",
    "        print(T)\n",
    "    else:\n",
    "        print(\"Enter valid salary\")\n",
    "else:\n",
    "    print(\"Enter valid age\")\n",
    "    \n",
    "    \n",
    "    "
   ]
  },
  {
   "cell_type": "code",
   "execution_count": null,
   "metadata": {},
   "outputs": [],
   "source": [
    "#Try each of the below statements separately (remember difference between statement and\n",
    "#expression) on the python interpreter and guess the output before trying:\n",
    "\n"
   ]
  },
  {
   "cell_type": "code",
   "execution_count": 24,
   "metadata": {
    "scrolled": true
   },
   "outputs": [
    {
     "name": "stdout",
     "output_type": "stream",
     "text": [
      "10\n"
     ]
    }
   ],
   "source": [
    "print(20 if not 1==1 else 10)"
   ]
  },
  {
   "cell_type": "code",
   "execution_count": 25,
   "metadata": {},
   "outputs": [
    {
     "name": "stdout",
     "output_type": "stream",
     "text": [
      "10\n"
     ]
    }
   ],
   "source": [
    "print(30 if not 1==1 else 20 if 'a'<'A' else 10)"
   ]
  },
  {
   "cell_type": "code",
   "execution_count": 27,
   "metadata": {},
   "outputs": [
    {
     "name": "stdout",
     "output_type": "stream",
     "text": [
      "10\n"
     ]
    }
   ],
   "source": [
    "print(40 if not 1==1 else 30 if 'a'<'A' else 20 if '' else 10)"
   ]
  },
  {
   "cell_type": "code",
   "execution_count": 26,
   "metadata": {},
   "outputs": [
    {
     "name": "stdout",
     "output_type": "stream",
     "text": [
      "OMG\n"
     ]
    }
   ],
   "source": [
    "print('No' if not 1==1 else ('No' if 'a'<'A' else ('OMG' if 'oh!!' else 'No')))"
   ]
  },
  {
   "cell_type": "code",
   "execution_count": 17,
   "metadata": {},
   "outputs": [
    {
     "name": "stdout",
     "output_type": "stream",
     "text": [
      "normal\n"
     ]
    }
   ],
   "source": [
    "'''13. WAF: bmi() that takes the weight in kg and height in cm of a person, calculates and returns the\n",
    "BMI.\n",
    "Write code that calls this function after taking height and weight as inputs and then prints\n",
    "underweight, normal, overweight or obese depending on the value of BMI.\n",
    "Refer this link for the ranges:\n",
    "https://en.wikipedia.org/wiki/Body_mass_index'''\n",
    "\n",
    "def bmi(W,H):\n",
    "    BMI=W/(H/100)**2\n",
    "    return BMI\n",
    "a=bmi(50.9,158)\n",
    "if a<18.5:\n",
    "    print(\"underweight\")\n",
    "elif 18.5<a<25:\n",
    "    print(\"normal\")\n",
    "elif 25<a<30 :\n",
    "    print(\"overweight\")\n",
    "else:\n",
    "    print(\"obese\")\n"
   ]
  },
  {
   "cell_type": "code",
   "execution_count": 23,
   "metadata": {},
   "outputs": [
    {
     "name": "stdout",
     "output_type": "stream",
     "text": [
      "person1:5\n",
      "person2:9\n",
      "person3:1\n",
      "person3 is youngest\n",
      "person2 is oldest\n"
     ]
    }
   ],
   "source": [
    "#14. Take input of age of 3 people by user and determine oldest and youngest among them.\n",
    "a=input(\"person1:\")\n",
    "b=input(\"person2:\")\n",
    "c=input(\"person3:\")\n",
    "if a<b and a<c:\n",
    "    if b<c :\n",
    "        print(\"person1 is youngest\")\n",
    "        print(\"person3 is oldest\")\n",
    "    else:\n",
    "        print(\"person1 is youngest\")\n",
    "        print(\"person2 is oldest\")\n",
    "if b<a and b<c:\n",
    "    if a<c:\n",
    "        print(\"person2 is youngest\")\n",
    "        print(\"person3 is oldest\")\n",
    "    else:\n",
    "        print(\"person2 is youngest\")\n",
    "        print(\"person1 is oldest\")\n",
    "if c<a and c<b:\n",
    "    if a<b:\n",
    "        print(\"person3 is youngest\")\n",
    "        print(\"person2 is oldest\")\n",
    "    else:\n",
    "        print(\"person3 is youngest\")\n",
    "        print(\"person1 is oldest\")\n",
    "   "
   ]
  },
  {
   "cell_type": "code",
   "execution_count": 36,
   "metadata": {},
   "outputs": [
    {
     "name": "stdout",
     "output_type": "stream",
     "text": [
      "35\n",
      "divisible by both\n"
     ]
    }
   ],
   "source": [
    "#15. WAP to input a number and check if number is divisible by both 5 and 7.\n",
    "a=int(input())\n",
    "if a%5==0 and a%7==0:\n",
    "    print(\"divisible by both\")\n",
    "elif a%5==0 and a%7!=0:\n",
    "    print(\"not divisible by 7\")\n",
    "elif a%5!=0 and a%7==0:\n",
    "    print(\"not divisible by 5\")\n",
    "else:\n",
    "    print(\"not divisible by both\")"
   ]
  }
 ],
 "metadata": {
  "kernelspec": {
   "display_name": "Python 3",
   "language": "python",
   "name": "python3"
  },
  "language_info": {
   "codemirror_mode": {
    "name": "ipython",
    "version": 3
   },
   "file_extension": ".py",
   "mimetype": "text/x-python",
   "name": "python",
   "nbconvert_exporter": "python",
   "pygments_lexer": "ipython3",
   "version": "3.8.3"
  }
 },
 "nbformat": 4,
 "nbformat_minor": 4
}
