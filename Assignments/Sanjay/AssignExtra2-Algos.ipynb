{
 "cells": [
  {
   "cell_type": "code",
   "execution_count": 14,
   "metadata": {},
   "outputs": [
    {
     "name": "stdin",
     "output_type": "stream",
     "text": [
      "Enter item:  1\n",
      "Enter item:  2\n",
      "Enter item:  3\n",
      "Enter item:  4\n",
      "Enter item:  5\n"
     ]
    },
    {
     "name": "stdout",
     "output_type": "stream",
     "text": [
      "orig list:  ['1', '2', '3', '4', '5']\n",
      "reverse list:  ['5', '4', '3', '2', '1']\n"
     ]
    }
   ],
   "source": [
    "#reverse_list\n",
    "def rever_list(list_items):\n",
    "    rev_list = []    \n",
    "     \n",
    "    for i in range(len(list_items)-1,-1,-1):\n",
    "        rev_list.append(list_items[i])\n",
    "    return rev_list\n",
    "\n",
    "list_in=[]\n",
    "for i in range(0,5):\n",
    "    list_in.append(input(\"Enter item: \"))\n",
    "print(\"orig list: \",list_in)\n",
    "print(\"reverse list: \",rever_list(list_in))\n"
   ]
  },
  {
   "cell_type": "code",
   "execution_count": 65,
   "metadata": {},
   "outputs": [
    {
     "name": "stdin",
     "output_type": "stream",
     "text": [
      "Enter number of items: 2\n",
      "Enter item:  1\n",
      "Enter item:  2\n"
     ]
    },
    {
     "name": "stdout",
     "output_type": "stream",
     "text": [
      "length is:  1\n",
      "reverse list:  ['2', '1']\n"
     ]
    }
   ],
   "source": [
    "### reverse list\n",
    "def rever_list(list_it):\n",
    "    lt=int(len(list_it))-1\n",
    "    print(\"length is: \",lt);\n",
    "    for i in range(0,lt,1):\n",
    "        tmp=list_it[i]\n",
    "        list_it[i]=list_it[lt-i]\n",
    "        list_it[lt-i]=tmp\n",
    "    return list_it    \n",
    "\n",
    "lent=int(input(\"Enter number of items:\"))\n",
    "list_in=[]\n",
    "for i in range(0,lent):\n",
    "    list_in.append(input(\"Enter item: \"))\n",
    "print(\"reverse list: \",rever_list(list_in))\n"
   ]
  },
  {
   "cell_type": "code",
   "execution_count": 77,
   "metadata": {},
   "outputs": [
    {
     "name": "stdin",
     "output_type": "stream",
     "text": [
      "Enter number of items: 3\n",
      "Enter item:  1\n",
      "Enter item:  2\n",
      "Enter item:  3\n"
     ]
    },
    {
     "name": "stdout",
     "output_type": "stream",
     "text": [
      "Even count is  1\n",
      "Odd count is  2\n"
     ]
    }
   ],
   "source": [
    "#Count even and odd\n",
    "def ct_even_odd_list(lst):\n",
    "    odd_ct = 0\n",
    "    even_ct = 0\n",
    "    for ele in lst:\n",
    "        if ele%2 == 0:\n",
    "            even_ct += 1\n",
    "        else:\n",
    "            odd_ct += 1\n",
    "    return even_ct,odd_ct\n",
    "\n",
    "lent=int(input(\"Enter number of items:\"))\n",
    "list_input=[]\n",
    "for i in range(0,lent):\n",
    "    list_input.append(int(input(\"Enter item: \")))\n",
    "even,odd=ct_even_odd_list(list_input)\n",
    "print(\"Even count is \",even)\n",
    "print(\"Odd count is \", odd)"
   ]
  },
  {
   "cell_type": "code",
   "execution_count": 85,
   "metadata": {},
   "outputs": [
    {
     "name": "stdin",
     "output_type": "stream",
     "text": [
      "Enter number of items: 0\n"
     ]
    },
    {
     "name": "stdout",
     "output_type": "stream",
     "text": [
      "Enter proper values\n",
      "max is:  None\n"
     ]
    }
   ],
   "source": [
    "#WAF to get the maximum out of the number list <<Do not use MAX fun >>\n",
    "def get_max(list_item):\n",
    "    try:\n",
    "        max=list_item[0]\n",
    "        for i in list_item:\n",
    "            if(i>max):\n",
    "                max=i\n",
    "        return max\n",
    "    except Exception as ex:\n",
    "        print(\"Enter proper values\")\n",
    "        exit(0)\n",
    "    \n",
    "\n",
    "lent=int(input(\"Enter number of items:\"))\n",
    "\n",
    "list_input=[]\n",
    "for i in range(0,lent):\n",
    "    list_input.append(int(input(\"Enter item: \")))\n",
    "print(\"max is: \",get_max(list_input))"
   ]
  },
  {
   "cell_type": "code",
   "execution_count": 2,
   "metadata": {},
   "outputs": [
    {
     "name": "stdin",
     "output_type": "stream",
     "text": [
      "Enter number of items: 4\n",
      "Enter item:  -1\n",
      "Enter item:  -2\n",
      "Enter item:  3\n",
      "Enter item:  2\n"
     ]
    },
    {
     "name": "stdout",
     "output_type": "stream",
     "text": [
      "second max is:  2\n"
     ]
    }
   ],
   "source": [
    "#WAF to get the second maximum out of the number list <<Do not use MAX fun >>\n",
    "#3,2,1,4\n",
    "def get_max_2(list_item):\n",
    "    try:\n",
    "        max=list_item[0]\n",
    "        max2=max\n",
    "        for i in list_item:\n",
    "            if(i>max):\n",
    "                max=i\n",
    "            if(max>i and i>max2):\n",
    "                max2=i\n",
    "        return max2\n",
    "    except Exception as ex:\n",
    "        print(\"Enter proper values\")\n",
    "        exit(0)\n",
    "    \n",
    "\n",
    "lent=int(input(\"Enter number of items:\"))\n",
    "\n",
    "list_input=[]\n",
    "for i in range(0,lent):\n",
    "    list_input.append(int(input(\"Enter item: \")))\n",
    "print(\"second max is: \",get_max_2(list_input))"
   ]
  },
  {
   "cell_type": "code",
   "execution_count": 6,
   "metadata": {},
   "outputs": [
    {
     "name": "stdin",
     "output_type": "stream",
     "text": [
      "Enter number of items: 3\n",
      "Enter item:  1\n",
      "Enter item:  2\n",
      "Enter item:  3\n"
     ]
    },
    {
     "name": "stdout",
     "output_type": "stream",
     "text": [
      "mean is:  2.0\n"
     ]
    }
   ],
   "source": [
    "### WAF to get the mean() value of the series.\n",
    "def get_mean(list_item):\n",
    "    try:\n",
    "        mean=list_item[0]\n",
    "        for i in list_item[1:]:\n",
    "            mean+=i\n",
    "        return mean/len(list_item)\n",
    "    except Exception as ex:\n",
    "        print(\"Enter proper values\")\n",
    "        exit(0)\n",
    "    \n",
    "\n",
    "lent=int(input(\"Enter number of items:\"))\n",
    "\n",
    "list_input=[]\n",
    "for i in range(0,lent):\n",
    "    list_input.append(int(input(\"Enter item: \")))\n",
    "print(\"mean is: \",get_mean(list_input))"
   ]
  },
  {
   "cell_type": "code",
   "execution_count": 1,
   "metadata": {},
   "outputs": [
    {
     "name": "stdin",
     "output_type": "stream",
     "text": [
      "Enter number of items: 4\n",
      "Enter item:  1\n",
      "Enter item:  2\n",
      "Enter item:  3\n",
      "Enter item:  4\n",
      "Enter the start of list:  3\n",
      "Enter the end of list:  4\n"
     ]
    },
    {
     "data": {
      "text/plain": [
       "[3, 4]"
      ]
     },
     "execution_count": 1,
     "metadata": {},
     "output_type": "execute_result"
    }
   ],
   "source": [
    "#WAF to print find_in_range() list, start and end and takes 3 argument\n",
    "#sequence is assumed with sorting\n",
    "def find_in_range(nlst,start,end):\n",
    "    ret=[]\n",
    "    for i in nlst:\n",
    "        if i>= start and i<= end:\n",
    "            ret.append(i)\n",
    "    return ret\n",
    "\n",
    "lent=int(input(\"Enter number of items:\"))\n",
    "\n",
    "list_input=[]\n",
    "for i in range(0,lent):\n",
    "    list_input.append(int(input(\"Enter item: \")))\n",
    "start=int(input(\"Enter the start of list: \"))\n",
    "end=int(input(\"Enter the end of list: \"))\n",
    "\n",
    "\n",
    "find_in_range(list_input,start,end)\n"
   ]
  }
 ],
 "metadata": {
  "kernelspec": {
   "display_name": "Python 3",
   "language": "python",
   "name": "python3"
  },
  "language_info": {
   "codemirror_mode": {
    "name": "ipython",
    "version": 3
   },
   "file_extension": ".py",
   "mimetype": "text/x-python",
   "name": "python",
   "nbconvert_exporter": "python",
   "pygments_lexer": "ipython3",
   "version": "3.8.3"
  }
 },
 "nbformat": 4,
 "nbformat_minor": 4
}
