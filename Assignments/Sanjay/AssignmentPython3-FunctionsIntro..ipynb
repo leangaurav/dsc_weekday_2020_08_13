{
 "cells": [
  {
   "cell_type": "code",
   "execution_count": 5,
   "metadata": {},
   "outputs": [
    {
     "name": "stdin",
     "output_type": "stream",
     "text": [
      "Enter first string ac\n",
      "Enter second string dc\n"
     ]
    },
    {
     "name": "stdout",
     "output_type": "stream",
     "text": [
      "Before swap ac and dc\n",
      "After swap  ('dc', 'ac')\n"
     ]
    }
   ],
   "source": [
    "def swap(in1, in2):\n",
    "    return in2,in1\n",
    "\n",
    "in1=input(\"Enter first string\")\n",
    "in2=input(\"Enter second string\")\n",
    "print(f\"Before swap {in1} and {in2}\")\n",
    "print(f\"After swap \",swap(in1, in2))"
   ]
  },
  {
   "cell_type": "code",
   "execution_count": 39,
   "metadata": {},
   "outputs": [
    {
     "name": "stdout",
     "output_type": "stream",
     "text": [
      "Average of the 4 random numbers is:  9.0\n"
     ]
    }
   ],
   "source": [
    "#4 random numbers between 0-26\n",
    "from random import randrange\n",
    "\n",
    "#print(help(random.randrange))\n",
    "\n",
    "def generat4random(range_start, range_end, number):\n",
    "    randnu=[]\n",
    "    for i in range(number):\n",
    "        randnu.append(randrange(range_start, range_end))\n",
    "    \n",
    "    avg_val=0    \n",
    "    for i in randnu:\n",
    "        avg_val+=i\n",
    "    \n",
    "    print(\"Average of the 4 random numbers is: \",avg_val/len(randnu))\n",
    "\n",
    "generat4random(0,26,4)"
   ]
  },
  {
   "cell_type": "code",
   "execution_count": 38,
   "metadata": {},
   "outputs": [
    {
     "name": "stdout",
     "output_type": "stream",
     "text": [
      "Random alphabet is:  v\n"
     ]
    }
   ],
   "source": [
    "#random alphabet\n",
    "from random import randint\n",
    "# print(dir(randint))\n",
    "alpha='abcdefghijklmnopqrstuvwxyzABCDEFGHIJKLMNOPQRSTUVWXYZ'\n",
    "val=randint(0,51)\n",
    "print(\"Random alphabet is: \",alpha[val])"
   ]
  },
  {
   "cell_type": "code",
   "execution_count": 17,
   "metadata": {},
   "outputs": [
    {
     "name": "stdin",
     "output_type": "stream",
     "text": [
      "Enter principal:  100000\n",
      "Enter term in years:  1\n",
      "Enter rate of interest per year:  10\n"
     ]
    },
    {
     "name": "stdout",
     "output_type": "stream",
     "text": [
      "Total interest is: 10000.00\n"
     ]
    }
   ],
   "source": [
    "# Simple interest\n",
    "def get_si(prin, ter, intr):\n",
    "    return ((prin*term*intr)/100);\n",
    "\n",
    "prin=float(input(\"Enter principal: \"))\n",
    "term=float(input(\"Enter term in years: \"))\n",
    "intr=float(input(\"Enter rate of interest per year: \"))\n",
    "print(\"Total interest is: %.2f\"%get_si(prin,term, intr))"
   ]
  },
  {
   "cell_type": "code",
   "execution_count": 18,
   "metadata": {},
   "outputs": [
    {
     "name": "stdin",
     "output_type": "stream",
     "text": [
      "Enter principal:  10000\n"
     ]
    },
    {
     "name": "stdout",
     "output_type": "stream",
     "text": [
      "Simple interest Rs 11000.0\n"
     ]
    }
   ],
   "source": [
    "#get amount\n",
    "def get_amount(p,r=10,t=1):\n",
    "    x=get_si(p,t,r)\n",
    "    A=p+x\n",
    "    return A\n",
    "\n",
    "prin=float(input(\"Enter principal: \"))\n",
    "simple_interest=get_amount(prin)    \n",
    "print(\"Simple interest Rs\",simple_interest)  "
   ]
  },
  {
   "cell_type": "code",
   "execution_count": 19,
   "metadata": {},
   "outputs": [
    {
     "name": "stdin",
     "output_type": "stream",
     "text": [
      "Enter the initial principal amount  100000\n"
     ]
    },
    {
     "name": "stdout",
     "output_type": "stream",
     "text": [
      "compount_interest: 116129.2\n"
     ]
    }
   ],
   "source": [
    "#WAP get_ci() that takes Principle, Rate and Time as arguments and returns the Compound Interest. 6829415.0\n",
    "\n",
    "p=float(input(\"Enter the initial principal amount \"))\n",
    "\n",
    "def get_ci(p,r,t,n):\n",
    "    a=p*pow((1+(r/(n*100))),n*t)\n",
    "    return a\n",
    "\n",
    "compound_interest=get_ci(p,7.5,2,12)\n",
    "print('compount_interest:',round(compound_interest,2))"
   ]
  },
  {
   "cell_type": "code",
   "execution_count": 20,
   "metadata": {},
   "outputs": [
    {
     "name": "stdout",
     "output_type": "stream",
     "text": [
      "tuple values (0, 2.0)\n"
     ]
    }
   ],
   "source": [
    "#WAP returns quotient and remainder as tuple\n",
    "def get_q_r(num, div):\n",
    "    rem=num%div\n",
    "    quo=num/div\n",
    "    return (rem,quo)\n",
    "\n",
    "print(\"tuple values\",get_q_r(10, 5))\n",
    "    "
   ]
  },
  {
   "cell_type": "code",
   "execution_count": 23,
   "metadata": {},
   "outputs": [
    {
     "name": "stdin",
     "output_type": "stream",
     "text": [
      "enter the height  10\n",
      "enter the base  23\n"
     ]
    },
    {
     "name": "stdout",
     "output_type": "stream",
     "text": [
      "Hypotenuse : 25.08\n"
     ]
    }
   ],
   "source": [
    "#WAP to find the length of hypotenuse of a right angled triangle, input the height and base from user\n",
    "\n",
    "from math import sqrt  \n",
    "def calc_length(h,b):\n",
    "    l=sqrt(h**2+b**2)\n",
    "    return l\n",
    "    \n",
    "\n",
    "h=float(input(\"enter the height \"))\n",
    "b=float(input(\"enter the base \"))\n",
    "hyp=calc_length(h,b)\n",
    "print(\"Hypotenuse : %.2f\"%hyp)"
   ]
  },
  {
   "cell_type": "code",
   "execution_count": 28,
   "metadata": {},
   "outputs": [
    {
     "name": "stdout",
     "output_type": "stream",
     "text": [
      "values:  (0, 2, 46, 40)\n"
     ]
    }
   ],
   "source": [
    "#input second and print days, hours, min and secs\n",
    "def parse(secs):\n",
    "    days=secs//(24*60*60)\n",
    "    rem=secs%(24*60*60)\n",
    "    #\n",
    "    hours=rem//(60*60)\n",
    "    rem=rem%(60*60)\n",
    "    #\n",
    "    min=rem//60\n",
    "    rem=rem%60\n",
    "    #\n",
    "    sec=rem\n",
    "    return (days,hours,min,sec)\n",
    "\n",
    "print(\"values: \",parse(10000))"
   ]
  },
  {
   "cell_type": "code",
   "execution_count": 31,
   "metadata": {},
   "outputs": [
    {
     "name": "stdout",
     "output_type": "stream",
     "text": [
      "3.8.3\n"
     ]
    }
   ],
   "source": [
    "#print python version\n",
    "import platform\n",
    "#help(platform)\n",
    "print(platform.python_version())"
   ]
  },
  {
   "cell_type": "code",
   "execution_count": 32,
   "metadata": {},
   "outputs": [
    {
     "name": "stdout",
     "output_type": "stream",
     "text": [
      "2 -2\n"
     ]
    }
   ],
   "source": [
    "#predict o/p\n",
    "x = 2\n",
    "x *= 3\n",
    "x = x % 4\n",
    "y = -x\n",
    "print(x,y)"
   ]
  },
  {
   "cell_type": "code",
   "execution_count": 33,
   "metadata": {},
   "outputs": [
    {
     "name": "stdout",
     "output_type": "stream",
     "text": [
      "None\n"
     ]
    }
   ],
   "source": [
    "def fun():\n",
    "    pass\n",
    "\n",
    "print(fun())"
   ]
  }
 ],
 "metadata": {
  "kernelspec": {
   "display_name": "Python 3",
   "language": "python",
   "name": "python3"
  },
  "language_info": {
   "codemirror_mode": {
    "name": "ipython",
    "version": 3
   },
   "file_extension": ".py",
   "mimetype": "text/x-python",
   "name": "python",
   "nbconvert_exporter": "python",
   "pygments_lexer": "ipython3",
   "version": "3.8.3"
  }
 },
 "nbformat": 4,
 "nbformat_minor": 4
}
