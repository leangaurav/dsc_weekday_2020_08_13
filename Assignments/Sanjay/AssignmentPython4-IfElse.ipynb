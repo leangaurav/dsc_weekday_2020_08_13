{
 "cells": [
  {
   "cell_type": "code",
   "execution_count": 2,
   "metadata": {},
   "outputs": [
    {
     "name": "stdin",
     "output_type": "stream",
     "text": [
      "Enter the first number :  10\n",
      "Enter the second number :  8\n"
     ]
    },
    {
     "name": "stdout",
     "output_type": "stream",
     "text": [
      "no\n"
     ]
    }
   ],
   "source": [
    "#WAP to print if the first number is divisible by second number\n",
    "num1=int(input(\"Enter the first number : \"))\n",
    "num2=int(input(\"Enter the second number : \"))\n",
    "\n",
    "if num1%num2 == 0:\n",
    "    print(\"yes\")\n",
    "else:\n",
    "    print(\"no\")\n"
   ]
  },
  {
   "cell_type": "code",
   "execution_count": 6,
   "metadata": {},
   "outputs": [
    {
     "name": "stdin",
     "output_type": "stream",
     "text": [
      "Enter the text :  Sakal\n"
     ]
    },
    {
     "name": "stdout",
     "output_type": "stream",
     "text": [
      "No palindrome\n"
     ]
    }
   ],
   "source": [
    "#Palindrome check\n",
    "text=input(\"Enter the text : \")\n",
    "\n",
    "if text[::-1].upper() == text.upper():\n",
    "    print(\"Yes, a palindrome\")\n",
    "else:\n",
    "     print(\"Not a palindrome\")\n"
   ]
  },
  {
   "cell_type": "code",
   "execution_count": 8,
   "metadata": {},
   "outputs": [
    {
     "name": "stdin",
     "output_type": "stream",
     "text": [
      "Enter the 1st side :  2\n",
      "Enter the 2nd side :  2\n",
      "Enter the 3rd side :  1\n"
     ]
    },
    {
     "name": "stdout",
     "output_type": "stream",
     "text": [
      "Isoceles Triangle\n"
     ]
    }
   ],
   "source": [
    "#WAP to print the type of the triganle based upon the sides\n",
    "#WAP to print the type of the triganle based upon the sides\n",
    "\n",
    "side1=int(input(\"Enter the 1st side : \"))\n",
    "side2=int(input(\"Enter the 2nd side : \"))\n",
    "side3=int(input(\"Enter the 3rd side : \"))\n",
    "\n",
    "if side1 != side2 and side1 != side3 and side2 != side3 :\n",
    "    print (\"Scalene Triangle\")\n",
    "elif side1 == side2 == side3 :\n",
    "    print (\"Equilateral Triangle\")\n",
    "else:\n",
    "    print (\"Isoceles Triangle\")"
   ]
  },
  {
   "cell_type": "code",
   "execution_count": 9,
   "metadata": {},
   "outputs": [
    {
     "name": "stdin",
     "output_type": "stream",
     "text": [
      "Enter a age :  25.34\n"
     ]
    },
    {
     "name": "stdout",
     "output_type": "stream",
     "text": [
      "Category : Adult\n"
     ]
    }
   ],
   "source": [
    "# WAP to print the category based upon the age\n",
    "\n",
    "age=float(input(\"Enter a age : \"))\n",
    "\n",
    "def get_category(age):\n",
    "    if  0 <= age <= 12:\n",
    "        print (\"Category : Child\")\n",
    "    elif 13 <= age <= 17:\n",
    "        print (\"Category : Teen\")\n",
    "    elif 18 <= age <= 50 :\n",
    "        print (\"Category : Adult\")\n",
    "    elif 51 <= age <= 100:\n",
    "        print (\"Category : Senior Citizen\")\n",
    "    else:\n",
    "        print (\"Contratulation !!! \")\n",
    "\n",
    "get_category(age)"
   ]
  },
  {
   "cell_type": "code",
   "execution_count": 16,
   "metadata": {},
   "outputs": [
    {
     "name": "stdin",
     "output_type": "stream",
     "text": [
      "Enter a year in 4 digit :  1996\n"
     ]
    },
    {
     "name": "stdout",
     "output_type": "stream",
     "text": [
      "1996  is a leap year\n"
     ]
    }
   ],
   "source": [
    "#WAP to input a year and check if it is a leap year or not\n",
    "\n",
    "import re\n",
    "\n",
    "text=input(\"Enter a year in 4 digit : \")\n",
    "\n",
    "if re.match(\"[1-9][0-9]{3}\", text):\n",
    "    if int(text)%4 == 0:\n",
    "        print (text, \" is a leap year\")\n",
    "    else:\n",
    "        print (text , \" is not a leap year\")\n",
    "else:\n",
    "    print(\"Enter a year in 4 digit year\")"
   ]
  },
  {
   "cell_type": "code",
   "execution_count": 30,
   "metadata": {},
   "outputs": [
    {
     "name": "stdin",
     "output_type": "stream",
     "text": [
      "Enter a text :  ajsgdjas\n"
     ]
    },
    {
     "name": "stdout",
     "output_type": "stream",
     "text": [
      "Upper Case :  AJSGDJAS\n"
     ]
    }
   ],
   "source": [
    "#WAP to input a text to print the lower and upper case based upon the length\n",
    "\n",
    "text=input(\"Enter a text : \")\n",
    "\n",
    "if len(text)%2 == 0:\n",
    "    print (\"Upper Case : \" , text.upper())\n",
    "else:\n",
    "    print(\"Lower Case : \", text.lower())\n"
   ]
  },
  {
   "cell_type": "code",
   "execution_count": 35,
   "metadata": {},
   "outputs": [
    {
     "name": "stdin",
     "output_type": "stream",
     "text": [
      "Enter a dish name in alphabets :  EggFried\n"
     ]
    },
    {
     "name": "stdout",
     "output_type": "stream",
     "text": [
      "Food is Non-Veg\n"
     ]
    }
   ],
   "source": [
    "#WAP to find the word egg in the string and print veg or nonveg\n",
    "import re\n",
    "\n",
    "text=input(\"Enter a dish name in alphabets : \")\n",
    "\n",
    "if not re.match(\"^[a-zA-Z]+$\", text):\n",
    "    print(\"Please enter the dish name properly\")\n",
    "else:\n",
    "    if text.lower().find(\"egg\") > 0 :\n",
    "        print (\"Food is Veg\")\n",
    "    else:\n",
    "        print(\"Food is Non-Veg\")\n"
   ]
  },
  {
   "cell_type": "code",
   "execution_count": 42,
   "metadata": {},
   "outputs": [
    {
     "name": "stdout",
     "output_type": "stream",
     "text": [
      "True\n",
      "True\n",
      "Weird !!\n",
      "[4, 3, 2, 1]\n",
      "___________\n",
      "[1, 2, 3, 4]\n",
      "[1, 2, 3, 4]\n",
      "[4, 3, 2, 1]\n"
     ]
    }
   ],
   "source": [
    "#WAP to print the O/P\n",
    "\n",
    "if not 1:\n",
    "    print ('False')\n",
    "else:\n",
    "    print('True')\n",
    "    \n",
    "if 1:\n",
    "    print('True')\n",
    "else:\n",
    "    print('False')\n",
    "\n",
    "if 'a' > 'A':\n",
    "    print('Weird !!')\n",
    "else:\n",
    "    print('Make Sense')\n",
    "\n",
    "a=[1,2,3,4]\n",
    "\n",
    "\n",
    "if 1>1:\n",
    "    print(a[::-1])\n",
    "else:\n",
    "    print(a[-1::-1])\n",
    "print(\"___________\")\n",
    "print(a[::1])\n",
    "print(a[-4::1])\n",
    "print(a[-1::-1])"
   ]
  },
  {
   "cell_type": "code",
   "execution_count": 43,
   "metadata": {},
   "outputs": [
    {
     "name": "stdin",
     "output_type": "stream",
     "text": [
      "Enter the no of subject ?  4\n",
      "Enter the marks for Subject1 ?  90\n",
      "Enter the marks for Subject2 ?  89\n",
      "Enter the marks for Subject3 ?  88\n",
      "Enter the marks for Subject4 ?  95\n"
     ]
    },
    {
     "name": "stdout",
     "output_type": "stream",
     "text": [
      "Average of 4 subjects : 90.50 Grade A\n"
     ]
    }
   ],
   "source": [
    "### Calculate the average of 5 subject out of 100\n",
    "\n",
    "no_of_subject = int(input(\"Enter the no of subject ? \"))\n",
    "\n",
    "sum_of_subjects=0\n",
    "for i in range(no_of_subject):\n",
    "    sum_of_subjects += int(input(f\"Enter the marks for Subject{i+1} ? \"))\n",
    "\n",
    "average_of_subject = sum_of_subjects/no_of_subject\n",
    "\n",
    "def get_grade(average_of_subject):\n",
    "    if  90 <= average_of_subject <= 100:\n",
    "        return \"Grade A\"\n",
    "    elif 80<= average_of_subject <=89:\n",
    "        return \"Grade B\"\n",
    "    elif 60<= average_of_subject <= 79:\n",
    "        return \"Grade C\"\n",
    "    else:\n",
    "        return \"Grade F\"\n",
    "\n",
    "print(f\"Average of {no_of_subject} subjects : \" + \"{:.2f}\".format(average_of_subject) , get_grade(average_of_subject))\n",
    "\n"
   ]
  },
  {
   "cell_type": "code",
   "execution_count": 44,
   "metadata": {},
   "outputs": [
    {
     "name": "stdin",
     "output_type": "stream",
     "text": [
      "Enter the age :  35\n",
      "Enter salary :  4200000\n"
     ]
    },
    {
     "name": "stdout",
     "output_type": "stream",
     "text": [
      "Total tax to be paid :  630000.0\n"
     ]
    }
   ],
   "source": [
    "#WAP to input age and salary to calculate the tax\n",
    "\n",
    "age=int(input(\"Enter the age : \"))\n",
    "salary=float(input(\"Enter salary : \"))\n",
    "\n",
    "def calculate_tax(age,salary):\n",
    "    if age < 60:\n",
    "        if 0 <= salary <= 250000:\n",
    "            tax=0\n",
    "        elif 250001 <= salary <= 500000:\n",
    "            tax=0.05*salary\n",
    "        elif 500001 <= salary <= 1000000:\n",
    "            tax=0.1*salary\n",
    "        else:\n",
    "            tax=0.15*salary\n",
    "    else:\n",
    "        if 0 <= salary <= 250000:\n",
    "            tax=0\n",
    "        elif 250001 <= salary <= 500000:\n",
    "            tax=0.03*salary\n",
    "        elif 500001 <= salary <= 1000000:\n",
    "            tax=0.08*salary\n",
    "        else:\n",
    "            tax=0.12*salary\n",
    "    return tax\n",
    "\n",
    "print(\"Total tax to be paid : \" , calculate_tax(age,salary))"
   ]
  },
  {
   "cell_type": "code",
   "execution_count": 4,
   "metadata": {},
   "outputs": [
    {
     "name": "stdout",
     "output_type": "stream",
     "text": [
      "30\n",
      "10\n",
      "10\n",
      "OMG\n"
     ]
    }
   ],
   "source": [
    "#Print the O/P\n",
    "print(20 if not 1==1 else 30)\n",
    "print(30 if not 1==1 else (20 if 'a' < 'A' else  10))\n",
    "print(40 if not 1==1 else 30 if 'a' < 'A' else  20 if '' else 10)\n",
    "print('No' if not 1==1 else ('No' if 'a' < 'A' else ('OMG' if 'oh!!' else 'No')))"
   ]
  },
  {
   "cell_type": "code",
   "execution_count": 6,
   "metadata": {},
   "outputs": [
    {
     "name": "stdin",
     "output_type": "stream",
     "text": [
      "enter the weight in kgs:  71\n",
      "enter the height in cms:  169\n"
     ]
    },
    {
     "name": "stdout",
     "output_type": "stream",
     "text": [
      "Healthy\n"
     ]
    }
   ],
   "source": [
    "#WAF to calculate the BMI based upon the weight and height\n",
    "#[weight (kg) / height (cm) / height (cm)] x 10,000\n",
    "\n",
    "def bmi(w,h):\n",
    "    b=w/(h**2)\n",
    "    return b\n",
    "\n",
    "w=float(input(\"enter the weight in kgs: \"))\n",
    "h=float(input(\"enter the height in cms: \"))\n",
    "h=h/100\n",
    "\n",
    "if(0<=bmi(w,h)<=15):\n",
    "    print(\"Very severely underweight\")\n",
    "elif(15<bmi(w,h)<=16):\n",
    "    print(\"Severely underweight\")\n",
    "elif(16<bmi(w,h)<=18.5):\n",
    "    print(\"Underweight\")\n",
    "elif(18.5<bmi(w,h)<=25):\n",
    "    print(\"Healthy\")\n",
    "elif(25<bmi(w,h)<=30):\n",
    "    print(\"Overweight\")\n",
    "elif(30<bmi(w,h)<=35):\n",
    "    print(\"Moderately obese\")\n",
    "elif(35<bmi(w,h)<=40):\n",
    "    print(\"Severely obese\")\n",
    "elif(bmi(w,h)<=45):\n",
    "    print(\"Very severely obese\")"
   ]
  },
  {
   "cell_type": "code",
   "execution_count": 10,
   "metadata": {},
   "outputs": [
    {
     "name": "stdin",
     "output_type": "stream",
     "text": [
      "enter the age of first person:  40\n",
      "enter the age of second person:  30\n",
      "enter the age of third person:  15\n"
     ]
    },
    {
     "name": "stdout",
     "output_type": "stream",
     "text": [
      "Max age is 40 and Min age is 15\n"
     ]
    }
   ],
   "source": [
    "#find oldest and youngest\n",
    "person=[]\n",
    "max=min=int(input(\"enter the age of first person: \"))\n",
    "a=int(input(\"enter the age of second person: \"))\n",
    "if a>max:\n",
    "    max=a\n",
    "elif a<min:\n",
    "    min=a\n",
    "a=int(input(\"enter the age of third person: \"))\n",
    "if a>max:\n",
    "    max=a\n",
    "elif a<min:\n",
    "    min=a\n",
    "print(f\"Max age is {max} and Min age is {min}\")\n",
    "\n"
   ]
  },
  {
   "cell_type": "code",
   "execution_count": 12,
   "metadata": {},
   "outputs": [
    {
     "name": "stdin",
     "output_type": "stream",
     "text": [
      "enter a number:  14\n"
     ]
    },
    {
     "name": "stdout",
     "output_type": "stream",
     "text": [
      "Not Divisible\n"
     ]
    }
   ],
   "source": [
    "n=int(input(\"enter a number: \"))\n",
    "if(n%5==0 and n%7==0):\n",
    "    print(\"Divisible\")\n",
    "else:\n",
    "    print(\"Not Divisible\")"
   ]
  }
 ],
 "metadata": {
  "kernelspec": {
   "display_name": "Python 3",
   "language": "python",
   "name": "python3"
  },
  "language_info": {
   "codemirror_mode": {
    "name": "ipython",
    "version": 3
   },
   "file_extension": ".py",
   "mimetype": "text/x-python",
   "name": "python",
   "nbconvert_exporter": "python",
   "pygments_lexer": "ipython3",
   "version": "3.8.3"
  }
 },
 "nbformat": 4,
 "nbformat_minor": 4
}
