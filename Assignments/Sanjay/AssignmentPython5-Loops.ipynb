{
 "cells": [
  {
   "cell_type": "code",
   "execution_count": 6,
   "metadata": {},
   "outputs": [
    {
     "name": "stdin",
     "output_type": "stream",
     "text": [
      "Enter n:  9\n"
     ]
    },
    {
     "name": "stdout",
     "output_type": "stream",
     "text": [
      "1\n",
      "2\n",
      "3\n",
      "4\n",
      "5\n",
      "6\n",
      "7\n",
      "8\n",
      "9\n"
     ]
    }
   ],
   "source": [
    "#WAP Q1\n",
    "n=int(input(\"Enter n: \"))\n",
    "\n",
    "for i in range(1,n+1,1):\n",
    "    print(i)"
   ]
  },
  {
   "cell_type": "code",
   "execution_count": 8,
   "metadata": {},
   "outputs": [
    {
     "name": "stdin",
     "output_type": "stream",
     "text": [
      "Enter n:  10\n"
     ]
    },
    {
     "name": "stdout",
     "output_type": "stream",
     "text": [
      "55.0\n"
     ]
    }
   ],
   "source": [
    "#Q2 sum of first n\n",
    "n=int(input(\"Enter n: \"))\n",
    "\n",
    "sum=n*(n+1)/2\n",
    "print(sum)"
   ]
  },
  {
   "cell_type": "code",
   "execution_count": 11,
   "metadata": {},
   "outputs": [
    {
     "name": "stdin",
     "output_type": "stream",
     "text": [
      "Enter n:  9\n"
     ]
    },
    {
     "name": "stdout",
     "output_type": "stream",
     "text": [
      "9\n",
      "8\n",
      "7\n",
      "6\n",
      "5\n",
      "4\n",
      "3\n",
      "2\n",
      "1\n"
     ]
    }
   ],
   "source": [
    "#Q3 reverse first n\n",
    "#WAP Q1\n",
    "n=int(input(\"Enter n: \"))\n",
    "\n",
    "for i in range(n,0,-1):\n",
    "    print(i)"
   ]
  },
  {
   "cell_type": "code",
   "execution_count": 13,
   "metadata": {},
   "outputs": [
    {
     "name": "stdin",
     "output_type": "stream",
     "text": [
      "Enter n:  5\n"
     ]
    },
    {
     "name": "stdout",
     "output_type": "stream",
     "text": [
      "Factorial is:  120\n"
     ]
    }
   ],
   "source": [
    "#Q4 Factorial\n",
    "\n",
    "def fact(n):\n",
    "    if(n>0):\n",
    "        return n*fact(n-1)\n",
    "    else:\n",
    "        return 1\n",
    "\n",
    "n=int(input(\"Enter n: \"))\n",
    "print(\"Factorial is: \",fact(n))\n"
   ]
  },
  {
   "cell_type": "code",
   "execution_count": 15,
   "metadata": {},
   "outputs": [
    {
     "name": "stdin",
     "output_type": "stream",
     "text": [
      "Enter n:  10\n"
     ]
    },
    {
     "name": "stdout",
     "output_type": "stream",
     "text": [
      "Fibonnaci series is:  55\n"
     ]
    }
   ],
   "source": [
    "#Q5 Fibonnaci\n",
    "def fib(n):\n",
    "    if(n==0 or n==1):\n",
    "        return n\n",
    "    else:\n",
    "        return fib(n-1)+fib(n-2)\n",
    "\n",
    "n=int(input(\"Enter n: \"))\n",
    "print(\"Fibonnaci series is: \",fib(n))"
   ]
  },
  {
   "cell_type": "code",
   "execution_count": 20,
   "metadata": {},
   "outputs": [
    {
     "name": "stdin",
     "output_type": "stream",
     "text": [
      "Enter the number:  9384\n"
     ]
    },
    {
     "name": "stdout",
     "output_type": "stream",
     "text": [
      "['9', '3', '8', '4']\n"
     ]
    }
   ],
   "source": [
    "#Q6 input any number and print its digit\n",
    "\n",
    "n=input(\"Enter the number: \")\n",
    "a=list(n)\n",
    "print(a)"
   ]
  },
  {
   "cell_type": "code",
   "execution_count": 30,
   "metadata": {},
   "outputs": [
    {
     "name": "stdin",
     "output_type": "stream",
     "text": [
      "Enter the number:  19\n"
     ]
    },
    {
     "name": "stdout",
     "output_type": "stream",
     "text": [
      "['1', '9']\n",
      "Sum is:  10\n"
     ]
    }
   ],
   "source": [
    "#Q7 input any number and print sum of its digit\n",
    "n=input(\"Enter the number: \")\n",
    "a=list(n)\n",
    "print(a)\n",
    "sum=0\n",
    "for i in a:\n",
    "    sum+=int(i)\n",
    "print(\"Sum is: \",sum)"
   ]
  },
  {
   "cell_type": "code",
   "execution_count": 35,
   "metadata": {},
   "outputs": [
    {
     "name": "stdin",
     "output_type": "stream",
     "text": [
      "Enter the number:  10\n"
     ]
    },
    {
     "name": "stdout",
     "output_type": "stream",
     "text": [
      "Factorial Sum is:  4037913\n"
     ]
    }
   ],
   "source": [
    "#Q8 sum of factorials\n",
    "n=int(input(\"Enter the number: \"))\n",
    "sum=0\n",
    "for i in range(1,n+1):\n",
    "    sum+=fact(int(i))\n",
    "\n",
    "print(\"Factorial Sum is: \",sum)\n"
   ]
  },
  {
   "cell_type": "code",
   "execution_count": 37,
   "metadata": {},
   "outputs": [
    {
     "name": "stdin",
     "output_type": "stream",
     "text": [
      "Enter the base number:  10\n",
      "Enter the power number:  3\n"
     ]
    },
    {
     "name": "stdout",
     "output_type": "stream",
     "text": [
      "Value is 1000\n"
     ]
    }
   ],
   "source": [
    "#Q9 input base and power and print the value\n",
    "\n",
    "def pow_f(b,p):\n",
    "    if p == 1:\n",
    "        return b\n",
    "    return b*pow_f(b,p-1)\n",
    "\n",
    "\n",
    "b=int(input(\"Enter the base number: \"))\n",
    "p=int(input(\"Enter the power number: \"))\n",
    "\n",
    "print(\"Value is\" ,pow_f(b,p))"
   ]
  },
  {
   "cell_type": "code",
   "execution_count": 62,
   "metadata": {},
   "outputs": [
    {
     "name": "stdout",
     "output_type": "stream",
     "text": [
      "*\n",
      "**\n",
      "***\n",
      "****\n",
      "*****\n",
      "\n",
      "\n",
      "\n",
      "*****\n",
      "****\n",
      "***\n",
      "**\n",
      "*\n",
      "\n",
      "\n",
      "\n",
      "      \n",
      "     *\n",
      "    **\n",
      "   ***\n",
      "  ****\n",
      " *****\n"
     ]
    }
   ],
   "source": [
    "# Q10 print patterns\n",
    "\n",
    "def retstarsA(count):\n",
    "    s=''\n",
    "    for i in range(1,count+1):\n",
    "        s+='*'\n",
    "    return s\n",
    "\n",
    "for j in range(1,6):\n",
    "    print(retstarsA(j))\n",
    "\n",
    "print(\"\\n\\n\")\n",
    "def retstarsD(count):\n",
    "    s=''\n",
    "    for i in range(1,count+1):\n",
    "        s+='*'\n",
    "    return s\n",
    "\n",
    "for j in range(5,0,-1):\n",
    "    print(retstarsD(j))\n",
    "    \n",
    "print(\"\\n\\n\")\n",
    "def retstarsAR(count):\n",
    "    s=''\n",
    "    for i in range(1,count+1):\n",
    "        s+=' '\n",
    "    return s\n",
    "\n",
    "for j in range(6,0,-1):\n",
    "    val=retstarsAR(j)+retstarsA(6-j)\n",
    "    print(val)"
   ]
  }
 ],
 "metadata": {
  "kernelspec": {
   "display_name": "Python 3",
   "language": "python",
   "name": "python3"
  },
  "language_info": {
   "codemirror_mode": {
    "name": "ipython",
    "version": 3
   },
   "file_extension": ".py",
   "mimetype": "text/x-python",
   "name": "python",
   "nbconvert_exporter": "python",
   "pygments_lexer": "ipython3",
   "version": "3.8.3"
  }
 },
 "nbformat": 4,
 "nbformat_minor": 4
}
