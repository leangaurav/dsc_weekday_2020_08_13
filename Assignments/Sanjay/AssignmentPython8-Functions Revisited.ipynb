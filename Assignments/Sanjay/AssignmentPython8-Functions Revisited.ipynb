{
 "cells": [
  {
   "cell_type": "code",
   "execution_count": 7,
   "metadata": {},
   "outputs": [
    {
     "name": "stdout",
     "output_type": "stream",
     "text": [
      "Square:  4\n",
      "Inverse:  0.5\n",
      "Negate:  -2\n"
     ]
    }
   ],
   "source": [
    "#WAP to do below using lambda expression\n",
    "#Square of number\n",
    "#Inverse of number\n",
    "#negate a number\n",
    "\n",
    "#Lambdas are the anonymous functions\n",
    "i=2\n",
    "square=lambda i: i**2\n",
    "inverse=lambda i: 1/i\n",
    "negate=lambda i: -i\n",
    "print(\"Square: \", square(i) )\n",
    "print(\"Inverse: \",inverse(i))\n",
    "print(\"Negate: \",negate(i))"
   ]
  },
  {
   "cell_type": "code",
   "execution_count": 21,
   "metadata": {},
   "outputs": [
    {
     "name": "stdout",
     "output_type": "stream",
     "text": [
      "8\n",
      "Max is  8\n"
     ]
    }
   ],
   "source": [
    "#WAP to use lambda and reduce function to get max number in list\n",
    "in_=[1,3,2,8,6]\n",
    "g_max=0\n",
    "#print(help(map))\n",
    "max_func=lambda x: x if x > g_max else g_max\n",
    "for i in in_:\n",
    "    g_max=max_func(i)\n",
    "print(g_max)\n",
    "\n",
    "# Working : \n",
    "\n",
    "# At first step, first two elements of sequence are picked and the result is obtained.\n",
    "# Next step is to apply the same function to the previously attained result and the number just succeeding the second element and the result is again stored.\n",
    "# This process continues till no more elements are left in the container.\n",
    "# The final returned result is returned and printed on console.\n",
    "import functools\n",
    "print(\"Max is \",functools.reduce(lambda x,y: x if x>y else y, in_))\n",
    "\n",
    "\n"
   ]
  },
  {
   "cell_type": "code",
   "execution_count": 30,
   "metadata": {},
   "outputs": [
    {
     "name": "stdout",
     "output_type": "stream",
     "text": [
      "[1, 4, 16]\n",
      "[1.0, 0.25, 0.0625]\n",
      "[-1.0, -0.25, -0.0625]\n"
     ]
    }
   ],
   "source": [
    "#WAP write a function that takes first list of functions and second argument as sequence\n",
    "# tried using list and dictionary both option\n",
    "lis_=[1,2,4]\n",
    "l1=list(map(square, lis_))\n",
    "print(l1)#return map, use list on the map to get values\n",
    "l2=list(map(inverse, l1))\n",
    "print(l2)\n",
    "l3=list(map(negate, l2))\n",
    "print(l3)"
   ]
  },
  {
   "cell_type": "code",
   "execution_count": 31,
   "metadata": {},
   "outputs": [
    {
     "name": "stdout",
     "output_type": "stream",
     "text": [
      "num 50\n"
     ]
    }
   ],
   "source": [
    "from functools import reduce\n",
    "\n",
    "l=[10,30,50,30,10]\n",
    "f=lambda x,y : int(x) if int(x) > int(y) else int(y)\n",
    "num=functools.reduce(f,l) #reduce function always works on two arguments in the lambda functions\n",
    "print(\"num\", num)"
   ]
  },
  {
   "cell_type": "code",
   "execution_count": 32,
   "metadata": {},
   "outputs": [
    {
     "name": "stdout",
     "output_type": "stream",
     "text": [
      "[1.0, 0.25, 0.0625, 0.015625]\n"
     ]
    }
   ],
   "source": [
    "functs = [lambda x : x**0.5,lambda x : 1/x]\n",
    "l=[1,4,16,64]\n",
    "ans=[]\n",
    "for num in l:\n",
    "    res=num\n",
    "    for funct in functs:\n",
    "        res=funct(num)\n",
    "    ans.append(res)\n",
    "print(ans)"
   ]
  },
  {
   "cell_type": "code",
   "execution_count": 48,
   "metadata": {},
   "outputs": [
    {
     "name": "stdout",
     "output_type": "stream",
     "text": [
      "[1, 2]\n"
     ]
    }
   ],
   "source": [
    "import functools\n",
    "ll=[1,'one',2,'two']\n",
    "filter_=lambda x: True if isinstance(x, int) else False\n",
    "lres=[]\n",
    "for i in ll:\n",
    "    if filter_(i):\n",
    "        lres.append(i)\n",
    "print(lres)"
   ]
  },
  {
   "cell_type": "code",
   "execution_count": 49,
   "metadata": {},
   "outputs": [
    {
     "name": "stdout",
     "output_type": "stream",
     "text": [
      "['4.83', '4.88', '0.25']\n"
     ]
    }
   ],
   "source": [
    "#WAP to conver height from feet to meter\n",
    "\n",
    "lst=[\"15ft10in\",\"16ft\",\"10in\"]\n",
    "\n",
    "def get_height(x):\n",
    "    h=get_ft(x)\n",
    "    i=get_in(x)\n",
    "    m=int(h)*0.3048 + int(i)*0.0254\n",
    "    return \"{:.2f}\".format(m)\n",
    "        \n",
    "def get_ft(x):\n",
    "    if x.find(\"ft\") > 0:\n",
    "        return x[0:x.find(\"ft\")]\n",
    "    else:\n",
    "        return \"0\"\n",
    "\n",
    "def get_in(x):\n",
    "    if x.find(\"in\") > 0:\n",
    "        return x[x.find(\"t\")+1:x.find(\"in\")]\n",
    "    else:\n",
    "        return \"0\"\n",
    "\n",
    "lst_meter=list(map(get_height,lst))    \n",
    "\n",
    "print(lst_meter)"
   ]
  },
  {
   "cell_type": "code",
   "execution_count": 61,
   "metadata": {},
   "outputs": [
    {
     "name": "stdout",
     "output_type": "stream",
     "text": [
      "sum is  [1.0, 4.0, 9.0]\n"
     ]
    }
   ],
   "source": [
    "from typing import Iterable\n",
    "from math import pow\n",
    "\n",
    "def my_map(func, obj):\n",
    "    lst_=[]\n",
    "    if not isinstance(obj, Iterable):\n",
    "        raise ValueError\n",
    "    else:\n",
    "        for i in obj:\n",
    "            lst_.append(func(i,2))\n",
    "        return lst_\n",
    "ls=[1,2,3]\n",
    "print(\"sum is \",my_map(pow,ls))\n",
    "\n",
    "        \n"
   ]
  }
 ],
 "metadata": {
  "kernelspec": {
   "display_name": "Python 3",
   "language": "python",
   "name": "python3"
  },
  "language_info": {
   "codemirror_mode": {
    "name": "ipython",
    "version": 3
   },
   "file_extension": ".py",
   "mimetype": "text/x-python",
   "name": "python",
   "nbconvert_exporter": "python",
   "pygments_lexer": "ipython3",
   "version": "3.8.3"
  }
 },
 "nbformat": 4,
 "nbformat_minor": 4
}
