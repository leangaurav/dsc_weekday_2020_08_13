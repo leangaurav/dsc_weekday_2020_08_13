{
 "cells": [
  {
   "cell_type": "code",
   "execution_count": 1,
   "metadata": {},
   "outputs": [
    {
     "name": "stdout",
     "output_type": "stream",
     "text": [
      "{1: -1, 2: -2, 3: -3, 4: -4, 5: -5}\n",
      "{1: None, 2: None, 3: None, 4: None, 5: None}\n",
      "['__class__', '__contains__', '__delattr__', '__delitem__', '__dir__', '__doc__', '__eq__', '__format__', '__ge__', '__getattribute__', '__getitem__', '__gt__', '__hash__', '__init__', '__init_subclass__', '__iter__', '__le__', '__len__', '__lt__', '__ne__', '__new__', '__reduce__', '__reduce_ex__', '__repr__', '__reversed__', '__setattr__', '__setitem__', '__sizeof__', '__str__', '__subclasshook__', 'clear', 'copy', 'fromkeys', 'get', 'items', 'keys', 'pop', 'popitem', 'setdefault', 'update', 'values']\n",
      "{1: -1, 2: -2, 3: -3, 4: -4, 5: -5}\n"
     ]
    }
   ],
   "source": [
    "#WAP to create a dictionary of numbers mapped to their negative value for numbers from 1-5.\n",
    "#The dictionary should contain something like this: \n",
    "# Do with both with and without range based for loop. \n",
    "# {1:-1,2:-2,3:-3….} \n",
    "dict_={}\n",
    "for i in range(1,6):\n",
    "    dict_[i]=i*-1\n",
    "print(dict_)\n",
    "\n",
    "dict_2={}\n",
    "'''\n",
    "{1: -1, 2: -2, 3: -3, 4: -4, 5: -5}\n",
    "Type:        dict\n",
    "String form: {}\n",
    "Length:      0\n",
    "Docstring:  \n",
    "dict() -> new empty dictionary\n",
    "dict(mapping) -> new dictionary initialized from a mapping object's\n",
    "    (key, value) pairs\n",
    "dict(iterable) -> new dictionary initialized as if via:\n",
    "    d = {}\n",
    "    for k, v in iterable:\n",
    "        d[k] = v\n",
    "dict(**kwargs) -> new dictionary initialized with the name=value pairs\n",
    "    in the keyword argument list.  For example:  dict(one=1, two=2)\n",
    "'''\n",
    "dict_2={}\n",
    "#print(dir(dict_2))\n",
    "dict_3=dict_2.fromkeys(x for x in range(1,6))\n",
    "#dict_3.update?\n",
    "print(dict_3)\n",
    "print(dir(dict_3))\n",
    "for k in dict_3:\n",
    "    dict_3[k]=-1*k\n",
    "print(dict_3)\n",
    "\n",
    "\n",
    "# print(dict_2)\n",
    "\n",
    "#dict_2.fromkeys(, value=-x)"
   ]
  },
  {
   "cell_type": "code",
   "execution_count": 6,
   "metadata": {},
   "outputs": [
    {
     "name": "stdout",
     "output_type": "stream",
     "text": [
      "-------------------------------------------\n",
      "{1: 2, 2: 3}\n",
      "-------------------------------------------\n",
      "-------------------------------------------\n",
      "{(2, 3), (1, 2)}\n",
      "-------------------------------------------\n",
      "-------------------------------------------\n",
      "{'a': 'A', 'b': 1, 'c': [1234]}\n",
      "-------------------------------------------\n",
      "{1: 2, 2: 3}\n",
      "-------------------------------------------\n",
      "{1: 2, 2: 3}\n",
      "-------------------------------------------\n",
      "{1: 2, 2: 3}\n",
      "-------------------------------------------\n",
      "{1: 2, 2: 3}\n",
      "-------------------------------------------\n"
     ]
    }
   ],
   "source": [
    "#Assignment-7 Q2\n",
    "\n",
    "#Check which of the following declarations will work \n",
    "\n",
    "# d={1=2, 2=3}\n",
    "# print(d) SyntaxError: invalid syntax\n",
    "print('-------------------------------------------')\n",
    "d={1:2 , 2:3}\n",
    "print(d)\n",
    "print('-------------------------------------------')\n",
    "# d={1,2;2,3}\n",
    "# print(d) SyntaxError: invalid syntax\n",
    "print('-------------------------------------------')\n",
    "d={(1,2) , (2,3)}\n",
    "print(d)\n",
    "print('-------------------------------------------')\n",
    "#d={'a':'A','b':1, c:[1234]}\n",
    "#print(d)\n",
    "print('-------------------------------------------')\n",
    "d={'a':'A','b':1, 'c':[1234]}\n",
    "print(d)\n",
    "print('-------------------------------------------')\n",
    "d= dict([(1,2), (2,3)])\n",
    "print(d)\n",
    "print('-------------------------------------------')\n",
    "d = dict (((1,2)  ,  (2,3)))\n",
    "print(d)\n",
    "print('-------------------------------------------')\n",
    "#d= dict((1,2), (2,3)]) SyntaxError: closing parenthesis ']' does not match opening parenthesis '('\n",
    "print(d)\n",
    "print('-------------------------------------------')\n",
    "#d= dict('x'=2, 'y'=3) SyntaxError: expression cannot contain assignment, perhaps you meant \"==\"?\n",
    "print(d)\n",
    "print('-------------------------------------------')\n",
    "#d=dict(1=2, 2=3)\n",
    "#print(d) SyntaxError: expression cannot contain assignment, perhaps you meant \"==\"?\n"
   ]
  },
  {
   "cell_type": "code",
   "execution_count": 14,
   "metadata": {},
   "outputs": [
    {
     "name": "stdout",
     "output_type": "stream",
     "text": [
      "{1: 10.2, 2: 30, 3: 40}\n"
     ]
    }
   ],
   "source": [
    "#print(help(zip))\n",
    "l1=[1,2,3,4]\n",
    "l2=[10.20,30,40]\n",
    "dict_1=dict(zip(l1,l2))\n",
    "print(dict_1)\n",
    "#print(dict_1)"
   ]
  },
  {
   "cell_type": "code",
   "execution_count": 15,
   "metadata": {},
   "outputs": [
    {
     "name": "stdout",
     "output_type": "stream",
     "text": [
      "{'A': 65, 'B': 66, 'C': 67, 'D': 68, 'E': 69, 'F': 70, 'G': 71, 'H': 72, 'I': 73, 'J': 74, 'K': 75, 'L': 76, 'M': 77, 'N': 78, 'O': 79, 'P': 80, 'Q': 81, 'R': 82, 'S': 83, 'T': 84, 'U': 85, 'V': 86, 'W': 87, 'X': 88, 'Y': 89, 'Z': 90}\n"
     ]
    }
   ],
   "source": [
    "#Assignment-7 Q4\n",
    "\n",
    "# Use range based for loop to store all upper case alphabets and their corresponding ASCII\n",
    "# values in the dictionary d.\n",
    "# The result should be d = {‘A’: 65, ‘B’:66,…..}\n",
    "alphabet={}\n",
    "\n",
    "for i in range(65,91):\n",
    "    alphabet[chr(i)]=i\n",
    "    \n",
    "    \n",
    "print(alphabet)"
   ]
  },
  {
   "cell_type": "code",
   "execution_count": 17,
   "metadata": {},
   "outputs": [
    {
     "name": "stdin",
     "output_type": "stream",
     "text": [
      "Enter the single digit:  5\n"
     ]
    },
    {
     "name": "stdout",
     "output_type": "stream",
     "text": [
      "five\n",
      "dict_keys([0, 1, 2, 3, 4, 5, 6, 7, 8, 9])\n",
      "dict_values(['zero', 'one', 'two', 'three', 'four', 'five', 'six', 'seven', 'eight', 'nine'])\n",
      "dict_items([(0, 'zero'), (1, 'one'), (2, 'two'), (3, 'three'), (4, 'four'), (5, 'five'), (6, 'six'), (7, 'seven'), (8, 'eight'), (9, 'nine')])\n"
     ]
    }
   ],
   "source": [
    "# Create a mapping of number to word from 0-9. (0:’zero’……)\n",
    "# • Ask user for a single digit number and print the corresponding word format.\n",
    "# • Print all keys of above dictionary\n",
    "# • Print all Values of a dictionary\n",
    "# • Print all Key and Value pairs of above dictionary\n",
    "\n",
    "n2w={0:'zero', 1:'one' , 2:'two' , 3:\"three\" , 4:\"four\" , 5:'five' , 6:'six' , 7:'seven' , 8:'eight' , 9:'nine'}\n",
    "in_=int(input(\"Enter the single digit: \"))\n",
    "print(n2w[in_])\n",
    "print(n2w.keys())\n",
    "print(n2w.values())\n",
    "print(n2w.items())"
   ]
  },
  {
   "cell_type": "code",
   "execution_count": 18,
   "metadata": {},
   "outputs": [
    {
     "name": "stdout",
     "output_type": "stream",
     "text": [
      "{'A': 'apple', 'B': 'ball', 'C': 'cat', 'D': 'dog'}\n",
      "{'A': 'apple', 'C': 'cat'}\n"
     ]
    }
   ],
   "source": [
    "#Predict Output of: \n",
    "\n",
    "\n",
    "\n",
    "l1=['A', 'B', 'C', 'D']\n",
    "l2=['apple', 'ball', 'cat', 'dog']\n",
    "d1=dict(zip(l1,l2))\n",
    "print(d1)\n",
    "\n",
    "d2=dict(list(d1.items()) [::2])\n",
    "print(d2)"
   ]
  },
  {
   "cell_type": "code",
   "execution_count": 29,
   "metadata": {},
   "outputs": [
    {
     "name": "stdout",
     "output_type": "stream",
     "text": [
      "{'a': 2, 'e': 1, 'i': 1, 'o': 0, 'u': 2}\n"
     ]
    }
   ],
   "source": [
    "# WAP to input a string and count occurrence of each vowel in a string.\n",
    "# Ex: if user enters:\n",
    "#  “Beautiful Day”\n",
    "# Output should Be:\n",
    "#  a:2\n",
    "#  e:1\n",
    "#  I :1\n",
    "#  o:0\n",
    "#  u:2 \n",
    "str_i=\"Beautiful Day\"\n",
    "str_=str_i.lower()\n",
    "#l1=('a','e','i','o','u')\n",
    "#l2=(0,0,0,0,0)\n",
    "#dict_=dict(zip(l1,l2))\n",
    "\n",
    "#print(help(dict))\n",
    "dict_=dict.fromkeys('aeiou',0)\n",
    "\n",
    "for i in str_:\n",
    "    if i in dict_.keys():\n",
    "        dict_[i]+=1\n",
    "print(dict_)"
   ]
  },
  {
   "cell_type": "code",
   "execution_count": 33,
   "metadata": {},
   "outputs": [
    {
     "name": "stdout",
     "output_type": "stream",
     "text": [
      "{'B': 1, 'e': 1, 'a': 2, 'u': 2, 't': 1, 'i': 1, 'f': 1, 'l': 1, ' ': 1, 'D': 1, 'y': 1}\n"
     ]
    }
   ],
   "source": [
    "#Update above program to print frequency of each alphabet present in string. \n",
    "dict_={}\n",
    "#str_=\"Beautiful Day\"\n",
    "\n",
    "for i in str_:\n",
    "    if i in dict_.keys():\n",
    "        dict_[i]+=1\n",
    "    else:\n",
    "        dict_[i]=1\n",
    "print(dict_)"
   ]
  },
  {
   "cell_type": "code",
   "execution_count": 35,
   "metadata": {},
   "outputs": [
    {
     "name": "stdout",
     "output_type": "stream",
     "text": [
      "{'count': 1, 'the': 2, 'words': 1, 'in': 2, 'sentence': 1}\n"
     ]
    }
   ],
   "source": [
    "#Assignment-7 Q9\n",
    "\n",
    "\n",
    "# WAP that takes a string as input and prints frequency of each word.\n",
    "# Ex: if input is “count the words in the sentence in”\n",
    "#  Output:\n",
    "# count: 1\n",
    "# the: 2\n",
    "# words: 1\n",
    "# in: 2\n",
    "# sentence: \n",
    "\n",
    "str_='count the words in the sentence in'\n",
    "splt_words=str_.split()\n",
    "dict_={}\n",
    "\n",
    "for i  in splt_words:\n",
    "    if i in dict_.keys():\n",
    "        dict_[i]+=1\n",
    "    else:\n",
    "        dict_[i]=1\n",
    "\n",
    "print(dict_)"
   ]
  }
 ],
 "metadata": {
  "kernelspec": {
   "display_name": "Python 3",
   "language": "python",
   "name": "python3"
  },
  "language_info": {
   "codemirror_mode": {
    "name": "ipython",
    "version": 3
   },
   "file_extension": ".py",
   "mimetype": "text/x-python",
   "name": "python",
   "nbconvert_exporter": "python",
   "pygments_lexer": "ipython3",
   "version": "3.8.3"
  }
 },
 "nbformat": 4,
 "nbformat_minor": 4
}
