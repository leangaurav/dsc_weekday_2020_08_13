{
 "cells": [
  {
   "cell_type": "code",
   "execution_count": 2,
   "metadata": {},
   "outputs": [
    {
     "name": "stdin",
     "output_type": "stream",
     "text": [
      "Enter the string: Sanjay\n"
     ]
    },
    {
     "name": "stdout",
     "output_type": "stream",
     "text": [
      "S\n",
      "a\n",
      "n\n",
      "j\n",
      "a\n",
      "y\n"
     ]
    }
   ],
   "source": [
    "#WAP to input a string and print individual characters in the string using for loop. \n",
    "str_=input(\"Enter the string:\")\n",
    "for i in str_:\n",
    "    print(i)"
   ]
  },
  {
   "cell_type": "code",
   "execution_count": 5,
   "metadata": {},
   "outputs": [
    {
     "name": "stdin",
     "output_type": "stream",
     "text": [
      "Enter the string: Sanjay\n"
     ]
    },
    {
     "name": "stdout",
     "output_type": "stream",
     "text": [
      "83\n",
      "97\n",
      "110\n",
      "106\n",
      "97\n",
      "121\n"
     ]
    }
   ],
   "source": [
    "#WAP to input a string and print the ASCII value of each character in the string. \n",
    "str_=input(\"Enter the string:\")\n",
    "for i in str_:\n",
    "    print(ord(i))"
   ]
  },
  {
   "cell_type": "code",
   "execution_count": 28,
   "metadata": {},
   "outputs": [
    {
     "name": "stdout",
     "output_type": "stream",
     "text": [
      "4\n"
     ]
    }
   ],
   "source": [
    "# Write a function that takes a list of numbers from user as argument and returns the sum of only\n",
    "# odd numbers (Use only for loop. No need to use if statement).\n",
    "def sum_odd(lst):\n",
    "    sum=0\n",
    "    for x in lst:\n",
    "        if x%2 != 0:\n",
    "            sum+=x\n",
    "    return sum\n",
    "lst=[1,2,3]\n",
    "print(sum_odd(lst))"
   ]
  },
  {
   "cell_type": "code",
   "execution_count": 29,
   "metadata": {},
   "outputs": [
    {
     "name": "stdin",
     "output_type": "stream",
     "text": [
      "Enter the no of elements  2\n",
      "Enter the elements:  1\n",
      "Enter the elements:  2\n"
     ]
    },
    {
     "name": "stdout",
     "output_type": "stream",
     "text": [
      "[1, 2]\n",
      "(1, 2)\n"
     ]
    },
    {
     "name": "stdin",
     "output_type": "stream",
     "text": [
      "enter the number in the tuple 1\n"
     ]
    },
    {
     "name": "stdout",
     "output_type": "stream",
     "text": [
      "index is  0\n"
     ]
    }
   ],
   "source": [
    "#WAP to input a list of numbers and store in a tuple. Now input another number and print the\n",
    "#index of this number in the tuple. [Use index function] \n",
    "l=[]\n",
    "n=int(input('Enter the no of elements '))\n",
    "\n",
    "for i in range(0,n):\n",
    "    num=int(input(\"Enter the elements: \"))\n",
    "    l.append(num)\n",
    " \n",
    "print(l)\n",
    "print(tuple(l))\n",
    "\n",
    "ind=int(input(\"enter the number in the tuple\"))\n",
    "for j in l:\n",
    "    if ind==j:\n",
    "        print('index is ',l.index(ind))\n",
    "    else:\n",
    "        continue"
   ]
  },
  {
   "cell_type": "code",
   "execution_count": 64,
   "metadata": {},
   "outputs": [
    {
     "name": "stdout",
     "output_type": "stream",
     "text": [
      "[3, 7, 6, 1, 8, 8, 8, 3, 8, 4]\n",
      "56\n",
      "Avg is  5.6\n"
     ]
    }
   ],
   "source": [
    "#Create a list of 10 random numbers and then print the list, sum of all numbers and average.. \n",
    "#Also print elements at only even indexes in the list. \n",
    "import numpy\n",
    "lst=list(numpy.random.randint(10,size=10))\n",
    "print(lst)\n",
    "npar=numpy.array(lst)\n",
    "print(npar.sum())\n",
    "print(\"Avg is \",npar.sum()/npar.size)\n"
   ]
  },
  {
   "cell_type": "code",
   "execution_count": 65,
   "metadata": {},
   "outputs": [
    {
     "name": "stdout",
     "output_type": "stream",
     "text": [
      "[0, 1, 2, 3, 4, 5, 6, 7, 8, 9]\n",
      "sum 45\n"
     ]
    }
   ],
   "source": [
    "# WAP to input 10 numbers repeatedly (using range based for loop) and store them in a list. Print\n",
    "# the list and sum of numbers in the list. \n",
    "\n",
    "l=[]\n",
    "s=0\n",
    "for i in range(0,10):\n",
    "    l.append(i)\n",
    "    s=s+i\n",
    "print(l)\n",
    "print('sum',s)"
   ]
  },
  {
   "cell_type": "code",
   "execution_count": 67,
   "metadata": {},
   "outputs": [
    {
     "name": "stdin",
     "output_type": "stream",
     "text": [
      "Enter the number:  7\n"
     ]
    },
    {
     "name": "stdout",
     "output_type": "stream",
     "text": [
      "7 * 1 = 7\n",
      "7 * 2 = 14\n",
      "7 * 3 = 21\n",
      "7 * 4 = 28\n",
      "7 * 5 = 35\n",
      "7 * 6 = 42\n",
      "7 * 7 = 49\n",
      "7 * 8 = 56\n",
      "7 * 9 = 63\n",
      "7 * 10 = 70\n"
     ]
    }
   ],
   "source": [
    "#WAP to input a number and print its multiplication table. Ex: if user enters the number as 7\n",
    "num_=int(input(\"Enter the number: \"))\n",
    "\n",
    "for i in range(1,11):\n",
    "    print(f'{num_} * {i} = {num_*i}')"
   ]
  },
  {
   "cell_type": "code",
   "execution_count": 70,
   "metadata": {},
   "outputs": [
    {
     "name": "stdout",
     "output_type": "stream",
     "text": [
      "no of spaces 11\n"
     ]
    }
   ],
   "source": [
    "# WAP to print total number of spaces in a string (Use for loop to iterate over the string. Don’t use\n",
    "# count function). \n",
    "str_=\"a b c d e  f     g\"\n",
    "count=0\n",
    "for i in str_:\n",
    "    if i.isspace()==True:  \n",
    "       count=count+1\n",
    "print('no of spaces',count)"
   ]
  },
  {
   "cell_type": "code",
   "execution_count": 71,
   "metadata": {},
   "outputs": [
    {
     "name": "stdin",
     "output_type": "stream",
     "text": [
      "enter a string:  asdwqewe\n"
     ]
    },
    {
     "name": "stdout",
     "output_type": "stream",
     "text": [
      "Total vowel count is:  3\n"
     ]
    }
   ],
   "source": [
    "#WAP to input a string and count number of vowels in the string. [Note: it should work for both\n",
    "#capital and small alphabets] \n",
    "\n",
    "s_=input(\"enter a string: \")\n",
    "\n",
    "count=0\n",
    "for i in s_:\n",
    "    if i  in 'aeiouAEIOU':\n",
    "        count+=1\n",
    "print(\"Total vowel count is: \",count)\n"
   ]
  },
  {
   "cell_type": "code",
   "execution_count": 83,
   "metadata": {},
   "outputs": [
    {
     "name": "stdin",
     "output_type": "stream",
     "text": [
      "enter a string:  asdsad\n"
     ]
    },
    {
     "name": "stdout",
     "output_type": "stream",
     "text": [
      "['a', 's', 'd', 's', 'a', 'd']\n",
      " sds d\n"
     ]
    }
   ],
   "source": [
    "# WAP to input a string and replace all vowels with ‘_’.\n",
    "# [Hint: Convert string to list. Remember!! Strings are immutable. Replace in the list and then join]\n",
    "def func(x):\n",
    "    if x in 'aeiouAEIOU':\n",
    "        return ' '\n",
    "    else:\n",
    "        return x\n",
    "\n",
    "s_=input(\"enter a string: \")\n",
    "lst_=list(s_)\n",
    "print(lst_)\n",
    "print(\"\".join(map(func,s_)))"
   ]
  },
  {
   "cell_type": "code",
   "execution_count": 85,
   "metadata": {},
   "outputs": [
    {
     "name": "stdout",
     "output_type": "stream",
     "text": [
      "Num: 0\n",
      "Loop ends\n"
     ]
    }
   ],
   "source": [
    "# Assignment-6.1-Q11.1\n",
    "#find the o/p\n",
    "\n",
    "for num in range(10):\n",
    "    print(\"Num:\",num)\n",
    "    if num%4==0:\n",
    "        break\n",
    "print(\"Loop ends\")\n",
    "\n"
   ]
  },
  {
   "cell_type": "code",
   "execution_count": 86,
   "metadata": {},
   "outputs": [
    {
     "name": "stdout",
     "output_type": "stream",
     "text": [
      "Num: 0\n"
     ]
    },
    {
     "ename": "SystemExit",
     "evalue": "",
     "output_type": "error",
     "traceback": [
      "An exception has occurred, use %tb to see the full traceback.\n",
      "\u001b[1;31mSystemExit\u001b[0m\n"
     ]
    },
    {
     "name": "stderr",
     "output_type": "stream",
     "text": [
      "C:\\Users\\a877318\\Anaconda3\\lib\\site-packages\\IPython\\core\\interactiveshell.py:3351: UserWarning: To exit: use 'exit', 'quit', or Ctrl-D.\n",
      "  warn(\"To exit: use 'exit', 'quit', or Ctrl-D.\", stacklevel=1)\n"
     ]
    }
   ],
   "source": [
    "\n",
    "\n",
    "# Assignment-6.1-Q11.2\n",
    "\n",
    "#find the o/p\n",
    "\n",
    "import sys\n",
    "\n",
    "for num in range(10):\n",
    "    print(\"Num:\",num)\n",
    "    if num%4==0:\n",
    "       sys.exit()\n",
    "print(\"Loop ends\")"
   ]
  },
  {
   "cell_type": "code",
   "execution_count": 90,
   "metadata": {},
   "outputs": [
    {
     "name": "stdout",
     "output_type": "stream",
     "text": [
      "*****\n",
      "*****\n",
      "*****\n",
      "*****\n",
      "*****\n"
     ]
    }
   ],
   "source": [
    "# Assignment-6.1-Q12.1\n",
    "\n",
    "for i1 in range(1,6):\n",
    "    for i2 in range(5):\n",
    "        print(\"*\",end='')\n",
    "    print()"
   ]
  },
  {
   "cell_type": "code",
   "execution_count": 91,
   "metadata": {},
   "outputs": [
    {
     "name": "stdout",
     "output_type": "stream",
     "text": [
      "1\n",
      "22\n",
      "333\n",
      "4444\n",
      "55555\n"
     ]
    }
   ],
   "source": [
    "for i1 in range(1,6):\n",
    "    for i2 in range(i1):\n",
    "       print(i1,end='')\n",
    "    print()"
   ]
  },
  {
   "cell_type": "code",
   "execution_count": 92,
   "metadata": {},
   "outputs": [
    {
     "name": "stdout",
     "output_type": "stream",
     "text": [
      "1\n",
      "22\n",
      "333\n",
      "4444\n",
      "55555\n"
     ]
    }
   ],
   "source": [
    "for i1 in range(1,6):\n",
    "    print(str(i1)*i1)"
   ]
  },
  {
   "cell_type": "code",
   "execution_count": 93,
   "metadata": {},
   "outputs": [
    {
     "name": "stdout",
     "output_type": "stream",
     "text": [
      "**\n",
      "***\n",
      "****\n",
      "*****\n",
      "******\n"
     ]
    }
   ],
   "source": [
    "for i1 in range(1,6):\n",
    "    for i2 in range(i1+1):\n",
    "        print('*',end='')\n",
    "   \n",
    "    print()"
   ]
  }
 ],
 "metadata": {
  "kernelspec": {
   "display_name": "Python 3",
   "language": "python",
   "name": "python3"
  },
  "language_info": {
   "codemirror_mode": {
    "name": "ipython",
    "version": 3
   },
   "file_extension": ".py",
   "mimetype": "text/x-python",
   "name": "python",
   "nbconvert_exporter": "python",
   "pygments_lexer": "ipython3",
   "version": "3.8.3"
  }
 },
 "nbformat": 4,
 "nbformat_minor": 4
}
