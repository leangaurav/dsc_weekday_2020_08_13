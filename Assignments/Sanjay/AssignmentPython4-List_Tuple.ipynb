{
 "cells": [
  {
   "cell_type": "code",
   "execution_count": 5,
   "metadata": {},
   "outputs": [
    {
     "name": "stdout",
     "output_type": "stream",
     "text": [
      "<class 'list'>\n",
      "[1, 2, 3, 4, 5]\n"
     ]
    }
   ],
   "source": [
    "#1.tuple to list\n",
    "t = (1,2,3,4,5)\n",
    "list_t=list(t)\n",
    "print(type(list_t))\n",
    "print(list_t)"
   ]
  },
  {
   "cell_type": "code",
   "execution_count": 22,
   "metadata": {},
   "outputs": [
    {
     "name": "stdout",
     "output_type": "stream",
     "text": [
      "[1, 3, 5, 7, (8, 6, 4, 2)]\n",
      "(8, 6, 4, 2, 1, 3, 5, 7)\n",
      "['__add__', '__class__', '__contains__', '__delattr__', '__delitem__', '__dir__', '__doc__', '__eq__', '__format__', '__ge__', '__getattribute__', '__getitem__', '__gt__', '__hash__', '__iadd__', '__imul__', '__init__', '__init_subclass__', '__iter__', '__le__', '__len__', '__lt__', '__mul__', '__ne__', '__new__', '__reduce__', '__reduce_ex__', '__repr__', '__reversed__', '__rmul__', '__setattr__', '__setitem__', '__sizeof__', '__str__', '__subclasshook__', 'append', 'clear', 'copy', 'count', 'extend', 'index', 'insert', 'pop', 'remove', 'reverse', 'sort']\n",
      "size of a:  28\n",
      "size of list:  <built-in method __sizeof__ of list object at 0x0000028C48CD6040>\n",
      "size of tuple:  <built-in method __sizeof__ of tuple object at 0x0000028C48CC85E0>\n"
     ]
    }
   ],
   "source": [
    "#join tuple and list\n",
    "#list allows Tuple inside\n",
    "L=[1,3,5,7]\n",
    "T=(8,6,4,2)\n",
    "L.append(T)\n",
    "print(L)\n",
    "\n",
    "#\n",
    "LL=[1,3,5,7]\n",
    "TT=(8,6,4,2)\n",
    "LS=TT+tuple(LL)\n",
    "print(LS)\n",
    "\n",
    "print(dir(list))\n",
    "import sys\n",
    "a=1\n",
    "print(\"size of a: \",sys.getsizeof(a))\n",
    "print(\"size of list: \",LL.__sizeof__)\n",
    "print(\"size of tuple: \",TT.__sizeof__)"
   ]
  },
  {
   "cell_type": "code",
   "execution_count": null,
   "metadata": {},
   "outputs": [],
   "source": [
    "#List is mutable\n",
    "#Tuple is immutable"
   ]
  },
  {
   "cell_type": "code",
   "execution_count": 24,
   "metadata": {},
   "outputs": [
    {
     "name": "stdout",
     "output_type": "stream",
     "text": [
      "revers:  ['C', 'A', 'c', 'd', 'a']\n"
     ]
    }
   ],
   "source": [
    "#print list in reverse order\n",
    "l=['a','d','c','A','C']\n",
    "print(\"revers: \",l[::-1])"
   ]
  },
  {
   "cell_type": "code",
   "execution_count": 27,
   "metadata": {},
   "outputs": [
    {
     "name": "stdout",
     "output_type": "stream",
     "text": [
      "Odd index values:  [11, 21, 31, 41]\n"
     ]
    }
   ],
   "source": [
    "#print odd indexes\n",
    "l=[10,11,20,21,30,31,40,41]\n",
    "print(\"Odd index values: \",l[1::2])"
   ]
  },
  {
   "cell_type": "code",
   "execution_count": 39,
   "metadata": {},
   "outputs": [
    {
     "name": "stdout",
     "output_type": "stream",
     "text": [
      "2801538885952 [1, 2]\n",
      "2801539099648 [1, 2]\n",
      "2801539944000 [1, 2]\n",
      "2801538877824 [[1, 2]]\n",
      "2801539135040 [[1, 2]]\n",
      "2801539131264 [1, 2]\n",
      "2801538874432 [1, 2]\n"
     ]
    }
   ],
   "source": [
    "#copy a list\n",
    "#using list function\n",
    "#using slicing\n",
    "l=[1,2]\n",
    "lc1=list(l)#1\n",
    "lc2=l[::1]#2\n",
    "lc3=[]\n",
    "lc3.append(l[:])\n",
    "lc4=[]\n",
    "lc4.append(l)\n",
    "import copy\n",
    "lc5=copy.copy(l)\n",
    "lc6=copy.deepcopy(l)\n",
    "\n",
    "\n",
    "print(id(l),l)\n",
    "print(id(lc1),lc1)\n",
    "print(id(lc2),lc2)\n",
    "print(id(lc3),lc3)\n",
    "print(id(lc4),lc4)\n",
    "print(id(lc5),lc5)\n",
    "print(id(lc6),lc6)"
   ]
  },
  {
   "cell_type": "code",
   "execution_count": null,
   "metadata": {},
   "outputs": [],
   "source": [
    "#predict output\n",
    "a\n",
    "1"
   ]
  },
  {
   "cell_type": "code",
   "execution_count": null,
   "metadata": {},
   "outputs": [],
   "source": [
    "#predict output q.8\n",
    "[1,4,6,8]\n",
    "[2,3,5,7]"
   ]
  },
  {
   "cell_type": "code",
   "execution_count": 45,
   "metadata": {},
   "outputs": [
    {
     "name": "stdout",
     "output_type": "stream",
     "text": [
      "2801540074496 [1, 2, [3, 5], 4]\n",
      "2801539943680 [1, 2, [3, 5], 4]\n",
      "2801539943552 [1, 2, [3, 5], 4]\n",
      "2801540074496 [1, 2, [6, 5], 4] Original list\n",
      "2801539943680 [1, 2, [6, 5], 4] Shallow copy\n",
      "2801539943552 [1, 2, [3, 5], 4] Deep Copy\n"
     ]
    }
   ],
   "source": [
    "#Test shallow and deep copy\n",
    "\n",
    "# importing copy module \n",
    "import copy \n",
    "  \n",
    "# initializing list 1  \n",
    "li1 = [1, 2, [3,5], 4] \n",
    "# using copy for shallow copy   \n",
    "li2 = copy.copy(li1)  \n",
    "# using deepcopy for deepcopy   \n",
    "li3 = copy.deepcopy(li1)  \n",
    "\n",
    "print(id(li1), li1)\n",
    "print(id(li2),li2)\n",
    "print(id(li3),li3)\n",
    "\n",
    "li1[2][0]=6\n",
    "\n",
    "\n",
    "print(id(li1), li1, \"Original list\")\n",
    "print(id(li2),li2, \"Shallow copy\")\n",
    "print(id(li3),li3,\"Deep Copy\")"
   ]
  },
  {
   "cell_type": "code",
   "execution_count": 50,
   "metadata": {},
   "outputs": [
    {
     "name": "stdout",
     "output_type": "stream",
     "text": [
      "<class 'int'>\n",
      "<class 'tuple'>\n",
      "<class 'tuple'>\n",
      "Guarav <class 'str'>\n",
      "('G', 'u', 'a', 'r', 'a', 'v') <class 'tuple'>\n"
     ]
    }
   ],
   "source": [
    "t=(1)\n",
    "print(type(t))\n",
    "t=(1,)\n",
    "print(type(t))\n",
    "t=1,\n",
    "print(type(t))\n",
    "t=('Guarav')\n",
    "print(t,type(t))\n",
    "t=tuple('Guarav')\n",
    "print(t,type(t))"
   ]
  },
  {
   "cell_type": "code",
   "execution_count": 51,
   "metadata": {},
   "outputs": [
    {
     "name": "stdout",
     "output_type": "stream",
     "text": [
      "a\n",
      "5\n"
     ]
    }
   ],
   "source": [
    "#Q7\n",
    "n_list = [\"Happy\", [2,0,1,5]]\n",
    "print(n_list[0][1])\n",
    "print(n_list[1][3])"
   ]
  },
  {
   "cell_type": "code",
   "execution_count": 52,
   "metadata": {},
   "outputs": [
    {
     "name": "stdout",
     "output_type": "stream",
     "text": [
      "[1, 4, 6, 8]\n",
      "[1, 3, 5, 7]\n"
     ]
    }
   ],
   "source": [
    "#Q8\n",
    "odd = [2,4,6,8]\n",
    "odd[0] = 1\n",
    "print(odd)\n",
    "odd[1:4]=[3,5,7]\n",
    "print(odd)"
   ]
  },
  {
   "cell_type": "code",
   "execution_count": 55,
   "metadata": {},
   "outputs": [
    {
     "name": "stdout",
     "output_type": "stream",
     "text": [
      "[1, 3, 5, [7, 9]]\n",
      "[1, 3, 5, [7, 9], 11, 13]\n",
      "[[11, 13], 1, 3, 5, [7, 9], 11, 13]\n"
     ]
    }
   ],
   "source": [
    "#Q9\n",
    "odd=[1,3,5]\n",
    "odd.append([7,9])#add a new sublist here\n",
    "print(odd)\n",
    "odd.extend([11,13])#default exteds from end and same list is extended\n",
    "print(odd)\n",
    "odd.insert(0,[11,13])# inserts from beginning\n",
    "print(odd)"
   ]
  },
  {
   "cell_type": "code",
   "execution_count": 56,
   "metadata": {},
   "outputs": [
    {
     "name": "stdout",
     "output_type": "stream",
     "text": [
      "<class 'tuple'>\n",
      "<class 'int'>\n",
      "<class 'int'>\n",
      "<class 'tuple'>\n"
     ]
    }
   ],
   "source": [
    "#Q10\n",
    "x=1,2,3\n",
    "print(type(x))\n",
    "x=(1)\n",
    "print(type(x))\n",
    "x=1\n",
    "print(type(x))\n",
    "x=1,\n",
    "print(type(x))"
   ]
  },
  {
   "cell_type": "code",
   "execution_count": 62,
   "metadata": {},
   "outputs": [
    {
     "name": "stdout",
     "output_type": "stream",
     "text": [
      "[[1, 2, 3], [4, 5, 6], [7, 8, 9]]\n",
      "[1, 2, 3]\n"
     ]
    }
   ],
   "source": [
    "#Q11 Matrix\n",
    "l1=[]\n",
    "l2=list([1,2,3])\n",
    "l1.append([1,2,3])\n",
    "l1.append([4,5,6])\n",
    "l1.append([7,8,9])\n",
    "\n",
    "print(l1)\n",
    "print(l2)\n"
   ]
  },
  {
   "cell_type": "code",
   "execution_count": 61,
   "metadata": {},
   "outputs": [
    {
     "name": "stdout",
     "output_type": "stream",
     "text": [
      "('s', 't', 'r', 'i', 'n', 'g')\n",
      "('g', 'n', 'i', 'r', 't', 's')\n",
      "('n', 's')\n"
     ]
    }
   ],
   "source": [
    "#Q12\n",
    "t=tuple('string')\n",
    "print(t)\n",
    "print(t[::-1])\n",
    "print(t[::2][::-2])"
   ]
  },
  {
   "cell_type": "code",
   "execution_count": 63,
   "metadata": {},
   "outputs": [
    {
     "name": "stdout",
     "output_type": "stream",
     "text": [
      "(10, 20, 30, 40, 50, 60)\n",
      "True\n",
      "False\n",
      "1\n",
      "3\n"
     ]
    }
   ],
   "source": [
    "#Q13\n",
    "t=tuple([10,20,30,40,50,60])#converts the list in tuple\n",
    "print(t)\n",
    "print(60 in t)\n",
    "print('60' in t)\n",
    "print(t.count(10))\n",
    "print(t.index(40))"
   ]
  },
  {
   "cell_type": "code",
   "execution_count": 65,
   "metadata": {},
   "outputs": [
    {
     "name": "stdin",
     "output_type": "stream",
     "text": [
      "Enter string:  sanjay\n"
     ]
    },
    {
     "name": "stdout",
     "output_type": "stream",
     "text": [
      "Not a Plaindrome\n"
     ]
    }
   ],
   "source": [
    "#Q14 Palindrome\n",
    "inp=tuple(input(\"Enter string: \"))\n",
    "\n",
    "if inp == inp[::-1]:\n",
    "    print(\"Palindrome\")\n",
    "else:\n",
    "    print(\"Not a Palindrome\")"
   ]
  },
  {
   "cell_type": "code",
   "execution_count": 100,
   "metadata": {},
   "outputs": [
    {
     "name": "stdout",
     "output_type": "stream",
     "text": [
      "Value is  ,20,15,10,5\n",
      "Tuple is  ('20', '15', '10', '5')\n"
     ]
    }
   ],
   "source": [
    "#Q15\n",
    "\n",
    "strg=''\n",
    "for i in range(20,0,-5):\n",
    "    strg=strg+\",\"+str(i)\n",
    "print(\"Value is \",strg)\n",
    "t=tuple(strg.split(',')[1:])\n",
    "print(\"Tuple is \",t)"
   ]
  },
  {
   "cell_type": "code",
   "execution_count": 104,
   "metadata": {},
   "outputs": [
    {
     "name": "stdout",
     "output_type": "stream",
     "text": [
      "('S', 'a', 'n', 'j', 'a', 'y')\n",
      "['S', 'a', 'n', 'j', 'a', 'y']\n"
     ]
    }
   ],
   "source": [
    "#Q16 - Convert string to list\n",
    "str='Sanjay'\n",
    "tup=tuple(str)\n",
    "lst=list(str)\n",
    "print(tup)\n",
    "print(lst)"
   ]
  },
  {
   "cell_type": "code",
   "execution_count": 105,
   "metadata": {},
   "outputs": [
    {
     "name": "stdout",
     "output_type": "stream",
     "text": [
      "<class 'list'>\n",
      "<class 'NoneType'>\n",
      "<class 'str'>\n",
      "<class 'bool'>\n"
     ]
    }
   ],
   "source": [
    "#Q17\n",
    "print(type('1 2'.split()))\n",
    "print(type([1,3,2].sort()))\n",
    "print(type('abc'.upper()))\n",
    "print(type(1 in [1,2]))"
   ]
  }
 ],
 "metadata": {
  "kernelspec": {
   "display_name": "Python 3",
   "language": "python",
   "name": "python3"
  },
  "language_info": {
   "codemirror_mode": {
    "name": "ipython",
    "version": 3
   },
   "file_extension": ".py",
   "mimetype": "text/x-python",
   "name": "python",
   "nbconvert_exporter": "python",
   "pygments_lexer": "ipython3",
   "version": "3.8.3"
  }
 },
 "nbformat": 4,
 "nbformat_minor": 4
}
