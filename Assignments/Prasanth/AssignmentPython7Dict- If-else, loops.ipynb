{
 "cells": [
  {
   "cell_type": "code",
   "execution_count": 5,
   "metadata": {},
   "outputs": [
    {
     "name": "stdout",
     "output_type": "stream",
     "text": [
      "{1: -1, 2: -2, 3: -3, 4: -4, 5: -5}\n",
      "{1: -1, 2: -2, 3: -3, 4: -4, 5: -5}\n"
     ]
    }
   ],
   "source": [
    "#1\n",
    "#Method 1\n",
    "from random import randrange\n",
    "d={}\n",
    "for i in range(1,6):\n",
    "    d[i]=-i\n",
    "print(d)\n",
    "\n",
    "#Method 2\n",
    "l1=list(range(1,6))\n",
    "l2=list(range(-1,-6,-1))\n",
    "print(dict(zip(l1,l2)))"
   ]
  },
  {
   "cell_type": "code",
   "execution_count": 7,
   "metadata": {},
   "outputs": [
    {
     "name": "stdout",
     "output_type": "stream",
     "text": [
      "{1: 10, 2: 20, 3: 30, 4: 40}\n"
     ]
    }
   ],
   "source": [
    "#3\n",
    "l1=[1,2,3,4]\n",
    "l2=[10,20,30,40]\n",
    "d=dict(zip(l1,l2))\n",
    "print(d)"
   ]
  },
  {
   "cell_type": "code",
   "execution_count": 9,
   "metadata": {},
   "outputs": [
    {
     "name": "stdout",
     "output_type": "stream",
     "text": [
      "{'A': 65, 'B': 66, 'C': 67, 'D': 68, 'E': 69, 'F': 70, 'G': 71, 'H': 72, 'I': 73, 'J': 74, 'K': 75, 'L': 76, 'M': 77, 'N': 78, 'O': 79, 'P': 80, 'Q': 81, 'R': 82, 'S': 83, 'T': 84, 'U': 85, 'V': 86, 'W': 87, 'X': 88, 'Y': 89, 'Z': 90}\n"
     ]
    }
   ],
   "source": [
    "#4\n",
    "d={}\n",
    "for i in range(65,91):\n",
    "    d[chr(i)]=i\n",
    "print(d)"
   ]
  },
  {
   "cell_type": "code",
   "execution_count": 19,
   "metadata": {},
   "outputs": [
    {
     "name": "stdout",
     "output_type": "stream",
     "text": [
      "Enter a single digit number: 2\n",
      "Two\n",
      "0-Zero\n",
      "1-One\n",
      "2-Two\n",
      "3-Three\n",
      "4-Four\n",
      "5-Five\n",
      "6-Six\n",
      "7-Seven\n",
      "8-Eight\n",
      "9-Nine\n"
     ]
    }
   ],
   "source": [
    "#5\n",
    "numsList=['Zero','One','Two','Three','Four','Five','Six','Seven','Eight','Nine']\n",
    "def get_digit_in_words(n):\n",
    "    \"\"\"Returns the word form of the number 0-9\"\"\"\n",
    "    return d.get(n,None)\n",
    "d=dict(zip(list(range(10)), numsList))\n",
    "\n",
    "inp=int(input(\"Enter a single digit number: \"))\n",
    "print(get_digit_in_words(inp))\n",
    "for i in d:\n",
    "    print(i,end=\"-\")\n",
    "    print(d[i])"
   ]
  },
  {
   "cell_type": "code",
   "execution_count": 30,
   "metadata": {},
   "outputs": [
    {
     "name": "stdout",
     "output_type": "stream",
     "text": [
      "Enter a string: abacus\n",
      "a : 2\n",
      "u : 1\n"
     ]
    }
   ],
   "source": [
    "#7\n",
    "s=input(\"Enter a string: \")\n",
    "d={}\n",
    "for i in s:\n",
    "    temp_i=i.lower()\n",
    "    if temp_i in 'aeiou':\n",
    "        d[temp_i] = 1 + d.get(temp_i,0)\n",
    "for i in d:\n",
    "    print(i,\":\",d[i])"
   ]
  },
  {
   "cell_type": "code",
   "execution_count": 35,
   "metadata": {},
   "outputs": [
    {
     "name": "stdout",
     "output_type": "stream",
     "text": [
      "Enter a string: abacus\n",
      "a : 2\n",
      "b : 1\n",
      "c : 1\n",
      "u : 1\n",
      "s : 1\n"
     ]
    }
   ],
   "source": [
    "#8\n",
    "s=input(\"Enter a string: \")\n",
    "d={}\n",
    "for i in s:\n",
    "    d[i] = 1 + d.get(i,0)\n",
    "for i in d:\n",
    "    print(i,\":\",d[i])"
   ]
  },
  {
   "cell_type": "code",
   "execution_count": 36,
   "metadata": {},
   "outputs": [
    {
     "name": "stdout",
     "output_type": "stream",
     "text": [
      "Enter a statement: count the number the count\n",
      "count : 2\n",
      "the : 2\n",
      "number : 1\n"
     ]
    }
   ],
   "source": [
    "#9\n",
    "s=input(\"Enter a statement: \").split()\n",
    "d={}\n",
    "for i in s:\n",
    "    d[i] = 1 + d.get(i,0)\n",
    "for i in d:\n",
    "    print(i,\":\",d[i])"
   ]
  }
 ],
 "metadata": {
  "kernelspec": {
   "display_name": "Python 3",
   "language": "python",
   "name": "python3"
  },
  "language_info": {
   "codemirror_mode": {
    "name": "ipython",
    "version": 3
   },
   "file_extension": ".py",
   "mimetype": "text/x-python",
   "name": "python",
   "nbconvert_exporter": "python",
   "pygments_lexer": "ipython3",
   "version": "3.8.3"
  }
 },
 "nbformat": 4,
 "nbformat_minor": 4
}
