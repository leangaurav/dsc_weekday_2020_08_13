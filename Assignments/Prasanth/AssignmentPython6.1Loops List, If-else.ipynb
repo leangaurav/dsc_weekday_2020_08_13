{
 "cells": [
  {
   "cell_type": "code",
   "execution_count": 2,
   "metadata": {},
   "outputs": [
    {
     "name": "stdout",
     "output_type": "stream",
     "text": [
      "Enter a string: hai\n",
      "h a i "
     ]
    }
   ],
   "source": [
    "#1\n",
    "n=input(\"Enter a string: \")\n",
    "for i in n:\n",
    "    print(i,end=\" \")"
   ]
  },
  {
   "cell_type": "code",
   "execution_count": 4,
   "metadata": {},
   "outputs": [
    {
     "name": "stdout",
     "output_type": "stream",
     "text": [
      "Enter a string: abcd\n",
      "97 98 99 100 "
     ]
    }
   ],
   "source": [
    "#2\n",
    "n=input(\"Enter a string: \")\n",
    "for i in n:\n",
    "    print(ord(i),end=\" \")"
   ]
  },
  {
   "cell_type": "code",
   "execution_count": 9,
   "metadata": {},
   "outputs": [
    {
     "name": "stdout",
     "output_type": "stream",
     "text": [
      "Enter a list of numbers with spaces in between: 1 2\n",
      "1\n",
      "Help on function get_sum_odd in module __main__:\n",
      "\n",
      "get_sum_odd(l)\n",
      "    Returns the sum of odd numbers present in the list\n",
      "\n",
      "None\n"
     ]
    }
   ],
   "source": [
    "#3\n",
    "def get_sum_odd(l):\n",
    "    \"\"\"Returns the sum of odd numbers present in the list\"\"\"\n",
    "    res=filter(lambda x: x%2==1, l)\n",
    "    return sum(res)\n",
    "n=[int(x) for x in input(\"Enter a list of numbers with spaces in between: \").split()]\n",
    "print(get_sum_odd(n))"
   ]
  },
  {
   "cell_type": "code",
   "execution_count": 17,
   "metadata": {},
   "outputs": [
    {
     "name": "stdout",
     "output_type": "stream",
     "text": [
      "Enter a list of numbers with spaces in between: 1 2 3\n",
      "Enter a number to search in the list: 3\n",
      "Index of 3 is 2\n"
     ]
    }
   ],
   "source": [
    "#4\n",
    "n=tuple(int(x) for x in input(\"Enter a list of numbers with spaces in between: \").split())\n",
    "ind=int(input(\"Enter a number to search in the list: \"))\n",
    "try:\n",
    "    print(f\"Index of {ind} in list is {n.index(ind)}\")\n",
    "except ValueError as err:\n",
    "    print(err)"
   ]
  },
  {
   "cell_type": "code",
   "execution_count": 19,
   "metadata": {},
   "outputs": [
    {
     "name": "stdout",
     "output_type": "stream",
     "text": [
      "[35, 29, 66, 57, 26, 39, 89, 37, 62, 1]\n",
      "441\n",
      "44.1\n",
      "[35, 66, 26, 89, 62]\n"
     ]
    }
   ],
   "source": [
    "#5\n",
    "from random import randrange\n",
    "l=[]\n",
    "for i in range(10):\n",
    "    l.append(randrange(100))\n",
    "print(l)\n",
    "s=sum(l)\n",
    "print(s)\n",
    "print(s/len(l))\n",
    "print(l[::2])"
   ]
  },
  {
   "cell_type": "code",
   "execution_count": 22,
   "metadata": {},
   "outputs": [
    {
     "name": "stdout",
     "output_type": "stream",
     "text": [
      "Enter 1/10 number: 1\n",
      "Enter 2/10 number: 2\n",
      "Enter 3/10 number: 3\n",
      "Enter 4/10 number: 2\n",
      "Enter 5/10 number: 1\n",
      "Enter 6/10 number: 2\n",
      "Enter 7/10 number: 3\n",
      "Enter 8/10 number: 2\n",
      "Enter 9/10 number: 1\n",
      "Enter 10/10 number: 2\n",
      "List:  [1, 2, 3, 2, 1, 2, 3, 2, 1, 2]\n",
      "Sum:  19\n"
     ]
    }
   ],
   "source": [
    "#6\n",
    "l=[]\n",
    "s=0\n",
    "for i in range(10):\n",
    "    l.append(int(input(f\"Enter {i+1}/10 number: \")))\n",
    "    s+=l[i]\n",
    "print(\"List: \",l)\n",
    "print(\"Sum: \",s)"
   ]
  },
  {
   "cell_type": "code",
   "execution_count": 23,
   "metadata": {},
   "outputs": [
    {
     "name": "stdout",
     "output_type": "stream",
     "text": [
      "Enter a number to get its table: 7\n",
      "7 X 1 = 7\n",
      "7 X 2 = 14\n",
      "7 X 3 = 21\n",
      "7 X 4 = 28\n",
      "7 X 5 = 35\n",
      "7 X 6 = 42\n",
      "7 X 7 = 49\n",
      "7 X 8 = 56\n",
      "7 X 9 = 63\n",
      "7 X 10 = 70\n"
     ]
    }
   ],
   "source": [
    "#7\n",
    "n=int(input(\"Enter a number to get its table: \"))\n",
    "for i in range(1,11):\n",
    "    print(f\"{n} X {i} = {n*i}\")"
   ]
  },
  {
   "cell_type": "code",
   "execution_count": 28,
   "metadata": {},
   "outputs": [
    {
     "name": "stdout",
     "output_type": "stream",
     "text": [
      "Enter a statement:  th s s st \n",
      "It has 5 spaces\n"
     ]
    }
   ],
   "source": [
    "#8\n",
    "n=input(\"Enter a statement: \")\n",
    "count=0\n",
    "for i in n:\n",
    "    if i == \" \":\n",
    "        count+=1\n",
    "print(f\"It has {count} spaces\")"
   ]
  },
  {
   "cell_type": "code",
   "execution_count": 32,
   "metadata": {},
   "outputs": [
    {
     "name": "stdout",
     "output_type": "stream",
     "text": [
      "Enter a string: aebcge\n",
      "aebcge has 3 vowels\n"
     ]
    }
   ],
   "source": [
    "#9\n",
    "n=input(\"Enter a string: \")\n",
    "count=0\n",
    "for i in n:\n",
    "    if i.lower() in \"aeiou\":\n",
    "        count+=1\n",
    "print(f\"{n} has {count} vowels\")"
   ]
  },
  {
   "cell_type": "code",
   "execution_count": 34,
   "metadata": {},
   "outputs": [
    {
     "name": "stdout",
     "output_type": "stream",
     "text": [
      "Enter a string: abcdefghijklmnopqrstuvwxyz\n",
      "_bcd_fgh_jklmn_pqrst_vwxyz\n"
     ]
    }
   ],
   "source": [
    "#10\n",
    "n=input(\"Enter a string: \")\n",
    "res=\"\"\n",
    "for i in n:\n",
    "    res=res+(i if i.lower() not in 'aeiou' else '_')\n",
    "print(res)"
   ]
  }
 ],
 "metadata": {
  "kernelspec": {
   "display_name": "Python 3",
   "language": "python",
   "name": "python3"
  },
  "language_info": {
   "codemirror_mode": {
    "name": "ipython",
    "version": 3
   },
   "file_extension": ".py",
   "mimetype": "text/x-python",
   "name": "python",
   "nbconvert_exporter": "python",
   "pygments_lexer": "ipython3",
   "version": "3.8.3"
  }
 },
 "nbformat": 4,
 "nbformat_minor": 4
}
