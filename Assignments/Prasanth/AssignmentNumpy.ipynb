{
 "cells": [
  {
   "cell_type": "code",
   "execution_count": 20,
   "metadata": {},
   "outputs": [],
   "source": [
    "import numpy as np"
   ]
  },
  {
   "cell_type": "code",
   "execution_count": 38,
   "metadata": {},
   "outputs": [
    {
     "name": "stdout",
     "output_type": "stream",
     "text": [
      "[0 0 0 0 0]\n",
      "<class 'numpy.ndarray'>\n",
      "int32\n",
      "5\n",
      "(5,)\n"
     ]
    }
   ],
   "source": [
    "# create a numpy array of 5 zeros.\n",
    "# check datatype, itemsize and shape of above\n",
    "arr=np.array([0]*5)\n",
    "print(arr)\n",
    "print(type(arr))\n",
    "print(arr.dtype)\n",
    "print(arr.size)\n",
    "print(arr.shape)"
   ]
  },
  {
   "cell_type": "code",
   "execution_count": 39,
   "metadata": {},
   "outputs": [
    {
     "name": "stdout",
     "output_type": "stream",
     "text": [
      "[[1 1 1 1]\n",
      " [1 1 1 1]\n",
      " [1 1 1 1]\n",
      " [1 1 1 1]\n",
      " [1 1 1 1]]\n",
      "(5, 4)\n"
     ]
    }
   ],
   "source": [
    "# create a numpy array of ones of shape (5,4)\n",
    "arr=np.ones((5,4),dtype=int)\n",
    "print(arr)\n",
    "print(arr.shape)"
   ]
  },
  {
   "cell_type": "code",
   "execution_count": 40,
   "metadata": {},
   "outputs": [
    {
     "name": "stdout",
     "output_type": "stream",
     "text": [
      "[[ 1  2  3  4  5]\n",
      " [ 6  7  8  9 10]\n",
      " [11 12 13 14 15]\n",
      " [16 17 18 19 20]]\n"
     ]
    }
   ],
   "source": [
    "# create a matrix of shape 4,5 with numbers from 1-20\n",
    "arr=np.arange(1,21).reshape(4,5)\n",
    "print(arr)"
   ]
  },
  {
   "cell_type": "code",
   "execution_count": 41,
   "metadata": {},
   "outputs": [
    {
     "name": "stdout",
     "output_type": "stream",
     "text": [
      "[[ 10  20  30  40  50]\n",
      " [ 60  70  80  90 100]\n",
      " [110 120 130 140 150]\n",
      " [160 170 180 190 200]]\n"
     ]
    }
   ],
   "source": [
    "# multiply all elements of above array by 10\n",
    "print(arr*10)"
   ]
  },
  {
   "cell_type": "code",
   "execution_count": 42,
   "metadata": {},
   "outputs": [
    {
     "name": "stdout",
     "output_type": "stream",
     "text": [
      "[ 1  3  5  7  9 11 13 15 17 19]\n"
     ]
    }
   ],
   "source": [
    "# print odd elements from array\n",
    "odd = arr%2==1\n",
    "print(arr[odd])"
   ]
  },
  {
   "cell_type": "code",
   "execution_count": 43,
   "metadata": {},
   "outputs": [
    {
     "name": "stdout",
     "output_type": "stream",
     "text": [
      "[[  1  -2   3  -4   5]\n",
      " [ -6   7  -8   9 -10]\n",
      " [ 11 -12  13 -14  15]\n",
      " [-16  17 -18  19 -20]]\n"
     ]
    }
   ],
   "source": [
    "# replace all even elements by their negative\n",
    "arr[~odd]=-arr[~odd]\n",
    "print(arr)"
   ]
  },
  {
   "cell_type": "code",
   "execution_count": 44,
   "metadata": {},
   "outputs": [
    {
     "name": "stdout",
     "output_type": "stream",
     "text": [
      "[[ 1.  2.  3.  4.]\n",
      " [ 5.  6.  7.  8.]\n",
      " [ 9. 10. 11. 12.]\n",
      " [13. 14. 15. 16.]]\n"
     ]
    }
   ],
   "source": [
    "# create a linearly spaced matrix M1 of size 4x4 having values in range 1-16\n",
    "m1=np.linspace(1,16,num=16,endpoint=True).reshape(4,4)\n",
    "print(m1)"
   ]
  },
  {
   "cell_type": "code",
   "execution_count": 47,
   "metadata": {},
   "outputs": [
    {
     "name": "stdout",
     "output_type": "stream",
     "text": [
      "[[ 1.  5.  9. 13.]\n",
      " [ 2.  6. 10. 14.]\n",
      " [ 3.  7. 11. 15.]\n",
      " [ 4.  8. 12. 16.]]\n"
     ]
    }
   ],
   "source": [
    "# create a transpose of above matrix call it M2\n",
    "m2=m1.T\n",
    "print(m2)"
   ]
  },
  {
   "cell_type": "code",
   "execution_count": 48,
   "metadata": {},
   "outputs": [
    {
     "name": "stdout",
     "output_type": "stream",
     "text": [
      "[[ 2.  7. 12. 17.]\n",
      " [ 7. 12. 17. 22.]\n",
      " [12. 17. 22. 27.]\n",
      " [17. 22. 27. 32.]]\n"
     ]
    }
   ],
   "source": [
    "# find sum of above matrix M3 = (M1 + M2)\n",
    "m3=m1+m2\n",
    "print(m3)"
   ]
  },
  {
   "cell_type": "code",
   "execution_count": 49,
   "metadata": {},
   "outputs": [
    {
     "name": "stdout",
     "output_type": "stream",
     "text": [
      "[[ True  True  True  True]\n",
      " [ True  True  True  True]\n",
      " [ True  True  True  True]\n",
      " [ True  True  True  True]]\n"
     ]
    }
   ],
   "source": [
    "# Find Transpose of M3, Call it MT1. Check if M3 == MT1\n",
    "mt1=m3.T\n",
    "print(m3==mt1)"
   ]
  },
  {
   "cell_type": "code",
   "execution_count": 51,
   "metadata": {},
   "outputs": [
    {
     "name": "stdout",
     "output_type": "stream",
     "text": [
      "[[ 0. -3. -6. -9.]\n",
      " [ 3.  0. -3. -6.]\n",
      " [ 6.  3.  0. -3.]\n",
      " [ 9.  6.  3.  0.]]\n"
     ]
    }
   ],
   "source": [
    "# find diffrence of M4 = (M1 - M2)\n",
    "m4=m1-m2\n",
    "print(m4)"
   ]
  },
  {
   "cell_type": "code",
   "execution_count": 55,
   "metadata": {},
   "outputs": [
    {
     "name": "stdout",
     "output_type": "stream",
     "text": [
      "[[ True False False False]\n",
      " [False  True False False]\n",
      " [False False  True False]\n",
      " [False False False  True]]\n",
      "[[ True  True  True  True]\n",
      " [ True  True  True  True]\n",
      " [ True  True  True  True]\n",
      " [ True  True  True  True]]\n"
     ]
    }
   ],
   "source": [
    "# Find Transpose of M4, Call it MT2. Check if M4 == MT2. Also check if M4 == -MT2\n",
    "mt2=m4.T\n",
    "print(m4==mt2)\n",
    "print(m4==-mt2)"
   ]
  },
  {
   "cell_type": "code",
   "execution_count": 73,
   "metadata": {},
   "outputs": [
    {
     "name": "stdout",
     "output_type": "stream",
     "text": [
      "[[36 23 31 32]\n",
      " [26 21 21 16]\n",
      " [26 18 37 36]]\n"
     ]
    }
   ],
   "source": [
    "# create a matrix (3x4) R1 of random numbers between 10-40\n",
    "r1=np.random.randint(10,40,size=(3,4))\n",
    "print(r1)"
   ]
  },
  {
   "cell_type": "code",
   "execution_count": 74,
   "metadata": {},
   "outputs": [
    {
     "name": "stdout",
     "output_type": "stream",
     "text": [
      "[26 18 21 16]\n",
      "[36 23 37 36]\n"
     ]
    }
   ],
   "source": [
    "# find min and max column wise\n",
    "print(r1.min(axis=0))\n",
    "print(r1.max(axis=0))"
   ]
  },
  {
   "cell_type": "code",
   "execution_count": 75,
   "metadata": {},
   "outputs": [
    {
     "name": "stdout",
     "output_type": "stream",
     "text": [
      "[122  84 117]\n",
      "[32 16 36]\n",
      "\n",
      "[[ 36  23  31 122]\n",
      " [ 26  21  21  84]\n",
      " [ 26  18  37 117]]\n"
     ]
    }
   ],
   "source": [
    "# replace the last column with sum of all the columns\n",
    "print(r1.sum(axis=1))\n",
    "print(r1[:,3])\n",
    "r1[:,3]=r1.sum(axis=1)\n",
    "print()\n",
    "print(r1)"
   ]
  },
  {
   "cell_type": "code",
   "execution_count": 95,
   "metadata": {},
   "outputs": [
    {
     "name": "stdout",
     "output_type": "stream",
     "text": [
      "[[31 33 33 33]\n",
      " [20 13 25 32]\n",
      " [35 30 30 24]]\n"
     ]
    }
   ],
   "source": [
    "# create a matrix (3x4) R1 of random numbers between 10-40\n",
    "r1=np.random.randint(10,40,size=(3,4))\n",
    "print(r1)"
   ]
  },
  {
   "cell_type": "code",
   "execution_count": 96,
   "metadata": {},
   "outputs": [
    {
     "name": "stdout",
     "output_type": "stream",
     "text": [
      "[[    31     33     33     33]\n",
      " [-99999     13     25 -99999]\n",
      " [    35 -99999 -99999 -99999]]\n"
     ]
    }
   ],
   "source": [
    "# replace all even elements with nan in R1\n",
    "ev=r1%2==0\n",
    "r1[ev]=-99999\n",
    "print(r1)"
   ]
  },
  {
   "cell_type": "code",
   "execution_count": 107,
   "metadata": {},
   "outputs": [
    {
     "name": "stdout",
     "output_type": "stream",
     "text": [
      "5\n"
     ]
    }
   ],
   "source": [
    "# count number of nan in R1\n",
    "n=r1+99999==0\n",
    "print(np.where(n)[0].size)"
   ]
  },
  {
   "cell_type": "code",
   "execution_count": 108,
   "metadata": {},
   "outputs": [
    {
     "name": "stdout",
     "output_type": "stream",
     "text": [
      "[ 1  2  3  4  5  6  7  8  9 11 12 13 14 15 16 17 18 19]\n",
      "[[ 1  2  3]\n",
      " [ 4  5  6]\n",
      " [ 7  8  9]\n",
      " [11 12 13]\n",
      " [14 15 16]\n",
      " [17 18 19]]\n",
      "[[ 1  2  3 11 12 13]\n",
      " [ 4  5  6 14 15 16]\n",
      " [ 7  8  9 17 18 19]]\n"
     ]
    }
   ],
   "source": [
    "a1 = np.arange(1,10).reshape(3,3)\n",
    "a2 = np.arange(11,20).reshape(3,3)\n",
    "a3 = np.append(a1,a2)\n",
    "print(a3)\n",
    "a3 = np.append(a1,a2, axis = 0)\n",
    "print(a3)\n",
    "a3 = np.append(a1,a2, axis = 1)\n",
    "print(a3)"
   ]
  }
 ],
 "metadata": {
  "kernelspec": {
   "display_name": "Python 3",
   "language": "python",
   "name": "python3"
  },
  "language_info": {
   "codemirror_mode": {
    "name": "ipython",
    "version": 3
   },
   "file_extension": ".py",
   "mimetype": "text/x-python",
   "name": "python",
   "nbconvert_exporter": "python",
   "pygments_lexer": "ipython3",
   "version": "3.8.3"
  }
 },
 "nbformat": 4,
 "nbformat_minor": 4
}
