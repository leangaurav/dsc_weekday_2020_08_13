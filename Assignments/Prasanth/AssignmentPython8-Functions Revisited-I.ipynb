{
 "cells": [
  {
   "cell_type": "code",
   "execution_count": 3,
   "metadata": {},
   "outputs": [
    {
     "name": "stdout",
     "output_type": "stream",
     "text": [
      "Enter a number2\n",
      "square of 2 is 4\n",
      "Inverse of 2 is 0.5\n",
      "Negation of 2 is -2\n"
     ]
    }
   ],
   "source": [
    "#1\n",
    "n=int(input(\"Enter a number\"))\n",
    "print(f\"square of {n} is {pow(n,2)}\")\n",
    "print(f\"Inverse of {n} is {1/n}\")\n",
    "print(f\"Negation of {n} is {-n}\")"
   ]
  },
  {
   "cell_type": "code",
   "execution_count": 5,
   "metadata": {},
   "outputs": [
    {
     "name": "stdout",
     "output_type": "stream",
     "text": [
      "5\n"
     ]
    }
   ],
   "source": [
    "#2\n",
    "from functools import reduce\n",
    "l=[2,3,1,5,2,3]\n",
    "print(reduce(lambda x,y: x if x>y else y, l))"
   ]
  },
  {
   "cell_type": "code",
   "execution_count": 2,
   "metadata": {},
   "outputs": [
    {
     "name": "stdout",
     "output_type": "stream",
     "text": [
      "[-1.0, -0.25, -0.0625]\n"
     ]
    }
   ],
   "source": [
    "#3\n",
    "lfuncts=[(lambda x: pow(x,2)), (lambda x: 1/x), (lambda x: -x)]\n",
    "def map_multiple(functs, seq):\n",
    "    res=seq[:]\n",
    "    for i in functs:\n",
    "        res=list(map(i, res))\n",
    "    return res\n",
    "print(map_multiple(lfuncts, [1,2,4]))"
   ]
  },
  {
   "cell_type": "code",
   "execution_count": 11,
   "metadata": {},
   "outputs": [
    {
     "name": "stdout",
     "output_type": "stream",
     "text": [
      "[1, 4, 6, 8]\n"
     ]
    }
   ],
   "source": [
    "#6\n",
    "def is_number(x):\n",
    "    return type(x)==int\n",
    "print(list(filter(is_number, [1,4,\"4\",6,\"str\",8])))"
   ]
  },
  {
   "cell_type": "code",
   "execution_count": 18,
   "metadata": {},
   "outputs": [
    {
     "name": "stdout",
     "output_type": "stream",
     "text": [
      "[1.7779, 1.5239, 1.2191, 0.254]\n"
     ]
    }
   ],
   "source": [
    "#7\n",
    "import math\n",
    "def get_meters(n):\n",
    "    met=0\n",
    "    findex=n.find('ft')\n",
    "    if findex != -1:\n",
    "        met=int(str(n[:findex]))/3.281\n",
    "        findex+=1\n",
    "    iindex=n.find('in')\n",
    "    if iindex != -1:\n",
    "        met+=int(n[findex+1:iindex])/39.37\n",
    "    return round(met,4)\n",
    "m=map(get_meters, ['5ft10in', '5ft', '4ft', '10in'])\n",
    "print(list(m))"
   ]
  },
  {
   "cell_type": "code",
   "execution_count": 19,
   "metadata": {},
   "outputs": [
    {
     "name": "stdout",
     "output_type": "stream",
     "text": [
      "[1, 2, 3, 4]\n"
     ]
    }
   ],
   "source": [
    "#8\n",
    "def my_map(func,seq):\n",
    "    res=seq[:]\n",
    "    for i in range(len(res)):\n",
    "        res[i]=func(res[i])\n",
    "    return res\n",
    "print(my_map(lambda x: x+1, [0,1,2,3]))"
   ]
  }
 ],
 "metadata": {
  "kernelspec": {
   "display_name": "Python 3",
   "language": "python",
   "name": "python3"
  },
  "language_info": {
   "codemirror_mode": {
    "name": "ipython",
    "version": 3
   },
   "file_extension": ".py",
   "mimetype": "text/x-python",
   "name": "python",
   "nbconvert_exporter": "python",
   "pygments_lexer": "ipython3",
   "version": "3.8.3"
  }
 },
 "nbformat": 4,
 "nbformat_minor": 4
}
