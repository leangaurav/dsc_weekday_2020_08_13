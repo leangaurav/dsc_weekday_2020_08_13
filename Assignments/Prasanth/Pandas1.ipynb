{
 "cells": [
  {
   "cell_type": "code",
   "execution_count": 1,
   "metadata": {},
   "outputs": [],
   "source": [
    "# all imports go at the top, even though python is a very open language\n",
    "import pandas as pd\n",
    "import numpy as np"
   ]
  },
  {
   "cell_type": "markdown",
   "metadata": {},
   "source": [
    "## Series"
   ]
  },
  {
   "cell_type": "code",
   "execution_count": 2,
   "metadata": {},
   "outputs": [
    {
     "name": "stdout",
     "output_type": "stream",
     "text": [
      "0    1\n",
      "1    2\n",
      "2    3\n",
      "dtype: int64\n",
      "\n",
      "a    1.0\n",
      "b    2.0\n",
      "c    3.0\n",
      "d    NaN\n",
      "dtype: float64\n"
     ]
    }
   ],
   "source": [
    "# Normal series and series with custom index\n",
    "s1 = pd.Series([1,2,3])\n",
    "s2 = pd.Series([1,2,3, np.nan], index=list(\"abcd\"))\n",
    "print(s1)\n",
    "print()\n",
    "print(s2)"
   ]
  },
  {
   "cell_type": "code",
   "execution_count": 3,
   "metadata": {},
   "outputs": [
    {
     "name": "stdout",
     "output_type": "stream",
     "text": [
      "a    1.0\n",
      "b    2.0\n",
      "c    3.0\n",
      "d    NaN\n",
      "dtype: float64\n"
     ]
    }
   ],
   "source": [
    "# changing dtype: astype\n",
    "s2.astype(\"str\")\n",
    "print(s2)"
   ]
  },
  {
   "cell_type": "code",
   "execution_count": 4,
   "metadata": {},
   "outputs": [
    {
     "name": "stdout",
     "output_type": "stream",
     "text": [
      "(3,) (4,)\n",
      "3 4\n",
      "int64 float64\n",
      "RangeIndex(start=0, stop=3, step=1) Index(['a', 'b', 'c', 'd'], dtype='object')\n",
      "[1 2 3] [ 1.  2.  3. nan]\n",
      "<class 'numpy.ndarray'>\n"
     ]
    }
   ],
   "source": [
    "# shape, size, dtype, index, values\n",
    "print(s1.shape,s2.shape)\n",
    "print(s1.size,s2.size)\n",
    "print(s1.dtype,s2.dtype)\n",
    "print(s1.index,s2.index)\n",
    "print(s1.values,s2.values)\n",
    "print(type(s2.values))"
   ]
  },
  {
   "cell_type": "code",
   "execution_count": 5,
   "metadata": {},
   "outputs": [
    {
     "name": "stdout",
     "output_type": "stream",
     "text": [
      "1 1.0\n",
      "3 3.0\n",
      "[1 2 3] [ 1.  2.  3. nan]\n",
      "6 6.0\n"
     ]
    }
   ],
   "source": [
    "# aggregate operations: min, max, unique, sum etc.\n",
    "print(s1.min(),s2.min())\n",
    "print(s1.max(),s2.max())\n",
    "print(s1.unique(),s2.unique())\n",
    "print(s1.sum(),s2.sum())"
   ]
  },
  {
   "cell_type": "code",
   "execution_count": 6,
   "metadata": {},
   "outputs": [
    {
     "name": "stdout",
     "output_type": "stream",
     "text": [
      "0   NaN\n",
      "1   NaN\n",
      "2   NaN\n",
      "a   NaN\n",
      "b   NaN\n",
      "c   NaN\n",
      "d   NaN\n",
      "dtype: float64\n",
      "0   NaN\n",
      "1   NaN\n",
      "2   NaN\n",
      "a   NaN\n",
      "b   NaN\n",
      "c   NaN\n",
      "d   NaN\n",
      "dtype: float64\n",
      "0   NaN\n",
      "1   NaN\n",
      "2   NaN\n",
      "a   NaN\n",
      "b   NaN\n",
      "c   NaN\n",
      "d   NaN\n",
      "dtype: float64\n"
     ]
    }
   ],
   "source": [
    "print(s1+s2)\n",
    "print(s1-s2)\n",
    "print(s1*s2)"
   ]
  },
  {
   "cell_type": "code",
   "execution_count": 7,
   "metadata": {},
   "outputs": [
    {
     "name": "stdout",
     "output_type": "stream",
     "text": [
      "0    2\n",
      "1    4\n",
      "2    6\n",
      "dtype: int64\n"
     ]
    }
   ],
   "source": [
    "# arithmetic operations(new copy) and broadcast like numpy\n",
    "print(s1.copy()*2)"
   ]
  },
  {
   "cell_type": "code",
   "execution_count": 8,
   "metadata": {},
   "outputs": [
    {
     "name": "stdout",
     "output_type": "stream",
     "text": [
      "0    1\n",
      "1    2\n",
      "2    3\n",
      "dtype: int64\n",
      "\n",
      "1    2\n",
      "dtype: int64\n",
      "\n",
      "1    2\n",
      "2    3\n",
      "dtype: int64\n",
      "\n",
      "2    3\n",
      "dtype: int64\n"
     ]
    }
   ],
   "source": [
    "# indexing and slicing\n",
    "print(s1)\n",
    "\n",
    "print()\n",
    "print(s1[1:2])\n",
    "\n",
    "print()\n",
    "print(s1[[1,2]])\n",
    "\n",
    "print()\n",
    "sc=s1%3==0\n",
    "print(s1[sc])"
   ]
  },
  {
   "cell_type": "code",
   "execution_count": 9,
   "metadata": {},
   "outputs": [
    {
     "name": "stdout",
     "output_type": "stream",
     "text": [
      "0    100\n",
      "1    100\n",
      "2    100\n",
      "dtype: int64\n",
      "0    200\n",
      "1    100\n",
      "2    100\n",
      "dtype: int64\n"
     ]
    }
   ],
   "source": [
    "# result of operations as index\n",
    "sc=s1.copy()\n",
    "sc[0:]=100\n",
    "print(sc)\n",
    "sc[0:1]=200\n",
    "print(sc)"
   ]
  },
  {
   "cell_type": "code",
   "execution_count": 10,
   "metadata": {},
   "outputs": [
    {
     "name": "stdout",
     "output_type": "stream",
     "text": [
      "3    1\n",
      "2    1\n",
      "1    1\n",
      "dtype: int64\n"
     ]
    }
   ],
   "source": [
    "# frequency : value_counts\n",
    "print(s1.value_counts())"
   ]
  },
  {
   "cell_type": "markdown",
   "metadata": {},
   "source": [
    "## DataFrame"
   ]
  },
  {
   "cell_type": "code",
   "execution_count": 45,
   "metadata": {},
   "outputs": [
    {
     "name": "stdout",
     "output_type": "stream",
     "text": [
      "        Name  Age  Gender\n",
      "0     Gaurav  0.0     0.0\n",
      "1  Abhishek1  1.0     0.0\n",
      "2    Krishna  2.0     0.0\n",
      "3  Abhishek2  2.0     0.0\n",
      "4   Harshita  1.0     1.0\n",
      "5       Joey  2.0     1.0\n",
      "6     Shweta  3.0     1.0\n",
      "7       na-1  1.0     NaN\n",
      "8       na-2  NaN     0.0\n",
      "9        NaN  2.0     0.0\n",
      "\n",
      "         Name  Number\n",
      "0      Gaurav       1\n",
      "11   Abhiskek       2\n",
      "2     Krishna       3\n",
      "3   Abhishek2       4\n"
     ]
    }
   ],
   "source": [
    "# dataframe from dict or list of rows\n",
    "df1 = pd.DataFrame(\n",
    "    {\n",
    "        \"Name\":   [\"Gaurav\", \"Abhishek1\", \"Krishna\", \"Abhishek2\", \"Harshita\", \"Joey\", \"Shweta\", \"na-1\" , \"na-2\"  , np.nan],\n",
    "        \"Age\":    [ 0      , 1          , 2        , 2          , 1         , 2     , 3       , 1      ,  np.nan , 2     ],\n",
    "        \"Gender\": [ 0      , 0          , 0        , 0          , 1         , 1     , 1       , np.nan ,  0      , 0     ]\n",
    "    }\n",
    ")\n",
    "df2 = pd.DataFrame([(\"Gaurav\",1), (\"Abhiskek\",2), (\"Krishna\",3), (\"Abhishek2\",4)],\n",
    "                    index=[0,11,2,3], \n",
    "                    columns=[\"Name\", \"Number\"])\n",
    "print(df1)\n",
    "print()\n",
    "print(df2)"
   ]
  },
  {
   "cell_type": "code",
   "execution_count": 46,
   "metadata": {},
   "outputs": [
    {
     "name": "stdout",
     "output_type": "stream",
     "text": [
      "(10, 3) (4, 2)\n",
      "30 8\n",
      "Name       object\n",
      "Age       float64\n",
      "Gender    float64\n",
      "dtype: object Name      object\n",
      "Number     int64\n",
      "dtype: object\n",
      "RangeIndex(start=0, stop=10, step=1) Int64Index([0, 11, 2, 3], dtype='int64')\n",
      "Index(['Name', 'Age', 'Gender'], dtype='object') Index(['Name', 'Number'], dtype='object')\n",
      "[ 0.  1.  2.  3. nan]\n",
      "            0         11       2          3 \n",
      "Name    Gaurav  Abhiskek  Krishna  Abhishek2\n",
      "Number       1         2        3          4\n"
     ]
    }
   ],
   "source": [
    "# shape, size, dtype, index, columns, unique, T\n",
    "print(df1.shape,df2.shape)\n",
    "print(df1.size,df2.size)\n",
    "print(df1.dtypes,df2.dtypes)\n",
    "print(df1.index,df2.index)\n",
    "print(df1.columns,df2.columns)\n",
    "print(df1.Age.unique())\n",
    "print(df2.T)"
   ]
  },
  {
   "cell_type": "code",
   "execution_count": 62,
   "metadata": {},
   "outputs": [
    {
     "data": {
      "text/html": [
       "<div>\n",
       "<style scoped>\n",
       "    .dataframe tbody tr th:only-of-type {\n",
       "        vertical-align: middle;\n",
       "    }\n",
       "\n",
       "    .dataframe tbody tr th {\n",
       "        vertical-align: top;\n",
       "    }\n",
       "\n",
       "    .dataframe thead th {\n",
       "        text-align: right;\n",
       "    }\n",
       "</style>\n",
       "<table border=\"1\" class=\"dataframe\">\n",
       "  <thead>\n",
       "    <tr style=\"text-align: right;\">\n",
       "      <th></th>\n",
       "      <th>Employee</th>\n",
       "      <th>EmpId</th>\n",
       "    </tr>\n",
       "  </thead>\n",
       "  <tbody>\n",
       "    <tr>\n",
       "      <th>a</th>\n",
       "      <td>Gaurav</td>\n",
       "      <td>1</td>\n",
       "    </tr>\n",
       "    <tr>\n",
       "      <th>b</th>\n",
       "      <td>Abhiskek</td>\n",
       "      <td>2</td>\n",
       "    </tr>\n",
       "    <tr>\n",
       "      <th>c</th>\n",
       "      <td>Krishna</td>\n",
       "      <td>3</td>\n",
       "    </tr>\n",
       "    <tr>\n",
       "      <th>d</th>\n",
       "      <td>Abhishek2</td>\n",
       "      <td>4</td>\n",
       "    </tr>\n",
       "  </tbody>\n",
       "</table>\n",
       "</div>"
      ],
      "text/plain": [
       "    Employee  EmpId\n",
       "a     Gaurav      1\n",
       "b   Abhiskek      2\n",
       "c    Krishna      3\n",
       "d  Abhishek2      4"
      ]
     },
     "execution_count": 62,
     "metadata": {},
     "output_type": "execute_result"
    }
   ],
   "source": [
    "# Rename index and columns on df2.\n",
    "# Inplace vs normal operation\n",
    "df2.rename(columns={\"Name\":'Employee',\"Number\":'EmpId'},inplace=True)\n",
    "df2.rename(index={0:'a', 11:'b', 2:'c', 3:'d'},inplace=True)\n",
    "df2"
   ]
  },
  {
   "cell_type": "code",
   "execution_count": 75,
   "metadata": {},
   "outputs": [
    {
     "name": "stdout",
     "output_type": "stream",
     "text": [
      "a       Gaurav\n",
      "b     Abhiskek\n",
      "c      Krishna\n",
      "d    Abhishek2\n",
      "Name: Employee, dtype: object\n",
      "a       Gaurav\n",
      "b     Abhiskek\n",
      "c      Krishna\n",
      "d    Abhishek2\n",
      "Name: Employee, dtype: object\n"
     ]
    }
   ],
   "source": [
    "# Indexing columns directly and via index.\n",
    "print(df2[\"Employee\"])\n",
    "print(df2.Employee)"
   ]
  },
  {
   "cell_type": "code",
   "execution_count": 76,
   "metadata": {},
   "outputs": [
    {
     "name": "stdout",
     "output_type": "stream",
     "text": [
      "<class 'pandas.core.series.Series'>\n"
     ]
    }
   ],
   "source": [
    "# Series in a DataFrame\n",
    "print(type(df2.Employee))"
   ]
  },
  {
   "cell_type": "code",
   "execution_count": 81,
   "metadata": {},
   "outputs": [
    {
     "name": "stdout",
     "output_type": "stream",
     "text": [
      "            Age    Gender\n",
      "count  9.000000  9.000000\n",
      "mean   1.555556  0.333333\n",
      "std    0.881917  0.500000\n",
      "min    0.000000  0.000000\n",
      "25%    1.000000  0.000000\n",
      "50%    2.000000  0.000000\n",
      "75%    2.000000  1.000000\n",
      "max    3.000000  1.000000\n",
      "\n",
      "        Name  Age  Gender\n",
      "0     Gaurav  0.0     0.0\n",
      "1  Abhishek1  1.0     0.0\n",
      "2    Krishna  2.0     0.0\n",
      "3  Abhishek2  2.0     0.0\n",
      "4   Harshita  1.0     1.0\n",
      "\n",
      "     Name  Age  Gender\n",
      "5    Joey  2.0     1.0\n",
      "6  Shweta  3.0     1.0\n",
      "7    na-1  1.0     NaN\n",
      "8    na-2  NaN     0.0\n",
      "9     NaN  2.0     0.0\n"
     ]
    }
   ],
   "source": [
    "# describe, top/bottom rows of data\n",
    "print(df1.describe())\n",
    "\n",
    "print()\n",
    "print(df1.head())\n",
    "\n",
    "print()\n",
    "print(df1.tail())"
   ]
  },
  {
   "cell_type": "code",
   "execution_count": 106,
   "metadata": {},
   "outputs": [
    {
     "name": "stdout",
     "output_type": "stream",
     "text": [
      "0    0.0\n",
      "1    1.0\n",
      "2    2.0\n",
      "3    2.0\n",
      "4    1.0\n",
      "5    2.0\n",
      "6    3.0\n",
      "7    1.0\n",
      "8    NaN\n",
      "9    2.0\n",
      "Name: Age, dtype: float64\n",
      "\n",
      "   Employee  EmpId\n",
      "b  Abhiskek      2\n",
      "\n",
      "        Name  Gender\n",
      "3  Abhishek2     0.0\n",
      "4   Harshita     1.0\n",
      "5       Joey     1.0\n",
      "6     Shweta     1.0\n",
      "7       na-1     NaN\n",
      "8       na-2     0.0\n",
      "9        NaN     0.0\n",
      "\n",
      "  Employee  EmpId\n",
      "a   Gaurav      1\n"
     ]
    }
   ],
   "source": [
    "# indexing and slicing\n",
    "# loc, iloc [rows, cols]\n",
    "print(df1.loc[:,\"Age\"])\n",
    "print()\n",
    "print(df2.loc['b':'b'])\n",
    "print()\n",
    "print(df1.iloc[3:,[0,2]])\n",
    "print()\n",
    "print(df2.iloc[:1,[0,1]])"
   ]
  },
  {
   "cell_type": "code",
   "execution_count": 18,
   "metadata": {},
   "outputs": [
    {
     "name": "stdout",
     "output_type": "stream",
     "text": [
      "        Name  Age  Gender\n",
      "0     Gaurav  0.0     0.0\n",
      "1  Abhishek1  1.0     0.0\n",
      "2    Krishna  2.0     0.0\n",
      "3  Abhishek2  2.0     0.0\n",
      "4   Harshita  1.0     1.0\n",
      "5       Joey  2.0     1.0\n",
      "6     Shweta  3.0     1.0\n",
      "7       na-1  1.0     NaN\n",
      "8       na-2  NaN     0.0\n",
      "9        NaN  2.0     0.0\n",
      "        Name  Age  Gender\n",
      "1  Abhishek1  1.0     0.0\n",
      "['__call__', '__class__', '__delattr__', '__dir__', '__doc__', '__eq__', '__format__', '__func__', '__ge__', '__get__', '__getattribute__', '__gt__', '__hash__', '__init__', '__init_subclass__', '__le__', '__lt__', '__ne__', '__new__', '__reduce__', '__reduce_ex__', '__repr__', '__self__', '__setattr__', '__sizeof__', '__str__', '__subclasshook__', '__wrapped__']\n",
      "        Name  Age  Gender  NameLen\n",
      "0     Gaurav  0.0     0.0      6.0\n",
      "1  Abhishek1  1.0     0.0      9.0\n",
      "2    Krishna  2.0     0.0      7.0\n",
      "3  Abhishek2  2.0     0.0      9.0\n",
      "4   Harshita  1.0     1.0      8.0\n",
      "5       Joey  2.0     1.0      4.0\n",
      "6     Shweta  3.0     1.0      6.0\n",
      "7       na-1  1.0     NaN      4.0\n",
      "8       na-2  NaN     0.0      4.0\n",
      "9        NaN  2.0     0.0      NaN\n"
     ]
    }
   ],
   "source": [
    "print(df1)\n",
    "print(df1.loc[1:1])\n",
    "df1[\"NameLen\"]=df1.Name.str.len()\n",
    "print(dir(df1.reindex))\n",
    "df1.reindex(columns=[\"Name\",\"Age\"])\n",
    "print(df1)"
   ]
  },
  {
   "cell_type": "code",
   "execution_count": 19,
   "metadata": {},
   "outputs": [
    {
     "name": "stdout",
     "output_type": "stream",
     "text": [
      "        Name  Age  Gender  NameLen\n",
      "0     Gaurav  0.0     0.0      6.0\n",
      "1  Abhishek1  1.0     0.0      9.0\n",
      "2    Krishna  2.0     0.0      7.0\n",
      "3  Abhishek2  2.0     0.0      9.0\n",
      "4   Harshita  1.0     1.0      8.0\n",
      "5       Joey  2.0     1.0      4.0\n",
      "6     Shweta  3.0     1.0      6.0\n",
      "7       na-1  1.0     NaN      4.0\n",
      "8       na-2  NaN     0.0      4.0\n",
      "9        NaN  2.0     0.0      NaN\n",
      "\n",
      "9.0\n",
      "4.0\n",
      "Name       9\n",
      "Age        9\n",
      "Gender     9\n",
      "NameLen    9\n",
      "dtype: int64\n"
     ]
    }
   ],
   "source": [
    "# aggregate operations (with and without axis : row-1, col-0)\n",
    "# min, max, count, ...\n",
    "print(df1)\n",
    "print()\n",
    "print(df1.NameLen.max())\n",
    "print(df1.NameLen.min())\n",
    "print(df1.count())"
   ]
  },
  {
   "cell_type": "code",
   "execution_count": 107,
   "metadata": {},
   "outputs": [
    {
     "data": {
      "text/plain": [
       "a    2\n",
       "b    4\n",
       "c    6\n",
       "d    8\n",
       "Name: EmpId, dtype: int64"
      ]
     },
     "execution_count": 107,
     "metadata": {},
     "output_type": "execute_result"
    }
   ],
   "source": [
    "# arithmetic operations\n",
    "df2.EmpId*2"
   ]
  },
  {
   "cell_type": "code",
   "execution_count": 121,
   "metadata": {},
   "outputs": [
    {
     "name": "stdout",
     "output_type": "stream",
     "text": [
      "0    False\n",
      "1    False\n",
      "2    False\n",
      "3    False\n",
      "4    False\n",
      "5    False\n",
      "6    False\n",
      "7    False\n",
      "8    False\n",
      "9     True\n",
      "Name: Name, dtype: bool\n",
      "\n",
      "0       Gaurav\n",
      "1    Abhishek1\n",
      "2      Krishna\n",
      "3    Abhishek2\n",
      "4     Harshita\n",
      "5         Joey\n",
      "6       Shweta\n",
      "7         na-1\n",
      "8         na-2\n",
      "9            0\n",
      "Name: Name, dtype: object\n",
      "\n",
      "        Name  Age  Gender\n",
      "0     Gaurav  0.0     0.0\n",
      "1  Abhishek1  1.0     0.0\n",
      "2    Krishna  2.0     0.0\n",
      "3  Abhishek2  2.0     0.0\n",
      "4   Harshita  1.0     1.0\n",
      "5       Joey  2.0     1.0\n",
      "6     Shweta  3.0     1.0\n",
      "7       na-1  1.0     NaN\n",
      "8       na-2  NaN     0.0\n",
      "9        NaN  2.0     0.0\n"
     ]
    }
   ],
   "source": [
    "# Na Values: isna, fillna, dropna\n",
    "print(df1.Name.isna())\n",
    "print()\n",
    "print(df1.Name.fillna(0))\n",
    "print()\n",
    "print(df1.dropna(thresh=2))"
   ]
  },
  {
   "cell_type": "code",
   "execution_count": 127,
   "metadata": {},
   "outputs": [
    {
     "name": "stdout",
     "output_type": "stream",
     "text": [
      "Name       True\n",
      "Age       False\n",
      "Gender    False\n",
      "dtype: bool\n",
      "\n",
      "Name      True\n",
      "Age       True\n",
      "Gender    True\n",
      "dtype: bool\n"
     ]
    }
   ],
   "source": [
    "# any, all\n",
    "print(df1.all())\n",
    "print()\n",
    "print(df1.any())"
   ]
  },
  {
   "cell_type": "code",
   "execution_count": 132,
   "metadata": {},
   "outputs": [
    {
     "name": "stdout",
     "output_type": "stream",
     "text": [
      "        Name  Age  Gender\n",
      "0     Gaurav  0.0     0.0\n",
      "1  Abhishek1  1.0     0.0\n",
      "4   Harshita  1.0     1.0\n",
      "7       na-1  1.0     NaN\n",
      "2    Krishna  2.0     0.0\n",
      "3  Abhishek2  2.0     0.0\n",
      "9        NaN  2.0     0.0\n",
      "5       Joey  2.0     1.0\n",
      "6     Shweta  3.0     1.0\n",
      "8       na-2  NaN     0.0\n",
      "        Name  Age  Gender\n",
      "9        NaN  2.0     0.0\n",
      "8       na-2  NaN     0.0\n",
      "7       na-1  1.0     NaN\n",
      "6     Shweta  3.0     1.0\n",
      "5       Joey  2.0     1.0\n",
      "4   Harshita  1.0     1.0\n",
      "3  Abhishek2  2.0     0.0\n",
      "2    Krishna  2.0     0.0\n",
      "1  Abhishek1  1.0     0.0\n",
      "0     Gaurav  0.0     0.0\n"
     ]
    }
   ],
   "source": [
    "# ordering data, sort_values\n",
    "print(df1.sort_values(by=[\"Age\",\"Gender\"]))\n",
    "print(df1.sort_index(ascending=False))"
   ]
  },
  {
   "cell_type": "code",
   "execution_count": 138,
   "metadata": {},
   "outputs": [
    {
     "name": "stdout",
     "output_type": "stream",
     "text": [
      "    0   1   2   3\n",
      "0  17  13  13  15\n",
      "1  16  17  19  18\n",
      "2  14  16  14  17\n",
      "3  10  14  18  19\n",
      "4  11  19  16  14\n",
      "0    68\n",
      "1    79\n",
      "2    80\n",
      "3    83\n",
      "dtype: int64\n",
      "\n",
      "     0    1    2    3\n",
      "0  289  169  169  225\n",
      "1  256  289  361  324\n",
      "2  196  256  196  289\n",
      "3  100  196  324  361\n",
      "4  121  361  256  196\n"
     ]
    }
   ],
   "source": [
    "# row / column wise operation: apply\n",
    "tmp = pd.DataFrame(np.random.randint(10,20,20).reshape(5,4))\n",
    "print(tmp)\n",
    "print(tmp.apply(np.sum))\n",
    "print()\n",
    "print(tmp.applymap(lambda x:x**2))"
   ]
  },
  {
   "cell_type": "code",
   "execution_count": 144,
   "metadata": {},
   "outputs": [
    {
     "name": "stdout",
     "output_type": "stream",
     "text": [
      "    Employee  EmpId\n",
      "a     Gaurav      1\n",
      "b   Abhiskek      2\n",
      "c    Krishna      3\n",
      "d  Abhishek2      4\n",
      "\n",
      "a       G=ur=v\n",
      "b     Abhiskek\n",
      "c      Krishn=\n",
      "d    Abhishek2\n",
      "Name: Employee, dtype: object\n",
      "\n",
      "a       Gaurav\n",
      "b     Abhiskek\n",
      "c      Krishna\n",
      "d    Abhishek2\n",
      "Name: Employee, dtype: object\n"
     ]
    }
   ],
   "source": [
    "# str submodule (replace etc)\n",
    "print(df2)\n",
    "print()\n",
    "print(df2.Employee.str.replace(\"a\",'='))\n",
    "print()\n",
    "print(df2.Employee.replace(\"a\",'-'))"
   ]
  },
  {
   "cell_type": "code",
   "execution_count": 150,
   "metadata": {},
   "outputs": [
    {
     "name": "stdout",
     "output_type": "stream",
     "text": [
      "    0   1   2   3\n",
      "0  17  13  13  15\n",
      "1  16  17  19  18\n",
      "2  14  16  14  17\n",
      "3  10  14  18  19\n",
      "4  11  19  16  14\n"
     ]
    }
   ],
   "source": [
    "# load and save data\n",
    "tmp.to_csv('csv_files/tmp.csv')\n",
    "t=pd.read_csv('csv_files/tmp.csv',index_col=0)\n",
    "print(t)"
   ]
  },
  {
   "cell_type": "code",
   "execution_count": 155,
   "metadata": {},
   "outputs": [
    {
     "data": {
      "text/html": [
       "<div>\n",
       "<style scoped>\n",
       "    .dataframe tbody tr th:only-of-type {\n",
       "        vertical-align: middle;\n",
       "    }\n",
       "\n",
       "    .dataframe tbody tr th {\n",
       "        vertical-align: top;\n",
       "    }\n",
       "\n",
       "    .dataframe thead th {\n",
       "        text-align: right;\n",
       "    }\n",
       "</style>\n",
       "<table border=\"1\" class=\"dataframe\">\n",
       "  <thead>\n",
       "    <tr style=\"text-align: right;\">\n",
       "      <th></th>\n",
       "      <th>Name</th>\n",
       "      <th>Age</th>\n",
       "    </tr>\n",
       "    <tr>\n",
       "      <th>Gender</th>\n",
       "      <th></th>\n",
       "      <th></th>\n",
       "    </tr>\n",
       "  </thead>\n",
       "  <tbody>\n",
       "    <tr>\n",
       "      <th>0.0</th>\n",
       "      <td>5</td>\n",
       "      <td>5</td>\n",
       "    </tr>\n",
       "    <tr>\n",
       "      <th>1.0</th>\n",
       "      <td>3</td>\n",
       "      <td>3</td>\n",
       "    </tr>\n",
       "  </tbody>\n",
       "</table>\n",
       "</div>"
      ],
      "text/plain": [
       "        Name  Age\n",
       "Gender           \n",
       "0.0        5    5\n",
       "1.0        3    3"
      ]
     },
     "execution_count": 155,
     "metadata": {},
     "output_type": "execute_result"
    }
   ],
   "source": [
    "# groups: groupby\n",
    "df1.groupby(df1.Gender).count()"
   ]
  },
  {
   "cell_type": "code",
   "execution_count": 158,
   "metadata": {},
   "outputs": [
    {
     "data": {
      "text/plain": [
       "{0.0: Int64Index([0, 1, 2, 3, 8, 9], dtype='int64'),\n",
       " 1.0: Int64Index([4, 5, 6], dtype='int64')}"
      ]
     },
     "execution_count": 158,
     "metadata": {},
     "output_type": "execute_result"
    }
   ],
   "source": [
    "# groups and aggregates\n",
    "df1.groupby(\"Gender\").groups"
   ]
  }
 ],
 "metadata": {
  "kernelspec": {
   "display_name": "Python 3",
   "language": "python",
   "name": "python3"
  },
  "language_info": {
   "codemirror_mode": {
    "name": "ipython",
    "version": 3
   },
   "file_extension": ".py",
   "mimetype": "text/x-python",
   "name": "python",
   "nbconvert_exporter": "python",
   "pygments_lexer": "ipython3",
   "version": "3.8.3"
  }
 },
 "nbformat": 4,
 "nbformat_minor": 2
}
