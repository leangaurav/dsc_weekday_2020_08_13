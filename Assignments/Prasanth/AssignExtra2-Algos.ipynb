{
 "cells": [
  {
   "cell_type": "code",
   "execution_count": 3,
   "metadata": {},
   "outputs": [
    {
     "name": "stdout",
     "output_type": "stream",
     "text": [
      "[4, 3, 2, 1]\n"
     ]
    }
   ],
   "source": [
    "#1\n",
    "def reverse_list(ls):\n",
    "    \"\"\"Reverses the list\"\"\"\n",
    "    l=len(ls)\n",
    "    midIndex=l//2\n",
    "    for i in range(midIndex):\n",
    "        ls[i],ls[l-1-i]=ls[l-1-i],ls[i]\n",
    "    return ls\n",
    "print(reverse_list([1,2,3,4]))"
   ]
  },
  {
   "cell_type": "code",
   "execution_count": 8,
   "metadata": {},
   "outputs": [
    {
     "name": "stdout",
     "output_type": "stream",
     "text": [
      "(3, 4)\n"
     ]
    }
   ],
   "source": [
    "#2\n",
    "def count_even_odd(ls):\n",
    "    \"\"\"Return the count of even and odd number in the list\"\"\"\n",
    "    o,e=0,0\n",
    "    for i in ls:\n",
    "        if i%2==1:\n",
    "            o+=1\n",
    "        else:\n",
    "            e+=1\n",
    "    return e,o\n",
    "print(count_even_odd([1,2,3,4,5,6,7]))"
   ]
  },
  {
   "cell_type": "code",
   "execution_count": 9,
   "metadata": {},
   "outputs": [
    {
     "name": "stdout",
     "output_type": "stream",
     "text": [
      "44\n"
     ]
    }
   ],
   "source": [
    "#3\n",
    "def maximum(ls):\n",
    "    \"\"\"Returns the max value in the iterable\"\"\"\n",
    "    if len(ls) > 0:\n",
    "        mx=ls[0]\n",
    "        for i in ls:\n",
    "            if i > mx:\n",
    "                mx=i\n",
    "        return mx\n",
    "    else:\n",
    "        return None\n",
    "print(maximum([1,4,-4,8,10,44]))"
   ]
  },
  {
   "cell_type": "code",
   "execution_count": 14,
   "metadata": {},
   "outputs": [
    {
     "name": "stdout",
     "output_type": "stream",
     "text": [
      "11\n"
     ]
    }
   ],
   "source": [
    "#4\n",
    "def second_maximum(ls):\n",
    "    \"\"\"Returns the second max value in the iterable\"\"\"\n",
    "    if len(ls) > 0:\n",
    "        mx1,mx2=None,None\n",
    "        for i in ls:\n",
    "            if mx1 == None:\n",
    "                mx1=i\n",
    "            elif mx2 == None:\n",
    "                if i > mx1:\n",
    "                    mx2=mx1\n",
    "                    mx1=i\n",
    "                elif i < mx1:\n",
    "                    mx2=i\n",
    "            elif i > mx1:\n",
    "                mx2=mx1\n",
    "                mx1=i\n",
    "            elif i > mx2:\n",
    "                mx2=i\n",
    "        return mx2\n",
    "    else:\n",
    "        return None\n",
    "print(maximum([11,4,4,8,10,44]))"
   ]
  },
  {
   "cell_type": "code",
   "execution_count": 19,
   "metadata": {},
   "outputs": [
    {
     "name": "stdout",
     "output_type": "stream",
     "text": [
      "2.5\n"
     ]
    }
   ],
   "source": [
    "#5\n",
    "def mean(ls):\n",
    "    \"\"\"Returns the Mean of the iterable\"\"\"\n",
    "    s=0\n",
    "    for i in ls:\n",
    "        s+=i\n",
    "    return 0 if s == 0 else s/len(ls)\n",
    "print(mean([1,2,3,4]))"
   ]
  },
  {
   "cell_type": "code",
   "execution_count": 22,
   "metadata": {},
   "outputs": [
    {
     "name": "stdout",
     "output_type": "stream",
     "text": [
      "[2, 3, 4, 5, 6]\n"
     ]
    }
   ],
   "source": [
    "#6\n",
    "def find_in_range(it,s,e):\n",
    "    \"\"\"Returns list contaning values ranging from start value to end value\"\"\"\n",
    "    res=[]\n",
    "    for i in it:\n",
    "        if i >= s and i <= e:\n",
    "            res.append(i)\n",
    "    return res\n",
    "print(find_in_range([1,2,3,4,5,6,7],2,6))"
   ]
  }
 ],
 "metadata": {
  "kernelspec": {
   "display_name": "Python 3",
   "language": "python",
   "name": "python3"
  },
  "language_info": {
   "codemirror_mode": {
    "name": "ipython",
    "version": 3
   },
   "file_extension": ".py",
   "mimetype": "text/x-python",
   "name": "python",
   "nbconvert_exporter": "python",
   "pygments_lexer": "ipython3",
   "version": "3.8.3"
  }
 },
 "nbformat": 4,
 "nbformat_minor": 4
}
