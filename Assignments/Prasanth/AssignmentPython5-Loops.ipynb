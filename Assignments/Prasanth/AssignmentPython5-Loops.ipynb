{
 "cells": [
  {
   "cell_type": "code",
   "execution_count": 4,
   "metadata": {},
   "outputs": [
    {
     "name": "stdout",
     "output_type": "stream",
     "text": [
      "Enter a number: 9\n",
      "(1, 2, 3, 4, 5, 6, 7, 8, 9)\n"
     ]
    }
   ],
   "source": [
    "#1\n",
    "n=input(\"Enter a number: \")\n",
    "if n.isnumeric():\n",
    "    print(tuple(range(1,int(n)+1)))\n",
    "else:\n",
    "    print(\"Please enter a number\")"
   ]
  },
  {
   "cell_type": "code",
   "execution_count": 8,
   "metadata": {},
   "outputs": [
    {
     "name": "stdout",
     "output_type": "stream",
     "text": [
      "Enter a number: 2\n",
      "3\n"
     ]
    }
   ],
   "source": [
    "#2\n",
    "n=input(\"Enter a number: \")\n",
    "if n.isnumeric():\n",
    "    print(sum(list(range(1,int(n)+1))))\n",
    "else:\n",
    "    print(\"Please enter a number\")"
   ]
  },
  {
   "cell_type": "code",
   "execution_count": 11,
   "metadata": {},
   "outputs": [
    {
     "name": "stdout",
     "output_type": "stream",
     "text": [
      "Enter a number: 5\n",
      "(5, 4, 3, 2, 1)\n"
     ]
    }
   ],
   "source": [
    "#3\n",
    "n=input(\"Enter a number: \")\n",
    "if n.isnumeric():\n",
    "    print(tuple(range(1,int(n)+1))[::-1])\n",
    "else:\n",
    "    print(\"Please enter a number\")"
   ]
  },
  {
   "cell_type": "code",
   "execution_count": 19,
   "metadata": {},
   "outputs": [
    {
     "name": "stdout",
     "output_type": "stream",
     "text": [
      "Enter a number: 4\n",
      "24\n"
     ]
    }
   ],
   "source": [
    "#4\n",
    "from functools import reduce\n",
    "n=input(\"Enter a number: \")\n",
    "if n.isnumeric():\n",
    "    print(reduce((lambda x,y: x*y), range(int(n),0,-1)))\n",
    "else:\n",
    "    print(\"Please enter a number\")"
   ]
  },
  {
   "cell_type": "code",
   "execution_count": 34,
   "metadata": {},
   "outputs": [
    {
     "name": "stdout",
     "output_type": "stream",
     "text": [
      "Enter a number: 10\n",
      "[0, 1, 1, 2, 3, 5, 8, 13, 21, 34]\n"
     ]
    }
   ],
   "source": [
    "#5\n",
    "n=input(\"Enter a number: \")\n",
    "res=[0,1]\n",
    "if n.isnumeric():\n",
    "    num=int(n)\n",
    "    num-=len(res)\n",
    "    for i in range(num):\n",
    "        res.append(res[i]+res[i+1])\n",
    "    print(res[:int(n)])\n",
    "else:\n",
    "    print(\"Please enter a number\")"
   ]
  },
  {
   "cell_type": "code",
   "execution_count": 38,
   "metadata": {},
   "outputs": [
    {
     "name": "stdout",
     "output_type": "stream",
     "text": [
      "Enter a number: 123abc123\n",
      "['1', '2', '3', '1', '2', '3']\n"
     ]
    }
   ],
   "source": [
    "#6\n",
    "n=input(\"Enter a number: \")\n",
    "def is_Digit(x):\n",
    "    return x if x.isnumeric() else None\n",
    "print(list(filter(is_Digit, n)))"
   ]
  },
  {
   "cell_type": "code",
   "execution_count": 43,
   "metadata": {},
   "outputs": [
    {
     "name": "stdout",
     "output_type": "stream",
     "text": [
      "Enter a number: 78\n",
      "15\n"
     ]
    }
   ],
   "source": [
    "#7\n",
    "n=input(\"Enter a number: \")\n",
    "if n.isnumeric():\n",
    "    print(reduce((lambda x,y: int(x)+int(y)), n))\n",
    "else:\n",
    "    print(\"Please enter a number\")"
   ]
  },
  {
   "cell_type": "code",
   "execution_count": 45,
   "metadata": {},
   "outputs": [
    {
     "name": "stdout",
     "output_type": "stream",
     "text": [
      "Enter a number: 4\n",
      "33\n"
     ]
    }
   ],
   "source": [
    "#8\n",
    "n=input(\"Enter a number: \")\n",
    "s=0\n",
    "if n.isnumeric():\n",
    "    for i in range(1,int(n)+1):\n",
    "        s+=reduce((lambda x,y: x*y), range(int(i),0,-1))\n",
    "    print(s)\n",
    "else:\n",
    "    print(\"Please enter a number\")"
   ]
  },
  {
   "cell_type": "code",
   "execution_count": 75,
   "metadata": {},
   "outputs": [
    {
     "name": "stdout",
     "output_type": "stream",
     "text": [
      "Enter base: 5\n",
      "Enter exponent: 4\n",
      "625\n"
     ]
    }
   ],
   "source": [
    "#9\n",
    "base=int(input(\"Enter base: \"))\n",
    "exp=int(input(\"Enter exponent: \"))\n",
    "s=0\n",
    "for i in range(exp):\n",
    "    if i == 0:\n",
    "        s=base\n",
    "    else:\n",
    "        s*=base\n",
    "print(s)"
   ]
  },
  {
   "cell_type": "code",
   "execution_count": 37,
   "metadata": {},
   "outputs": [
    {
     "name": "stdout",
     "output_type": "stream",
     "text": [
      "10.1\n",
      "*\n",
      "**\n",
      "***\n",
      "****\n",
      "*****\n",
      "\n",
      "10.2\n",
      "*****\n",
      "****\n",
      "***\n",
      "**\n",
      "*\n",
      "\n",
      "10.3\n",
      "    *\n",
      "   **\n",
      "  ***\n",
      " ****\n",
      "*****\n",
      "\n",
      "10.4\n",
      "    *    \n",
      "   * *   \n",
      "  * * *  \n",
      " * * * * \n",
      "* * * * *\n",
      "\n",
      "10.5\n",
      "* * * * *\n",
      " * * * * \n",
      "  * * *  \n",
      "   * *   \n",
      "    *    \n"
     ]
    }
   ],
   "source": [
    "#10.1\n",
    "print(\"10.1\")\n",
    "for i in range(5):\n",
    "    for j in range(i+1):\n",
    "        print(\"*\",end=\"\")\n",
    "    print()\n",
    "#10.2\n",
    "print(\"\\n10.2\")\n",
    "for i in range(5):\n",
    "    for j in range(5-i):\n",
    "        print(\"*\",end=\"\")\n",
    "    print()\n",
    "#10.3\n",
    "print(\"\\n10.3\")\n",
    "for i in range(1,6):\n",
    "    for j in range(5-i):\n",
    "        print(\" \",end=\"\")\n",
    "    print(\"*\"*i)\n",
    "#10.4\n",
    "print(\"\\n10.4\")\n",
    "n=5\n",
    "red=1\n",
    "for i in range(n):\n",
    "    print(\" \"*(n-(i+1)),end=\"\")\n",
    "    for j in range(red):\n",
    "        print(\"*\" if j%2==0 else \" \",end=\"\")\n",
    "    red+=2\n",
    "    print(\" \"*(n-(i+1)))\n",
    "#10.5\n",
    "print(\"\\n10.5\")\n",
    "n=5\n",
    "red=n+(n-1)\n",
    "for i in range(n):\n",
    "    print(\" \"*i,end=\"\")\n",
    "    for j in range(red):\n",
    "        print(\"*\" if j%2==0 else \" \",end=\"\")\n",
    "    red-=2\n",
    "    print(\" \"*i)"
   ]
  },
  {
   "cell_type": "code",
   "execution_count": 45,
   "metadata": {},
   "outputs": [
    {
     "name": "stdout",
     "output_type": "stream",
     "text": [
      "11.1\n",
      "1\n",
      "22\n",
      "333\n",
      "4444\n",
      "55555\n",
      "\n",
      "11.2\n",
      "1\n",
      "12\n",
      "123\n",
      "1234\n",
      "12345\n",
      "\n",
      "11.3\n",
      "5\n",
      "44\n",
      "333\n",
      "2222\n",
      "11111\n",
      "\n",
      "11.4\n",
      "    1\n",
      "   22\n",
      "  333\n",
      " 4444\n",
      "55555\n"
     ]
    }
   ],
   "source": [
    "#11.1\n",
    "print(\"11.1\")\n",
    "for i in range(1,6):\n",
    "    for j in range(i):\n",
    "        print(str(i),end=\"\")\n",
    "    print()\n",
    "#11.2\n",
    "print(\"\\n11.2\")\n",
    "for i in range(1,6):\n",
    "    for j in range(i):\n",
    "        print(str(j+1),end=\"\")\n",
    "    print()\n",
    "#11.3\n",
    "print(\"\\n11.3\")\n",
    "for i in range(5,0,-1):\n",
    "    for j in range(6-i):\n",
    "        print(str(i),end=\"\")\n",
    "    print()\n",
    "#11.4\n",
    "print(\"\\n11.4\")\n",
    "for i in range(1,6):\n",
    "    for j in range(5-i):\n",
    "        print(\" \",end=\"\")\n",
    "    print(str(i)*i)"
   ]
  },
  {
   "cell_type": "code",
   "execution_count": 54,
   "metadata": {},
   "outputs": [
    {
     "name": "stdout",
     "output_type": "stream",
     "text": [
      "A\n",
      "AB\n",
      "ABC\n",
      "ABCD\n",
      "ABCDE\n",
      "\n",
      "12.2\n",
      "A\n",
      "BC\n",
      "DEF\n",
      "GHIJ\n",
      "KLMNO\n",
      "\n",
      "12.3\n",
      "A\n",
      "BB\n",
      "CCC\n",
      "DDDD\n",
      "EEEEE\n",
      "\n",
      "12.4\n",
      "    A    \n",
      "   ABA   \n",
      "  ABCBA  \n",
      " ABCDCBA \n",
      "ABCDEDCBA\n"
     ]
    }
   ],
   "source": [
    "#12.1\n",
    "a=65\n",
    "for i in range(1,6):\n",
    "    for j in range(i):\n",
    "        print(chr(a+j),end=\"\")\n",
    "    print()\n",
    "#12.2\n",
    "print(\"\\n12.2\")\n",
    "a=65\n",
    "for i in range(5):\n",
    "    for j in range(i+1):\n",
    "        print(chr(a),end=\"\")\n",
    "        a+=1\n",
    "    print()\n",
    "#12.3\n",
    "print(\"\\n12.3\")\n",
    "a=65\n",
    "for i in range(5):\n",
    "    for j in range(i+1):\n",
    "        print(chr(a),end=\"\")\n",
    "    a+=1\n",
    "    print()\n",
    "#12.4\n",
    "print(\"\\n12.4\")\n",
    "n=5\n",
    "red=1\n",
    "a=64\n",
    "midindex=0\n",
    "for i in range(n):\n",
    "    print(\" \"*(n-(i+1)),end=\"\")\n",
    "    for j in range(red):\n",
    "        if j > midindex:\n",
    "            a-=1\n",
    "        else:\n",
    "            a+=1\n",
    "        print(chr(a),end=\"\")\n",
    "    red+=2\n",
    "    a=64\n",
    "    midindex=red//2\n",
    "    print(\" \"*(n-(i+1)))"
   ]
  }
 ],
 "metadata": {
  "kernelspec": {
   "display_name": "Python 3",
   "language": "python",
   "name": "python3"
  },
  "language_info": {
   "codemirror_mode": {
    "name": "ipython",
    "version": 3
   },
   "file_extension": ".py",
   "mimetype": "text/x-python",
   "name": "python",
   "nbconvert_exporter": "python",
   "pygments_lexer": "ipython3",
   "version": "3.8.3"
  }
 },
 "nbformat": 4,
 "nbformat_minor": 4
}
