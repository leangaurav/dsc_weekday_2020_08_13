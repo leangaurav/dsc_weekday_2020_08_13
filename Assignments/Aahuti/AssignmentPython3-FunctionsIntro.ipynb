{
 "cells": [
  {
   "cell_type": "code",
   "execution_count": 1,
   "metadata": {},
   "outputs": [
    {
     "name": "stdout",
     "output_type": "stream",
     "text": [
      "Enter a string : aahuti\n",
      "Enter a string : panda\n",
      "String after swapping is :  panda aahuti\n"
     ]
    }
   ],
   "source": [
    "#1. WAP to input 2 strings and swap the strings \n",
    "\n",
    "str1 = input('Enter a string : ')\n",
    "str2 = input('Enter a string : ')\n",
    "str1,str2 = str2,str1\n",
    "print('String after swapping is : ',str1,str2)"
   ]
  },
  {
   "cell_type": "code",
   "execution_count": 17,
   "metadata": {},
   "outputs": [
    {
     "name": "stdout",
     "output_type": "stream",
     "text": [
      "Enter a stringahuti\n",
      "Enter a stringpanda\n",
      "String after swapping is :  ('panda', 'ahuti')\n"
     ]
    }
   ],
   "source": [
    "#1. WAP to input 2 strings and swap the strings \n",
    "\n",
    "def swap_str(str1,str2):\n",
    "    temp = str1\n",
    "    str1 = str2\n",
    "    str2 = temp\n",
    "    return str1,str2\n",
    "str1 = input('Enter a string')\n",
    "str2 = input('Enter a string')\n",
    "print('String after swapping is : ',swap_str(str1,str2))"
   ]
  },
  {
   "cell_type": "code",
   "execution_count": 18,
   "metadata": {},
   "outputs": [
    {
     "name": "stdout",
     "output_type": "stream",
     "text": [
      "Average of the 4 random digit is:  20.5\n"
     ]
    }
   ],
   "source": [
    "#2. WAP to generate 4 random numbers in the range 0-26 and print their average \n",
    "\n",
    "import random\n",
    "def rand_avg(a,b,c,d):\n",
    "    avg = (a+a+c+d)/4\n",
    "    return avg\n",
    "a = random.randrange(0,26)\n",
    "b = random.randrange(0,26)\n",
    "c = random.randrange(0,26)\n",
    "d = random.randrange(0,26)\n",
    "print('Average of the 4 random digit is: ',rand_avg(a,b,c,d))"
   ]
  },
  {
   "cell_type": "code",
   "execution_count": 14,
   "metadata": {},
   "outputs": [
    {
     "name": "stdout",
     "output_type": "stream",
     "text": [
      "Help on method randint in module random:\n",
      "\n",
      "randint(a, b) method of random.Random instance\n",
      "    Return random integer in range [a, b], including both end points.\n",
      "\n",
      "['__add__', '__class__', '__contains__', '__delattr__', '__dir__', '__doc__', '__eq__', '__format__', '__ge__', '__getattribute__', '__getitem__', '__getnewargs__', '__gt__', '__hash__', '__init__', '__init_subclass__', '__iter__', '__le__', '__len__', '__lt__', '__mod__', '__mul__', '__ne__', '__new__', '__reduce__', '__reduce_ex__', '__repr__', '__rmod__', '__rmul__', '__setattr__', '__sizeof__', '__str__', '__subclasshook__', 'capitalize', 'casefold', 'center', 'count', 'encode', 'endswith', 'expandtabs', 'find', 'format', 'format_map', 'index', 'isalnum', 'isalpha', 'isascii', 'isdecimal', 'isdigit', 'isidentifier', 'islower', 'isnumeric', 'isprintable', 'isspace', 'istitle', 'isupper', 'join', 'ljust', 'lower', 'lstrip', 'maketrans', 'partition', 'replace', 'rfind', 'rindex', 'rjust', 'rpartition', 'rsplit', 'rstrip', 'split', 'splitlines', 'startswith', 'strip', 'swapcase', 'title', 'translate', 'upper', 'zfill']\n",
      "['BPF', 'LOG4', 'NV_MAGICCONST', 'RECIP_BPF', 'Random', 'SG_MAGICCONST', 'SystemRandom', 'TWOPI', '_Sequence', '_Set', '__all__', '__builtins__', '__cached__', '__doc__', '__file__', '__loader__', '__name__', '__package__', '__spec__', '_accumulate', '_acos', '_bisect', '_ceil', '_cos', '_e', '_exp', '_inst', '_log', '_os', '_pi', '_random', '_repeat', '_sha512', '_sin', '_sqrt', '_test', '_test_generator', '_urandom', '_warn', 'betavariate', 'choice', 'choices', 'expovariate', 'gammavariate', 'gauss', 'getrandbits', 'getstate', 'lognormvariate', 'normalvariate', 'paretovariate', 'randint', 'random', 'randrange', 'sample', 'seed', 'setstate', 'shuffle', 'triangular', 'uniform', 'vonmisesvariate', 'weibullvariate']\n",
      "Help on built-in function random:\n",
      "\n",
      "random() method of random.Random instance\n",
      "    random() -> x in the interval [0, 1).\n",
      "\n",
      "Help on method randrange in module random:\n",
      "\n",
      "randrange(start, stop=None, step=1, _int=<class 'int'>) method of random.Random instance\n",
      "    Choose a random item from range(start, stop[, step]).\n",
      "    \n",
      "    This fixes the problem with randint() which includes the\n",
      "    endpoint; in Python this is usually not what you want.\n",
      "\n"
     ]
    }
   ],
   "source": [
    "# import random\n",
    "# help(random.randint)\n",
    "# print(dir(str))\n",
    "# print(dir(random))\n",
    "# help(random.random)\n",
    "# help(random.randrange)"
   ]
  },
  {
   "cell_type": "code",
   "execution_count": 19,
   "metadata": {},
   "outputs": [
    {
     "name": "stdout",
     "output_type": "stream",
     "text": [
      "abcdefghijklmnopqrstuvwxyzABCDEFGHIJKLMNOPQRSTUVWXYZ\n",
      "S\n"
     ]
    }
   ],
   "source": [
    "#3. WAP to generate and print a random uppercase or lowercase alphabet. Try these:\n",
    "# • Create a string containing all alphabets and then select a random alphabet.\n",
    "# • Check the module string\n",
    "\n",
    "import string,random\n",
    "print(string.ascii_letters) \n",
    "print(random.choice(string.ascii_letters))"
   ]
  },
  {
   "cell_type": "markdown",
   "metadata": {},
   "source": [
    "\n",
    "import string,random\n",
    "print(string.ascii_letters) \n",
    "print(random.choice(string.ascii_letters))"
   ]
  },
  {
   "cell_type": "code",
   "execution_count": 1,
   "metadata": {},
   "outputs": [
    {
     "name": "stdout",
     "output_type": "stream",
     "text": [
      "Enter principal amount:10000\n",
      "Enter time period : 5\n",
      "Enter interest rate : 10\n",
      "Simple Interest is :  5000.0\n"
     ]
    }
   ],
   "source": [
    "#4. WAF get_si() that takes Principle, Rate and Time as arguments and returns the Simple Interest. \n",
    "\n",
    "def get_si(P,T,R):\n",
    "    SI = (P*T*R)/100\n",
    "    return SI\n",
    "P = int(input('Enter principal amount:'))\n",
    "T = int(input('Enter time period : '))\n",
    "R = int(input('Enter interest rate : '))\n",
    "print('Simple Interest is : ',get_si(P,T,R))"
   ]
  },
  {
   "cell_type": "code",
   "execution_count": 3,
   "metadata": {},
   "outputs": [
    {
     "name": "stdout",
     "output_type": "stream",
     "text": [
      "Total amount is :  15000.0\n"
     ]
    }
   ],
   "source": [
    "#5. WAF get_amount() that takes Principle, Rate and Time as arguments and returns the\n",
    "# Total amount using the get_si() function from above to calculate the SI. Also provide\n",
    "# Rate = 10 and Time = 1 as default arguments. \n",
    "\n",
    "def get_amount(P,T=1,R=10):\n",
    "    TA = get_si(P,T,R)+P\n",
    "    return TA\n",
    "print('Total amount is : ',get_amount(P,T,R))"
   ]
  },
  {
   "cell_type": "code",
   "execution_count": 5,
   "metadata": {},
   "outputs": [
    {
     "name": "stdout",
     "output_type": "stream",
     "text": [
      "Enter principal amount:10000\n",
      "Enter time period : 2\n",
      "Enter interest rate : 5\n",
      "Compound Interest is :  11025.0\n"
     ]
    }
   ],
   "source": [
    "#6. WAP get_ci() that takes Principle, Rate and Time as arguments and returns the Compound Interest\n",
    "\n",
    "def get_ci(P,T,R):\n",
    "    CI = P*pow(1+(R/100),T)\n",
    "    return CI\n",
    "P = int(input('Enter principal amount:'))\n",
    "T = int(input('Enter time period : '))\n",
    "R = int(input('Enter interest rate : '))\n",
    "print('Compound Interest is : ',get_ci(P,T,R))\n"
   ]
  },
  {
   "cell_type": "code",
   "execution_count": 6,
   "metadata": {},
   "outputs": [
    {
     "name": "stdout",
     "output_type": "stream",
     "text": [
      "Enter any number to be divided: 12\n",
      "Enter any number to divide: 4\n",
      "The quotient and remainder are:  (3, 0)\n"
     ]
    }
   ],
   "source": [
    "#7. WAP get_q_r() taking 2 numbers as parameters and returns the quotient and remainder in the form of a tuple.\n",
    "\n",
    "def get_q_r(a,b):\n",
    "    q = a//b\n",
    "    r = a%b\n",
    "    return q,r\n",
    "a = int(input('Enter any number to be divided: '))\n",
    "b = int(input('Enter any number to divide: '))\n",
    "print('The quotient and remainder are: ',get_q_r(a,b))"
   ]
  },
  {
   "cell_type": "code",
   "execution_count": 9,
   "metadata": {},
   "outputs": [
    {
     "name": "stdout",
     "output_type": "stream",
     "text": [
      "Enter height of right angle triangle : 4\n",
      "Enter base of right angle triangle: 3\n",
      "Length of hypotenuse is :  5.0\n"
     ]
    }
   ],
   "source": [
    "#8. WAP to find the length of hypotenuse of a right angled triangle, input the height and base from user. \n",
    "\n",
    "import math\n",
    "def hyp(h,b):\n",
    "    l = math.sqrt(h**2+b**2)\n",
    "    return l\n",
    "h = float(input('Enter height of right angle triangle : '))\n",
    "b = float(input('Enter base of right angle triangle: '))\n",
    "print('Length of hypotenuse is : ', hyp(h,b))"
   ]
  },
  {
   "cell_type": "code",
   "execution_count": 10,
   "metadata": {},
   "outputs": [
    {
     "name": "stdout",
     "output_type": "stream",
     "text": [
      "Enter number of seconds to be converted:3600\n",
      "0 1 60\n"
     ]
    }
   ],
   "source": [
    "#9. WAP to input number of seconds and print in days, hours, minutes and seconds\n",
    "# ex: input = 10000\n",
    "# Output = 0 day 2 hour 46 minute 40 second \n",
    "\n",
    "import math\n",
    "s = int(input(\"Enter number of seconds to be converted:\"))\n",
    "d = math.trunc(s/(24*60*60))\n",
    "h = math.trunc((s%(24*60*60))/(60*60))\n",
    "m = math.trunc((s%(24*60*60*60*60))/(60))\n",
    "print(d,h,m)"
   ]
  },
  {
   "cell_type": "code",
   "execution_count": null,
   "metadata": {},
   "outputs": [],
   "source": [
    "#10. Check your version of python interpreter without opening the interpreter (Which\n",
    "#command needs to be used on the command line). \n",
    "\n",
    "#Ans - \n",
    "\n",
    "# Version - Python 3.8.3\n",
    "# Command - Python in cmd"
   ]
  },
  {
   "cell_type": "code",
   "execution_count": 11,
   "metadata": {},
   "outputs": [
    {
     "name": "stdout",
     "output_type": "stream",
     "text": [
      "2 -2\n"
     ]
    }
   ],
   "source": [
    "#11. Find output: \n",
    "\n",
    "X = 2\n",
    "X *= 3\n",
    "X = X%4\n",
    "Y = -X\n",
    "print(X,Y)\n"
   ]
  },
  {
   "cell_type": "code",
   "execution_count": null,
   "metadata": {},
   "outputs": [],
   "source": [
    "#12. Find output: \n",
    "\n",
    "def func():\n",
    "    pass\n",
    "print(func())\n",
    "\n",
    "# Answer:\n",
    "# None"
   ]
  },
  {
   "cell_type": "code",
   "execution_count": null,
   "metadata": {},
   "outputs": [],
   "source": []
  },
  {
   "cell_type": "code",
   "execution_count": null,
   "metadata": {},
   "outputs": [],
   "source": []
  },
  {
   "cell_type": "code",
   "execution_count": null,
   "metadata": {},
   "outputs": [],
   "source": []
  },
  {
   "cell_type": "code",
   "execution_count": null,
   "metadata": {},
   "outputs": [],
   "source": []
  },
  {
   "cell_type": "code",
   "execution_count": null,
   "metadata": {},
   "outputs": [],
   "source": []
  },
  {
   "cell_type": "code",
   "execution_count": null,
   "metadata": {},
   "outputs": [],
   "source": []
  },
  {
   "cell_type": "code",
   "execution_count": null,
   "metadata": {},
   "outputs": [],
   "source": []
  },
  {
   "cell_type": "code",
   "execution_count": null,
   "metadata": {},
   "outputs": [],
   "source": []
  },
  {
   "cell_type": "code",
   "execution_count": null,
   "metadata": {},
   "outputs": [],
   "source": []
  },
  {
   "cell_type": "code",
   "execution_count": null,
   "metadata": {},
   "outputs": [],
   "source": []
  },
  {
   "cell_type": "code",
   "execution_count": null,
   "metadata": {},
   "outputs": [],
   "source": []
  },
  {
   "cell_type": "code",
   "execution_count": null,
   "metadata": {},
   "outputs": [],
   "source": []
  },
  {
   "cell_type": "code",
   "execution_count": null,
   "metadata": {},
   "outputs": [],
   "source": []
  },
  {
   "cell_type": "code",
   "execution_count": null,
   "metadata": {},
   "outputs": [],
   "source": []
  },
  {
   "cell_type": "code",
   "execution_count": null,
   "metadata": {},
   "outputs": [],
   "source": []
  },
  {
   "cell_type": "code",
   "execution_count": null,
   "metadata": {},
   "outputs": [],
   "source": []
  },
  {
   "cell_type": "code",
   "execution_count": null,
   "metadata": {},
   "outputs": [],
   "source": []
  },
  {
   "cell_type": "code",
   "execution_count": null,
   "metadata": {},
   "outputs": [],
   "source": []
  },
  {
   "cell_type": "code",
   "execution_count": null,
   "metadata": {},
   "outputs": [],
   "source": []
  },
  {
   "cell_type": "code",
   "execution_count": null,
   "metadata": {},
   "outputs": [],
   "source": []
  }
 ],
 "metadata": {
  "kernelspec": {
   "display_name": "Python 3",
   "language": "python",
   "name": "python3"
  },
  "language_info": {
   "codemirror_mode": {
    "name": "ipython",
    "version": 3
   },
   "file_extension": ".py",
   "mimetype": "text/x-python",
   "name": "python",
   "nbconvert_exporter": "python",
   "pygments_lexer": "ipython3",
   "version": "3.8.3"
  }
 },
 "nbformat": 4,
 "nbformat_minor": 4
}
