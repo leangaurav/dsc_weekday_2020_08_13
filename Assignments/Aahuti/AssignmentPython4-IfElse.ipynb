{
 "cells": [
  {
   "cell_type": "code",
   "execution_count": 2,
   "metadata": {},
   "outputs": [
    {
     "name": "stdout",
     "output_type": "stream",
     "text": [
      "Enter a number : 12\n",
      "Enter a number : 5\n",
      "False\n"
     ]
    }
   ],
   "source": [
    "#1. WAP to input 2 numbers and check whether the first is divisible by the second and print true or\n",
    "#false depending on the divisibility. \n",
    "\n",
    "n1 = int(input('Enter a number : '))\n",
    "n2 = int(input('Enter a number : '))\n",
    "if (n1%n2 == 0):\n",
    "    print('True')\n",
    "else:\n",
    "    print('False')"
   ]
  },
  {
   "cell_type": "code",
   "execution_count": 3,
   "metadata": {},
   "outputs": [
    {
     "name": "stdout",
     "output_type": "stream",
     "text": [
      "enter any number: 12\n",
      "enter another number: 3\n"
     ]
    },
    {
     "data": {
      "text/plain": [
       "True"
      ]
     },
     "execution_count": 3,
     "metadata": {},
     "output_type": "execute_result"
    }
   ],
   "source": [
    "#1. WAP to input two numbers and check whether number 1 is divisible by number 2\n",
    "def div_fun(num1,num2):\n",
    "    if num1%num2 == 0:\n",
    "        return True\n",
    "    else:\n",
    "        return False\n",
    "num1 = int(input('enter any number: '))\n",
    "num2 = int(input('enter another number: '))\n",
    "div_fun(num1,num2)"
   ]
  },
  {
   "cell_type": "code",
   "execution_count": 7,
   "metadata": {},
   "outputs": [
    {
     "name": "stdout",
     "output_type": "stream",
     "text": [
      "Enter a string : Naman\n",
      "Entered string is a palindrome\n"
     ]
    }
   ],
   "source": [
    "#2. In the palindrome example, make the code case insensitive.\n",
    "#i.e. Naman should also be treated as a palindrome (HINT: first convert to either upper or lower case).\n",
    "\n",
    "s = input('Enter a string : ').lower()\n",
    "p = s[::-1].lower()\n",
    "if s == p:\n",
    "    print('Entered string is a palindrome')\n",
    "else:\n",
    "    print('Entered string is not a palindrome')  "
   ]
  },
  {
   "cell_type": "code",
   "execution_count": 8,
   "metadata": {},
   "outputs": [
    {
     "name": "stdout",
     "output_type": "stream",
     "text": [
      "Enter height of triangle in cm : 4\n",
      "Enter base of triangle in cm : 5\n",
      "Enter lengtgh of triangle in cm : 4\n",
      "Triangle is Isosceles\n"
     ]
    }
   ],
   "source": [
    "#3. WAP to input the sides of a triangle and print whether equilateral(all sides equal), isosceles (2\n",
    "#sides equal), or scalene (no sides equal). \n",
    "\n",
    "a = float(input('Enter height of triangle in cm : '))\n",
    "b = float(input('Enter base of triangle in cm : '))\n",
    "c = float(input('Enter lengtgh of triangle in cm : '))\n",
    "if (a == b == c):\n",
    "    print('Triangle is equilateral')\n",
    "elif (a == b) or (a == c) or (b == c):\n",
    "    print('Triangle is Isosceles')\n",
    "elif (a != b != c):\n",
    "    print('Triangle is scalene')"
   ]
  },
  {
   "cell_type": "code",
   "execution_count": 2,
   "metadata": {},
   "outputs": [
    {
     "name": "stdout",
     "output_type": "stream",
     "text": [
      "Enter a number : 13\n",
      "Entered no is odd\n"
     ]
    }
   ],
   "source": [
    "#4. WAP to input a number and print if it is even or odd. \n",
    "\n",
    "n1 = int(input('Enter a number : '))\n",
    "if (n1 % 2 == 0):\n",
    "    print('Entered no is even')\n",
    "else:\n",
    "    print('Entered no is odd')"
   ]
  },
  {
   "cell_type": "markdown",
   "metadata": {},
   "source": []
  },
  {
   "cell_type": "code",
   "execution_count": 3,
   "metadata": {},
   "outputs": [
    {
     "name": "stdout",
     "output_type": "stream",
     "text": [
      "Enter your age : 1000\n",
      "Congratulations\n"
     ]
    }
   ],
   "source": [
    "#5. WAP to input age and print the respective text depending on the age ranges as present in the table.\n",
    "\n",
    "age = int(input('Enter your age : '))\n",
    "if (0 <= age <= 12):\n",
    "    print('Child')\n",
    "elif(13 <= age <=17):\n",
    "    print('Teen')\n",
    "elif(18 <= age <= 50):\n",
    "    print('Adult')\n",
    "elif(51 <= age <= 100):\n",
    "    print('Senior Citizen')\n",
    "elif age>100:\n",
    "    print(\"Congratulations\")"
   ]
  },
  {
   "cell_type": "code",
   "execution_count": 4,
   "metadata": {},
   "outputs": [
    {
     "name": "stdout",
     "output_type": "stream",
     "text": [
      "enter age of person: 14\n",
      "The person is Teen\n"
     ]
    }
   ],
   "source": [
    "#6.WAP to check ages of person and print whether child,teen,adult,senior citizen or congratulations\n",
    "def check_age(age):\n",
    "    if age in range (0,13):\n",
    "        print('The person is Child')\n",
    "    elif age in range(13,18):\n",
    "        print('The person is Teen')\n",
    "    elif age in range(18,51):\n",
    "        print('The person is Adult')\n",
    "    elif age in range(51,101):\n",
    "        print('The person is Senior citizen')\n",
    "    else:\n",
    "        if age > 100:\n",
    "            print('Congratulations')\n",
    "age = int(input('enter age of person: '))\n",
    "check_age(age)"
   ]
  },
  {
   "cell_type": "code",
   "execution_count": 6,
   "metadata": {},
   "outputs": [
    {
     "name": "stdout",
     "output_type": "stream",
     "text": [
      "2020\n",
      "Leap Year\n"
     ]
    }
   ],
   "source": [
    "#6. WAP to input year (check if user enters valid year. Should be 4-digit number and should not be\n",
    "# negative) and print whether leap year or not. (If really interested in why you also have to check\n",
    "# the divisibility by 400 just google the exact time it takes for the earth to revolve around the sub) \n",
    "\n",
    "a=int(input())\n",
    "if(a%4==0):\n",
    "    if(a%100==0):\n",
    "        if(a%400==0):\n",
    "            print(\"Leap Year\")\n",
    "        else:\n",
    "            print(\"Not a leap year\")\n",
    "    else:\n",
    "        print(\"Leap Year\")\n",
    "else:\n",
    "    print(\"Not a leap year\")"
   ]
  },
  {
   "cell_type": "code",
   "execution_count": 10,
   "metadata": {},
   "outputs": [
    {
     "name": "stdout",
     "output_type": "stream",
     "text": [
      "Enter a valid year2700\n",
      "Entered year is not leap year\n"
     ]
    }
   ],
   "source": [
    "#6. WAP to input year (check if user enters valid year. Should be 4-digit number and should not be\n",
    "# negative) and print whether leap year or not. (If really interested in why you also have to check\n",
    "# the divisibility by 400 just google the exact time it takes for the earth to revolve around the sub)\n",
    "\n",
    "year = int(input('Enter a valid year'))\n",
    "if (year % 100 == 0):\n",
    "    if (year % 400 == 0):\n",
    "        print('Entered year is leap year')\n",
    "    else:\n",
    "        print('Entered year is not leap year')\n",
    "else:\n",
    "    if(year % 4 == 0):\n",
    "        print('Entered year is leap year')\n",
    "    else:\n",
    "        print('Entered year is not leap year')\n",
    "    \n",
    "#or\n",
    "\n",
    "n=input(f'Please enter year to be checked :')\n",
    "\n",
    "if len(n)==4 and int(n)>0:\n",
    "    if int(n)%400==0 or (int(n)%4==0 and int(n)%100!=0):\n",
    "        print('Entered year is a leap year')\n",
    "    else:\n",
    "        print('Entered year is not a leap year')\n",
    "else:\n",
    "    print('Please enter a valid year')\n",
    "    \n",
    "#OR\n",
    "\n",
    "year=int(input())\n",
    "year1=str(year)\n",
    "if len(year1)==4 and year>0:\n",
    "    if year%4==0 and year%100!=0:\n",
    "        print(\"It's a leap year\")\n",
    "    elif year%400==0:\n",
    "        print(\"It's a leap year\")\n",
    "    else:\n",
    "        print(\"It's not a leap year\")\n",
    "else:\n",
    "    print(\"Enter a valid year\")"
   ]
  },
  {
   "cell_type": "code",
   "execution_count": 13,
   "metadata": {},
   "outputs": [
    {
     "name": "stdout",
     "output_type": "stream",
     "text": [
      "Enter a string : ahuti\n",
      "AHUTI\n"
     ]
    }
   ],
   "source": [
    "#7. WAP to input a string and convert it to Upper Case if number of characters is odd and convert to\n",
    "#lower case otherwise. \n",
    "\n",
    "s1 = input('Enter a string : ')\n",
    "if (len(s1) % 2 != 0):\n",
    "    print(s1.upper())\n",
    "else:\n",
    "    print(s1.lower())"
   ]
  },
  {
   "cell_type": "code",
   "execution_count": 14,
   "metadata": {},
   "outputs": [
    {
     "name": "stdout",
     "output_type": "stream",
     "text": [
      "Enter String : vehshabiywehg\n",
      "veg\n"
     ]
    }
   ],
   "source": [
    "#8. WAP to input a string and print Veg if the string doesn’t contain the word egg. Otherwise print\n",
    "#Non-Veg. As usual eggs can be both big and small. \n",
    "\n",
    "\n",
    "s1 = input(\"Enter String : \")\n",
    "word =\"EgG\"\n",
    "if word.lower() not in s1.lower():\n",
    "    print(\"veg\")\n",
    "else : \n",
    "    print(\"non veg\")"
   ]
  },
  {
   "cell_type": "code",
   "execution_count": 15,
   "metadata": {},
   "outputs": [
    {
     "name": "stdout",
     "output_type": "stream",
     "text": [
      "Please enter a desired string :agnxkjh\n",
      "Non-Veg\n"
     ]
    }
   ],
   "source": [
    "#8.\n",
    "import string\n",
    "n=input(f'Please enter a desired string :')\n",
    "s=n.upper()\n",
    "if s.find('EGG'):\n",
    "    print('Non-Veg')\n",
    "else:\n",
    "    print('Veg')"
   ]
  },
  {
   "cell_type": "code",
   "execution_count": 16,
   "metadata": {},
   "outputs": [
    {
     "name": "stdout",
     "output_type": "stream",
     "text": [
      "True\n"
     ]
    }
   ],
   "source": [
    "#9. Give output of: \n",
    "\n",
    "if not 1:\n",
    "    print(\"False\")\n",
    "else:\n",
    "    print(\"True\")"
   ]
  },
  {
   "cell_type": "code",
   "execution_count": 17,
   "metadata": {},
   "outputs": [
    {
     "name": "stdout",
     "output_type": "stream",
     "text": [
      "False\n"
     ]
    }
   ],
   "source": [
    "#9. Give output of: \n",
    "\n",
    "if 1:\n",
    "    print(\"False\")\n",
    "else:\n",
    "    print(\"True\")"
   ]
  },
  {
   "cell_type": "code",
   "execution_count": 18,
   "metadata": {},
   "outputs": [
    {
     "name": "stdout",
     "output_type": "stream",
     "text": [
      "Weird!!\n"
     ]
    }
   ],
   "source": [
    "#9.\n",
    "\n",
    "if 'a' > 'A':\n",
    "    print(\"Weird!!\")\n",
    "else:\n",
    "    print(\"Makes Sense\")"
   ]
  },
  {
   "cell_type": "code",
   "execution_count": 19,
   "metadata": {},
   "outputs": [
    {
     "name": "stdout",
     "output_type": "stream",
     "text": [
      "[4, 3, 2, 1]\n"
     ]
    }
   ],
   "source": [
    "#9.\n",
    "\n",
    "a=[1,2,3,4]\n",
    "if 1>1:\n",
    "    a=a[::-1]\n",
    "else :\n",
    "    a=a[-1::-1]\n",
    "print(a)"
   ]
  },
  {
   "cell_type": "code",
   "execution_count": 20,
   "metadata": {},
   "outputs": [
    {
     "name": "stdout",
     "output_type": "stream",
     "text": [
      "subject1:80\n",
      "subject2:90\n",
      "subject3:55\n",
      "subject4:88\n",
      "subject5:76\n",
      "Invalid marks\n"
     ]
    }
   ],
   "source": [
    "#10. WAP to input marks in 5 subjects and print the grade as per following logic: \n",
    "\n",
    "a=int(input(\"subject1:\"))\n",
    "b=int(input(\"subject2:\"))\n",
    "c=int(input(\"subject3:\"))\n",
    "d=int(input(\"subject4:\"))\n",
    "e=int(input(\"subject5:\"))\n",
    "P=(a+b+c+d+e)/5\n",
    "\n",
    "\n",
    "if P in range(0,101):\n",
    "    print(\"percentage:\",P,\"%\")\n",
    "    if P in range(90,101):\n",
    "        print(\"Grade-A\")\n",
    "    elif P in range(80,90):\n",
    "        print(\"Grade-B\")\n",
    "    elif P in range(60,80):\n",
    "        print(\"Grade-C\")\n",
    "    else:\n",
    "        print(\"Grade-F\")\n",
    "else:\n",
    "    print(\"Invalid marks\")"
   ]
  },
  {
   "cell_type": "code",
   "execution_count": 21,
   "metadata": {},
   "outputs": [
    {
     "name": "stdout",
     "output_type": "stream",
     "text": [
      "Age:45\n",
      "Salary:600000\n",
      "60000.0\n"
     ]
    }
   ],
   "source": [
    "#11. WAP to input age and salary and calculate Tax as per tax rates if following table: \n",
    "\n",
    "A=int(input(\"Age:\"))\n",
    "S=int(input(\"Salary:\"))\n",
    "if A in range(0,60):\n",
    "    if S in range(0,250001):\n",
    "        T=S\n",
    "        print(T)\n",
    "    elif S in range(250001,500001):\n",
    "        T=S*5/100\n",
    "        print(T)\n",
    "    elif S in range(500001,1000001):\n",
    "        T=S*10/100\n",
    "        print(T)\n",
    "    elif S>1000001:\n",
    "        T=S*15/100\n",
    "        print(T)\n",
    "    else:\n",
    "        print(\"Enter valid salary\")\n",
    "elif A>=60:\n",
    "    if S in range(0,250001):\n",
    "        T=S\n",
    "        print(T)\n",
    "    elif S in range(250001,500001):\n",
    "        T=S*3/100\n",
    "        print(T)\n",
    "    elif S in range(500001,1000001):\n",
    "        T=S*8/100\n",
    "        print(T)\n",
    "    elif S>1000001:\n",
    "        T=S*12/100\n",
    "        print(T)\n",
    "    else:\n",
    "        print(\"Enter valid salary\")\n",
    "else:\n",
    "    print(\"Enter valid age\")\n"
   ]
  },
  {
   "cell_type": "code",
   "execution_count": 22,
   "metadata": {},
   "outputs": [
    {
     "name": "stdout",
     "output_type": "stream",
     "text": [
      "normal\n"
     ]
    }
   ],
   "source": [
    "#13. WAF: bmi() that takes the weight in kg and height in cm of a person, calculates and returns the\n",
    "# BMI.\n",
    "# Write code that calls this function after taking height and weight as inputs and then prints\n",
    "# underweight, normal, overweight or obese depending on the value of BMI.\n",
    "# Refer this link for the ranges:\n",
    "#  https://en.wikipedia.org/wiki/Body_mass_index \n",
    "\n",
    "def bmi(W,H):\n",
    "    BMI=W/(H/100)**2\n",
    "    return BMI\n",
    "a=bmi(50.9,158)\n",
    "if a<18.5:\n",
    "    print(\"underweight\")\n",
    "elif 18.5<a<25:\n",
    "    print(\"normal\")\n",
    "elif 25<a<30 :\n",
    "    print(\"overweight\")\n",
    "else:\n",
    "    print(\"obese\")"
   ]
  },
  {
   "cell_type": "code",
   "execution_count": 23,
   "metadata": {},
   "outputs": [
    {
     "name": "stdout",
     "output_type": "stream",
     "text": [
      "person1:13\n",
      "person2:27\n",
      "person3:30\n",
      "person1 is youngest\n",
      "person3 is oldest\n"
     ]
    }
   ],
   "source": [
    "#14. Take input of age of 3 people by user and determine oldest and youngest among them. \n",
    "\n",
    "a=input(\"person1:\")\n",
    "b=input(\"person2:\")\n",
    "c=input(\"person3:\")\n",
    "if a<b and a<c:\n",
    "    if b<c :\n",
    "        print(\"person1 is youngest\")\n",
    "        print(\"person3 is oldest\")\n",
    "    else:\n",
    "        print(\"person1 is youngest\")\n",
    "        print(\"person2 is oldest\")\n",
    "if b<a and b<c:\n",
    "    if a<c:\n",
    "        print(\"person2 is youngest\")\n",
    "        print(\"person3 is oldest\")\n",
    "    else:\n",
    "        print(\"person2 is youngest\")\n",
    "        print(\"person1 is oldest\")\n",
    "if c<a and c<b:\n",
    "    if a<b:\n",
    "        print(\"person3 is youngest\")\n",
    "        print(\"person2 is oldest\")\n",
    "    else:\n",
    "        print(\"person3 is youngest\")\n",
    "        print(\"person1 is oldest\")"
   ]
  },
  {
   "cell_type": "code",
   "execution_count": 24,
   "metadata": {},
   "outputs": [
    {
     "name": "stdout",
     "output_type": "stream",
     "text": [
      "23\n",
      "not divisible by both\n"
     ]
    }
   ],
   "source": [
    "#15. WAP to input a number and check if number is divisible by both 5 and 7.\n",
    "\n",
    "a=int(input())\n",
    "if a%5==0 and a%7==0:\n",
    "    print(\"divisible by both\")\n",
    "elif a%5==0 and a%7!=0:\n",
    "    print(\"not divisible by 7\")\n",
    "elif a%5!=0 and a%7==0:\n",
    "    print(\"not divisible by 5\")\n",
    "else:\n",
    "    print(\"not divisible by both\")"
   ]
  }
 ],
 "metadata": {
  "kernelspec": {
   "display_name": "Python 3",
   "language": "python",
   "name": "python3"
  },
  "language_info": {
   "codemirror_mode": {
    "name": "ipython",
    "version": 3
   },
   "file_extension": ".py",
   "mimetype": "text/x-python",
   "name": "python",
   "nbconvert_exporter": "python",
   "pygments_lexer": "ipython3",
   "version": "3.8.3"
  }
 },
 "nbformat": 4,
 "nbformat_minor": 4
}
