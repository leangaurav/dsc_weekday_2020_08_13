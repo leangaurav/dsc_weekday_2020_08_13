{
 "cells": [
  {
   "cell_type": "code",
   "execution_count": 1,
   "metadata": {},
   "outputs": [
    {
     "ename": "IndentationError",
     "evalue": "unexpected indent (<ipython-input-1-57fe2658f2eb>, line 2)",
     "output_type": "error",
     "traceback": [
      "\u001b[1;36m  File \u001b[1;32m\"<ipython-input-1-57fe2658f2eb>\"\u001b[1;36m, line \u001b[1;32m2\u001b[0m\n\u001b[1;33m    s=‘Python is Object Oriented’\u001b[0m\n\u001b[1;37m    ^\u001b[0m\n\u001b[1;31mIndentationError\u001b[0m\u001b[1;31m:\u001b[0m unexpected indent\n"
     ]
    }
   ],
   "source": [
    "#1. Guess output of each slice:\n",
    "\n",
    "s=‘Python is Object Oriented’ \n",
    "    \n",
    "#Answers:\n",
    "\n",
    "# print(s[-1]) = d\n",
    "# print(s[::-1]) = detneirO tcejbO si nohtyP\n",
    "# print(s[:-1]) = Python is Object Oriente\n",
    "# print(s[1:1])   # Shouldn't Print none\n",
    "# print(s[4:10]) = on is"
   ]
  },
  {
   "cell_type": "code",
   "execution_count": 4,
   "metadata": {},
   "outputs": [
    {
     "ename": "IndexError",
     "evalue": "string index out of range",
     "output_type": "error",
     "traceback": [
      "\u001b[1;31m---------------------------------------------------------------------------\u001b[0m",
      "\u001b[1;31mIndexError\u001b[0m                                Traceback (most recent call last)",
      "\u001b[1;32m<ipython-input-4-ba39721b9cfe>\u001b[0m in \u001b[0;36m<module>\u001b[1;34m\u001b[0m\n\u001b[0;32m      1\u001b[0m \u001b[1;31m#2. What error do you see for following statements:\u001b[0m\u001b[1;33m\u001b[0m\u001b[1;33m\u001b[0m\u001b[1;33m\u001b[0m\u001b[0m\n\u001b[0;32m      2\u001b[0m \u001b[0ms\u001b[0m\u001b[1;33m=\u001b[0m \u001b[1;34m''\u001b[0m\u001b[1;33m\u001b[0m\u001b[1;33m\u001b[0m\u001b[0m\n\u001b[1;32m----> 3\u001b[1;33m \u001b[0mprint\u001b[0m\u001b[1;33m(\u001b[0m\u001b[0ms\u001b[0m\u001b[1;33m[\u001b[0m\u001b[1;36m1\u001b[0m\u001b[1;33m]\u001b[0m\u001b[1;33m)\u001b[0m\u001b[1;33m\u001b[0m\u001b[1;33m\u001b[0m\u001b[0m\n\u001b[0m\u001b[0;32m      4\u001b[0m \u001b[1;31m#Index error\u001b[0m\u001b[1;33m\u001b[0m\u001b[1;33m\u001b[0m\u001b[1;33m\u001b[0m\u001b[0m\n",
      "\u001b[1;31mIndexError\u001b[0m: string index out of range"
     ]
    }
   ],
   "source": [
    "#2. What error do you see for following statements:\n",
    "s= ''\n",
    "print(s[1]) \n",
    "#ANS - Index error : string index out of range"
   ]
  },
  {
   "cell_type": "code",
   "execution_count": 7,
   "metadata": {},
   "outputs": [
    {
     "ename": "IndexError",
     "evalue": "string index out of range",
     "output_type": "error",
     "traceback": [
      "\u001b[1;31m---------------------------------------------------------------------------\u001b[0m",
      "\u001b[1;31mIndexError\u001b[0m                                Traceback (most recent call last)",
      "\u001b[1;32m<ipython-input-7-cce2dc339a9b>\u001b[0m in \u001b[0;36m<module>\u001b[1;34m\u001b[0m\n\u001b[0;32m      1\u001b[0m \u001b[1;31m#3. Do you get any error for the following code, if not give the output:\u001b[0m\u001b[1;33m\u001b[0m\u001b[1;33m\u001b[0m\u001b[1;33m\u001b[0m\u001b[0m\n\u001b[0;32m      2\u001b[0m \u001b[0mS\u001b[0m\u001b[1;33m=\u001b[0m\u001b[1;34m'Gaurav'\u001b[0m\u001b[1;33m\u001b[0m\u001b[1;33m\u001b[0m\u001b[0m\n\u001b[1;32m----> 3\u001b[1;33m \u001b[0mprint\u001b[0m\u001b[1;33m(\u001b[0m\u001b[0ms\u001b[0m\u001b[1;33m[\u001b[0m\u001b[1;36m1\u001b[0m\u001b[1;33m]\u001b[0m\u001b[1;33m)\u001b[0m\u001b[1;33m\u001b[0m\u001b[1;33m\u001b[0m\u001b[0m\n\u001b[0m\u001b[0;32m      4\u001b[0m \u001b[1;31m#Answer:\u001b[0m\u001b[1;33m\u001b[0m\u001b[1;33m\u001b[0m\u001b[1;33m\u001b[0m\u001b[0m\n\u001b[0;32m      5\u001b[0m \u001b[1;31m#It will give 's' not defined error\u001b[0m\u001b[1;33m\u001b[0m\u001b[1;33m\u001b[0m\u001b[1;33m\u001b[0m\u001b[0m\n",
      "\u001b[1;31mIndexError\u001b[0m: string index out of range"
     ]
    }
   ],
   "source": [
    "#3. Do you get any error for the following code, if not give the output:\n",
    "S='Gaurav'\n",
    "print(s[1]) \n",
    "#Answer:\n",
    "#It will give string index out of range error"
   ]
  },
  {
   "cell_type": "code",
   "execution_count": 9,
   "metadata": {},
   "outputs": [
    {
     "name": "stdout",
     "output_type": "stream",
     "text": [
      "6\n",
      "abc\n",
      "3\n"
     ]
    }
   ],
   "source": [
    "#4. Find output of the following:\n",
    "#a) \n",
    "s='a b cd'\n",
    "print(len(s))\n",
    "print(s[::2])\n",
    "print(len(s[::2])) \n"
   ]
  },
  {
   "cell_type": "code",
   "execution_count": 11,
   "metadata": {},
   "outputs": [
    {
     "name": "stdout",
     "output_type": "stream",
     "text": [
      "['a#b#c#d#']\n",
      "['a', 'b', 'c', 'd', '']\n",
      "a$b$c$d$\n"
     ]
    }
   ],
   "source": [
    "#4.b) \n",
    "s='a#b#c#d#' \n",
    "print(s.split())\n",
    "print(s.split('#')) \n",
    "l=s.split('#')\n",
    "s='$'.join(l)\n",
    "print(s) "
   ]
  },
  {
   "cell_type": "code",
   "execution_count": 12,
   "metadata": {},
   "outputs": [
    {
     "name": "stdout",
     "output_type": "stream",
     "text": [
      "av\n"
     ]
    }
   ],
   "source": [
    "#4.c) \n",
    "S='Gaurav'\n",
    "S=S[::-2][::-2]\n",
    "print(S) "
   ]
  },
  {
   "cell_type": "code",
   "execution_count": 13,
   "metadata": {},
   "outputs": [
    {
     "name": "stdout",
     "output_type": "stream",
     "text": [
      "False\n"
     ]
    }
   ],
   "source": [
    "#4.d)\n",
    "print(1>2)"
   ]
  },
  {
   "cell_type": "code",
   "execution_count": 14,
   "metadata": {},
   "outputs": [
    {
     "name": "stdout",
     "output_type": "stream",
     "text": [
      "0,1,2\n"
     ]
    }
   ],
   "source": [
    "#4.e)\n",
    "print(4%2, 5%2, 2%5, sep=',') "
   ]
  },
  {
   "cell_type": "code",
   "execution_count": 15,
   "metadata": {},
   "outputs": [
    {
     "name": "stdout",
     "output_type": "stream",
     "text": [
      "abcba\n",
      "0 ,0 ,0 ,"
     ]
    }
   ],
   "source": [
    "#4.f)\n",
    "\n",
    "s='abcba'\n",
    "s.upper()\n",
    "print(s)\n",
    "print(s.count('A'), end = ' ,')\n",
    "print(s.count('A', 2,4) , end = ' ,')\n",
    "print(s.count('a', 2,4) , end = ' ,') "
   ]
  },
  {
   "cell_type": "code",
   "execution_count": 21,
   "metadata": {},
   "outputs": [
    {
     "name": "stdout",
     "output_type": "stream",
     "text": [
      "Enter any string with spaces :a h u t i\n",
      "ahuti\n"
     ]
    }
   ],
   "source": [
    "#5. WAP to input a string and remove all spaces from it. \n",
    "\n",
    "string=input('Enter any string with spaces :').split()\n",
    "string=''.join(string)\n",
    "print(string)"
   ]
  },
  {
   "cell_type": "code",
   "execution_count": null,
   "metadata": {},
   "outputs": [],
   "source": [
    "#6. What does this symbol denote:\n",
    "[] - Empty List"
   ]
  },
  {
   "cell_type": "code",
   "execution_count": 23,
   "metadata": {},
   "outputs": [
    {
     "name": "stdout",
     "output_type": "stream",
     "text": [
      "['__add__', '__class__', '__contains__', '__delattr__', '__dir__', '__doc__', '__eq__', '__format__', '__ge__', '__getattribute__', '__getitem__', '__getnewargs__', '__gt__', '__hash__', '__init__', '__init_subclass__', '__iter__', '__le__', '__len__', '__lt__', '__mod__', '__mul__', '__ne__', '__new__', '__reduce__', '__reduce_ex__', '__repr__', '__rmod__', '__rmul__', '__setattr__', '__sizeof__', '__str__', '__subclasshook__', 'capitalize', 'casefold', 'center', 'count', 'encode', 'endswith', 'expandtabs', 'find', 'format', 'format_map', 'index', 'isalnum', 'isalpha', 'isascii', 'isdecimal', 'isdigit', 'isidentifier', 'islower', 'isnumeric', 'isprintable', 'isspace', 'istitle', 'isupper', 'join', 'ljust', 'lower', 'lstrip', 'maketrans', 'partition', 'replace', 'rfind', 'rindex', 'rjust', 'rpartition', 'rsplit', 'rstrip', 'split', 'splitlines', 'startswith', 'strip', 'swapcase', 'title', 'translate', 'upper', 'zfill']\n"
     ]
    }
   ],
   "source": [
    "#7. WAP to print all methods(functions/operations) available in a string (Hint : dir()) \n",
    "\n",
    "dir(str)\n",
    "print(dir(str))"
   ]
  },
  {
   "cell_type": "code",
   "execution_count": 29,
   "metadata": {},
   "outputs": [
    {
     "name": "stdout",
     "output_type": "stream",
     "text": [
      "True\n",
      "rstrip present inside the list\n"
     ]
    }
   ],
   "source": [
    "#8. Write statement to check if rstrip method is available in the str class.(Hint : Use the find function or in) \n",
    "\n",
    "s = dir(str)\n",
    "print('rstrip' in s)\n",
    "\n",
    "# OR \n",
    "\n",
    "a=dir(str)\n",
    "if 'rstrip' in a:\n",
    "    print('rstrip present inside the list')    \n",
    "\n",
    "# OR \n",
    "\n",
    "# dir_str_class=dir(str)\n",
    "# print(dir_str_class)\n",
    "# print('\\n')\n",
    "# if 'rstrip' in dir_str_class:\n",
    "#      print('Entered method is available in the str class')\n",
    "# else:    \n",
    "#     print('Entered method is not available in the sr class'"
   ]
  },
  {
   "cell_type": "code",
   "execution_count": 33,
   "metadata": {},
   "outputs": [
    {
     "name": "stdout",
     "output_type": "stream",
     "text": [
      "\n",
      "      *****\n",
      "        *\n",
      "        *\n",
      "        *\n",
      "        *\n",
      "\n",
      "\n",
      "        *     *\n",
      "        * * * *\n",
      "        *  *  *\n",
      "        *     *\n",
      "\n",
      "\n",
      " ________     \n",
      " |      |        \n",
      " O      |\n",
      "/|\\     |\n",
      "/ \\     | \n"
     ]
    }
   ],
   "source": [
    "#9. WAP to store the following patterns in a string variable and then print them: \n",
    "\n",
    "pattern1 = '''\n",
    "      *****\n",
    "        *\n",
    "        *\n",
    "        *\n",
    "        *\n",
    "'''\n",
    "print(pattern1)\n",
    "\n",
    "pattern2 = '''\n",
    "        *     *\n",
    "        * * * *\n",
    "        *  *  *\n",
    "        *     *\n",
    "'''\n",
    "print(pattern2)\n",
    "\n",
    "pattern3 = '''\n",
    " ________     \n",
    " |      |        \n",
    " O      |\n",
    "/|\\     |\n",
    "/ \\     | ''' \n",
    "\n",
    "print(pattern3)"
   ]
  },
  {
   "cell_type": "code",
   "execution_count": 38,
   "metadata": {},
   "outputs": [
    {
     "name": "stdout",
     "output_type": "stream",
     "text": [
      "Enter any string with spaces : a bd gfgyi j\n",
      "a\n",
      "bd\n",
      "gfgyi\n",
      "j\n",
      "ab hj kmj g tftj\n",
      "ab\n",
      "hj\n",
      "kmj\n",
      "g\n",
      "tftj\n"
     ]
    }
   ],
   "source": [
    "#10. WAP to input a string and replace all space with new lines (\\n) and print again. \n",
    "\n",
    "string=input('Enter any string with spaces : ').split()\n",
    "\n",
    "new_line='\\n'\n",
    "\n",
    "string=new_line.join(string)\n",
    "\n",
    "print(string)\n",
    "\n",
    "# or \n",
    "\n",
    "x=input()\n",
    "print(x.replace(' ','\\n'))"
   ]
  },
  {
   "cell_type": "code",
   "execution_count": 43,
   "metadata": {},
   "outputs": [
    {
     "name": "stdout",
     "output_type": "stream",
     "text": [
      "Enter yoiur full name AHUTI panda\n",
      "['AHUTI', 'panda']\n",
      "AHUTI 5\n",
      "PANDA 5\n",
      "ahuti panda\n",
      "AHUTI 5 PANDA 5\n"
     ]
    }
   ],
   "source": [
    "#11. WAP to input complete name(first and last name separated by space) and print first and last \n",
    "#name separately along with their length in upper case. \n",
    "\n",
    "s = input('Enter yoiur full name ')\n",
    "l = s.split(' ')\n",
    "print(l)\n",
    "h = l[0].upper()\n",
    "k = l[1].upper()\n",
    "print(h,len(h))\n",
    "print(k,len(k))\n",
    "\n",
    "# OR\n",
    "\n",
    "x=input()\n",
    "y=x.split()\n",
    "print(y[0].upper(),len(y[0]),y[1].upper(),len(y[1]))"
   ]
  },
  {
   "cell_type": "code",
   "execution_count": 46,
   "metadata": {},
   "outputs": [
    {
     "name": "stdout",
     "output_type": "stream",
     "text": [
      "enter any string: qygiobs\n",
      "qyg\n",
      "obs\n"
     ]
    }
   ],
   "source": [
    "#12. WAP to input a string and split it into 2 halves. The string can be of any length \n",
    "\n",
    "s = input('enter any string: ')\n",
    "j = s[:len(s)//2]\n",
    "print(j)\n",
    "k = s[(len(s)+1)//2:]\n",
    "print(k)\n",
    "\n",
    "#OR \n",
    "\n",
    "x=input()\n",
    "y=int(len(x)/3)\n",
    "print(x[:y])\n",
    "print(x[y:])"
   ]
  },
  {
   "cell_type": "code",
   "execution_count": null,
   "metadata": {},
   "outputs": [],
   "source": []
  },
  {
   "cell_type": "code",
   "execution_count": null,
   "metadata": {},
   "outputs": [],
   "source": []
  },
  {
   "cell_type": "code",
   "execution_count": null,
   "metadata": {},
   "outputs": [],
   "source": []
  },
  {
   "cell_type": "code",
   "execution_count": null,
   "metadata": {},
   "outputs": [],
   "source": []
  },
  {
   "cell_type": "code",
   "execution_count": null,
   "metadata": {},
   "outputs": [],
   "source": []
  },
  {
   "cell_type": "code",
   "execution_count": null,
   "metadata": {},
   "outputs": [],
   "source": []
  },
  {
   "cell_type": "code",
   "execution_count": null,
   "metadata": {},
   "outputs": [],
   "source": []
  },
  {
   "cell_type": "code",
   "execution_count": null,
   "metadata": {},
   "outputs": [],
   "source": []
  }
 ],
 "metadata": {
  "kernelspec": {
   "display_name": "Python 3",
   "language": "python",
   "name": "python3"
  },
  "language_info": {
   "codemirror_mode": {
    "name": "ipython",
    "version": 3
   },
   "file_extension": ".py",
   "mimetype": "text/x-python",
   "name": "python",
   "nbconvert_exporter": "python",
   "pygments_lexer": "ipython3",
   "version": "3.8.3"
  }
 },
 "nbformat": 4,
 "nbformat_minor": 4
}
