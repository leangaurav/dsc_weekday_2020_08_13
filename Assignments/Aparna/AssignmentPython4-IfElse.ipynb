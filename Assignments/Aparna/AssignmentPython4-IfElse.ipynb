{
 "cells": [
  {
   "cell_type": "code",
   "execution_count": 2,
   "metadata": {},
   "outputs": [
    {
     "name": "stdout",
     "output_type": "stream",
     "text": [
      "enter first number :4\n",
      "enter second number:2\n",
      "True\n"
     ]
    }
   ],
   "source": [
    "a=int(input(\"enter first number :\"))\n",
    "b=int(input(\"enter second number:\"))\n",
    "if(a%b==0):\n",
    "    print(\"True\")\n",
    "else:\n",
    "    print(\"False\")\n",
    "    "
   ]
  },
  {
   "cell_type": "code",
   "execution_count": 103,
   "metadata": {},
   "outputs": [
    {
     "name": "stdout",
     "output_type": "stream",
     "text": [
      "enter a year :2004\n",
      "Leap year1\n"
     ]
    }
   ],
   "source": [
    "a=input(\"enter a year :\")\n",
    "b=int(a)\n",
    "if(b%100==0):\n",
    "    if(b%400==0):\n",
    "        print('Leap year')\n",
    "    else:\n",
    "        print('Not a Leap year')\n",
    "else:\n",
    "    if((b%100!=0 and b%4==0)):\n",
    "        print('Leap year1')\n",
    "    else:\n",
    "        print('Not a Leap year1')"
   ]
  },
  {
   "cell_type": "code",
   "execution_count": 111,
   "metadata": {},
   "outputs": [
    {
     "name": "stdout",
     "output_type": "stream",
     "text": [
      "20\n"
     ]
    }
   ],
   "source": [
    "print(20 if not 1==1 else 10)"
   ]
  },
  {
   "cell_type": "code",
   "execution_count": 113,
   "metadata": {},
   "outputs": [
    {
     "name": "stdout",
     "output_type": "stream",
     "text": [
      "20\n"
     ]
    }
   ],
   "source": [
    "print(30 if not 1==1 else 20 if 'a'<'A' else 10)"
   ]
  },
  {
   "cell_type": "code",
   "execution_count": 114,
   "metadata": {},
   "outputs": [
    {
     "name": "stdout",
     "output_type": "stream",
     "text": [
      "10\n"
     ]
    }
   ],
   "source": [
    "print(40 if not 1==1 else 30 if 'a'<'A' else 20 if '' else 10)"
   ]
  },
  {
   "cell_type": "code",
   "execution_count": 119,
   "metadata": {},
   "outputs": [
    {
     "name": "stdout",
     "output_type": "stream",
     "text": [
      "OMG\n"
     ]
    }
   ],
   "source": [
    "print('No1' if not 1==1 else ('No2' if 'a'<'A' else ('OMG' if 'BTK' else 'No3')))"
   ]
  },
  {
   "cell_type": "code",
   "execution_count": 7,
   "metadata": {
    "scrolled": true
   },
   "outputs": [
    {
     "name": "stdout",
     "output_type": "stream",
     "text": [
      "Enter StringnitIN\n",
      "nitin\n",
      "nitin\n",
      "pallindrome\n"
     ]
    }
   ],
   "source": [
    "s=input(\"Enter String\")\n",
    "lower=s.lower()\n",
    "y=lower[ : :-1]\n",
    "if(y==lower):\n",
    "    print(\"pallindrome\")\n",
    "else:\n",
    "    print(\"Not a pallindrome\")"
   ]
  },
  {
   "cell_type": "code",
   "execution_count": 13,
   "metadata": {},
   "outputs": [
    {
     "name": "stdout",
     "output_type": "stream",
     "text": [
      "enter first side :8\n",
      "enter second side :9\n",
      "enter third side:9\n",
      "isoceles\n"
     ]
    }
   ],
   "source": [
    "a=int(input(\"enter first side :\"))\n",
    "b=int(input(\"enter second side :\"))\n",
    "c=int(input(\"enter third side:\"))\n",
    "if(a==b and a==c):\n",
    "    print(\"equilateral\")\n",
    "elif(a==b or b==c or a==c):\n",
    "    print(\"isoceles\")\n",
    "elif(a!=b or a!=c or b!=c):\n",
    "    print(\"scalene\")"
   ]
  },
  {
   "cell_type": "code",
   "execution_count": 15,
   "metadata": {},
   "outputs": [
    {
     "name": "stdout",
     "output_type": "stream",
     "text": [
      "enter first number :8\n",
      "Even\n"
     ]
    }
   ],
   "source": [
    "a=int(input(\"enter first number :\"))\n",
    "if(a%2==0):\n",
    "    print(\"Even\")\n",
    "else:\n",
    "    print(\"odd\")"
   ]
  },
  {
   "cell_type": "code",
   "execution_count": 18,
   "metadata": {},
   "outputs": [
    {
     "name": "stdout",
     "output_type": "stream",
     "text": [
      "enter age50\n",
      "Adult\n"
     ]
    }
   ],
   "source": [
    "age=int(input(\"enter age\"))\n",
    "if(age>=0 and age<=12):\n",
    "    print(\"Child\")\n",
    "elif(age>=13 and age<=17):\n",
    "    print(\"Teen\")\n",
    "elif(age>=18 and age<=50):\n",
    "    print(\"Adult\")\n",
    "elif(age>=51 and age<=100):\n",
    "    print(\"Senior Citizen\")\n",
    "elif(a>100):\n",
    "    print(\"Congratulations\")\n",
    "    \n",
    "    "
   ]
  },
  {
   "cell_type": "code",
   "execution_count": 109,
   "metadata": {},
   "outputs": [
    {
     "name": "stdout",
     "output_type": "stream",
     "text": [
      "Enter year :1898\n",
      "Common year\n"
     ]
    }
   ],
   "source": [
    "year=int(input(\"Enter year :\"))\n",
    "if year%4!=0:\n",
    "    print(\"Common year\")\n",
    "elif year%100!=0:\n",
    "    print(\"Leap year\")\n",
    "elif year%400!=0:\n",
    "    print(\"Common year\")\n",
    "else:\n",
    "    print(\"Leap Year\")"
   ]
  },
  {
   "cell_type": "code",
   "execution_count": 52,
   "metadata": {},
   "outputs": [
    {
     "name": "stdout",
     "output_type": "stream",
     "text": [
      "enter a string: asdasd\n",
      "asdasd\n"
     ]
    }
   ],
   "source": [
    "a=input(\"enter a string: \")\n",
    "if(len(a)%2!=0):\n",
    "    print(a.upper())\n",
    "else:\n",
    "    print(a.lower())"
   ]
  },
  {
   "cell_type": "code",
   "execution_count": 56,
   "metadata": {},
   "outputs": [
    {
     "name": "stdout",
     "output_type": "stream",
     "text": [
      "enter a string: EGG\n",
      "Non-veg\n"
     ]
    }
   ],
   "source": [
    "a=input(\"enter a string: \")\n",
    "s=a.lower()\n",
    "if(s[ : : ]=='egg'):\n",
    "    print(\"Non-veg\")\n",
    "else:\n",
    "    print(\"Veg\")"
   ]
  },
  {
   "cell_type": "code",
   "execution_count": 59,
   "metadata": {},
   "outputs": [
    {
     "name": "stdout",
     "output_type": "stream",
     "text": [
      "true\n"
     ]
    }
   ],
   "source": [
    "if  not 1:\n",
    "    print(\"false\")\n",
    "else:\n",
    "    print(\"true\")"
   ]
  },
  {
   "cell_type": "code",
   "execution_count": 49,
   "metadata": {},
   "outputs": [
    {
     "name": "stdout",
     "output_type": "stream",
     "text": [
      "enter a m1: 45\n",
      "enter a m2: 45\n",
      "enter a m3: 89\n",
      "enter a m4: 56\n",
      "enter a m5: 89\n",
      "C\n"
     ]
    }
   ],
   "source": [
    "m1=int(input(\"enter a m1: \"))\n",
    "m2=int(input(\"enter a m2: \"))\n",
    "m3=int(input(\"enter a m3: \"))\n",
    "m4=int(input(\"enter a m4: \"))\n",
    "m5=int(input(\"enter a m5: \"))\n",
    "avg=(m1+m2+m3+m4+m5)/5\n",
    "if(avg>=90 and avg<=100):\n",
    "    print(\"A\")\n",
    "elif (avg>=80 and avg<=89):\n",
    "    print(\"B\")\n",
    "elif (avg>=60 and avg<=79):\n",
    "    print(\"C\")   \n",
    "elif (avg<60 and avg>=0):\n",
    "    print(\"F\")             "
   ]
  },
  {
   "cell_type": "code",
   "execution_count": 51,
   "metadata": {},
   "outputs": [
    {
     "name": "stdout",
     "output_type": "stream",
     "text": [
      "enter a age: 52\n",
      "enter a sal: 500002\n",
      "50000.200000000004\n"
     ]
    }
   ],
   "source": [
    "age=int(input(\"enter a age: \"))\n",
    "sal=int(input(\"enter a sal: \"))\n",
    "if(age<60):\n",
    "    if(sal>=0 and sal<=250000):\n",
    "        print(0)\n",
    "    elif (sal>=250001 and sal<=500000):\n",
    "        print(0.05*sal)\n",
    "    elif (sal>=500001 and sal<=1000000):\n",
    "        print(0.10*sal)\n",
    "    elif (sal>1000000):\n",
    "        print(0.15*sal)\n",
    "elif (age>=60):\n",
    "    if(sal>=0 and sal<=250000):\n",
    "        print(0)\n",
    "    elif (sal>=250001 and sal<=500000):\n",
    "        print(0.03*sal)\n",
    "    elif (sal>=500001 and sal<=1000000):\n",
    "        print(0.08*sal)\n",
    "    elif (sal>1000000):\n",
    "        print(0.12*sal)"
   ]
  },
  {
   "cell_type": "code",
   "execution_count": 53,
   "metadata": {},
   "outputs": [
    {
     "name": "stdout",
     "output_type": "stream",
     "text": [
      "enter a age1: 9\n",
      "enter a age2: 5\n",
      "enter a age3: 8\n",
      "Age1\n"
     ]
    }
   ],
   "source": [
    "age1=int(input(\"enter a age1: \"))\n",
    "age2=int(input(\"enter a age2: \"))\n",
    "age3=int(input(\"enter a age3: \"))\n",
    "if(age1>age2 and age1>age3):\n",
    "    print(\"Age1\")\n",
    "elif(age2>age1 and age2>age3) :\n",
    "    print(\"Age2\")\n",
    "else:\n",
    "    print(\"Age3\")"
   ]
  },
  {
   "cell_type": "code",
   "execution_count": 56,
   "metadata": {},
   "outputs": [
    {
     "name": "stdout",
     "output_type": "stream",
     "text": [
      "enter a n1: 70\n",
      "number is divisible by both 5 and 7\n"
     ]
    }
   ],
   "source": [
    "n1=int(input(\"enter a n1: \"))\n",
    "if(n1%35==0):\n",
    "    print(\"number is divisible by both 5 and 7\")\n",
    "else:\n",
    "    print(\"number is not divisible by both 5 and 7\")"
   ]
  }
 ],
 "metadata": {
  "kernelspec": {
   "display_name": "Python 3",
   "language": "python",
   "name": "python3"
  },
  "language_info": {
   "codemirror_mode": {
    "name": "ipython",
    "version": 3
   },
   "file_extension": ".py",
   "mimetype": "text/x-python",
   "name": "python",
   "nbconvert_exporter": "python",
   "pygments_lexer": "ipython3",
   "version": "3.8.3"
  }
 },
 "nbformat": 4,
 "nbformat_minor": 4
}
