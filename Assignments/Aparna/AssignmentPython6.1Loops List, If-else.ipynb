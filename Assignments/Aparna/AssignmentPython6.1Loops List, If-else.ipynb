{
 "cells": [
  {
   "cell_type": "code",
   "execution_count": 4,
   "metadata": {},
   "outputs": [
    {
     "name": "stdout",
     "output_type": "stream",
     "text": [
      "enter string :aparna\n",
      "a,p,a,r,n,a,"
     ]
    }
   ],
   "source": [
    "#1\n",
    "n=input(\"enter string :\")\n",
    "l=len(n)\n",
    "for i in range(l):\n",
    "    print(n[i],end=',')"
   ]
  },
  {
   "cell_type": "code",
   "execution_count": 8,
   "metadata": {
    "scrolled": true
   },
   "outputs": [
    {
     "name": "stdout",
     "output_type": "stream",
     "text": [
      "enter string :kljlk\n",
      "print the ascii value of  k 107\n",
      "print the ascii value of  l 108\n",
      "print the ascii value of  j 106\n",
      "print the ascii value of  l 108\n",
      "print the ascii value of  k 107\n"
     ]
    }
   ],
   "source": [
    "#2\n",
    "n=input(\"enter string :\")\n",
    "l=len(n)\n",
    "for i in range(l):\n",
    "    print(f\"print the ascii value of \" ,n[i],ord(n[i]))"
   ]
  },
  {
   "cell_type": "code",
   "execution_count": 52,
   "metadata": {
    "scrolled": true
   },
   "outputs": [
    {
     "name": "stdout",
     "output_type": "stream",
     "text": [
      "enter numbers :5\n",
      "enter numbers :1\n",
      "enter numbers :2\n",
      "enter numbers :3\n",
      "enter numbers :4\n",
      "enter numbers :5\n",
      "9\n"
     ]
    }
   ],
   "source": [
    "n=int(input(\"enter numbers :\"))\n",
    "s=0\n",
    "for i in range (0,n):\n",
    "    m=int(input(\"enter numbers :\"))\n",
    "    if (m%2!=0):\n",
    "        #print(m)\n",
    "        s=s+m       \n",
    "print(s)"
   ]
  },
  {
   "cell_type": "code",
   "execution_count": 61,
   "metadata": {},
   "outputs": [
    {
     "name": "stdout",
     "output_type": "stream",
     "text": [
      "How many numbers :4\n",
      "enter number:1\n",
      "enter number:4\n",
      "enter number:6\n",
      "enter number:3\n",
      "enter new number to be added to the list  :9\n",
      "(1, 4, 6, 3, 9)\n",
      "4\n"
     ]
    }
   ],
   "source": [
    "n=int(input(\"How many numbers :\"))\n",
    "a=[]\n",
    "for i in range(n):\n",
    "    m=int(input(\"enter number:\"))\n",
    "    a.append(m)\n",
    "z=int(input(\"enter new number to be added to the list  :\"))\n",
    "a.append(z)\n",
    "print(tuple(a))\n",
    "print(a.index(z))\n",
    "\n",
    "    "
   ]
  },
  {
   "cell_type": "code",
   "execution_count": 97,
   "metadata": {},
   "outputs": [
    {
     "name": "stdout",
     "output_type": "stream",
     "text": [
      "Number at position  2 = 0.3692825295604214\n",
      "Number at position  4 = 0.24470529162242505\n",
      "Number at position  6 = 0.4513533277217857\n",
      "Number at position  8 = 0.6806525811068191\n",
      "sum  52.05969308085612\n",
      "avg 5.205969308085612\n"
     ]
    }
   ],
   "source": [
    "# Create a list of 10 random numbers and then print the list, sum of all numbers and average. Use\n",
    "# a for loop. Also print elements at only even indexes in the list. \n",
    "from random import random\n",
    "for i in range (1,10):\n",
    "    a=random()\n",
    "    if i%2==0:\n",
    "        print(\"Number at position \",i ,\"=\",a)\n",
    "    s=s+a\n",
    "print(f\"sum \", s)\n",
    "print(f\"avg\" , (s/10))"
   ]
  },
  {
   "cell_type": "code",
   "execution_count": 107,
   "metadata": {},
   "outputs": [
    {
     "name": "stdout",
     "output_type": "stream",
     "text": [
      "enter number :1\n",
      "enter number :2\n",
      "enter number :3\n",
      "enter number :4\n",
      "enter number :5\n",
      "enter number :6\n",
      "enter number :7\n",
      "enter number :8\n",
      "enter number :9\n",
      "enter number :10\n",
      "[1, 2, 3, 4, 5, 6, 7, 8, 9, 10]\n",
      "55\n"
     ]
    }
   ],
   "source": [
    "#WAP to input 10 numbers repeatedly (using range based for loop) and store them in a list. Print\n",
    "#the list and sum of numbers in the list. \n",
    "a=[]\n",
    "s=0\n",
    "for i in range (0,10):\n",
    "    m=int(input(\"enter number :\"))\n",
    "    a.append(m)\n",
    "    s=s+m\n",
    "print(a)\n",
    "print(s)\n"
   ]
  },
  {
   "cell_type": "code",
   "execution_count": 109,
   "metadata": {},
   "outputs": [
    {
     "name": "stdout",
     "output_type": "stream",
     "text": [
      "enter number :9\n",
      "9 * 1 = 9\n",
      "9 * 2 = 18\n",
      "9 * 3 = 27\n",
      "9 * 4 = 36\n",
      "9 * 5 = 45\n",
      "9 * 6 = 54\n",
      "9 * 7 = 63\n",
      "9 * 8 = 72\n",
      "9 * 9 = 81\n",
      "9 * 10 = 90\n"
     ]
    }
   ],
   "source": [
    "#WAP to input a number and print its table. Ex: if user enters the number as 7, output should be \n",
    "m=int(input(\"enter number :\"))\n",
    "for i in range (1,11):\n",
    "    print( m ,\"*\", i ,\"=\",m*i)\n",
    "\n"
   ]
  },
  {
   "cell_type": "code",
   "execution_count": 113,
   "metadata": {},
   "outputs": [
    {
     "name": "stdout",
     "output_type": "stream",
     "text": [
      "enter string :asdasd asdas asdad\n",
      "2\n"
     ]
    }
   ],
   "source": [
    "#WAP to print total number of spaces in a string (Use for loop to iterate over the string. Don’t use count function). \n",
    "m=input(\"enter string :\")\n",
    "l=len(m)\n",
    "s=0\n",
    "for i in range (l):\n",
    "    if (m[i]==' '):\n",
    "        s=s+1\n",
    "print(s)\n"
   ]
  },
  {
   "cell_type": "code",
   "execution_count": 119,
   "metadata": {},
   "outputs": [
    {
     "name": "stdout",
     "output_type": "stream",
     "text": [
      "enter string :APARNA\n",
      "3\n"
     ]
    }
   ],
   "source": [
    "#WAP to input a string and count number of vowels in the string. [Note: it should work for both\n",
    "#capital and small alphabets] \n",
    "m=input(\"enter string :\")\n",
    "x=m.lower()\n",
    "l=len(m)\n",
    "s=0\n",
    "for i in range (l):\n",
    "    if (x[i] in 'aeiou'):\n",
    "        s=s+1\n",
    "print(s)"
   ]
  },
  {
   "cell_type": "code",
   "execution_count": 127,
   "metadata": {},
   "outputs": [
    {
     "name": "stdout",
     "output_type": "stream",
     "text": [
      "enter string :somjeeet\n",
      "['s', 'o', 'm', 'j', 'e', 'e', 'e', 't']\n",
      "s__m_j____t\n"
     ]
    }
   ],
   "source": [
    "#WAP to input a string and replace all vowels with ‘_’.\n",
    "#[Hint: Convert string to list. Remember!! Strings are immutable. Replace in the list and then join] \n",
    "\n",
    "m=input(\"enter string :\")\n",
    "x=m.lower()\n",
    "y=list(x)\n",
    "print(y)\n",
    "l=len(y)\n",
    "s=0\n",
    "for i in range (l):\n",
    "    if y[i].isalpha()==True :\n",
    "        if y[i]  in 'aeiou':\n",
    "            y[i]=''\n",
    "y='_'.join(y)\n",
    "print(y)\n",
    "        "
   ]
  }
 ],
 "metadata": {
  "kernelspec": {
   "display_name": "Python 3",
   "language": "python",
   "name": "python3"
  },
  "language_info": {
   "codemirror_mode": {
    "name": "ipython",
    "version": 3
   },
   "file_extension": ".py",
   "mimetype": "text/x-python",
   "name": "python",
   "nbconvert_exporter": "python",
   "pygments_lexer": "ipython3",
   "version": "3.8.3"
  }
 },
 "nbformat": 4,
 "nbformat_minor": 4
}
