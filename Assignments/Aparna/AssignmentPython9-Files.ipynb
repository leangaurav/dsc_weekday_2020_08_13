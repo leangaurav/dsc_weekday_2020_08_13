{
 "cells": [
  {
   "cell_type": "code",
   "execution_count": null,
   "metadata": {},
   "outputs": [],
   "source": [
    "#Write a program in python that stores alphabets from a to z in a text file.\n",
    "with open(\"temp1.txt\",'w') as f:\n",
    "\tfor i in range(97,122):\n",
    "\t\tprint(chr(i),file=f, end=' ')\n"
   ]
  },
  {
   "cell_type": "code",
   "execution_count": null,
   "metadata": {},
   "outputs": [],
   "source": [
    "#Write a program to read itself and print on the screen (Use Command Line Arguments).\n",
    "import sys\n",
    "file_name=sys.argv[0]\n",
    "with open(file_name,'r') as f:\n",
    "\tprint(f.read())\n"
   ]
  },
  {
   "cell_type": "code",
   "execution_count": null,
   "metadata": {},
   "outputs": [],
   "source": [
    "#Predict output of the following piece of code:\n",
    "\n",
    "f=open('file','w')\n",
    "f.write('line with some characters')\n",
    "f.close()\n",
    "\n",
    "f=open('file','r')\n",
    "print(f.tell())\n",
    "print(f.read(4))\n",
    "print(f.tell())"
   ]
  },
  {
   "cell_type": "code",
   "execution_count": null,
   "metadata": {},
   "outputs": [],
   "source": [
    "#Write a program to read a file and copy it into a new file\n",
    "\n",
    "import sys\n",
    "if len(sys.argv)>=2:\n",
    "\tsrc_file=sys.argv[1]\n",
    "\tdot_index=src_file.rfind(\".\")\n",
    "\ttgt_file=src_file[:dot_index]+\"_copy\"+src_file[dot_index:]\n",
    "\ttry:\n",
    "\t\twith open(src_file,'r') as source:\n",
    "\t\t\twith open(tgt_file ,'w') as target:\n",
    "\t\t\t\ttext=source.read()\n",
    "\t\t\t\ttarget.write(text)\n",
    "\t\t\twith open(tgt_file,'r') as target:\n",
    "\t\t\t\tprint(target.read())\n",
    "\texcept:\n",
    "\t\tprint(\"invalid file\")"
   ]
  },
  {
   "cell_type": "code",
   "execution_count": null,
   "metadata": {},
   "outputs": [],
   "source": [
    "#Write a program to read a file and copy the contents to a new file such that the case gets\n",
    "#reversed. i.e. upper case becomes lower case and vice versa.\n",
    "\n",
    "import sys\n",
    "if len(sys.argv)>=2:\n",
    "\tsrc_file=sys.argv[1]\n",
    "\tdot_index=src_file.rfind(\".\")\n",
    "\ttgt_file=src_file[:dot_index]+\"_copy\"+src_file[dot_index:]\n",
    "\ttry:\n",
    "\t\twith open(src_file,'r') as source:\n",
    "\t\t\twith open(tgt_file ,'w') as target:\n",
    "\t\t\t\ttext=source.read()\n",
    "\t\t\t\ttarget.write(text.swapcase())\n",
    "\t\tprint(\"Below is copied file output\")\n",
    "\t\twith open(tgt_file,'r') as target:\n",
    "\t\t\tprint(target.read())\n",
    "\texcept:\n",
    "\t\tprint(\"invalid file\")"
   ]
  },
  {
   "cell_type": "code",
   "execution_count": null,
   "metadata": {},
   "outputs": [],
   "source": [
    "#Write a program that take a file name as command line argument, opens it and then counts\n",
    "#number of space characters in that file.\n",
    "\n",
    "import sys\n",
    "if len(sys.argv)>=2:\n",
    "\tsrc_file=sys.argv[1]\n",
    "\ttry:\n",
    "\t\twith open(src_file,'r') as source:\n",
    "\t\t\ttext=source.read()\n",
    "\t\t\tc=0\n",
    "\t\t\tfor i in text:\n",
    "\t\t\t\tif (i==\" \"):\n",
    "\t\t\t\t\tc=c+1\n",
    "\t\t\tprint(text)\n",
    "\t\t\tprint(f\"number of spaces in the text\",c)\n",
    "\t\t\tprint(source.read())\n",
    "\texcept:\n",
    "\t\tprint(\"invalid file\")"
   ]
  },
  {
   "cell_type": "code",
   "execution_count": null,
   "metadata": {},
   "outputs": [],
   "source": [
    "#Write a script called diff.py that take two file names as arguments and checks if the content of\n",
    "#both the files is same and prints true or false.\n",
    "\n",
    "import sys\n",
    "if len(sys.argv)>=2:\n",
    "\tsrc_file=sys.argv[1]\n",
    "\ttry:\n",
    "\t\twith open(src_file,'r') as source:\n",
    "\t\t\ttext=source.read()\n",
    "\t\t\tc_alpha=0\n",
    "\t\t\tc_space=0\n",
    "\t\t\tc_spech=0\n",
    "\t\t\tc_numb=0\n",
    "\t\t\tfor i in text:\n",
    "\t\t\t\tif (i==\" \"):\n",
    "\t\t\t\t\tc_space=c_space+1\n",
    "\t\t\t\telif i.isalpha()==True:\n",
    "\t\t\t\t\tc_alpha=c_alpha+1\n",
    "\t\t\t\telif i in (\"[@_!#$%^&*()<>?/|}{~:]-\") :\n",
    "\t\t\t\t\tc_spech=c_spech+1\n",
    "\t\t\t\telif i.isdigit()==True:\n",
    "\t\t\t\t\tc_numb=c_numb+1\n",
    "\t\t\t\n",
    "\t\t\tprint(text)\n",
    "\t\t\tprint(f\"number of special characters in the text\",c_spech )\t\t\n",
    "\t\t\tprint(f\"number of alphabets in the text\",c_alpha )\n",
    "\t\t\tprint(f\"number of spaces in the text\",c_space)\n",
    "\t\t\tprint(f\"number of digits in the text\",c_numb)\n",
    "\t\t\tprint(source.read())\n",
    "\texcept:\n",
    "\t\tprint(\"invalid file\")"
   ]
  },
  {
   "cell_type": "code",
   "execution_count": null,
   "metadata": {},
   "outputs": [],
   "source": [
    "#Write a script called diff.py that take two file names as arguments and checks if the content of\n",
    "\n",
    "import sys\n",
    "file1=sys.argv[1]\n",
    "file2=sys.argv[2]\n",
    "try:\n",
    "\twith open(file1,'r') as f1:\n",
    "\t\twith open(file2,'r') as f2:\n",
    "\t\t\tif(f1.read()==f2.read()):\n",
    "\t\t\t\tprint(\"Same\")\n",
    "\t\t\telse:\n",
    "\t\t\t\tprint(\"Different\")\n",
    "except:\n",
    "\t\tprint(\"invalid file\")both the files is same and prints true or false."
   ]
  },
  {
   "cell_type": "code",
   "execution_count": null,
   "metadata": {},
   "outputs": [],
   "source": [
    "#WAP to count the number of words in a file.\n",
    "\n",
    "import sys\n",
    "file1=sys.argv[1]\n",
    "\n",
    "try:\n",
    "\twith open(file1,'r') as f1:\n",
    "\t\tc=1\n",
    "\t\ttext=f1.read()\n",
    "\t\tfor i in text:\n",
    "\t\t\tif(i==\" \"):\n",
    "\t\t\t\tc=c+1\n",
    "\t\t\t\n",
    "\t\tprint(text)\n",
    "\t\tprint(\"words in file\",c)\n",
    "except:\n",
    "\t\tprint(\"invalid file\")"
   ]
  },
  {
   "cell_type": "code",
   "execution_count": 6,
   "metadata": {},
   "outputs": [
    {
     "name": "stdout",
     "output_type": "stream",
     "text": [
      "fed dcba\n"
     ]
    }
   ],
   "source": [
    "#Update the above program to count the number of palindromes present in the file.\n",
    "\n",
    "import sys\n",
    "file1=sys.argv[1:]\n",
    "c=0\n",
    "with open (file1[0],'r') as f:\n",
    "\ttext=f.read()\n",
    "\tfor i in text.split():\n",
    "\t\tif i.lower()==i.lower()[: :-1]:\n",
    "\t\t\tc=c+1\n",
    "print(c)"
   ]
  },
  {
   "cell_type": "code",
   "execution_count": 9,
   "metadata": {},
   "outputs": [
    {
     "name": "stdout",
     "output_type": "stream",
     "text": [
      "['abc', 'acb', 'bac', 'bca', 'cab', 'cba']\n"
     ]
    }
   ],
   "source": [
    "#Update the program again to count and print number of anagrams in the file.\n",
    "\n",
    "import sys\n",
    "import itertools\n",
    "file1=sys.argv[1:]\n",
    "\n",
    "with open (file1[0],'r') as f:\n",
    "\ttext=f.read()\n",
    "\tperms = sorted(set([''.join(perm) for perm in itertools.permutations(text)]))\n",
    "\tprint(perms)\n"
   ]
  }
 ],
 "metadata": {
  "kernelspec": {
   "display_name": "Python 3",
   "language": "python",
   "name": "python3"
  },
  "language_info": {
   "codemirror_mode": {
    "name": "ipython",
    "version": 3
   },
   "file_extension": ".py",
   "mimetype": "text/x-python",
   "name": "python",
   "nbconvert_exporter": "python",
   "pygments_lexer": "ipython3",
   "version": "3.8.3"
  }
 },
 "nbformat": 4,
 "nbformat_minor": 4
}
