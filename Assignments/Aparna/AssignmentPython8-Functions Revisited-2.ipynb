{
 "cells": [
  {
   "cell_type": "code",
   "execution_count": 1,
   "metadata": {},
   "outputs": [
    {
     "name": "stdout",
     "output_type": "stream",
     "text": [
      "Enter a list of numbers : 6 7 8\n",
      "maximum number = 8\n"
     ]
    }
   ],
   "source": [
    "x=int(input(\"Enter number:\"))\n",
    "u=lambda a: a*a\n",
    "print(u(x))\n",
    "v=lambda a : pow(a,-1)\n",
    "print(v(x))\n",
    "w=lambda a : -a\n",
    "print(w(x))"
   ]
  },
  {
   "cell_type": "code",
   "execution_count": null,
   "metadata": {},
   "outputs": [],
   "source": [
    "from  functools import reduce\n",
    "try :\n",
    "    lt = input(\"Enter a list of numbers : \").split()\n",
    "    lti = list(map(lambda x: int(x),lt))\n",
    "\n",
    "    print(\"maximum number =\",reduce(lambda x,y: x if x>y else y,lti))\n",
    "except ValueError:\n",
    "    print(\"You havent entered number !\")\n",
    "except:\n",
    "    print(\"Some unknown error\")"
   ]
  },
  {
   "cell_type": "code",
   "execution_count": null,
   "metadata": {},
   "outputs": [],
   "source": [
    "try :\n",
    "    lt = input(\"Enter a list of numbers : \").split()\n",
    "    lt1 = list(map(lambda x: int(x),lt))\n",
    "    lt2 = list(map(lambda x: x**2,lt1))\n",
    "    lt3 = list(map(lambda x: pow(x,-1),lt2))\n",
    "    print(lt2)\n",
    "    print(lt3)\n",
    "    print(list(map(lambda x: -x,lt3)))\n",
    "except ValueError:\n",
    "    print(\"You havent entered number !\")\n",
    "except:\n",
    "    print(\"Some unknown error\")"
   ]
  },
  {
   "cell_type": "code",
   "execution_count": null,
   "metadata": {},
   "outputs": [],
   "source": [
    "def map_multiple(func1,seq):\n",
    "    return (list(map(func1,seq))) \n",
    "\n",
    "seq=input(\"enter number :\").split()\n",
    "l1=list(map(lambda x:int(x),seq))\n",
    "print(map_multiple(lambda x:x**2,l1))\n",
    "print(map_multiple(lambda x:1/x,map_multiple(lambda x:x**2,l1)))\n",
    "print(map_multiple(lambda x:-x,map_multiple(lambda x:1/x,map_multiple(lambda x:x**2,l1))))\n"
   ]
  },
  {
   "cell_type": "code",
   "execution_count": null,
   "metadata": {},
   "outputs": [],
   "source": [
    "functs=[lambda x:x**0.5 , lambda x:1/x ]\n",
    "l=[1,4,16,64]\n",
    "ans=[]\n",
    "for i in l :\n",
    "    res=i\n",
    "    for funct in functs:\n",
    "        res=funct(res)\n",
    "        #print(res)\n",
    "    ans.append(res)\n",
    "print(ans)"
   ]
  },
  {
   "cell_type": "code",
   "execution_count": null,
   "metadata": {},
   "outputs": [],
   "source": [
    "lt1 = input(\"Enter a list of numbers : \").split()\n",
    "lt2 = list(map(lambda x: int(x),lt1))+input(\"Enter a list of string : \").split()\n",
    "\n",
    "def is_number(x):\n",
    "    return isinstance(x,int)\n",
    "print(list(filter(is_number,lt2)))\n"
   ]
  },
  {
   "cell_type": "code",
   "execution_count": 2,
   "metadata": {},
   "outputs": [
    {
     "name": "stdout",
     "output_type": "stream",
     "text": [
      "Enter a list of heights : 5ft10in\n",
      "['5ft10in']\n",
      "[1.78]\n"
     ]
    }
   ],
   "source": [
    "#Assume a list containing heights ft and inches in the form of a list of string Example : l = [‘5ft10in’, ‘5ft’, ….]\n",
    "#Write a function to convert the heights to meter. \n",
    "#Use map function along with your function to convert everything to m.\n",
    "\n",
    "lt1 = input(\"Enter a list of heights : \").split()\n",
    "print(lt1)\n",
    "def convert_ft_metre(x):\n",
    "    y=x.find('ft')\n",
    "    z=x.find('in')\n",
    "    if x.find('in')!=-1:\n",
    "        m=(int(x[:y])*0.3048)+(int(x[y+2:z])*.0254)\n",
    "        return round(m,2)\n",
    "    else:\n",
    "        m=(int(x[:y])*0.3048)\n",
    "        return round(m,2)\n",
    "    \n",
    "\n",
    "print(list(map(convert_ft_metre,lt1)))\n",
    "    \n",
    "    "
   ]
  },
  {
   "cell_type": "code",
   "execution_count": 1,
   "metadata": {},
   "outputs": [
    {
     "name": "stdout",
     "output_type": "stream",
     "text": [
      "[1, 4, 9]\n"
     ]
    }
   ],
   "source": [
    "l1=[1,2,3]\n",
    "print(list(map(lambda x:x**2 , l1)))"
   ]
  },
  {
   "cell_type": "code",
   "execution_count": 34,
   "metadata": {},
   "outputs": [
    {
     "name": "stdout",
     "output_type": "stream",
     "text": [
      "Enter a list of nos:7 8 9\n",
      "[49, 64, 81]\n"
     ]
    }
   ],
   "source": [
    "def my_map(func,lst):\n",
    "    a = []\n",
    "    for k in lst:\n",
    "        a.append(func(k))\n",
    "    return a\n",
    "\n",
    "lt1 = input(\"Enter a list of nos:\").split()\n",
    "lt2 = (my_map(lambda a: int(a),lt1))\n",
    "print(my_map(lambda x:x**2,lt2))"
   ]
  }
 ],
 "metadata": {
  "kernelspec": {
   "display_name": "Python 3",
   "language": "python",
   "name": "python3"
  },
  "language_info": {
   "codemirror_mode": {
    "name": "ipython",
    "version": 3
   },
   "file_extension": ".py",
   "mimetype": "text/x-python",
   "name": "python",
   "nbconvert_exporter": "python",
   "pygments_lexer": "ipython3",
   "version": "3.8.3"
  }
 },
 "nbformat": 4,
 "nbformat_minor": 4
}
