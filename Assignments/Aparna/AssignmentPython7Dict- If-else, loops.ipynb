{
 "cells": [
  {
   "cell_type": "code",
   "execution_count": 8,
   "metadata": {},
   "outputs": [
    {
     "name": "stdout",
     "output_type": "stream",
     "text": [
      "{1: -1, 2: -2, 3: -3, 4: -4, 5: -5}\n"
     ]
    }
   ],
   "source": [
    "#WAP to create a dictionary of numbers mapped to their negative value for numbers from 1-5.\n",
    "#The dictionary should contain something like this:\n",
    "#Do with both with and without range based for loop.\n",
    "#{1:-1,2:-2,3:-3….}\n",
    "\n",
    "#with range based for loop\n",
    "dicts = {}\n",
    "for i in range(1,6):\n",
    "        dicts[i] = -i\n",
    "print(dicts)\n",
    "\n"
   ]
  },
  {
   "cell_type": "code",
   "execution_count": 21,
   "metadata": {},
   "outputs": [
    {
     "data": {
      "text/plain": [
       "{1: 10, 2: 20, 3: 30, 4: 40}"
      ]
     },
     "execution_count": 21,
     "metadata": {},
     "output_type": "execute_result"
    }
   ],
   "source": [
    "#Read help for zip and write a program that has two lists\n",
    "#l1 = [1,2,3,4]\n",
    "#l2 = [10,20,30,40]\n",
    "#And converts them to a dictionary d containing { 1:10,2:20 …….}\n",
    "\n",
    "l1 = [1,2,3,4]\n",
    "l2 = [10,20,30,40]\n",
    "zipped=zip(l1,l2)\n",
    "dict(zipped)"
   ]
  },
  {
   "cell_type": "code",
   "execution_count": 23,
   "metadata": {},
   "outputs": [
    {
     "name": "stdout",
     "output_type": "stream",
     "text": [
      "{65: 'A', 66: 'B', 67: 'C', 68: 'D', 69: 'E', 70: 'F', 71: 'G', 72: 'H', 73: 'I', 74: 'J', 75: 'K', 76: 'L', 77: 'M', 78: 'N', 79: 'O', 80: 'P', 81: 'Q', 82: 'R', 83: 'S', 84: 'T', 85: 'U', 86: 'V', 87: 'W', 88: 'X', 89: 'Y', 90: 'Z'}\n"
     ]
    }
   ],
   "source": [
    "#Use range based for loop to store all upper case alphabets and their corresponding ASCII\n",
    "#values in the dictionary d.\n",
    "#The result should be d = {‘A’: 65, ‘B’:66,…..}\n",
    "dicts={}\n",
    "for i in range (65,91):\n",
    "      dicts[i]=chr(i)\n",
    "print(dicts)     "
   ]
  },
  {
   "cell_type": "code",
   "execution_count": 65,
   "metadata": {},
   "outputs": [
    {
     "name": "stdout",
     "output_type": "stream",
     "text": [
      "{0: 'Zero', 1: 'One', 2: 'Two', 3: 'Three', 4: 'Four', 5: 'Five', 6: 'Six', 7: 'Seven', 8: 'Eight', 9: 'Nine'}\n",
      "dict_keys([0, 1, 2, 3, 4, 5, 6, 7, 8, 9])\n",
      "dict_values(['Zero', 'One', 'Two', 'Three', 'Four', 'Five', 'Six', 'Seven', 'Eight', 'Nine'])\n",
      "Zero\n",
      "enter value:4\n",
      "value = Four\n"
     ]
    }
   ],
   "source": [
    "#Create a mapping of number to word from 0-9. (0:’zero’……)\n",
    "#• Ask user for a single digit number and print the corresponding word format.\n",
    "#• Print all keys of above dictionary\n",
    "#• Print all Values of a dictionary\n",
    "#• Print all Key and Value pairs of above dictionary\n",
    "\n",
    "dicts=dict([(0,'Zero'),(1,'One'),(2,'Two'),(3,'Three'),(4,'Four'),(5,'Five'),(6,'Six'),(7,'Seven'),(8,'Eight'),(9,'Nine')])\n",
    "print(dicts)\n",
    "print(dicts.keys())\n",
    "print(dicts.values())\n",
    "print(dicts[0])\n",
    "\n",
    "a=int(input(\"enter value:\"))\n",
    "if a in dicts: \n",
    "    print(\"value =\", dicts[a]) \n",
    "else: \n",
    "    print(\"Not present\") \n"
   ]
  },
  {
   "cell_type": "code",
   "execution_count": 66,
   "metadata": {},
   "outputs": [
    {
     "name": "stdout",
     "output_type": "stream",
     "text": [
      "{'A': 'Apple', 'B': 'Ball', 'C': 'Cat', 'D': 'Dog'}\n",
      "{'A': 'Apple', 'C': 'Cat'}\n"
     ]
    }
   ],
   "source": [
    "l1=['A','B','C','D']\n",
    "l2=['Apple','Ball','Cat','Dog']\n",
    "d1=dict(zip(l1,l2))\n",
    "print(d1)\n",
    "d2=dict(list(d1.items())[::2])\n",
    "print(d2)"
   ]
  },
  {
   "cell_type": "code",
   "execution_count": 89,
   "metadata": {},
   "outputs": [
    {
     "name": "stdout",
     "output_type": "stream",
     "text": [
      "enter string :rythms is good and soothing\n",
      "i : 2\n",
      "o : 4\n",
      "a : 1\n"
     ]
    }
   ],
   "source": [
    "#WAP to input a string and count occurrence of each vowel in a string.\n",
    "#Ex: if user enters:\n",
    "#“Beautiful Day”\n",
    "#Output should Be:\n",
    "#a:2\n",
    "#e:1\n",
    "#i:1\n",
    "#o:0\n",
    "#u:2\n",
    "#[Hint: Use a list of a dictionary (preferably dictionary)]\n",
    "\n",
    "inp=input(\"enter string :\")\n",
    "inp=inp.lower()\n",
    "dicts={}\n",
    "for i in inp:\n",
    "    if i in 'aeiou':\n",
    "        dicts[i]=dicts.get(i,0)+1\n",
    "    \n",
    "if (dicts=={}):\n",
    "    print(\"No vowels\")\n",
    "else:\n",
    "    for k in dicts:\n",
    "        print(k, \":\", dicts[k])"
   ]
  },
  {
   "cell_type": "code",
   "execution_count": 104,
   "metadata": {},
   "outputs": [
    {
     "name": "stdout",
     "output_type": "stream",
     "text": [
      "enter string :i am learning python which i like\n",
      "7\n",
      "{'i': 2, 'am': 1, 'learning': 1, 'python': 1, 'which': 1, 'like': 1}\n"
     ]
    }
   ],
   "source": [
    "#WAP that takes a string as input and prints frequency of each word.\n",
    "#Ex: if input is “count the words in the sentence in”\n",
    "#Output:\n",
    "#count: 1\n",
    "#the: 2\n",
    "#words: 1\n",
    "#in: 2\n",
    "#sentence: 1\n",
    "\n",
    "inp=input(\"enter string :\").split()\n",
    "dicts={}\n",
    "for i in inp :\n",
    "    if i in dicts:\n",
    "        dicts[i]=dicts[i]+1\n",
    "    else:\n",
    "        dicts[i]=1\n",
    "print(dicts)\n"
   ]
  }
 ],
 "metadata": {
  "kernelspec": {
   "display_name": "Python 3",
   "language": "python",
   "name": "python3"
  },
  "language_info": {
   "codemirror_mode": {
    "name": "ipython",
    "version": 3
   },
   "file_extension": ".py",
   "mimetype": "text/x-python",
   "name": "python",
   "nbconvert_exporter": "python",
   "pygments_lexer": "ipython3",
   "version": "3.8.3"
  }
 },
 "nbformat": 4,
 "nbformat_minor": 4
}
