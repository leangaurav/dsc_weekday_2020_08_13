{
 "cells": [
  {
   "cell_type": "code",
   "execution_count": 9,
   "metadata": {},
   "outputs": [
    {
     "name": "stdout",
     "output_type": "stream",
     "text": [
      "enter no:5\n",
      "1\n",
      "2\n",
      "3\n",
      "4\n",
      "5\n"
     ]
    }
   ],
   "source": [
    "#1\n",
    "a=int(input(\"enter no:\"))\n",
    "for i in range(1,a+1):\n",
    "    print (i)\n"
   ]
  },
  {
   "cell_type": "code",
   "execution_count": 25,
   "metadata": {},
   "outputs": [
    {
     "name": "stdout",
     "output_type": "stream",
     "text": [
      "enter no:5\n",
      "15\n"
     ]
    }
   ],
   "source": [
    "#2\n",
    "a=int(input(\"enter no:\"))\n",
    "s=0\n",
    "for i in range(1,a+1):\n",
    "    s=s+i\n",
    "print(s)"
   ]
  },
  {
   "cell_type": "code",
   "execution_count": 28,
   "metadata": {},
   "outputs": [
    {
     "name": "stdout",
     "output_type": "stream",
     "text": [
      "enter no:6\n",
      "6\n",
      "5\n",
      "4\n",
      "3\n",
      "2\n",
      "1\n"
     ]
    }
   ],
   "source": [
    "#3\n",
    "a=int(input(\"enter no:\"))\n",
    "for i in range(a,0,-1):\n",
    "    #print('*')\n",
    "    print(i)\n",
    "\n",
    "    \n"
   ]
  },
  {
   "cell_type": "code",
   "execution_count": 3,
   "metadata": {},
   "outputs": [
    {
     "name": "stdout",
     "output_type": "stream",
     "text": [
      "enter no:4\n",
      "24\n"
     ]
    }
   ],
   "source": [
    "#4\n",
    "a=int(input(\"enter no:\"))\n",
    "fact=1\n",
    "for i in range(a):\n",
    "    fact=fact*(i+1)\n",
    "print(fact)\n"
   ]
  },
  {
   "cell_type": "code",
   "execution_count": 7,
   "metadata": {},
   "outputs": [
    {
     "name": "stdout",
     "output_type": "stream",
     "text": [
      "enter no:5\n",
      "1\n",
      "1\n",
      "2\n",
      "3\n",
      "5\n"
     ]
    }
   ],
   "source": [
    "#5\n",
    "n=int(input(\"enter no:\"))\n",
    "a=0\n",
    "b=1\n",
    "sum=0\n",
    "for i in range(n):\n",
    "    a=b\n",
    "    b=sum\n",
    "    sum=a+b\n",
    "    print(sum)\n",
    "    \n",
    "    "
   ]
  },
  {
   "cell_type": "code",
   "execution_count": 30,
   "metadata": {},
   "outputs": [
    {
     "name": "stdout",
     "output_type": "stream",
     "text": [
      "enter no:563\n",
      "('5', '6', '3')\n"
     ]
    }
   ],
   "source": [
    "#6\n",
    "n=input(\"enter no:\")\n",
    "m=tuple(n)\n",
    "print(m)"
   ]
  },
  {
   "cell_type": "code",
   "execution_count": 23,
   "metadata": {},
   "outputs": [
    {
     "name": "stdout",
     "output_type": "stream",
     "text": [
      "enter no:523\n",
      "10\n"
     ]
    }
   ],
   "source": [
    "#7\n",
    "n=input(\"enter no:\")\n",
    "l=len(n)\n",
    "m=0\n",
    "for i in range(l):\n",
    "    s=n[i]\n",
    "    s=int(s)\n",
    "    m=m+s\n",
    "print(m)"
   ]
  },
  {
   "cell_type": "code",
   "execution_count": 79,
   "metadata": {},
   "outputs": [
    {
     "name": "stdout",
     "output_type": "stream",
     "text": [
      "enter no:5\n",
      "S=153\n"
     ]
    }
   ],
   "source": [
    "#8\n",
    "n = int (input(\"enter no:\"))\n",
    "s=0\n",
    "for i in range(1,n+1):\n",
    "        k=i\n",
    "        for j in range (1,i):\n",
    "            k=k*j\n",
    "            #print(\"J=\" +str(j))\n",
    "            #print(\"K=\" +str(k))\n",
    "        s=s+k \n",
    "        \n",
    "print(\"S=\" +str(s))\n"
   ]
  },
  {
   "cell_type": "code",
   "execution_count": 51,
   "metadata": {},
   "outputs": [
    {
     "name": "stdout",
     "output_type": "stream",
     "text": [
      "\n",
      "* \n",
      "* * \n",
      "* * * \n",
      "* * * * \n",
      "* * * * * \n"
     ]
    }
   ],
   "source": [
    "#10\n",
    "for i in range(6):\n",
    "    for j in range(i):\n",
    "        print(\"*\" , end=' ')\n",
    "    print('')\n",
    "    "
   ]
  },
  {
   "cell_type": "code",
   "execution_count": 39,
   "metadata": {},
   "outputs": [
    {
     "name": "stdout",
     "output_type": "stream",
     "text": [
      "* * * * * * \n",
      "* * * * * \n",
      "* * * * \n",
      "* * * \n",
      "* * \n",
      "* \n"
     ]
    }
   ],
   "source": [
    "for i in range(6,0,-1):\n",
    "    for j in range(i):\n",
    "        print(\"*\" , end=' ')\n",
    "    print('')"
   ]
  },
  {
   "cell_type": "code",
   "execution_count": 47,
   "metadata": {},
   "outputs": [
    {
     "name": "stdout",
     "output_type": "stream",
     "text": [
      "          \n",
      "        * \n",
      "      * * \n",
      "    * * * \n",
      "  * * * * \n",
      "* * * * * \n"
     ]
    }
   ],
   "source": [
    "for i in range(6):\n",
    "    for j in range(5-i):\n",
    "        print(\"  \", end='')\n",
    "    for j in range(i):\n",
    "        print(\"*\", end=' ')\n",
    "    print()"
   ]
  },
  {
   "cell_type": "code",
   "execution_count": 50,
   "metadata": {},
   "outputs": [
    {
     "name": "stdout",
     "output_type": "stream",
     "text": [
      "     \n",
      "    * \n",
      "   * * \n",
      "  * * * \n",
      " * * * * \n",
      "* * * * * \n"
     ]
    }
   ],
   "source": [
    "for i in range(6):\n",
    "    for j in range(5-i):\n",
    "        print(\" \", end=\"\")\n",
    "    for j in range(i):\n",
    "        print(\"*\", end=' ')\n",
    "    print()"
   ]
  },
  {
   "cell_type": "code",
   "execution_count": 57,
   "metadata": {},
   "outputs": [
    {
     "name": "stdout",
     "output_type": "stream",
     "text": [
      "1 \n",
      "1 2 \n",
      "1 2 3 \n",
      "1 2 3 4 \n",
      "1 2 3 4 5 \n"
     ]
    }
   ],
   "source": [
    "for i in range(1,6):\n",
    "    for j in range(i):\n",
    "        print(j+1, end=' ')\n",
    "    print('') "
   ]
  },
  {
   "cell_type": "code",
   "execution_count": 58,
   "metadata": {},
   "outputs": [
    {
     "name": "stdout",
     "output_type": "stream",
     "text": [
      "1 \n",
      "2 2 \n",
      "3 3 3 \n",
      "4 4 4 4 \n",
      "5 5 5 5 5 \n"
     ]
    }
   ],
   "source": [
    "for i in range(1,6):\n",
    "    for j in range(i):\n",
    "        print(i, end=' ')\n",
    "    print('') "
   ]
  },
  {
   "cell_type": "code",
   "execution_count": 68,
   "metadata": {},
   "outputs": [
    {
     "name": "stdout",
     "output_type": "stream",
     "text": [
      "5 \n",
      "4 4 \n",
      "3 3 3 \n",
      "2 2 2 2 \n",
      "1 1 1 1 1 \n"
     ]
    }
   ],
   "source": [
    "#10\n",
    "for i in range(1,6):\n",
    "    for j in range(i):\n",
    "        print(6-i , end=' ')\n",
    "    print('')"
   ]
  },
  {
   "cell_type": "code",
   "execution_count": 70,
   "metadata": {},
   "outputs": [
    {
     "name": "stdout",
     "output_type": "stream",
     "text": [
      "        1 \n",
      "      2 2 \n",
      "    3 3 3 \n",
      "  4 4 4 4 \n",
      "5 5 5 5 5 \n"
     ]
    }
   ],
   "source": [
    "for i in range(1,6):\n",
    "    for j in range(5-i):\n",
    "        print(\"  \", end=\"\")\n",
    "    for j in range(i):\n",
    "        print(i, end=' ')\n",
    "    print('') "
   ]
  },
  {
   "cell_type": "code",
   "execution_count": 72,
   "metadata": {},
   "outputs": [
    {
     "name": "stdout",
     "output_type": "stream",
     "text": [
      "A \n",
      "A B \n",
      "A B C \n",
      "A B C D \n",
      "A B C D E \n"
     ]
    }
   ],
   "source": [
    "for i in range(1,6):\n",
    "    b=65\n",
    "    for j in range(i):\n",
    "        print(chr(b), end=' ')\n",
    "        b+=1\n",
    "    print('') "
   ]
  },
  {
   "cell_type": "code",
   "execution_count": 77,
   "metadata": {},
   "outputs": [
    {
     "name": "stdout",
     "output_type": "stream",
     "text": [
      "A \n",
      "B C \n",
      "D E F \n",
      "G H I J \n",
      "K L M N O \n"
     ]
    }
   ],
   "source": [
    "b=65\n",
    "for i in range(1,6):\n",
    "    for j in range(i):\n",
    "        print(chr(b), end=' ')\n",
    "        b+=1\n",
    "    print('') "
   ]
  },
  {
   "cell_type": "code",
   "execution_count": 79,
   "metadata": {},
   "outputs": [
    {
     "name": "stdout",
     "output_type": "stream",
     "text": [
      "A \n",
      "B B \n",
      "C C C \n",
      "D D D D \n",
      "E E E E E \n"
     ]
    }
   ],
   "source": [
    "b=65\n",
    "for i in range(1,6):\n",
    "    for j in range(i):\n",
    "        print(chr(b), end=' ')\n",
    "    b+=1\n",
    "    print('') "
   ]
  },
  {
   "cell_type": "code",
   "execution_count": 103,
   "metadata": {},
   "outputs": [
    {
     "name": "stdout",
     "output_type": "stream",
     "text": [
      "          \n",
      "        A \n",
      "      A B A \n",
      "    A B C B A \n",
      "  A B C D C B A \n",
      "A B C D E D C B A \n"
     ]
    }
   ],
   "source": [
    "for i in range(6):\n",
    "    b=65\n",
    "    for j in range(5-i):\n",
    "        print(' ', end=' ')\n",
    "    for j in range(i):\n",
    "        print(chr(b), end=' ')\n",
    "        b+=1\n",
    "    for j in range(i-1):\n",
    "        print(chr(b-2), end=' ')\n",
    "        b-=1\n",
    "    print()"
   ]
  }
 ],
 "metadata": {
  "kernelspec": {
   "display_name": "Python 3",
   "language": "python",
   "name": "python3"
  },
  "language_info": {
   "codemirror_mode": {
    "name": "ipython",
    "version": 3
   },
   "file_extension": ".py",
   "mimetype": "text/x-python",
   "name": "python",
   "nbconvert_exporter": "python",
   "pygments_lexer": "ipython3",
   "version": "3.8.3"
  }
 },
 "nbformat": 4,
 "nbformat_minor": 4
}
