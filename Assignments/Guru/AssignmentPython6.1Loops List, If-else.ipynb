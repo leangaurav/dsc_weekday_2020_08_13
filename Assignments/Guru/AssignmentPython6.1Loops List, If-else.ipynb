{
 "cells": [
  {
   "cell_type": "code",
   "execution_count": 3,
   "metadata": {},
   "outputs": [
    {
     "name": "stdout",
     "output_type": "stream",
     "text": [
      "Enter a string: hello\n",
      "h e l l o "
     ]
    }
   ],
   "source": [
    "#1 WAP to input a string and print individual characters in the string using for loop\n",
    "s = input(\"Enter a string: \")\n",
    "for c in s:\n",
    "    print(c , end=' ')\n"
   ]
  },
  {
   "cell_type": "code",
   "execution_count": 4,
   "metadata": {},
   "outputs": [
    {
     "name": "stdout",
     "output_type": "stream",
     "text": [
      "Enter a string: hello\n",
      "104 101 108 108 111 "
     ]
    }
   ],
   "source": [
    "#2 WAP to input a string and print the ASCII value of each character in the string\n",
    "s = input(\"Enter a string: \")\n",
    "for c in s:\n",
    "    print(ord(c), end=' ')"
   ]
  },
  {
   "cell_type": "code",
   "execution_count": 14,
   "metadata": {},
   "outputs": [
    {
     "name": "stdout",
     "output_type": "stream",
     "text": [
      "Enter a list of numbers : 5 3 8 9 2 15 10\n",
      "32\n"
     ]
    }
   ],
   "source": [
    "#3 Write a function that takes a list of numbers from user as argument and \n",
    "#returns the sum of only odd numbers (Use only for loop. No need to use if statement).\n",
    "# def add_evens(*args):\n",
    "#     print(len(args))\n",
    "#     print(args)\n",
    "    \n",
    "def sum_odd(seq):\n",
    "    \"\"\"Returns the sum of odd numbers in the list\"\"\"\n",
    "    odd_num = list(filter(lambda x: int(x)%2 != 0,seq))\n",
    "    r = map(int,odd_num)\n",
    "#     print(list(r))\n",
    "    return(sum(list(r)))\n",
    "\n",
    "num = input(\"Enter a list of numbers : \").split()\n",
    "#int_num=[int(x) for x in input(\"Enter a list of numbers with spaces in between: \").split()]\n",
    "print(sum_odd(num))\n",
    "\n",
    "#5 3 8 9 2 15 10\n",
    "# [5, 3, 9, 15]"
   ]
  },
  {
   "cell_type": "code",
   "execution_count": 27,
   "metadata": {},
   "outputs": [
    {
     "name": "stdout",
     "output_type": "stream",
     "text": [
      "Enter a number: 34 28 75 86 92 100\n",
      "Enter a single number to search in the list: 86\n",
      "Index of 86 in the tuple('34', '28', '75', '86', '92', '100') is: 3 \n"
     ]
    }
   ],
   "source": [
    "#4 WAP to enter a number in list format and convert into tuple,\n",
    "# enter a number and find the index in the tuple\n",
    "\n",
    "# n=tuple(int(x) for x in input(\"Enter a list of numbers with spaces in between: \").split())\n",
    "#ind=int(input(\"Enter a number to search in the list: \"))\n",
    "\n",
    "num_list = input(\"Enter a number: \").split()\n",
    "num_list = tuple(num_list)\n",
    "a = input(\"Enter a single number to search in the list: \")\n",
    "# print(num_list.index(a))\n",
    "try:\n",
    "    print(\"Index of {} in the tuple{} is: {} \".format(a,num_list, num_list.index(a)))\n",
    "\n",
    "except ValueError as err:\n",
    "    print(err)\n",
    "\n",
    "\n",
    "# 34 28 75 86 92 100"
   ]
  },
  {
   "cell_type": "code",
   "execution_count": 35,
   "metadata": {},
   "outputs": [
    {
     "name": "stdout",
     "output_type": "stream",
     "text": [
      "List of random numbers: [6, 8, 2, 6, 4, 2, 4, 6, 6, 7]\n",
      "Sum of random numbers: 51\n",
      "Average :5.1 \n",
      "[6, 2, 4, 4, 6]\n"
     ]
    }
   ],
   "source": [
    "#5 WAP to print 10 random number and then print sum , average and print the number at even index\n",
    "import random\n",
    "rand_num = []\n",
    "for num in range(10):\n",
    "    rand_num.append(random.randint(1,10))\n",
    "s = sum(rand_num)\n",
    "avg = s/len(rand_num)\n",
    "\n",
    "print(\"List of random numbers: {}\".format(rand_num))\n",
    "print(\"Sum of random numbers: {}\".format(s))\n",
    "print(\"Average :{} \".format(avg))\n",
    "\n",
    "print(rand_num[::2])"
   ]
  },
  {
   "cell_type": "code",
   "execution_count": 39,
   "metadata": {},
   "outputs": [
    {
     "name": "stdout",
     "output_type": "stream",
     "text": [
      "Enter a number0: 5\n",
      "Enter a number1: 7\n",
      "Enter a number2: 88\n",
      "Enter a number3: 34\n",
      "Enter a number4: 23\n",
      "Enter a number5: 1\n",
      "Enter a number6: 95\n",
      "Enter a number7: 25\n",
      "Enter a number8: 47\n",
      "Enter a number9: 42\n",
      "[5, 7, 88, 34, 23, 1, 95, 25, 47, 42]\n",
      "The Sum of list[5, 7, 88, 34, 23, 1, 95, 25, 47, 42] is 367\n"
     ]
    }
   ],
   "source": [
    "# 6  WAP to take the input of 10 numbers repeatedly (using range based loop)\n",
    "# and store in the list and print the sum\n",
    "\n",
    "num_list=[]\n",
    "for num in range(10):\n",
    "    num_list.append(int(input(\"Enter a number{}: \".format(num))))\n",
    "print(num_list)\n",
    "print(\"The Sum of list{} is {}\".format(num_list, sum(num_list)))"
   ]
  },
  {
   "cell_type": "code",
   "execution_count": 41,
   "metadata": {},
   "outputs": [
    {
     "name": "stdout",
     "output_type": "stream",
     "text": [
      "Enter a number: 5\n",
      "5 x 1 = 5\n",
      "5 x 2 = 10\n",
      "5 x 3 = 15\n",
      "5 x 4 = 20\n",
      "5 x 5 = 25\n",
      "5 x 6 = 30\n",
      "5 x 7 = 35\n",
      "5 x 8 = 40\n",
      "5 x 9 = 45\n",
      "5 x 10 = 50\n"
     ]
    }
   ],
   "source": [
    "#7 WAP to input a number and print the table\n",
    "num = int(input(\"Enter a number: \"))\n",
    "for n in range(1,11):\n",
    "    print(\"{} x {} = {}\".format(num,n,num*n))"
   ]
  },
  {
   "cell_type": "code",
   "execution_count": 54,
   "metadata": {},
   "outputs": [
    {
     "name": "stdout",
     "output_type": "stream",
     "text": [
      "Enter a string: every one is fine in my family\n",
      "The number of spaces in the given string is:  6 \n"
     ]
    }
   ],
   "source": [
    "#8 #WAP using for loop to print the no of spaces in a string (use for loop to iterate over the string. don't use\n",
    "#count function)\n",
    "# import string\n",
    "# print(dir(string))\n",
    "# print(string.digits)\n",
    "# print(string.ascii_letters)\n",
    "# print(string.punctuation)\n",
    "# print(str.isspace)\n",
    "s = input(\"Enter a string: \")\n",
    "count=0\n",
    "for c in s:\n",
    "#     if c == \" \":\n",
    "    if c.isspace():\n",
    "        count += 1 \n",
    "print(\"The number of spaces in the given string is:  {} \".format(count))    "
   ]
  },
  {
   "cell_type": "code",
   "execution_count": 58,
   "metadata": {},
   "outputs": [
    {
     "name": "stdout",
     "output_type": "stream",
     "text": [
      "Enter a string: count Apple and Orange\n",
      "Number of vowels in count apple and orange is 8\n"
     ]
    }
   ],
   "source": [
    "#9 #WAP to print the count of vowels in string (for both uppercase and lowercase)\n",
    "s = input(\"Enter a string: \")\n",
    "s = s.lower()\n",
    "vowels_count = 0\n",
    "for c in s:\n",
    "    if c in 'aeiou':\n",
    "        vowels_count += 1\n",
    "print(\"Number of vowels in {} is {}\".format(s, vowels_count))        "
   ]
  },
  {
   "cell_type": "code",
   "execution_count": 28,
   "metadata": {},
   "outputs": [
    {
     "name": "stdout",
     "output_type": "stream",
     "text": [
      "Enter a string: hello how are you?\n",
      "Given String :  ['h_ll_', 'h_w', '_r_', 'y__?']\n",
      "String after Replacement is :  h_ll_ h_w _r_ y__?\n"
     ]
    }
   ],
   "source": [
    "# 10 #WAP to replace the vowel in string with '_' , convert the string to list, remember strings are immutable\n",
    "# replace in the list and then join.\n",
    "\n",
    "s = input(\"Enter a string: \")\n",
    "s=s.lower()\n",
    "s=s.split()\n",
    "i=0\n",
    "for word in s:\n",
    "    for c in word:\n",
    "        if c in 'aeiou':\n",
    "            s[i] = s[i].replace(c,\"_\")\n",
    "    i+=1\n",
    "\n",
    "print(\"Given String : \", s)\n",
    "\n",
    "print(\"String after Replacement is : \", \" \".join(s))"
   ]
  },
  {
   "cell_type": "code",
   "execution_count": 30,
   "metadata": {},
   "outputs": [
    {
     "name": "stdout",
     "output_type": "stream",
     "text": [
      "Enter a string: hello how are you?\n",
      "Given String :  hello how are you? <class 'str'>\n",
      "String after Replacement is :  h_ll_ h_w _r_ y__?\n"
     ]
    }
   ],
   "source": [
    "# 10 \n",
    "s = input(\"Enter a string: \")\n",
    "print(\"Given String : \", s, type(string))\n",
    "for c in s.lower(): \n",
    "#     print(c,type(c))\n",
    "    if c in 'aeiou': \n",
    "        s = s.replace(c, \"_\")               \n",
    "# Print string replacing vowels \n",
    "print(\"String after Replacement is : \", s)"
   ]
  },
  {
   "cell_type": "code",
   "execution_count": 35,
   "metadata": {},
   "outputs": [
    {
     "name": "stdout",
     "output_type": "stream",
     "text": [
      "Enter a string: hello how are you?\n",
      "Given String :  hello how are you? <class 'str'>\n",
      "h_ll_ h_w _r_ y__?\n"
     ]
    }
   ],
   "source": [
    "# 10 -- By using Regular Expressions\n",
    "import re\n",
    "s = input(\"Enter a string: \")\n",
    "print(\"Given String : \", s, type(s))\n",
    "s=re.sub(\"[aeiouAEIOU]\",\"_\",s)\n",
    "print(s)"
   ]
  },
  {
   "cell_type": "code",
   "execution_count": 36,
   "metadata": {},
   "outputs": [
    {
     "name": "stdout",
     "output_type": "stream",
     "text": [
      "O/P 1\n",
      "num :  0\n",
      "Loops End\n"
     ]
    }
   ],
   "source": [
    "# 11.1 Find output             - expected output is 0\n",
    "for num in range(10):       # range is from 0 to 9\n",
    "    print(\"num : \",num)\n",
    "    if num%4 ==0:           # 0%4 == 0 is True, so, this code prints only 0 \n",
    "        break\n",
    "print(\"Loops End\")"
   ]
  },
  {
   "cell_type": "code",
   "execution_count": 3,
   "metadata": {},
   "outputs": [
    {
     "name": "stdout",
     "output_type": "stream",
     "text": [
      "num :  0\n"
     ]
    },
    {
     "ename": "SystemExit",
     "evalue": "",
     "output_type": "error",
     "traceback": [
      "An exception has occurred, use %tb to see the full traceback.\n",
      "\u001b[1;31mSystemExit\u001b[0m\n"
     ]
    }
   ],
   "source": [
    "#11.2 Find output \n",
    "import sys\n",
    "for num in range(10):\n",
    "    print(\"num : \",num)\n",
    "    if num%4 == 0:\n",
    "        sys.exit()           \n",
    "print(\"Loops End\")"
   ]
  },
  {
   "cell_type": "code",
   "execution_count": 4,
   "metadata": {},
   "outputs": [
    {
     "name": "stdout",
     "output_type": "stream",
     "text": [
      "*****\n",
      "*****\n",
      "*****\n",
      "*****\n",
      "*****\n"
     ]
    }
   ],
   "source": [
    "#12.1 Find the output of following code snippets  \n",
    "\n",
    "for i1 in range(1,6):              # 5 x 5 matrix with * \n",
    "    for i2 in range(5):\n",
    "        print('*', end='')\n",
    "    print()  "
   ]
  },
  {
   "cell_type": "code",
   "execution_count": 5,
   "metadata": {},
   "outputs": [
    {
     "name": "stdout",
     "output_type": "stream",
     "text": [
      "1\n",
      "22\n",
      "333\n",
      "4444\n",
      "55555\n"
     ]
    }
   ],
   "source": [
    "#12.2 Find the output of following code snippets  \n",
    "\n",
    "for i1 in range(1,6):\n",
    "    print(str(i1)*i1)    # print string 'n' number of times : n ranges from 1 to 5 "
   ]
  },
  {
   "cell_type": "code",
   "execution_count": 6,
   "metadata": {},
   "outputs": [
    {
     "name": "stdout",
     "output_type": "stream",
     "text": [
      "1\n",
      "22\n",
      "333\n",
      "4444\n",
      "55555\n"
     ]
    }
   ],
   "source": [
    "#12.3 Find the output of following code snippets  \n",
    "\n",
    "for i1 in range(1,6):\n",
    "    for i2 in range(i1):\n",
    "        print(i1,end='')\n",
    "    print()   "
   ]
  },
  {
   "cell_type": "code",
   "execution_count": 7,
   "metadata": {},
   "outputs": [
    {
     "name": "stdout",
     "output_type": "stream",
     "text": [
      "**\n",
      "***\n",
      "****\n",
      "*****\n",
      "******\n"
     ]
    }
   ],
   "source": [
    "#12.4 Find the output of following code snippets  \n",
    "for i1 in range(1,6):\n",
    "    for i2 in range(i1+1):\n",
    "        print('*',end='')\n",
    "    print()"
   ]
  }
 ],
 "metadata": {
  "kernelspec": {
   "display_name": "Python 3",
   "language": "python",
   "name": "python3"
  },
  "language_info": {
   "codemirror_mode": {
    "name": "ipython",
    "version": 3
   },
   "file_extension": ".py",
   "mimetype": "text/x-python",
   "name": "python",
   "nbconvert_exporter": "python",
   "pygments_lexer": "ipython3",
   "version": "3.8.5"
  }
 },
 "nbformat": 4,
 "nbformat_minor": 4
}
