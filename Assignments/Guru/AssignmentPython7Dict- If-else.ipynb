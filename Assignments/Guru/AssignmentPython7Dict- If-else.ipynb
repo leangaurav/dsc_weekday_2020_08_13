{
 "cells": [
  {
   "cell_type": "code",
   "execution_count": 3,
   "metadata": {},
   "outputs": [
    {
     "name": "stdout",
     "output_type": "stream",
     "text": [
      "1 {1: -1, 2: -2, 3: -3, 4: -4, 5: -5}\n",
      "2 {1: -1, 2: -2, 3: -3, 4: -4, 5: -5}\n"
     ]
    }
   ],
   "source": [
    "#1 #WAP to create a dictionary of numbers mapped to their negative value for numbers from 1-5.\n",
    "#The dictionary should contain something like this: \n",
    "# Do with both with and without range based for loop. \n",
    "# {1:-1,2:-2,3:-3….} \n",
    "d={}\n",
    "for i in range(1,6):  # using range\n",
    "    d[i]=-i           # d[i] = i * -1 \n",
    "print(1, d)\n",
    "\n",
    "d1={}\n",
    "i = 1\n",
    "while i < 6:\n",
    "    d1[i] = -i\n",
    "    i += 1\n",
    "print(2, d1)"
   ]
  },
  {
   "cell_type": "code",
   "execution_count": 7,
   "metadata": {},
   "outputs": [
    {
     "ename": "SyntaxError",
     "evalue": "invalid syntax (<ipython-input-7-8fa88dbd1bc1>, line 5)",
     "output_type": "error",
     "traceback": [
      "\u001b[1;36m  File \u001b[1;32m\"<ipython-input-7-8fa88dbd1bc1>\"\u001b[1;36m, line \u001b[1;32m5\u001b[0m\n\u001b[1;33m    d={1=2, 2=3}\u001b[0m\n\u001b[1;37m        ^\u001b[0m\n\u001b[1;31mSyntaxError\u001b[0m\u001b[1;31m:\u001b[0m invalid syntax\n"
     ]
    }
   ],
   "source": [
    "# 2.1 \n",
    "\n",
    "#Check which of the following declarations will work \n",
    "\n",
    "d={1=2, 2=3}\n",
    "print(d) SyntaxError: invalid syntax\n",
    "\n"
   ]
  },
  {
   "cell_type": "code",
   "execution_count": 14,
   "metadata": {},
   "outputs": [
    {
     "name": "stdout",
     "output_type": "stream",
     "text": [
      "-------------------------------------------\n",
      "{1: 2, 2: 3}\n",
      "<class 'dict'>\n"
     ]
    }
   ],
   "source": [
    "#2.2\n",
    "print('-------------------------------------------')\n",
    "d={1:2 , 2:3}\n",
    "print(d)\n",
    "print(type(d))"
   ]
  },
  {
   "cell_type": "code",
   "execution_count": 10,
   "metadata": {},
   "outputs": [
    {
     "ename": "SyntaxError",
     "evalue": "invalid syntax (<ipython-input-10-1bf0b2e38807>, line 3)",
     "output_type": "error",
     "traceback": [
      "\u001b[1;36m  File \u001b[1;32m\"<ipython-input-10-1bf0b2e38807>\"\u001b[1;36m, line \u001b[1;32m3\u001b[0m\n\u001b[1;33m    d={1,2;2,3}\u001b[0m\n\u001b[1;37m          ^\u001b[0m\n\u001b[1;31mSyntaxError\u001b[0m\u001b[1;31m:\u001b[0m invalid syntax\n"
     ]
    }
   ],
   "source": [
    "#2.3\n",
    "print('-------------------------------------------')\n",
    "d={1,2;2,3}\n",
    "print(d) SyntaxError: invalid syntax"
   ]
  },
  {
   "cell_type": "code",
   "execution_count": 13,
   "metadata": {},
   "outputs": [
    {
     "name": "stdout",
     "output_type": "stream",
     "text": [
      "-------------------------------------------\n",
      "{(2, 3), (1, 2)}\n",
      "<class 'set'>\n"
     ]
    }
   ],
   "source": [
    "#2.4\n",
    "print('-------------------------------------------')\n",
    "d={(1,2) , (2,3)}\n",
    "print(d)\n",
    "print(type(d))"
   ]
  },
  {
   "cell_type": "code",
   "execution_count": 15,
   "metadata": {},
   "outputs": [
    {
     "name": "stdout",
     "output_type": "stream",
     "text": [
      "-------------------------------------------\n"
     ]
    },
    {
     "ename": "NameError",
     "evalue": "name 'c' is not defined",
     "output_type": "error",
     "traceback": [
      "\u001b[1;31m---------------------------------------------------------------------------\u001b[0m",
      "\u001b[1;31mNameError\u001b[0m                                 Traceback (most recent call last)",
      "\u001b[1;32m<ipython-input-15-6dfb7204183d>\u001b[0m in \u001b[0;36m<module>\u001b[1;34m\u001b[0m\n\u001b[0;32m      1\u001b[0m \u001b[1;31m#2.5\u001b[0m\u001b[1;33m\u001b[0m\u001b[1;33m\u001b[0m\u001b[1;33m\u001b[0m\u001b[0m\n\u001b[0;32m      2\u001b[0m \u001b[0mprint\u001b[0m\u001b[1;33m(\u001b[0m\u001b[1;34m'-------------------------------------------'\u001b[0m\u001b[1;33m)\u001b[0m\u001b[1;33m\u001b[0m\u001b[1;33m\u001b[0m\u001b[0m\n\u001b[1;32m----> 3\u001b[1;33m \u001b[0md\u001b[0m\u001b[1;33m=\u001b[0m\u001b[1;33m{\u001b[0m\u001b[1;34m'a'\u001b[0m\u001b[1;33m:\u001b[0m\u001b[1;34m'A'\u001b[0m\u001b[1;33m,\u001b[0m\u001b[1;34m'b'\u001b[0m\u001b[1;33m:\u001b[0m\u001b[1;36m1\u001b[0m\u001b[1;33m,\u001b[0m \u001b[0mc\u001b[0m\u001b[1;33m:\u001b[0m\u001b[1;33m[\u001b[0m\u001b[1;36m1234\u001b[0m\u001b[1;33m]\u001b[0m\u001b[1;33m}\u001b[0m\u001b[1;33m\u001b[0m\u001b[1;33m\u001b[0m\u001b[0m\n\u001b[0m\u001b[0;32m      4\u001b[0m \u001b[0mprint\u001b[0m\u001b[1;33m(\u001b[0m\u001b[0md\u001b[0m\u001b[1;33m)\u001b[0m\u001b[1;33m\u001b[0m\u001b[1;33m\u001b[0m\u001b[0m\n",
      "\u001b[1;31mNameError\u001b[0m: name 'c' is not defined"
     ]
    }
   ],
   "source": [
    "#2.5\n",
    "print('-------------------------------------------')\n",
    "d={'a':'A','b':1, c:[1234]}\n",
    "print(d)                    # c is not defined "
   ]
  },
  {
   "cell_type": "code",
   "execution_count": 16,
   "metadata": {},
   "outputs": [
    {
     "name": "stdout",
     "output_type": "stream",
     "text": [
      "-------------------------------------------\n",
      "{'a': 'A', 'b': 1, 'c': [1234]}\n"
     ]
    }
   ],
   "source": [
    "#2.6\n",
    "print('-------------------------------------------')\n",
    "d={'a':'A','b':1, 'c':[1234]}\n",
    "print(d)"
   ]
  },
  {
   "cell_type": "code",
   "execution_count": 17,
   "metadata": {},
   "outputs": [
    {
     "name": "stdout",
     "output_type": "stream",
     "text": [
      "-------------------------------------------\n",
      "{1: 2, 2: 3} <class 'dict'>\n"
     ]
    }
   ],
   "source": [
    "#2.7\n",
    "print('-------------------------------------------')\n",
    "d = dict([(1,2), (2,3)])\n",
    "print(d,type(d))"
   ]
  },
  {
   "cell_type": "code",
   "execution_count": 18,
   "metadata": {},
   "outputs": [
    {
     "name": "stdout",
     "output_type": "stream",
     "text": [
      "-------------------------------------------\n",
      "{1: 2, 2: 3} <class 'dict'>\n"
     ]
    }
   ],
   "source": [
    "#2.8\n",
    "print('-------------------------------------------')\n",
    "d = dict (((1,2)  ,  (2,3)))\n",
    "print(d,type(d))\n"
   ]
  },
  {
   "cell_type": "code",
   "execution_count": 20,
   "metadata": {},
   "outputs": [
    {
     "name": "stdout",
     "output_type": "stream",
     "text": [
      "-------------------------------------------\n"
     ]
    },
    {
     "ename": "TypeError",
     "evalue": "dict expected at most 1 argument, got 2",
     "output_type": "error",
     "traceback": [
      "\u001b[1;31m---------------------------------------------------------------------------\u001b[0m",
      "\u001b[1;31mTypeError\u001b[0m                                 Traceback (most recent call last)",
      "\u001b[1;32m<ipython-input-20-d09cb2ab1c4b>\u001b[0m in \u001b[0;36m<module>\u001b[1;34m\u001b[0m\n\u001b[0;32m      1\u001b[0m \u001b[1;31m#2.9\u001b[0m\u001b[1;33m\u001b[0m\u001b[1;33m\u001b[0m\u001b[1;33m\u001b[0m\u001b[0m\n\u001b[0;32m      2\u001b[0m \u001b[0mprint\u001b[0m\u001b[1;33m(\u001b[0m\u001b[1;34m'-------------------------------------------'\u001b[0m\u001b[1;33m)\u001b[0m\u001b[1;33m\u001b[0m\u001b[1;33m\u001b[0m\u001b[0m\n\u001b[1;32m----> 3\u001b[1;33m \u001b[0md\u001b[0m\u001b[1;33m=\u001b[0m \u001b[0mdict\u001b[0m\u001b[1;33m(\u001b[0m\u001b[1;33m(\u001b[0m\u001b[1;36m1\u001b[0m\u001b[1;33m,\u001b[0m\u001b[1;36m2\u001b[0m\u001b[1;33m)\u001b[0m\u001b[1;33m,\u001b[0m \u001b[1;33m(\u001b[0m\u001b[1;36m2\u001b[0m\u001b[1;33m,\u001b[0m\u001b[1;36m3\u001b[0m\u001b[1;33m)\u001b[0m\u001b[1;33m)\u001b[0m \u001b[1;31m#SyntaxError: closing parenthesis ']' does not match opening parenthesis '('\u001b[0m\u001b[1;33m\u001b[0m\u001b[1;33m\u001b[0m\u001b[0m\n\u001b[0m\u001b[0;32m      4\u001b[0m \u001b[0mprint\u001b[0m\u001b[1;33m(\u001b[0m\u001b[0md\u001b[0m\u001b[1;33m,\u001b[0m\u001b[0mtype\u001b[0m\u001b[1;33m(\u001b[0m\u001b[0md\u001b[0m\u001b[1;33m)\u001b[0m\u001b[1;33m)\u001b[0m\u001b[1;33m\u001b[0m\u001b[1;33m\u001b[0m\u001b[0m\n",
      "\u001b[1;31mTypeError\u001b[0m: dict expected at most 1 argument, got 2"
     ]
    }
   ],
   "source": [
    "#2.9\n",
    "print('-------------------------------------------')\n",
    "d = dict((1,2),(2,3)) #dict expected at most 1 argument, got 2\n",
    "print(d,type(d))"
   ]
  },
  {
   "cell_type": "code",
   "execution_count": 21,
   "metadata": {},
   "outputs": [
    {
     "ename": "SyntaxError",
     "evalue": "expression cannot contain assignment, perhaps you meant \"==\"? (<ipython-input-21-1d51a59e67b1>, line 3)",
     "output_type": "error",
     "traceback": [
      "\u001b[1;36m  File \u001b[1;32m\"<ipython-input-21-1d51a59e67b1>\"\u001b[1;36m, line \u001b[1;32m3\u001b[0m\n\u001b[1;33m    d = dict('x'=2, 'y'=3) #SyntaxError: expression cannot contain assignment, perhaps you meant \"==\"?\u001b[0m\n\u001b[1;37m             ^\u001b[0m\n\u001b[1;31mSyntaxError\u001b[0m\u001b[1;31m:\u001b[0m expression cannot contain assignment, perhaps you meant \"==\"?\n"
     ]
    }
   ],
   "source": [
    "#2.10\n",
    "print('-------------------------------------------')\n",
    "d = dict('x'=2, 'y'=3) #SyntaxError: expression cannot contain assignment, perhaps you meant \"==\"?\n",
    "print(d)"
   ]
  },
  {
   "cell_type": "code",
   "execution_count": 22,
   "metadata": {},
   "outputs": [
    {
     "ename": "SyntaxError",
     "evalue": "expression cannot contain assignment, perhaps you meant \"==\"? (<ipython-input-22-ed5bc538f140>, line 3)",
     "output_type": "error",
     "traceback": [
      "\u001b[1;36m  File \u001b[1;32m\"<ipython-input-22-ed5bc538f140>\"\u001b[1;36m, line \u001b[1;32m3\u001b[0m\n\u001b[1;33m    d=dict(1=2, 2=3)\u001b[0m\n\u001b[1;37m           ^\u001b[0m\n\u001b[1;31mSyntaxError\u001b[0m\u001b[1;31m:\u001b[0m expression cannot contain assignment, perhaps you meant \"==\"?\n"
     ]
    }
   ],
   "source": [
    "#2.11\n",
    "print('-------------------------------------------')\n",
    "d=dict(1=2, 2=3)\n",
    "print(d)  # SyntaxError: expression cannot contain assignment, perhaps you meant \"==\"?"
   ]
  },
  {
   "cell_type": "code",
   "execution_count": 35,
   "metadata": {},
   "outputs": [
    {
     "name": "stdout",
     "output_type": "stream",
     "text": [
      "[(1, 10), (2, 20), (3, 30), (4, 40)] <class 'zip'>\n",
      "{1: 10, 2: 20, 3: 30, 4: 40}\n"
     ]
    }
   ],
   "source": [
    "# 3 Read help for zip and write a program that has two lists \n",
    "# print(help(zip))\n",
    "l1=[1,2,3,4]\n",
    "l2=[10,20,30,40]\n",
    "print(list(zip(l1,l2)),type(zip(l1,l2))) # its type is zip \n",
    "dict_1=dict(zip(l1,l2))\n",
    "print(dict_1)\n",
    "# #print(dict_1)"
   ]
  },
  {
   "cell_type": "code",
   "execution_count": 50,
   "metadata": {},
   "outputs": [
    {
     "name": "stdout",
     "output_type": "stream",
     "text": [
      "{'A': 65, 'B': 66, 'C': 67, 'D': 68, 'E': 69, 'F': 70, 'G': 71, 'H': 72, 'I': 73, 'J': 74, 'K': 75, 'L': 76, 'M': 77, 'N': 78, 'O': 79, 'P': 80, 'Q': 81, 'R': 82, 'S': 83, 'T': 84, 'U': 85, 'V': 86, 'W': 87, 'X': 88, 'Y': 89, 'Z': 90}\n",
      "{'A': 65, 'B': 66, 'C': 67, 'D': 68, 'E': 69, 'F': 70, 'G': 71, 'H': 72, 'I': 73, 'J': 74, 'K': 75, 'L': 76, 'M': 77, 'N': 78, 'O': 79, 'P': 80, 'Q': 81, 'R': 82, 'S': 83, 'T': 84, 'U': 85, 'V': 86, 'W': 87, 'X': 88, 'Y': 89, 'Z': 90}\n"
     ]
    }
   ],
   "source": [
    "#4  Use range based for loop to store all upper case alphabets and their corresponding ASCII\n",
    "# values in the dictionary d.\n",
    "# The result should be d = {‘A’: 65, ‘B’:66,…..}\n",
    "# import string\n",
    "# print(dir(string))\n",
    "# print(string.ascii_uppercase)\n",
    "# solution - 1\n",
    "ascii_upper={}\n",
    "for c in range(65,91):\n",
    "    ascii_upper[chr(c)] = c\n",
    "print(ascii_upper)\n",
    "\n",
    "# solution - 2\n",
    "d1={}\n",
    "for c in string.ascii_uppercase:\n",
    "    d1[c] = ord(c)\n",
    "print(d1)   "
   ]
  },
  {
   "cell_type": "code",
   "execution_count": 56,
   "metadata": {},
   "outputs": [
    {
     "name": "stdout",
     "output_type": "stream",
     "text": [
      "{0: 'zero', 1: 'one', 2: 'two', 3: 'three', 4: 'four', 5: 'five', 6: 'six', 7: 'seven', 8: 'eight', 9: 'nine'}\n",
      "Enter a number between 0 to 9: 5\n",
      "five\n",
      "five\n",
      "dict_keys([0, 1, 2, 3, 4, 5, 6, 7, 8, 9])\n",
      "dict_values(['zero', 'one', 'two', 'three', 'four', 'five', 'six', 'seven', 'eight', 'nine'])\n",
      "dict_items([(0, 'zero'), (1, 'one'), (2, 'two'), (3, 'three'), (4, 'four'), (5, 'five'), (6, 'six'), (7, 'seven'), (8, 'eight'), (9, 'nine')])\n"
     ]
    }
   ],
   "source": [
    "#5 Create a mapping of number to word from 0-9. (0:’zero’……)\n",
    "# • Ask user for a single digit number and print the corresponding word format.\n",
    "# • Print all keys of above dictionary\n",
    "# • Print all Values of a dictionary\n",
    "# • Print all Key and Value pairs of above dictionary\n",
    "num_map = {0:'zero',1:'one',2:'two',3:'three',4:'four',5:'five',6:'six',7:'seven',8:'eight',9:'nine'}\n",
    "print(num_map)\n",
    "num = int(input(\"Enter a number between 0 to 9: \"))\n",
    "print(num_map.get(num,-1))   # or  print(num_map[num])\n",
    "print(num_map[num])\n",
    "print(num_map.keys())\n",
    "print(num_map.values())\n",
    "print(num_map.items())"
   ]
  },
  {
   "cell_type": "code",
   "execution_count": 59,
   "metadata": {},
   "outputs": [
    {
     "name": "stdout",
     "output_type": "stream",
     "text": [
      "{'A': 'apple', 'B': 'ball', 'C': 'cat', 'D': 'dog'}\n",
      "{'A': 'apple', 'C': 'cat'}\n"
     ]
    }
   ],
   "source": [
    "#6 : Predict Output of: \n",
    "l1=['A', 'B', 'C', 'D']\n",
    "l2=['apple', 'ball', 'cat', 'dog']\n",
    "d1=dict(zip(l1,l2))        # reads first element from l1 and first element from l2, make it tuple,and then 2nd, 3rd\n",
    "print(d1)\n",
    "d2=dict(list(d1.items()) [::2])\n",
    "print(d2)                       # prints alternate key, value pair from the beginning "
   ]
  },
  {
   "cell_type": "code",
   "execution_count": 62,
   "metadata": {},
   "outputs": [
    {
     "name": "stdout",
     "output_type": "stream",
     "text": [
      "Enter a string: Beautiful Day\n",
      "{'a': 2, 'e': 1, 'i': 1, 'o': 0, 'u': 2}\n"
     ]
    }
   ],
   "source": [
    "#7 WAP to input a string and count occurrence of each vowel in a string.\n",
    "# Ex: if user enters:\n",
    "#  “Beautiful Day”\n",
    "# Output should Be:\n",
    "#  a:2\n",
    "#  e:1\n",
    "#  I :1\n",
    "#  o:0\n",
    "#  u:2 \n",
    "vowel_count={'a':0,'e':0,'i':0,'o':0,'u':0}\n",
    "s = input(\"Enter a string: \")\n",
    "s = s.lower()\n",
    "for c in s:\n",
    "    if c in 'aeiou':\n",
    "        vowel_count[c] += 1\n",
    "print(vowel_count)"
   ]
  },
  {
   "cell_type": "code",
   "execution_count": 64,
   "metadata": {},
   "outputs": [
    {
     "name": "stdout",
     "output_type": "stream",
     "text": [
      "{'a': 0, 'e': 0, 'i': 0, 'o': 0, 'u': 0}\n",
      "Enter a string: Beautiful Day\n",
      "{'a': 2, 'e': 1, 'i': 1, 'o': 0, 'u': 2}\n"
     ]
    }
   ],
   "source": [
    "# 7\n",
    "dict1=dict.fromkeys('aeiou',0)  # Create a new dictionary with keys from iterable and values set to value\n",
    "# print(dict1)\n",
    "s = input(\"Enter a string: \")\n",
    "s = s.lower()\n",
    "for c in s:\n",
    "    if c in 'aeiou':\n",
    "        dict1[c] += 1\n",
    "print(dict1)"
   ]
  },
  {
   "cell_type": "code",
   "execution_count": 68,
   "metadata": {},
   "outputs": [
    {
     "name": "stdout",
     "output_type": "stream",
     "text": [
      "Enter a string: Beautiful Day\n",
      "{'B': 1, 'e': 1, 'a': 2, 'u': 2, 't': 1, 'i': 1, 'f': 1, 'l': 1, ' ': 1, 'D': 1, 'y': 1}\n"
     ]
    }
   ],
   "source": [
    "#8 Update above program to print frequency of each alphabet present in string.\n",
    "s = input(\"Enter a string: \")\n",
    "# s = s.lower()\n",
    "count_alpha = {}\n",
    "for c in s:\n",
    "    if c in count_alpha:\n",
    "        count_alpha[c] += 1\n",
    "    else:\n",
    "        count_alpha[c] = 1 \n",
    "print(count_alpha)"
   ]
  },
  {
   "cell_type": "code",
   "execution_count": 70,
   "metadata": {},
   "outputs": [
    {
     "name": "stdout",
     "output_type": "stream",
     "text": [
      "Enter a string: count the words in the sentence in\n",
      "{'count': 1, 'the': 2, 'words': 1, 'in': 2, 'sentence': 1}\n"
     ]
    }
   ],
   "source": [
    "#9 # WAP that takes a string as input and prints frequency of each word.\n",
    "# Ex: if input is “count the words in the sentence in”\n",
    "#  Output:\n",
    "# count: 1\n",
    "# the: 2\n",
    "# words: 1\n",
    "# in: 2\n",
    "# sentence: 1\n",
    "count_words = {}\n",
    "s = input(\"Enter a string: \")\n",
    "s = s.split()\n",
    "\n",
    "for word in s:\n",
    "    if word in count_words:\n",
    "        count_words[word] += 1\n",
    "    else:\n",
    "        count_words[word] = 1\n",
    "print(count_words)"
   ]
  }
 ],
 "metadata": {
  "kernelspec": {
   "display_name": "Python 3",
   "language": "python",
   "name": "python3"
  },
  "language_info": {
   "codemirror_mode": {
    "name": "ipython",
    "version": 3
   },
   "file_extension": ".py",
   "mimetype": "text/x-python",
   "name": "python",
   "nbconvert_exporter": "python",
   "pygments_lexer": "ipython3",
   "version": "3.8.5"
  }
 },
 "nbformat": 4,
 "nbformat_minor": 4
}
