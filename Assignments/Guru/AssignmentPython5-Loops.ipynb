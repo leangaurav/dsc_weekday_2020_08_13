{
 "cells": [
  {
   "cell_type": "code",
   "execution_count": 3,
   "metadata": {},
   "outputs": [
    {
     "name": "stdout",
     "output_type": "stream",
     "text": [
      "Enter a number : 5\n",
      "1\n",
      "2\n",
      "3\n",
      "4\n",
      "5\n"
     ]
    }
   ],
   "source": [
    "# 1 WAP to print first n natural numbers (input n from user).\n",
    "n = int(input(\"Enter a number : \"))   # natural number starts from 1\n",
    "for num in range(1,n+1):\n",
    "    print(num)"
   ]
  },
  {
   "cell_type": "code",
   "execution_count": 10,
   "metadata": {},
   "outputs": [
    {
     "name": "stdout",
     "output_type": "stream",
     "text": [
      "Enter a number: 20\n",
      "Sum of the first 20 natural numbers = 210\n",
      "Enter a number: 10\n",
      "Sum of the first 10 natural numbers = 55.0\n"
     ]
    }
   ],
   "source": [
    "#2 WAP to find sum of first n natural numbers.\n",
    "n = int(input(\"Enter a number: \"))\n",
    "s = 0\n",
    "for num in range(1,n+1):\n",
    "    s += num\n",
    "print(\"Sum of the first\",n,\"natural numbers =\",s)\n",
    "\n",
    "# formual n=n*(n+1)/2\n",
    "n = int(input(\"Enter a number: \"))\n",
    "print(\"Sum of the first\",n,\"natural numbers =\",n*(n+1)/2)\n"
   ]
  },
  {
   "cell_type": "code",
   "execution_count": 14,
   "metadata": {},
   "outputs": [
    {
     "name": "stdout",
     "output_type": "stream",
     "text": [
      "Enter a number: 5\n",
      "Using For Loop\n",
      "5\n",
      "4\n",
      "3\n",
      "2\n",
      "1\n",
      "Using While Loop\n",
      "5\n",
      "4\n",
      "3\n",
      "2\n",
      "1\n"
     ]
    }
   ],
   "source": [
    "# 3 WAP to print first n natural numbers in reverse order.\n",
    "n = int(input(\"Enter a number: \"))\n",
    "print(\"Using For Loop\")\n",
    "# using for loop\n",
    "for num in range(n,0,-1):\n",
    "    print(num)\n",
    "\n",
    "print(\"Using While Loop\")\n",
    "#using while loop\n",
    "while n > 0:\n",
    "    print(n)\n",
    "    n -= 1"
   ]
  },
  {
   "cell_type": "code",
   "execution_count": 1,
   "metadata": {},
   "outputs": [
    {
     "name": "stdout",
     "output_type": "stream",
     "text": [
      "Enter a positive number : 5\n",
      "Factorial of number 5 = 120\n"
     ]
    }
   ],
   "source": [
    "# 4 WAP to input a number and print its factorial.\n",
    "n = int(input(\"Enter a positive number : \"))\n",
    "f = 1\n",
    "if n >= 0:\n",
    "    for num in range(1,n+1):\n",
    "        f *= num\n",
    "    print(\"Factorial of number\",n,\"=\",f)\n",
    "else:\n",
    "    print(\"Enter a positive number\")    "
   ]
  },
  {
   "cell_type": "code",
   "execution_count": 52,
   "metadata": {},
   "outputs": [
    {
     "name": "stdout",
     "output_type": "stream",
     "text": [
      "Enter a positive number : 10\n",
      "[0, 1, 1, 2, 3, 5, 8, 13, 21, 34]\n"
     ]
    }
   ],
   "source": [
    "#5: WAP to print Fibonacci sequence till n.\n",
    "# 0 1 1 2 3 5 \n",
    "# 1 2 3 4 5 6\n",
    "# a=0\n",
    "# b=1\n",
    "# f=[]\n",
    "# n = int(input(\"Enter a positive number : \"))\n",
    "# if n == 1:\n",
    "#     f.append(a)\n",
    "# if n == 2:\n",
    "#     f.append(a)\n",
    "#     f.append(b)\n",
    "\n",
    "# if n > 2:\n",
    "#     f=[0,1]\n",
    "#     for i in range(2,n):\n",
    "#         c = a + b\n",
    "#         a = b\n",
    "#         b = c\n",
    "#         f.append(c)\n",
    "    \n",
    "# print(f)\n",
    "n = int(input(\"Enter a positive number : \"))\n",
    "f = []\n",
    "for i in range(n):\n",
    "    if i == 0 or i == 1:\n",
    "        f.append(i)\n",
    "        n1 = 0\n",
    "        n2 = 1\n",
    "    else:\n",
    "        n = n1 + n2\n",
    "        n1 = n2\n",
    "        n2 = n\n",
    "        f.append(n)\n",
    "print(f)\n"
   ]
  },
  {
   "cell_type": "code",
   "execution_count": 79,
   "metadata": {},
   "outputs": [
    {
     "name": "stdout",
     "output_type": "stream",
     "text": [
      "Enter a number: 54321\n",
      "[5, 4, 3, 2, 1]\n"
     ]
    }
   ],
   "source": [
    "# 6: WAP to print all digits of a number input from user.\n",
    "n = input(\"Enter a number: \")\n",
    "l = len(n)\n",
    "# print(l)\n",
    "n = int(n)\n",
    "# print(n)\n",
    "d=[]\n",
    "for i in range(l):\n",
    "    if i != l-1:\n",
    "        d.append(n//(10**(l-(i+1))))\n",
    "        n = n%(10**(l-(i+1)))\n",
    "#         print(n)\n",
    "    else:\n",
    "        d.append(n%10)\n",
    "print(d)"
   ]
  },
  {
   "cell_type": "code",
   "execution_count": 90,
   "metadata": {},
   "outputs": [
    {
     "name": "stdout",
     "output_type": "stream",
     "text": [
      "Enter a Number:54321\n",
      "[5, 4, 3, 2, 1]\n"
     ]
    }
   ],
   "source": [
    "##\n",
    "num = input(\"Enter a Number:\")  # by default input is a string \n",
    "d=[]\n",
    "for c in num:\n",
    "    d.append(int(c))\n",
    "print(d)"
   ]
  },
  {
   "cell_type": "code",
   "execution_count": 88,
   "metadata": {},
   "outputs": [
    {
     "name": "stdout",
     "output_type": "stream",
     "text": [
      "Enter a Number:987\n",
      "Sum of digits in  987 :  24\n"
     ]
    }
   ],
   "source": [
    "#7: WAP to find sum of all digits of a number.\n",
    "num = input(\"Enter a Number:\")  # by default input is a string \n",
    "# d=[]\n",
    "s=0\n",
    "for c in num:\n",
    "#     d.append(int(c))\n",
    "    s += int(c)\n",
    "print(\"Sum of digits in \",num,\": \", s)"
   ]
  },
  {
   "cell_type": "code",
   "execution_count": 101,
   "metadata": {},
   "outputs": [
    {
     "name": "stdout",
     "output_type": "stream",
     "text": [
      "Enter a positive number : 5\n",
      "Sum of 1+2!+..5! is 153 \n"
     ]
    }
   ],
   "source": [
    "# 8 WAP to find sum of following series given n as input from user\n",
    "# 1 + 2! + 3! + 4! + 5! + ....n!\n",
    "# Where n! denotes the factorial of number n.\n",
    "\n",
    "n = int(input(\"Enter a positive number : \"))\n",
    "s = 0\n",
    "for i in range(1,n+1):\n",
    "    f = 1\n",
    "#     print(\"i\",i)\n",
    "    for num in range(1,i+1):\n",
    "        f *= num\n",
    "#         print(num, f)\n",
    "    s += f\n",
    "    \n",
    "print(\"Sum of 1+2!+..{}! is {} \".format(n,s))"
   ]
  },
  {
   "cell_type": "code",
   "execution_count": 114,
   "metadata": {},
   "outputs": [
    {
     "name": "stdout",
     "output_type": "stream",
     "text": [
      "Enter base number: 2\n",
      "Enter exponent number: 10\n",
      "1024\n"
     ]
    }
   ],
   "source": [
    "#9 WAP to input base and exponent and print result without using inbuilt function pow(use for or while loop).\n",
    "base = int(input(\"Enter base number: \"))\n",
    "exponent = int(input(\"Enter exponent number: \"))\n",
    "res = 1\n",
    "for n in range(exponent):\n",
    "    res *= base  \n",
    "print(res)"
   ]
  },
  {
   "cell_type": "code",
   "execution_count": 189,
   "metadata": {},
   "outputs": [
    {
     "name": "stdout",
     "output_type": "stream",
     "text": [
      "*\n",
      "**\n",
      "***\n",
      "****\n",
      "*****\n",
      "\n",
      "*****\n",
      "****\n",
      "***\n",
      "**\n",
      "*\n",
      "\n",
      "----*\n",
      "---**\n",
      "--***\n",
      "-****\n",
      "*****\n",
      "      *\n",
      "     * *\n",
      "    * * *\n",
      "   * * * *\n",
      "  * * * * *\n"
     ]
    }
   ],
   "source": [
    "#10 print the following patterns\n",
    "#   *                      *****                       *                  *\n",
    "#   **                     ****                       **                 * *\n",
    "#   ***                    ***                       ***                * * *\n",
    "#   ****                   **                       ****               * * * * \n",
    "#   *****                  *                       *****              * * * * * \n",
    "\n",
    "for i in range(5):\n",
    "    for j in range(i+1):\n",
    "        print('*',end='')\n",
    "    print('')\n",
    "\n",
    "print()\n",
    "for i in range(5,0,-1):\n",
    "    for j in range(i):\n",
    "        print('*',end='')\n",
    "    print('')\n",
    "\n",
    "print()\n",
    "\n",
    "for i in range(5):\n",
    "    for j in range(5-(i+1)):\n",
    "        print(\"-\", end='')\n",
    "    for j in range(i+1):\n",
    "         print(\"*\", end='')\n",
    "    print()\n",
    "\n",
    "print()\n",
    "for i in range(5):\n",
    "    for j in range(5-i):\n",
    "        print(\" \", end='')\n",
    "    for j in range(i+1):\n",
    "         print(\" *\", end='')\n",
    "    print()"
   ]
  },
  {
   "cell_type": "code",
   "execution_count": 200,
   "metadata": {},
   "outputs": [
    {
     "name": "stdout",
     "output_type": "stream",
     "text": [
      "1\n",
      "22\n",
      "333\n",
      "4444\n",
      "55555\n"
     ]
    }
   ],
   "source": [
    "#11a print patterns\n",
    "\n",
    "# 1\n",
    "# 22\n",
    "# 333\n",
    "# 4444\n",
    "# 55555\n",
    "\n",
    "x = 1\n",
    "for i in range(5):\n",
    "    for j in range(i+1):\n",
    "        print(x,end='')      \n",
    "    print('')\n",
    "    x += 1"
   ]
  },
  {
   "cell_type": "code",
   "execution_count": 202,
   "metadata": {},
   "outputs": [
    {
     "name": "stdout",
     "output_type": "stream",
     "text": [
      "1\n",
      "12\n",
      "123\n",
      "1234\n",
      "12345\n"
     ]
    }
   ],
   "source": [
    "#11b\n",
    "# 1\n",
    "# 12\n",
    "# 123\n",
    "# 1234\n",
    "# 12345\n",
    "\n",
    "for i in range(5):\n",
    "    for j in range(1,i+2):\n",
    "        print(j,end='')      \n",
    "    print('')"
   ]
  },
  {
   "cell_type": "code",
   "execution_count": 203,
   "metadata": {},
   "outputs": [
    {
     "name": "stdout",
     "output_type": "stream",
     "text": [
      "5\n",
      "44\n",
      "333\n",
      "2222\n",
      "11111\n"
     ]
    }
   ],
   "source": [
    "#11c\n",
    "# 5\n",
    "# 44\n",
    "# 333\n",
    "# 2222\n",
    "# 11111\n",
    "\n",
    "x = 5\n",
    "for i in range(5):\n",
    "    for j in range(i+1):\n",
    "        print(x,end='')      \n",
    "    print('')\n",
    "    x -= 1"
   ]
  },
  {
   "cell_type": "code",
   "execution_count": 204,
   "metadata": {},
   "outputs": [
    {
     "name": "stdout",
     "output_type": "stream",
     "text": [
      "    1\n",
      "   22\n",
      "  333\n",
      " 4444\n",
      "55555\n"
     ]
    }
   ],
   "source": [
    "# 11d \n",
    "#      1\n",
    "#     22\n",
    "#    333\n",
    "#   4444\n",
    "#  55555\n",
    "x = 1\n",
    "for i in range(5):\n",
    "    for j in range(5-(i+1)):\n",
    "        print(\" \", end='')\n",
    "    for j in range(i+1):\n",
    "         print(x, end='')\n",
    "    print()\n",
    "    x += 1"
   ]
  },
  {
   "cell_type": "code",
   "execution_count": 205,
   "metadata": {},
   "outputs": [
    {
     "name": "stdout",
     "output_type": "stream",
     "text": [
      "A\n",
      "AB\n",
      "ABC\n",
      "ABCD\n",
      "ABCDE\n"
     ]
    }
   ],
   "source": [
    "# 12: Print character patterns\n",
    "\n",
    "# A\n",
    "# AB\n",
    "# ABC\n",
    "# ABCD\n",
    "# ABCDE\n",
    "\n",
    "\n",
    "for i in range(5):\n",
    "    ascii_n = 65\n",
    "    for j in range(1,i+2):\n",
    "        print(chr(ascii_n),end='') \n",
    "        ascii_n += 1\n",
    "    print('')"
   ]
  },
  {
   "cell_type": "code",
   "execution_count": 206,
   "metadata": {},
   "outputs": [
    {
     "name": "stdout",
     "output_type": "stream",
     "text": [
      "A\n",
      "BC\n",
      "DEF\n",
      "GHIJ\n",
      "KLMNO\n"
     ]
    }
   ],
   "source": [
    "# A\n",
    "# BC\n",
    "# DEF\n",
    "# GHIJ\n",
    "# KLMNO\n",
    "\n",
    "ascii_n = 65\n",
    "for i in range(5):\n",
    "    for j in range(1,i+2):\n",
    "        print(chr(ascii_n),end='') \n",
    "        ascii_n += 1\n",
    "    print('')"
   ]
  },
  {
   "cell_type": "code",
   "execution_count": 209,
   "metadata": {},
   "outputs": [
    {
     "name": "stdout",
     "output_type": "stream",
     "text": [
      "A\n",
      "BB\n",
      "CCC\n",
      "DDDD\n",
      "EEEEE\n"
     ]
    }
   ],
   "source": [
    "# A\n",
    "# BB\n",
    "# CCC\n",
    "# DDDD\n",
    "# EEEEE\n",
    "\n",
    "ascii_n = 65\n",
    "for i in range(5):\n",
    "    for j in range(i+1):\n",
    "        print(chr(ascii_n),end='')      \n",
    "    print('')\n",
    "    ascii_n += 1"
   ]
  },
  {
   "cell_type": "code",
   "execution_count": 229,
   "metadata": {},
   "outputs": [
    {
     "name": "stdout",
     "output_type": "stream",
     "text": [
      "     A\n",
      "    ABA\n",
      "   ABCBA\n",
      "  ABCDCBA\n",
      " ABCDEDCBA\n"
     ]
    }
   ],
   "source": [
    "#      A\n",
    "#     ABA\n",
    "#    ABCBA\n",
    "#   ABCDCBA\n",
    "#  ABCDEDCBA\n",
    "\n",
    "for i in range(5):\n",
    "    ascii_n = 65\n",
    "    for j in range(5-i):\n",
    "        print(\" \", end='')\n",
    "    for j in range(i+1):\n",
    "        print(chr(ascii_n), end='')\n",
    "        ascii_n += 1\n",
    "    for j in range(i):\n",
    "        ascii_n -= 2\n",
    "        print(chr(ascii_n), end='')\n",
    "        ascii_n += 1  \n",
    "    print()"
   ]
  }
 ],
 "metadata": {
  "kernelspec": {
   "display_name": "Python 3",
   "language": "python",
   "name": "python3"
  },
  "language_info": {
   "codemirror_mode": {
    "name": "ipython",
    "version": 3
   },
   "file_extension": ".py",
   "mimetype": "text/x-python",
   "name": "python",
   "nbconvert_exporter": "python",
   "pygments_lexer": "ipython3",
   "version": "3.8.5"
  }
 },
 "nbformat": 4,
 "nbformat_minor": 2
}
