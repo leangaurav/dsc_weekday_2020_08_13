{
 "cells": [
  {
   "cell_type": "code",
   "execution_count": 1,
   "metadata": {},
   "outputs": [],
   "source": [
    "import numpy as np"
   ]
  },
  {
   "cell_type": "code",
   "execution_count": 2,
   "metadata": {},
   "outputs": [
    {
     "name": "stdout",
     "output_type": "stream",
     "text": [
      "[0. 0. 0. 0. 0.]\n",
      "data type of array  [0. 0. 0. 0. 0.] : float64\n",
      "item size of array  [0. 0. 0. 0. 0.] : 8\n",
      "number of dimensions   \t\t\t  : 1\n",
      "total no. of elements: \t\t\t  : 5\n",
      "data type of array  [0. 0. 0. 0. 0.] : (5,)\n"
     ]
    }
   ],
   "source": [
    "#1 create a numpy array of 5 zeros.\n",
    "#check datatype, itemsize and shape of above\n",
    "\n",
    "z = np.zeros(5)\n",
    "print(z)\n",
    "print(\"data type of array \", z, \":\", z.dtype)\n",
    "print(\"item size of array \", z, \":\", z.itemsize)\n",
    "print(\"number of dimensions   \\t\\t\\t  :\", z.ndim)\n",
    "print(\"total no. of elements: \\t\\t\\t  :\",z.size)\n",
    "print(\"data type of array \", z, \":\", z.shape)"
   ]
  },
  {
   "cell_type": "code",
   "execution_count": 3,
   "metadata": {},
   "outputs": [
    {
     "name": "stdout",
     "output_type": "stream",
     "text": [
      "[[1. 1. 1. 1.]\n",
      " [1. 1. 1. 1.]\n",
      " [1. 1. 1. 1.]\n",
      " [1. 1. 1. 1.]\n",
      " [1. 1. 1. 1.]]\n"
     ]
    }
   ],
   "source": [
    "#2 create a numpy array of ones of shape (5,4)\n",
    "arr_ones = np.ones((5,4))  # 2-D \n",
    "print(arr_ones)"
   ]
  },
  {
   "cell_type": "code",
   "execution_count": 4,
   "metadata": {},
   "outputs": [
    {
     "name": "stdout",
     "output_type": "stream",
     "text": [
      "[[ 1  2  3  4  5]\n",
      " [ 6  7  8  9 10]\n",
      " [11 12 13 14 15]\n",
      " [16 17 18 19 20]]\n"
     ]
    }
   ],
   "source": [
    "#3 create a matrix of shape 4,5 with numbers from 1-20\n",
    "\n",
    "m1 = np.arange(1,21).reshape(4,5)\n",
    "print(m1)\n"
   ]
  },
  {
   "cell_type": "code",
   "execution_count": 5,
   "metadata": {},
   "outputs": [
    {
     "name": "stdout",
     "output_type": "stream",
     "text": [
      "[[ 10  20  30  40  50]\n",
      " [ 60  70  80  90 100]\n",
      " [110 120 130 140 150]\n",
      " [160 170 180 190 200]]\n"
     ]
    }
   ],
   "source": [
    "#4 multiply all elements of above array by 10\n",
    "print(m1 * 10)"
   ]
  },
  {
   "cell_type": "code",
   "execution_count": 6,
   "metadata": {},
   "outputs": [
    {
     "name": "stdout",
     "output_type": "stream",
     "text": [
      "[[ 1  2  3  4  5]\n",
      " [ 6  7  8  9 10]\n",
      " [11 12 13 14 15]\n",
      " [16 17 18 19 20]]\n",
      "\n",
      "[[ True False  True False  True]\n",
      " [False  True False  True False]\n",
      " [ True False  True False  True]\n",
      " [False  True False  True False]]\n",
      "\n",
      "All odd elements from array :  [ 1  3  5  7  9 11 13 15 17 19]\n"
     ]
    }
   ],
   "source": [
    "#5 print odd elements from array in #3\n",
    "print(m1)\n",
    "print()\n",
    "idx = m1%2 != 0\n",
    "print(idx)       # boolean index , marks elements True if they are not divisible by 2 otherwise False \n",
    "print()\n",
    "print(\"All odd elements from array : \", m1[idx])"
   ]
  },
  {
   "cell_type": "code",
   "execution_count": 7,
   "metadata": {},
   "outputs": [
    {
     "name": "stdout",
     "output_type": "stream",
     "text": [
      "[[ 1  2  3  4  5]\n",
      " [ 6  7  8  9 10]\n",
      " [11 12 13 14 15]\n",
      " [16 17 18 19 20]]\n",
      "\n",
      "[[False  True False  True False]\n",
      " [ True False  True False  True]\n",
      " [False  True False  True False]\n",
      " [ True False  True False  True]]\n",
      "\n",
      "All even elements by their negative value :  [ -2  -4  -6  -8 -10 -12 -14 -16 -18 -20]\n"
     ]
    }
   ],
   "source": [
    "#6 replace all even elements by their negative ( continue from #5 )\n",
    "print(m1)\n",
    "print()\n",
    "print(~idx)       # boolean index , marks elements True if they are not divisible by 2 otherwise False \n",
    "print()\n",
    "# print(\"All odd elements from array : \", m1[idx])\n",
    "m1[~idx]=-m1[~idx]\n",
    "print(\"All even elements by their negative value : \", m1[~idx])"
   ]
  },
  {
   "cell_type": "code",
   "execution_count": 8,
   "metadata": {},
   "outputs": [
    {
     "name": "stdout",
     "output_type": "stream",
     "text": [
      "[[ 1.  2.  3.  4.]\n",
      " [ 5.  6.  7.  8.]\n",
      " [ 9. 10. 11. 12.]\n",
      " [13. 14. 15. 16.]]\n"
     ]
    }
   ],
   "source": [
    "#7 create a linearly spaced matrix M1 of size 4x4 having values in range 1-16\n",
    "a = np.linspace(1,16,16) # start, stop, num=16\n",
    "M1 = a.reshape(4,4)\n",
    "print(M1)          # 2-D array \n",
    "# m2 = np.linspace(1,16,16).reshape(4,4)\n",
    "# print(m2)"
   ]
  },
  {
   "cell_type": "code",
   "execution_count": 9,
   "metadata": {},
   "outputs": [
    {
     "name": "stdout",
     "output_type": "stream",
     "text": [
      "[[ 1.  5.  9. 13.]\n",
      " [ 2.  6. 10. 14.]\n",
      " [ 3.  7. 11. 15.]\n",
      " [ 4.  8. 12. 16.]]\n"
     ]
    }
   ],
   "source": [
    "#8 create a transpose of above matrix call it M2\n",
    "M2 = M1.T\n",
    "print(M2)"
   ]
  },
  {
   "cell_type": "code",
   "execution_count": 10,
   "metadata": {},
   "outputs": [
    {
     "name": "stdout",
     "output_type": "stream",
     "text": [
      "[[ 1.  2.  3.  4.]\n",
      " [ 5.  6.  7.  8.]\n",
      " [ 9. 10. 11. 12.]\n",
      " [13. 14. 15. 16.]]\n",
      "\n",
      "[[ 1.  5.  9. 13.]\n",
      " [ 2.  6. 10. 14.]\n",
      " [ 3.  7. 11. 15.]\n",
      " [ 4.  8. 12. 16.]]\n",
      "\n",
      "[[ 2.  7. 12. 17.]\n",
      " [ 7. 12. 17. 22.]\n",
      " [12. 17. 22. 27.]\n",
      " [17. 22. 27. 32.]]\n"
     ]
    }
   ],
   "source": [
    "#9 find sum of above matrix M3 = (M1 + M2)\n",
    "\n",
    "M3 = M1 + M2\n",
    "print(M1)\n",
    "print()\n",
    "print(M2)\n",
    "print()\n",
    "print(M3)"
   ]
  },
  {
   "cell_type": "code",
   "execution_count": 11,
   "metadata": {},
   "outputs": [
    {
     "name": "stdout",
     "output_type": "stream",
     "text": [
      "[[ 2.  7. 12. 17.]\n",
      " [ 7. 12. 17. 22.]\n",
      " [12. 17. 22. 27.]\n",
      " [17. 22. 27. 32.]]\n",
      "\n",
      "[[ 2.  7. 12. 17.]\n",
      " [ 7. 12. 17. 22.]\n",
      " [12. 17. 22. 27.]\n",
      " [17. 22. 27. 32.]]\n",
      "\n",
      "[[ True  True  True  True]\n",
      " [ True  True  True  True]\n",
      " [ True  True  True  True]\n",
      " [ True  True  True  True]]\n",
      "\n",
      "Both MT1 and M3 are equal\n"
     ]
    }
   ],
   "source": [
    "# 10 Find Transpose of M3, Call it MT1. Check if M3 == MT1\n",
    "\n",
    "MT1 = M3.T\n",
    "print(M3)\n",
    "print()\n",
    "print(MT1)\n",
    "\n",
    "idx = MT1 == M3\n",
    "print()\n",
    "print(idx)\n",
    "print()\n",
    "if np.ndarray.all(idx):               # Returns True if all elements evaluate to True\n",
    "    print(\"Both MT1 and M3 are equal\")\n",
    "else:\n",
    "    print(\"Both MT1 and M3 are not equal\")\n"
   ]
  },
  {
   "cell_type": "code",
   "execution_count": 12,
   "metadata": {},
   "outputs": [
    {
     "name": "stdout",
     "output_type": "stream",
     "text": [
      "[[ 1.  2.  3.  4.]\n",
      " [ 5.  6.  7.  8.]\n",
      " [ 9. 10. 11. 12.]\n",
      " [13. 14. 15. 16.]]\n",
      "\n",
      "[[ 1.  5.  9. 13.]\n",
      " [ 2.  6. 10. 14.]\n",
      " [ 3.  7. 11. 15.]\n",
      " [ 4.  8. 12. 16.]]\n",
      "\n",
      "[[ 0. -3. -6. -9.]\n",
      " [ 3.  0. -3. -6.]\n",
      " [ 6.  3.  0. -3.]\n",
      " [ 9.  6.  3.  0.]]\n"
     ]
    }
   ],
   "source": [
    "# 11 find diffrence of M4 = (M1 - M2)\n",
    "\n",
    "print(M1)\n",
    "print()\n",
    "print(M2)\n",
    "print()\n",
    "M4 = M1 - M2\n",
    "print(M4)"
   ]
  },
  {
   "cell_type": "code",
   "execution_count": 13,
   "metadata": {},
   "outputs": [
    {
     "name": "stdout",
     "output_type": "stream",
     "text": [
      "[[ 0. -3. -6. -9.]\n",
      " [ 3.  0. -3. -6.]\n",
      " [ 6.  3.  0. -3.]\n",
      " [ 9.  6.  3.  0.]]\n",
      "\n",
      "[[ 0.  3.  6.  9.]\n",
      " [-3.  0.  3.  6.]\n",
      " [-6. -3.  0.  3.]\n",
      " [-9. -6. -3.  0.]]\n",
      "\n",
      "[[ True False False False]\n",
      " [False  True False False]\n",
      " [False False  True False]\n",
      " [False False False  True]]\n",
      "\n",
      "Both M4 and MT2 are not equal\n"
     ]
    }
   ],
   "source": [
    "#12a Find Transpose of M4, Call it MT2. Check if M4 == MT2. Also check if M4 == -MT2\n",
    "\n",
    "MT2 = M4.T\n",
    "\n",
    "print(M4)\n",
    "print()\n",
    "print(MT2)\n",
    "print()\n",
    "d = M4 == MT2\n",
    "print(d)\n",
    "\n",
    "print()\n",
    "if np.ndarray.all(d):\n",
    "    print(\"Both M4 and MT2 are equal\")\n",
    "else:\n",
    "    print(\"Both M4 and MT2 are not equal\")"
   ]
  },
  {
   "cell_type": "code",
   "execution_count": 14,
   "metadata": {},
   "outputs": [
    {
     "name": "stdout",
     "output_type": "stream",
     "text": [
      "[[ 0. -3. -6. -9.]\n",
      " [ 3.  0. -3. -6.]\n",
      " [ 6.  3.  0. -3.]\n",
      " [ 9.  6.  3.  0.]]\n",
      "\n",
      "[[-0. -3. -6. -9.]\n",
      " [ 3. -0. -3. -6.]\n",
      " [ 6.  3. -0. -3.]\n",
      " [ 9.  6.  3. -0.]]\n",
      "\n",
      "[[ True  True  True  True]\n",
      " [ True  True  True  True]\n",
      " [ True  True  True  True]\n",
      " [ True  True  True  True]]\n",
      "\n",
      "Both M4 and -MT2 are equal\n"
     ]
    }
   ],
   "source": [
    "#12b Find Transpose of M4, Call it MT2. check if M4 == -MT2\n",
    "\n",
    "print(M4)\n",
    "print()\n",
    "print(-MT2)\n",
    "print()\n",
    "d1 = M4 == -MT2\n",
    "print(d1)\n",
    "\n",
    "print()\n",
    "if np.ndarray.all(d1):\n",
    "    print(\"Both M4 and -MT2 are equal\")\n",
    "else:\n",
    "    print(\"Both M4 and -MT2 are not equal\")"
   ]
  },
  {
   "cell_type": "code",
   "execution_count": 51,
   "metadata": {},
   "outputs": [
    {
     "name": "stdout",
     "output_type": "stream",
     "text": [
      "[[32 26 31 36]\n",
      " [17 30 11 24]\n",
      " [13 35 37 13]]\n"
     ]
    }
   ],
   "source": [
    "#13 create a matrix (3x4) R1 of random numbers between 10-40\n",
    "\n",
    "R1 = np.random.randint(10,40, size=(3,4))\n",
    "print(R1)"
   ]
  },
  {
   "cell_type": "code",
   "execution_count": 52,
   "metadata": {},
   "outputs": [
    {
     "name": "stdout",
     "output_type": "stream",
     "text": [
      "Max for each column:  [32 35 37 36]\n",
      "\n",
      "Min for each column:  [13 26 11 13]\n"
     ]
    }
   ],
   "source": [
    "# 14 find min and max column wise for R1\n",
    "print(\"Max for each column: \" , R1.max(axis=0))\n",
    "print()\n",
    "print(\"Min for each column: \", R1.min(axis=0))"
   ]
  },
  {
   "cell_type": "code",
   "execution_count": 53,
   "metadata": {},
   "outputs": [
    {
     "name": "stdout",
     "output_type": "stream",
     "text": [
      "........R1........ \n",
      "[[32 26 31 36]\n",
      " [17 30 11 24]\n",
      " [13 35 37 13]]\n",
      "Shape of array :  (3, 4)\n",
      "\n",
      "Sum of each Column:  [62 91 79 73]\n",
      "\n",
      "Sum of each Row:  [125  82  98]\n",
      "\n",
      "[[ 32  26  31 125]\n",
      " [ 17  30  11  82]\n",
      " [ 13  35  37  98]]\n"
     ]
    }
   ],
   "source": [
    "# 15 replace the last column with sum of all the columns\n",
    "print(\"........R1........ \")\n",
    "print(R1)\n",
    "print(\"Shape of array : \", R1.shape)\n",
    "s1 = R1.sum(axis=0)\n",
    "print()\n",
    "print(\"Sum of each Column: \", s1)\n",
    "print()\n",
    "s2 = R1.sum(axis=1)\n",
    "print(\"Sum of each Row: \", s2)\n",
    "# print(R1[:,3])\n",
    "rows = len(R1)\n",
    "cols = len(R1[0])\n",
    "# print(rows)\n",
    "# print(cols)\n",
    "R1[:,cols-1] = s2  # replacing the last column with the sum \n",
    "print()\n",
    "print(R1)"
   ]
  },
  {
   "cell_type": "code",
   "execution_count": 42,
   "metadata": {},
   "outputs": [
    {
     "name": "stdout",
     "output_type": "stream",
     "text": [
      "[[21 21 10 39]\n",
      " [32 11 24 38]\n",
      " [12 39 30 14]]\n",
      "\n",
      "[[21. 21. 10. 39.]\n",
      " [32. 11. 24. 38.]\n",
      " [12. 39. 30. 14.]]\n",
      "\n",
      "[[21. 21. nan 39.]\n",
      " [nan 11. nan nan]\n",
      " [nan 39. nan nan]]\n",
      "\n",
      "Number of Nan in R2 =  7\n"
     ]
    }
   ],
   "source": [
    "#16 create a matrix (3x4) R2 of random numbers between 10-40\n",
    "# replace all even elements with nan in R1\n",
    "# count number of nan in R1\n",
    "\n",
    "R2 = np.random.randint(10,40, size=(3,4))\n",
    "print(R2)\n",
    "R2 = R2.astype('float') # np.nan has type float: arrays also should have either float datatype / complex / object\n",
    "                        #so cast arr before you try to assign this value. \n",
    "print()\n",
    "print(R2)\n",
    "\n",
    "idx = R2%2 == 0\n",
    "print()\n",
    "# print(idx)\n",
    "# print()\n",
    "R2[idx] = 'Nan'\n",
    "print(R2)\n",
    "\n",
    "print()\n",
    "# print(np.isnan(R1))\n",
    "# print()\n",
    "\n",
    "print(\"Number of Nan in R2 = \", np.count_nonzero(np.isnan(R2)))"
   ]
  },
  {
   "cell_type": "code",
   "execution_count": 19,
   "metadata": {},
   "outputs": [
    {
     "name": "stdout",
     "output_type": "stream",
     "text": [
      "[[1 2 3]\n",
      " [4 5 6]\n",
      " [7 8 9]]\n",
      "\n",
      "[[11 12 13]\n",
      " [14 15 16]\n",
      " [17 18 19]]\n",
      "\n",
      "[ 1  2  3  4  5  6  7  8  9 11 12 13 14 15 16 17 18 19]\n",
      "\n",
      "[[ 1  2  3]\n",
      " [ 4  5  6]\n",
      " [ 7  8  9]\n",
      " [11 12 13]\n",
      " [14 15 16]\n",
      " [17 18 19]]\n",
      "\n",
      "[[ 1  2  3 11 12 13]\n",
      " [ 4  5  6 14 15 16]\n",
      " [ 7  8  9 17 18 19]]\n"
     ]
    }
   ],
   "source": [
    "#17 check output of this code\n",
    "a1 = np.arange(1,10).reshape(3,3)\n",
    "print(a1)\n",
    "print()\n",
    "a2 = np.arange(11,20).reshape(3,3)\n",
    "print(a2)\n",
    "print()\n",
    "a3 = np.append(a1,a2)\n",
    "print(a3)\n",
    "print()\n",
    "a3 = np.append(a1,a2, axis = 0)\n",
    "print(a3)\n",
    "print()\n",
    "a3 = np.append(a1,a2, axis = 1)\n",
    "print(a3)"
   ]
  }
 ],
 "metadata": {
  "kernelspec": {
   "display_name": "Python 3",
   "language": "python",
   "name": "python3"
  },
  "language_info": {
   "codemirror_mode": {
    "name": "ipython",
    "version": 3
   },
   "file_extension": ".py",
   "mimetype": "text/x-python",
   "name": "python",
   "nbconvert_exporter": "python",
   "pygments_lexer": "ipython3",
   "version": "3.8.5"
  }
 },
 "nbformat": 4,
 "nbformat_minor": 2
}
