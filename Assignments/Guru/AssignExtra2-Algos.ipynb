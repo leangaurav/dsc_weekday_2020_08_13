{
 "cells": [
  {
   "cell_type": "code",
   "execution_count": 7,
   "metadata": {},
   "outputs": [
    {
     "name": "stdout",
     "output_type": "stream",
     "text": [
      "Before Reversing:  [1, 2, 3, 4, 5]\n",
      "After Reversing:  [5, 4, 3, 2, 1]\n"
     ]
    }
   ],
   "source": [
    "# #1 WAF: reverse_list() that takes a list as argument and reverses the elements of the list in place¶\n",
    "\n",
    "# (use indexing operations, not any built-in function or slicing)\n",
    "# Logic: if l = [1,2,3,4,5] ;     result = [5,4,3,2,1] \n",
    "#                1 2 3 4 5 # string \n",
    "#                0 1 2 3 4 # indexes \n",
    "# start index = 0, end index = 4; swap the elements at index 0,4 [5,2,3,4,1] \n",
    "# start index = 1, end index = 3; swap the elements at index 1,3 [5,4,3,2,1]\n",
    "# Index start index 2 is not less than end index 2. Hence no need to go forward \n",
    "s = [1, 2, 3, 4, 5]\n",
    "\n",
    "print(\"Before Reversing: \", s)\n",
    "\n",
    "def reverse_list(s):\n",
    "    start = 0\n",
    "    end = len(s) - 1\n",
    "    while start < end:      # 0 < 4 ,     1 < 3    ,  2 < 2 \n",
    "        temp = s[start]         # temp = 1 ,  temp = 2 ,\n",
    "        s[start] = s[end]   # s[0] = 5 ,  s[1] = 2 ,\n",
    "        s[end] = temp       # s[4] = 1 ,  s[3] = 4\n",
    "        start = start + 1   # start = 1 , start = 2\n",
    "        end = end - 1       # end = 3 ,   end = 2\n",
    "    return(s)\n",
    "\n",
    "rev_list = reverse_list(s)\n",
    "print(\"After Reversing: \", rev_list)   "
   ]
  },
  {
   "cell_type": "code",
   "execution_count": 13,
   "metadata": {},
   "outputs": [
    {
     "name": "stdout",
     "output_type": "stream",
     "text": [
      "Enter a number separeted by space: 1 3 5 7 0\n",
      "count of even numbers:  1\n",
      "count of odd numbers:  4\n"
     ]
    }
   ],
   "source": [
    "# #2 WAF: count_even_odd() that counts and returns how many numbers are even and how many are odd in a list of numbers\n",
    "# passed as argument.¶\n",
    "\n",
    "s = input(\"Enter a number separeted by space: \")\n",
    "list_num = s.split()\n",
    "\n",
    "def count_even_odd(list_num):\n",
    "    even = 0\n",
    "    odd = 0\n",
    "    i = 0\n",
    "    while i < len(list_num):\n",
    "        if not int(list_num[i])%2:\n",
    "            even += 1\n",
    "        else: \n",
    "            odd +=1\n",
    "        i += 1\n",
    "    return even, odd\n",
    "\n",
    "even,odd = count_even_odd(list_num)\n",
    "print(\"count of even numbers: \", even)\n",
    "print(\"count of odd numbers: \", odd)  \n",
    "\n"
   ]
  },
  {
   "cell_type": "code",
   "execution_count": 23,
   "metadata": {},
   "outputs": [
    {
     "name": "stdout",
     "output_type": "stream",
     "text": [
      "Enter a number separeted by space: 46 24 75 65 38\n",
      "maximum of  ['46', '24', '75', '65', '38'] is:  75\n"
     ]
    }
   ],
   "source": [
    "#3 WAF: maximum() to return the largest number in a list of numbers (do not use max function).¶\n",
    "\n",
    "s = input(\"Enter a number separeted by space: \")\n",
    "list_num = s.split()\n",
    "\n",
    "def max(list_num):\n",
    "    i = 0\n",
    "    max = 0\n",
    "    while i < len(list_num):\n",
    "        if int(list_num[i]) > max:\n",
    "            max = int(list_num[i])    \n",
    "        i += 1\n",
    "    return max\n",
    "\n",
    "print(\"maximum of \", list_num, \"is: \", max(list_num))"
   ]
  },
  {
   "cell_type": "code",
   "execution_count": 31,
   "metadata": {},
   "outputs": [
    {
     "name": "stdout",
     "output_type": "stream",
     "text": [
      "Enter a number separeted by space: 11 22 1 2 5 67 21 32\n",
      "22 11\n",
      "2 22 11\n",
      "3 22 11\n",
      "4 22 11\n",
      "5 67 22\n",
      "6 67 22\n",
      "7 67 32\n",
      "maximum of  ['11', '22', '1', '2', '5', '67', '21', '32'] is:  32\n",
      "Enter a number separeted by space: 10 20 4 45 99\n",
      "\n",
      "20 10\n",
      "2 20 10\n",
      "3 45 20\n",
      "4 99 45\n",
      "maximum of  ['10', '20', '4', '45', '99'] is:  45\n"
     ]
    }
   ],
   "source": [
    "#4 WAF: second_maximum() Create a new version of above code to return the second largest number\n",
    "\n",
    "s = input(\"Enter a number separeted by space: \")\n",
    "list_num = s.split()\n",
    "\n",
    "def second_max(list_num):\n",
    "\n",
    "    if int(list_num[0]) > int(list_num[1]):\n",
    "        first_max = int(list_num[0])\n",
    "        second_max = int(list_num[1])\n",
    "    else:\n",
    "        first_max = int(list_num[1])\n",
    "        second_max = int(list_num[0])\n",
    "    \n",
    "    print(first_max, second_max)\n",
    "    i = 2\n",
    "    while i < len(list_num):\n",
    "        if int(list_num[i]) > first_max:\n",
    "            second_max = first_max\n",
    "            first_max = int(list_num[i])\n",
    "        elif int(list_num[i]) > second_max:\n",
    "            second_max = int(list_num[i])\n",
    "        print(i, first_max, second_max)\n",
    "        i += 1\n",
    "    return second_max\n",
    "\n",
    "#[11,22,1,2,5,67,21,32]\n",
    "\n",
    "print(\"maximum of \", list_num, \"is: \", second_max(list_num))\n",
    "\n",
    "#[10, 20, 4, 45, 99] \n",
    "\n",
    "s = input(\"Enter a number separeted by space: \")\n",
    "list_num = s.split()\n",
    "print()\n",
    "print(\"maximum of \", list_num, \"is: \", second_max(list_num))"
   ]
  },
  {
   "cell_type": "code",
   "execution_count": 36,
   "metadata": {},
   "outputs": [
    {
     "name": "stdout",
     "output_type": "stream",
     "text": [
      "Enter a number separeted by space: 11 22 1 2 5 67 21 32\n",
      "161\n",
      "The mean of list ['11', '22', '1', '2', '5', '67', '21', '32'] is 20.125\n"
     ]
    }
   ],
   "source": [
    "#5 WAF: mean() that returns the mean of list of numbers passed to the function as argument\n",
    "\n",
    "s = input(\"Enter a number separeted by space: \")\n",
    "list_num = s.split()\n",
    "\n",
    "def find_mean(l):\n",
    "    s = 0\n",
    "    i = 0\n",
    "    while i < len(l):\n",
    "        s += int(l[i])\n",
    "        i += 1\n",
    "    print(s)\n",
    "    return (s/len(l))\n",
    "\n",
    "##[11,22,1,2,5,67,21,32]\n",
    "print(\"The mean of list\", list_num ,\"is\", find_mean(list_num))"
   ]
  },
  {
   "cell_type": "code",
   "execution_count": 17,
   "metadata": {},
   "outputs": [
    {
     "name": "stdout",
     "output_type": "stream",
     "text": [
      "Enter a number separeted by space: 3 10 5 8 2 7\n",
      "['3', '10', '5', '8', '2', '7']\n",
      "[3, 10, 5, 8, 2, 7]\n",
      "Enter a start : 5\n",
      "Enter a end : 7\n",
      "[3, 10, 5, 8, 2, 7] 5 7\n",
      "2 5\n",
      "[5, 8, 2]\n"
     ]
    }
   ],
   "source": [
    "#6 WAF: find_in_range() that takes a three arguments:¶\n",
    "#a list of numbers, start, end\n",
    "#The function returns a list of numbers from the original list, which lie between start and end.\n",
    "#Ex: find_in_range([3,10, 5, 8, 2, 7], 5, 9) List of numbers = [3,10, 5, 8, 2, 7] start = 5 end = 9 \n",
    "#list returned should be [5, 8, 2, 7]\n",
    "\n",
    "s1 = input(\"Enter a number separeted by space: \")\n",
    "list_str = s1.split()\n",
    "\n",
    "print(list_str)\n",
    "for i in range(0, len(list_str)):\n",
    "    list_str[i] = int(list_str[i])\n",
    "\n",
    "print(list_str)\n",
    "\n",
    "start = int(input(\"Enter a start : \"))\n",
    "end = int(input(\"Enter a end : \"))\n",
    "\n",
    "def find_in_range(l, s, e):\n",
    "    print(l,s,e)\n",
    "    if s in l:\n",
    "        s=l.index(s)\n",
    "    else:\n",
    "        s=0\n",
    "        \n",
    "    if e in l:\n",
    "        e=l.index(e)\n",
    "    else:\n",
    "         e=len(l)\n",
    "    print(s, e)\n",
    "    \n",
    "    l1 = []\n",
    "    for i in range(s,e):\n",
    "        l1.append(l[i])\n",
    "    return(l1)    \n",
    "\n",
    "print(find_in_range(list_str,start,end))\n"
   ]
  },
  {
   "cell_type": "code",
   "execution_count": 64,
   "metadata": {},
   "outputs": [
    {
     "name": "stdout",
     "output_type": "stream",
     "text": [
      "2 6\n"
     ]
    }
   ],
   "source": [
    "l = [3,10, 5, 8, 2, 7]\n",
    "s = 5\n",
    "e = 9\n",
    "\n",
    "if s in l:\n",
    "    s=l.index(s)\n",
    "else:\n",
    "    s=0\n",
    "if e in l:\n",
    "    e=l.index(e)\n",
    "else:\n",
    "     e=len(l)\n",
    "print(s,e)"
   ]
  }
 ],
 "metadata": {
  "kernelspec": {
   "display_name": "Python 3",
   "language": "python",
   "name": "python3"
  },
  "language_info": {
   "codemirror_mode": {
    "name": "ipython",
    "version": 3
   },
   "file_extension": ".py",
   "mimetype": "text/x-python",
   "name": "python",
   "nbconvert_exporter": "python",
   "pygments_lexer": "ipython3",
   "version": "3.6.3"
  }
 },
 "nbformat": 4,
 "nbformat_minor": 2
}
