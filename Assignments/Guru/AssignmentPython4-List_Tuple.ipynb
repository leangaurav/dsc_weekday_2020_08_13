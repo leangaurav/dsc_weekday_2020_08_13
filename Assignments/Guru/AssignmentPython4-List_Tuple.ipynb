{
 "cells": [
  {
   "cell_type": "code",
   "execution_count": 1,
   "metadata": {},
   "outputs": [
    {
     "name": "stdout",
     "output_type": "stream",
     "text": [
      "(1, 2, 3) [1, 2, 3] <class 'list'>\n"
     ]
    }
   ],
   "source": [
    "#1 Convert a tuple to list\n",
    "t = (1,2,3)\n",
    "l = list(t)\n",
    "print(t, l, type(l))"
   ]
  },
  {
   "cell_type": "code",
   "execution_count": 14,
   "metadata": {},
   "outputs": [
    {
     "name": "stdout",
     "output_type": "stream",
     "text": [
      "[1, 3, 5, 7, (8, 6, 4, 2)]\n",
      "(8, 6, 4, 2)\n",
      "8\n"
     ]
    },
    {
     "ename": "TypeError",
     "evalue": "'tuple' object does not support item assignment",
     "output_type": "error",
     "traceback": [
      "\u001b[1;31m---------------------------------------------------------------------------\u001b[0m",
      "\u001b[1;31mTypeError\u001b[0m                                 Traceback (most recent call last)",
      "\u001b[1;32m<ipython-input-14-9cf1ce30be0f>\u001b[0m in \u001b[0;36m<module>\u001b[1;34m()\u001b[0m\n\u001b[0;32m      6\u001b[0m \u001b[0mprint\u001b[0m\u001b[1;33m(\u001b[0m\u001b[0mL\u001b[0m\u001b[1;33m[\u001b[0m\u001b[1;36m4\u001b[0m\u001b[1;33m]\u001b[0m\u001b[1;33m)\u001b[0m\u001b[1;33m\u001b[0m\u001b[0m\n\u001b[0;32m      7\u001b[0m \u001b[0mprint\u001b[0m\u001b[1;33m(\u001b[0m\u001b[0mL\u001b[0m\u001b[1;33m[\u001b[0m\u001b[1;36m4\u001b[0m\u001b[1;33m]\u001b[0m\u001b[1;33m[\u001b[0m\u001b[1;36m0\u001b[0m\u001b[1;33m]\u001b[0m\u001b[1;33m)\u001b[0m\u001b[1;33m\u001b[0m\u001b[0m\n\u001b[1;32m----> 8\u001b[1;33m \u001b[0mL\u001b[0m\u001b[1;33m[\u001b[0m\u001b[1;36m4\u001b[0m\u001b[1;33m]\u001b[0m\u001b[1;33m[\u001b[0m\u001b[1;36m0\u001b[0m\u001b[1;33m]\u001b[0m\u001b[1;33m=\u001b[0m\u001b[1;36m10\u001b[0m\u001b[1;33m\u001b[0m\u001b[0m\n\u001b[0m\u001b[0;32m      9\u001b[0m \u001b[1;33m\u001b[0m\u001b[0m\n\u001b[0;32m     10\u001b[0m \u001b[1;31m# L=[1,3,5,7]\u001b[0m\u001b[1;33m\u001b[0m\u001b[1;33m\u001b[0m\u001b[0m\n",
      "\u001b[1;31mTypeError\u001b[0m: 'tuple' object does not support item assignment"
     ]
    }
   ],
   "source": [
    "#WAP to join list to tuple\n",
    "L=[1,3,5,7]\n",
    "T=(8,6,4,2)\n",
    "L.append(T)\n",
    "print(L)    # we could add tuple inside the list \n",
    "print(L[4])\n",
    "print(L[4][0])\n",
    "#L[4][0]=10  'tuple' object does not support item assignment\n",
    " \n",
    "# L=[1,3,5,7]\n",
    "# T=(8,6,4,2)\n",
    "# T.append(L)\n",
    "# print(T)"
   ]
  },
  {
   "cell_type": "code",
   "execution_count": null,
   "metadata": {
    "collapsed": true
   },
   "outputs": [],
   "source": [
    "#3 What is difference between list and tuple\n",
    "\n",
    "# list is mutable, tuple is immutable \n",
    "# list has several built-in functions, tuple doesn't "
   ]
  },
  {
   "cell_type": "code",
   "execution_count": 32,
   "metadata": {},
   "outputs": [
    {
     "name": "stdout",
     "output_type": "stream",
     "text": [
      "reverse of  ['a', 'd', 'c', 'A', 'C'] :  ['C', 'A', 'c', 'd', 'a']\n",
      "6\n",
      "reverse of  ['a', 'd', 'c', 'A', 'C'] :  ['C', 'A', 'c', 'd', 'a']\n"
     ]
    }
   ],
   "source": [
    "#4 Print the list in reverse order \n",
    "#using the reverse index \n",
    "l = ['a','d','c','A','C']\n",
    "print(\"reverse of \", l ,\": \", l[::-1])\n",
    "\n",
    "#using the loop \n",
    "print(len(l)+1)\n",
    "for i in range(len(l)-1, -1 , -1):\n",
    "    l1.append(l[i])\n",
    "print(\"reverse of \", l ,\": \", l1)"
   ]
  },
  {
   "cell_type": "code",
   "execution_count": 3,
   "metadata": {},
   "outputs": [
    {
     "name": "stdout",
     "output_type": "stream",
     "text": [
      "Elements at Odd indexes:  [11, 21, 31, 41]\n",
      "Elements at Even indexes:  [10, 20, 30, 40]\n"
     ]
    }
   ],
   "source": [
    "#5 Print Elements at Odd indexes from a list (Do not use loop)   l = [10,11,20, 21,30, 31, 40, 41]\n",
    "l = [10,11,20, 21,30, 31, 40, 41]\n",
    "print(\"Elements at Odd indexes: \", l[1::2])  \n",
    "print(\"Elements at Even indexes: \", l[0::2])"
   ]
  },
  {
   "cell_type": "code",
   "execution_count": 8,
   "metadata": {},
   "outputs": [
    {
     "name": "stdout",
     "output_type": "stream",
     "text": [
      "[1, 2, 3, 4, 5] 1718262486024 1718262486024\n",
      "\n",
      "[1, 2, 3, 4, 5] 1718266888648 1718262486024\n",
      "\n",
      "[1, 2, 3, 4, 5] 1718285284936 1718262486024\n",
      "\n",
      "[1, 2, 3, 4, 5] 1718285242504 1718262486024\n",
      "\n",
      "[1, 2, 3, 4, 5] 1718285223560 1718262486024\n",
      "[1, 2, 3, 4, 5] 1718285223560 1672962208 1718262486024\n",
      "[10, 2, 3, 4, 5] 1718285223560 1718262486024\n",
      "[10, 2, 3, 4, 5] 1718285223560 1672962496 1718262486024\n"
     ]
    }
   ],
   "source": [
    "##6 How many ways you can copy a list. \n",
    "l=[1,2,3,4,5]\n",
    "l1=l                    # using assignment operator , doesn't copy but reference to the source \n",
    "print(l1,id(l1), id(l))\n",
    "print()\n",
    "l2=l.copy()             # using copy method \n",
    "print(l2,id(l2),id(l))\n",
    "print()\n",
    "l3=l[:]                 # same as using copy method\n",
    "print(l3,id(l3),id(l))\n",
    "print()\n",
    "import copy\n",
    "l4=copy.copy(l)\n",
    "print(l4,id(l4),id(l))\n",
    "print()\n",
    "l5=copy.deepcopy(l)\n",
    "print(l5,id(l5),id(l))\n",
    "print(l5,id(l5),id(l5[0]),id(l))\n",
    "l5[0]=10\n",
    "print(l5,id(l5),id(l))\n",
    "print(l5,id(l5),id(l5[0]),id(l))"
   ]
  },
  {
   "cell_type": "code",
   "execution_count": 18,
   "metadata": {},
   "outputs": [
    {
     "name": "stdout",
     "output_type": "stream",
     "text": [
      "[1, 2, 3, 4, 5] 1718266968200 1718285242568\n",
      "\n",
      "[1, 2, 3, 4, 5] 1718285084808 1718285242568\n"
     ]
    }
   ],
   "source": [
    "#copying using extend.\n",
    "lst1=[1,2,3,4,5]\n",
    "lst2=[]\n",
    "lst2.extend(lst1)\n",
    "print(lst2,id(lst2),id(lst1))\n",
    "#copy the list using loop \n",
    "print()\n",
    "lst3 = [item for item in lst1]\n",
    "print(lst3,id(lst3),id(lst1))"
   ]
  },
  {
   "cell_type": "code",
   "execution_count": 13,
   "metadata": {},
   "outputs": [
    {
     "name": "stdout",
     "output_type": "stream",
     "text": [
      "a\n",
      "4\n"
     ]
    }
   ],
   "source": [
    "#7 Predict the O/P\n",
    "\n",
    "n_list=[\"Happy\",[3,1,2,4]]\n",
    "print(n_list[0][1])          # prints a in Happy \n",
    "print(n_list[1][3])          # prints 4 in the list [3,1,2,4]"
   ]
  },
  {
   "cell_type": "code",
   "execution_count": 14,
   "metadata": {},
   "outputs": [
    {
     "name": "stdout",
     "output_type": "stream",
     "text": [
      "[1, 4, 6, 8]\n",
      "[1, 3, 5, 7]\n"
     ]
    }
   ],
   "source": [
    "#8 Predict output \n",
    "odd = [2,4,6,8]     \n",
    "odd[0]=1                 # assigns value 1 at index 0 of list odd. since list is mutable, it allows changes.  \n",
    "print(odd)               # prints [1,4,6,8]\n",
    "odd[1:4]=[3,5,7]         # \n",
    "print(odd)               # prints [1,3,5,7]"
   ]
  },
  {
   "cell_type": "code",
   "execution_count": 15,
   "metadata": {},
   "outputs": [
    {
     "name": "stdout",
     "output_type": "stream",
     "text": [
      "[1, 3, 5, [7, 9]]\n",
      "[1, 3, 5, [7, 9], 11, 13]\n"
     ]
    }
   ],
   "source": [
    "#9 Predict output \n",
    "odd = [1,3,5]\n",
    "odd.append([7,9])                # adds list [7, 9] to odd as 4th element \n",
    "print(odd)                       # prints [1,3, 5, [7, 9]]\n",
    "odd.extend([11,13])              # take each element in [11, 13] and append one by one in the list odd\n",
    "print(odd)                       # prints [1,3,5,[7,9],11,13]"
   ]
  },
  {
   "cell_type": "code",
   "execution_count": 19,
   "metadata": {},
   "outputs": [
    {
     "name": "stdout",
     "output_type": "stream",
     "text": [
      "<class 'tuple'>\n",
      "<class 'int'>\n",
      "<class 'int'>\n",
      "<class 'tuple'>\n"
     ]
    }
   ],
   "source": [
    "#10 Predict the output  \n",
    "x = 1,2,3; print(type(x))   # elements are separated by comma, so , data type is tuple \n",
    "x = (1);print(type(x))      # since only one element, data type is integer\n",
    "x = 1;print(type(x))        # data type is int\n",
    "x = 1,;print(type(x))       # data type is tuple since there is a comma "
   ]
  },
  {
   "cell_type": "code",
   "execution_count": 25,
   "metadata": {},
   "outputs": [
    {
     "name": "stdout",
     "output_type": "stream",
     "text": [
      "1  2  3  \n",
      "4  5  6  \n",
      "7  8  9  \n"
     ]
    }
   ],
   "source": [
    "# 11\n",
    "# Try to represent a matrix with following data in python. \n",
    "# 1 2 3\n",
    "# 4 5 6\n",
    "# 7 8 9\n",
    "\n",
    "# Using Loop and if else \n",
    "\n",
    "count = 0\n",
    "for i in range(1,10):\n",
    "    print(i,end=\"  \")\n",
    "    count += 1\n",
    "    if count%3 == 0:\n",
    "        print()\n",
    "        count = 0\n",
    "    else:\n",
    "        continue"
   ]
  },
  {
   "cell_type": "code",
   "execution_count": 26,
   "metadata": {},
   "outputs": [
    {
     "name": "stdout",
     "output_type": "stream",
     "text": [
      "('s', 't', 'r', 'i', 'n', 'g')\n",
      "('g', 'n', 'i', 'r', 't', 's')\n",
      "('n', 's')\n"
     ]
    }
   ],
   "source": [
    "#12 Predict output.\n",
    "t = tuple('string')\n",
    "print(t)                      # prints each character in a string as one element \n",
    "print(t[::-1])                # prints string in reverse \n",
    "print(t[::2][::-2])           # prints srn first and then reverse srn with step 2 , so prints ns "
   ]
  },
  {
   "cell_type": "code",
   "execution_count": 27,
   "metadata": {},
   "outputs": [
    {
     "name": "stdout",
     "output_type": "stream",
     "text": [
      "True\n",
      "False\n",
      "1\n",
      "3\n"
     ]
    }
   ],
   "source": [
    "# 13 Predict output.\n",
    "t = tuple([10,20,30,40,50,60])\n",
    "print(60 in t)                       # prints True because 60 is present in t \n",
    "print('60' in t)                     # prints False because '60' is not present in t\n",
    "print(t.count(10))                   # prints 1 as number of 10 in t is 1\n",
    "print(t.index(40))                   # prints 3 "
   ]
  },
  {
   "cell_type": "code",
   "execution_count": 39,
   "metadata": {},
   "outputs": [
    {
     "name": "stdout",
     "output_type": "stream",
     "text": [
      "Enter a string : Naman\n",
      "naman  is a palindrome\n"
     ]
    }
   ],
   "source": [
    "#14 Write a program to input a string and print if it is palindrome or not.\n",
    "\n",
    "# Solution-1\n",
    "# s = input('Enter a string : ')\n",
    "# s = s.lower()\n",
    "# rev_s = s[::-1]\n",
    "\n",
    "# if s == rev_s:\n",
    "#     print(s ,\"is a palindrom\")\n",
    "# else:\n",
    "#     print(s ,\"is not a palindrom\")\n",
    "    \n",
    "# Solution-2\n",
    "s = input('Enter a string : ')\n",
    "s = s.lower()\n",
    "start=0\n",
    "end=len(s)-1\n",
    "flag=1\n",
    "while start < end:\n",
    "    if s[start] == s[end]:\n",
    "        start = start + 1\n",
    "        end = end - 1\n",
    "    else:\n",
    "        print(s, \"is not palindrome\")\n",
    "        flag=0\n",
    "        break\n",
    "\n",
    "if flag:\n",
    "    print(s,\" is a palindrome\")"
   ]
  },
  {
   "cell_type": "code",
   "execution_count": 49,
   "metadata": {},
   "outputs": [
    {
     "name": "stdout",
     "output_type": "stream",
     "text": [
      "[20, 15, 10, 5]\n",
      "(20, 15, 10, 5)\n",
      "['__add__', '__class__', '__contains__', '__delattr__', '__dir__', '__doc__', '__eq__', '__format__', '__ge__', '__getattribute__', '__getitem__', '__getnewargs__', '__gt__', '__hash__', '__init__', '__init_subclass__', '__iter__', '__le__', '__len__', '__lt__', '__mul__', '__ne__', '__new__', '__reduce__', '__reduce_ex__', '__repr__', '__rmul__', '__setattr__', '__sizeof__', '__str__', '__subclasshook__', 'count', 'index']\n"
     ]
    }
   ],
   "source": [
    "#15 Use the range method and create a tuple containing the following values: (20, 15, 10, 5).\n",
    "\n",
    "p=[]\n",
    "for i in range(20,0,-5):\n",
    "    p.append(i)\n",
    "\n",
    "print(p)\n",
    "t=tuple(p)\n",
    "print(t)\n",
    "print(dir(t))"
   ]
  },
  {
   "cell_type": "code",
   "execution_count": 51,
   "metadata": {},
   "outputs": [
    {
     "name": "stdout",
     "output_type": "stream",
     "text": [
      "Enter a string: hello\n",
      "hello\n",
      "\n",
      "('h', 'e', 'l', 'l', 'o')\n",
      "\n",
      "['h', 'e', 'l', 'l', 'o']\n"
     ]
    }
   ],
   "source": [
    "#16: WAP to convert string to list of characters.\n",
    "s = input(\"Enter a string: \")\n",
    "t = tuple(s)\n",
    "l = list(s)\n",
    "print(s)\n",
    "print()\n",
    "print(t)\n",
    "print()\n",
    "print(l)"
   ]
  },
  {
   "cell_type": "code",
   "execution_count": 52,
   "metadata": {},
   "outputs": [
    {
     "name": "stdout",
     "output_type": "stream",
     "text": [
      "<class 'list'>\n",
      "<class 'NoneType'>\n",
      "<class 'str'>\n",
      "<class 'bool'>\n"
     ]
    }
   ],
   "source": [
    "#17 What is the return type of:\n",
    "print(type('1 2'.split()))          # type would be list not str \n",
    "print(type([1, 3, 2].sort()))       # type would be None because sort doesn't return anything. \n",
    "print(type('abc'.upper()))          # type would be str \n",
    "print(type(1 in [1, 2]))            # type would be bool"
   ]
  },
  {
   "cell_type": "code",
   "execution_count": 58,
   "metadata": {},
   "outputs": [
    {
     "name": "stdout",
     "output_type": "stream",
     "text": [
      "['1', '2']\n",
      "None\n",
      "[1, 3, 2]\n",
      "[1, 2, 3]\n",
      "ABC\n",
      "True\n"
     ]
    }
   ],
   "source": [
    "#17 output \n",
    "print('1 2'.split())        # type would be list not str \n",
    "print([1, 3, 2].sort())  # type would be None because sort doesn't return anything. \n",
    "s=[1,3,2]\n",
    "print(s)\n",
    "s.sort()\n",
    "print(s)\n",
    "print('abc'.upper())          # type would be str \n",
    "print(1 in [1, 2])  "
   ]
  }
 ],
 "metadata": {
  "kernelspec": {
   "display_name": "Python 3",
   "language": "python",
   "name": "python3"
  },
  "language_info": {
   "codemirror_mode": {
    "name": "ipython",
    "version": 3
   },
   "file_extension": ".py",
   "mimetype": "text/x-python",
   "name": "python",
   "nbconvert_exporter": "python",
   "pygments_lexer": "ipython3",
   "version": "3.6.3"
  }
 },
 "nbformat": 4,
 "nbformat_minor": 2
}
