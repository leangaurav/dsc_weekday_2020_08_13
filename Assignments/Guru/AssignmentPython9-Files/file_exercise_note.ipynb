{
 "cells": [
  {
   "cell_type": "code",
   "execution_count": 1,
   "metadata": {},
   "outputs": [
    {
     "name": "stdout",
     "output_type": "stream",
     "text": [
      "['Formatter', 'Template', '_ChainMap', '_TemplateMetaclass', '__all__', '__builtins__', '__cached__', '__doc__', '__file__', '__loader__', '__name__', '__package__', '__spec__', '_re', '_sentinel_dict', '_string', 'ascii_letters', 'ascii_lowercase', 'ascii_uppercase', 'capwords', 'digits', 'hexdigits', 'octdigits', 'printable', 'punctuation', 'whitespace']\n",
      "abcdefghijklmnopqrstuvwxyz\n"
     ]
    }
   ],
   "source": [
    "import string\n",
    "print(dir(string))\n",
    "print(string.ascii_lowercase)"
   ]
  },
  {
   "cell_type": "markdown",
   "metadata": {},
   "source": [
    "    # generat file name\n",
    "    dot_index = file_name.rfind(\".\") # \"f1_file.py\"\n",
    "    file_name_copy = file_name[:dot_index] + \"_copy\" + file_name[dot_index:]\n",
    "    print(\"copying {} to {}\".format(file_name, file_name_copy))    "
   ]
  },
  {
   "cell_type": "code",
   "execution_count": 16,
   "metadata": {},
   "outputs": [
    {
     "name": "stdout",
     "output_type": "stream",
     "text": [
      "1 0123456789\n",
      "2 abcdefghijklmnopqrstuvwxyzABCDEFGHIJKLMNOPQRSTUVWXYZ\n",
      "3  \t\n",
      "\r",
      "\u000b",
      "\f",
      "\n",
      "4 !\"#$%&'()*+,-./:;<=>?@[\\]^_`{|}~\n",
      "5 0123456789abcdefghijklmnopqrstuvwxyzABCDEFGHIJKLMNOPQRSTUVWXYZ!\"#$%&'()*+,-./:;<=>?@[\\]^_`{|}~ \t\n",
      "\r",
      "\u000b",
      "\f",
      "\n",
      "a\n",
      "b\n",
      "c\n",
      "d\n",
      "e\n",
      "f\n",
      "g\n",
      "h\n",
      "i\n",
      "j\n",
      "k\n",
      "l\n",
      "m\n",
      "n\n",
      "o\n",
      "p\n",
      "q\n",
      "r\n",
      "s\n",
      "t\n",
      "u\n",
      "v\n",
      "w\n",
      "x\n",
      "y\n",
      "z\n",
      "A\n",
      "B\n",
      "C\n",
      "D\n",
      "E\n",
      "F\n",
      "G\n",
      "H\n",
      "I\n",
      "J\n",
      "K\n",
      "L\n",
      "M\n",
      "N\n",
      "O\n",
      "P\n",
      "Q\n",
      "R\n",
      "S\n",
      "T\n",
      "U\n",
      "V\n",
      "W\n",
      "X\n",
      "Y\n",
      "Z\n",
      " \n",
      "0\n",
      "1\n",
      "2\n",
      "3\n",
      "4\n",
      "5\n",
      "6\n",
      "7\n",
      "8\n",
      "9\n"
     ]
    }
   ],
   "source": [
    "print(1, string.digits)\n",
    "print(2, string.ascii_letters)\n",
    "print(3, string.whitespace)\n",
    "print(4, string.punctuation)\n",
    "print(5, string.printable)\n",
    "s = string.ascii_letters + \" \" + string.digits\n",
    "for i in s:\n",
    "    print(i)"
   ]
  },
  {
   "cell_type": "code",
   "execution_count": 37,
   "metadata": {},
   "outputs": [
    {
     "name": "stdout",
     "output_type": "stream",
     "text": [
      "[6, 8, 2, 1, 5, 1, 9, 9, 7, 5, 7, 6, 6, 1, 6, 3, 7, 7, 9, 7, 3, 3, 2, 9, 9, 4, 5, 2, 4, 8, 2, 2, 9, 4, 8, 8, 3, 8, 6, 4, 3, 2, 1, 6, 6, 3, 5, 3, 1, 6, 4, 8] total numbers: 52 and sum : 263\n"
     ]
    }
   ],
   "source": [
    "import random\n",
    "\n",
    "l=[]\n",
    "for i in range(1,53):\n",
    "    l.append(random.randint(1,9))\n",
    "print(l, \"total numbers: {} and sum : {}\".format(len(l),sum(l)))\n",
    "\n",
    "#1 [6, 4, 7, 8, 3, 5, 3, 1, 5, 8, 8, 6, 9, 6, 4, 7, 5, 2, 3, 6, 3, 3, 1, 9, 1, 4, 2, 1, 1, 8, \n",
    "#  5, 4, 3, 3, 4, 4, 6, 8, 5, 4, 9, 2, 3, 2, 7, 2, 5, 6, 3, 8, 8, 8] total numbers: 52 and sum : 248    \n",
    "\n",
    "#2 [4, 3, 5, 7, 3, 6, 3, 3, 4, 9, 4, 7, 1, 1, 1, 1, 9, 5, 2, 2, 3, 9, 3, 5, 1, 4, \n",
    "#  6, 7, 5, 9, 3, 3, 7, 4, 8, 6, 2, 8, 4, 9, 9, 7, 9, 1, 3, 8, 1, 4, 5, 9, 5, 8] total numbers: 52 and sum : 255\n",
    "\n",
    "#3 [6, 5, 5, 5, 7, 2, 9, 5, 3, 2, 9, 9, 7, 8, 9, 2, 4, 8, 7, 6, 3, 9, 4, 9, 7, 7, \n",
    "#  6, 4, 3, 7, 9, 2, 6, 7, 9, 3, 8, 5, 7, 2, 5, 4, 1, 8, 3, 3, 9, 9, 8, 5, 3, 2] total numbers: 52 and sum : 295\n",
    "\n",
    "#4 [2, 2, 1, 7, 7, 9, 2, 2, 3, 4, 4, 6, 4, 3, 4, 1, 2, 1, 1, 7, 5, 7, 8, 7, 5, 8, 4, 3, 4, 5, 8, 9, \n",
    "#  1, 6, 6, 9, 8, 2, 3, 9, 2, 9, 2, 5, 6, 4, 1, 1, 9, 6, 1, 4] total numbers: 52 and sum : 239\n",
    "\n",
    "#5 [3, 7, 8, 9, 8, 4, 7, 3, 9, 7, 5, 6, 2, 4, 2, 9, 9, 7, 3, 7, 7, 3, 2, 1, 2, 4, 4, 8, 8, 3, 2, 2,\n",
    "#  9, 1, 8, 7, 1, 6, 7, 3, 8, 8, 3, 9, 9, 4, 1, 6, 6, 1, 5, 1] total numbers: 52 and sum : 268\n",
    "\n",
    "\n",
    "#6 [3, 5, 6, 7, 9, 6, 9, 8, 7, 8, 8, 8, 5, 1, 7, 6, 2, 4, 2, 3, 6, 8, 4, 9, 8, 6, 3, 6, 8, 4, \n",
    "#  8, 8, 7, 8, 6, 2, 1, 1, 5, 4, 9, 3, 3, 4, 2, 5, 2, 7, 4, 5, 6, 5] total numbers: 52 and sum : 281\n",
    "\n",
    "\n",
    "#7 [1, 8, 7, 8, 9, 4, 3, 4, 8, 5, 7, 2, 8, 6, 4, 1, 6, 8, 1, 9, 2, 3, 3, 2, 4, 3, 3, 5, 6, 2, 6, \n",
    "#  5, 4, 1, 1, 3, 3, 6, 7, 5, 9, 5, 7, 8, 7, 6, 4, 2, 8, 1, 2, 5] total numbers: 52 and sum : 247\n",
    "\n",
    "\n",
    "#8 [1, 7, 8, 7, 5, 9, 7, 8, 5, 9, 8, 6, 8, 5, 5, 4, 9, 3, 3, 8, 5, 6, 8, 2, 9, 9, 5, 2, 9, \n",
    "# 2, 3, 2, 8, 6, 6, 1, 4, 1, 7, 8, 3, 5, 8, 8, 6, 7, 2, 7, 3, 3, 4, 9] total numbers: 52 and sum : 293\n",
    "\n",
    "\n",
    "#9 [2, 8, 6, 6, 9, 6, 6, 1, 1, 8, 5, 7, 9, 9, 5, 5, 3, 9, 3, 9, 9, 7, 5, 6, 1, 5, 3, 4, 3, \n",
    "#  9, 6, 6, 5, 6, 4, 2, 9, 5, 3, 7, 9, 3, 5, 5, 8, 9, 7, 4, 6, 4, 3, 3] total numbers: 52 and sum : 288\n",
    "\n",
    "#10 [5, 4, 4, 3, 5, 7, 5, 8, 1, 7, 5, 2, 8, 2, 5, 5, 7, 8, 9, 8, 4, 8, 5, 7, 1, 2, 5, 6, 5,\n",
    "#  2, 3, 8, 9, 5, 7, 2, 9, 8, 6, 9, 7, 7, 2, 3, 8, 5, 1, 8, 3, 7, 6, 8] total numbers: 52 and sum : 284\n"
   ]
  }
 ],
 "metadata": {
  "kernelspec": {
   "display_name": "Python 3",
   "language": "python",
   "name": "python3"
  },
  "language_info": {
   "codemirror_mode": {
    "name": "ipython",
    "version": 3
   },
   "file_extension": ".py",
   "mimetype": "text/x-python",
   "name": "python",
   "nbconvert_exporter": "python",
   "pygments_lexer": "ipython3",
   "version": "3.8.5"
  }
 },
 "nbformat": 4,
 "nbformat_minor": 4
}
