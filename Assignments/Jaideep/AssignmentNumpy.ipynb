{
 "cells": [
  {
   "cell_type": "markdown",
   "metadata": {},
   "source": [
    "## NUMPY\n",
    "- create a numpy array of 5 zeros.\n",
    "    - check datatype, itemsize and shape of above\n",
    "- create a numpy array of ones of shape (5,4)\n",
    "- create a matrix of shape 4,5 with numbers from 1-20\n",
    "- multiply all elements of above array by 10\n",
    "- print odd elements from array\n",
    "- replace all even elements by their negative\n",
    "  \n",
    "  \n",
    "  \n",
    "- create a linearly spaced matrix M1 of size 4x4 having values in range 1-16\n",
    "- create a transpose of above matrix call it M2\n",
    "- find sum of above matrix M3 = (M1 + M2)\n",
    "- Find Transpose of M3, Call it MT1. Check if M3 == MT1\n",
    "- find diffrence of M4 = (M1 - M2)\n",
    "- Find Transpose of M4, Call it MT2. Check if M4 == MT2. Also check if M4 == -MT2\n",
    "  \n",
    "\n",
    "- create a matrix (3x4) R1 of random numbers between 10-40\n",
    "- find min and max column wise\n",
    "- replace the last column with sum of all the columns\n",
    "\n",
    "\n",
    "- create a matrix (3x4) R1 of random numbers between 10-40\n",
    "- replace all even elements with nan in R1\n",
    "- count number of nan in R1\n",
    "\n",
    "\n",
    "\n",
    "- check output of this code  \n",
    "`a1 = np.arange(1,10).reshape(3,3)\n",
    "a2 = np.arange(11,20).reshape(3,3)\n",
    "a3 = np.append(a1,a2)\n",
    "print(a3)\n",
    "a3 = np.append(a1,a2, axis = 0)\n",
    "print(a3)\n",
    "a3 = np.append(a1,a2, axis = 1)\n",
    "print(a3)\n",
    "`\n"
   ]
  },
  {
   "cell_type": "markdown",
   "metadata": {},
   "source": [
    "## create a numpy array of 5 zeros.\n",
    "check datatype, itemsize and shape of above"
   ]
  },
  {
   "cell_type": "code",
   "execution_count": 2,
   "metadata": {},
   "outputs": [
    {
     "name": "stdout",
     "output_type": "stream",
     "text": [
      "Array [0 0 0 0 0]\n",
      "Type int64\n",
      "Size 5\n",
      "Shape (5,)\n"
     ]
    }
   ],
   "source": [
    "import numpy as np\n",
    "\n",
    "nArray = np.array([0]*5)\n",
    "print(\"Array\", nArray)\n",
    "print(\"Type\", nArray.dtype)\n",
    "print(\"Size\", nArray.size)\n",
    "print(\"Shape\", nArray.shape)"
   ]
  },
  {
   "cell_type": "markdown",
   "metadata": {},
   "source": [
    "## create a numpy array of ones of shape (5,4)"
   ]
  },
  {
   "cell_type": "code",
   "execution_count": 3,
   "metadata": {},
   "outputs": [
    {
     "name": "stdout",
     "output_type": "stream",
     "text": [
      "[[1 1 1 1]\n",
      " [1 1 1 1]\n",
      " [1 1 1 1]\n",
      " [1 1 1 1]\n",
      " [1 1 1 1]]\n"
     ]
    }
   ],
   "source": [
    "nArray = np.ones((5,4),dtype=int)\n",
    "print(nArray)"
   ]
  },
  {
   "cell_type": "markdown",
   "metadata": {},
   "source": [
    "## create a matrix of shape 4,5 with numbers from 1-20"
   ]
  },
  {
   "cell_type": "code",
   "execution_count": 54,
   "metadata": {},
   "outputs": [
    {
     "name": "stdout",
     "output_type": "stream",
     "text": [
      "[[ 1  2  3  4  5]\n",
      " [ 6  7  8  9 10]\n",
      " [11 12 13 14 15]\n",
      " [16 17 18 19 20]]\n"
     ]
    }
   ],
   "source": [
    "nArray = np.arange(1,21).reshape(4,5)\n",
    "print(nArray)"
   ]
  },
  {
   "cell_type": "markdown",
   "metadata": {},
   "source": [
    "## multiply all elements of above array by 10"
   ]
  },
  {
   "cell_type": "code",
   "execution_count": 5,
   "metadata": {},
   "outputs": [
    {
     "name": "stdout",
     "output_type": "stream",
     "text": [
      "[[ 10  20  30  40  50]\n",
      " [ 60  70  80  90 100]\n",
      " [110 120 130 140 150]\n",
      " [160 170 180 190 200]]\n"
     ]
    }
   ],
   "source": [
    "nArray_Mul_10 = nArray*10\n",
    "print(nArray_Mul_10)"
   ]
  },
  {
   "cell_type": "markdown",
   "metadata": {},
   "source": [
    "## print odd elements from array"
   ]
  },
  {
   "cell_type": "code",
   "execution_count": 6,
   "metadata": {},
   "outputs": [
    {
     "name": "stdout",
     "output_type": "stream",
     "text": [
      "[ 1  3  5  7  9 11 13 15 17 19]\n"
     ]
    }
   ],
   "source": [
    "print(nArray[nArray%2!=0])"
   ]
  },
  {
   "cell_type": "markdown",
   "metadata": {},
   "source": [
    "## replace all even elements by their negative"
   ]
  },
  {
   "cell_type": "code",
   "execution_count": 7,
   "metadata": {},
   "outputs": [
    {
     "name": "stdout",
     "output_type": "stream",
     "text": [
      "[[  1  -2   3  -4   5]\n",
      " [ -6   7  -8   9 -10]\n",
      " [ 11 -12  13 -14  15]\n",
      " [-16  17 -18  19 -20]]\n"
     ]
    }
   ],
   "source": [
    "even = nArray%2 == 0\n",
    "nArray[even] = -(nArray[even])\n",
    "print(nArray)"
   ]
  },
  {
   "cell_type": "markdown",
   "metadata": {},
   "source": [
    "## create a linearly spaced matrix M1 of size 4x4 having values in range 1-16"
   ]
  },
  {
   "cell_type": "code",
   "execution_count": 18,
   "metadata": {},
   "outputs": [
    {
     "name": "stdout",
     "output_type": "stream",
     "text": [
      "M1:\n",
      " [[ 1.  2.  3.  4.]\n",
      " [ 5.  6.  7.  8.]\n",
      " [ 9. 10. 11. 12.]\n",
      " [13. 14. 15. 16.]]\n"
     ]
    }
   ],
   "source": [
    "M1 = np.linspace(1,16, num=16, endpoint=True).reshape(4,4)\n",
    "print(\"M1:\\n\", M1)"
   ]
  },
  {
   "cell_type": "markdown",
   "metadata": {},
   "source": [
    "## create a transpose of above matrix call it M2"
   ]
  },
  {
   "cell_type": "code",
   "execution_count": 19,
   "metadata": {},
   "outputs": [
    {
     "name": "stdout",
     "output_type": "stream",
     "text": [
      "M2:\n",
      " [[ 1.  5.  9. 13.]\n",
      " [ 2.  6. 10. 14.]\n",
      " [ 3.  7. 11. 15.]\n",
      " [ 4.  8. 12. 16.]]\n"
     ]
    }
   ],
   "source": [
    "M2 = M1.T\n",
    "print(\"M2:\\n\", M2)"
   ]
  },
  {
   "cell_type": "markdown",
   "metadata": {},
   "source": [
    "## find sum of above matrix M3 = (M1 + M2)"
   ]
  },
  {
   "cell_type": "code",
   "execution_count": 20,
   "metadata": {},
   "outputs": [
    {
     "name": "stdout",
     "output_type": "stream",
     "text": [
      "M3:\n",
      " [[ 2.  7. 12. 17.]\n",
      " [ 7. 12. 17. 22.]\n",
      " [12. 17. 22. 27.]\n",
      " [17. 22. 27. 32.]]\n"
     ]
    }
   ],
   "source": [
    "M3 = M1 + M2\n",
    "print(\"M3:\\n\", M3)"
   ]
  },
  {
   "cell_type": "markdown",
   "metadata": {},
   "source": [
    "## Find Transpose of M3, Call it MT1. Check if M3 == MT1"
   ]
  },
  {
   "cell_type": "code",
   "execution_count": 31,
   "metadata": {},
   "outputs": [
    {
     "name": "stdout",
     "output_type": "stream",
     "text": [
      "MT1:\n",
      " [[ 2.  7. 12. 17.]\n",
      " [ 7. 12. 17. 22.]\n",
      " [12. 17. 22. 27.]\n",
      " [17. 22. 27. 32.]]\n",
      "M3 is equal to MT1.\n"
     ]
    }
   ],
   "source": [
    "MT1 = M3.T\n",
    "print(\"MT1:\\n\", MT1)\n",
    "\n",
    "if (M3 == MT1).all():\n",
    "    print(\"M3 is equal to MT1.\")\n",
    "else:\n",
    "    print(\"M3 is not equal to MT1.\")"
   ]
  },
  {
   "cell_type": "markdown",
   "metadata": {},
   "source": [
    "## find diffrence of M4 = (M1 - M2)"
   ]
  },
  {
   "cell_type": "code",
   "execution_count": 22,
   "metadata": {},
   "outputs": [
    {
     "name": "stdout",
     "output_type": "stream",
     "text": [
      "M4:\n",
      " [[ 0. -3. -6. -9.]\n",
      " [ 3.  0. -3. -6.]\n",
      " [ 6.  3.  0. -3.]\n",
      " [ 9.  6.  3.  0.]]\n"
     ]
    }
   ],
   "source": [
    "M4 = M1 - M2\n",
    "print(\"M4:\\n\", M4)"
   ]
  },
  {
   "cell_type": "markdown",
   "metadata": {},
   "source": [
    "## Find Transpose of M4, Call it MT2. Check if M4 == MT2. Also check if M4 == -MT2"
   ]
  },
  {
   "cell_type": "code",
   "execution_count": 32,
   "metadata": {},
   "outputs": [
    {
     "name": "stdout",
     "output_type": "stream",
     "text": [
      "MT2:\n",
      " [[ 0.  3.  6.  9.]\n",
      " [-3.  0.  3.  6.]\n",
      " [-6. -3.  0.  3.]\n",
      " [-9. -6. -3.  0.]]\n",
      "\n",
      "M4 is not equal to MT2.\n",
      "\n",
      "M4 is equal to -MT2\n"
     ]
    }
   ],
   "source": [
    "MT2 = M4.T\n",
    "print(\"MT2:\\n\", MT2)\n",
    "\n",
    "print()\n",
    "if (M4 == MT2).all():\n",
    "    print(\"M4 is equal to MT2\")\n",
    "else:\n",
    "    print(\"M4 is not equal to MT2.\")\n",
    "\n",
    "print()\n",
    "if (M4 == -MT2).all():\n",
    "    print(\"M4 is equal to -MT2\")\n",
    "else:\n",
    "    print(\"M4 is not equal to -MT2.\")\n"
   ]
  },
  {
   "cell_type": "markdown",
   "metadata": {},
   "source": [
    "## create a matrix (3x4) R1 of random numbers between 10-40"
   ]
  },
  {
   "cell_type": "code",
   "execution_count": 106,
   "metadata": {},
   "outputs": [
    {
     "name": "stdout",
     "output_type": "stream",
     "text": [
      "R1:\n",
      " [[19 25 10 26]\n",
      " [39 18 38 30]\n",
      " [29 21 17 35]]\n"
     ]
    }
   ],
   "source": [
    "import random\n",
    "R1 = np.array(random.sample(range(10, 40),12)).reshape(3,4)\n",
    "print(\"R1:\\n\", R1)"
   ]
  },
  {
   "cell_type": "markdown",
   "metadata": {},
   "source": [
    "## find min and max column wise"
   ]
  },
  {
   "cell_type": "code",
   "execution_count": 107,
   "metadata": {},
   "outputs": [
    {
     "name": "stdout",
     "output_type": "stream",
     "text": [
      "Min of R1:  10\n",
      "Max of R1:  39\n"
     ]
    }
   ],
   "source": [
    "print(\"Min of R1: \", R1.min())\n",
    "print(\"Max of R1: \", R1.max())"
   ]
  },
  {
   "cell_type": "markdown",
   "metadata": {},
   "source": [
    "## replace the last column with sum of all the columns"
   ]
  },
  {
   "cell_type": "code",
   "execution_count": 108,
   "metadata": {},
   "outputs": [
    {
     "name": "stdout",
     "output_type": "stream",
     "text": [
      "R1:\n",
      " [[19 25 10 26]\n",
      " [39 18 38 30]\n",
      " [29 21 17 35]]\n",
      "R1:\n",
      " [[ 19  25  10  80]\n",
      " [ 39  18  38 125]\n",
      " [ 29  21  17 102]]\n"
     ]
    }
   ],
   "source": [
    "print(\"R1:\\n\", R1)\n",
    "R1[:,-1] = R1.sum(axis = 1)\n",
    "print(\"R1:\\n\", R1)"
   ]
  },
  {
   "cell_type": "markdown",
   "metadata": {},
   "source": [
    "## create a matrix (3x4) R1 of random numbers between 10-40"
   ]
  },
  {
   "cell_type": "code",
   "execution_count": 151,
   "metadata": {},
   "outputs": [
    {
     "name": "stdout",
     "output_type": "stream",
     "text": [
      "R1:\n",
      " [[38. 28. 11. 21.]\n",
      " [30. 10. 12. 34.]\n",
      " [36. 18. 23. 24.]]\n"
     ]
    }
   ],
   "source": [
    "R1 = np.array(random.sample(range(10,40),12), dtype=\"float\").reshape(3,4)\n",
    "print(\"R1:\\n\", R1)"
   ]
  },
  {
   "cell_type": "markdown",
   "metadata": {},
   "source": [
    "## replace all even elements with nan in R1"
   ]
  },
  {
   "cell_type": "code",
   "execution_count": 153,
   "metadata": {},
   "outputs": [
    {
     "name": "stdout",
     "output_type": "stream",
     "text": [
      "[[nan nan 11. 21.]\n",
      " [nan nan nan nan]\n",
      " [nan nan 23. nan]]\n"
     ]
    }
   ],
   "source": [
    "Even = R1[::]%2==0\n",
    "R1[Even] = np.NaN\n",
    "print(R1)"
   ]
  },
  {
   "cell_type": "markdown",
   "metadata": {},
   "source": [
    "## count number of nan in R1"
   ]
  },
  {
   "cell_type": "code",
   "execution_count": 163,
   "metadata": {},
   "outputs": [
    {
     "name": "stdout",
     "output_type": "stream",
     "text": [
      "Number of NaN in array:  9\n"
     ]
    }
   ],
   "source": [
    "No_of_NaN = np.count_nonzero(np.isnan(R1))\n",
    "print(\"Number of NaN in array: \", No_of_NaN)"
   ]
  },
  {
   "cell_type": "markdown",
   "metadata": {},
   "source": [
    "## check output of this code\n",
    "`a1 = np.arange(1,10).reshape(3,3)\n",
    "a2 = np.arange(11,20).reshape(3,3)\n",
    "a3 = np.append(a1,a2)\n",
    "print(a3)\n",
    "a3 = np.append(a1,a2, axis = 0)\n",
    "print(a3)\n",
    "a3 = np.append(a1,a2, axis = 1)\n",
    "print(a3)\n",
    "`"
   ]
  },
  {
   "cell_type": "code",
   "execution_count": 164,
   "metadata": {},
   "outputs": [
    {
     "name": "stdout",
     "output_type": "stream",
     "text": [
      "[ 1  2  3  4  5  6  7  8  9 11 12 13 14 15 16 17 18 19]\n",
      "[[ 1  2  3]\n",
      " [ 4  5  6]\n",
      " [ 7  8  9]\n",
      " [11 12 13]\n",
      " [14 15 16]\n",
      " [17 18 19]]\n",
      "[[ 1  2  3 11 12 13]\n",
      " [ 4  5  6 14 15 16]\n",
      " [ 7  8  9 17 18 19]]\n"
     ]
    }
   ],
   "source": [
    "a1 = np.arange(1,10).reshape(3,3)\n",
    "a2 = np.arange(11,20).reshape(3,3)\n",
    "a3 = np.append(a1,a2)\n",
    "print(a3)\n",
    "a3 = np.append(a1,a2, axis = 0)\n",
    "print(a3)\n",
    "a3 = np.append(a1,a2, axis = 1)\n",
    "print(a3)"
   ]
  },
  {
   "cell_type": "code",
   "execution_count": null,
   "metadata": {},
   "outputs": [],
   "source": []
  }
 ],
 "metadata": {
  "kernelspec": {
   "display_name": "Python 3",
   "language": "python",
   "name": "python3"
  },
  "language_info": {
   "codemirror_mode": {
    "name": "ipython",
    "version": 3
   },
   "file_extension": ".py",
   "mimetype": "text/x-python",
   "name": "python",
   "nbconvert_exporter": "python",
   "pygments_lexer": "ipython3",
   "version": "3.8.3"
  }
 },
 "nbformat": 4,
 "nbformat_minor": 2
}
