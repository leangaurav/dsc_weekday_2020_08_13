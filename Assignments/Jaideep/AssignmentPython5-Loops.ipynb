{
 "cells": [
  {
   "cell_type": "code",
   "execution_count": 1,
   "metadata": {},
   "outputs": [
    {
     "name": "stdout",
     "output_type": "stream",
     "text": [
      "AssignmentPython4-IfElse\n",
      "************************\n",
      "\n"
     ]
    }
   ],
   "source": [
    "#AssignmentPython5-Loops\n",
    "Header = \"AssignmentPython4-IfElse\"\n",
    "print(Header + \"\\n\" + \"*\"*len(Header)+\"\\n\")"
   ]
  },
  {
   "cell_type": "code",
   "execution_count": 2,
   "metadata": {},
   "outputs": [
    {
     "name": "stdout",
     "output_type": "stream",
     "text": [
      "\n",
      "Task1: WAP to print first n natural numbers (input n from user):\n",
      "-----------------------------------------------------------------\n",
      "Enter a Number:7\n",
      "1\n",
      "2\n",
      "3\n",
      "4\n",
      "5\n",
      "6\n",
      "7\n"
     ]
    }
   ],
   "source": [
    "'''\n",
    "Task1: WAP to print first n natural numbers (input n from user).\n",
    "'''\n",
    "Task = \"\\nTask1: WAP to print first n natural numbers (input n from user):\"\n",
    "print(Task + \"\\n\" + \"-\"*len(Task))\n",
    "\n",
    "Num = int(input(\"Enter a Number:\"))\n",
    "for i in range(1,Num+1):\n",
    "    print(i)"
   ]
  },
  {
   "cell_type": "code",
   "execution_count": 3,
   "metadata": {},
   "outputs": [
    {
     "name": "stdout",
     "output_type": "stream",
     "text": [
      "\n",
      "Task2: WAP to find sum of first n natural numbers:\n",
      "---------------------------------------------------\n",
      "Enter a Number:7\n",
      "Sum: 28\n"
     ]
    }
   ],
   "source": [
    "'''\n",
    "Task2: WAP to find sum of first n natural numbers.\n",
    "'''\n",
    "Task = \"\\nTask2: WAP to find sum of first n natural numbers:\"\n",
    "print(Task + \"\\n\" + \"-\"*len(Task))\n",
    "\n",
    "Num = int(input(\"Enter a Number:\"))\n",
    "Sum = 0\n",
    "for i in range(1,Num+1):\n",
    "    Sum += i\n",
    "print(\"Sum:\", Sum)"
   ]
  },
  {
   "cell_type": "code",
   "execution_count": 4,
   "metadata": {},
   "outputs": [
    {
     "name": "stdout",
     "output_type": "stream",
     "text": [
      "\n",
      "Task3: WAP to print first n natural numbers in reverse order:\n",
      "--------------------------------------------------------------\n",
      "Enter a Number:7\n",
      "7\n",
      "6\n",
      "5\n",
      "4\n",
      "3\n",
      "2\n",
      "1\n"
     ]
    }
   ],
   "source": [
    "'''\n",
    "Task3: WAP to print first n natural numbers in reverse order.\n",
    "'''\n",
    "Task = \"\\nTask3: WAP to print first n natural numbers in reverse order:\"\n",
    "print(Task + \"\\n\" + \"-\"*len(Task))\n",
    "\n",
    "Num = int(input(\"Enter a Number:\"))\n",
    "while Num > 0:\n",
    "    print(Num)\n",
    "    Num -= 1\n"
   ]
  },
  {
   "cell_type": "code",
   "execution_count": 5,
   "metadata": {},
   "outputs": [
    {
     "name": "stdout",
     "output_type": "stream",
     "text": [
      "\n",
      "Task4: WAP to input a number and print its factorial:\n",
      "------------------------------------------------------\n",
      "Enter a Number:5\n",
      "Factorial =  120\n"
     ]
    }
   ],
   "source": [
    "'''\n",
    "Task4: WAP to input a number and print its factorial.\n",
    "'''\n",
    "Task = \"\\nTask4: WAP to input a number and print its factorial:\"\n",
    "print(Task + \"\\n\" + \"-\"*len(Task))\n",
    "\n",
    "Num = int(input(\"Enter a Number:\"))\n",
    "if Num >= 0:\n",
    "    Factorial = 1\n",
    "    for i in range(1, Num+1):\n",
    "        Factorial *= i\n",
    "    print(\"Factorial = \", Factorial)\n",
    "else:\n",
    "    print(\"Factorial is only for +ve numbers.\")"
   ]
  },
  {
   "cell_type": "code",
   "execution_count": 6,
   "metadata": {},
   "outputs": [
    {
     "name": "stdout",
     "output_type": "stream",
     "text": [
      "\n",
      "Task5: WAP to print Fibonacci sequence till n:\n",
      "-----------------------------------------------\n",
      "Enter a Number:6\n",
      "0\n",
      "1\n",
      "1\n",
      "2\n",
      "3\n",
      "5\n"
     ]
    }
   ],
   "source": [
    "'''\n",
    "Task5: WAP to print Fibonacci sequence till n.\n",
    "'''\n",
    "Task = \"\\nTask5: WAP to print Fibonacci sequence till n:\"\n",
    "print(Task + \"\\n\" + \"-\"*len(Task))\n",
    "\n",
    "Num = int(input(\"Enter a Number:\"))\n",
    "n=n1=n2=0\n",
    "for i in range(Num):\n",
    "    if i == 0 or i == 1:\n",
    "        print(i)\n",
    "        n1=0\n",
    "        n2=1\n",
    "    else:\n",
    "        n = n1+n2\n",
    "        n1 = n2\n",
    "        n2 = n\n",
    "        print(n)"
   ]
  },
  {
   "cell_type": "code",
   "execution_count": 7,
   "metadata": {},
   "outputs": [
    {
     "name": "stdout",
     "output_type": "stream",
     "text": [
      "\n",
      "Task6: WAP to print all digits of a number input from user:\n",
      "------------------------------------------------------------\n",
      "Enter a Number:873\n",
      "8\n",
      "7\n",
      "3\n"
     ]
    }
   ],
   "source": [
    "'''\n",
    "Task6: WAP to print all digits of a number input from user.\n",
    "'''\n",
    "Task = \"\\nTask6: WAP to print all digits of a number input from user:\"\n",
    "print(Task + \"\\n\" + \"-\"*len(Task))\n",
    "\n",
    "Num = int(input(\"Enter a Number:\"))\n",
    "\n",
    "NumStr = str(Num)\n",
    "for c in NumStr:\n",
    "    print(c)"
   ]
  },
  {
   "cell_type": "code",
   "execution_count": 8,
   "metadata": {},
   "outputs": [
    {
     "name": "stdout",
     "output_type": "stream",
     "text": [
      "\n",
      "Task7: WAP to find sum of all digits of a number:\n",
      "--------------------------------------------------\n",
      "Enter a Number:873\n",
      "Sum of Digits: 18\n"
     ]
    }
   ],
   "source": [
    "'''\n",
    "Task7: WAP to find sum of all digits of a number.\n",
    "'''\n",
    "Task = \"\\nTask7: WAP to find sum of all digits of a number:\"\n",
    "print(Task + \"\\n\" + \"-\"*len(Task))\n",
    "\n",
    "Num = int(input(\"Enter a Number:\"))\n",
    "\n",
    "Sum = 0\n",
    "NumStr = str(Num)\n",
    "for c in NumStr:\n",
    "    Sum += int(c)\n",
    "print(\"Sum of Digits:\", Sum)"
   ]
  },
  {
   "cell_type": "code",
   "execution_count": 9,
   "metadata": {},
   "outputs": [
    {
     "name": "stdout",
     "output_type": "stream",
     "text": [
      "\n",
      "Task8: WAP to find sum of following series given n as input from user. 1 + 2! + 3! + 4! + 5! + ....n!:\n",
      "-------------------------------------------------------------------------------------------------------\n",
      "Enter a Number:5\n",
      "Sum of Factorias: 153\n"
     ]
    }
   ],
   "source": [
    "'''\n",
    "Task8: WAP to find sum of following series given n as input from user\n",
    "1 + 2! + 3! + 4! + 5! + ....n!\n",
    "Where n! denotes the factorial of number n.\n",
    "'''\n",
    "Task = \"\\nTask8: WAP to find sum of following series given n as input from user. 1 + 2! + 3! + 4! + 5! + ....n!:\"\n",
    "print(Task + \"\\n\" + \"-\"*len(Task))\n",
    "\n",
    "Num = int(input(\"Enter a Number:\"))\n",
    "\n",
    "Sof = 0\n",
    "Factorial = 1\n",
    "for n in range(1, Num+1):\n",
    "    Factorial *= n\n",
    "    Sof += Factorial\n",
    "print(\"Sum of Factorias:\", Sof)\n"
   ]
  },
  {
   "cell_type": "code",
   "execution_count": 10,
   "metadata": {},
   "outputs": [
    {
     "name": "stdout",
     "output_type": "stream",
     "text": [
      "\n",
      "Task8: WAP to input base and exponent and print result without using inbuilt function pow:\n",
      "-------------------------------------------------------------------------------------------\n",
      "Enter base:2\n",
      "Enter Exponent:8\n",
      "256\n"
     ]
    }
   ],
   "source": [
    "'''\n",
    "Task9: WAP to input base and exponent and print result without using inbuilt function pow(use for or while loop).\n",
    "'''\n",
    "Task = \"\\nTask8: WAP to input base and exponent and print result without using inbuilt function pow:\"\n",
    "print(Task + \"\\n\" + \"-\"*len(Task))\n",
    "\n",
    "Base = int(input(\"Enter base:\"))\n",
    "Exponent = int(input(\"Enter Exponent:\"))\n",
    "Result = 1\n",
    "for n in range(Exponent):\n",
    "    Result *= Base\n",
    "print(Result)"
   ]
  },
  {
   "cell_type": "code",
   "execution_count": 11,
   "metadata": {},
   "outputs": [
    {
     "name": "stdout",
     "output_type": "stream",
     "text": [
      "\n",
      "Task10: Print patterns:\n",
      "------------------------\n",
      "*\n",
      "**\n",
      "***\n",
      "****\n",
      "*****\n",
      "\n",
      "\n",
      "*****\n",
      "****\n",
      "***\n",
      "**\n",
      "*\n",
      "\n",
      "\n",
      "     *\n",
      "    **\n",
      "   ***\n",
      "  ****\n",
      " *****\n",
      "\n",
      "\n",
      "    * \n",
      "\n",
      "   * * \n",
      "\n",
      "  * * * \n",
      "\n",
      " * * * * \n",
      "\n"
     ]
    }
   ],
   "source": [
    "'''\n",
    "Task10: Print patterns\n",
    "'''\n",
    "Task = \"\\nTask10: Print patterns:\"\n",
    "print(Task + \"\\n\" + \"-\"*len(Task))\n",
    "\n",
    "#Pattern1\n",
    "nCtr = 1\n",
    "while nCtr <= 5:\n",
    "    print(\"*\"*nCtr)\n",
    "    nCtr+=1\n",
    "\n",
    "#Pattern2\n",
    "print(\"\\n\")\n",
    "nCtr = 5\n",
    "while nCtr > 0:\n",
    "    print(\"*\"*nCtr)\n",
    "    nCtr-=1\n",
    "\n",
    "#Pattern3\n",
    "print(\"\\n\")\n",
    "nCtr = 1\n",
    "length = 5\n",
    "while nCtr <= length:\n",
    "    print(\" \"*(length - nCtr), \"*\"*nCtr)\n",
    "    nCtr+=1\n",
    "\n",
    "#Pattern4\n",
    "print(\"\\n\")\n",
    "n=4\n",
    "k = 2 * n - n\n",
    "for i in range(0,n):\n",
    "    print(\" \"*k, end=\"\")\n",
    "    k -= 1\n",
    "    for j in range(0, i+1):\n",
    "        print(\"*\", end=\" \")\n",
    "    print(\"\\n\")"
   ]
  },
  {
   "cell_type": "code",
   "execution_count": 12,
   "metadata": {},
   "outputs": [
    {
     "name": "stdout",
     "output_type": "stream",
     "text": [
      "\n",
      "Task11: Print patterns:\n",
      "------------------------\n",
      "1\n",
      "22\n",
      "333\n",
      "4444\n",
      "55555\n",
      "\n",
      "\n",
      "1\n",
      "12\n",
      "123\n",
      "1234\n",
      "12345\n",
      "\n",
      "\n",
      "5\n",
      "44\n",
      "333\n",
      "2222\n",
      "11111\n",
      "\n",
      "\n",
      "     1\n",
      "    22\n",
      "   333\n",
      "  4444\n",
      " 55555\n"
     ]
    }
   ],
   "source": [
    "'''\n",
    "Task11: Print patterns\n",
    "'''\n",
    "Task = \"\\nTask11: Print patterns:\"\n",
    "print(Task + \"\\n\" + \"-\"*len(Task))\n",
    "\n",
    "#Pattern1\n",
    "nCtr = 1\n",
    "while nCtr <= 5:\n",
    "    print(f\"{nCtr}\"*nCtr)\n",
    "    nCtr+=1\n",
    "\n",
    "#Pattern2\n",
    "print(\"\\n\")\n",
    "nCtr = 1\n",
    "while nCtr <= 5:\n",
    "    for i in range(1, nCtr+1):\n",
    "        print(i, end=\"\")\n",
    "    print(\"\")\n",
    "    nCtr+=1\n",
    "\n",
    "#Pattern3\n",
    "print(\"\\n\")\n",
    "nCtr = 5\n",
    "pCtr = 1\n",
    "while nCtr > 0:\n",
    "    print(f\"{nCtr}\"*(pCtr))\n",
    "    nCtr-=1\n",
    "    pCtr+=1\n",
    "\n",
    "#Pattern4\n",
    "print(\"\\n\")\n",
    "nCtr = 1\n",
    "length = 5\n",
    "while nCtr <= 5:\n",
    "    print(\" \"*(length - nCtr), f\"{nCtr}\"*nCtr)\n",
    "    nCtr+=1\n"
   ]
  },
  {
   "cell_type": "code",
   "execution_count": 13,
   "metadata": {},
   "outputs": [
    {
     "name": "stdout",
     "output_type": "stream",
     "text": [
      "\n",
      "Task12: Print character patterns:\n",
      "----------------------------------\n",
      "A\n",
      "AB\n",
      "ABC\n",
      "ABCD\n",
      "ABCDE\n",
      "\n",
      "\n",
      "A\n",
      "BC\n",
      "DEF\n",
      "GHIJ\n",
      "KLMNO\n",
      "\n",
      "\n",
      "A\n",
      "BB\n",
      "CCC\n",
      "DDDD\n",
      "EEEEE\n",
      "\n",
      "\n",
      "     A\n",
      "    ABA\n",
      "   ABCBA\n",
      "  ABCDCBA\n",
      " ABCDEDCBA\n"
     ]
    }
   ],
   "source": [
    "'''\n",
    "Task12: Print character patterns\n",
    "'''\n",
    "Task = \"\\nTask12: Print character patterns:\"\n",
    "print(Task + \"\\n\" + \"-\"*len(Task))\n",
    "\n",
    "#Pattern1\n",
    "nCtr = 0\n",
    "while nCtr < 5:\n",
    "    nAscii = 65\n",
    "    for i in range(nCtr+1):\n",
    "        print(chr(nAscii), end=\"\")\n",
    "        nAscii+=1\n",
    "    print(\"\")\n",
    "    nCtr+=1\n",
    "\n",
    "#Pattern2\n",
    "print(\"\\n\")\n",
    "nCtr = 0\n",
    "nAscii = 65\n",
    "while nCtr < 5:\n",
    "    for i in range(nCtr+1):\n",
    "        print(chr(nAscii), end=\"\")\n",
    "        nAscii+=1\n",
    "    print(\"\")\n",
    "    nCtr+=1\n",
    "\n",
    "#Pattern3\n",
    "print(\"\\n\")\n",
    "nAscii = 65\n",
    "for nCtr in range(5):\n",
    "    print(chr(nAscii)*(nCtr+1))\n",
    "    nAscii+=1\n",
    "\n",
    "#Pattern4\n",
    "print(\"\\n\")\n",
    "n=5\n",
    "k = 2 * n - n\n",
    "nAscii = 65\n",
    "for nCtr in range(n):\n",
    "    print(\" \"*k, end=\"\")\n",
    "    k -= 1\n",
    "    Str = chr(nAscii) \n",
    "    for nPad in range(nCtr+1):\n",
    "        if nPad > 0:\n",
    "            Str = chr(nAscii-nPad) + Str +  chr(nAscii-nPad)\n",
    "    print(Str)\n",
    "    nAscii+=1"
   ]
  },
  {
   "cell_type": "code",
   "execution_count": null,
   "metadata": {},
   "outputs": [],
   "source": []
  }
 ],
 "metadata": {
  "kernelspec": {
   "display_name": "Python 3",
   "language": "python",
   "name": "python3"
  },
  "language_info": {
   "codemirror_mode": {
    "name": "ipython",
    "version": 3
   },
   "file_extension": ".py",
   "mimetype": "text/x-python",
   "name": "python",
   "nbconvert_exporter": "python",
   "pygments_lexer": "ipython3",
   "version": "3.8.3"
  }
 },
 "nbformat": 4,
 "nbformat_minor": 4
}
