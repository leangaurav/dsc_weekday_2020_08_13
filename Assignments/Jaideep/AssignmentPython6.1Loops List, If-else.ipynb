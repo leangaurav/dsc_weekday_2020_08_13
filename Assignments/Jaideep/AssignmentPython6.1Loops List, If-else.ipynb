{
 "cells": [
  {
   "cell_type": "markdown",
   "metadata": {},
   "source": [
    "# AssignmentPython6.1Loops List, If-else"
   ]
  },
  {
   "cell_type": "code",
   "execution_count": 2,
   "metadata": {},
   "outputs": [
    {
     "name": "stdout",
     "output_type": "stream",
     "text": [
      "\n",
      "Task1: WAP to input a string and print individual characters in the string using for loop:\n",
      "-------------------------------------------------------------------------------------------\n",
      "Enter a string:Jaideep\n",
      "J\n",
      "a\n",
      "i\n",
      "d\n",
      "e\n",
      "e\n",
      "p\n"
     ]
    }
   ],
   "source": [
    "'''\n",
    "Task1: WAP to input a string and print individual characters in the string using for loop.\n",
    "'''\n",
    "Task = \"\\nTask1: WAP to input a string and print individual characters in the string using for loop:\"\n",
    "print(Task + \"\\n\" + \"-\"*len(Task))\n",
    "\n",
    "Str = input(\"Enter a string:\")\n",
    "for c in Str:\n",
    "    print(c)"
   ]
  },
  {
   "cell_type": "code",
   "execution_count": 3,
   "metadata": {},
   "outputs": [
    {
     "name": "stdout",
     "output_type": "stream",
     "text": [
      "\n",
      "Task2: WAP to input a string and print the ASCII value of each character in the string:\n",
      "----------------------------------------------------------------------------------------\n",
      "Enter a string:Aa\n",
      "65\n",
      "97\n"
     ]
    }
   ],
   "source": [
    "'''\n",
    "Task2: WAP to input a string and print the ASCII value of each character in the string.\n",
    "'''\n",
    "Task = \"\\nTask2: WAP to input a string and print the ASCII value of each character in the string:\"\n",
    "print(Task + \"\\n\" + \"-\"*len(Task))\n",
    "\n",
    "Str = input(\"Enter a string:\")\n",
    "for c in Str:\n",
    "    print(ord(c))"
   ]
  },
  {
   "cell_type": "code",
   "execution_count": 5,
   "metadata": {},
   "outputs": [
    {
     "name": "stdout",
     "output_type": "stream",
     "text": [
      "\n",
      "Task3: Write a function that takes a list of numbers from user as argument and returns the sum of only odd numbers:\n",
      "--------------------------------------------------------------------------------------------------------------------\n",
      "Enter Numbers:1 2 3 4 5 6\n",
      "Sum of Odd Numbers =  9\n"
     ]
    }
   ],
   "source": [
    "'''\n",
    "Task3: Write a function that takes a list of numbers from user as argument and returns the sum of only odd numbers.\n",
    "(Use only for loop. No need to use if statement).\n",
    "'''\n",
    "Task = \"\\nTask3: Write a function that takes a list of numbers from user as argument and returns the sum of only odd numbers:\"\n",
    "print(Task + \"\\n\" + \"-\"*len(Task))\n",
    "\n",
    "Str = input(\"Enter Numbers:\")\n",
    "nlist = Str.split()\n",
    "Sum = 0\n",
    "for n in nlist:\n",
    "    n = int(n)\n",
    "    if n%2 != 0:\n",
    "        Sum+=n\n",
    "print(\"Sum of Odd Numbers = \", Sum)"
   ]
  },
  {
   "cell_type": "code",
   "execution_count": 37,
   "metadata": {},
   "outputs": [
    {
     "name": "stdout",
     "output_type": "stream",
     "text": [
      "\n",
      "Task4: WAP to input a list of numbers & store in tuple. Input another number & print index of this number in tuple:\n",
      "--------------------------------------------------------------------------------------------------------------------\n",
      "Enter Numbers:1 3 4 5 2 9 10\n",
      "(1, 3, 4, 5, 2, 9, 10)\n",
      "Enter a Number:5\n",
      "Position of 5 = 3\n"
     ]
    }
   ],
   "source": [
    "'''\n",
    "Task4: WAP to input a list of numbers and store in a tuple. Now input another number and \n",
    "print the index of this number in the tuple. [Use index function].\n",
    "'''\n",
    "Task = \"\\nTask4: WAP to input a list of numbers & store in tuple. Input another number & print index of this number in tuple:\"\n",
    "print(Task + \"\\n\" + \"-\"*len(Task))\n",
    "\n",
    "Str = input(\"Enter Numbers:\")\n",
    "slist = list(Str.split())\n",
    "nlist = []\n",
    "for s in slist:\n",
    "    nlist.append(int(s))\n",
    "ntuple = tuple(nlist)\n",
    "print(ntuple)\n",
    "SearchNumber = int(input(\"Enter a Number:\"))\n",
    "try:\n",
    "    Pos = ntuple.index(SearchNumber)\n",
    "    print(f\"Position of {SearchNumber} = {Pos}\")\n",
    "except ValueError:\n",
    "    print(\"Number not found.\")"
   ]
  },
  {
   "cell_type": "code",
   "execution_count": 53,
   "metadata": {},
   "outputs": [
    {
     "name": "stdout",
     "output_type": "stream",
     "text": [
      "\n",
      "Task5: Create a list of 10 random numbers and then print...:\n",
      "-------------------------------------------------------------\n",
      "[18, 21, 14, 8, 8, 23, 23, 24, 4, 25]\n",
      "Sum =  168\n",
      "Avg =  16.8\n",
      "Elements at even indexes: [18, 14, 8, 23, 4]\n"
     ]
    }
   ],
   "source": [
    "'''\n",
    "Task5: Create a list of 10 random numbers and then print the list, sum of all numbers and average.\n",
    "Use a for loop. Also print elements at only even indexes in the list.\n",
    "'''\n",
    "Task = \"\\nTask5: Create a list of 10 random numbers and then print...:\"\n",
    "print(Task + \"\\n\" + \"-\"*len(Task))\n",
    "\n",
    "import random\n",
    "nlist = []\n",
    "for n in range(10):\n",
    "    nlist.append(random.randint(0,30))\n",
    "\n",
    "print(nlist)\n",
    "#Sum = sum(nlist)\n",
    "Sum = 0\n",
    "for i in nlist:\n",
    "    Sum += i\n",
    "Avg = Sum/len(nlist)\n",
    "\n",
    "print(\"Sum = \", Sum)\n",
    "print(\"Avg = \", Avg)\n",
    "print(\"Elements at even indexes:\", nlist[0::2])\n"
   ]
  },
  {
   "cell_type": "code",
   "execution_count": 60,
   "metadata": {},
   "outputs": [
    {
     "name": "stdout",
     "output_type": "stream",
     "text": [
      "\n",
      "Task6: WAP to input 10 numbers repeatedly (using range based for loop) and store them in a list. Print list & sum:\n",
      "-------------------------------------------------------------------------------------------------------------------\n",
      "Enter a number:1\n",
      "Enter a number:1\n",
      "Enter a number:2\n",
      "Enter a number:2\n",
      "Enter a number:2\n",
      "Enter a number:2\n",
      "Enter a number:4\n",
      "Enter a number:5\n",
      "Enter a number:6\n",
      "Enter a number:4\n",
      "[1, 1, 2, 2, 2, 2, 4, 5, 6, 4]\n",
      "29\n"
     ]
    }
   ],
   "source": [
    "'''\n",
    "Task6: WAP to input 10 numbers repeatedly (using range based for loop) and store them in a list.\n",
    "Print the list and sum of numbers in the list.\n",
    "'''\n",
    "Task = \"\\nTask6: WAP to input 10 numbers repeatedly (using range based for loop) and store them in a list. Print list & sum:\"\n",
    "print(Task + \"\\n\" + \"-\"*len(Task))\n",
    "\n",
    "nlist = []\n",
    "for i in range(10):\n",
    "    n = int(input(\"Enter a number:\"))\n",
    "    nlist.append(n)\n",
    "print(nlist)\n",
    "print(sum(nlist))"
   ]
  },
  {
   "cell_type": "code",
   "execution_count": 69,
   "metadata": {},
   "outputs": [
    {
     "name": "stdout",
     "output_type": "stream",
     "text": [
      "\n",
      "Task7: WAP to input a number and print its table. Ex: if user enters the number as 7:\n",
      "--------------------------------------------------------------------------------------\n",
      "Enter a number:14\n",
      "14 x 1 = 14\n",
      "14 x 2 = 28\n",
      "14 x 3 = 42\n",
      "14 x 4 = 56\n",
      "14 x 5 = 70\n",
      "14 x 6 = 84\n",
      "14 x 7 = 98\n",
      "14 x 8 = 112\n",
      "14 x 9 = 126\n",
      "14 x 10 = 140\n"
     ]
    }
   ],
   "source": [
    "'''\n",
    "Task7: WAP to input a number and print its table. Ex: if user enters the number as 7.\n",
    "'''\n",
    "Task = \"\\nTask7: WAP to input a number and print its table. Ex: if user enters the number as 7:\"\n",
    "print(Task + \"\\n\" + \"-\"*len(Task))\n",
    "\n",
    "Number = int(input(\"Enter a number:\"))\n",
    "for n in range(1,11):\n",
    "    print(f\"{Number} x {n} = {Number*n}\")\n"
   ]
  },
  {
   "cell_type": "code",
   "execution_count": 73,
   "metadata": {},
   "outputs": [
    {
     "name": "stdout",
     "output_type": "stream",
     "text": [
      "\n",
      "Task8: WAP to print total number of spaces in a string (Use for loop to iterate over the string:\n",
      "-------------------------------------------------------------------------------------------------\n",
      "Enter a String:This is truly fun.\n",
      "Number of Spaces = 3\n"
     ]
    }
   ],
   "source": [
    "'''\n",
    "Task8: WAP to print total number of spaces in a string (Use for loop to iterate over the string.\n",
    "Don’t use count function).\n",
    "'''\n",
    "Task = \"\\nTask8: WAP to print total number of spaces in a string (Use for loop to iterate over the string:\"\n",
    "print(Task + \"\\n\" + \"-\"*len(Task))\n",
    "\n",
    "Str = input(\"Enter a String:\")\n",
    "Space_Ctr = 0\n",
    "for c in Str:\n",
    "    if c == \" \":\n",
    "        Space_Ctr +=1\n",
    "print(\"Number of Spaces =\", Space_Ctr)"
   ]
  },
  {
   "cell_type": "code",
   "execution_count": 4,
   "metadata": {},
   "outputs": [
    {
     "name": "stdout",
     "output_type": "stream",
     "text": [
      "\n",
      "Task9: WAP to input a string and count number of vowels in the string:\n",
      "-----------------------------------------------------------------------\n",
      "Enter a String:The little child climbed the treE.\n",
      "Number of Vowels = 9\n"
     ]
    }
   ],
   "source": [
    "'''\n",
    "Task9: WAP to input a string and count number of vowels in the string.\n",
    "[Note: it should work for both capital and small alphabets].\n",
    "'''\n",
    "Task = \"\\nTask9: WAP to input a string and count number of vowels in the string:\"\n",
    "print(Task + \"\\n\" + \"-\"*len(Task))\n",
    "\n",
    "vowels_list = ['a', 'e', 'i' , 'o', 'u']\n",
    "\n",
    "Str = input(\"Enter a String:\").lower()\n",
    "vowels_ctr = 0\n",
    "for c in Str:\n",
    "    if c in vowels_list:\n",
    "        vowels_ctr += 1\n",
    "print(\"Number of Vowels =\", vowels_ctr)"
   ]
  },
  {
   "cell_type": "code",
   "execution_count": 20,
   "metadata": {},
   "outputs": [
    {
     "name": "stdout",
     "output_type": "stream",
     "text": [
      "\n",
      "Task10: WAP to input a string and replace all vowels with ‘_’:\n",
      "---------------------------------------------------------------\n",
      "Enter a String: The little child climbed the treE.\n",
      "Converted String: Th_ l_ttl_ ch_ld cl_mb_d th_ tr__.\n"
     ]
    }
   ],
   "source": [
    "'''\n",
    "Task10: WAP to input a string and replace all vowels with ‘_’.\n",
    "[Hint: Convert string to list. Remember!! Strings are immutable. Replace in the list and then join]\n",
    "'''\n",
    "Task = \"\\nTask10: WAP to input a string and replace all vowels with ‘_’:\"\n",
    "print(Task + \"\\n\" + \"-\"*len(Task))\n",
    "\n",
    "vowels_list = ['a', 'A', 'e', 'E', 'i', 'I', 'o', 'O', 'u', 'U']\n",
    "\n",
    "Str = input(\"Enter a String: \")\n",
    "\n",
    "''' \n",
    "#Method 1\n",
    "for c in Str:\n",
    "    if c in vowels_list:\n",
    "        Str = Str.replace(c, \"_\")\n",
    "'''\n",
    "#Method 2\n",
    "slist = list(Str)\n",
    "sCtr=0\n",
    "for c in slist:\n",
    "    if c in vowels_list:\n",
    "        slist[sCtr] = \"_\"\n",
    "    sCtr += 1\n",
    "Str = ''.join(slist)\n",
    "print(\"Converted String:\", Str)"
   ]
  },
  {
   "cell_type": "code",
   "execution_count": 25,
   "metadata": {},
   "outputs": [
    {
     "name": "stdout",
     "output_type": "stream",
     "text": [
      "\n",
      "Task11: Find output:\n",
      "---------------------\n",
      "Num :  0\n",
      "Loop Ends\n",
      "Num :  0\n"
     ]
    },
    {
     "ename": "SystemExit",
     "evalue": "",
     "output_type": "error",
     "traceback": [
      "An exception has occurred, use %tb to see the full traceback.\n",
      "\u001b[0;31mSystemExit\u001b[0m\n"
     ]
    },
    {
     "name": "stderr",
     "output_type": "stream",
     "text": [
      "/Users/jaideepsingh/opt/anaconda3/lib/python3.8/site-packages/IPython/core/interactiveshell.py:3351: UserWarning: To exit: use 'exit', 'quit', or Ctrl-D.\n",
      "  warn(\"To exit: use 'exit', 'quit', or Ctrl-D.\", stacklevel=1)\n"
     ]
    }
   ],
   "source": [
    "'''\n",
    "Task11: Find output\n",
    "'''\n",
    "Task = \"\\nTask11: Find output:\"\n",
    "print(Task + \"\\n\" + \"-\"*len(Task))\n",
    "\n",
    "for num in range(10):\n",
    "    print(\"Num : \", num)\n",
    "    if num % 4 == 0:\n",
    "        break\n",
    "print(\"Loop Ends\")\n",
    "\n",
    "import sys\n",
    "for num in range(10):\n",
    "    print(\"Num : \", num)\n",
    "    if num % 4 == 0:\n",
    "        sys.exit()\n",
    "print(\"Loop Ends\")\n"
   ]
  },
  {
   "cell_type": "code",
   "execution_count": 28,
   "metadata": {},
   "outputs": [
    {
     "name": "stdout",
     "output_type": "stream",
     "text": [
      "\n",
      "Task12: Find output:\n",
      "---------------------\n",
      "*****\n",
      "*****\n",
      "*****\n",
      "*****\n",
      "*****\n",
      "1\n",
      "22\n",
      "333\n",
      "4444\n",
      "55555\n",
      "1\n",
      "22\n",
      "333\n",
      "4444\n",
      "55555\n",
      "**\n",
      "***\n",
      "****\n",
      "*****\n",
      "******\n"
     ]
    }
   ],
   "source": [
    "'''\n",
    "Task12: Find output\n",
    "'''\n",
    "Task = \"\\nTask12: Find output:\"\n",
    "print(Task + \"\\n\" + \"-\"*len(Task))\n",
    "\n",
    "#1\n",
    "for i1 in range(1,6):\n",
    "    for i2 in range(5):\n",
    "        print('*', end='')\n",
    "    print()\n",
    "\n",
    "for i1 in range(1,6):\n",
    "    print(str(i1)*i1)\n",
    "\n",
    "#2\n",
    "for i1 in range(1,6):\n",
    "    for i2 in range(i1):\n",
    "        print(i1, end='')\n",
    "    print()\n",
    "\n",
    "for i1 in range(1,6):\n",
    "    for i2 in range(i1 + 1):\n",
    "        print('*', end='')\n",
    "    print()\n"
   ]
  },
  {
   "cell_type": "code",
   "execution_count": null,
   "metadata": {},
   "outputs": [],
   "source": []
  }
 ],
 "metadata": {
  "kernelspec": {
   "display_name": "Python 3",
   "language": "python",
   "name": "python3"
  },
  "language_info": {
   "codemirror_mode": {
    "name": "ipython",
    "version": 3
   },
   "file_extension": ".py",
   "mimetype": "text/x-python",
   "name": "python",
   "nbconvert_exporter": "python",
   "pygments_lexer": "ipython3",
   "version": "3.8.3"
  }
 },
 "nbformat": 4,
 "nbformat_minor": 4
}
