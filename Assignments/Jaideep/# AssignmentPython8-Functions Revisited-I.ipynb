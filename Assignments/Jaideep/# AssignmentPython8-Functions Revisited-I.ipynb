{
 "cells": [
  {
   "cell_type": "markdown",
   "metadata": {},
   "source": [
    "# AssignmentPython8-Functions Revisited-I"
   ]
  },
  {
   "cell_type": "code",
   "execution_count": 6,
   "metadata": {},
   "outputs": [
    {
     "name": "stdout",
     "output_type": "stream",
     "text": [
      "\n",
      "Task1: Write lambdas to:\n",
      "-------------------------\n",
      "Enter a Number:6\n",
      "Square =  36\n",
      "Inverse =  0.16666666666666666\n",
      "Negate =  -6\n"
     ]
    }
   ],
   "source": [
    "'''\n",
    "Task1: Write lambdas to:\n",
    "a. Square a number x2\n",
    "b. Inverse a number 1/x\n",
    "c. Negate a number\n",
    "'''\n",
    "Task = \"\\nTask1: Write lambdas to:\"\n",
    "print(Task + \"\\n\" + \"-\"*len(Task))\n",
    "\n",
    "n = int(input(\"Enter a Number:\"))\n",
    "\n",
    "square = lambda n: n**2\n",
    "inverse = lambda n: 1/n\n",
    "negate = lambda n: -n\n",
    "\n",
    "print(\"Square = \", square(n))\n",
    "print(\"Inverse = \", inverse(n))\n",
    "print(\"Negate = \", negate(n))\n"
   ]
  },
  {
   "cell_type": "code",
   "execution_count": 15,
   "metadata": {},
   "outputs": [
    {
     "name": "stdout",
     "output_type": "stream",
     "text": [
      "\n",
      "Task2: Use reduce function and an appropriate lambda to find the maximum number in a list:\n",
      "-------------------------------------------------------------------------------------------\n",
      "List:  [3, 5, 6, 10, 12, 15, 21, 25]\n",
      "25\n"
     ]
    }
   ],
   "source": [
    "'''\n",
    "Task2: Use reduce function and an appropriate lambda to find the maximum number in a list.\n",
    "'''\n",
    "Task = \"\\nTask2: Use reduce function and an appropriate lambda to find the maximum number in a list:\"\n",
    "print(Task + \"\\n\" + \"-\"*len(Task))\n",
    "\n",
    "from functools import reduce\n",
    "\n",
    "get_max = lambda n1,n2: n1 if n1>n2 else n2\n",
    "\n",
    "l1 = [3,5,6,10,12,15,21,25]\n",
    "print(\"List: \", l1)\n",
    "maximum = reduce(get_max, l1)\n",
    "print(maximum)"
   ]
  },
  {
   "cell_type": "code",
   "execution_count": 31,
   "metadata": {},
   "outputs": [
    {
     "name": "stdout",
     "output_type": "stream",
     "text": [
      "\n",
      "Task3: :\n",
      "---------\n",
      "[1, 4, 16]\n",
      "[1.0, 0.25, 0.0625]\n",
      "[-1.0, -0.25, -0.0625]\n"
     ]
    }
   ],
   "source": [
    "'''\n",
    "Task3: Write a function map_multiple that takes a list of functions/lambdas as first argument and a sequence type\n",
    "as second argument.\n",
    "The function picks first lambda from list, applies it to first element, then applies the second function to the\n",
    "result of first one and ....\n",
    "Similarly it does for each element and generates a mapping of input to output\n",
    "def map_multiple(functs, sequence): # write definition here\n",
    "Ex: let list of lambdas be from question 1 and the list on numbers be [1,2,4] So first function gives [1, 4, 16]\n",
    "Second gives [1, 0.25, 0.0625]\n",
    "Third gives [-1, -0.25, -0.0625]. Which is the final result.\n",
    "'''\n",
    "Task = \"\\nTask3: :\"\n",
    "print(Task + \"\\n\" + \"-\"*len(Task))\n",
    "\n",
    "square = lambda n: n**2\n",
    "inverse = lambda n: 1/n\n",
    "negate = lambda n: -n\n",
    "my_map = lambda llambda, nlist: list(map(llambda, nlist))\n",
    "\n",
    "def map_multiple(llambdas, nlist):\n",
    "    result = nlist\n",
    "    for l in llambdas:\n",
    "        result = my_map(l,result)\n",
    "        print(result)\n",
    "\n",
    "nlist = [1,2,4]\n",
    "llambdas = [square, inverse, negate]\n",
    "map_multiple(llambdas, nlist)"
   ]
  },
  {
   "cell_type": "code",
   "execution_count": 34,
   "metadata": {},
   "outputs": [
    {
     "name": "stdout",
     "output_type": "stream",
     "text": [
      "\n",
      "Task4: Predict the output of following code:\n",
      "---------------------------------------------\n",
      "50\n"
     ]
    }
   ],
   "source": [
    "'''\n",
    "Task4: Predict the output of following code:\n",
    "'''\n",
    "Task = \"\\nTask4: Predict the output of following code:\"\n",
    "print(Task + \"\\n\" + \"-\"*len(Task))\n",
    "\n",
    "from functools import reduce\n",
    "f = lambda x,y: x if x > y else y\n",
    "\n",
    "l = [10, 30, 50, 30, 10]\n",
    "num = reduce(f, l)\n",
    "print(num)"
   ]
  },
  {
   "cell_type": "code",
   "execution_count": 36,
   "metadata": {},
   "outputs": [
    {
     "name": "stdout",
     "output_type": "stream",
     "text": [
      "\n",
      "Task5: Predict the output of following code:\n",
      "---------------------------------------------\n",
      "[1.0]\n",
      "[1.0, 0.5]\n",
      "[1.0, 0.5, 0.25]\n",
      "[1.0, 0.5, 0.25, 0.125]\n"
     ]
    }
   ],
   "source": [
    "'''\n",
    "Task5: Predict the output of following code:\n",
    "'''\n",
    "Task = \"\\nTask5: Predict the output of following code:\"\n",
    "print(Task + \"\\n\" + \"-\"*len(Task))\n",
    "\n",
    "functs = [lambda x: x**0.5, lambda x: 1/x]\n",
    "l = [1, 4, 16, 64]\n",
    "\n",
    "ans = []\n",
    "for num in l:\n",
    "    res = num\n",
    "    for funct in functs:\n",
    "        res = funct(res)\n",
    "    ans.append(res)\n",
    "    print(ans)"
   ]
  },
  {
   "cell_type": "code",
   "execution_count": 11,
   "metadata": {},
   "outputs": [
    {
     "name": "stdout",
     "output_type": "stream",
     "text": [
      "\n",
      "Task6: Use filter function to filter a list of numbers and strings:\n",
      "--------------------------------------------------------------------\n",
      "[1, 2, 'a', 'Hello', 9]\n",
      "[1, 2, 9]\n"
     ]
    }
   ],
   "source": [
    "'''\n",
    "Task6: Use filter function to filter a list of numbers and strings such that the result contains only numbers.\n",
    "(Hint : Use isinstance method).\n",
    "'''\n",
    "Task = \"\\nTask6: Use filter function to filter a list of numbers and strings:\"\n",
    "print(Task + \"\\n\" + \"-\"*len(Task))\n",
    "\n",
    "slist = [1, 2, 'a', 'Hello', 9]\n",
    "print(slist)\n",
    "is_number = lambda s: isinstance(s,int)\n",
    "result = list(filter(is_number, slist))\n",
    "print(result)"
   ]
  },
  {
   "cell_type": "code",
   "execution_count": 59,
   "metadata": {},
   "outputs": [
    {
     "name": "stdout",
     "output_type": "stream",
     "text": [
      "\n",
      "Task7: Write a function to convert the heights to meter:\n",
      "---------------------------------------------------------\n",
      "[1.778, 1.016, 2.8702000000000005]\n"
     ]
    }
   ],
   "source": [
    "'''\n",
    "Task7: Assume a list containing heights ft and inches in the form of a list of string\n",
    "Example : l = [‘5ft10in’, ‘5ft’, ....]\n",
    "Write a function to convert the heights to meter.\n",
    "Use map function along with your function to convert everything to m.\n",
    "'''\n",
    "Task = \"\\nTask7: Write a function to convert the heights to meter:\"\n",
    "print(Task + \"\\n\" + \"-\"*len(Task))\n",
    "\n",
    "import re\n",
    "l = ['5ft10in', '3ft4in', '9ft5in']\n",
    "def feet2meter(feetstr):\n",
    "    feet_inch = re.split('ft|in', feetstr)\n",
    "    feet = int(feet_inch[0])\n",
    "    inch = int(feet_inch[1])\n",
    "    meter = (feet*0.3048)+(inch*0.0254)\n",
    "    return meter\n",
    "\n",
    "print(list(map(feet2meter, l)))"
   ]
  },
  {
   "cell_type": "code",
   "execution_count": 64,
   "metadata": {},
   "outputs": [
    {
     "name": "stdout",
     "output_type": "stream",
     "text": [
      "\n",
      "Task8: Write the implementation for the map function yourself by the name my_map():\n",
      "------------------------------------------------------------------------------------\n",
      "[1, 4, 9, 16, 25]\n"
     ]
    }
   ],
   "source": [
    "'''\n",
    "Task8: Write the implementation for the map function yourself by the name my_map().\n",
    "'''\n",
    "Task = \"\\nTask8: Write the implementation for the map function yourself by the name my_map():\"\n",
    "print(Task + \"\\n\" + \"-\"*len(Task))\n",
    "\n",
    "def my_map(func, iterator):\n",
    "    for i in iterator:\n",
    "        yield func(i)\n",
    "\n",
    "nlist = [1,2,3,4,5]\n",
    "print(list(my_map(lambda n: n**2, nlist)))"
   ]
  },
  {
   "cell_type": "code",
   "execution_count": null,
   "metadata": {},
   "outputs": [],
   "source": []
  }
 ],
 "metadata": {
  "kernelspec": {
   "display_name": "Python 3",
   "language": "python",
   "name": "python3"
  },
  "language_info": {
   "codemirror_mode": {
    "name": "ipython",
    "version": 3
   },
   "file_extension": ".py",
   "mimetype": "text/x-python",
   "name": "python",
   "nbconvert_exporter": "python",
   "pygments_lexer": "ipython3",
   "version": "3.8.3"
  }
 },
 "nbformat": 4,
 "nbformat_minor": 4
}
