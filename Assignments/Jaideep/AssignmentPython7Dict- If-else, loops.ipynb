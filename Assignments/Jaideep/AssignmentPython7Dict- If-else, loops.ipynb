{
 "cells": [
  {
   "cell_type": "markdown",
   "metadata": {},
   "source": [
    "# AssignmentPython7Dict- If-else, loops"
   ]
  },
  {
   "cell_type": "code",
   "execution_count": 9,
   "metadata": {},
   "outputs": [
    {
     "name": "stdout",
     "output_type": "stream",
     "text": [
      "\n",
      "Task1: WAP to create a dictionary of numbers mapped to their negative value for numbers from 1-5:\n",
      "--------------------------------------------------------------------------------------------------\n",
      "Using Range: {1: -1, 2: -2, 3: -3, 4: -4}\n",
      "Without Range:  {1: -1, 2: -2, 3: -3, 4: -4, 5: -5}\n"
     ]
    }
   ],
   "source": [
    "'''\n",
    "Task1: WAP to create a dictionary of numbers mapped to their negative value for numbers from 1-5.\n",
    "The dictionary should contain something like this: Do with both with and without range based for loop.\n",
    "{1:-1,2:-2,3:-3....}\n",
    "'''\n",
    "Task = \"\\nTask1: WAP to create a dictionary of numbers mapped to their negative value for numbers from 1-5:\"\n",
    "print(Task + \"\\n\" + \"-\"*len(Task))\n",
    "\n",
    "#Using range\n",
    "mirror_dict = {}\n",
    "for n in range(1,5):\n",
    "    mirror_dict[n] = -n\n",
    "print(\"Using Range:\", mirror_dict)\n",
    "\n",
    "#Without range\n",
    "mirror_dict = {}\n",
    "n = 1\n",
    "while n < 6:\n",
    "    mirror_dict[n] = -n\n",
    "    n += 1\n",
    "print(\"Without Range: \", mirror_dict)"
   ]
  },
  {
   "cell_type": "code",
   "execution_count": 18,
   "metadata": {},
   "outputs": [
    {
     "name": "stdout",
     "output_type": "stream",
     "text": [
      "\n",
      "Task2: Check which of the following declarations will work:\n",
      "------------------------------------------------------------\n",
      "{1: 2, 2: 3} <class 'dict'>\n",
      "{(2, 3), (1, 2)} <class 'set'>\n",
      "{'a': 'A', 'b': 1, 'c': [1234]} <class 'dict'>\n",
      "{1: 2, 2: 3} <class 'dict'>\n",
      "{1: 2, 2: 3} <class 'dict'>\n",
      "{'x': 2, 'y': 3} <class 'dict'>\n"
     ]
    }
   ],
   "source": [
    "'''\n",
    "Task2: Check which of the following declarations will work.\n",
    "'''\n",
    "Task = \"\\nTask2: Check which of the following declarations will work:\"\n",
    "print(Task + \"\\n\" + \"-\"*len(Task))\n",
    "\n",
    "#d = {1=2, 2=3} #No\n",
    "\n",
    "d = {1:2, 2:3} #Yes\n",
    "print(d, type(d))\n",
    "\n",
    "#d = {1,2 ; 2,3} #No\n",
    "\n",
    "d = {(1,2), (2,3)} #No\n",
    "print(d, type(d))\n",
    "\n",
    "#d = {'a':'A', 'b':1, c:[1234]} #No\n",
    "\n",
    "d = {'a':'A', 'b':1, 'c':[1234]} #Yes\n",
    "print(d, type(d))\n",
    "\n",
    "d = dict([(1,2), (2,3)]) #Yes\n",
    "print(d, type(d))\n",
    "\n",
    "d = dict(((1,2), (2,3))) #Yes\n",
    "print(d, type(d))\n",
    "\n",
    "#d = dict((1,2), (2,3)) #No\n",
    "\n",
    "d = dict(x=2, y=3) #Yes\n",
    "print(d, type(d))\n",
    "\n",
    "#d = dict('x'=2, 'y'=3) #No\n",
    "#d = dict(1=2, 2=3) #No\n"
   ]
  },
  {
   "cell_type": "code",
   "execution_count": 27,
   "metadata": {},
   "outputs": [
    {
     "name": "stdout",
     "output_type": "stream",
     "text": [
      "\n",
      "Task3: Read help for zip and write a program that has two lists:\n",
      "-----------------------------------------------------------------\n",
      "{1: 10, 2: 20, 3: 30, 4: 40}\n"
     ]
    }
   ],
   "source": [
    "'''\n",
    "Task3: Read help for zip and write a program that has two lists l1 = [1,2,3,4], l2 = [10,20,30,40]\n",
    "And converts them to a dictionary d containing { 1:10,2:20 .......}\n",
    "'''\n",
    "Task = \"\\nTask3: Read help for zip and write a program that has two lists:\"\n",
    "print(Task + \"\\n\" + \"-\"*len(Task))\n",
    "\n",
    "#https://realpython.com/python-zip-function/#:~:text=Python's%20zip()%20function%20is,%2C%20sets%2C%20and%20so%20on.\n",
    "l1 = [1,2,3,4]\n",
    "l2 = [10,20,30,40]\n",
    "d = dict(zip(l1, l2))\n",
    "print(d)"
   ]
  },
  {
   "cell_type": "code",
   "execution_count": 30,
   "metadata": {},
   "outputs": [
    {
     "name": "stdout",
     "output_type": "stream",
     "text": [
      "\n",
      "Task4: :\n",
      "---------\n",
      "{'A': 65, 'B': 66, 'C': 67, 'D': 68, 'E': 69, 'F': 70, 'G': 71, 'H': 72, 'I': 73, 'J': 74, 'K': 75, 'L': 76, 'M': 77, 'N': 78, 'O': 79, 'P': 80, 'Q': 81, 'R': 82, 'S': 83, 'T': 84, 'U': 85, 'V': 86, 'W': 87, 'X': 88, 'Y': 89, 'Z': 90}\n"
     ]
    }
   ],
   "source": [
    "'''\n",
    "Task4: Use range based for loop to store all upper case alphabets and their corresponding ASCII values\n",
    "in the dictionary d. The result should be d = {‘A’: 65, ‘B’:66,.....}\n",
    "'''\n",
    "Task = \"\\nTask4: :\"\n",
    "print(Task + \"\\n\" + \"-\"*len(Task))\n",
    "\n",
    "d = {}\n",
    "for n in range(65,91):\n",
    "    d[chr(n)] = n\n",
    "print(d)"
   ]
  },
  {
   "cell_type": "code",
   "execution_count": 41,
   "metadata": {},
   "outputs": [
    {
     "name": "stdout",
     "output_type": "stream",
     "text": [
      "\n",
      "Task5: Create a mapping of number to word from 0-9. (0:’zero’......):\n",
      "----------------------------------------------------------------------\n",
      "Enter a Number: 8\n",
      "eight\n",
      "dict_keys([0, 1, 2, 3, 4, 5, 6, 7, 8, 9])\n",
      "dict_values(['zero', 'one', 'two', 'three', 'four', 'five', 'six', 'seven', 'eight', 'nine'])\n",
      "dict_items([(0, 'zero'), (1, 'one'), (2, 'two'), (3, 'three'), (4, 'four'), (5, 'five'), (6, 'six'), (7, 'seven'), (8, 'eight'), (9, 'nine')])\n"
     ]
    }
   ],
   "source": [
    "'''\n",
    "Task5: Create a mapping of number to word from 0-9. (0:’zero’......)\n",
    "• Ask user for a single digit number and print the corresponding word format.\n",
    "• Print all keys of above dictionary\n",
    "• Print all Values of a dictionary\n",
    "• Print all Key and Value pairs of above dictionary\n",
    "'''\n",
    "Task = \"\\nTask5: Create a mapping of number to word from 0-9. (0:’zero’......):\"\n",
    "print(Task + \"\\n\" + \"-\"*len(Task))\n",
    "\n",
    "dict_num = {0:\"zero\", 1:\"one\", 2:\"two\", 3:\"three\", 4:\"four\", 5:\"five\", 6:\"six\", 7:\"seven\", 8:\"eight\", 9:\"nine\"}\n",
    "\n",
    "num = int(input(\"Enter a Number: \"))\n",
    "print(dict_num[num])\n",
    "print(dict_num.keys())\n",
    "print(dict_num.values())\n",
    "print(dict_num.items())\n"
   ]
  },
  {
   "cell_type": "code",
   "execution_count": 44,
   "metadata": {},
   "outputs": [
    {
     "name": "stdout",
     "output_type": "stream",
     "text": [
      "\n",
      "Task6: Predict Output:\n",
      "-----------------------\n",
      "{'A': 'Apple', 'B': 'Ball', 'C': 'Cat', 'D': 'Dog'}\n",
      "{'A': 'Apple', 'C': 'Cat'}\n"
     ]
    }
   ],
   "source": [
    "'''\n",
    "Task6: Predict Output\n",
    "'''\n",
    "Task = \"\\nTask6: Predict Output:\"\n",
    "print(Task + \"\\n\" + \"-\"*len(Task))\n",
    "\n",
    "l1 = ['A', 'B', 'C', 'D']\n",
    "l2 = ['Apple', 'Ball', 'Cat', 'Dog']\n",
    "d1 = dict(zip(l1, l2))\n",
    "print(d1)\n",
    "d2 = dict(list(d1.items()) [::2])\n",
    "print(d2)"
   ]
  },
  {
   "cell_type": "code",
   "execution_count": 54,
   "metadata": {},
   "outputs": [
    {
     "name": "stdout",
     "output_type": "stream",
     "text": [
      "\n",
      "Task7: WAP to input a string and count occurrence of each vowel in a string:\n",
      "-----------------------------------------------------------------------------\n",
      "Enter a String:Beautiful Day\n",
      "{'a': 2, 'e': 1, 'i': 1, 'o': 0, 'u': 2}\n"
     ]
    }
   ],
   "source": [
    "'''\n",
    "Task7: WAP to input a string and count occurrence of each vowel in a string. Ex: if user enters:\n",
    "“Beautiful Day” Output should Be:\n",
    "a:2 e:1 I :1 o:0 u:2\n",
    "[Hint: Use a list of a dictionary (preferably dictionary)]\n",
    "'''\n",
    "Task = \"\\nTask7: WAP to input a string and count occurrence of each vowel in a string:\"\n",
    "print(Task + \"\\n\" + \"-\"*len(Task))\n",
    "\n",
    "vowels_list = ['a', 'e', 'i' , 'o', 'u']\n",
    "\n",
    "Str = input(\"Enter a String:\").lower()\n",
    "dict_vowels = {}\n",
    "for v in vowels_list:\n",
    "    ctr = 0\n",
    "    for c in Str:\n",
    "        if c == v:\n",
    "            ctr += 1\n",
    "    dict_vowels[v] = ctr\n",
    "print(dict_vowels)"
   ]
  },
  {
   "cell_type": "code",
   "execution_count": 55,
   "metadata": {},
   "outputs": [
    {
     "name": "stdout",
     "output_type": "stream",
     "text": [
      "\n",
      "Task8: Update above program to print frequency of each alphabet present in string:\n",
      "-----------------------------------------------------------------------------------\n",
      "Enter a String:Beautiful Day\n",
      "{'b': 1, 'e': 1, 'a': 2, 'u': 2, 't': 1, 'i': 1, 'f': 1, 'l': 1, ' ': 1, 'd': 1, 'y': 1}\n"
     ]
    }
   ],
   "source": [
    "'''\n",
    "Task8: Update above program to print frequency of each alphabet present in string.\n",
    "'''\n",
    "Task = \"\\nTask8: Update above program to print frequency of each alphabet present in string:\"\n",
    "print(Task + \"\\n\" + \"-\"*len(Task))\n",
    "\n",
    "Str = input(\"Enter a String:\").lower()\n",
    "dict_chr = {}\n",
    "for c in Str:\n",
    "    if c in dict_chr:\n",
    "        dict_chr[c] += 1\n",
    "    else:\n",
    "        dict_chr[c] = 1\n",
    "print(dict_chr)"
   ]
  },
  {
   "cell_type": "code",
   "execution_count": 57,
   "metadata": {},
   "outputs": [
    {
     "name": "stdout",
     "output_type": "stream",
     "text": [
      "\n",
      "Task9: :\n",
      "---------\n",
      "Enter a String:count the words in the sentence in\n",
      "{'count': 1, 'the': 2, 'words': 1, 'in': 2, 'sentence': 1}\n"
     ]
    }
   ],
   "source": [
    "'''\n",
    "Task9: WAP that takes a string as input and prints frequency of each word.\n",
    "Ex: if input is “count the words in the sentence in”\n",
    "Output: count: 1\n",
    "the: 2 words: 1\n",
    "in: 2 sentence: 1.\n",
    "'''\n",
    "Task = \"\\nTask9: :\"\n",
    "print(Task + \"\\n\" + \"-\"*len(Task))\n",
    "\n",
    "dict_words = {}\n",
    "Str = input(\"Enter a String:\")\n",
    "slist = Str.split()\n",
    "for word in slist:\n",
    "    if word in dict_words:\n",
    "        dict_words[word] += 1\n",
    "    else:\n",
    "        dict_words[word] = 1\n",
    "print(dict_words)"
   ]
  },
  {
   "cell_type": "code",
   "execution_count": null,
   "metadata": {},
   "outputs": [],
   "source": []
  }
 ],
 "metadata": {
  "kernelspec": {
   "display_name": "Python 3",
   "language": "python",
   "name": "python3"
  },
  "language_info": {
   "codemirror_mode": {
    "name": "ipython",
    "version": 3
   },
   "file_extension": ".py",
   "mimetype": "text/x-python",
   "name": "python",
   "nbconvert_exporter": "python",
   "pygments_lexer": "ipython3",
   "version": "3.8.3"
  }
 },
 "nbformat": 4,
 "nbformat_minor": 4
}
