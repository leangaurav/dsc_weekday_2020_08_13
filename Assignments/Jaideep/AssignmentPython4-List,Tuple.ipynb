{
 "cells": [
  {
   "cell_type": "code",
   "execution_count": 1,
   "metadata": {},
   "outputs": [
    {
     "name": "stdout",
     "output_type": "stream",
     "text": [
      "AssignmentPython4-List,Tuple\n",
      "****************************\n",
      "\n"
     ]
    }
   ],
   "source": [
    "#AssignmentPython4-List,Tuple\n",
    "Header = \"AssignmentPython4-List,Tuple\"\n",
    "print(Header + \"\\n\" + \"*\"*len(Header)+\"\\n\")"
   ]
  },
  {
   "cell_type": "code",
   "execution_count": 3,
   "metadata": {},
   "outputs": [
    {
     "name": "stdout",
     "output_type": "stream",
     "text": [
      "\n",
      "Task1: Convert a Tuple t = (1,2,3,4,5) to a list:\n",
      "--------------------------------------------------\n",
      "List: [1, 2, 3, 4, 5]\n"
     ]
    }
   ],
   "source": [
    "'''\n",
    "Task1: Convert a Tuple t = (1,2,3,4,5) to a list.\n",
    "'''\n",
    "Task = \"\\nTask1: Convert a Tuple t = (1,2,3,4,5) to a list:\"\n",
    "print(Task + \"\\n\" + \"-\"*len(Task))\n",
    "\n",
    "t = (1,2,3,4,5)\n",
    "tlist = list(t)\n",
    "print(\"List:\", tlist)"
   ]
  },
  {
   "cell_type": "code",
   "execution_count": 11,
   "metadata": {},
   "outputs": [
    {
     "name": "stdout",
     "output_type": "stream",
     "text": [
      "\n",
      "Task2: WAP to join a list and a tuple:\n",
      "---------------------------------------\n",
      "[1, 3, 5, 7, 8, 6, 4, 2]\n"
     ]
    }
   ],
   "source": [
    "'''\n",
    "Task2: WAP to join a list and a tuple: L = [1,3,5,7] T = (8,6,4,2)\n",
    "Store the result in a list LS.\n",
    "'''\n",
    "Task = \"\\nTask2: WAP to join a list and a tuple:\"\n",
    "print(Task + \"\\n\" + \"-\"*len(Task))\n",
    "\n",
    "L = [1,3,5,7]\n",
    "T = (8,6,4,2)\n",
    "LS = L + list(T)\n",
    "print(LS)"
   ]
  },
  {
   "cell_type": "code",
   "execution_count": 46,
   "metadata": {},
   "outputs": [
    {
     "name": "stdout",
     "output_type": "stream",
     "text": [
      "\n",
      "Task3: What is difference between list and tuple:\n",
      "--------------------------------------------------\n",
      "1. List is mutable. Tuple is not.\n",
      "2. List items are surrounded by parenthesis (). Tuple elements are surrounded by [] brackets.\n",
      "3. Tuple can be used to create dictinary keys while list can not be used for this purpose.\n"
     ]
    }
   ],
   "source": [
    "'''\n",
    "Task3: What is difference between list and tuple.\n",
    "'''\n",
    "Task = \"\\nTask3: What is difference between list and tuple:\"\n",
    "print(Task + \"\\n\" + \"-\"*len(Task))\n",
    "\n",
    "print(\"1. List is mutable. Tuple is not.\")\n",
    "print(\"2. List items are surrounded by parenthesis (). Tuple elements are surrounded by [] brackets.\")\n",
    "print(\"3. Tuple can be used to create dictinary keys while list can not be used for this purpose.\")"
   ]
  },
  {
   "cell_type": "code",
   "execution_count": 50,
   "metadata": {},
   "outputs": [
    {
     "name": "stdout",
     "output_type": "stream",
     "text": [
      "\n",
      "Task4: Print the list in reverse order:\n",
      "----------------------------------------\n",
      "['C', 'A', 'c', 'd', 'a']\n"
     ]
    }
   ],
   "source": [
    "'''\n",
    "Task4: Print the list in reverse order\n",
    "l = [‘a’, ‘d’, ‘c’, ‘A’, ‘C’].\n",
    "'''\n",
    "Task = \"\\nTask4: Print the list in reverse order:\"\n",
    "print(Task + \"\\n\" + \"-\"*len(Task))\n",
    "\n",
    "l = ['a', 'd', 'c', 'A', 'C']\n",
    "print(l[::-1])"
   ]
  },
  {
   "cell_type": "code",
   "execution_count": 54,
   "metadata": {},
   "outputs": [
    {
     "name": "stdout",
     "output_type": "stream",
     "text": [
      "\n",
      "Task5: Print Elements at Odd indexes from a list (Do not use loop):\n",
      "--------------------------------------------------------------------\n",
      "[11, 21, 31, 41]\n"
     ]
    }
   ],
   "source": [
    "'''\n",
    "Task5: Print Elements at Odd indexes from a list (Do not use loop)\n",
    "l = [10,11,20, 21,30, 31, 40, 41].\n",
    "'''\n",
    "Task = \"\\nTask5: Print Elements at Odd indexes from a list (Do not use loop):\"\n",
    "print(Task + \"\\n\" + \"-\"*len(Task))\n",
    "\n",
    "l = [10,11,20, 21,30, 31, 40, 41]\n",
    "print(l[1::2])"
   ]
  },
  {
   "cell_type": "code",
   "execution_count": 88,
   "metadata": {},
   "outputs": [
    {
     "name": "stdout",
     "output_type": "stream",
     "text": [
      "\n",
      "Task6: How many ways you can copy a list:\n",
      "------------------------------------------\n",
      "Three ways:\n",
      "1. Copy using assignment:\n",
      "Original List: [[1, 2, 3, 4, 5], [6, 7, 8]] \n",
      "ID = 140512276394752\n",
      "Second List (After assignment): [[1, 2, 3, 4, 5], [6, 7, 8]] \n",
      "ID = 140512276394752\n",
      "Adding an element to second list and also changing one of its element.\n",
      "Original List (After change): [[1, 2, 3, 4, 5], [6, 7, 1], [9, 10]] \n",
      "ID = 140512276394752\n",
      "Second List (After change): [[1, 2, 3, 4, 5], [6, 7, 1], [9, 10]] \n",
      "ID = 140512276394752\n",
      "Conclusion:\n",
      "New list is just a reference of old list.\n",
      "Both have same ID and changes to any list is reflected in other list.\n",
      "\n",
      "2. Shallow Copy:\n",
      "Original List: [[1, 2, 3, 4, 5], [6, 7, 8]] \n",
      "ID = 140512275474432\n",
      "Second List (After shallow copy): [[1, 2, 3, 4, 5], [6, 7, 8]] \n",
      "ID = 140512276420288\n",
      "Adding an element to second list and also changing one of its element.\n",
      "Original List (After change): [[1, 2, 3, 4, 5], [6, 7, 1]] \n",
      "ID = 140512275474432\n",
      "Second List (After change): [[1, 2, 3, 4, 5], [6, 7, 1], [9, 10]] \n",
      "ID = 140512276420288\n",
      "Conclusion:\n",
      "Shallow copy creates a new list.\n",
      "However, it doesn't create a copy of nested objects, instead it just copies the reference of nested objects.\n",
      "Changes to existing elements are relected in both. However, newly added elements are not reflected in other list.\n",
      "\n",
      "3. Deep Copy:\n",
      "Original List: [[1, 2, 3, 4, 5], [6, 7, 8]] \n",
      "ID = 140512276394752\n",
      "Second List (After deep copy): [[1, 2, 3, 4, 5], [6, 7, 8]] \n",
      "ID = 140512275474432\n",
      "Adding an element to second list and also changing one of its element.\n",
      "Original List (After change): [[1, 2, 3, 4, 5], [6, 7, 8]] \n",
      "ID = 140512276394752\n",
      "Second List (After change): [[1, 2, 3, 4, 5], [6, 7, 1], [9, 10]] \n",
      "ID = 140512275474432\n",
      "Conclusion:\n",
      "Deep copy creates independent copy of original object and all its nested objects.\n",
      "Changes to any list are not reflected in other list.\n",
      "\n"
     ]
    }
   ],
   "source": [
    "'''\n",
    "Task6: How many ways you can copy a list..\n",
    "'''\n",
    "Task = \"\\nTask6: How many ways you can copy a list:\"\n",
    "print(Task + \"\\n\" + \"-\"*len(Task))\n",
    "\n",
    "print(\"Three ways:\")\n",
    "print(\"1. Copy using assignment:\")\n",
    "list1 = [[1,2,3,4,5], [6,7,8]]\n",
    "print(\"Original List:\", list1, \"\\nID =\", id(list1))\n",
    "list2 = list1\n",
    "print(\"Second List (After assignment):\", list2, \"\\nID =\", id(list2))\n",
    "print(\"Adding an element to second list and also changing one of its element.\")\n",
    "list2.append([9,10])\n",
    "list2[1][2]=1\n",
    "print(\"Original List (After change):\", list1, \"\\nID =\", id(list1))\n",
    "print(\"Second List (After change):\", list2, \"\\nID =\", id(list2))\n",
    "print(\"Conclusion:\\nNew list is just a reference of old list.\\nBoth have same ID and changes to any list is reflected in other list.\\n\")\n",
    "\n",
    "list1 = list2 = []\n",
    "print(\"2. Shallow Copy:\")\n",
    "list1 = [[1,2,3,4,5], [6,7,8]]\n",
    "print(\"Original List:\", list1, \"\\nID =\", id(list1))\n",
    "list2 = list1.copy()\n",
    "print(\"Second List (After shallow copy):\", list2, \"\\nID =\", id(list2))\n",
    "print(\"Adding an element to second list and also changing one of its element.\")\n",
    "list2.append([9,10])\n",
    "list2[1][2]=1\n",
    "print(\"Original List (After change):\", list1, \"\\nID =\", id(list1))\n",
    "print(\"Second List (After change):\", list2, \"\\nID =\", id(list2))\n",
    "print(\"Conclusion:\\nShallow copy creates a new list.\\nHowever, it doesn't create a copy of nested objects, instead it just copies the reference of nested objects.\\nChanges to existing elements are relected in both. However, newly added elements are not reflected in other list.\\n\")\n",
    "\n",
    "import copy\n",
    "list1 = list2 = []\n",
    "print(\"3. Deep Copy:\")\n",
    "list1 = [[1,2,3,4,5], [6,7,8]]\n",
    "print(\"Original List:\", list1, \"\\nID =\", id(list1))\n",
    "list2 = copy.deepcopy(list1)\n",
    "print(\"Second List (After deep copy):\", list2, \"\\nID =\", id(list2))\n",
    "print(\"Adding an element to second list and also changing one of its element.\")\n",
    "list2.append([9,10])\n",
    "list2[1][2]=1\n",
    "print(\"Original List (After change):\", list1, \"\\nID =\", id(list1))\n",
    "print(\"Second List (After change):\", list2, \"\\nID =\", id(list2))\n",
    "print(\"Conclusion:\\nDeep copy creates independent copy of original object and all its nested objects.\\nChanges to any list are not reflected in other list.\\n\")\n"
   ]
  },
  {
   "cell_type": "code",
   "execution_count": 93,
   "metadata": {},
   "outputs": [
    {
     "name": "stdout",
     "output_type": "stream",
     "text": [
      "\n",
      "Task7: Predict output:\n",
      "-----------------------\n",
      "a\n",
      "5\n"
     ]
    }
   ],
   "source": [
    "'''\n",
    "Task7: Predict output.\n",
    "'''\n",
    "Task = \"\\nTask7: Predict output:\"\n",
    "print(Task + \"\\n\" + \"-\"*len(Task))\n",
    "\n",
    "n_list = [\"Happy\", [2,0,1,5]]\n",
    "print(n_list[0][1])\n",
    "print(n_list[1][3])"
   ]
  },
  {
   "cell_type": "code",
   "execution_count": 94,
   "metadata": {},
   "outputs": [
    {
     "name": "stdout",
     "output_type": "stream",
     "text": [
      "\n",
      "Task8: Predict output:\n",
      "-----------------------\n",
      "[1, 4, 6, 8]\n",
      "[1, 3, 5, 7]\n"
     ]
    }
   ],
   "source": [
    "'''\n",
    "Task8: Predict output.\n",
    "'''\n",
    "Task = \"\\nTask8: Predict output:\"\n",
    "print(Task + \"\\n\" + \"-\"*len(Task))\n",
    "\n",
    "odd = [2, 4, 6, 8]\n",
    "odd[0] = 1\n",
    "print(odd)\n",
    "odd[1:4] = [3, 5, 7]\n",
    "print(odd)\n"
   ]
  },
  {
   "cell_type": "code",
   "execution_count": 95,
   "metadata": {},
   "outputs": [
    {
     "name": "stdout",
     "output_type": "stream",
     "text": [
      "\n",
      "Task9: Predict output:\n",
      "-----------------------\n",
      "[1, 3, 5, [7, 9]]\n",
      "[1, 3, 5, [7, 9], 11, 13]\n"
     ]
    }
   ],
   "source": [
    "'''\n",
    "Task9: Predict output.\n",
    "'''\n",
    "Task = \"\\nTask9: Predict output:\"\n",
    "print(Task + \"\\n\" + \"-\"*len(Task))\n",
    "\n",
    "odd = [1, 3, 5]\n",
    "odd.append([7, 9])\n",
    "print(odd)\n",
    "odd.extend([11, 13])\n",
    "print(odd)"
   ]
  },
  {
   "cell_type": "code",
   "execution_count": 98,
   "metadata": {},
   "outputs": [
    {
     "name": "stdout",
     "output_type": "stream",
     "text": [
      "\n",
      "Task10: Predict output:\n",
      "------------------------\n",
      "<class 'tuple'>\n",
      "<class 'int'>\n",
      "<class 'int'>\n",
      "<class 'tuple'>\n"
     ]
    }
   ],
   "source": [
    "'''\n",
    "Task10: Predict output.\n",
    "'''\n",
    "Task = \"\\nTask10: Predict output:\"\n",
    "print(Task + \"\\n\" + \"-\"*len(Task))\n",
    "\n",
    "x = 1,2,3; print(type(x))\n",
    "x = (1); print(type(x))\n",
    "x = 1; print(type(x))\n",
    "x = 1, ; print(type(x))"
   ]
  },
  {
   "cell_type": "code",
   "execution_count": 99,
   "metadata": {},
   "outputs": [
    {
     "name": "stdout",
     "output_type": "stream",
     "text": [
      "\n",
      "Task11: Try to represent a matrix with following data in python:\n",
      "-----------------------------------------------------------------\n",
      "1 2 3\n",
      "4 5 6\n",
      "7 8 9\n"
     ]
    }
   ],
   "source": [
    "'''\n",
    "Task11: Try to represent a matrix with following data in python.\n",
    "1 2 3\n",
    "4 5 6\n",
    "7 8 9\n",
    "'''\n",
    "Task = \"\\nTask11: Try to represent a matrix with following data in python:\"\n",
    "print(Task + \"\\n\" + \"-\"*len(Task))\n",
    "\n",
    "print(\"1 2 3\\n4 5 6\\n7 8 9\")"
   ]
  },
  {
   "cell_type": "code",
   "execution_count": 102,
   "metadata": {},
   "outputs": [
    {
     "name": "stdout",
     "output_type": "stream",
     "text": [
      "\n",
      "Task12: Predict output:\n",
      "------------------------\n",
      "('s', 't', 'r', 'i', 'n', 'g')\n",
      "('g', 'n', 'i', 'r', 't', 's')\n",
      "('n', 's')\n"
     ]
    }
   ],
   "source": [
    "'''\n",
    "Task12: Predict output.\n",
    "'''\n",
    "Task = \"\\nTask12: Predict output:\"\n",
    "print(Task + \"\\n\" + \"-\"*len(Task))\n",
    "\n",
    "t = tuple('string')\n",
    "print(t)\n",
    "print(t[::-1])\n",
    "print(t[::2][::-2])"
   ]
  },
  {
   "cell_type": "code",
   "execution_count": 103,
   "metadata": {},
   "outputs": [
    {
     "name": "stdout",
     "output_type": "stream",
     "text": [
      "\n",
      "Task13: Predict output:\n",
      "------------------------\n",
      "True\n",
      "False\n",
      "1\n",
      "3\n"
     ]
    }
   ],
   "source": [
    "'''\n",
    "Task13: Predict output.\n",
    "'''\n",
    "Task = \"\\nTask13: Predict output:\"\n",
    "print(Task + \"\\n\" + \"-\"*len(Task))\n",
    "\n",
    "t = tuple([10,20,30,40,50,60])\n",
    "print(60 in t)\n",
    "print('60' in t)\n",
    "print(t.count(10))\n",
    "print(t.index(40))\n"
   ]
  },
  {
   "cell_type": "code",
   "execution_count": 108,
   "metadata": {},
   "outputs": [
    {
     "name": "stdout",
     "output_type": "stream",
     "text": [
      "\n",
      "Task14: Write a program to input a string and print if it is palindrome or not:\n",
      "--------------------------------------------------------------------------------\n",
      "Enter a String:Naman\n",
      "Palindrome\n"
     ]
    }
   ],
   "source": [
    "'''\n",
    "Task14: Write a program to input a string and print if it is palindrome or not.\n",
    "'''\n",
    "Task = \"\\nTask14: Write a program to input a string and print if it is palindrome or not:\"\n",
    "print(Task + \"\\n\" + \"-\"*len(Task))\n",
    "\n",
    "Str = input(\"Enter a String:\")\n",
    "Str = Str.lower()\n",
    "if Str == Str[::-1]:\n",
    "    print(\"Palindrome\")\n",
    "else:\n",
    "    print(\"Not a Palindrome\")\n"
   ]
  },
  {
   "cell_type": "code",
   "execution_count": 119,
   "metadata": {},
   "outputs": [
    {
     "name": "stdout",
     "output_type": "stream",
     "text": [
      "\n",
      "Task15: Use the range method and create a tuple containing the following values (20, 15, 10, 5):\n",
      "-------------------------------------------------------------------------------------------------\n",
      "(20, 15, 10, 5)\n"
     ]
    }
   ],
   "source": [
    "'''\n",
    "Task15: Use the range method and create a tuple containing the following values:\n",
    "(20, 15, 10, 5).\n",
    "'''\n",
    "Task = \"\\nTask15: Use the range method and create a tuple containing the following values (20, 15, 10, 5):\"\n",
    "print(Task + \"\\n\" + \"-\"*len(Task))\n",
    "\n",
    "t = ()\n",
    "l = []\n",
    "for i in range(5,25,5):\n",
    "    l.append(i)\n",
    "t = tuple(l[::-1])\n",
    "print(t)"
   ]
  },
  {
   "cell_type": "code",
   "execution_count": 121,
   "metadata": {},
   "outputs": [
    {
     "name": "stdout",
     "output_type": "stream",
     "text": [
      "\n",
      "Task16: WAP to convert string to list of characters:\n",
      "-----------------------------------------------------\n",
      "Enter a String:jai\n",
      "['j', 'a', 'i']\n"
     ]
    }
   ],
   "source": [
    "'''\n",
    "Task16: WAP to convert string to list of characters.\n",
    "'''\n",
    "Task = \"\\nTask16: WAP to convert string to list of characters:\"\n",
    "print(Task + \"\\n\" + \"-\"*len(Task))\n",
    "\n",
    "Str = input(\"Enter a String:\")\n",
    "llist = list(Str)\n",
    "print(llist)"
   ]
  },
  {
   "cell_type": "code",
   "execution_count": 123,
   "metadata": {},
   "outputs": [
    {
     "name": "stdout",
     "output_type": "stream",
     "text": [
      "\n",
      "Task17: What is the return type of::\n",
      "-------------------------------------\n",
      "<class 'list'>\n",
      "<class 'NoneType'>\n",
      "<class 'str'>\n",
      "<class 'bool'>\n"
     ]
    }
   ],
   "source": [
    "'''\n",
    "Task17: What is the return type of:\n",
    "print(type('1 2'.split()))\n",
    "print(type([1, 3, 2].sort()))\n",
    "print(type('abc'.upper()))\n",
    "print(type(1 in [1, 2]))\n",
    "'''\n",
    "Task = \"\\nTask17: What is the return type of::\"\n",
    "print(Task + \"\\n\" + \"-\"*len(Task))\n",
    "\n",
    "print(type('1 2'.split()))\n",
    "print(type([1, 3, 2].sort()))\n",
    "print(type('abc'.upper()))\n",
    "print(type(1 in [1, 2]))"
   ]
  },
  {
   "cell_type": "code",
   "execution_count": null,
   "metadata": {},
   "outputs": [],
   "source": []
  }
 ],
 "metadata": {
  "kernelspec": {
   "display_name": "Python 3",
   "language": "python",
   "name": "python3"
  },
  "language_info": {
   "codemirror_mode": {
    "name": "ipython",
    "version": 3
   },
   "file_extension": ".py",
   "mimetype": "text/x-python",
   "name": "python",
   "nbconvert_exporter": "python",
   "pygments_lexer": "ipython3",
   "version": "3.8.3"
  }
 },
 "nbformat": 4,
 "nbformat_minor": 4
}
