{
 "cells": [
  {
   "cell_type": "code",
   "execution_count": null,
   "metadata": {},
   "outputs": [],
   "source": [
    "#AssignExtra2-Algos\n",
    "Header = \"AssignExtra2-Algos\"\n",
    "print(Header + \"\\n\" + \"*\"*len(Header)+\"\\n\")"
   ]
  },
  {
   "cell_type": "code",
   "execution_count": 1,
   "metadata": {},
   "outputs": [
    {
     "name": "stdout",
     "output_type": "stream",
     "text": [
      "\n",
      "Task1: WAF: reverse_list() that takes a list as argument and reverses the elements of the list:\n",
      "------------------------------------------------------------------------------------------------\n",
      "[5, 4, 3, 2, 1]\n"
     ]
    }
   ],
   "source": [
    "'''\n",
    "Task1: WAF: reverse_list() that takes a list as argument and reverses the elements of the list in place\n",
    "(use indexing operations, not any function or slicing).\n",
    "'''\n",
    "Task = \"\\nTask1: WAF: reverse_list() that takes a list as argument and reverses the elements of the list:\"\n",
    "print(Task + \"\\n\" + \"-\"*len(Task))\n",
    "\n",
    "\n",
    "def reverse_list(lStr):\n",
    "    rStr = []\n",
    "    rCtr = 0\n",
    "    lCtr = len(lStr) - 1\n",
    "    while(lCtr >= 0):\n",
    "        rStr.append(lStr[lCtr])\n",
    "        rCtr += 1\n",
    "        lCtr -= 1\n",
    "    return rStr\n",
    "\n",
    "'''\n",
    "def reverse_list(lStr):\n",
    "    rCtr = 0\n",
    "    lCtr = len(lStr) - 1\n",
    "    while(lCtr >= 0):\n",
    "        print(rCtr, \" \", lCtr)\n",
    "        if(rCtr == lCtr):\n",
    "            break\n",
    "        lStr[rCtr] = lStr[lCtr]\n",
    "        rCtr += 1\n",
    "        lCtr -= 1\n",
    "    return lStr\n",
    "'''\n",
    "\n",
    "lStr = [1,2,3,4,5]\n",
    "print(reverse_list(lStr))"
   ]
  },
  {
   "cell_type": "code",
   "execution_count": 3,
   "metadata": {},
   "outputs": [
    {
     "name": "stdout",
     "output_type": "stream",
     "text": [
      "\n",
      "Task2: WAF: count_even_odd() that counts and returns how many numbers are even and how many are odd.:\n",
      "------------------------------------------------------------------------------------------------------\n",
      "Enter Numbers:1 2 3 4 5 6 7 8 9\n",
      "Odd = 5, Even = 4\n"
     ]
    }
   ],
   "source": [
    "'''\n",
    "Task2: WAF: count_even_odd() that counts and returns how many numbers are even and how many are odd\n",
    "in a list of numbers passed as argument.\n",
    "'''\n",
    "Task = \"\\nTask2: WAF: count_even_odd() that counts and returns how many numbers are even and how many are odd.:\"\n",
    "print(Task + \"\\n\" + \"-\"*len(Task))\n",
    "\n",
    "def count_even_odd(nlist):\n",
    "    nOdd = nEven = 0\n",
    "    \n",
    "    for n in nlist:\n",
    "        if(int(n)%2 == 0):\n",
    "            nEven += 1\n",
    "        else:\n",
    "            nOdd += 1\n",
    "    \n",
    "    return (nOdd, nEven)\n",
    "\n",
    "Numbers = input(\"Enter Numbers:\")\n",
    "nlist = Numbers.split()\n",
    "tOddEven = count_even_odd(nlist)\n",
    "print(f\"Odd = {tOddEven[0]}, Even = {tOddEven[1]}\")\n"
   ]
  },
  {
   "cell_type": "code",
   "execution_count": 18,
   "metadata": {},
   "outputs": [
    {
     "name": "stdout",
     "output_type": "stream",
     "text": [
      "\n",
      "Task3: WAF: maximum() to return the largest number in a list of numbers (do not use max function):\n",
      "---------------------------------------------------------------------------------------------------\n",
      "Enter Numbers:1 2 3 4 5 6\n",
      "Largest =  6\n"
     ]
    }
   ],
   "source": [
    "'''\n",
    "Task3: WAF: maximum() to return the largest number in a list of numbers (do not use max function).\n",
    "Function takes a list or tuple of numbers as argument.\n",
    "'''\n",
    "Task = \"\\nTask3: WAF: maximum() to return the largest number in a list of numbers (do not use max function):\"\n",
    "print(Task + \"\\n\" + \"-\"*len(Task))\n",
    "\n",
    "def maximum(nlist):\n",
    "    largest = None\n",
    "    for n in nlist:\n",
    "        n = int(n)\n",
    "        if largest == None:\n",
    "            largest = n\n",
    "        else:\n",
    "            if n > largest:\n",
    "                largest = n\n",
    "    return largest\n",
    "\n",
    "Numbers = input(\"Enter Numbers:\")\n",
    "nlist = Numbers.split()\n",
    "print(\"Largest = \", maximum(nlist))"
   ]
  },
  {
   "cell_type": "code",
   "execution_count": 19,
   "metadata": {},
   "outputs": [
    {
     "name": "stdout",
     "output_type": "stream",
     "text": [
      "\n",
      "Task4: WAF: second_maximum() Create a new version of above code to return the second largest number:\n",
      "-----------------------------------------------------------------------------------------------------\n",
      "Enter Numbers:-1 -2 -3 0\n",
      "Second Largest =  -1\n"
     ]
    }
   ],
   "source": [
    "'''\n",
    "Task4: WAF: second_maximum() Create a new version of above code to return the second largest number.\n",
    "'''\n",
    "Task = \"\\nTask4: WAF: second_maximum() Create a new version of above code to return the second largest number:\"\n",
    "print(Task + \"\\n\" + \"-\"*len(Task))\n",
    "\n",
    "def second_maximum(nlist):\n",
    "    largest = None\n",
    "    for n in nlist:\n",
    "        n = int(n)\n",
    "        if largest == None:\n",
    "            largest = n\n",
    "        else:\n",
    "            if n > largest:\n",
    "                largest = n\n",
    "    Secondlargest = None\n",
    "    for n in nlist:\n",
    "        n = int(n)\n",
    "        if Secondlargest == None and n < largest:\n",
    "            Secondlargest = n\n",
    "        elif n == largest:\n",
    "            pass\n",
    "        else:\n",
    "            if n > Secondlargest:\n",
    "                Secondlargest = n\n",
    "\n",
    "    return Secondlargest\n",
    "\n",
    "Numbers = input(\"Enter Numbers:\")\n",
    "nlist = Numbers.split()\n",
    "print(\"Second Largest = \", second_maximum(nlist))"
   ]
  },
  {
   "cell_type": "code",
   "execution_count": 22,
   "metadata": {},
   "outputs": [
    {
     "name": "stdout",
     "output_type": "stream",
     "text": [
      "\n",
      "Task5: WAF: mean() that returns the mean of list of numbers passed to the function as argument:\n",
      "------------------------------------------------------------------------------------------------\n",
      "Enter Numbers:1 2 3 4 5 6 7 8 9\n",
      "Mean of Numbers =  5.0\n"
     ]
    }
   ],
   "source": [
    "'''\n",
    "Task5: WAF: mean() that returns the mean of list of numbers passed to the function as argument.\n",
    "'''\n",
    "Task = \"\\nTask5: WAF: mean() that returns the mean of list of numbers passed to the function as argument:\"\n",
    "print(Task + \"\\n\" + \"-\"*len(Task))\n",
    "\n",
    "def mean(nlist):\n",
    "    Elements = len(nlist)\n",
    "    Sum = 0\n",
    "    \n",
    "    for n in nlist:\n",
    "        Sum += int(n)\n",
    "    \n",
    "    return (Sum/Elements)\n",
    "\n",
    "Numbers = input(\"Enter Numbers:\")\n",
    "nlist = Numbers.split()\n",
    "print(\"Mean of Numbers = \", mean(nlist))"
   ]
  },
  {
   "cell_type": "code",
   "execution_count": 27,
   "metadata": {},
   "outputs": [
    {
     "name": "stdout",
     "output_type": "stream",
     "text": [
      "\n",
      "Task6: WAF: find_in_range() that takes a three arguments: a list of numbers, start, end:\n",
      "-----------------------------------------------------------------------------------------\n",
      "Enter Numbers:1 2 3 4 5 6 7\n",
      "Start From: 3\n",
      "End: 6\n",
      "Numbers in Range:  [3, 4, 5]\n"
     ]
    }
   ],
   "source": [
    "'''\n",
    "Task6: WAF: find_in_range() that takes a three arguments: a list of numbers, start, end.\n",
    "The function returns a list of numbers from the original list, which lie between start and end.\n",
    "Ex: find_in_range([3,10, 5, 8, 2, 7], 5, 9)\n",
    "List of numbers = [3,10, 5, 8, 2, 7] start = 5\n",
    "end = 9\n",
    "list returned should be [5, 8, 7].\n",
    "'''\n",
    "Task = \"\\nTask6: WAF: find_in_range() that takes a three arguments: a list of numbers, start, end:\"\n",
    "print(Task + \"\\n\" + \"-\"*len(Task))\n",
    "\n",
    "def find_in_range(nlist, start, end):\n",
    "    rlist = []\n",
    "    for n in nlist:\n",
    "        n = int(n)\n",
    "        if n >=start and n < end:\n",
    "            rlist.append(n)\n",
    "    return rlist\n",
    "\n",
    "Numbers = input(\"Enter Numbers:\")\n",
    "Start = int(input(\"Start From: \"))\n",
    "End = int(input(\"End: \"))\n",
    "\n",
    "nlist = Numbers.split()\n",
    "print(\"Numbers in Range: \", find_in_range(nlist, Start, End))"
   ]
  },
  {
   "cell_type": "code",
   "execution_count": null,
   "metadata": {},
   "outputs": [],
   "source": []
  }
 ],
 "metadata": {
  "kernelspec": {
   "display_name": "Python 3",
   "language": "python",
   "name": "python3"
  },
  "language_info": {
   "codemirror_mode": {
    "name": "ipython",
    "version": 3
   },
   "file_extension": ".py",
   "mimetype": "text/x-python",
   "name": "python",
   "nbconvert_exporter": "python",
   "pygments_lexer": "ipython3",
   "version": "3.8.3"
  }
 },
 "nbformat": 4,
 "nbformat_minor": 4
}
