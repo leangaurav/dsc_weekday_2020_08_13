{
 "cells": [
  {
   "cell_type": "code",
   "execution_count": 2,
   "metadata": {},
   "outputs": [
    {
     "name": "stdout",
     "output_type": "stream",
     "text": [
      "[0 0 0 0 0] <class 'numpy.ndarray'>\n",
      "\n",
      "int32\n",
      "\n",
      "4\n",
      "\n",
      "(5,)\n"
     ]
    }
   ],
   "source": [
    "#1.create a numpy array of 5 zeros.\n",
    "#check datatype, itemsize and shape of above\n",
    "import numpy as np\n",
    "x = np.zeros(5, dtype = int)\n",
    "print(x,type(x))\n",
    "print()\n",
    "print(x.dtype)\n",
    "print()\n",
    "print(x.itemsize)\n",
    "print()\n",
    "print(x.shape)"
   ]
  },
  {
   "cell_type": "code",
   "execution_count": 3,
   "metadata": {},
   "outputs": [
    {
     "name": "stdout",
     "output_type": "stream",
     "text": [
      "[[1 1 1 1]\n",
      " [1 1 1 1]\n",
      " [1 1 1 1]\n",
      " [1 1 1 1]\n",
      " [1 1 1 1]]\n"
     ]
    }
   ],
   "source": [
    "#2.create a numpy array of ones of shape (5,4)\n",
    "x1 = np.ones((5,4),dtype = int)\n",
    "print(x1)"
   ]
  },
  {
   "cell_type": "code",
   "execution_count": 4,
   "metadata": {},
   "outputs": [
    {
     "name": "stdout",
     "output_type": "stream",
     "text": [
      "[[ 1  2  3  4  5]\n",
      " [ 6  7  8  9 10]\n",
      " [11 12 13 14 15]\n",
      " [16 17 18 19 20]]\n"
     ]
    }
   ],
   "source": [
    "#3.create a matrix of shape 4,5 with numbers from 1-20\n",
    "x2 = np.arange(1,21)\n",
    "x3 = x2.reshape(4,5)\n",
    "print(x3)"
   ]
  },
  {
   "cell_type": "code",
   "execution_count": 5,
   "metadata": {},
   "outputs": [
    {
     "name": "stdout",
     "output_type": "stream",
     "text": [
      "[[ 10  20  30  40  50]\n",
      " [ 60  70  80  90 100]\n",
      " [110 120 130 140 150]\n",
      " [160 170 180 190 200]]\n"
     ]
    }
   ],
   "source": [
    "#4.multiply all elements of above array by 10\n",
    "print(x3*10)"
   ]
  },
  {
   "cell_type": "code",
   "execution_count": 6,
   "metadata": {},
   "outputs": [
    {
     "name": "stdout",
     "output_type": "stream",
     "text": [
      "1\n",
      "3\n",
      "5\n",
      "7\n",
      "9\n",
      "11\n",
      "13\n",
      "15\n",
      "17\n",
      "19\n"
     ]
    }
   ],
   "source": [
    "#5.print odd elements from array\n",
    "#n = np.array([])\n",
    "for i in range(1,len(x2)):\n",
    "    if i % 2 !=0:\n",
    "        print(i)"
   ]
  },
  {
   "cell_type": "code",
   "execution_count": 7,
   "metadata": {},
   "outputs": [
    {
     "name": "stdout",
     "output_type": "stream",
     "text": [
      "-2\n",
      "-4\n",
      "-6\n",
      "-8\n",
      "-10\n",
      "-12\n",
      "-14\n",
      "-16\n",
      "-18\n",
      "-20\n"
     ]
    }
   ],
   "source": [
    "#6.replace all even elements by their negative\n",
    "for j in range(1,len(x2)+1):\n",
    "    if j % 2 == 0:\n",
    "        print(-j)"
   ]
  },
  {
   "cell_type": "code",
   "execution_count": 8,
   "metadata": {},
   "outputs": [
    {
     "name": "stdout",
     "output_type": "stream",
     "text": [
      "[[ 1.          2.06666667  3.13333333  4.2       ]\n",
      " [ 5.26666667  6.33333333  7.4         8.46666667]\n",
      " [ 9.53333333 10.6        11.66666667 12.73333333]\n",
      " [13.8        14.86666667 15.93333333 17.        ]]\n"
     ]
    }
   ],
   "source": [
    "#7.create a linearly spaced matrix M1 of size 4x4 having values in range 1-16\n",
    "M1 = np.linspace(1,17,num=16).reshape(4,4)\n",
    "print(M1)"
   ]
  },
  {
   "cell_type": "code",
   "execution_count": 9,
   "metadata": {},
   "outputs": [
    {
     "name": "stdout",
     "output_type": "stream",
     "text": [
      "[[ 1.          5.26666667  9.53333333 13.8       ]\n",
      " [ 2.06666667  6.33333333 10.6        14.86666667]\n",
      " [ 3.13333333  7.4        11.66666667 15.93333333]\n",
      " [ 4.2         8.46666667 12.73333333 17.        ]]\n"
     ]
    }
   ],
   "source": [
    "#8. create a transpose of above matrix call it M2\n",
    "M2 = M1.T\n",
    "print(M2)"
   ]
  },
  {
   "cell_type": "code",
   "execution_count": 10,
   "metadata": {},
   "outputs": [
    {
     "name": "stdout",
     "output_type": "stream",
     "text": [
      "[[ 2.          7.33333333 12.66666667 18.        ]\n",
      " [ 7.33333333 12.66666667 18.         23.33333333]\n",
      " [12.66666667 18.         23.33333333 28.66666667]\n",
      " [18.         23.33333333 28.66666667 34.        ]]\n"
     ]
    }
   ],
   "source": [
    "#9. find sum of above matrix M3 = (M1 + M2)\n",
    "M3 = M1 + M2\n",
    "print(M3)"
   ]
  },
  {
   "cell_type": "code",
   "execution_count": 11,
   "metadata": {},
   "outputs": [
    {
     "name": "stdout",
     "output_type": "stream",
     "text": [
      "True\n"
     ]
    }
   ],
   "source": [
    "#10.Find Transpose of M3, Call it MT1. Check if M3 == MT1\n",
    "MT1 = M3.T\n",
    "if M3.all() == MT1.all():\n",
    "    print(True)"
   ]
  },
  {
   "cell_type": "code",
   "execution_count": 12,
   "metadata": {},
   "outputs": [
    {
     "name": "stdout",
     "output_type": "stream",
     "text": [
      "[[ 0.  -3.2 -6.4 -9.6]\n",
      " [ 3.2  0.  -3.2 -6.4]\n",
      " [ 6.4  3.2  0.  -3.2]\n",
      " [ 9.6  6.4  3.2  0. ]]\n"
     ]
    }
   ],
   "source": [
    "#11. find diffrence of M4 = (M1 - M2)\n",
    "M4 = M1 - M2\n",
    "print(M4)"
   ]
  },
  {
   "cell_type": "code",
   "execution_count": 13,
   "metadata": {},
   "outputs": [
    {
     "name": "stdout",
     "output_type": "stream",
     "text": [
      "True\n"
     ]
    }
   ],
   "source": [
    "#12. Find Transpose of M4, Call it MT2. Check if M4 == MT2. Also check if M4 == -MT2\n",
    "MT2 = M4.T\n",
    "if M4.all() == MT2.all():\n",
    "    print(True)"
   ]
  },
  {
   "cell_type": "code",
   "execution_count": 14,
   "metadata": {},
   "outputs": [
    {
     "name": "stdout",
     "output_type": "stream",
     "text": [
      "[[11 25 21 34]\n",
      " [10 27 33 22]\n",
      " [29 23 30 28]]\n"
     ]
    }
   ],
   "source": [
    "#13. create a matrix (3x4) R1 of random numbers between 10-40\n",
    "import random\n",
    "R1 = np.random.randint(10,40,size =12).reshape(3,4)\n",
    "print(R1)\n"
   ]
  },
  {
   "cell_type": "code",
   "execution_count": 15,
   "metadata": {},
   "outputs": [
    {
     "name": "stdout",
     "output_type": "stream",
     "text": [
      "[34 33 30]\n",
      "[11 10 23]\n",
      "\n",
      "[29 27 33 34]\n",
      "[10 23 21 22]\n"
     ]
    }
   ],
   "source": [
    "#14.find min and max column wise\n",
    "# Row wise\n",
    "print(R1.max(axis = 1)) \n",
    "print(R1.min(axis = 1)) \n",
    "print()\n",
    "# column wise\n",
    "print(R1.max(axis = 0))\n",
    "print(R1.min(axis = 0))\n"
   ]
  },
  {
   "cell_type": "code",
   "execution_count": 16,
   "metadata": {},
   "outputs": [
    {
     "name": "stdout",
     "output_type": "stream",
     "text": [
      "[[ 11  25  21 293]\n",
      " [ 10  27  33 293]\n",
      " [ 29  23  30 293]]\n"
     ]
    }
   ],
   "source": [
    "#15. replace the last column with sum of all the columns\n",
    "#R1[:,-1] = \n",
    "#print(R2)\n",
    "R1[:,-1] = R1.sum()\n",
    "print(R1)"
   ]
  },
  {
   "cell_type": "code",
   "execution_count": 17,
   "metadata": {},
   "outputs": [
    {
     "name": "stdout",
     "output_type": "stream",
     "text": [
      "[[15 29 22 21]\n",
      " [21 15 25 18]\n",
      " [32 12 35 14]]\n"
     ]
    }
   ],
   "source": [
    "#16.create a matrix (3x4) R1 of random numbers between 10-40\n",
    "R1 = np.random.randint(10,40,size = 12).reshape(3,4)\n",
    "print(R1)"
   ]
  },
  {
   "cell_type": "code",
   "execution_count": 18,
   "metadata": {},
   "outputs": [
    {
     "name": "stdout",
     "output_type": "stream",
     "text": [
      "[[15. 29. nan 21.]\n",
      " [21. 15. 25. nan]\n",
      " [nan nan 35. nan]]\n"
     ]
    }
   ],
   "source": [
    "#17. replace all even elements with nan in R1\n",
    "R1 = R1.astype('float') #np.nan has type float\n",
    "i = R1 % 2 == 0\n",
    "R1[i] = 'Nan'\n",
    "print(R1)"
   ]
  },
  {
   "cell_type": "code",
   "execution_count": 19,
   "metadata": {},
   "outputs": [
    {
     "name": "stdout",
     "output_type": "stream",
     "text": [
      "5\n"
     ]
    }
   ],
   "source": [
    "#18.count number of nan in R1\n",
    "print(np.count_nonzero(np.isnan(R1)))"
   ]
  },
  {
   "cell_type": "code",
   "execution_count": 23,
   "metadata": {},
   "outputs": [
    {
     "name": "stdout",
     "output_type": "stream",
     "text": [
      "[ 1  2  3  4  5  6  7  8  9 11 12 13 14 15 16 17 18 19]\n",
      "\n",
      "[[ 1  2  3]\n",
      " [ 4  5  6]\n",
      " [ 7  8  9]\n",
      " [11 12 13]\n",
      " [14 15 16]\n",
      " [17 18 19]]\n",
      "\n",
      "[[ 1  2  3 11 12 13]\n",
      " [ 4  5  6 14 15 16]\n",
      " [ 7  8  9 17 18 19]]\n"
     ]
    }
   ],
   "source": [
    "#19.check output of this code\n",
    "a1 = np.arange(1,10).reshape(3,3)\n",
    "a2 = np.arange(11,20).reshape(3,3)\n",
    "a3 = np.append(a1,a2)\n",
    "print(a3)\n",
    "print()\n",
    "a3 = np.append(a1,a2, axis = 0)\n",
    "print(a3)\n",
    "print()\n",
    "a3 = np.append(a1,a2, axis = 1)\n",
    "print(a3)"
   ]
  }
 ],
 "metadata": {
  "kernelspec": {
   "display_name": "Python 3",
   "language": "python",
   "name": "python3"
  },
  "language_info": {
   "codemirror_mode": {
    "name": "ipython",
    "version": 3
   },
   "file_extension": ".py",
   "mimetype": "text/x-python",
   "name": "python",
   "nbconvert_exporter": "python",
   "pygments_lexer": "ipython3",
   "version": "3.8.3"
  }
 },
 "nbformat": 4,
 "nbformat_minor": 4
}
