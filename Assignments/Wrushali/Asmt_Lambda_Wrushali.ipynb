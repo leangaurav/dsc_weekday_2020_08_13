{
 "cells": [
  {
   "cell_type": "code",
   "execution_count": 1,
   "metadata": {},
   "outputs": [
    {
     "name": "stdout",
     "output_type": "stream",
     "text": [
      "Enter number:5\n",
      "25\n",
      "0.2\n",
      "-5\n"
     ]
    }
   ],
   "source": [
    "# Write Lamdas to 1: Square a number, 2: inverse a number 1/x, 3: Negate a number\n",
    "x=int(input(\"Enter number:\"))\n",
    "u=lambda a: a*a\n",
    "print(u(x))\n",
    "v=lambda a : pow(a,-1)\n",
    "print(v(x))\n",
    "w=lambda a : -a\n",
    "print(w(x))"
   ]
  },
  {
   "cell_type": "code",
   "execution_count": 2,
   "metadata": {},
   "outputs": [
    {
     "name": "stdout",
     "output_type": "stream",
     "text": [
      "Enter a list of numbers : 7\n",
      "maximum number = 7\n"
     ]
    }
   ],
   "source": [
    "#Use Reduce function and an appropriate Lambda to find a maximum number in a list\n",
    "\n",
    "from  functools import reduce\n",
    "try :\n",
    "    lt = input(\"Enter a list of numbers : \").split()\n",
    "    lti = list(map(lambda x: int(x),lt))\n",
    "\n",
    "    print(\"maximum number =\",reduce(lambda x,y: x if x>y else y,lti))\n",
    "except ValueError:\n",
    "    print(\"You havent entered number !\")\n",
    "except:\n",
    "    print(\"Some unknown error\")"
   ]
  },
  {
   "cell_type": "code",
   "execution_count": 3,
   "metadata": {},
   "outputs": [
    {
     "name": "stdout",
     "output_type": "stream",
     "text": [
      "Enter a list of numbers : 9\n",
      "[81]\n",
      "[0.012345679012345678]\n",
      "[-0.012345679012345678]\n"
     ]
    }
   ],
   "source": [
    "try :\n",
    "    lt = input(\"Enter a list of numbers : \").split()\n",
    "    lt1 = list(map(lambda x: int(x),lt))\n",
    "    lt2 = list(map(lambda x: x**2,lt1))\n",
    "    lt3 = list(map(lambda x: pow(x,-1),lt2))\n",
    "    print(lt2)\n",
    "    print(lt3)\n",
    "    print(list(map(lambda x: -x,lt3)))\n",
    "except ValueError:\n",
    "    print(\"You havent entered number !\")\n",
    "except:\n",
    "    print(\"Some unknown error\")"
   ]
  },
  {
   "cell_type": "code",
   "execution_count": 4,
   "metadata": {},
   "outputs": [
    {
     "name": "stdout",
     "output_type": "stream",
     "text": [
      "enter number :7\n",
      "[49]\n",
      "[0.02040816326530612]\n",
      "[-0.02040816326530612]\n"
     ]
    }
   ],
   "source": [
    "def map_multiple(func1,seq):\n",
    "    return (list(map(func1,seq))) \n",
    "\n",
    "seq=input(\"enter number :\").split()\n",
    "l1=list(map(lambda x:int(x),seq))\n",
    "print(map_multiple(lambda x:x**2,l1))\n",
    "print(map_multiple(lambda x:1/x,map_multiple(lambda x:x**2,l1)))\n",
    "print(map_multiple(lambda x:-x,map_multiple(lambda x:1/x,map_multiple(lambda x:x**2,l1))))"
   ]
  },
  {
   "cell_type": "code",
   "execution_count": 5,
   "metadata": {},
   "outputs": [
    {
     "name": "stdout",
     "output_type": "stream",
     "text": [
      "[1.0, 0.5, 0.25, 0.125]\n"
     ]
    }
   ],
   "source": [
    "#Find the output\n",
    "functs=[lambda x:x**0.5 , lambda x:1/x ]\n",
    "l=[1,4,16,64]\n",
    "ans=[]\n",
    "for i in l :\n",
    "    res=i\n",
    "    for funct in functs:\n",
    "        res=funct(res)\n",
    "        #print(res)\n",
    "    ans.append(res)\n",
    "print(ans)"
   ]
  },
  {
   "cell_type": "code",
   "execution_count": 17,
   "metadata": {},
   "outputs": [
    {
     "ename": "SyntaxError",
     "evalue": "invalid syntax (<ipython-input-17-fd1c985fded2>, line 3)",
     "output_type": "error",
     "traceback": [
      "\u001b[1;36m  File \u001b[1;32m\"<ipython-input-17-fd1c985fded2>\"\u001b[1;36m, line \u001b[1;32m3\u001b[0m\n\u001b[1;33m    f = lambda x,y : x if x is > y else y\u001b[0m\n\u001b[1;37m                               ^\u001b[0m\n\u001b[1;31mSyntaxError\u001b[0m\u001b[1;31m:\u001b[0m invalid syntax\n"
     ]
    }
   ],
   "source": [
    "# Find the Output\n",
    "from functools import reduce\n",
    "f = lambda x,y : x if x is > y else y\n",
    "\n",
    "l = [10, 30, 50, 30, 10]\n",
    "num = reduce(f, 1)\n",
    "print(num)\n",
    "\n"
   ]
  },
  {
   "cell_type": "code",
   "execution_count": 12,
   "metadata": {},
   "outputs": [
    {
     "name": "stdout",
     "output_type": "stream",
     "text": [
      "Enter a list of numbers : 7 9 2\n",
      "Enter a list of string : hello\n",
      "[7, 9, 2]\n"
     ]
    }
   ],
   "source": [
    "lt1 = input(\"Enter a list of numbers : \").split()\n",
    "lt2 = list(map(lambda x: int(x),lt1))+input(\"Enter a list of string : \").split()\n",
    "\n",
    "def is_number(x):\n",
    "    return isinstance(x,int)\n",
    "print(list(filter(is_number,lt2)))"
   ]
  },
  {
   "cell_type": "code",
   "execution_count": 9,
   "metadata": {},
   "outputs": [
    {
     "name": "stdout",
     "output_type": "stream",
     "text": [
      "Enter a list of heights : 5ft7in\n",
      "['5ft7in']\n",
      "[1.7]\n"
     ]
    }
   ],
   "source": [
    "#Assume a list containing heights ft and inches in the form of a list of string Example : l = [‘5ft10in’, ‘5ft’, ….]\n",
    "#Write a function to convert the heights to meter. \n",
    "#Use map function along with your function to convert everything to m.\n",
    "\n",
    "lt1 = input(\"Enter a list of heights : \").split()\n",
    "print(lt1)\n",
    "def convert_ft_metre(x):\n",
    "    y=x.find('ft')\n",
    "    z=x.find('in')\n",
    "    if x.find('in')!=-1:\n",
    "        m=(int(x[:y])*0.3048)+(int(x[y+2:z])*.0254)\n",
    "        return round(m,2)\n",
    "    else:\n",
    "        m=(int(x[:y])*0.3048)\n",
    "        return round(m,2)\n",
    "    \n",
    "\n",
    "print(list(map(convert_ft_metre,lt1)))"
   ]
  },
  {
   "cell_type": "code",
   "execution_count": 10,
   "metadata": {},
   "outputs": [
    {
     "name": "stdout",
     "output_type": "stream",
     "text": [
      "[1, 4, 9]\n"
     ]
    }
   ],
   "source": [
    "l1=[1,2,3]\n",
    "print(list(map(lambda x:x**2 , l1)))"
   ]
  },
  {
   "cell_type": "code",
   "execution_count": 11,
   "metadata": {},
   "outputs": [
    {
     "name": "stdout",
     "output_type": "stream",
     "text": [
      "Enter a list of nos:5 8 6\n",
      "[25, 64, 36]\n"
     ]
    }
   ],
   "source": [
    "# Write implementation for the map yourself by the name my_map\n",
    "def my_map(func,lst):\n",
    "    a = []\n",
    "    for k in lst:\n",
    "        a.append(func(k))\n",
    "    return a\n",
    "\n",
    "lt1 = input(\"Enter a list of nos:\").split()\n",
    "lt2 = (my_map(lambda a: int(a),lt1))\n",
    "print(my_map(lambda x:x**2,lt2))"
   ]
  },
  {
   "cell_type": "code",
   "execution_count": null,
   "metadata": {},
   "outputs": [],
   "source": []
  }
 ],
 "metadata": {
  "kernelspec": {
   "display_name": "Python 3",
   "language": "python",
   "name": "python3"
  },
  "language_info": {
   "codemirror_mode": {
    "name": "ipython",
    "version": 3
   },
   "file_extension": ".py",
   "mimetype": "text/x-python",
   "name": "python",
   "nbconvert_exporter": "python",
   "pygments_lexer": "ipython3",
   "version": "3.8.3"
  }
 },
 "nbformat": 4,
 "nbformat_minor": 4
}
