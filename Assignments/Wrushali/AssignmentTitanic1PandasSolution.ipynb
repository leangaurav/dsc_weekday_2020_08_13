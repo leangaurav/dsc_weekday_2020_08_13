{
 "cells": [
  {
   "cell_type": "raw",
   "metadata": {},
   "source": [
    "Variable\tDefinition\tKey\n",
    "survival\tSurvival\t0 = No, 1 = Yes\n",
    "pclass\tTicket class\t1 = 1st, 2 = 2nd, 3 = 3rd\n",
    "gender\tgender\t\n",
    "Age\tAge in years\t\n",
    "sibsp\tnumber of siblings / spouses aboard\t\n",
    "parch\tnumber of parents / children aboard\t\n",
    "ticket\tTicket number\t\n",
    "fare\tfare\t\n",
    "cabin\tCabin number\t\n",
    "embarked\tPort of Embarkation\tC = Cherbourg, Q = Queenstown, S = Southampton\n",
    "boat\tLifeboat\t\n",
    "body\tBody Identification Number\t\n",
    "home.dest\tHome/destination\t\n",
    "\n",
    "\n",
    "Read data and describe it\n",
    "Find columns with missingdata\n",
    "Print shape of dataset\n",
    "drop columns with more than 25% missing data\n",
    "drop columns having independent values(which do not affect the survival rate).\n",
    "check data types of all columns\n",
    "convert price to numeric\n",
    "find columns still having missing/na values and also count of missing data\n",
    "fill na with mean for fare and age column column.\n",
    "drop na values for embarked column.\n",
    "dump the dataframe to a csv file 'titanic_filtered.csv'.\n",
    "for surviced column replace 0 with D and 1 with A\n",
    "find the frequency of different values in survived column\n",
    "group by gender and survived and see the counts in each category\n",
    "find different pclass and no of people in each class\n",
    "\n",
    "find top 5 people with highest values of age. Count no of male and females in the top 5\n",
    "\n",
    "find max age male and female who survived\n",
    "get average age by gender\n",
    "get average age by people survived vs not-survived"
   ]
  },
  {
   "cell_type": "code",
   "execution_count": 1,
   "metadata": {},
   "outputs": [],
   "source": [
    "import pandas as pd\n",
    "import numpy as np"
   ]
  },
  {
   "cell_type": "code",
   "execution_count": null,
   "metadata": {},
   "outputs": [],
   "source": [
    "# Read and Describe Data\n",
    "df = pd.read_csv('titanic_dataset.csv')\n",
    "print(df.describe(include = 'all'))"
   ]
  },
  {
   "cell_type": "code",
   "execution_count": null,
   "metadata": {},
   "outputs": [],
   "source": [
    "# columns with missing data\n",
    "print(df.isna().any())\n",
    "print()\n",
    "print(df.columns[df.isna().any() == True])\n",
    "\n",
    "print(df.isna().sum()/df.shape[0])"
   ]
  },
  {
   "cell_type": "code",
   "execution_count": null,
   "metadata": {},
   "outputs": [],
   "source": [
    "# Print shape of dataset\n",
    "print(df.shape)"
   ]
  },
  {
   "cell_type": "code",
   "execution_count": null,
   "metadata": {},
   "outputs": [],
   "source": [
    "# drop columns with more than 25% missing data\n",
    "df.dropna(axis = 'columns', thresh = df.shape[0]*0.75, inplace = True)\n",
    "print(df.head(2))"
   ]
  },
  {
   "cell_type": "code",
   "execution_count": null,
   "metadata": {},
   "outputs": [],
   "source": [
    "# drop columns having independent values(which do not affect the survival rate).\n",
    "df.drop(columns = ['Unnamed: 0','name', 'ticket'], inplace = True)\n",
    "print(df.head(2))"
   ]
  },
  {
   "cell_type": "code",
   "execution_count": null,
   "metadata": {},
   "outputs": [],
   "source": [
    "# check data types of all columns\n",
    "print(df.dtypes)"
   ]
  },
  {
   "cell_type": "code",
   "execution_count": null,
   "metadata": {},
   "outputs": [],
   "source": [
    "# convert price to numeric\n",
    "\n",
    "# method-1\n",
    "c1 = df.fare.replace(r'\\$', '', regex = True)\n",
    "print(c1.head()) \n",
    "\n",
    "# method-2. \n",
    "c2 = df.fare.str.replace('$', '')\n",
    "print(c2.head())#No inplace option available so replace old col with result of replace\n",
    "\n",
    "# Here I use method-1 \n",
    "df.fare.replace(r'\\$', '', regex = True, inplace = True)\n",
    "print(df.head())\n",
    "\n",
    "# finally change datatype\n",
    "print()\n",
    "df.fare = df.fare.astype('float64')\n",
    "print(df.dtypes)"
   ]
  },
  {
   "cell_type": "code",
   "execution_count": null,
   "metadata": {},
   "outputs": [],
   "source": [
    "#find columns still having missing/na values and also count of missing data\n",
    "print(df.isna().any())\n",
    "print()\n",
    "print(df.isna().sum())"
   ]
  },
  {
   "cell_type": "code",
   "execution_count": null,
   "metadata": {},
   "outputs": [],
   "source": [
    "# fill na with mean for fare and age column column.\n",
    "df.fare.fillna(df.fare.mean(), inplace = True)\n",
    "df.age.fillna(df.age.mean(), inplace = True)\n",
    "print(df.isna().sum())"
   ]
  },
  {
   "cell_type": "code",
   "execution_count": null,
   "metadata": {},
   "outputs": [],
   "source": [
    "# drop na values for embarked column.\n",
    "df.dropna(subset = ['embarked'], inplace = True)\n",
    "print(df.isna().sum())"
   ]
  },
  {
   "cell_type": "code",
   "execution_count": null,
   "metadata": {},
   "outputs": [],
   "source": [
    "# dump the dataframe to a csv file 'titanic_filtered.csv'.\n",
    "df.to_csv('titanic_filtered.csv')"
   ]
  },
  {
   "cell_type": "code",
   "execution_count": null,
   "metadata": {},
   "outputs": [],
   "source": [
    "# for surviced column replace 0 with D and 1 with A\n",
    "df.survived.replace({0:'D', 1:'A'}, inplace = True)\n",
    "print(df.survived.head())"
   ]
  },
  {
   "cell_type": "code",
   "execution_count": null,
   "metadata": {},
   "outputs": [],
   "source": [
    "#find the frequency of different values in survived column\n",
    "print( df.survived.value_counts() )"
   ]
  },
  {
   "cell_type": "code",
   "execution_count": null,
   "metadata": {},
   "outputs": [],
   "source": [
    "#group by gender and survived and see the counts in each category\n",
    "g1 = df.groupby(['gender', 'survived'])\n",
    "g1.count()"
   ]
  },
  {
   "cell_type": "code",
   "execution_count": null,
   "metadata": {},
   "outputs": [],
   "source": [
    "# find different pclass and no of people in each class\n",
    "print(df.pclass.unique())\n",
    "print()\n",
    "print(df.pclass.value_counts())"
   ]
  },
  {
   "cell_type": "code",
   "execution_count": null,
   "metadata": {},
   "outputs": [],
   "source": [
    "# find top 5 people with highest values of age. Count no of male and females in the top 5\n",
    "res = df.nlargest(5, 'age')\n",
    "print(res)\n",
    "print(res.gender.value_counts())"
   ]
  },
  {
   "cell_type": "code",
   "execution_count": null,
   "metadata": {},
   "outputs": [],
   "source": [
    "# find max age male and female who survived\n",
    "res = df[(df.survived == 'A') & (df.gender == 'male')]\n",
    "print(res.nlargest(1, 'age'))\n",
    "\n",
    "res = df[(df.survived == 'A') & (df.gender == 'female')]\n",
    "print(res.nlargest(1, 'age'))"
   ]
  },
  {
   "cell_type": "code",
   "execution_count": null,
   "metadata": {},
   "outputs": [],
   "source": [
    "# get average age by gender\n",
    "print(df.groupby('gender').age.mean())"
   ]
  },
  {
   "cell_type": "code",
   "execution_count": null,
   "metadata": {},
   "outputs": [],
   "source": [
    "# get average age by people survived vs not-survived\n",
    "print(df.groupby('survived').age.mean())"
   ]
  },
  {
   "cell_type": "code",
   "execution_count": null,
   "metadata": {},
   "outputs": [],
   "source": []
  },
  {
   "cell_type": "code",
   "execution_count": null,
   "metadata": {},
   "outputs": [],
   "source": []
  },
  {
   "cell_type": "code",
   "execution_count": null,
   "metadata": {},
   "outputs": [],
   "source": []
  },
  {
   "cell_type": "code",
   "execution_count": null,
   "metadata": {},
   "outputs": [],
   "source": []
  }
 ],
 "metadata": {
  "kernelspec": {
   "display_name": "Python 3",
   "language": "python",
   "name": "python3"
  },
  "language_info": {
   "codemirror_mode": {
    "name": "ipython",
    "version": 3
   },
   "file_extension": ".py",
   "mimetype": "text/x-python",
   "name": "python",
   "nbconvert_exporter": "python",
   "pygments_lexer": "ipython3",
   "version": "3.8.3"
  }
 },
 "nbformat": 4,
 "nbformat_minor": 4
}
