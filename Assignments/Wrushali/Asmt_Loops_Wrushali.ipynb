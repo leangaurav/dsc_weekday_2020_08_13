{
 "cells": [
  {
   "cell_type": "code",
   "execution_count": 1,
   "metadata": {},
   "outputs": [
    {
     "name": "stdout",
     "output_type": "stream",
     "text": [
      "Enter a number : 7\n",
      "Enter a number : 9\n",
      "False\n"
     ]
    }
   ],
   "source": [
    "#1. wap to input 2 numbers and check whether the first is divisible by the second and print true or false depending on the divisibility. \n",
    "\n",
    "a = int(input('Enter a number : '))\n",
    "b = int(input('Enter a number : '))\n",
    "if (a%b == 0):\n",
    "    print('True')\n",
    "else:\n",
    "    print('False')"
   ]
  },
  {
   "cell_type": "code",
   "execution_count": 3,
   "metadata": {},
   "outputs": [
    {
     "name": "stdout",
     "output_type": "stream",
     "text": [
      "Enter a string : naman\n",
      "String is palindrome\n"
     ]
    }
   ],
   "source": [
    "#2. In the palindrome example, make the code case insensitive i.e. Naman should also be treated as a palindrome (HINT: first convert to either upper or lower case).\n",
    "\n",
    "s = input('Enter a string : ').lower()\n",
    "p = s[::-1].lower()\n",
    "if s == p:\n",
    "    print('String is palindrome')\n",
    "else:\n",
    "    print('String is not palindrome')"
   ]
  },
  {
   "cell_type": "code",
   "execution_count": 4,
   "metadata": {},
   "outputs": [
    {
     "name": "stdout",
     "output_type": "stream",
     "text": [
      "enter 1st side :4\n",
      "enter 2nd side :4\n",
      "enter 3rd side:4\n",
      "equilateral\n"
     ]
    }
   ],
   "source": [
    "#3. wap to input the sides of a triangle and print wheather equilateral(all sides equal), isosceles(2 sides equal), or scalane(no sides equal).\n",
    "\n",
    "a = int(input(\"enter 1st side :\"))\n",
    "b = int(input(\"enter 2nd side :\"))\n",
    "c = int(input(\"enter 3rd side:\"))\n",
    "if(a==b and a==c):\n",
    "    print(\"equilateral\")\n",
    "elif(a==b or b==c or a==c):\n",
    "    print(\"isoceles\")\n",
    "elif(a!=b or a!=c or b!=c):\n",
    "    print(\"scalene\")"
   ]
  },
  {
   "cell_type": "code",
   "execution_count": 5,
   "metadata": {},
   "outputs": [
    {
     "name": "stdout",
     "output_type": "stream",
     "text": [
      "Enter 1st number :5\n",
      "Odd\n"
     ]
    }
   ],
   "source": [
    "#4. wap to input a no. and print if it is even or odd.\n",
    "\n",
    "\n",
    "a = int(input(\"Enter 1st number :\"))\n",
    "if(a%2==0):\n",
    "    print(\"Even\")\n",
    "else:\n",
    "    print(\"Odd\")"
   ]
  },
  {
   "cell_type": "code",
   "execution_count": 6,
   "metadata": {},
   "outputs": [
    {
     "name": "stdout",
     "output_type": "stream",
     "text": [
      "Enter age4\n",
      "Child\n"
     ]
    }
   ],
   "source": [
    "#5. WAP to input age and print the respective text depending on the ranges as present in the table.\n",
    "\n",
    "age = int(input(\"Enter age\"))\n",
    "\n",
    "if(age>=0 and age<=12):\n",
    "    print(\"Child\")\n",
    "elif(age>=13 and age<=17):\n",
    "    print(\"Teen\")\n",
    "elif(age>=18 and age<=50):\n",
    "    print(\"Adult\")\n",
    "elif(age>=51 and age<=100):\n",
    "    print(\"Senior Citizen\")\n",
    "elif(a>100):\n",
    "    print(\"Congratulations\")"
   ]
  },
  {
   "cell_type": "code",
   "execution_count": 7,
   "metadata": {},
   "outputs": [
    {
     "name": "stdout",
     "output_type": "stream",
     "text": [
      "Enter year :2020\n",
      "Leap year\n"
     ]
    }
   ],
   "source": [
    "#6. WAP to input year (check if user enters valid year. Should be 4-digit number and should not be\n",
    "# negative) and print whether leap year or not. (If really interested in why you also have to check\n",
    "# the divisibility by 400 just google the exact time it takes for the earth to revolve around the sub).\n",
    "\n",
    "year=int(input(\"Enter year :\"))\n",
    "\n",
    "if year%4!=0:\n",
    "    print(\"Common year\")\n",
    "elif year%100!=0:\n",
    "    print(\"Leap year\")\n",
    "elif year%400!=0:\n",
    "    print(\"Common year\")\n",
    "else:\n",
    "    print(\"Leap Year\")"
   ]
  },
  {
   "cell_type": "code",
   "execution_count": 8,
   "metadata": {},
   "outputs": [
    {
     "name": "stdout",
     "output_type": "stream",
     "text": [
      "Enter a string: hello\n",
      "HELLO\n"
     ]
    }
   ],
   "source": [
    "#7.  WAP to input a string and convert it to Upper Case if number of characters is odd and convert to lower case otherwise.\n",
    "\n",
    "a = input(\"Enter a string: \")\n",
    "if(len(a)%2!=0):\n",
    "    print(a.upper())\n",
    "else:\n",
    "    print(a.lower())"
   ]
  },
  {
   "cell_type": "code",
   "execution_count": 11,
   "metadata": {},
   "outputs": [
    {
     "name": "stdout",
     "output_type": "stream",
     "text": [
      "Enter a String : egg\n",
      "non veg\n"
     ]
    }
   ],
   "source": [
    "#8. WAP to input a string and print Veg if the string doesn’t contain the word egg. Otherwise print Non-Veg. As usual eggs can be both big and small. \n",
    "\n",
    "s = input(\"Enter a String : \")\n",
    "word =\"EGG\"\n",
    "if word.lower() not in s.lower():\n",
    "    print(\"veg\")\n",
    "else : \n",
    "    print(\"non veg\")"
   ]
  },
  {
   "cell_type": "code",
   "execution_count": 10,
   "metadata": {},
   "outputs": [
    {
     "name": "stdout",
     "output_type": "stream",
     "text": [
      "True\n"
     ]
    }
   ],
   "source": [
    "#9.  Give output of: \n",
    "\n",
    "if not 1:\n",
    "    print(\"False\")\n",
    "else:\n",
    "    print(\"True\")\n"
   ]
  },
  {
   "cell_type": "code",
   "execution_count": 12,
   "metadata": {},
   "outputs": [
    {
     "name": "stdout",
     "output_type": "stream",
     "text": [
      "Weird!!\n"
     ]
    }
   ],
   "source": [
    "#9.  Give output of: \n",
    "\n",
    "if 'a' > 'A':\n",
    "    print(\"Weird!!\")\n",
    "else:\n",
    "    print(\"Makes Sense\")"
   ]
  },
  {
   "cell_type": "code",
   "execution_count": 13,
   "metadata": {},
   "outputs": [
    {
     "name": "stdout",
     "output_type": "stream",
     "text": [
      "False\n"
     ]
    }
   ],
   "source": [
    "#9.  Give output of: \n",
    "\n",
    "if 1:\n",
    "    print(\"False\")\n",
    "else:\n",
    "    print(\"True\")\n"
   ]
  },
  {
   "cell_type": "code",
   "execution_count": 14,
   "metadata": {},
   "outputs": [
    {
     "name": "stdout",
     "output_type": "stream",
     "text": [
      "[4, 3, 2, 1]\n"
     ]
    }
   ],
   "source": [
    "#9.  Give output of:\n",
    "\n",
    "a=[1,2,3,4]\n",
    "if 1>1:\n",
    "    a=a[::-1]\n",
    "else :\n",
    "    a=a[-1::-1]\n",
    "print(a)"
   ]
  },
  {
   "cell_type": "code",
   "execution_count": 15,
   "metadata": {},
   "outputs": [
    {
     "name": "stdout",
     "output_type": "stream",
     "text": [
      "enter no of sub1 : 8\n",
      "enter no of sub2 : 9\n",
      "enter no of sub3: 6\n",
      "enter no of sub4: 4\n",
      "enter no of sub5: 2\n",
      "F\n"
     ]
    }
   ],
   "source": [
    "#10. WAP to input marks in 5 subjects and print the grade as per following logic: \n",
    "\n",
    "\n",
    "a=int(input(\"enter no of sub1 : \"))\n",
    "b=int(input(\"enter no of sub2 : \"))\n",
    "c=int(input(\"enter no of sub3: \"))\n",
    "d=int(input(\"enter no of sub4: \"))\n",
    "e=int(input(\"enter no of sub5: \"))\n",
    "avg=(a+b+c+d+e)/5\n",
    "\n",
    "if(avg>=90 and avg<=100):\n",
    "    print(\"A\")\n",
    "elif (avg>=80 and avg<=89):\n",
    "    print(\"B\")\n",
    "elif (avg>=60 and avg<=79):\n",
    "    print(\"C\")   \n",
    "elif (avg<60 and avg>=0):\n",
    "    print(\"F\")"
   ]
  },
  {
   "cell_type": "code",
   "execution_count": 16,
   "metadata": {},
   "outputs": [
    {
     "name": "stdout",
     "output_type": "stream",
     "text": [
      "Enter your age: 7\n",
      "Enter your salary: 8\n",
      "Tax = 0\n"
     ]
    }
   ],
   "source": [
    "#11. WAP to input age and salary and calculate Tax as per tax rates if following table\n",
    "\n",
    "age = int(input(\"Enter your age: \"))\n",
    "sal = int(input(\"Enter your salary: \"))\n",
    "\n",
    "def calc_tax(a, s):\n",
    "    if s > 1000000:\n",
    "        if age < 60:\n",
    "            t = (s * 12) / 100\n",
    "        else:\n",
    "            t = (s * 15) / 100\n",
    "    elif s > 500000:\n",
    "        if age < 60:\n",
    "            t = (s * 10) / 100\n",
    "        else:\n",
    "            t = (s * 8) / 100\n",
    "    elif s > 250000:\n",
    "        if age < 60:\n",
    "            t = (s * 5) / 100\n",
    "        else:\n",
    "            t = (s * 3) / 100\n",
    "    elif s > 0:\n",
    "        t = 0\n",
    "        \n",
    "    return t\n",
    "tax = calc_tax(age, sal)\n",
    "print(f\"Tax = {tax}\")"
   ]
  },
  {
   "cell_type": "code",
   "execution_count": 17,
   "metadata": {},
   "outputs": [
    {
     "name": "stdout",
     "output_type": "stream",
     "text": [
      "10\n",
      "10\n",
      "10\n",
      "OMG\n"
     ]
    }
   ],
   "source": [
    "#12. Try each of the below statements separately (remember difference between statement and (expression) on the python interpreter and guess the output before trying:\n",
    "\n",
    "print(20 if not 1==1 else 10)\n",
    "print(30 if not 1==1 else 20 if 'a'<'A' else 10)\n",
    "print(40 if not 1==1 else 30 if 'a'<'A' else 20 if '' else 10)\n",
    "print('No' if not 1==1 else ('No' if 'a'<'A' else ('OMG' if 'oh!!' else 'No')))"
   ]
  },
  {
   "cell_type": "code",
   "execution_count": 18,
   "metadata": {},
   "outputs": [
    {
     "name": "stdout",
     "output_type": "stream",
     "text": [
      "Enter height in cm: 175\n",
      "Enter weight in kg: 70\n",
      "BMI is:  22.86\n",
      "Overweight\n"
     ]
    }
   ],
   "source": [
    "# 13. WAF: bmi() that takes the weight in kg and height in cm of a person, calculates and returns the BMI\n",
    "# Write code that calls this function after taking height and weight as inputs and then prints\n",
    "# underweight, normal, overweight or obese depending on the value of BMI.\n",
    "\n",
    "\n",
    "height = float(input(\"Enter height in cm: \"))\n",
    "weight = float(input(\"Enter weight in kg: \"))\n",
    "height = height / 100 # convert to meters\n",
    "\n",
    "def bmi(h, w):\n",
    "    return round(w / (h * h), 2)\n",
    "\n",
    "bmi_res = bmi(height, weight)\n",
    "print(\"BMI is: \", bmi_res)\n",
    "if bmi_res > 30:\n",
    "    print(\"Obese\")\n",
    "elif bmi_res >=25:\n",
    "    print(\"Overweight\")\n",
    "elif bmi_res >=18.5:\n",
    "    print(\"Overweight\")\n",
    "elif bmi_res > 0:\n",
    "    print(\"Underweight\")"
   ]
  },
  {
   "cell_type": "code",
   "execution_count": 19,
   "metadata": {},
   "outputs": [
    {
     "name": "stdout",
     "output_type": "stream",
     "text": [
      "Enter age1: 50\n",
      "Enter age2: 10\n",
      "Enter age3: 2\n",
      "Age1\n"
     ]
    }
   ],
   "source": [
    "#14. Take input of age of 3 people by user and determine the oldest and youngest among them.\n",
    "\n",
    "age1 = int(input(\"Enter age1: \"))\n",
    "age2 = int(input(\"Enter age2: \"))\n",
    "age3 = int(input(\"Enter age3: \"))\n",
    "\n",
    "if(age1>age2 and age1>age3):\n",
    "    print(\"Age1\")\n",
    "elif(age2>age1 and age2>age3) :\n",
    "    print(\"Age2\")\n",
    "else:\n",
    "    print(\"Age3\")\n"
   ]
  },
  {
   "cell_type": "code",
   "execution_count": 20,
   "metadata": {},
   "outputs": [
    {
     "name": "stdout",
     "output_type": "stream",
     "text": [
      "5\n",
      "not divisible by 7\n"
     ]
    }
   ],
   "source": [
    "#15. WAP to input a number and check if number is divisible by both 5 and 7.\n",
    "\n",
    "a = int(input())\n",
    "\n",
    "if a%5==0 and a%7==0:\n",
    "    print(\"divisible by both\")\n",
    "elif a%5==0 and a%7!=0:\n",
    "    print(\"not divisible by 7\")\n",
    "elif a%5!=0 and a%7==0:\n",
    "    print(\"not divisible by 5\")\n",
    "else:\n",
    "    print(\"not divisible by both\")"
   ]
  },
  {
   "cell_type": "code",
   "execution_count": null,
   "metadata": {},
   "outputs": [],
   "source": []
  },
  {
   "cell_type": "code",
   "execution_count": null,
   "metadata": {},
   "outputs": [],
   "source": []
  },
  {
   "cell_type": "code",
   "execution_count": null,
   "metadata": {},
   "outputs": [],
   "source": []
  },
  {
   "cell_type": "code",
   "execution_count": null,
   "metadata": {},
   "outputs": [],
   "source": []
  }
 ],
 "metadata": {
  "kernelspec": {
   "display_name": "Python 3",
   "language": "python",
   "name": "python3"
  },
  "language_info": {
   "codemirror_mode": {
    "name": "ipython",
    "version": 3
   },
   "file_extension": ".py",
   "mimetype": "text/x-python",
   "name": "python",
   "nbconvert_exporter": "python",
   "pygments_lexer": "ipython3",
   "version": "3.8.3"
  }
 },
 "nbformat": 4,
 "nbformat_minor": 4
}
