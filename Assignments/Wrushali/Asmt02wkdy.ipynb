{
 "cells": [
  {
   "cell_type": "code",
   "execution_count": 4,
   "metadata": {},
   "outputs": [
    {
     "name": "stdout",
     "output_type": "stream",
     "text": [
      "Enter temperature in Fahrenheit500\n",
      "Temperature in 500 Far = 260.0 Deg Celcius\n"
     ]
    }
   ],
   "source": [
    "# Input in fahrenheit and convert in celcius\n",
    "\n",
    "x=input ('Enter temperature in Fahrenheit')\n",
    "x=int(x)\n",
    "print(f\"Temperature in {x} Far = \" + str((x-32)*(5/9))+ f\" Deg Celcius\")"
   ]
  },
  {
   "cell_type": "code",
   "execution_count": 5,
   "metadata": {},
   "outputs": [
    {
     "name": "stdout",
     "output_type": "stream",
     "text": [
      "Enter a number : 2\n",
      "4\n",
      "8\n"
     ]
    }
   ],
   "source": [
    "#2. Write a program to input a number and print its square and cube. \n",
    "\n",
    "n1 = int(input('Enter a number : '))\n",
    "sqr = print(n1 * n1)\n",
    "cube = print(n1*n1*n1)"
   ]
  },
  {
   "cell_type": "code",
   "execution_count": 6,
   "metadata": {},
   "outputs": [
    {
     "name": "stdout",
     "output_type": "stream",
     "text": [
      "Enter a number2\n",
      "Square of 2 = 4\n",
      "Cube of 2 = 8\n"
     ]
    }
   ],
   "source": [
    "#2. Another way to Write a program to input a number and print its square and cube. \n",
    "x=input ('Enter a number')\n",
    "x=int(x)\n",
    "print(f\"Square of {x} = \" + str(pow(x,2)))\n",
    "print(f\"Cube of {x} = \" + str(pow(x,3)))"
   ]
  },
  {
   "cell_type": "code",
   "execution_count": 7,
   "metadata": {},
   "outputs": [
    {
     "name": "stdout",
     "output_type": "stream",
     "text": [
      "Enter a number : 2\n",
      "Enter a number : 5\n",
      "Result = 29\n"
     ]
    }
   ],
   "source": [
    "#3. WAP to input a number n and a number m and print the result of following : n^2 + m^2\n",
    "\n",
    "n = int(input('Enter a number : '))\n",
    "m = int(input('Enter a number : '))\n",
    "print(f\"Result = \" + str(pow(n,2) + pow(m,2)))"
   ]
  },
  {
   "cell_type": "code",
   "execution_count": 8,
   "metadata": {},
   "outputs": [
    {
     "name": "stdout",
     "output_type": "stream",
     "text": [
      "Enter value of n 5\n",
      "Enter value of m 8\n",
      "Result = 89\n"
     ]
    }
   ],
   "source": [
    "#3. Another way to WAP to input a number n and a number m and print the result of following : n^2 + m^2\n",
    "n=int(input ('Enter value of n '))\n",
    "m=int(input ('Enter value of m '))\n",
    "\n",
    "print(f\"Result = \" + str(pow(n,2) + pow(m,2)))"
   ]
  },
  {
   "cell_type": "code",
   "execution_count": 9,
   "metadata": {},
   "outputs": [
    {
     "name": "stdout",
     "output_type": "stream",
     "text": [
      "Enter a number : 5\n",
      "Enter a number : 2\n",
      "Result = 25\n",
      "25\n"
     ]
    }
   ],
   "source": [
    "#4. WAP to input a numbers M and N and print result of M^N(use both ** and pow)\n",
    "\n",
    "M = int(input('Enter a number : '))\n",
    "N = int(input('Enter a number : '))\n",
    "print(f\"Result = \" + str(pow(M,N)))\n",
    "print(M**N)"
   ]
  },
  {
   "cell_type": "code",
   "execution_count": 11,
   "metadata": {},
   "outputs": [
    {
     "name": "stdout",
     "output_type": "stream",
     "text": [
      "Enter value of n 6\n",
      "Enter value of m 3\n",
      "Result pow(n,m)= 729\n",
      "Result pow(n,m)= 729\n"
     ]
    }
   ],
   "source": [
    "#also, \n",
    "n=int(input ('Enter value of n '))\n",
    "m=int(input ('Enter value of m '))\n",
    "\n",
    "print(f\"Result pow(n,m)= \" + str(pow(m,n)))\n",
    "print(f\"Result pow(n,m)= \" + str(m**n))\n"
   ]
  },
  {
   "cell_type": "code",
   "execution_count": 12,
   "metadata": {},
   "outputs": [
    {
     "name": "stdout",
     "output_type": "stream",
     "text": [
      "Enter principal amount 500\n",
      "Enter Rate  5\n",
      "Enter Time  30\n",
      "Simple Interest= 750.0\n"
     ]
    }
   ],
   "source": [
    "# Simple Interest Calculator\n",
    "\n",
    "p=int(input ('Enter principal amount '))\n",
    "r=float(input ('Enter Rate  '))\n",
    "t=int(input ('Enter Time  '))\n",
    "\n",
    "print(f\"Simple Interest= \" + str((p*r*t)/100))"
   ]
  },
  {
   "cell_type": "code",
   "execution_count": 13,
   "metadata": {},
   "outputs": [
    {
     "name": "stdout",
     "output_type": "stream",
     "text": [
      "Please enter principal amount : 5000\n",
      "Please enter time period : 12\n",
      "Please enter interest rate : 2\n",
      "Total amount on principal 5000.0 for duration 12.0 months with 2.0 rate of interest is 6200.0 and interest amount is 1200.0\n"
     ]
    }
   ],
   "source": [
    "#5. Write a simple interest calculator. \n",
    "\n",
    "P = float(input('Please enter principal amount : '))\n",
    "T = float(input('Please enter time period : '))\n",
    "R = float(input('Please enter interest rate : '))\n",
    "SI = (P*T*R)/100\n",
    "A = P+SI\n",
    "print(f'Total amount on principal {P} for duration {T} months with {R} rate of interest is {A} and interest amount is {SI}')"
   ]
  },
  {
   "cell_type": "code",
   "execution_count": 14,
   "metadata": {},
   "outputs": [
    {
     "name": "stdout",
     "output_type": "stream",
     "text": [
      "Enter principal amount 5000\n",
      "Enter Rate  2\n",
      "Enter Time  12\n",
      "Compount Interest=  1341.2089728127276\n",
      "Amount  6341.208972812728\n"
     ]
    }
   ],
   "source": [
    "#Calculate compount interest and amount\n",
    "\n",
    "p=int(input ('Enter principal amount '))\n",
    "r=float(input ('Enter Rate  '))\n",
    "t=int(input ('Enter Time  '))\n",
    "a=p*(pow((1+r/100),t))\n",
    "print('Compount Interest= ', (a-p))\n",
    "print('Amount ',a)\n"
   ]
  },
  {
   "cell_type": "code",
   "execution_count": 15,
   "metadata": {},
   "outputs": [
    {
     "name": "stdout",
     "output_type": "stream",
     "text": [
      "Enter value of natural number2\n",
      "Sum = 3.0\n"
     ]
    }
   ],
   "source": [
    "#Print sum of first n numbers\n",
    "n=int(input('Enter value of natural number'))\n",
    "print('Sum =',n*((n+1)/2))"
   ]
  },
  {
   "cell_type": "code",
   "execution_count": 16,
   "metadata": {},
   "outputs": [
    {
     "name": "stdout",
     "output_type": "stream",
     "text": [
      "Enter value of N 8\n",
      "Enter value of M 9\n",
      "Swapped value of N=  9\n",
      "Swapped value of M=  8\n"
     ]
    }
   ],
   "source": [
    "#Swap 2 numbers\n",
    "n=int(input('Enter value of N '))\n",
    "m=int(input('Enter value of M '))\n",
    "x=m+n\n",
    "n=x-n\n",
    "m=x-m\n",
    "print('Swapped value of N= ',n)\n",
    "print('Swapped value of M= ',m)"
   ]
  },
  {
   "cell_type": "code",
   "execution_count": 17,
   "metadata": {},
   "outputs": [
    {
     "name": "stdout",
     "output_type": "stream",
     "text": [
      "Enter Character g\n",
      "ASCII value =  103\n"
     ]
    }
   ],
   "source": [
    "#Input single character and print its ASCII\n",
    "n=input('Enter Character ')\n",
    "print('ASCII value = ',ord(n))"
   ]
  },
  {
   "cell_type": "code",
   "execution_count": 18,
   "metadata": {},
   "outputs": [
    {
     "name": "stdout",
     "output_type": "stream",
     "text": [
      "Enter Area of circle 20\n",
      "Radius  2.5237723256253437\n",
      "Circumference 15.84929020492716\n"
     ]
    }
   ],
   "source": [
    "#Calculate radius and circumference\n",
    "area=float(input('Enter Area of circle '))\n",
    "radius=((area/3.14)**0.5)\n",
    "circum=(2*3.14*radius)\n",
    "print('Radius ',radius)\n",
    "print('Circumference', circum)"
   ]
  },
  {
   "cell_type": "code",
   "execution_count": 20,
   "metadata": {},
   "outputs": [
    {
     "name": "stdout",
     "output_type": "stream",
     "text": [
      "Enter marks in maths= 66\n",
      "Enter marks in hindi= 99\n",
      "Enter marks in english= 98\n",
      "Enter marks in science= 65\n",
      "Enter marks in computers= 56\n",
      "Student % =  76.8\n"
     ]
    }
   ],
   "source": [
    "#Calculate % from 5 subjects\n",
    "s1=float(input('Enter marks in maths= '))\n",
    "s2=float(input('Enter marks in hindi= '))\n",
    "s3=float(input('Enter marks in english= '))\n",
    "s4=float(input('Enter marks in science= '))\n",
    "s5=float(input('Enter marks in computers= '))\n",
    "\n",
    "per=((s1+s2+s3+s4+s5)/5)\n",
    "\n",
    "print ('Student % = ', per)"
   ]
  },
  {
   "cell_type": "code",
   "execution_count": null,
   "metadata": {},
   "outputs": [],
   "source": []
  },
  {
   "cell_type": "code",
   "execution_count": null,
   "metadata": {},
   "outputs": [],
   "source": []
  },
  {
   "cell_type": "code",
   "execution_count": null,
   "metadata": {},
   "outputs": [],
   "source": []
  },
  {
   "cell_type": "code",
   "execution_count": null,
   "metadata": {},
   "outputs": [],
   "source": []
  },
  {
   "cell_type": "code",
   "execution_count": null,
   "metadata": {},
   "outputs": [],
   "source": []
  },
  {
   "cell_type": "code",
   "execution_count": null,
   "metadata": {},
   "outputs": [],
   "source": []
  },
  {
   "cell_type": "code",
   "execution_count": null,
   "metadata": {},
   "outputs": [],
   "source": []
  }
 ],
 "metadata": {
  "kernelspec": {
   "display_name": "Python 3",
   "language": "python",
   "name": "python3"
  },
  "language_info": {
   "codemirror_mode": {
    "name": "ipython",
    "version": 3
   },
   "file_extension": ".py",
   "mimetype": "text/x-python",
   "name": "python",
   "nbconvert_exporter": "python",
   "pygments_lexer": "ipython3",
   "version": "3.8.3"
  }
 },
 "nbformat": 4,
 "nbformat_minor": 4
}
