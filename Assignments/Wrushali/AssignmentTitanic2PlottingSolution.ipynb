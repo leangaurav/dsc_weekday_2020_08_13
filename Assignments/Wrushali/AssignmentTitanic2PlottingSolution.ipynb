{
 "cells": [
  {
   "cell_type": "raw",
   "metadata": {},
   "source": [
    "#Titanic Plotting\n",
    "# Load data generated previously from 'titanic_filtered.csv'\n",
    "# plot histogram of ages of people\n",
    "# plot no of people in each pclass on bar chart\n",
    "# plot a horizontal bar-chart depicting the ratio of males to females\n",
    "# plot a bar-chart depicting the ratio of male-survived, female-survived, male-dead, female-dead.\n",
    "# plot a stacked bar chart of number of male-survived,dead and female-survived, dead.\n",
    "# plot stacked bar of survived with different pclass in same bar.\n",
    "# plot box plot of ages of survived vs not-survived\n",
    "# plot scatter plot of ages vs survived."
   ]
  },
  {
   "cell_type": "code",
   "execution_count": 2,
   "metadata": {},
   "outputs": [],
   "source": [
    "import pandas as pd\n",
    "import matplotlib.pyplot as plt"
   ]
  },
  {
   "cell_type": "code",
   "execution_count": 4,
   "metadata": {},
   "outputs": [],
   "source": [
    "df = pd.read_csv('titanic_filtered.csv', index_col = 'Unnamed: 0')\n",
    "print(df.head())"
   ]
  },
  {
   "cell_type": "code",
   "execution_count": null,
   "metadata": {},
   "outputs": [],
   "source": [
    "# plot histogram of ages of people\n",
    "plt.figure(figsize = (15,5))\n",
    "plt.hist(df.age, bins = 20)\n",
    "plt.show()"
   ]
  },
  {
   "cell_type": "code",
   "execution_count": null,
   "metadata": {},
   "outputs": [],
   "source": [
    "grp = df.groupby('pclass')\n",
    "# method - 1\n",
    "data = grp.pclass.count()\n",
    "print(data.values)\n",
    "print(data.index)\n",
    "plt.bar(x = data.index, height = data.values)\n",
    "plt.show()\n",
    "\n",
    "# method - 2\n",
    "grp.pclass.count().plot(kind = 'bar')\n",
    "plt.show()\n",
    "\n",
    "# method - 3\n",
    "grp.pclass.value_counts().plot(kind = 'bar')\n",
    "plt.show()"
   ]
  },
  {
   "cell_type": "code",
   "execution_count": null,
   "metadata": {},
   "outputs": [],
   "source": [
    "# plot a bar-chart depicting the ratio of males to females\n",
    "data = df.gender.value_counts()\n",
    "plt.barh(data.index, data.values)\n",
    "plt.show()"
   ]
  },
  {
   "cell_type": "code",
   "execution_count": null,
   "metadata": {},
   "outputs": [],
   "source": [
    "# plot a bar-chart depicting the ratio of male-survived, female-survived, male-dead, female-dead.\n",
    "# method-1\n",
    "grp = df.groupby(['gender','survived'])\n",
    "grp.survived.count().plot(kind = 'bar')\n",
    "plt.show()\n",
    "\n",
    "# method-2: Tough one..\n",
    "grp = df.groupby(['gender','survived'])\n",
    "for key in grp.groups:\n",
    "    print(key)\n",
    "    plt.bar( str(key) , grp.get_group(key).size)\n",
    "plt.show()"
   ]
  },
  {
   "cell_type": "code",
   "execution_count": null,
   "metadata": {},
   "outputs": [],
   "source": [
    "# plot a stacked bar chart of number of male-survived,dead and female-survived, dead.\n",
    "# method - 1\n",
    "df.groupby(['gender','survived']).size().unstack().plot(kind = 'bar', stacked = True)\n",
    "plt.show()\n",
    "\n",
    "# method - 2\n",
    "alive = df[df.survived == 1]\n",
    "dead = df[df.survived == 0]\n",
    "\n",
    "res = dead.gender.value_counts()\n",
    "print(res)\n",
    "plt.bar(res.index, res.values)\n",
    "res1 = alive.gender.value_counts()[res.index]\n",
    "plt.bar(res1.index, res1.values, bottom = res.values)"
   ]
  },
  {
   "cell_type": "code",
   "execution_count": null,
   "metadata": {},
   "outputs": [],
   "source": [
    "alive.gender.value_counts()[ ['male','female']]"
   ]
  },
  {
   "cell_type": "code",
   "execution_count": null,
   "metadata": {},
   "outputs": [],
   "source": [
    "# plot stacked bar of survived with different pclass in same bar\n",
    "df.groupby(['pclass','survived']).size().unstack().plot(kind = 'bar', stacked = True)\n",
    "plt.show()\n",
    "\n",
    "\n",
    "df.groupby(['survived', 'pclass']).size().unstack().plot(kind = 'bar', stacked = True)\n",
    "plt.show()\n",
    "\n",
    "\n",
    "df.groupby(['survived', 'pclass']).size().unstack().plot(kind = 'bar')\n",
    "plt.show()"
   ]
  },
  {
   "cell_type": "code",
   "execution_count": null,
   "metadata": {},
   "outputs": [],
   "source": [
    "# plot box plot of ages of survived vs not-survived\n",
    "\n",
    "res = df.groupby('survived')\n",
    "for key in res.groups:\n",
    "    plt.boxplot(res.get_group(key).age, labels = [key])\n",
    "    plt.show()\n",
    "\n",
    "    \n",
    "df.boxplot(column=['age'], by = 'survived')\n",
    "plt.show()"
   ]
  },
  {
   "cell_type": "code",
   "execution_count": null,
   "metadata": {},
   "outputs": [],
   "source": [
    "# plot scatter plot of ages vs survived.\n",
    "plt.figure(figsize = (15,3))\n",
    "plt.scatter(df.age, df.survived, s = 20, alpha = 0.3)\n",
    "plt.show()"
   ]
  },
  {
   "cell_type": "code",
   "execution_count": null,
   "metadata": {},
   "outputs": [],
   "source": []
  },
  {
   "cell_type": "code",
   "execution_count": null,
   "metadata": {},
   "outputs": [],
   "source": []
  }
 ],
 "metadata": {
  "kernelspec": {
   "display_name": "Python 3",
   "language": "python",
   "name": "python3"
  },
  "language_info": {
   "codemirror_mode": {
    "name": "ipython",
    "version": 3
   },
   "file_extension": ".py",
   "mimetype": "text/x-python",
   "name": "python",
   "nbconvert_exporter": "python",
   "pygments_lexer": "ipython3",
   "version": "3.8.3"
  }
 },
 "nbformat": 4,
 "nbformat_minor": 4
}
