{
 "cells": [
  {
   "cell_type": "code",
   "execution_count": 3,
   "metadata": {},
   "outputs": [
    {
     "name": "stdout",
     "output_type": "stream",
     "text": [
      "enter string :how are you\n",
      "h,o,w, ,a,r,e, ,y,o,u,"
     ]
    }
   ],
   "source": [
    "# WAP to input a string and print individual characters in the string using for loop.\n",
    "n=input(\"enter string :\")\n",
    "l=len(n)\n",
    "for i in range(l):\n",
    "    print(n[i],end=',')\n"
   ]
  },
  {
   "cell_type": "code",
   "execution_count": 4,
   "metadata": {},
   "outputs": [
    {
     "name": "stdout",
     "output_type": "stream",
     "text": [
      "enter string :how are you\n",
      "print the ascii value of  h 104\n",
      "print the ascii value of  o 111\n",
      "print the ascii value of  w 119\n",
      "print the ascii value of    32\n",
      "print the ascii value of  a 97\n",
      "print the ascii value of  r 114\n",
      "print the ascii value of  e 101\n",
      "print the ascii value of    32\n",
      "print the ascii value of  y 121\n",
      "print the ascii value of  o 111\n",
      "print the ascii value of  u 117\n"
     ]
    }
   ],
   "source": [
    "# 2. WAP to input a string and print the ASCII value of each character in the string.\n",
    "#2\n",
    "n=input(\"enter string :\")\n",
    "l=len(n)\n",
    "for i in range(l):\n",
    "    print(f\"print the ascii value of \" ,n[i],ord(n[i]))"
   ]
  },
  {
   "cell_type": "code",
   "execution_count": 7,
   "metadata": {},
   "outputs": [
    {
     "name": "stdout",
     "output_type": "stream",
     "text": [
      "enter number :5\n",
      "enter number :3\n",
      "enter number :7\n",
      "enter number :1\n",
      "enter number :2\n",
      "enter number :2\n",
      "11\n"
     ]
    }
   ],
   "source": [
    "# 3. Write a function that takes a list of numbers from user as argument and returns the sum of only\n",
    "# odd numbers (Use only for loop. No need to use if statement).\n",
    "n=int(input(\"enter number :\"))\n",
    "s=0\n",
    "for i in range (0,n):\n",
    "    m=int(input(\"enter number :\"))\n",
    "    if (m%2!=0):\n",
    "        #print(m)\n",
    "        s=s+m       \n",
    "print(s)"
   ]
  },
  {
   "cell_type": "code",
   "execution_count": 8,
   "metadata": {},
   "outputs": [
    {
     "name": "stdout",
     "output_type": "stream",
     "text": [
      "How many numbers :3\n",
      "enter number:2\n",
      "enter number:6\n",
      "enter number:8\n",
      "enter new number to be added to the list  :9\n",
      "(2, 6, 8, 9)\n",
      "3\n"
     ]
    }
   ],
   "source": [
    "# 4. WAP to input a list of numbers and store in a tuple. Now input another number and print the\n",
    "# index of this number in the tuple. [Use index function]\n",
    "n=int(input(\"How many numbers :\"))\n",
    "a=[]\n",
    "for i in range(n):\n",
    "    m=int(input(\"enter number:\"))\n",
    "    a.append(m)\n",
    "z=int(input(\"enter new number to be added to the list  :\"))\n",
    "a.append(z)\n",
    "print(tuple(a))\n",
    "print(a.index(z))"
   ]
  },
  {
   "cell_type": "code",
   "execution_count": 9,
   "metadata": {},
   "outputs": [
    {
     "name": "stdout",
     "output_type": "stream",
     "text": [
      "Number at position  2 = 0.9304991516551556\n",
      "Number at position  4 = 0.18480079282003614\n",
      "Number at position  6 = 0.9034217849239307\n",
      "Number at position  8 = 0.9149848578136578\n",
      "sum  15.643162426686498\n",
      "avg 1.5643162426686499\n"
     ]
    }
   ],
   "source": [
    "# 5. Create a list of 10 random numbers and then print the list, sum of all numbers and average. Use\n",
    "# a for loop. Also print elements at only even indexes in the list.\n",
    "from random import random\n",
    "for i in range (1,10):\n",
    "    a=random()\n",
    "    if i%2==0:\n",
    "        print(\"Number at position \",i ,\"=\",a)\n",
    "    s=s+a\n",
    "print(f\"sum \", s)\n",
    "print(f\"avg\" , (s/10))"
   ]
  },
  {
   "cell_type": "code",
   "execution_count": 10,
   "metadata": {},
   "outputs": [
    {
     "name": "stdout",
     "output_type": "stream",
     "text": [
      "enter number :8\n",
      "enter number :7\n",
      "enter number :2\n",
      "enter number :4\n",
      "enter number :6\n",
      "enter number :9\n",
      "enter number :3\n",
      "enter number :1\n",
      "enter number :0\n",
      "enter number :2\n",
      "[8, 7, 2, 4, 6, 9, 3, 1, 0, 2]\n",
      "42\n"
     ]
    }
   ],
   "source": [
    "# 6. WAP to input 10 numbers repeatedly (using range based for loop) and store them in a list. Print\n",
    "# the list and sum of numbers in the list.\n",
    "a=[]\n",
    "s=0\n",
    "for i in range (0,10):\n",
    "    m=int(input(\"enter number :\"))\n",
    "    a.append(m)\n",
    "    s=s+m\n",
    "print(a)\n",
    "print(s)"
   ]
  },
  {
   "cell_type": "code",
   "execution_count": 11,
   "metadata": {},
   "outputs": [
    {
     "name": "stdout",
     "output_type": "stream",
     "text": [
      "enter number :7\n",
      "7 * 1 = 7\n",
      "7 * 2 = 14\n",
      "7 * 3 = 21\n",
      "7 * 4 = 28\n",
      "7 * 5 = 35\n",
      "7 * 6 = 42\n",
      "7 * 7 = 49\n",
      "7 * 8 = 56\n",
      "7 * 9 = 63\n",
      "7 * 10 = 70\n"
     ]
    }
   ],
   "source": [
    "# 7. WAP to input a number and print its table. Ex: if user enters the number as 7, output should be \n",
    "m=int(input(\"enter number :\"))\n",
    "for i in range (1,11):\n",
    "    print( m ,\"*\", i ,\"=\",m*i)"
   ]
  },
  {
   "cell_type": "code",
   "execution_count": 12,
   "metadata": {},
   "outputs": [
    {
     "name": "stdout",
     "output_type": "stream",
     "text": [
      "enter string :how are you\n",
      "2\n"
     ]
    }
   ],
   "source": [
    "# 8. WAP to print total number of spaces in a string (Use for loop to iterate over the string. Don’t use\n",
    "# count function).\n",
    "m=input(\"enter string :\")\n",
    "l=len(m)\n",
    "s=0\n",
    "for i in range (l):\n",
    "    if (m[i]==' '):\n",
    "        s=s+1\n",
    "print(s)"
   ]
  },
  {
   "cell_type": "code",
   "execution_count": 13,
   "metadata": {},
   "outputs": [
    {
     "name": "stdout",
     "output_type": "stream",
     "text": [
      "enter string :hello\n",
      "2\n"
     ]
    }
   ],
   "source": [
    "# 9. WAP to input a string and count number of vowels in the string. [Note: it should work for both\n",
    "# capital and small alphabets]\n",
    "m=input(\"enter string :\")\n",
    "x=m.lower()\n",
    "l=len(m)\n",
    "s=0\n",
    "for i in range (l):\n",
    "    if (x[i] in 'aeiou'):\n",
    "        s=s+1\n",
    "print(s)"
   ]
  },
  {
   "cell_type": "code",
   "execution_count": 1,
   "metadata": {},
   "outputs": [
    {
     "name": "stdout",
     "output_type": "stream",
     "text": [
      "enter string :how are you\n",
      "['h', 'o', 'w', ' ', 'a', 'r', 'e', ' ', 'y', 'o', 'u']\n",
      "h__w_ __r__ _y__\n"
     ]
    }
   ],
   "source": [
    "# 10. WAP to input a string and replace all vowels with ‘_’.\n",
    "# [Hint: Convert string to list. Remember!! Strings are immutable. Replace in the list and then join]\n",
    "\n",
    "m=input(\"enter string :\")\n",
    "x=m.lower()\n",
    "y=list(x)\n",
    "print(y)\n",
    "l=len(y)\n",
    "s=0\n",
    "for i in range (l):\n",
    "    if y[i].isalpha()==True :\n",
    "        if y[i]  in 'aeiou':\n",
    "            y[i]=''\n",
    "y='_'.join(y)\n",
    "print(y)"
   ]
  },
  {
   "cell_type": "code",
   "execution_count": null,
   "metadata": {},
   "outputs": [],
   "source": [
    "# 11. Find output: "
   ]
  },
  {
   "cell_type": "code",
   "execution_count": null,
   "metadata": {},
   "outputs": [],
   "source": [
    "#12. Find the output of the following code snippets. "
   ]
  }
 ],
 "metadata": {
  "kernelspec": {
   "display_name": "Python 3",
   "language": "python",
   "name": "python3"
  },
  "language_info": {
   "codemirror_mode": {
    "name": "ipython",
    "version": 3
   },
   "file_extension": ".py",
   "mimetype": "text/x-python",
   "name": "python",
   "nbconvert_exporter": "python",
   "pygments_lexer": "ipython3",
   "version": "3.8.3"
  }
 },
 "nbformat": 4,
 "nbformat_minor": 4
}
