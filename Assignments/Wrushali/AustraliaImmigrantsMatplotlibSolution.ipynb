{
 "cells": [
  {
   "cell_type": "code",
   "execution_count": null,
   "metadata": {},
   "outputs": [],
   "source": [
    "# Use AustraliaFiltered.xlsx dataset generated earlier.\n",
    "# Plot bar chart of total no of immigrants for countires top 5 countires having max no of total immigrants\n",
    "# Find total immigrants from each category by area name and plot barchart for each area\n",
    "# Plot total immigration trend(immigration of world over the years i.e. year vs Total count for that year) using line plot.\n",
    "# Compare Immigration Trend for Asia, Africa and Europe AreaName (Use Line plot).\n",
    "# Plot Total Immigrants based on DevelopmenRegion\n",
    "# Plot immigration trend for India using line plot\n",
    "# Plot immigration Trend(year vs count) for the coutries with top 5 total immigrants. Use Line plot\n",
    "# For the above use area plot with alpha = 0.5\n",
    "# Compare Immigration Trend for top-5 countires using stacked area plot"
   ]
  },
  {
   "cell_type": "code",
   "execution_count": 2,
   "metadata": {},
   "outputs": [],
   "source": [
    "import pandas as pd\n",
    "import matplotlib.pyplot as plt"
   ]
  },
  {
   "cell_type": "code",
   "execution_count": 1,
   "metadata": {},
   "outputs": [
    {
     "ename": "NameError",
     "evalue": "name 'pd' is not defined",
     "output_type": "error",
     "traceback": [
      "\u001b[1;31m---------------------------------------------------------------------------\u001b[0m",
      "\u001b[1;31mNameError\u001b[0m                                 Traceback (most recent call last)",
      "\u001b[1;32m<ipython-input-1-94622d6a0d7f>\u001b[0m in \u001b[0;36m<module>\u001b[1;34m\u001b[0m\n\u001b[1;32m----> 1\u001b[1;33m \u001b[0mdf\u001b[0m \u001b[1;33m=\u001b[0m \u001b[0mpd\u001b[0m\u001b[1;33m.\u001b[0m\u001b[0mread_excel\u001b[0m\u001b[1;33m(\u001b[0m\u001b[1;34m'AustraliaFiltered.xlsx'\u001b[0m\u001b[1;33m)\u001b[0m\u001b[1;33m\u001b[0m\u001b[1;33m\u001b[0m\u001b[0m\n\u001b[0m\u001b[0;32m      2\u001b[0m \u001b[0mprint\u001b[0m\u001b[1;33m(\u001b[0m\u001b[0mdf\u001b[0m\u001b[1;33m.\u001b[0m\u001b[0mhead\u001b[0m\u001b[1;33m(\u001b[0m\u001b[1;33m)\u001b[0m\u001b[1;33m)\u001b[0m\u001b[1;33m\u001b[0m\u001b[1;33m\u001b[0m\u001b[0m\n",
      "\u001b[1;31mNameError\u001b[0m: name 'pd' is not defined"
     ]
    }
   ],
   "source": [
    "df = pd.read_excel('AustraliaFiltered.xlsx')\n",
    "print(df.head())"
   ]
  },
  {
   "cell_type": "code",
   "execution_count": null,
   "metadata": {},
   "outputs": [],
   "source": []
  },
  {
   "cell_type": "code",
   "execution_count": null,
   "metadata": {},
   "outputs": [],
   "source": [
    "# Plot bar chart of total no of immigrants for countires top 5 countires \n",
    "# having max no of total immigrants\n",
    "data = df.sort_values(by = 'Total').tail() \n",
    "plt.bar(data.Country.values, data.Total.values)\n",
    "plt.xticks(rotation = 90)\n",
    "\n",
    "data.plot(x = 'Country', y = 'Total', kind = 'bar')\n",
    "\n",
    "plt.show()"
   ]
  },
  {
   "cell_type": "code",
   "execution_count": null,
   "metadata": {},
   "outputs": [],
   "source": [
    "# Find total immigrants from each category by area name and plot barchart for each area\n",
    "grp = df.groupby('AreaName')\n",
    "\n",
    "#pandas\n",
    "# get sum for Total Column on the group object => gives a series\n",
    "data = grp.Total.sum()\n",
    "print(data)\n",
    "data.plot(kind = 'bar')\n",
    "plt.show()\n",
    "\n",
    "plt.bar(data.index, data.values)\n",
    "plt.xticks(rotation = 90)\n",
    "plt.title('Using Matplotlib')\n",
    "plt.show()"
   ]
  },
  {
   "cell_type": "code",
   "execution_count": null,
   "metadata": {},
   "outputs": [],
   "source": [
    "# Plot total immigration trend(immigration of world over the years i.e. year vs Total count for that year) using line plot.\n",
    "\n",
    "#recalculate the total for each year since we dropped the total row earlier\n",
    "world = df.loc[:, '1980':'2008'].sum()\n",
    "print(world.to_frame().T)\n",
    "\n",
    "world.plot(kind = 'line')\n",
    "\n",
    "# try using matplotlib yourself  :-P"
   ]
  },
  {
   "cell_type": "code",
   "execution_count": null,
   "metadata": {},
   "outputs": [],
   "source": [
    "\n",
    "# Compare Immigration Trend for Asia, Africa and Europe Areas (Use Line plot).\n",
    "\n",
    "plt.figure(figsize = (15,6))\n",
    "grp = df.groupby('AreaName')\n",
    "\n",
    "asia = grp.get_group('Asia').loc[:,'1980':'2008'].sum()\n",
    "plt.plot(asia, label = 'Asia')\n",
    "\n",
    "asia = grp.get_group('Africa').loc[:,'1980':'2008'].sum()\n",
    "plt.plot(asia, label = 'Africa')\n",
    "\n",
    "asia = grp.get_group('Europe').loc[:,'1980':'2008'].sum()\n",
    "plt.plot(asia, label = 'Europe')\n",
    "\n",
    "plt.legend()\n",
    "plt.xticks(rotation = 90)\n",
    "plt.show()"
   ]
  },
  {
   "cell_type": "code",
   "execution_count": null,
   "metadata": {},
   "outputs": [],
   "source": [
    "# Plot Total Immigrants based on DevelopmenRegion \n",
    "\n",
    "plt.figure(figsize=(16,5))\n",
    "\n",
    "years = map(str, list(range(1980,2009)))\n",
    "years = list(years)\n",
    "\n",
    "res = df.groupby('AreaName')[years].sum() # group by area and take out years data\n",
    "for row in res.index:\n",
    "    plt.plot(res.loc[row], label = row)\n",
    "    \n",
    "plt.xticks(rotation = 90)\n",
    "plt.legend()\n",
    "plt.show()"
   ]
  },
  {
   "cell_type": "code",
   "execution_count": null,
   "metadata": {},
   "outputs": [],
   "source": [
    "\n",
    "# Plot immigration trend for India using line plot\n",
    "\n",
    "idx = df.index[df.Country == 'India']\n",
    "data = df.loc[idx].loc[:, '1980': '2008'].T\n",
    "data.plot(kind = 'line')\n",
    "plt.show()"
   ]
  },
  {
   "cell_type": "code",
   "execution_count": null,
   "metadata": {},
   "outputs": [],
   "source": [
    "# Plot immigration Trend(year vs count) for the coutries with top 5 total immigrants. Use Line plot\n",
    "\n",
    "plt.figure(figsize=(16,5))\n",
    "data = df.sort_values(by = 'Total', ascending= False).head()\n",
    "label = data.Country\n",
    "values = data.loc[:,'1980':'2008']\n",
    "\n",
    "\n",
    "df1 = pd.DataFrame(values.T)\n",
    "df1.columns = label\n",
    "\n",
    "\n",
    "df1.plot(kind = 'line')\n",
    "plt.legend(fontsize=5)\n",
    "plt.show()"
   ]
  },
  {
   "cell_type": "code",
   "execution_count": null,
   "metadata": {},
   "outputs": [],
   "source": [
    "# For the above use area plot with alpha = 0.5\n",
    "plt.figure(figsize=(16,5))\n",
    "data = df.sort_values(by = 'Total', ascending= False).head()\n",
    "label = data.Country\n",
    "values = data.loc[:,'1980':'2008']\n",
    "\n",
    "# build a dataframe to represent Data\n",
    "df1 = pd.DataFrame(values.T)\n",
    "df1.columns = label\n",
    "\n",
    "\n",
    "df1.plot(kind = 'area', stacked = False, alpha = 0.5)\n",
    "plt.legend(fontsize=5)\n",
    "plt.show()"
   ]
  },
  {
   "cell_type": "code",
   "execution_count": null,
   "metadata": {},
   "outputs": [],
   "source": [
    "# Compare Immigration Trend for top-5 countires using stacked area plot\n",
    "# For the above use area plot with alpha = 0.5\n",
    "plt.figure(figsize=(16,5))\n",
    "data = df.sort_values(by = 'Total', ascending= False).head()\n",
    "label = data.Country\n",
    "values = data.loc[:,'1980':'2008']\n",
    "\n",
    "\n",
    "df1 = pd.DataFrame(values.T)\n",
    "df1.columns = label\n",
    "\n",
    "df1.plot(kind = 'area', stacked = True)\n",
    "plt.legend(fontsize=5)\n",
    "plt.show()"
   ]
  },
  {
   "cell_type": "code",
   "execution_count": null,
   "metadata": {},
   "outputs": [],
   "source": []
  },
  {
   "cell_type": "code",
   "execution_count": null,
   "metadata": {},
   "outputs": [],
   "source": []
  },
  {
   "cell_type": "code",
   "execution_count": null,
   "metadata": {},
   "outputs": [],
   "source": []
  },
  {
   "cell_type": "code",
   "execution_count": null,
   "metadata": {},
   "outputs": [],
   "source": []
  },
  {
   "cell_type": "code",
   "execution_count": null,
   "metadata": {},
   "outputs": [],
   "source": []
  },
  {
   "cell_type": "code",
   "execution_count": null,
   "metadata": {},
   "outputs": [],
   "source": []
  }
 ],
 "metadata": {
  "kernelspec": {
   "display_name": "Python 3",
   "language": "python",
   "name": "python3"
  },
  "language_info": {
   "codemirror_mode": {
    "name": "ipython",
    "version": 3
   },
   "file_extension": ".py",
   "mimetype": "text/x-python",
   "name": "python",
   "nbconvert_exporter": "python",
   "pygments_lexer": "ipython3",
   "version": "3.8.3"
  }
 },
 "nbformat": 4,
 "nbformat_minor": 4
}
