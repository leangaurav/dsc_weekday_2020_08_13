{
 "cells": [
  {
   "cell_type": "code",
   "execution_count": 14,
   "metadata": {},
   "outputs": [
    {
     "data": {
      "text/plain": [
       "[[7], [6], [5], [4], [3], [2], [1], [0]]"
      ]
     },
     "execution_count": 14,
     "metadata": {},
     "output_type": "execute_result"
    }
   ],
   "source": [
    "#reverse_list() that takes a list as argument and reverse the elements of the list in place \n",
    "# (use indexing operations, not any function or slicing)\n",
    "def reverse_list(list):\n",
    "    r = []\n",
    "    for i in range(len(list)-1,-1,-1):\n",
    "        r.append([i])\n",
    "    return r\n",
    "reverse_list([1,2,3,4,5,6,7,8])"
   ]
  },
  {
   "cell_type": "code",
   "execution_count": 3,
   "metadata": {},
   "outputs": [
    {
     "data": {
      "text/plain": [
       "'number of even numbers = 4 and number of odd numbers = 5'"
      ]
     },
     "execution_count": 3,
     "metadata": {},
     "output_type": "execute_result"
    }
   ],
   "source": [
    "# WAF count_even_odd() that counts and returns how many numbers \n",
    "# are even are even and how many are odd in a list of numbers passed as arguments\n",
    "\n",
    "def count_even_odd(list):\n",
    "    ec = 0\n",
    "    oc = 0\n",
    "    for i in range(len(list)-1,-1,-1):\n",
    "        if(list[i] % 2 == 0):\n",
    "            ec+=1\n",
    "        else:\n",
    "            oc+=1\n",
    "    return \"number of even numbers = \" + str(ec) + \" and \" + \"number of odd numbers = \" + str(oc)\n",
    "count_even_odd([1,2,3,4,5,6,7,8,9])"
   ]
  },
  {
   "cell_type": "code",
   "execution_count": 4,
   "metadata": {},
   "outputs": [
    {
     "data": {
      "text/plain": [
       "'maximum number from the list is : 35565'"
      ]
     },
     "execution_count": 4,
     "metadata": {},
     "output_type": "execute_result"
    }
   ],
   "source": [
    "# maximum() to return the largest number in the list\n",
    "def maximum(list):\n",
    "    max = 0\n",
    "    for i in range(len(list)-1,-1,-1):\n",
    "        if(max > list[i]):\n",
    "            max=max\n",
    "        else:\n",
    "            max=list[i]\n",
    "    return \"maximum number from the list is : \" + str(max)\n",
    "maximum((1110,2,35565,35565,565,66,7,8,-999))"
   ]
  },
  {
   "cell_type": "code",
   "execution_count": 5,
   "metadata": {},
   "outputs": [
    {
     "data": {
      "text/plain": [
       "'Second maximum number from the list is : 1110'"
      ]
     },
     "execution_count": 5,
     "metadata": {},
     "output_type": "execute_result"
    }
   ],
   "source": [
    "# second maximum() create a new version of the number to return a second largest numbert in the list\n",
    "def second_maximum(list):\n",
    "    l=[] #uniqueList\n",
    "    for i in list:\n",
    "        if i not in l:\n",
    "            l.append(i)\n",
    "    l.sort(reverse=True)\n",
    "    return \"Second maximum number from the list is : \" + str(l[1])\n",
    "second_maximum([1110,2,35565,35565,565,66,7,8,-999])"
   ]
  },
  {
   "cell_type": "code",
   "execution_count": 6,
   "metadata": {},
   "outputs": [
    {
     "data": {
      "text/plain": [
       "12.5"
      ]
     },
     "execution_count": 6,
     "metadata": {},
     "output_type": "execute_result"
    }
   ],
   "source": [
    "# mean() that returns the mean of the numbers given\n",
    "def mean(list):\n",
    "    s=sum(list)\n",
    "    n=len(list)\n",
    "    mean = s/n\n",
    "    return mean\n",
    "mean((10,10,10,20))"
   ]
  },
  {
   "cell_type": "code",
   "execution_count": 7,
   "metadata": {},
   "outputs": [
    {
     "data": {
      "text/plain": [
       "[5, 8, 7]"
      ]
     },
     "execution_count": 7,
     "metadata": {},
     "output_type": "execute_result"
    }
   ],
   "source": [
    "# find_in_range that takes 3 arguments : alist, start, end the functiopn retuns the new new list of numbers \n",
    "# from the original list, start and end to find the \n",
    "def find_in_range(list,start,end):\n",
    "    l=[]\n",
    "    for i in list:\n",
    "        if(i==start or (i> start and i<end)):\n",
    "            l.append(i)\n",
    "    return l\n",
    "find_in_range([3,10,5,8,2,7],5,9)"
   ]
  },
  {
   "cell_type": "code",
   "execution_count": null,
   "metadata": {},
   "outputs": [],
   "source": []
  },
  {
   "cell_type": "code",
   "execution_count": null,
   "metadata": {},
   "outputs": [],
   "source": []
  },
  {
   "cell_type": "code",
   "execution_count": null,
   "metadata": {},
   "outputs": [],
   "source": []
  },
  {
   "cell_type": "code",
   "execution_count": null,
   "metadata": {},
   "outputs": [],
   "source": []
  },
  {
   "cell_type": "code",
   "execution_count": null,
   "metadata": {},
   "outputs": [],
   "source": []
  },
  {
   "cell_type": "code",
   "execution_count": null,
   "metadata": {},
   "outputs": [],
   "source": []
  },
  {
   "cell_type": "code",
   "execution_count": null,
   "metadata": {},
   "outputs": [],
   "source": []
  },
  {
   "cell_type": "code",
   "execution_count": null,
   "metadata": {},
   "outputs": [],
   "source": []
  },
  {
   "cell_type": "code",
   "execution_count": null,
   "metadata": {},
   "outputs": [],
   "source": []
  }
 ],
 "metadata": {
  "kernelspec": {
   "display_name": "Python 3",
   "language": "python",
   "name": "python3"
  },
  "language_info": {
   "codemirror_mode": {
    "name": "ipython",
    "version": 3
   },
   "file_extension": ".py",
   "mimetype": "text/x-python",
   "name": "python",
   "nbconvert_exporter": "python",
   "pygments_lexer": "ipython3",
   "version": "3.8.3"
  }
 },
 "nbformat": 4,
 "nbformat_minor": 4
}
