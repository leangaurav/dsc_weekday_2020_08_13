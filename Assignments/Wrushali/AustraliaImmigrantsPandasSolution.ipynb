{
 "cells": [
  {
   "cell_type": "code",
   "execution_count": null,
   "metadata": {},
   "outputs": [],
   "source": [
    "          "
   ]
  },
  {
   "cell_type": "code",
   "execution_count": null,
   "metadata": {},
   "outputs": [],
   "source": [
    "import pandas as pd\n",
    "import numpy as np"
   ]
  },
  {
   "cell_type": "code",
   "execution_count": null,
   "metadata": {},
   "outputs": [],
   "source": [
    "# Read sheet \"Australia by Residence\" from Australia.xlsx\n",
    "# Ignore the first 20 rows.\n",
    "df = pd.read_excel('Australia.xlsx', sheet_name = 'Australia by Residence', skiprows = 20)"
   ]
  },
  {
   "cell_type": "code",
   "execution_count": null,
   "metadata": {},
   "outputs": [],
   "source": [
    "# List all Column and Row indexes(Print their names)\n",
    "print(df.columns)\n",
    "print(df.index)\n",
    "\n",
    "print();print()\n",
    "print(df.columns.values)\n",
    "\n",
    "print();print()\n",
    "print(df.head())"
   ]
  },
  {
   "cell_type": "code",
   "execution_count": null,
   "metadata": {},
   "outputs": [],
   "source": [
    "\n",
    "# Describe the dataset\n",
    "print(df.describe(include = 'all'))"
   ]
  },
  {
   "cell_type": "code",
   "execution_count": null,
   "metadata": {},
   "outputs": [],
   "source": [
    "# Use values and index attributes on both Row and Column Indexes\n",
    "print(df.columns.values)\n",
    "print(dir(df.columns))#.index)"
   ]
  },
  {
   "cell_type": "code",
   "execution_count": null,
   "metadata": {},
   "outputs": [],
   "source": [
    "# Check Shape, Datatypes and other attributes\n",
    "print(df.shape)\n",
    "print(df.dtypes)"
   ]
  },
  {
   "cell_type": "code",
   "execution_count": null,
   "metadata": {},
   "outputs": [],
   "source": [
    "# Delete all Data where the Type = \"Emigrants\" or Type is not \"Immigrants\" (Row Deletion)\n",
    "data_to_delete = df[df.Type == 'Emigrants']\n",
    "df.drop(data_to_delete.index, inplace = True)\n",
    "\n",
    "print(df.head())"
   ]
  },
  {
   "cell_type": "code",
   "execution_count": null,
   "metadata": {},
   "outputs": [],
   "source": [
    "# Find columns for which more than 50% data is missing and drop them (Column Deletion)\n",
    "print(df.isna().count().to_frame().T) # check any missing data\n",
    "# to_frame().T is just to display in single row instead of as a column\n",
    "\n",
    "# actually data contains ''..'' instead of Nan\n",
    "# either replace .. with Nan and then drop or just drop data with ..\n",
    "df.replace('..', np.nan, inplace = True)\n",
    "df.dropna(axis = 1, inplace = True)\n",
    "print(df.head())"
   ]
  },
  {
   "cell_type": "code",
   "execution_count": null,
   "metadata": {},
   "outputs": [],
   "source": [
    "# Drop Unnessary Columns: Type, Coverage, Area, Reg, Dev (Column deletion)\n",
    "# Your columns should now look like \"OdName,AreaName,RegName,DevName,1980 ... 2008\"\n",
    "df.drop(columns = ['Type', 'Coverage', 'AREA', 'REG', 'DEV'], inplace = True)\n",
    "print(df.columns)"
   ]
  },
  {
   "cell_type": "code",
   "execution_count": null,
   "metadata": {},
   "outputs": [],
   "source": [
    "# Rename columns :OdName -> Country; RegName -> Region\n",
    "df.rename({'OdName': 'Country', 'RegName': 'Region'}, axis = 1, inplace = True)\n",
    "print(df.columns"
   ]
  },
  {
   "cell_type": "code",
   "execution_count": null,
   "metadata": {},
   "outputs": [],
   "source": [
    "# Convert Column Names with Int type to Strings to avoid index errors with string indexing \"1980, 1981 etc.\" => \" '1980', '1981' ... \" (Use rename)\n",
    "\n",
    "columns_int = filter(lambda x: isinstance(x, int), df.columns)  # gives columns which are int\n",
    "columns_int = list(columns_int)\n",
    "\n",
    "# create a map of int and string columns\n",
    "columns_map = dict(   map(   lambda x: (x,str(x)), columns_int  )    )\n",
    "print(columns_int); print()\n",
    "print(columns_map)\n",
    "\n",
    "df.rename(columns_map, axis = 1, inplace = True)\n",
    "print(df.columns)"
   ]
  },
  {
   "cell_type": "code",
   "execution_count": null,
   "metadata": {},
   "outputs": [],
   "source": [
    "# Find Total number of immigrants for all years, and create a new column Total in data Frame\n",
    "df['Total'] = df.loc['1980':].sum(axis = 1)\n",
    "print(df.head())"
   ]
  },
  {
   "cell_type": "code",
   "execution_count": null,
   "metadata": {},
   "outputs": [],
   "source": [
    "\n",
    "# Sort Data by the new column Total in descending order and analyze the fist few rows. (get first few rows using head)\n",
    "#     find something weird in the dataset ? Delete that row 'world'\n",
    "print(df.sort_values(by = 'Total', ascending = False).head())"
   ]
  },
  {
   "cell_type": "code",
   "execution_count": null,
   "metadata": {},
   "outputs": [],
   "source": [
    "\n",
    "# Analyze last few rows also in the sorted result (Don't sort inplace)"
   ]
  },
  {
   "cell_type": "code",
   "execution_count": null,
   "metadata": {},
   "outputs": [],
   "source": [
    "\n",
    "# Check if these have all unique values or not:\n",
    "#   - countries\n",
    "#   - continents\n",
    "#   - country continent pairs\n",
    "\n",
    "print(df.Country.is_unique)\n",
    "print(df.AreaName.is_unique)\n",
    "\n",
    "# get a series containing True for any duplicate  pair\n",
    "duplicates = df.duplicated(subset = ['Country', 'AreaName'], )\n",
    "print(duplicates.to_frame().T)\n",
    "\n",
    "print(\"Duplicate Pairs : \", duplicates.any()) # finally check if any row is duplicate"
   ]
  },
  {
   "cell_type": "code",
   "execution_count": null,
   "metadata": {},
   "outputs": [],
   "source": [
    "# Find countries for which no of immigrants for all years is 0\n",
    "print(df[df.Total == 0].Country); print()\n",
    "# Find count of above countries\n",
    "print(df[df.Total == 0].Country.size); print()"
   ]
  },
  {
   "cell_type": "code",
   "execution_count": null,
   "metadata": {},
   "outputs": [],
   "source": [
    "# Find countries for which no of immigrants is 0 for any year\n",
    "idx = (df.loc['1980':] == 0).any(1) # index of countries where any row has zero\n",
    "print( df.Country[idx])"
   ]
  },
  {
   "cell_type": "code",
   "execution_count": null,
   "metadata": {},
   "outputs": [],
   "source": [
    "# Drop the row where AreaName is 'World'\n",
    "df.drop( df.index[df.AreaName == 'World'], inplace = True )\n",
    "print(df.tail())"
   ]
  },
  {
   "cell_type": "code",
   "execution_count": null,
   "metadata": {},
   "outputs": [],
   "source": [
    "# Save the dataset to a new file AustraliaFiltered.xlsx\n",
    "df.to_excel('AustraliaFiltered.xlsx')"
   ]
  },
  {
   "cell_type": "code",
   "execution_count": null,
   "metadata": {},
   "outputs": [],
   "source": []
  },
  {
   "cell_type": "code",
   "execution_count": null,
   "metadata": {},
   "outputs": [],
   "source": []
  }
 ],
 "metadata": {
  "kernelspec": {
   "display_name": "Python 3",
   "language": "python",
   "name": "python3"
  },
  "language_info": {
   "codemirror_mode": {
    "name": "ipython",
    "version": 3
   },
   "file_extension": ".py",
   "mimetype": "text/x-python",
   "name": "python",
   "nbconvert_exporter": "python",
   "pygments_lexer": "ipython3",
   "version": "3.8.3"
  }
 },
 "nbformat": 4,
 "nbformat_minor": 4
}
