{
 "cells": [
  {
   "cell_type": "code",
   "execution_count": 7,
   "metadata": {},
   "outputs": [],
   "source": [
    "#Write a program in python that stores alphabets from a to z in a text file.\n",
    "with open(\"temp1.txt\",'w') as f:\n",
    "    for i in range(97,122):\n",
    "        print(chr(i),file=f, end=' ')"
   ]
  },
  {
   "cell_type": "code",
   "execution_count": 8,
   "metadata": {},
   "outputs": [
    {
     "name": "stdout",
     "output_type": "stream",
     "text": [
      "\"\"\"Entry point for launching an IPython kernel.\n",
      "\n",
      "This is separate from the ipykernel package so we can avoid doing imports until\n",
      "after removing the cwd from sys.path.\n",
      "\"\"\"\n",
      "\n",
      "import sys\n",
      "\n",
      "if __name__ == '__main__':\n",
      "    # Remove the CWD from sys.path while we load stuff.\n",
      "    # This is added back by InteractiveShellApp.init_path()\n",
      "    if sys.path[0] == '':\n",
      "        del sys.path[0]\n",
      "\n",
      "    from ipykernel import kernelapp as app\n",
      "    app.launch_new_instance()\n",
      "\n"
     ]
    }
   ],
   "source": [
    "#Write a program to read itself and print on the screen (Use Command Line Arguments).\n",
    "import sys\n",
    "file_name=sys.argv[0]\n",
    "with open(file_name,'r') as f:\n",
    "    print(f.read())"
   ]
  },
  {
   "cell_type": "code",
   "execution_count": 9,
   "metadata": {},
   "outputs": [
    {
     "name": "stdout",
     "output_type": "stream",
     "text": [
      "0\n",
      "line\n",
      "4\n"
     ]
    }
   ],
   "source": [
    "#Predict output of the following piece of code:\n",
    "\n",
    "f=open('file','w')\n",
    "f.write('line with some characters')\n",
    "f.close()\n",
    "\n",
    "f=open('file','r')\n",
    "print(f.tell())\n",
    "print(f.read(4))\n",
    "print(f.tell())"
   ]
  },
  {
   "cell_type": "code",
   "execution_count": 10,
   "metadata": {},
   "outputs": [
    {
     "name": "stdout",
     "output_type": "stream",
     "text": [
      "invalid file\n"
     ]
    }
   ],
   "source": [
    "#Write a program to read a file and copy it into a new file\n",
    "\n",
    "import sys\n",
    "if len(sys.argv)>=2:\n",
    "\tsrc_file=sys.argv[1]\n",
    "\tdot_index=src_file.rfind(\".\")\n",
    "\ttgt_file=src_file[:dot_index]+\"_copy\"+src_file[dot_index:]\n",
    "\ttry:\n",
    "\t\twith open(src_file,'r') as source:\n",
    "\t\t\twith open(tgt_file ,'w') as target:\n",
    "\t\t\t\ttext=source.read()\n",
    "\t\t\t\ttarget.write(text)\n",
    "\t\t\twith open(tgt_file,'r') as target:\n",
    "\t\t\t\tprint(target.read())\n",
    "\texcept:\n",
    "\t\tprint(\"invalid file\")"
   ]
  },
  {
   "cell_type": "code",
   "execution_count": 11,
   "metadata": {},
   "outputs": [
    {
     "name": "stdout",
     "output_type": "stream",
     "text": [
      "invalid file\n"
     ]
    }
   ],
   "source": [
    "#Write a program to read a file and copy the contents to a new file such that the case gets\n",
    "#reversed. i.e. upper case becomes lower case and vice versa.\n",
    "\n",
    "import sys\n",
    "if len(sys.argv)>=2:\n",
    "\tsrc_file=sys.argv[1]\n",
    "\tdot_index=src_file.rfind(\".\")\n",
    "\ttgt_file=src_file[:dot_index]+\"_copy\"+src_file[dot_index:]\n",
    "\ttry:\n",
    "\t\twith open(src_file,'r') as source:\n",
    "\t\t\twith open(tgt_file ,'w') as target:\n",
    "\t\t\t\ttext=source.read()\n",
    "\t\t\t\ttarget.write(text.swapcase())\n",
    "\t\tprint(\"Below is copied file output\")\n",
    "\t\twith open(tgt_file,'r') as target:\n",
    "\t\t\tprint(target.read())\n",
    "\texcept:\n",
    "\t\tprint(\"invalid file\")"
   ]
  },
  {
   "cell_type": "code",
   "execution_count": 12,
   "metadata": {},
   "outputs": [
    {
     "name": "stdout",
     "output_type": "stream",
     "text": [
      "invalid file\n"
     ]
    }
   ],
   "source": [
    "#Write a program that take a file name as command line argument, opens it and then counts\n",
    "#number of space characters in that file.\n",
    "\n",
    "import sys\n",
    "if len(sys.argv)>=2:\n",
    "\tsrc_file=sys.argv[1]\n",
    "\ttry:\n",
    "\t\twith open(src_file,'r') as source:\n",
    "\t\t\ttext=source.read()\n",
    "\t\t\tc=0\n",
    "\t\t\tfor i in text:\n",
    "\t\t\t\tif (i==\" \"):\n",
    "\t\t\t\t\tc=c+1\n",
    "\t\t\tprint(text)\n",
    "\t\t\tprint(f\"number of spaces in the text\",c)\n",
    "\t\t\tprint(source.read())\n",
    "\texcept:\n",
    "\t\tprint(\"invalid file\")"
   ]
  },
  {
   "cell_type": "code",
   "execution_count": 13,
   "metadata": {},
   "outputs": [
    {
     "name": "stdout",
     "output_type": "stream",
     "text": [
      "invalid file\n"
     ]
    }
   ],
   "source": [
    "#Write a script called diff.py that take two file names as arguments and checks if the content of\n",
    "#both the files is same and prints true or false.\n",
    "\n",
    "import sys\n",
    "if len(sys.argv)>=2:\n",
    "\tsrc_file=sys.argv[1]\n",
    "\ttry:\n",
    "\t\twith open(src_file,'r') as source:\n",
    "\t\t\ttext=source.read()\n",
    "\t\t\tc_alpha=0\n",
    "\t\t\tc_space=0\n",
    "\t\t\tc_spech=0\n",
    "\t\t\tc_numb=0\n",
    "\t\t\tfor i in text:\n",
    "\t\t\t\tif (i==\" \"):\n",
    "\t\t\t\t\tc_space=c_space+1\n",
    "\t\t\t\telif i.isalpha()==True:\n",
    "\t\t\t\t\tc_alpha=c_alpha+1\n",
    "\t\t\t\telif i in (\"[@_!#$%^&*()<>?/|}{~:]-\") :\n",
    "\t\t\t\t\tc_spech=c_spech+1\n",
    "\t\t\t\telif i.isdigit()==True:\n",
    "\t\t\t\t\tc_numb=c_numb+1\n",
    "\t\t\t\n",
    "\t\t\tprint(text)\n",
    "\t\t\tprint(f\"number of special characters in the text\",c_spech )\t\t\n",
    "\t\t\tprint(f\"number of alphabets in the text\",c_alpha )\n",
    "\t\t\tprint(f\"number of spaces in the text\",c_space)\n",
    "\t\t\tprint(f\"number of digits in the text\",c_numb)\n",
    "\t\t\tprint(source.read())\n",
    "\texcept:\n",
    "\t\tprint(\"invalid file\")"
   ]
  },
  {
   "cell_type": "code",
   "execution_count": 16,
   "metadata": {},
   "outputs": [
    {
     "ename": "SyntaxError",
     "evalue": "invalid syntax (<ipython-input-16-80e20abebda5>, line 14)",
     "output_type": "error",
     "traceback": [
      "\u001b[1;36m  File \u001b[1;32m\"<ipython-input-16-80e20abebda5>\"\u001b[1;36m, line \u001b[1;32m14\u001b[0m\n\u001b[1;33m    print(\"invalid file\",\"both the files is same and prints true or false\".)\u001b[0m\n\u001b[1;37m                                                                           ^\u001b[0m\n\u001b[1;31mSyntaxError\u001b[0m\u001b[1;31m:\u001b[0m invalid syntax\n"
     ]
    }
   ],
   "source": [
    "#Write a script called diff.py that take two file names as arguments and checks if the content of\n",
    "\n",
    "import sys\n",
    "file1=sys.argv[1]\n",
    "file2=sys.argv[2]\n",
    "try:\n",
    "\twith open(file1,'r') as f1:\n",
    "\t\twith open(file2,'r') as f2:\n",
    "\t\t\tif(f1.read()==f2.read()):\n",
    "\t\t\t\tprint(\"Same\")\n",
    "\t\t\telse:\n",
    "\t\t\t\tprint(\"Different\")\n",
    "except:\n",
    "\t\tprint(\"invalid file\",\"both the files is same and prints true or false\".)"
   ]
  },
  {
   "cell_type": "code",
   "execution_count": 17,
   "metadata": {},
   "outputs": [
    {
     "name": "stdout",
     "output_type": "stream",
     "text": [
      "invalid file\n"
     ]
    }
   ],
   "source": [
    "#WAP to count the number of words in a file.\n",
    "\n",
    "import sys\n",
    "file1=sys.argv[1]\n",
    "\n",
    "try:\n",
    "\twith open(file1,'r') as f1:\n",
    "\t\tc=1\n",
    "\t\ttext=f1.read()\n",
    "\t\tfor i in text:\n",
    "\t\t\tif(i==\" \"):\n",
    "\t\t\t\tc=c+1\n",
    "\t\t\t\n",
    "\t\tprint(text)\n",
    "\t\tprint(\"words in file\",c)\n",
    "except:\n",
    "\t\tprint(\"invalid file\")"
   ]
  },
  {
   "cell_type": "code",
   "execution_count": 18,
   "metadata": {},
   "outputs": [
    {
     "ename": "FileNotFoundError",
     "evalue": "[Errno 2] No such file or directory: '-f'",
     "output_type": "error",
     "traceback": [
      "\u001b[1;31m---------------------------------------------------------------------------\u001b[0m",
      "\u001b[1;31mFileNotFoundError\u001b[0m                         Traceback (most recent call last)",
      "\u001b[1;32m<ipython-input-18-e878bc05535a>\u001b[0m in \u001b[0;36m<module>\u001b[1;34m\u001b[0m\n\u001b[0;32m      4\u001b[0m \u001b[0mfile1\u001b[0m\u001b[1;33m=\u001b[0m\u001b[0msys\u001b[0m\u001b[1;33m.\u001b[0m\u001b[0margv\u001b[0m\u001b[1;33m[\u001b[0m\u001b[1;36m1\u001b[0m\u001b[1;33m:\u001b[0m\u001b[1;33m]\u001b[0m\u001b[1;33m\u001b[0m\u001b[1;33m\u001b[0m\u001b[0m\n\u001b[0;32m      5\u001b[0m \u001b[0mc\u001b[0m\u001b[1;33m=\u001b[0m\u001b[1;36m0\u001b[0m\u001b[1;33m\u001b[0m\u001b[1;33m\u001b[0m\u001b[0m\n\u001b[1;32m----> 6\u001b[1;33m \u001b[1;32mwith\u001b[0m \u001b[0mopen\u001b[0m \u001b[1;33m(\u001b[0m\u001b[0mfile1\u001b[0m\u001b[1;33m[\u001b[0m\u001b[1;36m0\u001b[0m\u001b[1;33m]\u001b[0m\u001b[1;33m,\u001b[0m\u001b[1;34m'r'\u001b[0m\u001b[1;33m)\u001b[0m \u001b[1;32mas\u001b[0m \u001b[0mf\u001b[0m\u001b[1;33m:\u001b[0m\u001b[1;33m\u001b[0m\u001b[1;33m\u001b[0m\u001b[0m\n\u001b[0m\u001b[0;32m      7\u001b[0m         \u001b[0mtext\u001b[0m\u001b[1;33m=\u001b[0m\u001b[0mf\u001b[0m\u001b[1;33m.\u001b[0m\u001b[0mread\u001b[0m\u001b[1;33m(\u001b[0m\u001b[1;33m)\u001b[0m\u001b[1;33m\u001b[0m\u001b[1;33m\u001b[0m\u001b[0m\n\u001b[0;32m      8\u001b[0m         \u001b[1;32mfor\u001b[0m \u001b[0mi\u001b[0m \u001b[1;32min\u001b[0m \u001b[0mtext\u001b[0m\u001b[1;33m.\u001b[0m\u001b[0msplit\u001b[0m\u001b[1;33m(\u001b[0m\u001b[1;33m)\u001b[0m\u001b[1;33m:\u001b[0m\u001b[1;33m\u001b[0m\u001b[1;33m\u001b[0m\u001b[0m\n",
      "\u001b[1;31mFileNotFoundError\u001b[0m: [Errno 2] No such file or directory: '-f'"
     ]
    }
   ],
   "source": [
    "#Update the above program to count the number of palindromes present in the file.\n",
    "\n",
    "import sys\n",
    "file1=sys.argv[1:]\n",
    "c=0\n",
    "with open (file1[0],'r') as f:\n",
    "\ttext=f.read()\n",
    "\tfor i in text.split():\n",
    "\t\tif i.lower()==i.lower()[: :-1]:\n",
    "\t\t\tc=c+1\n",
    "print(c)"
   ]
  },
  {
   "cell_type": "code",
   "execution_count": 19,
   "metadata": {},
   "outputs": [
    {
     "ename": "FileNotFoundError",
     "evalue": "[Errno 2] No such file or directory: '-f'",
     "output_type": "error",
     "traceback": [
      "\u001b[1;31m---------------------------------------------------------------------------\u001b[0m",
      "\u001b[1;31mFileNotFoundError\u001b[0m                         Traceback (most recent call last)",
      "\u001b[1;32m<ipython-input-19-d497cb71c653>\u001b[0m in \u001b[0;36m<module>\u001b[1;34m\u001b[0m\n\u001b[0;32m      5\u001b[0m \u001b[0mfile1\u001b[0m\u001b[1;33m=\u001b[0m\u001b[0msys\u001b[0m\u001b[1;33m.\u001b[0m\u001b[0margv\u001b[0m\u001b[1;33m[\u001b[0m\u001b[1;36m1\u001b[0m\u001b[1;33m:\u001b[0m\u001b[1;33m]\u001b[0m\u001b[1;33m\u001b[0m\u001b[1;33m\u001b[0m\u001b[0m\n\u001b[0;32m      6\u001b[0m \u001b[1;33m\u001b[0m\u001b[0m\n\u001b[1;32m----> 7\u001b[1;33m \u001b[1;32mwith\u001b[0m \u001b[0mopen\u001b[0m \u001b[1;33m(\u001b[0m\u001b[0mfile1\u001b[0m\u001b[1;33m[\u001b[0m\u001b[1;36m0\u001b[0m\u001b[1;33m]\u001b[0m\u001b[1;33m,\u001b[0m\u001b[1;34m'r'\u001b[0m\u001b[1;33m)\u001b[0m \u001b[1;32mas\u001b[0m \u001b[0mf\u001b[0m\u001b[1;33m:\u001b[0m\u001b[1;33m\u001b[0m\u001b[1;33m\u001b[0m\u001b[0m\n\u001b[0m\u001b[0;32m      8\u001b[0m         \u001b[0mtext\u001b[0m\u001b[1;33m=\u001b[0m\u001b[0mf\u001b[0m\u001b[1;33m.\u001b[0m\u001b[0mread\u001b[0m\u001b[1;33m(\u001b[0m\u001b[1;33m)\u001b[0m\u001b[1;33m\u001b[0m\u001b[1;33m\u001b[0m\u001b[0m\n\u001b[0;32m      9\u001b[0m         \u001b[0mperms\u001b[0m \u001b[1;33m=\u001b[0m \u001b[0msorted\u001b[0m\u001b[1;33m(\u001b[0m\u001b[0mset\u001b[0m\u001b[1;33m(\u001b[0m\u001b[1;33m[\u001b[0m\u001b[1;34m''\u001b[0m\u001b[1;33m.\u001b[0m\u001b[0mjoin\u001b[0m\u001b[1;33m(\u001b[0m\u001b[0mperm\u001b[0m\u001b[1;33m)\u001b[0m \u001b[1;32mfor\u001b[0m \u001b[0mperm\u001b[0m \u001b[1;32min\u001b[0m \u001b[0mitertools\u001b[0m\u001b[1;33m.\u001b[0m\u001b[0mpermutations\u001b[0m\u001b[1;33m(\u001b[0m\u001b[0mtext\u001b[0m\u001b[1;33m)\u001b[0m\u001b[1;33m]\u001b[0m\u001b[1;33m)\u001b[0m\u001b[1;33m)\u001b[0m\u001b[1;33m\u001b[0m\u001b[1;33m\u001b[0m\u001b[0m\n",
      "\u001b[1;31mFileNotFoundError\u001b[0m: [Errno 2] No such file or directory: '-f'"
     ]
    }
   ],
   "source": [
    "#Update the program again to count and print number of anagrams in the file.\n",
    "\n",
    "import sys\n",
    "import itertools\n",
    "file1=sys.argv[1:]\n",
    "\n",
    "with open (file1[0],'r') as f:\n",
    "\ttext=f.read()\n",
    "\tperms = sorted(set([''.join(perm) for perm in itertools.permutations(text)]))\n",
    "\tprint(perms)"
   ]
  },
  {
   "cell_type": "code",
   "execution_count": null,
   "metadata": {},
   "outputs": [],
   "source": []
  },
  {
   "cell_type": "code",
   "execution_count": null,
   "metadata": {},
   "outputs": [],
   "source": []
  },
  {
   "cell_type": "code",
   "execution_count": null,
   "metadata": {},
   "outputs": [],
   "source": []
  },
  {
   "cell_type": "code",
   "execution_count": null,
   "metadata": {},
   "outputs": [],
   "source": []
  },
  {
   "cell_type": "code",
   "execution_count": null,
   "metadata": {},
   "outputs": [],
   "source": []
  },
  {
   "cell_type": "code",
   "execution_count": null,
   "metadata": {},
   "outputs": [],
   "source": []
  },
  {
   "cell_type": "code",
   "execution_count": null,
   "metadata": {},
   "outputs": [],
   "source": []
  }
 ],
 "metadata": {
  "kernelspec": {
   "display_name": "Python 3",
   "language": "python",
   "name": "python3"
  },
  "language_info": {
   "codemirror_mode": {
    "name": "ipython",
    "version": 3
   },
   "file_extension": ".py",
   "mimetype": "text/x-python",
   "name": "python",
   "nbconvert_exporter": "python",
   "pygments_lexer": "ipython3",
   "version": "3.8.3"
  }
 },
 "nbformat": 4,
 "nbformat_minor": 4
}
