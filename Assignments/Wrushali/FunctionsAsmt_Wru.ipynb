{
 "cells": [
  {
   "cell_type": "code",
   "execution_count": 1,
   "metadata": {},
   "outputs": [
    {
     "name": "stdout",
     "output_type": "stream",
     "text": [
      "Enter First string :hi how r u\n",
      "Enter Second string :welcome\n",
      "First string now is welcome\n",
      "second string now is hi how r u\n"
     ]
    }
   ],
   "source": [
    "#1 WAP to input 2 strings and swap the strings\n",
    "a=str(input(\"Enter First string :\"))\n",
    "b=str(input(\"Enter Second string :\"))\n",
    "s=a\n",
    "a=b\n",
    "print(\"First string now is \" +str(a))\n",
    "print(\"second string now is \" +str(s))"
   ]
  },
  {
   "cell_type": "code",
   "execution_count": 2,
   "metadata": {},
   "outputs": [
    {
     "name": "stdout",
     "output_type": "stream",
     "text": [
      "Average :12.4\n"
     ]
    }
   ],
   "source": [
    "# WAP to generate 4 random numbers in the range 0-26 and print their average\n",
    "import random\n",
    "print(\"Average :\" +str((sum(random.sample(range(0, 26), 5)))/5))"
   ]
  },
  {
   "cell_type": "code",
   "execution_count": 3,
   "metadata": {},
   "outputs": [
    {
     "name": "stdout",
     "output_type": "stream",
     "text": [
      "n\n"
     ]
    }
   ],
   "source": [
    "#3 WAP to generate and print a random uppercase or lowercase alphaber. try these: \n",
    "# create a string containing all alphabets annd then select a random alphabet\n",
    "# create the module string\n",
    "import string\n",
    "a=string.ascii_letters\n",
    "s = random.choice(a)\n",
    "print(s)"
   ]
  },
  {
   "cell_type": "code",
   "execution_count": 10,
   "metadata": {},
   "outputs": [
    {
     "name": "stdout",
     "output_type": "stream",
     "text": [
      "input principal :200\n",
      "SI : 20.0\n"
     ]
    },
    {
     "data": {
      "text/plain": [
       "220.0"
      ]
     },
     "execution_count": 10,
     "metadata": {},
     "output_type": "execute_result"
    }
   ],
   "source": [
    "#4,5\n",
    "def get_si(p,r,t):\n",
    "    return((p*r*t)/100)\n",
    "def get_amount(p,r,t):\n",
    "    return(p+get_si(p,r,t))\n",
    "p=int(input(\"input principal :\"))\n",
    "r=10\n",
    "t=1\n",
    "print(\"SI : \" +str(get_si(p,r,t)))\n",
    "get_amount(p,r,t)\n",
    "\n"
   ]
  },
  {
   "cell_type": "code",
   "execution_count": 11,
   "metadata": {},
   "outputs": [
    {
     "name": "stdout",
     "output_type": "stream",
     "text": [
      "input principal :500\n",
      "input rate  :2\n",
      "input time :12\n"
     ]
    },
    {
     "data": {
      "text/plain": [
       "134.12089728127273"
      ]
     },
     "execution_count": 11,
     "metadata": {},
     "output_type": "execute_result"
    }
   ],
   "source": [
    "#6\n",
    "def get_ci(p,r,t):\n",
    "    return(p*pow((1+r/100),t)-p)\n",
    "p=int(input(\"input principal :\"))\n",
    "r=int(input(\"input rate  :\"))\n",
    "t=int(input(\"input time :\"))\n",
    "get_ci(p,r,t)"
   ]
  },
  {
   "cell_type": "code",
   "execution_count": 12,
   "metadata": {},
   "outputs": [
    {
     "name": "stdout",
     "output_type": "stream",
     "text": [
      "input 1st no :50\n",
      "input 2nd no :22\n"
     ]
    },
    {
     "data": {
      "text/plain": [
       "(2, 6)"
      ]
     },
     "execution_count": 12,
     "metadata": {},
     "output_type": "execute_result"
    }
   ],
   "source": [
    "#7\n",
    "def get_q_r(n1,n2):\n",
    "    return(n1//n2,n1%n2)\n",
    "n1=int(input(\"input 1st no :\"))\n",
    "n2=int(input(\"input 2nd no :\"))\n",
    "get_q_r(n1,n2)"
   ]
  },
  {
   "cell_type": "code",
   "execution_count": 13,
   "metadata": {},
   "outputs": [
    {
     "name": "stdout",
     "output_type": "stream",
     "text": [
      "input time in seconds :40\n",
      "0 0 0 40\n"
     ]
    }
   ],
   "source": [
    "#9\n",
    "p=int(input(\"input time in seconds :\"))\n",
    "d=p//(24*3600)\n",
    "h=(p-24*3600*d)//(60*60)\n",
    "m=(p-24*3600*d-3600*h)//(60)\n",
    "s=(p-3600*h-60*m)%60\n",
    "print(d,h,m,s)"
   ]
  },
  {
   "cell_type": "code",
   "execution_count": 15,
   "metadata": {},
   "outputs": [
    {
     "name": "stdout",
     "output_type": "stream",
     "text": [
      "2 -2\n"
     ]
    }
   ],
   "source": [
    "#11\n",
    "x = 2\n",
    "x *= 3\n",
    "x = x%4\n",
    "y = - x\n",
    "print(x,y)"
   ]
  },
  {
   "cell_type": "code",
   "execution_count": 16,
   "metadata": {},
   "outputs": [
    {
     "name": "stdout",
     "output_type": "stream",
     "text": [
      "None\n"
     ]
    }
   ],
   "source": [
    "#12\n",
    "def funct():\n",
    "    pass\n",
    "print(funct())"
   ]
  },
  {
   "cell_type": "code",
   "execution_count": null,
   "metadata": {},
   "outputs": [],
   "source": []
  }
 ],
 "metadata": {
  "kernelspec": {
   "display_name": "Python 3",
   "language": "python",
   "name": "python3"
  },
  "language_info": {
   "codemirror_mode": {
    "name": "ipython",
    "version": 3
   },
   "file_extension": ".py",
   "mimetype": "text/x-python",
   "name": "python",
   "nbconvert_exporter": "python",
   "pygments_lexer": "ipython3",
   "version": "3.8.3"
  }
 },
 "nbformat": 4,
 "nbformat_minor": 4
}
