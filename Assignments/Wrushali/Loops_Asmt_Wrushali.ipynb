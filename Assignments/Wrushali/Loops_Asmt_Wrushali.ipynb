{
 "cells": [
  {
   "cell_type": "code",
   "execution_count": 1,
   "metadata": {},
   "outputs": [
    {
     "name": "stdout",
     "output_type": "stream",
     "text": [
      "enter no:7\n",
      "1\n",
      "2\n",
      "3\n",
      "4\n",
      "5\n",
      "6\n",
      "7\n"
     ]
    }
   ],
   "source": [
    "#WAP to print first n natural numbers (input n from user)\n",
    "a=int(input(\"enter no:\"))\n",
    "for i in range(1,a+1):\n",
    "    print (i)"
   ]
  },
  {
   "cell_type": "code",
   "execution_count": 2,
   "metadata": {},
   "outputs": [
    {
     "name": "stdout",
     "output_type": "stream",
     "text": [
      "enter no:7\n",
      "28\n"
     ]
    }
   ],
   "source": [
    "#WAP to find sum of first n natural numbers \n",
    "a=int(input(\"enter no:\"))\n",
    "s=0\n",
    "for i in range(1,a+1):\n",
    "    s=s+i\n",
    "print(s)"
   ]
  },
  {
   "cell_type": "code",
   "execution_count": 4,
   "metadata": {},
   "outputs": [
    {
     "name": "stdout",
     "output_type": "stream",
     "text": [
      "enter no:4\n",
      "4\n",
      "3\n",
      "2\n",
      "1\n"
     ]
    }
   ],
   "source": [
    "#WAP to print first n natural numbers in reverse order\n",
    "a=int(input(\"enter no:\"))\n",
    "for i in range(a,0,-1):\n",
    "        print(i)"
   ]
  },
  {
   "cell_type": "code",
   "execution_count": 5,
   "metadata": {},
   "outputs": [
    {
     "name": "stdout",
     "output_type": "stream",
     "text": [
      "enter no:4\n",
      "24\n"
     ]
    }
   ],
   "source": [
    "#WAP to input a number and print its factorial. \n",
    "a=int(input(\"enter no:\"))\n",
    "fact=1\n",
    "for i in range(a):\n",
    "    fact=fact*(i+1)\n",
    "print(fact)"
   ]
  },
  {
   "cell_type": "code",
   "execution_count": 6,
   "metadata": {},
   "outputs": [
    {
     "name": "stdout",
     "output_type": "stream",
     "text": [
      "enter no:7\n",
      "1\n",
      "1\n",
      "2\n",
      "3\n",
      "5\n",
      "8\n",
      "13\n"
     ]
    }
   ],
   "source": [
    "#WAP to print Fibonacci sequence till n. \n",
    "# A Fibonacci sequence is the integer sequence of 0, 1, 1, 2, 3, 5, 8....\n",
    "\n",
    "# The first two terms are 0 and 1. All other terms are obtained by adding the preceding two terms. \n",
    "# This means to say the nth term is the sum of (n-1)th and (n-2)th term.\n",
    "n=int(input(\"enter no:\"))\n",
    "a=0\n",
    "b=1\n",
    "sum=0\n",
    "for i in range(n):\n",
    "    a=b\n",
    "    b=sum\n",
    "    sum=a+b\n",
    "    print(sum)"
   ]
  },
  {
   "cell_type": "code",
   "execution_count": 7,
   "metadata": {},
   "outputs": [
    {
     "name": "stdout",
     "output_type": "stream",
     "text": [
      "enter no:432\n",
      "('4', '3', '2')\n"
     ]
    }
   ],
   "source": [
    "#WAP to print all digits of a number input from user\n",
    "n=input(\"enter no:\")\n",
    "m=tuple(n)\n",
    "print(m)"
   ]
  },
  {
   "cell_type": "code",
   "execution_count": 9,
   "metadata": {},
   "outputs": [
    {
     "name": "stdout",
     "output_type": "stream",
     "text": [
      "enter no:2346\n",
      "15\n"
     ]
    }
   ],
   "source": [
    "#WAP to find sum of all digits of a number\n",
    "n=input(\"enter no:\")\n",
    "l=len(n)\n",
    "m=0\n",
    "for i in range(l):\n",
    "    s=n[i]\n",
    "    s=int(s)\n",
    "    m=m+s\n",
    "print(m)"
   ]
  },
  {
   "cell_type": "code",
   "execution_count": 1,
   "metadata": {},
   "outputs": [
    {
     "name": "stdout",
     "output_type": "stream",
     "text": [
      "Enter a number:5\n",
      "153\n"
     ]
    }
   ],
   "source": [
    "#WAP to find sum of following series given n as input from user\n",
    "# 1 + 2! + 3! + 4! + 5! + ….n!\n",
    "# Where n! denotes the factorial of number n\n",
    "\n",
    "n = int(input(\"Enter a number:\"))\n",
    "fact = 1\n",
    "s = 1\n",
    "for e in range(2,n+1):\n",
    "    fact = fact *e\n",
    "    s = s + fact\n",
    "print(s)\n"
   ]
  },
  {
   "cell_type": "code",
   "execution_count": 2,
   "metadata": {},
   "outputs": [
    {
     "name": "stdout",
     "output_type": "stream",
     "text": [
      "Enter the base number:5\n",
      "Enter the exponent number:2\n",
      "25\n"
     ]
    }
   ],
   "source": [
    "#WAP to input base and exponent and print result without using inbuilt function pow(use for or\n",
    "#while loop)\n",
    "base = int(input(\"Enter the base number:\"))\n",
    "exponent = int(input(\"Enter the exponent number:\"))\n",
    "p = 1\n",
    "i = 1\n",
    "while i<=exponent:\n",
    "    if base ==0:\n",
    "        p =0\n",
    "    else:\n",
    "        p = p*base\n",
    "        i = i + 1\n",
    "print(p)\n"
   ]
  },
  {
   "cell_type": "code",
   "execution_count": 3,
   "metadata": {},
   "outputs": [
    {
     "name": "stdout",
     "output_type": "stream",
     "text": [
      "Enter the number:5\n",
      "*\n",
      "**\n",
      "***\n",
      "****\n",
      "*****\n"
     ]
    }
   ],
   "source": [
    "#Print following patterns: \n",
    "#*\n",
    "#**\n",
    "#***\n",
    "#****\n",
    "#*****\n",
    "n = int(input(\"Enter the number:\"))\n",
    "for e in range(1,n+1):\n",
    "    for f in range(e):\n",
    "        print(\"*\",end='')\n",
    "    print()"
   ]
  },
  {
   "cell_type": "code",
   "execution_count": 4,
   "metadata": {},
   "outputs": [
    {
     "name": "stdout",
     "output_type": "stream",
     "text": [
      "Enter the number:5\n",
      "*****\n",
      "****\n",
      "***\n",
      "**\n",
      "*\n"
     ]
    }
   ],
   "source": [
    "#Print following number patterns: \n",
    "#*****\n",
    "#****\n",
    "#***\n",
    "#**\n",
    "#*\n",
    "n = int(input(\"Enter the number:\"))\n",
    "for e in range(1,n+1):\n",
    "    for f in range(e,n+1):\n",
    "        print('*',end='')\n",
    "    print()\n"
   ]
  },
  {
   "cell_type": "code",
   "execution_count": 5,
   "metadata": {},
   "outputs": [
    {
     "name": "stdout",
     "output_type": "stream",
     "text": [
      "Enter the number:5\n",
      "    *\n",
      "   **\n",
      "  ***\n",
      " ****\n",
      "*****\n"
     ]
    }
   ],
   "source": [
    "#Print following character patterns\n",
    "#    *\n",
    "#   **\n",
    "#  ***\n",
    "# ****\n",
    "#*****   \n",
    "n = int(input(\"Enter the number:\"))\n",
    "for e in range(1,n+1):\n",
    "    for f in range(n,0,-1):\n",
    "        if e<f:\n",
    "            print(\" \",end='')\n",
    "        else:\n",
    "            print(\"*\",end ='')\n",
    "    print()"
   ]
  },
  {
   "cell_type": "code",
   "execution_count": 2,
   "metadata": {},
   "outputs": [
    {
     "name": "stdout",
     "output_type": "stream",
     "text": [
      "     \n",
      "    * \n",
      "   * * \n",
      "  * * * \n",
      " * * * * \n",
      "* * * * * \n"
     ]
    }
   ],
   "source": [
    "#Print following character pattern\n",
    "#    *\n",
    "#   * *\n",
    "#  * * * \n",
    "# * * * *\n",
    "#* * * * *\n",
    "for i in range(6):\n",
    "    for j in range(5-i):\n",
    "        print(\" \", end=\"\")\n",
    "    for j in range(i):\n",
    "        print(\"*\", end=' ')\n",
    "    print()\n"
   ]
  },
  {
   "cell_type": "code",
   "execution_count": 3,
   "metadata": {},
   "outputs": [
    {
     "name": "stdout",
     "output_type": "stream",
     "text": [
      "1 \n",
      "1 2 \n",
      "1 2 3 \n",
      "1 2 3 4 \n",
      "1 2 3 4 5 \n"
     ]
    }
   ],
   "source": [
    "# Print pattern\n",
    "\n",
    "\n",
    "for i in range(1,6):\n",
    "    for j in range(i):\n",
    "        print(j+1, end=' ')\n",
    "    print('')"
   ]
  },
  {
   "cell_type": "code",
   "execution_count": 4,
   "metadata": {},
   "outputs": [
    {
     "name": "stdout",
     "output_type": "stream",
     "text": [
      "1 \n",
      "2 2 \n",
      "3 3 3 \n",
      "4 4 4 4 \n",
      "5 5 5 5 5 \n"
     ]
    }
   ],
   "source": [
    "# Print pattern\n",
    "\n",
    "\n",
    "for i in range(1,6):\n",
    "    for j in range(i):\n",
    "        print(i, end=' ')\n",
    "    print('')"
   ]
  },
  {
   "cell_type": "code",
   "execution_count": 5,
   "metadata": {},
   "outputs": [
    {
     "name": "stdout",
     "output_type": "stream",
     "text": [
      "5 \n",
      "4 4 \n",
      "3 3 3 \n",
      "2 2 2 2 \n",
      "1 1 1 1 1 \n"
     ]
    }
   ],
   "source": [
    "# Print pattern\n",
    "\n",
    "for i in range(1,6):\n",
    "    for j in range(i):\n",
    "        print(6-i , end=' ')\n",
    "    print('')"
   ]
  },
  {
   "cell_type": "code",
   "execution_count": 6,
   "metadata": {},
   "outputs": [
    {
     "name": "stdout",
     "output_type": "stream",
     "text": [
      "        1 \n",
      "      2 2 \n",
      "    3 3 3 \n",
      "  4 4 4 4 \n",
      "5 5 5 5 5 \n"
     ]
    }
   ],
   "source": [
    "# Print pattern\n",
    "\n",
    "\n",
    "for i in range(1,6):\n",
    "    for j in range(5-i):\n",
    "        print(\"  \", end=\"\")\n",
    "    for j in range(i):\n",
    "        print(i, end=' ')\n",
    "    print('')"
   ]
  },
  {
   "cell_type": "code",
   "execution_count": 7,
   "metadata": {},
   "outputs": [
    {
     "name": "stdout",
     "output_type": "stream",
     "text": [
      "A \n",
      "A B \n",
      "A B C \n",
      "A B C D \n",
      "A B C D E \n"
     ]
    }
   ],
   "source": [
    "# Print pattern\n",
    "\n",
    "for i in range(1,6):\n",
    "    b=65\n",
    "    for j in range(i):\n",
    "        print(chr(b), end=' ')\n",
    "        b+=1\n",
    "    print('')"
   ]
  },
  {
   "cell_type": "code",
   "execution_count": 8,
   "metadata": {},
   "outputs": [
    {
     "name": "stdout",
     "output_type": "stream",
     "text": [
      "A \n",
      "B C \n",
      "D E F \n",
      "G H I J \n",
      "K L M N O \n"
     ]
    }
   ],
   "source": [
    "# Print pattern\n",
    "\n",
    "b = 65\n",
    "for i in range(1,6):\n",
    "    for j in range(i):\n",
    "        print(chr(b), end=' ')\n",
    "        b+=1\n",
    "    print('')"
   ]
  },
  {
   "cell_type": "code",
   "execution_count": 9,
   "metadata": {},
   "outputs": [
    {
     "name": "stdout",
     "output_type": "stream",
     "text": [
      "A \n",
      "B B \n",
      "C C C \n",
      "D D D D \n",
      "E E E E E \n"
     ]
    }
   ],
   "source": [
    "# Print pattern\n",
    "\n",
    "b=65\n",
    "for i in range(1,6):\n",
    "    for j in range(i):\n",
    "        print(chr(b), end=' ')\n",
    "    b+=1\n",
    "    print('')"
   ]
  },
  {
   "cell_type": "code",
   "execution_count": null,
   "metadata": {},
   "outputs": [],
   "source": []
  }
 ],
 "metadata": {
  "kernelspec": {
   "display_name": "Python 3",
   "language": "python",
   "name": "python3"
  },
  "language_info": {
   "codemirror_mode": {
    "name": "ipython",
    "version": 3
   },
   "file_extension": ".py",
   "mimetype": "text/x-python",
   "name": "python",
   "nbconvert_exporter": "python",
   "pygments_lexer": "ipython3",
   "version": "3.8.3"
  }
 },
 "nbformat": 4,
 "nbformat_minor": 4
}
