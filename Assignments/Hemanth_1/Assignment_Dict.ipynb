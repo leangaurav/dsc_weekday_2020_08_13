{
 "cells": [
  {
   "cell_type": "code",
   "execution_count": 3,
   "metadata": {},
   "outputs": [
    {
     "name": "stdout",
     "output_type": "stream",
     "text": [
      "{1: -1, 2: -2, 3: -3, 4: -4, 5: -5}\n"
     ]
    }
   ],
   "source": [
    "#WAP to create a dictionary of numbers mapped to their negative value for numbers from 1-5.\n",
    "#The dictionary should contain something like this:\n",
    "#Do with both with and without range based for loop. \n",
    "\n",
    "d = {i:-i for i in range(1,6)}\n",
    "print(d)"
   ]
  },
  {
   "cell_type": "code",
   "execution_count": 4,
   "metadata": {},
   "outputs": [
    {
     "name": "stdout",
     "output_type": "stream",
     "text": [
      "{1: -1, 2: -2, 3: -3, 4: -4, 5: -5}\n"
     ]
    }
   ],
   "source": [
    "#WAP to create a dictionary of numbers mapped to their negative value for numbers from 1-5.\n",
    "#The dictionary should contain something like this:\n",
    "#Do with both with and without range based for loop. \n",
    "\n",
    "d = {}\n",
    "d[1] = -1\n",
    "d[2] = -2\n",
    "d[3] = -3\n",
    "d[4] = -4\n",
    "d[5] = -5\n",
    "print(d)\n",
    "    "
   ]
  },
  {
   "cell_type": "code",
   "execution_count": 5,
   "metadata": {},
   "outputs": [
    {
     "ename": "SyntaxError",
     "evalue": "invalid syntax (<ipython-input-5-1852aefb31ec>, line 1)",
     "output_type": "error",
     "traceback": [
      "\u001b[1;36m  File \u001b[1;32m\"<ipython-input-5-1852aefb31ec>\"\u001b[1;36m, line \u001b[1;32m1\u001b[0m\n\u001b[1;33m    D = {1=2,2=3}\u001b[0m\n\u001b[1;37m          ^\u001b[0m\n\u001b[1;31mSyntaxError\u001b[0m\u001b[1;31m:\u001b[0m invalid syntax\n"
     ]
    }
   ],
   "source": [
    "D = {1=2,2=3}\n",
    "print(D)\n",
    "\n",
    "D = {1:2,2:3}\n",
    "print(D)\n",
    "\n",
    "D = {1,2;2,3}\n",
    "print(D)\n",
    "\n",
    "D = {(1,2) , (2,3)} #----Works\n",
    "print(D)\n",
    "\n",
    "D = {'a':'A','b':1,'c':[1234]} #---Works\n",
    "print(D)\n",
    "\n",
    "D = {'a':'A','b':1,c:[1234]} #--- wont work\n",
    "print(D)\n",
    "\n",
    "d = dict([(1,2),(2,3)])#--- Works\n",
    "print(d)\n",
    "\n",
    "d = dict(((1,2),(2,3)))#---Works\n",
    "print(d)\n",
    "\n",
    "d = dict((1,2),(2,3)])#---Wont Work\n",
    "print(d)\n",
    "\n",
    "d = dict('x' = 2,'y' = 3)#---Wont Work\n",
    "print(d)\n",
    "\n",
    "d = dict(x = 2,y = 3)#--- Works\n",
    "print(d)\n",
    "\n",
    "= dict(1=2,2=3)#--- Wont Work\n",
    "print(d)"
   ]
  },
  {
   "cell_type": "code",
   "execution_count": 31,
   "metadata": {},
   "outputs": [
    {
     "name": "stdout",
     "output_type": "stream",
     "text": [
      "{1: 10, 2: 20, 3: 30, 4: 40}\n"
     ]
    }
   ],
   "source": [
    "#Read help for zip and write a program that has two lists\n",
    "#l1 = [1,2,3,4]\n",
    "#l2 = [10,20,30,40]\n",
    "#And converts them to a dictionary d containing { 1:10,2:20 …….}\n",
    "l1 = [1,2,3,4]\n",
    "l2 = (10,20,30,40)\n",
    "z = zip(l1,l2)\n",
    "print(dict(z))"
   ]
  },
  {
   "cell_type": "code",
   "execution_count": 55,
   "metadata": {},
   "outputs": [
    {
     "name": "stdout",
     "output_type": "stream",
     "text": [
      "['A', 'B', 'C', 'D', 'E', 'F', 'G', 'H', 'I', 'J', 'K', 'L', 'M', 'N', 'O', 'P', 'Q', 'R', 'S', 'T', 'U', 'V', 'W', 'X', 'Y', 'Z']\n",
      "{'A': 65, 'B': 66, 'C': 67, 'D': 68, 'E': 69, 'F': 70, 'G': 71, 'H': 72, 'I': 73, 'J': 74, 'K': 75, 'L': 76, 'M': 77, 'N': 78, 'O': 79, 'P': 80, 'Q': 81, 'R': 82, 'S': 83, 'T': 84, 'U': 85, 'V': 86, 'W': 87, 'X': 88, 'Y': 89, 'Z': 90}\n"
     ]
    }
   ],
   "source": [
    "#Use range based for loop to store all upper case alphabets and their corresponding ASCII\n",
    "#values in the dictionary d.\n",
    "#The result should be d = {‘A’: 65, ‘B’:66,…..}\n",
    "import string\n",
    "d = {}\n",
    "s = list(string.ascii_uppercase)\n",
    "print(s)\n",
    "for ch in s:\n",
    "    d[ch]=ord(ch)\n",
    "print(d)\n",
    "        "
   ]
  },
  {
   "cell_type": "code",
   "execution_count": 63,
   "metadata": {},
   "outputs": [
    {
     "name": "stdout",
     "output_type": "stream",
     "text": [
      "four\n",
      "dict_keys([0, 1, 2, 3, 4, 5, 6, 7, 8, 9])\n",
      "dict_values(['zero', 'one', 'two', 'three', 'four', 'five', 'six', 'seven', 'eight', 'nine'])\n",
      "dict_items([(0, 'zero'), (1, 'one'), (2, 'two'), (3, 'three'), (4, 'four'), (5, 'five'), (6, 'six'), (7, 'seven'), (8, 'eight'), (9, 'nine')])\n"
     ]
    }
   ],
   "source": [
    "#Create a mapping of number to word from 0-9. (0:’zero’……)\n",
    "#• Ask user for a single digit number and print the corresponding word format.\n",
    "#• Print all keys of above dictionary\n",
    "#• Print all Values of a dictionary\n",
    "#• Print all Key and Value pairs of above dictionary \n",
    "d = {0:'zero',1:'one',2:'two',3:'three',4:'four',5:'five',6:'six',7:'seven',8:'eight',9:'nine'}\n",
    "print(d[4])\n",
    "print(d.keys())\n",
    "print(d.values())\n",
    "print(d.items())"
   ]
  },
  {
   "cell_type": "code",
   "execution_count": 67,
   "metadata": {},
   "outputs": [
    {
     "name": "stdout",
     "output_type": "stream",
     "text": [
      "{'A': 'Apple', 'B': 'Ball', 'C': 'Cat', 'D': 'Dog'}\n",
      "{'A': 'Apple', 'C': 'Cat'}\n"
     ]
    }
   ],
   "source": [
    "#Predict Output of: \n",
    "l1 = ['A','B','C','D']\n",
    "l2 = ['Apple','Ball','Cat','Dog']\n",
    "d1 = dict(zip(l1,l2))\n",
    "print(d1)\n",
    "d2 = dict(list(d1.items())[::2])\n",
    "print(d2)"
   ]
  },
  {
   "cell_type": "code",
   "execution_count": 83,
   "metadata": {},
   "outputs": [
    {
     "name": "stdout",
     "output_type": "stream",
     "text": [
      "enter any string: Beautiful day\n",
      "e : 1\n",
      "a : 2\n",
      "u : 2\n",
      "i : 1\n",
      "u : 2\n",
      "a : 2\n",
      "enter any string: Hi I am Hemanth\n",
      "{'A': 0, 'E': 0, 'O': 0, 'I': 1, 'U': 0, 'a': 2, 'e': 1, 'o': 0, 'i': 1, 'u': 0}\n"
     ]
    }
   ],
   "source": [
    "#WAP to input a string and count occurrence of each vowel in a string.\n",
    "#Ex: if user enters:\n",
    "#“Beautiful Day”\n",
    "#Output should Be:\n",
    "#a:2\n",
    "#e:1\n",
    "#I :1\n",
    "#o:0\n",
    "#u:2 \n",
    "s = input('enter any string: ')\n",
    "v = ('a','e','i','o','u','A','E','I','O','U')\n",
    "for ch in s:\n",
    "    if ch in v:\n",
    "        print(ch,':',s.count(ch))\n",
    "        \n",
    "        \n",
    "s=input(\"enter any string: \")\n",
    "d={}\n",
    "for ch in 'AEOIUaeoiu':\n",
    "    d1={ch: s.count(ch)}\n",
    "    d.update(d1)\n",
    "print(d)"
   ]
  },
  {
   "cell_type": "code",
   "execution_count": 84,
   "metadata": {},
   "outputs": [
    {
     "name": "stdout",
     "output_type": "stream",
     "text": [
      "enter any string: Beautiful day\n",
      "B : 1\n",
      "e : 1\n",
      "a : 2\n",
      "u : 2\n",
      "t : 1\n",
      "i : 1\n",
      "f : 1\n",
      "u : 2\n",
      "l : 1\n",
      "  : 1\n",
      "d : 1\n",
      "a : 2\n",
      "y : 1\n",
      "enter any string: Hi I am Hemanth\n",
      "{'H': 2, 'i': 1, ' ': 3, 'I': 1, 'a': 2, 'm': 2, 'e': 1, 'n': 1, 't': 1, 'h': 1}\n"
     ]
    }
   ],
   "source": [
    "#Update above program to print frequency of each alphabet present in string. \n",
    "s = input('enter any string: ')\n",
    "for ch in s:\n",
    "        print(ch,':',s.count(ch))\n",
    "        \n",
    "\n",
    "s=input(\"enter any string: \")\n",
    "d={}\n",
    "for ch in s:\n",
    "    d1={ch: s.count(ch)}\n",
    "    d.update(d1)\n",
    "print(d)"
   ]
  },
  {
   "cell_type": "code",
   "execution_count": 85,
   "metadata": {},
   "outputs": [
    {
     "name": "stdout",
     "output_type": "stream",
     "text": [
      "enter any string: Hi I am Hemanth and I am playing a game\n",
      "{'Hi': 1, 'I': 2, 'am': 2, 'Hemanth': 1, 'and': 1, 'playing': 1, 'a': 1, 'game': 1}\n"
     ]
    }
   ],
   "source": [
    "#WAP that takes a string as input and prints frequency of each word.\n",
    "#Ex: if input is “count the words in the sentence in”\n",
    "#Output:\n",
    "#count: 1\n",
    "#the: 2\n",
    "#words: 1\n",
    "#in: 2\n",
    "#sentence: 1 \n",
    "s = input('enter any string: ').split()\n",
    "d = {}\n",
    "for word in s:\n",
    "    d1 = {word:s.count(word)}\n",
    "    d.update(d1)\n",
    "print(d)"
   ]
  }
 ],
 "metadata": {
  "kernelspec": {
   "display_name": "Python 3",
   "language": "python",
   "name": "python3"
  },
  "language_info": {
   "codemirror_mode": {
    "name": "ipython",
    "version": 3
   },
   "file_extension": ".py",
   "mimetype": "text/x-python",
   "name": "python",
   "nbconvert_exporter": "python",
   "pygments_lexer": "ipython3",
   "version": "3.8.3"
  }
 },
 "nbformat": 4,
 "nbformat_minor": 4
}
