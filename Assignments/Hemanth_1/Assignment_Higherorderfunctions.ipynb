{
 "cells": [
  {
   "cell_type": "code",
   "execution_count": 3,
   "metadata": {},
   "outputs": [
    {
     "name": "stdout",
     "output_type": "stream",
     "text": [
      "100\n",
      "0.1\n",
      "-10\n"
     ]
    }
   ],
   "source": [
    "#Write lambdas to:\n",
    "#a. Square a number x2\n",
    "#b. Inverse a number 1/x\n",
    "#c. Negate a number\n",
    "\n",
    "\n",
    "sq = (lambda x: x*x)\n",
    "print(sq(10))\n",
    "inv = (lambda x: 1/x)\n",
    "print(inv(10))\n",
    "neg = (lambda x: -x)\n",
    "print(neg(10))"
   ]
  },
  {
   "cell_type": "code",
   "execution_count": 5,
   "metadata": {},
   "outputs": [
    {
     "name": "stdout",
     "output_type": "stream",
     "text": [
      "77\n"
     ]
    }
   ],
   "source": [
    "#Use reduce function and an appropriate lambda to find the maximum number in a list. \n",
    "from functools import reduce\n",
    "L = [22,44,33,55,77,55,66]\n",
    "max = reduce(lambda x,y: x if x>y else y,L)\n",
    "print(max)\n"
   ]
  },
  {
   "cell_type": "code",
   "execution_count": 84,
   "metadata": {},
   "outputs": [
    {
     "name": "stdout",
     "output_type": "stream",
     "text": [
      "[1, 4, 16]\n",
      "[1.0, 0.25, 0.0625]\n",
      "[-1.0, -0.25, -0.0625]\n"
     ]
    }
   ],
   "source": [
    "def square():\n",
    "    sq = list(map(lambda x: x*x,L))\n",
    "    return (sq)\n",
    "\n",
    "def inv():\n",
    "    nl = square()\n",
    "    inv = list(map(lambda y: 1/y,nl))\n",
    "    return (inv)\n",
    "\n",
    "def neg():\n",
    "    nl1 = inv()\n",
    "    neg = list(map(lambda z:-z,nl1))\n",
    "    return (neg)\n",
    "\n",
    "L = [1,2,4]\n",
    "\n",
    "def map_multiple(fun1,fun2,fun3,seq):\n",
    "    print(fun1())\n",
    "    print(fun2())\n",
    "    print(fun3())\n",
    "    \n",
    "d = map_multiple\n",
    "d(square,inv,neg,L)\n",
    "\n"
   ]
  },
  {
   "cell_type": "code",
   "execution_count": 18,
   "metadata": {},
   "outputs": [
    {
     "name": "stdout",
     "output_type": "stream",
     "text": [
      "50\n"
     ]
    }
   ],
   "source": [
    "#Predict the output of following code:\n",
    "\n",
    "from functools import reduce\n",
    "f = lambda x,y : x if x > y else y\n",
    "\n",
    "l = [10,30,50,30,10]\n",
    "num = reduce(f,l)\n",
    "print(num)\n"
   ]
  },
  {
   "cell_type": "code",
   "execution_count": 20,
   "metadata": {},
   "outputs": [
    {
     "name": "stdout",
     "output_type": "stream",
     "text": [
      "[-1.0, -0.5, -0.25, -0.125]\n"
     ]
    }
   ],
   "source": [
    "#Find output of following:\n",
    "functs = [lambda x: x**0.5,lambda x: 1/x,lambda x: -x]\n",
    "l = [1,4,16,64]\n",
    "ans = []\n",
    "for num in l:\n",
    "    res = num\n",
    "    for funct in functs:\n",
    "        res = funct(res)\n",
    "    ans.append(res)\n",
    "print(ans)"
   ]
  },
  {
   "cell_type": "code",
   "execution_count": 28,
   "metadata": {},
   "outputs": [
    {
     "name": "stdout",
     "output_type": "stream",
     "text": [
      "[22, 55, 44]\n"
     ]
    }
   ],
   "source": [
    "#Use filter function to filter a list of numbers and strings such that the result contains only numbers.\n",
    "s = [22,55,44,'abc54','67xyz']\n",
    "c = filter(lambda x: isinstance(x,int),s)\n",
    "print(list(c))"
   ]
  },
  {
   "cell_type": "code",
   "execution_count": 50,
   "metadata": {},
   "outputs": [
    {
     "name": "stdout",
     "output_type": "stream",
     "text": [
      "[0.0, 0.17779999999999999]\n"
     ]
    }
   ],
   "source": [
    "def h_m(L):\n",
    "    for i in L:\n",
    "        m = (int(i)*0.0254)\n",
    "    return m\n",
    "L = ['70','87']\n",
    "p = map(h_m,L)\n",
    "print(list(p))\n",
    "\n",
    "\n",
    "##Not able to execute\n",
    "        "
   ]
  },
  {
   "cell_type": "code",
   "execution_count": 49,
   "metadata": {},
   "outputs": [
    {
     "name": "stdout",
     "output_type": "stream",
     "text": [
      "[5, 5, 0, 1, 5]\n"
     ]
    }
   ],
   "source": [
    "def my_map():\n",
    "    m = map(len,['50ghh','2ifh0','',' ','98wh6'])\n",
    "    res = list(m)\n",
    "    print(res)\n",
    "    \n",
    "my_map()"
   ]
  }
 ],
 "metadata": {
  "kernelspec": {
   "display_name": "Python 3",
   "language": "python",
   "name": "python3"
  },
  "language_info": {
   "codemirror_mode": {
    "name": "ipython",
    "version": 3
   },
   "file_extension": ".py",
   "mimetype": "text/x-python",
   "name": "python",
   "nbconvert_exporter": "python",
   "pygments_lexer": "ipython3",
   "version": "3.8.3"
  }
 },
 "nbformat": 4,
 "nbformat_minor": 4
}
