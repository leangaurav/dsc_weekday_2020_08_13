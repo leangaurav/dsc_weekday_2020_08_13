{
 "cells": [
  {
   "cell_type": "code",
   "execution_count": 4,
   "metadata": {},
   "outputs": [
    {
     "name": "stdout",
     "output_type": "stream",
     "text": [
      "enter any string: hemanth\n",
      "h\n",
      "e\n",
      "m\n",
      "a\n",
      "n\n",
      "t\n",
      "h\n"
     ]
    }
   ],
   "source": [
    "s = input('enter any string: ')\n",
    "for i in range(0,len(s)):\n",
    "    print(s[i])"
   ]
  },
  {
   "cell_type": "code",
   "execution_count": 5,
   "metadata": {},
   "outputs": [
    {
     "name": "stdout",
     "output_type": "stream",
     "text": [
      "enter any string: hemanth\n",
      "104\n",
      "101\n",
      "109\n",
      "97\n",
      "110\n",
      "116\n",
      "104\n"
     ]
    }
   ],
   "source": [
    "s = input('enter any string: ')\n",
    "for i in range(0,len(s)):\n",
    "    print(ord(s[i]))\n",
    "    \n",
    "    \n",
    "    n = list(input('enter numbers: '))"
   ]
  },
  {
   "cell_type": "code",
   "execution_count": 32,
   "metadata": {},
   "outputs": [
    {
     "name": "stdout",
     "output_type": "stream",
     "text": [
      "enter any number: 254\n"
     ]
    },
    {
     "data": {
      "text/plain": [
       "2"
      ]
     },
     "execution_count": 32,
     "metadata": {},
     "output_type": "execute_result"
    }
   ],
   "source": [
    "#WAF that takes list of numbers from user as argument and returns the sum of only odd numbers\n",
    "def odd_sum(n):\n",
    "    s = 0\n",
    "    for i in (0,len(n)):\n",
    "        s = s+int(n[i])\n",
    "        return s\n",
    "n = list(input('enter any number: '))\n",
    "odd_sum(n)\n",
    "\n",
    "\n",
    "\n",
    "#######Not executed\n",
    "        "
   ]
  },
  {
   "cell_type": "code",
   "execution_count": 31,
   "metadata": {},
   "outputs": [
    {
     "name": "stdout",
     "output_type": "stream",
     "text": [
      "enter any number: 12345678945621236\n",
      "['1', '2', '3', '4', '5', '6', '7', '8', '9', '4', '5', '6', '2', '1', '2', '3', '6']\n",
      "('1', '2', '3', '4', '5', '6', '7', '8', '9', '4', '5', '6', '2', '1', '2', '3', '6')\n",
      "enter another number: 6\n",
      "5\n"
     ]
    }
   ],
   "source": [
    "#WAP to input list of numbers and store them in tuple \n",
    "#input another number and find the index position of this number in the tuple\n",
    "n = list(input('enter any number: '))\n",
    "print(n)\n",
    "t = tuple(n)\n",
    "print(t)\n",
    "n1 = input('enter another number: ')\n",
    "print(t.index(n1))\n"
   ]
  },
  {
   "cell_type": "code",
   "execution_count": 60,
   "metadata": {},
   "outputs": [
    {
     "name": "stdout",
     "output_type": "stream",
     "text": [
      "[33, 40, 9, 33, 41, 3, 3, 6, 19, 25]\n",
      "212\n",
      "21.2\n",
      "[33, 9, 41, 3, 19]\n"
     ]
    }
   ],
   "source": [
    "#WAP to create list of 10 random numbers and then print the list,sum and average of number s and\n",
    "#lso print elements in the list\n",
    "import random\n",
    "randomlist = [random.randrange(1,50) for i in range(1,11)]\n",
    "print(randomlist)\n",
    "print(sum(randomlist))\n",
    "print(sum(randomlist)/10)\n",
    "print(randomlist[0:10:2])"
   ]
  },
  {
   "cell_type": "code",
   "execution_count": 90,
   "metadata": {},
   "outputs": [
    {
     "name": "stdout",
     "output_type": "stream",
     "text": [
      "enter number: 1\n",
      "enter number: 2\n",
      "enter number: 3\n",
      "enter number: 4\n",
      "enter number: 5\n",
      "enter number: 6\n",
      "enter number: 7\n",
      "enter number: 8\n",
      "enter number: 5\n",
      "enter number: 3\n",
      "[[1], [2], [3], [4], [5], [6], [7], [8], [5], [3]]\n"
     ]
    }
   ],
   "source": [
    "import copy\n",
    "for i in range(0,10):\n",
    "    n = input('enter number: ')\n",
    "    a = []\n",
    "    a.extend([int(n)])\n",
    "    b[i] = copy.deepcopy(a)\n",
    "print(b)\n",
    "\n",
    "\n",
    "\n",
    "\n",
    "#######Partial output"
   ]
  },
  {
   "cell_type": "code",
   "execution_count": 92,
   "metadata": {},
   "outputs": [
    {
     "name": "stdout",
     "output_type": "stream",
     "text": [
      "enter number: 7\n",
      "7 of 1 is: 7\n",
      "7 of 2 is: 14\n",
      "7 of 3 is: 21\n",
      "7 of 4 is: 28\n",
      "7 of 5 is: 35\n",
      "7 of 6 is: 42\n",
      "7 of 7 is: 49\n",
      "7 of 8 is: 56\n",
      "7 of 9 is: 63\n",
      "7 of 10 is: 70\n"
     ]
    }
   ],
   "source": [
    "n = int(input('enter number: '))\n",
    "for i in range(1,11):\n",
    "    print(f'{n} of {i} is: ' +str(n*i))"
   ]
  },
  {
   "cell_type": "code",
   "execution_count": 104,
   "metadata": {},
   "outputs": [
    {
     "name": "stdout",
     "output_type": "stream",
     "text": [
      "enter any string:     he m a nth\n",
      "7\n"
     ]
    }
   ],
   "source": [
    "#WAP to print total number of spaces in a string\n",
    "count = 0\n",
    "s = input('enter any string: ')\n",
    "for i in s:\n",
    "    if (i.isspace()):\n",
    "        count = count + 1\n",
    "print(count)\n",
    "    "
   ]
  },
  {
   "cell_type": "code",
   "execution_count": 112,
   "metadata": {},
   "outputs": [
    {
     "name": "stdout",
     "output_type": "stream",
     "text": [
      "enter any string: hemanth\n",
      "2\n"
     ]
    }
   ],
   "source": [
    "count = 0\n",
    "s = input('enter any string: ')\n",
    "for i in s:\n",
    "    if (i =='a'or i =='e'or i== 'i'or i == 'o'or i == 'u' or i =='A'or i =='E'or i== 'I'or i == 'O'or i == 'U'):\n",
    "        count = count+1\n",
    "print(count)\n",
    "    "
   ]
  },
  {
   "cell_type": "code",
   "execution_count": 138,
   "metadata": {},
   "outputs": [
    {
     "name": "stdout",
     "output_type": "stream",
     "text": [
      "enter any word: hemanth\n"
     ]
    },
    {
     "data": {
      "text/plain": [
       "'h_m_nth'"
      ]
     },
     "execution_count": 138,
     "metadata": {},
     "output_type": "execute_result"
    }
   ],
   "source": [
    "def removeVowels(word):\n",
    "    vowels = ('a', 'e', 'i', 'o', 'u')\n",
    "    for i in word:\n",
    "        if i.lower() in vowels:\n",
    "            word = word.replace(i,\"_\")\n",
    "    return word\n",
    "word = input('enter any word: ')\n",
    "removeVowels(word)"
   ]
  },
  {
   "cell_type": "code",
   "execution_count": 139,
   "metadata": {},
   "outputs": [
    {
     "name": "stdout",
     "output_type": "stream",
     "text": [
      "Num :  0\n",
      "Loop ends\n"
     ]
    }
   ],
   "source": [
    "for num in range(10):\n",
    "    print(\"Num : \",num)\n",
    "    if num%4 == 0:\n",
    "        break\n",
    "print(\"Loop ends\")"
   ]
  },
  {
   "cell_type": "code",
   "execution_count": 1,
   "metadata": {},
   "outputs": [
    {
     "name": "stdout",
     "output_type": "stream",
     "text": [
      "Num :  0\n"
     ]
    },
    {
     "ename": "SystemExit",
     "evalue": "",
     "output_type": "error",
     "traceback": [
      "An exception has occurred, use %tb to see the full traceback.\n",
      "\u001b[1;31mSystemExit\u001b[0m\n"
     ]
    },
    {
     "name": "stderr",
     "output_type": "stream",
     "text": [
      "C:\\ProgramData\\Anaconda3\\lib\\site-packages\\IPython\\core\\interactiveshell.py:3351: UserWarning: To exit: use 'exit', 'quit', or Ctrl-D.\n",
      "  warn(\"To exit: use 'exit', 'quit', or Ctrl-D.\", stacklevel=1)\n"
     ]
    }
   ],
   "source": [
    "import sys\n",
    "for num in range(10):\n",
    "    print(\"Num : \",num)\n",
    "    if num%4 == 0:\n",
    "        sys.exit()\n",
    "print(\"Loop ends\")       "
   ]
  },
  {
   "cell_type": "code",
   "execution_count": 2,
   "metadata": {},
   "outputs": [
    {
     "name": "stdout",
     "output_type": "stream",
     "text": [
      "*****\n",
      "*****\n",
      "*****\n",
      "*****\n",
      "*****\n"
     ]
    }
   ],
   "source": [
    "for i1 in range(1,6):\n",
    "    for i2 in range(5):\n",
    "        print('*',end='')\n",
    "    print()"
   ]
  },
  {
   "cell_type": "code",
   "execution_count": 3,
   "metadata": {},
   "outputs": [
    {
     "name": "stdout",
     "output_type": "stream",
     "text": [
      "1\n",
      "22\n",
      "333\n",
      "4444\n",
      "55555\n"
     ]
    }
   ],
   "source": [
    "for i1 in range(1,6):\n",
    "    for i2 in range(i1):\n",
    "        print(i1,end='')\n",
    "    print()"
   ]
  },
  {
   "cell_type": "code",
   "execution_count": 4,
   "metadata": {},
   "outputs": [
    {
     "name": "stdout",
     "output_type": "stream",
     "text": [
      "1\n",
      "22\n",
      "333\n",
      "4444\n",
      "55555\n"
     ]
    }
   ],
   "source": [
    "for i1 in range(1,6):\n",
    "    print(str(i1)*i1)"
   ]
  },
  {
   "cell_type": "code",
   "execution_count": 5,
   "metadata": {},
   "outputs": [
    {
     "name": "stdout",
     "output_type": "stream",
     "text": [
      "**\n",
      "***\n",
      "****\n",
      "*****\n",
      "******\n"
     ]
    }
   ],
   "source": [
    "for i1 in range (1,6):\n",
    "    for i2 in range(i1+1):\n",
    "        print('*',end='')\n",
    "    print()"
   ]
  }
 ],
 "metadata": {
  "kernelspec": {
   "display_name": "Python 3",
   "language": "python",
   "name": "python3"
  },
  "language_info": {
   "codemirror_mode": {
    "name": "ipython",
    "version": 3
   },
   "file_extension": ".py",
   "mimetype": "text/x-python",
   "name": "python",
   "nbconvert_exporter": "python",
   "pygments_lexer": "ipython3",
   "version": "3.8.3"
  }
 },
 "nbformat": 4,
 "nbformat_minor": 4
}
