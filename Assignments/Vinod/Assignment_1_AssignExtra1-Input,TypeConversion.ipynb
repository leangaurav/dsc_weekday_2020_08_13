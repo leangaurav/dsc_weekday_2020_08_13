{
 "cells": [
  {
   "cell_type": "markdown",
   "metadata": {},
   "source": [
    "## Assignment_1"
   ]
  },
  {
   "cell_type": "markdown",
   "metadata": {},
   "source": [
    "1.Input temperature in Fahrenheit in print in Celsius."
   ]
  },
  {
   "cell_type": "code",
   "execution_count": 1,
   "metadata": {},
   "outputs": [
    {
     "name": "stdout",
     "output_type": "stream",
     "text": [
      "Enter the temperaturure in Fahrenheit45\n",
      "temperature in celcius is 7.222222222222222\n"
     ]
    }
   ],
   "source": [
    "temp=int(input(\"Enter the temperaturure in Fahrenheit\"))\n",
    "print(\"temperature in celcius is {a}\".format(a=(temp-32)*5/9))"
   ]
  },
  {
   "cell_type": "markdown",
   "metadata": {},
   "source": [
    "2.Write a program to input a number and print its square and cube."
   ]
  },
  {
   "cell_type": "code",
   "execution_count": 2,
   "metadata": {},
   "outputs": [
    {
     "name": "stdout",
     "output_type": "stream",
     "text": [
      "enter a number10\n",
      "The square of the 10 is 100\n",
      "The cube of the 10 is 1000\n"
     ]
    }
   ],
   "source": [
    "num=int(input(\"enter a number\"))\n",
    "print(\"The square of the {n} is {a}\".format(n=num,a=num**2))\n",
    "print(\"The cube of the {n} is {a}\".format(n=num,a=num**3))"
   ]
  },
  {
   "cell_type": "markdown",
   "metadata": {},
   "source": [
    "3.WAP to input a number n and a number m and print the result of following n**2 + m**2"
   ]
  },
  {
   "cell_type": "code",
   "execution_count": 3,
   "metadata": {},
   "outputs": [
    {
     "name": "stdout",
     "output_type": "stream",
     "text": [
      "enter the value of n2\n",
      "enter the value of m3\n",
      "result of n**2 + m**2 is 13\n"
     ]
    }
   ],
   "source": [
    "n=int(input(\"enter the value of n\"))\n",
    "m=int(input(\"enter the value of m\"))\n",
    "print(\"result of n**2 + m**2 is {val}\".format(val=n**2 +m**2))"
   ]
  },
  {
   "cell_type": "markdown",
   "metadata": {},
   "source": [
    "4.WAP to input a numbers M and N and print result of MN. (use both ** and pow)"
   ]
  },
  {
   "cell_type": "code",
   "execution_count": 4,
   "metadata": {},
   "outputs": [
    {
     "name": "stdout",
     "output_type": "stream",
     "text": [
      "enter the value of M2\n",
      "enter the value of N3\n",
      "value of M**N is 8\n",
      "value of pow(M,N) is 8\n"
     ]
    }
   ],
   "source": [
    "M,N=int(input(\"enter the value of M\")),int(input(\"enter the value of N\"))\n",
    "print(\"value of M**N is {val}\".format(val=M**N))\n",
    "print(\"value of pow(M,N) is {val}\".format(val=pow(M,N)))"
   ]
  },
  {
   "cell_type": "markdown",
   "metadata": {},
   "source": [
    "5.Write a simple interest calculator."
   ]
  },
  {
   "cell_type": "code",
   "execution_count": 5,
   "metadata": {},
   "outputs": [
    {
     "name": "stdout",
     "output_type": "stream",
     "text": [
      "enter the principle amount1000\n",
      "Enter time in years2\n",
      "enter the annual interest rate2\n",
      "Simple Interest S.I=40.0\n"
     ]
    }
   ],
   "source": [
    "#principle =p\n",
    "#time =t\n",
    "#rate of interest =r\n",
    "p,t,r=float(input(\"enter the principle amount\")),float(input(\"Enter time in years\")),float(input(\"enter the annual interest rate\"))\n",
    "print(\"Simple Interest S.I={val}\".format(val=(p*t*r)/100))"
   ]
  },
  {
   "cell_type": "markdown",
   "metadata": {},
   "source": [
    "6.Input Principal, Rate, Time and print Compound Interest and Amount."
   ]
  },
  {
   "cell_type": "code",
   "execution_count": 9,
   "metadata": {},
   "outputs": [
    {
     "name": "stdout",
     "output_type": "stream",
     "text": [
      "enter the principal1000\n",
      "enter Rate of Interest per annum5\n",
      "enter time in years7\n",
      "Enter the times, principle is compounded anually1\n",
      "Final Amount=1407.1004226562504\n",
      "compud Interest C.I=407.10042265625043\n"
     ]
    }
   ],
   "source": [
    "p,r,t,n=float(input(\"enter the principal\")),float(input(\"enter Rate of Interest per annum\")),float(input(\"enter time in years\")),float(input(\"Enter the times, principle is compounded anually\"))\n",
    "amount=p*((1+(r/100*n))**(n*t))\n",
    "print(\"Final Amount={val1}\".format(val1=amount))\n",
    "print(\"compud Interest C.I={val2}\".format(val2=amount-p))"
   ]
  },
  {
   "cell_type": "markdown",
   "metadata": {},
   "source": [
    "7.WAP to print sum of first n natural numbers. (n needs to be taken as input)."
   ]
  },
  {
   "cell_type": "code",
   "execution_count": 10,
   "metadata": {},
   "outputs": [
    {
     "name": "stdout",
     "output_type": "stream",
     "text": [
      "Enter a number n3\n",
      "Sum of first 3 natural number is: 6\n"
     ]
    }
   ],
   "source": [
    "#n=int(input(\"Enter a number n\"))\n",
    "#a=1\n",
    "#sum=0\n",
    "#while a<=n:\n",
    "#  sum=sum+a\n",
    "#   a=a+1\n",
    "#print(\"the sum of first {n} natural numbers is: {val}\".format(n=n,val=sum))\n",
    "\n",
    "n=int(input(\"Enter a number n\"))\n",
    "print(\"Sum of first {n} natural number is: {sum}\".format(n=n,sum=int((n*(n+1))/2)))"
   ]
  },
  {
   "cell_type": "markdown",
   "metadata": {},
   "source": [
    "8.WAP to input 2 numbers and swap them. (write using both normal logic with temp variable and also the pythonic way)."
   ]
  },
  {
   "cell_type": "code",
   "execution_count": 12,
   "metadata": {},
   "outputs": [
    {
     "name": "stdout",
     "output_type": "stream",
     "text": [
      "Enter the number n112\n",
      "Enter the number n234\n",
      "after swap, numbers n1=34 and n2=12\n",
      "Enter the number n134\n",
      "Enter the number n212\n",
      "after swap, numbers n1=12 and n2=34\n"
     ]
    }
   ],
   "source": [
    "#Method 1 using variable temp\n",
    "n1=int(input(\"Enter the number n1\"))\n",
    "n2=int(input(\"Enter the number n2\"))\n",
    "temp=None\n",
    "temp=n1\n",
    "n1=n2\n",
    "n2=temp\n",
    "print(\"after swap, numbers n1={n1} and n2={n2}\".format(n1=n1,n2=n2))\n",
    "\n",
    "#Method 2\n",
    "\n",
    "n1=int(input(\"Enter the number n1\"))\n",
    "n2=int(input(\"Enter the number n2\"))\n",
    "n1,n2=n2,n1\n",
    "print(\"after swap, numbers n1={n1} and n2={n2}\".format(n1=n1,n2=n2))"
   ]
  },
  {
   "cell_type": "markdown",
   "metadata": {},
   "source": [
    "9.WAP to print ascii value of all white-space characters present in python."
   ]
  },
  {
   "cell_type": "code",
   "execution_count": 13,
   "metadata": {},
   "outputs": [
    {
     "name": "stdout",
     "output_type": "stream",
     "text": [
      "' \\t\\n\\r\\x0b\\x0c'\n"
     ]
    }
   ],
   "source": [
    "import string\n",
    "print(repr(string.whitespace))"
   ]
  },
  {
   "cell_type": "markdown",
   "metadata": {},
   "source": [
    "10.Input a single character and print its ascii values."
   ]
  },
  {
   "cell_type": "code",
   "execution_count": 14,
   "metadata": {},
   "outputs": [
    {
     "name": "stdout",
     "output_type": "stream",
     "text": [
      "Enter the charactere\n",
      "The ASCII value of character e is 101\n"
     ]
    }
   ],
   "source": [
    "char=input(\"Enter the character\")\n",
    "print(\"The ASCII value of character {char} is {val}\".format(char=char,val=ord(char)))"
   ]
  },
  {
   "cell_type": "markdown",
   "metadata": {},
   "source": [
    "11.WAP that takes area of a circle and gives back the radius and circumference."
   ]
  },
  {
   "cell_type": "code",
   "execution_count": 15,
   "metadata": {},
   "outputs": [
    {
     "name": "stdout",
     "output_type": "stream",
     "text": [
      "Enter the area of a circle334\n",
      "radius of the circle is 10.31094088749354\n"
     ]
    }
   ],
   "source": [
    "import math\n",
    "a=float(input(\"Enter the area of a circle\"))\n",
    "print(\"radius of the circle is {val}\".format(val=math.sqrt(a/math.pi)))"
   ]
  },
  {
   "cell_type": "markdown",
   "metadata": {},
   "source": [
    "12.We need to input marks in 5 subjects out of 100 and print percentage."
   ]
  },
  {
   "cell_type": "code",
   "execution_count": 18,
   "metadata": {},
   "outputs": [
    {
     "name": "stdout",
     "output_type": "stream",
     "text": [
      "Enter the marks scored by a person sequentially in subjects s1,s2,s3,s4,s5 out of 100 separated by a single comma 12,34,67,89,77\n",
      "the percentage of the person is 55.800000000000004\n"
     ]
    }
   ],
   "source": [
    "s1,s2,s3,s4,s5=input(\"Enter the marks scored by a person sequentially in subjects s1,s2,s3,s4,s5 out of 100 separated by a single comma \").split(\",\")\n",
    "s1,s2,s3,s4,s5=float(s1),float(s2),float(s3),float(s4),float(s5)\n",
    "print(\"the percentage of the person is {per}\".format(per=((s1+s2+s3+s4+s5)/500)*100))"
   ]
  }
 ],
 "metadata": {
  "kernelspec": {
   "display_name": "Python 3",
   "language": "python",
   "name": "python3"
  },
  "language_info": {
   "codemirror_mode": {
    "name": "ipython",
    "version": 3
   },
   "file_extension": ".py",
   "mimetype": "text/x-python",
   "name": "python",
   "nbconvert_exporter": "python",
   "pygments_lexer": "ipython3",
   "version": "3.8.3"
  }
 },
 "nbformat": 4,
 "nbformat_minor": 4
}
