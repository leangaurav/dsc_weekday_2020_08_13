{
 "cells": [
  {
   "cell_type": "markdown",
   "metadata": {},
   "source": [
    "1.Guess output of each slice"
   ]
  },
  {
   "cell_type": "code",
   "execution_count": 1,
   "metadata": {},
   "outputs": [
    {
     "name": "stdout",
     "output_type": "stream",
     "text": [
      "d\n",
      "detneirO tcejbO si nohtyP\n",
      "Python is Object Oriente\n",
      "\n",
      "on is \n"
     ]
    }
   ],
   "source": [
    "s='Python is Object Oriented'\n",
    "\n",
    "#1\n",
    "print(s[-1])\n",
    "#2\n",
    "print(s[::-1])\n",
    "#3\n",
    "print(s[:-1])\n",
    "#4\n",
    "print(s[1:1])\n",
    "#5\n",
    "print(s[4:10])"
   ]
  },
  {
   "cell_type": "markdown",
   "metadata": {},
   "source": [
    "2.What error do you see for following statements:"
   ]
  },
  {
   "cell_type": "code",
   "execution_count": 2,
   "metadata": {},
   "outputs": [
    {
     "ename": "SyntaxError",
     "evalue": "EOL while scanning string literal (<ipython-input-2-b85fac65bd48>, line 1)",
     "output_type": "error",
     "traceback": [
      "\u001b[1;36m  File \u001b[1;32m\"<ipython-input-2-b85fac65bd48>\"\u001b[1;36m, line \u001b[1;32m1\u001b[0m\n\u001b[1;33m    s=\"\u001b[0m\n\u001b[1;37m       ^\u001b[0m\n\u001b[1;31mSyntaxError\u001b[0m\u001b[1;31m:\u001b[0m EOL while scanning string literal\n"
     ]
    }
   ],
   "source": [
    "s=\"\n",
    "print(s[1])\""
   ]
  },
  {
   "cell_type": "markdown",
   "metadata": {},
   "source": [
    "3.Do you get any error for the following code, if not give the output:"
   ]
  },
  {
   "cell_type": "code",
   "execution_count": 3,
   "metadata": {},
   "outputs": [
    {
     "name": "stdout",
     "output_type": "stream",
     "text": [
      "a\n"
     ]
    }
   ],
   "source": [
    "s='Gaurav'\n",
    "print(s[1])"
   ]
  },
  {
   "cell_type": "markdown",
   "metadata": {},
   "source": [
    "4.Find output of the following:"
   ]
  },
  {
   "cell_type": "code",
   "execution_count": 4,
   "metadata": {},
   "outputs": [
    {
     "name": "stdout",
     "output_type": "stream",
     "text": [
      "6\n",
      "abc\n",
      "3\n",
      "['a#b#c#d#']\n",
      "['a', 'b', 'c', 'd', '']\n",
      "a$b$c$d$\n",
      "av\n",
      "False\n",
      "0.1.2\n",
      "abcba\n",
      "0.0.0."
     ]
    }
   ],
   "source": [
    "#a)\n",
    "s='a b cd'\n",
    "print(len(s))\n",
    "print(s[::2])\n",
    "print(len(s[::2]))\n",
    "#b)\n",
    "s='a#b#c#d#'\n",
    "print(s.split())\n",
    "print(s.split('#'))\n",
    "l=s.split('#')\n",
    "s='$'.join(l)\n",
    "print(s)\n",
    "#c)\n",
    "S='Gaurav'\n",
    "S=S[::-2][::-2]\n",
    "print(S)\n",
    "#d)\n",
    "print(1>2)\n",
    "#e)\n",
    "print(4%2,5%2,2%5,sep='.')\n",
    "#f)\n",
    "s='abcba'\n",
    "s.upper()\n",
    "print(s)\n",
    "print(s.count('A'),end='.')\n",
    "print(s.count('A',2,4),end='.')\n",
    "print(s.count('a',2,4),end='.')"
   ]
  },
  {
   "cell_type": "markdown",
   "metadata": {},
   "source": [
    "5.WAP to input a string and remove all spaces from it."
   ]
  },
  {
   "cell_type": "code",
   "execution_count": 5,
   "metadata": {
    "scrolled": true
   },
   "outputs": [
    {
     "name": "stdout",
     "output_type": "stream",
     "text": [
      "enter a stringThis is assignment\n",
      "given string with out spaces is Thisisassignment\n"
     ]
    }
   ],
   "source": [
    "strin=input(\"enter a string\")\n",
    "print(\"given string with out spaces is {val}\".format(val=strin.replace(\" \",\"\")))"
   ]
  },
  {
   "cell_type": "markdown",
   "metadata": {},
   "source": [
    "6.What does this symbol denote:[]"
   ]
  },
  {
   "cell_type": "code",
   "execution_count": 6,
   "metadata": {},
   "outputs": [
    {
     "ename": "SyntaxError",
     "evalue": "invalid character in identifier (<ipython-input-6-5c0a8ab3b694>, line 1)",
     "output_type": "error",
     "traceback": [
      "\u001b[1;36m  File \u001b[1;32m\"<ipython-input-6-5c0a8ab3b694>\"\u001b[1;36m, line \u001b[1;32m1\u001b[0m\n\u001b[1;33m    s=‘’\u001b[0m\n\u001b[1;37m       ^\u001b[0m\n\u001b[1;31mSyntaxError\u001b[0m\u001b[1;31m:\u001b[0m invalid character in identifier\n"
     ]
    }
   ],
   "source": [
    "s=‘’ "
   ]
  },
  {
   "cell_type": "markdown",
   "metadata": {},
   "source": [
    "7. WAP to print all methods(functions/operations) available in a string (Hint : dir())"
   ]
  },
  {
   "cell_type": "code",
   "execution_count": 7,
   "metadata": {},
   "outputs": [
    {
     "name": "stdout",
     "output_type": "stream",
     "text": [
      "['__add__', '__class__', '__contains__', '__delattr__', '__dir__', '__doc__', '__eq__', '__format__', '__ge__', '__getattribute__', '__getitem__', '__getnewargs__', '__gt__', '__hash__', '__init__', '__init_subclass__', '__iter__', '__le__', '__len__', '__lt__', '__mod__', '__mul__', '__ne__', '__new__', '__reduce__', '__reduce_ex__', '__repr__', '__rmod__', '__rmul__', '__setattr__', '__sizeof__', '__str__', '__subclasshook__', 'capitalize', 'casefold', 'center', 'count', 'encode', 'endswith', 'expandtabs', 'find', 'format', 'format_map', 'index', 'isalnum', 'isalpha', 'isascii', 'isdecimal', 'isdigit', 'isidentifier', 'islower', 'isnumeric', 'isprintable', 'isspace', 'istitle', 'isupper', 'join', 'ljust', 'lower', 'lstrip', 'maketrans', 'partition', 'replace', 'rfind', 'rindex', 'rjust', 'rpartition', 'rsplit', 'rstrip', 'split', 'splitlines', 'startswith', 'strip', 'swapcase', 'title', 'translate', 'upper', 'zfill']\n"
     ]
    }
   ],
   "source": [
    "print(dir(str))"
   ]
  },
  {
   "cell_type": "markdown",
   "metadata": {},
   "source": [
    "8. Write statement to check if rstrip method is available in the str class.(Hint : Use the find function or in)"
   ]
  },
  {
   "cell_type": "code",
   "execution_count": 8,
   "metadata": {},
   "outputs": [
    {
     "name": "stdout",
     "output_type": "stream",
     "text": [
      "True\n",
      "Yes, present\n",
      "yes, present\n"
     ]
    }
   ],
   "source": [
    "print(\"rstrip\" in dir(str))\n",
    "\n",
    "\n",
    "if(str(dir(str)).find(\"rstrip\")>0):\n",
    "    print(\"Yes, present\")\n",
    "else:\n",
    "    print(\"No, not present\")\n",
    "\n",
    "if \"rstrip\" in dir(str):\n",
    "    print(\"yes, present\")\n",
    "else:\n",
    "    print(\"No, not found\")"
   ]
  },
  {
   "cell_type": "markdown",
   "metadata": {},
   "source": [
    "9.WAP to store the following patterns in a string variable and then print them:"
   ]
  },
  {
   "cell_type": "code",
   "execution_count": 9,
   "metadata": {},
   "outputs": [
    {
     "name": "stdout",
     "output_type": "stream",
     "text": [
      "\n",
      "*****\n",
      "  *\n",
      "  *\n",
      "  *\n",
      "  *\n",
      "\n",
      "*     *\n",
      "* * * *\n",
      "*  *  *\n",
      "*     *\n",
      "\n",
      "  ______\n",
      "  |     |\n",
      "  o     |\n",
      " /|\\    |\n",
      " / \\    |\n",
      "        |\n",
      "________|\n"
     ]
    }
   ],
   "source": [
    "#a)\n",
    "a1=(\"\"\"\n",
    "*****\n",
    "  *\n",
    "  *\n",
    "  *\n",
    "  *\"\"\")\n",
    "print(a1)\n",
    "#b)\n",
    "a2=(\"\"\"\n",
    "*     *\n",
    "* * * *\n",
    "*  *  *\n",
    "*     *\"\"\")\n",
    "print(a2)\n",
    "#c)\n",
    "a3=(\"\"\"\n",
    "  ______\n",
    "  |     |\n",
    "  o     |\n",
    " /|\\    |\n",
    " / \\    |\n",
    "        |\n",
    "________|\"\"\")\n",
    "print(a3)"
   ]
  },
  {
   "cell_type": "markdown",
   "metadata": {},
   "source": [
    "10. WAP to input a string and replace all space with new lines (\\n) and print again."
   ]
  },
  {
   "cell_type": "code",
   "execution_count": 10,
   "metadata": {},
   "outputs": [
    {
     "name": "stdout",
     "output_type": "stream",
     "text": [
      "Enter a stringThis is an assignment\n",
      "After replacing all spaces by \\n, the given string is:This\n",
      "is\n",
      "an\n",
      "assignment\n"
     ]
    }
   ],
   "source": [
    "b=input(\"Enter a string\")\n",
    "print(\"After replacing all spaces by \\\\n, the given string is:{val}\".format(val=b.replace(\" \",\"\\n\")))"
   ]
  },
  {
   "cell_type": "markdown",
   "metadata": {},
   "source": [
    "11. WAP to input complete name(first and last name separated by space) and print first and last name separately along with their length in upper case."
   ]
  },
  {
   "cell_type": "code",
   "execution_count": 11,
   "metadata": {
    "scrolled": true
   },
   "outputs": [
    {
     "name": "stdout",
     "output_type": "stream",
     "text": [
      "Enter you first name and last name separated by a spaceVinod Boreddy\n",
      "First name:VINOD, length:5 \n",
      "Last name:BOREDDY, length:7\n"
     ]
    }
   ],
   "source": [
    "name=input(\"Enter you first name and last name separated by a space\")\n",
    "firstname,lastname=name.split(\" \")\n",
    "print(\"First name:{val1}, length:{val2} \\nLast name:{val3}, length:{val4}\".format(val1=firstname.upper(),val2=len(firstname),val3=lastname.upper(),val4=len(lastname)))"
   ]
  },
  {
   "cell_type": "markdown",
   "metadata": {},
   "source": [
    "12.WAP to input a string and split it into 2 halves. The string can be of any length"
   ]
  },
  {
   "cell_type": "code",
   "execution_count": 12,
   "metadata": {},
   "outputs": [
    {
     "name": "stdout",
     "output_type": "stream",
     "text": [
      "Enter a stringstring\n",
      "first hallf of given string:str\n",
      "second half of given string:ing\n"
     ]
    }
   ],
   "source": [
    "c=input(\"Enter a string\")\n",
    "if(len(c)%2==1):    \n",
    "    print(\"first hallf of given string:{val}\\nsecond half of given string:{val1}\".format(val=c[:int(len(c)/2):1],val1=c[int(len(c)/2)+1:]))\n",
    "else:\n",
    "    print(\"first hallf of given string:{val}\\nsecond half of given string:{val1}\".format(val=c[:int(len(c)/2):1],val1=c[int(len(c)/2):]))"
   ]
  },
  {
   "cell_type": "code",
   "execution_count": 13,
   "metadata": {},
   "outputs": [
    {
     "name": "stdout",
     "output_type": "stream",
     "text": [
      "Enter a stringwords\n",
      "first hallf of given string:wo\n",
      "second half of given string:ds\n"
     ]
    }
   ],
   "source": [
    "c=input(\"Enter a string\")\n",
    "if(len(c)%2==1):    \n",
    "    print(\"first hallf of given string:{val}\\nsecond half of given string:{val1}\".format(val=c[:int(len(c)/2):1],val1=c[int(len(c)/2)+1:]))\n",
    "else:\n",
    "    print(\"first hallf of given string:{val}\\nsecond half of given string:{val1}\".format(val=c[:int(len(c)/2):1],val1=c[int(len(c)/2):]))"
   ]
  }
 ],
 "metadata": {
  "kernelspec": {
   "display_name": "Python 3",
   "language": "python",
   "name": "python3"
  },
  "language_info": {
   "codemirror_mode": {
    "name": "ipython",
    "version": 3
   },
   "file_extension": ".py",
   "mimetype": "text/x-python",
   "name": "python",
   "nbconvert_exporter": "python",
   "pygments_lexer": "ipython3",
   "version": "3.8.3"
  }
 },
 "nbformat": 4,
 "nbformat_minor": 4
}
