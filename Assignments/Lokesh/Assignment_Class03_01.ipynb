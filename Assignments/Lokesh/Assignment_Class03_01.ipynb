{
 "cells": [
  {
   "cell_type": "code",
   "execution_count": 45,
   "metadata": {},
   "outputs": [
    {
     "name": "stdout",
     "output_type": "stream",
     "text": [
      "enter the temperature in FAHRENHEIT:98.6\n",
      "the temperature in celsius is: 37.0\n"
     ]
    }
   ],
   "source": [
    "x=float(input('enter the temperature in FAHRENHEIT:'))\n",
    "y= float((x-32)*5/9)\n",
    "print('the temperature in celsius is:',y)\n"
   ]
  },
  {
   "cell_type": "code",
   "execution_count": 43,
   "metadata": {},
   "outputs": [
    {
     "name": "stdout",
     "output_type": "stream",
     "text": [
      "enter any number:4\n",
      "The square of the given number is:\n",
      " 16\n",
      "The cube of the given number is:\n",
      " 64\n"
     ]
    }
   ],
   "source": [
    "x=int(input('enter any number:'))\n",
    "#y=int(x*x)\n",
    "#z=int(x*x*x)\n",
    "print('The square of the given number is:\\n',int(x*x))\n",
    "print('The cube of the given number is:\\n',int(x*x*x))"
   ]
  },
  {
   "cell_type": "code",
   "execution_count": 23,
   "metadata": {},
   "outputs": [
    {
     "name": "stdout",
     "output_type": "stream",
     "text": [
      "enter the value of n:3\n",
      "enter the value of m:4\n",
      "The result of n^2 + m^2 is: 25\n"
     ]
    }
   ],
   "source": [
    "n=int(input('enter the value of n:'))\n",
    "m=int(input('enter the value of m:'))\n",
    "print('The result of n^2 + m^2 is:', int(n*n)+int(m*m))\n"
   ]
  },
  {
   "cell_type": "code",
   "execution_count": 27,
   "metadata": {},
   "outputs": [
    {
     "name": "stdout",
     "output_type": "stream",
     "text": [
      "enter the value of M:5\n",
      "enter the value of N:3\n",
      "The result of M^N is: 125\n",
      "The result of M^N using pow is: 125\n"
     ]
    }
   ],
   "source": [
    "M=int(input('enter the value of M:'))\n",
    "N=int(input('enter the value of N:'))\n",
    "print('The result of M^N is:', int(M**N))\n",
    "print('The result of M^N using pow function is:', pow(M,N))\n",
    "\n"
   ]
  },
  {
   "cell_type": "code",
   "execution_count": 29,
   "metadata": {},
   "outputs": [
    {
     "name": "stdout",
     "output_type": "stream",
     "text": [
      "Enter the principle amount:70000\n",
      "Enter the Time in years:1\n",
      "Enter the Rate of Interest:4\n",
      "Simple interest is : 2800.0\n"
     ]
    }
   ],
   "source": [
    "P=float(input('Enter the principle amount:'))\n",
    "T=float(input('Enter the Time in years:'))\n",
    "R=float(input('Enter the Rate of Interest:'))\n",
    "si=float((P*T*R)/100)\n",
    "print('Simple interest is :',si)\n"
   ]
  },
  {
   "cell_type": "code",
   "execution_count": 39,
   "metadata": {},
   "outputs": [
    {
     "name": "stdout",
     "output_type": "stream",
     "text": [
      "Enter the principle amount:600000\n",
      "Enter the Time in years:2\n",
      "Enter the Rate of Interest:2\n",
      "Compound interest is : 624240.0\n",
      "Enter the no of times the interest is compounded per year:2\n",
      "Amount is : 9600000.0\n"
     ]
    }
   ],
   "source": [
    "P=float(input('Enter the principle amount:'))\n",
    "T=float(input('Enter the Time in years:'))\n",
    "R=float(input('Enter the Rate of Interest:'))\n",
    "ci= P*float(pow((1+R/100),T))\n",
    "print('Compound interest is :',ci)\n",
    "N=float(input('Enter the no of times the interest is compounded per year:'))\n",
    "A= P*float(pow((1+R/N),N*T))\n",
    "print('Amount is :',A)"
   ]
  },
  {
   "cell_type": "code",
   "execution_count": 62,
   "metadata": {},
   "outputs": [
    {
     "name": "stdout",
     "output_type": "stream",
     "text": [
      "Enter a number: 10\n",
      "The sum is 55.0\n"
     ]
    }
   ],
   "source": [
    "n = int(input(\"Enter a number: \"))  \n",
    "  \n",
    "if n < 0:  \n",
    "   print(\"Please enter a positive number\")  \n",
    "else:  \n",
    "   sum= n*((n+1)/2)\n",
    "   print(\"The sum is\",sum)  "
   ]
  },
  {
   "cell_type": "code",
   "execution_count": 69,
   "metadata": {},
   "outputs": [
    {
     "name": "stdout",
     "output_type": "stream",
     "text": [
      "enter the value of a:3\n",
      "enter the value of b:4\n",
      "the values of a and b after swapping: 4 3\n",
      "enter the value of a:45\n",
      "enter the value of b:55\n",
      "the values of a and b after swapping: 55 45\n"
     ]
    }
   ],
   "source": [
    "#1\n",
    "a = int(input('enter the value of a:'))  \n",
    "b = int(input('enter the value of b:'))\n",
    "temp=0\n",
    "temp=a\n",
    "a=b\n",
    "b=temp\n",
    "print('the values of a and b after swapping:',a ,b)\n",
    "\n",
    "#2\n",
    "a = int(input('enter the value of a:'))  \n",
    "b = int(input('enter the value of b:'))\n",
    "a, b = b, a\n",
    "print('the values of a and b after swapping:',a ,b)"
   ]
  },
  {
   "cell_type": "code",
   "execution_count": 79,
   "metadata": {},
   "outputs": [
    {
     "name": "stdout",
     "output_type": "stream",
     "text": [
      "Enter any character:Z\n",
      "the ASCII value for entered character is: 90\n"
     ]
    }
   ],
   "source": [
    "ch=input('Enter any character:')\n",
    "print('the ASCII value for entered character is:', ord(ch))\n",
    "\n"
   ]
  },
  {
   "cell_type": "code",
   "execution_count": 90,
   "metadata": {
    "scrolled": true
   },
   "outputs": [
    {
     "name": "stdout",
     "output_type": "stream",
     "text": [
      "enter the area of a circle:25\n",
      "The radius is: 2.8209479177387813\n",
      "The Circumference is: 17.724538509055158\n"
     ]
    }
   ],
   "source": [
    "import math\n",
    "area = float(input('enter the area of a circle:'))  \n",
    "radius = math.sqrt(a/math.pi)\n",
    "Circumference= 2*math.pi*radius\n",
    "print('The radius is:', radius)\n",
    "print('The Circumference is:', Circumference)\n",
    "\n",
    "\n",
    "\n"
   ]
  },
  {
   "cell_type": "code",
   "execution_count": 16,
   "metadata": {},
   "outputs": [
    {
     "name": "stdout",
     "output_type": "stream",
     "text": [
      "enter sub1 marks:50\n",
      "percentage is: 50.0\n",
      "enter sub2 marks:60\n",
      "percentage is: 60.0\n",
      "enter sub3 marks:70\n",
      "percentage is: 70.0\n",
      "enter sub4 marks:80\n",
      "percentage is: 80.0\n",
      "enter sub5 marks:90\n",
      "Average percentage is: 70.0\n"
     ]
    }
   ],
   "source": [
    "sub1 = float(input('enter sub1 marks:'))\n",
    "print('percentage is:', (sub1/100)*100)\n",
    "sub2 = float(input('enter sub2 marks:'))\n",
    "print('percentage is:', (sub2/100)*100)\n",
    "sub3 = float(input('enter sub3 marks:'))\n",
    "print('percentage is:', (sub3/100)*100)\n",
    "sub4 = float(input('enter sub4 marks:'))\n",
    "print('percentage is:', (sub4/100)*100)\n",
    "sub5 = float(input('enter sub5 marks:'))\n",
    "print('Average percentage is:', (((sub1+sub2+sub3+sub4+sub5)/500)*100))"
   ]
  },
  {
   "cell_type": "code",
   "execution_count": 46,
   "metadata": {},
   "outputs": [
    {
     "name": "stdout",
     "output_type": "stream",
     "text": [
      "The ASCII value of Horizontal tab is: 9\n",
      "The ASCII value of New Line is: 10\n",
      "The ASCII value of Vertical tab is: 11\n",
      "The ASCII value of Feed: 12\n",
      "The ASCII value of Carriage Return is: 13\n",
      "The ASCII value of space is: 32\n"
     ]
    }
   ],
   "source": [
    "#In ASCII, whitespace characters are space ( ' ' ), tab ( '\\t' ), carriage return ( '\\r' ), newline ( '\\n' ), vertical tab ( '\\v' ) and formfeed ( '\\f' ).\n",
    "\n",
    "print('The ASCII value of Horizontal tab is:', ord('\\t'))\n",
    "print('The ASCII value of New Line is:', ord('\\n'))\n",
    "print('The ASCII value of Vertical tab is:', ord('\\v'))\n",
    "print('The ASCII value of Feed:', ord('\\f'))\n",
    "print('The ASCII value of Carriage Return is:', ord('\\r'))\n",
    "print('The ASCII value of space is:', ord(' '))\n",
    "\n"
   ]
  }
 ],
 "metadata": {
  "kernelspec": {
   "display_name": "Python 3",
   "language": "python",
   "name": "python3"
  },
  "language_info": {
   "codemirror_mode": {
    "name": "ipython",
    "version": 3
   },
   "file_extension": ".py",
   "mimetype": "text/x-python",
   "name": "python",
   "nbconvert_exporter": "python",
   "pygments_lexer": "ipython3",
   "version": "3.8.3"
  }
 },
 "nbformat": 4,
 "nbformat_minor": 4
}
