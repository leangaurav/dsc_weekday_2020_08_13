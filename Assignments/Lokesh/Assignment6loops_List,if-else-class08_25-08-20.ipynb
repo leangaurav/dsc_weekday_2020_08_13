{
 "cells": [
  {
   "cell_type": "code",
   "execution_count": 5,
   "metadata": {},
   "outputs": [
    {
     "name": "stdout",
     "output_type": "stream",
     "text": [
      "Enter any string :lokesh\n",
      "l\n",
      "o\n",
      "k\n",
      "e\n",
      "s\n",
      "h\n"
     ]
    }
   ],
   "source": [
    "# 1. WAP to input a string and print individual characters in the string using for loop.\n",
    "\n",
    "str= input(\"Enter any string :\")\n",
    "for i in str:\n",
    "    print(i)"
   ]
  },
  {
   "cell_type": "code",
   "execution_count": 8,
   "metadata": {},
   "outputs": [
    {
     "name": "stdout",
     "output_type": "stream",
     "text": [
      "Enter any string :lokesh\n",
      "The Ascii Value of l is : 108\n",
      "The Ascii Value of o is : 111\n",
      "The Ascii Value of k is : 107\n",
      "The Ascii Value of e is : 101\n",
      "The Ascii Value of s is : 115\n",
      "The Ascii Value of h is : 104\n"
     ]
    }
   ],
   "source": [
    "# 2. WAP to input a string and print the ASCII value of each character in the string.\n",
    "\n",
    "str= input(\"Enter any string :\")\n",
    "for i in str:\n",
    "    print(\"The Ascii Value of {} is : {}\".format(i,ord(i)))"
   ]
  },
  {
   "cell_type": "code",
   "execution_count": 12,
   "metadata": {},
   "outputs": [
    {
     "data": {
      "text/plain": [
       "24"
      ]
     },
     "execution_count": 12,
     "metadata": {},
     "output_type": "execute_result"
    }
   ],
   "source": [
    "# 3. Write a function that takes a list of numbers from user as argument and returns the sum of only\n",
    "# odd numbers (Use only for loop. No need to use if statement).\n",
    "\n",
    "def num_to_Odd_Sum(list):\n",
    "    odd_sum=0\n",
    "    for i in list:\n",
    "        odd_sum+=i*(i%2)\n",
    "    return odd_sum\n",
    "num_to_Odd_Sum([5,4,15,3,1])"
   ]
  },
  {
   "cell_type": "code",
   "execution_count": 13,
   "metadata": {},
   "outputs": [
    {
     "name": "stdout",
     "output_type": "stream",
     "text": [
      "Enter how many numbers to be added to the list:4\n",
      "enter a number:1\n",
      "enter a number:2\n",
      "enter a number:3\n",
      "enter a number:4\n",
      "enter new number to be added to the list  :5\n",
      "(1, 2, 3, 4, 5)\n",
      "The index is : 4\n"
     ]
    }
   ],
   "source": [
    "# 4. WAP to input a list of numbers and store in a tuple. Now input another number and print the\n",
    "# index of this number in the tuple. [Use index function]\n",
    "\n",
    "\n",
    "\n",
    "x=int(input(\"Enter how many numbers to be added to the list:\"))\n",
    "lst=[]\n",
    "for i in range(x):\n",
    "    y=int(input(\"enter a number:\"))\n",
    "    lst.append(y)\n",
    "z=int(input(\"enter new number to be added to the list  :\"))\n",
    "lst.append(z)\n",
    "print(tuple(lst))\n",
    "print(\"The index is :\", lst.index(z))"
   ]
  },
  {
   "cell_type": "code",
   "execution_count": 24,
   "metadata": {},
   "outputs": [
    {
     "name": "stdout",
     "output_type": "stream",
     "text": [
      "[1, 9, 1, 5, 5, 3, 2, 6, 3, 2]\n",
      "37\n",
      "3.7\n"
     ]
    }
   ],
   "source": [
    "# 5. Create a list of 10 random numbers and then print the list, sum of all numbers and average. Use\n",
    "# a for loop. Also print elements at only even indexes in the list.\n",
    "\n",
    "import random\n",
    "lst=[]\n",
    "sum=0\n",
    "for i in range(10):\n",
    "    r=random.randint(1,10)\n",
    "    sum=sum+r\n",
    "    lst.append(r)\n",
    "print(lst)\n",
    "print(sum)\n",
    "print(float(sum/10))"
   ]
  },
  {
   "cell_type": "code",
   "execution_count": 16,
   "metadata": {},
   "outputs": [
    {
     "name": "stdout",
     "output_type": "stream",
     "text": [
      "Enter a number :1\n",
      "Enter a number :2\n",
      "Enter a number :3\n",
      "Enter a number :4\n",
      "Enter a number :5\n",
      "Enter a number :6\n",
      "Enter a number :7\n",
      "Enter a number :8\n",
      "Enter a number :9\n",
      "Enter a number :10\n",
      "[1, 2, 3, 4, 5, 6, 7, 8, 9, 10]\n",
      "sum is :55\n"
     ]
    }
   ],
   "source": [
    "#6. WAP to input 10 numbers repeatedly (using range based for loop) and store them in a list. Print\n",
    "# the list and sum of numbers in the list.\n",
    "\n",
    "list=[]\n",
    "sum=0\n",
    "for i in range(10):\n",
    "    num= int(input(\"Enter a number :\"))\n",
    "    list.append(num)\n",
    "    sum=sum+num\n",
    "print(list)\n",
    "print(\"sum is :{}\".format(sum))"
   ]
  },
  {
   "cell_type": "code",
   "execution_count": 27,
   "metadata": {},
   "outputs": [
    {
     "name": "stdout",
     "output_type": "stream",
     "text": [
      "Enter any number :7\n",
      " 7 X 1 = 7\n",
      " 7 X 2 = 14\n",
      " 7 X 3 = 21\n",
      " 7 X 4 = 28\n",
      " 7 X 5 = 35\n",
      " 7 X 6 = 42\n",
      " 7 X 7 = 49\n",
      " 7 X 8 = 56\n",
      " 7 X 9 = 63\n",
      " 7 X 10 = 70\n"
     ]
    }
   ],
   "source": [
    "# 7. WAP to input a number and print its table. Ex: if user enters the number as 7, output should be\n",
    "\n",
    "num=int(input(\"Enter any number :\"))\n",
    "for i in range(10):\n",
    "              print(\" {} X {} = {}\".format(num, i+1, (i+1)*num))"
   ]
  },
  {
   "cell_type": "code",
   "execution_count": 49,
   "metadata": {},
   "outputs": [
    {
     "name": "stdout",
     "output_type": "stream",
     "text": [
      "Enter any sentence :Python is a programming language.\n",
      "33\n",
      "['Python', 'is', 'a', 'programming', 'language.']\n",
      "29\n",
      "\n",
      "Total number of spaces in the entered string is : 4\n"
     ]
    }
   ],
   "source": [
    "# 8. WAP to print total number of spaces in a string (Use for loop to iterate over the string.\n",
    "# Don’t use count function).\n",
    "\n",
    "s=input(\"Enter any sentence :\")\n",
    "len_with_space=len(s)\n",
    "print(len_with_space)\n",
    "s=s.split()\n",
    "print(s)\n",
    "len_without_space=0\n",
    "for i in range(len(s)):\n",
    "    len_without_space+=len(s[i])\n",
    "print(len_without_space)\n",
    "\n",
    "print()\n",
    "\n",
    "print(\"Total number of spaces in the entered string is : {}\".format(len_with_space-len_without_space))\n",
    "\n",
    "\n",
    "\n",
    "\n"
   ]
  },
  {
   "cell_type": "code",
   "execution_count": 81,
   "metadata": {},
   "outputs": [
    {
     "name": "stdout",
     "output_type": "stream",
     "text": [
      "Please type a string: hello\n",
      "0 1 0 1 0\n"
     ]
    }
   ],
   "source": [
    "# 9. WAP to input a string and count number of vowels in the string. \n",
    "# [Note: it should work for both capital and small alphabets]\n",
    "\n",
    "s = input(\"Please type a string: \").lower()\n",
    "acount = 0\n",
    "ecount = 0\n",
    "icount = 0\n",
    "ocount = 0\n",
    "ucount = 0\n",
    "\n",
    "if 'a' in s:\n",
    "     acount = acount + 1\n",
    "\n",
    "if 'e' in s:\n",
    "     ecount = ecount + 1\n",
    "\n",
    "if 'i' in s:\n",
    "    icount = icount + 1\n",
    "\n",
    "if 'o' in s:\n",
    "     ocount = ocount + 1\n",
    "\n",
    "if 'u' in s:\n",
    "     ucount = ucount + 1\n",
    "\n",
    "print(acount, ecount, icount, ocount, ucount)"
   ]
  },
  {
   "cell_type": "code",
   "execution_count": 85,
   "metadata": {},
   "outputs": [
    {
     "name": "stdout",
     "output_type": "stream",
     "text": [
      "Please type a string: VOWELSAREAEIOU\n",
      "v_w_ls_r______\n"
     ]
    }
   ],
   "source": [
    "# 10. WAP to input a string and replace all vowels with ‘_’.\n",
    "# [Hint: Convert string to list. Remember!! Strings are immutable. Replace in the list and then join]\n",
    "\n",
    "s = input(\"Please type a string: \").lower()\n",
    "if 'a' in s:\n",
    "     s=s.replace('a','_')\n",
    "\n",
    "if 'e' in s:\n",
    "     s=s.replace('e','_')\n",
    "\n",
    "if 'i' in s:\n",
    "    s=s.replace('i','_')\n",
    "\n",
    "if 'o' in s:\n",
    "    s=s.replace('o','_')\n",
    "\n",
    "if 'u' in s:\n",
    "     s=s.replace('u','_')\n",
    "print(s)"
   ]
  },
  {
   "cell_type": "code",
   "execution_count": 91,
   "metadata": {},
   "outputs": [
    {
     "name": "stdout",
     "output_type": "stream",
     "text": [
      "Num:  0\n",
      "Loop Ends\n",
      "Num:  0\n"
     ]
    },
    {
     "ename": "SystemExit",
     "evalue": "",
     "output_type": "error",
     "traceback": [
      "An exception has occurred, use %tb to see the full traceback.\n",
      "\u001b[0;31mSystemExit\u001b[0m\n"
     ]
    }
   ],
   "source": [
    "#11. Find output:\n",
    "\n",
    "for num in range(10):\n",
    "    print(\"Num: \",num)\n",
    "    if num % 4 ==0:\n",
    "        break\n",
    "print(\"Loop Ends\")\n",
    "\n",
    "#print()\n",
    "\n",
    "import sys\n",
    "for num in range(10):\n",
    "    print(\"Num: \",num)\n",
    "    if num % 4 ==0:\n",
    "        sys.exit()\n",
    "print(\"Loop Ends\")"
   ]
  },
  {
   "cell_type": "code",
   "execution_count": 93,
   "metadata": {},
   "outputs": [
    {
     "name": "stdout",
     "output_type": "stream",
     "text": [
      "*****\n",
      "*****\n",
      "*****\n",
      "*****\n",
      "*****\n"
     ]
    }
   ],
   "source": [
    "# 12a. Find the output of the following code snippets. \n",
    "\n",
    "for i1 in range(1,6):\n",
    "    for i2 in range(5):\n",
    "        print('*',end='')\n",
    "    print()"
   ]
  },
  {
   "cell_type": "code",
   "execution_count": 1,
   "metadata": {},
   "outputs": [
    {
     "name": "stdout",
     "output_type": "stream",
     "text": [
      "1\n",
      "22\n",
      "333\n",
      "4444\n",
      "55555\n"
     ]
    }
   ],
   "source": [
    "# 12b.\n",
    "\n",
    "for i1 in range(1,6):\n",
    "    print(str(i1)*i1)"
   ]
  },
  {
   "cell_type": "code",
   "execution_count": 95,
   "metadata": {},
   "outputs": [
    {
     "name": "stdout",
     "output_type": "stream",
     "text": [
      "1\n",
      "22\n",
      "333\n",
      "4444\n",
      "55555\n"
     ]
    }
   ],
   "source": [
    "#12c.\n",
    "for i1 in range(1,6):\n",
    "    for i2 in range(i1):\n",
    "        print(i1, end=\"\")\n",
    "    print()"
   ]
  },
  {
   "cell_type": "code",
   "execution_count": 3,
   "metadata": {},
   "outputs": [
    {
     "name": "stdout",
     "output_type": "stream",
     "text": [
      "**\n",
      "***\n",
      "****\n",
      "*****\n",
      "******\n"
     ]
    }
   ],
   "source": [
    "#12d.\n",
    "for i1 in range(1,6):\n",
    "    for i2 in range(i1+1):\n",
    "        print(\"*\", end=\"\")\n",
    "    print()"
   ]
  }
 ],
 "metadata": {
  "kernelspec": {
   "display_name": "Python 3",
   "language": "python",
   "name": "python3"
  },
  "language_info": {
   "codemirror_mode": {
    "name": "ipython",
    "version": 3
   },
   "file_extension": ".py",
   "mimetype": "text/x-python",
   "name": "python",
   "nbconvert_exporter": "python",
   "pygments_lexer": "ipython3",
   "version": "3.8.3"
  }
 },
 "nbformat": 4,
 "nbformat_minor": 4
}
