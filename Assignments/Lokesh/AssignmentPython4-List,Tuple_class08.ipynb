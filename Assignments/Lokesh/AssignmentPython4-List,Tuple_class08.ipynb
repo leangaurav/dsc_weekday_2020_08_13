{
 "cells": [
  {
   "cell_type": "code",
   "execution_count": 9,
   "metadata": {},
   "outputs": [
    {
     "name": "stdout",
     "output_type": "stream",
     "text": [
      "[1, 2, 3, 4, 5, 6]\n"
     ]
    }
   ],
   "source": [
    "# 1. Convert a Tuple t = (1,2,3,4,5) to a list\n",
    "\n",
    "t = (1,2,3,4,5,6)\n",
    "t_l=list(t)\n",
    "print(t_l)"
   ]
  },
  {
   "cell_type": "code",
   "execution_count": 12,
   "metadata": {},
   "outputs": [
    {
     "name": "stdout",
     "output_type": "stream",
     "text": [
      "[1, 3, 5, 7, 8, 6, 4, 2]\n",
      "\n",
      "(8, 6, 4, 2, 1, 3, 5, 7)\n"
     ]
    }
   ],
   "source": [
    "# 2. WAP to join a list and a tuple:\n",
    "\n",
    "L = [1,3,5,7] \n",
    "T = (8,6,4,2)\n",
    "\n",
    "s=L+list(T)\n",
    "print(s)\n",
    "print()\n",
    "s=T+tuple(L)\n",
    "print(s)\n"
   ]
  },
  {
   "cell_type": "code",
   "execution_count": null,
   "metadata": {},
   "outputs": [],
   "source": [
    "# 3. What is difference between list and tuple.\n",
    "\n",
    "#Lists are mutable and tuples are immutable."
   ]
  },
  {
   "cell_type": "code",
   "execution_count": 6,
   "metadata": {},
   "outputs": [
    {
     "name": "stdout",
     "output_type": "stream",
     "text": [
      "['C', 'A', 'c', 'd', 'a']\n",
      "\n",
      "['C', 'A', 'c', 'd', 'a']\n"
     ]
    }
   ],
   "source": [
    "# 4. Print the list in reverse order\n",
    "\n",
    "i = ['a','d','c','A','C']\n",
    "i.reverse()\n",
    "print(i)\n",
    "\n",
    "print()\n",
    "\n",
    "k = ['a','d','c','A','C']\n",
    "print(k[::-1])\n"
   ]
  },
  {
   "cell_type": "code",
   "execution_count": 10,
   "metadata": {},
   "outputs": [
    {
     "name": "stdout",
     "output_type": "stream",
     "text": [
      "[11, 21, 31, 41]\n",
      "\n",
      "[11, 21, 31, 41]\n"
     ]
    }
   ],
   "source": [
    "# 5. Print Elements at Odd indexes from a list (Do not use loop)\n",
    "l = [10,11,20, 21,30, 31, 40, 41]\n",
    "print(l[1:len(l):2])\n",
    "print()\n",
    "print(l[1::2])"
   ]
  },
  {
   "cell_type": "code",
   "execution_count": 12,
   "metadata": {},
   "outputs": [],
   "source": [
    "# 6. How many ways you can copy a list.\n",
    "\n",
    "\n",
    "# 1.Using the Copy() Method: the Copy method of the list object is used to copy only the content inside the list. \n",
    "#   So the new list will not have the same reference id or memory location. so if we make any changes in the \n",
    "#   new_list it will not get reflected in the old_ist.\n",
    "\n",
    "\n",
    "# 2. Using list() function: List() is built-in function in python. it is also used to create a new list in python. \n",
    "#    If we pass old_list as an argument inside this function. It copies the content of the old_list and generates \n",
    "#    a new_list.\n",
    "#    The new list will not have same reference id because only content gets copied in this case\n",
    "\n",
    "# 3. Using List Slicing: List slicing is a way to extract data from a list. So using list slicing if we extract \n",
    "#    all the content from one list, the new list will have all the content from the old list.\n",
    "#    Again this method will only copy content not reference id.\n",
    "\n",
    "# 4. Shallow Copy: We can use the copy function of the copy module to get content from one list to another. \n",
    "#    Again it only copies the content, so the new list will have new Reference id.\n",
    "\n",
    "# 5. Deep Copy: We can also use the Deep Copy function of the copy module in the same way as Shallow Copy. \n",
    "#     Both function works the same for a Normal List having simple content \n",
    "#     https://medium.com/analytics-vidhya/difference-between-deep-copy-and-shallow-copy-in-python-8c7ebc3fca8\n",
    "\n",
    "# 6. Direct Assigning: If we Assign old_list to the new_list it copies content as well as Reference so changes \n",
    "#     will be reflected in old_list if it is done in the new_list.\n",
    "    \n"
   ]
  },
  {
   "cell_type": "code",
   "execution_count": 20,
   "metadata": {},
   "outputs": [
    {
     "name": "stdout",
     "output_type": "stream",
     "text": [
      "a\n",
      "5\n"
     ]
    }
   ],
   "source": [
    "# 7. Predict output\n",
    "\n",
    "n_List=[\"Happy\",[2,0,1,5]]\n",
    "print(n_List[0][1])\n",
    "print(n_List[1][3])"
   ]
  },
  {
   "cell_type": "code",
   "execution_count": 21,
   "metadata": {},
   "outputs": [
    {
     "name": "stdout",
     "output_type": "stream",
     "text": [
      "[1, 4, 6, 8]\n",
      "[1, 3, 5, 7]\n"
     ]
    }
   ],
   "source": [
    "#8. Predict output\n",
    "\n",
    "odd=[2,4,6,8]\n",
    "odd[0]=1\n",
    "print(odd)\n",
    "odd[1:4]=[3,5,7]\n",
    "print(odd)\n",
    "\n"
   ]
  },
  {
   "cell_type": "code",
   "execution_count": 23,
   "metadata": {},
   "outputs": [
    {
     "name": "stdout",
     "output_type": "stream",
     "text": [
      "[1, 3, 5, [7, 9]]\n",
      "[1, 3, 5, [7, 9], 11, 13]\n"
     ]
    }
   ],
   "source": [
    "#9. Predict output\n",
    "odd=[1,3,5]\n",
    "odd.append([7,9])\n",
    "print(odd)\n",
    "odd.extend([11,13])\n",
    "print(odd)"
   ]
  },
  {
   "cell_type": "code",
   "execution_count": 25,
   "metadata": {},
   "outputs": [
    {
     "name": "stdout",
     "output_type": "stream",
     "text": [
      "<class 'tuple'>\n",
      "<class 'int'>\n",
      "<class 'int'>\n"
     ]
    }
   ],
   "source": [
    "#10. notePredict output\n",
    "x=1,2,3\n",
    "print(type(x))\n",
    "x=(1)\n",
    "print(type(x))\n",
    "x=1\n",
    "print(type(x))\n"
   ]
  },
  {
   "cell_type": "code",
   "execution_count": 47,
   "metadata": {},
   "outputs": [
    {
     "name": "stdout",
     "output_type": "stream",
     "text": [
      "1 2 3 \n",
      "4 5 6 \n",
      "7 8 9 \n"
     ]
    }
   ],
   "source": [
    "# 11. Try to represent a matrix with following data in python:\n",
    "a = [[1, 2, 3], [4,5, 6], [7, 8, 9]]\n",
    "for i in range(len(a)):\n",
    "    for j in range(len(a[i])):\n",
    "        print(a[i][j], end=' ')\n",
    "    print()"
   ]
  },
  {
   "cell_type": "code",
   "execution_count": 52,
   "metadata": {},
   "outputs": [
    {
     "name": "stdout",
     "output_type": "stream",
     "text": [
      "('s', 't', 'r', 'i', 'n', 'g')\n",
      "('g', 'n', 'i', 'r', 't', 's')\n",
      "('n', 's')\n"
     ]
    }
   ],
   "source": [
    "# 12. Predict output\n",
    "t=tuple('string')\n",
    "print(t)\n",
    "print(t[::-1])\n",
    "print(t[::2][::-2])"
   ]
  },
  {
   "cell_type": "code",
   "execution_count": 56,
   "metadata": {},
   "outputs": [
    {
     "name": "stdout",
     "output_type": "stream",
     "text": [
      "True\n",
      "False\n",
      "1\n",
      "3\n"
     ]
    }
   ],
   "source": [
    "# 13.Predict output\n",
    "t =tuple([10,20,30,40,50,60])\n",
    "print(60 in t)\n",
    "print('60' in t)\n",
    "print(t.count(10))\n",
    "print(t.index(40))"
   ]
  },
  {
   "cell_type": "code",
   "execution_count": 61,
   "metadata": {},
   "outputs": [
    {
     "name": "stdout",
     "output_type": "stream",
     "text": [
      "enter any string :aba\n",
      "palindrome\n"
     ]
    }
   ],
   "source": [
    "#14. Write a program to input a string and print if it is palindrome or not.\n",
    "str=input(\"enter any string :\")\n",
    "if str==str[::-1]:\n",
    "    print('palindrome')\n",
    "else:\n",
    "    print('not a palindrome')"
   ]
  },
  {
   "cell_type": "code",
   "execution_count": 67,
   "metadata": {},
   "outputs": [
    {
     "name": "stdout",
     "output_type": "stream",
     "text": [
      "(20, 15, 10, 5)\n"
     ]
    }
   ],
   "source": [
    "#15. Use the range method and create a tuple containing the following values: (20, 15, 10, 5)\n",
    "\n",
    "tup=tuple(range(20,4,-5))\n",
    "print(tup)"
   ]
  },
  {
   "cell_type": "code",
   "execution_count": 72,
   "metadata": {},
   "outputs": [
    {
     "name": "stdout",
     "output_type": "stream",
     "text": [
      "enter any string :lokesh\n",
      "['l', 'o', 'k', 'e', 's', 'h']\n"
     ]
    }
   ],
   "source": [
    "# 16. WAP to convert string to list of characters.\n",
    "str=input(\"enter any string :\")\n",
    "str=list(str)\n",
    "print(str)"
   ]
  },
  {
   "cell_type": "code",
   "execution_count": 78,
   "metadata": {},
   "outputs": [
    {
     "name": "stdout",
     "output_type": "stream",
     "text": [
      "<class 'list'>\n",
      "<class 'NoneType'>\n",
      "<class 'str'>\n",
      "<class 'bool'>\n"
     ]
    }
   ],
   "source": [
    "#17.What is the return type of:\n",
    "\n",
    "print(type('1 2'.split()))\n",
    "\n",
    "print(type([1,3,2].sort()))\n",
    "\n",
    "print(type('abc'.upper()))\n",
    "\n",
    "print(type(1 in [1,2]))"
   ]
  }
 ],
 "metadata": {
  "kernelspec": {
   "display_name": "Python 3",
   "language": "python",
   "name": "python3"
  },
  "language_info": {
   "codemirror_mode": {
    "name": "ipython",
    "version": 3
   },
   "file_extension": ".py",
   "mimetype": "text/x-python",
   "name": "python",
   "nbconvert_exporter": "python",
   "pygments_lexer": "ipython3",
   "version": "3.8.3"
  }
 },
 "nbformat": 4,
 "nbformat_minor": 4
}
