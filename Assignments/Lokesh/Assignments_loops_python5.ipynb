{
 "cells": [
  {
   "cell_type": "code",
   "execution_count": 29,
   "metadata": {},
   "outputs": [
    {
     "name": "stdout",
     "output_type": "stream",
     "text": [
      "Enter a number :5\n",
      "1\n",
      "2\n",
      "3\n",
      "4\n",
      "5\n",
      "\n",
      "Enter a number :5\n",
      "1\n",
      "2\n",
      "3\n",
      "4\n",
      "5\n"
     ]
    }
   ],
   "source": [
    "# 1. WAP to print first n natural numbers (input n from user).\n",
    "n= int(input('Enter a number :'))\n",
    "for i in range(1,n+1):\n",
    "    print(i)\n",
    "    i+=1\n",
    "    \n",
    "#0r---------------------------------\n",
    "print()\n",
    "\n",
    "n= int(input('Enter a number :'))\n",
    "s=1\n",
    "for i in range(n):\n",
    "    print(s)\n",
    "    s+=1"
   ]
  },
  {
   "cell_type": "code",
   "execution_count": 33,
   "metadata": {},
   "outputs": [
    {
     "name": "stdout",
     "output_type": "stream",
     "text": [
      "Enter a number :4\n",
      "10\n"
     ]
    }
   ],
   "source": [
    "# 2. WAP to find sum of first n natural numbers\n",
    "n= int(input('Enter a number :'))\n",
    "s=0\n",
    "for i in range(n+1):\n",
    "    s=s+i\n",
    "    i+=1\n",
    "print(s)"
   ]
  },
  {
   "cell_type": "code",
   "execution_count": 30,
   "metadata": {},
   "outputs": [
    {
     "name": "stdout",
     "output_type": "stream",
     "text": [
      "Enter a number :5\n",
      "5\n",
      "4\n",
      "3\n",
      "2\n",
      "1\n"
     ]
    }
   ],
   "source": [
    "# 3. WAP to print first n natural numbers in reverse order.\n",
    "\n",
    "n= int(input('Enter a number :'))\n",
    "s=n+1\n",
    "for i in range(n):\n",
    "    s=s-1\n",
    "    print(s)\n",
    "\n",
    "    \n",
    "    "
   ]
  },
  {
   "cell_type": "code",
   "execution_count": 36,
   "metadata": {},
   "outputs": [
    {
     "name": "stdout",
     "output_type": "stream",
     "text": [
      "Enter a number :5\n",
      "120\n"
     ]
    }
   ],
   "source": [
    "# 4. WAP to input a number and print its factorial.\n",
    "n= int(input('Enter a number :'))\n",
    "s=1\n",
    "for i in range(n):\n",
    "    s=s*n\n",
    "    n-=1\n",
    "print(s)\n",
    "    "
   ]
  },
  {
   "cell_type": "code",
   "execution_count": 47,
   "metadata": {},
   "outputs": [
    {
     "name": "stdout",
     "output_type": "stream",
     "text": [
      "Number of elements in Fibonacci Series) : 5\n",
      "[0, 1, 1, 2, 3]\n"
     ]
    }
   ],
   "source": [
    "# 5. WAP to print Fibonacci sequence till n.\n",
    "\n",
    "N = int(input(\"Number of elements in Fibonacci Series) : \"))\n",
    "\n",
    "#initialize the list with starting elements: 0, 1\n",
    "fibonacciSeries = [0,1]\n",
    "\n",
    "if N>2:\n",
    "    for i in range(2, N):\n",
    "    \n",
    "#next elment in series = sum of its previous two numbers\n",
    "        nextElement = fibonacciSeries[i-1] + fibonacciSeries[i-2]\n",
    "#append the element to the series\n",
    "        fibonacciSeries.append(nextElement)\n",
    "\n",
    "print(fibonacciSeries)\n",
    "\n",
    "\n",
    "\n",
    "\n",
    "# # for the nth number in fibonacci series\n",
    "# n= int(input('Enter a number :'))\n",
    "# def Fibonacci(n): \n",
    "#     if n<0: \n",
    "#         print(\"Incorrect input\") \n",
    "#     # First Fibonacci number is 0 \n",
    "#     elif n==1: \n",
    "#         return 0\n",
    "#     # Second Fibonacci number is 1 \n",
    "#     elif n==2: \n",
    "#         return 1\n",
    "#     else: \n",
    "#         return Fibonacci(n-1)+Fibonacci(n-2) \n",
    "# Fibonacci(n)"
   ]
  },
  {
   "cell_type": "code",
   "execution_count": 77,
   "metadata": {},
   "outputs": [
    {
     "name": "stdout",
     "output_type": "stream",
     "text": [
      "Enter any number with atleast two digts45678\n",
      "4,5,6,7,8,"
     ]
    }
   ],
   "source": [
    "# 6. WAP to print all digits of a number input from user.\n",
    "num=input(\"Enter any number with atleast two digts\")\n",
    "lst=num.strip()\n",
    "l=len(num)\n",
    "if l>=2:\n",
    "    for i in range(l):\n",
    "        \n",
    "        n=lst[i]\n",
    "        i=i+1\n",
    "        print(n, end=',')\n",
    "else:\n",
    "    print(\"invalid input\")\n",
    "        \n",
    "        \n",
    "        \n",
    "    \n"
   ]
  },
  {
   "cell_type": "code",
   "execution_count": 88,
   "metadata": {},
   "outputs": [
    {
     "name": "stdout",
     "output_type": "stream",
     "text": [
      "Enter any number :456\n",
      "15\n"
     ]
    }
   ],
   "source": [
    "# 7. WAP to find sum of all digits of a number.\n",
    "\n",
    "num=input(\"Enter any number :\")\n",
    "lst=num.strip()\n",
    "l=len(num)\n",
    "sum=0\n",
    "for i in range(l):\n",
    "    s=int(lst[i])\n",
    "    sum=s+sum\n",
    "    i+=1\n",
    "print(sum)"
   ]
  },
  {
   "cell_type": "code",
   "execution_count": 15,
   "metadata": {},
   "outputs": [
    {
     "name": "stdout",
     "output_type": "stream",
     "text": [
      "Enter any number :5\n"
     ]
    },
    {
     "data": {
      "text/plain": [
       "120"
      ]
     },
     "execution_count": 15,
     "metadata": {},
     "output_type": "execute_result"
    }
   ],
   "source": [
    "# 8. WAP to find sum of following series given n as input from user\n",
    "# 1 + 2! + 3! + 4! + 5! + ....n!\n",
    "# Where n! denotes the factorial of number n.\n",
    "\n",
    "\n",
    "\n",
    "\n",
    "def fac():\n",
    "    num=int(input(\"Enter any number :\"))\n",
    "    fact=1\n",
    "    for i in range(1,num+1):\n",
    "        fact=fact*i\n",
    "    return fact\n",
    "\n",
    "fac()\n",
    "    \n",
    "    \n",
    "    \n",
    "    "
   ]
  },
  {
   "cell_type": "code",
   "execution_count": 18,
   "metadata": {},
   "outputs": [
    {
     "name": "stdout",
     "output_type": "stream",
     "text": [
      "enter the base:5\n",
      "enter the exponent:3\n",
      "125\n"
     ]
    }
   ],
   "source": [
    "# 9. WAP to input base and exponent and print result without using inbuilt function pow(use for or while loop).\n",
    "\n",
    "m=int(input(\"enter the base:\"))\n",
    "n=int(input(\"enter the exponent:\"))\n",
    "p=1\n",
    "for i in range(n):\n",
    "    p=m*p\n",
    "print(p)\n",
    "    "
   ]
  },
  {
   "cell_type": "code",
   "execution_count": 27,
   "metadata": {},
   "outputs": [
    {
     "name": "stdout",
     "output_type": "stream",
     "text": [
      "* \n",
      "* * \n",
      "* * * \n",
      "* * * * \n",
      "* * * * * \n"
     ]
    }
   ],
   "source": [
    "# 10a. Print following patterns:\n",
    "for i in range(5):\n",
    "    for j in range(i+1):\n",
    "        print(\"*\", end=\" \")\n",
    "    print()"
   ]
  },
  {
   "cell_type": "code",
   "execution_count": 31,
   "metadata": {},
   "outputs": [
    {
     "name": "stdout",
     "output_type": "stream",
     "text": [
      "* * * * * \n",
      "* * * * \n",
      "* * * \n",
      "* * \n",
      "* \n"
     ]
    }
   ],
   "source": [
    "# 10b. Print following patterns:\n",
    "for i in range(5):\n",
    "    for j in range(5-i):\n",
    "        print(\"*\", end=\" \")\n",
    "    print()\n",
    "    "
   ]
  },
  {
   "cell_type": "code",
   "execution_count": 33,
   "metadata": {},
   "outputs": [
    {
     "name": "stdout",
     "output_type": "stream",
     "text": [
      "          * \n",
      "        * * \n",
      "      * * * \n",
      "    * * * * \n",
      "  * * * * * \n"
     ]
    }
   ],
   "source": [
    "# 10c. Print following patterns:\n",
    "for i in range(5):\n",
    "    for j in range(5-i):\n",
    "        print(\" \", end=\" \")\n",
    "    for j in range(i+1):\n",
    "        print(\"*\",end=\" \")\n",
    "    print()`\n",
    "    "
   ]
  },
  {
   "cell_type": "code",
   "execution_count": 5,
   "metadata": {},
   "outputs": [
    {
     "name": "stdout",
     "output_type": "stream",
     "text": [
      "Enter the no of lines to be printed :5\n",
      "    * \n",
      "   * * \n",
      "  * * * \n",
      " * * * * \n",
      "* * * * * \n",
      "\n",
      "Enter the no of rows :5\n",
      "      \n",
      "     * \n",
      "    * * \n",
      "   * * * \n",
      "  * * * * \n",
      " * * * * * \n"
     ]
    }
   ],
   "source": [
    "# 10d. Print following patterns:\n",
    "no_lines=int(input(\"Enter the no of lines to be printed :\"))\n",
    "for rows in range(no_lines):\n",
    "    for spaces in range(no_lines-rows-1):\n",
    "        print(end=\" \")\n",
    "    for symbols in range(rows+1):\n",
    "        print(\"*\",end=\" \")\n",
    "    print()\n",
    "    \n",
    "#--------------------------------\n",
    "print()\n",
    "\n",
    "rows=int(input(\"Enter the no of rows :\"))\n",
    "rows=rows+1\n",
    "s=rows-1\n",
    "for num in range(rows):\n",
    " print(\" \"*s,\"* \"*num)\n",
    " s=s-1"
   ]
  },
  {
   "cell_type": "code",
   "execution_count": 7,
   "metadata": {},
   "outputs": [
    {
     "name": "stdout",
     "output_type": "stream",
     "text": [
      "1 \n",
      "2 2 \n",
      "3 3 3 \n",
      "4 4 4 4 \n",
      "5 5 5 5 5 \n"
     ]
    }
   ],
   "source": [
    "# 11a. Print following number patterns:\n",
    "\n",
    "for rows in range(5):\n",
    "    for symbols in range(rows+1):\n",
    "        print(rows+1, end=\" \")\n",
    "    rows=rows+1   \n",
    "    print()\n",
    "    "
   ]
  },
  {
   "cell_type": "code",
   "execution_count": 16,
   "metadata": {},
   "outputs": [
    {
     "name": "stdout",
     "output_type": "stream",
     "text": [
      "1 \n",
      "1 2 \n",
      "1 2 3 \n",
      "1 2 3 4 \n",
      "1 2 3 4 5 \n"
     ]
    }
   ],
   "source": [
    "# 11b. Print following number patterns:\n",
    "for rows in range(5):\n",
    "    for symbols in range(rows+1):\n",
    "        print(symbols+1, end=\" \")\n",
    "    \n",
    "        \n",
    "    print()\n"
   ]
  },
  {
   "cell_type": "code",
   "execution_count": 18,
   "metadata": {},
   "outputs": [
    {
     "name": "stdout",
     "output_type": "stream",
     "text": [
      "no of rows :5\n",
      "5 \n",
      "4 4 \n",
      "3 3 3 \n",
      "2 2 2 2 \n",
      "1 1 1 1 1 \n"
     ]
    }
   ],
   "source": [
    "# 11c. Print following number patterns:\n",
    "n=int(input(\"no of rows :\"))\n",
    "for i in range(n):\n",
    "    for j in range(i+1):\n",
    "        print(n-i,end=\" \")\n",
    "    print()"
   ]
  },
  {
   "cell_type": "code",
   "execution_count": 23,
   "metadata": {},
   "outputs": [
    {
     "name": "stdout",
     "output_type": "stream",
     "text": [
      "        1 \n",
      "      2 2 \n",
      "    3 3 3 \n",
      "  4 4 4 4 \n",
      "5 5 5 5 5 \n"
     ]
    }
   ],
   "source": [
    "# 11d. Print following number patterns:(for all pattern problems use a table and assign i, j values to the output pattern)\n",
    "\n",
    "for i in range(5):\n",
    "    for j in range(5-i-1):\n",
    "        print(\" \",end=\" \")\n",
    "    for j in range(i+1):\n",
    "        print(i+1,end=\" \")\n",
    "    print()"
   ]
  },
  {
   "cell_type": "code",
   "execution_count": 48,
   "metadata": {},
   "outputs": [
    {
     "name": "stdout",
     "output_type": "stream",
     "text": [
      "A \n",
      "A B \n",
      "A B C \n",
      "A B C D \n",
      "A B C D E \n"
     ]
    }
   ],
   "source": [
    "# 12a. Print following character patterns:\n",
    "\n",
    "\n",
    "n=65\n",
    "for i in range(5):\n",
    "    for j in range(i+1):\n",
    "           print(chr(j+n), end=\" \")\n",
    "    print()\n",
    "\n"
   ]
  },
  {
   "cell_type": "code",
   "execution_count": 85,
   "metadata": {},
   "outputs": [
    {
     "name": "stdout",
     "output_type": "stream",
     "text": [
      "A \n",
      "B C \n",
      "D E F \n",
      "G H I J \n",
      "K L M N O \n"
     ]
    }
   ],
   "source": [
    "# 12b. Print following character patterns:\n",
    "\n",
    "n=65\n",
    "for i in range(5):\n",
    "    for j in range(i+1):\n",
    "        print(chr(n), end=\" \")\n",
    "        n=n+1\n",
    "    print()"
   ]
  },
  {
   "cell_type": "code",
   "execution_count": 86,
   "metadata": {},
   "outputs": [
    {
     "name": "stdout",
     "output_type": "stream",
     "text": [
      "A \n",
      "B B \n",
      "C C C \n",
      "D D D D \n",
      "E E E E E \n"
     ]
    }
   ],
   "source": [
    "# 12c. Print following character patterns:\n",
    "\n",
    "n=65\n",
    "for i in range(5):\n",
    "    for j in range(i+1):\n",
    "        print(chr(n+i), end=\" \")\n",
    "    print()"
   ]
  },
  {
   "cell_type": "code",
   "execution_count": 166,
   "metadata": {},
   "outputs": [
    {
     "name": "stdout",
     "output_type": "stream",
     "text": [
      "    A\n",
      "   ABA\n",
      "  ABCBA\n",
      " ABCDCBA\n",
      "ABCDEDCBA\n"
     ]
    }
   ],
   "source": [
    "# 12d. Print following character patterns:\n",
    "m=6   \n",
    "# Outer loop\n",
    "for i in range(65,70):\n",
    "    m=m-1\n",
    "    # Inner loop 1 \n",
    "    for j in range(m,1,-1):\n",
    "        print(\" \",end=\"\")\n",
    "    # Inner loop 2\n",
    "    for k in range(65,i+1):\n",
    "        print(chr(k),end=\"\")\n",
    "    # Inner loop 3\n",
    "    for n in range(i,65,-1):\n",
    "        print(chr(n-1),end=\"\")\n",
    "    print()"
   ]
  }
 ],
 "metadata": {
  "kernelspec": {
   "display_name": "Python 3",
   "language": "python",
   "name": "python3"
  },
  "language_info": {
   "codemirror_mode": {
    "name": "ipython",
    "version": 3
   },
   "file_extension": ".py",
   "mimetype": "text/x-python",
   "name": "python",
   "nbconvert_exporter": "python",
   "pygments_lexer": "ipython3",
   "version": "3.8.3"
  }
 },
 "nbformat": 4,
 "nbformat_minor": 4
}
