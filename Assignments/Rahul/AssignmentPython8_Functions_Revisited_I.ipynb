{
 "cells": [
  {
   "cell_type": "code",
   "execution_count": 5,
   "metadata": {},
   "outputs": [
    {
     "name": "stdout",
     "output_type": "stream",
     "text": [
      "Enter a number to find square :5\n",
      "25\n",
      "0.2\n",
      "-5\n"
     ]
    }
   ],
   "source": [
    "# 1. Write lambdas to:\n",
    "# a. Square a number x2\n",
    "# b. Inverse a number 1/x\n",
    "# c. Negate a number\n",
    "n=int(input(\"Enter a number to find square :\"))\n",
    "\n",
    "f=lambda x:x*x\n",
    "print(f(n))\n",
    "\n",
    "f=lambda x:1/x\n",
    "print(f(n))\n",
    "\n",
    "f=lambda x:-1*x\n",
    "print(f(n))"
   ]
  },
  {
   "cell_type": "code",
   "execution_count": 7,
   "metadata": {},
   "outputs": [
    {
     "name": "stdout",
     "output_type": "stream",
     "text": [
      "Enter list of numbers-1 0 -2 20 10\n",
      "20\n"
     ]
    }
   ],
   "source": [
    "#2. Use reduce function and an appropriate lambda to find the maximum number in a list\n",
    "from  functools import reduce\n",
    "\n",
    "a = input(\"Enter list of numbers\").split()\n",
    "\n",
    "f = lambda x,y: x if x > y else y\n",
    "\n",
    "r = reduce(f, a)\n",
    "print(r)"
   ]
  },
  {
   "cell_type": "code",
   "execution_count": 51,
   "metadata": {},
   "outputs": [
    {
     "name": "stdout",
     "output_type": "stream",
     "text": [
      "[-1.0, -0.25, -0.0625]\n"
     ]
    }
   ],
   "source": [
    "# 3. Write a function map_multiple that takes a list of functions/lambdas as first argument and a\n",
    "# sequence type as second argument.\n",
    "# The function picks first lambda from list, applies it to first element, then applies the second\n",
    "# function to the result of first one and ….\n",
    "# Similarly it does for each element and generates a mapping of input to output\n",
    "# def map_multiple(functs, sequence):\n",
    "# # write definition here\n",
    "# Ex: let list of lambdas be from question 1 and the list on numbers be [1,2,4]\n",
    "# So first function gives [1, 4, 16]\n",
    "# Second gives [1, 0.25, 0.0625]\n",
    "# Third gives [-1, -0.25, -0.0625]. Which is the final result\n",
    "\n",
    "def map_multiple(functs, sequence):\n",
    "    d=dict(zip(functs, sequence))\n",
    "    return d\n",
    "\n",
    "functs=[lambda x:x*x,lambda x:1/x,lambda x:-1*x]\n",
    "sequence=[1,2,4]\n",
    "ans=[]\n",
    "\n",
    "for num in sequence:\n",
    "    res=num\n",
    "    for funct in functs:\n",
    "        res=funct(res)\n",
    "    ans.append(res)\n",
    "print(ans)\n"
   ]
  },
  {
   "cell_type": "code",
   "execution_count": 48,
   "metadata": {},
   "outputs": [
    {
     "name": "stdout",
     "output_type": "stream",
     "text": [
      "50\n"
     ]
    }
   ],
   "source": [
    "#4. Predict the output of following code:\n",
    "from functools import reduce\n",
    "f=lambda x,y : x if x>y else y\n",
    "l=[10,30,50,30,10]\n",
    "num=reduce(f,l)\n",
    "print(num)"
   ]
  },
  {
   "cell_type": "code",
   "execution_count": 52,
   "metadata": {},
   "outputs": [
    {
     "name": "stdout",
     "output_type": "stream",
     "text": [
      "[1.0, 0.5, 0.25, 0.125]\n"
     ]
    }
   ],
   "source": [
    "# 5. Find output of following:\n",
    "functs=[lambda x:x**0.5, lambda x:1/x]\n",
    "l=[1,4,16,64]\n",
    "ans=[]\n",
    "\n",
    "for num in l:\n",
    "    res=num\n",
    "    for funct in functs:\n",
    "        res=funct(res)\n",
    "    ans.append(res)\n",
    "print(ans)"
   ]
  },
  {
   "cell_type": "code",
   "execution_count": 77,
   "metadata": {},
   "outputs": [
    {
     "name": "stdout",
     "output_type": "stream",
     "text": [
      "[10, 20]\n"
     ]
    }
   ],
   "source": [
    "# 6. Use filter function to filter a list of numbers and strings such that the result contains only\n",
    "# numbers. (Hint : Use isinstance method)\n",
    "a = [10,20,'abc',' ']\n",
    "\n",
    "r = filter(lambda x: isinstance(x, int), a)\n",
    "print( list(r))\n",
    "        \n"
   ]
  },
  {
   "cell_type": "code",
   "execution_count": 111,
   "metadata": {},
   "outputs": [
    {
     "name": "stdout",
     "output_type": "stream",
     "text": [
      "Height conversion of 5ft10in is 1.778 meters for 5,10\n",
      "Height conversion of 5ft is 1.524 meters for 5,0\n",
      "Height conversion of 10in is 0.254 meters for 0,10\n"
     ]
    }
   ],
   "source": [
    "# 7. Assume a list containing heights ft and inches in the form of a list of string\n",
    "# Example : l = [‘5ft10in’, ‘5ft’, ….]\n",
    "# Write a function to convert the heights to meter. Use map function along with your function to convert everything to m\n",
    "\n",
    "l = ['5ft10in', '5ft', '10in']\n",
    "\n",
    "for j in l:\n",
    "    s1=j.find('ft')\n",
    "    s2=j.find('in')\n",
    "    if s1!=-1:\n",
    "        v1=int(j[0:s1])\n",
    "    else:\n",
    "        v1=(0)\n",
    "    if s2!=-1:\n",
    "        if s1==-1:\n",
    "            v2=int(j[0:s2])\n",
    "        else:\n",
    "            v2=int(j[s1+2:s2])\n",
    "    else:\n",
    "        v2=0\n",
    "    p=(v1+v2/12)*0.3048\n",
    "    print(f\"Height conversion of {j} is {p} meters\")\n"
   ]
  },
  {
   "cell_type": "code",
   "execution_count": 106,
   "metadata": {},
   "outputs": [
    {
     "name": "stdout",
     "output_type": "stream",
     "text": [
      "Help on class map in module builtins:\n",
      "\n",
      "class map(object)\n",
      " |  map(func, *iterables) --> map object\n",
      " |  \n",
      " |  Make an iterator that computes the function using arguments from\n",
      " |  each of the iterables.  Stops when the shortest iterable is exhausted.\n",
      " |  \n",
      " |  Methods defined here:\n",
      " |  \n",
      " |  __getattribute__(self, name, /)\n",
      " |      Return getattr(self, name).\n",
      " |  \n",
      " |  __iter__(self, /)\n",
      " |      Implement iter(self).\n",
      " |  \n",
      " |  __next__(self, /)\n",
      " |      Implement next(self).\n",
      " |  \n",
      " |  __reduce__(...)\n",
      " |      Return state information for pickling.\n",
      " |  \n",
      " |  ----------------------------------------------------------------------\n",
      " |  Static methods defined here:\n",
      " |  \n",
      " |  __new__(*args, **kwargs) from builtins.type\n",
      " |      Create and return a new object.  See help(type) for accurate signature.\n",
      "\n"
     ]
    }
   ],
   "source": [
    "# 8. Write the implementation for the map function yourself by the name my_map()\n",
    "#def my_map():\n",
    "\n",
    "help(map)"
   ]
  }
 ],
 "metadata": {
  "kernelspec": {
   "display_name": "Python 3",
   "language": "python",
   "name": "python3"
  },
  "language_info": {
   "codemirror_mode": {
    "name": "ipython",
    "version": 3
   },
   "file_extension": ".py",
   "mimetype": "text/x-python",
   "name": "python",
   "nbconvert_exporter": "python",
   "pygments_lexer": "ipython3",
   "version": "3.8.3"
  }
 },
 "nbformat": 4,
 "nbformat_minor": 4
}
