{
 "cells": [
  {
   "cell_type": "code",
   "execution_count": 1,
   "metadata": {},
   "outputs": [
    {
     "name": "stdout",
     "output_type": "stream",
     "text": [
      "d\n",
      "detneirO tcejbO si nohtyP\n",
      "Python is Object Oriente\n",
      "\n",
      "on is \n"
     ]
    }
   ],
   "source": [
    "#1. Guess output of each slice:\n",
    "s='Python is Object Oriented'\n",
    "\n",
    "print(s[-1])\n",
    "print(s[::-1])\n",
    "print(s[:-1])\n",
    "print(s[1:1])\n",
    "print(s[4:10])"
   ]
  },
  {
   "cell_type": "code",
   "execution_count": 2,
   "metadata": {},
   "outputs": [
    {
     "ename": "IndexError",
     "evalue": "string index out of range",
     "output_type": "error",
     "traceback": [
      "\u001b[1;31m---------------------------------------------------------------------------\u001b[0m",
      "\u001b[1;31mIndexError\u001b[0m                                Traceback (most recent call last)",
      "\u001b[1;32m<ipython-input-2-775654944961>\u001b[0m in \u001b[0;36m<module>\u001b[1;34m\u001b[0m\n\u001b[0;32m      1\u001b[0m \u001b[1;31m#2. What error do you see for following statements:\u001b[0m\u001b[1;33m\u001b[0m\u001b[1;33m\u001b[0m\u001b[1;33m\u001b[0m\u001b[0m\n\u001b[0;32m      2\u001b[0m \u001b[0ms\u001b[0m\u001b[1;33m=\u001b[0m \u001b[1;34m''\u001b[0m\u001b[1;33m\u001b[0m\u001b[1;33m\u001b[0m\u001b[0m\n\u001b[1;32m----> 3\u001b[1;33m \u001b[0mprint\u001b[0m\u001b[1;33m(\u001b[0m\u001b[0ms\u001b[0m\u001b[1;33m[\u001b[0m\u001b[1;36m1\u001b[0m\u001b[1;33m]\u001b[0m\u001b[1;33m)\u001b[0m\u001b[1;33m\u001b[0m\u001b[1;33m\u001b[0m\u001b[0m\n\u001b[0m",
      "\u001b[1;31mIndexError\u001b[0m: string index out of range"
     ]
    }
   ],
   "source": [
    "#2. What error do you see for following statements:\n",
    "s= ''\n",
    "print(s[1])"
   ]
  },
  {
   "cell_type": "code",
   "execution_count": 1,
   "metadata": {},
   "outputs": [
    {
     "ename": "NameError",
     "evalue": "name 's' is not defined",
     "output_type": "error",
     "traceback": [
      "\u001b[1;31m---------------------------------------------------------------------------\u001b[0m",
      "\u001b[1;31mNameError\u001b[0m                                 Traceback (most recent call last)",
      "\u001b[1;32m<ipython-input-1-d852aa0ab497>\u001b[0m in \u001b[0;36m<module>\u001b[1;34m\u001b[0m\n\u001b[0;32m      1\u001b[0m \u001b[1;31m#3. Do you get any error for the following code, if not give the output:\u001b[0m\u001b[1;33m\u001b[0m\u001b[1;33m\u001b[0m\u001b[1;33m\u001b[0m\u001b[0m\n\u001b[0;32m      2\u001b[0m \u001b[0mS\u001b[0m\u001b[1;33m=\u001b[0m\u001b[1;34m'Gaurav'\u001b[0m\u001b[1;33m\u001b[0m\u001b[1;33m\u001b[0m\u001b[0m\n\u001b[1;32m----> 3\u001b[1;33m \u001b[0mprint\u001b[0m\u001b[1;33m(\u001b[0m\u001b[0ms\u001b[0m\u001b[1;33m[\u001b[0m\u001b[1;36m1\u001b[0m\u001b[1;33m]\u001b[0m\u001b[1;33m)\u001b[0m\u001b[1;33m\u001b[0m\u001b[1;33m\u001b[0m\u001b[0m\n\u001b[0m",
      "\u001b[1;31mNameError\u001b[0m: name 's' is not defined"
     ]
    }
   ],
   "source": [
    "#3. Do you get any error for the following code, if not give the output:\n",
    "S='Gaurav'\n",
    "print(s[1])"
   ]
  },
  {
   "cell_type": "code",
   "execution_count": 53,
   "metadata": {},
   "outputs": [
    {
     "name": "stdout",
     "output_type": "stream",
     "text": [
      "6\n",
      "abc\n",
      "3\n",
      "['a#b#c#d#']\n",
      "['a', 'b', 'c', 'd', '']\n",
      "a$b$c$d$\n",
      "av\n",
      "False\n",
      "0, 1, 2\n",
      "abcba\n",
      "0 ,0 ,0 ,"
     ]
    }
   ],
   "source": [
    "#4. Find output of the following:\n",
    "#a) \n",
    "s='a b cd'\n",
    "print(len(s))\n",
    "print(s[::2])\n",
    "print(len(s[::2]))\n",
    "\n",
    "#b\n",
    "s='a#b#c#d#'\n",
    "print(s.split())\n",
    "print(s.split('#'))\n",
    "l=s.split('#')\n",
    "s='$'.join(l)\n",
    "print(s)\n",
    "\n",
    "#c\n",
    "S='Gaurav'\n",
    "S=S[::-2][::-2]\n",
    "print(S)\n",
    "\n",
    "#d\n",
    "print(1>2)\n",
    "\n",
    "#e\n",
    "print(4%2, 5%2, 2%5, sep=', ')\n",
    "\n",
    "#f \n",
    "s='abcba'\n",
    "s.upper()\n",
    "print(s) \n",
    "print(s.count('A'), end = ' ,') \n",
    "print(s.count('A', 2,4) , end = ' ,') \n",
    "print(s.count('a', 2,4) , end = ' ,')"
   ]
  },
  {
   "cell_type": "code",
   "execution_count": 15,
   "metadata": {},
   "outputs": [
    {
     "name": "stdout",
     "output_type": "stream",
     "text": [
      "Enter some string:a d b f g\n",
      "adbfg\n"
     ]
    }
   ],
   "source": [
    "#5. WAP to input a string and remove all spaces from it.\n",
    "s = input(\"Enter some string:\")\n",
    "\n",
    "print(s.replace(' ',''))"
   ]
  },
  {
   "cell_type": "code",
   "execution_count": null,
   "metadata": {},
   "outputs": [],
   "source": [
    "#6. What does this symbol denote:\n",
    "[]\n",
    "# List or Range"
   ]
  },
  {
   "cell_type": "code",
   "execution_count": 16,
   "metadata": {},
   "outputs": [
    {
     "name": "stdout",
     "output_type": "stream",
     "text": [
      "['__add__', '__class__', '__contains__', '__delattr__', '__dir__', '__doc__', '__eq__', '__format__', '__ge__', '__getattribute__', '__getitem__', '__getnewargs__', '__gt__', '__hash__', '__init__', '__init_subclass__', '__iter__', '__le__', '__len__', '__lt__', '__mod__', '__mul__', '__ne__', '__new__', '__reduce__', '__reduce_ex__', '__repr__', '__rmod__', '__rmul__', '__setattr__', '__sizeof__', '__str__', '__subclasshook__', 'capitalize', 'casefold', 'center', 'count', 'encode', 'endswith', 'expandtabs', 'find', 'format', 'format_map', 'index', 'isalnum', 'isalpha', 'isascii', 'isdecimal', 'isdigit', 'isidentifier', 'islower', 'isnumeric', 'isprintable', 'isspace', 'istitle', 'isupper', 'join', 'ljust', 'lower', 'lstrip', 'maketrans', 'partition', 'replace', 'rfind', 'rindex', 'rjust', 'rpartition', 'rsplit', 'rstrip', 'split', 'splitlines', 'startswith', 'strip', 'swapcase', 'title', 'translate', 'upper', 'zfill']\n"
     ]
    }
   ],
   "source": [
    "#7. WAP to print all methods(functions/operations) available in a string (Hint : dir())\n",
    "print(dir(' '))"
   ]
  },
  {
   "cell_type": "code",
   "execution_count": 51,
   "metadata": {},
   "outputs": [
    {
     "name": "stdout",
     "output_type": "stream",
     "text": [
      "rstrip found\n"
     ]
    }
   ],
   "source": [
    "#8. Write statement to check if rstrip method is available in the str class.\n",
    "#(Hint : Use the find function or in)\n",
    "s=dir(str)\n",
    "\n",
    "if 'rstrip' in s:\n",
    "    print('rstrip found')\n",
    "else:\n",
    "    print('rstrip not found')"
   ]
  },
  {
   "cell_type": "code",
   "execution_count": null,
   "metadata": {},
   "outputs": [],
   "source": [
    "#9. WAP to store the following patterns in a string variable and then print them:\n",
    "s='''\n",
    "*****    *   *      --------\n",
    "  *      ** **      |      |\n",
    "  *      * * *      O      |\n",
    "  *      *   *     /|\\     |\n",
    "  *                / \\     |\n",
    "                ------------\n",
    "'''"
   ]
  },
  {
   "cell_type": "code",
   "execution_count": 52,
   "metadata": {},
   "outputs": [
    {
     "name": "stdout",
     "output_type": "stream",
     "text": [
      "Enter some string:a b c d\n",
      "a\n",
      "b\n",
      "c\n",
      "d\n"
     ]
    }
   ],
   "source": [
    "#10. WAP to input a string and replace all space with new lines (\\n) and print again.\n",
    "s = input(\"Enter some string:\")\n",
    "print(s.replace(' ','\\n'))"
   ]
  },
  {
   "cell_type": "code",
   "execution_count": 55,
   "metadata": {},
   "outputs": [
    {
     "name": "stdout",
     "output_type": "stream",
     "text": [
      "Enter first and last name separated by space :rahul kadu\n",
      "RAHUL 5\n",
      "KADU 4\n"
     ]
    }
   ],
   "source": [
    "#11. WAP to input complete name(first and last name separated by space) and print first and last\n",
    "#name separately along with their length in upper case.\n",
    "s = input(\"Enter first and last name separated by space :\")\n",
    "n=s.split(' ')\n",
    "print(n[0].upper(),len(n[0]))\n",
    "print(n[1].upper(),len(n[1]))"
   ]
  },
  {
   "cell_type": "code",
   "execution_count": 60,
   "metadata": {},
   "outputs": [
    {
     "name": "stdout",
     "output_type": "stream",
     "text": [
      "Enter some string:abcds\n",
      "ab ds\n"
     ]
    }
   ],
   "source": [
    "#12. WAP to input a string and split it into 2 halves. The string can be of any length\n",
    "#Ex-1: Input = “String”\n",
    "#Ex-2: Input = “words”\n",
    "\n",
    "s = input(\"Enter some string:\")\n",
    "l=len(s)\n",
    "p=int((l/2))\n",
    "if l%2==0:\n",
    "    print(s[0:p],s[p:])\n",
    "else:\n",
    "    print(s[0:p],s[p+1:])"
   ]
  }
 ],
 "metadata": {
  "kernelspec": {
   "display_name": "Python 3",
   "language": "python",
   "name": "python3"
  },
  "language_info": {
   "codemirror_mode": {
    "name": "ipython",
    "version": 3
   },
   "file_extension": ".py",
   "mimetype": "text/x-python",
   "name": "python",
   "nbconvert_exporter": "python",
   "pygments_lexer": "ipython3",
   "version": "3.8.3"
  }
 },
 "nbformat": 4,
 "nbformat_minor": 4
}
