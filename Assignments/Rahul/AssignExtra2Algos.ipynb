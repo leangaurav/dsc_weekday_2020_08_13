{
 "cells": [
  {
   "cell_type": "code",
   "execution_count": 6,
   "metadata": {},
   "outputs": [
    {
     "name": "stdout",
     "output_type": "stream",
     "text": [
      "Enter a string to parse and reverse :a b c d\n",
      "['d', 'c', 'b', 'a']\n"
     ]
    }
   ],
   "source": [
    "#1 WAF: reverse_list() that takes a list as argument and reverses the elements of the list in place\n",
    "#(use indexing operations, not any function or slicing)\n",
    "\n",
    "def reverse_list(s):\n",
    "    a=s[::-1]\n",
    "    return a\n",
    "\n",
    "s=input('Enter a string to parse and reverse :')\n",
    "print(reverse_list(s.split()))\n",
    "    "
   ]
  },
  {
   "cell_type": "code",
   "execution_count": 4,
   "metadata": {},
   "outputs": [
    {
     "name": "stdout",
     "output_type": "stream",
     "text": [
      "Enter a string to parse and count :12 13\n",
      "1 1\n",
      "Count of Even and Odd numbers in string are : [1, 1] respectively\n"
     ]
    }
   ],
   "source": [
    "#2 WAF: count_even_odd() that counts and returns how many numbers are even and \n",
    "# how many are odd in a list of numbers passed as argument\n",
    "def count_even_odd(s):\n",
    "    e=0\n",
    "    o=0\n",
    "    a=[]\n",
    "    for i in s:\n",
    "        if int(i)%2==0:\n",
    "            e+=1\n",
    "        else:\n",
    "            o+=1\n",
    "    print(e,o)\n",
    "    a.append(e)\n",
    "    a.append(o)\n",
    "    return a\n",
    "\n",
    "s=input('Enter a string to parse and count :')\n",
    "\n",
    "print(f'Count of Even number and Odd number in string is {count_even_odd(s.split())} respectively')\n",
    "\n",
    "            "
   ]
  },
  {
   "cell_type": "code",
   "execution_count": 10,
   "metadata": {},
   "outputs": [
    {
     "name": "stdout",
     "output_type": "stream",
     "text": [
      "Enter a string to parse and check max :-1 -2 -3 -4 0\n"
     ]
    },
    {
     "data": {
      "text/plain": [
       "0"
      ]
     },
     "execution_count": 10,
     "metadata": {},
     "output_type": "execute_result"
    }
   ],
   "source": [
    "#3 WAF: maximum() to return the largest number in a list of numbers (do not use max function).\n",
    "#Function takes a list or tuple of numbers as argument\n",
    "\n",
    "def manximum(n):\n",
    "    a=n.split()\n",
    "    for i in range(len(a)):\n",
    "        if i==0 or int(a[i])>l:\n",
    "            l=int(a[i])\n",
    "    return l\n",
    "\n",
    "s=input('Enter a string to parse and check max :')\n",
    "manximum(s)"
   ]
  },
  {
   "cell_type": "code",
   "execution_count": 40,
   "metadata": {},
   "outputs": [
    {
     "name": "stdout",
     "output_type": "stream",
     "text": [
      "Enter a string to parse and check max :12 1 134 3\n",
      "Second maximum number is [12, 134]\n"
     ]
    }
   ],
   "source": [
    "#4 WAF: second_maximum() Create a new version of above code to return the second largest number\n",
    "def second_maximum(a):\n",
    "    l=[]\n",
    "    minn=min(int(a[0]),int(a[1]))\n",
    "    maxn=max(int(a[0]),int(a[1]))\n",
    "    for i in range(2,len(a)):\n",
    "        if int(a[i])>maxn:\n",
    "            minn=maxn\n",
    "            maxn=int(a[i])\n",
    "        elif int(a[i])<maxn and int(a[i])>minn:\n",
    "            minn=int(a[i])\n",
    "    l.append(minn)\n",
    "    l.append(maxn)\n",
    "    return l\n",
    "\n",
    "s=input('Enter a string to parse and check max :')\n",
    "print(f'Second maximum number is {second_maximum(s.split())}')"
   ]
  },
  {
   "cell_type": "code",
   "execution_count": 39,
   "metadata": {},
   "outputs": [
    {
     "name": "stdout",
     "output_type": "stream",
     "text": [
      "Enter a string to parse and check mean :12 1 3 \n",
      "Mean of numbers is 5.333333333333333\n"
     ]
    }
   ],
   "source": [
    "#5 WAF: mean() that returns the mean of list of numbers passed to the function as argument\n",
    "def mean(a):\n",
    "    s=0\n",
    "    c=0\n",
    "    for i in range(len(a)):\n",
    "        if a[i].isdigit():\n",
    "            s=s+int(a[i])\n",
    "            c+=1\n",
    "    m=s/c\n",
    "    return m\n",
    "\n",
    "s=input('Enter a string to parse and check mean :')\n",
    "print(f'Mean of numbers is {mean(s.split())}')"
   ]
  },
  {
   "cell_type": "code",
   "execution_count": 11,
   "metadata": {},
   "outputs": [
    {
     "name": "stdout",
     "output_type": "stream",
     "text": [
      "Please enter a list of numbers :3,10, 5, 8, 2, 7\n",
      "Please enter Start position :5\n",
      "Please enter End position :9\n",
      "The new split list of numbers is :[5, 8, 7]\n"
     ]
    }
   ],
   "source": [
    "#6 WAF: find_in_range() that takes a three arguments: a list of numbers, start, end\n",
    "#The function returns a list of numbers from the original list, which lie between start and end\n",
    "\n",
    "def find_in_range(n,s,e):\n",
    "    a=[]\n",
    "    for i in range(len(n)):    \n",
    "        if int(n[i])>=s and int(n[i])<=e:\n",
    "            a.append(int(n[i]))\n",
    "    return a\n",
    "\n",
    "n=input(\"Please enter a list of numbers :\")\n",
    "s=int(input(\"Please enter Start position :\"))\n",
    "e=int(input(\"Please enter End position :\"))\n",
    "\n",
    "if s>len(n) or e >len(n):\n",
    "    print('Desired range is out of index')\n",
    "else:\n",
    "    print(f'The new split list of numbers is :{find_in_range(n.split(\",\"),s,e)}')"
   ]
  }
 ],
 "metadata": {
  "kernelspec": {
   "display_name": "Python 3",
   "language": "python",
   "name": "python3"
  },
  "language_info": {
   "codemirror_mode": {
    "name": "ipython",
    "version": 3
   },
   "file_extension": ".py",
   "mimetype": "text/x-python",
   "name": "python",
   "nbconvert_exporter": "python",
   "pygments_lexer": "ipython3",
   "version": "3.8.3"
  }
 },
 "nbformat": 4,
 "nbformat_minor": 4
}
