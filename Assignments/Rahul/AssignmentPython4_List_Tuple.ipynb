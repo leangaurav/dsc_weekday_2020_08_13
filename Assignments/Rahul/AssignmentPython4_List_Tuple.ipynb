{
 "cells": [
  {
   "cell_type": "code",
   "execution_count": 4,
   "metadata": {},
   "outputs": [
    {
     "name": "stdout",
     "output_type": "stream",
     "text": [
      "[1, 2, 3, 4, 5]\n"
     ]
    }
   ],
   "source": [
    "#1. Convert a Tuple t = (1,2,3,4,5) to a list\n",
    "t = (1,2,3,4,5)\n",
    "l=[]\n",
    "for i in range(len(t)):\n",
    "   l.append(int(t[i]))\n",
    "print(l)"
   ]
  },
  {
   "cell_type": "code",
   "execution_count": 5,
   "metadata": {},
   "outputs": [
    {
     "name": "stdout",
     "output_type": "stream",
     "text": [
      "[1, 3, 5, 7, 8, 6, 4, 2]\n"
     ]
    }
   ],
   "source": [
    "#2. WAP to join a list and a tuple:\n",
    "L = [1,3,5,7]\n",
    "T = (8,6,4,2)\n",
    "LS=L[:]\n",
    "\n",
    "for i in range(len(T)):\n",
    "   LS.append(int(T[i]))\n",
    "print(LS)"
   ]
  },
  {
   "cell_type": "code",
   "execution_count": null,
   "metadata": {},
   "outputs": [],
   "source": [
    "#3. What is difference between list and tuple\n",
    "#List is Mutable where tupple is immutable /not-mutable"
   ]
  },
  {
   "cell_type": "code",
   "execution_count": 12,
   "metadata": {},
   "outputs": [
    {
     "name": "stdout",
     "output_type": "stream",
     "text": [
      "['C', 'A', 'c', 'd', 'a']\n",
      "\n",
      "['C', 'A', 'c', 'd', 'a']\n"
     ]
    }
   ],
   "source": [
    "#4. Print the list in reverse order\n",
    "l = ['a', 'd', 'c', 'A', 'C']\n",
    "print(l[::-1])\n",
    "print()\n",
    "l.reverse()\n",
    "print(l)"
   ]
  },
  {
   "cell_type": "code",
   "execution_count": 37,
   "metadata": {},
   "outputs": [
    {
     "name": "stdout",
     "output_type": "stream",
     "text": [
      "[11, 21, 31, 41]\n"
     ]
    }
   ],
   "source": [
    "#5. Print Elements at Odd indexes from a list\n",
    "l = [10,11,20, 21,30, 31, 40, 41]\n",
    "print(l[1::2])\n"
   ]
  },
  {
   "cell_type": "code",
   "execution_count": 44,
   "metadata": {},
   "outputs": [
    {
     "name": "stdout",
     "output_type": "stream",
     "text": [
      "\n",
      "[1, 2, 3, [10, 20, 30]]\n",
      "[1, 2, 3, [10, 20, 30]]\n",
      "1956166140928 1956166140928\n",
      "\n",
      "\n",
      "[1, 2, 3, [10, 20, 30]]\n",
      "[1, 2, 3, [10, 20, 30]]\n",
      "1956167401728 1956167401728\n",
      "\n",
      "\n",
      "[1, 2, 3, [10, 20, 30]]\n",
      "[1, 2, 3, [10, 20]]\n",
      "1956166931520 1956167402240\n"
     ]
    }
   ],
   "source": [
    "#6. How many ways you can copy a list\n",
    "import copy\n",
    "a1 = [1,2,3, [10,20]]\n",
    "a2 = a1[:]\n",
    "a1[3].append(30)\n",
    "print()\n",
    "print(a1)\n",
    "print(a2)\n",
    "print(id(a1[3]), id(a2[3]))\n",
    "print()\n",
    "b1 = [1,2,3, [10,20]]\n",
    "b2 = copy.copy(b1)\n",
    "b1[3].append(30)\n",
    "print()\n",
    "print(b1)\n",
    "print(b2)\n",
    "print(id(b1[3]), id(b2[3]))\n",
    "print()\n",
    "c1 = [1,2,3, [10,20]]\n",
    "c2 = copy.deepcopy(c1)\n",
    "c1[3].append(30)\n",
    "print()\n",
    "print(c1)\n",
    "print(c2)\n",
    "print(id(c1[3]), id(c2[3]))"
   ]
  },
  {
   "cell_type": "code",
   "execution_count": 45,
   "metadata": {},
   "outputs": [
    {
     "name": "stdout",
     "output_type": "stream",
     "text": [
      "a\n",
      "5\n"
     ]
    }
   ],
   "source": [
    "#7. Predict output\n",
    "n_list=[\"Happy\",[2,0,1,5]]\n",
    "print(n_list[0][1])\n",
    "print(n_list[1][3])"
   ]
  },
  {
   "cell_type": "code",
   "execution_count": 46,
   "metadata": {},
   "outputs": [
    {
     "name": "stdout",
     "output_type": "stream",
     "text": [
      "[1, 3, 5, 7]\n"
     ]
    }
   ],
   "source": [
    "#8. Predict output\n",
    "odd=[2,4,6,8]\n",
    "odd[0]=1\n",
    "odd[1:4]=[3,5,7]\n",
    "print(odd)"
   ]
  },
  {
   "cell_type": "code",
   "execution_count": 48,
   "metadata": {},
   "outputs": [
    {
     "name": "stdout",
     "output_type": "stream",
     "text": [
      "[1, 3, 5, [7, 9]]\n",
      "[1, 3, 5, [7, 9], 11, 13]\n"
     ]
    }
   ],
   "source": [
    "#9. Predict output\n",
    "odd=[1,3,5]\n",
    "odd.append([7,9])\n",
    "print(odd)\n",
    "odd.extend([11,13])\n",
    "print(odd)"
   ]
  },
  {
   "cell_type": "code",
   "execution_count": 50,
   "metadata": {},
   "outputs": [
    {
     "name": "stdout",
     "output_type": "stream",
     "text": [
      "<class 'tuple'>\n",
      "<class 'int'>\n",
      "<class 'int'>\n",
      "<class 'tuple'>\n"
     ]
    }
   ],
   "source": [
    "#10. notePredict output\n",
    "x=1,2,3; print(type(x))\n",
    "x=(1); print(type(x))\n",
    "x=1; print(type(x))\n",
    "x=1,; print(type(x))"
   ]
  },
  {
   "cell_type": "code",
   "execution_count": 68,
   "metadata": {},
   "outputs": [
    {
     "name": "stdout",
     "output_type": "stream",
     "text": [
      "1\t2\t3\t\n",
      "\n",
      "4\t5\t6\t\n",
      "\n",
      "7\t8\t9\t\n",
      "\n"
     ]
    }
   ],
   "source": [
    "#11. Try to represent a matrix with following data in python:\n",
    "n=0\n",
    "for i in range(3):\n",
    "    n=n+1\n",
    "    print(n,end='\\t')\n",
    "    for j in range(2):\n",
    "        n=n+1\n",
    "        print(n,end='\\t')\n",
    "    print('\\n')"
   ]
  },
  {
   "cell_type": "code",
   "execution_count": 74,
   "metadata": {},
   "outputs": [
    {
     "name": "stdout",
     "output_type": "stream",
     "text": [
      "('s', 't', 'r', 'i', 'n', 'g')\n",
      "('g', 'n', 'i', 'r', 't', 's')\n",
      "('n', 's')\n"
     ]
    }
   ],
   "source": [
    "#12. Predict output\n",
    "t=tuple('string')\n",
    "print(t)\n",
    "print(t[::-1])\n",
    "print(t[::2][::-2])"
   ]
  },
  {
   "cell_type": "code",
   "execution_count": 78,
   "metadata": {},
   "outputs": [
    {
     "name": "stdout",
     "output_type": "stream",
     "text": [
      "True\n",
      "False\n",
      "1\n",
      "3\n"
     ]
    }
   ],
   "source": [
    "#13. Predict output\n",
    "t=tuple([10,20,30,40,50,60])\n",
    "print(60 in t)\n",
    "print('60' in t)\n",
    "print(t.count(10))\n",
    "print(t.index(40))"
   ]
  },
  {
   "cell_type": "code",
   "execution_count": 88,
   "metadata": {},
   "outputs": [
    {
     "name": "stdout",
     "output_type": "stream",
     "text": [
      "Please enter a string to check if it is palindrome : 1234321\n",
      "Entered string is palindrome\n"
     ]
    }
   ],
   "source": [
    "#14. Write a program to input a string and print if it is palindrome or not\n",
    "s=input(\"Please enter a string to check if it is palindrome : \")\n",
    "\n",
    "if s.lower()==s[::-1].lower():\n",
    "    print(\"Entered string is palindrome\")\n",
    "else:\n",
    "    print(\"Entered string is not palindrome\")"
   ]
  },
  {
   "cell_type": "code",
   "execution_count": 106,
   "metadata": {},
   "outputs": [
    {
     "name": "stdout",
     "output_type": "stream",
     "text": [
      "(20, 15, 10, 5)\n"
     ]
    }
   ],
   "source": [
    "#15. Use the range method and create a tuple containing the following values:\n",
    "n=20\n",
    "l=[]\n",
    "for i in range(4):\n",
    "    l.append(n)\n",
    "    n-=5\n",
    "print(tuple(l))"
   ]
  },
  {
   "cell_type": "code",
   "execution_count": 119,
   "metadata": {},
   "outputs": [
    {
     "name": "stdout",
     "output_type": "stream",
     "text": [
      "Please enter a string :ad bc\n",
      "a\n",
      "d\n",
      "b\n",
      "c\n",
      "['a', 'b', 'c', 'd']\n"
     ]
    }
   ],
   "source": [
    "#16. WAP to convert string to list of characters\n",
    "s=input(\"Please enter a string :\")\n",
    "l=[]\n",
    "for i in s.lower():\n",
    "    if i!=' ':\n",
    "        print(i)\n",
    "        l.append(i)\n",
    "l.sort()\n",
    "print(l)\n"
   ]
  },
  {
   "cell_type": "code",
   "execution_count": 123,
   "metadata": {},
   "outputs": [
    {
     "name": "stdout",
     "output_type": "stream",
     "text": [
      "<class 'list'>\n",
      "<class 'NoneType'>\n",
      "<class 'str'>\n",
      "<class 'bool'>\n"
     ]
    }
   ],
   "source": [
    "#17. What is the return type of:\n",
    "print(type('1 2'.split() ))\n",
    "print(type([1, 3, 2].sort() ))\n",
    "print(type('abc'.upper() ))\n",
    "print(type(1 in [1,2] ))"
   ]
  }
 ],
 "metadata": {
  "kernelspec": {
   "display_name": "Python 3",
   "language": "python",
   "name": "python3"
  },
  "language_info": {
   "codemirror_mode": {
    "name": "ipython",
    "version": 3
   },
   "file_extension": ".py",
   "mimetype": "text/x-python",
   "name": "python",
   "nbconvert_exporter": "python",
   "pygments_lexer": "ipython3",
   "version": "3.8.3"
  }
 },
 "nbformat": 4,
 "nbformat_minor": 4
}
