{
 "cells": [
  {
   "cell_type": "code",
   "execution_count": 61,
   "metadata": {},
   "outputs": [
    {
     "name": "stdout",
     "output_type": "stream",
     "text": [
      "Enter a number for range :3\n",
      "{1: -1, 2: -2, 3: -3}\n",
      "{1: -1, 2: -2, 3: -3, 4: -4, 5: -5}\n"
     ]
    }
   ],
   "source": [
    "# 1. WAP to create a dictionary of numbers mapped to their negative value for numbers from 1-5.\n",
    "# The dictionary should contain something like this:\n",
    "# Do with both with and without range based for loop\n",
    "\n",
    "n=int(input(\"Enter a number for range :\"))\n",
    "\n",
    "d={}\n",
    "for i in range(1,n+1):\n",
    "    d[i]=(-1)*i\n",
    "print(d)\n",
    "\n",
    "l1=[1,2,3,4,5]\n",
    "l2=map(lambda x:x*-1,l)\n",
    "print(dict(zip(l1,l2)))"
   ]
  },
  {
   "cell_type": "code",
   "execution_count": 18,
   "metadata": {},
   "outputs": [
    {
     "ename": "SyntaxError",
     "evalue": "expression cannot contain assignment, perhaps you meant \"==\"? (<ipython-input-18-77f864cea232>, line 13)",
     "output_type": "error",
     "traceback": [
      "\u001b[1;36m  File \u001b[1;32m\"<ipython-input-18-77f864cea232>\"\u001b[1;36m, line \u001b[1;32m13\u001b[0m\n\u001b[1;33m    d=dict(1=2,2=3)\u001b[0m\n\u001b[1;37m           ^\u001b[0m\n\u001b[1;31mSyntaxError\u001b[0m\u001b[1;31m:\u001b[0m expression cannot contain assignment, perhaps you meant \"==\"?\n"
     ]
    }
   ],
   "source": [
    "# 2. Check which of the following declarations will work\n",
    "\n",
    "#d={1=2,2=3}\n",
    "#d={1:2,2:3}\n",
    "#d={1,2;2,3}\n",
    "#d={(1,2),(2,3)}\n",
    "#d={'a':'A','b':1,c:[1234]}\n",
    "#d={'a':'A','b':1,'c':[1234]}\n",
    "#d=dict([(1,2),(2,3)])\n",
    "#d=dict(((1,2),(2,3)))\n",
    "#d=dict(x=2,y=3)\n",
    "#d=dict('x'=2,'y'=3)\n",
    "#d=dict(1=2,2=3)\n",
    "print(d)"
   ]
  },
  {
   "cell_type": "code",
   "execution_count": 36,
   "metadata": {},
   "outputs": [
    {
     "name": "stdout",
     "output_type": "stream",
     "text": [
      "{1: 10, 2: 20, 3: 30, 4: 40}\n"
     ]
    }
   ],
   "source": [
    "# 3. Read help for zip and write a program that has two lists\n",
    "# And converts them to a dictionary d containing { 1:10,2:20 …….}\n",
    "l1 = [1,2,3,4]\n",
    "l2 = [10,20,30,40]\n",
    "d1=dict(zip(l1,l2))\n",
    "print(d1)\n"
   ]
  },
  {
   "cell_type": "code",
   "execution_count": 27,
   "metadata": {},
   "outputs": [
    {
     "name": "stdout",
     "output_type": "stream",
     "text": [
      "{'A': 65, 'B': 66, 'C': 67, 'D': 68, 'E': 69, 'F': 70, 'G': 71, 'H': 72, 'I': 73, 'J': 74, 'K': 75, 'L': 76, 'M': 77, 'N': 78, 'O': 79, 'P': 80, 'Q': 81, 'R': 82, 'S': 83, 'T': 84, 'U': 85, 'V': 86, 'W': 87, 'X': 88, 'Y': 89, 'Z': 90}\n"
     ]
    }
   ],
   "source": [
    "# 4. Use range based for loop to store all upper case alphabets and their corresponding ASCII\n",
    "#values in the dictionary d.\n",
    "#The result should be d = {‘A’: 65, ‘B’:66,…..}\n",
    "d={}\n",
    "for i in range(65,91):\n",
    "    d[chr(i)]=i\n",
    "print(d)\n",
    "    \n",
    "    "
   ]
  },
  {
   "cell_type": "code",
   "execution_count": 33,
   "metadata": {},
   "outputs": [
    {
     "name": "stdout",
     "output_type": "stream",
     "text": [
      "Enter a single digit to print word equivalent : 2\n",
      "Word equivalend of 2 is Two\n",
      "Keys present are dict_keys([0, 1, 2, 3, 4, 5, 6, 7, 8, 9])\n",
      "Values present are dict_values(['Zero', 'One', 'Two', 'Three', 'Four', 'Five', 'Six', 'Seven', 'Eight', 'Nine'])\n",
      "Values present are dict_items([(0, 'Zero'), (1, 'One'), (2, 'Two'), (3, 'Three'), (4, 'Four'), (5, 'Five'), (6, 'Six'), (7, 'Seven'), (8, 'Eight'), (9, 'Nine')])\n"
     ]
    }
   ],
   "source": [
    "# 5. Create a mapping of number to word from 0-9. (0:’zero’……)\n",
    "# • Ask user for a single digit number and print the corresponding word format.\n",
    "# • Print all keys of above dictionary\n",
    "# • Print all Values of a dictionary\n",
    "# • Print all Key and Value pairs of above dictionary\n",
    "m={0:'Zero',1:'One',2:'Two',3:'Three',4:'Four',5:'Five',6:'Six',7:'Seven',8:'Eight',9:'Nine'}\n",
    "n=int(input(\"Enter a single digit to print word equivalent : \"))\n",
    "print(f\"Word equivalend of {n} is {m[n]}\")\n",
    "\n",
    "print(f\"Keys present are {m.keys()}\")\n",
    "\n",
    "print(f\"Values present are {m.values()}\")\n",
    "\n",
    "print(f\"Values present are {m.items()}\")"
   ]
  },
  {
   "cell_type": "code",
   "execution_count": 37,
   "metadata": {},
   "outputs": [
    {
     "name": "stdout",
     "output_type": "stream",
     "text": [
      "{'A': 'Apple', 'B': 'Ball', 'C': 'Cat', 'D': 'Dog'}\n",
      "{'A': 'Apple', 'C': 'Cat'}\n"
     ]
    }
   ],
   "source": [
    "# 6. Predict Output of:\n",
    "l1=['A','B','C','D']\n",
    "l2=['Apple','Ball','Cat','Dog']\n",
    "d1=dict(zip(l1,l2))\n",
    "print(d1)\n",
    "d2=dict(list(d1.items())[::2])\n",
    "print(d2)"
   ]
  },
  {
   "cell_type": "code",
   "execution_count": 46,
   "metadata": {},
   "outputs": [
    {
     "name": "stdout",
     "output_type": "stream",
     "text": [
      "Enter a string to print count of vowels : BeautIful Day\n",
      "{'e': 1, 'a': 2, 'u': 2, 'I': 1}\n"
     ]
    }
   ],
   "source": [
    "#7. WAP to input a string and count occurrence of each vowel in a string.\n",
    "# Ex: if user enters: “Beautiful Day” Output should Be: \n",
    "# a:2\n",
    "# e:1\n",
    "# I :1\n",
    "# o:0\n",
    "# u:2\n",
    "d={}\n",
    "s=input(\"Enter a string to print count of vowels : \")\n",
    "\n",
    "for i in s:\n",
    "    if i.lower() in 'aeiou':\n",
    "        if i in d:\n",
    "            d[i]=d.get(i,0)+1\n",
    "        else:\n",
    "            d[i]=1\n",
    "print(d)\n",
    "        "
   ]
  },
  {
   "cell_type": "code",
   "execution_count": 48,
   "metadata": {},
   "outputs": [
    {
     "name": "stdout",
     "output_type": "stream",
     "text": [
      "Enter a string to print count of vowels : Beautiful Day\n",
      "{'B': 1, 'e': 1, 'a': 2, 'u': 2, 't': 1, 'i': 1, 'f': 1, 'l': 1, 'D': 1, 'y': 1}\n"
     ]
    }
   ],
   "source": [
    "# 8. Update above program to print frequency of each alphabet present in string\n",
    "d={}\n",
    "s=input(\"Enter a string to print count of vowels : \")\n",
    "\n",
    "for i in s:\n",
    "    if i !=' ':\n",
    "        if i in d:\n",
    "            d[i]=d.get(i,0)+1\n",
    "        else:\n",
    "            d[i]=1\n",
    "print(d)"
   ]
  },
  {
   "cell_type": "code",
   "execution_count": 49,
   "metadata": {},
   "outputs": [
    {
     "name": "stdout",
     "output_type": "stream",
     "text": [
      "Enter a string to print count of vowels : count the words in the sentence in\n",
      "{'count': 1, 'the': 2, 'words': 1, 'in': 2, 'sentence': 1}\n"
     ]
    }
   ],
   "source": [
    "# 9. WAP that takes a string as input and prints frequency of each word\n",
    "\n",
    "d={}\n",
    "s=input(\"Enter a string to print count of vowels : \").split()\n",
    "\n",
    "for i in s:\n",
    "    if i !=' ':\n",
    "        if i in d:\n",
    "            d[i]=d.get(i,0)+1\n",
    "        else:\n",
    "            d[i]=1\n",
    "print(d)"
   ]
  }
 ],
 "metadata": {
  "kernelspec": {
   "display_name": "Python 3",
   "language": "python",
   "name": "python3"
  },
  "language_info": {
   "codemirror_mode": {
    "name": "ipython",
    "version": 3
   },
   "file_extension": ".py",
   "mimetype": "text/x-python",
   "name": "python",
   "nbconvert_exporter": "python",
   "pygments_lexer": "ipython3",
   "version": "3.8.3"
  }
 },
 "nbformat": 4,
 "nbformat_minor": 4
}
