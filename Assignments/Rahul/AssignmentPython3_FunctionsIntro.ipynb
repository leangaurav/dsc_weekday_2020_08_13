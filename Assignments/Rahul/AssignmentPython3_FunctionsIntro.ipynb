{
 "cells": [
  {
   "cell_type": "code",
   "execution_count": 1,
   "metadata": {},
   "outputs": [
    {
     "name": "stdout",
     "output_type": "stream",
     "text": [
      "Enter first string:abcd\n",
      "Enter second string:defg\n",
      "defg\n",
      "abcd\n"
     ]
    }
   ],
   "source": [
    "#1. WAP to input 2 strings and swap the strings\n",
    "s1 = input(\"Enter first string:\")\n",
    "s2 = input(\"Enter second string:\")\n",
    "\n",
    "s3=s1\n",
    "s1=s2\n",
    "s2=s3\n",
    "\n",
    "print(s1)\n",
    "print(s2)"
   ]
  },
  {
   "cell_type": "code",
   "execution_count": 11,
   "metadata": {},
   "outputs": [
    {
     "name": "stdout",
     "output_type": "stream",
     "text": [
      "4 18 2 19\n",
      "Average of 4 random numbers is 10.75\n"
     ]
    }
   ],
   "source": [
    "#2. WAP to generate 4 random numbers in the range 0-26 and print their average\n",
    "import random\n",
    "\n",
    "n1=random.randrange(0,26)\n",
    "n2=random.randrange(0,26)\n",
    "n3=random.randrange(0,26)\n",
    "n4=random.randrange(0,26)\n",
    "print(n1,n2,n3,n4)\n",
    "print(f'Average of 4 random numbers is {(n1+n2+n3+n4)/4}')"
   ]
  },
  {
   "cell_type": "code",
   "execution_count": 25,
   "metadata": {},
   "outputs": [
    {
     "name": "stdout",
     "output_type": "stream",
     "text": [
      "Random alphabet in string abcdefghijklmnopqrstuvwxyzABCDEFGHIJKLMNOPQRSTUVWXYZ located at index 14 is o\n"
     ]
    }
   ],
   "source": [
    "#3. WAP to generate and print a random uppercase or lowercase alphabet. Try these:\n",
    "#• Create a string containing all alphabets and then select a random alphabet.\n",
    "#• Check the module string\n",
    "import random \n",
    "import string\n",
    "\n",
    "s=string.ascii_letters\n",
    "n=random.randrange(0,len(s))\n",
    "\n",
    "print(f'Random alphabet in string {s} located at index {n} is {s[n]}')"
   ]
  },
  {
   "cell_type": "code",
   "execution_count": 2,
   "metadata": {},
   "outputs": [
    {
     "name": "stdout",
     "output_type": "stream",
     "text": [
      "Please enter Principle Amount : 1000\n",
      "Please enter Rate of Interest : 10\n",
      "Please enter Time in months: 1\n",
      "Total amount on principle 1000.0 for duration 1.0 months with 10.0 rate of interest is 1100.0\n",
      "Interest amount on principle 1000.0 for duration 1.0 months with 10.0 rate of interest is 100.0\n"
     ]
    }
   ],
   "source": [
    "#4. WAF get_si() that takes Principle, Rate and Time as arguments and returns the Simple Interest\n",
    "def get_si(p,r,t):\n",
    "    a=p*(1+(r*t)/100)\n",
    "    i=p*r*t/100\n",
    "    print(f'Total amount on principle {p} for duration {t} months with {r} rate of interest is {a}')\n",
    "    print(f'Interest amount on principle {p} for duration {t} months with {r} rate of interest is {i}')\n",
    "    \n",
    "p=float(input('Please enter Principle Amount : '))\n",
    "r=float(input('Please enter Rate of Interest : '))\n",
    "t=float(input('Please enter Time in months: '))\n",
    "get_si(p,r,t)"
   ]
  },
  {
   "cell_type": "code",
   "execution_count": 3,
   "metadata": {},
   "outputs": [
    {
     "name": "stdout",
     "output_type": "stream",
     "text": [
      "Please enter Principle Amount : 1000\n",
      "Total amount on principle 1000.0 for duration 1 months with 10 rate of interest is 1100.0\n",
      "Interest amount on principle 1000.0 for duration 1 months with 10 rate of interest is 100.0\n"
     ]
    }
   ],
   "source": [
    "#5. WAF get_amount() that takes Principle, Rate and Time as arguments and returns the Total amount using the get_si() function \n",
    "#from above to calculate the SI. Also provide Rate = 10 and Time = 1 as default arguments.\n",
    "p=float(input('Please enter Principle Amount : '))\n",
    "get_si(p,10,1)"
   ]
  },
  {
   "cell_type": "code",
   "execution_count": 4,
   "metadata": {},
   "outputs": [
    {
     "name": "stdout",
     "output_type": "stream",
     "text": [
      "Please enter Principle Amount : 100\n",
      "Please enter Rate of Interest : 10\n",
      "Please enter Time in years: 1\n",
      "Total Amount on principle 100.0 for duration 1 months with 10 rate of interest is 110.00000000000001\n"
     ]
    }
   ],
   "source": [
    "#6. WAP get_ci() that takes Principle, Rate and Time as arguments and returns the Compound Interest.\n",
    "def get_ci(p,r,t):\n",
    "    a=p*(1+(r/100))**t\n",
    "    print(f'Total Amount on principle {p} for duration {t} months with {r} rate of interest is {a}')\n",
    "\n",
    "p=float(input('Please enter Principle Amount : '))\n",
    "r=float(input('Please enter Rate of Interest : '))\n",
    "t=float(input('Please enter Time in years: '))\n",
    "get_ci(p,r,t)"
   ]
  },
  {
   "cell_type": "code",
   "execution_count": 6,
   "metadata": {},
   "outputs": [
    {
     "name": "stdout",
     "output_type": "stream",
     "text": [
      "5.0 0\n"
     ]
    }
   ],
   "source": [
    "#7. WAP get_q_r() taking 2 numbers as parameters and returns the quotient and remainder in the form of a tuple.\n",
    "def get_q_r(m,n):\n",
    "    q=m/2\n",
    "    r=m%n\n",
    "    print(q,r)\n",
    "\n",
    "m = int(input(\"Enter first number as divident:\"))\n",
    "n = int(input(\"Enter second number as divisor:\"))\n",
    "get_q_r(m,n)"
   ]
  },
  {
   "cell_type": "code",
   "execution_count": 8,
   "metadata": {},
   "outputs": [
    {
     "name": "stdout",
     "output_type": "stream",
     "text": [
      "Enter height of right angle triangle:4\n",
      "Enter base of right angle triangle:3\n",
      "length of hypotenuse of a right angled triangle is 5.0\n"
     ]
    }
   ],
   "source": [
    "#8. WAP to find the length of hypotenuse of a right angled triangle, input the height and base from user.\n",
    "import math\n",
    "h = float(input(\"Enter height of right angle triangle:\"))\n",
    "b = float(input(\"Enter base of right angle triangle:\"))\n",
    "\n",
    "l=math.sqrt(h**2+b**2)\n",
    "print(f'length of hypotenuse of a right angled triangle is {l}')"
   ]
  },
  {
   "cell_type": "code",
   "execution_count": 15,
   "metadata": {},
   "outputs": [
    {
     "name": "stdout",
     "output_type": "stream",
     "text": [
      "['__doc__', '__loader__', '__name__', '__package__', '__spec__', 'acos', 'acosh', 'asin', 'asinh', 'atan', 'atan2', 'atanh', 'ceil', 'comb', 'copysign', 'cos', 'cosh', 'degrees', 'dist', 'e', 'erf', 'erfc', 'exp', 'expm1', 'fabs', 'factorial', 'floor', 'fmod', 'frexp', 'fsum', 'gamma', 'gcd', 'hypot', 'inf', 'isclose', 'isfinite', 'isinf', 'isnan', 'isqrt', 'ldexp', 'lgamma', 'log', 'log10', 'log1p', 'log2', 'modf', 'nan', 'perm', 'pi', 'pow', 'prod', 'radians', 'remainder', 'sin', 'sinh', 'sqrt', 'tan', 'tanh', 'tau', 'trunc']\n",
      "Enter number of seconds to be converted:3800\n",
      "0 1 63\n"
     ]
    }
   ],
   "source": [
    "#9. WAP to input number of seconds and print in days, hours, minutes and seconds \n",
    "#ex: input = 10000 Output = 0 day 2 hour 46 minute 40 second\n",
    "import math\n",
    "s = int(input(\"Enter number of seconds to be converted:\"))\n",
    "d = math.trunc(s/(24*60*60))\n",
    "h = math.trunc((s%(24*60*60))/(60*60))\n",
    "m = math.trunc((s%(24*60*60*60*60))/(60))\n",
    "print(d,h,m)"
   ]
  },
  {
   "cell_type": "code",
   "execution_count": null,
   "metadata": {},
   "outputs": [],
   "source": [
    "#10\n",
    "python"
   ]
  },
  {
   "cell_type": "code",
   "execution_count": 1,
   "metadata": {},
   "outputs": [
    {
     "name": "stdout",
     "output_type": "stream",
     "text": [
      "2 -2\n"
     ]
    }
   ],
   "source": [
    "#11\n",
    "X=2\n",
    "X*=3\n",
    "X=X%4\n",
    "Y=-X\n",
    "print(X,Y)"
   ]
  },
  {
   "cell_type": "code",
   "execution_count": 2,
   "metadata": {},
   "outputs": [
    {
     "name": "stdout",
     "output_type": "stream",
     "text": [
      "None\n"
     ]
    }
   ],
   "source": [
    "#12\n",
    "def funct():\n",
    "    pass\n",
    "\n",
    "print(funct())"
   ]
  }
 ],
 "metadata": {
  "kernelspec": {
   "display_name": "Python 3",
   "language": "python",
   "name": "python3"
  },
  "language_info": {
   "codemirror_mode": {
    "name": "ipython",
    "version": 3
   },
   "file_extension": ".py",
   "mimetype": "text/x-python",
   "name": "python",
   "nbconvert_exporter": "python",
   "pygments_lexer": "ipython3",
   "version": "3.8.3"
  }
 },
 "nbformat": 4,
 "nbformat_minor": 4
}
