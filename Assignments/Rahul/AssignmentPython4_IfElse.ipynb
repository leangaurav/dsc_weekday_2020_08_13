{
 "cells": [
  {
   "cell_type": "code",
   "execution_count": 2,
   "metadata": {},
   "outputs": [
    {
     "name": "stdout",
     "output_type": "stream",
     "text": [
      "Please enter a number :10\n",
      "Please enter a number :2\n",
      "True\n"
     ]
    }
   ],
   "source": [
    "#1\n",
    "n1=int(input(f'Please enter a number :'))\n",
    "n2=int(input(f'Please enter a number :'))\n",
    "\n",
    "if n1%n2==0:\n",
    "    print('True')\n",
    "else:\n",
    "    print('False')\n"
   ]
  },
  {
   "cell_type": "code",
   "execution_count": null,
   "metadata": {},
   "outputs": [],
   "source": [
    "#2\n",
    "import string\n",
    "s1=input('Please enter String : ')\n",
    "\n",
    "s2=print(s1[::-1])\n",
    "\n",
    "if str.upper(s1)==str.upper(s2):\n",
    "    print('Entered string is Pallindrome')\n",
    "else:\n",
    "    print('Entered string is not Pallindrome')"
   ]
  },
  {
   "cell_type": "code",
   "execution_count": 8,
   "metadata": {},
   "outputs": [
    {
     "name": "stdout",
     "output_type": "stream",
     "text": [
      "Please enter 1st side of triangle :5 \n",
      "Please enter 2nd side of triangle :5 \n",
      "Please enter 3rd side of triangle :5 \n",
      "Triangle is equilateral triangle\n"
     ]
    }
   ],
   "source": [
    "#3\n",
    "s1=int(input(f'Please enter 1st side of triangle :'))\n",
    "s2=int(input(f'Please enter 2nd side of triangle :'))\n",
    "s3=int(input(f'Please enter 3rd side of triangle :'))\n",
    "\n",
    "if s1==s2 and s2==s3:\n",
    "    print('Triangle is equilateral triangle')\n",
    "elif s1==s2 or s2==s3:\n",
    "    print('Triangle is isosceles triangle')\n",
    "else: \n",
    "     print('Triangle is scalene triangle')"
   ]
  },
  {
   "cell_type": "code",
   "execution_count": 14,
   "metadata": {},
   "outputs": [
    {
     "name": "stdout",
     "output_type": "stream",
     "text": [
      "Please enter a number :0.2\n"
     ]
    },
    {
     "ename": "ValueError",
     "evalue": "invalid literal for int() with base 10: '0.2'",
     "output_type": "error",
     "traceback": [
      "\u001b[1;31m---------------------------------------------------------------------------\u001b[0m",
      "\u001b[1;31mValueError\u001b[0m                                Traceback (most recent call last)",
      "\u001b[1;32m<ipython-input-14-ddd8827acac3>\u001b[0m in \u001b[0;36m<module>\u001b[1;34m\u001b[0m\n\u001b[0;32m      1\u001b[0m \u001b[1;31m#4\u001b[0m\u001b[1;33m\u001b[0m\u001b[1;33m\u001b[0m\u001b[1;33m\u001b[0m\u001b[0m\n\u001b[1;32m----> 2\u001b[1;33m \u001b[0mn\u001b[0m\u001b[1;33m=\u001b[0m\u001b[0mint\u001b[0m\u001b[1;33m(\u001b[0m\u001b[0minput\u001b[0m\u001b[1;33m(\u001b[0m\u001b[1;34mf'Please enter a number :'\u001b[0m\u001b[1;33m)\u001b[0m\u001b[1;33m)\u001b[0m\u001b[1;33m\u001b[0m\u001b[1;33m\u001b[0m\u001b[0m\n\u001b[0m\u001b[0;32m      3\u001b[0m \u001b[1;33m\u001b[0m\u001b[0m\n\u001b[0;32m      4\u001b[0m \u001b[1;32mif\u001b[0m \u001b[0mn\u001b[0m\u001b[1;33m%\u001b[0m\u001b[1;36m2\u001b[0m\u001b[1;33m==\u001b[0m\u001b[1;36m0\u001b[0m\u001b[1;33m:\u001b[0m\u001b[1;33m\u001b[0m\u001b[1;33m\u001b[0m\u001b[0m\n\u001b[0;32m      5\u001b[0m     \u001b[0mprint\u001b[0m\u001b[1;33m(\u001b[0m\u001b[1;34m'Number is even'\u001b[0m\u001b[1;33m)\u001b[0m\u001b[1;33m\u001b[0m\u001b[1;33m\u001b[0m\u001b[0m\n",
      "\u001b[1;31mValueError\u001b[0m: invalid literal for int() with base 10: '0.2'"
     ]
    }
   ],
   "source": [
    "#4\n",
    "n=int(input(f'Please enter a number :'))\n",
    "\n",
    "if n%2==0:\n",
    "    print('Number is even')\n",
    "else:\n",
    "    print('Number is odd')"
   ]
  },
  {
   "cell_type": "code",
   "execution_count": 22,
   "metadata": {},
   "outputs": [
    {
     "name": "stdout",
     "output_type": "stream",
     "text": [
      "Please enter your age :200\n",
      "Contraluations\n"
     ]
    }
   ],
   "source": [
    "#5\n",
    "n=int(input(f'Please enter your age :'))\n",
    "\n",
    "if n<=12:\n",
    "    print('Child')\n",
    "elif n<=17:\n",
    "    print('Teen')\n",
    "elif n<=50:\n",
    "    print('Adult')\n",
    "elif n<=100:\n",
    "    print('Senior Citizen')\n",
    "else:\n",
    "    print('Contraluations')"
   ]
  },
  {
   "cell_type": "code",
   "execution_count": 30,
   "metadata": {},
   "outputs": [
    {
     "name": "stdout",
     "output_type": "stream",
     "text": [
      "Please enter year to be checked :2030\n",
      "Entered year is not a leap year\n"
     ]
    }
   ],
   "source": [
    "#6\n",
    "n=input(f'Please enter year to be checked :')\n",
    "\n",
    "if len(n)==4 and int(n)>0:\n",
    "    if int(n)%400==0 or (int(n)%4==0 and int(n)%100!=0):\n",
    "        print('Entered year is a leap year')\n",
    "    else:\n",
    "        print('Entered year is not a leap year')\n",
    "else:\n",
    "    print('Please enter a valid year')\n",
    "\n"
   ]
  },
  {
   "cell_type": "code",
   "execution_count": 38,
   "metadata": {},
   "outputs": [
    {
     "name": "stdout",
     "output_type": "stream",
     "text": [
      "Please enter a desired string :RAHUL\n",
      "rahul\n"
     ]
    }
   ],
   "source": [
    "#7\n",
    "import string\n",
    "\n",
    "n=input(f'Please enter a desired string :')\n",
    "\n",
    "if len(n)%2==0:\n",
    "    print(n.upper())\n",
    "else:\n",
    "    print(n.lower())"
   ]
  },
  {
   "cell_type": "code",
   "execution_count": 42,
   "metadata": {},
   "outputs": [
    {
     "name": "stdout",
     "output_type": "stream",
     "text": [
      "Please enter a desired string :aertegg\n",
      "Non-Veg\n"
     ]
    }
   ],
   "source": [
    "#8\n",
    "import string\n",
    "\n",
    "n=input(f'Please enter a desired string :')\n",
    "s=n.upper()\n",
    "if s.find('EGG'):\n",
    "    print('Non-Veg')\n",
    "else:\n",
    "    print('Veg')"
   ]
  },
  {
   "cell_type": "code",
   "execution_count": 45,
   "metadata": {},
   "outputs": [
    {
     "name": "stdout",
     "output_type": "stream",
     "text": [
      "True\n",
      "True\n",
      "Weird !!\n",
      "[4, 3, 2, 1]\n"
     ]
    }
   ],
   "source": [
    "#9\n",
    "if not 1:\n",
    "    print(\"False\")\n",
    "else:\n",
    "    print(\"True\")\n",
    "    \n",
    "if 1:\n",
    "    print(\"True\")\n",
    "else:\n",
    "    print(\"False\")\n",
    "    \n",
    "if 'a'>'A':\n",
    "    print('Weird !!')\n",
    "else:\n",
    "    print('Makes Sense')\n",
    "\n",
    "a=[1,2,3,4]\n",
    "if 1>1:\n",
    "    a=a[::-1]\n",
    "else:\n",
    "    a=a[-1::-1]\n",
    "print(a)"
   ]
  },
  {
   "cell_type": "code",
   "execution_count": 50,
   "metadata": {},
   "outputs": [
    {
     "name": "stdout",
     "output_type": "stream",
     "text": [
      "Please enter marks of 1st subject :90\n",
      "Please enter marks of 2nd subject :100\n",
      "Please enter marks of 3rd subject :90\n",
      "Please enter marks of 4th subject :100.50\n",
      "Please enter marks of 5th subject :100.20\n",
      "Grade-A\n"
     ]
    }
   ],
   "source": [
    "#10\n",
    "s1=float(input(f'Please enter marks of 1st subject :'))\n",
    "s2=float(input(f'Please enter marks of 2nd subject :'))\n",
    "s3=float(input(f'Please enter marks of 3rd subject :'))\n",
    "s4=float(input(f'Please enter marks of 4th subject :'))\n",
    "s5=float(input(f'Please enter marks of 5th subject :'))\n",
    "\n",
    "p=(s1+s2+s3+s4+s5)/5\n",
    "\n",
    "if p<60:\n",
    "    print('Grade-F')\n",
    "elif p<80:\n",
    "    print('Grade-C')\n",
    "elif p<90:\n",
    "    print('Grade-B')\n",
    "else:\n",
    "    print('Grade-A')"
   ]
  },
  {
   "cell_type": "code",
   "execution_count": 55,
   "metadata": {},
   "outputs": [
    {
     "name": "stdout",
     "output_type": "stream",
     "text": [
      "Please enter your age :32\n",
      "Please enter your gross salary :1000001\n",
      "Tax applicable is Rs 150000.15\n"
     ]
    }
   ],
   "source": [
    "#11\n",
    "a=int(input(f'Please enter your age :'))\n",
    "s=float(input(f'Please enter your gross salary :'))\n",
    "\n",
    "if s<=250000:\n",
    "    print('Tax applicable is Rs 0')\n",
    "elif s<=500000:\n",
    "    if a <60:\n",
    "        print(f'Tax applicable is Rs {s*0.05}')\n",
    "    else:\n",
    "        print(f'Tax applicable is Rs {s*0.03}')\n",
    "elif s<=1000000:\n",
    "    if a <60:\n",
    "        print(f'Tax applicable is Rs {s*0.10}')\n",
    "    else:\n",
    "        print(f'Tax applicable is Rs {s*0.08}')\n",
    "else:\n",
    "    if a <60:\n",
    "        print(f'Tax applicable is Rs {s*0.15}')\n",
    "    else:\n",
    "        print(f'Tax applicable is Rs {s*0.12}')"
   ]
  },
  {
   "cell_type": "code",
   "execution_count": 60,
   "metadata": {},
   "outputs": [
    {
     "name": "stdout",
     "output_type": "stream",
     "text": [
      "10\n",
      "10\n",
      "10\n",
      "OMG\n"
     ]
    }
   ],
   "source": [
    "#12\n",
    "print(20 if not 1==1 else 10)\n",
    "print(30 if not 1==1 else 20 if 'a' < 'A' else 10)\n",
    "print(40 if not 1==1 else 30 if 'a' < 'A' else 20 if '' else 10)\n",
    "print('No' if not 1==1 else ('No' if 'a' < 'A' else ('OMG' if 'oh!!' else 'No')))"
   ]
  },
  {
   "cell_type": "code",
   "execution_count": 71,
   "metadata": {},
   "outputs": [
    {
     "name": "stdout",
     "output_type": "stream",
     "text": [
      "Please enter your weight in kgs :65\n",
      "Please enter your height in cms :180\n",
      "Your body mass index is Normal\n"
     ]
    }
   ],
   "source": [
    "#13\n",
    "\n",
    "def bmi(w,h):\n",
    "    b=w/(h/100)**2\n",
    "    return b\n",
    "\n",
    "w=float(input(f'Please enter your weight in kgs :'))\n",
    "h=float(input(f'Please enter your height in cms :'))\n",
    "b=bmi(w,h)\n",
    "\n",
    "if w>0 and h>0:\n",
    "    if b<=18.5:\n",
    "        print('Your body mass index is Underweight')\n",
    "    elif b<=25:\n",
    "        print('Your body mass index is Normal')\n",
    "    elif b<=30:\n",
    "        print('Your body mass index is Overweight')\n",
    "    else:\n",
    "        print('Your body mass index is Obese')\n",
    "else:\n",
    "    print('Please enter correct details')\n"
   ]
  },
  {
   "cell_type": "code",
   "execution_count": 78,
   "metadata": {},
   "outputs": [
    {
     "name": "stdout",
     "output_type": "stream",
     "text": [
      "Please enter age of user1 :10\n",
      "Please enter age of user2 :10\n",
      "Please enter age of user3 :10\n",
      "Oldest of all three users is 10 and youngest of all three is 10\n"
     ]
    }
   ],
   "source": [
    "#14\n",
    "a1=int(input('Please enter age of user1 :'))\n",
    "a2=int(input('Please enter age of user2 :'))\n",
    "a3=int(input('Please enter age of user3 :'))\n",
    "yon=a3\n",
    "old=a1\n",
    "\n",
    "if a1<a2 and a1<a3 and a2<a3:\n",
    "    yon=a1\n",
    "    old=a3\n",
    "elif a2<a3 and a2<a1 and a3<a1:\n",
    "    yon=a2\n",
    "    old=a1\n",
    "elif a3<a1 and a3<a2 and a1<a2:\n",
    "    yon=a3\n",
    "    old=a2   \n",
    "    \n",
    "print(f'Oldest of all three users is {old} and youngest of all three is {yon}')   "
   ]
  },
  {
   "cell_type": "code",
   "execution_count": null,
   "metadata": {},
   "outputs": [],
   "source": [
    "n=int(input(f'Please enter a number :'))\n",
    "\n",
    "if n%7==0 and n%5==0:\n",
    "    print(f'Number {n} is divisible by both')\n",
    "elif n%7==0:\n",
    "    print(f'Number {n} is divisible by 7')\n",
    "elif n%5==0:\n",
    "    print(f'Number {n} is divisible by 5')\n",
    "else:\n",
    "    print(f'Number {n} is not divisible by both')"
   ]
  }
 ],
 "metadata": {
  "kernelspec": {
   "display_name": "Python 3",
   "language": "python",
   "name": "python3"
  },
  "language_info": {
   "codemirror_mode": {
    "name": "ipython",
    "version": 3
   },
   "file_extension": ".py",
   "mimetype": "text/x-python",
   "name": "python",
   "nbconvert_exporter": "python",
   "pygments_lexer": "ipython3",
   "version": "3.8.3"
  }
 },
 "nbformat": 4,
 "nbformat_minor": 4
}
