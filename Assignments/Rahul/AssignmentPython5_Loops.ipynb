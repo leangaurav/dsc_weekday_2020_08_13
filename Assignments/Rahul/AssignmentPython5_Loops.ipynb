{
 "cells": [
  {
   "cell_type": "code",
   "execution_count": 3,
   "metadata": {},
   "outputs": [
    {
     "name": "stdout",
     "output_type": "stream",
     "text": [
      "Please enter number to print those many natural numbers : 10\n",
      "0\n",
      "1\n",
      "2\n",
      "3\n",
      "4\n",
      "5\n",
      "6\n",
      "7\n",
      "8\n",
      "9\n"
     ]
    }
   ],
   "source": [
    "#1. WAP to print first n natural numbers (input n from user)\n",
    "n=int(input(\"Please enter number to print those many natural numbers : \"))\n",
    "\n",
    "for i in range(n):\n",
    "    print(i)"
   ]
  },
  {
   "cell_type": "code",
   "execution_count": 9,
   "metadata": {},
   "outputs": [
    {
     "name": "stdout",
     "output_type": "stream",
     "text": [
      "Please enter number to print those many natural numbers : 4\n",
      "Sum of first 4 natural numbers is :10\n"
     ]
    }
   ],
   "source": [
    "#2. WAP to find sum of first n natural numbers\n",
    "n=int(input(\"Please enter number to print those many natural numbers : \"))\n",
    "\n",
    "for i in range(n+1):\n",
    "    if i==0:\n",
    "        s=0\n",
    "    else:\n",
    "        s+=i\n",
    "print(f\"Sum of first {n} natural numbers is :{s}\")"
   ]
  },
  {
   "cell_type": "code",
   "execution_count": 15,
   "metadata": {},
   "outputs": [
    {
     "name": "stdout",
     "output_type": "stream",
     "text": [
      "Please enter number to print those many natural numbers : 6\n",
      "6\n",
      "5\n",
      "4\n",
      "3\n",
      "2\n",
      "1\n"
     ]
    }
   ],
   "source": [
    "#3. WAP to print first n natural numbers in reverse order\n",
    "n=int(input(\"Please enter number to print those many natural numbers : \"))\n",
    "\n",
    "for i in range(n):\n",
    "    print(n)\n",
    "    n-=1"
   ]
  },
  {
   "cell_type": "code",
   "execution_count": 25,
   "metadata": {},
   "outputs": [
    {
     "name": "stdout",
     "output_type": "stream",
     "text": [
      "Please enter number to print those many natural numbers : 5\n",
      "120\n"
     ]
    }
   ],
   "source": [
    "#4. WAP to input a number and print its factorial\n",
    "n=int(input(\"Please enter number to print those many natural numbers : \"))\n",
    "p=1\n",
    "for i in range(n):\n",
    "    p=p*(n-i)\n",
    "print(p)"
   ]
  },
  {
   "cell_type": "code",
   "execution_count": 52,
   "metadata": {},
   "outputs": [
    {
     "name": "stdout",
     "output_type": "stream",
     "text": [
      "Please enter number to print those many natural numbers : 8\n",
      "1\n",
      "1\n",
      "2\n",
      "3\n",
      "5\n",
      "8\n",
      "13\n",
      "21\n"
     ]
    }
   ],
   "source": [
    "#5. WAP to print Fibonacci sequence till n\n",
    "n=int(input(\"Please enter number to print those many natural numbers : \"))\n",
    "s1=0\n",
    "s2=1\n",
    "for i in range(n):\n",
    "    if i==0:\n",
    "        print(s1)\n",
    "    elif i==1:\n",
    "        print(s2)\n",
    "    else:\n",
    "        s=s1+s2\n",
    "        s1=s2\n",
    "        s2=s\n",
    "        print(s)"
   ]
  },
  {
   "cell_type": "code",
   "execution_count": 61,
   "metadata": {},
   "outputs": [
    {
     "name": "stdout",
     "output_type": "stream",
     "text": [
      "Print a number : ac3456\n",
      "3\n",
      "4\n",
      "5\n",
      "6\n"
     ]
    }
   ],
   "source": [
    "#6. WAP to print all digits of a number input from user\n",
    "n=input(\"Print a number : \")\n",
    "\n",
    "for i in range(len(n)):\n",
    "    if n[i].isdigit():\n",
    "        print(int(n[i]))\n",
    "    else:\n",
    "        pass"
   ]
  },
  {
   "cell_type": "code",
   "execution_count": 64,
   "metadata": {},
   "outputs": [
    {
     "name": "stdout",
     "output_type": "stream",
     "text": [
      "Print a number : 123dfc5\n",
      "Sum of all digits is 11\n"
     ]
    }
   ],
   "source": [
    "#7. WAP to find sum of all digits of a number\n",
    "n=input(\"Print a number : \")\n",
    "s=0\n",
    "for i in range(len(n)):\n",
    "    if n[i].isdigit():\n",
    "        s=s+int(n[i])\n",
    "    else:\n",
    "        pass\n",
    "print(f'Sum of all digits is {s}')"
   ]
  },
  {
   "cell_type": "code",
   "execution_count": 71,
   "metadata": {},
   "outputs": [
    {
     "name": "stdout",
     "output_type": "stream",
     "text": [
      "Please enter number to print those many natural numbers : 4\n",
      "Sum of factorial of first 4 natural numbers is 33\n"
     ]
    }
   ],
   "source": [
    "#8. WAP to find sum of following series given n as input from user\n",
    "def factnum(n):\n",
    "    p=1\n",
    "    for i in range(n):\n",
    "        p=p*(n-i)\n",
    "    return p\n",
    "\n",
    "n=int(input(\"Please enter number to print those many natural numbers : \"))\n",
    "for i in range(n+1):\n",
    "    if i==0:\n",
    "        s=0\n",
    "    else:\n",
    "        s=s+factnum(i)\n",
    "print(f\"Sum of factorial of first {n} natural numbers is {s}\")"
   ]
  },
  {
   "cell_type": "code",
   "execution_count": 74,
   "metadata": {},
   "outputs": [
    {
     "name": "stdout",
     "output_type": "stream",
     "text": [
      "Please enter base number : 5\n",
      "Please enter power number : 3\n",
      "Power of 5 to power of 3 is : 125\n"
     ]
    }
   ],
   "source": [
    "#9. WAP to input base and exponent and print result without using inbuilt function pow(use for or while loop)\n",
    "b=int(input(\"Please enter base number : \"))\n",
    "p=int(input(\"Please enter power number : \"))\n",
    "\n",
    "s=1\n",
    "for i in range (p):\n",
    "    s=s*b\n",
    "print(f\"Power of {b} to power of {p} is : {s}\")"
   ]
  },
  {
   "cell_type": "code",
   "execution_count": 128,
   "metadata": {},
   "outputs": [
    {
     "name": "stdout",
     "output_type": "stream",
     "text": [
      "Please enter number of stars to print : 5\n",
      "\n",
      "1st pattern\n",
      "*\n",
      "**\n",
      "***\n",
      "****\n",
      "*****\n",
      "\n",
      "2nd pattern\n",
      "*****\n",
      "****\n",
      "***\n",
      "**\n",
      "*\n",
      "3rd pattern\n",
      "    *\n",
      "   **\n",
      "  ***\n",
      " ****\n",
      "*****\n"
     ]
    }
   ],
   "source": [
    "#10. Print following patterns:\n",
    "n=int(input(\"Please enter number of stars to print : \"))\n",
    "print()\n",
    "print(\"1st pattern\")\n",
    "for i in range(1,n+1):\n",
    "    print(\"\",end=\"\")\n",
    "    for j in range(i):\n",
    "        print(\"*\",end=\"\")\n",
    "    print()\n",
    "print()\n",
    "print(\"2nd pattern\")\n",
    "for i in range(n):\n",
    "    print(\"\",end=\"\")\n",
    "    for j in range(n-i):\n",
    "        print(\"*\",end=\"\")\n",
    "    print()\n",
    "print(\"3rd pattern\")   \n",
    "for i in range(n,0,-1):\n",
    "    print((\"{0:>\"+str(i-1)+\"}\").format(\"\"),end=\"\")\n",
    "    for j in range(n-(i-1)):\n",
    "        print(\"*\",end=\"\")\n",
    "    print()"
   ]
  },
  {
   "cell_type": "code",
   "execution_count": 143,
   "metadata": {},
   "outputs": [
    {
     "name": "stdout",
     "output_type": "stream",
     "text": [
      "Please enter number of stars to print : 5\n",
      "4th pattern\n",
      "  *\n",
      "  ** \n",
      " ** *  \n",
      " ** *  *   \n",
      "** *  *   *    \n"
     ]
    }
   ],
   "source": [
    "n=int(input(\"Please enter number of stars to print : \"))\n",
    "print(\"4th pattern\")   \n",
    "for i in range(n):\n",
    "    print((\"{0:>\"+str(int((n-i)/2))+\"}\").format(\"\"),end=\"\")\n",
    "    for j in range(i+1):\n",
    "        print(\"*\",end=\"\")\n",
    "        print((\"{0:>\"+str(j)+\"}\").format(\"\"),end=\"\")\n",
    "    print()"
   ]
  }
 ],
 "metadata": {
  "kernelspec": {
   "display_name": "Python 3",
   "language": "python",
   "name": "python3"
  },
  "language_info": {
   "codemirror_mode": {
    "name": "ipython",
    "version": 3
   },
   "file_extension": ".py",
   "mimetype": "text/x-python",
   "name": "python",
   "nbconvert_exporter": "python",
   "pygments_lexer": "ipython3",
   "version": "3.8.3"
  }
 },
 "nbformat": 4,
 "nbformat_minor": 4
}
