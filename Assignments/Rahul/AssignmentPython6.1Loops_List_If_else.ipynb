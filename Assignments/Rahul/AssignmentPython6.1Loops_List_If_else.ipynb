{
 "cells": [
  {
   "cell_type": "code",
   "execution_count": 2,
   "metadata": {},
   "outputs": [
    {
     "name": "stdout",
     "output_type": "stream",
     "text": [
      "Enter a string to print charactersabc is not\n",
      "a\n",
      "b\n",
      "c\n",
      "i\n",
      "s\n",
      "n\n",
      "o\n",
      "t\n"
     ]
    }
   ],
   "source": [
    "#1. WAP to input a string and print individual characters in the string using for loop\n",
    "s=input(\"Enter a string to print characters : \")\n",
    "for i in range(len(s)):\n",
    "    if s[i]!=\" \":\n",
    "        print(s[i])"
   ]
  },
  {
   "cell_type": "code",
   "execution_count": 4,
   "metadata": {},
   "outputs": [
    {
     "name": "stdout",
     "output_type": "stream",
     "text": [
      "Enter a string to print charactersabc is not\n",
      "ASCII value of a is : 97\n",
      "ASCII value of b is : 98\n",
      "ASCII value of c is : 99\n",
      "ASCII value of i is : 105\n",
      "ASCII value of s is : 115\n",
      "ASCII value of n is : 110\n",
      "ASCII value of o is : 111\n",
      "ASCII value of t is : 116\n"
     ]
    }
   ],
   "source": [
    "#2. WAP to input a string and print the ASCII value of each character in the string\n",
    "s=input(\"Enter a string to print characters : \")\n",
    "for i in range(len(s)):\n",
    "    if s[i]!=\" \":\n",
    "        print(f\"ASCII value of {s[i]} is : {ord(s[i])}\")"
   ]
  },
  {
   "cell_type": "code",
   "execution_count": 22,
   "metadata": {},
   "outputs": [
    {
     "name": "stdout",
     "output_type": "stream",
     "text": [
      "1\n",
      "3\n",
      "5\n",
      " Sum of odd numbers is :9\n"
     ]
    }
   ],
   "source": [
    "#3. Write a function that takes a list of numbers from user as argument and returns the sum of only\n",
    "# odd numbers (Use only for loop. No need to use if statement)\n",
    "l=[1 , 2 , 4, 3,5]\n",
    "a=filter(lambda x:x%2==1,l)\n",
    "\n",
    "s=0\n",
    "for i in a:\n",
    "    s=s+i\n",
    "    print(i)\n",
    "\n",
    "print(f\" Sum of odd numbers is :{s}\")\n",
    "    \n",
    "    \n"
   ]
  },
  {
   "cell_type": "code",
   "execution_count": 15,
   "metadata": {},
   "outputs": [
    {
     "name": "stdout",
     "output_type": "stream",
     "text": [
      "Enter list of numbers to print characters : 10 20 30 40 50\n",
      "Enter numbers whose index needs to be printed : 30\n",
      "Index of 30 in ('10', '20', '30', '40', '50') is : 2\n"
     ]
    }
   ],
   "source": [
    "#4. WAP to input a list of numbers and store in a tuple. Now input another number and print the\n",
    "# index of this number in the tuple. [Use index function]\n",
    "\n",
    "s=tuple(input(\"Enter list of numbers to print characters : \").split())\n",
    "n=input(\"Enter numbers whose index needs to be printed : \")\n",
    "\n",
    "print(f\"Index of {n} in {s} is : {s.index(n)}\")"
   ]
  },
  {
   "cell_type": "code",
   "execution_count": 28,
   "metadata": {},
   "outputs": [
    {
     "name": "stdout",
     "output_type": "stream",
     "text": [
      "Enter list of numbers to print characters : 1 0 2 0 \n",
      "The sum and average of given list ['1', '0', '2', '0'] is 3, 0.75\n"
     ]
    }
   ],
   "source": [
    "#5. Create a list of 10 random numbers and then print the list, sum of all numbers and average. Use\n",
    "# a for loop. Also print elements at only even indexes in the list\n",
    "l=input(\"Enter list of numbers to print characters : \").split()\n",
    "s=0\n",
    "n=0\n",
    "\n",
    "for i in range(len(l)):\n",
    "    if l[i].isdigit():\n",
    "        s=s+int(l[i])\n",
    "        n+=1\n",
    "print(f\"The sum and average of given list {l} is {s}, {0 if n==0 else s/n}\")\n",
    "\n"
   ]
  },
  {
   "cell_type": "code",
   "execution_count": 30,
   "metadata": {},
   "outputs": [
    {
     "name": "stdout",
     "output_type": "stream",
     "text": [
      "Enter number to loop : 3\n",
      "Enter number to append : 10\n",
      "Enter number to append : 20\n",
      "Enter number to append : 30\n",
      "Sum of all numbers present in list [10, 20, 30] is : 60\n"
     ]
    }
   ],
   "source": [
    "#6. WAP to input 10 numbers repeatedly (using range based for loop) and store them in a list. Print\n",
    "# the list and sum of numbers in the list\n",
    "\n",
    "n=int(input(\"Enter number to loop : \"))\n",
    "a=[]\n",
    "s=0\n",
    "for i in range(n):\n",
    "    p=int(input(\"Enter number to append : \"))\n",
    "    a.append(p)\n",
    "    s+=p\n",
    "\n",
    "print(f\"Sum of all numbers present in list {a} is : {s}\")"
   ]
  },
  {
   "cell_type": "code",
   "execution_count": 35,
   "metadata": {},
   "outputs": [
    {
     "name": "stdout",
     "output_type": "stream",
     "text": [
      "Enter number to print table : 7\n",
      "7 X 1 = 7\n",
      "7 X 2 = 14\n",
      "7 X 3 = 21\n",
      "7 X 4 = 28\n",
      "7 X 5 = 35\n",
      "7 X 6 = 42\n",
      "7 X 7 = 49\n",
      "7 X 8 = 56\n",
      "7 X 9 = 63\n",
      "7 X 10 = 70\n"
     ]
    }
   ],
   "source": [
    "# 7. WAP to input a number and print its table. Ex: if user enters the number as 7\n",
    "n=int(input(\"Enter number to print table : \"))\n",
    "\n",
    "for i in range(1,11):\n",
    "    print(\"%d X %d = %d\" %(n, i, n*i))"
   ]
  },
  {
   "cell_type": "code",
   "execution_count": 36,
   "metadata": {},
   "outputs": [
    {
     "name": "stdout",
     "output_type": "stream",
     "text": [
      "Enter a string to print characters : abd is not a pre\n",
      "Number of spaces present in abd is not a pre is : 4\n"
     ]
    }
   ],
   "source": [
    "# 8. WAP to print total number of spaces in a string (Use for loop to iterate over the string. Don’t use count function\n",
    "s=input(\"Enter a string to print characters : \")\n",
    "n=0\n",
    "for i in s:\n",
    "    if i==\" \":\n",
    "        n+=1\n",
    "print(f\"Number of spaces present in {s} is : {n}\")"
   ]
  },
  {
   "cell_type": "code",
   "execution_count": 38,
   "metadata": {},
   "outputs": [
    {
     "name": "stdout",
     "output_type": "stream",
     "text": [
      "Enter a string to print characters : AeIsdfet\n",
      "Number of vowels in string aeisdfet are 4\n"
     ]
    }
   ],
   "source": [
    "#9. WAP to input a string and count number of vowels in the string. [Note: it should work for both\n",
    "# capital and small alphabets]\n",
    "s=input(\"Enter a string to print characters : \").lower()\n",
    "n=0\n",
    "for i in s:\n",
    "    if i in ('aeiou'):\n",
    "        n+=1\n",
    "print(f\"Number of vowels in string {s} are {n}\")"
   ]
  },
  {
   "cell_type": "code",
   "execution_count": 41,
   "metadata": {},
   "outputs": [
    {
     "name": "stdout",
     "output_type": "stream",
     "text": [
      "Enter a string to print characters : as of\n",
      "_s _f\n"
     ]
    }
   ],
   "source": [
    "#10. WAP to input a string and replace all vowels with ‘_’.\n",
    "# [Hint: Convert string to list. Remember!! Strings are immutable. Replace in the list and then join]\n",
    "s=list(input(\"Enter a string to print characters : \"))\n",
    "\n",
    "for i in range(len(s)):\n",
    "    if s[i].lower() in ('aeiou'):\n",
    "        s[i]=\"_\"\n",
    "a=\"\".join(s)\n",
    "print(a)\n"
   ]
  },
  {
   "cell_type": "code",
   "execution_count": 1,
   "metadata": {},
   "outputs": [
    {
     "name": "stdout",
     "output_type": "stream",
     "text": [
      "Num :  0\n",
      "Loop Ends\n",
      "Num :  0\n"
     ]
    },
    {
     "ename": "SystemExit",
     "evalue": "",
     "output_type": "error",
     "traceback": [
      "An exception has occurred, use %tb to see the full traceback.\n",
      "\u001b[1;31mSystemExit\u001b[0m\n"
     ]
    },
    {
     "name": "stderr",
     "output_type": "stream",
     "text": [
      "C:\\ProgramData\\Anaconda3\\lib\\site-packages\\IPython\\core\\interactiveshell.py:3351: UserWarning: To exit: use 'exit', 'quit', or Ctrl-D.\n",
      "  warn(\"To exit: use 'exit', 'quit', or Ctrl-D.\", stacklevel=1)\n"
     ]
    }
   ],
   "source": [
    "# 11. Find output:\n",
    "\n",
    "for num in range(10):\n",
    "    print(\"Num : \", num)\n",
    "    if num%4==0:\n",
    "        break\n",
    "print(\"Loop Ends\")\n",
    "\n",
    "import sys\n",
    "for num in range(10):\n",
    "    print(\"Num : \", num)\n",
    "    if num%4==0:\n",
    "        sys.exit()\n",
    "print(\"Loop Ends\")"
   ]
  },
  {
   "cell_type": "code",
   "execution_count": 6,
   "metadata": {},
   "outputs": [
    {
     "name": "stdout",
     "output_type": "stream",
     "text": [
      "*****\n",
      "*****\n",
      "*****\n",
      "*****\n",
      "*****\n",
      "1\n",
      "22\n",
      "333\n",
      "4444\n",
      "55555\n",
      "1\n",
      "22\n",
      "333\n",
      "4444\n",
      "55555\n",
      "**\n",
      "***\n",
      "****\n",
      "*****\n",
      "******\n"
     ]
    }
   ],
   "source": [
    "# 12. Find the output of the following code snippets\n",
    "\n",
    "for i1 in range(1,6):\n",
    "    for i2 in range(5):\n",
    "        print('*',end='')\n",
    "    print()\n",
    "    \n",
    "for i1 in range(1,6):\n",
    "    print(str(i1)*i1)\n",
    "    \n",
    "    \n",
    "for i1 in range(1,6):\n",
    "    for i2 in range(i1):\n",
    "        print(i1,end='')\n",
    "    print()\n",
    "    \n",
    "for i1 in range(1,6):\n",
    "    for i2 in range(i1+1):\n",
    "        print('*',end='')\n",
    "    print()"
   ]
  }
 ],
 "metadata": {
  "kernelspec": {
   "display_name": "Python 3",
   "language": "python",
   "name": "python3"
  },
  "language_info": {
   "codemirror_mode": {
    "name": "ipython",
    "version": 3
   },
   "file_extension": ".py",
   "mimetype": "text/x-python",
   "name": "python",
   "nbconvert_exporter": "python",
   "pygments_lexer": "ipython3",
   "version": "3.8.3"
  }
 },
 "nbformat": 4,
 "nbformat_minor": 4
}
