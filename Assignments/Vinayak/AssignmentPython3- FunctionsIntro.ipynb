{
 "cells": [
  {
   "cell_type": "code",
   "execution_count": 1,
   "metadata": {},
   "outputs": [
    {
     "name": "stdout",
     "output_type": "stream",
     "text": [
      "Enter 1st string:learn\n",
      "Enter 2nd string:python\n",
      "1st string after swapping python\n",
      "2nd string after swapping learn\n"
     ]
    }
   ],
   "source": [
    "#1:\n",
    "a=input('Enter 1st string:')\n",
    "b=input('Enter 2nd string:')\n",
    "a,b=b,a\n",
    "print('1st string after swapping '+ a)\n",
    "print('2nd string after swapping '+ b)"
   ]
  },
  {
   "cell_type": "code",
   "execution_count": 2,
   "metadata": {},
   "outputs": [
    {
     "name": "stdout",
     "output_type": "stream",
     "text": [
      "Average of 0, 26, 4, 7 numbers: 9.25\n"
     ]
    }
   ],
   "source": [
    "#2:\n",
    "import random\n",
    "a=random.randint(0,26)\n",
    "b=random.randint(0,26)\n",
    "c=random.randint(0,26)\n",
    "d=random.randint(0,26)\n",
    "# a=print('a:{}'.format(random.randint(0,26)))\n",
    "# b=print('b:{}'.format(random.randint(0,26)))\n",
    "# c=print('c:{}'.format(random.randint(0,26)))\n",
    "# d=print('d:{}'.format(random.randint(0,26)))\n",
    "average=(a+b+c+d)/4\n",
    "print('Average of {}, {}, {}, {} numbers: {}'.format(a,b,c,d,average))"
   ]
  },
  {
   "cell_type": "code",
   "execution_count": 3,
   "metadata": {},
   "outputs": [
    {
     "data": {
      "text/plain": [
       "'A'"
      ]
     },
     "execution_count": 3,
     "metadata": {},
     "output_type": "execute_result"
    }
   ],
   "source": [
    "#3:\n",
    "import random\n",
    "import string\n",
    "random.choice(string.ascii_letters)"
   ]
  },
  {
   "cell_type": "code",
   "execution_count": 4,
   "metadata": {},
   "outputs": [
    {
     "name": "stdout",
     "output_type": "stream",
     "text": [
      "Enter principal amount:5000\n",
      "Enter rate of interest in %:5\n",
      "Enter time in years:5\n",
      "Interest amount= 1250.0\n",
      "Total amount= 6250.0\n"
     ]
    }
   ],
   "source": [
    "#4:\n",
    "def get_si(Principal_Amount,Rate_of_interest,Time):\n",
    "    Interest_amount=Principal_Amount*Rate_of_interest*Time/100\n",
    "    return Interest_amount\n",
    "\n",
    "Principal_Amount=float(input('Enter principal amount:'))\n",
    "Rate_of_interest=float(input('Enter rate of interest in %:'))\n",
    "Time=float(input('Enter time in years:'))\n",
    "\n",
    "print('Interest amount= {r}'.format(r=get_si(Principal_Amount,Rate_of_interest,Time)))\n",
    "print('Total amount= {s}'.format(s=get_si(Principal_Amount,Rate_of_interest,Time)+Principal_Amount))"
   ]
  },
  {
   "cell_type": "code",
   "execution_count": 5,
   "metadata": {},
   "outputs": [
    {
     "name": "stdout",
     "output_type": "stream",
     "text": [
      "Enter principal amount:5000\n",
      "Interest amount= 500.0\n",
      "Total amount= 5500.0\n"
     ]
    }
   ],
   "source": [
    "#5:\n",
    "def get_si(Principal_Amount,Rate_of_interest,Time):\n",
    "    Interest_amount=Principal_Amount*Rate_of_interest*Time/100\n",
    "    return Interest_amount\n",
    "\n",
    "Principal_Amount=float(input('Enter principal amount:'))\n",
    "\n",
    "print('Interest amount= {r}'.format(r=get_si(Principal_Amount,10,1)))\n",
    "print('Total amount= {s}'.format(s=get_si(Principal_Amount,10,1)+Principal_Amount))"
   ]
  },
  {
   "cell_type": "code",
   "execution_count": 1,
   "metadata": {},
   "outputs": [
    {
     "name": "stdout",
     "output_type": "stream",
     "text": [
      "Enter principal amount:5000\n",
      "Enter rate of interest in %:5\n",
      "Enter time in years:5\n",
      "Enter number of times interest compounds in a year:1\n",
      "Compound Interest amount= 1381.4078125000015\n",
      "Total amount= 6381.4078125000015\n"
     ]
    }
   ],
   "source": [
    "#6:\n",
    "def get_ci(Principal_Amount,Rate_of_interest,Time,N):\n",
    "    Compound_Interest_amount=Principal_Amount*(1+(Rate_of_interest/100)/N)**(N*Time)-Principal_Amount\n",
    "    return Compound_Interest_amount\n",
    "\n",
    "Principal_Amount=float(input('Enter principal amount:'))\n",
    "Rate_of_interest=float(input('Enter rate of interest in %:'))\n",
    "Time=float(input('Enter time in years:'))\n",
    "N=float(input('Enter number of times interest compounds in a year:'))\n",
    "\n",
    "print('Compound Interest amount= {r}'.format(r=get_ci(Principal_Amount,Rate_of_interest,Time,N)))\n",
    "print('Total amount= {s}'.format(s=get_ci(Principal_Amount,Rate_of_interest,Time,N)+Principal_Amount))"
   ]
  },
  {
   "cell_type": "code",
   "execution_count": 2,
   "metadata": {},
   "outputs": [
    {
     "name": "stdout",
     "output_type": "stream",
     "text": [
      "Enter a number:5\n",
      "Enter another number:2\n",
      "(2, 1)\n"
     ]
    }
   ],
   "source": [
    "#7:\n",
    "def get_r(a,b):\n",
    "    s=a//b\n",
    "    r=a%2\n",
    "    d=(s, r)\n",
    "    return d\n",
    "\n",
    "a=int(input('Enter a number:'))\n",
    "b=int(input('Enter another number:'))\n",
    "\n",
    "print(get_r(a,b))"
   ]
  },
  {
   "cell_type": "code",
   "execution_count": 3,
   "metadata": {},
   "outputs": [
    {
     "name": "stdout",
     "output_type": "stream",
     "text": [
      "Enter height of trianle:4\n",
      "Enter base of trianle:3\n",
      "hypotenuse of triangle: 5.0\n",
      "hypotenuse of triangle: 5.0\n"
     ]
    }
   ],
   "source": [
    "#8:\n",
    "a=float(input('Enter height of trianle:'))\n",
    "b=float(input('Enter base of trianle:'))\n",
    "\n",
    "from math import sqrt,hypot\n",
    "c=sqrt(pow(a,2)+pow(b,2))\n",
    "print('hypotenuse of triangle: {}'.format(c))\n",
    "print('hypotenuse of triangle: {}'.format(hypot(a,b)))"
   ]
  },
  {
   "cell_type": "code",
   "execution_count": 4,
   "metadata": {},
   "outputs": [
    {
     "name": "stdout",
     "output_type": "stream",
     "text": [
      "Enter seconds:10000\n",
      "0 day 2 hour 46 minute 40 second\n"
     ]
    }
   ],
   "source": [
    "#9:\n",
    "a=int(input('Enter seconds:'))\n",
    "\n",
    "sec=a%60\n",
    "minu=(a//60)%60\n",
    "hrs=(a//60)//60\n",
    "days=int(a/(60*60*24))\n",
    "\n",
    "print('{} day {} hour {} minute {} second'.format(days,hrs,minu,sec))"
   ]
  },
  {
   "cell_type": "code",
   "execution_count": 5,
   "metadata": {},
   "outputs": [],
   "source": [
    "#10:\n",
    "#python --version"
   ]
  },
  {
   "cell_type": "code",
   "execution_count": 6,
   "metadata": {},
   "outputs": [
    {
     "name": "stdout",
     "output_type": "stream",
     "text": [
      "2 -2\n"
     ]
    }
   ],
   "source": [
    "#11:\n",
    "x=2\n",
    "x*=3\n",
    "x=x%4\n",
    "y=-x\n",
    "print(x,y)"
   ]
  },
  {
   "cell_type": "code",
   "execution_count": 7,
   "metadata": {},
   "outputs": [
    {
     "name": "stdout",
     "output_type": "stream",
     "text": [
      "None\n"
     ]
    }
   ],
   "source": [
    "#12:\n",
    "def funct():\n",
    "    pass\n",
    "\n",
    "print (funct())"
   ]
  }
 ],
 "metadata": {
  "kernelspec": {
   "display_name": "Python 3",
   "language": "python",
   "name": "python3"
  },
  "language_info": {
   "codemirror_mode": {
    "name": "ipython",
    "version": 3
   },
   "file_extension": ".py",
   "mimetype": "text/x-python",
   "name": "python",
   "nbconvert_exporter": "python",
   "pygments_lexer": "ipython3",
   "version": "3.7.6"
  }
 },
 "nbformat": 4,
 "nbformat_minor": 4
}
