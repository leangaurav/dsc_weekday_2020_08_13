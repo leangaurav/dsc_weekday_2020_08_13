{
 "cells": [
  {
   "cell_type": "code",
   "execution_count": 1,
   "metadata": {},
   "outputs": [
    {
     "name": "stdout",
     "output_type": "stream",
     "text": [
      "enter a string:vinayak\n",
      "v\n",
      "i\n",
      "n\n",
      "a\n",
      "y\n",
      "a\n",
      "k\n"
     ]
    }
   ],
   "source": [
    "#1:\n",
    "n=input('enter a string:')\n",
    "for i in n:\n",
    "    print(i)"
   ]
  },
  {
   "cell_type": "code",
   "execution_count": 2,
   "metadata": {},
   "outputs": [
    {
     "name": "stdout",
     "output_type": "stream",
     "text": [
      "enter a string:vinayak\n",
      "ASCII value of v is 118\n",
      "ASCII value of i is 105\n",
      "ASCII value of n is 110\n",
      "ASCII value of a is 97\n",
      "ASCII value of y is 121\n",
      "ASCII value of a is 97\n",
      "ASCII value of k is 107\n"
     ]
    }
   ],
   "source": [
    "#2:\n",
    "n=input('enter a string:')\n",
    "for i in n:\n",
    "    print('ASCII value of {} is {}'.format(i,ord(i)))"
   ]
  },
  {
   "cell_type": "code",
   "execution_count": 3,
   "metadata": {},
   "outputs": [
    {
     "name": "stdout",
     "output_type": "stream",
     "text": [
      "Enter a number:6\n",
      "Enter a number:1\n",
      "Enter a number:2\n",
      "Enter a number:3\n",
      "Enter a number:4\n",
      "Enter a number:5\n",
      "Enter a number:6\n",
      "9\n"
     ]
    }
   ],
   "source": [
    "#3:\n",
    "n=int(input('Enter a number:'))\n",
    "add=0\n",
    "for i in range(n):\n",
    "    a=int(input('Enter a number:'))\n",
    "    add+=a*(a%2)\n",
    "print(add)\n"
   ]
  },
  {
   "cell_type": "code",
   "execution_count": 4,
   "metadata": {},
   "outputs": [
    {
     "name": "stdout",
     "output_type": "stream",
     "text": [
      "enter list of number:1,2,3,4\n",
      "Enter a index value:2\n",
      "3\n"
     ]
    }
   ],
   "source": [
    "#4:\n",
    "n=tuple(input('enter list of number:').split(','))\n",
    "a=int(input('Enter a index value:'))\n",
    "\n",
    "print(n[a])\n"
   ]
  },
  {
   "cell_type": "code",
   "execution_count": 11,
   "metadata": {},
   "outputs": [
    {
     "name": "stdout",
     "output_type": "stream",
     "text": [
      "List of 10 random numbers is:[866, 32, 474, 789, 958, 13, 601, 948, 127, 210]\n",
      "Sum of 10 random numbers is:5018\n",
      "Average 10 random numbers is:501.8\n",
      "elements at even indexes are:\n",
      "866\n",
      "474\n",
      "958\n",
      "601\n",
      "127\n"
     ]
    }
   ],
   "source": [
    "#5:\n",
    "import random\n",
    "add=0\n",
    "l=[]\n",
    "for i in range(10):\n",
    "    a=random.randint(1,1000)\n",
    "    l.append(a)\n",
    "    add+=a\n",
    "print('List of 10 random numbers is:{}'.format(l))\n",
    "print('Sum of 10 random numbers is:{}'.format(add))\n",
    "print('Average 10 random numbers is:{}'.format(add/10))\n",
    "print('Elements at even indexes are:')\n",
    "for j in l[::2]: \n",
    "    print(j)"
   ]
  },
  {
   "cell_type": "code",
   "execution_count": 12,
   "metadata": {},
   "outputs": [
    {
     "name": "stdout",
     "output_type": "stream",
     "text": [
      "Enter a number:1\n",
      "Enter a number:2\n",
      "Enter a number:3\n",
      "Enter a number:4\n",
      "Enter a number:5\n",
      "Enter a number:6\n",
      "Enter a number:7\n",
      "Enter a number:8\n",
      "Enter a number:9\n",
      "Enter a number:10\n",
      "[1, 2, 3, 4, 5, 6, 7, 8, 9, 10]\n",
      "55\n"
     ]
    }
   ],
   "source": [
    "#6:\n",
    "l=[]\n",
    "add=0\n",
    "for i in range(1,11):\n",
    "    a=int(input('Enter a number:'))\n",
    "    l.append(a)\n",
    "    add+=a\n",
    "print(l)\n",
    "print(add)"
   ]
  },
  {
   "cell_type": "code",
   "execution_count": 1,
   "metadata": {},
   "outputs": [
    {
     "name": "stdout",
     "output_type": "stream",
     "text": [
      "Enter a number:7\n"
     ]
    },
    {
     "ename": "KeyError",
     "evalue": "'%4d'",
     "output_type": "error",
     "traceback": [
      "\u001b[1;31m---------------------------------------------------------------------------\u001b[0m",
      "\u001b[1;31mKeyError\u001b[0m                                  Traceback (most recent call last)",
      "\u001b[1;32m<ipython-input-1-3ab47466d76a>\u001b[0m in \u001b[0;36m<module>\u001b[1;34m\u001b[0m\n\u001b[0;32m      3\u001b[0m \u001b[1;33m\u001b[0m\u001b[0m\n\u001b[0;32m      4\u001b[0m \u001b[1;32mfor\u001b[0m \u001b[0mi\u001b[0m \u001b[1;32min\u001b[0m \u001b[0mrange\u001b[0m\u001b[1;33m(\u001b[0m\u001b[1;36m1\u001b[0m\u001b[1;33m,\u001b[0m\u001b[1;36m11\u001b[0m\u001b[1;33m)\u001b[0m\u001b[1;33m:\u001b[0m\u001b[1;33m\u001b[0m\u001b[1;33m\u001b[0m\u001b[0m\n\u001b[1;32m----> 5\u001b[1;33m     \u001b[0mprint\u001b[0m\u001b[1;33m(\u001b[0m\u001b[1;34m'{%4d} X {} = {}'\u001b[0m\u001b[1;33m.\u001b[0m\u001b[0mformat\u001b[0m\u001b[1;33m(\u001b[0m\u001b[0ma\u001b[0m\u001b[1;33m,\u001b[0m\u001b[0mi\u001b[0m\u001b[1;33m,\u001b[0m\u001b[0ma\u001b[0m\u001b[1;33m*\u001b[0m\u001b[0mi\u001b[0m\u001b[1;33m)\u001b[0m\u001b[1;33m)\u001b[0m\u001b[1;33m\u001b[0m\u001b[1;33m\u001b[0m\u001b[0m\n\u001b[0m",
      "\u001b[1;31mKeyError\u001b[0m: '%4d'"
     ]
    }
   ],
   "source": [
    "#7:\n",
    "a=int(input('Enter a number:'))\n",
    "\n",
    "for i in range(1,11):\n",
    "    print('{} X {} = {}'.format(a,i,a*i))"
   ]
  },
  {
   "cell_type": "code",
   "execution_count": 14,
   "metadata": {},
   "outputs": [
    {
     "name": "stdout",
     "output_type": "stream",
     "text": [
      "Enter a string:python programming assignment\n",
      "2\n"
     ]
    }
   ],
   "source": [
    "#8:\n",
    "a=input('Enter a string:')\n",
    "b=0\n",
    "for i in a:\n",
    "    if i==' ':\n",
    "        b+=1\n",
    "print(b)"
   ]
  },
  {
   "cell_type": "code",
   "execution_count": 15,
   "metadata": {},
   "outputs": [
    {
     "name": "stdout",
     "output_type": "stream",
     "text": [
      "Enter a string:python programming assignment\n",
      "7\n"
     ]
    }
   ],
   "source": [
    "#9:\n",
    "a=input('Enter a string:')\n",
    "b=0\n",
    "for i in a.lower():\n",
    "    if i in ['a','e','i','o','u']:\n",
    "        b+=1\n",
    "print(b)"
   ]
  },
  {
   "cell_type": "code",
   "execution_count": 2,
   "metadata": {
    "scrolled": true
   },
   "outputs": [
    {
     "name": "stdout",
     "output_type": "stream",
     "text": [
      "Enter a string:python programming assignment\n",
      "pyth_n pr_gr_mm_ng _ss_gnm_nt\n"
     ]
    }
   ],
   "source": [
    "#10:\n",
    "a=input('Enter a string:')\n",
    "l=[]\n",
    "for i in a:\n",
    "    if i in ['a','e','i','o','u']:\n",
    "        l.append('_')\n",
    "    else:\n",
    "        l.append(i)\n",
    "print(''.join(l))"
   ]
  },
  {
   "cell_type": "code",
   "execution_count": 3,
   "metadata": {},
   "outputs": [
    {
     "name": "stdout",
     "output_type": "stream",
     "text": [
      "Num: 0\n",
      "Loop Ends\n"
     ]
    }
   ],
   "source": [
    "#11.1:\n",
    "for num in range (10):\n",
    "    print(\"Num:\",num)\n",
    "    if num%4==0:\n",
    "        break\n",
    "print(\"Loop Ends\")"
   ]
  },
  {
   "cell_type": "code",
   "execution_count": 4,
   "metadata": {},
   "outputs": [
    {
     "name": "stdout",
     "output_type": "stream",
     "text": [
      "Num: 0\n"
     ]
    },
    {
     "ename": "SystemExit",
     "evalue": "",
     "output_type": "error",
     "traceback": [
      "An exception has occurred, use %tb to see the full traceback.\n",
      "\u001b[1;31mSystemExit\u001b[0m\n"
     ]
    },
    {
     "name": "stderr",
     "output_type": "stream",
     "text": [
      "C:\\Users\\Vinu\\anaconda3\\lib\\site-packages\\IPython\\core\\interactiveshell.py:3339: UserWarning: To exit: use 'exit', 'quit', or Ctrl-D.\n",
      "  warn(\"To exit: use 'exit', 'quit', or Ctrl-D.\", stacklevel=1)\n"
     ]
    }
   ],
   "source": [
    "#11.2:\n",
    "import sys\n",
    "for num in range (10):\n",
    "    print(\"Num:\",num)\n",
    "    if num%4==0:\n",
    "        sys.exit()\n",
    "print(\"Loop Ends\")"
   ]
  },
  {
   "cell_type": "code",
   "execution_count": 5,
   "metadata": {
    "scrolled": true
   },
   "outputs": [
    {
     "name": "stdout",
     "output_type": "stream",
     "text": [
      "*****\n",
      "*****\n",
      "*****\n",
      "*****\n",
      "*****\n"
     ]
    }
   ],
   "source": [
    "#12.1:\n",
    "for i1 in range (1,6):\n",
    "    for i2 in range (5):\n",
    "        print(\"*\",end='')\n",
    "    print()"
   ]
  },
  {
   "cell_type": "code",
   "execution_count": 6,
   "metadata": {},
   "outputs": [
    {
     "name": "stdout",
     "output_type": "stream",
     "text": [
      "1\n",
      "22\n",
      "333\n",
      "4444\n",
      "55555\n"
     ]
    }
   ],
   "source": [
    "#12.2:\n",
    "for i1 in range (1,6):\n",
    "    for i2 in range (i1):\n",
    "        print(i1,end='')\n",
    "    print()"
   ]
  },
  {
   "cell_type": "code",
   "execution_count": 7,
   "metadata": {
    "scrolled": true
   },
   "outputs": [
    {
     "name": "stdout",
     "output_type": "stream",
     "text": [
      "1\n",
      "22\n",
      "333\n",
      "4444\n",
      "55555\n"
     ]
    }
   ],
   "source": [
    "#12.3:\n",
    "for i1 in range (1,6):\n",
    "    print(str(i1)*i1)"
   ]
  },
  {
   "cell_type": "code",
   "execution_count": 8,
   "metadata": {},
   "outputs": [
    {
     "name": "stdout",
     "output_type": "stream",
     "text": [
      "**\n",
      "***\n",
      "****\n",
      "*****\n",
      "******\n"
     ]
    }
   ],
   "source": [
    "#12.4:\n",
    "for i1 in range (1,6):\n",
    "    for i2 in range (i1+1):\n",
    "        print(\"*\",end='')\n",
    "    print()"
   ]
  }
 ],
 "metadata": {
  "kernelspec": {
   "display_name": "Python 3",
   "language": "python",
   "name": "python3"
  },
  "language_info": {
   "codemirror_mode": {
    "name": "ipython",
    "version": 3
   },
   "file_extension": ".py",
   "mimetype": "text/x-python",
   "name": "python",
   "nbconvert_exporter": "python",
   "pygments_lexer": "ipython3",
   "version": "3.7.6"
  }
 },
 "nbformat": 4,
 "nbformat_minor": 4
}
