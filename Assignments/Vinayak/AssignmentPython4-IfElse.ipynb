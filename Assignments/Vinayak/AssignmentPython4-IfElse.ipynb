{
 "cells": [
  {
   "cell_type": "code",
   "execution_count": 1,
   "metadata": {},
   "outputs": [
    {
     "name": "stdout",
     "output_type": "stream",
     "text": [
      "enter a number:4\n",
      "enter another number:2\n",
      "True\n"
     ]
    }
   ],
   "source": [
    "#1:\n",
    "n=int(input('enter a number:'))\n",
    "m=int(input('enter another number:'))\n",
    "if n%m==0:\n",
    "    print('True')\n",
    "else:\n",
    "    print('False')"
   ]
  },
  {
   "cell_type": "code",
   "execution_count": 2,
   "metadata": {},
   "outputs": [
    {
     "name": "stdout",
     "output_type": "stream",
     "text": [
      "enter a string:Naman\n",
      "True\n"
     ]
    }
   ],
   "source": [
    "#2:\n",
    "n=input('enter a string:')\n",
    "n=n.lower()\n",
    "o=n[::-1]\n",
    "if n==o:\n",
    "    print(True)\n",
    "else:\n",
    "    print(False)"
   ]
  },
  {
   "cell_type": "code",
   "execution_count": 3,
   "metadata": {},
   "outputs": [
    {
     "name": "stdout",
     "output_type": "stream",
     "text": [
      "Enter height of trianle:2\n",
      "Enter base of trianle:4\n",
      "Enter hypotenuse of trianle:5\n",
      "Scalene triangle\n"
     ]
    }
   ],
   "source": [
    "#3:\n",
    "a=float(input('Enter height of trianle:'))\n",
    "b=float(input('Enter base of trianle:'))\n",
    "c=float(input('Enter hypotenuse of trianle:'))\n",
    "\n",
    "if a==b==c:\n",
    "    print('Euilateral triangle')\n",
    "elif a==b or b==c or a==c:\n",
    "    print('Isosceles triangle')\n",
    "elif a!=b!=c:\n",
    "    print('Scalene triangle')"
   ]
  },
  {
   "cell_type": "code",
   "execution_count": 4,
   "metadata": {},
   "outputs": [
    {
     "name": "stdout",
     "output_type": "stream",
     "text": [
      "enter a number:5\n",
      "odd\n"
     ]
    }
   ],
   "source": [
    "#4:\n",
    "n=int(input('enter a number:'))\n",
    "if n%2==0:\n",
    "    print('even')\n",
    "else:\n",
    "    print('odd')"
   ]
  },
  {
   "cell_type": "code",
   "execution_count": 5,
   "metadata": {},
   "outputs": [
    {
     "name": "stdout",
     "output_type": "stream",
     "text": [
      "enter a number:46\n",
      "Adult\n"
     ]
    }
   ],
   "source": [
    "#5:\n",
    "n=int(input('enter age:'))\n",
    "if n in range(0,13):\n",
    "    print('Child')\n",
    "elif n in range(13,18):\n",
    "    print('Teen')\n",
    "elif n in range(18,51):\n",
    "    print('Adult')\n",
    "elif n in range(51,101):\n",
    "    print('Senior Citizen')\n",
    "else:\n",
    "    print('Contratulations')"
   ]
  },
  {
   "cell_type": "code",
   "execution_count": 7,
   "metadata": {},
   "outputs": [
    {
     "name": "stdout",
     "output_type": "stream",
     "text": [
      "enter a year:1900\n",
      "Not a Leap year\n"
     ]
    }
   ],
   "source": [
    "#6:\n",
    "n=input('enter a year:')\n",
    "if len(n)==4:\n",
    "    n=int(n)\n",
    "    if n>0:\n",
    "        if (n%4==0 or n%100!=0) and n%400==0:\n",
    "            print('Leap year')\n",
    "        else:\n",
    "            print('Not a Leap year') \n",
    "    else:\n",
    "        print('Enter a non negative year')\n",
    "else:\n",
    "    print('Enter a correct year')"
   ]
  },
  {
   "cell_type": "code",
   "execution_count": 8,
   "metadata": {},
   "outputs": [
    {
     "name": "stdout",
     "output_type": "stream",
     "text": [
      "enter a string:python\n",
      "python\n"
     ]
    }
   ],
   "source": [
    "#7:\n",
    "n=input('enter a string:')\n",
    "if len(n)%2==0:\n",
    "    s=n.lower()\n",
    "else:\n",
    "    s=n.upper()\n",
    "\n",
    "print(s)"
   ]
  },
  {
   "cell_type": "code",
   "execution_count": 9,
   "metadata": {},
   "outputs": [
    {
     "name": "stdout",
     "output_type": "stream",
     "text": [
      "enter a string:Boiled eggs\n",
      "non-veg\n"
     ]
    }
   ],
   "source": [
    "#8:\n",
    "n=input('enter a string:')\n",
    "if 'egg' in n:\n",
    "    print('non-veg')\n",
    "else:\n",
    "    print('veg')"
   ]
  },
  {
   "cell_type": "code",
   "execution_count": 10,
   "metadata": {},
   "outputs": [
    {
     "name": "stdout",
     "output_type": "stream",
     "text": [
      "True\n"
     ]
    }
   ],
   "source": [
    "#9:\n",
    "if not 1:\n",
    "    print('False')\n",
    "else:\n",
    "    print('True')"
   ]
  },
  {
   "cell_type": "code",
   "execution_count": 11,
   "metadata": {},
   "outputs": [
    {
     "name": "stdout",
     "output_type": "stream",
     "text": [
      "True\n"
     ]
    }
   ],
   "source": [
    "#9:\n",
    "if 1:\n",
    "    print('True')\n",
    "else:\n",
    "    print('False')"
   ]
  },
  {
   "cell_type": "code",
   "execution_count": 12,
   "metadata": {},
   "outputs": [
    {
     "name": "stdout",
     "output_type": "stream",
     "text": [
      "Weird !!\n"
     ]
    }
   ],
   "source": [
    "#9:\n",
    "if 'a'>'A':\n",
    "    print('Weird !!')\n",
    "else:\n",
    "    print('Makes Sense')"
   ]
  },
  {
   "cell_type": "code",
   "execution_count": 13,
   "metadata": {},
   "outputs": [
    {
     "name": "stdout",
     "output_type": "stream",
     "text": [
      "[4, 3, 2, 1]\n"
     ]
    }
   ],
   "source": [
    "#9:\n",
    "a=[1,2,3,4]\n",
    "if 1>1:\n",
    "    a=a[::-1]\n",
    "else:\n",
    "    a=a[-1::-1]\n",
    "print(a)"
   ]
  },
  {
   "cell_type": "code",
   "execution_count": 14,
   "metadata": {},
   "outputs": [
    {
     "name": "stdout",
     "output_type": "stream",
     "text": [
      "Enter subject1 marks:92\n",
      "Enter subject2 marks:89\n",
      "Enter subject3 marks:85\n",
      "Enter subject4 marks:80\n",
      "Enter subject5 marks:76\n",
      "Percentage is 84.39999999999999\n",
      "% between 80-89 Grade-B\n"
     ]
    }
   ],
   "source": [
    "#10:\n",
    "a=float(input('Enter subject1 marks:'))\n",
    "b=float(input('Enter subject2 marks:'))\n",
    "c=float(input('Enter subject3 marks:'))\n",
    "d=float(input('Enter subject4 marks:'))\n",
    "e=float(input('Enter subject5 marks:'))\n",
    "Total=500\n",
    "add=a+b+c+d+e\n",
    "perc=(add/Total)*100\n",
    "print('Percentage is {}'.format(perc))\n",
    "if perc>=90 and perc<=100:\n",
    "    print ('% between 90-100 Grade-A')\n",
    "elif perc>=80 and perc<=89:\n",
    "    print ('% between 80-89 Grade-B')\n",
    "elif perc>=60 and perc<=79:\n",
    "    print ('% between 60-79 Grade-C')\n",
    "else:\n",
    "    print ('% <60 Grade-F')"
   ]
  },
  {
   "cell_type": "code",
   "execution_count": 15,
   "metadata": {},
   "outputs": [
    {
     "name": "stdout",
     "output_type": "stream",
     "text": [
      "Enter the age:64\n",
      "Enter the salary:800000\n",
      "Tax on income is 31500.0\n"
     ]
    }
   ],
   "source": [
    "#11:\n",
    "a=int(input('Enter the age:'))\n",
    "s=int(input('Enter the salary:'))\n",
    "if a<60:\n",
    "    if s<=250000:\n",
    "        print('No Tax on income')\n",
    "    elif s>250000 and s<=500000:\n",
    "        tax=(s-250000)*0.05\n",
    "        print('Tax on income is {}'.format(tax))   \n",
    "    elif s>500000 and s<=1000000:\n",
    "        tax=12500+(s-500000)*0.1\n",
    "        print('Tax on income is {}'.format(tax))\n",
    "    else:\n",
    "        tax=62500+(s-1000000)*0.15\n",
    "        print('Tax on income is {}'.format(tax))\n",
    "else:\n",
    "    if s<=250000:\n",
    "        print('No Tax on income')\n",
    "    elif s>250000 and s<=500000:\n",
    "        tax=(s-250000)*0.03\n",
    "        print('Tax on income is {}'.format(tax))   \n",
    "    elif s>500000 and s<=1000000:\n",
    "        tax=7500+(s-500000)*0.08\n",
    "        print('Tax on income is {}'.format(tax))\n",
    "    else:\n",
    "        tax=47500+(s-1000000)*0.12\n",
    "        print('Tax on income is {}'.format(tax))    "
   ]
  },
  {
   "cell_type": "code",
   "execution_count": 18,
   "metadata": {
    "scrolled": true
   },
   "outputs": [
    {
     "name": "stdout",
     "output_type": "stream",
     "text": [
      "10\n"
     ]
    }
   ],
   "source": [
    "#12:\n",
    "print(20 if not 1==1 else 10)"
   ]
  },
  {
   "cell_type": "code",
   "execution_count": 19,
   "metadata": {},
   "outputs": [
    {
     "name": "stdout",
     "output_type": "stream",
     "text": [
      "10\n"
     ]
    }
   ],
   "source": [
    "#12:\n",
    "print(30 if not 1==1 else 20 if 'a' <'A' else 10)"
   ]
  },
  {
   "cell_type": "code",
   "execution_count": 20,
   "metadata": {
    "scrolled": true
   },
   "outputs": [
    {
     "name": "stdout",
     "output_type": "stream",
     "text": [
      "10\n"
     ]
    }
   ],
   "source": [
    "#12:\n",
    "print(40 if not 1==1 else 30 if 'a' <'A' else 20 if '' else 10)"
   ]
  },
  {
   "cell_type": "code",
   "execution_count": 21,
   "metadata": {},
   "outputs": [
    {
     "name": "stdout",
     "output_type": "stream",
     "text": [
      "OMG\n"
     ]
    }
   ],
   "source": [
    "#12:\n",
    "print('No' if not 1==1 else ('No' if 'a' <'A' else ('OMG' if 'oh!!' else 'No')))"
   ]
  },
  {
   "cell_type": "code",
   "execution_count": 22,
   "metadata": {},
   "outputs": [
    {
     "name": "stdout",
     "output_type": "stream",
     "text": [
      "Enter weight in kg:68\n",
      "Enter height in cm:185\n",
      "Overweight\n"
     ]
    }
   ],
   "source": [
    "#13:\n",
    "def bmi(weight,height):\n",
    "    s=weight/((height/100)**2)\n",
    "    if s<18.5:\n",
    "        print('Underweight')\n",
    "    elif s<=18.5 and s<25:\n",
    "        print('Normal')\n",
    "    elif s<=25 and s<30:\n",
    "        print('Overweight')\n",
    "    else:\n",
    "        print('Obese')\n",
    "\n",
    "weight=int(input('Enter weight in kg:'))\n",
    "height=int(input('Enter height in cm:'))\n",
    "\n",
    "bmi(weight,height)"
   ]
  },
  {
   "cell_type": "code",
   "execution_count": 24,
   "metadata": {},
   "outputs": [
    {
     "name": "stdout",
     "output_type": "stream",
     "text": [
      "Enter 1st person age:36\n",
      "Enter 2nd person age:47\n",
      "Enter 3rd person age:59\n",
      "59.0 is the oldest person's age\n",
      "36.0 is the youngest person's age\n"
     ]
    }
   ],
   "source": [
    "#14:\n",
    "p1=float(input('Enter 1st person age:'))\n",
    "p2=float(input('Enter 2nd person age:'))\n",
    "p3=float(input('Enter 3rd person age:'))\n",
    "\n",
    "print(\"{} is the oldest person's age\".format(max(p1,p2,p3)))\n",
    "print(\"{} is the youngest person's age\".format(min(p1,p2,p3)))"
   ]
  },
  {
   "cell_type": "code",
   "execution_count": 25,
   "metadata": {},
   "outputs": [
    {
     "name": "stdout",
     "output_type": "stream",
     "text": [
      "Enter a number:35\n",
      "35 is divisibel both 5 and 7\n"
     ]
    }
   ],
   "source": [
    "#15:\n",
    "a=int(input('Enter a number:'))\n",
    "\n",
    "if a%5==0 and a%7==0:\n",
    "    print('{} is divisibel both 5 and 7'.format(a))\n",
    "else:\n",
    "    print('{} is not divisibel both 5 and 7'.format(a))"
   ]
  }
 ],
 "metadata": {
  "kernelspec": {
   "display_name": "Python 3",
   "language": "python",
   "name": "python3"
  },
  "language_info": {
   "codemirror_mode": {
    "name": "ipython",
    "version": 3
   },
   "file_extension": ".py",
   "mimetype": "text/x-python",
   "name": "python",
   "nbconvert_exporter": "python",
   "pygments_lexer": "ipython3",
   "version": "3.7.6"
  }
 },
 "nbformat": 4,
 "nbformat_minor": 4
}
