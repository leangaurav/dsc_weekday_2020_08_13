{
 "cells": [
  {
   "cell_type": "markdown",
   "metadata": {},
   "source": [
    "# Assignment if-else"
   ]
  },
  {
   "cell_type": "code",
   "execution_count": 5,
   "metadata": {},
   "outputs": [
    {
     "name": "stdout",
     "output_type": "stream",
     "text": [
      "Enter num1: 20\n",
      "Enter num2: 5\n",
      "20 is divisible by 5\n"
     ]
    }
   ],
   "source": [
    "# 1. WAP to input 2 numbers and check whether the first is divisible by the second and print true or\n",
    "# false depending on the divisibility.\n",
    "n1 = int(input(\"Enter num1: \"))\n",
    "n2 = int(input(\"Enter num2: \"))\n",
    "if n1%n2 == 0:\n",
    "    print(f\"{n1} is divisible by {n2}\")\n",
    "else:\n",
    "    print(f\"{n1} is not divisible by {n2}\")\n"
   ]
  },
  {
   "cell_type": "code",
   "execution_count": 5,
   "metadata": {},
   "outputs": [
    {
     "name": "stdout",
     "output_type": "stream",
     "text": [
      "Enter text: namaN\n",
      "naman naman\n",
      "Palindrome\n"
     ]
    }
   ],
   "source": [
    "# 2. In the palindrome example, make the code case insensitive.\n",
    "# i.e. Naman should also be treated as a palindrome (HINT: first convert to either upper or\n",
    "# lower case).\n",
    "\n",
    "s = input(\"Enter text: \")\n",
    "s = s.lower()\n",
    "rev = s[::-1]\n",
    "print(s, rev)\n",
    "if s == rev:\n",
    "    print(\"Palindrome\")\n",
    "else:\n",
    "    print(\"Not Palindrome\")\n"
   ]
  },
  {
   "cell_type": "code",
   "execution_count": 8,
   "metadata": {},
   "outputs": [
    {
     "name": "stdout",
     "output_type": "stream",
     "text": [
      "Enter triangle side 1: 6\n",
      "Enter triangle side 2: 6\n",
      "Enter triangle side 3: 6\n",
      "Equilateral triangle\n"
     ]
    }
   ],
   "source": [
    "# 3. WAP to input the sides of a triangle and print whether equilateral(all sides equal), isosceles (2\n",
    "# sides equal), or scalene (no sides equal).\n",
    "\n",
    "s1 = int(input(\"Enter triangle side 1: \"))\n",
    "s2 = int(input(\"Enter triangle side 2: \"))\n",
    "s3 = int(input(\"Enter triangle side 3: \"))\n",
    "\n",
    "if s1 == s2 == s3:\n",
    "    print(\"Equilateral triangle\")\n",
    "elif s1==s2 or s2==s3 or s3==s1:\n",
    "    print(\"Isosceles triangle\")\n",
    "else:\n",
    "    print(\"Scalene triangle\")\n"
   ]
  },
  {
   "cell_type": "code",
   "execution_count": 10,
   "metadata": {},
   "outputs": [
    {
     "name": "stdout",
     "output_type": "stream",
     "text": [
      "Enter a number: 43\n",
      "43 is odd num\n"
     ]
    }
   ],
   "source": [
    "# 4. WAP to input a number and print if it is even or odd.\n",
    "\n",
    "def even_or_odd(n):\n",
    "    if n%2 == 0:\n",
    "        print(f\"{n} is even num\")\n",
    "    else:\n",
    "        print(f\"{n} is odd num\")\n",
    "\n",
    "n1 = int(input(\"Enter a number: \"))\n",
    "even_or_odd(n1)\n"
   ]
  },
  {
   "cell_type": "code",
   "execution_count": 16,
   "metadata": {},
   "outputs": [
    {
     "name": "stdout",
     "output_type": "stream",
     "text": [
      "Enter age: 33\n",
      "Adult\n"
     ]
    }
   ],
   "source": [
    "# 5. WAP to input age and print the respective text\n",
    "# depending on the age ranges as present in the table.\n",
    "# Age Text to be displayed\n",
    "# 0-12 Child\n",
    "# 13-17 Teen\n",
    "# 18-50 Adult\n",
    "# 51-100 Senior Citizen\n",
    "# age > 100 Congratulations\n",
    "\n",
    "age = int(input(\"Enter age: \"))\n",
    "if age in range(0,13):\n",
    "    print(\"Child\")\n",
    "elif age in range(13,18):\n",
    "    print(\"Teen\")\n",
    "elif age in range(18,51):\n",
    "    print(\"Adult\")\n",
    "elif age in range(51,101):\n",
    "    print(\"Senior Citizen\")\n",
    "elif age > 100:\n",
    "    print(\"Congratulations\")\n"
   ]
  },
  {
   "cell_type": "code",
   "execution_count": 38,
   "metadata": {},
   "outputs": [
    {
     "name": "stdout",
     "output_type": "stream",
     "text": [
      "Enter year: 2020\n",
      "Leap year\n"
     ]
    }
   ],
   "source": [
    "# 6. WAP to input year (check if user enters valid year. Should be 4-digit number and should not be\n",
    "# negative) and print whether leap year or not. (If really interested in why you also have to check\n",
    "# the divisibility by 400 just google the exact time it takes for the earth to revolve around the sub)\n",
    "\n",
    "def check_leap(year):\n",
    "    if year % 400 == 0:\n",
    "        print(\"Leap year\")\n",
    "        return\n",
    "    if year % 100 == 0:\n",
    "        print(\"Not leap year\")\n",
    "        return\n",
    "    if year % 4 == 0:\n",
    "        print(\"Leap year\")\n",
    "        return\n",
    "    else:\n",
    "        print(\"Not leap year\")\n",
    "\n",
    "yr = int(input(\"Enter year: \"))\n",
    "if yr >= 1000:\n",
    "    check_leap(yr)\n",
    "else:\n",
    "    print(\"Enter valid year!!\")\n"
   ]
  },
  {
   "cell_type": "code",
   "execution_count": 35,
   "metadata": {},
   "outputs": [
    {
     "name": "stdout",
     "output_type": "stream",
     "text": [
      "Enter text: Welcome\n",
      "WELCOME\n"
     ]
    }
   ],
   "source": [
    "# 7. WAP to input a string and convert it to Upper Case if number of characters is odd and convert to\n",
    "# lower case otherwise.\\\n",
    "\n",
    "s = input(\"Enter text: \")\n",
    "if len(s)%2 == 0:\n",
    "    print(s.lower())\n",
    "else:\n",
    "    print(s.upper())\n",
    "\n",
    "# using map() function:\n",
    "# s = input(\"Enter text: \")\n",
    "# def transform(w):\n",
    "#     if len(w)%2 == 0:\n",
    "#         return w.lower()\n",
    "#     else:\n",
    "#         return w.upper()\n",
    "\n",
    "# s = input(\"Enter text: \")\n",
    "# res = map (transform, s.split(' '))\n",
    "# print(''.join(list(res)))\n"
   ]
  },
  {
   "cell_type": "code",
   "execution_count": 6,
   "metadata": {},
   "outputs": [
    {
     "name": "stdout",
     "output_type": "stream",
     "text": [
      "Enter text: food with egg\n",
      "Non-Veg\n"
     ]
    }
   ],
   "source": [
    "# 8. WAP to input a string and print Veg if the string doesn’t contain the word egg. Otherwise print\n",
    "# Non-Veg. As usual eggs can be both big and small.\n",
    "\n",
    "s = input(\"Enter text: \")\n",
    "if not 'egg' in s:\n",
    "    print(\"Veg\")\n",
    "else:\n",
    "    print(\"Non-Veg\")\n"
   ]
  },
  {
   "cell_type": "code",
   "execution_count": 7,
   "metadata": {},
   "outputs": [
    {
     "name": "stdout",
     "output_type": "stream",
     "text": [
      "True\n",
      "\n",
      "True\n",
      "\n",
      "Weird!!\n",
      "\n",
      "[4, 3, 2, 1]\n"
     ]
    }
   ],
   "source": [
    "# 9. Give output of:\n",
    "\n",
    "#Test1\n",
    "if not 1:\n",
    "    print(\"False\")\n",
    "else:\n",
    "    print(\"True\")\n",
    "print()\n",
    "\n",
    "#Test2\n",
    "if 1:\n",
    "    print(\"True\")\n",
    "else:\n",
    "    print(\"False\")\n",
    "print()\n",
    "\n",
    "#Test3\n",
    "if 'a' > 'A':\n",
    "    print('Weird!!')\n",
    "else:\n",
    "    print('Makes sense')\n",
    "print()\n",
    "\n",
    "#Test4\n",
    "a = [1,2,3,4]\n",
    "if 1>1:\n",
    "    a = a[::-1]\n",
    "else:\n",
    "    a = a[-1::-1]\n",
    "print(a)\n"
   ]
  },
  {
   "cell_type": "code",
   "execution_count": 4,
   "metadata": {},
   "outputs": [
    {
     "name": "stdout",
     "output_type": "stream",
     "text": [
      "Enter mark subject 1: 90\n",
      "Enter mark subject 2: 99\n",
      "Enter mark subject 3: 88\n",
      "Enter mark subject 4: 56\n",
      "Enter mark subject 5: 78\n",
      "Percentage: 82\n",
      "Grade-B\n"
     ]
    }
   ],
   "source": [
    "# 10. WAP to input marks in 5 subjects and print the grade as per following logic:\n",
    "# % between 90-100 Grade-A\n",
    "# % between 80 - 89 Grade-B\n",
    "# % between 60 - 79 Grade-C\n",
    "# % < 60 Grade-F\n",
    "\n",
    "m1 = int(input(\"Enter mark subject 1: \"))\n",
    "m2 = int(input(\"Enter mark subject 2: \"))\n",
    "m3 = int(input(\"Enter mark subject 3: \"))\n",
    "m4 = int(input(\"Enter mark subject 4: \"))\n",
    "m5 = int(input(\"Enter mark subject 5: \"))\n",
    "\n",
    "marks = (m1,m2,m3,m4,m5)\n",
    "percent = round(((sum(marks)/(100*len(marks)))*100))  #default round to 0 precision\n",
    "\n",
    "print(f\"Percentage: {percent}\")\n",
    "if percent in range(90,101):\n",
    "    print(\"Grade-A\")\n",
    "elif percent in range(80,90):\n",
    "    print(\"Grade-B\")\n",
    "elif percent in range(60,80):\n",
    "    print(\"Grade-C\")\n",
    "elif percent <60:\n",
    "    print(\"Grade-F\")\n",
    "else:\n",
    "    print(\"No match\")"
   ]
  },
  {
   "cell_type": "code",
   "execution_count": 15,
   "metadata": {},
   "outputs": [
    {
     "name": "stdout",
     "output_type": "stream",
     "text": [
      "Enter your age: 22\n",
      "Enter your salary: 300000\n",
      "Tax = 15000.0\n"
     ]
    }
   ],
   "source": [
    "# 11. WAP to input age and salary and calculate Tax as per tax rates if following table:\n",
    "# Salary Range\n",
    "# Salary Range Age < 60 Age >= 60\n",
    "# 0-2,50,000 0 0\n",
    "# 2,50,001-5,00,000 5% 3%\n",
    "# 5,00,001-10,00,000 10% 8%\n",
    "# Salary>10,00,001 15% 12%\n",
    "\n",
    "def calc_tax(a, s):\n",
    "    if s > 1000000:\n",
    "        if age < 60:\n",
    "            t = (s * 12) / 100\n",
    "        else:\n",
    "            t = (s * 15) / 100\n",
    "    elif s > 500000:\n",
    "        if age < 60:\n",
    "            t = (s * 10) / 100\n",
    "        else:\n",
    "            t = (s * 8) / 100\n",
    "    elif s > 250000:\n",
    "        if age < 60:\n",
    "            t = (s * 5) / 100\n",
    "        else:\n",
    "            t = (s * 3) / 100\n",
    "    elif s > 0:\n",
    "        t = 0\n",
    "        \n",
    "    return t\n",
    "\n",
    "age = int(input(\"Enter your age: \"))\n",
    "sal = int(input(\"Enter your salary: \"))\n",
    "\n",
    "tax = calc_tax(age, sal)\n",
    "print(f\"Tax = {tax}\")\n"
   ]
  },
  {
   "cell_type": "code",
   "execution_count": 8,
   "metadata": {},
   "outputs": [
    {
     "name": "stdout",
     "output_type": "stream",
     "text": [
      "10\n",
      "10\n",
      "10\n",
      "OMG\n"
     ]
    }
   ],
   "source": [
    "# 12. Try each of the below statements separately (remember difference between statement and\n",
    "# expression) on the python interpreter and guess the output before trying:\n",
    "\n",
    "print(20 if not 1==1 else 10)\n",
    "print(30 if not 1==1 else 20 if 'a'<'A' else 10)\n",
    "print(40 if not 1==1 else 30 if 'a'<'A' else 20 if '' else 10)\n",
    "print('No' if not 1==1 else ('No' if 'a'<'A' else ('OMG' if 'oh!!' else 'No')))\n"
   ]
  },
  {
   "cell_type": "code",
   "execution_count": 9,
   "metadata": {},
   "outputs": [
    {
     "name": "stdout",
     "output_type": "stream",
     "text": [
      "Enter height in centimeters: 175\n",
      "Enter weight in kilogram: 58\n",
      "BMI is:  18.94\n",
      "Overweight\n"
     ]
    }
   ],
   "source": [
    "# 13. WAF: bmi() that takes the weight in kg and height in cm of a person, calculates and returns the\n",
    "# BMI.\n",
    "# Write code that calls this function after taking height and weight as inputs and then prints\n",
    "# underweight, normal, overweight or obese depending on the value of BMI.\n",
    "# Refer this link for the ranges:\n",
    "# https://en.wikipedia.org/wiki/Body_mass_index\n",
    "\n",
    "# Commonly accepted BMI ranges are:\n",
    "# underweight (under 18.5 kg/m2), \n",
    "# normal weight (18.5 to 25), \n",
    "# overweight (25 to 30),\n",
    "# obese (over 30)\n",
    "\n",
    "def bmi(h, w):\n",
    "    return round(w / (h * h), 2)\n",
    "\n",
    "height = float(input(\"Enter height in centimeters: \"))\n",
    "weight = float(input(\"Enter weight in kilogram: \"))\n",
    "height = height / 100 # convert to meters\n",
    "\n",
    "bmi_res = bmi(height, weight)\n",
    "print(\"BMI is: \", bmi_res)\n",
    "if bmi_res > 30:\n",
    "    print(\"Obese\")\n",
    "elif bmi_res >=25:\n",
    "    print(\"Overweight\")\n",
    "elif bmi_res >=18.5:\n",
    "    print(\"Overweight\")\n",
    "elif bmi_res > 0:\n",
    "    print(\"Underweight\")\n"
   ]
  },
  {
   "cell_type": "code",
   "execution_count": 1,
   "metadata": {},
   "outputs": [
    {
     "name": "stdout",
     "output_type": "stream",
     "text": [
      "Enter age1: 25\n",
      "Enter age2: 87\n",
      "Enter age3: 42\n",
      "\n",
      "Oldest age 87\n",
      "Youngest age 25\n"
     ]
    }
   ],
   "source": [
    "##### 14. Take input of age of 3 people by user and determine oldest and youngest among them.\n",
    "\n",
    "a1 = int(input(\"Enter age1: \"))\n",
    "a2 = int(input(\"Enter age2: \"))\n",
    "a3 = int(input(\"Enter age3: \"))\n",
    "print()\n",
    "print(\"Oldest age\", a1 if a1>a2 and a1>a3 else a2 if a2>a3 and a2>a1 else a3)\n",
    "print(\"Youngest age\", a1 if a1<a2 and a1<a3 else a2 if a2<a3 and a2<a1 else a3)\n"
   ]
  },
  {
   "cell_type": "code",
   "execution_count": 2,
   "metadata": {},
   "outputs": [
    {
     "name": "stdout",
     "output_type": "stream",
     "text": [
      "Enter num: 42\n",
      "42 is not divisible by 5 and 7\n"
     ]
    }
   ],
   "source": [
    "# 15. WAP to input a number and check if number is divisible by both 5 and 7.\n",
    "\n",
    "n = int(input(\"Enter num: \"))\n",
    "\n",
    "if n%5 == 0 and n%7 == 0:\n",
    "    print(f\"{n} is divisible by 5 and 7\")\n",
    "else:\n",
    "    print(f\"{n} is not divisible by 5 and 7\")\n"
   ]
  },
  {
   "cell_type": "code",
   "execution_count": null,
   "metadata": {},
   "outputs": [],
   "source": [
    "#  ---------- End ------------"
   ]
  }
 ],
 "metadata": {
  "kernelspec": {
   "display_name": "Python 3",
   "language": "python",
   "name": "python3"
  },
  "language_info": {
   "codemirror_mode": {
    "name": "ipython",
    "version": 3
   },
   "file_extension": ".py",
   "mimetype": "text/x-python",
   "name": "python",
   "nbconvert_exporter": "python",
   "pygments_lexer": "ipython3",
   "version": "3.7.4"
  }
 },
 "nbformat": 4,
 "nbformat_minor": 2
}
