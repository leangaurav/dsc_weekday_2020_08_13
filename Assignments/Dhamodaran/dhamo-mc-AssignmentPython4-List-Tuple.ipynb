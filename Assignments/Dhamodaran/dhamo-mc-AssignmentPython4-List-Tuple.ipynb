{
 "cells": [
  {
   "cell_type": "markdown",
   "metadata": {},
   "source": [
    "# Assignment 4 | List, Tuple"
   ]
  },
  {
   "cell_type": "code",
   "execution_count": 3,
   "metadata": {},
   "outputs": [
    {
     "name": "stdout",
     "output_type": "stream",
     "text": [
      "Tuple: (1, 2, 3, 4, 5)\n",
      "List: [1, 2, 3, 4, 5]\n"
     ]
    }
   ],
   "source": [
    "# 1. Convert a Tuple t = (1,2,3,4,5) to a list\n",
    "\n",
    "t = (1,2,3,4,5)\n",
    "print(f\"Tuple: {t}\")\n",
    "print(f\"List: {list(t)}\")\n"
   ]
  },
  {
   "cell_type": "code",
   "execution_count": 8,
   "metadata": {},
   "outputs": [
    {
     "name": "stdout",
     "output_type": "stream",
     "text": [
      "[1, 3, 5, 7, 8, 6, 4, 2]\n"
     ]
    }
   ],
   "source": [
    "# # 2. WAP to join a list and a tuple:\n",
    "# L = [1,3,5,7]\n",
    "# T = (8,6,4,2)\n",
    "# Store the result in a list LS\n",
    "\n",
    "l = [1,3,5,7]\n",
    "t = (8,6,4,2)\n",
    "ls = l + list(t)\n",
    "print(ls)"
   ]
  },
  {
   "cell_type": "code",
   "execution_count": null,
   "metadata": {},
   "outputs": [],
   "source": [
    "# 3. What is difference between list and tuple.\n",
    "List:\n",
    "    -mutable\n",
    "    -ordered\n",
    "    -iterable\n",
    "Tuple:\n",
    "    -immutable\n",
    "    -"
   ]
  },
  {
   "cell_type": "code",
   "execution_count": 10,
   "metadata": {},
   "outputs": [
    {
     "name": "stdout",
     "output_type": "stream",
     "text": [
      "['C', 'A', 'c', 'd', 'a']\n"
     ]
    }
   ],
   "source": [
    "# 4. Print the list in reverse order\n",
    "# l = ['a', 'd', 'c', 'A', 'C']\n",
    "\n",
    "l = ['a', 'd', 'c', 'A', 'C']\n",
    "print(l[::-1])\n"
   ]
  },
  {
   "cell_type": "code",
   "execution_count": 11,
   "metadata": {},
   "outputs": [
    {
     "name": "stdout",
     "output_type": "stream",
     "text": [
      "[10, 20, 30, 40]\n"
     ]
    }
   ],
   "source": [
    "# 5. Print Elements at Odd indexes from a list (Do not use loop)\n",
    "# l = [10,11,20,21,30,31,40,41]\n",
    "\n",
    "l = [10,11,20,21,30,31,40,41]\n",
    "print(l[::2])\n"
   ]
  },
  {
   "cell_type": "code",
   "execution_count": 14,
   "metadata": {},
   "outputs": [
    {
     "name": "stdout",
     "output_type": "stream",
     "text": [
      "['one', 'two', 'three', 'four', 'five']\n",
      "['apple', 'goa', 'orange', 'banana', 'jackfruit']\n",
      "['apple', 'goa', 'orange', 'banana', 'jackfruit']\n",
      "['one', 'two', 'three', 'four', 'five']\n"
     ]
    }
   ],
   "source": [
    "# 6. How many ways you can copy a list.\n",
    "\n",
    "#1. Using copy function\n",
    "old_list = ['one','two','three','four','five']\n",
    "new_list = old_list.copy()\n",
    "print(new_list)\n",
    "\n",
    "#2. Using Slicing\n",
    "my_fruits = ['apple', 'goa', 'orange', 'banana', 'jackfruit']\n",
    "your_fruits = my_fruits[:]\n",
    "print(your_fruits)\n",
    "\n",
    "#3. Using List()\n",
    "new_fruits = list(my_fruits)\n",
    "print(new_fruits)\n",
    "\n",
    "#4. Using List Comprehension\n",
    "compr_new_list = [i for i in old_list]\n",
    "print(compr_new_list)\n",
    "\n",
    "\n",
    "#1. Shallow copy?\n",
    "#2. Deep copy?\n"
   ]
  },
  {
   "cell_type": "code",
   "execution_count": 15,
   "metadata": {},
   "outputs": [
    {
     "name": "stdout",
     "output_type": "stream",
     "text": [
      "a\n",
      "5\n"
     ]
    }
   ],
   "source": [
    "# 7. Predict output\n",
    "\n",
    "n_list  = [\"Happy\", [2,0,1,5]]\n",
    "print(n_list[0][1])\n",
    "print(n_list[1][3])\n"
   ]
  },
  {
   "cell_type": "code",
   "execution_count": 16,
   "metadata": {},
   "outputs": [
    {
     "name": "stdout",
     "output_type": "stream",
     "text": [
      "[1, 4, 6, 8]\n",
      "[1, 3, 5, 7]\n"
     ]
    }
   ],
   "source": [
    "# 8. Predict output\n",
    "\n",
    "odd = [2,4,6,8]\n",
    "odd[0] = 1\n",
    "print(odd)\n",
    "odd[1:4] = [3,5,7]\n",
    "print(odd)\n"
   ]
  },
  {
   "cell_type": "code",
   "execution_count": 18,
   "metadata": {},
   "outputs": [
    {
     "name": "stdout",
     "output_type": "stream",
     "text": [
      "[1, 3, 5, [7, 9]]\n",
      "[1, 3, 5, [7, 9], 11, 13]\n"
     ]
    }
   ],
   "source": [
    "# 9. Predict output\n",
    "\n",
    "odd = [1,3,5]\n",
    "odd.append([7,9])\n",
    "print(odd)\n",
    "odd.extend([11,13])\n",
    "print(odd)\n"
   ]
  },
  {
   "cell_type": "code",
   "execution_count": 21,
   "metadata": {},
   "outputs": [
    {
     "name": "stdout",
     "output_type": "stream",
     "text": [
      "<class 'tuple'>\n",
      "<class 'int'>\n",
      "<class 'int'>\n",
      "<class 'tuple'>\n"
     ]
    }
   ],
   "source": [
    "# 10. Predict output\n",
    "\n",
    "x = 1,2,3; print(type(x))\n",
    "x = (1) ; print(type(x))\n",
    "x = 1 ; print(type(x))\n",
    "x = 1, ; print(type(x))\n"
   ]
  },
  {
   "cell_type": "code",
   "execution_count": 22,
   "metadata": {},
   "outputs": [],
   "source": [
    "# 11. Try to represent a matrix with following data in python:\n",
    "# 1 2 3\n",
    "# 4 5 6\n",
    "# 7 8 9\n",
    "\n",
    "## TO DO\n",
    "\n"
   ]
  },
  {
   "cell_type": "code",
   "execution_count": 24,
   "metadata": {},
   "outputs": [
    {
     "name": "stdout",
     "output_type": "stream",
     "text": [
      "('s', 't', 'r', 'i', 'n', 'g')\n",
      "('g', 'n', 'i', 'r', 't', 's')\n",
      "('n', 's')\n"
     ]
    }
   ],
   "source": [
    "# 12. Predict output\n",
    "t = tuple('string')\n",
    "print(t)\n",
    "print(t[::-1])\n",
    "print(t[::2][::-2])  ## t[::2][::-2] => (s,r,n)[::-2] => (n,s)\n"
   ]
  },
  {
   "cell_type": "code",
   "execution_count": 26,
   "metadata": {},
   "outputs": [
    {
     "name": "stdout",
     "output_type": "stream",
     "text": [
      "True\n",
      "False\n",
      "1\n",
      "3\n"
     ]
    }
   ],
   "source": [
    "# 13. Predict output\n",
    "\n",
    "t = tuple([10,20,30,40,50,60])\n",
    "print(60 in t)\n",
    "print('60' in t)\n",
    "print(t.count(10))\n",
    "print(t.index(40))\n"
   ]
  },
  {
   "cell_type": "code",
   "execution_count": 32,
   "metadata": {},
   "outputs": [
    {
     "name": "stdout",
     "output_type": "stream",
     "text": [
      "Enter text for palindrome: madam\n",
      "Palindrome\n"
     ]
    }
   ],
   "source": [
    "# 14. Write a program to input a string and print if it is palindrome or not.\n",
    "\n",
    "s = input(\"Enter text for palindrome: \")\n",
    "rev = s[::-1]\n",
    "if s == rev:\n",
    "    print(\"Palindrome\")\n",
    "else:\n",
    "    print(\"Not Palindrome\")\n"
   ]
  },
  {
   "cell_type": "code",
   "execution_count": 40,
   "metadata": {},
   "outputs": [
    {
     "name": "stdout",
     "output_type": "stream",
     "text": [
      "(20, 15, 10, 5)\n"
     ]
    }
   ],
   "source": [
    "# 15. Use the range method and create a tuple containing \n",
    "# the following values: (20, 15, 10, 5)\n",
    "\n",
    "t = tuple(range(20,0,-5))\n",
    "print(t)\n"
   ]
  },
  {
   "cell_type": "code",
   "execution_count": 44,
   "metadata": {},
   "outputs": [
    {
     "name": "stdout",
     "output_type": "stream",
     "text": [
      "['m', 'y', '-', 'p', 'r', 'o', 'g', 'r', 'a', 'm']\n"
     ]
    }
   ],
   "source": [
    "# 16. WAP to convert string to list of characters.\n",
    "\n",
    "s = \"my-program\"\n",
    "ch_list = [c for c in s]\n",
    "print(ch_list)\n"
   ]
  },
  {
   "cell_type": "code",
   "execution_count": 45,
   "metadata": {},
   "outputs": [
    {
     "name": "stdout",
     "output_type": "stream",
     "text": [
      "<class 'list'>\n",
      "<class 'NoneType'>\n",
      "<class 'str'>\n",
      "<class 'bool'>\n"
     ]
    }
   ],
   "source": [
    "# 17. What is the return type of:\n",
    "print(type('1 2'.split() ))\n",
    "print(type( [1,3,2].sort() ))  # why NoneType?\n",
    "print(type('abc'.upper() ))\n",
    "print(type( 1 in [1,2] ))\n"
   ]
  }
 ],
 "metadata": {
  "kernelspec": {
   "display_name": "Python 3",
   "language": "python",
   "name": "python3"
  },
  "language_info": {
   "codemirror_mode": {
    "name": "ipython",
    "version": 3
   },
   "file_extension": ".py",
   "mimetype": "text/x-python",
   "name": "python",
   "nbconvert_exporter": "python",
   "pygments_lexer": "ipython3",
   "version": "3.7.4"
  }
 },
 "nbformat": 4,
 "nbformat_minor": 2
}
