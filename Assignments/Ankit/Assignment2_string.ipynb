{
 "cells": [
  {
   "cell_type": "markdown",
   "metadata": {},
   "source": [
    "# Assignment 2_String"
   ]
  },
  {
   "cell_type": "code",
   "execution_count": 2,
   "metadata": {},
   "outputs": [
    {
     "name": "stdout",
     "output_type": "stream",
     "text": [
      "d\n",
      "detneirO tcejbO si nohtyP\n",
      "Python is Object Oriente\n",
      "\n",
      "on is \n"
     ]
    }
   ],
   "source": [
    "#Q1  Guess output of each slice:\n",
    "\n",
    "s = 'Python is Object Oriented'\n",
    "\n",
    "print(s[-1])\n",
    "print(s[::-1])\n",
    "print(s[:-1])\n",
    "print(s[1:1]) \n",
    "print(s[4:10])"
   ]
  },
  {
   "cell_type": "code",
   "execution_count": 3,
   "metadata": {},
   "outputs": [
    {
     "ename": "IndexError",
     "evalue": "string index out of range",
     "output_type": "error",
     "traceback": [
      "\u001b[1;31m-----------------------------------------\u001b[0m",
      "\u001b[1;31mIndexError\u001b[0mTraceback (most recent call last)",
      "\u001b[1;32m<ipython-input-3-caa1fc04a295>\u001b[0m in \u001b[0;36m<module>\u001b[1;34m\u001b[0m\n\u001b[0;32m      2\u001b[0m \u001b[1;33m\u001b[0m\u001b[0m\n\u001b[0;32m      3\u001b[0m \u001b[0ms\u001b[0m\u001b[1;33m=\u001b[0m\u001b[1;34m''\u001b[0m\u001b[1;33m\u001b[0m\u001b[1;33m\u001b[0m\u001b[0m\n\u001b[1;32m----> 4\u001b[1;33m \u001b[0mprint\u001b[0m\u001b[1;33m(\u001b[0m\u001b[0ms\u001b[0m\u001b[1;33m[\u001b[0m\u001b[1;36m1\u001b[0m\u001b[1;33m]\u001b[0m\u001b[1;33m)\u001b[0m\u001b[1;33m\u001b[0m\u001b[1;33m\u001b[0m\u001b[0m\n\u001b[0m",
      "\u001b[1;31mIndexError\u001b[0m: string index out of range"
     ]
    }
   ],
   "source": [
    "#Q2 What error do you see for following statements ?\n",
    "\n",
    "s=''\n",
    "print(s[1])"
   ]
  },
  {
   "cell_type": "code",
   "execution_count": 4,
   "metadata": {},
   "outputs": [
    {
     "name": "stdout",
     "output_type": "stream",
     "text": [
      "a\n"
     ]
    }
   ],
   "source": [
    "#Q3 Do you get any error for the following code, if not give the output:\n",
    "\n",
    "s='Gaurav'\n",
    "print(s[1])"
   ]
  },
  {
   "cell_type": "code",
   "execution_count": 5,
   "metadata": {},
   "outputs": [
    {
     "name": "stdout",
     "output_type": "stream",
     "text": [
      "6\n",
      "abc\n",
      "3\n"
     ]
    }
   ],
   "source": [
    "#Q4(a)\n",
    "\n",
    "s = 'a b cd'\n",
    "\n",
    "print(len(s))\n",
    "print(s[::2])\n",
    "print(len(s[::2]))"
   ]
  },
  {
   "cell_type": "code",
   "execution_count": 6,
   "metadata": {},
   "outputs": [
    {
     "name": "stdout",
     "output_type": "stream",
     "text": [
      "['a#b#c#d#', 'a%b']\n",
      "['a', 'b', 'c', 'd', ' a%b']\n",
      "a$b$c$d$ a%b\n"
     ]
    }
   ],
   "source": [
    "#Q4(b)\n",
    "\n",
    "s = 'a#b#c#d# a%b' \n",
    "\n",
    "print(s.split()) \n",
    "print(s.split('#')) \n",
    "l=s.split('#') \n",
    "s='$'.join(l)\n",
    "print(s)"
   ]
  },
  {
   "cell_type": "code",
   "execution_count": 7,
   "metadata": {},
   "outputs": [
    {
     "name": "stdout",
     "output_type": "stream",
     "text": [
      "av\n"
     ]
    }
   ],
   "source": [
    "#Q4(c)\n",
    "\n",
    "S = 'Gaurav'\n",
    "S = S[::-2][::-2]\n",
    "print(S)"
   ]
  },
  {
   "cell_type": "code",
   "execution_count": 8,
   "metadata": {},
   "outputs": [
    {
     "name": "stdout",
     "output_type": "stream",
     "text": [
      "False\n"
     ]
    }
   ],
   "source": [
    "# Find o/p of the following\n",
    "print(1>2)"
   ]
  },
  {
   "cell_type": "code",
   "execution_count": 9,
   "metadata": {},
   "outputs": [
    {
     "name": "stdout",
     "output_type": "stream",
     "text": [
      "abcba\n",
      "0,0,0,"
     ]
    }
   ],
   "source": [
    "# Find o/p of the following\n",
    "s = 'abcba' \n",
    "s.upper() \n",
    "print(s)\n",
    "print(s.count('A'), end = ',')\n",
    "print(s.count('A', 2,4) , end = ',')\n",
    "print(s.count('a', 2,4) , end = ',')"
   ]
  },
  {
   "cell_type": "code",
   "execution_count": 10,
   "metadata": {},
   "outputs": [
    {
     "name": "stdout",
     "output_type": "stream",
     "text": [
      "0,1,2\n"
     ]
    }
   ],
   "source": [
    "# Find o/p of the following\n",
    "print(4%2, 5%2, 2%5 , sep=',')"
   ]
  },
  {
   "cell_type": "code",
   "execution_count": 13,
   "metadata": {},
   "outputs": [
    {
     "name": "stdout",
     "output_type": "stream",
     "text": [
      "A N K I T\n",
      "ANKIT\n"
     ]
    }
   ],
   "source": [
    "#Q5 wap to input a string and remove all spaces from it\n",
    "\n",
    "x=input()\n",
    "print (x.replace(' ',''))\n",
    "\n",
    "\n",
    "\n",
    "# string = input('Enter any string with spaces :').split()\n",
    "# string = ''.join(string)\n",
    "# print(string)"
   ]
  },
  {
   "cell_type": "code",
   "execution_count": null,
   "metadata": {},
   "outputs": [],
   "source": [
    "#Q6 what does this symbol denote ?\n",
    "\n",
    "[] - Empty List"
   ]
  },
  {
   "cell_type": "code",
   "execution_count": 15,
   "metadata": {},
   "outputs": [
    {
     "name": "stdout",
     "output_type": "stream",
     "text": [
      "['__add__', '__class__', '__contains__', '__delattr__', '__dir__', '__doc__', '__eq__', '__format__', '__ge__', '__getattribute__', '__getitem__', '__getnewargs__', '__gt__', '__hash__', '__init__', '__init_subclass__', '__iter__', '__le__', '__len__', '__lt__', '__mod__', '__mul__', '__ne__', '__new__', '__reduce__', '__reduce_ex__', '__repr__', '__rmod__', '__rmul__', '__setattr__', '__sizeof__', '__str__', '__subclasshook__', 'capitalize', 'casefold', 'center', 'count', 'encode', 'endswith', 'expandtabs', 'find', 'format', 'format_map', 'index', 'isalnum', 'isalpha', 'isascii', 'isdecimal', 'isdigit', 'isidentifier', 'islower', 'isnumeric', 'isprintable', 'isspace', 'istitle', 'isupper', 'join', 'ljust', 'lower', 'lstrip', 'maketrans', 'partition', 'replace', 'rfind', 'rindex', 'rjust', 'rpartition', 'rsplit', 'rstrip', 'split', 'splitlines', 'startswith', 'strip', 'swapcase', 'title', 'translate', 'upper', 'zfill']\n"
     ]
    }
   ],
   "source": [
    "#Q7 wap to print all methods(functions/operations) available in a string (Hint : dir()) \n",
    "\n",
    "dir(str)\n",
    "print(dir(str))"
   ]
  },
  {
   "cell_type": "code",
   "execution_count": 16,
   "metadata": {},
   "outputs": [
    {
     "name": "stdout",
     "output_type": "stream",
     "text": [
      "True\n"
     ]
    }
   ],
   "source": [
    "#Q8  Write statement to check if rstrip method is available in the str class.(Hint : Use the find function or in) \n",
    "\n",
    "s = dir(str)\n",
    "print('rstrip' in s)"
   ]
  },
  {
   "cell_type": "code",
   "execution_count": 17,
   "metadata": {},
   "outputs": [
    {
     "name": "stdout",
     "output_type": "stream",
     "text": [
      "\n",
      "* * * * *\n",
      "    *\n",
      "    *\n",
      "    *\n",
      "    *\n",
      " \n",
      "*     *\n",
      "* * * *\n",
      "*  *  *\n",
      "*     *\n",
      " \n",
      " ________\n",
      " |      |\n",
      " O      |\n",
      "/|\\     |\n",
      "/ \\     |\n",
      "\n"
     ]
    }
   ],
   "source": [
    "#Q9 wap to store the folowing patterns\n",
    "\n",
    "\n",
    "pattern1 = '''\n",
    "* * * * *\n",
    "    *\n",
    "    *\n",
    "    *\n",
    "    *\n",
    "'''\n",
    "pattern2 = '''\n",
    "*     *\n",
    "* * * *\n",
    "*  *  *\n",
    "*     *\n",
    "'''\n",
    "pattern3 = '''\n",
    " ________\n",
    " |      |\n",
    " O      |\n",
    "/|\\     |\n",
    "/ \\     |\n",
    "'''\n",
    "print(pattern1,pattern2,pattern3)\n"
   ]
  },
  {
   "cell_type": "code",
   "execution_count": 19,
   "metadata": {},
   "outputs": [
    {
     "name": "stdout",
     "output_type": "stream",
     "text": [
      "A\n",
      "N\n",
      "K\n",
      "I\n",
      "T\n"
     ]
    }
   ],
   "source": [
    "#Q10 wap to input a string and replace all space with new lines (\\n) and print again. \n",
    "\n",
    "s = 'A N K I T'\n",
    "l = s.replace(' ','\\n')\n",
    "print(l)"
   ]
  },
  {
   "cell_type": "code",
   "execution_count": 23,
   "metadata": {},
   "outputs": [
    {
     "name": "stdout",
     "output_type": "stream",
     "text": [
      "Enter any string: Ankit Pradhan\n",
      "['Ankit', 'Pradhan']\n",
      "ANKIT 5\n",
      "PRADHAN 7\n"
     ]
    }
   ],
   "source": [
    "#Q11 wap to print first name and last name separately from complete name along with their length.\n",
    "\n",
    "s = input('Enter any string: ')\n",
    "l = s.split(' ')\n",
    "print(l)\n",
    "h = l[0].upper()\n",
    "k = l[1].upper()\n",
    "print(h,len(h))\n",
    "print(k,len(k))\n"
   ]
  },
  {
   "cell_type": "code",
   "execution_count": 26,
   "metadata": {},
   "outputs": [
    {
     "name": "stdout",
     "output_type": "stream",
     "text": [
      "enter any string: APOCALYPSE\n",
      "APOCA\n",
      "LYPSE\n"
     ]
    }
   ],
   "source": [
    "#Q12 wap to input string and split into 2 halves exactly,string can be of any length.\n",
    "\n",
    "s = input('enter any string: ')\n",
    "x = s[:len(s)//2]\n",
    "print(x)\n",
    "y = s[(len(s)+1)//2:]\n",
    "print(y)\n",
    "\n",
    "#OR\n",
    "# x=input()\n",
    "# y=int(len(x)/3)\n",
    "# print(x[:y])\n",
    "# print(x[y:])"
   ]
  },
  {
   "cell_type": "code",
   "execution_count": null,
   "metadata": {},
   "outputs": [],
   "source": []
  }
 ],
 "metadata": {
  "kernelspec": {
   "display_name": "Python 3",
   "language": "python",
   "name": "python3"
  },
  "language_info": {
   "codemirror_mode": {
    "name": "ipython",
    "version": 3
   },
   "file_extension": ".py",
   "mimetype": "text/x-python",
   "name": "python",
   "nbconvert_exporter": "python",
   "pygments_lexer": "ipython3",
   "version": "3.8.3"
  }
 },
 "nbformat": 4,
 "nbformat_minor": 4
}
