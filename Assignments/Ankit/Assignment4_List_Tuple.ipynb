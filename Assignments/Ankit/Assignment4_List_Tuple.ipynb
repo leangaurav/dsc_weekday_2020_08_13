{
 "cells": [
  {
   "cell_type": "markdown",
   "metadata": {},
   "source": [
    "# Assignment4_List_Tuple"
   ]
  },
  {
   "cell_type": "code",
   "execution_count": null,
   "metadata": {},
   "outputs": [],
   "source": []
  },
  {
   "cell_type": "code",
   "execution_count": 1,
   "metadata": {},
   "outputs": [
    {
     "name": "stdout",
     "output_type": "stream",
     "text": [
      "[1, 2, 3, 4, 5]\n",
      "(1, 2, 3, 4, 5)\n"
     ]
    }
   ],
   "source": [
    "#Q1. Convert a tupple t=(1,2,3,4,5) into list.\n",
    "\n",
    "t=(1,2,3,4,5)\n",
    "m=list(t)\n",
    "print(m)\n",
    "n=tuple(m)\n",
    "print(n)"
   ]
  },
  {
   "cell_type": "code",
   "execution_count": 2,
   "metadata": {},
   "outputs": [
    {
     "name": "stdout",
     "output_type": "stream",
     "text": [
      "[1, 3, 5, 7, 8, 6, 4, 2]\n"
     ]
    }
   ],
   "source": [
    "#Q2. wap to join a list and tupple.\n",
    "\n",
    "\n",
    "L1=[1,3,5,7]\n",
    "T=(8,6,4,2)\n",
    "L2=list(T)\n",
    "L3=L1+L2\n",
    "print(L3)"
   ]
  },
  {
   "cell_type": "code",
   "execution_count": 3,
   "metadata": {},
   "outputs": [
    {
     "name": "stdout",
     "output_type": "stream",
     "text": [
      "['C', 'A', 'c', 'd', 'a']\n"
     ]
    }
   ],
   "source": [
    "#Q3. Print the list in reverse order.\n",
    "\n",
    "I=['a','d','c','A','C']\n",
    "I.reverse()\n",
    "print(I)"
   ]
  },
  {
   "cell_type": "code",
   "execution_count": 4,
   "metadata": {},
   "outputs": [
    {
     "name": "stdout",
     "output_type": "stream",
     "text": [
      "[11, 21, 31, 41]\n"
     ]
    }
   ],
   "source": [
    "#Q4. Print element at odd indexes from a list(don't use loop).\n",
    "\n",
    "\n",
    "I=[10,11,20,21,30,31,40,41]\n",
    "print(I[1::2])"
   ]
  },
  {
   "cell_type": "code",
   "execution_count": 5,
   "metadata": {},
   "outputs": [
    {
     "name": "stdout",
     "output_type": "stream",
     "text": [
      "A\n",
      "5\n"
     ]
    }
   ],
   "source": [
    "#Q5. Predict o/p\n",
    "\n",
    "n_list=[\"HAPPY\",[2,0,1,5]]\n",
    "print(n_list[0][1])\n",
    "print(n_list[1][3])"
   ]
  },
  {
   "cell_type": "code",
   "execution_count": 6,
   "metadata": {},
   "outputs": [
    {
     "name": "stdout",
     "output_type": "stream",
     "text": [
      "[1, 4, 6, 8]\n",
      "[1, 3, 5, 7]\n"
     ]
    }
   ],
   "source": [
    "#Q6. Predict o/p\n",
    "\n",
    "odd=[2,4,6,8]\n",
    "odd[0]=1\n",
    "print(odd)#1,4,6,8\n",
    "odd[1:4]=[3,5,7]\n",
    "print(odd)"
   ]
  },
  {
   "cell_type": "code",
   "execution_count": 7,
   "metadata": {},
   "outputs": [
    {
     "name": "stdout",
     "output_type": "stream",
     "text": [
      "[100, 1, 3, 5, [7, 9]]\n",
      "[100, 1, 3, 5, [7, 9], 11, 13]\n"
     ]
    }
   ],
   "source": [
    "#Q7. Predict o/p\n",
    "\n",
    "odd=[1,3,5]\n",
    "odd.append([7,9])\n",
    "odd.insert(0,100)\n",
    "print(odd)\n",
    "odd.extend([11,13])\n",
    "print(odd)"
   ]
  },
  {
   "cell_type": "code",
   "execution_count": 8,
   "metadata": {},
   "outputs": [
    {
     "ename": "NameError",
     "evalue": "name 'a100' is not defined",
     "output_type": "error",
     "traceback": [
      "\u001b[1;31m---------------------------------------------------------------------------\u001b[0m",
      "\u001b[1;31mNameError\u001b[0m                                 Traceback (most recent call last)",
      "\u001b[1;32m<ipython-input-8-0ae703e1e608>\u001b[0m in \u001b[0;36m<module>\u001b[1;34m\u001b[0m\n\u001b[0;32m      2\u001b[0m \u001b[1;33m\u001b[0m\u001b[0m\n\u001b[0;32m      3\u001b[0m \u001b[0mn\u001b[0m \u001b[1;33m=\u001b[0m \u001b[1;36m1\u001b[0m\u001b[1;33m\u001b[0m\u001b[1;33m\u001b[0m\u001b[0m\n\u001b[1;32m----> 4\u001b[1;33m \u001b[0mprint\u001b[0m\u001b[1;33m(\u001b[0m\u001b[0ma100\u001b[0m\u001b[1;33m)\u001b[0m\u001b[1;33m\u001b[0m\u001b[1;33m\u001b[0m\u001b[0m\n\u001b[0m",
      "\u001b[1;31mNameError\u001b[0m: name 'a100' is not defined"
     ]
    }
   ],
   "source": [
    "#Q8.\n",
    "\n",
    "n = 1\n",
    "print(a100)"
   ]
  },
  {
   "cell_type": "code",
   "execution_count": 9,
   "metadata": {},
   "outputs": [
    {
     "name": "stdout",
     "output_type": "stream",
     "text": [
      "<class 'tuple'>\n",
      "<class 'str'>\n",
      "<class 'int'>\n",
      "<class 'tuple'>\n"
     ]
    }
   ],
   "source": [
    "#Q9. Predict o/p\n",
    "\n",
    "x=1,2,3 ;print(type(x))\n",
    "x='1' ;print(type(x))\n",
    "x=1 ;print(type(x))\n",
    "x=1, ;print(type(x))"
   ]
  },
  {
   "cell_type": "code",
   "execution_count": 10,
   "metadata": {},
   "outputs": [
    {
     "name": "stdout",
     "output_type": "stream",
     "text": [
      "('s', 't', 'r', 'i', 'n', 'g')\n",
      "('g', 'n', 'i', 'r', 't', 's')\n",
      "('n', 's')\n"
     ]
    }
   ],
   "source": [
    "#Q10. Predict o/p\n",
    "\n",
    "t=tuple('string')\n",
    "print(t)\n",
    "print(t[::-1])\n",
    "print(t[::2][::-2])"
   ]
  },
  {
   "cell_type": "code",
   "execution_count": 11,
   "metadata": {},
   "outputs": [
    {
     "name": "stdout",
     "output_type": "stream",
     "text": [
      "True\n",
      "False\n",
      "1\n",
      "3\n"
     ]
    }
   ],
   "source": [
    "#Q11. Predict o/p\n",
    "\n",
    "t=tuple([10,20,30,40,50,60])\n",
    "print(60 in t)\n",
    "print('60' in t)\n",
    "print(t.count(10))\n",
    "print(t.index(40))"
   ]
  },
  {
   "cell_type": "code",
   "execution_count": 12,
   "metadata": {},
   "outputs": [
    {
     "name": "stdout",
     "output_type": "stream",
     "text": [
      "Enter a name :ANKKIT\n",
      "Not Palindrome\n"
     ]
    }
   ],
   "source": [
    "#Q12.WAP to input a string and print if it is palindrome or not.\n",
    "\n",
    "name = input(\"Enter a name :\")\n",
    "rev = name[ : :-1]\n",
    "if(name==rev):\n",
    "    print(\"Palindrome\")\n",
    "else:\n",
    "    print(\"Not Palindrome\")"
   ]
  },
  {
   "cell_type": "code",
   "execution_count": 13,
   "metadata": {},
   "outputs": [
    {
     "name": "stdout",
     "output_type": "stream",
     "text": [
      "[20, 15, 10, 5]\n"
     ]
    }
   ],
   "source": [
    "#Q13.Use the range method and create a tuple containing the following values(20,15,10,5)\n",
    "\n",
    "a=[]\n",
    "x=range(20,0,-5)\n",
    "a.extend(x)\n",
    "print(a)"
   ]
  },
  {
   "cell_type": "code",
   "execution_count": 14,
   "metadata": {},
   "outputs": [
    {
     "name": "stdout",
     "output_type": "stream",
     "text": [
      "Enter a string :ankit\n",
      "('a', 'n', 'k', 'i', 't')\n"
     ]
    }
   ],
   "source": [
    "#Q14.WAP to convert string into list of characters\n",
    "\n",
    "a1 = input(\"Enter a string :\")\n",
    "a2 = tuple(a1)\n",
    "print(a2)"
   ]
  },
  {
   "cell_type": "code",
   "execution_count": 18,
   "metadata": {},
   "outputs": [
    {
     "name": "stdout",
     "output_type": "stream",
     "text": [
      "1  2  3  \n",
      "4  5  6  \n",
      "7  8  9  \n"
     ]
    }
   ],
   "source": [
    "#Q15.Try to represent a matrix with following data in python\n",
    "   # 1  2  3  \n",
    "   # 4  5  6  \n",
    "   # 7  8  9   \n",
    "    \n",
    "a = 0\n",
    "for i in range(3):\n",
    "    for j in range(3):\n",
    "        print(a+1,end=\"  \")\n",
    "        a+=1\n",
    "    print()"
   ]
  },
  {
   "cell_type": "code",
   "execution_count": 19,
   "metadata": {},
   "outputs": [
    {
     "name": "stdout",
     "output_type": "stream",
     "text": [
      "<class 'list'>\n",
      "<class 'NoneType'>\n",
      "<class 'str'>\n",
      "<class 'bool'>\n"
     ]
    }
   ],
   "source": [
    "#Q16.what is the return type of\n",
    "\n",
    "print(type('1 2'.split()))\n",
    "print(type([1 ,3 ,2].sort()))\n",
    "print(type('abc'.upper()))\n",
    "print(type(1 in [1,2]))"
   ]
  },
  {
   "cell_type": "code",
   "execution_count": 20,
   "metadata": {},
   "outputs": [
    {
     "name": "stdout",
     "output_type": "stream",
     "text": [
      "[1, 2, 5, [101, 120, 30]]\n",
      "[1, 2, 3, [10, 20, 30]]\n",
      "[1, 2, 3, [10, 20]]\n"
     ]
    }
   ],
   "source": [
    "#Q17.How many ways you can copy a list\n",
    "\n",
    "import copy\n",
    "a1 = [1,2,5, [101,120]]\n",
    "a2 = a1[:]\n",
    "a1[3].append(30)\n",
    "c1 = [1,2,3, [10,20]]\n",
    "c2 = copy.deepcopy(c1)\n",
    "c1[3].append(30)\n",
    "print(a2)\n",
    "print(c1)\n",
    "print(c2)"
   ]
  },
  {
   "cell_type": "code",
   "execution_count": null,
   "metadata": {},
   "outputs": [],
   "source": []
  }
 ],
 "metadata": {
  "kernelspec": {
   "display_name": "Python 3",
   "language": "python",
   "name": "python3"
  },
  "language_info": {
   "codemirror_mode": {
    "name": "ipython",
    "version": 3
   },
   "file_extension": ".py",
   "mimetype": "text/x-python",
   "name": "python",
   "nbconvert_exporter": "python",
   "pygments_lexer": "ipython3",
   "version": "3.8.3"
  }
 },
 "nbformat": 4,
 "nbformat_minor": 4
}
