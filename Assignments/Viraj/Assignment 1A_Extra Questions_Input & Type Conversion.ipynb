{
 "cells": [
  {
   "cell_type": "code",
   "execution_count": 3,
   "metadata": {},
   "outputs": [
    {
     "name": "stdout",
     "output_type": "stream",
     "text": [
      "enter the tem in Farenheit:45\n",
      "tem in celsius: 7.222222222222222\n"
     ]
    }
   ],
   "source": [
    "#Input temperature in Fahrenheit in print in Celsius.\n",
    "f=float(input(\"enter the tem in Farenheit:\"))\n",
    "c=(f-32)*5/9)\n",
    "print(\"tem in celsius:\",c)"
   ]
  },
  {
   "cell_type": "code",
   "execution_count": 3,
   "metadata": {},
   "outputs": [
    {
     "name": "stdout",
     "output_type": "stream",
     "text": [
      "enter a number:2\n",
      "square of given number is: 4\n",
      "cube of given number is: 8\n"
     ]
    }
   ],
   "source": [
    "#Write a program to input a number and print its square and cube.\n",
    "num1=int(input(\"enter a number:\"))\n",
    "s=(pow(num1,2))\n",
    "t=(pow(num1,3))\n",
    "print(\"square of given number is:\",s)\n",
    "print(\"cube of given number is:\",t)"
   ]
  },
  {
   "cell_type": "code",
   "execution_count": 1,
   "metadata": {},
   "outputs": [
    {
     "name": "stdout",
     "output_type": "stream",
     "text": [
      "n:2\n",
      "m:3\n",
      "result of n2+m2 is: 13.0\n"
     ]
    }
   ],
   "source": [
    "#WAP to input a number n and a number m and print the result of following n2 + m2\n",
    "n=float(input(\"n:\"))\n",
    "m=float(input(\"m:\"))\n",
    "print(\"result of n2+m2 is:\",pow(n,2)+pow(m,2))\n",
    "\n",
    "\n"
   ]
  },
  {
   "cell_type": "code",
   "execution_count": 3,
   "metadata": {},
   "outputs": [
    {
     "name": "stdout",
     "output_type": "stream",
     "text": [
      "M:2\n",
      "N:3\n",
      "8.0\n",
      "8.0\n"
     ]
    }
   ],
   "source": [
    "#WAP to input a numbers M and N and print result of MN. (use both ** and pow)\n",
    "M=float(input(\"M:\"))\n",
    "N=float(input(\"N:\"))\n",
    "print(pow(M,N))\n",
    "print(M**N)"
   ]
  },
  {
   "cell_type": "code",
   "execution_count": 6,
   "metadata": {},
   "outputs": [
    {
     "name": "stdout",
     "output_type": "stream",
     "text": [
      "Principal amount:100\n",
      "time period in year:1.5\n",
      "Rate of Interest in %:10\n",
      "Simple interest is: 15.0\n",
      "Actual amount to pay after1.5year 115.0\n"
     ]
    }
   ],
   "source": [
    "#Write a simple interest calculator.\n",
    "P=float(input(\"Principal amount:\"))\n",
    "N=float(input(\"time period in year:\"))\n",
    "R=float(input(\"Rate of Interest in %:\"))\n",
    "print(\"Simple interest is:\",((P*N*R)/100))\n",
    "print(f\"Actual amount to pay after{N}year:\",(P+((P*N*R)/100)))"
   ]
  },
  {
   "cell_type": "code",
   "execution_count": 10,
   "metadata": {},
   "outputs": [
    {
     "name": "stdout",
     "output_type": "stream",
     "text": [
      "Principal amount:1000\n",
      "time period in year:2\n",
      "Rate of Interest in %:10\n",
      "Compound interest is: 1010.0\n"
     ]
    }
   ],
   "source": [
    "#Input Principal, Rate, Time and print Compound Interest and Amount.\n",
    "P=float(input(\"Principal amount:\"))\n",
    "N=float(input(\"time period in year:\"))\n",
    "R=float(input(\"Rate of Interest in %:\"))\n",
    "print(\"Compound interest is:\",(P*(1+pow((R/100),N))))\n",
    "\n"
   ]
  },
  {
   "cell_type": "code",
   "execution_count": 12,
   "metadata": {},
   "outputs": [
    {
     "name": "stdout",
     "output_type": "stream",
     "text": [
      "enter the number:20\n",
      "sum of 1st 20 natural number is: 210.0\n"
     ]
    }
   ],
   "source": [
    "#WAP to print sum of first n natural numbers. (n needs to be taken as input).\n",
    "n=int(input(\"enter the number:\"))\n",
    "sum=((n*(n+1))/2)\n",
    "print(f\"sum of 1st {n} natural number is:\",sum)"
   ]
  },
  {
   "cell_type": "code",
   "execution_count": 18,
   "metadata": {},
   "outputs": [
    {
     "name": "stdout",
     "output_type": "stream",
     "text": [
      "area of circle in square meter:1000\n",
      "Radius of circle is: 17.840084605017847\n",
      "Circumference of the circle is: 112.10709165793214\n"
     ]
    }
   ],
   "source": [
    "#WAP that takes area of a circle and gives back the radius and circumference.\n",
    "A=float(input(\"area of circle in square meter:\"))\n",
    "Pie=float(3.142)\n",
    "R= pow((A/Pie),0.5)\n",
    "C=(2*Pie*R)\n",
    "print(\"Radius of circle is:\",R )\n",
    "print(\"Circumference of the circle is:\",C)"
   ]
  },
  {
   "cell_type": "code",
   "execution_count": 20,
   "metadata": {},
   "outputs": [
    {
     "name": "stdout",
     "output_type": "stream",
     "text": [
      "please enter marks in subject-1 : 50\n",
      "please enter marks in subject-2 : 50\n",
      "please enter marks in subject-3 : 70\n",
      "please enter marks in subject-4 : 80\n",
      "please enter marks in subject-5 : 90\n",
      "percentage obtained by student :  68.0 %\n"
     ]
    }
   ],
   "source": [
    "a = float(input(\"please enter marks in subject-1 : \"))\n",
    "b = float(input(\"please enter marks in subject-2 : \"))\n",
    "c = float(input(\"please enter marks in subject-3 : \"))\n",
    "d = float(input(\"please enter marks in subject-4 : \"))\n",
    "e = float(input(\"please enter marks in subject-5 : \"))\n",
    "if(a>100 or a <0 or b>100 or b <0 or c>100 or c <0 or d>100 or d <0 or e>100 or e <0):\n",
    "    print(\"please enter marks correctly. It should be between 0 and 100\")\n",
    "else:\n",
    "    percentage = ((a+b+c+d+e)/500)*100\n",
    "    print(\"percentage obtained by student : \" ,(percentage) , \"%\")"
   ]
  },
  {
   "cell_type": "code",
   "execution_count": 4,
   "metadata": {},
   "outputs": [
    {
     "name": "stdout",
     "output_type": "stream",
     "text": [
      "Num1: 10\n",
      "Num2: 20\n",
      "20 10\n"
     ]
    }
   ],
   "source": [
    "#Qsn No 8\n",
    "m=int(input(\"Num1: \"))\n",
    "n=int(input(\"Num2: \"))\n",
    "(m,n)=(n,m)\n",
    "print(m,n)"
   ]
  },
  {
   "cell_type": "code",
   "execution_count": 21,
   "metadata": {},
   "outputs": [
    {
     "name": "stdout",
     "output_type": "stream",
     "text": [
      "' \\t\\n\\r\\x0b\\x0c'\n",
      "' ' 32\n",
      "'\\t' 9\n",
      "'\\n' 10\n",
      "'\\r' 13\n",
      "'\\x0b' 11\n",
      "'\\x0c' 12\n"
     ]
    }
   ],
   "source": [
    "# Qsn No 9\n",
    "import string\n",
    "a=string.whitespace\n",
    "print(repr(a))\n",
    "\n",
    "for i in a:\n",
    "    print(repr(i),ord(i))\n",
    "  \n",
    "    "
   ]
  },
  {
   "cell_type": "code",
   "execution_count": 30,
   "metadata": {},
   "outputs": [
    {
     "name": "stdout",
     "output_type": "stream",
     "text": [
      "enter a single charcter:#\n",
      "ASCII Value of character # is: 35\n"
     ]
    }
   ],
   "source": [
    "#Qsn No 10\n",
    "n=input(\"enter a single charcter:\")\n",
    "if len(n)!=1:\n",
    "    print(\"enter a valid input:\")\n",
    "else:\n",
    "    print(f\"ASCII Value of character {n} is:\",ord(n))"
   ]
  },
  {
   "cell_type": "code",
   "execution_count": null,
   "metadata": {},
   "outputs": [],
   "source": []
  },
  {
   "cell_type": "code",
   "execution_count": null,
   "metadata": {},
   "outputs": [],
   "source": []
  }
 ],
 "metadata": {
  "kernelspec": {
   "display_name": "Python 3",
   "language": "python",
   "name": "python3"
  },
  "language_info": {
   "codemirror_mode": {
    "name": "ipython",
    "version": 3
   },
   "file_extension": ".py",
   "mimetype": "text/x-python",
   "name": "python",
   "nbconvert_exporter": "python",
   "pygments_lexer": "ipython3",
   "version": "3.7.6"
  }
 },
 "nbformat": 4,
 "nbformat_minor": 4
}
