{
 "cells": [
  {
   "cell_type": "code",
   "execution_count": 15,
   "metadata": {},
   "outputs": [
    {
     "name": "stdout",
     "output_type": "stream",
     "text": [
      "enter the number:10\n",
      "1 2 3 4 5 6 7 8 9 10 "
     ]
    }
   ],
   "source": [
    "# Qsn no 1 : WAP to print first n natural numbers (input n from user).\n",
    "n=int(input(\"enter the number:\"))\n",
    "for i in range(1,n+1):\n",
    "    print(i,end=\" \")\n",
    "    \n"
   ]
  },
  {
   "cell_type": "code",
   "execution_count": 22,
   "metadata": {},
   "outputs": [
    {
     "name": "stdout",
     "output_type": "stream",
     "text": [
      "enter the number:5\n",
      "1\n",
      "3\n",
      "6\n",
      "10\n",
      "15\n",
      "\n",
      "1\n",
      "3\n",
      "6\n",
      "10\n",
      "15\n"
     ]
    }
   ],
   "source": [
    "# Qsn No 2: WAP to find sum of first n natural numbers\n",
    "n=int(input(\"enter the number:\"))\n",
    "s=0\n",
    "for i in range(1,n+1):\n",
    "    s=s+i\n",
    "    print(s)\n",
    "print()\n",
    "s=0\n",
    "i=1\n",
    "while i<=n:\n",
    "    s=s+i\n",
    "    print(s)\n",
    "    i=i+1\n",
    "\n",
    " \n",
    "    "
   ]
  },
  {
   "cell_type": "code",
   "execution_count": 29,
   "metadata": {},
   "outputs": [
    {
     "name": "stdout",
     "output_type": "stream",
     "text": [
      "enter the number:10\n",
      "10\n",
      "9\n",
      "8\n",
      "7\n",
      "6\n",
      "5\n",
      "4\n",
      "3\n",
      "2\n",
      "1\n",
      "\n",
      "10\n",
      "9\n",
      "8\n",
      "7\n",
      "6\n",
      "5\n",
      "4\n",
      "3\n",
      "2\n",
      "1\n"
     ]
    }
   ],
   "source": [
    "# Qsn No 3 : WAP to print first n natural numbers in reverse order.\n",
    "n=int(input(\"enter the number:\"))\n",
    "for i in range(n,0,-1):\n",
    "    print(i)\n",
    "print()\n",
    "#using while loop:\n",
    "i=0\n",
    "while i<n:\n",
    "    print(n-i)\n",
    "    i=i+1"
   ]
  },
  {
   "cell_type": "code",
   "execution_count": 31,
   "metadata": {},
   "outputs": [
    {
     "name": "stdout",
     "output_type": "stream",
     "text": [
      "enter the number:5\n",
      "The factorial of given number is 120\n"
     ]
    }
   ],
   "source": [
    "# Qsn No 4: WAP to input a number and print its factorial.\n",
    "n=int(input(\"enter the number:\"))\n",
    "fact=1\n",
    "for i in range(1,n+1):\n",
    "    fact=fact*i\n",
    "print(\"The factorial of given number is\",fact)"
   ]
  },
  {
   "cell_type": "code",
   "execution_count": 34,
   "metadata": {},
   "outputs": [],
   "source": [
    "# Qsn No 5:WAP to print Fibonacci sequence till n.\n"
   ]
  },
  {
   "cell_type": "code",
   "execution_count": 36,
   "metadata": {},
   "outputs": [
    {
     "name": "stdout",
     "output_type": "stream",
     "text": [
      "Enter the number:12564\n",
      "('1', '2', '5', '6', '4')\n"
     ]
    }
   ],
   "source": [
    "# Qsn No 6: WAP to print all digits of a number input from user.\n",
    "n=(input(\"Enter the number:\"))\n",
    "m=tuple(n)\n",
    "print(m)"
   ]
  },
  {
   "cell_type": "code",
   "execution_count": 44,
   "metadata": {},
   "outputs": [
    {
     "name": "stdout",
     "output_type": "stream",
     "text": [
      "enter the number:2 3  45 6 7\n",
      "63\n"
     ]
    }
   ],
   "source": [
    "# Qsn No 7:WAP to find sum of all digits of a number.\n",
    "n=(input(\"enter the number:\"))\n",
    "m=n.split()\n",
    "sum=0\n",
    "for i in m:\n",
    "    sum=sum+int(i)\n",
    "print(sum)"
   ]
  },
  {
   "cell_type": "code",
   "execution_count": 48,
   "metadata": {},
   "outputs": [
    {
     "name": "stdout",
     "output_type": "stream",
     "text": [
      "enter the number:5\n",
      "sum of till 5 factorial is 153\n"
     ]
    }
   ],
   "source": [
    "# Qsn No 8:\n",
    "n=int(input(\"enter the number:\"))\n",
    "fact=1\n",
    "sum_fact=0\n",
    "for i in range(1,n+1):\n",
    "    fact=fact*i\n",
    "    sum_fact=sum_fact+fact\n",
    "print(f\"sum of till {n} factorial is\",sum_fact)"
   ]
  },
  {
   "cell_type": "code",
   "execution_count": 52,
   "metadata": {},
   "outputs": [
    {
     "name": "stdout",
     "output_type": "stream",
     "text": [
      "the base value :5\n",
      "the exponent value: 3\n",
      "125\n"
     ]
    }
   ],
   "source": [
    "#Qsn No 9:\n",
    "base=int(input(\"the base value :\")) #5\n",
    "exp=int(input(\"the exponent value: \"))#3\n",
    "p=1\n",
    "for i in range(1,exp+1):\n",
    "    p=p*base\n",
    "print(p)"
   ]
  },
  {
   "cell_type": "code",
   "execution_count": 85,
   "metadata": {},
   "outputs": [
    {
     "name": "stdout",
     "output_type": "stream",
     "text": [
      "----------Pattern 1---------------\n",
      "*\n",
      "**\n",
      "***\n",
      "****\n",
      "*****\n",
      "----------Pattern 2 ---------------\n",
      "*****\n",
      "****\n",
      "***\n",
      "**\n",
      "*\n",
      "----------Pattern 3 ---------------\n",
      "          \n",
      "        * \n",
      "      * * \n",
      "    * * * \n",
      "  * * * * \n",
      "* * * * * \n",
      "----------Pattern 4 ---------------\n",
      "     \n",
      "    * \n",
      "   * * \n",
      "  * * * \n",
      " * * * * \n",
      "* * * * * \n"
     ]
    }
   ],
   "source": [
    "# Qsn no :10\n",
    "print(\"----------Pattern 1---------------\")\n",
    "for i in range(5):\n",
    "    for j in range(i+1):\n",
    "        print(\"*\",end=\"\")\n",
    "    print()\n",
    "    \n",
    "print(\"----------Pattern 2 ---------------\")\n",
    "for i in range(5):\n",
    "    for j in range(5-i):\n",
    "        print(\"*\",end=\"\")\n",
    "    print()\n",
    "    \n",
    "print(\"----------Pattern 3 ---------------\")\n",
    "for i in range(6):\n",
    "    for j in range(5-i):\n",
    "        print(\"  \", end='')\n",
    "    for j in range(i):\n",
    "        print(\"*\", end=' ')\n",
    "    print()\n",
    "    \n",
    "print(\"----------Pattern 4 ---------------\")\n",
    "for i in range(6):\n",
    "    for j in range(5-i):\n",
    "        print(\" \", end='')\n",
    "    for j in range(i):\n",
    "        print(\"*\", end=' ')\n",
    "    print()"
   ]
  },
  {
   "cell_type": "code",
   "execution_count": 97,
   "metadata": {},
   "outputs": [
    {
     "name": "stdout",
     "output_type": "stream",
     "text": [
      "----------Pattern 1---------------\n",
      "1\n",
      "22\n",
      "333\n",
      "4444\n",
      "55555\n",
      "----------Pattern 2 ---------------\n",
      "1 \n",
      "1 2 \n",
      "1 2 3 \n",
      "1 2 3 4 \n",
      "1 2 3 4 5 \n",
      "----------Pattern 3 ---------------\n",
      "5 \n",
      "4 4 \n",
      "3 3 3 \n",
      "2 2 2 2 \n",
      "1 1 1 1 1 \n",
      "----------Pattern 4 ---------------\n",
      "        1 \n",
      "      2 2 \n",
      "    3 3 3 \n",
      "  4 4 4 4 \n",
      "5 5 5 5 5 \n"
     ]
    }
   ],
   "source": [
    "# Qsn No 11:\n",
    "print(\"----------Pattern 1---------------\")\n",
    "for i in range(1,6):\n",
    "    for j in range(i):\n",
    "        print(i,end=\"\")\n",
    "    print()\n",
    "    \n",
    "print(\"----------Pattern 2 ---------------\")\n",
    "for i in range(1,6):\n",
    "    for j in range(i):\n",
    "        print(j+1, end=' ')\n",
    "    print()\n",
    "    \n",
    "    \n",
    "print(\"----------Pattern 3 ---------------\")\n",
    "for i in range(1,6):\n",
    "    for j in range(i):\n",
    "        print(6-i , end=' ')\n",
    "    print('')\n",
    "    \n",
    "print(\"----------Pattern 4 ---------------\")\n",
    "for i in range(1,6):\n",
    "    for j in range(5-i):\n",
    "        print(\"  \", end=\"\")\n",
    "    for j in range(i):\n",
    "        print(i, end=' ')\n",
    "    print('')"
   ]
  },
  {
   "cell_type": "code",
   "execution_count": 106,
   "metadata": {},
   "outputs": [
    {
     "name": "stdout",
     "output_type": "stream",
     "text": [
      "enter the string:Viraj\n",
      "V\n",
      "i\n",
      "r\n",
      "a\n",
      "j\n"
     ]
    }
   ],
   "source": [
    "s=input(\"enter the string:\")\n",
    "for i in s:\n",
    "    print(i)"
   ]
  },
  {
   "cell_type": "code",
   "execution_count": 107,
   "metadata": {},
   "outputs": [
    {
     "name": "stdout",
     "output_type": "stream",
     "text": [
      "string:Viraj\n",
      "V 86\n",
      "i 105\n",
      "r 114\n",
      "a 97\n",
      "j 106\n"
     ]
    }
   ],
   "source": [
    "s=input(\"string:\")\n",
    "for i in s:\n",
    "    print(i,ord(i))"
   ]
  },
  {
   "cell_type": "code",
   "execution_count": 110,
   "metadata": {},
   "outputs": [
    {
     "ename": "TypeError",
     "evalue": "'function' object is not subscriptable",
     "output_type": "error",
     "traceback": [
      "\u001b[1;31m---------------------------------------------------------------------------\u001b[0m",
      "\u001b[1;31mTypeError\u001b[0m                                 Traceback (most recent call last)",
      "\u001b[1;32m<ipython-input-110-f0acb4ddb1b4>\u001b[0m in \u001b[0;36m<module>\u001b[1;34m\u001b[0m\n\u001b[0;32m      5\u001b[0m             \u001b[0msum\u001b[0m\u001b[1;33m=\u001b[0m\u001b[0msum\u001b[0m\u001b[1;33m+\u001b[0m\u001b[0mi\u001b[0m\u001b[1;33m\u001b[0m\u001b[1;33m\u001b[0m\u001b[0m\n\u001b[0;32m      6\u001b[0m             \u001b[0mprint\u001b[0m\u001b[1;33m(\u001b[0m\u001b[0msum\u001b[0m\u001b[1;33m)\u001b[0m\u001b[1;33m\u001b[0m\u001b[1;33m\u001b[0m\u001b[0m\n\u001b[1;32m----> 7\u001b[1;33m \u001b[0mmy_lst\u001b[0m\u001b[1;33m[\u001b[0m\u001b[1;36m2\u001b[0m\u001b[1;33m,\u001b[0m\u001b[1;36m5\u001b[0m\u001b[1;33m,\u001b[0m\u001b[1;36m7\u001b[0m\u001b[1;33m,\u001b[0m\u001b[1;36m8\u001b[0m\u001b[1;33m,\u001b[0m\u001b[1;36m9\u001b[0m\u001b[1;33m,\u001b[0m\u001b[1;36m10\u001b[0m\u001b[1;33m]\u001b[0m\u001b[1;33m\u001b[0m\u001b[1;33m\u001b[0m\u001b[0m\n\u001b[0m",
      "\u001b[1;31mTypeError\u001b[0m: 'function' object is not subscriptable"
     ]
    }
   ],
   "source": [
    "\n",
    "def my_lst(list):\n",
    "    sum=0\n",
    "    for i in my_lst:\n",
    "        if i%2==0:\n",
    "            sum=sum+i\n",
    "            print(sum)\n",
    "my_lst[2,5,7,8,9,10]"
   ]
  },
  {
   "cell_type": "code",
   "execution_count": null,
   "metadata": {},
   "outputs": [],
   "source": []
  }
 ],
 "metadata": {
  "kernelspec": {
   "display_name": "Python 3",
   "language": "python",
   "name": "python3"
  },
  "language_info": {
   "codemirror_mode": {
    "name": "ipython",
    "version": 3
   },
   "file_extension": ".py",
   "mimetype": "text/x-python",
   "name": "python",
   "nbconvert_exporter": "python",
   "pygments_lexer": "ipython3",
   "version": "3.7.6"
  }
 },
 "nbformat": 4,
 "nbformat_minor": 4
}
