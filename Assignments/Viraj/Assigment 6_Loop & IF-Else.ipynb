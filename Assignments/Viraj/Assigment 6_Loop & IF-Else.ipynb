{
 "cells": [
  {
   "cell_type": "code",
   "execution_count": 1,
   "metadata": {},
   "outputs": [
    {
     "name": "stdout",
     "output_type": "stream",
     "text": [
      "Str:VIraj\n",
      "V\n",
      "I\n",
      "r\n",
      "a\n",
      "j\n"
     ]
    }
   ],
   "source": [
    "# Qsn No 1:\n",
    "for i in (input(\"Str:\")):\n",
    "    print(i)"
   ]
  },
  {
   "cell_type": "code",
   "execution_count": 4,
   "metadata": {},
   "outputs": [
    {
     "name": "stdout",
     "output_type": "stream",
     "text": [
      "ENter the string: Viraj Ghodke\n",
      "V 86\n",
      "i 105\n",
      "r 114\n",
      "a 97\n",
      "j 106\n",
      "  32\n",
      "G 71\n",
      "h 104\n",
      "o 111\n",
      "d 100\n",
      "k 107\n",
      "e 101\n"
     ]
    }
   ],
   "source": [
    "# Qsn No 2:\n",
    "for i in (input(\"ENter the string: \")):\n",
    "    print(i,ord(i))"
   ]
  },
  {
   "cell_type": "code",
   "execution_count": 32,
   "metadata": {},
   "outputs": [
    {
     "name": "stdout",
     "output_type": "stream",
     "text": [
      "24\n"
     ]
    }
   ],
   "source": [
    "# Qsn No 3:\n",
    "def my_name(list):\n",
    "    sum=0\n",
    "    for i in list:\n",
    "        if i%2!=0:\n",
    "            sum=sum+i\n",
    "    print(sum)\n",
    "       \n",
    "my_name([2,5,7,3,4,8,9])"
   ]
  },
  {
   "cell_type": "code",
   "execution_count": 5,
   "metadata": {},
   "outputs": [
    {
     "name": "stdout",
     "output_type": "stream",
     "text": [
      "No of elements to be added:6\n",
      "Input Number1:2\n",
      "Input Number2:3\n",
      "Input Number3:4\n",
      "Input Number4:5\n",
      "Input Number5:6\n",
      "Input Number6:7\n",
      "[2, 3, 4, 5, 6, 7]\n",
      "(2, 3, 4, 5, 6, 7)\n",
      "\n",
      "enter the number whose index is to be find out in t: 6\n",
      "Index of 6 inside tuple t is: 4\n"
     ]
    }
   ],
   "source": [
    "#Qsn No 4: WAP to input a list of numbers and store in a tuple. Now input another number and print the\n",
    "#index of this number in the tuple. [Use index function] \n",
    "n=int(input(\"No of elements to be added:\"))\n",
    "l=[]\n",
    "for i in range(0,n):\n",
    "    m=int(input(f\"Input Number{i+1}:\"))\n",
    "    l.append(m)\n",
    "print(l)\n",
    "t=tuple(l)\n",
    "print(t)\n",
    "print()\n",
    "nxt=int(input(\"enter the number whose index is to be find out in t: \"))\n",
    "for j in t:\n",
    "    if j==nxt:\n",
    "        print(f\"Index of {j} inside tuple t is:\",t.index(nxt))\n",
    "    else:\n",
    "        continue"
   ]
  },
  {
   "cell_type": "code",
   "execution_count": 31,
   "metadata": {},
   "outputs": [
    {
     "name": "stdout",
     "output_type": "stream",
     "text": [
      "[17, 94, 89, 14, 12, 90, 19, 46, 27]\n",
      "408\n",
      "avg: 45.333333333333336\n",
      "\n",
      "[94, 14, 90, 46]\n"
     ]
    }
   ],
   "source": [
    "# Qsn No 5:Create a list of 10 random numbers and then print the list, sum of all numbers and average.. \n",
    "#Also print elements at only even indexes in the list. \n",
    "import random\n",
    "l=[]\n",
    "for i in range (1,10):\n",
    "    a=random.randrange(1,100)\n",
    "    l.append(a)\n",
    "print(l)\n",
    "print(sum(l))\n",
    "avg=(sum(l)/len(l))\n",
    "print(\"avg:\",avg)\n",
    "print()\n",
    "print(l[1::2])\n"
   ]
  },
  {
   "cell_type": "code",
   "execution_count": 19,
   "metadata": {},
   "outputs": [
    {
     "name": "stdout",
     "output_type": "stream",
     "text": [
      "No of elements to be added:10\n",
      "enter the 1th number:2\n",
      "enter the 2th number:2\n",
      "enter the 3th number:2\n",
      "enter the 4th number:2\n",
      "enter the 5th number:2\n",
      "enter the 6th number:3\n",
      "enter the 7th number:3\n",
      "enter the 8th number:3\n",
      "enter the 9th number:3\n",
      "enter the 10th number:3\n",
      "[2, 2, 2, 2, 2, 3, 3, 3, 3, 3]\n",
      "25\n"
     ]
    }
   ],
   "source": [
    "# Qsn N0 6:  WAP to input 10 numbers repeatedly (using range based for loop) and store them in a list. Print\n",
    "# the list and sum of numbers in the list. \n",
    "n=int(input(\"No of elements to be added:\"))\n",
    "l=[]\n",
    "s=0\n",
    "for i in range(0,n):\n",
    "    m=int(input(f\"enter the {i+1}th number:\"))\n",
    "    l.append(m)\n",
    "    s=s+m\n",
    "print(l)\n",
    "print(s)    \n",
    "   \n"
   ]
  },
  {
   "cell_type": "code",
   "execution_count": 34,
   "metadata": {},
   "outputs": [
    {
     "name": "stdout",
     "output_type": "stream",
     "text": [
      "Enter the number: 7\n",
      "7 * 1 = 7\n",
      "7 * 2 = 14\n",
      "7 * 3 = 21\n",
      "7 * 4 = 28\n",
      "7 * 5 = 35\n",
      "7 * 6 = 42\n",
      "7 * 7 = 49\n",
      "7 * 8 = 56\n",
      "7 * 9 = 63\n",
      "7 * 10 = 70\n"
     ]
    }
   ],
   "source": [
    "# Qsn No 7:\n",
    "n=int(input(\"Enter the number: \"))\n",
    "for i in range(1,11):\n",
    "    print(n,\"*\",i,\"=\",n*i)"
   ]
  },
  {
   "cell_type": "code",
   "execution_count": 33,
   "metadata": {},
   "outputs": [
    {
     "name": "stdout",
     "output_type": "stream",
     "text": [
      "No of spaces are: 5\n"
     ]
    }
   ],
   "source": [
    "# Qsn No 8:WAP to print total number of spaces in a string (Use for loop to iterate over the string. (Don’t use\n",
    "# count function). \n",
    "s=\"a b c d  e\"\n",
    "sum=0\n",
    "for i in s:\n",
    "    if i.isspace()==True:\n",
    "        sum=sum+1\n",
    "    else:\n",
    "        continue\n",
    "    \n",
    "print(\"No of spaces are:\",sum)\n",
    "        "
   ]
  },
  {
   "cell_type": "code",
   "execution_count": 4,
   "metadata": {},
   "outputs": [
    {
     "name": "stdout",
     "output_type": "stream",
     "text": [
      "enter the string:This Is Python Class\n",
      "['I', 'I', 'O', 'A']\n",
      "4 4\n"
     ]
    }
   ],
   "source": [
    "# Qsn No 9:WAP to input a string and count number of vowels in the string. [Note: it should work for both\n",
    "# capital and small alphabets]\n",
    "s=input(\"enter the string:\").upper()\n",
    "count=0\n",
    "l=[]\n",
    "for i in s:\n",
    "    if i in \"AEIOU\":\n",
    "        l.append(i)\n",
    "        count=count+1\n",
    "        \n",
    "    \n",
    "print(l)\n",
    "print(count,repr(count))"
   ]
  },
  {
   "cell_type": "code",
   "execution_count": 12,
   "metadata": {},
   "outputs": [
    {
     "name": "stdout",
     "output_type": "stream",
     "text": [
      "Enter a string:Python is scripted language\n",
      "Pyth_n _s scr_pt_d l_ng__g_\n"
     ]
    }
   ],
   "source": [
    "# Qsn No :10 WAP to input a string and replace all vowels with ‘_’.\n",
    "l = ['a','e','i','o','u']\n",
    "s = input(\"Enter a string:\")\n",
    "for i in range (len(s)):\n",
    "    if s[i] in l:\n",
    "        s = s.replace(s[i],'_')\n",
    "    else:\n",
    "        continue\n",
    "        \n",
    "print(s)"
   ]
  },
  {
   "cell_type": "code",
   "execution_count": 25,
   "metadata": {},
   "outputs": [
    {
     "name": "stdout",
     "output_type": "stream",
     "text": [
      "Num: 0\n",
      "Loop ends\n",
      "\n",
      "Num: 0\n"
     ]
    },
    {
     "ename": "SystemExit",
     "evalue": "",
     "output_type": "error",
     "traceback": [
      "An exception has occurred, use %tb to see the full traceback.\n",
      "\u001b[1;31mSystemExit\u001b[0m\n"
     ]
    }
   ],
   "source": [
    "# Qsn No 11: Find Output\n",
    "for num in range(10):\n",
    "    print(\"Num:\",num)\n",
    "    if num%2==0:\n",
    "        break\n",
    "        \n",
    "        \n",
    "print(\"Loop ends\")\n",
    "\n",
    "print()\n",
    "\n",
    "import sys\n",
    "\n",
    "for num in range(10):\n",
    "    print(\"Num:\",num)\n",
    "    if num%4==0:\n",
    "       sys.exit()\n",
    "print(\"Loop ends\")"
   ]
  },
  {
   "cell_type": "code",
   "execution_count": 28,
   "metadata": {},
   "outputs": [
    {
     "name": "stdout",
     "output_type": "stream",
     "text": [
      "*****\n",
      "*****\n",
      "*****\n",
      "*****\n",
      "*****\n",
      "\n",
      "1\n",
      "22\n",
      "333\n",
      "4444\n",
      "55555\n",
      "\n",
      "1\n",
      "22\n",
      "333\n",
      "4444\n",
      "55555\n",
      "\n",
      "**\n",
      "***\n",
      "****\n",
      "*****\n",
      "******\n"
     ]
    }
   ],
   "source": [
    "# Qsn No 12:\n",
    "for i1 in range(1,6):\n",
    "    for i2 in range(5):\n",
    "        print(\"*\",end='')\n",
    "    print()\n",
    "print()\n",
    "for i1 in range(1,6):\n",
    "    for i2 in range(i1):\n",
    "       print(i1,end='')\n",
    "    print()\n",
    "print()\n",
    "for i1 in range(1,6):\n",
    "    print(str(i1)*i1)\n",
    "print()\n",
    "for i1 in range(1,6):\n",
    "    for i2 in range(i1+1):\n",
    "        print('*',end='')\n",
    "   \n",
    "    print()"
   ]
  }
 ],
 "metadata": {
  "kernelspec": {
   "display_name": "Python 3",
   "language": "python",
   "name": "python3"
  },
  "language_info": {
   "codemirror_mode": {
    "name": "ipython",
    "version": 3
   },
   "file_extension": ".py",
   "mimetype": "text/x-python",
   "name": "python",
   "nbconvert_exporter": "python",
   "pygments_lexer": "ipython3",
   "version": "3.7.6"
  }
 },
 "nbformat": 4,
 "nbformat_minor": 4
}
