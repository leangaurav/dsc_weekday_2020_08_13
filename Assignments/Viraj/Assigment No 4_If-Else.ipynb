{
 "cells": [
  {
   "cell_type": "code",
   "execution_count": 1,
   "metadata": {},
   "outputs": [
    {
     "name": "stdout",
     "output_type": "stream",
     "text": [
      "num1:25\n",
      "num2:5\n",
      "True\n"
     ]
    }
   ],
   "source": [
    "#Qsn no 1:WAP to input 2 numbers and check whether the first is divisible by the second and print true or\n",
    "# false depending on the divisibility.\n",
    "m=int(input(\"num1:\"))\n",
    "n=int(input(\"num2:\"))\n",
    "if m%n==0:\n",
    "    print(\"True\")\n",
    "else:\n",
    "    print(\"false\")"
   ]
  },
  {
   "cell_type": "code",
   "execution_count": 2,
   "metadata": {},
   "outputs": [
    {
     "name": "stdout",
     "output_type": "stream",
     "text": [
      "Enter the string: Naman\n",
      "Palindrome case\n"
     ]
    }
   ],
   "source": [
    "# Qsn No 2: \n",
    "a=(input(\"Enter the string: \").upper())\n",
    "b=a[::-1]\n",
    "if a==b:\n",
    "    print(\"Palindrome case\")\n",
    "else:\n",
    "    print(\"Not Palindrome\")"
   ]
  },
  {
   "cell_type": "code",
   "execution_count": 78,
   "metadata": {},
   "outputs": [
    {
     "name": "stdout",
     "output_type": "stream",
     "text": [
      "length of 1st side of triangle:20\n",
      "length of 2nd side of triangle:25\n",
      "length of 3rd side of triangle:30\n",
      "Traingle is scalene \n"
     ]
    }
   ],
   "source": [
    "# Qsn no 3:WAP to input the sides of a triangle and print whether equilateral(all sides equal), isosceles (2\n",
    "#sides equal), or scalene (no sides equal).\n",
    "l=float(input(\"length of 1st side of triangle:\"))\n",
    "m=float(input(\"length of 2nd side of triangle:\"))\n",
    "n=float(input(\"length of 3rd side of triangle:\"))\n",
    "if l==m and m==n and l==n:\n",
    "    print(\"Traingle is equilateral traingle\")\n",
    "elif ((l==m and m!=n ) or (l==n and m!=n ) or (m==n and l!=m)):\n",
    "    print(\"traingle is isosceles traingle\")\n",
    "else:\n",
    "    print(\"Traingle is scalene \")\n",
    "        \n",
    "            "
   ]
  },
  {
   "cell_type": "code",
   "execution_count": 36,
   "metadata": {},
   "outputs": [
    {
     "name": "stdout",
     "output_type": "stream",
     "text": [
      "enter the number:-20\n",
      "number is even\n"
     ]
    }
   ],
   "source": [
    "# Qsn No 4: WAP to input a number and print if it is even or odd.\n",
    "m=int(input(\"enter the number:\"))\n",
    "if m%2==0:\n",
    "    print(\"number is even\")\n",
    "else:\n",
    "    print(\"number is odd\")\n",
    "    \n",
    "\n",
    "\n",
    "    "
   ]
  },
  {
   "cell_type": "code",
   "execution_count": 50,
   "metadata": {},
   "outputs": [
    {
     "name": "stdout",
     "output_type": "stream",
     "text": [
      "enter the age of a person in years101\n",
      "Contratulations\n"
     ]
    }
   ],
   "source": [
    "# Qsn No 5 :\n",
    "m=float(input(\"enter the age of a person in years\"))\n",
    "if m<=12:\n",
    "    print(\"Person is Child\")\n",
    "elif m>=13 and m<=17:\n",
    "    print(\"person is Teen\")\n",
    "elif m>=18 and m<=50:\n",
    "    print(\"Person is adult\")\n",
    "elif m>=51 and m<=100:\n",
    "    print(\"person is Senior citizen\")\n",
    "else:\n",
    "    print(\"Contratulations\")\n",
    "    \n",
    "    \n"
   ]
  },
  {
   "cell_type": "code",
   "execution_count": 57,
   "metadata": {},
   "outputs": [
    {
     "name": "stdout",
     "output_type": "stream",
     "text": [
      "input the year:2000\n",
      "Valid Year\n",
      "year2000 is leap year\n"
     ]
    }
   ],
   "source": [
    "# Qsn No 6:\n",
    "year=input(\"input the year:\")\n",
    "b=int(year)\n",
    "if (len(year)==4 and b>0):\n",
    "    print(\"Valid Year\")\n",
    "    if b % 4==0:\n",
    "        if b % 100==0:\n",
    "            if b % 400==0:\n",
    "                print(f\"year{b} is leap year\")\n",
    "            else:\n",
    "                print(f\"year{b} is not leap year\")\n",
    "        else:\n",
    "            print(f\"year{b} is  leap year\")\n",
    "    else:\n",
    "        print(f\"year{b} is not leap year\")\n",
    "else:\n",
    "    print(\"enter the valid input\")\n",
    "            "
   ]
  },
  {
   "cell_type": "code",
   "execution_count": 60,
   "metadata": {},
   "outputs": [
    {
     "name": "stdout",
     "output_type": "stream",
     "text": [
      "enter the stringabcde\n",
      "ABCDE\n"
     ]
    }
   ],
   "source": [
    "# Qsn No 7:\n",
    "str=input(\"enter the string:\")\n",
    "l=str.upper()\n",
    "m=str.lower()\n",
    "if len(str) % 2 != 0:\n",
    "    print(l)\n",
    "else:\n",
    "    print(m)"
   ]
  },
  {
   "cell_type": "code",
   "execution_count": 67,
   "metadata": {},
   "outputs": [
    {
     "name": "stdout",
     "output_type": "stream",
     "text": [
      "input:i ate egg curry on monday\n",
      "['I', 'ATE', 'EGG', 'CURRY', 'ON', 'MONDAY']\n",
      "Non-veg\n"
     ]
    }
   ],
   "source": [
    "# Qsn No 8:\n",
    "str=(input(\"input:\").upper())\n",
    "s=str.split()\n",
    "print(s)\n",
    "if \"EGG\" in s:\n",
    "    print(\"Non-veg\")\n",
    "else:\n",
    "    print(\"Veg\")"
   ]
  },
  {
   "cell_type": "code",
   "execution_count": 68,
   "metadata": {},
   "outputs": [
    {
     "name": "stdout",
     "output_type": "stream",
     "text": [
      "true\n",
      "\n",
      "True\n",
      "\n",
      "WEIRD!!!\n",
      "\n",
      "[4, 3, 2, 1]\n"
     ]
    }
   ],
   "source": [
    "# QsnNo 9:\n",
    "if not 1:\n",
    "    print(\"false\")\n",
    "else:\n",
    "    print(\"true\")\n",
    "print()\n",
    "if 1:\n",
    "    print(\"True\")\n",
    "else:\n",
    "    print(\"False\")\n",
    "print()\n",
    "if \"a\">\"A\":\n",
    "    print(\"WEIRD!!!\")\n",
    "else:\n",
    "    print(\"Make Sense\")\n",
    "print()\n",
    "a=[1,2,3,4]\n",
    "if 1>1:\n",
    "    a=a[::-1]\n",
    "else:\n",
    "    a=a[-1::-1]\n",
    "print(a)"
   ]
  },
  {
   "cell_type": "code",
   "execution_count": 75,
   "metadata": {},
   "outputs": [
    {
     "name": "stdout",
     "output_type": "stream",
     "text": [
      "English Marks:65\n",
      "Marathi Marks:70\n",
      "Science Marks:75\n",
      "Maths Marks:80\n",
      "Social Science Marks:90\n",
      "Valid Input\n",
      "Avg marks of the student is 76.0 & student got C Grade\n"
     ]
    }
   ],
   "source": [
    "# Qsn No 10:\n",
    "a=int(input(\"English Marks:\"))\n",
    "b=int(input(\"Marathi Marks:\"))\n",
    "c=int(input(\"Science Marks:\"))\n",
    "d=int(input(\"Maths Marks:\"))\n",
    "e=int(input(\"Social Science Marks:\"))\n",
    "avg=(a+b+c+d+e)/5\n",
    "if a<=100 and b<=100 and c<=100 and d<=100 and e<=100:\n",
    "    print(\"Valid Input\")\n",
    "    if avg>=90 and avg<100:\n",
    "        print(f\"Avg marks of the student is {avg} & student got A Grade\")\n",
    "    elif avg>=80 and avg<89:\n",
    "        print(f\"Avg marks of the student is {avg} & student got B Grade\")\n",
    "    elif avg>=60 and avg<79:\n",
    "        print(f\"Avg marks of the student is {avg} & student got C Grade\")\n",
    "    elif avg<60:\n",
    "        print(f\"Avg marks of the student is {avg} & student got F Grade\")\n",
    "else:\n",
    "    print(\"Enter Valid Input\")"
   ]
  },
  {
   "cell_type": "code",
   "execution_count": 4,
   "metadata": {},
   "outputs": [
    {
     "name": "stdout",
     "output_type": "stream",
     "text": [
      "Input the age of the person:42\n",
      "enter the salary:1500000\n",
      "Amount of the tax to be paid: 225000.0 Rs\n"
     ]
    }
   ],
   "source": [
    "# Qsn no 11:\n",
    "Age=int(input(\"Input the age of the person:\"))\n",
    "salary=int(input(\"enter the salary:\"))\n",
    "if Age<60:\n",
    "    if salary <=250000:\n",
    "        print(\"No Tax Has been paid\")\n",
    "    elif 250001 <= salary <= 500000:\n",
    "        print(\"Amount of the tax to be paid:\",0.05*salary,\"Rs\")\n",
    "    elif 500001 <= salary <= 1000000:\n",
    "        print(\"Amount of the tax to be paid:\",0.1*salary,\"Rs\")\n",
    "    elif salary > 1000001:\n",
    "        print(\"Amount of the tax to be paid:\",0.15*salary,\"Rs\")\n",
    "else:\n",
    "    if Age>=60:\n",
    "        if salary <=250000:\n",
    "            print(\"No Tax Has been paid\")\n",
    "        elif 250001 <= salary <= 500000:\n",
    "            print(\"Amount of the tax to be paid:\",0.03*salary,\"Rs\")\n",
    "        elif 500001 <= salary <= 1000000:\n",
    "            print(\"Amount of the tax to be paid:\",0.08*salary,\"Rs\")\n",
    "        elif salary > 1000001:\n",
    "            print(\"Amount of the tax to be paid:\",0.12*salary,\"Rs\")\n",
    "        "
   ]
  },
  {
   "cell_type": "code",
   "execution_count": 5,
   "metadata": {},
   "outputs": [
    {
     "name": "stdout",
     "output_type": "stream",
     "text": [
      "20\n",
      "10\n",
      "10\n",
      "OMG\n"
     ]
    }
   ],
   "source": [
    "# Qsn No 12:\n",
    "print(20 if not 1==1 else 20)\n",
    "print(30 if not 1==1 else 20 if 'a' < 'A' else  10)\n",
    "print(40 if not 1==1 else 30 if 'a' < 'A' else  20 if '' else 10)\n",
    "print('No' if not 1==1 else ('No' if 'a' < 'A' else ('OMG' if 'oh!!' else 'No')))"
   ]
  },
  {
   "cell_type": "code",
   "execution_count": 1,
   "metadata": {},
   "outputs": [
    {
     "name": "stdout",
     "output_type": "stream",
     "text": [
      "Enter Weighh in Kg:80.3\n",
      "Enter Height in meter: 3.6\n"
     ]
    },
    {
     "data": {
      "text/plain": [
       "6.195987654320987"
      ]
     },
     "execution_count": 1,
     "metadata": {},
     "output_type": "execute_result"
    }
   ],
   "source": [
    "# Qsn No 13:\n",
    "def bmi_(w,h):\n",
    "    bmi=w/pow(h,2)\n",
    "    return bmi\n",
    "bmi_(float(input(\"Enter Weighh in Kg:\")),float(input(\"Enter Height in meter: \")))"
   ]
  },
  {
   "cell_type": "code",
   "execution_count": 3,
   "metadata": {},
   "outputs": [
    {
     "name": "stdout",
     "output_type": "stream",
     "text": [
      "Enter the age of person1 : 25\n",
      "Enter the age of person2 : 50\n",
      "Enter the age of person3 : 75\n",
      "Person 3 is oldest\n",
      "Person 1 is youngest\n"
     ]
    }
   ],
   "source": [
    "# Qsn No 14:\n",
    "age1=float(input(\"Enter the age of person1 : \"))\n",
    "age2=float(input(\"Enter the age of person2 : \"))\n",
    "age3=float(input(\"Enter the age of person3 : \"))\n",
    "\n",
    "if age1 > age2 and age1 > age3:\n",
    "    print(\"Person 1 is oldest\")\n",
    "elif age2 > age3:\n",
    "    print(\"Person 2 is oldest\")\n",
    "else:\n",
    "    print(\"Person 3 is oldest\")\n",
    "    \n",
    "if age1 < age2 and age1 < age3:\n",
    "    print(\"Person 1 is youngest\")\n",
    "elif age2 < age3:\n",
    "    print(\"Person 2 is youngest\")\n",
    "else:\n",
    "    print(\"Person 3 is youngest\")"
   ]
  },
  {
   "cell_type": "code",
   "execution_count": 10,
   "metadata": {},
   "outputs": [
    {
     "name": "stdout",
     "output_type": "stream",
     "text": [
      "Enter the number:35\n",
      "Number 35 is divisible by 5 and 7\n"
     ]
    }
   ],
   "source": [
    "# Qsn No 15\n",
    "n=int(input(\"Enter the number:\"))\n",
    "if n%5==0 and n%7==0:\n",
    "    print(f\"Number {n} is divisible by 5 and 7\")\n",
    "elif n%5==0:\n",
    "    print(f\"Number {n} is divisible by 5 not 7\")\n",
    "elif n%7==0:\n",
    "    print(f\"Number {n} is divisible by 7 not 5\")\n",
    "else:\n",
    "    print(f\"Number {n} is neighter divisible by 5 nor 7\")"
   ]
  }
 ],
 "metadata": {
  "kernelspec": {
   "display_name": "Python 3",
   "language": "python",
   "name": "python3"
  },
  "language_info": {
   "codemirror_mode": {
    "name": "ipython",
    "version": 3
   },
   "file_extension": ".py",
   "mimetype": "text/x-python",
   "name": "python",
   "nbconvert_exporter": "python",
   "pygments_lexer": "ipython3",
   "version": "3.7.6"
  }
 },
 "nbformat": 4,
 "nbformat_minor": 4
}
