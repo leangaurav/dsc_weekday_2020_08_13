{
 "cells": [
  {
   "cell_type": "code",
   "execution_count": 3,
   "metadata": {},
   "outputs": [
    {
     "name": "stdout",
     "output_type": "stream",
     "text": [
      "enter the string 1:Viraj\n",
      "enter the string 2:GHodke\n",
      "GHodke\n",
      "Viraj\n"
     ]
    }
   ],
   "source": [
    "#Qsn No 1: WAP to input 2 strings and swap the strings\n",
    "m=input(\"enter the string 1:\")\n",
    "n=input(\"enter the string 2:\")\n",
    "m,n=n,m\n",
    "print(m)\n",
    "print(n)"
   ]
  },
  {
   "cell_type": "code",
   "execution_count": 8,
   "metadata": {},
   "outputs": [
    {
     "name": "stdout",
     "output_type": "stream",
     "text": [
      "Random number between 0 to 26 is: 7\n",
      "Random number between 0 to 26 is: 5\n",
      "Random number between 0 to 26 is: 16\n",
      "Random number between 0 to 26 is: 6\n",
      "\n",
      "avg of 4 random number is: 34\n"
     ]
    }
   ],
   "source": [
    "#Qsn No 2: WAP to generate 4 random numbers in the range 0-26 and print their average\n",
    "i=0\n",
    "avg=0\n",
    "while i<4:\n",
    "    import random\n",
    "    s=(random.randrange(0,26))\n",
    "    avg=s+avg\n",
    "    print(\"Random number between 0 to 26 is:\",s)\n",
    "    i=i+1\n",
    "    \n",
    "print()\n",
    "print(\"avg of 4 random number is:\",avg)"
   ]
  },
  {
   "cell_type": "code",
   "execution_count": 105,
   "metadata": {},
   "outputs": [
    {
     "name": "stdout",
     "output_type": "stream",
     "text": [
      "I\n"
     ]
    }
   ],
   "source": [
    "#Qsn No 3: WAP to generate and print a random uppercase or lowercase alphabet. Try these:\n",
    "#• Create a string containing all alphabets and then select a random alphabet.\n",
    "#• Check the module string \n",
    "import random\n",
    "import string\n",
    "s=(string.ascii_letters)\n",
    "print(random.choice(s))\n",
    "\n"
   ]
  },
  {
   "cell_type": "code",
   "execution_count": 123,
   "metadata": {},
   "outputs": [
    {
     "name": "stdout",
     "output_type": "stream",
     "text": [
      "enter the principal amount2000\n",
      "enter the rate of interest:20\n",
      "enter the time period:2\n",
      "interest amount: 800.0\n",
      "amount to repay: 1800.0\n"
     ]
    }
   ],
   "source": [
    "#Qsn No 4: WAF get_si() that takes Principle, Rate and Time as arguments and returns the Simple interest.\n",
    "l=float(input(\"enter the principal amount\"))\n",
    "m=float(input(\"enter the rate of interest:\"))\n",
    "n=int(input(\"enter the time period:\"))\n",
    "def get_si(p,r,t):\n",
    "    SI=(p*r*t/100)\n",
    "    return SI\n",
    "print(\"interest amount:\",get_si(l,m,n))\n",
    "print(\"amount to repay:\",(get_si(l,m,n)+p))\n",
    "    "
   ]
  },
  {
   "cell_type": "code",
   "execution_count": 126,
   "metadata": {},
   "outputs": [
    {
     "data": {
      "text/plain": [
       "2800.0"
      ]
     },
     "execution_count": 126,
     "metadata": {},
     "output_type": "execute_result"
    }
   ],
   "source": [
    "#Qsn No 5:WAF get_amount() that takes Principle, Rate and Time as arguments and returns the Total amount using the get_si() function\n",
    "#from above to calculate the SI. Also provideRate = 10 and Time = 1 as default arguments.\n",
    "def get_amount(p,r,t):\n",
    "    SI=p+get_si(p,r,t)\n",
    "    return(SI)\n",
    "get_amount(l,m,n)\n"
   ]
  },
  {
   "cell_type": "code",
   "execution_count": 130,
   "metadata": {},
   "outputs": [
    {
     "name": "stdout",
     "output_type": "stream",
     "text": [
      "input principal :2000\n",
      "input rate  :20\n",
      "input time :2\n"
     ]
    },
    {
     "data": {
      "text/plain": [
       "880.0"
      ]
     },
     "execution_count": 130,
     "metadata": {},
     "output_type": "execute_result"
    }
   ],
   "source": [
    "# Qsn No 6:WAP get_ci() that takes Principle, Rate and Time as arguments and returns the Compound Interest.\n",
    "p=int(input(\"input principal :\"))\n",
    "r=int(input(\"input rate  :\"))\n",
    "t=int(input(\"input time :\"))\n",
    "def get_ci(p,r,t):\n",
    "    CI=(p*(pow(1+(r/100),t))-p)\n",
    "    return CI\n",
    "get_ci(p,r,t)"
   ]
  },
  {
   "cell_type": "code",
   "execution_count": 131,
   "metadata": {},
   "outputs": [
    {
     "name": "stdout",
     "output_type": "stream",
     "text": [
      "enter the number 1:25\n",
      "enter the number 2: 20\n"
     ]
    },
    {
     "data": {
      "text/plain": [
       "(1, 5)"
      ]
     },
     "execution_count": 131,
     "metadata": {},
     "output_type": "execute_result"
    }
   ],
   "source": [
    "# Qsn No 7:WAP get_q_r() taking 2 numbers as parameters and returns the quotient and remainder in the form of a tuple.\n",
    "x=int(input(\"enter the number 1:\"))\n",
    "y=int(input(\"enter the number 2:\"))\n",
    "def get_q_r(x,y):\n",
    "    l=x//y\n",
    "    m=x%y\n",
    "    return (l,m)\n",
    "get_q_r(x,y)\n"
   ]
  },
  {
   "cell_type": "code",
   "execution_count": 32,
   "metadata": {},
   "outputs": [
    {
     "name": "stdout",
     "output_type": "stream",
     "text": [
      "Enter the height  of the traiangle:3\n",
      "Enter the base of the traiangle:4\n",
      "5.0\n"
     ]
    }
   ],
   "source": [
    "#Qsn No 8:WAP to find the length of hypotenuse of a right angled triangle, input the height and base from the user\n",
    "h=int(input(\"Enter the height  of the traiangle:\"))\n",
    "b=int(input(\"Enter the base of the traiangle:\"))\n",
    "from math import sqrt\n",
    "def len_hypotenuse(height,base):\n",
    "    C = sqrt((height**2)+(base**2))\n",
    "    print(C)\n",
    "len_hypotenuse(h,b)"
   ]
  },
  {
   "cell_type": "code",
   "execution_count": 24,
   "metadata": {},
   "outputs": [
    {
     "name": "stdout",
     "output_type": "stream",
     "text": [
      "ENter the angle of the triangle:90\n",
      "Enter the height in meter of the traiangle:20\n",
      "Enter the base in meter of the traiangle:15\n",
      "Length of the hypotenuse is: 25.0\n"
     ]
    }
   ],
   "source": [
    "##Qsn No 8: WAP to find the length of hypotenuse of a right angled triangle, input the height and base from the user\n",
    "angle=int(input(\"ENter the angle of the triangle:\"))\n",
    "h=int(input(\"Enter the height in meter of the traiangle:\"))\n",
    "b=int(input(\"Enter the base in meter of the traiangle:\"))\n",
    "l=(pow(h,2)+pow(b,2))\n",
    "c=pow(l,0.5)\n",
    "if angle==90:\n",
    "    print(\"Length of the hypotenuse is:\",c)\n",
    "else:\n",
    "    print(\"Triangle is not right angle triangle\")\n",
    "      "
   ]
  },
  {
   "cell_type": "code",
   "execution_count": 35,
   "metadata": {},
   "outputs": [
    {
     "name": "stdout",
     "output_type": "stream",
     "text": [
      "No of seconds which is to be converted 1000\n",
      "1000 seconds is equal to:  0 day 0 hrs 16 minutes 40 secs\n"
     ]
    }
   ],
   "source": [
    "#Qsn No 9: WAP to input number of seconds and print in days, hours, minutes and seconds\n",
    "a=int(input(\"No of seconds which is to be converted \"))\n",
    "sec=a%60\n",
    "minu=(a//60)%60\n",
    "hrs=(a//60)//60\n",
    "days=int(a/(60*60*24))\n",
    "print(f\"{s} seconds is equal to: \",days,\"day\",hrs,\"hrs\",minu,\"minutes\",sec,\"secs\")"
   ]
  },
  {
   "cell_type": "code",
   "execution_count": 46,
   "metadata": {},
   "outputs": [
    {
     "name": "stdout",
     "output_type": "stream",
     "text": [
      "3.7.6 (default, Jan  8 2020, 20:23:39) [MSC v.1916 64 bit (AMD64)]\n"
     ]
    }
   ],
   "source": [
    "# Qsn No 10:\n",
    "import sys\n",
    "print(sys.version)\n",
    "    \n",
    "#from platform import python_version\n",
    "#python_version()\n",
    "    \n"
   ]
  },
  {
   "cell_type": "code",
   "execution_count": 49,
   "metadata": {},
   "outputs": [
    {
     "name": "stdout",
     "output_type": "stream",
     "text": [
      "2 -2\n"
     ]
    }
   ],
   "source": [
    "# Qsn No 11:Find the o/p:\n",
    "x=2\n",
    "x*=3\n",
    "x=x%4\n",
    "y=-x\n",
    "print(x,y)"
   ]
  },
  {
   "cell_type": "code",
   "execution_count": 53,
   "metadata": {},
   "outputs": [
    {
     "name": "stdout",
     "output_type": "stream",
     "text": [
      "None\n"
     ]
    }
   ],
   "source": [
    "# Qsn no 12:\n",
    "def funct():\n",
    "    pass\n",
    "print(funct())"
   ]
  },
  {
   "cell_type": "code",
   "execution_count": null,
   "metadata": {},
   "outputs": [],
   "source": []
  }
 ],
 "metadata": {
  "kernelspec": {
   "display_name": "Python 3",
   "language": "python",
   "name": "python3"
  },
  "language_info": {
   "codemirror_mode": {
    "name": "ipython",
    "version": 3
   },
   "file_extension": ".py",
   "mimetype": "text/x-python",
   "name": "python",
   "nbconvert_exporter": "python",
   "pygments_lexer": "ipython3",
   "version": "3.7.6"
  }
 },
 "nbformat": 4,
 "nbformat_minor": 4
}
