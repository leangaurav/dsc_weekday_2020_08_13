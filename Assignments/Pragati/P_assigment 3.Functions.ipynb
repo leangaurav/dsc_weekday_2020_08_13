{
 "cells": [
  {
   "cell_type": "code",
   "execution_count": 1,
   "metadata": {},
   "outputs": [
    {
     "name": "stdout",
     "output_type": "stream",
     "text": [
      "Enter the string:   Pragati\n",
      "Enter the another:  Sharma\n",
      "Sharma Pragati\n"
     ]
    }
   ],
   "source": [
    "#1\n",
    "a= str(input(\"Enter the string:   \"))\n",
    "b= str(input(\"Enter the another:  \"))\n",
    "\n",
    "(a,b) = (b,a)\n",
    "\n",
    "print(a,b)"
   ]
  },
  {
   "cell_type": "code",
   "execution_count": 70,
   "metadata": {},
   "outputs": [
    {
     "name": "stdout",
     "output_type": "stream",
     "text": [
      "Printing list of 4 random numbers\n",
      "[13, 14, 7, 13]\n"
     ]
    }
   ],
   "source": [
    "#2\n",
    "import random\n",
    "\n",
    "randomList = []\n",
    "\n",
    "for i in range(0, 4):\n",
    "    \n",
    "    randomList.append(random.randint(0, 26))\n",
    "\n",
    "print(\"Printing list of 4 random numbers\")\n",
    "print(randomList)"
   ]
  },
  {
   "cell_type": "code",
   "execution_count": 81,
   "metadata": {},
   "outputs": [
    {
     "name": "stdout",
     "output_type": "stream",
     "text": [
      "q\n",
      "K\n"
     ]
    }
   ],
   "source": [
    "#3\n",
    "import random\n",
    "import string\n",
    "s=('abcdefghijklmnopqrstuvwxyz')\n",
    "s=string.ascii_lowercase\n",
    "print (random.choice(s))\n",
    "\n",
    "s=string.ascii_uppercase\n",
    "print (random.choice(s))\n",
    "\n"
   ]
  },
  {
   "cell_type": "code",
   "execution_count": 106,
   "metadata": {},
   "outputs": [
    {
     "name": "stdout",
     "output_type": "stream",
     "text": [
      "100.0\n",
      "200000.0\n"
     ]
    }
   ],
   "source": [
    "#4\n",
    "def get_si(p,q,r):\n",
    "    v= (p*q*r)/100\n",
    "    return v\n",
    "\n",
    "a=get_si(1000,5,2)\n",
    "b=get_si(100000,10,20)\n",
    "print(a)\n",
    "print(b)"
   ]
  },
  {
   "cell_type": "code",
   "execution_count": 3,
   "metadata": {},
   "outputs": [
    {
     "name": "stdout",
     "output_type": "stream",
     "text": [
      "1100.0\n",
      "\n",
      "1100.0\n"
     ]
    }
   ],
   "source": [
    "#5(a)\n",
    "def get_si(p,q,r):\n",
    "    v= (p*q*r)/100\n",
    "    return v\n",
    "\n",
    "def get_amount(P,a):\n",
    "    amount= (P+a)\n",
    "    return amount\n",
    "\n",
    "a=get_si(1000,5,2)\n",
    "\n",
    "b=get_amount(1000,a)\n",
    "print(b)\n",
    "\n",
    "print()\n",
    "\n",
    "#5(b)\n",
    "r= 10 #default argument\n",
    "t=1   #default argument\n",
    "\n",
    "def get_amount(p):\n",
    "    v= (p*r*t)/100\n",
    "    amount= (p+v)\n",
    "    return amount\n",
    "\n",
    "A=get_amount(1000)\n",
    "print(A)\n",
    "\n"
   ]
  },
  {
   "cell_type": "code",
   "execution_count": 17,
   "metadata": {},
   "outputs": [
    {
     "name": "stdout",
     "output_type": "stream",
     "text": [
      "1276.2815625000003\n"
     ]
    }
   ],
   "source": [
    "#6\n",
    "def get_ci(p,r,t):\n",
    "    v= p*(1+(r/100))**(t)\n",
    "    return v\n",
    "\n",
    "CI=get_ci(1000,5,5)\n",
    "print(CI)"
   ]
  },
  {
   "cell_type": "code",
   "execution_count": 27,
   "metadata": {},
   "outputs": [
    {
     "name": "stdout",
     "output_type": "stream",
     "text": [
      "Enter the dividend    2341\n",
      "Enter the divisor    55\n",
      "(42.0, 31.0)\n"
     ]
    },
    {
     "data": {
      "text/plain": [
       "(42.0, 31.0)"
      ]
     },
     "execution_count": 27,
     "metadata": {},
     "output_type": "execute_result"
    }
   ],
   "source": [
    "#7\n",
    "def get_q_r():\n",
    "    D=float(input(\"Enter the dividend    \"))\n",
    "    d=float(input(\"Enter the divisor    \"))\n",
    "    Q=(D//d)\n",
    "    R=(D%d)\n",
    "    answer= (Q,R)\n",
    "    print(answer)\n",
    "    return answer\n",
    "\n",
    "get_q_r()\n",
    "\n",
    "\n",
    "   "
   ]
  },
  {
   "cell_type": "code",
   "execution_count": 41,
   "metadata": {},
   "outputs": [
    {
     "name": "stdout",
     "output_type": "stream",
     "text": [
      "enter the height value 56\n",
      "enter the base value 45\n"
     ]
    },
    {
     "data": {
      "text/plain": [
       "71.84010022264724"
      ]
     },
     "execution_count": 41,
     "metadata": {},
     "output_type": "execute_result"
    }
   ],
   "source": [
    "#8\n",
    "import math\n",
    "def hypotenuse():\n",
    "    a=float(input(\"enter the height value \"))\n",
    "    b=float(input(\"enter the base value \"))\n",
    "    c=math.sqrt((a**2)+(b**2))\n",
    "    return c\n",
    "\n",
    "hypotenuse()\n",
    "\n",
    "\n"
   ]
  },
  {
   "cell_type": "code",
   "execution_count": 44,
   "metadata": {},
   "outputs": [
    {
     "name": "stdout",
     "output_type": "stream",
     "text": [
      "Enter the number of seconds,  432657\n",
      "output=  5 days 0 hour 10 minutes 57 seconds\n"
     ]
    }
   ],
   "source": [
    "#9\n",
    "\n",
    "def time_convertor():\n",
    "    x=int(input(\"Enter the number of seconds,  \"))\n",
    "    d=(x//86400)\n",
    "    h=((x%86400)//3600)\n",
    "    m=(((x%86400)%3600)//60)\n",
    "    s=(((x%86400)%3600)%60)\n",
    "    print(\"output= \", d, \"days\", h, \"hour\", m, \"minutes\" , s, \"seconds\")\n",
    "\n",
    "time_convertor()  "
   ]
  },
  {
   "cell_type": "code",
   "execution_count": 45,
   "metadata": {},
   "outputs": [
    {
     "data": {
      "text/plain": [
       "'3.8.3'"
      ]
     },
     "execution_count": 45,
     "metadata": {},
     "output_type": "execute_result"
    }
   ],
   "source": [
    "#10\n",
    "import platform\n",
    "platform.python_version()"
   ]
  },
  {
   "cell_type": "code",
   "execution_count": 50,
   "metadata": {},
   "outputs": [
    {
     "name": "stdout",
     "output_type": "stream",
     "text": [
      "2 -2\n"
     ]
    }
   ],
   "source": [
    "#11\n",
    "X=2\n",
    "X*=3\n",
    "X=X%4\n",
    "Y=-X\n",
    "print(X,Y)"
   ]
  },
  {
   "cell_type": "code",
   "execution_count": 54,
   "metadata": {},
   "outputs": [
    {
     "name": "stdout",
     "output_type": "stream",
     "text": [
      "None\n"
     ]
    }
   ],
   "source": [
    "#12\n",
    "def func():\n",
    "    pass\n",
    "print(func())"
   ]
  }
 ],
 "metadata": {
  "kernelspec": {
   "display_name": "Python 3",
   "language": "python",
   "name": "python3"
  },
  "language_info": {
   "codemirror_mode": {
    "name": "ipython",
    "version": 3
   },
   "file_extension": ".py",
   "mimetype": "text/x-python",
   "name": "python",
   "nbconvert_exporter": "python",
   "pygments_lexer": "ipython3",
   "version": "3.8.3"
  }
 },
 "nbformat": 4,
 "nbformat_minor": 4
}
