{
 "cells": [
  {
   "cell_type": "markdown",
   "metadata": {},
   "source": [
    "#1\n",
    "f= float(input(\"enter the temp in farenhite : \"))\n",
    "c=(f-1)*(5/9)\n",
    "print(\"the temperature in celcius will be\",c)"
   ]
  },
  {
   "cell_type": "code",
   "execution_count": 14,
   "metadata": {},
   "outputs": [
    {
     "name": "stdout",
     "output_type": "stream",
     "text": [
      "enter the number: 65\n",
      "the sqaure of the number is 4225 and the cube of the number is 274625\n"
     ]
    }
   ],
   "source": [
    "#2\n",
    "a= int(input(\"enter the number: \"))\n",
    "print (\"the sqaure of the number is\" , (a*a), \"and the cube of the number is\" , (a*a*a))\n"
   ]
  },
  {
   "cell_type": "code",
   "execution_count": 16,
   "metadata": {},
   "outputs": [
    {
     "name": "stdout",
     "output_type": "stream",
     "text": [
      "enter the value 1: 4\n",
      "enter the value 2: 5\n",
      "the value of (n^2+m^2) is equals to  41\n"
     ]
    }
   ],
   "source": [
    "#3\n",
    "n= int(input(\"enter the value 1: \"))\n",
    "m= int(input('enter the value 2: '))\n",
    "s= ((n*n)+(m*m))\n",
    "\n",
    "print(\"the value of (n^2+m^2) is equals to \", s)"
   ]
  },
  {
   "cell_type": "code",
   "execution_count": 23,
   "metadata": {},
   "outputs": [
    {
     "name": "stdout",
     "output_type": "stream",
     "text": [
      "enter the base value 5\n",
      "enter the exponent value 6\n",
      "15625\n",
      "15625\n"
     ]
    }
   ],
   "source": [
    "#4\n",
    "m= int(input(\"enter the base value \")) \n",
    "n=int(input(\"enter the exponent value \"))\n",
    "\n",
    "res = pow(m,n)\n",
    "print (res )\n",
    "\n",
    "res2 =(m**n) \n",
    "print(res2)"
   ]
  },
  {
   "cell_type": "code",
   "execution_count": 27,
   "metadata": {},
   "outputs": [
    {
     "name": "stdout",
     "output_type": "stream",
     "text": [
      "principal? 5000\n",
      "rate? 65\n",
      "number of years? 98\n",
      "318500.0\n"
     ]
    }
   ],
   "source": [
    "P = float(input(\"principal? \"))\n",
    "r = float(input(\"rate? \"))\n",
    "t = float(input(\"number of years? \"))\n",
    "        \n",
    "I = ((P*r*t)/100)\n",
    "        \n",
    "print(I)"
   ]
  },
  {
   "cell_type": "code",
   "execution_count": 37,
   "metadata": {},
   "outputs": [
    {
     "name": "stdout",
     "output_type": "stream",
     "text": [
      "principal? 5000\n",
      "rate? 6\n",
      "number of years? 9\n",
      "8447.394795013464\n",
      "3447.3947950134643\n"
     ]
    }
   ],
   "source": [
    "#6\n",
    "P = float(input(\"principal? \"))\n",
    "r = float(input(\"rate? \"))\n",
    "t = float(input(\"number of years? \"))\n",
    "\n",
    "A= P* (pow(1+(r/100),t))\n",
    "print (A)\n",
    "\n",
    "CI = (A-P)\n",
    "print (CI)"
   ]
  },
  {
   "cell_type": "code",
   "execution_count": 48,
   "metadata": {},
   "outputs": [
    {
     "name": "stdout",
     "output_type": "stream",
     "text": [
      "Enter the number of terms: 4\n",
      "sume of the series is 16.0\n"
     ]
    }
   ],
   "source": [
    "#7\n",
    "a= 1 #first term\n",
    "d= 2 #common difference\n",
    "n = int(input(\"Enter the number of terms: \"))\n",
    "\n",
    "A= a+(n-1)*d\n",
    "s= (a+A)*(n/2)\n",
    "\n",
    "print(\"Sum of the series is\" , s)"
   ]
  },
  {
   "cell_type": "code",
   "execution_count": 55,
   "metadata": {},
   "outputs": [
    {
     "name": "stdout",
     "output_type": "stream",
     "text": [
      "Enter the first number: as\n",
      "Enter the second number: kh\n",
      "After swapping it becomes: kh as\n"
     ]
    }
   ],
   "source": [
    "#8\n",
    "\n",
    "n1= input(\"Enter the first number: \")\n",
    "n2= input(\"Enter the second number: \")\n",
    "\n",
    "n1 , n2 = n2, n1\n",
    "\n",
    "print(\"After swapping it becomes:\", n1, n2)"
   ]
  },
  {
   "cell_type": "code",
   "execution_count": 102,
   "metadata": {},
   "outputs": [
    {
     "name": "stdout",
     "output_type": "stream",
     "text": [
      " \n",
      "32\n",
      "\t\n",
      "9\n",
      "\n",
      "\n",
      "10\n",
      "\r\n",
      "13\n",
      "\u000b",
      "\n",
      "11\n",
      "\f",
      "\n",
      "12\n"
     ]
    }
   ],
   "source": [
    "#9\n",
    "import string\n",
    "a = string.whitespace\n",
    "for i in a :\n",
    "    print(i)\n",
    "    print(ord(i))\n",
    "\n",
    "\n",
    "\n",
    "\n"
   ]
  },
  {
   "cell_type": "code",
   "execution_count": 109,
   "metadata": {},
   "outputs": [
    {
     "name": "stdout",
     "output_type": "stream",
     "text": [
      "enter any character k\n",
      "107\n"
     ]
    }
   ],
   "source": [
    "#10\n",
    "a= input(\"enter any character \")\n",
    "b= ord(a)\n",
    "print(b)\n"
   ]
  },
  {
   "cell_type": "code",
   "execution_count": 19,
   "metadata": {},
   "outputs": [
    {
     "name": "stdout",
     "output_type": "stream",
     "text": [
      "Area of the circle 6.28\n",
      "1.4142135623730951\n",
      "8.881261171703038\n"
     ]
    }
   ],
   "source": [
    "#11\n",
    "\n",
    "a = float(input(\"Area of the circle \"))\n",
    "r= pow((a/3.14),0.5)\n",
    "\n",
    "Circumference = (2*3.14*r)\n",
    "print(r)\n",
    "print(Circumference)"
   ]
  },
  {
   "cell_type": "code",
   "execution_count": 1,
   "metadata": {},
   "outputs": [
    {
     "name": "stdout",
     "output_type": "stream",
     "text": [
      "marks in english 56\n",
      "marks in maths 78\n",
      "marks in hindi 98\n",
      "marks in science 56\n",
      "marks in geography 78\n",
      "the percentage is  73.2\n"
     ]
    }
   ],
   "source": [
    "#12\n",
    "E=int(input(\"marks in english \"))\n",
    "M=int(input(\"marks in maths \"))\n",
    "H=int(input(\"marks in hindi \"))\n",
    "S=int(input(\"marks in science \"))\n",
    "G=int(input(\"marks in geography \"))\n",
    "\n",
    "P= (((E+M+H+S+G)/500)*100)\n",
    "\n",
    "print(\"the percentage is \" , P)"
   ]
  }
 ],
 "metadata": {
  "kernelspec": {
   "display_name": "Python 3",
   "language": "python",
   "name": "python3"
  },
  "language_info": {
   "codemirror_mode": {
    "name": "ipython",
    "version": 3
   },
   "file_extension": ".py",
   "mimetype": "text/x-python",
   "name": "python",
   "nbconvert_exporter": "python",
   "pygments_lexer": "ipython3",
   "version": "3.8.3"
  }
 },
 "nbformat": 4,
 "nbformat_minor": 4
}
