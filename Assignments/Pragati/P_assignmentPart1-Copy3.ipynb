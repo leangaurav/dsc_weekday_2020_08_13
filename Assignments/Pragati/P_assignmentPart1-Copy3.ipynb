{
 "cells": [
  {
   "cell_type": "code",
   "execution_count": 1,
   "metadata": {},
   "outputs": [
    {
     "name": "stdout",
     "output_type": "stream",
     "text": [
      "6 19\n"
     ]
    }
   ],
   "source": [
    "#1\n",
    "s1=('gaurav')\n",
    "s2=('tuteur.py@gmail.com')\n",
    "print(len(s1), len(s2))"
   ]
  },
  {
   "cell_type": "code",
   "execution_count": 15,
   "metadata": {},
   "outputs": [
    {
     "name": "stdout",
     "output_type": "stream",
     "text": [
      "Enter a string pragatagarp\n",
      "praga\n",
      "agarp\n",
      "yes\n"
     ]
    }
   ],
   "source": [
    "s= str(input(\"Enter a string \"))\n",
    "\n",
    "a=s[:len(s)//2]\n",
    "print (a)\n",
    "b=s[(len(s)+1)//2:]\n",
    "print(b)\n",
    "if  (a==b[::-1]):\n",
    "    print('yes')\n",
    "    \n",
    "else: \n",
    "    print ('none')"
   ]
  },
  {
   "cell_type": "code",
   "execution_count": 20,
   "metadata": {},
   "outputs": [
    {
     "name": "stdout",
     "output_type": "stream",
     "text": [
      "Enter the number1  45\n",
      "Enter the number2  35\n",
      "Enter the number2  98\n",
      "c is largest\n"
     ]
    }
   ],
   "source": [
    "\n",
    "b= int(input('Enter the number2  '))\n",
    "c= int(input('Enter the number2  '))\n",
    "\n",
    "\n",
    "if (a>b) and (a>c):\n",
    "    print(\"a is largest\")\n",
    "elif (b>c) and (b>a):\n",
    "    print(\"b is largest\")\n",
    "elif (c>a) and (c>b):\n",
    "    print(\"c is largest\")\n"
   ]
  },
  {
   "cell_type": "code",
   "execution_count": 42,
   "metadata": {},
   "outputs": [
    {
     "name": "stdout",
     "output_type": "stream",
     "text": [
      "Enter the number2  abx\n",
      "'a'\n",
      "'x'\n"
     ]
    }
   ],
   "source": [
    "b= input('Enter the number2  ')\n",
    "\n",
    "x=b[0]\n",
    "y=b[-1]\n",
    "\n",
    "if len(b)>=2:\n",
    "    print(ascii(x))\n",
    "    print(ascii(y))\n",
    "\n",
    "else:\n",
    "    print(\"enter the correct input\")\n"
   ]
  },
  {
   "cell_type": "code",
   "execution_count": 41,
   "metadata": {},
   "outputs": [
    {
     "name": "stdout",
     "output_type": "stream",
     "text": [
      "Help on built-in function ascii in module builtins:\n",
      "\n",
      "ascii(obj, /)\n",
      "    Return an ASCII-only representation of an object.\n",
      "    \n",
      "    As repr(), return a string containing a printable representation of an\n",
      "    object, but escape the non-ASCII characters in the string returned by\n",
      "    repr() using \\\\x, \\\\u or \\\\U escapes. This generates a string similar\n",
      "    to that returned by repr() in Python 2.\n",
      "\n"
     ]
    }
   ],
   "source": [
    "help(ascii)"
   ]
  },
  {
   "cell_type": "code",
   "execution_count": 23,
   "metadata": {},
   "outputs": [
    {
     "name": "stdout",
     "output_type": "stream",
     "text": [
      "<class 'str'>\n"
     ]
    }
   ],
   "source": [
    "dir()\n",
    "a=('quit')\n",
    "print(type(a))"
   ]
  },
  {
   "cell_type": "code",
   "execution_count": 17,
   "metadata": {},
   "outputs": [
    {
     "name": "stdout",
     "output_type": "stream",
     "text": [
      "Enter the number1  e\n",
      "vowel\n"
     ]
    }
   ],
   "source": [
    "x= input('Enter the number1  ')\n",
    "\n",
    "if (x==\"a\") or(x==\"e\") or(x==\"i\") or(x==\"o\") or(x==\"u\") :\n",
    "    print (\"vowel\")\n",
    "else :\n",
    "    print(\"consonant\")"
   ]
  },
  {
   "cell_type": "code",
   "execution_count": 11,
   "metadata": {},
   "outputs": [
    {
     "ename": "SyntaxError",
     "evalue": "invalid syntax (<ipython-input-11-372353e1bd5b>, line 2)",
     "output_type": "error",
     "traceback": [
      "\u001b[1;36m  File \u001b[1;32m\"<ipython-input-11-372353e1bd5b>\"\u001b[1;36m, line \u001b[1;32m2\u001b[0m\n\u001b[1;33m    b= a([::-1])\u001b[0m\n\u001b[1;37m          ^\u001b[0m\n\u001b[1;31mSyntaxError\u001b[0m\u001b[1;31m:\u001b[0m invalid syntax\n"
     ]
    }
   ],
   "source": [
    "a= input('Enter the number1  ')\n",
    "b= a([::-1])\n",
    "if (a==b):\n",
    "    print(yes)\n",
    "else:\n",
    "    print(no)"
   ]
  },
  {
   "cell_type": "code",
   "execution_count": 13,
   "metadata": {},
   "outputs": [
    {
     "name": "stdout",
     "output_type": "stream",
     "text": [
      " string?  aba\n",
      "The string is a palindrome\n"
     ]
    }
   ],
   "source": [
    "a=input((\" string?  \"))\n",
    "\n",
    "if(a==a[::-1]):\n",
    "\n",
    "      print(\" palindrome\")\n",
    "\n",
    "else:\n",
    "\n",
    "      print(\"Not a palindrome\")\n"
   ]
  },
  {
   "cell_type": "code",
   "execution_count": 3,
   "metadata": {},
   "outputs": [
    {
     "name": "stdout",
     "output_type": "stream",
     "text": [
      "Enter the namePragati\n",
      "Pragati 7\n"
     ]
    }
   ],
   "source": [
    "#2\n",
    "a= input(\"Enter the name\")\n",
    "print((a), len(a))"
   ]
  },
  {
   "cell_type": "code",
   "execution_count": 33,
   "metadata": {},
   "outputs": [
    {
     "name": "stdout",
     "output_type": "stream",
     "text": [
      "Enter the number1 23\n",
      "Enter the number2 22\n",
      "45\n",
      "1\n"
     ]
    }
   ],
   "source": [
    "#3\n",
    "a= int(input('Enter the number1 '))\n",
    "b= int(input('Enter the number2 '))\n",
    "s1= a+b\n",
    "print (s1)\n",
    "print (a-b)"
   ]
  },
  {
   "cell_type": "code",
   "execution_count": 5,
   "metadata": {},
   "outputs": [
    {
     "name": "stdout",
     "output_type": "stream",
     "text": [
      "abcd\n"
     ]
    }
   ],
   "source": [
    "#4\n",
    "s1= 'ab'\n",
    "s2='cd'\n",
    "\n",
    "s3= (s1+s2)\n",
    "print(s3)"
   ]
  },
  {
   "cell_type": "code",
   "execution_count": 6,
   "metadata": {},
   "outputs": [
    {
     "name": "stdout",
     "output_type": "stream",
     "text": [
      "abababab\n"
     ]
    }
   ],
   "source": [
    "#5\n",
    "s= 'ab'*4\n",
    "print(s)"
   ]
  },
  {
   "cell_type": "code",
   "execution_count": 8,
   "metadata": {},
   "outputs": [
    {
     "name": "stdout",
     "output_type": "stream",
     "text": [
      "ab\n",
      "ab\n",
      "ab\n",
      "ab\n",
      "\n"
     ]
    }
   ],
   "source": [
    "#6\n",
    "s= 'ab\\n'*4\n",
    "print(s)"
   ]
  },
  {
   "cell_type": "code",
   "execution_count": 2,
   "metadata": {},
   "outputs": [
    {
     "name": "stdout",
     "output_type": "stream",
     "text": [
      "Enter the stringhello\n",
      "Enter the number4\n",
      "hello\n",
      "hello\n",
      "hello\n",
      "hello\n",
      "\n"
     ]
    }
   ],
   "source": [
    "#7\n",
    "a= str(input(\"Enter the string\"))\n",
    "b= int(input(\"Enter the number\"))\n",
    "c= (a+'\\n')*b\n",
    "print(c)"
   ]
  },
  {
   "cell_type": "code",
   "execution_count": 2,
   "metadata": {},
   "outputs": [
    {
     "name": "stdout",
     "output_type": "stream",
     "text": [
      "gaurav\n",
      "None\n"
     ]
    }
   ],
   "source": [
    "#8\n",
    "res= print('gaurav')\n",
    "print (res)"
   ]
  },
  {
   "cell_type": "code",
   "execution_count": 3,
   "metadata": {},
   "outputs": [
    {
     "name": "stdout",
     "output_type": "stream",
     "text": [
      "<class 'int'>\n"
     ]
    }
   ],
   "source": [
    "#9\n",
    "res = len(\"tuteur.py@gmail.com\")\n",
    "print (type(res))"
   ]
  },
  {
   "cell_type": "code",
   "execution_count": 3,
   "metadata": {},
   "outputs": [
    {
     "name": "stdout",
     "output_type": "stream",
     "text": [
      "<class 'str'>\n",
      "26\n"
     ]
    }
   ],
   "source": [
    "#10\n",
    "s1='gaurav'\n",
    "s2='tuteur.py@gmail.com'\n",
    "s3= s1+'\\n'+s2\n",
    "print (type(s3))\n",
    "print (len(s3))"
   ]
  },
  {
   "cell_type": "code",
   "execution_count": 8,
   "metadata": {},
   "outputs": [
    {
     "name": "stdout",
     "output_type": "stream",
     "text": [
      "['__doc__', '__loader__', '__name__', '__package__', '__spec__', 'acos', 'acosh', 'asin', 'asinh', 'atan', 'atan2', 'atanh', 'ceil', 'comb', 'copysign', 'cos', 'cosh', 'degrees', 'dist', 'e', 'erf', 'erfc', 'exp', 'expm1', 'fabs', 'factorial', 'floor', 'fmod', 'frexp', 'fsum', 'gamma', 'gcd', 'hypot', 'inf', 'isclose', 'isfinite', 'isinf', 'isnan', 'isqrt', 'ldexp', 'lgamma', 'log', 'log10', 'log1p', 'log2', 'modf', 'nan', 'perm', 'pi', 'pow', 'prod', 'radians', 'remainder', 'sin', 'sinh', 'sqrt', 'tan', 'tanh', 'tau', 'trunc']\n"
     ]
    }
   ],
   "source": [
    " #11\n",
    "import math\n",
    " print(dir(math))"
   ]
  },
  {
   "cell_type": "code",
   "execution_count": 13,
   "metadata": {},
   "outputs": [
    {
     "name": "stdout",
     "output_type": "stream",
     "text": [
      "Enter the number64\n",
      "8.0\n"
     ]
    }
   ],
   "source": [
    "#12\n",
    "import math\n",
    "a= int(input(\"Enter the number\"))\n",
    "b= (math.sqrt(a))\n",
    "print(b)"
   ]
  },
  {
   "cell_type": "code",
   "execution_count": 22,
   "metadata": {},
   "outputs": [
    {
     "name": "stdout",
     "output_type": "stream",
     "text": [
      "Enter 1st value 2\n",
      "Enter 2nd value 3\n",
      "Enter 3rd value 4\n",
      "Enter 4th value 5\n",
      "Average of the number is\n",
      "7.0\n"
     ]
    }
   ],
   "source": [
    "#14\n",
    "a=int(input(\"Enter 1st value \" ))\n",
    "b=int(input(\"Enter 2nd value \"))\n",
    "c=int(input(\"Enter 3rd value \"))\n",
    "d=int(input(\"Enter 4th value \"))\n",
    "\n",
    "Mean= (a+b+c+d)/2\n",
    "\n",
    "print(\"Average of the number is\")\n",
    "print(Mean)"
   ]
  },
  {
   "cell_type": "code",
   "execution_count": 32,
   "metadata": {},
   "outputs": [
    {
     "name": "stdout",
     "output_type": "stream",
     "text": [
      "Help on built-in function abs in module builtins:\n",
      "\n",
      "abs(x, /)\n",
      "    Return the absolute value of the argument.\n",
      "\n",
      "199\n"
     ]
    }
   ],
   "source": [
    "#15\n",
    "help(abs)\n",
    "#Returns the absolute value. \n",
    "\n",
    "a= -199\n",
    "print (abs(a))"
   ]
  },
  {
   "cell_type": "code",
   "execution_count": 26,
   "metadata": {},
   "outputs": [
    {
     "name": "stdout",
     "output_type": "stream",
     "text": [
      "__main__\n"
     ]
    }
   ],
   "source": [
    "#16 #17\n",
    "print(__name__) #SAme Output"
   ]
  },
  {
   "cell_type": "code",
   "execution_count": 29,
   "metadata": {},
   "outputs": [
    {
     "ename": "ValueError",
     "evalue": "invalid literal for int() with base 10: '__main__'",
     "output_type": "error",
     "traceback": [
      "\u001b[1;31m---------------------------------------------------------------------------\u001b[0m",
      "\u001b[1;31mValueError\u001b[0m                                Traceback (most recent call last)",
      "\u001b[1;32m<ipython-input-29-adc9dbb40643>\u001b[0m in \u001b[0;36m<module>\u001b[1;34m\u001b[0m\n\u001b[1;32m----> 1\u001b[1;33m \u001b[0mdir\u001b[0m\u001b[1;33m(\u001b[0m\u001b[0mint\u001b[0m\u001b[1;33m(\u001b[0m\u001b[0m__name__\u001b[0m\u001b[1;33m)\u001b[0m\u001b[1;33m)\u001b[0m\u001b[1;33m\u001b[0m\u001b[1;33m\u001b[0m\u001b[0m\n\u001b[0m",
      "\u001b[1;31mValueError\u001b[0m: invalid literal for int() with base 10: '__main__'"
     ]
    }
   ],
   "source": [
    "#18\n",
    "dir(int(__name__))\n",
    "#no"
   ]
  },
  {
   "cell_type": "code",
   "execution_count": 30,
   "metadata": {
    "scrolled": true
   },
   "outputs": [
    {
     "data": {
      "text/plain": [
       "['__abs__',\n",
       " '__add__',\n",
       " '__and__',\n",
       " '__bool__',\n",
       " '__ceil__',\n",
       " '__class__',\n",
       " '__delattr__',\n",
       " '__dir__',\n",
       " '__divmod__',\n",
       " '__doc__',\n",
       " '__eq__',\n",
       " '__float__',\n",
       " '__floor__',\n",
       " '__floordiv__',\n",
       " '__format__',\n",
       " '__ge__',\n",
       " '__getattribute__',\n",
       " '__getnewargs__',\n",
       " '__gt__',\n",
       " '__hash__',\n",
       " '__index__',\n",
       " '__init__',\n",
       " '__init_subclass__',\n",
       " '__int__',\n",
       " '__invert__',\n",
       " '__le__',\n",
       " '__lshift__',\n",
       " '__lt__',\n",
       " '__mod__',\n",
       " '__mul__',\n",
       " '__ne__',\n",
       " '__neg__',\n",
       " '__new__',\n",
       " '__or__',\n",
       " '__pos__',\n",
       " '__pow__',\n",
       " '__radd__',\n",
       " '__rand__',\n",
       " '__rdivmod__',\n",
       " '__reduce__',\n",
       " '__reduce_ex__',\n",
       " '__repr__',\n",
       " '__rfloordiv__',\n",
       " '__rlshift__',\n",
       " '__rmod__',\n",
       " '__rmul__',\n",
       " '__ror__',\n",
       " '__round__',\n",
       " '__rpow__',\n",
       " '__rrshift__',\n",
       " '__rshift__',\n",
       " '__rsub__',\n",
       " '__rtruediv__',\n",
       " '__rxor__',\n",
       " '__setattr__',\n",
       " '__sizeof__',\n",
       " '__str__',\n",
       " '__sub__',\n",
       " '__subclasshook__',\n",
       " '__truediv__',\n",
       " '__trunc__',\n",
       " '__xor__',\n",
       " 'as_integer_ratio',\n",
       " 'bit_length',\n",
       " 'conjugate',\n",
       " 'denominator',\n",
       " 'from_bytes',\n",
       " 'imag',\n",
       " 'numerator',\n",
       " 'real',\n",
       " 'to_bytes']"
      ]
     },
     "execution_count": 30,
     "metadata": {},
     "output_type": "execute_result"
    }
   ],
   "source": [
    "#18\n",
    "dir(int)"
   ]
  },
  {
   "cell_type": "code",
   "execution_count": 1,
   "metadata": {},
   "outputs": [
    {
     "name": "stdout",
     "output_type": "stream",
     "text": [
      "__main__\n"
     ]
    }
   ],
   "source": [
    "#19\n",
    "print (__name__)"
   ]
  },
  {
   "cell_type": "code",
   "execution_count": 2,
   "metadata": {},
   "outputs": [
    {
     "name": "stdout",
     "output_type": "stream",
     "text": [
      "builtins\n",
      "int\n"
     ]
    }
   ],
   "source": [
    "#19\n",
    "print (__builtins__.__name__)\n",
    "print(int.__name__)"
   ]
  }
 ],
 "metadata": {
  "kernelspec": {
   "display_name": "Python 3",
   "language": "python",
   "name": "python3"
  },
  "language_info": {
   "codemirror_mode": {
    "name": "ipython",
    "version": 3
   },
   "file_extension": ".py",
   "mimetype": "text/x-python",
   "name": "python",
   "nbconvert_exporter": "python",
   "pygments_lexer": "ipython3",
   "version": "3.8.3"
  }
 },
 "nbformat": 4,
 "nbformat_minor": 4
}
