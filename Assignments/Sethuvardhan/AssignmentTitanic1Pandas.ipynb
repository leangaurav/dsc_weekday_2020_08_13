{
 "cells": [
  {
   "cell_type": "markdown",
   "metadata": {},
   "source": [
    "|Variable|Definition|Key|\n",
    "|---|---|---|\n",
    "|survival|Survival|0 = No, 1 = Yes|\n",
    "|pclass|Ticket class|1 = 1st, 2 = 2nd, 3 = 3rd|\n",
    "|gender|gender ||\n",
    "|Age |Age in years| |\n",
    "|sibsp |number of siblings / spouses aboard|\t|\n",
    "|parch |number of parents / children aboard| |\n",
    "|ticket|Ticket number ||\n",
    "|fare | fare| \t|\n",
    "|cabin |Cabin number|\t|\n",
    "|embarked|Port of Embarkation|C = Cherbourg, Q = Queenstown, S = Southampton|\n",
    "|boat | Lifeboat||\n",
    "|body | Body Identification Number||\n",
    "|home.dest| Home/destination||"
   ]
  },
  {
   "cell_type": "markdown",
   "metadata": {},
   "source": []
  },
  {
   "cell_type": "markdown",
   "metadata": {},
   "source": [
    "- Read data and describe it\n",
    "- Find columns with missingdata\n",
    "- Print shape of dataset\n",
    "- drop columns with more than 25% missing data\n",
    "- drop columns having independent values(which do not affect the survival rate).\n",
    "\n",
    "\n",
    "- check data types of all columns\n",
    "- convert price to numeric\n",
    "- find columns still having missing/na values and also count of missing data\n",
    "- fill na with mean for fare and age column column.\n",
    "- drop na values for embarked column.\n",
    "- dump the dataframe to a csv file 'titanic_filtered.csv'.\n",
    "\n",
    "\n",
    "- for surviced column replace 0 with D and 1 with A\n",
    "- find the frequency of different values in survived column\n",
    "- group by gender and survived and see the counts in each category\n",
    "- find different pclass and no of people in each class\n",
    "\n",
    "- find top 5 people with highest values of age. Count no of male and females in the top 5\n",
    "- find max age male and female who survived\n",
    "- get average age by gender\n",
    "- get average age by people survived vs not-survived"
   ]
  },
  {
   "cell_type": "code",
   "execution_count": 31,
   "metadata": {},
   "outputs": [],
   "source": [
    "import pandas as pd\n",
    "import numpy as np"
   ]
  },
  {
   "cell_type": "code",
   "execution_count": 32,
   "metadata": {
    "scrolled": true
   },
   "outputs": [
    {
     "name": "stdout",
     "output_type": "stream",
     "text": [
      "        Unnamed: 0       pclass     survived          age        sibsp  \\\n",
      "count  1309.000000  1309.000000  1309.000000  1046.000000  1309.000000   \n",
      "mean    654.000000     2.294882     0.381971    29.881135     0.498854   \n",
      "std     378.020061     0.837836     0.486055    14.413500     1.041658   \n",
      "min       0.000000     1.000000     0.000000     0.166700     0.000000   \n",
      "25%     327.000000     2.000000     0.000000    21.000000     0.000000   \n",
      "50%     654.000000     3.000000     0.000000    28.000000     0.000000   \n",
      "75%     981.000000     3.000000     1.000000    39.000000     1.000000   \n",
      "max    1308.000000     3.000000     1.000000    80.000000     8.000000   \n",
      "\n",
      "             parch        body  \n",
      "count  1309.000000  121.000000  \n",
      "mean      0.385027  160.809917  \n",
      "std       0.865560   97.696922  \n",
      "min       0.000000    1.000000  \n",
      "25%       0.000000   72.000000  \n",
      "50%       0.000000  155.000000  \n",
      "75%       0.000000  256.000000  \n",
      "max       9.000000  328.000000  \n"
     ]
    }
   ],
   "source": [
    "#read data from csv file\n",
    "data = pd.read_csv('titanic_dataset.csv')\n",
    "print(data.describe())"
   ]
  },
  {
   "cell_type": "code",
   "execution_count": 33,
   "metadata": {},
   "outputs": [
    {
     "name": "stdout",
     "output_type": "stream",
     "text": [
      "Index(['age', 'fare', 'cabin', 'embarked', 'boat', 'body', 'home.dest'], dtype='object')\n",
      "Unnamed: 0       0\n",
      "pclass           0\n",
      "survived         0\n",
      "name             0\n",
      "gender           0\n",
      "age            263\n",
      "sibsp            0\n",
      "parch            0\n",
      "ticket           0\n",
      "fare             1\n",
      "cabin         1014\n",
      "embarked         2\n",
      "boat           823\n",
      "body          1188\n",
      "home.dest      564\n",
      "dtype: int64\n"
     ]
    }
   ],
   "source": [
    "#Find columns with missingdata\n",
    "print(data.columns[data.isna().any()])\n",
    "print(data.isna().sum())"
   ]
  },
  {
   "cell_type": "code",
   "execution_count": 34,
   "metadata": {},
   "outputs": [
    {
     "name": "stdout",
     "output_type": "stream",
     "text": [
      "(1309, 15)\n"
     ]
    }
   ],
   "source": [
    "#Print shape of dataset\n",
    "print(data.shape)"
   ]
  },
  {
   "cell_type": "code",
   "execution_count": 35,
   "metadata": {},
   "outputs": [
    {
     "name": "stdout",
     "output_type": "stream",
     "text": [
      "Index(['Unnamed: 0', 'pclass', 'survived', 'name', 'gender', 'age', 'sibsp',\n",
      "       'parch', 'ticket', 'fare', 'embarked'],\n",
      "      dtype='object')\n"
     ]
    }
   ],
   "source": [
    "#drop columns with more than 25% missing data\n",
    "to_drop = list(data.columns[data.isna().sum()>0.25*data.shape[0]])\n",
    "for col in to_drop:\n",
    "    data.drop(col,inplace=True,axis=1)\n",
    "    \n",
    "print(data.columns)"
   ]
  },
  {
   "cell_type": "code",
   "execution_count": 36,
   "metadata": {},
   "outputs": [
    {
     "data": {
      "text/plain": [
       "Index(['Unnamed: 0', 'pclass', 'survived', 'gender', 'age', 'sibsp', 'parch',\n",
       "       'ticket', 'fare', 'embarked'],\n",
       "      dtype='object')"
      ]
     },
     "execution_count": 36,
     "metadata": {},
     "output_type": "execute_result"
    }
   ],
   "source": [
    "#drop columns having independent values(which do not affect the survival rate).\n",
    "# name does not have affect so dropping name\n",
    "data.drop('name',inplace=True,axis=1)\n",
    "data.columns"
   ]
  },
  {
   "cell_type": "code",
   "execution_count": 37,
   "metadata": {},
   "outputs": [
    {
     "name": "stdout",
     "output_type": "stream",
     "text": [
      "Unnamed: 0      int64\n",
      "pclass          int64\n",
      "survived        int64\n",
      "gender         object\n",
      "age           float64\n",
      "sibsp           int64\n",
      "parch           int64\n",
      "ticket         object\n",
      "fare           object\n",
      "embarked       object\n",
      "dtype: object\n"
     ]
    }
   ],
   "source": [
    "#check data types of all columns\n",
    "print(data.dtypes)"
   ]
  },
  {
   "cell_type": "code",
   "execution_count": 38,
   "metadata": {},
   "outputs": [
    {
     "name": "stdout",
     "output_type": "stream",
     "text": [
      "1\n",
      "\n",
      "   Unnamed: 0  pclass  survived  gender      age  sibsp  parch  ticket  \\\n",
      "0           0       1         1  female  29.0000      0      0   24160   \n",
      "1           1       1         1    male   0.9167      1      2  113781   \n",
      "\n",
      "      fare embarked  \n",
      "0  211.34         S  \n",
      "1  151.55         S  \n",
      "\n",
      "Unnamed: 0      int64\n",
      "pclass          int64\n",
      "survived        int64\n",
      "gender         object\n",
      "age           float64\n",
      "sibsp           int64\n",
      "parch           int64\n",
      "ticket         object\n",
      "fare          float64\n",
      "embarked       object\n",
      "dtype: object\n"
     ]
    }
   ],
   "source": [
    "#convert price to numeric\n",
    "# first remove $ symbol then convert type\n",
    "\n",
    "print(data.fare.isna().sum())\n",
    "data['fare'] = data.fare.str.replace('$','')\n",
    "print()\n",
    "print(data.head(2))\n",
    "print()\n",
    "data.fare = pd.to_numeric(data.fare)\n",
    "print(data.dtypes)\n"
   ]
  },
  {
   "cell_type": "code",
   "execution_count": 39,
   "metadata": {},
   "outputs": [
    {
     "name": "stdout",
     "output_type": "stream",
     "text": [
      "age         263\n",
      "fare          1\n",
      "embarked      2\n",
      "dtype: int64\n"
     ]
    }
   ],
   "source": [
    "# find columns still having missing/na values and also count of missing data\n",
    "print(data[data.columns[data.isna().any()]].isna().sum())"
   ]
  },
  {
   "cell_type": "code",
   "execution_count": 40,
   "metadata": {},
   "outputs": [
    {
     "name": "stdout",
     "output_type": "stream",
     "text": [
      "Unnamed: 0    0\n",
      "pclass        0\n",
      "survived      0\n",
      "gender        0\n",
      "age           0\n",
      "sibsp         0\n",
      "parch         0\n",
      "ticket        0\n",
      "fare          0\n",
      "embarked      2\n",
      "dtype: int64\n"
     ]
    }
   ],
   "source": [
    "# fill na with mean for fare and age column column.\n",
    "data.fillna(value={'age':np.mean,'fare':np.mean},axis=0,inplace=True)\n",
    "print(data.isna().sum())"
   ]
  },
  {
   "cell_type": "code",
   "execution_count": 41,
   "metadata": {},
   "outputs": [
    {
     "name": "stdout",
     "output_type": "stream",
     "text": [
      "Unnamed: 0    0\n",
      "pclass        0\n",
      "survived      0\n",
      "gender        0\n",
      "age           0\n",
      "sibsp         0\n",
      "parch         0\n",
      "ticket        0\n",
      "fare          0\n",
      "embarked      0\n",
      "dtype: int64\n",
      "(1307, 10)\n"
     ]
    }
   ],
   "source": [
    "# drop na values for embarked column.\n",
    "data.dropna(inplace=True)\n",
    "print(data.isna().sum())\n",
    "print(data.shape)"
   ]
  },
  {
   "cell_type": "code",
   "execution_count": 42,
   "metadata": {},
   "outputs": [],
   "source": [
    "# dump the dataframe to a csv file 'titanic_filtered.csv'.\n",
    "data.to_csv('titanic_filtered.csv')"
   ]
  },
  {
   "cell_type": "code",
   "execution_count": 43,
   "metadata": {},
   "outputs": [
    {
     "name": "stdout",
     "output_type": "stream",
     "text": [
      "   Unnamed: 0  pclass survived  gender     age  sibsp  parch  ticket    fare  \\\n",
      "0           0       1        A  female      29      0      0   24160  211.34   \n",
      "1           1       1        A    male  0.9167      1      2  113781  151.55   \n",
      "2           2       1        D  female       2      1      2  113781  151.55   \n",
      "\n",
      "  embarked  \n",
      "0        S  \n",
      "1        S  \n",
      "2        S  \n"
     ]
    }
   ],
   "source": [
    "#for survived column replace 0 with D and 1 with A\n",
    "\n",
    "data.survived = data.survived.astype('str')\n",
    "r = data.survived.str.replace('0','D')\n",
    "data.survived = r\n",
    "\n",
    "r = data.survived.str.replace('1','A')\n",
    "data.survived = r\n",
    "\n",
    "print(data.head(3))\n"
   ]
  },
  {
   "cell_type": "code",
   "execution_count": 44,
   "metadata": {},
   "outputs": [
    {
     "name": "stdout",
     "output_type": "stream",
     "text": [
      "D    809\n",
      "A    498\n",
      "Name: survived, dtype: int64\n",
      "\n",
      "survived\n",
      "A    498\n",
      "D    809\n",
      "dtype: int64\n"
     ]
    }
   ],
   "source": [
    "# find the frequency of different values in survived column\n",
    "print(data['survived'].value_counts())\n",
    "print()\n",
    "print(data.groupby('survived').size())"
   ]
  },
  {
   "cell_type": "code",
   "execution_count": 45,
   "metadata": {},
   "outputs": [
    {
     "data": {
      "text/plain": [
       "gender  survived\n",
       "female  A           337\n",
       "        D           127\n",
       "male    A           161\n",
       "        D           682\n",
       "dtype: int64"
      ]
     },
     "execution_count": 45,
     "metadata": {},
     "output_type": "execute_result"
    }
   ],
   "source": [
    "#group by gender and survived and see the counts in each category\n",
    "data.groupby(['gender','survived']).size()"
   ]
  },
  {
   "cell_type": "code",
   "execution_count": 46,
   "metadata": {},
   "outputs": [
    {
     "name": "stdout",
     "output_type": "stream",
     "text": [
      "3    709\n",
      "1    321\n",
      "2    277\n",
      "Name: pclass, dtype: int64\n",
      "\n",
      "pclass\n",
      "1    321\n",
      "2    277\n",
      "3    709\n",
      "dtype: int64\n"
     ]
    }
   ],
   "source": [
    "#find different pclass and no of people in each class\n",
    "print(data['pclass'].value_counts())\n",
    "print()\n",
    "print(data.groupby('pclass').size())"
   ]
  },
  {
   "cell_type": "code",
   "execution_count": 47,
   "metadata": {},
   "outputs": [
    {
     "name": "stdout",
     "output_type": "stream",
     "text": [
      "Unnamed: 0      int64\n",
      "pclass          int64\n",
      "survived       object\n",
      "gender         object\n",
      "age           float64\n",
      "sibsp           int64\n",
      "parch           int64\n",
      "ticket         object\n",
      "fare           object\n",
      "embarked       object\n",
      "dtype: object\n",
      "\n",
      "      Unnamed: 0  pclass survived  gender   age  sibsp  parch    ticket  \\\n",
      "14            14       1        A    male  80.0      0      0     27042   \n",
      "61            61       1        A  female  76.0      1      0     19877   \n",
      "1235        1235       3        D    male  74.0      0      0    347060   \n",
      "135          135       1        D    male  71.0      0      0  PC 17754   \n",
      "9              9       1        D    male  71.0      0      0  PC 17609   \n",
      "\n",
      "       fare embarked  \n",
      "14       30        S  \n",
      "61    78.85        S  \n",
      "1235   7.78        S  \n",
      "135   34.65        C  \n",
      "9      49.5        C  \n",
      "\n",
      "gender\n",
      "female    1\n",
      "male      4\n",
      "dtype: int64\n"
     ]
    }
   ],
   "source": [
    "#find top 5 people with highest values of age. Count no of male and females in the top 5\n",
    "data['age'] = pd.to_numeric(data.age,errors='coerce')\n",
    "print(data.dtypes)\n",
    "print()\n",
    "print(data.sort_values('age',ascending=False).head(5))\n",
    "print()\n",
    "print(data.sort_values('age',ascending=False).head(5).groupby('gender').size())"
   ]
  },
  {
   "cell_type": "code",
   "execution_count": 48,
   "metadata": {},
   "outputs": [
    {
     "name": "stdout",
     "output_type": "stream",
     "text": [
      "gender\n",
      "female    76.0\n",
      "male      80.0\n",
      "Name: age, dtype: float64\n"
     ]
    }
   ],
   "source": [
    "#find max age male and female who survived A\n",
    "print(data.groupby('gender').age.max())\n"
   ]
  },
  {
   "cell_type": "code",
   "execution_count": 49,
   "metadata": {},
   "outputs": [
    {
     "name": "stdout",
     "output_type": "stream",
     "text": [
      "gender\n",
      "female    28.576641\n",
      "male      30.585233\n",
      "Name: age, dtype: float64\n"
     ]
    }
   ],
   "source": [
    "# get average age by gender\n",
    "print(data.groupby('gender').age.mean())"
   ]
  },
  {
   "cell_type": "code",
   "execution_count": 50,
   "metadata": {},
   "outputs": [
    {
     "name": "stdout",
     "output_type": "stream",
     "text": [
      "survived\n",
      "A    28.819020\n",
      "D    30.545369\n",
      "Name: age, dtype: float64\n"
     ]
    }
   ],
   "source": [
    "#get average age by people survived vs not-survived\n",
    "print(data.groupby('survived').age.mean())"
   ]
  },
  {
   "cell_type": "code",
   "execution_count": null,
   "metadata": {},
   "outputs": [],
   "source": []
  }
 ],
 "metadata": {
  "kernelspec": {
   "display_name": "Python 3",
   "language": "python",
   "name": "python3"
  },
  "language_info": {
   "codemirror_mode": {
    "name": "ipython",
    "version": 3
   },
   "file_extension": ".py",
   "mimetype": "text/x-python",
   "name": "python",
   "nbconvert_exporter": "python",
   "pygments_lexer": "ipython3",
   "version": "3.7.0"
  }
 },
 "nbformat": 4,
 "nbformat_minor": 2
}
