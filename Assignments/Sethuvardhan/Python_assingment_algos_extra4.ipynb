{
 "cells": [
  {
   "cell_type": "markdown",
   "metadata": {},
   "source": [
    "## WAF"
   ]
  },
  {
   "cell_type": "markdown",
   "metadata": {},
   "source": [
    "## #1 WAF: reverse_list() that takes a list as argument and reverses the elements of the list in place\n",
    "(use indexing operations, not any function or slicing)\n",
    "Logic: if l = [1,2,3,4,5] ; result = [5,4,3,2,1]\n",
    "1 2 3 4 5 # string\n",
    "0 1 2 3 4 # indexes\n",
    "start index = 0, end index = 4; swap the elements at index 0,4\n",
    " [5,2,3,4,1]\n",
    "start index = 1, end index = 3; swap the elements at index 1,3\n",
    " [5,4,3,2,1]\n",
    "Index start index 2 is not less than end index 2. Hence no need to go forward "
   ]
  },
  {
   "cell_type": "code",
   "execution_count": 5,
   "metadata": {},
   "outputs": [
    {
     "name": "stdout",
     "output_type": "stream",
     "text": [
      "[8, 0, 9, 3, 2, 1]\n",
      "[8, 0, 9, 3, 2, 1]\n",
      "[1, 2, 3, 9, 0, 8]\n",
      "[8, 0, 9, 3, 2, 1]\n"
     ]
    }
   ],
   "source": [
    "def reverse_list(lst):\n",
    "    for i in range(len(lst)//2):\n",
    "        lst[i],lst[len(lst)-i-1] = lst[len(lst)-i-1],lst[i]\n",
    "    print(lst)\n",
    "\n",
    "lt = [1,2,3,9,0,8]\n",
    "reverse_list(lt)\n",
    "print(lt)\n",
    "reverse_list(lt.copy())\n",
    "print(lt)"
   ]
  },
  {
   "cell_type": "markdown",
   "metadata": {},
   "source": [
    "## #2 WAF: count_even_odd() that counts and returns how many numbers are even and how many are odd in a list of numbers passed as argument."
   ]
  },
  {
   "cell_type": "code",
   "execution_count": 8,
   "metadata": {},
   "outputs": [
    {
     "name": "stdout",
     "output_type": "stream",
     "text": [
      "Odd number count : 4\n",
      "Even number count : 3\n"
     ]
    }
   ],
   "source": [
    "def ct_even_odd(lst):\n",
    "    odd_ct = 0\n",
    "    even_ct = 0\n",
    "    for ele in lst:\n",
    "        if ele%2:\n",
    "            even_ct += 1\n",
    "        else:\n",
    "            odd_ct += 1\n",
    "    return odd_ct,even_ct\n",
    "\n",
    "lst = [1,2,4,5,6,0,99]\n",
    "odd_ct,even_ct = ct_even_odd(lst)\n",
    "print(\"Odd number count : {}\".format(odd_ct))\n",
    "print(\"Even number count : {}\".format(even_ct))\n",
    "\n",
    "\n",
    "    "
   ]
  },
  {
   "cell_type": "markdown",
   "metadata": {},
   "source": [
    "## #3 WAF: maximum() to return the largest number in a list of numbers (do not use max function).\n",
    "Function takes a list or tuple of numbers as argument."
   ]
  },
  {
   "cell_type": "code",
   "execution_count": 11,
   "metadata": {},
   "outputs": [
    {
     "name": "stdout",
     "output_type": "stream",
     "text": [
      "665\n",
      "900\n"
     ]
    }
   ],
   "source": [
    "from functools import reduce\n",
    "def maximum(seq):\n",
    "    return reduce(lambda x,y:x if x>y else y,seq)\n",
    "\n",
    "print(maximum([1,665,90]))\n",
    "print(maximum((1,665,900)))"
   ]
  },
  {
   "cell_type": "markdown",
   "metadata": {},
   "source": [
    "## #4 WAF: second_maximum() Create a new version of above code to return the second largest number. "
   ]
  },
  {
   "cell_type": "code",
   "execution_count": 15,
   "metadata": {},
   "outputs": [
    {
     "name": "stdout",
     "output_type": "stream",
     "text": [
      "44\n"
     ]
    }
   ],
   "source": [
    "def second_maximum(seq):\n",
    "    lar = reduce(lambda x,y:x if x>y else y,seq)\n",
    "    sec_lar = seq[0]\n",
    "    for x in seq:\n",
    "        if x>sec_lar and x!=lar:\n",
    "            sec_lar = x\n",
    "\n",
    "    print(sec_lar)\n",
    "\n",
    "second_maximum([1,3,44,99])\n",
    "    \n",
    "    \n",
    "    \n",
    "    "
   ]
  },
  {
   "cell_type": "markdown",
   "metadata": {},
   "source": [
    "## #5 WAF: mean() that returns the mean of list of numbers passed to the function as argument."
   ]
  },
  {
   "cell_type": "code",
   "execution_count": 16,
   "metadata": {},
   "outputs": [
    {
     "data": {
      "text/plain": [
       "3.0"
      ]
     },
     "execution_count": 16,
     "metadata": {},
     "output_type": "execute_result"
    }
   ],
   "source": [
    "def mean(lst):\n",
    "    sm = 0 \n",
    "    for lt in lst:\n",
    "        sm += lt\n",
    "    return sm/len(lst)\n",
    "\n",
    "mean([1,2,3,4,5])"
   ]
  },
  {
   "cell_type": "markdown",
   "metadata": {},
   "source": [
    "## #6 WAF: find_in_range() that takes a three arguments:\n",
    " a list of numbers, start, end\n",
    "The function returns a list of numbers from the original list, which lie between start and end.\n",
    "Ex: find_in_range([3,10, 5, 8, 2, 7], 5, 9)\n",
    " List of numbers = [3,10, 5, 8, 2, 7]\n",
    " start = 5\n",
    "end = 9\n",
    " list returned should be [5, 8,2, 7] "
   ]
  },
  {
   "cell_type": "code",
   "execution_count": 23,
   "metadata": {},
   "outputs": [
    {
     "name": "stdout",
     "output_type": "stream",
     "text": [
      "[5, 8, 2, 7]\n"
     ]
    }
   ],
   "source": [
    "def find_in_range(lst,start,end):\n",
    "    ls = []\n",
    "    for i in range(0 if start not in lst else lst.index(start),len(lst) if end not in lst else lst.index(end)):\n",
    "        ls.append(lst[i])\n",
    "    return ls\n",
    "\n",
    "print(find_in_range([3,10,5,8,2,7],5,9))\n",
    "        "
   ]
  }
 ],
 "metadata": {
  "kernelspec": {
   "display_name": "Python 3",
   "language": "python",
   "name": "python3"
  },
  "language_info": {
   "codemirror_mode": {
    "name": "ipython",
    "version": 3
   },
   "file_extension": ".py",
   "mimetype": "text/x-python",
   "name": "python",
   "nbconvert_exporter": "python",
   "pygments_lexer": "ipython3",
   "version": "3.7.0"
  }
 },
 "nbformat": 4,
 "nbformat_minor": 2
}
