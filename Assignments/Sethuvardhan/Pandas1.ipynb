{
 "cells": [
  {
   "cell_type": "code",
   "execution_count": 1,
   "metadata": {},
   "outputs": [],
   "source": [
    "# all imports go at the top, even though python is a very open language\n",
    "import pandas as pd\n",
    "import numpy as np"
   ]
  },
  {
   "cell_type": "code",
   "execution_count": 55,
   "metadata": {},
   "outputs": [
    {
     "name": "stdout",
     "output_type": "stream",
     "text": [
      "Help on function read_sql in module pandas.io.sql:\n",
      "\n",
      "read_sql(sql, con, index_col=None, coerce_float=True, params=None, parse_dates=None, columns=None, chunksize=None)\n",
      "    Read SQL query or database table into a DataFrame.\n",
      "    \n",
      "    This function is a convenience wrapper around ``read_sql_table`` and\n",
      "    ``read_sql_query`` (for backward compatibility). It will delegate\n",
      "    to the specific function depending on the provided input. A SQL query\n",
      "    will be routed to ``read_sql_query``, while a database table name will\n",
      "    be routed to ``read_sql_table``. Note that the delegated function might\n",
      "    have more specific notes about their functionality not listed here.\n",
      "    \n",
      "    Parameters\n",
      "    ----------\n",
      "    sql : string or SQLAlchemy Selectable (select or text object)\n",
      "        SQL query to be executed or a table name.\n",
      "    con : SQLAlchemy connectable (engine/connection) or database string URI\n",
      "        or DBAPI2 connection (fallback mode)\n",
      "    \n",
      "        Using SQLAlchemy makes it possible to use any DB supported by that\n",
      "        library. If a DBAPI2 object, only sqlite3 is supported.\n",
      "    index_col : string or list of strings, optional, default: None\n",
      "        Column(s) to set as index(MultiIndex).\n",
      "    coerce_float : boolean, default True\n",
      "        Attempts to convert values of non-string, non-numeric objects (like\n",
      "        decimal.Decimal) to floating point, useful for SQL result sets.\n",
      "    params : list, tuple or dict, optional, default: None\n",
      "        List of parameters to pass to execute method.  The syntax used\n",
      "        to pass parameters is database driver dependent. Check your\n",
      "        database driver documentation for which of the five syntax styles,\n",
      "        described in PEP 249's paramstyle, is supported.\n",
      "        Eg. for psycopg2, uses %(name)s so use params={'name' : 'value'}\n",
      "    parse_dates : list or dict, default: None\n",
      "        - List of column names to parse as dates.\n",
      "        - Dict of ``{column_name: format string}`` where format string is\n",
      "          strftime compatible in case of parsing string times, or is one of\n",
      "          (D, s, ns, ms, us) in case of parsing integer timestamps.\n",
      "        - Dict of ``{column_name: arg dict}``, where the arg dict corresponds\n",
      "          to the keyword arguments of :func:`pandas.to_datetime`\n",
      "          Especially useful with databases without native Datetime support,\n",
      "          such as SQLite.\n",
      "    columns : list, default: None\n",
      "        List of column names to select from SQL table (only used when reading\n",
      "        a table).\n",
      "    chunksize : int, default None\n",
      "        If specified, return an iterator where `chunksize` is the\n",
      "        number of rows to include in each chunk.\n",
      "    \n",
      "    Returns\n",
      "    -------\n",
      "    DataFrame\n",
      "    \n",
      "    See also\n",
      "    --------\n",
      "    read_sql_table : Read SQL database table into a DataFrame.\n",
      "    read_sql_query : Read SQL query into a DataFrame.\n",
      "\n"
     ]
    }
   ],
   "source": [
    "help(pd.read_sql)"
   ]
  },
  {
   "cell_type": "code",
   "execution_count": 13,
   "metadata": {},
   "outputs": [
    {
     "name": "stdout",
     "output_type": "stream",
     "text": [
      "['Categorical', 'CategoricalIndex', 'DataFrame', 'DateOffset', 'DatetimeIndex', 'ExcelFile', 'ExcelWriter', 'Expr', 'Float64Index', 'Grouper', 'HDFStore', 'Index', 'IndexSlice', 'Int64Index', 'Interval', 'IntervalIndex', 'MultiIndex', 'NaT', 'Panel', 'Period', 'PeriodIndex', 'RangeIndex', 'Series', 'SparseArray', 'SparseDataFrame', 'SparseSeries', 'Term', 'TimeGrouper', 'Timedelta', 'TimedeltaIndex', 'Timestamp', 'UInt64Index', 'WidePanel', '_DeprecatedModule', '__builtins__', '__cached__', '__doc__', '__docformat__', '__file__', '__loader__', '__name__', '__package__', '__path__', '__spec__', '__version__', '_hashtable', '_lib', '_libs', '_np_version_under1p10', '_np_version_under1p11', '_np_version_under1p12', '_np_version_under1p13', '_np_version_under1p14', '_np_version_under1p15', '_tslib', '_version', 'api', 'bdate_range', 'compat', 'concat', 'core', 'crosstab', 'cut', 'date_range', 'datetime', 'datetools', 'describe_option', 'errors', 'eval', 'factorize', 'get_dummies', 'get_option', 'get_store', 'groupby', 'infer_freq', 'interval_range', 'io', 'isna', 'isnull', 'json', 'lib', 'lreshape', 'match', 'melt', 'merge', 'merge_asof', 'merge_ordered', 'notna', 'notnull', 'np', 'offsets', 'option_context', 'options', 'pandas', 'parser', 'period_range', 'pivot', 'pivot_table', 'plot_params', 'plotting', 'pnow', 'qcut', 'read_clipboard', 'read_csv', 'read_excel', 'read_feather', 'read_fwf', 'read_gbq', 'read_hdf', 'read_html', 'read_json', 'read_msgpack', 'read_parquet', 'read_pickle', 'read_sas', 'read_sql', 'read_sql_query', 'read_sql_table', 'read_stata', 'read_table', 'reset_option', 'scatter_matrix', 'set_eng_float_format', 'set_option', 'show_versions', 'test', 'testing', 'timedelta_range', 'to_datetime', 'to_msgpack', 'to_numeric', 'to_pickle', 'to_timedelta', 'tools', 'tseries', 'tslib', 'unique', 'util', 'value_counts', 'wide_to_long']\n"
     ]
    }
   ],
   "source": [
    "print(dir(pd))"
   ]
  },
  {
   "cell_type": "code",
   "execution_count": 14,
   "metadata": {},
   "outputs": [
    {
     "name": "stdout",
     "output_type": "stream",
     "text": [
      "['T', '_AXIS_ALIASES', '_AXIS_IALIASES', '_AXIS_LEN', '_AXIS_NAMES', '_AXIS_NUMBERS', '_AXIS_ORDERS', '_AXIS_REVERSED', '_AXIS_SLICEMAP', '__abs__', '__add__', '__and__', '__array__', '__array_wrap__', '__bool__', '__bytes__', '__class__', '__contains__', '__copy__', '__deepcopy__', '__delattr__', '__delitem__', '__dict__', '__dir__', '__div__', '__doc__', '__eq__', '__finalize__', '__floordiv__', '__format__', '__ge__', '__getattr__', '__getattribute__', '__getitem__', '__getstate__', '__gt__', '__hash__', '__iadd__', '__iand__', '__ifloordiv__', '__imod__', '__imul__', '__init__', '__init_subclass__', '__invert__', '__ior__', '__ipow__', '__isub__', '__iter__', '__itruediv__', '__ixor__', '__le__', '__len__', '__lt__', '__matmul__', '__mod__', '__module__', '__mul__', '__ne__', '__neg__', '__new__', '__nonzero__', '__or__', '__pos__', '__pow__', '__radd__', '__rand__', '__rdiv__', '__reduce__', '__reduce_ex__', '__repr__', '__rfloordiv__', '__rmatmul__', '__rmod__', '__rmul__', '__ror__', '__round__', '__rpow__', '__rsub__', '__rtruediv__', '__rxor__', '__setattr__', '__setitem__', '__setstate__', '__sizeof__', '__str__', '__sub__', '__subclasshook__', '__truediv__', '__unicode__', '__weakref__', '__xor__', '_accessors', '_add_numeric_operations', '_add_series_only_operations', '_add_series_or_dataframe_operations', '_agg_by_level', '_agg_doc', '_aggregate', '_aggregate_multiple_funcs', '_align_frame', '_align_series', '_box_col_values', '_box_item_values', '_builtin_table', '_check_inplace_setting', '_check_is_chained_assignment_possible', '_check_label_or_level_ambiguity', '_check_percentile', '_check_setitem_copy', '_clear_item_cache', '_clip_with_one_bound', '_clip_with_scalar', '_combine_const', '_combine_frame', '_combine_match_columns', '_combine_match_index', '_compare_frame', '_consolidate', '_consolidate_inplace', '_construct_axes_dict', '_construct_axes_dict_for_slice', '_construct_axes_dict_from', '_construct_axes_from_arguments', '_constructor', '_constructor_expanddim', '_constructor_sliced', '_convert', '_count_level', '_create_indexer', '_cython_table', '_deprecations', '_dir_additions', '_dir_deletions', '_drop_axis', '_drop_labels_or_levels', '_ensure_valid_index', '_expand_axes', '_find_valid_index', '_from_arrays', '_from_axes', '_get_agg_axis', '_get_axis', '_get_axis_name', '_get_axis_number', '_get_axis_resolvers', '_get_block_manager_axis', '_get_bool_data', '_get_cacher', '_get_index_resolvers', '_get_item_cache', '_get_label_or_level_values', '_get_numeric_data', '_get_value', '_get_values', '_getitem_array', '_getitem_column', '_getitem_frame', '_getitem_multilevel', '_getitem_slice', '_gotitem', '_iget_item_cache', '_indexed_same', '_info_axis', '_info_axis_name', '_info_axis_number', '_info_repr', '_init_dict', '_init_mgr', '_init_ndarray', '_internal_names', '_internal_names_set', '_is_builtin_func', '_is_cached', '_is_copy', '_is_cython_func', '_is_datelike_mixed_type', '_is_label_or_level_reference', '_is_label_reference', '_is_level_reference', '_is_mixed_type', '_is_numeric_mixed_type', '_is_view', '_ix', '_ixs', '_join_compat', '_maybe_cache_changed', '_maybe_update_cacher', '_metadata', '_needs_reindex_multi', '_obj_with_exclusions', '_protect_consolidate', '_reduce', '_reindex_axes', '_reindex_axis', '_reindex_columns', '_reindex_index', '_reindex_multi', '_reindex_with_indexers', '_repr_data_resource_', '_repr_fits_horizontal_', '_repr_fits_vertical_', '_repr_html_', '_repr_latex_', '_reset_cache', '_reset_cacher', '_sanitize_column', '_selected_obj', '_selection', '_selection_list', '_selection_name', '_series', '_set_as_cached', '_set_axis', '_set_axis_name', '_set_is_copy', '_set_item', '_set_value', '_setitem_array', '_setitem_frame', '_setitem_slice', '_setup_axes', '_shallow_copy', '_slice', '_stat_axis', '_stat_axis_name', '_stat_axis_number', '_take', '_to_dict_of_blocks', '_try_aggregate_string_function', '_typ', '_unpickle_frame_compat', '_unpickle_matrix_compat', '_update_inplace', '_validate_dtype', '_values', '_where', '_xs', 'abs', 'add', 'add_prefix', 'add_suffix', 'agg', 'aggregate', 'align', 'all', 'any', 'append', 'apply', 'applymap', 'as_blocks', 'as_matrix', 'asfreq', 'asof', 'assign', 'astype', 'at', 'at_time', 'axes', 'between_time', 'bfill', 'blocks', 'bool', 'boxplot', 'clip', 'clip_lower', 'clip_upper', 'columns', 'combine', 'combine_first', 'compound', 'consolidate', 'convert_objects', 'copy', 'corr', 'corrwith', 'count', 'cov', 'cummax', 'cummin', 'cumprod', 'cumsum', 'describe', 'diff', 'div', 'divide', 'dot', 'drop', 'drop_duplicates', 'dropna', 'dtypes', 'duplicated', 'empty', 'eq', 'equals', 'eval', 'ewm', 'expanding', 'ffill', 'fillna', 'filter', 'first', 'first_valid_index', 'floordiv', 'from_csv', 'from_dict', 'from_items', 'from_records', 'ftypes', 'ge', 'get', 'get_dtype_counts', 'get_ftype_counts', 'get_value', 'get_values', 'groupby', 'gt', 'head', 'hist', 'iat', 'idxmax', 'idxmin', 'iloc', 'index', 'infer_objects', 'info', 'insert', 'interpolate', 'is_copy', 'isin', 'isna', 'isnull', 'items', 'iteritems', 'iterrows', 'itertuples', 'ix', 'join', 'keys', 'kurt', 'kurtosis', 'last', 'last_valid_index', 'le', 'loc', 'lookup', 'lt', 'mad', 'mask', 'max', 'mean', 'median', 'melt', 'memory_usage', 'merge', 'min', 'mod', 'mode', 'mul', 'multiply', 'ndim', 'ne', 'nlargest', 'notna', 'notnull', 'nsmallest', 'nunique', 'pct_change', 'pipe', 'pivot', 'pivot_table', 'plot', 'pop', 'pow', 'prod', 'product', 'quantile', 'query', 'radd', 'rank', 'rdiv', 'reindex', 'reindex_axis', 'reindex_like', 'rename', 'rename_axis', 'reorder_levels', 'replace', 'resample', 'reset_index', 'rfloordiv', 'rmod', 'rmul', 'rolling', 'round', 'rpow', 'rsub', 'rtruediv', 'sample', 'select', 'select_dtypes', 'sem', 'set_axis', 'set_index', 'set_value', 'shape', 'shift', 'size', 'skew', 'slice_shift', 'sort_index', 'sort_values', 'sortlevel', 'squeeze', 'stack', 'std', 'style', 'sub', 'subtract', 'sum', 'swapaxes', 'swaplevel', 'tail', 'take', 'to_clipboard', 'to_csv', 'to_dense', 'to_dict', 'to_excel', 'to_feather', 'to_gbq', 'to_hdf', 'to_html', 'to_json', 'to_latex', 'to_msgpack', 'to_panel', 'to_parquet', 'to_period', 'to_pickle', 'to_records', 'to_sparse', 'to_sql', 'to_stata', 'to_string', 'to_timestamp', 'to_xarray', 'transform', 'transpose', 'truediv', 'truncate', 'tshift', 'tz_convert', 'tz_localize', 'unstack', 'update', 'values', 'var', 'where', 'xs']\n"
     ]
    }
   ],
   "source": [
    "print(dir(pd.DataFrame))"
   ]
  },
  {
   "cell_type": "code",
   "execution_count": 15,
   "metadata": {},
   "outputs": [
    {
     "name": "stdout",
     "output_type": "stream",
     "text": [
      "['T', '_AXIS_ALIASES', '_AXIS_IALIASES', '_AXIS_LEN', '_AXIS_NAMES', '_AXIS_NUMBERS', '_AXIS_ORDERS', '_AXIS_REVERSED', '_AXIS_SLICEMAP', '__abs__', '__add__', '__and__', '__array__', '__array_prepare__', '__array_priority__', '__array_wrap__', '__bool__', '__bytes__', '__class__', '__contains__', '__copy__', '__deepcopy__', '__delattr__', '__delitem__', '__dict__', '__dir__', '__div__', '__divmod__', '__doc__', '__eq__', '__finalize__', '__float__', '__floordiv__', '__format__', '__ge__', '__getattr__', '__getattribute__', '__getitem__', '__getstate__', '__gt__', '__hash__', '__iadd__', '__iand__', '__ifloordiv__', '__imod__', '__imul__', '__init__', '__init_subclass__', '__int__', '__invert__', '__ior__', '__ipow__', '__isub__', '__iter__', '__itruediv__', '__ixor__', '__le__', '__len__', '__long__', '__lt__', '__matmul__', '__mod__', '__module__', '__mul__', '__ne__', '__neg__', '__new__', '__nonzero__', '__or__', '__pos__', '__pow__', '__radd__', '__rand__', '__rdiv__', '__reduce__', '__reduce_ex__', '__repr__', '__rfloordiv__', '__rmatmul__', '__rmod__', '__rmul__', '__ror__', '__round__', '__rpow__', '__rsub__', '__rtruediv__', '__rxor__', '__setattr__', '__setitem__', '__setstate__', '__sizeof__', '__str__', '__sub__', '__subclasshook__', '__truediv__', '__unicode__', '__weakref__', '__xor__', '_accessors', '_add_numeric_operations', '_add_series_only_operations', '_add_series_or_dataframe_operations', '_agg_by_level', '_agg_doc', '_aggregate', '_aggregate_multiple_funcs', '_align_frame', '_align_series', '_binop', '_box_item_values', '_builtin_table', '_can_hold_na', '_check_inplace_setting', '_check_is_chained_assignment_possible', '_check_label_or_level_ambiguity', '_check_percentile', '_check_setitem_copy', '_clear_item_cache', '_clip_with_one_bound', '_clip_with_scalar', '_consolidate', '_consolidate_inplace', '_construct_axes_dict', '_construct_axes_dict_for_slice', '_construct_axes_dict_from', '_construct_axes_from_arguments', '_constructor', '_constructor_expanddim', '_constructor_sliced', '_convert', '_create_indexer', '_cython_table', '_deprecations', '_dir_additions', '_dir_deletions', '_drop_axis', '_drop_labels_or_levels', '_expand_axes', '_find_valid_index', '_formatting_values', '_from_axes', '_get_axis', '_get_axis_name', '_get_axis_number', '_get_axis_resolvers', '_get_block_manager_axis', '_get_bool_data', '_get_cacher', '_get_index_resolvers', '_get_item_cache', '_get_label_or_level_values', '_get_numeric_data', '_get_value', '_get_values', '_get_values_tuple', '_get_with', '_gotitem', '_iget_item_cache', '_index', '_indexed_same', '_info_axis', '_info_axis_name', '_info_axis_number', '_init_dict', '_init_mgr', '_internal_names', '_internal_names_set', '_is_builtin_func', '_is_cached', '_is_copy', '_is_cython_func', '_is_datelike_mixed_type', '_is_label_or_level_reference', '_is_label_reference', '_is_level_reference', '_is_mixed_type', '_is_numeric_mixed_type', '_is_view', '_ix', '_ixs', '_map_values', '_maybe_cache_changed', '_maybe_update_cacher', '_metadata', '_ndarray_values', '_needs_reindex_multi', '_obj_with_exclusions', '_protect_consolidate', '_reduce', '_reindex_axes', '_reindex_axis', '_reindex_indexer', '_reindex_multi', '_reindex_with_indexers', '_repr_data_resource_', '_repr_latex_', '_reset_cache', '_reset_cacher', '_selected_obj', '_selection', '_selection_list', '_selection_name', '_set_as_cached', '_set_axis', '_set_axis_name', '_set_is_copy', '_set_item', '_set_labels', '_set_name', '_set_subtyp', '_set_value', '_set_values', '_set_with', '_set_with_engine', '_setup_axes', '_shallow_copy', '_slice', '_stat_axis', '_stat_axis_name', '_stat_axis_number', '_take', '_to_dict_of_blocks', '_try_aggregate_string_function', '_typ', '_unpickle_series_compat', '_update_inplace', '_validate_dtype', '_values', '_where', '_xs', 'abs', 'add', 'add_prefix', 'add_suffix', 'agg', 'aggregate', 'align', 'all', 'any', 'append', 'apply', 'argmax', 'argmin', 'argsort', 'as_blocks', 'as_matrix', 'asfreq', 'asobject', 'asof', 'astype', 'at', 'at_time', 'autocorr', 'axes', 'base', 'between', 'between_time', 'bfill', 'blocks', 'bool', 'cat', 'clip', 'clip_lower', 'clip_upper', 'combine', 'combine_first', 'compound', 'compress', 'consolidate', 'convert_objects', 'copy', 'corr', 'count', 'cov', 'cummax', 'cummin', 'cumprod', 'cumsum', 'data', 'describe', 'diff', 'div', 'divide', 'divmod', 'dot', 'drop', 'drop_duplicates', 'dropna', 'dt', 'dtype', 'dtypes', 'duplicated', 'empty', 'eq', 'equals', 'ewm', 'expanding', 'factorize', 'ffill', 'fillna', 'filter', 'first', 'first_valid_index', 'flags', 'floordiv', 'from_array', 'from_csv', 'ftype', 'ftypes', 'ge', 'get', 'get_dtype_counts', 'get_ftype_counts', 'get_value', 'get_values', 'groupby', 'gt', 'hasnans', 'head', 'hist', 'iat', 'idxmax', 'idxmin', 'iloc', 'imag', 'index', 'infer_objects', 'interpolate', 'is_copy', 'is_monotonic', 'is_monotonic_decreasing', 'is_monotonic_increasing', 'is_unique', 'isin', 'isna', 'isnull', 'item', 'items', 'itemsize', 'iteritems', 'ix', 'keys', 'kurt', 'kurtosis', 'last', 'last_valid_index', 'le', 'loc', 'lt', 'mad', 'map', 'mask', 'max', 'mean', 'median', 'memory_usage', 'min', 'mod', 'mode', 'mul', 'multiply', 'name', 'nbytes', 'ndim', 'ne', 'nlargest', 'nonzero', 'notna', 'notnull', 'nsmallest', 'nunique', 'pct_change', 'pipe', 'plot', 'pop', 'pow', 'prod', 'product', 'ptp', 'put', 'quantile', 'radd', 'rank', 'ravel', 'rdiv', 'real', 'reindex', 'reindex_axis', 'reindex_like', 'rename', 'rename_axis', 'reorder_levels', 'repeat', 'replace', 'resample', 'reset_index', 'rfloordiv', 'rmod', 'rmul', 'rolling', 'round', 'rpow', 'rsub', 'rtruediv', 'sample', 'searchsorted', 'select', 'sem', 'set_axis', 'set_value', 'shape', 'shift', 'size', 'skew', 'slice_shift', 'sort_index', 'sort_values', 'sortlevel', 'squeeze', 'std', 'str', 'strides', 'sub', 'subtract', 'sum', 'swapaxes', 'swaplevel', 'tail', 'take', 'to_clipboard', 'to_csv', 'to_dense', 'to_dict', 'to_excel', 'to_frame', 'to_hdf', 'to_json', 'to_latex', 'to_msgpack', 'to_period', 'to_pickle', 'to_sparse', 'to_sql', 'to_string', 'to_timestamp', 'to_xarray', 'tolist', 'transform', 'transpose', 'truediv', 'truncate', 'tshift', 'tz_convert', 'tz_localize', 'unique', 'unstack', 'update', 'valid', 'value_counts', 'values', 'var', 'view', 'where', 'xs']\n"
     ]
    }
   ],
   "source": [
    "print(dir(pd.Series))"
   ]
  },
  {
   "cell_type": "markdown",
   "metadata": {},
   "source": [
    "## Series"
   ]
  },
  {
   "cell_type": "code",
   "execution_count": 4,
   "metadata": {},
   "outputs": [
    {
     "name": "stdout",
     "output_type": "stream",
     "text": [
      "0    1\n",
      "1    2\n",
      "2    3\n",
      "dtype: int64\n",
      "\n",
      "a    1.0\n",
      "b    2.0\n",
      "c    3.0\n",
      "d    NaN\n",
      "dtype: float64\n"
     ]
    }
   ],
   "source": [
    "# Normal series and series with custom index\n",
    "s1 = pd.Series([1,2,3])\n",
    "s2 = pd.Series([1,2,3, np.nan], index=list(\"abcd\"))\n",
    "print(s1)\n",
    "print()\n",
    "print(s2)"
   ]
  },
  {
   "cell_type": "code",
   "execution_count": 23,
   "metadata": {},
   "outputs": [
    {
     "name": "stdout",
     "output_type": "stream",
     "text": [
      "a    1\n",
      "b    2\n",
      "c    3\n",
      "d    0\n",
      "dtype: int32\n"
     ]
    }
   ],
   "source": [
    "# changing dtype: astype\n",
    "# before using astype we should make sure that there is no nan and nan == nan => False\n",
    "\n",
    "r = s2\n",
    "r = r.fillna(0)\n",
    "r = r.astype(int)\n",
    "print(r)"
   ]
  },
  {
   "cell_type": "code",
   "execution_count": 19,
   "metadata": {},
   "outputs": [
    {
     "name": "stdout",
     "output_type": "stream",
     "text": [
      "(3,)\n",
      "3\n",
      "int64\n",
      "[1 2 3] <class 'numpy.ndarray'>\n",
      "RangeIndex(start=0, stop=3, step=1)\n",
      "<class 'pandas.core.indexes.range.RangeIndex'>\n",
      "\n",
      "(4,)\n",
      "4\n",
      "float64\n",
      "[ 1.  2.  3. nan] <class 'numpy.ndarray'>\n",
      "Index(['a', 'b', 'c', 'd'], dtype='object')\n",
      "<class 'pandas.core.indexes.base.Index'>\n"
     ]
    }
   ],
   "source": [
    "# shape, size, dtype, index, values\n",
    "print(s1.shape)\n",
    "print(s1.size)\n",
    "print(s1.dtype)\n",
    "print(s1.values,type(s1.values))\n",
    "print(s1.index)\n",
    "print(type(s1.index))\n",
    "print()\n",
    "\n",
    "print(s2.shape)\n",
    "print(s2.size)\n",
    "print(s2.dtype)\n",
    "print(s2.values,type(s2.values))\n",
    "print(s2.index)\n",
    "print(type(s2.index))"
   ]
  },
  {
   "cell_type": "code",
   "execution_count": 27,
   "metadata": {},
   "outputs": [
    {
     "name": "stdout",
     "output_type": "stream",
     "text": [
      "1\n",
      "3\n",
      "[1 2 3]\n",
      "6\n",
      "\n",
      "1.0\n",
      "3.0\n",
      "[ 1.  2.  3. nan]\n",
      "nan\n"
     ]
    }
   ],
   "source": [
    "# aggregate operations: min, max, unique, sum etc.\n",
    "print(min(s1))\n",
    "print(max(s1))\n",
    "print(s1.unique())\n",
    "print(sum(s1))\n",
    "print()\n",
    "\n",
    "print(min(s2))\n",
    "print(max(s2))\n",
    "print(s2.unique())\n",
    "print(sum(s2))"
   ]
  },
  {
   "cell_type": "code",
   "execution_count": 32,
   "metadata": {},
   "outputs": [
    {
     "name": "stdout",
     "output_type": "stream",
     "text": [
      "0     6\n",
      "1     8\n",
      "2    10\n",
      "3    12\n",
      "dtype: int64\n",
      "\n",
      "0    4\n",
      "1    4\n",
      "2    4\n",
      "3    4\n",
      "dtype: int64\n",
      "\n",
      "0     5\n",
      "1    12\n",
      "2    21\n",
      "3    32\n",
      "dtype: int64\n",
      "\n",
      "0    0.200000\n",
      "1    0.333333\n",
      "2    0.428571\n",
      "3    0.500000\n",
      "dtype: float64\n"
     ]
    }
   ],
   "source": [
    "# arithmetic operations(new copy) and broadcast like numpy\n",
    "a = pd.Series([1,2,3,4])\n",
    "b = pd.Series([5,6,7,8])\n",
    "print(a+b)\n",
    "print()\n",
    "print(b-a)\n",
    "print()\n",
    "print(a*b)\n",
    "print()\n",
    "print(a/b)"
   ]
  },
  {
   "cell_type": "code",
   "execution_count": 36,
   "metadata": {},
   "outputs": [
    {
     "name": "stdout",
     "output_type": "stream",
     "text": [
      "0    1\n",
      "1    2\n",
      "2    3\n",
      "dtype: int64\n",
      "1    2\n",
      "dtype: int64\n",
      "[0 2 4 6 8]\n",
      "\n",
      "0    0\n",
      "1    1\n",
      "2    2\n",
      "3    3\n",
      "4    4\n",
      "5    5\n",
      "6    6\n",
      "7    7\n",
      "8    8\n",
      "9    9\n",
      "dtype: int32\n"
     ]
    }
   ],
   "source": [
    "# indexing and slicing\n",
    "#boolean indexing\n",
    "idx = s1%2 == 0\n",
    "print(s1)\n",
    "print(s1[idx])\n",
    "\n",
    "c = np.arange(10)\n",
    "idx = c%2 == 0\n",
    "print(c[idx])\n",
    "\n",
    "#slicing\n",
    "s =  pd.Series(np.arange(10))\n",
    "print()\n",
    "print(s)\n",
    "print()"
   ]
  },
  {
   "cell_type": "code",
   "execution_count": null,
   "metadata": {},
   "outputs": [],
   "source": [
    "# result of operations as index"
   ]
  },
  {
   "cell_type": "code",
   "execution_count": 41,
   "metadata": {},
   "outputs": [
    {
     "name": "stdout",
     "output_type": "stream",
     "text": [
      "0    1\n",
      "1    2\n",
      "2    3\n",
      "dtype: int64\n",
      "3    1\n",
      "2    1\n",
      "1    1\n",
      "dtype: int64\n"
     ]
    }
   ],
   "source": [
    "# frequency : value_counts\n",
    "print(s1)\n",
    "print(s1.value_counts())"
   ]
  },
  {
   "cell_type": "markdown",
   "metadata": {},
   "source": [
    "## DataFrame"
   ]
  },
  {
   "cell_type": "code",
   "execution_count": 27,
   "metadata": {},
   "outputs": [
    {
     "name": "stdout",
     "output_type": "stream",
     "text": [
      "        Name  Age  Gender\n",
      "0     Gaurav  0.0     0.0\n",
      "1  Abhishek1  1.0     0.0\n",
      "2    Krishna  2.0     0.0\n",
      "3  Abhishek2  2.0     0.0\n",
      "4   Harshita  1.0     1.0\n",
      "5       Joey  2.0     1.0\n",
      "6     Shweta  3.0     1.0\n",
      "7       na-1  1.0     NaN\n",
      "8       na-2  NaN     0.0\n",
      "9        NaN  2.0     0.0\n",
      "\n",
      "         Name  Number\n",
      "0      Gaurav       1\n",
      "11   Abhiskek       2\n",
      "2     Krishna       3\n",
      "3   Abhishek2       4\n",
      "<class 'pandas.core.indexes.base.Index'>\n"
     ]
    }
   ],
   "source": [
    "# dataframe from dict or list of rows\n",
    "df1 = pd.DataFrame(\n",
    "    {\n",
    "        \"Name\":   [\"Gaurav\", \"Abhishek1\", \"Krishna\", \"Abhishek2\", \"Harshita\", \"Joey\", \"Shweta\", \"na-1\" , \"na-2\"  , np.nan],\n",
    "        \"Age\":    [ 0      , 1          , 2        , 2          , 1         , 2     , 3       , 1      ,  np.nan , 2     ],\n",
    "        \"Gender\": [ 0      , 0          , 0        , 0          , 1         , 1     , 1       , np.nan ,  0      , 0     ]\n",
    "    }\n",
    ")\n",
    "df2 = pd.DataFrame([(\"Gaurav\",1), (\"Abhiskek\",2), (\"Krishna\",3), (\"Abhishek2\",4)],\n",
    "                    index=[0,11,2,3], \n",
    "                    columns=[\"Name\", \"Number\"])\n",
    "print(df1)\n",
    "print()\n",
    "print(df2)\n",
    "print(type(df2.columns))"
   ]
  },
  {
   "cell_type": "code",
   "execution_count": 54,
   "metadata": {},
   "outputs": [
    {
     "name": "stdout",
     "output_type": "stream",
     "text": [
      "(10, 3)\n",
      "30\n",
      "Name       object\n",
      "Age       float64\n",
      "Gender    float64\n",
      "dtype: object\n",
      "<class 'pandas.core.series.Series'>\n",
      "RangeIndex(start=0, stop=10, step=1)\n",
      "<class 'pandas.core.indexes.range.RangeIndex'>\n",
      "Index(['Name', 'Age', 'Gender'], dtype='object')\n",
      "<class 'pandas.core.indexes.base.Index'>\n",
      "             0          1        2          3         4     5       6     7  \\\n",
      "Name    Gaurav  Abhishek1  Krishna  Abhishek2  Harshita  Joey  Shweta  na-1   \n",
      "Age          0          1        2          2         1     2       3     1   \n",
      "Gender       0          0        0          0         1     1       1   NaN   \n",
      "\n",
      "           8    9  \n",
      "Name    na-2  NaN  \n",
      "Age      NaN    2  \n",
      "Gender     0    0  \n",
      "\n",
      "(4, 2)\n",
      "8\n",
      "Name      object\n",
      "Number     int64\n",
      "dtype: object\n",
      "<class 'pandas.core.series.Series'>\n",
      "Int64Index([0, 11, 2, 3], dtype='int64')\n",
      "Index(['Name', 'Number'], dtype='object')\n",
      "            0         11       2          3 \n",
      "Name    Gaurav  Abhiskek  Krishna  Abhishek2\n",
      "Number       1         2        3          4\n"
     ]
    }
   ],
   "source": [
    "# shape, size, dtypes, index, columns, unique, T\n",
    "print(df1.shape)\n",
    "print(df1.size)\n",
    "print(df1.dtypes)\n",
    "print(type(df1.dtypes))\n",
    "print(df1.index)\n",
    "print(type(df1.index))\n",
    "print(df1.columns)\n",
    "print(type(df1.columns))\n",
    "print(df1.T)\n",
    "\n",
    "print()\n",
    "\n",
    "print(df2.shape)\n",
    "print(df2.size)\n",
    "print(df2.dtypes)\n",
    "print(type(df2.dtypes))\n",
    "print(df2.index)\n",
    "print(df2.columns)\n",
    "print(df2.T)\n",
    "\n"
   ]
  },
  {
   "cell_type": "code",
   "execution_count": 3,
   "metadata": {},
   "outputs": [
    {
     "data": {
      "text/html": [
       "<div>\n",
       "<style scoped>\n",
       "    .dataframe tbody tr th:only-of-type {\n",
       "        vertical-align: middle;\n",
       "    }\n",
       "\n",
       "    .dataframe tbody tr th {\n",
       "        vertical-align: top;\n",
       "    }\n",
       "\n",
       "    .dataframe thead th {\n",
       "        text-align: right;\n",
       "    }\n",
       "</style>\n",
       "<table border=\"1\" class=\"dataframe\">\n",
       "  <thead>\n",
       "    <tr style=\"text-align: right;\">\n",
       "      <th></th>\n",
       "      <th>Name</th>\n",
       "      <th>Age</th>\n",
       "      <th>Gender</th>\n",
       "    </tr>\n",
       "  </thead>\n",
       "  <tbody>\n",
       "    <tr>\n",
       "      <th>0</th>\n",
       "      <td>Gaurav</td>\n",
       "      <td>0.0</td>\n",
       "      <td>0.0</td>\n",
       "    </tr>\n",
       "    <tr>\n",
       "      <th>1</th>\n",
       "      <td>Abhishek1</td>\n",
       "      <td>1.0</td>\n",
       "      <td>0.0</td>\n",
       "    </tr>\n",
       "    <tr>\n",
       "      <th>2</th>\n",
       "      <td>Krishna</td>\n",
       "      <td>2.0</td>\n",
       "      <td>0.0</td>\n",
       "    </tr>\n",
       "    <tr>\n",
       "      <th>3</th>\n",
       "      <td>Abhishek2</td>\n",
       "      <td>2.0</td>\n",
       "      <td>0.0</td>\n",
       "    </tr>\n",
       "    <tr>\n",
       "      <th>4</th>\n",
       "      <td>Harshita</td>\n",
       "      <td>1.0</td>\n",
       "      <td>1.0</td>\n",
       "    </tr>\n",
       "  </tbody>\n",
       "</table>\n",
       "</div>"
      ],
      "text/plain": [
       "        Name  Age  Gender\n",
       "0     Gaurav  0.0     0.0\n",
       "1  Abhishek1  1.0     0.0\n",
       "2    Krishna  2.0     0.0\n",
       "3  Abhishek2  2.0     0.0\n",
       "4   Harshita  1.0     1.0"
      ]
     },
     "execution_count": 3,
     "metadata": {},
     "output_type": "execute_result"
    }
   ],
   "source": [
    "# head, tail, describe\n",
    "df1.head()"
   ]
  },
  {
   "cell_type": "code",
   "execution_count": 4,
   "metadata": {},
   "outputs": [
    {
     "data": {
      "text/html": [
       "<div>\n",
       "<style scoped>\n",
       "    .dataframe tbody tr th:only-of-type {\n",
       "        vertical-align: middle;\n",
       "    }\n",
       "\n",
       "    .dataframe tbody tr th {\n",
       "        vertical-align: top;\n",
       "    }\n",
       "\n",
       "    .dataframe thead th {\n",
       "        text-align: right;\n",
       "    }\n",
       "</style>\n",
       "<table border=\"1\" class=\"dataframe\">\n",
       "  <thead>\n",
       "    <tr style=\"text-align: right;\">\n",
       "      <th></th>\n",
       "      <th>Name</th>\n",
       "      <th>Age</th>\n",
       "      <th>Gender</th>\n",
       "    </tr>\n",
       "  </thead>\n",
       "  <tbody>\n",
       "    <tr>\n",
       "      <th>5</th>\n",
       "      <td>Joey</td>\n",
       "      <td>2.0</td>\n",
       "      <td>1.0</td>\n",
       "    </tr>\n",
       "    <tr>\n",
       "      <th>6</th>\n",
       "      <td>Shweta</td>\n",
       "      <td>3.0</td>\n",
       "      <td>1.0</td>\n",
       "    </tr>\n",
       "    <tr>\n",
       "      <th>7</th>\n",
       "      <td>na-1</td>\n",
       "      <td>1.0</td>\n",
       "      <td>NaN</td>\n",
       "    </tr>\n",
       "    <tr>\n",
       "      <th>8</th>\n",
       "      <td>na-2</td>\n",
       "      <td>NaN</td>\n",
       "      <td>0.0</td>\n",
       "    </tr>\n",
       "    <tr>\n",
       "      <th>9</th>\n",
       "      <td>NaN</td>\n",
       "      <td>2.0</td>\n",
       "      <td>0.0</td>\n",
       "    </tr>\n",
       "  </tbody>\n",
       "</table>\n",
       "</div>"
      ],
      "text/plain": [
       "     Name  Age  Gender\n",
       "5    Joey  2.0     1.0\n",
       "6  Shweta  3.0     1.0\n",
       "7    na-1  1.0     NaN\n",
       "8    na-2  NaN     0.0\n",
       "9     NaN  2.0     0.0"
      ]
     },
     "execution_count": 4,
     "metadata": {},
     "output_type": "execute_result"
    }
   ],
   "source": [
    "df1.tail()"
   ]
  },
  {
   "cell_type": "code",
   "execution_count": 5,
   "metadata": {},
   "outputs": [
    {
     "data": {
      "text/html": [
       "<div>\n",
       "<style scoped>\n",
       "    .dataframe tbody tr th:only-of-type {\n",
       "        vertical-align: middle;\n",
       "    }\n",
       "\n",
       "    .dataframe tbody tr th {\n",
       "        vertical-align: top;\n",
       "    }\n",
       "\n",
       "    .dataframe thead th {\n",
       "        text-align: right;\n",
       "    }\n",
       "</style>\n",
       "<table border=\"1\" class=\"dataframe\">\n",
       "  <thead>\n",
       "    <tr style=\"text-align: right;\">\n",
       "      <th></th>\n",
       "      <th>Name</th>\n",
       "      <th>Age</th>\n",
       "      <th>Gender</th>\n",
       "    </tr>\n",
       "  </thead>\n",
       "  <tbody>\n",
       "    <tr>\n",
       "      <th>0</th>\n",
       "      <td>Gaurav</td>\n",
       "      <td>0.0</td>\n",
       "      <td>0.0</td>\n",
       "    </tr>\n",
       "    <tr>\n",
       "      <th>1</th>\n",
       "      <td>Abhishek1</td>\n",
       "      <td>1.0</td>\n",
       "      <td>0.0</td>\n",
       "    </tr>\n",
       "  </tbody>\n",
       "</table>\n",
       "</div>"
      ],
      "text/plain": [
       "        Name  Age  Gender\n",
       "0     Gaurav  0.0     0.0\n",
       "1  Abhishek1  1.0     0.0"
      ]
     },
     "execution_count": 5,
     "metadata": {},
     "output_type": "execute_result"
    }
   ],
   "source": [
    "df1.head(2)"
   ]
  },
  {
   "cell_type": "code",
   "execution_count": 6,
   "metadata": {},
   "outputs": [
    {
     "data": {
      "text/html": [
       "<div>\n",
       "<style scoped>\n",
       "    .dataframe tbody tr th:only-of-type {\n",
       "        vertical-align: middle;\n",
       "    }\n",
       "\n",
       "    .dataframe tbody tr th {\n",
       "        vertical-align: top;\n",
       "    }\n",
       "\n",
       "    .dataframe thead th {\n",
       "        text-align: right;\n",
       "    }\n",
       "</style>\n",
       "<table border=\"1\" class=\"dataframe\">\n",
       "  <thead>\n",
       "    <tr style=\"text-align: right;\">\n",
       "      <th></th>\n",
       "      <th>Name</th>\n",
       "      <th>Age</th>\n",
       "      <th>Gender</th>\n",
       "    </tr>\n",
       "  </thead>\n",
       "  <tbody>\n",
       "    <tr>\n",
       "      <th>8</th>\n",
       "      <td>na-2</td>\n",
       "      <td>NaN</td>\n",
       "      <td>0.0</td>\n",
       "    </tr>\n",
       "    <tr>\n",
       "      <th>9</th>\n",
       "      <td>NaN</td>\n",
       "      <td>2.0</td>\n",
       "      <td>0.0</td>\n",
       "    </tr>\n",
       "  </tbody>\n",
       "</table>\n",
       "</div>"
      ],
      "text/plain": [
       "   Name  Age  Gender\n",
       "8  na-2  NaN     0.0\n",
       "9   NaN  2.0     0.0"
      ]
     },
     "execution_count": 6,
     "metadata": {},
     "output_type": "execute_result"
    }
   ],
   "source": [
    "df1.tail(2)"
   ]
  },
  {
   "cell_type": "code",
   "execution_count": 7,
   "metadata": {},
   "outputs": [
    {
     "data": {
      "text/html": [
       "<div>\n",
       "<style scoped>\n",
       "    .dataframe tbody tr th:only-of-type {\n",
       "        vertical-align: middle;\n",
       "    }\n",
       "\n",
       "    .dataframe tbody tr th {\n",
       "        vertical-align: top;\n",
       "    }\n",
       "\n",
       "    .dataframe thead th {\n",
       "        text-align: right;\n",
       "    }\n",
       "</style>\n",
       "<table border=\"1\" class=\"dataframe\">\n",
       "  <thead>\n",
       "    <tr style=\"text-align: right;\">\n",
       "      <th></th>\n",
       "      <th>Name</th>\n",
       "      <th>Age</th>\n",
       "      <th>Gender</th>\n",
       "    </tr>\n",
       "  </thead>\n",
       "  <tbody>\n",
       "    <tr>\n",
       "      <th>5</th>\n",
       "      <td>Joey</td>\n",
       "      <td>2.0</td>\n",
       "      <td>1.0</td>\n",
       "    </tr>\n",
       "    <tr>\n",
       "      <th>6</th>\n",
       "      <td>Shweta</td>\n",
       "      <td>3.0</td>\n",
       "      <td>1.0</td>\n",
       "    </tr>\n",
       "  </tbody>\n",
       "</table>\n",
       "</div>"
      ],
      "text/plain": [
       "     Name  Age  Gender\n",
       "5    Joey  2.0     1.0\n",
       "6  Shweta  3.0     1.0"
      ]
     },
     "execution_count": 7,
     "metadata": {},
     "output_type": "execute_result"
    }
   ],
   "source": [
    "df1.tail().head(2)"
   ]
  },
  {
   "cell_type": "code",
   "execution_count": 11,
   "metadata": {},
   "outputs": [
    {
     "data": {
      "text/html": [
       "<div>\n",
       "<style scoped>\n",
       "    .dataframe tbody tr th:only-of-type {\n",
       "        vertical-align: middle;\n",
       "    }\n",
       "\n",
       "    .dataframe tbody tr th {\n",
       "        vertical-align: top;\n",
       "    }\n",
       "\n",
       "    .dataframe thead th {\n",
       "        text-align: right;\n",
       "    }\n",
       "</style>\n",
       "<table border=\"1\" class=\"dataframe\">\n",
       "  <thead>\n",
       "    <tr style=\"text-align: right;\">\n",
       "      <th></th>\n",
       "      <th>Age</th>\n",
       "      <th>Gender</th>\n",
       "    </tr>\n",
       "  </thead>\n",
       "  <tbody>\n",
       "    <tr>\n",
       "      <th>count</th>\n",
       "      <td>9.000000</td>\n",
       "      <td>9.000000</td>\n",
       "    </tr>\n",
       "    <tr>\n",
       "      <th>mean</th>\n",
       "      <td>1.555556</td>\n",
       "      <td>0.333333</td>\n",
       "    </tr>\n",
       "    <tr>\n",
       "      <th>std</th>\n",
       "      <td>0.881917</td>\n",
       "      <td>0.500000</td>\n",
       "    </tr>\n",
       "    <tr>\n",
       "      <th>min</th>\n",
       "      <td>0.000000</td>\n",
       "      <td>0.000000</td>\n",
       "    </tr>\n",
       "    <tr>\n",
       "      <th>25%</th>\n",
       "      <td>1.000000</td>\n",
       "      <td>0.000000</td>\n",
       "    </tr>\n",
       "    <tr>\n",
       "      <th>50%</th>\n",
       "      <td>2.000000</td>\n",
       "      <td>0.000000</td>\n",
       "    </tr>\n",
       "    <tr>\n",
       "      <th>75%</th>\n",
       "      <td>2.000000</td>\n",
       "      <td>1.000000</td>\n",
       "    </tr>\n",
       "    <tr>\n",
       "      <th>max</th>\n",
       "      <td>3.000000</td>\n",
       "      <td>1.000000</td>\n",
       "    </tr>\n",
       "  </tbody>\n",
       "</table>\n",
       "</div>"
      ],
      "text/plain": [
       "            Age    Gender\n",
       "count  9.000000  9.000000\n",
       "mean   1.555556  0.333333\n",
       "std    0.881917  0.500000\n",
       "min    0.000000  0.000000\n",
       "25%    1.000000  0.000000\n",
       "50%    2.000000  0.000000\n",
       "75%    2.000000  1.000000\n",
       "max    3.000000  1.000000"
      ]
     },
     "execution_count": 11,
     "metadata": {},
     "output_type": "execute_result"
    }
   ],
   "source": [
    "df1.describe()\n"
   ]
  },
  {
   "cell_type": "code",
   "execution_count": 12,
   "metadata": {},
   "outputs": [
    {
     "data": {
      "text/html": [
       "<div>\n",
       "<style scoped>\n",
       "    .dataframe tbody tr th:only-of-type {\n",
       "        vertical-align: middle;\n",
       "    }\n",
       "\n",
       "    .dataframe tbody tr th {\n",
       "        vertical-align: top;\n",
       "    }\n",
       "\n",
       "    .dataframe thead th {\n",
       "        text-align: right;\n",
       "    }\n",
       "</style>\n",
       "<table border=\"1\" class=\"dataframe\">\n",
       "  <thead>\n",
       "    <tr style=\"text-align: right;\">\n",
       "      <th></th>\n",
       "      <th>Name</th>\n",
       "      <th>Age</th>\n",
       "      <th>Gender</th>\n",
       "    </tr>\n",
       "  </thead>\n",
       "  <tbody>\n",
       "    <tr>\n",
       "      <th>count</th>\n",
       "      <td>9</td>\n",
       "      <td>9.000000</td>\n",
       "      <td>9.000000</td>\n",
       "    </tr>\n",
       "    <tr>\n",
       "      <th>unique</th>\n",
       "      <td>9</td>\n",
       "      <td>NaN</td>\n",
       "      <td>NaN</td>\n",
       "    </tr>\n",
       "    <tr>\n",
       "      <th>top</th>\n",
       "      <td>na-2</td>\n",
       "      <td>NaN</td>\n",
       "      <td>NaN</td>\n",
       "    </tr>\n",
       "    <tr>\n",
       "      <th>freq</th>\n",
       "      <td>1</td>\n",
       "      <td>NaN</td>\n",
       "      <td>NaN</td>\n",
       "    </tr>\n",
       "    <tr>\n",
       "      <th>mean</th>\n",
       "      <td>NaN</td>\n",
       "      <td>1.555556</td>\n",
       "      <td>0.333333</td>\n",
       "    </tr>\n",
       "    <tr>\n",
       "      <th>std</th>\n",
       "      <td>NaN</td>\n",
       "      <td>0.881917</td>\n",
       "      <td>0.500000</td>\n",
       "    </tr>\n",
       "    <tr>\n",
       "      <th>min</th>\n",
       "      <td>NaN</td>\n",
       "      <td>0.000000</td>\n",
       "      <td>0.000000</td>\n",
       "    </tr>\n",
       "    <tr>\n",
       "      <th>25%</th>\n",
       "      <td>NaN</td>\n",
       "      <td>1.000000</td>\n",
       "      <td>0.000000</td>\n",
       "    </tr>\n",
       "    <tr>\n",
       "      <th>50%</th>\n",
       "      <td>NaN</td>\n",
       "      <td>2.000000</td>\n",
       "      <td>0.000000</td>\n",
       "    </tr>\n",
       "    <tr>\n",
       "      <th>75%</th>\n",
       "      <td>NaN</td>\n",
       "      <td>2.000000</td>\n",
       "      <td>1.000000</td>\n",
       "    </tr>\n",
       "    <tr>\n",
       "      <th>max</th>\n",
       "      <td>NaN</td>\n",
       "      <td>3.000000</td>\n",
       "      <td>1.000000</td>\n",
       "    </tr>\n",
       "  </tbody>\n",
       "</table>\n",
       "</div>"
      ],
      "text/plain": [
       "        Name       Age    Gender\n",
       "count      9  9.000000  9.000000\n",
       "unique     9       NaN       NaN\n",
       "top     na-2       NaN       NaN\n",
       "freq       1       NaN       NaN\n",
       "mean     NaN  1.555556  0.333333\n",
       "std      NaN  0.881917  0.500000\n",
       "min      NaN  0.000000  0.000000\n",
       "25%      NaN  1.000000  0.000000\n",
       "50%      NaN  2.000000  0.000000\n",
       "75%      NaN  2.000000  1.000000\n",
       "max      NaN  3.000000  1.000000"
      ]
     },
     "execution_count": 12,
     "metadata": {},
     "output_type": "execute_result"
    }
   ],
   "source": [
    "\n",
    "df1.describe(include='all')"
   ]
  },
  {
   "cell_type": "code",
   "execution_count": 61,
   "metadata": {},
   "outputs": [
    {
     "name": "stdout",
     "output_type": "stream",
     "text": [
      "         Name  Number\n",
      "0      Gaurav       1\n",
      "11   Abhiskek       2\n",
      "2     Krishna       3\n",
      "3   Abhishek2       4\n"
     ]
    },
    {
     "data": {
      "text/html": [
       "<div>\n",
       "<style scoped>\n",
       "    .dataframe tbody tr th:only-of-type {\n",
       "        vertical-align: middle;\n",
       "    }\n",
       "\n",
       "    .dataframe tbody tr th {\n",
       "        vertical-align: top;\n",
       "    }\n",
       "\n",
       "    .dataframe thead th {\n",
       "        text-align: right;\n",
       "    }\n",
       "</style>\n",
       "<table border=\"1\" class=\"dataframe\">\n",
       "  <thead>\n",
       "    <tr style=\"text-align: right;\">\n",
       "      <th></th>\n",
       "      <th>name1</th>\n",
       "      <th>Number</th>\n",
       "    </tr>\n",
       "  </thead>\n",
       "  <tbody>\n",
       "    <tr>\n",
       "      <th>7</th>\n",
       "      <td>Gaurav</td>\n",
       "      <td>1</td>\n",
       "    </tr>\n",
       "    <tr>\n",
       "      <th>11</th>\n",
       "      <td>Abhiskek</td>\n",
       "      <td>2</td>\n",
       "    </tr>\n",
       "    <tr>\n",
       "      <th>2</th>\n",
       "      <td>Krishna</td>\n",
       "      <td>3</td>\n",
       "    </tr>\n",
       "    <tr>\n",
       "      <th>3</th>\n",
       "      <td>Abhishek2</td>\n",
       "      <td>4</td>\n",
       "    </tr>\n",
       "  </tbody>\n",
       "</table>\n",
       "</div>"
      ],
      "text/plain": [
       "        name1  Number\n",
       "7      Gaurav       1\n",
       "11   Abhiskek       2\n",
       "2     Krishna       3\n",
       "3   Abhishek2       4"
      ]
     },
     "execution_count": 61,
     "metadata": {},
     "output_type": "execute_result"
    }
   ],
   "source": [
    "# Rename index and columns on df2.\n",
    "# Inplace vs normal operation\n",
    "print(df2)\n",
    "df2.rename(columns={'Name':'name1'},index={0:7})"
   ]
  },
  {
   "cell_type": "code",
   "execution_count": 39,
   "metadata": {},
   "outputs": [
    {
     "name": "stdout",
     "output_type": "stream",
     "text": [
      "        Name  Age  Gender\n",
      "0     Gaurav  0.0     0.0\n",
      "1  Abhishek1  1.0     0.0\n",
      "2    Krishna  2.0     0.0\n",
      "3  Abhishek2  2.0     0.0\n",
      "4   Harshita  1.0     1.0\n",
      "5       Joey  2.0     1.0\n",
      "6     Shweta  3.0     1.0\n",
      "7       na-1  1.0     NaN\n",
      "8       na-2  NaN     0.0\n",
      "9        NaN  2.0     0.0\n",
      "\n",
      "      Name  Age  Gender\n",
      "2  Krishna  2.0     0.0\n"
     ]
    }
   ],
   "source": [
    "# Indexing columns directly and via index. \n",
    "print(df1)\n",
    "print()\n",
    "print(df1[2:3])"
   ]
  },
  {
   "cell_type": "code",
   "execution_count": 43,
   "metadata": {},
   "outputs": [
    {
     "name": "stdout",
     "output_type": "stream",
     "text": [
      "1    Abhishek1\n",
      "2      Krishna\n",
      "Name: Name, dtype: object\n"
     ]
    }
   ],
   "source": [
    "print(df1[1:3]['Name'])\n",
    "#insert reindex"
   ]
  },
  {
   "cell_type": "code",
   "execution_count": 52,
   "metadata": {},
   "outputs": [
    {
     "name": "stdout",
     "output_type": "stream",
     "text": [
      "   Namr  Age\n",
      "0   NaN  0.0\n",
      "1   NaN  1.0\n",
      "2   NaN  2.0\n",
      "3   NaN  2.0\n",
      "4   NaN  1.0\n",
      "5   NaN  2.0\n",
      "6   NaN  3.0\n",
      "7   NaN  1.0\n",
      "8   NaN  NaN\n",
      "9   NaN  2.0 <class 'pandas.core.frame.DataFrame'>\n",
      "0       Gaurav\n",
      "1    Abhishek1\n",
      "2      Krishna\n",
      "3    Abhishek2\n",
      "4     Harshita\n",
      "5         Joey\n",
      "6       Shweta\n",
      "7         na-1\n",
      "8         na-2\n",
      "9          NaN\n",
      "Name: Name, dtype: object <class 'pandas.core.series.Series'>\n"
     ]
    },
    {
     "name": "stderr",
     "output_type": "stream",
     "text": [
      "C:\\Users\\kosreddy\\AppData\\Local\\anaconda3\\lib\\site-packages\\pandas\\core\\indexing.py:1472: FutureWarning: \n",
      "Passing list-likes to .loc or [] with any missing label will raise\n",
      "KeyError in the future, you can use .reindex() as an alternative.\n",
      "\n",
      "See the documentation here:\n",
      "https://pandas.pydata.org/pandas-docs/stable/indexing.html#deprecate-loc-reindex-listlike\n",
      "  return self._getitem_tuple(key)\n"
     ]
    }
   ],
   "source": [
    "# Series in a DataFrame\n",
    "print(df1.loc[:,['Namr','Age']],type(df1.loc[:,['Namr','Age']]))\n",
    "print(df1['Name'],type(df1['Name']))"
   ]
  },
  {
   "cell_type": "code",
   "execution_count": null,
   "metadata": {},
   "outputs": [],
   "source": [
    "# describe, top/bottom rows of data"
   ]
  },
  {
   "cell_type": "code",
   "execution_count": 13,
   "metadata": {},
   "outputs": [],
   "source": [
    "# indexing and slicing\n",
    "# loc, iloc [rows, cols]"
   ]
  },
  {
   "cell_type": "code",
   "execution_count": 16,
   "metadata": {},
   "outputs": [
    {
     "name": "stdout",
     "output_type": "stream",
     "text": [
      "        Name  Age  Gender\n",
      "0     Gaurav  0.0     0.0\n",
      "1  Abhishek1  1.0     0.0\n",
      "2    Krishna  2.0     0.0\n",
      "3  Abhishek2  2.0     0.0\n",
      "4   Harshita  1.0     1.0\n",
      "5       Joey  2.0     1.0\n",
      "6     Shweta  3.0     1.0\n",
      "7       na-1  1.0     NaN\n",
      "8       na-2  NaN     0.0\n",
      "9        NaN  2.0     0.0\n",
      "\n",
      "        Name  Age\n",
      "0     Gaurav  0.0\n",
      "1  Abhishek1  1.0\n",
      "2    Krishna  2.0\n",
      "3  Abhishek2  2.0\n",
      "4   Harshita  1.0\n"
     ]
    }
   ],
   "source": [
    "#loc\n",
    "print(df1)\n",
    "print()\n",
    "print(df1.loc[0:4,['Name','Age']])"
   ]
  },
  {
   "cell_type": "code",
   "execution_count": 19,
   "metadata": {},
   "outputs": [
    {
     "name": "stdout",
     "output_type": "stream",
     "text": [
      "         Name  Number\n",
      "0      Gaurav       1\n",
      "11   Abhiskek       2\n",
      "2     Krishna       3\n",
      "3   Abhishek2       4\n",
      "\n",
      "    Number      Name\n",
      "0        1    Gaurav\n",
      "11       2  Abhiskek\n"
     ]
    }
   ],
   "source": [
    "print(df2)\n",
    "print()\n",
    "print(df2.loc[0:11,['Number','Name']])"
   ]
  },
  {
   "cell_type": "code",
   "execution_count": 28,
   "metadata": {},
   "outputs": [
    {
     "name": "stdout",
     "output_type": "stream",
     "text": [
      "         Name  Number\n",
      "11   Abhiskek       2\n",
      "2     Krishna       3\n",
      "3   Abhishek2       4\n"
     ]
    }
   ],
   "source": [
    "print(df2.loc[11:3])"
   ]
  },
  {
   "cell_type": "code",
   "execution_count": 26,
   "metadata": {},
   "outputs": [
    {
     "name": "stdout",
     "output_type": "stream",
     "text": [
      "        Name  Age  Gender\n",
      "0     Gaurav  0.0     0.0\n",
      "1  Abhishek1  1.0     0.0\n",
      "2    Krishna  2.0     0.0\n",
      "3  Abhishek2  2.0     0.0\n",
      "4   Harshita  1.0     1.0\n",
      "5       Joey  2.0     1.0\n",
      "6     Shweta  3.0     1.0\n",
      "7       na-1  1.0     NaN\n",
      "8       na-2  NaN     0.0\n",
      "9        NaN  2.0     0.0\n",
      "\n",
      "        Name  Gender\n",
      "0     Gaurav     0.0\n",
      "1  Abhishek1     0.0\n",
      "2    Krishna     0.0\n",
      "3  Abhishek2     0.0\n"
     ]
    }
   ],
   "source": [
    "#iloc - uses positional \n",
    "print(df1)\n",
    "print()\n",
    "print(df1.iloc[0:4,[0,2]])"
   ]
  },
  {
   "cell_type": "code",
   "execution_count": 27,
   "metadata": {},
   "outputs": [
    {
     "name": "stdout",
     "output_type": "stream",
     "text": [
      "        Name  Age  Gender\n",
      "2    Krishna  2.0     0.0\n",
      "3  Abhishek2  2.0     0.0\n"
     ]
    }
   ],
   "source": [
    "print(df1.iloc[2:4])"
   ]
  },
  {
   "cell_type": "code",
   "execution_count": 67,
   "metadata": {},
   "outputs": [
    {
     "name": "stdout",
     "output_type": "stream",
     "text": [
      "Age       0.0\n",
      "Gender    0.0\n",
      "dtype: float64\n",
      "\n",
      "Age       3.0\n",
      "Gender    1.0\n",
      "dtype: float64\n",
      "\n"
     ]
    }
   ],
   "source": [
    "# aggregate operations (with and without axis : row-1, col-0)\n",
    "# min, max, count, ...\n",
    "print(df1.min())\n",
    "print()\n",
    "print(df1.max())\n",
    "print()\n"
   ]
  },
  {
   "cell_type": "code",
   "execution_count": 68,
   "metadata": {},
   "outputs": [
    {
     "name": "stdout",
     "output_type": "stream",
     "text": [
      "Name      9\n",
      "Age       9\n",
      "Gender    9\n",
      "dtype: int64\n",
      "\n",
      "Age       14.0\n",
      "Gender     3.0\n",
      "dtype: float64\n",
      "\n",
      "0    0.0\n",
      "1    1.0\n",
      "2    2.0\n",
      "3    2.0\n",
      "4    2.0\n",
      "5    3.0\n",
      "6    4.0\n",
      "7    1.0\n",
      "8    0.0\n",
      "9    2.0\n",
      "dtype: float64\n"
     ]
    }
   ],
   "source": [
    "print(df1.count())\n",
    "print()\n",
    "print(df1.sum())\n",
    "print()\n",
    "print(df1.sum(axis=1))"
   ]
  },
  {
   "cell_type": "code",
   "execution_count": 72,
   "metadata": {},
   "outputs": [
    {
     "name": "stdout",
     "output_type": "stream",
     "text": [
      "Age       1.555556\n",
      "Gender    0.333333\n",
      "dtype: float64\n",
      "\n",
      "Name      9\n",
      "Age       9\n",
      "Gender    9\n",
      "dtype: int64\n",
      "\n",
      "Age       2.0\n",
      "Gender    0.0\n",
      "dtype: float64\n"
     ]
    }
   ],
   "source": [
    "print(df1.mean())\n",
    "print()\n",
    "print(df1.count())\n",
    "print()\n",
    "print(df1.median())\n",
    "print()\n",
    "print(df1.)"
   ]
  },
  {
   "cell_type": "code",
   "execution_count": 77,
   "metadata": {},
   "outputs": [
    {
     "name": "stdout",
     "output_type": "stream",
     "text": [
      "0    0.0\n",
      "1    1.0\n",
      "2    2.0\n",
      "3    2.0\n",
      "4    1.0\n",
      "5    2.0\n",
      "6    3.0\n",
      "7    1.0\n",
      "8    NaN\n",
      "9    2.0\n",
      "Name: Age, dtype: float64\n",
      "\n",
      "0    0.0\n",
      "1    2.0\n",
      "2    4.0\n",
      "3    4.0\n",
      "4    2.0\n",
      "5    4.0\n",
      "6    6.0\n",
      "7    2.0\n",
      "8    NaN\n",
      "9    4.0\n",
      "Name: Age, dtype: float64\n",
      "        Name  Age  Gender  namelen\n",
      "0     Gaurav  0.0     0.0      6.0\n",
      "1  Abhishek1  1.0     0.0      9.0\n",
      "2    Krishna  2.0     0.0      7.0\n",
      "3  Abhishek2  2.0     0.0      9.0\n",
      "4   Harshita  1.0     1.0      8.0\n",
      "5       Joey  2.0     1.0      4.0\n",
      "6     Shweta  3.0     1.0      6.0\n",
      "7       na-1  1.0     NaN      4.0\n",
      "8       na-2  NaN     0.0      4.0\n",
      "9        NaN  2.0     0.0      NaN\n"
     ]
    }
   ],
   "source": [
    "# arithmetic operations\n",
    "print(df1.Age)\n",
    "print()\n",
    "print(df1.Age*2)\n",
    "df1['namelen'] = df1.Name.str.len()\n",
    "print(df1)"
   ]
  },
  {
   "cell_type": "code",
   "execution_count": null,
   "metadata": {},
   "outputs": [],
   "source": [
    "# Na Values: isna, fillna, dropna"
   ]
  },
  {
   "cell_type": "code",
   "execution_count": null,
   "metadata": {},
   "outputs": [],
   "source": [
    "# any, all"
   ]
  },
  {
   "cell_type": "code",
   "execution_count": null,
   "metadata": {},
   "outputs": [],
   "source": [
    "# ordering data, sort_values"
   ]
  },
  {
   "cell_type": "code",
   "execution_count": null,
   "metadata": {},
   "outputs": [],
   "source": [
    "# row / column wise operation: apply\n",
    "tmp = pd.DataFrame(np.random.randint(10,20,20).reshape(5,4))"
   ]
  },
  {
   "cell_type": "code",
   "execution_count": null,
   "metadata": {},
   "outputs": [],
   "source": [
    "# str submodule (replace etc)"
   ]
  },
  {
   "cell_type": "code",
   "execution_count": null,
   "metadata": {},
   "outputs": [],
   "source": [
    "# load and save data"
   ]
  },
  {
   "cell_type": "code",
   "execution_count": 13,
   "metadata": {},
   "outputs": [
    {
     "name": "stdout",
     "output_type": "stream",
     "text": [
      "{(0.0, 0.0): Int64Index([0], dtype='int64'), (1.0, 0.0): Int64Index([1], dtype='int64'), (1.0, 1.0): Int64Index([4], dtype='int64'), (2.0, 0.0): Int64Index([2, 3], dtype='int64'), (2.0, 1.0): Int64Index([5], dtype='int64'), (3.0, 1.0): Int64Index([6], dtype='int64')}\n",
      "     Name  Age  Gender\n",
      "0  Gaurav  0.0     0.0\n",
      "        Name  Age  Gender\n",
      "1  Abhishek1  1.0     0.0\n",
      "       Name  Age  Gender\n",
      "4  Harshita  1.0     1.0\n",
      "        Name  Age  Gender\n",
      "2    Krishna  2.0     0.0\n",
      "3  Abhishek2  2.0     0.0\n",
      "   Name  Age  Gender\n",
      "5  Joey  2.0     1.0\n",
      "     Name  Age  Gender\n",
      "6  Shweta  3.0     1.0\n"
     ]
    }
   ],
   "source": [
    "# groups: groupby\n",
    "df1.dropna(inplace=True)\n",
    "df1.head(2)\n",
    "r = df1.groupby(['Age','Gender'])\n",
    "print(r.groups)\n",
    "\n",
    "for k in r.groups:\n",
    "    print(r.get_group(k))"
   ]
  },
  {
   "cell_type": "code",
   "execution_count": 20,
   "metadata": {},
   "outputs": [
    {
     "name": "stdout",
     "output_type": "stream",
     "text": [
      "Age  Gender\n",
      "0.0  0.0       1\n",
      "1.0  0.0       1\n",
      "     1.0       1\n",
      "2.0  0.0       2\n",
      "     1.0       1\n",
      "3.0  1.0       1\n",
      "Name: Name, dtype: int64\n"
     ]
    }
   ],
   "source": [
    "# groups and aggregates\n",
    "print(r.Name.apply(len))"
   ]
  },
  {
   "cell_type": "code",
   "execution_count": 33,
   "metadata": {},
   "outputs": [],
   "source": [
    "df1 = pd.DataFrame(\n",
    "    {\n",
    "        \"Name\":   [\"Gaurav\", \"Abhishek1\", \"Krishna\", \"Abhishek2\", \"Harshita\", \"Joey\", \"Shweta\", \"na-1\" , \"na-2\"  , np.nan],\n",
    "        \"Age\":    [ 0      , 1          , 2        , 2          , 1         , 2     , 3       , 1      ,  np.nan , 2     ],\n",
    "        \"Gender\": [ 0      , 0          , 0        , 0          , 1         , 1     , 1       , np.nan ,  0      , 0     ]\n",
    "    }\n",
    ")"
   ]
  },
  {
   "cell_type": "code",
   "execution_count": 34,
   "metadata": {},
   "outputs": [
    {
     "data": {
      "text/plain": [
       "Name      9\n",
       "Age       9\n",
       "Gender    9\n",
       "dtype: int64"
      ]
     },
     "execution_count": 34,
     "metadata": {},
     "output_type": "execute_result"
    }
   ],
   "source": [
    "df1.count()  # gives number of non na values"
   ]
  },
  {
   "cell_type": "code",
   "execution_count": 35,
   "metadata": {},
   "outputs": [
    {
     "data": {
      "text/plain": [
       "30"
      ]
     },
     "execution_count": 35,
     "metadata": {},
     "output_type": "execute_result"
    }
   ],
   "source": [
    "df1.size # gives total number of elements in a dataframe"
   ]
  },
  {
   "cell_type": "code",
   "execution_count": 36,
   "metadata": {},
   "outputs": [
    {
     "data": {
      "text/plain": [
       "(10, 3)"
      ]
     },
     "execution_count": 36,
     "metadata": {},
     "output_type": "execute_result"
    }
   ],
   "source": [
    "df1.shape # gives shape of dataframe"
   ]
  },
  {
   "cell_type": "code",
   "execution_count": null,
   "metadata": {},
   "outputs": [],
   "source": []
  }
 ],
 "metadata": {
  "kernelspec": {
   "display_name": "Python 3",
   "language": "python",
   "name": "python3"
  },
  "language_info": {
   "codemirror_mode": {
    "name": "ipython",
    "version": 3
   },
   "file_extension": ".py",
   "mimetype": "text/x-python",
   "name": "python",
   "nbconvert_exporter": "python",
   "pygments_lexer": "ipython3",
   "version": "3.7.0"
  }
 },
 "nbformat": 4,
 "nbformat_minor": 2
}
