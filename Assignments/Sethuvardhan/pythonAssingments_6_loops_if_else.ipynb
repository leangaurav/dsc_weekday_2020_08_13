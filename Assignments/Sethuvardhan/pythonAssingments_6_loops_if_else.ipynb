{
 "cells": [
  {
   "cell_type": "markdown",
   "metadata": {},
   "source": [
    "## WAP"
   ]
  },
  {
   "cell_type": "markdown",
   "metadata": {},
   "source": [
    "* WAP to input a string and print individual characters in the string using for loop"
   ]
  },
  {
   "cell_type": "code",
   "execution_count": 1,
   "metadata": {},
   "outputs": [
    {
     "name": "stdout",
     "output_type": "stream",
     "text": [
      "Enter a string : test\n",
      "t e s t "
     ]
    }
   ],
   "source": [
    "st = input(\"Enter a string : \")\n",
    "for k in st:\n",
    "    print(k,end=' ')"
   ]
  },
  {
   "cell_type": "markdown",
   "metadata": {},
   "source": [
    "* WAP to input a string and print the ASCII value of each character in the string"
   ]
  },
  {
   "cell_type": "code",
   "execution_count": 2,
   "metadata": {},
   "outputs": [
    {
     "name": "stdout",
     "output_type": "stream",
     "text": [
      "Enter a string : testa\n",
      "116 101 115 116 97 "
     ]
    }
   ],
   "source": [
    "st = input(\"Enter a string : \")\n",
    "for k in st:\n",
    "    print(ord(k),end=' ')"
   ]
  },
  {
   "cell_type": "markdown",
   "metadata": {},
   "source": [
    "* Write a function that takes a list of numbers from user as argument and returns the sum of only odd numbers (Use only for loop. No need to use if statement)."
   ]
  },
  {
   "cell_type": "code",
   "execution_count": 3,
   "metadata": {},
   "outputs": [
    {
     "name": "stdout",
     "output_type": "stream",
     "text": [
      "Enter a list of numbers : 1 2 3 4 5 6 7\n",
      "12\n"
     ]
    }
   ],
   "source": [
    "lt = input(\"Enter a list of numbers : \").split()\n",
    "lti = list(map(lambda x: int(x),lt[1::2]))\n",
    "sm = 0 \n",
    "for i in lti:\n",
    "    sm += i\n",
    "print(sm)\n"
   ]
  },
  {
   "cell_type": "markdown",
   "metadata": {},
   "source": [
    "* WAP to input a list of numbers and store in a tuple. Now input another number and print the index of this number in the tuple. [Use index function]"
   ]
  },
  {
   "cell_type": "code",
   "execution_count": 4,
   "metadata": {},
   "outputs": [
    {
     "name": "stdout",
     "output_type": "stream",
     "text": [
      "Enter a list of numbers : 1 2 3 4\n",
      "Enter another number : 2\n",
      "1\n"
     ]
    }
   ],
   "source": [
    "lt = input(\"Enter a list of numbers : \").split()\n",
    "lti = tuple(map(lambda x: int(x),lt))\n",
    "num = int(input(\"Enter another number : \"))\n",
    "print(lti.index(num))\n"
   ]
  },
  {
   "cell_type": "markdown",
   "metadata": {},
   "source": [
    "* Create a list of 10 random numbers and then print the list, sum of all numbers and average. Use a for loop. Also print elements at only even indexes in the list"
   ]
  },
  {
   "cell_type": "code",
   "execution_count": 5,
   "metadata": {},
   "outputs": [
    {
     "name": "stdout",
     "output_type": "stream",
     "text": [
      "[74, 91, 59, 11, 97, 16, 53, 45, 54, 87]\n",
      "587\n",
      "58.7\n",
      "[74, 59, 97, 53, 54]\n"
     ]
    }
   ],
   "source": [
    "import random\n",
    "lst = []\n",
    "for i in range(10):\n",
    "    lst.append(random.randrange(100))\n",
    "print(lst)\n",
    "print(sum(lst))\n",
    "print(sum(lst)/len(lst))\n",
    "print(lst[::2])\n",
    "    "
   ]
  },
  {
   "cell_type": "markdown",
   "metadata": {},
   "source": [
    "* WAP to input 10 numbers repeatedly (using range based for loop) and store them in a list. Print the list and sum of numbers in the list. "
   ]
  },
  {
   "cell_type": "code",
   "execution_count": 8,
   "metadata": {},
   "outputs": [
    {
     "name": "stdout",
     "output_type": "stream",
     "text": [
      "1\n",
      "2\n",
      "3\n",
      "4\n",
      "5\n",
      "6\n",
      "7\n",
      "3\n",
      "5\n",
      "6\n",
      "[1, 2, 3, 4, 5, 6, 7, 3, 5, 6]\n",
      "42\n",
      "4.2\n",
      "[1, 3, 5, 7, 5]\n"
     ]
    }
   ],
   "source": [
    "import random\n",
    "lst = []\n",
    "for i in range(10):\n",
    "    lst.append(int(input(\"\")))\n",
    "print(lst)\n",
    "print(sum(lst))\n",
    "print(sum(lst)/len(lst))\n",
    "print(lst[::2])\n",
    "    "
   ]
  },
  {
   "cell_type": "markdown",
   "metadata": {},
   "source": [
    "* WAP to input a number and print its table. Ex: if user enters the number as 7, output should be "
   ]
  },
  {
   "cell_type": "code",
   "execution_count": 9,
   "metadata": {},
   "outputs": [
    {
     "name": "stdout",
     "output_type": "stream",
     "text": [
      "Enter a number : 7\n",
      "7 * 1 = 7\n",
      "7 * 2 = 14\n",
      "7 * 3 = 21\n",
      "7 * 4 = 28\n",
      "7 * 5 = 35\n",
      "7 * 6 = 42\n",
      "7 * 7 = 49\n",
      "7 * 8 = 56\n",
      "7 * 9 = 63\n",
      "7 * 10 = 70\n"
     ]
    }
   ],
   "source": [
    "n = int(input(\"Enter a number : \"))\n",
    "for i in range(1,11):\n",
    "    print(f'{n} * {i} = {n*i}')"
   ]
  },
  {
   "cell_type": "markdown",
   "metadata": {},
   "source": [
    "* WAP to print total number of spaces in a string (Use for loop to iterate over the string. Don’t use count function)."
   ]
  },
  {
   "cell_type": "code",
   "execution_count": 12,
   "metadata": {},
   "outputs": [
    {
     "name": "stdout",
     "output_type": "stream",
     "text": [
      "Enter a string : we  567  o \n",
      "'we  567  o ' 5\n"
     ]
    }
   ],
   "source": [
    "st = input(\"Enter a string : \")\n",
    "print(repr(st),st.count(' '))"
   ]
  },
  {
   "cell_type": "markdown",
   "metadata": {},
   "source": [
    "* WAP to input a string and count number of vowels in the string. [Note: it should work for both capital and small alphabets]"
   ]
  },
  {
   "cell_type": "code",
   "execution_count": 15,
   "metadata": {},
   "outputs": [
    {
     "name": "stdout",
     "output_type": "stream",
     "text": [
      "Enter a string :  a e i ou o\n",
      "6\n"
     ]
    }
   ],
   "source": [
    "def isvowel(ch):\n",
    "    vw = list(\"aeiou\")\n",
    "    if ch.lower() in vw:\n",
    "        return 1\n",
    "    else:\n",
    "        return 0\n",
    "        \n",
    "\n",
    "st = list(input(\"Enter a string : \"))\n",
    "ct = sum(list(map(isvowel,st)))\n",
    "print(ct)"
   ]
  },
  {
   "cell_type": "markdown",
   "metadata": {},
   "source": [
    "* WAP to input a string and replace all vowels with ‘_’. [Hint: Convert string to list. Remember!! Strings are immutable. Replace in the list and then join] "
   ]
  },
  {
   "cell_type": "code",
   "execution_count": 16,
   "metadata": {},
   "outputs": [
    {
     "name": "stdout",
     "output_type": "stream",
     "text": [
      "Enter a string : feiuo p\n",
      "f____ p\n"
     ]
    }
   ],
   "source": [
    "def isvowel(ch):\n",
    "    vw = list(\"aeiou\")\n",
    "    if ch.lower() in vw:\n",
    "        return '_'\n",
    "    else:\n",
    "        return ch\n",
    "        \n",
    "st = list(input(\"Enter a string : \"))\n",
    "ct = list(map(isvowel,st))\n",
    "st_rep = ''.join(ct)\n",
    "print(st_rep)"
   ]
  },
  {
   "cell_type": "markdown",
   "metadata": {},
   "source": [
    "## Predict output"
   ]
  },
  {
   "cell_type": "code",
   "execution_count": 17,
   "metadata": {},
   "outputs": [
    {
     "name": "stdout",
     "output_type": "stream",
     "text": [
      "Num :  0\n"
     ]
    }
   ],
   "source": [
    "for num in range(10):\n",
    "    print(\"Num : \",num)\n",
    "    if num % 4 == 0:\n",
    "        break\n",
    "    print(\"Loop Ends\")"
   ]
  },
  {
   "cell_type": "code",
   "execution_count": 18,
   "metadata": {},
   "outputs": [
    {
     "ename": "SystemExit",
     "evalue": "",
     "output_type": "error",
     "traceback": [
      "An exception has occurred, use %tb to see the full traceback.\n",
      "\u001b[1;31mSystemExit\u001b[0m\n"
     ]
    },
    {
     "name": "stderr",
     "output_type": "stream",
     "text": [
      "C:\\Users\\kosreddy\\AppData\\Local\\anaconda3\\lib\\site-packages\\IPython\\core\\interactiveshell.py:2969: UserWarning: To exit: use 'exit', 'quit', or Ctrl-D.\n",
      "  warn(\"To exit: use 'exit', 'quit', or Ctrl-D.\", stacklevel=1)\n"
     ]
    }
   ],
   "source": [
    "import sys\n",
    "for num in range(10):\n",
    "    if num%4 == 0:\n",
    "        sys.exit()\n",
    "print(\"Loop Ends\")"
   ]
  },
  {
   "cell_type": "code",
   "execution_count": 19,
   "metadata": {},
   "outputs": [
    {
     "ename": "SyntaxError",
     "evalue": "keyword can't be an expression (<ipython-input-19-4db0897c4709>, line 3)",
     "output_type": "error",
     "traceback": [
      "\u001b[1;36m  File \u001b[1;32m\"<ipython-input-19-4db0897c4709>\"\u001b[1;36m, line \u001b[1;32m3\u001b[0m\n\u001b[1;33m    print('*'. end =' ')\u001b[0m\n\u001b[1;37m         ^\u001b[0m\n\u001b[1;31mSyntaxError\u001b[0m\u001b[1;31m:\u001b[0m keyword can't be an expression\n"
     ]
    }
   ],
   "source": [
    "for i1 in range(1,6):\n",
    "    for i2 in range(5):\n",
    "        print('*'. end =' ')\n",
    "    print()"
   ]
  },
  {
   "cell_type": "code",
   "execution_count": 20,
   "metadata": {},
   "outputs": [
    {
     "name": "stdout",
     "output_type": "stream",
     "text": [
      "1 \n",
      "2 2 \n",
      "3 3 3 \n",
      "4 4 4 4 \n",
      "5 5 5 5 5 \n"
     ]
    }
   ],
   "source": [
    "for i1 in range(1,6):\n",
    "    for i2 in range(i1):\n",
    "        print(i1, end =' ')\n",
    "    print()"
   ]
  },
  {
   "cell_type": "code",
   "execution_count": 21,
   "metadata": {},
   "outputs": [
    {
     "name": "stdout",
     "output_type": "stream",
     "text": [
      "1\n",
      "22\n",
      "333\n",
      "4444\n",
      "55555\n"
     ]
    }
   ],
   "source": [
    "for i1 in range(1,6):\n",
    "    print(str(i1)*i1)"
   ]
  },
  {
   "cell_type": "code",
   "execution_count": 22,
   "metadata": {},
   "outputs": [
    {
     "name": "stdout",
     "output_type": "stream",
     "text": [
      "**\n",
      "***\n",
      "****\n",
      "*****\n",
      "******\n"
     ]
    }
   ],
   "source": [
    "for i1 in range(1,6):\n",
    "    for i2 in range(i1+1):\n",
    "        print('*',end = '')\n",
    "    print()"
   ]
  },
  {
   "cell_type": "code",
   "execution_count": null,
   "metadata": {},
   "outputs": [],
   "source": []
  }
 ],
 "metadata": {
  "kernelspec": {
   "display_name": "Python 3",
   "language": "python",
   "name": "python3"
  },
  "language_info": {
   "codemirror_mode": {
    "name": "ipython",
    "version": 3
   },
   "file_extension": ".py",
   "mimetype": "text/x-python",
   "name": "python",
   "nbconvert_exporter": "python",
   "pygments_lexer": "ipython3",
   "version": "3.7.0"
  }
 },
 "nbformat": 4,
 "nbformat_minor": 2
}
