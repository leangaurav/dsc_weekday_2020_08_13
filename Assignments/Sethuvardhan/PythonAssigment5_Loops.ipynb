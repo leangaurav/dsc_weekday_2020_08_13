{
 "cells": [
  {
   "cell_type": "markdown",
   "metadata": {},
   "source": [
    "## WAP"
   ]
  },
  {
   "cell_type": "markdown",
   "metadata": {},
   "source": [
    "* WAP to print first n natural numbers (input n from user). "
   ]
  },
  {
   "cell_type": "code",
   "execution_count": 2,
   "metadata": {},
   "outputs": [
    {
     "name": "stdout",
     "output_type": "stream",
     "text": [
      "Enter n : 8\n",
      "1\n",
      "2\n",
      "3\n",
      "4\n",
      "5\n",
      "6\n",
      "7\n",
      "8\n"
     ]
    }
   ],
   "source": [
    "n = int(input(\"Enter n : \"))\n",
    "for i in range(1,n+1):\n",
    "    print(i)"
   ]
  },
  {
   "cell_type": "markdown",
   "metadata": {},
   "source": [
    "* WAP to find sum of first n natural number"
   ]
  },
  {
   "cell_type": "code",
   "execution_count": 4,
   "metadata": {},
   "outputs": [
    {
     "name": "stdout",
     "output_type": "stream",
     "text": [
      "Enter n : 4\n",
      "Sum of 4 natural nos is : 10\n"
     ]
    }
   ],
   "source": [
    "n = int(input(\"Enter n : \"))\n",
    "sm = 0\n",
    "for i in range(1,n+1):\n",
    "    sm += i\n",
    "print(f\"Sum of {n} natural nos is : {sm}\")"
   ]
  },
  {
   "cell_type": "markdown",
   "metadata": {},
   "source": [
    "*  WAP to print first n natural numbers in reverse order. "
   ]
  },
  {
   "cell_type": "code",
   "execution_count": 5,
   "metadata": {},
   "outputs": [
    {
     "name": "stdout",
     "output_type": "stream",
     "text": [
      "Enter n : 7\n",
      "7\n",
      "6\n",
      "5\n",
      "4\n",
      "3\n",
      "2\n",
      "1\n"
     ]
    }
   ],
   "source": [
    "n = int(input(\"Enter n : \"))\n",
    "for i in range(n,0,-1):\n",
    "    print(i)"
   ]
  },
  {
   "cell_type": "markdown",
   "metadata": {},
   "source": [
    "* WAP to input a number and print its factorial."
   ]
  },
  {
   "cell_type": "code",
   "execution_count": 7,
   "metadata": {},
   "outputs": [
    {
     "name": "stdout",
     "output_type": "stream",
     "text": [
      "Enter n : 3\n",
      "Factorial of 3 number is 6\n"
     ]
    }
   ],
   "source": [
    "n = int(input(\"Enter n : \")) \n",
    "fact = 1\n",
    "for i in range(1,n+1):\n",
    "    fact *= i\n",
    "    \n",
    "print(f\"Factorial of {n} number is {fact}\")\n"
   ]
  },
  {
   "cell_type": "markdown",
   "metadata": {},
   "source": [
    "* WAP to print Fibonacci sequence till n. "
   ]
  },
  {
   "cell_type": "code",
   "execution_count": 3,
   "metadata": {},
   "outputs": [
    {
     "name": "stdout",
     "output_type": "stream",
     "text": [
      "Enter n : 6\n",
      "1 1 2 3 5 8 "
     ]
    }
   ],
   "source": [
    "n = int(input(\"Enter n : \")) \n",
    "fib = [1,1]\n",
    "for i in range(n):\n",
    "    if i == 0:\n",
    "        print(1,end=' ')\n",
    "    else:\n",
    "        fib[1],fib[0] = fib[0] + fib[1],fib[1]\n",
    "        print(fib[0],end= ' ')\n",
    "        \n"
   ]
  },
  {
   "cell_type": "markdown",
   "metadata": {},
   "source": [
    "*  WAP to print all digits of a number input from user. "
   ]
  },
  {
   "cell_type": "code",
   "execution_count": 5,
   "metadata": {},
   "outputs": [
    {
     "name": "stdout",
     "output_type": "stream",
     "text": [
      "Enter a number : 3456\n",
      "3 4 5 6 "
     ]
    }
   ],
   "source": [
    "n = input(\"Enter a number : \")\n",
    "dig = list(map(lambda x:int(x),list(n)))\n",
    "for k in dig:\n",
    "    print(k,end =' ')"
   ]
  },
  {
   "cell_type": "markdown",
   "metadata": {},
   "source": [
    "*  WAP to find sum of all digits of a number. "
   ]
  },
  {
   "cell_type": "code",
   "execution_count": 7,
   "metadata": {},
   "outputs": [
    {
     "name": "stdout",
     "output_type": "stream",
     "text": [
      "Enter a number : 123\n",
      "6\n"
     ]
    }
   ],
   "source": [
    "n = input(\"Enter a number : \")\n",
    "dig = list(map(lambda x:int(x),list(n)))\n",
    "sm = 0\n",
    "for k in dig:\n",
    "    sm += k\n",
    "print(sm)"
   ]
  },
  {
   "cell_type": "markdown",
   "metadata": {},
   "source": [
    "*  WAP to find sum of following series given n as input from user 1 + 2! + 3! + 4! + 5! + ….n! Where n! denotes the factorial of number n. "
   ]
  },
  {
   "cell_type": "code",
   "execution_count": 9,
   "metadata": {},
   "outputs": [
    {
     "name": "stdout",
     "output_type": "stream",
     "text": [
      "Enter a number : 3\n",
      "9\n"
     ]
    }
   ],
   "source": [
    "def fact(n):\n",
    "    ft = 1\n",
    "    for i in range(1,n+1):\n",
    "        ft *= i\n",
    "    return ft\n",
    "\n",
    "n = int(input(\"Enter a number : \"))\n",
    "sm = 0\n",
    "for i in range(1,n+1):\n",
    "    sm += fact(i)\n",
    "    \n",
    "print(sm)"
   ]
  },
  {
   "cell_type": "markdown",
   "metadata": {},
   "source": [
    "* WAP to input base and exponent and print result without using inbuilt function pow(use for or while loop). "
   ]
  },
  {
   "cell_type": "code",
   "execution_count": 1,
   "metadata": {},
   "outputs": [
    {
     "name": "stdout",
     "output_type": "stream",
     "text": [
      "Enter base : 3\n",
      "Enter exponent : 4\n",
      "Result is : 81\n"
     ]
    }
   ],
   "source": [
    "bs = int(input(\"Enter base : \"))\n",
    "exp = int(input(\"Enter exponent : \"))\n",
    "res = 1\n",
    "if exp == 0:\n",
    "    res =1\n",
    "else:\n",
    "    for k in range(exp):\n",
    "        res *= bs\n",
    "\n",
    "\n",
    "print(f\"Result is : {res}\")\n",
    "    "
   ]
  },
  {
   "cell_type": "markdown",
   "metadata": {},
   "source": [
    "*  Print following patterns: "
   ]
  },
  {
   "cell_type": "code",
   "execution_count": 4,
   "metadata": {},
   "outputs": [
    {
     "name": "stdout",
     "output_type": "stream",
     "text": [
      "\n",
      "* \n",
      "* * \n",
      "* * * \n",
      "* * * * \n",
      "* * * * * \n"
     ]
    }
   ],
   "source": [
    "for i in range(6):\n",
    "    for k in range(i):\n",
    "        print('*',end=' ')\n",
    "    print()"
   ]
  },
  {
   "cell_type": "code",
   "execution_count": 5,
   "metadata": {},
   "outputs": [
    {
     "name": "stdout",
     "output_type": "stream",
     "text": [
      "* * * * * * \n",
      "* * * * * \n",
      "* * * * \n",
      "* * * \n",
      "* * \n",
      "* \n"
     ]
    }
   ],
   "source": [
    "for i in range(6,0,-1):\n",
    "    for k in range(i):\n",
    "        print('*',end=' ')\n",
    "    print()"
   ]
  },
  {
   "cell_type": "code",
   "execution_count": 7,
   "metadata": {},
   "outputs": [
    {
     "name": "stdout",
     "output_type": "stream",
     "text": [
      "            \n",
      "          * \n",
      "        * * \n",
      "      * * * \n",
      "    * * * * \n",
      "  * * * * * \n"
     ]
    }
   ],
   "source": [
    "for i in range(6):\n",
    "    for k in range(6-i):\n",
    "        print(' ',end=' ')\n",
    "    for k in range(i):\n",
    "        print('*',end=' ')\n",
    "    print()"
   ]
  },
  {
   "cell_type": "code",
   "execution_count": 11,
   "metadata": {},
   "outputs": [
    {
     "name": "stdout",
     "output_type": "stream",
     "text": [
      "     \n",
      "    * \n",
      "   * * \n",
      "  * * * \n",
      " * * * * \n"
     ]
    }
   ],
   "source": [
    "for i in range(5):\n",
    "    for k in range(5-i):\n",
    "        print(' ',end=\"\")\n",
    "    for k in range(i):\n",
    "        print(\"*\",end=' ')\n",
    "        \n",
    "    print()\n",
    "        "
   ]
  },
  {
   "cell_type": "code",
   "execution_count": 13,
   "metadata": {},
   "outputs": [
    {
     "name": "stdout",
     "output_type": "stream",
     "text": [
      "\n",
      "1\n",
      "22\n",
      "333\n",
      "4444\n",
      "55555\n"
     ]
    }
   ],
   "source": [
    "for i in range(6):\n",
    "    for k in range(i):\n",
    "        print(i,end =\"\")\n",
    "    print()"
   ]
  },
  {
   "cell_type": "code",
   "execution_count": 15,
   "metadata": {},
   "outputs": [
    {
     "name": "stdout",
     "output_type": "stream",
     "text": [
      "\n",
      "1\n",
      "12\n",
      "123\n",
      "1234\n",
      "12345\n"
     ]
    }
   ],
   "source": [
    "for i in range(6):\n",
    "    for k in range(i):\n",
    "        print(k+1,end =\"\")\n",
    "    print()"
   ]
  },
  {
   "cell_type": "code",
   "execution_count": 17,
   "metadata": {},
   "outputs": [
    {
     "name": "stdout",
     "output_type": "stream",
     "text": [
      "\n",
      "5\n",
      "44\n",
      "333\n",
      "2222\n",
      "11111\n"
     ]
    }
   ],
   "source": [
    "for i in range(6):\n",
    "    for k in range(i):\n",
    "        print(6-i,end =\"\")\n",
    "    print()"
   ]
  },
  {
   "cell_type": "code",
   "execution_count": 19,
   "metadata": {},
   "outputs": [
    {
     "name": "stdout",
     "output_type": "stream",
     "text": [
      "      \n",
      "     1\n",
      "    22\n",
      "   333\n",
      "  4444\n",
      " 55555\n"
     ]
    }
   ],
   "source": [
    "for i in range(6):\n",
    "    for k in range(6-i):\n",
    "        print(\" \",end='')\n",
    "    for k in range(i):\n",
    "        print(i,end=\"\")\n",
    "    print()"
   ]
  },
  {
   "cell_type": "code",
   "execution_count": 27,
   "metadata": {},
   "outputs": [
    {
     "name": "stdout",
     "output_type": "stream",
     "text": [
      "['A', 'B', 'C', 'D', 'E']\n",
      "\n",
      "A\n",
      "AB\n",
      "ABC\n",
      "ABCD\n",
      "ABCDE\n"
     ]
    }
   ],
   "source": [
    "lst = list(\"ABCDE\")\n",
    "#print(lst)\n",
    "for i in range(6):\n",
    "    for k in range(i):\n",
    "        print(lst[k],end =\"\")\n",
    "    print()\n"
   ]
  },
  {
   "cell_type": "code",
   "execution_count": 28,
   "metadata": {},
   "outputs": [
    {
     "name": "stdout",
     "output_type": "stream",
     "text": [
      "\n",
      "A\n",
      "BC\n",
      "DEF\n",
      "GHIJ\n",
      "KLMNO\n"
     ]
    }
   ],
   "source": [
    "lst = list(\"ABCDEFGHIJKLMNOP\")\n",
    "#print(lst)\n",
    "ct = 0 \n",
    "for i in range(6):\n",
    "    for k in range(i):\n",
    "        print(lst[ct],end =\"\")\n",
    "        ct += 1\n",
    "    print()\n"
   ]
  },
  {
   "cell_type": "code",
   "execution_count": 32,
   "metadata": {},
   "outputs": [
    {
     "name": "stdout",
     "output_type": "stream",
     "text": [
      "\n",
      "A\n",
      "BB\n",
      "CCC\n",
      "DDDD\n",
      "EEEEE\n"
     ]
    }
   ],
   "source": [
    "lst = list(\"ABCDEFGHIJKLMNOP\")\n",
    "#print(lst)\n",
    "for i in range(6):\n",
    "    for k in range(i):\n",
    "        print(lst[i-1],end =\"\")\n",
    "    print()\n"
   ]
  },
  {
   "cell_type": "code",
   "execution_count": 39,
   "metadata": {},
   "outputs": [
    {
     "name": "stdout",
     "output_type": "stream",
     "text": [
      "      A\n",
      "     ABA\n",
      "    ABCBA\n",
      "   ABCDCBA\n",
      "  ABCDEDCBA\n",
      " ABCDEFEDCBA\n"
     ]
    }
   ],
   "source": [
    "def ret_st(n):\n",
    "    lst = list(\"ABCDEFGHIJKLMNOP\")\n",
    "    st = \"\"\n",
    "    if n == 0:\n",
    "        return lst[0]\n",
    "    else:\n",
    "        for i in range(0,n,1):\n",
    "            st += lst[i]\n",
    "        \n",
    "        st = st + lst[n] + st[::-1]\n",
    "        \n",
    "        return st\n",
    "    \n",
    "for i in range(6):\n",
    "    for k in range(6-i):\n",
    "        print(\" \",end=\"\")\n",
    "    print(ret_st(i))\n",
    "    \n",
    "        \n",
    "        \n",
    "        \n",
    "        \n",
    "            \n"
   ]
  },
  {
   "cell_type": "code",
   "execution_count": null,
   "metadata": {},
   "outputs": [],
   "source": []
  }
 ],
 "metadata": {
  "kernelspec": {
   "display_name": "Python 3",
   "language": "python",
   "name": "python3"
  },
  "language_info": {
   "codemirror_mode": {
    "name": "ipython",
    "version": 3
   },
   "file_extension": ".py",
   "mimetype": "text/x-python",
   "name": "python",
   "nbconvert_exporter": "python",
   "pygments_lexer": "ipython3",
   "version": "3.7.0"
  }
 },
 "nbformat": 4,
 "nbformat_minor": 2
}
