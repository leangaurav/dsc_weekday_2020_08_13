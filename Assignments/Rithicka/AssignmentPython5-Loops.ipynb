{
 "cells": [
  {
   "cell_type": "code",
   "execution_count": 1,
   "metadata": {},
   "outputs": [
    {
     "name": "stdout",
     "output_type": "stream",
     "text": [
      "Enter the 'n' number: 8\n",
      "1\n",
      "2\n",
      "3\n",
      "4\n",
      "5\n",
      "6\n",
      "7\n",
      "8\n"
     ]
    }
   ],
   "source": [
    "#print first n natural numbers\n",
    "n=int(input(\"Enter the 'n' number: \"))\n",
    "i=1\n",
    "while (i<=n):\n",
    "    print(i)\n",
    "    i+=1"
   ]
  },
  {
   "cell_type": "code",
   "execution_count": 1,
   "metadata": {},
   "outputs": [
    {
     "name": "stdout",
     "output_type": "stream",
     "text": [
      "Enter the 'n' number: 4\n",
      "10\n"
     ]
    }
   ],
   "source": [
    "#sum of first n natural numbers\n",
    "n=int(input(\"Enter the 'n' number: \"))\n",
    "i=1\n",
    "s=0\n",
    "while (i<=n):\n",
    "    s=s+i\n",
    "    i+=1\n",
    "print(s)"
   ]
  },
  {
   "cell_type": "code",
   "execution_count": 3,
   "metadata": {},
   "outputs": [
    {
     "name": "stdout",
     "output_type": "stream",
     "text": [
      "Enter the 'n' number: 3\n",
      "3\n",
      "2\n",
      "1\n"
     ]
    }
   ],
   "source": [
    "#print first n natural nummbers in reverse order\n",
    "n=int(input(\"Enter the 'n' number: \"))\n",
    "i=0\n",
    "while i<n:\n",
    "    print(n-i)\n",
    "    i+=1\n",
    "    "
   ]
  },
  {
   "cell_type": "code",
   "execution_count": 6,
   "metadata": {},
   "outputs": [
    {
     "name": "stdout",
     "output_type": "stream",
     "text": [
      "enter a number5\n",
      "120\n"
     ]
    }
   ],
   "source": [
    "#input a number and find factorial\n",
    "n=int(input(\"enter a number\"))\n",
    "p=1\n",
    "while n!=0:\n",
    "    p=n*p\n",
    "    n-=1\n",
    "print(p)"
   ]
  },
  {
   "cell_type": "code",
   "execution_count": 7,
   "metadata": {},
   "outputs": [
    {
     "name": "stdout",
     "output_type": "stream",
     "text": [
      "enter a number1\n",
      "0\n"
     ]
    }
   ],
   "source": [
    "#print fibonnoci series till n\n",
    "n=int(input(\"enter a number\"))\n",
    "count=3\n",
    "n1=0\n",
    "n2=1\n",
    "if n<=0:\n",
    "    print(\"please enter positive number\")\n",
    "elif n==1:\n",
    "    print(n1)\n",
    "else:\n",
    "    print(\"  The series is:  \")\n",
    "    print(n1)\n",
    "    print(n2)\n",
    "    while(count<=n):        \n",
    "        n3=n1+n2\n",
    "        print(n3)\n",
    "        n1=n2\n",
    "        n2=n3\n",
    "        count=count+1\n",
    "        "
   ]
  },
  {
   "cell_type": "code",
   "execution_count": 10,
   "metadata": {},
   "outputs": [
    {
     "name": "stdout",
     "output_type": "stream",
     "text": [
      "Enter the number: 123\n",
      "['1', '2', '3']\n"
     ]
    }
   ],
   "source": [
    "#input any number and print its digit\n",
    "\n",
    "n=input(\"Enter the number: \")\n",
    "a=[]\n",
    "for i in n:\n",
    "    a.extend(i)\n",
    "print(a)"
   ]
  },
  {
   "cell_type": "code",
   "execution_count": null,
   "metadata": {},
   "outputs": [
    {
     "name": "stdout",
     "output_type": "stream",
     "text": [
      "Enter the number: 12\n",
      "['1', '2']\n"
     ]
    }
   ],
   "source": [
    "#find sum of all digits of a number\n",
    "n=input(\"Enter the number: \")\n",
    "a=[]\n",
    "for i in n:\n",
    "    a.extend(i)\n",
    "print(a)\n",
    "c=0\n",
    "s=0\n",
    "while(c<len(a)):\n",
    "    s=s+int(a[c])\n",
    "    #print(\"1\")\n",
    "    c=c+1\n",
    "print(s)\n"
   ]
  },
  {
   "cell_type": "code",
   "execution_count": 1,
   "metadata": {},
   "outputs": [
    {
     "name": "stdout",
     "output_type": "stream",
     "text": [
      "Enter the number: 4\n",
      "33\n"
     ]
    }
   ],
   "source": [
    "# find sum of following series given n as input from user\n",
    "# 1 + 2! + 3! + 4! + 5! + ….n! \n",
    "\n",
    "n = int(input(\"Enter the number: \"))\n",
    "i=1\n",
    "s=0\n",
    "\n",
    "while i<=n:\n",
    "    p=1\n",
    "    j=i\n",
    "    while j!=0:\n",
    "        p=j*p\n",
    "        j-=1\n",
    "    s=s+p\n",
    "    i+=1\n",
    "print(s)\n",
    "\n",
    "    "
   ]
  },
  {
   "cell_type": "code",
   "execution_count": null,
   "metadata": {},
   "outputs": [],
   "source": [
    "# input base and exponent and print result without using inbuilt function pow(use for or while loop)\n",
    "\n",
    "b = int(input(\"Enter the base: \"))\n",
    "e = int(input(\"Enter the exponent: \"))\n",
    "c = 1\n",
    "r=1\n",
    "while c<=e:\n",
    "    r=r*b\n",
    "    c+=1\n",
    "print(r)"
   ]
  },
  {
   "cell_type": "code",
   "execution_count": 3,
   "metadata": {},
   "outputs": [
    {
     "name": "stdout",
     "output_type": "stream",
     "text": [
      "*\n",
      "**\n",
      "***\n",
      "****\n",
      "*****\n",
      "\n",
      "\n",
      "\n",
      "\n",
      "*****\n",
      "****\n",
      "***\n",
      "**\n",
      "*\n",
      "\n",
      "\n",
      "\n",
      "\n",
      "     *\n",
      "    **\n",
      "   ***\n",
      "  ****\n",
      " *****\n",
      "\n",
      "\n",
      "\n",
      "\n",
      " ****\n",
      "  ***\n",
      "   **\n",
      "    *\n"
     ]
    }
   ],
   "source": [
    "for i in range(1,6):\n",
    "    for j in range(1,i+1):\n",
    "        print('*',end='')\n",
    "    print()\n",
    "\n",
    "print(\"\\n\")\n",
    "print(\"\\n\")\n",
    "\n",
    "for i in range(1,6):\n",
    "    for j in range(1,7-i):\n",
    "        print('*',end='')\n",
    "    print()\n",
    "    \n",
    "print(\"\\n\")\n",
    "print(\"\\n\")\n",
    "\n",
    "for i in range(5):\n",
    "    for j in range(5-i):\n",
    "        print(' ',end='')\n",
    "    for j in range(i+1):\n",
    "        print('*',end='')\n",
    "    print()\n",
    "    \n",
    "print(\"\\n\")\n",
    "print(\"\\n\")\n",
    "\n",
    "for i in range(1,5):\n",
    "    for j in range(1,i+1):\n",
    "        print(' ',end='')\n",
    "    for j in range(1,7-i-1):\n",
    "        print('*',end='')\n",
    "    print()\n",
    "\n"
   ]
  },
  {
   "cell_type": "code",
   "execution_count": 4,
   "metadata": {},
   "outputs": [
    {
     "name": "stdout",
     "output_type": "stream",
     "text": [
      "1\n",
      "22\n",
      "333\n",
      "4444\n",
      "55555\n",
      "\n",
      "\n",
      "\n",
      "\n",
      "1\n",
      "12\n",
      "123\n",
      "1234\n",
      "12345\n",
      "\n",
      "\n",
      "\n",
      "\n",
      "5    \n",
      "44   \n",
      "333  \n",
      "2222 \n",
      "11111\n",
      "\n",
      "\n",
      "\n",
      "\n",
      "    1\n",
      "   22\n",
      "  333\n",
      " 4444\n",
      "55555\n",
      "\n",
      "\n",
      "\n",
      "\n"
     ]
    }
   ],
   "source": [
    "for i in range(1,6):\n",
    "    for j in range(1,i+1):\n",
    "        print(i,end='')\n",
    "    print()\n",
    "print(\"\\n\")\n",
    "print(\"\\n\")\n",
    "\n",
    "for i in range(1,6):\n",
    "    for j in range(1,i+1):\n",
    "        print(j,end='')\n",
    "    print()\n",
    "print(\"\\n\")\n",
    "print(\"\\n\")\n",
    "\n",
    "for i in range(1,6):\n",
    "    for j in range(1,i+1):\n",
    "        print(6-i,end='')\n",
    "    for j in range(1,6-i):\n",
    "        print(' ',end='')\n",
    "    print()\n",
    "print(\"\\n\")\n",
    "print(\"\\n\")\n",
    "\n",
    "for i in range(1,6):\n",
    "    for j in range(1,6-i):\n",
    "        print(' ',end='')\n",
    "    for j in range(1,i+1):\n",
    "        print(i,end='')\n",
    "    print()\n",
    "print(\"\\n\")\n",
    "print(\"\\n\")\n",
    "\n"
   ]
  },
  {
   "cell_type": "code",
   "execution_count": 5,
   "metadata": {},
   "outputs": [
    {
     "name": "stdout",
     "output_type": "stream",
     "text": [
      "A\n",
      "AB\n",
      "ABC\n",
      "ABCD\n",
      "ABCDE\n",
      "\n",
      "\n",
      "\n",
      "\n",
      "A\n",
      "BB\n",
      "CCC\n",
      "DDDD\n",
      "EEEEE\n",
      "\n",
      "\n",
      "\n",
      "\n",
      "A\n",
      "BC\n",
      "CDE\n",
      "DEFG\n",
      "EFGHI\n",
      "\n",
      "\n",
      "\n",
      "\n",
      "    A\n",
      "   ABA\n",
      "  ABCAB\n",
      " ABCDABC\n",
      "ABCDEABCD\n"
     ]
    }
   ],
   "source": [
    "# outer loop\n",
    "for i in range (65,70):\n",
    "    # inner loop\n",
    "    for j in range(65,i+1):\n",
    "        print(chr(j),end=\"\")\n",
    "    print()\n",
    "print(\"\\n\")\n",
    "print(\"\\n\")\n",
    "    \n",
    "# outer loop\n",
    "for i in range (65,70):\n",
    "    # inner loop\n",
    "    for j in range(65,i+1):\n",
    "        print(chr(i),end=\"\")\n",
    "    print()\n",
    "print(\"\\n\")\n",
    "print(\"\\n\")\n",
    "\n",
    "# Outer loop\n",
    "for i in range(65,70):\n",
    "    k=i\n",
    "    # Inner loop\n",
    "    for j in range(65,i+1):\n",
    "        print(chr(k),end=\"\")\n",
    "        k=k+1\n",
    "    print()\n",
    "print(\"\\n\")\n",
    "print(\"\\n\")\n",
    "\n",
    "m=6   \n",
    "# Outer loop\n",
    "for i in range(65,70):\n",
    "    m=m-1\n",
    "    # Inner loop 1 \n",
    "    for j in range(m,1,-1):\n",
    "        print(\" \",end=\"\")\n",
    "    # Inner loop 2\n",
    "    for k in range(65,i+1):\n",
    "        print(chr(k),end=\"\")\n",
    "    # Inner loop 3\n",
    "    for n in range(65,i):\n",
    "        print(chr(n),end=\"\")\n",
    "    print()"
   ]
  },
  {
   "cell_type": "code",
   "execution_count": null,
   "metadata": {},
   "outputs": [],
   "source": []
  }
 ],
 "metadata": {
  "kernelspec": {
   "display_name": "Python 3",
   "language": "python",
   "name": "python3"
  },
  "language_info": {
   "codemirror_mode": {
    "name": "ipython",
    "version": 3
   },
   "file_extension": ".py",
   "mimetype": "text/x-python",
   "name": "python",
   "nbconvert_exporter": "python",
   "pygments_lexer": "ipython3",
   "version": "3.7.1"
  }
 },
 "nbformat": 4,
 "nbformat_minor": 2
}
