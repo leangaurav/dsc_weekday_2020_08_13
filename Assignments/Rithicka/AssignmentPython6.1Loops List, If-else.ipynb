{
 "cells": [
  {
   "cell_type": "code",
   "execution_count": 2,
   "metadata": {},
   "outputs": [
    {
     "name": "stdout",
     "output_type": "stream",
     "text": [
      "Enter the string: rithicka\n",
      "r\n",
      "i\n",
      "t\n",
      "h\n",
      "i\n",
      "c\n",
      "k\n",
      "a\n"
     ]
    }
   ],
   "source": [
    "# input a string and print individual characters in the string using for loop\n",
    "str = input(\"Enter the string: \")\n",
    "for i in str:\n",
    "    print(i)"
   ]
  },
  {
   "cell_type": "code",
   "execution_count": 4,
   "metadata": {},
   "outputs": [
    {
     "name": "stdout",
     "output_type": "stream",
     "text": [
      "Enter the string: rithicka\n",
      "r 114\n",
      "i 105\n",
      "t 116\n",
      "h 104\n",
      "i 105\n",
      "c 99\n",
      "k 107\n",
      "a 97\n"
     ]
    }
   ],
   "source": [
    "# input a string and print the ASCII value of each character in the string\n",
    "str = input(\"Enter the string: \")\n",
    "for i in str:\n",
    "    print(i  ,ord(i))"
   ]
  },
  {
   "cell_type": "code",
   "execution_count": 10,
   "metadata": {},
   "outputs": [
    {
     "name": "stdout",
     "output_type": "stream",
     "text": [
      "Enter the numbers to be added in the list45657647\n",
      "['5', '5', '7', '7']\n",
      "24\n"
     ]
    }
   ],
   "source": [
    "# function that takes a list of numbers from user as argument and returns the sum of only odd numbers\n",
    "n=list(input(\"Enter the numbers to be added in the list\"))\n",
    "a=[]\n",
    "for i in n:\n",
    "    if not int(i)%2==0:\n",
    "        a.append(i)\n",
    "print(a)\n",
    "s=0\n",
    "for j in a:\n",
    "    s=s+int(j)\n",
    "print(s)"
   ]
  },
  {
   "cell_type": "code",
   "execution_count": 1,
   "metadata": {},
   "outputs": [
    {
     "name": "stdout",
     "output_type": "stream",
     "text": [
      "Enter the list: 56675\n",
      "('5', '6', '6', '7', '5')\n",
      "Enter the index: 6\n",
      "1\n"
     ]
    }
   ],
   "source": [
    "#  input a list of numbers and store in a tuple. Now input another number and print the index of this number in the tuple. [Use index function]\n",
    "\n",
    "n = list(input(\"Enter the list: \"))\n",
    "t = tuple(n)\n",
    "print(t)\n",
    "i = input(\"Enter the index: \")\n",
    "print(t.index(i))"
   ]
  },
  {
   "cell_type": "code",
   "execution_count": 9,
   "metadata": {},
   "outputs": [
    {
     "name": "stdout",
     "output_type": "stream",
     "text": [
      "[4, 6, 1, 4, 9, 2, 7, 3, 3, 7]\n",
      "Sum :  46\n",
      "Average :  4\n",
      "Elememts at even indexes in the list\n",
      "4\n",
      "1\n",
      "9\n",
      "7\n",
      "3\n"
     ]
    }
   ],
   "source": [
    "# Create a list of 10 random numbers and then print the list, sum of all numbers and average. Use a for loop. Also print elements at only even indexes in the list\n",
    "\n",
    "import random\n",
    "a=[]\n",
    "s=0\n",
    "for i in range(10):\n",
    "    a.append(random.randrange(10))\n",
    "print(a)\n",
    "for i in a:\n",
    "    s=s+i\n",
    "av=s//len(a)\n",
    "print(\"Sum : \",format(s))\n",
    "print(\"Average : \", format(av))\n",
    "i=0\n",
    "print(\"Elememts at even indexes in the list\")\n",
    "while i<len(a):\n",
    "    if i%2==0:\n",
    "        print(a[i])\n",
    "    i+=1"
   ]
  },
  {
   "cell_type": "code",
   "execution_count": 11,
   "metadata": {},
   "outputs": [
    {
     "name": "stdout",
     "output_type": "stream",
     "text": [
      "list and the sum: \n",
      "[0, 8, 2, 9, 1, 4, 3, 3, 7, 1, 38]\n"
     ]
    }
   ],
   "source": [
    "#  input 10 numbers repeatedly (using range based for loop) and store them in a list. Print the list and sum of numbers in the list\n",
    "\n",
    "import random\n",
    "a=[]\n",
    "s=0\n",
    "for i in range(10):\n",
    "    a.append(random.randrange(10))\n",
    "\n",
    "s=sum(a)\n",
    "a.append(s)\n",
    "print(\"list and the sum: \")\n",
    "\n",
    "print(a)"
   ]
  },
  {
   "cell_type": "code",
   "execution_count": 13,
   "metadata": {},
   "outputs": [
    {
     "name": "stdout",
     "output_type": "stream",
     "text": [
      "Enter the number: 4\n",
      "4 * 1 = 4\n",
      "4 * 2 = 8\n",
      "4 * 3 = 12\n",
      "4 * 4 = 16\n",
      "4 * 5 = 20\n",
      "4 * 6 = 24\n",
      "4 * 7 = 28\n",
      "4 * 8 = 32\n",
      "4 * 9 = 36\n",
      "4 * 10 = 40\n"
     ]
    }
   ],
   "source": [
    "#  input a number and print its table\n",
    "\n",
    "n = int(input(\"Enter the number: \"))\n",
    "\n",
    "def tablee(n):\n",
    "    count = 1\n",
    "    while count<=10:\n",
    "        print(f'{n} * {count} = ' +str(n*count))\n",
    "       \n",
    "        count+=1\n",
    "tablee(n)"
   ]
  },
  {
   "cell_type": "code",
   "execution_count": 14,
   "metadata": {},
   "outputs": [
    {
     "name": "stdout",
     "output_type": "stream",
     "text": [
      " Enter the string: welcome to python world\n",
      "Space count:3\n"
     ]
    }
   ],
   "source": [
    "#  print total number of spaces in a string (Use for loop to iterate over the string. Don’t use count function)\n",
    "\n",
    "n=input(\" Enter the string: \")\n",
    "count=0\n",
    "for i in n:\n",
    "    if (i.isspace()):\n",
    "        count=count+1\n",
    "print(f\"Space count:{count}\")\n",
    "    "
   ]
  },
  {
   "cell_type": "code",
   "execution_count": 20,
   "metadata": {},
   "outputs": [
    {
     "name": "stdout",
     "output_type": "stream",
     "text": [
      " Enter the string: rithicka\n",
      "{'a': 1, 'e': 0, 'i': 2, 'o': 0, 'u': 0}\n",
      "sum of values:  3\n"
     ]
    }
   ],
   "source": [
    "# input a string and count number of vowels in the string. [Note: it should work for both capital and small alphabets]\n",
    "\n",
    "n=input(\" Enter the string: \")\n",
    "n=n.lower()\n",
    "v = \"aeiou\"\n",
    "c={}  # introducing dictionary\n",
    "for i in v:\n",
    "    s=n.count(i)\n",
    "    c[i]=s  # i is the key and s is the value\n",
    "print(c)\n",
    "\n",
    "t = c.values()\n",
    "ts=sum(t)\n",
    "print(\"sum of values: \", ts)"
   ]
  },
  {
   "cell_type": "code",
   "execution_count": 34,
   "metadata": {},
   "outputs": [
    {
     "name": "stdout",
     "output_type": "stream",
     "text": [
      " Enter the string: python program\n",
      "['p', 'y', 't', 'h', 'o', 'n', ' ', 'p', 'r', 'o', 'g', 'r', 'a', 'm']\n",
      "pyth_n pr_gr_m\n"
     ]
    }
   ],
   "source": [
    "#  input a string and replace all vowels with ‘_’.\n",
    "# [Hint: Convert string to list. Remember!! Strings are immutable. Replace in the list and then join] \n",
    "# x = txt.replace(\"bananas\", \"apples\")\n",
    "\n",
    "n=list(input(\" Enter the string: \"))\n",
    "print(n)\n",
    "v = {'a':'_','e':'_','i':'_','o':'_','u':'_'}\n",
    "\n",
    "s = [v.get(i,i) for i in n] #dictionary.get(keyname, value)\n",
    "s=''.join(s)\n",
    "print(s)"
   ]
  },
  {
   "cell_type": "code",
   "execution_count": 35,
   "metadata": {},
   "outputs": [
    {
     "name": "stdout",
     "output_type": "stream",
     "text": [
      "Num :  0\n",
      "Loop ends\n"
     ]
    }
   ],
   "source": [
    "for num in range(10):\n",
    "    print(\"Num : \",num)\n",
    "    if num%4 == 0:\n",
    "        break\n",
    "print(\"Loop ends\")"
   ]
  },
  {
   "cell_type": "code",
   "execution_count": 40,
   "metadata": {},
   "outputs": [
    {
     "name": "stdout",
     "output_type": "stream",
     "text": [
      "Num :  0\n"
     ]
    },
    {
     "ename": "SystemExit",
     "evalue": "",
     "output_type": "error",
     "traceback": [
      "An exception has occurred, use %tb to see the full traceback.\n",
      "\u001b[1;31mSystemExit\u001b[0m\n"
     ]
    }
   ],
   "source": [
    "import sys\n",
    "for num in range(10):\n",
    "    print(\"Num : \",num)\n",
    "    if num%4 == 0:\n",
    "        sys.exit()\n",
    "print(\"Loop ends\")\n",
    "\n",
    "print(help(dir(sys)))"
   ]
  },
  {
   "cell_type": "code",
   "execution_count": 41,
   "metadata": {},
   "outputs": [
    {
     "name": "stdout",
     "output_type": "stream",
     "text": [
      "*****\n",
      "*****\n",
      "*****\n",
      "*****\n",
      "*****\n"
     ]
    }
   ],
   "source": [
    "for i1 in range(1,6):\n",
    "    for i2 in range(5):\n",
    "        print('*',end='')\n",
    "    print()"
   ]
  },
  {
   "cell_type": "code",
   "execution_count": 42,
   "metadata": {},
   "outputs": [
    {
     "name": "stdout",
     "output_type": "stream",
     "text": [
      "1\n",
      "22\n",
      "333\n",
      "4444\n",
      "55555\n"
     ]
    }
   ],
   "source": [
    "for i1 in range(1,6):\n",
    "    for i2 in range(i1):\n",
    "        print(i1,end='')\n",
    "    print()"
   ]
  },
  {
   "cell_type": "code",
   "execution_count": 43,
   "metadata": {},
   "outputs": [
    {
     "name": "stdout",
     "output_type": "stream",
     "text": [
      "1\n",
      "22\n",
      "333\n",
      "4444\n",
      "55555\n"
     ]
    }
   ],
   "source": [
    "for i1 in range(1,6):\n",
    "    print(str(i1)*i1)"
   ]
  },
  {
   "cell_type": "code",
   "execution_count": 44,
   "metadata": {},
   "outputs": [
    {
     "name": "stdout",
     "output_type": "stream",
     "text": [
      "**\n",
      "***\n",
      "****\n",
      "*****\n",
      "******\n"
     ]
    }
   ],
   "source": [
    "for i1 in range (1,6):\n",
    "    for i2 in range(i1+1):\n",
    "        print('*',end='')\n",
    "    print()"
   ]
  },
  {
   "cell_type": "code",
   "execution_count": null,
   "metadata": {},
   "outputs": [],
   "source": []
  }
 ],
 "metadata": {
  "kernelspec": {
   "display_name": "Python 3",
   "language": "python",
   "name": "python3"
  },
  "language_info": {
   "codemirror_mode": {
    "name": "ipython",
    "version": 3
   },
   "file_extension": ".py",
   "mimetype": "text/x-python",
   "name": "python",
   "nbconvert_exporter": "python",
   "pygments_lexer": "ipython3",
   "version": "3.7.1"
  }
 },
 "nbformat": 4,
 "nbformat_minor": 2
}
