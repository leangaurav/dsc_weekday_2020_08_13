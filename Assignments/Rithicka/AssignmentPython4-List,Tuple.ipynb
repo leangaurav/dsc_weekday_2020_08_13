{
 "cells": [
  {
   "cell_type": "code",
   "execution_count": 1,
   "metadata": {},
   "outputs": [
    {
     "name": "stdout",
     "output_type": "stream",
     "text": [
      "(1, 2, 3, 4, 5)\n",
      "[1, 2, 3, 4, 5]\n"
     ]
    }
   ],
   "source": [
    "# Convert a Tuple t = (1,2,3,4,5) to a list \n",
    "t = (1,2,3,4,5)\n",
    "l = list(t)\n",
    "print(t)\n",
    "print(l)"
   ]
  },
  {
   "cell_type": "code",
   "execution_count": 5,
   "metadata": {},
   "outputs": [
    {
     "name": "stdout",
     "output_type": "stream",
     "text": [
      "Original List and Tuple:  [1, 3, 5, 7] (8, 6, 4, 2)\n",
      "After joining list and tuple: \n",
      "[1, 3, 5, 7, (8, 6, 4, 2)]\n"
     ]
    }
   ],
   "source": [
    "# WAP to join a list and a tuple:\n",
    "# L = [1,3,5,7]\n",
    "# T = (8,6,4,2)\n",
    "#  Store the result in a list LS \n",
    "\n",
    "\n",
    "import copy\n",
    "l = [1,3,5,7]\n",
    "t = (8,6,4,2)\n",
    "#print(dir(copy))\n",
    "ls = copy.deepcopy(l)\n",
    "ls.append(t)\n",
    "print(\"Original List and Tuple: \", l,t)\n",
    "print(\"After joining list and tuple: \")\n",
    "print(ls)"
   ]
  },
  {
   "cell_type": "markdown",
   "metadata": {},
   "source": [
    "list is mutable \n",
    "tuple is immutable\n",
    "\n",
    "-------------------------------------------------------------------------------------------------------------------------------\n",
    "\n",
    "Literal\n",
    "\n",
    "someTuple = (1,2)\n",
    "someList  = [1,2] \n",
    "\n",
    "-------------------------------------------------------------------------------------------------------------------------------\n",
    "\n",
    "Size\n",
    "\n",
    "a = tuple(range(1000))\n",
    "b = list(range(1000))\n",
    "\n",
    "a.__sizeof__() # 8024\n",
    "b.__sizeof__() # 9088\n",
    "\n",
    "Due to the smaller size of a tuple operation, it becomes a bit faster, but not that much to mention about until you have a huge number of elements\n",
    "\n",
    "-------------------------------------------------------------------------------------------------------------------------------\n",
    "\n",
    "Permitted operations\n",
    "\n",
    "b    = [1,2]   \n",
    "b[0] = 3       # [3, 2]\n",
    "\n",
    "a    = (1,2)\n",
    "a[0] = 3       # Error\n",
    "\n",
    "That also means that you can't delete an element or sort a tuple. However, you could add a new element to both list and tuple with the only difference that since the tuple is immutable, you are not really adding an element but you are creating a new tuple, so the id of will change\n",
    "\n",
    "a     = (1,2)\n",
    "b     = [1,2]  \n",
    "\n",
    "id(a)          # 140230916716520\n",
    "id(b)          # 748527696\n",
    "\n",
    "a   += (3,)    # (1, 2, 3)\n",
    "b   += [3]     # [1, 2, 3]\n",
    "\n",
    "id(a)          # 140230916878160\n",
    "id(b)          # 748527696\n",
    "\n",
    "\n",
    "-------------------------------------------------------------------------------------------------------------------------------\n",
    "\n",
    "Usage\n",
    "\n",
    "As a list is mutable, it can't be used as a key in a dictionary, whereas a tuple can be used.\n",
    "\n",
    "a    = (1,2)\n",
    "b    = [1,2] \n",
    "\n",
    "c = {a: 1}     # OK\n",
    "c = {b: 1}     # Error\n",
    "\n",
    "-------------------------------------------------------------------------------------------------------------------------------"
   ]
  },
  {
   "cell_type": "code",
   "execution_count": 9,
   "metadata": {},
   "outputs": [
    {
     "name": "stdout",
     "output_type": "stream",
     "text": [
      "['C', 'A', 'c', 'd', 'a']\n"
     ]
    }
   ],
   "source": [
    "#  list in reverse order\n",
    "\n",
    "l = ['a','d','c','A','C'] \n",
    "l1 = l[::-1]\n",
    "print(l1)"
   ]
  },
  {
   "cell_type": "code",
   "execution_count": 12,
   "metadata": {},
   "outputs": [
    {
     "name": "stdout",
     "output_type": "stream",
     "text": [
      "[11, 21, 31, 41]\n"
     ]
    }
   ],
   "source": [
    "# Print Elements at Odd indexes from a list (Do not use loop)\n",
    "\n",
    "l = [10,11,20, 21,30, 31, 40, 41] \n",
    "print(l[1:len(l):2])"
   ]
  },
  {
   "cell_type": "code",
   "execution_count": 18,
   "metadata": {},
   "outputs": [
    {
     "name": "stdout",
     "output_type": "stream",
     "text": [
      "['a', 'd', 'c', 'A', 'C']\n",
      "['a', 'd', 'c', 'A', 'C']\n",
      "['a', 'd', 'c', 'A', 'C']\n",
      "['a', 'd', 'c', 'A', 'C']\n"
     ]
    }
   ],
   "source": [
    "# How many ways you can copy a list\n",
    "\n",
    "import copy\n",
    "l = ['a','d','c','A','C'] \n",
    "l1 = l[:]\n",
    "l2 = copy.copy(l1)\n",
    "l3 = copy.deepcopy(l1)\n",
    "l4 = l1\n",
    "print(l1)\n",
    "print(l2)\n",
    "print(l3)\n",
    "print(l4)\n",
    "\n",
    "\n",
    "### Appending element by element to a new list\n",
    "### Can use slicing to copy\n",
    "### Shallow copy method\n",
    "### Extend to copy \n",
    "### Deep copy"
   ]
  },
  {
   "cell_type": "code",
   "execution_count": 19,
   "metadata": {},
   "outputs": [
    {
     "name": "stdout",
     "output_type": "stream",
     "text": [
      "a\n",
      "5\n"
     ]
    }
   ],
   "source": [
    "n_list = [\"Happy\", [2,0,1,5]]\n",
    "print(n_list[0][1])\n",
    "print(n_list[1][3])"
   ]
  },
  {
   "cell_type": "code",
   "execution_count": 20,
   "metadata": {},
   "outputs": [
    {
     "name": "stdout",
     "output_type": "stream",
     "text": [
      "[1, 4, 6, 8]\n",
      "[1, 3, 5, 7]\n"
     ]
    }
   ],
   "source": [
    "odd = [2,4,6,8]\n",
    "odd[0] = 1\n",
    "print(odd)\n",
    "odd[1:4]=[3,5,7]\n",
    "print(odd)"
   ]
  },
  {
   "cell_type": "code",
   "execution_count": 21,
   "metadata": {},
   "outputs": [
    {
     "name": "stdout",
     "output_type": "stream",
     "text": [
      "[1, 3, 5, [7, 9]]\n",
      "[1, 3, 5, [7, 9], 11, 13]\n"
     ]
    }
   ],
   "source": [
    "odd=[1,3,5]\n",
    "odd.append([7,9])\n",
    "print(odd)\n",
    "odd.extend([11,13])\n",
    "print(odd)"
   ]
  },
  {
   "cell_type": "code",
   "execution_count": 24,
   "metadata": {},
   "outputs": [
    {
     "name": "stdout",
     "output_type": "stream",
     "text": [
      "<class 'tuple'>\n",
      "<class 'int'>\n",
      "<class 'int'>\n",
      "<class 'tuple'>\n"
     ]
    }
   ],
   "source": [
    "x=1,2,3\n",
    "print(type(x))\n",
    "x=(1)\n",
    "print(type(x))\n",
    "x=1\n",
    "print(type(x))\n",
    "x=1,\n",
    "print(type(x))"
   ]
  },
  {
   "cell_type": "code",
   "execution_count": 41,
   "metadata": {},
   "outputs": [
    {
     "name": "stdout",
     "output_type": "stream",
     "text": [
      "Enter the number of rows:2\n",
      "Enter the number of columns:2\n",
      "Enter the entries in a single line (separated by space): \n",
      "1 2 3 4\n",
      "The matrix is as follows: \n",
      "[1, 2]\n",
      "[3, 4]\n"
     ]
    }
   ],
   "source": [
    "def matr(r,c,e):\n",
    "    p=1\n",
    "    print(\"The matrix is as follows: \")\n",
    "    while(p<=r):\n",
    "        m1 = e[0:c]\n",
    "        print(m1)\n",
    "        p+=1\n",
    "        e=e[c:]\n",
    "        \n",
    "\n",
    "r = int(input(\"Enter the number of rows:\")) \n",
    "c = int(input(\"Enter the number of columns:\")) \n",
    "print(\"Enter the entries in a single line (separated by space): \")   \n",
    "e= list(map(int, input().split())) \n",
    "matr(r,c,e)\n",
    "\n"
   ]
  },
  {
   "cell_type": "code",
   "execution_count": 42,
   "metadata": {},
   "outputs": [
    {
     "name": "stdout",
     "output_type": "stream",
     "text": [
      "('s', 't', 'r', 'i', 'n', 'g')\n",
      "('g', 'n', 'i', 'r', 't', 's')\n",
      "('n', 's')\n"
     ]
    }
   ],
   "source": [
    "t=tuple('string')\n",
    "print(t)\n",
    "print(t[::-1])\n",
    "print(t[::2][::-2])"
   ]
  },
  {
   "cell_type": "code",
   "execution_count": 43,
   "metadata": {},
   "outputs": [
    {
     "name": "stdout",
     "output_type": "stream",
     "text": [
      "True\n",
      "False\n",
      "1\n",
      "3\n"
     ]
    }
   ],
   "source": [
    "t=tuple([10,20,30,40,50,60])\n",
    "print(60 in t)\n",
    "print('60' in t)\n",
    "print(t.count(10))\n",
    "print(t.index(40))"
   ]
  },
  {
   "cell_type": "code",
   "execution_count": 44,
   "metadata": {},
   "outputs": [
    {
     "name": "stdout",
     "output_type": "stream",
     "text": [
      "Enter a string : rithicka\n",
      "Input string is not a palindrome\n"
     ]
    }
   ],
   "source": [
    "s = input(\"Enter a string : \")\n",
    "if(s == s[::-1]):\n",
    "    print(\"Input string is a palindrome\")\n",
    "else:\n",
    "    print(\"Input string is not a palindrome\")"
   ]
  },
  {
   "cell_type": "code",
   "execution_count": 48,
   "metadata": {},
   "outputs": [
    {
     "name": "stdout",
     "output_type": "stream",
     "text": [
      "(20, 15, 10, 5)\n"
     ]
    }
   ],
   "source": [
    "t=[]\n",
    "for i in range(20,0,-5):\n",
    "    t.append(i)\n",
    "print(tuple(t))"
   ]
  },
  {
   "cell_type": "code",
   "execution_count": 49,
   "metadata": {},
   "outputs": [
    {
     "name": "stdout",
     "output_type": "stream",
     "text": [
      "Enter a string : rithicka\n",
      "['r', 'i', 't', 'h', 'i', 'c', 'k', 'a']\n"
     ]
    }
   ],
   "source": [
    "s = input(\"Enter a string : \")\n",
    "l=[]\n",
    "for i in s:\n",
    "    l.append(i)\n",
    "print(l)"
   ]
  },
  {
   "cell_type": "code",
   "execution_count": 50,
   "metadata": {},
   "outputs": [
    {
     "name": "stdout",
     "output_type": "stream",
     "text": [
      "<class 'list'>\n",
      "<class 'NoneType'>\n",
      "<class 'str'>\n",
      "<class 'bool'>\n"
     ]
    }
   ],
   "source": [
    "print(type('1 2'.split()))\n",
    "print(type([1,3,2].sort()))\n",
    "print(type('abc'.upper()))\n",
    "print(type(1 in [1,2]))"
   ]
  },
  {
   "cell_type": "code",
   "execution_count": null,
   "metadata": {},
   "outputs": [],
   "source": []
  }
 ],
 "metadata": {
  "kernelspec": {
   "display_name": "Python 3",
   "language": "python",
   "name": "python3"
  },
  "language_info": {
   "codemirror_mode": {
    "name": "ipython",
    "version": 3
   },
   "file_extension": ".py",
   "mimetype": "text/x-python",
   "name": "python",
   "nbconvert_exporter": "python",
   "pygments_lexer": "ipython3",
   "version": "3.7.1"
  }
 },
 "nbformat": 4,
 "nbformat_minor": 2
}
