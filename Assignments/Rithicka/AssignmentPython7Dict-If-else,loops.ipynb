{
 "cells": [
  {
   "cell_type": "code",
   "execution_count": 17,
   "metadata": {},
   "outputs": [
    {
     "name": "stdout",
     "output_type": "stream",
     "text": [
      "{1: -1, 2: -2, 3: -3, 4: -4, 5: -5}\n",
      "{1: -1, 2: -2, 3: -3, 4: -4, 5: -5}\n"
     ]
    }
   ],
   "source": [
    "# WAP to create a dictionary of numbers mapped to their negative value for numbers from 1-5.\n",
    "# The dictionary should contain something like this:\n",
    "# Do with both with and without range based for loop.\n",
    "# {1:-1,2:-2,3:-3….} \n",
    "\n",
    "\n",
    "d={}\n",
    "for i in range(1,6):\n",
    "    d[i]=-i\n",
    "print(d)\n",
    "\n",
    "d={}\n",
    "i=1\n",
    "while i <= 5:\n",
    "    d[i]=-i\n",
    "    i=i+1\n",
    "print(d)\n",
    "    \n"
   ]
  },
  {
   "cell_type": "code",
   "execution_count": 29,
   "metadata": {},
   "outputs": [],
   "source": [
    "# d={1=2,2=3} \n",
    "# #print(d)- Syntax error\n",
    "# d={1:2,2:3} \n",
    "# #print(d)-works\n",
    "# d={1,2 ; 2,3} \n",
    "# #print(d)- Syntax error\n",
    "# d={(1,2),(2,3)} \n",
    "# #print(d)-works\n",
    "# d={'a':'A', 'b':1,'c':[1234]} \n",
    "# #print(d)-works\n",
    "# d={'a':'A', 'b':1, c:[1234]} \n",
    "# #print(d)- Name Error\n",
    "# d= dict([(1,2),(2,3)]) \n",
    "# #print(d)-works\n",
    "# d= dict(((1,2),(2,3))) \n",
    "# #print(d)-works\n",
    "# d= dict((1,2),(2,3)) \n",
    "# print(d)- Type error\n",
    "# d=dict(x=2, y=3)\n",
    "# #print(d)-keyword can't be an expression\n",
    "# d=dict('x'=2,'y'=3) \n",
    "# #print(d)- syntax error\n",
    "# d=dict(1=2,2=3) \n",
    "# #print(d)- syntax error"
   ]
  },
  {
   "cell_type": "code",
   "execution_count": 37,
   "metadata": {},
   "outputs": [
    {
     "name": "stdout",
     "output_type": "stream",
     "text": [
      "<zip object at 0x00000000049080C8>\n",
      "{1: 10, 2: 20, 3: 30, 4: 40}\n"
     ]
    }
   ],
   "source": [
    "# Read help for zip and write a program that has two lists\n",
    "# l1 = [1,2,3,4]\n",
    "# l2 = [10,20,30,40]\n",
    "# And converts them to a dictionary d containing { 1:10,2:20 …….}\n",
    "\n",
    "#help(zip)\n",
    "#print(zip([1,2,3,4],[10,20,30,40]))\n",
    "d=zip([1,2,3,4],[10,20,30,40])\n",
    "print(dict(d))\n"
   ]
  },
  {
   "cell_type": "code",
   "execution_count": 48,
   "metadata": {},
   "outputs": [
    {
     "name": "stdout",
     "output_type": "stream",
     "text": [
      "{'A': 65, 'B': 66, 'C': 67, 'D': 68, 'E': 69, 'F': 70, 'G': 71, 'H': 72, 'I': 73, 'J': 74, 'K': 75, 'L': 76, 'M': 77, 'N': 78, 'O': 79, 'P': 80, 'Q': 81, 'R': 82, 'S': 83, 'T': 84, 'U': 85, 'V': 86, 'W': 87, 'X': 88, 'Y': 89, 'Z': 90}\n"
     ]
    }
   ],
   "source": [
    "# Use range based for loop to store all upper case alphabets and their corresponding ASCII\n",
    "# values in the dictionary d.\n",
    "# The result should be d = {‘A’: 65, ‘B’:66,…..}\n",
    "\n",
    "al=[]\n",
    "val=[]\n",
    "\n",
    "def uppercase():\n",
    "    for i in range(65,91):\n",
    "        al.append(chr(i))\n",
    "        val.append(i)\n",
    "    print(dict(zip(al,val)))\n",
    "    \n",
    "def lowercase():\n",
    "    for i in range(97,123):\n",
    "        al.append(chr(i))\n",
    "        val.append(i)\n",
    "    print(dict(zip(al,val)))\n",
    "\n",
    "uppercase()"
   ]
  },
  {
   "cell_type": "code",
   "execution_count": 1,
   "metadata": {},
   "outputs": [
    {
     "name": "stdout",
     "output_type": "stream",
     "text": [
      "enter a number: 3\n",
      "corresponding word format is three\n",
      "dict_keys([0, 1, 2, 3, 4, 5, 6, 7, 8, 9])\n",
      "dict_values(['zero', 'one', 'two', 'three', 'four', 'five', 'six', 'seven', 'eight', 'nine'])\n",
      "dict_items([(0, 'zero'), (1, 'one'), (2, 'two'), (3, 'three'), (4, 'four'), (5, 'five'), (6, 'six'), (7, 'seven'), (8, 'eight'), (9, 'nine')])\n"
     ]
    }
   ],
   "source": [
    "# Create a mapping of number to word from 0-9. (0:’zero’……)\n",
    "# • Ask user for a single digit number and print the corresponding word format.\n",
    "# • Print all keys of above dictionary\n",
    "# • Print all Values of a dictionary\n",
    "# • Print all Key and Value pairs of above dictionary\n",
    "\n",
    "num={0:'zero',1:'one',2:'two',3:'three',4:'four',5:'five',6:'six',7:'seven',8:'eight',9:'nine'}\n",
    "n=int(input(\"enter a number: \")) \n",
    "print(\"corresponding word format is\",num.get(n))\n",
    "print(num.keys())\n",
    "print(num.values())\n",
    "print(num.items())"
   ]
  },
  {
   "cell_type": "code",
   "execution_count": 3,
   "metadata": {},
   "outputs": [
    {
     "name": "stdout",
     "output_type": "stream",
     "text": [
      "{'A': 'Apple', 'B': 'Bat', 'C': 'Cat', 'D': 'Dog'}\n",
      "{'A': 'Apple', 'C': 'Cat'}\n"
     ]
    }
   ],
   "source": [
    "l1=['A','B','C','D']\n",
    "l2=['Apple','Bat','Cat','Dog']\n",
    "d1=dict(zip(l1,l2))\n",
    "print(d1)\n",
    "d2=dict(list(d1.items()) [::2])\n",
    "print(d2)"
   ]
  },
  {
   "cell_type": "code",
   "execution_count": 10,
   "metadata": {},
   "outputs": [
    {
     "name": "stdout",
     "output_type": "stream",
     "text": [
      "enter the string: RIthicka\n",
      "Vowels in the string:  {'a': 1, 'e': 0, 'i': 2, 'o': 0, 'u': 0}\n",
      "Frequency of chracters in the srting:  {'r': 1, 'i': 2, 't': 1, 'h': 1, 'c': 1, 'k': 1, 'a': 1}\n"
     ]
    }
   ],
   "source": [
    "# WAP to input a string and count occurrence of each vowel in a string.\n",
    "# Ex: if user enters:\n",
    "#  “Beautiful Day”\n",
    "# Output should Be:\n",
    "#  a:2\n",
    "#  e:1\n",
    "#  I :1\n",
    "#  o:0\n",
    "#  u:2 \n",
    "# Update above program to print frequency of each alphabet present in string\n",
    "\n",
    "s=input(\"enter the string: \")\n",
    "s=s.lower()\n",
    "vow = {'a':0, 'e':0, 'i':0, 'o':0, 'u':0}\n",
    "a={}\n",
    "for i in s:\n",
    "    if i in vow:\n",
    "        vow[i]=vow[i]+1\n",
    "    if i in a:\n",
    "        a[i]=a[i]+1\n",
    "    else:\n",
    "        a[i]=1\n",
    "\n",
    "print(\"Vowels in the string: \",vow)\n",
    "print(\"Frequency of chracters in the srting: \",a)"
   ]
  },
  {
   "cell_type": "code",
   "execution_count": 16,
   "metadata": {},
   "outputs": [
    {
     "name": "stdout",
     "output_type": "stream",
     "text": [
      "enter the string: count the words in the sentence in\n",
      "{'count': 1, 'the': 2, 'words': 1, 'in': 2, 'sentence': 1}\n"
     ]
    }
   ],
   "source": [
    "# WAP that takes a string as input and prints frequency of each word.\n",
    "# Ex: if input is “count the words in the sentence in”\n",
    "#  Output:\n",
    "# count: 1\n",
    "# the: 2\n",
    "# words: 1\n",
    "# in: 2\n",
    "# sentence: 1 \n",
    "\n",
    "\n",
    "s=input(\"enter the string: \")\n",
    "s=s.split(\" \")\n",
    "a={}  \n",
    "for i in s:\n",
    "    if i in a:\n",
    "        a[i]=a[i]+1\n",
    "    else:\n",
    "        a[i]=1\n",
    "print(a)"
   ]
  },
  {
   "cell_type": "raw",
   "metadata": {},
   "source": []
  },
  {
   "cell_type": "code",
   "execution_count": null,
   "metadata": {},
   "outputs": [],
   "source": []
  }
 ],
 "metadata": {
  "kernelspec": {
   "display_name": "Python 3",
   "language": "python",
   "name": "python3"
  },
  "language_info": {
   "codemirror_mode": {
    "name": "ipython",
    "version": 3
   },
   "file_extension": ".py",
   "mimetype": "text/x-python",
   "name": "python",
   "nbconvert_exporter": "python",
   "pygments_lexer": "ipython3",
   "version": "3.7.1"
  }
 },
 "nbformat": 4,
 "nbformat_minor": 2
}
