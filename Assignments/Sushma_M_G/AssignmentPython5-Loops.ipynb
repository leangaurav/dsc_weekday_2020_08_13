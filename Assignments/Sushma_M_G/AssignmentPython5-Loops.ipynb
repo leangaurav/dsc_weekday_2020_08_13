{
 "cells": [
  {
   "cell_type": "code",
   "execution_count": 2,
   "metadata": {},
   "outputs": [
    {
     "name": "stdout",
     "output_type": "stream",
     "text": [
      "Enter a number:5\n",
      "1\n",
      "2\n",
      "3\n",
      "4\n",
      "5\n"
     ]
    }
   ],
   "source": [
    "#1.WAP to print first n natural numbers(input n from user)\n",
    "#type1\n",
    "n = int(input(\"Enter a number:\"))\n",
    "i=0\n",
    "while n>i:\n",
    "    print(i+1)\n",
    "    i= i+1"
   ]
  },
  {
   "cell_type": "code",
   "execution_count": 3,
   "metadata": {},
   "outputs": [
    {
     "name": "stdout",
     "output_type": "stream",
     "text": [
      "Enter a number:5\n",
      "1\n",
      "2\n",
      "3\n",
      "4\n",
      "5\n"
     ]
    }
   ],
   "source": [
    "#type2\n",
    "n = int(input(\"Enter a number:\"))\n",
    "for i in range(1,n+1):\n",
    "    print(i)"
   ]
  },
  {
   "cell_type": "code",
   "execution_count": 10,
   "metadata": {},
   "outputs": [
    {
     "name": "stdout",
     "output_type": "stream",
     "text": [
      "Enter a number:5\n",
      "The sum is: 15\n"
     ]
    }
   ],
   "source": [
    "#2.WAP to find sum of first n natural numbers\n",
    "s = 0\n",
    "for i in range(int(input(\"Enter a number:\"))+1):\n",
    "    s= s + i\n",
    "print(\"The sum is:\",s)"
   ]
  },
  {
   "cell_type": "code",
   "execution_count": 3,
   "metadata": {},
   "outputs": [
    {
     "name": "stdout",
     "output_type": "stream",
     "text": [
      "Enter a number:5\n",
      "5\n",
      "4\n",
      "3\n",
      "2\n",
      "1\n",
      "\n",
      "Enter a number:5\n",
      "5\n",
      "4\n",
      "3\n",
      "2\n",
      "1\n"
     ]
    }
   ],
   "source": [
    "#3.WAP to print first natural numbers in reverse order\n",
    "#type1\n",
    "n = int(input(\"Enter a number:\"))\n",
    "while 1<=n:\n",
    "    print(n)\n",
    "    n = n-1\n",
    "print()\n",
    "#type2\n",
    "n = int(input(\"Enter a number:\"))\n",
    "for e in range(n,0,-1):\n",
    "    print(e)"
   ]
  },
  {
   "cell_type": "code",
   "execution_count": 2,
   "metadata": {},
   "outputs": [
    {
     "name": "stdout",
     "output_type": "stream",
     "text": [
      "Enter a number:5\n",
      "120\n",
      "\n",
      "Enter a number:5\n",
      "120\n"
     ]
    }
   ],
   "source": [
    "#4. WAP to input a number and print its factorial\n",
    "#type1\n",
    "n = int(input(\"Enter a number:\"))\n",
    "fact = 1\n",
    "i = 2\n",
    "while i <=n:\n",
    "    fact = fact*i\n",
    "    i = i+1\n",
    "print(fact)\n",
    "print()\n",
    "#type2\n",
    "n = int(input(\"Enter a number:\"))\n",
    "fact = 1\n",
    "for e in range(2,n+1):\n",
    "    fact = fact * e\n",
    "print(fact)"
   ]
  },
  {
   "cell_type": "code",
   "execution_count": 74,
   "metadata": {},
   "outputs": [
    {
     "name": "stdout",
     "output_type": "stream",
     "text": [
      "The sequence number:5\n",
      "0 1 1 2 3 "
     ]
    }
   ],
   "source": [
    "#5. WAP to print fibonacci sequence till n\n",
    "n1 = 0\n",
    "n2 = 1\n",
    "n = int(input(\"The sequence number:\"))\n",
    "for e in range(0,n):\n",
    "    if e == 0:\n",
    "        print(0,end =\" \")\n",
    "    elif e == 1:\n",
    "        print(1,end =\" \")\n",
    "    else:\n",
    "        e = n1 + n2\n",
    "        n1 = n2\n",
    "        n2 = e\n",
    "        print(e,end =' ')"
   ]
  },
  {
   "cell_type": "code",
   "execution_count": 79,
   "metadata": {},
   "outputs": [
    {
     "name": "stdout",
     "output_type": "stream",
     "text": [
      "Enter a number:7829\n",
      "7 8 2 9 "
     ]
    }
   ],
   "source": [
    "#6.WAP to print all the digits of a number, input number from user\n",
    "n = input(\"Enter a number:\")\n",
    "if n.isnumeric()== True:\n",
    "    for e in range(0,len(n)):\n",
    "        print(n[e],end = ' ')\n",
    "else:\n",
    "    print(\"Enter a valid input\")"
   ]
  },
  {
   "cell_type": "code",
   "execution_count": 81,
   "metadata": {},
   "outputs": [
    {
     "name": "stdout",
     "output_type": "stream",
     "text": [
      "Enter a number:12345\n",
      "15\n"
     ]
    }
   ],
   "source": [
    "#7. WAP to find the sum of all digits of a number\n",
    "n = input(\"Enter a number:\")\n",
    "s = 0\n",
    "if n.isnumeric()== True:\n",
    "    for e in range(0,len(n)):\n",
    "        s = s +int(n[e])\n",
    "    print(s)\n",
    "else:\n",
    "    print(\"Enter a valid input\")"
   ]
  },
  {
   "cell_type": "code",
   "execution_count": 85,
   "metadata": {},
   "outputs": [
    {
     "name": "stdout",
     "output_type": "stream",
     "text": [
      "Enter a number:5\n",
      "153\n"
     ]
    }
   ],
   "source": [
    "#8. WAP to find the sum of following series, given n as input from user\n",
    "#   1 + 2! + 3! + 4! + ... +n!\n",
    "#   where n denotes factorial of n\n",
    "n = int(input(\"Enter a number:\"))\n",
    "fact = 1\n",
    "s = 1\n",
    "for e in range(2,n+1):\n",
    "    fact = fact *e\n",
    "    s = s + fact\n",
    "print(s)"
   ]
  },
  {
   "cell_type": "code",
   "execution_count": 96,
   "metadata": {},
   "outputs": [
    {
     "name": "stdout",
     "output_type": "stream",
     "text": [
      "Enter the base number:5\n",
      "Enter the exponent number:3\n",
      "125\n"
     ]
    }
   ],
   "source": [
    "#9. WAP to input base and exponent and print result without using inbuilt function pow(Use for or while loop)\n",
    "base = int(input(\"Enter the base number:\"))\n",
    "exponent = int(input(\"Enter the exponent number:\"))\n",
    "p = 1\n",
    "i = 1\n",
    "while i<=exponent:\n",
    "    if base ==0:\n",
    "        p =0\n",
    "    else:\n",
    "        p = p*base\n",
    "        i = i + 1\n",
    "print(p)"
   ]
  },
  {
   "cell_type": "code",
   "execution_count": 103,
   "metadata": {},
   "outputs": [
    {
     "name": "stdout",
     "output_type": "stream",
     "text": [
      "Enter the number:5\n",
      "*\n",
      "**\n",
      "***\n",
      "****\n",
      "*****\n"
     ]
    }
   ],
   "source": [
    "#10. Print following pattern:\n",
    "#*\n",
    "#**\n",
    "#***\n",
    "#****\n",
    "#*****\n",
    "n = int(input(\"Enter the number:\"))\n",
    "for e in range(1,n+1):\n",
    "    for f in range(e):\n",
    "        print(\"*\",end='')\n",
    "    print()"
   ]
  },
  {
   "cell_type": "code",
   "execution_count": 113,
   "metadata": {},
   "outputs": [
    {
     "name": "stdout",
     "output_type": "stream",
     "text": [
      "Enter the number:5\n",
      "*****\n",
      "****\n",
      "***\n",
      "**\n",
      "*\n"
     ]
    }
   ],
   "source": [
    "#*****\n",
    "#****\n",
    "#***\n",
    "#**\n",
    "#*\n",
    "n = int(input(\"Enter the number:\"))\n",
    "for e in range(1,n+1):\n",
    "    for f in range(e,n+1):\n",
    "        print('*',end='')\n",
    "    print()"
   ]
  },
  {
   "cell_type": "code",
   "execution_count": 121,
   "metadata": {},
   "outputs": [
    {
     "name": "stdout",
     "output_type": "stream",
     "text": [
      "Enter the number:5\n",
      "    *\n",
      "   **\n",
      "  ***\n",
      " ****\n",
      "*****\n"
     ]
    }
   ],
   "source": [
    "#    *\n",
    "#   **\n",
    "#  ***\n",
    "# ****\n",
    "#*****   \n",
    "n = int(input(\"Enter the number:\"))\n",
    "for e in range(1,n+1):\n",
    "    for f in range(n,0,-1):\n",
    "        if e<f:\n",
    "            print(\" \",end='')\n",
    "        else:\n",
    "            print(\"*\",end ='')\n",
    "    print()"
   ]
  },
  {
   "cell_type": "code",
   "execution_count": 128,
   "metadata": {},
   "outputs": [],
   "source": [
    "#    *\n",
    "#   * *\n",
    "#  * * * \n",
    "# * * * *\n",
    "#* * * * *\n"
   ]
  }
 ],
 "metadata": {
  "kernelspec": {
   "display_name": "Python 3",
   "language": "python",
   "name": "python3"
  },
  "language_info": {
   "codemirror_mode": {
    "name": "ipython",
    "version": 3
   },
   "file_extension": ".py",
   "mimetype": "text/x-python",
   "name": "python",
   "nbconvert_exporter": "python",
   "pygments_lexer": "ipython3",
   "version": "3.8.3"
  }
 },
 "nbformat": 4,
 "nbformat_minor": 4
}
