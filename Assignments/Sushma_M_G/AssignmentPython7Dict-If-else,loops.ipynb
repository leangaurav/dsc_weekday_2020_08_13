{
 "cells": [
  {
   "cell_type": "code",
   "execution_count": 5,
   "metadata": {},
   "outputs": [
    {
     "name": "stdout",
     "output_type": "stream",
     "text": [
      "{1: -1, 2: -2, 3: -3, 4: -4, 5: -5}\n",
      "\n",
      "{1: -1, 2: -2, 3: -3, 4: -4, 5: -5}\n"
     ]
    }
   ],
   "source": [
    "#1.WAP to create a dictionary of numbers mapped to their negative value for numbers from 1-5.\n",
    "#The dictionary should contain something like this:\n",
    "#Do with both with and without range based for loop. {1:-1,2:-2...}\n",
    "#with range\n",
    "d = {}\n",
    "for i in range(1,6):\n",
    "    d[i] = -i\n",
    "print(d)\n",
    "print()\n",
    "#without range\n",
    "l = [1,2,3,4,5]\n",
    "for i in l:\n",
    "    d[i] = -i\n",
    "print(d)"
   ]
  },
  {
   "cell_type": "code",
   "execution_count": 25,
   "metadata": {},
   "outputs": [],
   "source": [
    "#2.Check which of the following declartions will work\n",
    "#1. d = {1=2,2=3} -SyntaxError\n",
    "#2. d = {1:2,2:3} - creates dictionary\n",
    "#3. d = {1,2;2,3} - SyntaxError\n",
    "#4. d = {'a':'A','b':1,'c':[1234]} - creates dictionary\n",
    "#5. d = {(1,2),(2,3)} - creates set not dictionary\n",
    "#6. d={'a':'A', 'b':1, c:[1234]} - NameError\n",
    "#7. d= dict([(1,2),(2,3)]) - creates dictionary\n",
    "#8. d= dict(((1,2),(2,3))) -creates dictionary\n",
    "#9. d= dict((1,2),(2,3)) -TypeError: dict expected at most 1 argument, got 2\n",
    "#10. d=dict(x=2, y=3) - creates dictionary\n",
    "#11. d=dict('x'=2,'y'=3) -SyntaxError: expression cannot contain assignment, perhaps you meant \"==\"?\n",
    "#12. d=dict(1=2,2=3) -SyntaxError: expression cannot contain assignment, perhaps you meant \"==\"?"
   ]
  },
  {
   "cell_type": "code",
   "execution_count": 42,
   "metadata": {},
   "outputs": [
    {
     "name": "stdout",
     "output_type": "stream",
     "text": [
      "{1: 10, 2: 20, 3: 30, 4: 40}\n",
      "\n",
      "{1: 10, 2: 20, 3: 30, 4: 40}\n"
     ]
    }
   ],
   "source": [
    "#3.Read help for zip and write a program that has two lists\n",
    "#  l1 = [1,2,3,4]\n",
    "#  l2 = [10,20,30,40]\n",
    "#  And converts them to a dictionary d containing { 1:10,2:20 …….}\n",
    "l1 = [1,2,3,4]\n",
    "l2 = [10,20,30,40]\n",
    "d = {}\n",
    "for i in range(len(l1)):\n",
    "    d[l1[i]] = l2[i]\n",
    "print(d) # disadvantage when l1 not equal to l2\n",
    "print()\n",
    "#using zip()\n",
    "for i,j in zip(l1,l2):\n",
    "    d[i] = j\n",
    "print(d)"
   ]
  },
  {
   "cell_type": "code",
   "execution_count": 48,
   "metadata": {},
   "outputs": [
    {
     "name": "stdout",
     "output_type": "stream",
     "text": [
      "{'A': 65, 'B': 66, 'C': 67, 'D': 68, 'E': 69, 'F': 70, 'G': 71, 'H': 72, 'I': 73, 'J': 74, 'K': 75, 'L': 76, 'M': 77, 'N': 78, 'O': 79, 'P': 80, 'Q': 81, 'R': 82, 'S': 83, 'T': 84, 'U': 85, 'V': 86, 'W': 87, 'X': 88, 'Y': 89, 'Z': 90}\n"
     ]
    }
   ],
   "source": [
    "#4. Use range based for loop to store all upper case alphabets and their corresponding ASCII\n",
    "#   values in the dictionary d.\n",
    "#   The result should be d = {‘A’: 65, ‘B’:66,…..}\n",
    "d = {}\n",
    "for i in range(65,ord('Z')+1):\n",
    "    d[chr(i)] = i\n",
    "print(d)"
   ]
  },
  {
   "cell_type": "code",
   "execution_count": 67,
   "metadata": {},
   "outputs": [
    {
     "name": "stdout",
     "output_type": "stream",
     "text": [
      "{0: 'ZERO', 1: 'ONE', 2: 'TWO', 3: 'THREE', 4: 'FOUR', 5: 'FIVE', 6: 'SIX', 7: 'SEVEN', 8: 'EIGHT', 9: 'NINE'}\n",
      "Enter a single digit number:1\n",
      "Entered number in words is ONE\n"
     ]
    }
   ],
   "source": [
    "# 5. Create a mapping of number to word from 0-9. (0:’zero’……)\n",
    "#• Ask user for a single digit number and print the corresponding word format.\n",
    "#• Print all keys of above dictionary\n",
    "#• Print all Values of a dictionary\n",
    "#• Print all Key and Value pairs of above dictionary\n",
    "numbers = [0,1,2,3,4,5,6,7,8,9]\n",
    "number_in_words = ['ZERO','ONE','TWO','THREE','FOUR','FIVE','SIX','SEVEN','EIGHT','NINE'] \n",
    "d = {}\n",
    "for i,j in zip(numbers,number_in_words):\n",
    "    d[i] = j\n",
    "print(d)\n",
    "N = input(\"Enter a single digit number:\")\n",
    "if (len(N))==1:\n",
    "    print(f\"Entered number in words is {d.get(int(N))}\")\n",
    "else:\n",
    "    print(f\"Entered number {int(N)} is not single digit\")"
   ]
  },
  {
   "cell_type": "code",
   "execution_count": 70,
   "metadata": {},
   "outputs": [
    {
     "name": "stdout",
     "output_type": "stream",
     "text": [
      "{'A': 'Apple', 'B': 'Ball', 'C': 'Cat', 'D': 'Dog'}\n",
      "{'A': 'Apple', 'C': 'Cat'}\n"
     ]
    }
   ],
   "source": [
    "#6. Predict the output:\n",
    "l1 = ['A','B','C','D']\n",
    "l2 = ['Apple','Ball','Cat','Dog']\n",
    "d1 = dict(zip(l1,l2))\n",
    "print(d1) # creates dictionary: keys as l1 and values l2\n",
    "d2 = dict(list(d1.items())[::2])\n",
    "print(d2) # print dict of A and C keys"
   ]
  },
  {
   "cell_type": "code",
   "execution_count": 82,
   "metadata": {},
   "outputs": [
    {
     "name": "stdout",
     "output_type": "stream",
     "text": [
      "Enter a string:Beautiful day\n",
      "{'a': 2, 'e': 1, 'i': 1, 'o': 0, 'u': 2}\n",
      "a : 2\n",
      "e : 1\n",
      "i : 1\n",
      "o : 0\n",
      "u : 2\n"
     ]
    }
   ],
   "source": [
    "#7. WAP to input a string and count occurrence of each vowel in a string.\n",
    "#   Ex: if user enters:\n",
    "#   “Beautiful Day”\n",
    "#    Output should Be:\n",
    "#    a:2\n",
    "#    e:1\n",
    "#    I :1\n",
    "#    o:0\n",
    "#    u:2 \n",
    "String = input(\"Enter a string:\").casefold()\n",
    "Dict = {}\n",
    "for vowel in 'aeiou':\n",
    "    Count = String.count(vowel)\n",
    "    Dict[vowel] = Count\n",
    "print(Dict)\n",
    "for keys,values in Dict.items():\n",
    "    print(keys,':',values)"
   ]
  },
  {
   "cell_type": "code",
   "execution_count": 86,
   "metadata": {},
   "outputs": [
    {
     "name": "stdout",
     "output_type": "stream",
     "text": [
      "Enter a string:Beautiful day\n",
      "{'b': 1, 'e': 1, 'a': 2, 'u': 2, 't': 1, 'i': 1, 'f': 1, 'l': 1, ' ': 1, 'd': 1, 'y': 1}\n"
     ]
    }
   ],
   "source": [
    "#8.  Update above program to print frequency of each alphabet present in string. \n",
    "String = input(\"Enter a string:\").casefold()\n",
    "Dict1 = {}\n",
    "for freq in String:\n",
    "    Count = String.count(freq)\n",
    "    Dict1[freq] = Count\n",
    "print(Dict1)"
   ]
  },
  {
   "cell_type": "code",
   "execution_count": 91,
   "metadata": {},
   "outputs": [
    {
     "name": "stdout",
     "output_type": "stream",
     "text": [
      "Enter a string:count the words in the sentence in\n",
      "count : 1\n",
      "the : 2\n",
      "words : 1\n",
      "in : 2\n",
      "sentence : 1\n"
     ]
    }
   ],
   "source": [
    "#9. WAP that takes a string as input and prints frequency of each word.\n",
    "#   Ex: if input is “count the words in the sentence in”\n",
    "#   Output:\n",
    "#   count: 1\n",
    "#   the: 2\n",
    "#   words: 1\n",
    "#   in: 2\n",
    "#   sentence: 1 \n",
    "String = input(\"Enter a string:\").split()\n",
    "List_of_words = list(String)\n",
    "Dict2 = {}\n",
    "for freq_of_words in List_of_words:\n",
    "    Count = List_of_words.count(freq_of_words)\n",
    "    Dict2[freq_of_words] = Count\n",
    "#print(Dict2)\n",
    "for words,freq in Dict2.items():\n",
    "    print(words,':',freq)"
   ]
  }
 ],
 "metadata": {
  "kernelspec": {
   "display_name": "Python 3",
   "language": "python",
   "name": "python3"
  },
  "language_info": {
   "codemirror_mode": {
    "name": "ipython",
    "version": 3
   },
   "file_extension": ".py",
   "mimetype": "text/x-python",
   "name": "python",
   "nbconvert_exporter": "python",
   "pygments_lexer": "ipython3",
   "version": "3.8.3"
  }
 },
 "nbformat": 4,
 "nbformat_minor": 4
}
