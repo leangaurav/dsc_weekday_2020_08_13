{
 "cells": [
  {
   "cell_type": "code",
   "execution_count": 4,
   "metadata": {},
   "outputs": [
    {
     "name": "stdout",
     "output_type": "stream",
     "text": [
      "Enter a string:sushma\n",
      "s\n",
      "u\n",
      "s\n",
      "h\n",
      "m\n",
      "a\n"
     ]
    }
   ],
   "source": [
    "#1.WAP to input a string and print individual characters in the string using loop\n",
    "s = input(\"Enter a string:\")\n",
    "for e in range(len(s)):\n",
    "    print(s[e])"
   ]
  },
  {
   "cell_type": "code",
   "execution_count": 5,
   "metadata": {},
   "outputs": [
    {
     "name": "stdout",
     "output_type": "stream",
     "text": [
      "Enter a string:abcd\n",
      "a 97\n",
      "b 98\n",
      "c 99\n",
      "d 100\n"
     ]
    }
   ],
   "source": [
    "#2.WAP to input a string and print ASCII value of each character in the string\n",
    "s = input(\"Enter a string:\")\n",
    "for e in range(len(s)):\n",
    "    print(s[e],ord(s[e]))"
   ]
  },
  {
   "cell_type": "code",
   "execution_count": 24,
   "metadata": {},
   "outputs": [
    {
     "name": "stdout",
     "output_type": "stream",
     "text": [
      "Enter a number of elements:5\n",
      "\n",
      "Enter a number:1\n",
      "Enter a number:2\n",
      "Enter a number:1\n",
      "Enter a number:1\n",
      "Enter a number:3\n",
      "User Entered List is: [1, 2, 1, 1, 3]\n",
      "\n",
      "The list of odd numbers is: [1, 1, 1, 3]\n",
      "\n",
      "The sum of odd numbers 6\n"
     ]
    }
   ],
   "source": [
    "#3.WAF that takes a list of numbers from user as argument and returns the sum of only odd numbers(Use only loop, no need of if)\n",
    "n = int(input(\"Enter a number of elements:\"))\n",
    "print()\n",
    "l = []\n",
    "def sum_odd():\n",
    "    for e in range(0,n):\n",
    "        e = int(input(\"Enter a number:\"))\n",
    "        l.append(e)\n",
    "    print(\"User Entered List is:\",l)\n",
    "sum_odd()\n",
    "print()\n",
    "\n",
    "s = 0\n",
    "lt = list(filter(lambda x: x % 2 != 0, l))\n",
    "print(\"The list of odd numbers is:\",lt)\n",
    "print()\n",
    "for e in range(len(lt)):\n",
    "    s = s + lt[e]\n",
    "print(\"The sum of odd numbers\",s)"
   ]
  },
  {
   "cell_type": "code",
   "execution_count": 37,
   "metadata": {},
   "outputs": [
    {
     "name": "stdout",
     "output_type": "stream",
     "text": [
      "Enter a number of elements:5\n",
      "\n",
      "Enter a number:1\n",
      "Enter a number:2\n",
      "Enter a number:3\n",
      "Enter a number:4\n",
      "Enter a number:5\n",
      "User Entered List is: (1, 2, 3, 4, 5)\n",
      "\n",
      "Enter a number that is present in entered tuple:6\n",
      "The index of entered number in the tuple is -1\n"
     ]
    }
   ],
   "source": [
    "#4.WAP to input a list of numbers and store them in tuple. Now input another number and print the index of this number in tuple.\n",
    "n = int(input(\"Enter a number of elements:\"))\n",
    "print()\n",
    "l = []\n",
    "\n",
    "for e in range(0,n):\n",
    "    e = int(input(\"Enter a number:\"))\n",
    "    l.append(e)\n",
    "l1 = tuple(l)\n",
    "print(\"User Entered List is:\",l1)\n",
    "\n",
    "print()\n",
    "n1 = int(input(\"Enter a number that is present in entered tuple:\"))\n",
    "if n1 in l1:\n",
    "    x = l1.index(n1)\n",
    "else:\n",
    "    x = -1\n",
    "print(\"The index of entered number in the tuple is\",x)"
   ]
  },
  {
   "cell_type": "code",
   "execution_count": 65,
   "metadata": {},
   "outputs": [
    {
     "name": "stdout",
     "output_type": "stream",
     "text": [
      "The randomly entered list is: [9, 6, 1, 2, 2, 8, 8, 2, 2, 4]\n",
      "The sum of the numbers in the list 44\n",
      "The average of the numbers in the list 4.4\n"
     ]
    }
   ],
   "source": [
    "#5. Create a list of 10 random numbers and then print the list, sum of all numbers and average.Use a for loop and sum of numbers\n",
    "#   in the list\n",
    "import random\n",
    "n = 10\n",
    "la = []\n",
    "s2 = 0\n",
    "for e in range(10):\n",
    "    la.append(random.randrange(n))\n",
    "print(\"The randomly entered list is:\",la)\n",
    "for e in range(len(la)):\n",
    "    s2 = s2 + la[e]\n",
    "print(\"The sum of the numbers in the list\",s2)\n",
    "print(\"The average of the numbers in the list\",s2/10)"
   ]
  },
  {
   "cell_type": "code",
   "execution_count": 70,
   "metadata": {
    "scrolled": true
   },
   "outputs": [
    {
     "name": "stdout",
     "output_type": "stream",
     "text": [
      "Enter number:4\n",
      "Enter number:1\n",
      "Enter number:2\n",
      "Enter number:3\n",
      "Enter number:4\n",
      "Enter number:0\n",
      "Enter number:0\n",
      "Enter number:0\n",
      "Enter number:0\n",
      "Enter number:0\n",
      "The randomly entered list is: [4, 1, 2, 3, 4, 0, 0, 0, 0, 0]\n",
      "\n",
      "The sum is =  14\n"
     ]
    }
   ],
   "source": [
    "#6. WAP to input 10 numbers repeatedly(using range based for loop) and store them in list. Print the list and sum of the numbers\n",
    "#in the list\n",
    "l0=[]\n",
    "sm = 0\n",
    "for e in range(10):\n",
    "    l0.append(int(input(\"Enter number:\")))\n",
    "print(\"The randomly entered list is:\",l0)\n",
    "for f in range(len(l0)):\n",
    "    sm = sm + l0[f]\n",
    "print()\n",
    "print(\"The sum is = \",sm)"
   ]
  },
  {
   "cell_type": "code",
   "execution_count": 71,
   "metadata": {},
   "outputs": [
    {
     "name": "stdout",
     "output_type": "stream",
     "text": [
      "Enter a number:2\n",
      "2 x 1 =  2\n",
      "2 x 2 =  4\n",
      "2 x 3 =  6\n",
      "2 x 4 =  8\n",
      "2 x 5 =  10\n",
      "2 x 6 =  12\n",
      "2 x 7 =  14\n",
      "2 x 8 =  16\n",
      "2 x 9 =  18\n",
      "2 x 10 =  20\n"
     ]
    }
   ],
   "source": [
    "#7.WAP to input a number and print its table.\n",
    "n = int(input(\"Enter a number:\"))\n",
    "for e in range(1,11):\n",
    "    print(f\"{n} x {e} = \",n*e)"
   ]
  },
  {
   "cell_type": "code",
   "execution_count": 73,
   "metadata": {},
   "outputs": [
    {
     "name": "stdout",
     "output_type": "stream",
     "text": [
      "Enter a string:Sushm a gangal\n",
      "2\n"
     ]
    }
   ],
   "source": [
    "#8.WAP to input total number of spaces in a string(use for loop for iterate over the string. Dont use count function)\n",
    "s = input(\"Enter a string:\")\n",
    "c = 0\n",
    "for e in s:\n",
    "    if e.isspace() == True:\n",
    "        c = c+1\n",
    "print(c)"
   ]
  },
  {
   "cell_type": "code",
   "execution_count": 74,
   "metadata": {},
   "outputs": [
    {
     "name": "stdout",
     "output_type": "stream",
     "text": [
      "Sushma Gangal\n",
      "4\n"
     ]
    }
   ],
   "source": [
    "#9. WAP to input string and count the number of vowels in the string.[Note: it should work for both capital and small alphabets]\n",
    "l = ['a','e','i','o','u']\n",
    "s = input().casefold()\n",
    "c = 0\n",
    "for e in range(len(s)):\n",
    "    if s[e] in l:\n",
    "        c = c+1\n",
    "print(c)"
   ]
  },
  {
   "cell_type": "code",
   "execution_count": 75,
   "metadata": {},
   "outputs": [
    {
     "name": "stdout",
     "output_type": "stream",
     "text": [
      "Enter a string:Sushma Gangal\n",
      "s_shm_ g_ng_l\n"
     ]
    }
   ],
   "source": [
    "#10.WAP to input a string and replace all vowels with '_'\n",
    "l = ['a','e','i','o','u']\n",
    "s = input(\"Enter a string:\").casefold()\n",
    "for e in range(len(s)):\n",
    "    if s[e] in l:\n",
    "        s = s.replace(s[e],'_')\n",
    "        \n",
    "print(s)"
   ]
  },
  {
   "cell_type": "code",
   "execution_count": 36,
   "metadata": {},
   "outputs": [
    {
     "name": "stdout",
     "output_type": "stream",
     "text": [
      "Num:  0\n",
      "Loop ends\n"
     ]
    }
   ],
   "source": [
    "#11.Find Output:\n",
    "for num in range(10):\n",
    "    print(\"Num: \",num)\n",
    "    if num%4 == 0:\n",
    "        break\n",
    "print(\"Loop ends\")\n",
    "#0\n",
    "#Loop ends"
   ]
  },
  {
   "cell_type": "code",
   "execution_count": 78,
   "metadata": {},
   "outputs": [
    {
     "name": "stdout",
     "output_type": "stream",
     "text": [
      "Num:  0\n"
     ]
    },
    {
     "ename": "SystemExit",
     "evalue": "",
     "output_type": "error",
     "traceback": [
      "An exception has occurred, use %tb to see the full traceback.\n",
      "\u001b[1;31mSystemExit\u001b[0m\n"
     ]
    }
   ],
   "source": [
    "#11. Find Output:\n",
    "import sys\n",
    "for num in range(10):\n",
    "    print(\"Num: \",num)\n",
    "    if num %4 ==0:\n",
    "        sys.exit()\n",
    "print(\"Loop ends\")\n",
    "#Run as script"
   ]
  },
  {
   "cell_type": "code",
   "execution_count": 85,
   "metadata": {},
   "outputs": [
    {
     "name": "stdout",
     "output_type": "stream",
     "text": [
      "*****\n",
      "*****\n",
      "*****\n",
      "*****\n",
      "*****\n",
      "\n",
      "*\n",
      "**\n",
      "***\n",
      "****\n",
      "*****\n",
      "\n",
      "1\n",
      "22\n",
      "333\n",
      "4444\n",
      "55555\n",
      "\n",
      "**\n",
      "***\n",
      "****\n",
      "*****\n",
      "******\n"
     ]
    }
   ],
   "source": [
    "#12. \n",
    "for i1 in range(1,6):\n",
    "    for i2 in range(5):\n",
    "        print(\"*\",end = '') # prints * in 5 cross 5 matrix\n",
    "    print()\n",
    "#*****\n",
    "#*****\n",
    "#*****\n",
    "#*****\n",
    "#*****\n",
    "print()\n",
    "for i1 in range(1,6):\n",
    "    for i2 in range(i1):\n",
    "        print(\"*\",end = '')  #prints * in left right angled traingle\n",
    "        \n",
    "    print()\n",
    "#*\n",
    "#**\n",
    "#***\n",
    "#****\n",
    "#*****\n",
    "print()\n",
    "for i1 in range(1,6):\n",
    "    print(str(i1)*i1)\n",
    "#1\n",
    "#22\n",
    "#333\n",
    "#4444\n",
    "#55555\n",
    "print()\n",
    "for i1 in range(1,6):\n",
    "    for i2 in range(i1+1):\n",
    "        print(\"*\",end = '')\n",
    "    print()"
   ]
  }
 ],
 "metadata": {
  "kernelspec": {
   "display_name": "Python 3",
   "language": "python",
   "name": "python3"
  },
  "language_info": {
   "codemirror_mode": {
    "name": "ipython",
    "version": 3
   },
   "file_extension": ".py",
   "mimetype": "text/x-python",
   "name": "python",
   "nbconvert_exporter": "python",
   "pygments_lexer": "ipython3",
   "version": "3.8.3"
  }
 },
 "nbformat": 4,
 "nbformat_minor": 4
}
