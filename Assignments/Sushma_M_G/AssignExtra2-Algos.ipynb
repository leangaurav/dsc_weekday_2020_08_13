{
 "cells": [
  {
   "cell_type": "code",
   "execution_count": 19,
   "metadata": {},
   "outputs": [
    {
     "name": "stdout",
     "output_type": "stream",
     "text": [
      "[1, 2, 3, 4, 5]\n",
      "[5, 4, 3, 2, 1]\n"
     ]
    }
   ],
   "source": [
    "#1. WAF reverse_list() that takes list as argument and reverses the elements in the list in place( use indexes)\n",
    "Lt = [1,2,3,4,5]\n",
    "Lt1 = []\n",
    "for e in range(0,len(Lt)):\n",
    "    Lt1.append(Lt[len(Lt)-e-1])\n",
    "\n",
    "print(Lt)\n",
    "print(Lt1)"
   ]
  },
  {
   "cell_type": "code",
   "execution_count": 81,
   "metadata": {},
   "outputs": [
    {
     "name": "stdout",
     "output_type": "stream",
     "text": [
      "Enter the number of elements:6\n",
      "Enter a number:00\n",
      "Enter a number:99\n",
      "Enter a number:100\n",
      "Enter a number:66\n",
      "Enter a number:77\n",
      "Enter a number:88\n",
      "[0, 99, 100, 66, 77, 88]\n",
      "The count of even numbers is 4\n",
      "The count of odd numbers is 2\n"
     ]
    }
   ],
   "source": [
    "#2.WAF count_even_odd() that counts & returns how many numbers are even & how many are odd in a list of numbers passed as arg. \n",
    "L = []\n",
    "n = int(input(\"Enter the number of elements:\"))\n",
    "for e in range(n):\n",
    "    L.append(int(input(\"Enter a number:\")))\n",
    "print(L)\n",
    "\n",
    "def count_even_odd():\n",
    "    c1 = 0\n",
    "    c2 = 0\n",
    "    for e in range(0,len(L)):\n",
    "        if L[e] %2 == 0:\n",
    "            c1 = c1 + 1\n",
    "        else:\n",
    "            c2 = c2 + 1\n",
    "    print(\"The count of even numbers is\",c1)\n",
    "    print(\"The count of odd numbers is\",c2)\n",
    "count_even_odd()"
   ]
  },
  {
   "cell_type": "code",
   "execution_count": 90,
   "metadata": {},
   "outputs": [
    {
     "name": "stdout",
     "output_type": "stream",
     "text": [
      "The maximum number is: 100\n"
     ]
    }
   ],
   "source": [
    "#3. WAF: maximum() to return the largest number in a list of numbers (do not use max function).\n",
    "#Function takes a list or tuple of numbers as argument.\n",
    "def maximum():\n",
    "    m = L[0]\n",
    "    for e in range(1,len(L)):\n",
    "        if m < L[e]:\n",
    "            m = L[e]\n",
    "        else:\n",
    "            m = m\n",
    "    print(\"The maximum number is:\",m)\n",
    "maximum()\n"
   ]
  },
  {
   "cell_type": "code",
   "execution_count": 91,
   "metadata": {},
   "outputs": [
    {
     "name": "stdout",
     "output_type": "stream",
     "text": [
      "The second maximum number is: 99\n"
     ]
    }
   ],
   "source": [
    "#4.WAF: second_maximum() Create a new version of above code to return the second largest number. \n",
    "def second_max1():\n",
    "    L.sort()\n",
    "    sm = L[len(L)-2]\n",
    "    for e in range(len(L)-1,0,-1):\n",
    "        if L[e] < L[e-1]:\n",
    "            sm = L[e-1]\n",
    "    print(\"The second maximum number is:\",sm)\n",
    "second_max1()"
   ]
  },
  {
   "cell_type": "code",
   "execution_count": 93,
   "metadata": {},
   "outputs": [
    {
     "name": "stdout",
     "output_type": "stream",
     "text": [
      "The mean of list of numbers is: 71.66666666666667\n"
     ]
    }
   ],
   "source": [
    "#5.WAF: mean() that returns the mean of list of numbers passed to the function as argument\n",
    "\n",
    "def mean1():\n",
    "    s = 0\n",
    "    for e in range(len(L)):\n",
    "        s = s + L[e]\n",
    "    print(\"The mean of list of numbers is:\",s/n)\n",
    "mean1()"
   ]
  },
  {
   "cell_type": "code",
   "execution_count": 104,
   "metadata": {},
   "outputs": [
    {
     "name": "stdout",
     "output_type": "stream",
     "text": [
      "Enter a start range:70\n",
      "Enter a end range:90\n",
      "[77, 88]\n"
     ]
    }
   ],
   "source": [
    "#6 WAF: find_in_range() that takes a three arguments:\n",
    "# a list of numbers, start, end\n",
    "#The function returns a list of numbers from the original list, which lie between start and end.\n",
    "#Ex: find_in_range([3,10, 5, 8, 2, 7], 5, 9)\n",
    "# List of numbers = [3,10, 5, 8, 2, 7]\n",
    "# start = 5\n",
    "#end = 9\n",
    "# list returned should be [5, 8, 7] \n",
    "def in_range(L,start,end):\n",
    "    new_list = []\n",
    "    for e in range(len(L)):\n",
    "        if L[e] >= start and L[e] <= end:\n",
    "            new_list.append(L[e])\n",
    "        else:\n",
    "            pass\n",
    "    print(new_list)\n",
    "start = int(input(\"Enter a start range:\"))\n",
    "end = int(input(\"Enter a end range:\"))\n",
    "in_range(L,start,end)"
   ]
  }
 ],
 "metadata": {
  "kernelspec": {
   "display_name": "Python 3",
   "language": "python",
   "name": "python3"
  },
  "language_info": {
   "codemirror_mode": {
    "name": "ipython",
    "version": 3
   },
   "file_extension": ".py",
   "mimetype": "text/x-python",
   "name": "python",
   "nbconvert_exporter": "python",
   "pygments_lexer": "ipython3",
   "version": "3.8.3"
  }
 },
 "nbformat": 4,
 "nbformat_minor": 4
}
