{
 "cells": [
  {
   "cell_type": "code",
   "execution_count": 2,
   "metadata": {},
   "outputs": [
    {
     "name": "stdout",
     "output_type": "stream",
     "text": [
      "[1, 2, 3, 4]\n"
     ]
    }
   ],
   "source": [
    "#1. Convert tuple t = (1,2,3,4) to list\n",
    "t = (1,2,3,4)\n",
    "print(list(t))"
   ]
  },
  {
   "cell_type": "code",
   "execution_count": 5,
   "metadata": {},
   "outputs": [
    {
     "name": "stdout",
     "output_type": "stream",
     "text": [
      "[1, 3, 5, 7, 8, 6, 4, 2]\n"
     ]
    }
   ],
   "source": [
    "#2. WAP to join a list and tuple\n",
    "L = [1,3,5,7]\n",
    "T = (8,6,4,2)\n",
    "LS = L + list(T)\n",
    "print(LS)"
   ]
  },
  {
   "cell_type": "code",
   "execution_count": 38,
   "metadata": {},
   "outputs": [],
   "source": [
    "#3. Difference between List and Tuple\n",
    "#List is mutable and Tuple is immutable"
   ]
  },
  {
   "cell_type": "code",
   "execution_count": 12,
   "metadata": {},
   "outputs": [
    {
     "name": "stdout",
     "output_type": "stream",
     "text": [
      "C A c d a\n",
      "\n",
      "C A c d a "
     ]
    }
   ],
   "source": [
    "#4. Print the list in reverse order\n",
    "l = ['a','d','c','A','C']\n",
    "for e in range(len(l)-1,0,-1):\n",
    "    print(l[e],end=' ')\n",
    "print(l[0])\n",
    "print()\n",
    "for e in reversed(l):\n",
    "    print(e,end=' ')"
   ]
  },
  {
   "cell_type": "code",
   "execution_count": 22,
   "metadata": {},
   "outputs": [
    {
     "name": "stdout",
     "output_type": "stream",
     "text": [
      "[11, 21, 31, 41]\n",
      "\n",
      "11 21 31 41 "
     ]
    }
   ],
   "source": [
    "#5. Print the elements at Odd indexes from a list(Donot use loop)\n",
    "l = [10,11,20,21,30,31,40,41]\n",
    "print(l[1::2])\n",
    "print()\n",
    "for i in range(len(l)):\n",
    "    if i % 2 != 0:\n",
    "        print(l[i],end = ' ')\n",
    "    else:\n",
    "        pass"
   ]
  },
  {
   "cell_type": "code",
   "execution_count": 32,
   "metadata": {},
   "outputs": [
    {
     "name": "stdout",
     "output_type": "stream",
     "text": [
      "[4, 5, 6, 7, 8] 2032846456448\n",
      "[4, 5, 6, 7, 8] 2032845441344\n",
      "\n",
      "[1, 2, 3, 4, 5, 6] 2032845442816\n",
      "[1, 2, 3, 4, 5, 6] 2032845441216\n",
      "\n",
      "[0, 1, 2, 0, 1] 2032849779648\n",
      "[0, 1, 2, 0, 1] 2032845042752\n",
      "\n",
      "[10, 11, 12, 13, 14] 2032846072640\n",
      "[10, 11, 12, 13, 14, 88] 2032844633856\n"
     ]
    }
   ],
   "source": [
    "#6. How many ways you can copy a list\n",
    "#Way-1\n",
    "L1 = [4,5,6,7,8]\n",
    "L2 = L1[:]\n",
    "print(L1,id(L1))\n",
    "print(L2,id(L2))\n",
    "print()\n",
    "\n",
    "#Way-2\n",
    "L3 = [1,2,3,4,5,6]\n",
    "L4 = L3.copy()\n",
    "print(L3,id(L3))\n",
    "print(L4,id(L4))\n",
    "print()\n",
    "\n",
    "#Way-3\n",
    "L5 = [0,1,2,0,1]\n",
    "L6 = list(L5)\n",
    "print(L5,id(L5))\n",
    "print(L6,id(L6))\n",
    "print()\n",
    "\n",
    "#Way-4\n",
    "import copy\n",
    "L7 = [10,11,12,13,14]\n",
    "L8 = copy.deepcopy(L7)\n",
    "L8.append(88)\n",
    "print(L7,id(L7))\n",
    "print(L8,id(L8))"
   ]
  },
  {
   "cell_type": "code",
   "execution_count": 33,
   "metadata": {},
   "outputs": [
    {
     "name": "stdout",
     "output_type": "stream",
     "text": [
      "a\n",
      "5\n"
     ]
    }
   ],
   "source": [
    "#7.Predict the Output:\n",
    "n_list = [\"Happy\",[2,0,1,5]]\n",
    "print(n_list[0][1]) #a\n",
    "print(n_list[1][3]) #5"
   ]
  },
  {
   "cell_type": "code",
   "execution_count": 34,
   "metadata": {},
   "outputs": [
    {
     "name": "stdout",
     "output_type": "stream",
     "text": [
      "[1, 4, 6, 8]\n",
      "[1, 3, 5, 7]\n"
     ]
    }
   ],
   "source": [
    "#8.Predict the Output:\n",
    "odd = [2,4,6,8]\n",
    "odd[0] = 1\n",
    "print(odd) #[1,4,6,8]\n",
    "odd[1:4] = [3,5,7] \n",
    "print(odd)# [1,3,5,7]"
   ]
  },
  {
   "cell_type": "code",
   "execution_count": 35,
   "metadata": {},
   "outputs": [
    {
     "name": "stdout",
     "output_type": "stream",
     "text": [
      "[3, 5, 7, [7, 9]]\n",
      "[3, 5, 7, [7, 9], 11, 13]\n"
     ]
    }
   ],
   "source": [
    "#9.Predict the Output:\n",
    "odd = [3,5,7]\n",
    "odd.append([7,9]) \n",
    "print(odd)         #[3,5,7,[7,9]]\n",
    "odd.extend([11,13])\n",
    "print(odd) #[3,5,7,[7,9],11,13]"
   ]
  },
  {
   "cell_type": "code",
   "execution_count": 37,
   "metadata": {},
   "outputs": [
    {
     "name": "stdout",
     "output_type": "stream",
     "text": [
      "<class 'tuple'>\n",
      "<class 'int'>\n",
      "<class 'int'>\n",
      "<class 'tuple'>\n"
     ]
    }
   ],
   "source": [
    "#10. Predict the Output\n",
    "x = 1,2,3; print(type(x)) #tuple\n",
    "x = (1); print(type(x)) # int\n",
    "x = 1; print(type(x)) # int\n",
    "x = 1,; print(type(x)) # tuple"
   ]
  },
  {
   "cell_type": "code",
   "execution_count": 93,
   "metadata": {},
   "outputs": [
    {
     "name": "stdout",
     "output_type": "stream",
     "text": [
      "[1, 2, 3]\n",
      "[4, 5, 6]\n",
      "[7, 8, 9]\n",
      "\n",
      "3\n",
      "1  2  3  \n",
      "4  5  6  \n",
      "7  8  9  \n"
     ]
    }
   ],
   "source": [
    "#11.Try to represent a matrix with following data in python:\n",
    "# 1 2 3\n",
    "# 4 5 6\n",
    "# 7 8 9\n",
    "y = [1,2,3]\n",
    "y1 =[4,5,6]\n",
    "y2 = [7,8,9]\n",
    "print(str(y))\n",
    "print(y1)\n",
    "print(y2)\n",
    "print()\n",
    "\n",
    "n= int(input())\n",
    "l =0\n",
    "for e in range(n):\n",
    "    l = l + 1\n",
    "    print(l,end='  ')\n",
    "    for f in range(n-1):\n",
    "        l = l + 1\n",
    "        print(l,end = '  ')\n",
    "    print()\n",
    "# e = 0  l = 1 f = 0 l = 2\n",
    "#              f = 1 l = 3\n",
    "#              f = 2 loop ends\n",
    "# e = 1 l = 4 f = 0 l=5\n",
    "#              f = 1 l = 6\n",
    "#              f = 2 loop ends\n",
    "# e = 2 l = 7 f = 0 l=8\n",
    "#              f = 1 l = 9\n",
    "#              f = 2 loop ends"
   ]
  },
  {
   "cell_type": "code",
   "execution_count": 97,
   "metadata": {},
   "outputs": [
    {
     "name": "stdout",
     "output_type": "stream",
     "text": [
      "('s', 't', 'r', 'i', 'n', 'g')\n",
      "('g', 'n', 'i', 'r', 't', 's')\n",
      "('n', 's')\n"
     ]
    }
   ],
   "source": [
    "#12. Predict the Output:\n",
    "t = tuple('string')\n",
    "print(t)\n",
    "print(t[::-1]) # ('g','n','i','r','t','s')\n",
    "print(t[::2][::-2]) #(s,r,n)[::-2] # (n,s)"
   ]
  },
  {
   "cell_type": "code",
   "execution_count": 98,
   "metadata": {},
   "outputs": [
    {
     "name": "stdout",
     "output_type": "stream",
     "text": [
      "True\n",
      "False\n",
      "1\n",
      "3\n"
     ]
    }
   ],
   "source": [
    "#13.Predict the Ouput:\n",
    "t = tuple([10,20,30,40,50,60])\n",
    "print(60 in t) # True\n",
    "print('60' in t) # False\n",
    "print(t.count(10)) # 1\n",
    "print(t.index(40)) #3"
   ]
  },
  {
   "cell_type": "code",
   "execution_count": 142,
   "metadata": {},
   "outputs": [
    {
     "name": "stdout",
     "output_type": "stream",
     "text": [
      "Enter a string:Naman\n",
      "Palidrome\n"
     ]
    }
   ],
   "source": [
    "#14. WAP to input a string and find its palindrome or not  \n",
    "s = input(\"Enter a string:\")\n",
    "r =''\n",
    "for e in s:\n",
    "    r = e + r\n",
    "if r.casefold() == s.casefold():\n",
    "    print(\"Palidrome\")\n",
    "else:\n",
    "    print(\"Not a palindrome\")"
   ]
  },
  {
   "cell_type": "code",
   "execution_count": 121,
   "metadata": {},
   "outputs": [
    {
     "name": "stdout",
     "output_type": "stream",
     "text": [
      "(20, 15, 10, 5)\n"
     ]
    }
   ],
   "source": [
    "#15. Use a range method and create a tuple containing the following values: (20,15,10,5)\n",
    "n=21\n",
    "l =[]\n",
    "for e in range(n-1,0,-5):\n",
    "    l.append(e)\n",
    "print(tuple(l))"
   ]
  },
  {
   "cell_type": "code",
   "execution_count": 133,
   "metadata": {},
   "outputs": [
    {
     "name": "stdout",
     "output_type": "stream",
     "text": [
      "Enter a string:Sushma Gangal\n",
      "['S', 'u', 's', 'h', 'm', 'a', 'G', 'a', 'n', 'g', 'a', 'l']\n"
     ]
    }
   ],
   "source": [
    "#16. WAP to convert string to list of characters\n",
    "s = input(\"Enter a string:\")\n",
    "l=[]\n",
    "for e in range(len(s)):\n",
    "    if s[e] != ' ':\n",
    "        l.append(s[e])\n",
    "print(l)"
   ]
  },
  {
   "cell_type": "code",
   "execution_count": 135,
   "metadata": {},
   "outputs": [
    {
     "name": "stdout",
     "output_type": "stream",
     "text": [
      "<class 'list'>\n",
      "<class 'NoneType'>\n",
      "<class 'str'>\n",
      "<class 'bool'>\n"
     ]
    }
   ],
   "source": [
    "#17. What is the return type of:\n",
    "print(type('1 2'.split() )) # list\n",
    "print(type([1, 3, 2].sort() )) #None\n",
    "print(type('abc'.upper() )) # str\n",
    "print(type(1 in [1,2] )) # bool"
   ]
  }
 ],
 "metadata": {
  "kernelspec": {
   "display_name": "Python 3",
   "language": "python",
   "name": "python3"
  },
  "language_info": {
   "codemirror_mode": {
    "name": "ipython",
    "version": 3
   },
   "file_extension": ".py",
   "mimetype": "text/x-python",
   "name": "python",
   "nbconvert_exporter": "python",
   "pygments_lexer": "ipython3",
   "version": "3.8.3"
  }
 },
 "nbformat": 4,
 "nbformat_minor": 4
}
