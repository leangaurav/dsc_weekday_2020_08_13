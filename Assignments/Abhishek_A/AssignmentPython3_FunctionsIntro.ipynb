{
 "cells": [
  {
   "cell_type": "code",
   "execution_count": 1,
   "metadata": {
    "scrolled": true
   },
   "outputs": [
    {
     "name": "stdout",
     "output_type": "stream",
     "text": [
      "Please input the first string: First String \n",
      "Please input the second string: Second String\n",
      "Now updated first string is: Second String & updated second string is: [a2]\n"
     ]
    }
   ],
   "source": [
    "s1 = input('Please input the first string: ')\n",
    "s2 = input('Please input the second string: ')\n",
    "def swap(a1,a2):\n",
    "    Temp = a1\n",
    "    a1 = a2\n",
    "    a2 = Temp\n",
    "    print(f'Now updated first string is: {a1} & updated second string is: {a2}')\n",
    "swap(s1,s2)\n"
   ]
  },
  {
   "cell_type": "code",
   "execution_count": 23,
   "metadata": {
    "scrolled": true
   },
   "outputs": [
    {
     "name": "stdout",
     "output_type": "stream",
     "text": [
      "45\n"
     ]
    }
   ],
   "source": [
    "import random\n",
    "s = 0\n",
    "for i in range(0,4):\n",
    "    s = s + random.randint(0,27)\n",
    "print(s)\n",
    "\n",
    "\n"
   ]
  },
  {
   "cell_type": "code",
   "execution_count": 35,
   "metadata": {
    "scrolled": false
   },
   "outputs": [
    {
     "name": "stdout",
     "output_type": "stream",
     "text": [
      "z\n"
     ]
    }
   ],
   "source": [
    "import random \n",
    "import string\n",
    "\n",
    "a=string.ascii_letters\n",
    "r=random.randrange(0,len(a))\n",
    "print(a[r])\n"
   ]
  },
  {
   "cell_type": "code",
   "execution_count": 54,
   "metadata": {
    "scrolled": true
   },
   "outputs": [
    {
     "name": "stdout",
     "output_type": "stream",
     "text": [
      "Principal: 10\n",
      "ROI: 11\n",
      "Time: 12\n",
      "Total simple intrest applicable is 13.2\n"
     ]
    }
   ],
   "source": [
    "#WAF get_si() that takes Principle, Rate and Time as arguments and returns the Simple Interest.\n",
    "\n",
    "def get_si(P,R,T):\n",
    "    print(f'Total simple intrest applicable is {(P*R*T)/100}')\n",
    "a=int(input('Principal: '))\n",
    "b=int(input('ROI: '))\n",
    "c=int(input('Time: '))\n",
    "get_si(a,b,c)\n",
    "        "
   ]
  },
  {
   "cell_type": "code",
   "execution_count": 55,
   "metadata": {
    "scrolled": true
   },
   "outputs": [
    {
     "name": "stdout",
     "output_type": "stream",
     "text": [
      "Principal: 10\n",
      "ROI: 12\n",
      "Time: 9\n",
      "Total Amount by method1 is 20.8\n",
      "Total Amount by method1 is 11.0\n"
     ]
    }
   ],
   "source": [
    "#WAF get_amount() that takes Principle, Rate and Time as arguments and returns the\n",
    "#Total amount using the get_si() function from above to calculate the SI. Also provide\n",
    "# = 10 and Time = 1 as default arguments.\n",
    "def get_si(P,R,T):\n",
    "    print(f'Total Amount by method1 is {P+((P*R*T)/100)}')\n",
    "a=int(input('Principal: '))\n",
    "b=int(input('ROI: '))\n",
    "c=int(input('Time: '))\n",
    "get_si(a,b,c)\n",
    "get_si(a,10,1)\n",
    "\n"
   ]
  },
  {
   "cell_type": "code",
   "execution_count": 56,
   "metadata": {
    "scrolled": true
   },
   "outputs": [
    {
     "name": "stdout",
     "output_type": "stream",
     "text": [
      "First # 10\n",
      "Second # 2\n"
     ]
    },
    {
     "data": {
      "text/plain": [
       "{0, 5.0}"
      ]
     },
     "execution_count": 56,
     "metadata": {},
     "output_type": "execute_result"
    }
   ],
   "source": [
    "#WAP get_q_r() taking 2 numbers as parameters and returns the quotient and\n",
    "#remainder in the form of a tuple.\n",
    "def ret_tuple(a,b):\n",
    "    q=a/b\n",
    "    r=a%b\n",
    "    return{q,r}\n",
    "x=int(input('First # '))\n",
    "y=int(input('Second # '))\n",
    "ret_tuple(x,y)"
   ]
  },
  {
   "cell_type": "code",
   "execution_count": 57,
   "metadata": {
    "scrolled": true
   },
   "outputs": [
    {
     "name": "stdout",
     "output_type": "stream",
     "text": [
      "First # 3\n",
      "Second # 4\n",
      "5.0\n"
     ]
    }
   ],
   "source": [
    "#WAP to find the length of hypotenuse of a right angled triangle, input the height and base from user.\n",
    "def ret_hyp(a,b):\n",
    "    q=pow(((a*a)+(b*b)),1/2)\n",
    "    print(q)\n",
    "x=int(input('First # '))\n",
    "y=int(input('Second # '))\n",
    "ret_hyp(x,y)"
   ]
  },
  {
   "cell_type": "code",
   "execution_count": 63,
   "metadata": {
    "scrolled": true
   },
   "outputs": [
    {
     "name": "stdout",
     "output_type": "stream",
     "text": [
      "input # of seconds for calculation864598\n",
      "Days: 10 Hours: 0 Minutes: 9 Seconds: 58\n"
     ]
    }
   ],
   "source": [
    "#WAP to input number of seconds and print in days, hours, minutes and seconds\n",
    "#ex: input = 10000\n",
    "#Output = 0 day 2 hour 46 minute 40 second\n",
    "def duration1(x):\n",
    "    days=int(x/(60*60*24))\n",
    "    hours=int((x%(60*60*24))/(60*60))\n",
    "    minutes=int(((x%(60*60*24))%(60*60))/60)\n",
    "    seconds=int(((x%(60*60*24))%(60*60))%60)\n",
    "    print(f'Days: {days} Hours: {hours} Minutes: {minutes} Seconds: {seconds}')\n",
    "a = int(input('input # of seconds for calculation'))\n",
    "duration1(a)\n"
   ]
  },
  {
   "cell_type": "code",
   "execution_count": 68,
   "metadata": {
    "scrolled": true
   },
   "outputs": [
    {
     "name": "stdout",
     "output_type": "stream",
     "text": [
      "3.8.3\n"
     ]
    }
   ],
   "source": [
    "#Check your version of python interpreter without opening the interpreter (Which\n",
    "#command needs to be used on the command line).\n",
    "from platform import python_version\n",
    "\n",
    "print(python_version())"
   ]
  },
  {
   "cell_type": "code",
   "execution_count": 69,
   "metadata": {
    "scrolled": true
   },
   "outputs": [
    {
     "name": "stdout",
     "output_type": "stream",
     "text": [
      "2 -2\n"
     ]
    }
   ],
   "source": [
    "#find Output\n",
    "X=2\n",
    "X*=3\n",
    "X=X%4\n",
    "Y=-X\n",
    "print(X,Y)"
   ]
  },
  {
   "cell_type": "code",
   "execution_count": 70,
   "metadata": {
    "scrolled": true
   },
   "outputs": [
    {
     "name": "stdout",
     "output_type": "stream",
     "text": [
      "None\n"
     ]
    }
   ],
   "source": [
    "def funct():\n",
    "    pass\n",
    "print(funct())"
   ]
  }
 ],
 "metadata": {
  "kernelspec": {
   "display_name": "Python 3",
   "language": "python",
   "name": "python3"
  },
  "language_info": {
   "codemirror_mode": {
    "name": "ipython",
    "version": 3
   },
   "file_extension": ".py",
   "mimetype": "text/x-python",
   "name": "python",
   "nbconvert_exporter": "python",
   "pygments_lexer": "ipython3",
   "version": "3.8.3"
  }
 },
 "nbformat": 4,
 "nbformat_minor": 4
}
