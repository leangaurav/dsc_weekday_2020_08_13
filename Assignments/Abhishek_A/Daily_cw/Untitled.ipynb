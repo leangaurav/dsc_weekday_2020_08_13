{
 "cells": [
  {
   "cell_type": "code",
   "execution_count": 2,
   "metadata": {
    "scrolled": false
   },
   "outputs": [
    {
     "name": "stdout",
     "output_type": "stream",
     "text": [
      "Enter Operation: *\n",
      "Enter first no: 4\n",
      "Enter second no: 2\n",
      "8\n"
     ]
    }
   ],
   "source": [
    "o=input('Enter Operation: ')\n",
    "x=int(input('Enter first no: '))\n",
    "y=int(input('Enter second no: '))\n",
    "if o!='+' and o!='-' and o!='*' and o!='/':\n",
    "    print('enter correct operation')\n",
    "elif o=='+':\n",
    "    print(x+y)\n",
    "elif o=='-':\n",
    "    print(x-y)\n",
    "elif o=='*':\n",
    "    print(x*y)\n",
    "else:\n",
    "    print(x/y)"
   ]
  },
  {
   "cell_type": "code",
   "execution_count": 2,
   "metadata": {
    "scrolled": false
   },
   "outputs": [
    {
     "name": "stdout",
     "output_type": "stream",
     "text": [
      "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\n",
      "{'r': 371, 'a': 377, 'u': 345, 't': 378, 'x': 352, 'f': 398, 'w': 386, 'i': 372, 'n': 404, 'd': 430, 'k': 391, 'v': 396, 'q': 370, 'l': 402, 'p': 361, 'b': 350, 'e': 382, 'm': 409, 'o': 401, 'g': 365, 'y': 395, 'c': 379, 'h': 373, 's': 399, 'j': 388, 'z': 426}\n",
      "time for execution  is: 0.022938251495361328\n"
     ]
    }
   ],
   "source": [
    "import random\n",
    "import string\n",
    "import time\n",
    "t1=time.time()\n",
    "s = \"\".join(random.choice(string.ascii_lowercase) for i in range(10000))\n",
    "print(s)\n",
    "def dic(m):\n",
    "    d={}\n",
    "    for i in m:\n",
    "        #d1={i: s.count(i)}\n",
    "        #d.update(d1)\n",
    "        d[i]=d.get(i,0)+1\n",
    "    return d\n",
    "    #print(d)\n",
    "z=dic(s)\n",
    "print(z)\n",
    "\n",
    "t2=time.time()\n",
    "print(f'time for execution for  is: {t2-t1}')"
   ]
  },
  {
   "cell_type": "code",
   "execution_count": 4,
   "metadata": {},
   "outputs": [
    {
     "name": "stdout",
     "output_type": "stream",
     "text": [
      "['a', 'b', 'c', 'd', 'e', 'f', 'g', 'h', 'i', 'j', 'k', 'l', 'm', 'n', 'o', 'p', 'q', 'r', 's', 't', 'u', 'v', 'w', 'x', 'y', 'z']\n"
     ]
    }
   ],
   "source": [
    "a=[]\n",
    "for i in string.ascii_lowercase:\n",
    "\ta.append(i)\n",
    "print(a)"
   ]
  },
  {
   "cell_type": "code",
   "execution_count": 34,
   "metadata": {
    "scrolled": true
   },
   "outputs": [
    {
     "name": "stdout",
     "output_type": "stream",
     "text": [
      "Help on method_descriptor:\n",
      "\n",
      "update(...)\n",
      "    D.update([E, ]**F) -> None.  Update D from dict/iterable E and F.\n",
      "    If E is present and has a .keys() method, then does:  for k in E: D[k] = E[k]\n",
      "    If E is present and lacks a .keys() method, then does:  for k, v in E: D[k] = v\n",
      "    In either case, this is followed by: for k in F:  D[k] = F[k]\n",
      "\n"
     ]
    }
   ],
   "source": [
    "help(dict.update)"
   ]
  },
  {
   "cell_type": "code",
   "execution_count": 8,
   "metadata": {},
   "outputs": [
    {
     "ename": "AttributeError",
     "evalue": "'builtin_function_or_method' object has no attribute 'isupper'",
     "output_type": "error",
     "traceback": [
      "\u001b[1;31m---------------------------------------------------------------------------\u001b[0m",
      "\u001b[1;31mAttributeError\u001b[0m                            Traceback (most recent call last)",
      "\u001b[1;32m<ipython-input-8-15292ab7979e>\u001b[0m in \u001b[0;36m<module>\u001b[1;34m\u001b[0m\n\u001b[1;32m----> 1\u001b[1;33m \u001b[0mhelp\u001b[0m\u001b[1;33m(\u001b[0m\u001b[0mascii\u001b[0m\u001b[1;33m.\u001b[0m\u001b[0misupper\u001b[0m\u001b[1;33m)\u001b[0m\u001b[1;33m\u001b[0m\u001b[1;33m\u001b[0m\u001b[0m\n\u001b[0m",
      "\u001b[1;31mAttributeError\u001b[0m: 'builtin_function_or_method' object has no attribute 'isupper'"
     ]
    }
   ],
   "source": [
    "help(ascii.isupper)"
   ]
  },
  {
   "cell_type": "code",
   "execution_count": null,
   "metadata": {},
   "outputs": [],
   "source": []
  },
  {
   "cell_type": "code",
   "execution_count": null,
   "metadata": {},
   "outputs": [],
   "source": [
    "import string\n",
    "def f2(str):\n",
    "    s1=[]\n",
    "    s2=[]\n",
    "    t3=time.time()\n",
    "    for i in s:\n",
    "        if i not in s1:\n",
    "            s1.append(i)\n",
    "    for i in s1:\n",
    "        a = i, str1.count(i)\n",
    "        l1.append(a)\n",
    "    return l1"
   ]
  },
  {
   "cell_type": "code",
   "execution_count": 10,
   "metadata": {},
   "outputs": [
    {
     "data": {
      "text/plain": [
       "{'l': 23,\n",
       " 'm': 17,\n",
       " 'A': 17,\n",
       " 'q': 17,\n",
       " 'E': 22,\n",
       " 'O': 15,\n",
       " 'h': 29,\n",
       " 'I': 27,\n",
       " 'u': 18,\n",
       " 'n': 20,\n",
       " 'R': 26,\n",
       " 'X': 20,\n",
       " 'T': 16,\n",
       " 'o': 22,\n",
       " 'b': 21,\n",
       " 't': 15,\n",
       " 'v': 21,\n",
       " 'g': 14,\n",
       " 'N': 18,\n",
       " 'V': 20,\n",
       " 'k': 13,\n",
       " 'x': 21,\n",
       " 'a': 18,\n",
       " 'M': 24,\n",
       " 'H': 17,\n",
       " 'f': 20,\n",
       " 'U': 14,\n",
       " 'C': 19,\n",
       " 'Y': 20,\n",
       " 'd': 12,\n",
       " 'Q': 16,\n",
       " 'G': 18,\n",
       " 'W': 25,\n",
       " 'z': 18,\n",
       " 'B': 25,\n",
       " 'p': 20,\n",
       " 'c': 20,\n",
       " 'Z': 15,\n",
       " 'D': 21,\n",
       " 'y': 26,\n",
       " 'P': 22,\n",
       " 'w': 19,\n",
       " 'K': 25,\n",
       " 'e': 18,\n",
       " 's': 19,\n",
       " 'r': 16,\n",
       " 'F': 16,\n",
       " 'j': 21,\n",
       " 'L': 18,\n",
       " 'S': 18,\n",
       " 'J': 13,\n",
       " 'i': 15}"
      ]
     },
     "execution_count": 10,
     "metadata": {},
     "output_type": "execute_result"
    }
   ],
   "source": [
    "import random\n",
    "import string\n",
    "str1 = \"\".join(random.choices(string.ascii_letters,k=1000))\n",
    "str2 = \"\".join(random.choices(string.ascii_letters,k=10000))\n",
    "str3 = \"\".join(random.choices(string.ascii_letters,k=100000))\n",
    "def dict_fn(str):\n",
    "    d={}\n",
    "    for i in str:\n",
    "        d1={i: str.count(i)}\n",
    "        d.update(d1)\n",
    "    return d\n",
    "def list_fn(str):\n",
    "    s1=[]\n",
    "    l1=[]\n",
    "    for i in str1:\n",
    "        if i not in s1:\n",
    "            s1.append(i)\n",
    "    for i in s1:\n",
    "        a = i, str1.count(i)\n",
    "        l1.append(a)\n",
    "    return l1\n",
    "dict_fn(str1)"
   ]
  },
  {
   "cell_type": "raw",
   "metadata": {},
   "source": []
  },
  {
   "cell_type": "code",
   "execution_count": null,
   "metadata": {},
   "outputs": [],
   "source": [
    "s = 'absdfidgsdgkdgkjd'\n",
    "print(s[x:y:z])"
   ]
  },
  {
   "cell_type": "code",
   "execution_count": 66,
   "metadata": {},
   "outputs": [
    {
     "name": "stdout",
     "output_type": "stream",
     "text": [
      "j\n"
     ]
    }
   ],
   "source": [
    "s = 'absdfidgsdgkdgkjd'\n",
    "print(s[-2:-1:1])\n",
    "#sba"
   ]
  }
 ],
 "metadata": {
  "kernelspec": {
   "display_name": "Python 3",
   "language": "python",
   "name": "python3"
  },
  "language_info": {
   "codemirror_mode": {
    "name": "ipython",
    "version": 3
   },
   "file_extension": ".py",
   "mimetype": "text/x-python",
   "name": "python",
   "nbconvert_exporter": "python",
   "pygments_lexer": "ipython3",
   "version": "3.8.3"
  }
 },
 "nbformat": 4,
 "nbformat_minor": 4
}
