{
 "cells": [
  {
   "cell_type": "code",
   "execution_count": 2,
   "metadata": {
    "scrolled": false
   },
   "outputs": [
    {
     "name": "stdout",
     "output_type": "stream",
     "text": [
      "enter natural number10\n",
      "1\n",
      "2\n",
      "3\n",
      "4\n",
      "5\n",
      "6\n",
      "7\n",
      "8\n",
      "9\n",
      "10\n"
     ]
    }
   ],
   "source": [
    "#WAP to print first n natural numbers (input n from user)\n",
    "x=int(input('enter natural number'))\n",
    "i=0\n",
    "for n in range(x):\n",
    "    i+=1\n",
    "    print(i,sep='\\n')\n",
    "    \n"
   ]
  },
  {
   "cell_type": "code",
   "execution_count": 5,
   "metadata": {
    "scrolled": true
   },
   "outputs": [
    {
     "name": "stdout",
     "output_type": "stream",
     "text": [
      "enter natural number3\n",
      "6\n"
     ]
    }
   ],
   "source": [
    "#WAP to find sum of first n natural numbers\n",
    "x=int(input('enter natural number'))\n",
    "i=0\n",
    "s=0\n",
    "for n in range(x):\n",
    "    i+=1\n",
    "    s=i+s \n",
    "print(s,sep='\\n')"
   ]
  },
  {
   "cell_type": "code",
   "execution_count": 7,
   "metadata": {
    "scrolled": true
   },
   "outputs": [
    {
     "name": "stdout",
     "output_type": "stream",
     "text": [
      "enter natural number10\n",
      "10\n",
      "9\n",
      "8\n",
      "7\n",
      "6\n",
      "5\n",
      "4\n",
      "3\n",
      "2\n",
      "1\n"
     ]
    }
   ],
   "source": [
    "#WAP to print first n natural numbers in reverse order\n",
    "x=int(input('enter natural number'))\n",
    "i=x\n",
    "#s=0\n",
    "for n in range(x):\n",
    "    print(i,sep='\\n')\n",
    "    i-=1\n",
    "\n"
   ]
  },
  {
   "cell_type": "code",
   "execution_count": 11,
   "metadata": {
    "scrolled": true
   },
   "outputs": [
    {
     "name": "stdout",
     "output_type": "stream",
     "text": [
      "enter natural number3\n",
      "6\n"
     ]
    }
   ],
   "source": [
    "#WAP to input a number and print its factorial\n",
    "x=int(input('enter natural number'))\n",
    "i=1\n",
    "s=1\n",
    "for n in range(x):\n",
    "    s*=i\n",
    "    i+=1\n",
    "print(s)"
   ]
  },
  {
   "cell_type": "code",
   "execution_count": 15,
   "metadata": {
    "scrolled": true
   },
   "outputs": [
    {
     "name": "stdout",
     "output_type": "stream",
     "text": [
      "enter natural number3\n",
      "14\n"
     ]
    }
   ],
   "source": [
    "#WAP to print Fibonacci sequence till n.\n",
    "x=int(input('enter natural number'))\n",
    "i=1\n",
    "s=0\n",
    "for n in range(x):\n",
    "    s+=pow(i,2)\n",
    "    i+=1\n",
    "print(s)"
   ]
  },
  {
   "cell_type": "code",
   "execution_count": 19,
   "metadata": {
    "scrolled": true
   },
   "outputs": [
    {
     "name": "stdout",
     "output_type": "stream",
     "text": [
      "enter natural number12345677890\n",
      "1\n",
      "2\n",
      "3\n",
      "4\n",
      "5\n",
      "6\n",
      "7\n",
      "7\n",
      "8\n",
      "9\n",
      "0\n"
     ]
    }
   ],
   "source": [
    "#WAP to print all digits of a number input from user.\n",
    "x=input('enter natural number')\n",
    "i=0\n",
    "for n in range(len(x)):\n",
    "               print(x[i],sep='\\t')\n",
    "               i+=1"
   ]
  },
  {
   "cell_type": "code",
   "execution_count": 22,
   "metadata": {
    "scrolled": false
   },
   "outputs": [
    {
     "name": "stdout",
     "output_type": "stream",
     "text": [
      "enter natural number123\n",
      "6\n"
     ]
    }
   ],
   "source": [
    "#WAP to find sum of all digits of a number\n",
    "x=input('enter natural number')\n",
    "i=0\n",
    "s=0\n",
    "for n in range(len(x)):\n",
    "               s+=int(x[i])\n",
    "               i+=1\n",
    "print(s)"
   ]
  },
  {
   "cell_type": "code",
   "execution_count": 35,
   "metadata": {
    "scrolled": true
   },
   "outputs": [
    {
     "name": "stdout",
     "output_type": "stream",
     "text": [
      "enter natural number3\n",
      "1 as first print\n",
      "2 as first print\n",
      "3 as first print\n",
      "9\n"
     ]
    }
   ],
   "source": [
    "#WAP to find sum of following series given n as input from user\n",
    "#1 + 2! + 3! + 4! + 5! + ….n!\n",
    "#Where n! denotes the factorial of number n.\n",
    "x=int(input('enter natural number'))\n",
    "t=0\n",
    "i=0\n",
    "for n in range(x):\n",
    "    i+=1\n",
    "    k=1\n",
    "    s=1\n",
    "    print(f'{i} as first print')\n",
    "    for z in range(i):\n",
    "        s*=k\n",
    "        k+=1\n",
    "    t+=s\n",
    "print(t)\n",
    "    \n",
    "        "
   ]
  },
  {
   "cell_type": "code",
   "execution_count": 36,
   "metadata": {
    "scrolled": true
   },
   "outputs": [
    {
     "name": "stdout",
     "output_type": "stream",
     "text": [
      "Enter Base2\n",
      "Enter exponent3\n",
      "8\n"
     ]
    }
   ],
   "source": [
    "#WAP to input base and exponent and print result without using inbuilt function pow(use for or\n",
    "#while loop).\n",
    "b= int(input('Enter Base'))\n",
    "e= int(input('Enter exponent'))\n",
    "i=0\n",
    "a=1\n",
    "for n in range(e):\n",
    "    a*=b\n",
    "print(a)\n",
    "    \n",
    "    "
   ]
  },
  {
   "cell_type": "code",
   "execution_count": 38,
   "metadata": {
    "scrolled": true
   },
   "outputs": [
    {
     "name": "stdout",
     "output_type": "stream",
     "text": [
      "enter no of rows4\n",
      "*\n",
      "**\n",
      "***\n",
      "****\n"
     ]
    }
   ],
   "source": [
    "#print pattern\n",
    "x=int(input('enter no of rows'))\n",
    "i=0\n",
    "for n in range(x):\n",
    "    i+=1\n",
    "    print('*'*i,end='\\n')\n",
    "        \n",
    "    "
   ]
  },
  {
   "cell_type": "code",
   "execution_count": 39,
   "metadata": {
    "scrolled": true
   },
   "outputs": [
    {
     "name": "stdout",
     "output_type": "stream",
     "text": [
      "enter no of rows6\n",
      "******\n",
      "*****\n",
      "****\n",
      "***\n",
      "**\n",
      "*\n"
     ]
    }
   ],
   "source": [
    "#print pattern\n",
    "x=int(input('enter no of rows'))\n",
    "i=0\n",
    "for n in range(x):\n",
    "    r=x-i\n",
    "    print('*'*r,end='\\n')\n",
    "    i+=1"
   ]
  },
  {
   "cell_type": "code",
   "execution_count": 44,
   "metadata": {
    "scrolled": true
   },
   "outputs": [
    {
     "name": "stdout",
     "output_type": "stream",
     "text": [
      "enter no of rows4\n",
      "    *\n",
      "   **\n",
      "  ***\n",
      " ****\n"
     ]
    }
   ],
   "source": [
    "#print pattern\n",
    "x=int(input('enter no of rows'))\n",
    "i=0\n",
    "t=1\n",
    "for n in range(x):\n",
    "    r=x-i-1\n",
    "    print(' '*r,'*'*t,end='\\n')\n",
    "    i+=1\n",
    "    t+=1"
   ]
  },
  {
   "cell_type": "code",
   "execution_count": null,
   "metadata": {},
   "outputs": [],
   "source": []
  }
 ],
 "metadata": {
  "kernelspec": {
   "display_name": "Python 3",
   "language": "python",
   "name": "python3"
  },
  "language_info": {
   "codemirror_mode": {
    "name": "ipython",
    "version": 3
   },
   "file_extension": ".py",
   "mimetype": "text/x-python",
   "name": "python",
   "nbconvert_exporter": "python",
   "pygments_lexer": "ipython3",
   "version": "3.8.3"
  }
 },
 "nbformat": 4,
 "nbformat_minor": 4
}
