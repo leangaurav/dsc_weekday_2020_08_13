{
 "cells": [
  {
   "cell_type": "code",
   "execution_count": 3,
   "metadata": {
    "scrolled": false
   },
   "outputs": [
    {
     "name": "stdout",
     "output_type": "stream",
     "text": [
      "[1, 2, 3, 4, 5]\n"
     ]
    }
   ],
   "source": [
    "#Convert a Tuple t = (1,2,3,4,5) to a list\n",
    "t = (1,2,3,4,5)\n",
    "list=[]\n",
    "for a in range(len(t)):\n",
    "    list.append(int(t[a]))\n",
    "print(list)"
   ]
  },
  {
   "cell_type": "code",
   "execution_count": 6,
   "metadata": {
    "scrolled": true
   },
   "outputs": [
    {
     "name": "stdout",
     "output_type": "stream",
     "text": [
      "[1, 3, 5, 7, (8, 6, 4, 2)]\n"
     ]
    }
   ],
   "source": [
    "#WAP to join a list and a tuple:\n",
    "#L = [1,3,5,7]\n",
    "#T = (8,6,4,2)\n",
    "#Store the result in a list LS\n",
    "L = [1,3,5,7]\n",
    "T = (8,6,4,2)\n",
    "L.append(T)\n",
    "print(L)\n"
   ]
  },
  {
   "cell_type": "code",
   "execution_count": null,
   "metadata": {},
   "outputs": [],
   "source": [
    "#What is difference between list and tuple\n",
    "#List is Mutable, tupple is immutable /not-mutable"
   ]
  },
  {
   "cell_type": "code",
   "execution_count": 11,
   "metadata": {
    "scrolled": false
   },
   "outputs": [
    {
     "name": "stdout",
     "output_type": "stream",
     "text": [
      "['C', 'A', 'c', 'd', 'a']\n",
      "['C', 'A', 'c', 'd', 'a']\n"
     ]
    }
   ],
   "source": [
    "#Print the list in reverse order\n",
    "l = ['a', 'd', 'c', 'A', 'C']\n",
    "print(l[::-1])\n",
    "l.reverse()\n",
    "print(l)"
   ]
  },
  {
   "cell_type": "code",
   "execution_count": 15,
   "metadata": {
    "scrolled": true
   },
   "outputs": [
    {
     "data": {
      "text/plain": [
       "[11, 21, 31, 41]"
      ]
     },
     "execution_count": 15,
     "metadata": {},
     "output_type": "execute_result"
    }
   ],
   "source": [
    "#Print Elements at Odd indexes from a list (Do not use loop)\n",
    "l = [10,11,20, 21,30, 31, 40, 41]\n",
    "l[1::2]\n"
   ]
  },
  {
   "cell_type": "code",
   "execution_count": 22,
   "metadata": {
    "scrolled": false
   },
   "outputs": [
    {
     "name": "stdout",
     "output_type": "stream",
     "text": [
      "[1, 2, 5, [101, 120, 30]]\n",
      "[1, 2, 3, [10, 20, 30]]\n",
      "[1, 2, 3, [10, 20]]\n"
     ]
    }
   ],
   "source": [
    "#How many ways you can copy a list\n",
    "import copy\n",
    "a1 = [1,2,5, [101,120]]\n",
    "a2 = a1[:]\n",
    "a1[3].append(30)\n",
    "c1 = [1,2,3, [10,20]]\n",
    "c2 = copy.deepcopy(c1)\n",
    "c1[3].append(30)\n",
    "print(a2)\n",
    "print(c1)\n",
    "print(c2)"
   ]
  },
  {
   "cell_type": "code",
   "execution_count": 32,
   "metadata": {},
   "outputs": [
    {
     "name": "stdout",
     "output_type": "stream",
     "text": [
      "a\n"
     ]
    }
   ],
   "source": [
    "list = [\"Happy\",[0,6,2,3,4,5]]\n",
    "print(list[0][1])"
   ]
  },
  {
   "cell_type": "code",
   "execution_count": 45,
   "metadata": {
    "scrolled": true
   },
   "outputs": [
    {
     "name": "stdout",
     "output_type": "stream",
     "text": [
      "[1, 4, 6, 8]\n",
      "[1, 1, 3, 5]\n"
     ]
    }
   ],
   "source": [
    "odd=[2,4,6,8]\n",
    "odd[0]=1\n",
    "print(odd)\n",
    "odd[1:4]=[1,3,5]\n",
    "print(odd)"
   ]
  },
  {
   "cell_type": "code",
   "execution_count": 46,
   "metadata": {
    "scrolled": true
   },
   "outputs": [
    {
     "name": "stdout",
     "output_type": "stream",
     "text": [
      "[2, 4, 6, 8, [7, 9]]\n",
      "[2, 4, 6, 8, [7, 9], 11, 13]\n"
     ]
    }
   ],
   "source": [
    "odd=[2,4,6,8]\n",
    "odd.append([7,9])\n",
    "print(odd)\n",
    "odd.extend([11,13])\n",
    "print(odd)"
   ]
  },
  {
   "cell_type": "code",
   "execution_count": 49,
   "metadata": {
    "scrolled": true
   },
   "outputs": [
    {
     "name": "stdout",
     "output_type": "stream",
     "text": [
      "<class 'tuple'>\n",
      "<class 'int'>\n",
      "<class 'tuple'>\n"
     ]
    }
   ],
   "source": [
    "x=1,2,3;print(type(x))\n",
    "x=1;print(type(x))\n",
    "x=1,;print(type(x))"
   ]
  },
  {
   "cell_type": "code",
   "execution_count": 51,
   "metadata": {
    "scrolled": true
   },
   "outputs": [
    {
     "name": "stdout",
     "output_type": "stream",
     "text": [
      "\t1\n"
     ]
    }
   ],
   "source": []
  },
  {
   "cell_type": "code",
   "execution_count": 54,
   "metadata": {
    "scrolled": true
   },
   "outputs": [
    {
     "name": "stdout",
     "output_type": "stream",
     "text": [
      "\t1\t2\t3\n",
      "\t4\t5\t6\n",
      "\t7\t8\t9\n"
     ]
    }
   ],
   "source": [
    "print('\\t'+'1'+'\\t'+'2'+'\\t'+'3' +'\\n' + '\\t'+'4'+'\\t'+'5'+'\\t'+'6'+'\\n'+'\\t'+'7'+'\\t'+'8'+'\\t'+'9')"
   ]
  },
  {
   "cell_type": "code",
   "execution_count": 55,
   "metadata": {
    "scrolled": true
   },
   "outputs": [
    {
     "name": "stdout",
     "output_type": "stream",
     "text": [
      "('s', 't', 'r', 'i', 'n', 'g')\n",
      "('g', 'n', 'i', 'r', 't', 's')\n",
      "('n', 's')\n"
     ]
    }
   ],
   "source": [
    "# Predict output\n",
    "t=tuple('string')\n",
    "print(t)\n",
    "print(t[::-1])\n",
    "print(t[::2][::-2])"
   ]
  },
  {
   "cell_type": "code",
   "execution_count": 56,
   "metadata": {
    "scrolled": true
   },
   "outputs": [
    {
     "name": "stdout",
     "output_type": "stream",
     "text": [
      "True\n",
      "False\n",
      "1\n",
      "3\n"
     ]
    }
   ],
   "source": [
    "# Predict output\n",
    "t=tuple([10,20,30,40,50,60])\n",
    "print(60 in t)\n",
    "print('60' in t)\n",
    "print(t.count(10))\n",
    "print(t.index(40))"
   ]
  },
  {
   "cell_type": "code",
   "execution_count": 59,
   "metadata": {},
   "outputs": [
    {
     "name": "stdout",
     "output_type": "stream",
     "text": [
      "(20, 15, 10, 5)\n"
     ]
    }
   ],
   "source": [
    "#Use the range method and create a tuple containing the following values: \n",
    "x=20\n",
    "l=[]\n",
    "for i in range(4):\n",
    "    l.append(x)\n",
    "    x-=5\n",
    "print(tuple(l))"
   ]
  }
 ],
 "metadata": {
  "kernelspec": {
   "display_name": "Python 3",
   "language": "python",
   "name": "python3"
  },
  "language_info": {
   "codemirror_mode": {
    "name": "ipython",
    "version": 3
   },
   "file_extension": ".py",
   "mimetype": "text/x-python",
   "name": "python",
   "nbconvert_exporter": "python",
   "pygments_lexer": "ipython3",
   "version": "3.8.3"
  }
 },
 "nbformat": 4,
 "nbformat_minor": 4
}
