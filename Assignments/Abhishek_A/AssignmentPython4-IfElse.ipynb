{
 "cells": [
  {
   "cell_type": "code",
   "execution_count": 3,
   "metadata": {
    "scrolled": true
   },
   "outputs": [
    {
     "name": "stdout",
     "output_type": "stream",
     "text": [
      "input first number10\n",
      "input second number2\n",
      "True\n"
     ]
    }
   ],
   "source": [
    "#WAP to input 2 numbers and check whether the first is divisible by the second and print true or\n",
    "#false depending on the divisibility\n",
    "a=int(input('input first number'))\n",
    "b=int(input('input second number'))\n",
    "if a%b==0:\n",
    "    print('True')\n",
    "else:\n",
    "    print('False')\n"
   ]
  },
  {
   "cell_type": "code",
   "execution_count": 5,
   "metadata": {
    "scrolled": true
   },
   "outputs": [
    {
     "name": "stdout",
     "output_type": "stream",
     "text": [
      "input first numberNAMan\n",
      "True\n"
     ]
    }
   ],
   "source": [
    "#In the palindrome example, make the code case insensitive.\n",
    "#i.e. Naman should also be treated as a palindrome (HINT: first convert to either upper or\n",
    "#lower case).\n",
    "a=input('input first number')\n",
    "p = a[::-1]\n",
    "if a.upper()==p.upper():\n",
    "    print('True')\n",
    "else:\n",
    "    print('False')"
   ]
  },
  {
   "cell_type": "code",
   "execution_count": 8,
   "metadata": {
    "scrolled": true
   },
   "outputs": [
    {
     "name": "stdout",
     "output_type": "stream",
     "text": [
      "input first side of a triangle2\n",
      "input second side of a triangle3\n",
      "input second side of a triangle4\n",
      "Traiangle is Scalene\n"
     ]
    }
   ],
   "source": [
    "#WAP to input the sides of a triangle and print whether equilateral(all sides equal), isosceles (2\n",
    "#sides equal), or scalene (no sides equal)\n",
    "a=float(input('input first side of a triangle'))\n",
    "b=float(input('input second side of a triangle'))\n",
    "c=float(input('input second side of a triangle'))\n",
    "if a==b or b==c:\n",
    "    print('Traiangle is equilateral')\n",
    "elif (a!=b and a==c and b==c) or (a==b and a==c and b!=c) or (a==b and a!=c and b==c):\n",
    "    print('Traiangle is isoceles')\n",
    "else:\n",
    "    print('Traiangle is Scalene')"
   ]
  },
  {
   "cell_type": "code",
   "execution_count": 9,
   "metadata": {
    "scrolled": true
   },
   "outputs": [
    {
     "name": "stdout",
     "output_type": "stream",
     "text": [
      "input first side of a triangle26\n",
      "even\n"
     ]
    }
   ],
   "source": [
    "#WAP to input a number and print if it is even or odd.\n",
    "a=int(input('input first side of a triangle: '))\n",
    "if a%2==0:\n",
    "    print('even')\n",
    "else:\n",
    "    print('odd')"
   ]
  },
  {
   "cell_type": "code",
   "execution_count": 10,
   "metadata": {
    "scrolled": true
   },
   "outputs": [
    {
     "name": "stdout",
     "output_type": "stream",
     "text": [
      "input age  34\n",
      "Adult\n"
     ]
    }
   ],
   "source": [
    "#WAP to input age and print the respective text\n",
    "#depending on the age ranges as present in the table.\n",
    "a=int(input('input age  '))\n",
    "if a in range(0,13):\n",
    "    print('Child')\n",
    "elif a in range(12,18):\n",
    "    print('Teen')\n",
    "elif a in range(17,51):\n",
    "    print('Adult')\n",
    "else:\n",
    "    print('old')\n",
    "    \n"
   ]
  },
  {
   "cell_type": "code",
   "execution_count": 16,
   "metadata": {
    "scrolled": true
   },
   "outputs": [
    {
     "name": "stdout",
     "output_type": "stream",
     "text": [
      "input year  2000\n",
      "Not a leap year\n"
     ]
    }
   ],
   "source": [
    "#WAP to input year (check if user enters valid year. Should be 4-digit number and should not be\n",
    "#negative) and print whether leap year or not. (If really interested in why you also have to check\n",
    "#the divisibility by 400 just google the exact time it takes for the earth to revolve around the sub)\n",
    "a=input('input year  ')\n",
    "l=len(a)\n",
    "if l==4 and int(a)>0:\n",
    "    if int(a)%4==0 and int(a)%400!=0:\n",
    "        print('it\\'s a leap Year')\n",
    "    else:\n",
    "        print('Not a leap year')\n",
    "else:\n",
    "    print('enter valid year')"
   ]
  },
  {
   "cell_type": "code",
   "execution_count": 18,
   "metadata": {},
   "outputs": [
    {
     "name": "stdout",
     "output_type": "stream",
     "text": [
      "input string  SAd\n",
      "sad\n"
     ]
    }
   ],
   "source": [
    "#WAP to input a string and convert it to Upper Case if number of characters is odd and convert to\n",
    "#lower case otherwise.\n",
    "a=input('input string  ')\n",
    "l=len(a)\n",
    "if l%2==0:\n",
    "    print(a.upper())\n",
    "else:\n",
    "    print(a.lower())"
   ]
  },
  {
   "cell_type": "code",
   "execution_count": 20,
   "metadata": {
    "scrolled": false
   },
   "outputs": [
    {
     "name": "stdout",
     "output_type": "stream",
     "text": [
      "input string  Eggtya\n",
      "veg\n"
     ]
    }
   ],
   "source": [
    "#WAP to input a string and print Veg if the string doesn’t contain the word egg. Otherwise print\n",
    "#Non-Veg. As usual eggs can be both big and small.\n",
    "a=input('input string  ')\n",
    "if 'egg' in a:\n",
    "    print('Non-Veg')\n",
    "else:\n",
    "    print('veg')"
   ]
  },
  {
   "cell_type": "code",
   "execution_count": 22,
   "metadata": {
    "scrolled": true
   },
   "outputs": [
    {
     "name": "stdout",
     "output_type": "stream",
     "text": [
      "False\n"
     ]
    }
   ],
   "source": [
    "\n",
    "if not 1:\n",
    "    print('True')\n",
    "else:\n",
    "    print('False')"
   ]
  },
  {
   "cell_type": "code",
   "execution_count": 23,
   "metadata": {
    "scrolled": true
   },
   "outputs": [
    {
     "name": "stdout",
     "output_type": "stream",
     "text": [
      "True\n"
     ]
    }
   ],
   "source": [
    "if  1:\n",
    "    print('True')\n",
    "else:\n",
    "    print('False')"
   ]
  },
  {
   "cell_type": "code",
   "execution_count": 24,
   "metadata": {},
   "outputs": [
    {
     "name": "stdout",
     "output_type": "stream",
     "text": [
      "Wierd\n"
     ]
    }
   ],
   "source": [
    "if  'a' > 'A':\n",
    "    print('Wierd')\n",
    "else:\n",
    "    print('Makes Sense')"
   ]
  },
  {
   "cell_type": "markdown",
   "metadata": {},
   "source": []
  },
  {
   "cell_type": "code",
   "execution_count": 31,
   "metadata": {},
   "outputs": [],
   "source": [
    "a=[1,2,3,4]\n",
    "if 1>1:\n",
    "    a=a[::-1]\n",
    "else:\n",
    "    a=a[-1::-1]"
   ]
  },
  {
   "cell_type": "code",
   "execution_count": 34,
   "metadata": {
    "scrolled": true
   },
   "outputs": [
    {
     "name": "stdout",
     "output_type": "stream",
     "text": [
      "[4, 3, 2, 1] 3\n"
     ]
    }
   ],
   "source": [
    "a=[1,2,3,4]\n",
    "if 1>1:\n",
    "    a=a[::-1]\n",
    "    b=2\n",
    "else:\n",
    "    a=a[-1::-1]\n",
    "    b=3\n",
    "print(a,b)"
   ]
  },
  {
   "cell_type": "code",
   "execution_count": null,
   "metadata": {},
   "outputs": [],
   "source": []
  }
 ],
 "metadata": {
  "kernelspec": {
   "display_name": "Python 3",
   "language": "python",
   "name": "python3"
  },
  "language_info": {
   "codemirror_mode": {
    "name": "ipython",
    "version": 3
   },
   "file_extension": ".py",
   "mimetype": "text/x-python",
   "name": "python",
   "nbconvert_exporter": "python",
   "pygments_lexer": "ipython3",
   "version": "3.8.3"
  }
 },
 "nbformat": 4,
 "nbformat_minor": 4
}
