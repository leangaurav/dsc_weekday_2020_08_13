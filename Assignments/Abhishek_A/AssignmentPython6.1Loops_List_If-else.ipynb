{
 "cells": [
  {
   "cell_type": "code",
   "execution_count": 2,
   "metadata": {
    "scrolled": true
   },
   "outputs": [
    {
     "name": "stdout",
     "output_type": "stream",
     "text": [
      "Input a stringAbhishek\n",
      "A\n",
      "b\n",
      "h\n",
      "i\n",
      "s\n",
      "h\n",
      "e\n",
      "k\n"
     ]
    }
   ],
   "source": [
    "#WAP to input a string and print individual characters in the string using for loop\n",
    "x=input('Input a string')\n",
    "i=0\n",
    "for n in range(len(x)):\n",
    "    print(x[i])\n",
    "    i+=1"
   ]
  },
  {
   "cell_type": "code",
   "execution_count": 3,
   "metadata": {
    "scrolled": true
   },
   "outputs": [
    {
     "name": "stdout",
     "output_type": "stream",
     "text": [
      "Input a stringAbhishek\n",
      "65\n",
      "98\n",
      "104\n",
      "105\n",
      "115\n",
      "104\n",
      "101\n",
      "107\n"
     ]
    }
   ],
   "source": [
    "#WAP to input a string and print the ASCII value of each character in the string\n",
    "x=input('Input a string')\n",
    "i=0\n",
    "for n in range(len(x)):\n",
    "    print(ord(x[i]))\n",
    "    i+=1"
   ]
  },
  {
   "cell_type": "code",
   "execution_count": null,
   "metadata": {},
   "outputs": [],
   "source": []
  },
  {
   "cell_type": "code",
   "execution_count": 8,
   "metadata": {
    "scrolled": false
   },
   "outputs": [
    {
     "name": "stdout",
     "output_type": "stream",
     "text": [
      "<filter object at 0x0000028F8B864790>\n",
      "21\n",
      "31\n",
      "35\n",
      "87\n"
     ]
    }
   ],
   "source": [
    "#Write a function that takes a list of numbers from user as argument and returns the sum of only\n",
    "# odd numbers (Use only for loop. No need to use if statement)\n",
    "a=[10, 21,31,35,50]\n",
    "b=filter(lambda x:x%2==1,a)\n",
    "print(b)\n",
    "s=0\n",
    "for i in b:\n",
    "    s=s+i\n",
    "    print(i)\n",
    "\n",
    "print(s)"
   ]
  },
  {
   "cell_type": "code",
   "execution_count": null,
   "metadata": {},
   "outputs": [],
   "source": [
    "#WAP to input a list of numbers and store in a tuple. Now input another number and print the\n",
    "#index of this number in the tuple. [Use index function]\n"
   ]
  },
  {
   "cell_type": "code",
   "execution_count": 1,
   "metadata": {
    "scrolled": true
   },
   "outputs": [
    {
     "name": "stdout",
     "output_type": "stream",
     "text": [
      "listof numbers10 20 30 40\n",
      "('10', '20', '30', '40')\n",
      "num20\n",
      "1\n"
     ]
    }
   ],
   "source": [
    "x=tuple(input('listof numbers').split())\n",
    "print(x)\n",
    "y=input('num')\n",
    "print(x.index(y))"
   ]
  },
  {
   "cell_type": "code",
   "execution_count": 10,
   "metadata": {
    "scrolled": false
   },
   "outputs": [
    {
     "name": "stdout",
     "output_type": "stream",
     "text": [
      "[10006, 11006, 10715, 15393, 2909, 17300, 3280, 10885, 15762, 9563]\n",
      "10006\n",
      "10715\n",
      "2909\n",
      "3280\n",
      "15762\n"
     ]
    }
   ],
   "source": [
    "import random\n",
    "i = 10\n",
    "l=[]\n",
    "for n in range(0,10):\n",
    "    l.append(random.randint(1,20000))\n",
    "print(l)\n",
    "a=range(0,10)\n",
    "b=filter(lambda x:x%2==0,a)\n",
    "for m in b:\n",
    "    print(l[m])"
   ]
  },
  {
   "cell_type": "code",
   "execution_count": 11,
   "metadata": {
    "scrolled": false
   },
   "outputs": [
    {
     "name": "stdout",
     "output_type": "stream",
     "text": [
      "number for table18\n",
      "18X1=18\n",
      "18X2=36\n",
      "18X3=54\n",
      "18X4=72\n",
      "18X5=90\n",
      "18X6=108\n",
      "18X7=126\n",
      "18X8=144\n",
      "18X9=162\n",
      "18X10=180\n"
     ]
    }
   ],
   "source": [
    "#WAP to input a number and print its table. \n",
    "x = int(input('number for table'))\n",
    "for i in range(10):\n",
    "    print(f'{x}X{i+1}={x*(i+1)}',sep='\\n')"
   ]
  },
  {
   "cell_type": "code",
   "execution_count": null,
   "metadata": {},
   "outputs": [],
   "source": []
  }
 ],
 "metadata": {
  "kernelspec": {
   "display_name": "Python 3",
   "language": "python",
   "name": "python3"
  },
  "language_info": {
   "codemirror_mode": {
    "name": "ipython",
    "version": 3
   },
   "file_extension": ".py",
   "mimetype": "text/x-python",
   "name": "python",
   "nbconvert_exporter": "python",
   "pygments_lexer": "ipython3",
   "version": "3.8.3"
  }
 },
 "nbformat": 4,
 "nbformat_minor": 4
}
