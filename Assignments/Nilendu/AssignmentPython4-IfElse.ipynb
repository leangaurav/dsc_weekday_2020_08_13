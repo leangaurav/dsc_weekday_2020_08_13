{
 "cells": [
  {
   "cell_type": "code",
   "execution_count": 14,
   "metadata": {},
   "outputs": [
    {
     "name": "stdout",
     "output_type": "stream",
     "text": [
      "Enter a number: 21\n",
      "Enter another number: 3\n",
      "True\n"
     ]
    }
   ],
   "source": [
    "n1=int(input(\"Enter a number: \"))\n",
    "n2=int(input(\"Enter another number: \"))\n",
    "\n",
    "if (n1%n2==0):\n",
    "    print(\"True\")\n",
    "else:\n",
    "    print(\"False\")\n",
    "    "
   ]
  },
  {
   "cell_type": "code",
   "execution_count": 25,
   "metadata": {
    "scrolled": true
   },
   "outputs": [
    {
     "name": "stdout",
     "output_type": "stream",
     "text": [
      "Enter a string: Nayan\n",
      "It's a palindrome\n"
     ]
    }
   ],
   "source": [
    "s=input(\"Enter a string: \")\n",
    "s=s.lower()\n",
    "p=s[::-1]\n",
    "if s==p:\n",
    "    print(\"It's a palindrome\")\n",
    "else:\n",
    "    print(\"It's not a palindrome\")"
   ]
  },
  {
   "cell_type": "code",
   "execution_count": 6,
   "metadata": {},
   "outputs": [
    {
     "name": "stdout",
     "output_type": "stream",
     "text": [
      "Enter the length of side ab of the triange: 20\n",
      "Enter the length of side bc of the triange: 20\n",
      "Enter the length of side ca of the triange: 19\n",
      "It's a Isoscales Triangle\n"
     ]
    }
   ],
   "source": [
    "a=int(input(\"Enter the length of side ab of the triangle: \"))\n",
    "b=int(input(\"Enter the length of side bc of the triangle: \"))\n",
    "c=int(input(\"Enter the length of side ca of the triangle: \"))\n",
    "\n",
    "if a==b and b==c and c==a:\n",
    "    print(\"It's a Equilateral Triangle\")\n",
    "elif a==b or b==c or c==a:\n",
    "    print(\"It's a Isoscales Triangle\")\n",
    "else:\n",
    "    print(\"Its a Scalene Triangle\")\n",
    "        "
   ]
  },
  {
   "cell_type": "code",
   "execution_count": 5,
   "metadata": {},
   "outputs": [
    {
     "name": "stdout",
     "output_type": "stream",
     "text": [
      "Enter a number: 20\n",
      "20 is an even number\n"
     ]
    }
   ],
   "source": [
    "n=int(input(\"Enter a number: \"))\n",
    "      \n",
    "if n%2==0:\n",
    "      print(f\"{n} is an even number\")\n",
    "else:\n",
    "      print(f\"{n} is an odd number\")"
   ]
  },
  {
   "cell_type": "code",
   "execution_count": 18,
   "metadata": {},
   "outputs": [
    {
     "name": "stdout",
     "output_type": "stream",
     "text": [
      "Enter your age: 101\n",
      "Congratulations\n"
     ]
    }
   ],
   "source": [
    "a=int(input(\"Enter your age: \"))\n",
    " \n",
    "if 0<=a and a<=12:\n",
    "    print(\"Child\")\n",
    "elif 13<=a and a<=17:\n",
    "    print(\"Teen\")\n",
    "elif 18<=a and a<=50:\n",
    "    print(\"Adult\")\n",
    "elif 51<=a and a<=100:\n",
    "    print(\"Senior Citizen\")\n",
    "else:\n",
    "    print(\"Congratulations\")\n",
    "    \n",
    "        "
   ]
  },
  {
   "cell_type": "code",
   "execution_count": 33,
   "metadata": {},
   "outputs": [
    {
     "name": "stdout",
     "output_type": "stream",
     "text": [
      "Enter a year: 4000\n",
      "Leap Year\n"
     ]
    }
   ],
   "source": [
    "y=int(input(\"Enter a year: \"))\n",
    "\n",
    "if y>999:\n",
    "    if y%4==0 and y%100!=0:\n",
    "        print(\"Leap Year\")\n",
    "    elif y%100==0 and y%400==0:\n",
    "        print(\"Leap Year\")\n",
    "    else:\n",
    "        print(\"Not a Leap Year\")\n",
    "else:\n",
    "    print(\"Enter a valid year\")\n",
    "               "
   ]
  },
  {
   "cell_type": "code",
   "execution_count": 36,
   "metadata": {},
   "outputs": [
    {
     "name": "stdout",
     "output_type": "stream",
     "text": [
      "Enter a string: Nilendu\n",
      "NILENDU\n"
     ]
    }
   ],
   "source": [
    "s=input(\"Enter a string: \")\n",
    "if len(s)%2==0:\n",
    "    print(s.lower())\n",
    "else:\n",
    "    print(s.upper())"
   ]
  },
  {
   "cell_type": "code",
   "execution_count": 44,
   "metadata": {},
   "outputs": [
    {
     "name": "stdout",
     "output_type": "stream",
     "text": [
      "Enter a string: eggcurry\n",
      "Non-Veg\n"
     ]
    }
   ],
   "source": [
    "s=input(\"Enter a string: \")\n",
    "s=s.lower()\n",
    "i=\"Egg\"\n",
    "if i.lower() not in s:\n",
    "    print(\"Veg\")\n",
    "else:\n",
    "    print(\"Non-Veg\")"
   ]
  },
  {
   "cell_type": "code",
   "execution_count": 45,
   "metadata": {},
   "outputs": [
    {
     "name": "stdout",
     "output_type": "stream",
     "text": [
      "True\n"
     ]
    }
   ],
   "source": [
    "if not 1:\n",
    "    print(\"False\")\n",
    "else:\n",
    "    print(\"True\")"
   ]
  },
  {
   "cell_type": "code",
   "execution_count": 46,
   "metadata": {},
   "outputs": [
    {
     "name": "stdout",
     "output_type": "stream",
     "text": [
      "True\n"
     ]
    }
   ],
   "source": [
    "if 1:\n",
    "    print(\"True\")\n",
    "else:\n",
    "    print(\"False\")"
   ]
  },
  {
   "cell_type": "code",
   "execution_count": 48,
   "metadata": {},
   "outputs": [
    {
     "name": "stdout",
     "output_type": "stream",
     "text": [
      "weird\n"
     ]
    }
   ],
   "source": [
    "if 'a'>'A':\n",
    "    print (\"weird\")\n",
    "else :\n",
    "    print(\"Makes Sense\")"
   ]
  },
  {
   "cell_type": "code",
   "execution_count": 47,
   "metadata": {},
   "outputs": [
    {
     "name": "stdout",
     "output_type": "stream",
     "text": [
      "[4, 3, 2, 1]\n"
     ]
    }
   ],
   "source": [
    "a=[1,2,3,4]\n",
    "if 1>1:\n",
    "    a=a[::-1]\n",
    "else :\n",
    "    a=a[-1::-1]\n",
    "\n",
    "print(a)"
   ]
  },
  {
   "cell_type": "code",
   "execution_count": 58,
   "metadata": {},
   "outputs": [
    {
     "name": "stdout",
     "output_type": "stream",
     "text": [
      "Enter Marks: 86\n",
      "Enter Marks: 87\n",
      "Enter Marks: 88\n",
      "Enter Marks: 89\n",
      "Enter Marks: 90\n",
      "88.0\n",
      "Grade-B\n"
     ]
    }
   ],
   "source": [
    "sub1=int(input(\"Enter Marks: \"))\n",
    "sub2=int(input(\"Enter Marks: \"))\n",
    "sub3=int(input(\"Enter Marks: \"))\n",
    "sub4=int(input(\"Enter Marks: \"))\n",
    "sub5=int(input(\"Enter Marks: \"))\n",
    "Avg=((sub1+sub2+sub3+sub4+sub5)/500)*100\n",
    "print(Avg)\n",
    "\n",
    "if Avg in range(90,101):\n",
    "    print(\"Grade-A\")\n",
    "elif Avg in range(80,90): \n",
    "    print(\"Grade-B\")\n",
    "elif Avg in range(60,80): \n",
    "    print(\"Grade-C\")\n",
    "else:\n",
    "    print(\"Grade-F\")\n",
    "    \n",
    "    "
   ]
  },
  {
   "cell_type": "code",
   "execution_count": 23,
   "metadata": {},
   "outputs": [
    {
     "name": "stdout",
     "output_type": "stream",
     "text": [
      "Age: 31\n",
      "Salary: 1600000\n",
      "Tax is 240000.0\n"
     ]
    }
   ],
   "source": [
    "Age=int(input(\"Age: \"))\n",
    "Salary=int(input(\"Salary: \"))\n",
    "\n",
    "if Salary in range(0,250001):\n",
    "    print(\"Tax is 0\")\n",
    "elif Salary in range(250001,500001):\n",
    "    if Age<60:\n",
    "        print(\"Tax is\", (Salary*0.05))\n",
    "    else:\n",
    "        print(\"Tax is\", (Salary*0.03))\n",
    "elif  Salary in range(500001,1000001):\n",
    "    if Age<60:\n",
    "        print(\"Tax is\", (Salary*0.1))\n",
    "    else:\n",
    "        print(\"Tax is\", (Salary*0.08))\n",
    "elif Salary>1000001:\n",
    "    if Age<60:\n",
    "        print(\"Tax is\", (Salary*0.15))\n",
    "    else:\n",
    "        print(\"Tax is\", (Salary*0.12))\n",
    "else: \n",
    "    pass\n",
    "              \n"
   ]
  },
  {
   "cell_type": "code",
   "execution_count": 24,
   "metadata": {},
   "outputs": [
    {
     "name": "stdout",
     "output_type": "stream",
     "text": [
      "10\n",
      "10\n",
      "10\n",
      "OMG\n"
     ]
    }
   ],
   "source": [
    "print(20 if not 1==1 else 10) #10\n",
    "print(30 if not 1==1 else 20 if 'a' < 'A' else 10) #10\n",
    "print(40 if not 1==1 else 30 if 'a' < 'A' else 20 if '' else 10) #10\n",
    "print('No' if not 1==1 else ('No' if 'a' < 'A' else ('OMG' if 'oh!!' else 'No'))) #OMG"
   ]
  },
  {
   "cell_type": "code",
   "execution_count": 10,
   "metadata": {},
   "outputs": [
    {
     "name": "stdout",
     "output_type": "stream",
     "text": [
      "Enter Height: 165\n",
      "Enter Weight: 60\n",
      "BMI is 22.03856749311295\n",
      "Normal\n"
     ]
    }
   ],
   "source": [
    "def bmi(W,H):\n",
    "    BMI=W/(H/100)**2\n",
    "    return BMI\n",
    "\n",
    "H=int(input(\"Enter Height: \"))\n",
    "W=int(input(\"Enter Weight: \"))\n",
    "a=bmi(W,H)\n",
    "print(f\"BMI is {a}\")\n",
    "if a<18.5:\n",
    "    print(\"Underweight\")\n",
    "elif 18.5<a<25:\n",
    "    print(\"Normal\")\n",
    "elif 25<a<30 :\n",
    "    print(\"Overweight\")\n",
    "else:\n",
    "    print(\"Obese\")\n",
    "\n",
    "\n",
    "\n",
    "    \n",
    "    \n",
    "    "
   ]
  },
  {
   "cell_type": "code",
   "execution_count": 14,
   "metadata": {},
   "outputs": [
    {
     "name": "stdout",
     "output_type": "stream",
     "text": [
      "Enter age : 25\n",
      "Enter age : 26\n",
      "Enter age : 27\n",
      "User with age 27 is oldest\n",
      "User with age 25 is youngest\n"
     ]
    }
   ],
   "source": [
    "a1 = int(input(\"Enter age : \"))\n",
    "a2 = int(input(\"Enter age : \"))\n",
    "a3 = int(input(\"Enter age : \"))\n",
    "\n",
    "if a1>a2:\n",
    "    if a1>a3:\n",
    "        print(\"User with age \" + str(a1) + \" is oldest\")   \n",
    "    else :\n",
    "        print(\"User with age \" + str(a3) + \" is oldest\")\n",
    "    if a2<a3:\n",
    "        print(\"User with age \" + str(a2) + \" is youngest\")\n",
    "    else :\n",
    "        print(\"User with age \" + str(a3) + \" is youngest\")        \n",
    "else:\n",
    "    if a2>a3:\n",
    "        print(\"User with age \" + str(a2) + \" is oldest\")\n",
    "    else :\n",
    "        print(\"User with age \" + str(a3) + \" is oldest\")  \n",
    "    if a1<a3:\n",
    "        print(\"User with age \" + str(a1) + \" is youngest\")\n",
    "    else :\n",
    "        print(\"User with age \" + str(a3) + \" is youngest\")\n",
    "        "
   ]
  },
  {
   "cell_type": "code",
   "execution_count": 17,
   "metadata": {},
   "outputs": [
    {
     "name": "stdout",
     "output_type": "stream",
     "text": [
      "Enter number : 35\n",
      "Yes\n"
     ]
    }
   ],
   "source": [
    "n=int(input(\"Enter number : \"))\n",
    "if n%5==0 and n%7==0:\n",
    "    print(\"Yes\")\n",
    "else: \n",
    "    print(\"No\")"
   ]
  }
 ],
 "metadata": {
  "kernelspec": {
   "display_name": "Python 3",
   "language": "python",
   "name": "python3"
  },
  "language_info": {
   "codemirror_mode": {
    "name": "ipython",
    "version": 3
   },
   "file_extension": ".py",
   "mimetype": "text/x-python",
   "name": "python",
   "nbconvert_exporter": "python",
   "pygments_lexer": "ipython3",
   "version": "3.8.3"
  }
 },
 "nbformat": 4,
 "nbformat_minor": 4
}
