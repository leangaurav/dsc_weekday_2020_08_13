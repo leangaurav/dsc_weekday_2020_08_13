{
 "cells": [
  {
   "cell_type": "code",
   "execution_count": 32,
   "metadata": {},
   "outputs": [
    {
     "name": "stdout",
     "output_type": "stream",
     "text": [
      "d\n",
      "dter cjb inhy\n",
      "Python is Obeject Oriente\n",
      "\n",
      "on is \n"
     ]
    }
   ],
   "source": [
    "s=\"Python is Obeject Oriented\"\n",
    "print(s[-1])\n",
    "print(s[::-2])\n",
    "print(s[:-1])\n",
    "print(s[1:1])\n",
    "print(s[4:10])"
   ]
  },
  {
   "cell_type": "code",
   "execution_count": 7,
   "metadata": {},
   "outputs": [
    {
     "ename": "IndexError",
     "evalue": "string index out of range",
     "output_type": "error",
     "traceback": [
      "\u001b[0;31m---------------------------------------------------------------------------\u001b[0m",
      "\u001b[0;31mIndexError\u001b[0m                                Traceback (most recent call last)",
      "\u001b[0;32m<ipython-input-7-0f0be3dd2508>\u001b[0m in \u001b[0;36m<module>\u001b[0;34m\u001b[0m\n\u001b[1;32m      1\u001b[0m \u001b[0ms\u001b[0m\u001b[0;34m=\u001b[0m\u001b[0;34m''\u001b[0m\u001b[0;34m\u001b[0m\u001b[0;34m\u001b[0m\u001b[0m\n\u001b[0;32m----> 2\u001b[0;31m \u001b[0mprint\u001b[0m\u001b[0;34m(\u001b[0m\u001b[0ms\u001b[0m\u001b[0;34m[\u001b[0m\u001b[0;36m1\u001b[0m\u001b[0;34m]\u001b[0m\u001b[0;34m)\u001b[0m\u001b[0;34m\u001b[0m\u001b[0;34m\u001b[0m\u001b[0m\n\u001b[0m",
      "\u001b[0;31mIndexError\u001b[0m: string index out of range"
     ]
    }
   ],
   "source": [
    "s=''\n",
    "print(s[1])"
   ]
  },
  {
   "cell_type": "code",
   "execution_count": 10,
   "metadata": {},
   "outputs": [
    {
     "ename": "IndexError",
     "evalue": "string index out of range",
     "output_type": "error",
     "traceback": [
      "\u001b[0;31m---------------------------------------------------------------------------\u001b[0m",
      "\u001b[0;31mIndexError\u001b[0m                                Traceback (most recent call last)",
      "\u001b[0;32m<ipython-input-10-d508f2d4e0ec>\u001b[0m in \u001b[0;36m<module>\u001b[0;34m\u001b[0m\n\u001b[1;32m      1\u001b[0m \u001b[0mS\u001b[0m\u001b[0;34m=\u001b[0m\u001b[0;34m\"Gaurav\"\u001b[0m\u001b[0;34m\u001b[0m\u001b[0;34m\u001b[0m\u001b[0m\n\u001b[0;32m----> 2\u001b[0;31m \u001b[0mprint\u001b[0m\u001b[0;34m(\u001b[0m\u001b[0ms\u001b[0m\u001b[0;34m[\u001b[0m\u001b[0;36m1\u001b[0m\u001b[0;34m]\u001b[0m\u001b[0;34m)\u001b[0m\u001b[0;34m\u001b[0m\u001b[0;34m\u001b[0m\u001b[0m\n\u001b[0m",
      "\u001b[0;31mIndexError\u001b[0m: string index out of range"
     ]
    }
   ],
   "source": [
    "S=\"Gaurav\"\n",
    "print(s[1])"
   ]
  },
  {
   "cell_type": "code",
   "execution_count": 15,
   "metadata": {},
   "outputs": [
    {
     "name": "stdout",
     "output_type": "stream",
     "text": [
      "6\n",
      "abc\n",
      "3\n"
     ]
    }
   ],
   "source": [
    "s=\"a b cd\"\n",
    "print(len(s))\n",
    "print(s[::2])\n",
    "print(len(s[::2]))"
   ]
  },
  {
   "cell_type": "code",
   "execution_count": 24,
   "metadata": {},
   "outputs": [
    {
     "name": "stdout",
     "output_type": "stream",
     "text": [
      "['a#b#c#d#']\n",
      "['a', 'b', 'c', 'd', '']\n",
      "a$b$c$d$\n"
     ]
    }
   ],
   "source": [
    "s=\"a#b#c#d#\"\n",
    "print(s.split())\n",
    "print(s.split('#'))\n",
    "l=s.split('#')\n",
    "s='$'.join(l)\n",
    "print(s)"
   ]
  },
  {
   "cell_type": "code",
   "execution_count": 33,
   "metadata": {},
   "outputs": [
    {
     "name": "stdout",
     "output_type": "stream",
     "text": [
      "av\n"
     ]
    }
   ],
   "source": [
    "S=\"Gaurav\"\n",
    "S=S[::-2][::-2]\n",
    "print(S)"
   ]
  },
  {
   "cell_type": "code",
   "execution_count": 34,
   "metadata": {},
   "outputs": [
    {
     "name": "stdout",
     "output_type": "stream",
     "text": [
      "False\n"
     ]
    }
   ],
   "source": [
    "print(1>2)"
   ]
  },
  {
   "cell_type": "code",
   "execution_count": 37,
   "metadata": {},
   "outputs": [
    {
     "name": "stdout",
     "output_type": "stream",
     "text": [
      "0,1,2\n"
     ]
    }
   ],
   "source": [
    "print(4%2, 5%2, 2%5 , sep=',')"
   ]
  },
  {
   "cell_type": "code",
   "execution_count": 5,
   "metadata": {
    "scrolled": true
   },
   "outputs": [
    {
     "name": "stdout",
     "output_type": "stream",
     "text": [
      "ABCBA\n",
      "2,0,0,"
     ]
    }
   ],
   "source": [
    "s='abcba' \n",
    "s=s.upper() \n",
    "print(s)\n",
    "print(s.count('A'), end = ',')\n",
    "print(s.count('A', 2,4) , end = ',')\n",
    "print(s.count('a', 2,4) , end = ',')"
   ]
  },
  {
   "cell_type": "code",
   "execution_count": 6,
   "metadata": {},
   "outputs": [
    {
     "name": "stdout",
     "output_type": "stream",
     "text": [
      "Enter a string without blanks: a b c\n",
      "['a', 'b', 'c']\n",
      "abc\n"
     ]
    }
   ],
   "source": [
    "word=input(\"Enter a string without blanks: \")\n",
    "x=word.split(' ')\n",
    "print(x)\n",
    "without_space=''.join(x)\n",
    "print(without_space)"
   ]
  },
  {
   "cell_type": "code",
   "execution_count": null,
   "metadata": {},
   "outputs": [],
   "source": [
    "[] is a list.A list is a mutable collection of values"
   ]
  },
  {
   "cell_type": "code",
   "execution_count": 7,
   "metadata": {},
   "outputs": [
    {
     "name": "stdout",
     "output_type": "stream",
     "text": [
      "['__add__', '__class__', '__contains__', '__delattr__', '__dir__', '__doc__', '__eq__', '__format__', '__ge__', '__getattribute__', '__getitem__', '__getnewargs__', '__gt__', '__hash__', '__init__', '__init_subclass__', '__iter__', '__le__', '__len__', '__lt__', '__mod__', '__mul__', '__ne__', '__new__', '__reduce__', '__reduce_ex__', '__repr__', '__rmod__', '__rmul__', '__setattr__', '__sizeof__', '__str__', '__subclasshook__', 'capitalize', 'casefold', 'center', 'count', 'encode', 'endswith', 'expandtabs', 'find', 'format', 'format_map', 'index', 'isalnum', 'isalpha', 'isascii', 'isdecimal', 'isdigit', 'isidentifier', 'islower', 'isnumeric', 'isprintable', 'isspace', 'istitle', 'isupper', 'join', 'ljust', 'lower', 'lstrip', 'maketrans', 'partition', 'replace', 'rfind', 'rindex', 'rjust', 'rpartition', 'rsplit', 'rstrip', 'split', 'splitlines', 'startswith', 'strip', 'swapcase', 'title', 'translate', 'upper', 'zfill']\n"
     ]
    }
   ],
   "source": [
    "print(dir(str))"
   ]
  },
  {
   "cell_type": "code",
   "execution_count": 11,
   "metadata": {},
   "outputs": [
    {
     "name": "stdout",
     "output_type": "stream",
     "text": [
      "True\n"
     ]
    }
   ],
   "source": [
    "s=dir(str)\n",
    "print('rstrip' in s)"
   ]
  },
  {
   "cell_type": "code",
   "execution_count": 13,
   "metadata": {},
   "outputs": [
    {
     "name": "stdout",
     "output_type": "stream",
     "text": [
      "\n",
      "\n",
      "     *****\n",
      "       *\n",
      "       *          \n",
      "       *\n",
      "       *\n",
      "        \n",
      "\n",
      "          *       *\n",
      "          * * * * *\n",
      "          *   *   * \n",
      "          *       *\n",
      "  \n",
      "               ________\n",
      "              |        |\n",
      "              o        |\n",
      "            / | \\      |\n",
      "            /   \\      | \n",
      "             __________|\n",
      "             \n",
      "\n"
     ]
    }
   ],
   "source": [
    "pattern1='''\n",
    "\n",
    "     *****\n",
    "       *\n",
    "       *          \n",
    "       *\n",
    "       *\n",
    "       '''\n",
    "\n",
    "pattern2='''\n",
    "\n",
    "          *       *\n",
    "          * * * * *\n",
    "          *   *   * \n",
    "          *       *\n",
    "'''    \n",
    "          \n",
    "pattern3=''' \n",
    "               ________\n",
    "              |        |\n",
    "              o        |\n",
    "            / | \\      |\n",
    "            /   \\      | \n",
    "             __________|\n",
    "             \n",
    "'''\n",
    "\n",
    "print(pattern1,pattern2,pattern3)"
   ]
  },
  {
   "cell_type": "code",
   "execution_count": 17,
   "metadata": {},
   "outputs": [
    {
     "name": "stdout",
     "output_type": "stream",
     "text": [
      "Enter a string: Welcome to Pune\n",
      "['Welcome', 'to', 'Pune']\n",
      "Welcome\n",
      "to\n",
      "Pune\n"
     ]
    }
   ],
   "source": [
    "s=input(\"Enter a string: \")\n",
    "x=s.split(' ')\n",
    "print(x)\n",
    "new='\\n'.join(x)\n",
    "print(new)"
   ]
  },
  {
   "cell_type": "code",
   "execution_count": 26,
   "metadata": {},
   "outputs": [
    {
     "name": "stdout",
     "output_type": "stream",
     "text": [
      "Enter you name: Nilendu Saha\n",
      "First name NILENDU and length 7\n",
      "Last name SAHA and length 4\n"
     ]
    }
   ],
   "source": [
    "s=input(\"Enter you name: \")\n",
    "s=s.upper()\n",
    "x=s.split(\" \")\n",
    "print(f'First name {x[0]} and length {len(x[0])}\\nLast name {x[1]} and length {len(x[1])}')"
   ]
  },
  {
   "cell_type": "code",
   "execution_count": 27,
   "metadata": {},
   "outputs": [
    {
     "name": "stdout",
     "output_type": "stream",
     "text": [
      "Enter str: Nilendu\n",
      "Nil\n",
      "ndu\n"
     ]
    }
   ],
   "source": [
    "s = input(\"Enter str: \")\n",
    "indx = len(s)//2\n",
    "# print(indx)\n",
    "if len(s)%2 == 0:\n",
    "    print(s[0:indx])\n",
    "    print(s[indx:])\n",
    "else:\n",
    "    print(s[0:indx])\n",
    "    print(s[indx+1:]) # if odd length, ignore the middle char"
   ]
  }
 ],
 "metadata": {
  "kernelspec": {
   "display_name": "Python 3",
   "language": "python",
   "name": "python3"
  },
  "language_info": {
   "codemirror_mode": {
    "name": "ipython",
    "version": 3
   },
   "file_extension": ".py",
   "mimetype": "text/x-python",
   "name": "python",
   "nbconvert_exporter": "python",
   "pygments_lexer": "ipython3",
   "version": "3.8.3"
  }
 },
 "nbformat": 4,
 "nbformat_minor": 4
}
