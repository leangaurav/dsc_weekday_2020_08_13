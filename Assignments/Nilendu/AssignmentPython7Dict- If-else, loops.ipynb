{
 "cells": [
  {
   "cell_type": "code",
   "execution_count": 34,
   "metadata": {},
   "outputs": [
    {
     "name": "stdout",
     "output_type": "stream",
     "text": [
      "{1: -1, 2: -2, 3: -3, 4: -4, 5: -5}\n",
      "Enter count: 1 2 3 4 5 6\n",
      "{1: -1, 2: -2, 3: -3, 4: -4, 5: -5, 6: -6}\n"
     ]
    }
   ],
   "source": [
    "d = {}\n",
    "\n",
    "for i in range(1,6):\n",
    "    d[i]= (-1)*i\n",
    "    i += 1\n",
    "print(d)    \n",
    "\n",
    "\n",
    "d1={}\n",
    "n=list(input(\"Enter count: \").split())   \n",
    "\n",
    "for i in n:\n",
    "    d1[int(i)]= (-1)*int(i)\n",
    "\n",
    "print(d1)    "
   ]
  },
  {
   "cell_type": "code",
   "execution_count": 35,
   "metadata": {},
   "outputs": [],
   "source": [
    "#d={1=2, 2=3} No\n",
    "#d={1:2,2:3} Yes\n",
    "#d={1,2:2,3} No\n",
    "#d={(1,2):(2,3)} Yes\n",
    "#d={'a':'A', 'b':1,'c':[1234]} Yes\n",
    "#d={'a':'A', 'b':1, c:[1234]} No\n",
    "#d= dict([(1,2),(2,3)]) Yes\n",
    "#d= dict(((1,2),(2,3))) Yes\n",
    "#d= dict((1,2),(2,3)) No\n",
    "#d=dict(x=2, y=3) Yes\n",
    "#d=dict('x'=2,'y'=3) No\n",
    "#d=dict(1=2,2=3) No"
   ]
  },
  {
   "cell_type": "code",
   "execution_count": 37,
   "metadata": {},
   "outputs": [
    {
     "name": "stdout",
     "output_type": "stream",
     "text": [
      "{1: 10, 2: 20, 3: 30, 4: 40}\n"
     ]
    }
   ],
   "source": [
    "l1=[1,2,3,4]\n",
    "l2=[10,20,30,40]\n",
    "d={}\n",
    "\n",
    "for i,j in zip(l1,l2):\n",
    "    d[i]=j\n",
    "print(d)    "
   ]
  },
  {
   "cell_type": "code",
   "execution_count": 38,
   "metadata": {},
   "outputs": [
    {
     "name": "stdout",
     "output_type": "stream",
     "text": [
      "{'A': 65, 'B': 66, 'C': 67, 'D': 68, 'E': 69, 'F': 70, 'G': 71, 'H': 72, 'I': 73, 'J': 74, 'K': 75, 'L': 76, 'M': 77, 'N': 78, 'O': 79, 'P': 80, 'Q': 81, 'R': 82, 'S': 83, 'T': 84, 'U': 85, 'V': 86, 'W': 87, 'X': 88, 'Y': 89, 'Z': 90}\n"
     ]
    }
   ],
   "source": [
    "d={}\n",
    "for i in range(0,26):\n",
    "    d[chr(65+i)]=65+i\n",
    "print(d)    "
   ]
  },
  {
   "cell_type": "code",
   "execution_count": 50,
   "metadata": {},
   "outputs": [
    {
     "name": "stdout",
     "output_type": "stream",
     "text": [
      "Enter a number: 6\n",
      "The word format of 6 is:SIX\n",
      "[0, 1, 2, 3, 4, 5, 6, 7, 8, 9]\n",
      "['ZERO', 'ONE', 'TWO', 'THREE', 'FOUR', 'FIVE', 'SIX', 'SEVEN', 'EIGHT', 'NINE']\n",
      "[(0, 'ZERO'), (1, 'ONE'), (2, 'TWO'), (3, 'THREE'), (4, 'FOUR'), (5, 'FIVE'), (6, 'SIX'), (7, 'SEVEN'), (8, 'EIGHT'), (9, 'NINE')]\n"
     ]
    }
   ],
   "source": [
    "l1 = [0,1,2,3,4,5,6,7,8,9] \n",
    "l2 = ['ZERO','ONE','TWO','THREE','FOUR','FIVE','SIX','SEVEN','EIGHT','NINE'] \n",
    "d={}\n",
    "n=int(input(\"Enter a number: \"))\n",
    "\n",
    "for i,j in zip(l1,l2):\n",
    "    d[i]=j\n",
    "\n",
    "print(f\"The word format of {n} is:{d.get(n)}\")  \n",
    "print(list(d.keys()))\n",
    "print(list(d.values()))\n",
    "print(list(d.items()))"
   ]
  },
  {
   "cell_type": "code",
   "execution_count": 51,
   "metadata": {},
   "outputs": [
    {
     "name": "stdout",
     "output_type": "stream",
     "text": [
      "{'A': 'Apple', 'B': 'Ball', 'C': 'Cat', 'D': 'Dog'}\n",
      "{'A': 'Apple', 'C': 'Cat'}\n"
     ]
    }
   ],
   "source": [
    "l1=['A','B','C','D']\n",
    "l2=['Apple','Ball','Cat','Dog']\n",
    "\n",
    "d1=dict(zip(l1,l2))\n",
    "print(d1) # {'A':'Apple','B':'Ball','C':'Cat','D':'Dog'}\n",
    "\n",
    "d2=dict(list(d1.items())[::2])\n",
    "\n",
    "print(d2) #{'A':'Apple','C':'Cat'}"
   ]
  },
  {
   "cell_type": "code",
   "execution_count": 52,
   "metadata": {},
   "outputs": [
    {
     "name": "stdout",
     "output_type": "stream",
     "text": [
      "Enter String : beautiful day\n",
      "{'a': 2, 'e': 1, 'i': 1, 'o': 0, 'u': 2}\n",
      "\n",
      "a : 2\n",
      "e : 1\n",
      "i : 1\n",
      "o : 0\n",
      "u : 2\n"
     ]
    }
   ],
   "source": [
    "lst=list((input(\"Enter String : \").lower()))\n",
    "\n",
    "d={'a':0,'e':0,'i':0,'o':0,'u':0}\n",
    "\n",
    "for i in lst:\n",
    "    if i in d.keys():\n",
    "        d[i]=d.get(i)+1\n",
    "\n",
    "print(d)\n",
    "print()\n",
    "\n",
    "for k,v in d.items():\n",
    "    print(k,\":\",v)"
   ]
  },
  {
   "cell_type": "code",
   "execution_count": 53,
   "metadata": {},
   "outputs": [
    {
     "name": "stdout",
     "output_type": "stream",
     "text": [
      "Enter String : beautiful day\n",
      "{'b': 1, 'e': 1, 'a': 2, 'u': 2, 't': 1, 'i': 1, 'f': 1, 'l': 1, ' ': 1, 'd': 1, 'y': 1}\n",
      "b : 1\n",
      "e : 1\n",
      "a : 2\n",
      "u : 2\n",
      "t : 1\n",
      "i : 1\n",
      "f : 1\n",
      "l : 1\n",
      "  : 1\n",
      "d : 1\n",
      "y : 1\n"
     ]
    }
   ],
   "source": [
    "lst=list((input(\"Enter String : \").lower()))\n",
    "\n",
    "d={}\n",
    "\n",
    "for i in lst:\n",
    "    if d.get(i) is None:\n",
    "        d[i]=1\n",
    "    else :\n",
    "        d[i]=d.get(i)+1\n",
    "\n",
    "print(d)\n",
    "\n",
    "for k,v in d.items():\n",
    "    print(k,\":\",v)"
   ]
  },
  {
   "cell_type": "code",
   "execution_count": 54,
   "metadata": {},
   "outputs": [
    {
     "name": "stdout",
     "output_type": "stream",
     "text": [
      "Enter String : count the words in the sentence\n",
      "{'count': 1, 'the': 2, 'words': 1, 'in': 1, 'sentence': 1}\n",
      "count : 1\n",
      "the : 2\n",
      "words : 1\n",
      "in : 1\n",
      "sentence : 1\n"
     ]
    }
   ],
   "source": [
    "lst=list(input(\"Enter String : \").lower().split())\n",
    "\n",
    "d={}\n",
    "\n",
    "for i in lst:\n",
    "    if d.get(i) is None:\n",
    "        d[i]=1\n",
    "    else :\n",
    "        d[i]=d.get(i)+1\n",
    "\n",
    "print(d)\n",
    "\n",
    "for k,v in d.items():\n",
    "    print(k,\":\",v)"
   ]
  }
 ],
 "metadata": {
  "kernelspec": {
   "display_name": "Python 3",
   "language": "python",
   "name": "python3"
  },
  "language_info": {
   "codemirror_mode": {
    "name": "ipython",
    "version": 3
   },
   "file_extension": ".py",
   "mimetype": "text/x-python",
   "name": "python",
   "nbconvert_exporter": "python",
   "pygments_lexer": "ipython3",
   "version": "3.8.3"
  }
 },
 "nbformat": 4,
 "nbformat_minor": 4
}
