{
 "cells": [
  {
   "cell_type": "code",
   "execution_count": 19,
   "metadata": {},
   "outputs": [
    {
     "name": "stdout",
     "output_type": "stream",
     "text": [
      "Enter a number : 5\n",
      "25\n",
      "Enter a number : 5\n",
      "0.2\n",
      "Enter a number : 5\n",
      "-5\n"
     ]
    }
   ],
   "source": [
    "x = lambda x:x**2\n",
    "y = lambda y:1/y\n",
    "z = lambda z:-z\n",
    "\n",
    "print(x(int(input(\"Enter a number : \"))))\n",
    "print(y(int(input(\"Enter a number : \"))))\n",
    "print(z(int(input(\"Enter a number : \"))))"
   ]
  },
  {
   "cell_type": "code",
   "execution_count": 12,
   "metadata": {},
   "outputs": [
    {
     "name": "stdout",
     "output_type": "stream",
     "text": [
      "Enter the numbers : 1 10 20 3 33 4 40 55\n",
      "<class 'list'>\n",
      "55\n",
      "55\n",
      "55\n"
     ]
    }
   ],
   "source": [
    "from functools import reduce\n",
    "\n",
    "lst = input(\"Enter the numbers : \").split()\n",
    "print(type(lst))\n",
    "\n",
    "max_number = lambda x: max(x)\n",
    "print(max_number(lst))\n",
    "\n",
    "max_number = reduce(lambda x,y: max(x,y),lst)\n",
    "print(max_number)\n",
    "\n",
    "max_number = reduce(lambda x,y: x if x>y else y,lst)\n",
    "print(max_number)\n"
   ]
  },
  {
   "cell_type": "code",
   "execution_count": 6,
   "metadata": {},
   "outputs": [
    {
     "name": "stdout",
     "output_type": "stream",
     "text": [
      "[1, 4, 9, 16, 25]\n",
      "[1.0, 0.5, 0.3333333333333333, 0.25, 0.2]\n",
      "[-1, -2, -3, -4, -5]\n",
      "\n",
      "[-1.0, -0.25, -0.1111111111111111, -0.0625, -0.04]\n"
     ]
    }
   ],
   "source": [
    "x=lambda x : x**2\n",
    "y=lambda y : 1/y\n",
    "z=lambda z : -z\n",
    "\n",
    "lst = [1,2,3,4,5]\n",
    "\n",
    "def map_multiple(func,seq):\n",
    "    return list(map(func,seq))\n",
    "\n",
    "print(map_multiple(x,lst))\n",
    "print(map_multiple(y,lst))\n",
    "print(map_multiple(z,lst))\n",
    "\n",
    "print()\n",
    "\n",
    "print(map_multiple(z,map_multiple(y,map_multiple(x,lst))))\n",
    "\n",
    "\n",
    "\n",
    "    "
   ]
  },
  {
   "cell_type": "code",
   "execution_count": 7,
   "metadata": {},
   "outputs": [
    {
     "name": "stdout",
     "output_type": "stream",
     "text": [
      "50\n"
     ]
    }
   ],
   "source": [
    "from functools import reduce\n",
    "f= lambda x,y : x if x>y else y\n",
    "\n",
    "l=[10,30,50,30,10]\n",
    "\n",
    "num=reduce(f,l)\n",
    "print(num) #50"
   ]
  },
  {
   "cell_type": "code",
   "execution_count": 8,
   "metadata": {},
   "outputs": [
    {
     "name": "stdout",
     "output_type": "stream",
     "text": [
      "[1.0, 0.5, 0.25, 0.125]\n"
     ]
    }
   ],
   "source": [
    "functs= [lambda x : x**0.5, lambda x : 1/x]\n",
    "l=[1,4,16,64]\n",
    "\n",
    "ans=[]\n",
    "\n",
    "for num in l:\n",
    "    res=num\n",
    "    for funct in functs : \n",
    "        res=funct(res)\n",
    "    ans.append(res)\n",
    "print(ans)"
   ]
  },
  {
   "cell_type": "code",
   "execution_count": 9,
   "metadata": {},
   "outputs": [
    {
     "name": "stdout",
     "output_type": "stream",
     "text": [
      "Enter a string : nibisa17\n",
      "['1', '7']\n"
     ]
    }
   ],
   "source": [
    "lst = input(\"Enter a string : \")\n",
    "num = list(filter(lambda x:str.isnumeric(x),lst))\n",
    "print(num)"
   ]
  },
  {
   "cell_type": "code",
   "execution_count": 16,
   "metadata": {},
   "outputs": [
    {
     "name": "stdout",
     "output_type": "stream",
     "text": [
      "[1.7018, 1.8542000000000003, 1.524, 4.1148]\n"
     ]
    }
   ],
   "source": [
    "def height_conv(ht):\n",
    "    if 'ft'in ht and 'in' in ht:\n",
    "        ft = ht[:ht.find('ft')]\n",
    "        inc = ht[ht.find('ft')+2:ht.find('in')]\n",
    "    elif 'ft'in ht and 'in' not in ht:\n",
    "        ft = ht[:ht.find('ft')]\n",
    "        inc = 0\n",
    "    elif 'ft'not in ht and 'in' in ht:\n",
    "        ft = 0\n",
    "        inc = ht[:ht.find('in')]\n",
    "    else:\n",
    "        ft = 0\n",
    "        inc = 0\n",
    "    m = float(ft)*0.3048 + float(inc)*0.0254\n",
    "    return m\n",
    "\n",
    "l = ['5ft7in','6ft1in','5ft','162in']\n",
    "l_in_m = list(map(height_conv,l))\n",
    "print(l_in_m)"
   ]
  },
  {
   "cell_type": "code",
   "execution_count": 17,
   "metadata": {},
   "outputs": [
    {
     "name": "stdout",
     "output_type": "stream",
     "text": [
      "[100, 400, 900, 1600]\n"
     ]
    }
   ],
   "source": [
    "def my_map(f1,seq):\n",
    "    lst=[]\n",
    "    for i in seq:\n",
    "        lst.append(f1(i))\n",
    "    return lst\n",
    "\n",
    "lst = [10,20,30,40]\n",
    "\n",
    "new_lst=list(my_map(lambda x: x**2,lst))\n",
    "\n",
    "print(new_lst)\n",
    "    "
   ]
  }
 ],
 "metadata": {
  "kernelspec": {
   "display_name": "Python 3",
   "language": "python",
   "name": "python3"
  },
  "language_info": {
   "codemirror_mode": {
    "name": "ipython",
    "version": 3
   },
   "file_extension": ".py",
   "mimetype": "text/x-python",
   "name": "python",
   "nbconvert_exporter": "python",
   "pygments_lexer": "ipython3",
   "version": "3.8.3"
  }
 },
 "nbformat": 4,
 "nbformat_minor": 4
}
