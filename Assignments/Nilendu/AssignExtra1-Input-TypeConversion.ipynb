{
 "cells": [
  {
   "cell_type": "code",
   "execution_count": 1,
   "metadata": {},
   "outputs": [
    {
     "name": "stdout",
     "output_type": "stream",
     "text": [
      "Enter temparature in Fahrenheit: 100\n",
      "Temparature in Celsius 37.77777777777778\n"
     ]
    }
   ],
   "source": [
    "F=float(input(\"Enter temparature in Fahrenheit: \"))\n",
    "C=float((F-32)*5/9)\n",
    "print(f\"Temparature in Celsius {C}\")"
   ]
  },
  {
   "cell_type": "code",
   "execution_count": 18,
   "metadata": {},
   "outputs": [
    {
     "name": "stdout",
     "output_type": "stream",
     "text": [
      "Enter the number to get the square and cube root: 7\n",
      "Sqaure of 7 is 49\n",
      "Cube of 7 is 343\n"
     ]
    }
   ],
   "source": [
    "n=int(input(\"Enter the number to get the square and cube root: \"))\n",
    "s=int(n*n)\n",
    "c=int(n*n*n)\n",
    "print(f'Sqaure of {n} is {s}\\nCube of {n} is {c}')"
   ]
  },
  {
   "cell_type": "code",
   "execution_count": 14,
   "metadata": {},
   "outputs": [
    {
     "name": "stdout",
     "output_type": "stream",
     "text": [
      "Enter the number: 5\n",
      "Enter the number: 6\n",
      "61.0\n"
     ]
    }
   ],
   "source": [
    "num1=float(input(\"Enter the number: \"))\n",
    "num2=float(input(\"Enter the number: \")) \n",
    "print((num1**2)+(num2**2))"
   ]
  },
  {
   "cell_type": "code",
   "execution_count": 1,
   "metadata": {},
   "outputs": [
    {
     "name": "stdout",
     "output_type": "stream",
     "text": [
      "Enter a number: 5\n",
      "Enter another number: 3\n",
      "Result of M^N is: 125\n"
     ]
    }
   ],
   "source": [
    "M=int(input(\"Enter a number: \"))\n",
    "N=int(input(\"Enter another number: \"))\n",
    "print(f'Result of M^N is: '+ str(M**N))"
   ]
  },
  {
   "cell_type": "code",
   "execution_count": 20,
   "metadata": {},
   "outputs": [
    {
     "name": "stdout",
     "output_type": "stream",
     "text": [
      "Enter initial balance: 5000\n",
      "Enter annual interset rate percentage= 5\n",
      "Enter time (in years): 5\n",
      "The interest amount is 1250.0 and the total amount is 6250.0\n"
     ]
    }
   ],
   "source": [
    "P=float(input(\"Enter initial balance: \"))\n",
    "r=float(input(\"Enter annual interset rate percentage= \"))/100\n",
    "t=float(input(\"Enter time (in years): \"))\n",
    "i=(P*r*t)\n",
    "A=P*(1+r*t)\n",
    "print(f'The interest amount is {i} and the total amount is {A}')"
   ]
  },
  {
   "cell_type": "code",
   "execution_count": 23,
   "metadata": {},
   "outputs": [
    {
     "name": "stdout",
     "output_type": "stream",
     "text": [
      "Enter initial balance: 1000\n",
      "Enter annual interset rate percentage= 6.4\n",
      "Enter time period(in years): 5\n",
      "number of times interest applied per time period: 1\n",
      "The total amount is 1363.6663998218244\n"
     ]
    }
   ],
   "source": [
    "P=float(input(\"Enter initial balance: \"))\n",
    "r=float(input(\"Enter annual interset rate percentage= \"))/100\n",
    "t=float(input(\"Enter time period(in years): \"))\n",
    "n=float(input(\"number of times interest applied per time period: \"))\n",
    "A=P*((1+r/n)**(n*t))\n",
    "print(f'The total amount is {A}')"
   ]
  },
  {
   "cell_type": "code",
   "execution_count": 27,
   "metadata": {},
   "outputs": [
    {
     "name": "stdout",
     "output_type": "stream",
     "text": [
      "Enter a number: 11\n",
      "The sum of natural numbers upto 11 is 66.0\n"
     ]
    }
   ],
   "source": [
    "n=int(input(\"Enter a number: \"))\n",
    "s=(n*(n+1))/2\n",
    "print(f'The sum of natural numbers upto {n} is {s}')"
   ]
  },
  {
   "cell_type": "code",
   "execution_count": 28,
   "metadata": {},
   "outputs": [
    {
     "name": "stdout",
     "output_type": "stream",
     "text": [
      "Enter num1: 78\n",
      "Enter num2: 56\n",
      "Num1: 78, Num2: 56\n",
      "After swap, Num1: 56, Num2: 78\n",
      "\n",
      "Enter num1: 34\n",
      "Enter num2: 43\n",
      "Num1: 34, Num2: 43\n",
      "After swap, Num1: 43, Num2: 34\n"
     ]
    }
   ],
   "source": [
    "n1 = int(input(\"Enter num1: \"))\n",
    "n2 = int(input(\"Enter num2: \"))\n",
    "print(f\"Num1: {n1}, Num2: {n2}\")\n",
    "t = n1\n",
    "n1 = n2\n",
    "n2 = t\n",
    "print(f\"After swap, Num1: {n1}, Num2: {n2}\")\n",
    "print()\n",
    "\n",
    "# swap pythonic way\n",
    "n1 = int(input(\"Enter num1: \"))\n",
    "n2 = int(input(\"Enter num2: \"))\n",
    "print(f\"Num1: {n1}, Num2: {n2}\")\n",
    "n1, n2 = n2, n1\n",
    "print(f\"After swap, Num1: {n1}, Num2: {n2}\")"
   ]
  },
  {
   "cell_type": "code",
   "execution_count": 30,
   "metadata": {},
   "outputs": [
    {
     "name": "stdout",
     "output_type": "stream",
     "text": [
      "32\n",
      "9\n",
      "10\n",
      "13\n"
     ]
    }
   ],
   "source": [
    "print(ord(' '))\n",
    "print(ord('\\t'))\n",
    "print(ord('\\n'))\n",
    "print(ord('\\r'))"
   ]
  },
  {
   "cell_type": "code",
   "execution_count": 33,
   "metadata": {},
   "outputs": [
    {
     "name": "stdout",
     "output_type": "stream",
     "text": [
      "Enter a single character: A\n",
      "The ASCII value of A = 65\n"
     ]
    }
   ],
   "source": [
    "c=input(\"Enter a single character: \")\n",
    "print(f'The ASCII value of {c} = {ord(c)}')"
   ]
  },
  {
   "cell_type": "code",
   "execution_count": 39,
   "metadata": {},
   "outputs": [
    {
     "name": "stdout",
     "output_type": "stream",
     "text": [
      "Enter the area of the circle: 532\n",
      "The radius of the circle is 13.013103375051497 and circumference is 81.76373992693264\n"
     ]
    }
   ],
   "source": [
    "from math import sqrt,pi\n",
    "A=int(input(\"Enter the area of the circle: \"))\n",
    "r=sqrt(A/math.pi)\n",
    "C=2*pi*r\n",
    "print(f'The radius of the circle is {r} and circumference is {C}')"
   ]
  },
  {
   "cell_type": "code",
   "execution_count": 45,
   "metadata": {},
   "outputs": [
    {
     "name": "stdout",
     "output_type": "stream",
     "text": [
      "Total marks obstained = 432\n",
      "Number of subjects= 5\n",
      "Percentage = 86.4\n"
     ]
    }
   ],
   "source": [
    "s1 = 90\n",
    "s2 = 80\n",
    "s3 = 82\n",
    "s4 = 95\n",
    "s5 = 85\n",
    "marks = (s1,s2,s3,s4,s5)\n",
    "print(f'Total marks obstained = {sum(marks)}')\n",
    "print(f'Number of subjects = {len(marks)}')\n",
    "percent = (sum(marks)/(100*len(marks)))*100\n",
    "print(f\"Percentage = {percent}\")"
   ]
  }
 ],
 "metadata": {
  "kernelspec": {
   "display_name": "Python 3",
   "language": "python",
   "name": "python3"
  },
  "language_info": {
   "codemirror_mode": {
    "name": "ipython",
    "version": 3
   },
   "file_extension": ".py",
   "mimetype": "text/x-python",
   "name": "python",
   "nbconvert_exporter": "python",
   "pygments_lexer": "ipython3",
   "version": "3.8.3"
  }
 },
 "nbformat": 4,
 "nbformat_minor": 4
}
