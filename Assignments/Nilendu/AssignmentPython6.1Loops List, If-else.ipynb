{
 "cells": [
  {
   "cell_type": "code",
   "execution_count": null,
   "metadata": {},
   "outputs": [],
   "source": [
    "s=input(\"Enter a string : \")\n",
    "\n",
    "for i in s:\n",
    "    print(i,end=\" \")"
   ]
  },
  {
   "cell_type": "code",
   "execution_count": null,
   "metadata": {},
   "outputs": [],
   "source": [
    "s=input(\"Enter a string : \")\n",
    "for i in s:\n",
    "    print(ord(i),end=\" \")"
   ]
  },
  {
   "cell_type": "code",
   "execution_count": 16,
   "metadata": {},
   "outputs": [
    {
     "name": "stdout",
     "output_type": "stream",
     "text": [
      "Enter a list of numbers: 1 2 3 5 7 12 14 16 23\n",
      "The sum of the odd numbers in the list is : 39\n"
     ]
    }
   ],
   "source": [
    "l=input(\"Enter a list of numbers: \").split()\n",
    "sm=0\n",
    "\n",
    "for i in l:\n",
    "    if int(i)%2 !=0:\n",
    "        sm += int(i)\n",
    "\n",
    "print(f\"The sum of the odd numbers in the list is : {sm}\")"
   ]
  },
  {
   "cell_type": "code",
   "execution_count": 7,
   "metadata": {},
   "outputs": [
    {
     "name": "stdout",
     "output_type": "stream",
     "text": [
      "Enter a list of numbers: 11 22 33 44 55 47\n",
      "['11', '22', '33', '44', '55', '47']\n",
      "('11', '22', '33', '44', '55', '47')\n",
      "Enter another number: 48\n",
      "['11', '22', '33', '44', '55', '47', '48']\n",
      "('11', '22', '33', '44', '55', '47', '48')\n",
      "6\n"
     ]
    }
   ],
   "source": [
    "l=(input(\"Enter a list of numbers: \")).split()\n",
    "l1=list(l)\n",
    "t=tuple(l1)\n",
    "print(l1)\n",
    "print(t)\n",
    "num=input(\"Enter another number: \")\n",
    "l1.append(num)\n",
    "print(l1)\n",
    "t=tuple(l1)\n",
    "print(t)\n",
    "print(t.index(num))\n"
   ]
  },
  {
   "cell_type": "code",
   "execution_count": 15,
   "metadata": {},
   "outputs": [
    {
     "name": "stdout",
     "output_type": "stream",
     "text": [
      "List of 10 random numbers: [23, 47, 18, 39, 87, 62, 48, 53, 74, 82]\n",
      "Sum of the numbers in the list: 533\n",
      "Average of the number in the list: 53.3\n",
      "List of numbers from even index: [23, 18, 87, 48, 74]\n"
     ]
    }
   ],
   "source": [
    "import random\n",
    "\n",
    "l=[]\n",
    "l_even=[]\n",
    "sm=0\n",
    "\n",
    "for i in range(10):\n",
    "    rand_num=random.randint(1,100)\n",
    "    l.append(rand_num)\n",
    "    sm+=rand_num\n",
    "    if i%2==0:\n",
    "        l_even.append(l[i])\n",
    "        \n",
    "        \n",
    "print(f\"List of 10 random numbers: {l}\")\n",
    "print(f\"Sum of the numbers in the list: {sm}\")\n",
    "print(f\"Average of the number in the list: {sm/10}\")\n",
    "print(f\"List of numbers from even index: {l_even}\")"
   ]
  },
  {
   "cell_type": "code",
   "execution_count": 23,
   "metadata": {},
   "outputs": [
    {
     "name": "stdout",
     "output_type": "stream",
     "text": [
      "Enter a number : 11\n",
      "Enter a number : 22\n",
      "Enter a number : 33\n",
      "Enter a number : 44\n",
      "Enter a number : 55\n",
      "Enter a number : 66\n",
      "Enter a number : 77\n",
      "Enter a number : 88\n",
      "Enter a number : 99\n",
      "Enter a number : 110\n",
      "The list with 10 randum numbers = [11, 22, 33, 44, 55, 66, 77, 88, 99, 110]\n",
      "The sum of the numbers in the list is = 605\n"
     ]
    }
   ],
   "source": [
    "l=[]\n",
    "sm=0\n",
    "\n",
    "for i in range(10):\n",
    "    n=int(input(\"Enter a number : \"))\n",
    "    l.append(n)\n",
    "    sm += n\n",
    "    \n",
    "print(f\"The list with 10 randum numbers = {l}\")\n",
    "print(f\"The sum of the numbers in the list is = {sm}\")\n",
    "    "
   ]
  },
  {
   "cell_type": "code",
   "execution_count": 25,
   "metadata": {},
   "outputs": [
    {
     "name": "stdout",
     "output_type": "stream",
     "text": [
      "Enter a number: 7\n",
      "7 x 1 = 7\n",
      "7 x 2 = 14\n",
      "7 x 3 = 21\n",
      "7 x 4 = 28\n",
      "7 x 5 = 35\n",
      "7 x 6 = 42\n",
      "7 x 7 = 49\n",
      "7 x 8 = 56\n",
      "7 x 9 = 63\n",
      "7 x 10 = 70\n"
     ]
    }
   ],
   "source": [
    "n=int(input(\"Enter a number: \"))\n",
    "\n",
    "for i in range(1,11):\n",
    "    print(f'{n} x {i} = {n*i}')"
   ]
  },
  {
   "cell_type": "code",
   "execution_count": 32,
   "metadata": {},
   "outputs": [
    {
     "name": "stdout",
     "output_type": "stream",
     "text": [
      "Enter a string: Ni le nd u bi kas h sa h a\n",
      "The number of space in the string is = 9\n"
     ]
    }
   ],
   "source": [
    "s=input(\"Enter a string: \")\n",
    "s_count=0\n",
    "\n",
    "for i in s:\n",
    "    if i.isspace():\n",
    "        s_count += 1\n",
    "    \n",
    "print(f\"The number of space in the string is = {s_count}\")"
   ]
  },
  {
   "cell_type": "code",
   "execution_count": 35,
   "metadata": {},
   "outputs": [
    {
     "name": "stdout",
     "output_type": "stream",
     "text": [
      "Enter a string: Learnbay Datascience\n",
      "The number of vowels in the string is = 8\n"
     ]
    }
   ],
   "source": [
    "s=input(\"Enter a string: \")\n",
    "s=s.lower()\n",
    "v_count=0\n",
    "\n",
    "for i in s:\n",
    "    if i.isalpha() and i in (\"a\",\"e\",\"i\",\"o\",\"u\"):\n",
    "        v_count +=1\n",
    "print(f\"The number of vowels in the string is = {v_count}\")        "
   ]
  },
  {
   "cell_type": "code",
   "execution_count": 38,
   "metadata": {},
   "outputs": [
    {
     "name": "stdout",
     "output_type": "stream",
     "text": [
      "Enter a string: abcdefghijklmnovu\n",
      "['_', 'b', 'c', 'd', '_', 'f', 'g', 'h', '_', 'j', 'k', 'l', 'm', 'n', '_', 'v', '_']\n",
      "_bcd_fgh_jklmn_v_\n"
     ]
    }
   ],
   "source": [
    "s=input(\"Enter a string: \")\n",
    "l=list(s)\n",
    "\n",
    "for i in l:\n",
    "    if i.isalpha() and i in (\"a\",\"e\",\"i\",\"o\",\"u\"):\n",
    "        l[l.index(i)]=\"_\"\n",
    "print(l)\n",
    "s=\"\".join(l)\n",
    "print(s)\n"
   ]
  },
  {
   "cell_type": "code",
   "execution_count": 39,
   "metadata": {},
   "outputs": [
    {
     "name": "stdout",
     "output_type": "stream",
     "text": [
      "0\n",
      "Loop ends\n"
     ]
    }
   ],
   "source": [
    "for num in range(10):\n",
    "    print(num)\n",
    "    if num%4==0:\n",
    "        break\n",
    "print(\"Loop ends\")"
   ]
  },
  {
   "cell_type": "code",
   "execution_count": 40,
   "metadata": {},
   "outputs": [
    {
     "name": "stdout",
     "output_type": "stream",
     "text": [
      "0\n"
     ]
    },
    {
     "ename": "SystemExit",
     "evalue": "",
     "output_type": "error",
     "traceback": [
      "An exception has occurred, use %tb to see the full traceback.\n",
      "\u001b[0;31mSystemExit\u001b[0m\n"
     ]
    },
    {
     "name": "stderr",
     "output_type": "stream",
     "text": [
      "/opt/anaconda3/lib/python3.8/site-packages/IPython/core/interactiveshell.py:3351: UserWarning: To exit: use 'exit', 'quit', or Ctrl-D.\n",
      "  warn(\"To exit: use 'exit', 'quit', or Ctrl-D.\", stacklevel=1)\n"
     ]
    }
   ],
   "source": [
    "import sys\n",
    "for num in range(10):\n",
    "    print(num)\n",
    "    if num%4==0:\n",
    "        sys.exit()\n",
    "print(\"Loop ends\")"
   ]
  },
  {
   "cell_type": "code",
   "execution_count": 41,
   "metadata": {},
   "outputs": [
    {
     "name": "stdout",
     "output_type": "stream",
     "text": [
      "*****\n",
      "*****\n",
      "*****\n",
      "*****\n",
      "*****\n"
     ]
    }
   ],
   "source": [
    "for i1 in range(1,6):\n",
    "    for i2 in range(5):\n",
    "        print(\"*\", end=\"\")\n",
    "    print()"
   ]
  },
  {
   "cell_type": "code",
   "execution_count": 42,
   "metadata": {},
   "outputs": [
    {
     "name": "stdout",
     "output_type": "stream",
     "text": [
      "1\n",
      "22\n",
      "333\n",
      "4444\n",
      "55555\n"
     ]
    }
   ],
   "source": [
    "for i1 in range(1,6):\n",
    "    for i2 in range(i1):\n",
    "        print(i1, end=\"\")\n",
    "    print()"
   ]
  },
  {
   "cell_type": "code",
   "execution_count": 43,
   "metadata": {},
   "outputs": [
    {
     "name": "stdout",
     "output_type": "stream",
     "text": [
      "1\n",
      "22\n",
      "333\n",
      "4444\n",
      "55555\n"
     ]
    }
   ],
   "source": [
    "for i1 in range(1,6):\n",
    "    print(str(i1)*i1)"
   ]
  },
  {
   "cell_type": "code",
   "execution_count": 46,
   "metadata": {},
   "outputs": [
    {
     "name": "stdout",
     "output_type": "stream",
     "text": [
      "**\n",
      "***\n",
      "****\n",
      "*****\n",
      "******\n"
     ]
    }
   ],
   "source": [
    "for i1 in range(1,6):\n",
    "    for i2 in range(i1+1):\n",
    "        print(\"*\", end=\"\")\n",
    "    print()"
   ]
  }
 ],
 "metadata": {
  "kernelspec": {
   "display_name": "Python 3",
   "language": "python",
   "name": "python3"
  },
  "language_info": {
   "codemirror_mode": {
    "name": "ipython",
    "version": 3
   },
   "file_extension": ".py",
   "mimetype": "text/x-python",
   "name": "python",
   "nbconvert_exporter": "python",
   "pygments_lexer": "ipython3",
   "version": "3.8.3"
  }
 },
 "nbformat": 4,
 "nbformat_minor": 4
}
