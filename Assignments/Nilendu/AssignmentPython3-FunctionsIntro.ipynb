{
 "cells": [
  {
   "cell_type": "code",
   "execution_count": 8,
   "metadata": {},
   "outputs": [
    {
     "name": "stdout",
     "output_type": "stream",
     "text": [
      "Enter a string : Nilendu\n",
      "Enter another string: Saha\n",
      "Nilendu Saha\n",
      "('Saha', 'Nilendu')\n"
     ]
    }
   ],
   "source": [
    "s1=input(\"Enter a string : \")\n",
    "s2=input(\"Enter another string: \")\n",
    "print(s1,s2)\n",
    "\n",
    "def swap(a,b):\n",
    "    swap=a\n",
    "    a=b\n",
    "    b=swap\n",
    "    return a,b\n",
    "x=swap(s1,s2)\n",
    "print(x)\n"
   ]
  },
  {
   "cell_type": "code",
   "execution_count": 10,
   "metadata": {},
   "outputs": [
    {
     "name": "stdout",
     "output_type": "stream",
     "text": [
      "3 8 24 0\n",
      "8.75\n"
     ]
    }
   ],
   "source": [
    "import random\n",
    "def average(a,b,c,d):\n",
    "    x=(a+b+c+d)/4\n",
    "    return x\n",
    "a=random.randrange(0,26)\n",
    "b=random.randrange(0,26)\n",
    "c=random.randrange(0,26)\n",
    "d=random.randrange(0,26)\n",
    "avg=average(a,b,c,d)\n",
    "print(a,b,c,d)\n",
    "print(avg)"
   ]
  },
  {
   "cell_type": "code",
   "execution_count": 14,
   "metadata": {},
   "outputs": [
    {
     "name": "stdout",
     "output_type": "stream",
     "text": [
      "e\n"
     ]
    }
   ],
   "source": [
    "import random\n",
    "s=\"abcdefghijklmnopqrstuvwxyz\"\n",
    "x=random.randrange(0,len(s))\n",
    "print(s[x])"
   ]
  },
  {
   "cell_type": "code",
   "execution_count": 21,
   "metadata": {},
   "outputs": [
    {
     "name": "stdout",
     "output_type": "stream",
     "text": [
      "Enter the principal amount:1000\n",
      "Enter the preiod in years:3\n",
      "Enter the rate of interset in years:6.4\n",
      "The interest amount for 3.0 year is 192.0\n"
     ]
    }
   ],
   "source": [
    "def get_si(p,t,r):\n",
    "    si=p*t*r/100\n",
    "    return si\n",
    "p=float(input(\"Enter the principal amount:\"))\n",
    "t=float(input(\"Enter the preiod in years:\"))\n",
    "r=float(input(\"Enter the rate of interset in years:\"))\n",
    "si=get_si(p,r,t)\n",
    "print(f'The interest amount for {t} year is {si}')"
   ]
  },
  {
   "cell_type": "code",
   "execution_count": 25,
   "metadata": {},
   "outputs": [
    {
     "name": "stdout",
     "output_type": "stream",
     "text": [
      "Enter the principal amount:5000\n",
      "The total amount is 5500.0\n"
     ]
    }
   ],
   "source": [
    "def get_si(p,t,r):\n",
    "    si=p*rt*r/100\n",
    "    return si\n",
    "def get_amount(p):\n",
    "    A=p+get_si()\n",
    "    return A\n",
    "\n",
    "p=float(input(\"Enter the principal amount:\"))\n",
    "A=p+get_si(p,1,10)\n",
    "print(f'The total amount is {A}')"
   ]
  },
  {
   "cell_type": "code",
   "execution_count": 2,
   "metadata": {},
   "outputs": [
    {
     "name": "stdout",
     "output_type": "stream",
     "text": [
      "Enter the principal amount:10000\n",
      "Enter the preiod in years:1\n",
      "Enter the rate of interset in years:6.4\n",
      "Enter the number of times to provide interset in a year:4\n",
      "The interest amount for 1.0 year is 655.3600000000001\n"
     ]
    }
   ],
   "source": [
    "def get_ci(p,t,r,n):\n",
    "    ci=(p*(r/n)**(n*t))/100\n",
    "    return ci\n",
    "p=float(input(\"Enter the principal amount:\"))\n",
    "t=float(input(\"Enter the preiod in years:\"))\n",
    "r=float(input(\"Enter the rate of interset in years:\"))\n",
    "n=float(input(\"Enter the number of times to provide interset in a year:\"))\n",
    "ci=get_ci(p,t,r,n)\n",
    "print(f'The interest amount for {t} year is {ci}')"
   ]
  },
  {
   "cell_type": "code",
   "execution_count": 12,
   "metadata": {},
   "outputs": [
    {
     "name": "stdout",
     "output_type": "stream",
     "text": [
      "Enter a number: 25\n",
      "Enter another number: 6\n",
      "The quotient and remainer of two numbers is (4.0,1.0)\n"
     ]
    }
   ],
   "source": [
    "def get_q_r(a,b):\n",
    "    q=float(a//b)\n",
    "    r=float(a%b)\n",
    "    return (q,r)\n",
    "a=float(input(\"Enter a number: \"))\n",
    "b=float(input(\"Enter another number: \"))\n",
    "z=get_q_r(a,b)\n",
    "print(f'The quotient and remainer of two numbers is ({z[0]},{z[1]})')"
   ]
  },
  {
   "cell_type": "code",
   "execution_count": 13,
   "metadata": {},
   "outputs": [
    {
     "name": "stdout",
     "output_type": "stream",
     "text": [
      "Enter the height of the angle ? 5\n",
      "Enter the base of the angle ? 4\n",
      "25.0 6.0  is not right angle triangle sides\n"
     ]
    }
   ],
   "source": [
    "from math import sqrt , pow\n",
    "\n",
    "height=int(input(\"Enter the height of the angle ? \"))\n",
    "base=int(input(\"Enter the base of the angle ? \"))\n",
    "\n",
    "def get_hypotenuse(a,b):\n",
    "    c=sqrt(pow(a,2) + pow(b,2))\n",
    "    if c.is_integer():\n",
    "        print(\"Third side of the angle is \" , c)\n",
    "    else:\n",
    "        print(a,b , \" is not right angle triangle sides\")\n",
    "get_hypotenuse(a,b)"
   ]
  },
  {
   "cell_type": "code",
   "execution_count": 14,
   "metadata": {},
   "outputs": [
    {
     "name": "stdout",
     "output_type": "stream",
     "text": [
      "Help on built-in function divmod in module builtins:\n",
      "\n",
      "divmod(x, y, /)\n",
      "    Return the tuple (x//y, x%y).  Invariant: div*y + mod == x.\n",
      "\n",
      "None\n",
      "Enter the value in seconds ? 23456000\n",
      "271 days, 11:33:20\n",
      "271  days :  11  hours :  33  mins :  20  secs \n"
     ]
    }
   ],
   "source": [
    "import datetime\n",
    "\n",
    "print(help(divmod))\n",
    "time_in_sec=int(input(\"Enter the value in seconds ? \"))\n",
    "\n",
    "#Option 1 using python function\n",
    "def gettime(time_in_sec):\n",
    "    print(datetime.timedelta(seconds=time_in_sec))\n",
    "\n",
    "gettime(time_in_sec)\n",
    "\n",
    "#Option2 using divmod()\n",
    "\n",
    "def gettime(time_in_sec):\n",
    "    days,hours=divmod(time_in_sec,(24*3600))\n",
    "    hours,mins=divmod(hours,3600)\n",
    "    mins,secs=divmod(mins,60)\n",
    "    print(days,\" days : \",hours,\" hours : \",mins,\" mins : \",secs , \" secs \")\n",
    "\n",
    "gettime(time_in_sec)"
   ]
  },
  {
   "cell_type": "code",
   "execution_count": 15,
   "metadata": {},
   "outputs": [
    {
     "name": "stdout",
     "output_type": "stream",
     "text": [
      "3.8.3\n",
      "CPython\n",
      "Darwin\n",
      "('10.14.6', ('', '', ''), 'x86_64')\n"
     ]
    }
   ],
   "source": [
    "import platform\n",
    "\n",
    "print(platform.python_version())\n",
    "\n",
    "print(platform.python_implementation())\n",
    "\n",
    "print(platform.system())\n",
    "\n",
    "print(platform.mac_ver())"
   ]
  },
  {
   "cell_type": "code",
   "execution_count": 17,
   "metadata": {},
   "outputs": [
    {
     "name": "stdout",
     "output_type": "stream",
     "text": [
      "6\n",
      "2\n",
      "2 -2\n"
     ]
    }
   ],
   "source": [
    "x=2\n",
    "x*=3\n",
    "print(x)\n",
    "x=x%4\n",
    "print(x)\n",
    "Y=-x\n",
    "print(x,Y)"
   ]
  },
  {
   "cell_type": "code",
   "execution_count": 18,
   "metadata": {},
   "outputs": [
    {
     "name": "stdout",
     "output_type": "stream",
     "text": [
      "None\n"
     ]
    }
   ],
   "source": [
    "def func():\n",
    "    pass\n",
    "\n",
    "print(func())"
   ]
  }
 ],
 "metadata": {
  "kernelspec": {
   "display_name": "Python 3",
   "language": "python",
   "name": "python3"
  },
  "language_info": {
   "codemirror_mode": {
    "name": "ipython",
    "version": 3
   },
   "file_extension": ".py",
   "mimetype": "text/x-python",
   "name": "python",
   "nbconvert_exporter": "python",
   "pygments_lexer": "ipython3",
   "version": "3.8.3"
  }
 },
 "nbformat": 4,
 "nbformat_minor": 4
}
