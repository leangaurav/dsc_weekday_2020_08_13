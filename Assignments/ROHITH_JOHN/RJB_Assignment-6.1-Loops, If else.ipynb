{
 "cells": [
  {
   "cell_type": "code",
   "execution_count": 23,
   "metadata": {},
   "outputs": [
    {
     "name": "stdout",
     "output_type": "stream",
     "text": [
      "enter a string john\n",
      "j\n",
      "o\n",
      "h\n",
      "n\n"
     ]
    }
   ],
   "source": [
    "#Assignment-6.1-Q1\n",
    "\n",
    "#WAP to input a string and print individual characters in the string using for loop. \n",
    "\n",
    "s=input(\"enter a string \")\n",
    "\n",
    "for i in range(len(s)):\n",
    "      print(s[i])\n",
    "    \n",
    "\n",
    "\n"
   ]
  },
  {
   "cell_type": "code",
   "execution_count": 8,
   "metadata": {},
   "outputs": [
    {
     "name": "stdout",
     "output_type": "stream",
     "text": [
      "Enter a string john\n",
      "john\n",
      "ASCII value  106\n",
      "ASCII value  111\n",
      "ASCII value  104\n",
      "ASCII value  110\n"
     ]
    }
   ],
   "source": [
    "#Assignment-6.1-Q2\n",
    "\n",
    "#WAP to input a string and print the ASCII value of each character in the string. \n",
    "\n",
    "s=input('Enter a string ')\n",
    "print(s)\n",
    "\n",
    "for value in range(len(s)):\n",
    "    print(\"ASCII value \",ord(s[value]))\n",
    "\n"
   ]
  },
  {
   "cell_type": "code",
   "execution_count": 29,
   "metadata": {},
   "outputs": [
    {
     "name": "stdout",
     "output_type": "stream",
     "text": [
      "Enter the number of elements 5\n",
      "1\n",
      "2\n",
      "3\n",
      "4\n",
      "5\n",
      "[1, 2, 3, 4, 5]\n",
      "9\n"
     ]
    }
   ],
   "source": [
    "#Assignment-6.1-Q3\n",
    "\n",
    "# Write a function that takes a list of numbers from user as argument and returns the sum of only\n",
    "# odd numbers (Use only for loop. No need to use if statement). \n",
    "\n",
    "number_list=[]\n",
    "sum=0\n",
    "n=int(input(\"Enter the number of elements \"))\n",
    "\n",
    "for i in range(0,n):\n",
    "    num=int(input())\n",
    "    number_list.append(num)\n",
    "    \n",
    "print(number_list)    \n",
    "\n",
    "for j in number_list:\n",
    "    if(j%2!=0):\n",
    "        sum=sum+j\n",
    "        \n",
    "print(sum)    \n",
    "    \n"
   ]
  },
  {
   "cell_type": "code",
   "execution_count": 14,
   "metadata": {},
   "outputs": [
    {
     "name": "stdout",
     "output_type": "stream",
     "text": [
      "Enter the no of elements 5\n",
      "Enter the elements: 10\n",
      "Enter the elements: 20\n",
      "Enter the elements: 30\n",
      "Enter the elements: 40\n",
      "Enter the elements: 50\n",
      "[10, 20, 30, 40, 50]\n",
      "(10, 20, 30, 40, 50)\n",
      "enter the number in the tuple40\n",
      "index is  3\n"
     ]
    }
   ],
   "source": [
    "# Assignment-6.1-Q4\n",
    "\n",
    "#WAP to input a list of numbers and store in a tuple. Now input another number and print the\n",
    "#index of this number in the tuple. [Use index function] \n",
    "\n",
    "l=[]\n",
    "n=int(input('Enter the no of elements '))\n",
    "\n",
    "for i in range(0,n):\n",
    "    num=int(input(\"Enter the elements: \"))\n",
    "    l.append(num)\n",
    " \n",
    "print(l)\n",
    "print(tuple(l))\n",
    "\n",
    "ind=int(input(\"enter the number in the tuple\"))\n",
    "for j in l:\n",
    "    if ind==j:\n",
    "        print('index is ',l.index(ind))\n",
    "    else:\n",
    "        continue\n"
   ]
  },
  {
   "cell_type": "code",
   "execution_count": 31,
   "metadata": {},
   "outputs": [
    {
     "name": "stdout",
     "output_type": "stream",
     "text": [
      "[0, 1, 2, 3, 4, 5, 6, 7, 8, 9]\n",
      "sum:  45\n",
      "average  4.5\n",
      "even_list  [0, 2, 4, 6, 8]\n"
     ]
    }
   ],
   "source": [
    "# Assignment-6.1-Q5\n",
    "\n",
    "#Create a list of 10 random numbers and then print the list, sum of all numbers and average. Use\n",
    "#a for loop. Also print elements at only even indexes in the list. \n",
    "\n",
    "\n",
    "\n",
    "l=[]\n",
    "even_list=[]\n",
    "avg=0\n",
    "sum=0\n",
    "\n",
    "for i in range(0,10):\n",
    "    l.append(i)\n",
    "    sum=sum+i\n",
    "    avg=sum/len(l)\n",
    "    \n",
    "    ind=l.index(i)\n",
    "    if(ind%2==0):\n",
    "        even_list.append(i)\n",
    "\n",
    "print(l)\n",
    "print(\"sum: \",sum)\n",
    "print('average ',avg)\n",
    "print(\"even_list \",even_list)\n"
   ]
  },
  {
   "cell_type": "code",
   "execution_count": 36,
   "metadata": {},
   "outputs": [
    {
     "name": "stdout",
     "output_type": "stream",
     "text": [
      "[0, 1, 2, 3, 4, 5, 6, 7, 8, 9]\n",
      "sum 45\n"
     ]
    }
   ],
   "source": [
    "# Assignment-6.1-Q6\n",
    "\n",
    "# WAP to input 10 numbers repeatedly (using range based for loop) and store them in a list. Print\n",
    "# the list and sum of numbers in the list. \n",
    "\n",
    "l=[]\n",
    "s=0\n",
    "for i in range(0,10):\n",
    "    l.append(i)\n",
    "    s=s+i\n",
    "print(l)\n",
    "print('sum',s)\n"
   ]
  },
  {
   "cell_type": "code",
   "execution_count": 47,
   "metadata": {},
   "outputs": [
    {
     "name": "stdout",
     "output_type": "stream",
     "text": [
      "enter the no 7\n",
      "7 * 1 = 7\n",
      "7 * 2 = 14\n",
      "7 * 3 = 21\n",
      "7 * 4 = 28\n",
      "7 * 5 = 35\n",
      "7 * 6 = 42\n",
      "7 * 7 = 49\n",
      "7 * 8 = 56\n",
      "7 * 9 = 63\n",
      "7 * 10 = 70\n",
      "7 * 11 = 77\n",
      "7 * 12 = 84\n"
     ]
    }
   ],
   "source": [
    "# Assignment-6.1-Q7\n",
    "\n",
    "#WAP to input a number and print its multiplication table. Ex: if user enters the number as 7, output should be\n",
    "\n",
    "num=int(input(\"enter the no \"))\n",
    "i=1\n",
    "p=1\n",
    "for i in range(1,13):\n",
    "    p=num*i\n",
    "    print(num,'*',i,'=',p)\n"
   ]
  },
  {
   "cell_type": "code",
   "execution_count": 71,
   "metadata": {},
   "outputs": [
    {
     "name": "stdout",
     "output_type": "stream",
     "text": [
      "input a string hi john how are you\n",
      "no of spaces 4\n"
     ]
    }
   ],
   "source": [
    "# Assignment-6.1-Q8\n",
    "\n",
    "# WAP to print total number of spaces in a string (Use for loop to iterate over the string. Don’t use\n",
    "# count function). \n",
    "\n",
    "count=0\n",
    "s=input(\"input a string \")\n",
    "      \n",
    "for i in s:\n",
    "    if (i.isspace())==True:   \n",
    "       count=count+1\n",
    "print('no of spaces',count)    "
   ]
  },
  {
   "cell_type": "code",
   "execution_count": 70,
   "metadata": {},
   "outputs": [
    {
     "name": "stdout",
     "output_type": "stream",
     "text": [
      "input a string hi john how are you\n",
      "['hi', 'john', 'how', 'are', 'you']\n",
      "No of space 4\n"
     ]
    }
   ],
   "source": [
    "# Assignment-6.1-Q8-alternate way\n",
    "\n",
    "# WAP to print total number of spaces in a string (Use for loop to iterate over the string. Don’t use\n",
    "# count function). \n",
    "\n",
    "\n",
    "s=input(\"input a string \")\n",
    "l=s.split()\n",
    "print(l)\n",
    "for i in range(len(l)):\n",
    "    count=0\n",
    "print(\"No of space\",i)    \n",
    "\n",
    "    "
   ]
  },
  {
   "cell_type": "code",
   "execution_count": 79,
   "metadata": {},
   "outputs": [
    {
     "name": "stdout",
     "output_type": "stream",
     "text": [
      "enter a string: Hi how ARE you\n",
      "No of vowels 6\n"
     ]
    }
   ],
   "source": [
    "# Assignment-6.1-Q9\n",
    "\n",
    "#WAP to input a string and count number of vowels in the string. [Note: it should work for both\n",
    "#capital and small alphabets] \n",
    "\n",
    "\n",
    "s=input(\"enter a string: \")\n",
    "s=s.lower()\n",
    "count=0\n",
    "\n",
    "for i in s:\n",
    "    if(i=='a'or i=='e' or i=='i' or i=='o' or i=='u'):\n",
    "        count=count+1\n",
    "    \n",
    "print('No of vowels',count)\n",
    "    \n",
    "\n"
   ]
  },
  {
   "cell_type": "code",
   "execution_count": 146,
   "metadata": {},
   "outputs": [
    {
     "name": "stdout",
     "output_type": "stream",
     "text": [
      "input a string: INTERNATIONAL\n",
      "['i', 'n', 't', 'e', 'r', 'n', 'a', 't', 'i', 'o', 'n', 'a', 'l'] <class 'list'>\n",
      "_n_t__r_n__t___n__l <class 'str'>\n"
     ]
    }
   ],
   "source": [
    "# Assignment-6.1-Q10\n",
    "\n",
    "# WAP to input a string and replace all vowels with ‘_’.\n",
    "# [Hint: Convert string to list. Remember!! Strings are immutable. Replace in the list and then join]\n",
    "\n",
    "s=input(\"input a string: \")\n",
    "s=s.lower()\n",
    "p=list(s)\n",
    "print(p,type(p))\n",
    "\n",
    "\n",
    "for i in range(len(p)):\n",
    "        if(p[i]=='a'or p[i]=='e' or p[i]=='i' or p[i]=='o' or p[i]=='u'):\n",
    "           p[i]=''        \n",
    "\n",
    "new='_'.join(p) \n",
    "print(new,type(new))"
   ]
  },
  {
   "cell_type": "code",
   "execution_count": 148,
   "metadata": {},
   "outputs": [
    {
     "name": "stdout",
     "output_type": "stream",
     "text": [
      "Num: 0\n",
      "Loop ends\n"
     ]
    }
   ],
   "source": [
    "# Assignment-6.1-Q11.1\n",
    "\n",
    "#find the o/p\n",
    "\n",
    "for num in range(10):\n",
    "    print(\"Num:\",num)\n",
    "    if num%4==0:\n",
    "        break\n",
    "print(\"Loop ends\")        \n"
   ]
  },
  {
   "cell_type": "code",
   "execution_count": 150,
   "metadata": {},
   "outputs": [
    {
     "name": "stdout",
     "output_type": "stream",
     "text": [
      "Num: 0\n"
     ]
    },
    {
     "ename": "SystemExit",
     "evalue": "",
     "output_type": "error",
     "traceback": [
      "An exception has occurred, use %tb to see the full traceback.\n",
      "\u001b[1;31mSystemExit\u001b[0m\n"
     ]
    }
   ],
   "source": [
    "# Assignment-6.1-Q11.2\n",
    "\n",
    "#find the o/p\n",
    "\n",
    "import sys\n",
    "\n",
    "for num in range(10):\n",
    "    print(\"Num:\",num)\n",
    "    if num%4==0:\n",
    "       sys.exit()\n",
    "print(\"Loop ends\")           "
   ]
  },
  {
   "cell_type": "code",
   "execution_count": 1,
   "metadata": {},
   "outputs": [
    {
     "name": "stdout",
     "output_type": "stream",
     "text": [
      "*****\n",
      "*****\n",
      "*****\n",
      "*****\n",
      "*****\n"
     ]
    }
   ],
   "source": [
    "# Assignment-6.1-Q12.1\n",
    "\n",
    "for i1 in range(1,6):\n",
    "    for i2 in range(5):\n",
    "        print(\"*\",end='')\n",
    "    print()   \n"
   ]
  },
  {
   "cell_type": "code",
   "execution_count": 5,
   "metadata": {},
   "outputs": [
    {
     "name": "stdout",
     "output_type": "stream",
     "text": [
      "1\n",
      "22\n",
      "333\n",
      "4444\n",
      "55555\n"
     ]
    }
   ],
   "source": [
    "# Assignment-6.1-Q12.2\n",
    "\n",
    "for i1 in range(1,6):\n",
    "    for i2 in range(i1):\n",
    "       print(i1,end='')\n",
    "    print()\n",
    "    "
   ]
  },
  {
   "cell_type": "code",
   "execution_count": 6,
   "metadata": {},
   "outputs": [
    {
     "name": "stdout",
     "output_type": "stream",
     "text": [
      "1\n",
      "22\n",
      "333\n",
      "4444\n",
      "55555\n"
     ]
    }
   ],
   "source": [
    "# Assignment-6.1-Q12.3\n",
    "\n",
    "for i1 in range(1,6):\n",
    "    print(str(i1)*i1)"
   ]
  },
  {
   "cell_type": "code",
   "execution_count": 11,
   "metadata": {},
   "outputs": [
    {
     "name": "stdout",
     "output_type": "stream",
     "text": [
      "**\n",
      "***\n",
      "****\n",
      "*****\n",
      "******\n"
     ]
    }
   ],
   "source": [
    "# Assignment-6.1-Q12.4\n",
    "\n",
    "for i1 in range(1,6):\n",
    "    for i2 in range(i1+1):\n",
    "        print('*',end='')\n",
    "   \n",
    "    print()   "
   ]
  }
 ],
 "metadata": {
  "kernelspec": {
   "display_name": "Python 3",
   "language": "python",
   "name": "python3"
  },
  "language_info": {
   "codemirror_mode": {
    "name": "ipython",
    "version": 3
   },
   "file_extension": ".py",
   "mimetype": "text/x-python",
   "name": "python",
   "nbconvert_exporter": "python",
   "pygments_lexer": "ipython3",
   "version": "3.8.3"
  }
 },
 "nbformat": 4,
 "nbformat_minor": 4
}
