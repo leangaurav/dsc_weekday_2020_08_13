{
 "cells": [
  {
   "cell_type": "code",
   "execution_count": 27,
   "metadata": {},
   "outputs": [
    {
     "name": "stdout",
     "output_type": "stream",
     "text": [
      "{}\n",
      "{1: -1, 2: -2, 3: -3, 4: -4, 5: -5}\n",
      "{1: -1, 2: -2, 3: -3, 4: -4, 5: -5}\n"
     ]
    }
   ],
   "source": [
    "#Assignment-7 Q1\n",
    "\n",
    "#WAP to create a dictionary of numbers mapped to their negative value for numbers from 1-5.\n",
    "#The dictionary should contain something like this: \n",
    "# Do with both with and without range based for loop. \n",
    "# {1:-1,2:-2,3:-3….} \n",
    "\n",
    "\n",
    "# with range based for loop\n",
    "dictionary={}\n",
    "print(dictionary)\n",
    "\n",
    "for i in range(1,6):\n",
    "    dictionary[i]=-i\n",
    "  \n",
    "print(dictionary)   \n",
    "\n",
    "\n",
    "\n",
    "# without range based for loop\n",
    "d={}\n",
    "\n",
    "l=[1,2,3,4,5]\n",
    "n=1\n",
    "\n",
    "for i in l:\n",
    "    \n",
    "    p=l.index(i)\n",
    "   \n",
    "    d[n]=-l[p]\n",
    "    n+=1\n",
    "print(d)\n"
   ]
  },
  {
   "cell_type": "code",
   "execution_count": 34,
   "metadata": {},
   "outputs": [
    {
     "ename": "SyntaxError",
     "evalue": "invalid syntax (<ipython-input-34-c13b510824bb>, line 5)",
     "output_type": "error",
     "traceback": [
      "\u001b[1;36m  File \u001b[1;32m\"<ipython-input-34-c13b510824bb>\"\u001b[1;36m, line \u001b[1;32m5\u001b[0m\n\u001b[1;33m    d={1=2, 2=3}\u001b[0m\n\u001b[1;37m        ^\u001b[0m\n\u001b[1;31mSyntaxError\u001b[0m\u001b[1;31m:\u001b[0m invalid syntax\n"
     ]
    }
   ],
   "source": [
    "#Assignment-7 Q2\n",
    "\n",
    "#Check which of the following declarations will work \n",
    "\n",
    "d={1=2, 2=3}\n",
    "print(d)"
   ]
  },
  {
   "cell_type": "code",
   "execution_count": 45,
   "metadata": {},
   "outputs": [
    {
     "name": "stdout",
     "output_type": "stream",
     "text": [
      "{1: 2, 2: 3}\n"
     ]
    }
   ],
   "source": [
    "d={1:2 , 2:3}\n",
    "print(d)"
   ]
  },
  {
   "cell_type": "code",
   "execution_count": 38,
   "metadata": {},
   "outputs": [
    {
     "ename": "SyntaxError",
     "evalue": "invalid syntax (<ipython-input-38-f74c86f6d602>, line 1)",
     "output_type": "error",
     "traceback": [
      "\u001b[1;36m  File \u001b[1;32m\"<ipython-input-38-f74c86f6d602>\"\u001b[1;36m, line \u001b[1;32m1\u001b[0m\n\u001b[1;33m    d={1,2;2,3}\u001b[0m\n\u001b[1;37m          ^\u001b[0m\n\u001b[1;31mSyntaxError\u001b[0m\u001b[1;31m:\u001b[0m invalid syntax\n"
     ]
    }
   ],
   "source": [
    "d={1,2;2,3}\n",
    "print(d)"
   ]
  },
  {
   "cell_type": "code",
   "execution_count": 39,
   "metadata": {},
   "outputs": [
    {
     "name": "stdout",
     "output_type": "stream",
     "text": [
      "{(1, 2), (2, 3)}\n"
     ]
    }
   ],
   "source": [
    "d={(1,2) , (2,3)}\n",
    "print(d)"
   ]
  },
  {
   "cell_type": "code",
   "execution_count": 48,
   "metadata": {},
   "outputs": [
    {
     "ename": "NameError",
     "evalue": "name 'c' is not defined",
     "output_type": "error",
     "traceback": [
      "\u001b[1;31m---------------------------------------------------------------------------\u001b[0m",
      "\u001b[1;31mNameError\u001b[0m                                 Traceback (most recent call last)",
      "\u001b[1;32m<ipython-input-48-aeb29f9de119>\u001b[0m in \u001b[0;36m<module>\u001b[1;34m\u001b[0m\n\u001b[1;32m----> 1\u001b[1;33m \u001b[0md\u001b[0m\u001b[1;33m=\u001b[0m\u001b[1;33m{\u001b[0m\u001b[1;34m'a'\u001b[0m\u001b[1;33m:\u001b[0m\u001b[1;34m'A'\u001b[0m\u001b[1;33m,\u001b[0m\u001b[1;34m'b'\u001b[0m\u001b[1;33m:\u001b[0m\u001b[1;36m1\u001b[0m\u001b[1;33m,\u001b[0m \u001b[0mc\u001b[0m\u001b[1;33m:\u001b[0m\u001b[1;33m[\u001b[0m\u001b[1;36m1234\u001b[0m\u001b[1;33m]\u001b[0m\u001b[1;33m}\u001b[0m\u001b[1;33m\u001b[0m\u001b[1;33m\u001b[0m\u001b[0m\n\u001b[0m\u001b[0;32m      2\u001b[0m \u001b[0mprint\u001b[0m\u001b[1;33m(\u001b[0m\u001b[0md\u001b[0m\u001b[1;33m)\u001b[0m\u001b[1;33m\u001b[0m\u001b[1;33m\u001b[0m\u001b[0m\n",
      "\u001b[1;31mNameError\u001b[0m: name 'c' is not defined"
     ]
    }
   ],
   "source": [
    "d={'a':'A','b':1, c:[1234]}\n",
    "print(d)"
   ]
  },
  {
   "cell_type": "code",
   "execution_count": 49,
   "metadata": {},
   "outputs": [
    {
     "name": "stdout",
     "output_type": "stream",
     "text": [
      "{'a': 'A', 'b': 1, 'c': [1234]}\n"
     ]
    }
   ],
   "source": [
    "d={'a':'A','b':1, 'c':[1234]}\n",
    "print(d)"
   ]
  },
  {
   "cell_type": "code",
   "execution_count": 51,
   "metadata": {},
   "outputs": [
    {
     "name": "stdout",
     "output_type": "stream",
     "text": [
      "{1: 2, 2: 3}\n"
     ]
    }
   ],
   "source": [
    "d= dict([(1,2), (2,3)])\n",
    "print(d)"
   ]
  },
  {
   "cell_type": "code",
   "execution_count": 52,
   "metadata": {},
   "outputs": [
    {
     "name": "stdout",
     "output_type": "stream",
     "text": [
      "{1: 2, 2: 3}\n"
     ]
    }
   ],
   "source": [
    "d = dict (((1,2)  ,  (2,3)))\n",
    "print(d)"
   ]
  },
  {
   "cell_type": "code",
   "execution_count": 53,
   "metadata": {},
   "outputs": [
    {
     "ename": "SyntaxError",
     "evalue": "invalid syntax (<ipython-input-53-97f9d8792815>, line 1)",
     "output_type": "error",
     "traceback": [
      "\u001b[1;36m  File \u001b[1;32m\"<ipython-input-53-97f9d8792815>\"\u001b[1;36m, line \u001b[1;32m1\u001b[0m\n\u001b[1;33m    d= dict((1,2), (2,3)])\u001b[0m\n\u001b[1;37m                        ^\u001b[0m\n\u001b[1;31mSyntaxError\u001b[0m\u001b[1;31m:\u001b[0m invalid syntax\n"
     ]
    }
   ],
   "source": [
    "d= dict((1,2), (2,3)])\n",
    "print(d)"
   ]
  },
  {
   "cell_type": "code",
   "execution_count": 55,
   "metadata": {},
   "outputs": [
    {
     "ename": "SyntaxError",
     "evalue": "invalid syntax (<ipython-input-55-72da613f37a3>, line 1)",
     "output_type": "error",
     "traceback": [
      "\u001b[1;36m  File \u001b[1;32m\"<ipython-input-55-72da613f37a3>\"\u001b[1;36m, line \u001b[1;32m1\u001b[0m\n\u001b[1;33m    = dict('x'=2, 'y'=3)\u001b[0m\n\u001b[1;37m    ^\u001b[0m\n\u001b[1;31mSyntaxError\u001b[0m\u001b[1;31m:\u001b[0m invalid syntax\n"
     ]
    }
   ],
   "source": [
    " d= dict('x'=2, 'y'=3)\n",
    "print(d)"
   ]
  },
  {
   "cell_type": "code",
   "execution_count": 56,
   "metadata": {},
   "outputs": [
    {
     "ename": "SyntaxError",
     "evalue": "keyword can't be an expression (<ipython-input-56-fed8e2c38b21>, line 1)",
     "output_type": "error",
     "traceback": [
      "\u001b[1;36m  File \u001b[1;32m\"<ipython-input-56-fed8e2c38b21>\"\u001b[1;36m, line \u001b[1;32m1\u001b[0m\n\u001b[1;33m    d=dict(1=2, 2=3)\u001b[0m\n\u001b[1;37m          ^\u001b[0m\n\u001b[1;31mSyntaxError\u001b[0m\u001b[1;31m:\u001b[0m keyword can't be an expression\n"
     ]
    }
   ],
   "source": [
    "d=dict(1=2, 2=3)\n",
    "print(d)"
   ]
  },
  {
   "cell_type": "code",
   "execution_count": 62,
   "metadata": {},
   "outputs": [
    {
     "name": "stdout",
     "output_type": "stream",
     "text": [
      "{1: 10, 2: 20, 3: 30, 4: 40}\n"
     ]
    }
   ],
   "source": [
    "#Assignment-7 Q3\n",
    "\n",
    "# Read help for zip and write a program that has two lists\n",
    "# l1 = [1,2,3,4]\n",
    "# l2 = [10,20,30,40]\n",
    "# And converts them to a dictionary d containing { 1:10,2:20 …….}\n",
    "\n",
    "l1 = [1,2,3,4]\n",
    "l2 = [10,20,30,40]\n",
    "\n",
    "z=dict(zip(l1,l2))\n",
    "\n",
    "print(z)\n",
    "\n"
   ]
  },
  {
   "cell_type": "code",
   "execution_count": 83,
   "metadata": {},
   "outputs": [
    {
     "name": "stdout",
     "output_type": "stream",
     "text": [
      "{'A': 65, 'B': 66, 'C': 67, 'D': 68, 'E': 69, 'F': 70, 'G': 71, 'H': 72, 'I': 73, 'J': 74, 'K': 75, 'L': 76, 'M': 77, 'N': 78, 'O': 79, 'P': 80, 'Q': 81, 'R': 82, 'S': 83, 'T': 84, 'U': 85, 'V': 86, 'W': 87, 'X': 88, 'Y': 89, 'Z': 90}\n"
     ]
    }
   ],
   "source": [
    "#Assignment-7 Q4\n",
    "\n",
    "# Use range based for loop to store all upper case alphabets and their corresponding ASCII\n",
    "# values in the dictionary d.\n",
    "# The result should be d = {‘A’: 65, ‘B’:66,…..}\n",
    "\n",
    "alphabet={}\n",
    "\n",
    "for i in range(65,91):\n",
    "    alphabet[chr(i)]=i\n",
    "    \n",
    "    \n",
    "print(alphabet)\n",
    "    \n",
    "\n"
   ]
  },
  {
   "cell_type": "code",
   "execution_count": 97,
   "metadata": {},
   "outputs": [
    {
     "name": "stdout",
     "output_type": "stream",
     "text": [
      "enter a no8\n",
      "Word format for  8 is eight\n",
      "dict_keys([0, 1, 2, 3, 4, 5, 6, 7, 8, 9])\n",
      "dict_values(['zero', 'one', 'two', 'three', 'four', 'five', 'six', 'seven', 'eight', 'nine'])\n",
      "dict_items([(0, 'zero'), (1, 'one'), (2, 'two'), (3, 'three'), (4, 'four'), (5, 'five'), (6, 'six'), (7, 'seven'), (8, 'eight'), (9, 'nine')])\n"
     ]
    }
   ],
   "source": [
    "#Assignment-7 Q5\n",
    "\n",
    "# Create a mapping of number to word from 0-9. (0:’zero’……)\n",
    "# • Ask user for a single digit number and print the corresponding word format.\n",
    "# • Print all keys of above dictionary\n",
    "# • Print all Values of a dictionary\n",
    "# • Print all Key and Value pairs of above dictionary\n",
    "\n",
    "n2w={0:'zero', 1:'one' , 2:'two' , 3:\"three\" , 4:\"four\" , 5:'five' , 6:'six' , 7:'seven' , 8:'eight' , 9:'nine'}\n",
    "\n",
    "n=int(input(\"enter a no\"))\n",
    "\n",
    "print(\"Word format for \", n,'is',n2w[n])\n",
    "\n",
    "print(n2w.keys())\n",
    "\n",
    "print(n2w.values())\n",
    "\n",
    "print(n2w.items())\n",
    "\n",
    "\n"
   ]
  },
  {
   "cell_type": "code",
   "execution_count": 1,
   "metadata": {},
   "outputs": [
    {
     "name": "stdout",
     "output_type": "stream",
     "text": [
      "{'A': 'apple', 'B': 'ball', 'C': 'cat', 'D': 'dog'}\n",
      "{'A': 'apple', 'C': 'cat'}\n"
     ]
    }
   ],
   "source": [
    "#Assignment-7 Q6\n",
    "\n",
    "#Predict Output of: \n",
    "\n",
    "\n",
    "\n",
    "l1=['A', 'B', 'C', 'D']\n",
    "l2=['apple', 'ball', 'cat', 'dog']\n",
    "d1=dict(zip(l1,l2))\n",
    "print(d1)\n",
    "\n",
    "d2=dict(list(d1.items()) [::2])\n",
    "print(d2)\n",
    "\n",
    "\n"
   ]
  },
  {
   "cell_type": "code",
   "execution_count": 13,
   "metadata": {},
   "outputs": [
    {
     "name": "stdout",
     "output_type": "stream",
     "text": [
      "enter a sentence hi there\n",
      "['h', 'i', ' ', 't', 'h', 'e', 'r', 'e']\n",
      "{'a': 0, 'e': 2, 'i': 1, 'o': 0, 'u': 0}\n",
      "a : 0\n",
      "e : 2\n",
      "i : 1\n",
      "o : 0\n",
      "u : 0\n"
     ]
    }
   ],
   "source": [
    "#Assignment-7 Q7\n",
    "\n",
    "# WAP to input a string and count occurrence of each vowel in a string.\n",
    "# Ex: if user enters:\n",
    "#  “Beautiful Day”\n",
    "# Output should Be:\n",
    "#  a:2\n",
    "#  e:1\n",
    "#  I :1\n",
    "#  o:0\n",
    "#  u:2 \n",
    "\n",
    "\n",
    "word=input(\"enter a sentence \")\n",
    "sw=word.lower()\n",
    "l=list(sw)\n",
    "print(l)\n",
    "\n",
    "vowel={'a':0, 'e':0, 'i':0, 'o':0, 'u':0}\n",
    "\n",
    "for i in l:\n",
    "    if i in 'aeiou':\n",
    "       \n",
    "       vowel[i]=vowel[i]+1\n",
    "       \n",
    "print(vowel)\n",
    "\n",
    "for j in vowel:\n",
    "    print(j,':',vowel[j])\n"
   ]
  },
  {
   "cell_type": "code",
   "execution_count": 19,
   "metadata": {},
   "outputs": [
    {
     "name": "stdout",
     "output_type": "stream",
     "text": [
      "enter a sentence hi there\n",
      "{'h': 2, 'i': 1, ' ': 1, 't': 1, 'e': 2, 'r': 1}\n"
     ]
    }
   ],
   "source": [
    "#Assignment-7 Q8\n",
    "\n",
    "# Update above program to print frequency of each alphabet present in string. \n",
    "\n",
    "word=input(\"enter a sentence \")\n",
    "d={}\n",
    "for i in word:\n",
    "    d1={i:word.count(i)}\n",
    "    d.update(d1)\n",
    "    \n",
    "print(d)    \n",
    "\n"
   ]
  },
  {
   "cell_type": "code",
   "execution_count": 28,
   "metadata": {},
   "outputs": [
    {
     "name": "stdout",
     "output_type": "stream",
     "text": [
      "enter a string: count the words in the sentence in\n",
      "count : 1\n",
      "the : 2\n",
      "words : 1\n",
      "in : 2\n",
      "sentence : 1\n"
     ]
    }
   ],
   "source": [
    "#Assignment-7 Q9\n",
    "\n",
    "\n",
    "# WAP that takes a string as input and prints frequency of each word.\n",
    "# Ex: if input is “count the words in the sentence in”\n",
    "#  Output:\n",
    "# count: 1\n",
    "# the: 2\n",
    "# words: 1\n",
    "# in: 2\n",
    "# sentence: \n",
    "\n",
    "s=input(\"enter a string: \")\n",
    "l=s.lower().split()\n",
    "d={}\n",
    "\n",
    "for i in l:\n",
    "    d1={i:l.count(i)}\n",
    "    d.update(d1)\n",
    " \n",
    "\n",
    "\n",
    "for j in d:\n",
    "    print(j,':',d[j])"
   ]
  },
  {
   "cell_type": "code",
   "execution_count": null,
   "metadata": {},
   "outputs": [],
   "source": []
  }
 ],
 "metadata": {
  "kernelspec": {
   "display_name": "Python 3",
   "language": "python",
   "name": "python3"
  },
  "language_info": {
   "codemirror_mode": {
    "name": "ipython",
    "version": 3
   },
   "file_extension": ".py",
   "mimetype": "text/x-python",
   "name": "python",
   "nbconvert_exporter": "python",
   "pygments_lexer": "ipython3",
   "version": "3.7.6"
  }
 },
 "nbformat": 4,
 "nbformat_minor": 4
}
