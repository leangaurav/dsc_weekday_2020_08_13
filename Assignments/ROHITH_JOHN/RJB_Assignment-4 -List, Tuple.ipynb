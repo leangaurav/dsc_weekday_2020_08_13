{
 "cells": [
  {
   "cell_type": "code",
   "execution_count": 2,
   "metadata": {},
   "outputs": [
    {
     "name": "stdout",
     "output_type": "stream",
     "text": [
      "(1, 2, 3, 4, 5) <class 'tuple'>\n",
      "[1, 2, 3, 4, 5] <class 'list'>\n"
     ]
    }
   ],
   "source": [
    "# Assignment-4-Q1\n",
    "#Convert a Tuple t = (1,2,3,4,5) to a list \n",
    "\n",
    "\n",
    "t=(1,2,3,4,5)\n",
    "print(t,type(t))\n",
    "\n",
    "l=list(t)\n",
    "print(l, type(l))\n"
   ]
  },
  {
   "cell_type": "code",
   "execution_count": 7,
   "metadata": {},
   "outputs": [
    {
     "name": "stdout",
     "output_type": "stream",
     "text": [
      "L1 [1, 3, 5, 7]\n",
      "combined list [1, 3, 5, 7, 8, 6, 4, 2]\n"
     ]
    }
   ],
   "source": [
    "# Assignment-4-Q2\n",
    "\n",
    "#WAP to join a list and a tuple:\n",
    "# L = [1,3,5,7]\n",
    "# T = (8,6,4,2)\n",
    "#Store the result in a list LS \n",
    "\n",
    "\n",
    "L = [1,3,5,7]\n",
    "T = (8,6,4,2)\n",
    "TL=list(T)\n",
    "L1=[]\n",
    "\n",
    "for i in L:\n",
    "    L1.append(i)\n",
    "print('L1',L1)\n",
    "\n",
    "for j in TL:\n",
    "    L1.append(j)\n",
    "print('combined list',L1)\n",
    "\n",
    "    \n"
   ]
  },
  {
   "cell_type": "code",
   "execution_count": null,
   "metadata": {},
   "outputs": [],
   "source": [
    "# Assignment-4-Q3\n",
    "\n",
    "#What is difference between list and tuple. \n",
    "\n",
    "syntax of list and tuple\n",
    "\n",
    "# list_num = [1,2,3,4]\n",
    "# tup_num = (1,2,3,4)\n",
    "\n",
    "# List has mutable nature i.e., list can be changed or modified after its creation according to needs whereas tuple has immutable nature i.e., \n",
    "# tuple can’t be changed or modified after its creation.\n"
   ]
  },
  {
   "cell_type": "code",
   "execution_count": 10,
   "metadata": {},
   "outputs": [
    {
     "name": "stdout",
     "output_type": "stream",
     "text": [
      "original list ['a', 'd', 'c', 'A', 'C']\n",
      "updated list ['C', 'A', 'c', 'd', 'a']\n"
     ]
    }
   ],
   "source": [
    "# Assignment-4-Q4\n",
    "\n",
    "#Print the list in reverse order l = [‘a’, ‘d’, ‘c’, ‘A’, ‘C’] \n",
    "\n",
    "l = ['a','d','c','A','C']  \n",
    "print('original list',l)\n",
    "\n",
    "reverse_list=l[::-1]\n",
    "\n",
    "print('updated list',reverse_list)\n",
    "        \n",
    "\n"
   ]
  },
  {
   "cell_type": "code",
   "execution_count": 12,
   "metadata": {},
   "outputs": [
    {
     "name": "stdout",
     "output_type": "stream",
     "text": [
      "Elements at odd indexes:  [11, 21, 31, 41]\n"
     ]
    }
   ],
   "source": [
    "# Assignment-4-Q5\n",
    "\n",
    "#Print Elements at Odd indexes from a list (Do not use loop) \n",
    "\n",
    "l = [10,11,20, 21,30, 31, 40, 41] \n",
    "\n",
    "\n",
    "print('Elements at odd indexes: ',l[1::2])\n",
    "\n",
    "\n"
   ]
  },
  {
   "cell_type": "code",
   "execution_count": null,
   "metadata": {},
   "outputs": [],
   "source": [
    "# Assignment-4-Q6\n",
    "#How many ways you can copy a list\n",
    "\n",
    "\n",
    "a=[1]\n",
    "b=a\n",
    "print(b)\n",
    "\n",
    "c=a.copy()\n",
    "print(c)\n",
    "\n",
    "import copy\n",
    "d=copy.deepcopy(a)\n",
    "print(d)\n",
    "\n",
    "e=a[:]\n",
    "print(e)\n",
    "\n",
    "f=list(a)\n",
    "print(f)\n",
    "\n"
   ]
  },
  {
   "cell_type": "code",
   "execution_count": 15,
   "metadata": {},
   "outputs": [
    {
     "name": "stdout",
     "output_type": "stream",
     "text": [
      "a\n",
      "5\n"
     ]
    }
   ],
   "source": [
    "# Assignment-4-Q7\n",
    "#Predict output \n",
    "\n",
    "n_list=['Happy',[2,0,1,5]]\n",
    "print(n_list[0][1])\n",
    "print(n_list[1][3])\n",
    "\n"
   ]
  },
  {
   "cell_type": "code",
   "execution_count": 16,
   "metadata": {},
   "outputs": [
    {
     "name": "stdout",
     "output_type": "stream",
     "text": [
      "[1, 3, 5, 7]\n"
     ]
    }
   ],
   "source": [
    "# Assignment-4-Q8\n",
    "#Predict output \n",
    "\n",
    "odd=[2,4,6,8]\n",
    "odd[0]=1\n",
    "odd[1:4]=[3,5,7]\n",
    "print(odd)"
   ]
  },
  {
   "cell_type": "code",
   "execution_count": 28,
   "metadata": {},
   "outputs": [
    {
     "name": "stdout",
     "output_type": "stream",
     "text": [
      "[1, 3, 5, [7, 9]]\n",
      "[1, 3, 5, [7, 9], 11, 13]\n"
     ]
    }
   ],
   "source": [
    "# Assignment-4-Q9\n",
    "#Predict output \n",
    "\n",
    "odd=[1,3,5]\n",
    "odd.append([7,9])\n",
    "print(odd)\n",
    "odd.extend([11,13])\n",
    "print(odd)"
   ]
  },
  {
   "cell_type": "code",
   "execution_count": 34,
   "metadata": {},
   "outputs": [
    {
     "name": "stdout",
     "output_type": "stream",
     "text": [
      "<class 'tuple'>\n",
      "<class 'int'>\n",
      "<class 'int'>\n",
      "<class 'int'>\n"
     ]
    }
   ],
   "source": [
    "# Assignment-4-Q10\n",
    "#Predict output \n",
    "\n",
    "x=1,2,3;print(type(x))\n",
    "x=(1);print(type(x))\n",
    "x=1;print(type(x))\n",
    "x=1;print(type(x))\n"
   ]
  },
  {
   "cell_type": "code",
   "execution_count": null,
   "metadata": {},
   "outputs": [],
   "source": [
    "# Assignment-4-Q11\n",
    "#Predict output \n",
    "\n",
    "#Try to represent a matrix with following data in python: \n",
    "\n",
    "\n"
   ]
  },
  {
   "cell_type": "code",
   "execution_count": 37,
   "metadata": {},
   "outputs": [
    {
     "name": "stdout",
     "output_type": "stream",
     "text": [
      "('s', 't', 'r', 'i', 'n', 'g')\n",
      "('g', 'n', 'i', 'r', 't', 's')\n",
      "('n', 's')\n"
     ]
    }
   ],
   "source": [
    "# Assignment-4-Q12\n",
    "#Predict output \n",
    "\n",
    "t=tuple('string')\n",
    "print(t)\n",
    "print(t[::-1])\n",
    "print(t[::2][::-2])\n",
    "\n"
   ]
  },
  {
   "cell_type": "code",
   "execution_count": 4,
   "metadata": {},
   "outputs": [
    {
     "name": "stdout",
     "output_type": "stream",
     "text": [
      "True\n",
      "False\n",
      "1\n",
      "3\n"
     ]
    }
   ],
   "source": [
    "# Assignment-4-Q13\n",
    "\n",
    "#Predict output \n",
    "\n",
    "t=tuple([10,20,30,40,50,60])\n",
    "print(60 in t)\n",
    "print('60' in t)\n",
    "print(t.count(10))\n",
    "print(t.index(40))"
   ]
  },
  {
   "cell_type": "code",
   "execution_count": 6,
   "metadata": {},
   "outputs": [
    {
     "name": "stdout",
     "output_type": "stream",
     "text": [
      "enter a string abcd\n",
      "not palindrome\n"
     ]
    }
   ],
   "source": [
    "# Assignment-4-Q14\n",
    "\n",
    "#Write a program to input a string and print if it is palindrome or not. \n",
    "\n",
    "s=input(\"enter a string \")\n",
    "\n",
    "s1=s[::-1]\n",
    "\n",
    "if s==s1:\n",
    "    print(\"palindrome\")\n",
    "else:\n",
    "    print(\"not palindrome\")\n"
   ]
  },
  {
   "cell_type": "code",
   "execution_count": 12,
   "metadata": {},
   "outputs": [
    {
     "name": "stdout",
     "output_type": "stream",
     "text": [
      "(5, 10, 15, 20)\n"
     ]
    }
   ],
   "source": [
    "# Assignment-4-Q15\n",
    "\n",
    "#Use the range method and create a tuple containing the following values:\n",
    "#(20, 15, 10, 5) \n",
    "\n",
    "print(tuple(range(5,25,5)))\n"
   ]
  },
  {
   "cell_type": "code",
   "execution_count": 21,
   "metadata": {},
   "outputs": [
    {
     "name": "stdout",
     "output_type": "stream",
     "text": [
      "enter a string JOHN\n",
      "['J', 'O', 'H', 'N']\n"
     ]
    }
   ],
   "source": [
    "# Assignment-4-Q16\n",
    "# WAP to convert string to list of characters. \n",
    "\n",
    "s=input((\"enter a string \"))\n",
    "l=list(s)\n",
    "print(l)"
   ]
  },
  {
   "cell_type": "code",
   "execution_count": 31,
   "metadata": {},
   "outputs": [
    {
     "name": "stdout",
     "output_type": "stream",
     "text": [
      "<class 'list'>\n",
      "<class 'NoneType'>\n",
      "<class 'str'>\n",
      "<class 'bool'>\n"
     ]
    }
   ],
   "source": [
    "# Assignment-4-Q17\n",
    "\n",
    "# What is the return type of: \n",
    "\n",
    "print(type(\"1 2\".split()))\n",
    "print(type([1,3,2].sort()))\n",
    "print(type('abc'.upper()))\n",
    "print(type(1 in [1,2]))"
   ]
  }
 ],
 "metadata": {
  "kernelspec": {
   "display_name": "Python 3",
   "language": "python",
   "name": "python3"
  },
  "language_info": {
   "codemirror_mode": {
    "name": "ipython",
    "version": 3
   },
   "file_extension": ".py",
   "mimetype": "text/x-python",
   "name": "python",
   "nbconvert_exporter": "python",
   "pygments_lexer": "ipython3",
   "version": "3.8.3"
  }
 },
 "nbformat": 4,
 "nbformat_minor": 4
}
