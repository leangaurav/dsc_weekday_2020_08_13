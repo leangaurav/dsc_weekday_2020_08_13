{
 "cells": [
  {
   "cell_type": "code",
   "execution_count": 1,
   "metadata": {},
   "outputs": [
    {
     "name": "stdout",
     "output_type": "stream",
     "text": [
      "Enter a number : 2\n",
      "The first 2 natural numbers are :  1,2\n"
     ]
    }
   ],
   "source": [
    "#Printn first n natural number\n",
    "\n",
    "num=int(input(\"Enter a number : \"))\n",
    "i=1\n",
    "numstr=\"\"\n",
    "while i <= num:\n",
    "    #numstr=numstr + \",\" + str(i)\n",
    "    numstr= numstr + str(i) if numstr == \"\" else numstr + \",\" + str(i)\n",
    "    i+=1\n",
    "print(f\"The first {num} natural numbers are : \", numstr)"
   ]
  },
  {
   "cell_type": "code",
   "execution_count": 43,
   "metadata": {},
   "outputs": [
    {
     "name": "stdout",
     "output_type": "stream",
     "text": [
      "Enter a number : 1000\n",
      "The sum of 1000 natural numbers are :  500500\n"
     ]
    }
   ],
   "source": [
    "#Print sum of n natural number\n",
    "num=int(input(\"Enter a number : \"))\n",
    "i=1\n",
    "sumofnum=0\n",
    "while i <= num:\n",
    "    sumofnum=sumofnum + i\n",
    "    i+=1\n",
    "print(f\"The sum of {num} natural numbers are : \", sumofnum)"
   ]
  },
  {
   "cell_type": "code",
   "execution_count": 47,
   "metadata": {},
   "outputs": [
    {
     "name": "stdout",
     "output_type": "stream",
     "text": [
      "Enter a number : 50\n",
      "The first 50 reverse natural numbers are :  ['50', '49', '48', '47', '46', '45', '44', '43', '42', '41', '40', '39', '38', '37', '36', '35', '34', '33', '32', '31', '30', '29', '28', '27', '26', '25', '24', '23', '22', '21', '20', '19', '18', '17', '16', '15', '14', '13', '12', '11', '10', '9', '8', '7', '6', '5', '4', '3', '2', '1']\n"
     ]
    }
   ],
   "source": [
    "#Print first n natural number in reverse order\n",
    "\n",
    "num=int(input(\"Enter a number : \"))\n",
    "i=1\n",
    "numstr=\"\"\n",
    "while i <= num:\n",
    "    #numstr=numstr + \",\" + str(i)\n",
    "    numstr= numstr + str(i) if numstr == \"\" else numstr + \",\" + str(i)\n",
    "    i+=1\n",
    "print(f\"The first {num} reverse natural numbers are : \", numstr.split(',')[::-1])"
   ]
  },
  {
   "cell_type": "code",
   "execution_count": 54,
   "metadata": {},
   "outputs": [
    {
     "name": "stdout",
     "output_type": "stream",
     "text": [
      "Enter a number : 5\n",
      "The factorial of 5 :  120\n"
     ]
    }
   ],
   "source": [
    "#WAP to print the factorial of the number\n",
    "\n",
    "num=int(input(\"Enter a number : \"))\n",
    "i=num\n",
    "factorial=1\n",
    "while num >= 1 and num > 0:\n",
    "    factorial = factorial * num\n",
    "    num-=1\n",
    "print(f\"The factorial of {i} : \", factorial)\n"
   ]
  },
  {
   "cell_type": "code",
   "execution_count": 59,
   "metadata": {},
   "outputs": [
    {
     "name": "stdout",
     "output_type": "stream",
     "text": [
      "Enter a multiple number : 2 4 6 8\n",
      "Sum of digits 2 4 6 8 :  20\n"
     ]
    }
   ],
   "source": [
    "#To print the sum of all digit of number entered by user\n",
    "\n",
    "num=input(\"Enter a multiple number : \")\n",
    "lstnum=num.split()\n",
    "\n",
    "sumofnum=0\n",
    "for n in lstnum:\n",
    "    sumofnum=sumofnum + int(n)\n",
    "\n",
    "print(f\"Sum of digits {num} : \" , str(sumofnum))\n",
    "    \n"
   ]
  },
  {
   "cell_type": "code",
   "execution_count": 72,
   "metadata": {},
   "outputs": [
    {
     "name": "stdout",
     "output_type": "stream",
     "text": [
      "Enter a number : 10\n",
      "Factorial of 10! : 3628800 & sum of factorial of 10! :  4037913\n"
     ]
    }
   ],
   "source": [
    "#WAP to print the sum of factorial of the number\n",
    "\n",
    "num=int(input(\"Enter a number : \"))\n",
    "i=num\n",
    "factorial=1\n",
    "sumoffactorial=0\n",
    "for n in range(1 , num+1):\n",
    "    factorial = factorial * n\n",
    "    sumoffactorial=sumoffactorial + (factorial)\n",
    "print(f\"Factorial of {i}! : {factorial} & sum of factorial of {i}! : \", sumoffactorial)\n",
    "\n",
    "# 4! = 24 + 6 + 2 + 1"
   ]
  },
  {
   "cell_type": "code",
   "execution_count": 74,
   "metadata": {},
   "outputs": [
    {
     "name": "stdout",
     "output_type": "stream",
     "text": [
      "Enter a base number : 3\n",
      "Enter a exponent number : 3\n",
      "3 to the raise of 3 :  27\n"
     ]
    }
   ],
   "source": [
    "#WAP to input base and exponent without using pow()\n",
    "\n",
    "base=int(input(\"Enter a base number : \"))\n",
    "exponent=int(input(\"Enter a exponent number : \"))\n",
    "print(f\"{base} to the raise of {exponent} : \" , base**exponent)\n",
    "\n",
    "\n"
   ]
  },
  {
   "cell_type": "code",
   "execution_count": 125,
   "metadata": {},
   "outputs": [
    {
     "name": "stdout",
     "output_type": "stream",
     "text": [
      "*\n",
      "**\n",
      "***\n",
      "****\n",
      "*****\n",
      "\n",
      "******\n",
      "*****\n",
      "****\n",
      "***\n",
      "**\n",
      "*\n",
      "\n",
      "    *\n",
      "   **\n",
      "  ***\n",
      " ****\n",
      "*****\n",
      "\n",
      "     *     \n",
      "    *  *    \n",
      "   *  *  *   \n",
      "  *  *  *  *  \n",
      " *  *  *  *  * \n"
     ]
    }
   ],
   "source": [
    "#WAP to print the * pattern\n",
    "\n",
    "for i in range(1,6):\n",
    "    print('*' * i)\n",
    "    \n",
    "print()\n",
    "\n",
    "for i in (6,5,4,3,2,1):\n",
    "    print('*' * i)\n",
    "\n",
    "print()\n",
    "for i in range(1,6):\n",
    "    print(' ' * (5-i) + '*'*i)\n",
    "\n",
    "print()\n",
    "\n",
    "for i in range(1,6):\n",
    "     print(' ' * (5-i) + ' * '*i + ' ' * (5-i))"
   ]
  },
  {
   "cell_type": "code",
   "execution_count": 159,
   "metadata": {},
   "outputs": [
    {
     "name": "stdout",
     "output_type": "stream",
     "text": [
      "1\n",
      "22\n",
      "333\n",
      "4444\n",
      "55555\n",
      "\n",
      "1 \n",
      "1 2 \n",
      "1 2 3 \n",
      "1 2 3 4 \n",
      "1 2 3 4 5 \n",
      "\n",
      "5\n",
      "44\n",
      "333\n",
      "2222\n",
      "11111\n",
      "\n",
      "    1\n",
      "   22\n",
      "  333\n",
      " 4444\n",
      "55555\n"
     ]
    }
   ],
   "source": [
    "#WAP to print the number pattern\n",
    "\n",
    "for i in range(1,6):\n",
    "    print(f'{i}' * i)\n",
    "    \n",
    "print()\n",
    "\n",
    "\n",
    "for i in range(1,6):\n",
    "    for j in range(0,i):\n",
    "        print(j+1,end=' ')\n",
    "    print()\n",
    "print()\n",
    "\n",
    "for i in range(1,6):\n",
    "     print(f'{6-i}' * i)\n",
    "\n",
    "print()\n",
    "\n",
    "for i in range(1,6):\n",
    "    print(' ' * (5-i) + str(i) * i)\n"
   ]
  },
  {
   "cell_type": "code",
   "execution_count": 9,
   "metadata": {},
   "outputs": [
    {
     "name": "stdout",
     "output_type": "stream",
     "text": [
      "Enter any number : 6\n",
      "A\n",
      "AB\n",
      "ABC\n",
      "ABCD\n",
      "ABCDE\n",
      "ABCDEF\n",
      "\n",
      "A\n",
      "BC\n",
      "DEF\n",
      "GHIJ\n",
      "KLMNO\n",
      "PQRSTU\n",
      "\n",
      "A\n",
      "BB\n",
      "CCC\n",
      "DDDD\n",
      "EEEEE\n",
      "FFFFFF\n",
      "\n",
      "     A\n",
      "    ABA\n",
      "   ABCBA\n",
      "  ABCDCBA\n",
      " ABCDEDCBA\n",
      "ABCDEFEDCBA\n",
      "\n"
     ]
    }
   ],
   "source": [
    "#Print the character pattern\n",
    "\n",
    "n=int(input(\"Enter any number : \"))\n",
    "\n",
    "for i in range(1,n+1):\n",
    "    for j in range(64,64+i):\n",
    "        print(chr(j+1),end='')\n",
    "    print()\n",
    "print()\n",
    "\n",
    "k=0\n",
    "for i in range(1,n+1):\n",
    "    for j in range(65+k,65+(i+k)):\n",
    "        print(chr(j),end='')\n",
    "        k+=1\n",
    "    print()\n",
    "\n",
    "print()\n",
    "for i in range(1,n+1):\n",
    "    for j in range(64+i,65+i):\n",
    "        print(chr(j)*i,end='')\n",
    "    print()\n",
    "print()\n",
    "\n",
    "\n",
    "\n",
    "for i in range(0,n+1):\n",
    "    norstr=\"\"\n",
    "    print(\" \"*(n-i),end=\"\")\n",
    "    for j in range(65,65+i):\n",
    "        norstr=chr(j)+norstr\n",
    "        print(chr(j),end=\"\")\n",
    "    print(norstr[1:])\n",
    "\n",
    "print()\n",
    "\n"
   ]
  },
  {
   "cell_type": "code",
   "execution_count": 4,
   "metadata": {},
   "outputs": [
    {
     "name": "stdout",
     "output_type": "stream",
     "text": [
      "enter a num : 5\n",
      "     \n",
      "    A\n",
      "   ABA\n",
      "  ABCBA\n",
      " ABCDCBA\n",
      "ABCDEDCBA\n",
      "\n"
     ]
    }
   ],
   "source": [
    "n=int(input(\"enter a num : \"))\n",
    "for i in range(0,n+1):\n",
    "    norstr=\"\"\n",
    "    print(\" \"*(n-i),end=\"\")\n",
    "    for j in range(65,65+i):\n",
    "        norstr=chr(j)+norstr\n",
    "        print(chr(j),end=\"\")\n",
    "    print(norstr[1:])\n",
    "\n",
    "print()"
   ]
  }
 ],
 "metadata": {
  "kernelspec": {
   "display_name": "Python 3",
   "language": "python",
   "name": "python3"
  },
  "language_info": {
   "codemirror_mode": {
    "name": "ipython",
    "version": 3
   },
   "file_extension": ".py",
   "mimetype": "text/x-python",
   "name": "python",
   "nbconvert_exporter": "python",
   "pygments_lexer": "ipython3",
   "version": "3.8.3"
  }
 },
 "nbformat": 4,
 "nbformat_minor": 4
}
