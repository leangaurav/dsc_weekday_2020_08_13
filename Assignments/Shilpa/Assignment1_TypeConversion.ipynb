{
 "cells": [
  {
   "cell_type": "code",
   "execution_count": 1,
   "metadata": {},
   "outputs": [
    {
     "name": "stdout",
     "output_type": "stream",
     "text": [
      "Enter the temperature in Fahrenheit to convert into Degree ? 98\n",
      "Temperature in Degree is : 36.67C\n"
     ]
    }
   ],
   "source": [
    "#Fahrenheit to Celius\n",
    "temperature=float(input(\"Enter the temperature in Fahrenheit to convert into Degree ? \"))\n",
    "degree=(temperature - 32) * (5/9)\n",
    "print(\"Temperature in Degree is : \" + \"{:0.2f}C\".format(degree))\n"
   ]
  },
  {
   "cell_type": "code",
   "execution_count": 5,
   "metadata": {},
   "outputs": [
    {
     "name": "stdout",
     "output_type": "stream",
     "text": [
      "Enter the number to get the square and cube root ? -4.6\n",
      "Square of the -4.6 is : 21.159999999999997\n",
      "Cube of the -4.6 is : -97.33599999999998\n"
     ]
    }
   ],
   "source": [
    "#Get square and cube\n",
    "num1=float(input(\"Enter the number to get the square and cube root ? \"))\n",
    "print(f\"Square of the {num1} is : \" + str(num1**2))\n",
    "print(f\"Cube of the {num1} is : \" + str(num1**3))"
   ]
  },
  {
   "cell_type": "code",
   "execution_count": 7,
   "metadata": {},
   "outputs": [
    {
     "name": "stdout",
     "output_type": "stream",
     "text": [
      "Enter the number1 ? 3\n",
      "Enter the number2 ? 4\n",
      "3^2 + 4^2 = 25\n"
     ]
    }
   ],
   "source": [
    "#Get n^2 + m^2\n",
    "num1=int(input(\"Enter the number1 ? \"))\n",
    "num2=int(input(\"Enter the number2 ? \"))\n",
    "print(f\"{num1}^2 + {num2}^2 = \" + str(pow(num1,2) + pow(num2,2)))"
   ]
  },
  {
   "cell_type": "code",
   "execution_count": 8,
   "metadata": {},
   "outputs": [
    {
     "name": "stdout",
     "output_type": "stream",
     "text": [
      "Enter the number 12\n",
      "Enter the number 23\n",
      "Power of the number M^N is 8 OR 8\n"
     ]
    }
   ],
   "source": [
    "#Get M raise to power of N\n",
    "num1=int(input(\"Enter the number 1 ? \"))\n",
    "num2=int(input(\"Enter the number 2 ? \"))\n",
    "print(\"Power of the number M^N is \" + str(pow(num1,num2)) + \" OR \" + str(num1**num2))"
   ]
  },
  {
   "cell_type": "code",
   "execution_count": 11,
   "metadata": {
    "scrolled": true
   },
   "outputs": [
    {
     "name": "stdout",
     "output_type": "stream",
     "text": [
      "Enter the amount ? 3000\n",
      "Enter the rate of interest ? 2\n",
      "Enter the number of months for saving ? 36\n",
      "Simple Interest for amount 3000.0 with 2.0 % interest for 36 months is 2160.0\n"
     ]
    }
   ],
   "source": [
    "#Simple interest calculator\n",
    "principal = float(input(\"Enter the amount ? \"))\n",
    "rate=float(input(\"Enter the rate of interest ? \"))\n",
    "no_of_month=int(input(\"Enter the number of months for saving ? \"))\n",
    "simple_interest = (principal*rate*no_of_month)/100\n",
    "print (f\"Simple Interest for amount {principal} with {rate} % interest for {no_of_month} months is \" +\n",
    "       str(simple_interest))"
   ]
  },
  {
   "cell_type": "code",
   "execution_count": 10,
   "metadata": {},
   "outputs": [
    {
     "name": "stdout",
     "output_type": "stream",
     "text": [
      "Enter the amount ? 100\n",
      "Enter the rate of interest ? 10\n",
      "Enter the number of times for interest calculation ? 4\n",
      "Enter the term in year ? 1\n",
      "4\n",
      "1.025\n",
      "1.1038128906249995\n",
      "Compund Interest for principal 100.0 with 0.1 % interest for 1.0 years is 10.38\n",
      "Total Amount for principal 100.0 with 0.1 % interest for 1.0 years is 110.38\n"
     ]
    }
   ],
   "source": [
    "# Compund Interest Formula\n",
    "#A = P(1 + r/n) ^ nt\n",
    "\n",
    "\n",
    "principal = float(input(\"Enter the amount ? \"))\n",
    "rate=float(input(\"Enter the rate of interest ? \"))/100\n",
    "no_of_times_interest=int(input(\"Enter the number of times for interest calculation ? \"))\n",
    "no_of_year=float(input(\"Enter the term in year ? \"))\n",
    "\n",
    "\n",
    "amount = principal * pow((1 + (rate/no_of_times_interest)),(no_of_times_interest * no_of_year))\n",
    "interest = amount - principal\n",
    "\n",
    "print(f\"Compund Interest for principal {principal} with {rate} % interest for {no_of_year} years is \" +   \"{:.2f}\".format(interest) )\n",
    "\n",
    "print(f\"Total Amount for principal {principal} with {rate} % interest for {no_of_year} years is \" +   \"{:.2f}\".format(amount) )\n"
   ]
  },
  {
   "cell_type": "code",
   "execution_count": 14,
   "metadata": {},
   "outputs": [
    {
     "name": "stdout",
     "output_type": "stream",
     "text": [
      "Enter the natural number ? 2\n",
      "Sum of all natural number upto 2 value is 12\n"
     ]
    }
   ],
   "source": [
    "# Sum of n natural number\n",
    "# Formula S=2n(n+1)\n",
    "\n",
    "num1=int(input(\"Enter the natural number ? \"))\n",
    "print(f\"Sum of all natural number upto {num1} value is \" + str((2*num1)*(num1+1)))"
   ]
  },
  {
   "cell_type": "code",
   "execution_count": 18,
   "metadata": {},
   "outputs": [
    {
     "name": "stdout",
     "output_type": "stream",
     "text": [
      "Enter the num1 ? 5\n",
      "Enter the num2 ? 2\n",
      "Original Value 5 , 2\n",
      "Swap Value 2 , 5\n",
      "Swap Value using python 5 , 2\n"
     ]
    }
   ],
   "source": [
    "#Swap 2 number option 1 : temp var Option 2 : Python syntax\n",
    "\n",
    "#option 1\n",
    "num1=input(\"Enter the num1 ? \")\n",
    "num2 = input(\"Enter the num2 ? \")\n",
    "print(f\"Original Value {num1} , {num2}\")\n",
    "temp=num1\n",
    "num1=num2\n",
    "num2=temp\n",
    "print(f\"Swap Value {num1} , {num2}\")\n",
    "\n",
    "\n",
    "#option2\n",
    "num1,num2=num2,num1\n",
    "print(f\"Swap Value using python {num1} , {num2}\")"
   ]
  },
  {
   "cell_type": "code",
   "execution_count": 5,
   "metadata": {},
   "outputs": [
    {
     "name": "stdout",
     "output_type": "stream",
     "text": [
      "ASCII Value of ' ' = 32\n",
      "ASCII Value of '\\t' = 9\n",
      "ASCII Value of '\\n' = 10\n",
      "ASCII Value of '\\r' = 13\n",
      "ASCII Value of '\\x0b' = 11\n",
      "ASCII Value of '\\x0c' = 12\n"
     ]
    }
   ],
   "source": [
    "#Print ascii value for whitespace char\n",
    "\n",
    "import string\n",
    "\n",
    "for i in string.whitespace:\n",
    "    print(\"ASCII Value of \" + repr(i) + \" = \" + str(ord(i)))"
   ]
  },
  {
   "cell_type": "code",
   "execution_count": 39,
   "metadata": {},
   "outputs": [
    {
     "name": "stdout",
     "output_type": "stream",
     "text": [
      "Enter a value ? A\n",
      "ASCII Value of the A is - 65\n"
     ]
    }
   ],
   "source": [
    "#Get the ASCII value of the char\n",
    "text=input(\"Enter a value ? \")\n",
    "print(f\"ASCII Value of the {text} is - \" + str(ord(text)))"
   ]
  },
  {
   "cell_type": "code",
   "execution_count": 45,
   "metadata": {},
   "outputs": [
    {
     "name": "stdout",
     "output_type": "stream",
     "text": [
      "Enter Area of the Circle ? 314.16\n",
      "Radius of the circle is 10.00\n",
      "Circumference of the circle is 62.83\n"
     ]
    }
   ],
   "source": [
    "# Area of Circle to get the radius  and circumference of the circle\n",
    "#Area of Circle = pi*R^2\n",
    "#Circumference of the Circle = 2*pi*r\n",
    "\n",
    "from math import pi , sqrt\n",
    "\n",
    "area_of_circle=float(input(\"Enter Area of the Circle ? \"))\n",
    "radius=sqrt((area_of_circle)/(pi))\n",
    "\n",
    "circumference= 2 * pi * radius\n",
    "\n",
    "print (\"Radius of the circle is \" + \"{:.2f}\".format(radius))\n",
    "print (\"Circumference of the circle is \" + \"{:.2f}\".format(circumference))\n"
   ]
  },
  {
   "cell_type": "code",
   "execution_count": 65,
   "metadata": {},
   "outputs": [
    {
     "name": "stdout",
     "output_type": "stream",
     "text": [
      "Enter the no of subject ? 2\n",
      "Enter the marks for Subject1 ? 10\n",
      "Enter the marks for Subject2 ? 10\n",
      "Average of 2 subjects : 10.00\n"
     ]
    }
   ],
   "source": [
    "# Calculate the average of 5 subject out of 100\n",
    "\n",
    "sum_of_subjects=0\n",
    "no_of_subject = int(input(\"Enter the no of subject ? \"))\n",
    "\n",
    "for i in range(no_of_subject):\n",
    "    sum_of_subjects += int(input(f\"Enter the marks for Subject{i+1} ? \"))\n",
    "\n",
    "average_of_subject = sum_of_subjects/no_of_subject\n",
    "print(f\"Average of {no_of_subject} subjects : \" + \"{:.2f}\".format(average_of_subject)) \n"
   ]
  }
 ],
 "metadata": {
  "kernelspec": {
   "display_name": "Python 3",
   "language": "python",
   "name": "python3"
  },
  "language_info": {
   "codemirror_mode": {
    "name": "ipython",
    "version": 3
   },
   "file_extension": ".py",
   "mimetype": "text/x-python",
   "name": "python",
   "nbconvert_exporter": "python",
   "pygments_lexer": "ipython3",
   "version": "3.8.3"
  }
 },
 "nbformat": 4,
 "nbformat_minor": 4
}
