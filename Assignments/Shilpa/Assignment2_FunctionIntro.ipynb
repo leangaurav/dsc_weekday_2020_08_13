{
 "cells": [
  {
   "cell_type": "code",
   "execution_count": 2,
   "metadata": {},
   "outputs": [
    {
     "name": "stdout",
     "output_type": "stream",
     "text": [
      "Enter a string 1 shilpa\n",
      "Enter a string 2 sharma\n",
      "Before Swap :  shilpa sharma\n",
      "Swapped Value :  sharma shilpa\n"
     ]
    }
   ],
   "source": [
    "# WAP to input 2 string and swap the value\n",
    "\n",
    "str1=input(\"Enter a string 1 \")\n",
    "str2=input(\"Enter a string 2 \")\n",
    "\n",
    "print(\"Before Swap : \" , str1 , str2)\n",
    "def swap_string(str1,str2):\n",
    "    str1 , str2 = str2 ,str1\n",
    "    print(\"Swapped Value : \", str1 , str2)\n",
    "\n",
    "swap_string(str1,str2)"
   ]
  },
  {
   "cell_type": "code",
   "execution_count": 25,
   "metadata": {
    "scrolled": true
   },
   "outputs": [
    {
     "name": "stdout",
     "output_type": "stream",
     "text": [
      "Random value is :  2\n",
      "Random value is :  10\n",
      "Random value is :  2\n",
      "Random value is :  3\n",
      "Average of random number between 0 - 26  1.4166666666666665\n",
      "Random value is :  [23, 0, 22, 13]\n",
      "Average of random number between 0 - 26  6.041666666666666\n"
     ]
    }
   ],
   "source": [
    "#WAP to print 4 random value between 0 to 26 and their average\n",
    "\n",
    "import random\n",
    "#from random import randint , randrange\n",
    "\n",
    "i=1\n",
    "avg=0\n",
    "while i < 5:\n",
    "    num= randrange(0,26)\n",
    "    print(\"Random value is : \" , num)\n",
    "    avg = (avg + num)/i\n",
    "    i+=1\n",
    "\n",
    "print (\"Average of random number between 0 - 26 \" , avg)\n",
    "\n",
    "\n",
    "### Second option\n",
    "randomlst = []\n",
    "randomlst = random.sample(range(0,26) ,4 )\n",
    "avg=0\n",
    "i=1\n",
    "print(\"Random value is : \" , randomlst)\n",
    "for num in randomlst:\n",
    "    avg=(avg + num)/i\n",
    "    i+=1\n",
    "\n",
    "print (\"Average of random number between 0 - 26 \" , avg)\n",
    "\n"
   ]
  },
  {
   "cell_type": "code",
   "execution_count": 46,
   "metadata": {},
   "outputs": [
    {
     "name": "stdout",
     "output_type": "stream",
     "text": [
      "['C', 'Y', 'D', 'V', 'B', 'F', 'L', 'S', 'M', 'I', 'O', 'J', 'A', 'P', 'Q', 'R', 'X', 'T', 'Z', 'U', 'G', 'W', 'K', 'E', 'N', 'H', 't', 'm', 'r', 'n', 'j', 'l', 'b', 'p', 'v', 'x', 'o', 'c', 'k', 'u', 'a', 'd', 'q', 'h', 'e', 'g', 'z', 's', 'y', 'w', 'f', 'i']\n",
      "64 126\n"
     ]
    }
   ],
   "source": [
    "#WAP to print upper and lower case alphabet randomly.\n",
    "\n",
    "\n",
    "lst_of_ascii =[]\n",
    "lst_of_ascii = random.sample(range(65,91),26) + random.sample(range(97,123),26)\n",
    "#lst_of_ascii.append(random.sample(range(96,123),26))\n",
    "for n in lst_of_ascii:\n",
    "    lst_of_ascii[lst_of_ascii.index(n)]= chr(n)\n",
    "\n",
    "print(lst_of_ascii)\n",
    "\n",
    "\n",
    "\n",
    "\n",
    "\n",
    "\n",
    "\n",
    "\n"
   ]
  },
  {
   "cell_type": "code",
   "execution_count": 8,
   "metadata": {},
   "outputs": [
    {
     "name": "stdout",
     "output_type": "stream",
     "text": [
      "Enter the amount ? 100\n",
      "Enter the rate of interest ? 10\n",
      "Enter the number of months for saving ? 12\n",
      "Simple Interest for amount 100.0 with 10.0 % interest for 12 months is  120.0\n"
     ]
    }
   ],
   "source": [
    "#WAF to do Simple interest\n",
    "\n",
    "principal = float(input(\"Enter the amount ? \"))\n",
    "rate=float(input(\"Enter the rate of interest ? \"))\n",
    "no_of_month=int(input(\"Enter the number of months for saving ? \"))\n",
    "\n",
    "def get_si(amt,rate,month):\n",
    "    simple_interest = (principal*rate*no_of_month)/100\n",
    "    return simple_interest\n",
    "   \n",
    "print (f\"Simple Interest for amount {principal} with {rate} % interest for {no_of_month} months is \" , str(get_si(principal,rate,no_of_month)))"
   ]
  },
  {
   "cell_type": "code",
   "execution_count": 12,
   "metadata": {},
   "outputs": [
    {
     "name": "stdout",
     "output_type": "stream",
     "text": [
      "Enter the amount ? 100\n",
      "Total Amount :  120.0\n"
     ]
    }
   ],
   "source": [
    "#WAF to get the total amount using above function\n",
    "\n",
    "principal = float(input(\"Enter the amount ? \"))\n",
    "\n",
    "def get_TA(amt,rate=10,month=12):\n",
    "    return get_si(amt,rate,month)\n",
    "    \n",
    "print (f\"Total Amount : \" , str(get_TA(principal)))\n",
    "\n"
   ]
  },
  {
   "cell_type": "code",
   "execution_count": 20,
   "metadata": {},
   "outputs": [
    {
     "name": "stdout",
     "output_type": "stream",
     "text": [
      "Enter the amount ? 100\n",
      "Enter the rate of interest ? 10\n",
      "Enter the number of times for interest calculation ? 4\n",
      "Enter the term in year ? 2\n",
      "Compund Interest for principal 100.0 with 0.1 % interest for 2.0 years is 21.84\n",
      "Total Amount for principal 100.0 with 0.1 % interest for 2.0 years is 121.84\n"
     ]
    }
   ],
   "source": [
    "#WAF to get the compund interest\n",
    "\n",
    "# Compund Interest Formula\n",
    "#A = P(1 + r/n) ^ nt\n",
    "\n",
    "principal = float(input(\"Enter the amount ? \"))\n",
    "rate=float(input(\"Enter the rate of interest ? \"))/100\n",
    "no_of_times_interest=int(input(\"Enter the number of times for interest calculation ? \"))\n",
    "no_of_year=float(input(\"Enter the term in year ? \"))\n",
    "\n",
    "def get_CI(amt,rate,interestperiod,year):\n",
    "    amount = amt * pow((1 + (rate/interestperiod)),(interestperiod * year))\n",
    "    interest = amount - amt\n",
    "    print(f\"Compund Interest for principal {amt} with {rate} % interest for {year} years is \" +   \"{:.2f}\".format(interest) )\n",
    "    print(f\"Total Amount for principal {amt} with {rate} % interest for {year} years is \" +   \"{:.2f}\".format(amount) )\n",
    "\n",
    "get_CI(principal,rate,no_of_times_interest,no_of_year)"
   ]
  },
  {
   "cell_type": "code",
   "execution_count": 7,
   "metadata": {},
   "outputs": [
    {
     "name": "stdout",
     "output_type": "stream",
     "text": [
      "Enter the number ? 2\n",
      "Enter the quotient ? 3\n"
     ]
    },
    {
     "data": {
      "text/plain": [
       "(0.0, 2.0)"
      ]
     },
     "execution_count": 7,
     "metadata": {},
     "output_type": "execute_result"
    }
   ],
   "source": [
    "# WAP to get the quotient and remainder in tuple\n",
    "\n",
    "num1=input(\"Enter the number ? \")\n",
    "num2=input(\"Enter the quotient ? \")\n",
    "\n",
    "#print (dir(num1))\n",
    "def division(num1,num2):\n",
    "    if  num1.isdigit() and  num2.isdigit():\n",
    "        divisible = float(num1)//float(num2)\n",
    "        remainder = float(num1)%float(num2)\n",
    "        result = (divisible,remainder)\n",
    "        return result\n",
    "    else:\n",
    "        print(\"Enter numeric field\",num1.isdecimal(),num2.isdecimal())\n",
    "\n",
    "division(num1,num2)\n",
    "\n",
    "\n",
    "    "
   ]
  },
  {
   "cell_type": "code",
   "execution_count": 21,
   "metadata": {},
   "outputs": [
    {
     "name": "stdout",
     "output_type": "stream",
     "text": [
      "Enter the 1st side of the angle ? 2\n",
      "Enter the 2nd side of the angle ? 3\n",
      "2 3  is not the value to calculate the hpyotenuse value\n"
     ]
    }
   ],
   "source": [
    "#WAP to get the hyptotenuse of the right angle triangle.\n",
    "#c=sqrt(a^2 + b^2)\n",
    "\n",
    "from math import sqrt , pow\n",
    "\n",
    "height=int(input(\"Enter the height of the angle ? \"))\n",
    "base=int(input(\"Enter the base of the angle ? \"))\n",
    "\n",
    "def get_hypotenuse(a,b):\n",
    "    c=sqrt(pow(a,2) + pow(b,2))\n",
    "    if c.is_integer():\n",
    "        print(\"Third side of the angle is \" , c)\n",
    "    else:\n",
    "        print(a,b , \" is not right angle triangle sides\")\n",
    "get_hypotenuse(a,b)\n",
    "\n",
    "#print(dir(float))\n"
   ]
  },
  {
   "cell_type": "code",
   "execution_count": 31,
   "metadata": {},
   "outputs": [
    {
     "name": "stdout",
     "output_type": "stream",
     "text": [
      "Help on built-in function divmod in module builtins:\n",
      "\n",
      "divmod(x, y, /)\n",
      "    Return the tuple (x//y, x%y).  Invariant: div*y + mod == x.\n",
      "\n",
      "None\n",
      "Enter the value in seconds ? 37659000\n",
      "435 days, 20:50:00\n",
      "435  days :  20  hours :  50  mins :  0  secs \n"
     ]
    }
   ],
   "source": [
    "#WAP to retrun the time from second to D:H:M:S\n",
    "\n",
    "import datetime\n",
    "\n",
    "print(help(divmod))\n",
    "time_in_sec=int(input(\"Enter the value in seconds ? \"))\n",
    "\n",
    "#Option 1 using python function\n",
    "def gettime(time_in_sec):\n",
    "    print(datetime.timedelta(seconds=time_in_sec))\n",
    "\n",
    "gettime(time_in_sec)\n",
    "\n",
    "#Option2 using divmod()\n",
    "\n",
    "def gettime(time_in_sec):\n",
    "    days,hours=divmod(time_in_sec,(24*3600))\n",
    "    hours,mins=divmod(hours,3600)\n",
    "    mins,secs=divmod(mins,60)\n",
    "    print(days,\" days : \",hours,\" hours : \",mins,\" mins : \",secs , \" secs \")\n",
    "\n",
    "gettime(time_in_sec)"
   ]
  },
  {
   "cell_type": "code",
   "execution_count": 51,
   "metadata": {},
   "outputs": [
    {
     "name": "stdout",
     "output_type": "stream",
     "text": [
      "3.8.3\n",
      "CPython\n",
      "Darwin\n",
      "('10.15.5', ('', '', ''), 'x86_64')\n"
     ]
    }
   ],
   "source": [
    "import platform\n",
    "\n",
    "print(platform.python_version())\n",
    "\n",
    "print(platform.python_implementation())\n",
    "\n",
    "print(platform.system())\n",
    "\n",
    "print(platform.mac_ver())"
   ]
  },
  {
   "cell_type": "code",
   "execution_count": 52,
   "metadata": {},
   "outputs": [
    {
     "name": "stdout",
     "output_type": "stream",
     "text": [
      "2 -2\n"
     ]
    }
   ],
   "source": [
    "#Print O/P\n",
    "\n",
    "X=2\n",
    "X*=3\n",
    "X=X%4\n",
    "Y=-X\n",
    "print(X,Y)"
   ]
  }
 ],
 "metadata": {
  "kernelspec": {
   "display_name": "Python 3",
   "language": "python",
   "name": "python3"
  },
  "language_info": {
   "codemirror_mode": {
    "name": "ipython",
    "version": 3
   },
   "file_extension": ".py",
   "mimetype": "text/x-python",
   "name": "python",
   "nbconvert_exporter": "python",
   "pygments_lexer": "ipython3",
   "version": "3.8.3"
  }
 },
 "nbformat": 4,
 "nbformat_minor": 4
}
