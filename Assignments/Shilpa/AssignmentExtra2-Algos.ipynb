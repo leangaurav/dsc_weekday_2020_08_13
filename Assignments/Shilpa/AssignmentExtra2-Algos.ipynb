{
 "cells": [
  {
   "cell_type": "code",
   "execution_count": 16,
   "metadata": {},
   "outputs": [
    {
     "name": "stdout",
     "output_type": "stream",
     "text": [
      "Enter a string : 1,2,3,4,5,6\n",
      "Reverse String ['6', '5', '4', '3', '2', '1']\n"
     ]
    }
   ],
   "source": [
    "#WAF to reverse the list using index.\n",
    "\n",
    "input_str = input(\"Enter a string : \")\n",
    "\n",
    "lst_str=[]\n",
    "lst_str=input_str.split(',')\n",
    "\n",
    "def strreverse(lst_str):\n",
    "    if len(lst_str) > 0:\n",
    "        i=0\n",
    "        while i < len(lst_str)//2:\n",
    "            lst_str[i],lst_str[-(i+1)]=lst_str[-(i+1)],lst_str[i]\n",
    "            i+=1\n",
    "    print(\"Reverse String\",lst_str)\n",
    "\n",
    "strreverse(lst_str)"
   ]
  },
  {
   "cell_type": "code",
   "execution_count": 4,
   "metadata": {},
   "outputs": [
    {
     "name": "stdout",
     "output_type": "stream",
     "text": [
      "Enter a series of number :  \n",
      " Even Count : 0 , Odd Count 0 \n"
     ]
    }
   ],
   "source": [
    "#WAF to print the count of odds and even number from input value.\n",
    "\n",
    "try:\n",
    "    num_lst=input(\"Enter a series of number : \").split()\n",
    "    even_cnt=len(list(filter(lambda x : int(x)%2 == 0,num_lst)))\n",
    "    odd_cnt=len(num_lst)-even_cnt\n",
    "    print(f\" Even Count : {even_cnt} , Odd Count {odd_cnt} \")\n",
    "\n",
    "except ValueError as err:\n",
    "    print(\"Enter only numeric value\")\n"
   ]
  },
  {
   "cell_type": "code",
   "execution_count": 58,
   "metadata": {},
   "outputs": [
    {
     "name": "stdout",
     "output_type": "stream",
     "text": [
      "Enter a series of number :3 2 8 78 6 45\n",
      "Maximum value in the series is :  78\n"
     ]
    }
   ],
   "source": [
    "#WAF to get the maximum out of the number list <<Do not use MAX fun >>\n",
    "\n",
    "try:\n",
    "    max_lst=input(\"Enter a series of number :\").split()\n",
    "    max_num=int(max_lst[0])\n",
    "    \n",
    "    def get_max(num):\n",
    "        global max_num\n",
    "        if int(max_num) < int(num):\n",
    "            max_num=num\n",
    "            \n",
    "    list(map(get_max,max_lst))\n",
    "    print(\"Maximum value in the series is : \", max_num)\n",
    "except Exception as err:\n",
    "    print(\"Error : \", err)"
   ]
  },
  {
   "cell_type": "code",
   "execution_count": 70,
   "metadata": {},
   "outputs": [
    {
     "name": "stdout",
     "output_type": "stream",
     "text": [
      "Enter a series of number :3 4 1 89 34 8\n",
      "Maximum value in the series is :  34\n"
     ]
    }
   ],
   "source": [
    "#WAF to get the second maximum out of the number list <<Do not use MAX fun >>\n",
    "\n",
    "try:\n",
    "    max_lst1=input(\"Enter a series of number :\").split()\n",
    "    \n",
    "    \n",
    "    def get_secondmax(lstnum):\n",
    "        lst=list(map(int,lstnum))\n",
    "        lst.sort()\n",
    "        max_number2=lst[-2]\n",
    "        print(\"Maximum value in the series is : \", max_number2)\n",
    "    \n",
    "    get_secondmax(max_lst1)\n",
    "except Exception as err:\n",
    "    print(\"Error : \", err)"
   ]
  },
  {
   "cell_type": "code",
   "execution_count": 104,
   "metadata": {},
   "outputs": [
    {
     "name": "stdout",
     "output_type": "stream",
     "text": [
      "Enter a series of number :2 3 4\n",
      "Mean of the series is :  3.0\n",
      "Mean of the series is :  3.0\n"
     ]
    }
   ],
   "source": [
    "#WAF to get the mean() value of the series.\n",
    "\n",
    "try:\n",
    "    num_series=input(\"Enter a series of number :\").split()\n",
    "    #Option 1 -- using statstics module\n",
    "    print(\"Mean of the series is : \", statistics.mean(list(map(float,num_series))))\n",
    "    \n",
    "    \n",
    "    #Option 2 - function\n",
    "    meannum=0.0\n",
    "    numlen=len(num_series)\n",
    "    def mean_num(num):\n",
    "        global meannum\n",
    "        meannum=meannum+float(num)/numlen\n",
    "    \n",
    "    list(map(mean_num,num_series))\n",
    "    print(\"Mean of the series is : \", meannum)\n",
    "    \n",
    "    \n",
    "except Exception as err:\n",
    "    print(\"Error\",err)"
   ]
  },
  {
   "cell_type": "code",
   "execution_count": 110,
   "metadata": {},
   "outputs": [
    {
     "name": "stdout",
     "output_type": "stream",
     "text": [
      "Enter a series of number in list form : 34 23 67 34 12 23 43 56 76\n",
      "Start number : 76\n",
      "End number : 10\n",
      "[]\n"
     ]
    }
   ],
   "source": [
    "#WAF to print find_in_range() list, start and end and takes 3 argument\n",
    "\n",
    "try:\n",
    "    nlst=input(\"Enter a series of number in list form : \")\n",
    "    start=int(input(\"Start number : \"))\n",
    "    end=int(input(\"End number : \"))\n",
    "    \n",
    "    def find_in_range(nlst,start,end):\n",
    "        newlst=list(map(int,nlst.split()))\n",
    "        finallst=list(filter(lambda x : start < x < end ,newlst))\n",
    "        print(finallst)\n",
    "    find_in_range(nlst,start,end)\n",
    "except ValueError as err:\n",
    "    print(\"Enter only numeric value\")"
   ]
  }
 ],
 "metadata": {
  "kernelspec": {
   "display_name": "Python 3",
   "language": "python",
   "name": "python3"
  },
  "language_info": {
   "codemirror_mode": {
    "name": "ipython",
    "version": 3
   },
   "file_extension": ".py",
   "mimetype": "text/x-python",
   "name": "python",
   "nbconvert_exporter": "python",
   "pygments_lexer": "ipython3",
   "version": "3.8.3"
  }
 },
 "nbformat": 4,
 "nbformat_minor": 4
}
