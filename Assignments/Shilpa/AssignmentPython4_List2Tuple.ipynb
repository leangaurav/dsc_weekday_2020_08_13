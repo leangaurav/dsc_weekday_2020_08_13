{
 "cells": [
  {
   "cell_type": "code",
   "execution_count": 16,
   "metadata": {},
   "outputs": [
    {
     "name": "stdout",
     "output_type": "stream",
     "text": [
      "Enter a text : shilpa anweeta ansheeka are gals\n",
      "List :  shilpa anweeta ansheeka are gals\n",
      "List 2 Tuple :  (['shilpa', 'anweeta', 'ansheeka', 'are', 'gals'],)\n",
      "List 2 Tuple :  (['shilpa', 'anweeta', 'ansheeka', 'are', 'gals'],)\n"
     ]
    }
   ],
   "source": [
    "#Convert a tuple to list\n",
    "\n",
    "lst_txt=input(\"Enter a text : \")\n",
    "\n",
    "t=tuple([lst_txt.split()])\n",
    "print(\"List : \", lst_txt)\n",
    "print(\"List2Tuple1 : \", t)\n",
    "print(\"List2Tuple2 : \" , (lst_txt.split(),))"
   ]
  },
  {
   "cell_type": "code",
   "execution_count": 19,
   "metadata": {},
   "outputs": [
    {
     "name": "stdout",
     "output_type": "stream",
     "text": [
      "[1, 3, 5, 7, 8, 6, 4, 2]\n"
     ]
    }
   ],
   "source": [
    "#WAP to join list to tuple\n",
    "\n",
    "lst=[1,3,5,7]\n",
    "tup=(8,6,4,2)\n",
    "\n",
    "newlst=lst+list(map(int,tup))\n",
    "\n",
    "print(newlst)"
   ]
  },
  {
   "cell_type": "code",
   "execution_count": 29,
   "metadata": {},
   "outputs": [
    {
     "name": "stdout",
     "output_type": "stream",
     "text": [
      "Reverse list 1 :  ['D', 'C', 'A', 'c', 'd', 'a']\n",
      "Reverse list 2 :  ['D', 'C', 'A', 'c', 'd', 'a']\n",
      "Help on method_descriptor:\n",
      "\n",
      "reverse(self, /)\n",
      "    Reverse *IN PLACE*.\n",
      "\n",
      "None\n"
     ]
    }
   ],
   "source": [
    "#Print the list in reverse order\n",
    "\n",
    "lst1=['a','d','c','A','C','D']\n",
    "\n",
    "print(\"Reverse list 1 : \" , lst1[::-1])\n",
    "lst1.reverse()\n",
    "print(\"Reverse list 2 : \", lst1)"
   ]
  },
  {
   "cell_type": "code",
   "execution_count": 39,
   "metadata": {},
   "outputs": [
    {
     "name": "stdout",
     "output_type": "stream",
     "text": [
      "Odd list :  [10, 20, 30, 40]\n"
     ]
    }
   ],
   "source": [
    "#Print element from Odd indexes without using for loop\n",
    "\n",
    "lst2=[10,11,20,21,30,31,40,41]\n",
    "\n",
    "print(\"Odd list : \",lst2[::2])"
   ]
  },
  {
   "cell_type": "code",
   "execution_count": 50,
   "metadata": {},
   "outputs": [
    {
     "name": "stdout",
     "output_type": "stream",
     "text": [
      "[10, 11, 20, 21]\n",
      "[10, 11, 20, 21, 10, 11, 20, 21]\n",
      "[10, 11, 20, 21, 10, 11, 20, 21]\n"
     ]
    }
   ],
   "source": [
    "# Multiple way to copy the list\n",
    "\n",
    "lst2=[10,11,20,21]\n",
    "lst3=[]\n",
    "\n",
    "#Option1\n",
    "lst3=lst2\n",
    "print(lst3)\n",
    "\n",
    "#Option2\n",
    "lst3.extend(lst2)\n",
    "print(lst3)\n",
    "\n",
    "#Option3\n",
    "lst3= [item for item in lst2]\n",
    "\n",
    "print(lst3)"
   ]
  },
  {
   "cell_type": "code",
   "execution_count": 55,
   "metadata": {},
   "outputs": [
    {
     "name": "stdout",
     "output_type": "stream",
     "text": [
      "a\n",
      "4\n",
      "[1, 4, 6, 8]\n",
      "[1, 5, 9, 3, 1]\n",
      "[1, 3, 5, [9, 11]]\n",
      "[1, 3, 5, [9, 11], 13, 15]\n",
      "<class 'tuple'>\n",
      "<class 'int'>\n",
      "<class 'tuple'>\n",
      "<class 'int'>\n"
     ]
    }
   ],
   "source": [
    "# Print the O/P\n",
    "\n",
    "n_list=[\"Happy\",[3,1,2,4]]\n",
    "\n",
    "print(n_list[0][1])\n",
    "print(n_list[1][3])\n",
    "\n",
    "odd=[2,4,6,8]\n",
    "odd[0]=1\n",
    "print(odd)\n",
    "odd[1:4]=[5,9,3,1]\n",
    "print(odd)\n",
    "\n",
    "\n",
    "odd=[1,3,5]\n",
    "odd.append([9,11])\n",
    "print(odd)\n",
    "odd.extend([13,15])\n",
    "print(odd)\n",
    "\n",
    "\n",
    "x=1,2,3\n",
    "print(type(x))\n",
    "x=(1)\n",
    "print(type(x))\n",
    "x=1,\n",
    "print(type(x))\n",
    "x=1\n",
    "print(type(x))"
   ]
  },
  {
   "cell_type": "code",
   "execution_count": 91,
   "metadata": {},
   "outputs": [
    {
     "name": "stdout",
     "output_type": "stream",
     "text": [
      "1 2 3 \n",
      "\n",
      "4 5 6 \n",
      "\n",
      "7 8 9 \n",
      "\n",
      "[['1', '2', '3'], ['4', '5', '6'], ['7', '8', '9']]\n",
      "1 2 3\n",
      "4 5 6\n",
      "7 8 9\n"
     ]
    }
   ],
   "source": [
    "#Print the matrix\n",
    "\n",
    "lst=[]\n",
    "num=0\n",
    "num1=0\n",
    "for i in (0,1,2):\n",
    "    for j in (0,1,2):\n",
    "        num=num+1\n",
    "        print(str(num),end=\" \")\n",
    "    print(\"\\n\")\n",
    "\n",
    "\n",
    "#option 2 using list\n",
    "\n",
    "lst = [[],[],[]]\n",
    "\n",
    "num=0\n",
    "for x in range(0,3):\n",
    "    for y in range(0,3):\n",
    "        num=num+1\n",
    "        lst[x].append(str(num))\n",
    "    \n",
    "print(lst)\n",
    "\n",
    "for i in range(3):\n",
    "    print(\" \".join(lst[i]))"
   ]
  },
  {
   "cell_type": "code",
   "execution_count": 96,
   "metadata": {},
   "outputs": [
    {
     "name": "stdout",
     "output_type": "stream",
     "text": [
      "('s', 't', 'r', 'i', 'n', 'g')\n",
      "('g', 'n', 'i', 'r', 't', 's')\n",
      "('s', 'r', 'n')\n",
      "('g', 'i', 't')\n",
      "('s', 'n')\n",
      "True\n",
      "False\n",
      "1\n",
      "3\n"
     ]
    }
   ],
   "source": [
    "# Predict the output\n",
    "\n",
    "t=tuple('string')\n",
    "print(t)\n",
    "print(t[::-1])\n",
    "print(t[::2])\n",
    "print(t[::-2])\n",
    "print(t[::2][::-2][::-1])\n",
    "\n",
    "\n",
    "t=(10,20,30,40,50,60)\n",
    "\n",
    "print(60 in t)\n",
    "print('60' in t)\n",
    "print(t.count(10))\n",
    "print(t.index(40))"
   ]
  },
  {
   "cell_type": "code",
   "execution_count": 98,
   "metadata": {},
   "outputs": [
    {
     "name": "stdout",
     "output_type": "stream",
     "text": [
      "Enter a string : madam\n",
      "Text is a pallindrome\n"
     ]
    }
   ],
   "source": [
    "#WAP to print a string is pallindrome or not\n",
    "\n",
    "text=input(\"Enter a string : \")\n",
    "\n",
    "if text==text[::-1]:\n",
    "    print(\"Text is a pallindrome\")\n",
    "else:\n",
    "    print(\"Text is not a pallindrome\")"
   ]
  },
  {
   "cell_type": "code",
   "execution_count": 107,
   "metadata": {},
   "outputs": [
    {
     "name": "stdout",
     "output_type": "stream",
     "text": [
      "final Value :  ('5', '10', '15', '20')\n"
     ]
    }
   ],
   "source": [
    "#WAP to print the range of 5 to 20 in tuple\n",
    "\n",
    "lst=[]\n",
    "for i in range(5,25,5):\n",
    "    lst.extend([str(i)])\n",
    "\n",
    "print(\"final Value : \", tuple(lst))\n",
    "\n"
   ]
  },
  {
   "cell_type": "code",
   "execution_count": 109,
   "metadata": {},
   "outputs": [
    {
     "name": "stdout",
     "output_type": "stream",
     "text": [
      "Enter a text : shilpa\n",
      "['s', 'h', 'i', 'l', 'p', 'a']\n"
     ]
    }
   ],
   "source": [
    "#WAP to print the string into list of char\n",
    "\n",
    "lst=list(input(\"Enter a text : \"))\n",
    "\n",
    "print(lst)"
   ]
  },
  {
   "cell_type": "code",
   "execution_count": 110,
   "metadata": {},
   "outputs": [
    {
     "name": "stdout",
     "output_type": "stream",
     "text": [
      "<class 'list'>\n",
      "<class 'NoneType'>\n",
      "<class 'str'>\n",
      "<class 'bool'>\n"
     ]
    }
   ],
   "source": [
    "#Print the O/P\n",
    "\n",
    "print(type('1 2'.split()))\n",
    "print(type([1,3,2].sort()))\n",
    "print(type('abc'.upper()))\n",
    "print(type(1 in [1,2]))"
   ]
  }
 ],
 "metadata": {
  "kernelspec": {
   "display_name": "Python 3",
   "language": "python",
   "name": "python3"
  },
  "language_info": {
   "codemirror_mode": {
    "name": "ipython",
    "version": 3
   },
   "file_extension": ".py",
   "mimetype": "text/x-python",
   "name": "python",
   "nbconvert_exporter": "python",
   "pygments_lexer": "ipython3",
   "version": "3.8.3"
  }
 },
 "nbformat": 4,
 "nbformat_minor": 4
}
