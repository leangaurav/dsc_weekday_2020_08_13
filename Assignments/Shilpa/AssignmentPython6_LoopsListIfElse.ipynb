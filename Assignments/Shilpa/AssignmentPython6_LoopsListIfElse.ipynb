{
 "cells": [
  {
   "cell_type": "code",
   "execution_count": 1,
   "metadata": {},
   "outputs": [
    {
     "name": "stdout",
     "output_type": "stream",
     "text": [
      "Enter a series of text : This is code for loop\n",
      "The below string converted into char : \n",
      "T\n",
      "h\n",
      "i\n",
      "s\n",
      " \n",
      "i\n",
      "s\n",
      " \n",
      "c\n",
      "o\n",
      "d\n",
      "e\n",
      " \n",
      "f\n",
      "o\n",
      "r\n",
      " \n",
      "l\n",
      "o\n",
      "o\n",
      "p\n"
     ]
    }
   ],
   "source": [
    "#WAP a to enter a string and print a individual char.\n",
    "\n",
    "try:\n",
    "\n",
    "    text=input(\"Enter a series of text : \")\n",
    "    \n",
    "    print(\"The below string converted into char : \")\n",
    "    for c in text:\n",
    "        print(c)\n",
    "        \n",
    "except Exception as err:\n",
    "    print(\"Error Occured : \", err)"
   ]
  },
  {
   "cell_type": "code",
   "execution_count": 3,
   "metadata": {},
   "outputs": [
    {
     "name": "stdout",
     "output_type": "stream",
     "text": [
      "Enter a text : ascii of the text\n",
      "Ascii of the below text : \n",
      "a : 97\n",
      "s : 115\n",
      "c : 99\n",
      "i : 105\n",
      "i : 105\n",
      "  : 32\n",
      "o : 111\n",
      "f : 102\n",
      "  : 32\n",
      "t : 116\n",
      "h : 104\n",
      "e : 101\n",
      "  : 32\n",
      "t : 116\n",
      "e : 101\n",
      "x : 120\n",
      "t : 116\n"
     ]
    }
   ],
   "source": [
    "#WAP to print the ascii of each charachter.\n",
    "\n",
    "try:\n",
    "    \n",
    "    text = input(\"Enter a text : \")\n",
    "    \n",
    "    print(\"Ascii of the below text : \")\n",
    "    for c in text:\n",
    "        print(c, \":\" , ord(c))\n",
    "    \n",
    "except Exception as err:\n",
    "    print(\"Error Occured : \", err)"
   ]
  },
  {
   "cell_type": "code",
   "execution_count": 10,
   "metadata": {},
   "outputs": [
    {
     "name": "stdout",
     "output_type": "stream",
     "text": [
      "Enter a number : 1 2 3 4 5 6 7\n",
      "1\n",
      "3\n",
      "5\n",
      "7\n",
      "Sum of the Odd number :  16\n"
     ]
    }
   ],
   "source": [
    "#WAP to take the number form users and print the sum of odd number only.\n",
    "\n",
    "try:\n",
    "    num=input(\"Enter a number : \")\n",
    "    \n",
    "    sumofodd=0\n",
    "    for n in list(num.split())[0::2]:\n",
    "        sumofodd=sumofodd+int(n)\n",
    "    \n",
    "    print(\"Sum of the Odd number : \" , str(sumofodd))\n",
    "    \n",
    "except Exception as err:\n",
    "    print(\"Error Occured : \", err)"
   ]
  },
  {
   "cell_type": "code",
   "execution_count": 10,
   "metadata": {},
   "outputs": [
    {
     "name": "stdout",
     "output_type": "stream",
     "text": [
      "Enter a number : 1 2 3\n",
      "Number List :  ['1', '2', '3']\n",
      "Number tuple :  (1, 2, 3)\n",
      "Enter a number to check in tuple : 5\n",
      "5  is unavailable in tuple\n"
     ]
    }
   ],
   "source": [
    "#WAP to enter a number in list format and convert into tuple, enter a number and find the index in the tuple\n",
    "\n",
    "try:\n",
    "    \n",
    "    num=input(\"Enter a number : \")\n",
    "\n",
    "    if len(num) >0 :\n",
    "        lstnum=num.split()\n",
    "        print(\"Number List : \",lstnum)\n",
    "\n",
    "    tpnum= tuple(map(int,lstnum))\n",
    "    print(\"Number tuple : \",tpnum)\n",
    "\n",
    "    chknum=int(input(\"Enter a number to check in tuple : \"))\n",
    "\n",
    "    print(tpnum.index(chknum))\n",
    "    if tpnum.index(chknum) > 0:\n",
    "        print(chknum,\" exist in a tuple \")\n",
    "\n",
    "\n",
    "except ValueError as verr:\n",
    "    print(chknum,\" is unavailable in tuple\")\n",
    "except Exception as err:\n",
    "    print(\"Error Occurred : \" , err.args)"
   ]
  },
  {
   "cell_type": "code",
   "execution_count": 17,
   "metadata": {},
   "outputs": [
    {
     "name": "stdout",
     "output_type": "stream",
     "text": [
      "Number list is :  [11, 2, 32, 49, 34, 29, 24, 25, 10, 28]\n",
      "Sum of the random number is :  244\n",
      "Average of the random number is :  24.4\n",
      "List of number on even indexes are :  [2, 49, 29, 25, 28]\n"
     ]
    }
   ],
   "source": [
    "#WAP to print 10 random number and then print sum , average and print the number at even index\n",
    "\n",
    "import random\n",
    "\n",
    "numlst=random.sample(range(1,50),10)\n",
    "print(\"Number list is : \", numlst)\n",
    "\n",
    "sumofnum=0\n",
    "avgofnum=0\n",
    "for num in numlst:\n",
    "    sumofnum=sumofnum + num\n",
    "avgofnum = sumofnum/10\n",
    "\n",
    "print(\"Sum of the random number is : \", sumofnum)\n",
    "\n",
    "print (\"Average of the random number is : \", avgofnum)\n",
    "\n",
    "print(\"List of number on even indexes are : \", numlst[1::2])\n",
    "    \n",
    "#print(help(random))"
   ]
  },
  {
   "cell_type": "code",
   "execution_count": 31,
   "metadata": {},
   "outputs": [
    {
     "name": "stdout",
     "output_type": "stream",
     "text": [
      "Enter a number1 : 1\n",
      "Enter a number2 : 2\n",
      "Enter a number3 : 3\n",
      "Enter a number4 : 4\n",
      "Enter a number5 : 5\n",
      "Enter a number6 : 6\n",
      "Enter a number7 : 7\n",
      "Enter a number8 : 8\n",
      "Enter a number9 : 9\n",
      "Enter a number10 : 10\n",
      "List of number is :  [1, 2, 3, 4, 5, 6, 7, 8, 9, 10]\n",
      "Sum of all numbers is :  55\n"
     ]
    }
   ],
   "source": [
    "### WAP to take the input of 10 numbers using loop and store in the list and print the sum\n",
    "\n",
    "try:\n",
    "    n=1\n",
    "    lstnum.clear()\n",
    "    while n <=10:\n",
    "        lstnum.append(int(input(f\"Enter a number{n} : \")))\n",
    "        n+=1\n",
    "        \n",
    "    print(\"List of number is : \", lstnum)\n",
    "    \n",
    "    sumofnum=0\n",
    "    for num in lstnum:\n",
    "        sumofnum=sumofnum + num\n",
    "\n",
    "    print(\"Sum of all numbers is : \", sumofnum)\n",
    "except Excdeption as err:\n",
    "    print(err)"
   ]
  },
  {
   "cell_type": "code",
   "execution_count": 33,
   "metadata": {},
   "outputs": [
    {
     "name": "stdout",
     "output_type": "stream",
     "text": [
      "Enter a number to print the table : 2\n",
      "2 X 1 = 2\n",
      "2 X 2 = 4\n",
      "2 X 3 = 6\n",
      "2 X 4 = 8\n",
      "2 X 5 = 10\n",
      "2 X 6 = 12\n",
      "2 X 7 = 14\n",
      "2 X 8 = 16\n",
      "2 X 9 = 18\n",
      "2 X 10 = 20\n"
     ]
    }
   ],
   "source": [
    "#WAP to input a number and print the table\n",
    "\n",
    "num=int(input(\"Enter a number to print the table : \"))\n",
    "\n",
    "for n in range(1,11):\n",
    "    print(f\"{num} X {n} = {num*n}\")"
   ]
  },
  {
   "cell_type": "code",
   "execution_count": 35,
   "metadata": {},
   "outputs": [
    {
     "name": "stdout",
     "output_type": "stream",
     "text": [
      "Enter a text with spaces : type   as  many   spaces  as you  want\n",
      "No of spaces are :  13\n"
     ]
    }
   ],
   "source": [
    "#WAP using for loop to print the no of spaces in a string\n",
    "\n",
    "text=input(\"Enter a text with spaces : \")\n",
    "\n",
    "countspace=0\n",
    "for s in text:\n",
    "    if not s.isalpha() and not s.isdigit():\n",
    "        countspace=countspace+1\n",
    "        \n",
    "print(\"No of spaces are : \", countspace)"
   ]
  },
  {
   "cell_type": "code",
   "execution_count": 39,
   "metadata": {},
   "outputs": [
    {
     "name": "stdout",
     "output_type": "stream",
     "text": [
      "Enter a text to count the vowels : countvowels\n",
      "No of vowels in a  countvowels  are : 4\n"
     ]
    }
   ],
   "source": [
    "#WAP to print the count of vowels for uppercase and lowercase in string\n",
    "\n",
    "text=input(\"Enter a text to count the vowels : \")\n",
    "\n",
    "countvowels=0\n",
    "\n",
    "for c in text:\n",
    "    if c.isalpha() and c in 'aeiou':\n",
    "        countvowels=countvowels+1\n",
    "print(\"No of vowels in a \",text, \" are :\",countvowels)\n"
   ]
  },
  {
   "cell_type": "code",
   "execution_count": 52,
   "metadata": {},
   "outputs": [
    {
     "name": "stdout",
     "output_type": "stream",
     "text": [
      "Enter a text to replace the vowels : Enter a text to replace the vowels\n",
      "List of string :  ['_nt_r', '_', 't_xt', 't_', 'r_pl_c_', 'th_', 'v_w_ls']\n",
      "New string is :  _nt_r _ t_xt t_ r_pl_c_ th_ v_w_ls\n"
     ]
    }
   ],
   "source": [
    "#WAP to replace the vowel in string with '_'\n",
    "\n",
    "text=input(\"Enter a text to replace the vowels : \")\n",
    "\n",
    "countvowels=0\n",
    "lsttext=text.split()\n",
    "i=0\n",
    "for w in lsttext:\n",
    "    for c in w:\n",
    "        #print(c.lower())\n",
    "        if c.isalpha() and c in 'aeiouAEIOU':\n",
    "            lsttext[i] = lsttext[i].replace(c,\"_\")\n",
    "        #print(w.replace(c,\"_\"))\n",
    "    i+=1\n",
    "\n",
    "print(\"List of string : \", lsttext)\n",
    "\n",
    "print(\"New string is : \", \" \".join(lsttext))\n"
   ]
  },
  {
   "cell_type": "code",
   "execution_count": 1,
   "metadata": {},
   "outputs": [
    {
     "name": "stdout",
     "output_type": "stream",
     "text": [
      "O/P 1\n",
      "num :  0\n",
      "Loops End\n",
      "\n",
      "O/P 2\n",
      "num :  0\n",
      "num :  1\n",
      "num :  2\n",
      "num :  3\n",
      "num :  4\n",
      "num :  5\n",
      "num :  6\n",
      "num :  7\n",
      "num :  8\n",
      "num :  9\n",
      "Loops End\n"
     ]
    }
   ],
   "source": [
    "#Print the O/P\n",
    "\n",
    "print(\"O/P 1\")\n",
    "for num in range(10):\n",
    "    print(\"num : \",num)\n",
    "    if num%4 ==0:\n",
    "        break\n",
    "print(\"Loops End\")\n",
    "\n",
    "print()\n",
    "print(\"O/P 2\")\n",
    "import sys\n",
    "for num in range(10):\n",
    "    print(\"num : \",num)\n",
    "    if num%4 ==0:\n",
    "        exit()\n",
    "print(\"Loops End\")"
   ]
  },
  {
   "cell_type": "code",
   "execution_count": 5,
   "metadata": {},
   "outputs": [
    {
     "name": "stdout",
     "output_type": "stream",
     "text": [
      "\n",
      "O/P 1\n",
      "*****\n",
      "*****\n",
      "*****\n",
      "*****\n",
      "*****\n",
      "\n",
      "O/P 2\n",
      "1\n",
      "22\n",
      "333\n",
      "4444\n",
      "55555\n",
      "\n",
      "O/P 3\n",
      "1\n",
      "22\n",
      "333\n",
      "4444\n",
      "55555\n",
      "\n",
      "O/P 4\n",
      "**\n",
      "***\n",
      "****\n",
      "*****\n",
      "******\n"
     ]
    }
   ],
   "source": [
    "#Print the O/P\n",
    "\n",
    "print()\n",
    "print(\"O/P 1\")\n",
    "for i1 in range(1,6):\n",
    "    for i2 in range(5):\n",
    "        print('*', end='')\n",
    "    print()\n",
    "    \n",
    "print()\n",
    "print(\"O/P 2\")\n",
    "\n",
    "for i1 in range(1,6):\n",
    "    print(str(i1)*i1)\n",
    "    \n",
    "print()\n",
    "print(\"O/P 3\")\n",
    "\n",
    "for i1 in range(1,6):\n",
    "    for i2 in range(i1):\n",
    "        print(i1,end='')\n",
    "    print()\n",
    "    \n",
    "print()\n",
    "print(\"O/P 4\")  \n",
    "\n",
    "for i1 in range(1,6):\n",
    "    for i2 in range(i1+1):\n",
    "        print('*',end='')\n",
    "    print()"
   ]
  }
 ],
 "metadata": {
  "kernelspec": {
   "display_name": "Python 3",
   "language": "python",
   "name": "python3"
  },
  "language_info": {
   "codemirror_mode": {
    "name": "ipython",
    "version": 3
   },
   "file_extension": ".py",
   "mimetype": "text/x-python",
   "name": "python",
   "nbconvert_exporter": "python",
   "pygments_lexer": "ipython3",
   "version": "3.8.3"
  }
 },
 "nbformat": 4,
 "nbformat_minor": 4
}
