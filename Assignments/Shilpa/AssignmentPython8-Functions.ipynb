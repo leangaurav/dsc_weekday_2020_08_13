{
 "cells": [
  {
   "cell_type": "code",
   "execution_count": 87,
   "metadata": {},
   "outputs": [
    {
     "name": "stdout",
     "output_type": "stream",
     "text": [
      "Enter a number : 4\n",
      "Square of 4 : 16\n",
      "Inverse of 4 :  0.25\n",
      "Negative of 4 :  -4\n"
     ]
    }
   ],
   "source": [
    "#WAP to do below using lambda expression\n",
    "#Square of number\n",
    "#Inverse of number\n",
    "#negate a number\n",
    "import traceback\n",
    "try:\n",
    "    num=int(input(\"Enter a number : \"))\n",
    "    s=lambda num :  num*num\n",
    "    i=lambda num :  1/num\n",
    "    n=lambda num :  -num\n",
    "    print(f\"Square of {num} :\",s(num) )\n",
    "    print(f\"Inverse of {num} : \", i(num))\n",
    "    print(f\"Negative of {num} : \", n(num))\n",
    "    \n",
    "except Exception as err:\n",
    "    print(\"Error has occurred\" , err)\n",
    "    print(traceback.format_exc())"
   ]
  },
  {
   "cell_type": "code",
   "execution_count": 27,
   "metadata": {},
   "outputs": [
    {
     "name": "stdout",
     "output_type": "stream",
     "text": [
      "Enter a series of number : 9 2 6 12\n",
      "['9', '2', '6', '12']\n",
      "Maximum number is :  12\n"
     ]
    }
   ],
   "source": [
    "#WAP to use lambda and reduce function to get max number in list\n",
    "\n",
    "import functools\n",
    "lst_num=input(\"Enter a series of number : \").split()\n",
    "    \n",
    "print(\"Maximum number is : \", functools.reduce(lambda x,y : int(x) if int(x) > int(y) else int(y),lst_num))\n",
    "    \n",
    "    "
   ]
  },
  {
   "cell_type": "code",
   "execution_count": 22,
   "metadata": {},
   "outputs": [
    {
     "name": "stdout",
     "output_type": "stream",
     "text": [
      "O/P using list option ->  \n",
      " [[1, 9, 25, 49, 81], [1.0, 0.3333333333333333, 0.2, 0.14285714285714285, 0.1111111111111111], [3, 7, 11, 15, 19]]\n",
      "\n",
      "O/P using dictionary option ->  \n",
      " {'square': [1, 9, 25, 49, 81], 'inverse': [1.0, 0.3333333333333333, 0.2, 0.14285714285714285, 0.1111111111111111], 'sum': [3, 7, 11, 15, 19]}\n"
     ]
    }
   ],
   "source": [
    "#WAP to write a function that takes first list of functions and second argument as sequence\n",
    "# tried using list and dictionary both option\n",
    "\n",
    "newlst=[]\n",
    "newdict={}\n",
    "\n",
    "lstnum1=[1,3,5,7,9]\n",
    "lstnum2=[2,4,6,8,10]\n",
    "def get_square(x):\n",
    "    return x*x\n",
    "\n",
    "def get_inverse(x):\n",
    "    return 1/x\n",
    "\n",
    "def get_sum(x,y):\n",
    "    return x+y\n",
    "\n",
    "lstfun1=[get_square,get_inverse,get_sum]\n",
    "\n",
    "def map_multiple(lstfun,lstnum):\n",
    "    for fun in lstfun:\n",
    "            if fun != get_sum:\n",
    "                newlst.append(list(map(fun,lstnum1)))\n",
    "                if fun == get_square:\n",
    "                    newdict['square']= list(map(fun,lstnum1))\n",
    "                else:\n",
    "                     newdict['inverse']= list(map(fun,lstnum1))\n",
    "            else:\n",
    "                newlst.append(list(map(fun,lstnum1,lstnum2)))\n",
    "                newdict['sum']= list(map(fun,lstnum1,lstnum2))\n",
    "\n",
    "map_multiple(lstfun1,lstnum1)\n",
    "\n",
    "print(\"O/P using list option -> \" , \"\\n\", newlst , end=\"\\n\\n\")\n",
    "print(\"O/P using dictionary option -> \" , \"\\n\", newdict)"
   ]
  },
  {
   "cell_type": "code",
   "execution_count": 29,
   "metadata": {},
   "outputs": [
    {
     "name": "stdout",
     "output_type": "stream",
     "text": [
      "num 50\n"
     ]
    }
   ],
   "source": [
    "from functools import reduce\n",
    "\n",
    "l=[10,30,50,30,10]\n",
    "f=lambda x,y : int(x) if int(x) > int(y) else int(y)\n",
    "num=functools.reduce(f,l)\n",
    "print(\"num\", num)\n",
    "  "
   ]
  },
  {
   "cell_type": "code",
   "execution_count": 86,
   "metadata": {},
   "outputs": [
    {
     "name": "stdout",
     "output_type": "stream",
     "text": [
      "[1.0, 0.25, 0.0625, 0.015625]\n"
     ]
    }
   ],
   "source": [
    "#Print the o/p\n",
    "functs = [lambda x : x**0.5,lambda x : 1/x]\n",
    "l=[1,4,16,64]\n",
    "ans=[]\n",
    "for num in l:\n",
    "    res=num\n",
    "    for funct in functs:\n",
    "        res=funct(num)\n",
    "    ans.append(res)\n",
    "print(ans)"
   ]
  },
  {
   "cell_type": "code",
   "execution_count": 89,
   "metadata": {},
   "outputs": [
    {
     "name": "stdout",
     "output_type": "stream",
     "text": [
      "Enter a alpha numeric valuepython exam on 5\n",
      "['python', 'exam', 'on', '5']\n",
      "['5']\n"
     ]
    }
   ],
   "source": [
    "#WAP to take the list of numbers and string and reduce the list to print digit - hint : isinstance\n",
    "\n",
    "lst=input(\"Enter a alpha numeric value\").split()\n",
    "\n",
    "\n",
    "d= lambda x:(True if x.isdigit() else False) if isinstance(x,str) else False\n",
    "    \n",
    "print(lst)\n",
    "print(list(filter(d,lst)))\n"
   ]
  },
  {
   "cell_type": "code",
   "execution_count": 77,
   "metadata": {},
   "outputs": [
    {
     "name": "stdout",
     "output_type": "stream",
     "text": [
      "['4.83', '4.88', '0.25']\n"
     ]
    }
   ],
   "source": [
    "#WAP to conver height from feet to meter\n",
    "\n",
    "lst=[\"15ft10in\",\"16ft\",\"10in\"]\n",
    "\n",
    "def get_height(x):\n",
    "    h=get_ft(x)\n",
    "    i=get_in(x)\n",
    "    m=int(h)*0.3048 + int(i)*0.0254\n",
    "    return \"{:.2f}\".format(m)\n",
    "        \n",
    "def get_ft(x):\n",
    "    if x.find(\"ft\") > 0:\n",
    "        return x[0:x.find(\"ft\")]\n",
    "    else:\n",
    "        return \"0\"\n",
    "\n",
    "def get_in(x):\n",
    "    if x.find(\"in\") > 0:\n",
    "        return x[x.find(\"t\")+1:x.find(\"in\")]\n",
    "    else:\n",
    "        return \"0\"\n",
    "\n",
    "lst_meter=list(map(get_height,lst))    \n",
    "\n",
    "print(lst_meter)"
   ]
  },
  {
   "cell_type": "code",
   "execution_count": 85,
   "metadata": {},
   "outputs": [
    {
     "name": "stdout",
     "output_type": "stream",
     "text": [
      "Enter a series of number : 1 2 b\n",
      "New list of integer is :  [1, 2, 'b']\n"
     ]
    }
   ],
   "source": [
    "#WAP to implement the map function as my_map\n",
    "\n",
    "numlst = input(\"Enter a series of number : \").split()\n",
    "\n",
    "newlst=[]\n",
    "\n",
    "def my_map(myint , lst):\n",
    "    for itm in lst:\n",
    "        newlst.append(myint(itm))\n",
    "    return newlst  \n",
    "\n",
    "def myint(x):\n",
    "    if x.isdigit():\n",
    "        return int(x)\n",
    "    else:\n",
    "        return x\n",
    "\n",
    "print(\"New list of integer is : \", list(my_map(myint,numlst)))\n",
    "\n"
   ]
  }
 ],
 "metadata": {
  "kernelspec": {
   "display_name": "Python 3",
   "language": "python",
   "name": "python3"
  },
  "language_info": {
   "codemirror_mode": {
    "name": "ipython",
    "version": 3
   },
   "file_extension": ".py",
   "mimetype": "text/x-python",
   "name": "python",
   "nbconvert_exporter": "python",
   "pygments_lexer": "ipython3",
   "version": "3.8.3"
  }
 },
 "nbformat": 4,
 "nbformat_minor": 4
}
