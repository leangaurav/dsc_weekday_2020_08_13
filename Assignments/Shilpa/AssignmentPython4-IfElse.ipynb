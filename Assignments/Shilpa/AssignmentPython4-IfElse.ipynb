{
 "cells": [
  {
   "cell_type": "code",
   "execution_count": 2,
   "metadata": {},
   "outputs": [
    {
     "name": "stdout",
     "output_type": "stream",
     "text": [
      "Enter the first number : 4\n",
      "Enter the second number : 2\n",
      "4  is divisible by  2\n"
     ]
    }
   ],
   "source": [
    "#WAP to print if the first number is divisible by second number\n",
    "\n",
    "num1=int(input(\"Enter the first number : \"))\n",
    "num2=int(input(\"Enter the second number : \"))\n",
    "\n",
    "if num1 % num2 == 0 :\n",
    "    print(num1 , \" is divisible by \", num2)\n",
    "else:\n",
    "    print (num1 , \" is not divisible by \", num2)\n",
    "    "
   ]
  },
  {
   "cell_type": "code",
   "execution_count": 6,
   "metadata": {},
   "outputs": [
    {
     "name": "stdout",
     "output_type": "stream",
     "text": [
      "Enter the text : abcdefg\n",
      "Not a palindrome value\n"
     ]
    }
   ],
   "source": [
    "#WAP to print palindrome \n",
    "\n",
    "text=input(\"Enter the text : \")\n",
    "\n",
    "if text.lower() == text[::-1].lower():\n",
    "    print(\"Text is palindrome\")\n",
    "else:\n",
    "    print (\"Not a palindrome value\")"
   ]
  },
  {
   "cell_type": "code",
   "execution_count": 13,
   "metadata": {},
   "outputs": [
    {
     "name": "stdout",
     "output_type": "stream",
     "text": [
      "Enter the 1st side : 4\n",
      "Enter the 2nd side : 5\n",
      "Enter the 3rd side : 4\n",
      "Isoceles Triangle\n"
     ]
    }
   ],
   "source": [
    "#WAP to print the type of the triganle based upon the sides\n",
    "\n",
    "side1=input(\"Enter the 1st side : \")\n",
    "side2=input(\"Enter the 2nd side : \")\n",
    "side3=input(\"Enter the 3rd side : \")\n",
    "\n",
    "if side1 != side2 and side1 != side3 and side2 != side3 :\n",
    "    print (\"Scalene Triangle\")\n",
    "elif side1 == side2 == side3 :\n",
    "    print (\"Equilateral Triangle\")\n",
    "else:\n",
    "    print (\"Isoceles Triangle\")"
   ]
  },
  {
   "cell_type": "code",
   "execution_count": 15,
   "metadata": {},
   "outputs": [
    {
     "name": "stdout",
     "output_type": "stream",
     "text": [
      "Enter a number : 10\n",
      "Even number\n"
     ]
    }
   ],
   "source": [
    "#WAP to print even or odd number\n",
    "\n",
    "num1=int(input(\"Enter a number : \"))\n",
    "\n",
    "if num1%2 == 0 :\n",
    "    print (\"Even number\")\n",
    "else:\n",
    "    print (\"Odd number\")"
   ]
  },
  {
   "cell_type": "code",
   "execution_count": 19,
   "metadata": {},
   "outputs": [
    {
     "name": "stdout",
     "output_type": "stream",
     "text": [
      "Enter a age : 234\n",
      "Congratulation !!! \n"
     ]
    }
   ],
   "source": [
    "# WAP to print the category based upon the age\n",
    "\n",
    "age=float(input(\"Enter a age : \"))\n",
    "\n",
    "def get_category(age):\n",
    "    if  0 <= age <= 12:\n",
    "        print (\"Category : Child\")\n",
    "    elif 13 <= age <= 17:\n",
    "        print (\"Category : Teen\")\n",
    "    elif 18 <= age <= 50 :\n",
    "        print (\"Category : Adult\")\n",
    "    elif 51 <= age <= 100:\n",
    "        print (\"Category : Senior Citizen\")\n",
    "    else:\n",
    "        print (\"Congratulation !!! \")\n",
    "\n",
    "get_category(age)"
   ]
  },
  {
   "cell_type": "code",
   "execution_count": 40,
   "metadata": {},
   "outputs": [
    {
     "name": "stdout",
     "output_type": "stream",
     "text": [
      "Enter a year in 4 digit : -2020\n",
      "Enter a year in 4 digit\n"
     ]
    }
   ],
   "source": [
    "#WAP to input a year and check if it is a leap year or not\n",
    "\n",
    "import re\n",
    "\n",
    "text=input(\"Enter a year in 4 digit : \")\n",
    "\n",
    "#yr=re.compile(r'[0-9][0-9][0-9][0-9]')\n",
    "yr=re.compile(r'[0-9]{4}')\n",
    "year=yr.match(text)\n",
    "\n",
    "#print (int(text)%400)\n",
    "#print (type(year))\n",
    "if year != None:\n",
    "    if int(text)%4 == 0:\n",
    "        print (text, \" is a leap year\")\n",
    "    else:\n",
    "        print (text , \" is not a leap year\")\n",
    "else:\n",
    "    print(\"Enter a year in 4 digit\")"
   ]
  },
  {
   "cell_type": "code",
   "execution_count": 45,
   "metadata": {},
   "outputs": [
    {
     "name": "stdout",
     "output_type": "stream",
     "text": [
      "Enter a text : ABCDE\n",
      "Lower Case :  abcde\n"
     ]
    }
   ],
   "source": [
    "#WAP to input a text to print the lower and upper case based upon the length\n",
    "\n",
    "text=input(\"Enter a text : \")\n",
    "\n",
    "if len(text)%2 == 0:\n",
    "    print (\"Upper Case : \" , text.upper())\n",
    "else:\n",
    "    print(\"Lower Case : \", text.lower())"
   ]
  },
  {
   "cell_type": "code",
   "execution_count": 91,
   "metadata": {},
   "outputs": [
    {
     "name": "stdout",
     "output_type": "stream",
     "text": [
      "Enter a food name ONLY in alphabets : SFDFDFEGG\n",
      "Food is Veg\n"
     ]
    }
   ],
   "source": [
    "#wAP to find the word egg in the string and print veg or nonveg\n",
    "\n",
    "text=input(\"Enter a food name ONLY in alphabets : \")\n",
    "\n",
    "#print(re.compile(r'^[a-zA-Z]+$').match(text))\n",
    "\n",
    "if re.compile(r'^[a-zA-Z]+$').match(text):\n",
    "    if text.lower().find(\"egg\") > 0 :\n",
    "        print (\"Food is Veg\")\n",
    "    else:\n",
    "        print(\"Food is Non-Veg\")\n",
    "else:\n",
    "    print(\"Enter a correct food name\")"
   ]
  },
  {
   "cell_type": "code",
   "execution_count": 99,
   "metadata": {},
   "outputs": [
    {
     "name": "stdout",
     "output_type": "stream",
     "text": [
      "True\n",
      "True\n",
      "Weird !!\n",
      "[4, 3, 2, 1]\n",
      "[1, 2, 3, 4]\n",
      "[1, 2, 3, 4]\n"
     ]
    }
   ],
   "source": [
    "#WAP to print the O/P\n",
    "\n",
    "if not 1:\n",
    "    print ('False')\n",
    "else:\n",
    "    print('True')\n",
    "    \n",
    "if 1:\n",
    "    print('True')\n",
    "else:\n",
    "    print('False')\n",
    "\n",
    "if 'a' > 'A':\n",
    "    print('Weird !!')\n",
    "else:\n",
    "    print('Make Sense')\n",
    "\n",
    "a=[1,2,3,4]\n",
    "\n",
    "\n",
    "if 1>1:\n",
    "    print(a[::-1])\n",
    "else:\n",
    "    print(a[-1::-1])\n",
    "\n",
    "print(a[::1])\n",
    "print(a[0::1])"
   ]
  },
  {
   "cell_type": "code",
   "execution_count": 2,
   "metadata": {},
   "outputs": [
    {
     "name": "stdout",
     "output_type": "stream",
     "text": [
      "Enter the no of subject ? 5\n",
      "Enter the marks for Subject1 ? 90\n",
      "Enter the marks for Subject2 ? 99\n",
      "Enter the marks for Subject3 ? 98\n",
      "Enter the marks for Subject4 ? 90\n",
      "Enter the marks for Subject5 ? 97\n",
      "Average of 5 subjects : 94.80 Grade A\n"
     ]
    }
   ],
   "source": [
    "### Calculate the average of 5 subject out of 100\n",
    "\n",
    "sum_of_subjects=0\n",
    "no_of_subject = int(input(\"Enter the no of subject ? \"))\n",
    "\n",
    "for i in range(no_of_subject):\n",
    "    sum_of_subjects += int(input(f\"Enter the marks for Subject{i+1} ? \"))\n",
    "\n",
    "average_of_subject = sum_of_subjects/no_of_subject\n",
    "\n",
    "def get_grade(average_of_subject):\n",
    "    if  90 <= average_of_subject <= 100:\n",
    "        return \"Grade A\"\n",
    "    elif 80<= average_of_subject <=89:\n",
    "        return \"Grade B\"\n",
    "    elif 60<= average_of_subject <= 79:\n",
    "        return \"Grade C\"\n",
    "    else:\n",
    "        return \"Grade F\"\n",
    "\n",
    "print(f\"Average of {no_of_subject} subjects : \" + \"{:.2f}\".format(average_of_subject) , get_grade(average_of_subject)) "
   ]
  },
  {
   "cell_type": "code",
   "execution_count": 7,
   "metadata": {},
   "outputs": [
    {
     "name": "stdout",
     "output_type": "stream",
     "text": [
      "Enter your age : 89\n",
      "Enter your salary : 1000000\n",
      "Total tax to be paid :  80000.0\n"
     ]
    }
   ],
   "source": [
    "#WAP to input age and salary to calculate the tax\n",
    "\n",
    "age=int(input(\"Enter your age : \"))\n",
    "salary=float(input(\"Enter your salary : \"))\n",
    "\n",
    "def calculate_tax(age,salary):\n",
    "    if age < 60:\n",
    "        if 0 <= salary <= 250000:\n",
    "            tax=0\n",
    "        elif 250001 <= salary <= 500000:\n",
    "            tax=0.05*salary\n",
    "        elif 500001 <= salary <= 1000000:\n",
    "            tax=0.1*salary\n",
    "        else:\n",
    "            tax=0.15*salary\n",
    "    else:\n",
    "        if 0 <= salary <= 250000:\n",
    "            tax=0\n",
    "        elif 250001 <= salary <= 500000:\n",
    "            tax=0.03*salary\n",
    "        elif 500001 <= salary <= 1000000:\n",
    "            tax=0.08*salary\n",
    "        else:\n",
    "            tax=0.12*salary\n",
    "    return tax\n",
    "\n",
    "print(\"Total tax to be paid : \" , calculate_tax(age,salary))"
   ]
  },
  {
   "cell_type": "code",
   "execution_count": 6,
   "metadata": {},
   "outputs": [
    {
     "name": "stdout",
     "output_type": "stream",
     "text": [
      "20\n",
      "10\n",
      "10\n",
      "OMG\n"
     ]
    }
   ],
   "source": [
    "#Print the O/P\n",
    "print(20 if not 1==1 else 20)\n",
    "print(30 if not 1==1 else 20 if 'a' < 'A' else  10)\n",
    "print(40 if not 1==1 else 30 if 'a' < 'A' else  20 if '' else 10)\n",
    "print('No' if not 1==1 else ('No' if 'a' < 'A' else ('OMG' if 'oh!!' else 'No')))"
   ]
  },
  {
   "cell_type": "code",
   "execution_count": 10,
   "metadata": {},
   "outputs": [
    {
     "name": "stdout",
     "output_type": "stream",
     "text": [
      "Enter the weight in KG : 75\n",
      "Enter the height in CM : 165\n",
      "BMI :  27.548209366391184\n"
     ]
    }
   ],
   "source": [
    "#WAF to calculate the BMI based upon the weight and height\n",
    "#[weight (kg) / height (cm) / height (cm)] x 10,000\n",
    "\n",
    "weight=float(input(\"Enter the weight in KG : \"))\n",
    "height=int(input(\"Enter the height in CM : \"))\n",
    "\n",
    "def get_BMI(weight,height):\n",
    "    bmi=(weight/height/height) * 10000\n",
    "    return bmi\n",
    "\n",
    "print(\"BMI : \",get_BMI(weight,height))\n",
    "    "
   ]
  },
  {
   "cell_type": "code",
   "execution_count": 7,
   "metadata": {},
   "outputs": [
    {
     "name": "stdout",
     "output_type": "stream",
     "text": [
      "Enter the age of person1 : 20\n",
      "Enter the age of person2 : 50\n",
      "Enter the age of person3 : 10\n",
      "Person 2 is oldest\n",
      "Person 3 is youngest\n"
     ]
    }
   ],
   "source": [
    "#WAP to print youngest and oldest in the group\n",
    "\n",
    "age1=float(input(\"Enter the age of person1 : \"))\n",
    "age2=float(input(\"Enter the age of person2 : \"))\n",
    "age3=float(input(\"Enter the age of person3 : \"))\n",
    "\n",
    "if age1 > age2 and age1 > age3:\n",
    "    print(\"Person 1 is oldest\")\n",
    "elif age2 > age3:\n",
    "    print(\"Person 2 is oldest\")\n",
    "else:\n",
    "    print(\"Person 3 is oldest\")\n",
    "    \n",
    "if age1 < age2 and age1 < age3:\n",
    "    print(\"Person 1 is youngest\")\n",
    "elif age2 < age3:\n",
    "    print(\"Person 2 is youngest\")\n",
    "else:\n",
    "    print(\"Person 3 is youngest\")\n",
    "\n",
    "    \n",
    "    \n",
    "\n"
   ]
  },
  {
   "cell_type": "code",
   "execution_count": 9,
   "metadata": {},
   "outputs": [
    {
     "name": "stdout",
     "output_type": "stream",
     "text": [
      "Enter a number : 49\n",
      "49  is not divisible by both 5 and 7\n"
     ]
    }
   ],
   "source": [
    "#WAP take a input to check if the number is divisble by 5 and 7\n",
    "\n",
    "num1=int(input(\"Enter a number : \"))\n",
    "\n",
    "if num1 % 5 == 0 and num1 % 7 == 0 :\n",
    "    print(num1, \" is divisible by both 5 and 7\")\n",
    "else:\n",
    "    print(num1 , \" is not divisible by both 5 and 7\")"
   ]
  }
 ],
 "metadata": {
  "kernelspec": {
   "display_name": "Python 3",
   "language": "python",
   "name": "python3"
  },
  "language_info": {
   "codemirror_mode": {
    "name": "ipython",
    "version": 3
   },
   "file_extension": ".py",
   "mimetype": "text/x-python",
   "name": "python",
   "nbconvert_exporter": "python",
   "pygments_lexer": "ipython3",
   "version": "3.8.3"
  }
 },
 "nbformat": 4,
 "nbformat_minor": 4
}
