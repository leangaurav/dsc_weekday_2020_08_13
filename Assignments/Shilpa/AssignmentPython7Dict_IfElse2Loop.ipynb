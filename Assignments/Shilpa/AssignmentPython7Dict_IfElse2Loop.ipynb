{
 "cells": [
  {
   "cell_type": "code",
   "execution_count": 23,
   "metadata": {},
   "outputs": [
    {
     "ename": "SyntaxError",
     "evalue": "invalid syntax (<ipython-input-23-aa02b71def84>, line 11)",
     "output_type": "error",
     "traceback": [
      "\u001b[0;36m  File \u001b[0;32m\"<ipython-input-23-aa02b71def84>\"\u001b[0;36m, line \u001b[0;32m11\u001b[0m\n\u001b[0;31m    dnum1=dict((x=1,2,3),(y=4,5,6))\u001b[0m\n\u001b[0m                 ^\u001b[0m\n\u001b[0;31mSyntaxError\u001b[0m\u001b[0;31m:\u001b[0m invalid syntax\n"
     ]
    }
   ],
   "source": [
    "#WAP to create a dictionary with negative value with 5 items\n",
    "\n",
    "#print(help(set))\n",
    "try:\n",
    "    dnum={}\n",
    "    for n in range  (1,5):\n",
    "        dnum[n]=-n\n",
    "    print(dnum)\n",
    "    \n",
    "    dnum1=dict({(1,-1),(2,-2),(3,-3),(4,-4),(5,-5)})\n",
    "    print(dnum1)\n",
    "    \n",
    "except Exception as err:\n",
    "    print(\"Error Occured : \" , err)"
   ]
  },
  {
   "cell_type": "code",
   "execution_count": 22,
   "metadata": {},
   "outputs": [
    {
     "name": "stdout",
     "output_type": "stream",
     "text": [
      "{'x': 2, 'y': 3}\n"
     ]
    }
   ],
   "source": [
    "#WAP print the o/p\n",
    "\n",
    "#d={1=2,2=3} #Invalid syntax d={1:2,2:3}\n",
    "d={1:2,2:3}\n",
    "#d={1,2;2,3} #invalid syntax remove ;\n",
    "d={(1,2),(2,3)}\n",
    "#d={'a':'A','b':1,c:[1234]} #name c is not defined\n",
    "d={'a':'A','b':1,'c':[1234]}\n",
    "d=dict([(1,2),(2,3)])\n",
    "d=dict(((1,2),(2,3)))\n",
    "d=dict([(1,2),(2,3)])\n",
    "d=dict(x=2,y=3)\n",
    "print(d)\n",
    "#=dict('x'=2,'y'=3) #syntax error =\n",
    "#=dict(1=2,2=3) #syntax error =\n",
    "\n"
   ]
  },
  {
   "cell_type": "code",
   "execution_count": 25,
   "metadata": {},
   "outputs": [
    {
     "name": "stdout",
     "output_type": "stream",
     "text": [
      "{1: 10, 2: 20, 3: 30, 4: 40}\n"
     ]
    }
   ],
   "source": [
    "#WAP use zip method to combine 2 list into dictionary\n",
    "\n",
    "l1=[1,2,3,4]\n",
    "l2=[10,20,30,40]\n",
    "\n",
    "dnum={}\n",
    "dnum=dict(zip(l1,l2))\n",
    "\n",
    "print(dnum)"
   ]
  },
  {
   "cell_type": "code",
   "execution_count": 27,
   "metadata": {},
   "outputs": [
    {
     "name": "stdout",
     "output_type": "stream",
     "text": [
      "{'A': 65, 'B': 66, 'C': 67, 'D': 68, 'E': 69, 'F': 70, 'G': 71, 'H': 72, 'I': 73, 'J': 74, 'K': 75, 'L': 76, 'M': 77, 'N': 78, 'O': 79, 'P': 80, 'Q': 81, 'R': 82, 'S': 83, 'T': 84, 'U': 85, 'V': 86, 'W': 87, 'X': 88, 'Y': 89, 'Z': 90}\n"
     ]
    }
   ],
   "source": [
    "#WAP to store upper case alphabet and ascii value in dictonary format\n",
    "\n",
    "dalpha={}\n",
    "for a in range(65,91):\n",
    "    dalpha[chr(a)] = a\n",
    "print(dalpha)"
   ]
  },
  {
   "cell_type": "code",
   "execution_count": 46,
   "metadata": {},
   "outputs": [
    {
     "name": "stdout",
     "output_type": "stream",
     "text": [
      "{0: 'Zero', 1: 'One', 2: 'Two', 3: 'Three', 4: 'Four', 5: 'Five', 6: 'Six', 7: 'Seven', 8: 'Eight', 9: 'Nine'}\n",
      "Enter a number 0-9 : 1\n",
      "{Key:Value} :  { 1 : One }\n",
      "\n",
      "All keys :  dict_keys([0, 1, 2, 3, 4, 5, 6, 7, 8, 9])\n",
      "\n",
      "All values :  dict_values(['Zero', 'One', 'Two', 'Three', 'Four', 'Five', 'Six', 'Seven', 'Eight', 'Nine'])\n",
      "\n",
      "{Key:Value} :  { 0 : Zero }\n",
      "{Key:Value} :  { 1 : One }\n",
      "{Key:Value} :  { 2 : Two }\n",
      "{Key:Value} :  { 3 : Three }\n",
      "{Key:Value} :  { 4 : Four }\n",
      "{Key:Value} :  { 5 : Five }\n",
      "{Key:Value} :  { 6 : Six }\n",
      "{Key:Value} :  { 7 : Seven }\n",
      "{Key:Value} :  { 8 : Eight }\n",
      "{Key:Value} :  { 9 : Nine }\n"
     ]
    }
   ],
   "source": [
    "#WAP to create mapping and based upon input value check and print key ,( value and item\n",
    "\n",
    "dnumspell=dict([(0,'Zero'),(1,'One'),(2,'Two'),(3,'Three'),(4,'Four'),(5,'Five'),(6,'Six'),(7,'Seven'),(8,'Eight'),(9,'Nine')])\n",
    "\n",
    "print(dnumspell)\n",
    "num=int(input(\"Enter a number 0-9 : \"))\n",
    "\n",
    "if num in dnumspell:\n",
    "    print(\"{Key:Value} : \" ,\"{\" , num , \":\" , dnumspell[num],\"}\")\n",
    "\n",
    "print()\n",
    "print(\"All keys : \" , dnumspell.keys())\n",
    "print()\n",
    "print(\"All values : \" , dnumspell.values())\n",
    "print()\n",
    "for k in dnumspell.keys():\n",
    "    print(\"{Key:Value} : \" ,\"{\" , k , \":\" , dnumspell[k],\"}\")"
   ]
  },
  {
   "cell_type": "code",
   "execution_count": 49,
   "metadata": {},
   "outputs": [
    {
     "name": "stdout",
     "output_type": "stream",
     "text": [
      "{'A': 'Apple', 'B': 'Ball', 'C': 'Cat', 'D': 'Dog'}\n",
      "{'A': 'Apple', 'C': 'Cat'}\n"
     ]
    }
   ],
   "source": [
    "#Predict the O/P\n",
    "\n",
    "l1=['A','B','C','D']\n",
    "l2=['Apple','Ball','Cat','Dog']\n",
    "\n",
    "d1=dict(zip(l1,l2))\n",
    "print(d1)\n",
    "\n",
    "d2=dict(list(d1.items())[::2])\n",
    "print(d2)"
   ]
  },
  {
   "cell_type": "code",
   "execution_count": 63,
   "metadata": {},
   "outputs": [
    {
     "name": "stdout",
     "output_type": "stream",
     "text": [
      "Enter a string : Enter a text and count the occurrence of vowel\n",
      "a : 2\n",
      "e : 7\n",
      "i : 0\n",
      "o : 4\n",
      "u : 2\n"
     ]
    }
   ],
   "source": [
    "#WAP to enter a text and count the occurence of vowel in sentence using dictionary\n",
    "\n",
    "text=input(\"Enter a string : \")\n",
    "\n",
    "dvowel=dict([('a',0),('e',0),('i',0),('o',0),('u',0)])\n",
    "for c in text.lower():\n",
    "    if c in 'aeiou':\n",
    "        dvowel[c]=int(dvowel[c])+1\n",
    "\n",
    "for x , y in dvowel.items():\n",
    "    print(x,\":\",y)\n",
    "        "
   ]
  },
  {
   "cell_type": "code",
   "execution_count": 70,
   "metadata": {},
   "outputs": [
    {
     "name": "stdout",
     "output_type": "stream",
     "text": [
      "Enter a string : not c in dvowel and \n",
      "n : 3\n",
      "o : 2\n",
      "t : 1\n",
      "c : 1\n",
      "i : 1\n",
      "d : 2\n",
      "v : 1\n",
      "w : 1\n",
      "e : 1\n",
      "l : 1\n",
      "a : 1\n"
     ]
    }
   ],
   "source": [
    "#WAP to enter a text and count the occurence of alphabet in sentence using dictionary\n",
    "\n",
    "text=input(\"Enter a string : \")\n",
    "\n",
    "dvowel=dict({})\n",
    "for c in text.lower():\n",
    "    if c.isalpha():\n",
    "        if not c in dvowel:\n",
    "            dvowel.setdefault(c,1)\n",
    "        else:\n",
    "             dvowel[c]=int(dvowel[c])+1\n",
    "\n",
    "for x , y in dvowel.items():\n",
    "    print(x,\":\",y)\n",
    "del dvowel       "
   ]
  },
  {
   "cell_type": "code",
   "execution_count": 71,
   "metadata": {},
   "outputs": [
    {
     "name": "stdout",
     "output_type": "stream",
     "text": [
      "Enter a string : WAP to print the frequency of the word\n",
      "wap : 1\n",
      "to : 1\n",
      "print : 1\n",
      "the : 2\n",
      "frequency : 1\n",
      "of : 1\n",
      "word : 1\n"
     ]
    }
   ],
   "source": [
    "#WAP to print the frequency of the word\n",
    "\n",
    "text=input(\"Enter a string : \")\n",
    "\n",
    "dvowel=dict({})\n",
    "for c in list(text.lower().split()):\n",
    "    if c.isalpha():\n",
    "        if not c in dvowel:\n",
    "            dvowel.setdefault(c,1)\n",
    "        else:\n",
    "             dvowel[c]=int(dvowel[c])+1\n",
    "\n",
    "for x , y in dvowel.items():\n",
    "    print(x,\":\",y)\n",
    "del dvowel   "
   ]
  }
 ],
 "metadata": {
  "kernelspec": {
   "display_name": "Python 3",
   "language": "python",
   "name": "python3"
  },
  "language_info": {
   "codemirror_mode": {
    "name": "ipython",
    "version": 3
   },
   "file_extension": ".py",
   "mimetype": "text/x-python",
   "name": "python",
   "nbconvert_exporter": "python",
   "pygments_lexer": "ipython3",
   "version": "3.8.3"
  }
 },
 "nbformat": 4,
 "nbformat_minor": 4
}
