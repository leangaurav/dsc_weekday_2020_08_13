{
 "cells": [
  {
   "cell_type": "code",
   "execution_count": 1,
   "metadata": {},
   "outputs": [
    {
     "name": "stdout",
     "output_type": "stream",
     "text": [
      "5\n",
      "4\n",
      "3\n",
      "2\n",
      "1\n"
     ]
    }
   ],
   "source": [
    "l=[1,2,3,4,5]\n",
    "def reverse_list(a):\n",
    "    for i in reversed(a):\n",
    "         print(i)\n",
    "reverse_list(l)            "
   ]
  },
  {
   "cell_type": "code",
   "execution_count": 30,
   "metadata": {},
   "outputs": [
    {
     "name": "stdout",
     "output_type": "stream",
     "text": [
      "2\n",
      "3\n"
     ]
    }
   ],
   "source": [
    "a=[1,2,3,4,5]\n",
    "def count_even_odd(l):\n",
    "    e=0\n",
    "    o=0\n",
    "    for i in l:\n",
    "        if i%2==0:\n",
    "            e=e+1\n",
    "        else:\n",
    "            o=o+1\n",
    "    print(e)\n",
    "    print(o)\n",
    "count_even_odd(a)   "
   ]
  },
  {
   "cell_type": "code",
   "execution_count": 41,
   "metadata": {},
   "outputs": [
    {
     "name": "stdout",
     "output_type": "stream",
     "text": [
      "6\n"
     ]
    }
   ],
   "source": [
    "l=[1,2,3,4,5,6]\n",
    "def maximum(a):\n",
    "    a.sort()\n",
    "    print(a[-1]) \n",
    "maximum(l)    "
   ]
  },
  {
   "cell_type": "code",
   "execution_count": 43,
   "metadata": {},
   "outputs": [
    {
     "name": "stdout",
     "output_type": "stream",
     "text": [
      "5\n"
     ]
    }
   ],
   "source": [
    "l=[1,2,3,4,5,6]\n",
    "def second_maximum(a):\n",
    "    a.sort()\n",
    "    print(a[-2]) \n",
    "second_maximum(l) "
   ]
  },
  {
   "cell_type": "code",
   "execution_count": 47,
   "metadata": {},
   "outputs": [
    {
     "name": "stdout",
     "output_type": "stream",
     "text": [
      "3.0\n"
     ]
    }
   ],
   "source": [
    "a=[1,2,3,4,5]\n",
    "def mean(l):\n",
    "    b=sum(l)\n",
    "    m=b/len(l)\n",
    "    print(m)\n",
    "mean(a)    "
   ]
  },
  {
   "cell_type": "code",
   "execution_count": 70,
   "metadata": {},
   "outputs": [
    {
     "name": "stdout",
     "output_type": "stream",
     "text": [
      "[5, 8, 2, 7]\n"
     ]
    }
   ],
   "source": [
    "def find_in_range(l,a,b):\n",
    "    b=l[a:]\n",
    "    print(b)\n",
    "find_in_range([3,10,5,8,2,7],2,9)    "
   ]
  }
 ],
 "metadata": {
  "kernelspec": {
   "display_name": "Python 3",
   "language": "python",
   "name": "python3"
  },
  "language_info": {
   "codemirror_mode": {
    "name": "ipython",
    "version": 3
   },
   "file_extension": ".py",
   "mimetype": "text/x-python",
   "name": "python",
   "nbconvert_exporter": "python",
   "pygments_lexer": "ipython3",
   "version": "3.8.3"
  }
 },
 "nbformat": 4,
 "nbformat_minor": 4
}
