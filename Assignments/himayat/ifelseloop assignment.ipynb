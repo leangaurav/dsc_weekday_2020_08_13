{
 "cells": [
  {
   "cell_type": "code",
   "execution_count": 1,
   "metadata": {},
   "outputs": [
    {
     "name": "stdout",
     "output_type": "stream",
     "text": [
      "enter stringhimayat khan\n",
      "h\n",
      "i\n",
      "m\n",
      "a\n",
      "y\n",
      "a\n",
      "t\n",
      " \n",
      "k\n",
      "h\n",
      "a\n",
      "n\n"
     ]
    }
   ],
   "source": [
    "s=input(\"enter string\")\n",
    "for i in s:\n",
    "    print(i)"
   ]
  },
  {
   "cell_type": "code",
   "execution_count": 2,
   "metadata": {},
   "outputs": [
    {
     "name": "stdout",
     "output_type": "stream",
     "text": [
      "enter stringhimayat khan\n",
      "104\n",
      "105\n",
      "109\n",
      "97\n",
      "121\n",
      "97\n",
      "116\n",
      "32\n",
      "107\n",
      "104\n",
      "97\n",
      "110\n"
     ]
    }
   ],
   "source": [
    "s=input(\"enter string\")\n",
    "for i in s:\n",
    "    print(ord(i))"
   ]
  },
  {
   "cell_type": "code",
   "execution_count": 3,
   "metadata": {},
   "outputs": [
    {
     "name": "stdout",
     "output_type": "stream",
     "text": [
      "12\n"
     ]
    }
   ],
   "source": [
    "b=[6,2,3,4,5]\n",
    "def odd_sum(a):\n",
    "    s=0\n",
    "    for i in a:\n",
    "        if i%2==0:\n",
    "            s=s+i\n",
    "    print(s)\n",
    "odd_sum(b)        "
   ]
  },
  {
   "cell_type": "code",
   "execution_count": null,
   "metadata": {},
   "outputs": [],
   "source": [
    "a=[]\n",
    "a.append(input())\n",
    "a.append(input())\n",
    "a.append(input())\n",
    "a.append(input())\n",
    "a.append(input())\n",
    "print(tuple(a))\n",
    "a.append(input())\n",
    "print(tuple(a))\n",
    "print(a.index(\"6\"))"
   ]
  },
  {
   "cell_type": "code",
   "execution_count": 5,
   "metadata": {},
   "outputs": [
    {
     "name": "stdout",
     "output_type": "stream",
     "text": [
      "[47, 16, 55, 37, 28, 51, 40, 21, 2, 22]\n",
      "319\n",
      "31.9\n",
      "[55, 28, 40, 2]\n"
     ]
    }
   ],
   "source": [
    "import random\n",
    "randomlist = []\n",
    "for i in range(0,10):\n",
    "    n = random.randrange(1,100)\n",
    "    randomlist.append(n)\n",
    "print(randomlist)\n",
    "s=sum(randomlist)\n",
    "print(s)\n",
    "print(s/10)\n",
    "print(randomlist[2::2])\n"
   ]
  },
  {
   "cell_type": "code",
   "execution_count": 6,
   "metadata": {},
   "outputs": [
    {
     "name": "stdout",
     "output_type": "stream",
     "text": [
      "enter number1\n",
      "enter number2\n",
      "enter number3\n",
      "enter number4\n",
      "enter number5\n",
      "enter number6\n",
      "enter number7\n",
      "enter number8\n",
      "enter number9\n",
      "enter number10\n",
      "[1, 2, 3, 4, 5, 6, 7, 8, 9, 10]\n",
      "55\n"
     ]
    }
   ],
   "source": [
    "numbers=[]\n",
    "for i in range(10):\n",
    "    numbers.append(int(input(\"enter number\")))\n",
    "print(numbers)\n",
    "Sum=sum(numbers)\n",
    "print(Sum)"
   ]
  },
  {
   "cell_type": "code",
   "execution_count": 7,
   "metadata": {},
   "outputs": [
    {
     "name": "stdout",
     "output_type": "stream",
     "text": [
      "7 x 1=7\n",
      "7 x 2=14\n",
      "7 x 3=21\n",
      "7 x 4=28\n",
      "7 x 5=35\n",
      "7 x 6=42\n",
      "7 x 7=49\n",
      "7 x 8=56\n",
      "7 x 9=63\n",
      "7 x 10=70\n"
     ]
    }
   ],
   "source": [
    "n=7\n",
    "for i in range(1,11):\n",
    "    s=f\"{n} x {i}={n*i}\"\n",
    "    print(s)"
   ]
  },
  {
   "cell_type": "code",
   "execution_count": 40,
   "metadata": {},
   "outputs": [
    {
     "name": "stdout",
     "output_type": "stream",
     "text": [
      "enter stringi like to stay in delhi\n",
      "5\n"
     ]
    }
   ],
   "source": [
    "string =input(\"enter string:\")\n",
    "count=0 \n",
    "for a in string:\n",
    "    if (a.isspace()) == True:\n",
    "        count+=1\n",
    "print(count) "
   ]
  },
  {
   "cell_type": "code",
   "execution_count": 1,
   "metadata": {},
   "outputs": [
    {
     "name": "stdout",
     "output_type": "stream",
     "text": [
      "enter stringi live in delhi\n",
      "6\n"
     ]
    }
   ],
   "source": [
    "s=str(input(\"enter string\"))\n",
    "b=s.lower()\n",
    "a=b.count(\"a\")\n",
    "e=b.count(\"e\")\n",
    "i=b.count(\"i\")\n",
    "o=b.count(\"o\")\n",
    "u=b.count(\"u\")\n",
    "vowel=a+e+i+o+u\n",
    "print(vowel)"
   ]
  },
  {
   "cell_type": "code",
   "execution_count": 16,
   "metadata": {},
   "outputs": [
    {
     "name": "stdout",
     "output_type": "stream",
     "text": [
      "enter stringhelloo world\n",
      "hell__ w_rld\n"
     ]
    }
   ],
   "source": [
    "s=input(\"enter string\")\n",
    "vowels = ('a', 'e', 'i', 'o', 'u')\n",
    "for i in s:\n",
    "        if i in vowels:\n",
    "            res = s.replace(i,\"_\")\n",
    "print(res)"
   ]
  },
  {
   "cell_type": "code",
   "execution_count": 2,
   "metadata": {},
   "outputs": [
    {
     "name": "stdout",
     "output_type": "stream",
     "text": [
      "num: 0\n",
      "loop ends\n"
     ]
    }
   ],
   "source": [
    "#output\n",
    "for num in range(10):\n",
    "    print(\"num:\",num)\n",
    "    if num%4==0:\n",
    "        break\n",
    "print(\"loop ends\")       "
   ]
  },
  {
   "cell_type": "code",
   "execution_count": 5,
   "metadata": {},
   "outputs": [
    {
     "name": "stdout",
     "output_type": "stream",
     "text": [
      "num: 0\n"
     ]
    },
    {
     "ename": "SystemExit",
     "evalue": "",
     "output_type": "error",
     "traceback": [
      "An exception has occurred, use %tb to see the full traceback.\n",
      "\u001b[1;31mSystemExit\u001b[0m\n"
     ]
    }
   ],
   "source": [
    "#output\n",
    "import sys\n",
    "for num in range(10):\n",
    "    print(\"num:\",num)\n",
    "    if num%4==0:\n",
    "        sys.exit()\n",
    "print(\"loop ends\")          "
   ]
  },
  {
   "cell_type": "code",
   "execution_count": 6,
   "metadata": {},
   "outputs": [
    {
     "name": "stdout",
     "output_type": "stream",
     "text": [
      "* * * * * \n",
      "* * * * * \n",
      "* * * * * \n",
      "* * * * * \n",
      "* * * * * \n",
      "1\n",
      "22\n",
      "333\n",
      "4444\n",
      "55555\n"
     ]
    }
   ],
   "source": [
    "#output\n",
    "for i1 in range(1,6):\n",
    "    for i2 in range(5):\n",
    "        print(\"*\",end=\" \")\n",
    "    print() \n",
    "for i1 in range(1,6):\n",
    "    print(str(i1)*i1)"
   ]
  },
  {
   "cell_type": "code",
   "execution_count": 7,
   "metadata": {},
   "outputs": [
    {
     "name": "stdout",
     "output_type": "stream",
     "text": [
      "1 \n",
      "2 2 \n",
      "3 3 3 \n",
      "4 4 4 4 \n",
      "5 5 5 5 5 \n",
      "* * \n",
      "* * * \n",
      "* * * * \n",
      "* * * * * \n",
      "* * * * * * \n"
     ]
    }
   ],
   "source": [
    "#output\n",
    "for i1 in range(1,6):\n",
    "    for i2 in range(i1):\n",
    "        print(i1,end=\" \")\n",
    "    print() \n",
    "for i1 in range(1,6):\n",
    "    for i2 in range(i1+1):\n",
    "        print(\"*\",end=\" \")\n",
    "    print()    "
   ]
  }
 ],
 "metadata": {
  "kernelspec": {
   "display_name": "Python 3",
   "language": "python",
   "name": "python3"
  },
  "language_info": {
   "codemirror_mode": {
    "name": "ipython",
    "version": 3
   },
   "file_extension": ".py",
   "mimetype": "text/x-python",
   "name": "python",
   "nbconvert_exporter": "python",
   "pygments_lexer": "ipython3",
   "version": "3.8.3"
  }
 },
 "nbformat": 4,
 "nbformat_minor": 4
}
