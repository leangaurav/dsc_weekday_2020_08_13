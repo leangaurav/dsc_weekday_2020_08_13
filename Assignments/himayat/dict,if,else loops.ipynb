{
 "cells": [
  {
   "cell_type": "code",
   "execution_count": 11,
   "metadata": {},
   "outputs": [
    {
     "name": "stdout",
     "output_type": "stream",
     "text": [
      "{1: -1, 2: -2, 3: -3, 4: -4, 5: -5}\n"
     ]
    }
   ],
   "source": [
    "d=dict()\n",
    "for i in range(1,6):\n",
    "    d[i]=-i\n",
    "print(d)    "
   ]
  },
  {
   "cell_type": "code",
   "execution_count": 29,
   "metadata": {},
   "outputs": [
    {
     "ename": "SyntaxError",
     "evalue": "invalid syntax (<ipython-input-29-610d699cc01a>, line 11)",
     "output_type": "error",
     "traceback": [
      "\u001b[1;36m  File \u001b[1;32m\"<ipython-input-29-610d699cc01a>\"\u001b[1;36m, line \u001b[1;32m11\u001b[0m\n\u001b[1;33m    =dict(\"X\"=2,\"y\"=3)\u001b[0m\n\u001b[1;37m    ^\u001b[0m\n\u001b[1;31mSyntaxError\u001b[0m\u001b[1;31m:\u001b[0m invalid syntax\n"
     ]
    }
   ],
   "source": [
    "# d={1=2,2=3}\n",
    "#d={1:2,2:3}\n",
    "#d={1,2;2,3}\n",
    "d={(1,2),(2,3)}\n",
    "#d={\"a\":\"A\",\"b\",\"c\":[1234]}\n",
    "#d={\"a\":\"A\",\"b\",c:[1234]}\n",
    "#d=dict([(1,2),(2,3)])\n",
    "#d=dict(((1,2),(2,3))\n",
    "#error d=dict((1,2),(2,3)])\n",
    "#d=dict(x=2,y=3)  \n",
    "#=dict(\"X\"=2,\"y\"=3)  \n",
    "#=dict(1=2,2=3)       \n",
    "       "
   ]
  },
  {
   "cell_type": "code",
   "execution_count": 35,
   "metadata": {},
   "outputs": [
    {
     "name": "stdout",
     "output_type": "stream",
     "text": [
      "{1: 10, 2: 20, 3: 30, 4: 40}\n"
     ]
    }
   ],
   "source": [
    "l1=[1,2,3,4]\n",
    "l2=[10,20,30,40]\n",
    "d=zip(l1,l2)\n",
    "d=dict(d)\n",
    "print(d)"
   ]
  },
  {
   "cell_type": "code",
   "execution_count": 57,
   "metadata": {},
   "outputs": [
    {
     "name": "stdout",
     "output_type": "stream",
     "text": [
      "{'A': 65, 'B': 66, 'C': 67, 'D': 68, 'E': 69, 'F': 70, 'G': 71, 'H': 72, 'I': 73, 'J': 74, 'K': 75, 'L': 76, 'M': 77, 'N': 78, 'O': 79, 'P': 80, 'Q': 81, 'R': 82, 'S': 83, 'T': 84, 'U': 85, 'V': 86, 'W': 87, 'X': 88, 'Y': 89, 'Z': 90}\n"
     ]
    }
   ],
   "source": [
    "import string\n",
    "a=[]\n",
    "b=[]\n",
    "a=list(string.ascii_uppercase)\n",
    "for i in a:\n",
    "    b.append(ord(i))\n",
    "d=zip(a,b)\n",
    "d=dict(d)\n",
    "print(d)"
   ]
  },
  {
   "cell_type": "code",
   "execution_count": 44,
   "metadata": {},
   "outputs": [
    {
     "name": "stdout",
     "output_type": "stream",
     "text": [
      "enter number-1\n",
      "enter valid number between 0-9\n"
     ]
    }
   ],
   "source": [
    "a=[\"zero\",\"one\",\"two\",\"three\",\"four\",\"five\",\"six\",\"seven\",\"eight\",\"nine\"]\n",
    "n=int(input(\"enter number\"))\n",
    "if n==0:\n",
    "    print(a[0])\n",
    "elif n==1:\n",
    "    print(a[1])\n",
    "elif n==2:\n",
    "    print(a[2])\n",
    "elif n==3:\n",
    "    print(a[3])\n",
    "elif n==4:\n",
    "    print(a[4])\n",
    "elif n==5:\n",
    "    print(a[5])\n",
    "elif n==6:\n",
    "    print(a[6])\n",
    "elif n==7:\n",
    "    print(a[7])\n",
    "elif n==8:\n",
    "    print(a[8])\n",
    "elif n==9:\n",
    "    print(a[9])\n",
    "else:\n",
    "    print(\"enter valid number between 0-9\")"
   ]
  },
  {
   "cell_type": "code",
   "execution_count": 62,
   "metadata": {},
   "outputs": [
    {
     "name": "stdout",
     "output_type": "stream",
     "text": [
      "{'A': 'apple', 'B': 'ball', 'C': 'cat', 'D': 'dog'}\n",
      "{'A': 'apple', 'C': 'cat'}\n"
     ]
    }
   ],
   "source": [
    "#output\n",
    "l1=[\"A\",\"B\",\"C\",\"D\"]\n",
    "l2=[\"apple\",\"ball\",\"cat\",\"dog\"]\n",
    "d1=dict(zip(l1,l2))\n",
    "print(d1)\n",
    "d2=dict(list(d1.items())[::2])\n",
    "print(d2)"
   ]
  },
  {
   "cell_type": "code",
   "execution_count": 60,
   "metadata": {},
   "outputs": [
    {
     "name": "stdout",
     "output_type": "stream",
     "text": [
      "enter string:himayat\n",
      "{'a': 2, 'e': 0, 'i': 1, 'o': 0, 'u': 0}\n"
     ]
    }
   ],
   "source": [
    "a=(input(\"enter string:\"))\n",
    "l=a.lower()\n",
    "vowel_counts = {}\n",
    "for i in \"aeiou\":\n",
    "    count=l.count(i)\n",
    "    vowel_counts[i] = count\n",
    "print(vowel_counts)"
   ]
  },
  {
   "cell_type": "code",
   "execution_count": 59,
   "metadata": {},
   "outputs": [
    {
     "name": "stdout",
     "output_type": "stream",
     "text": [
      "enter string:himayat khan\n",
      "{'a': 3, 'b': 0, 'c': 0, 'd': 0, 'e': 0, 'f': 0, 'g': 0, 'h': 2, 'i': 1, 'j': 0, 'k': 1, 'l': 0, 'm': 1, 'n': 1, 'o': 0, 'p': 0, 'q': 0, 'r': 0, 's': 0, 't': 1, 'u': 0, 'v': 0, 'w': 0, 'x': 0, 'y': 1, 'z': 0}\n"
     ]
    }
   ],
   "source": [
    "a=(input(\"enter string:\"))\n",
    "l=a.lower()\n",
    "vowel_counts = {}\n",
    "for i in \"abcdefghijklmnopqrstuvwxyz\":\n",
    "    count=l.count(i)\n",
    "    vowel_counts[i] = count\n",
    "print(vowel_counts)"
   ]
  },
  {
   "cell_type": "code",
   "execution_count": 61,
   "metadata": {},
   "outputs": [
    {
     "name": "stdout",
     "output_type": "stream",
     "text": [
      "Frequency of  khan is : 1\n",
      "Frequency of  himayat is : 2\n"
     ]
    }
   ],
   "source": [
    "str=\"himayat khan himayat\"\n",
    "str_list = str.split() \n",
    "unique_words = set(str_list) \n",
    "for words in unique_words :\n",
    "     print('Frequency of ', words , 'is :', str_list.count(words))"
   ]
  },
  {
   "cell_type": "code",
   "execution_count": null,
   "metadata": {},
   "outputs": [],
   "source": []
  }
 ],
 "metadata": {
  "kernelspec": {
   "display_name": "Python 3",
   "language": "python",
   "name": "python3"
  },
  "language_info": {
   "codemirror_mode": {
    "name": "ipython",
    "version": 3
   },
   "file_extension": ".py",
   "mimetype": "text/x-python",
   "name": "python",
   "nbconvert_exporter": "python",
   "pygments_lexer": "ipython3",
   "version": "3.8.3"
  }
 },
 "nbformat": 4,
 "nbformat_minor": 4
}
