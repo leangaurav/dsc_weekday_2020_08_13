{
 "cells": [
  {
   "cell_type": "code",
   "execution_count": 1,
   "metadata": {},
   "outputs": [],
   "source": [
    "import numpy as np"
   ]
  },
  {
   "cell_type": "code",
   "execution_count": 7,
   "metadata": {},
   "outputs": [
    {
     "name": "stdout",
     "output_type": "stream",
     "text": [
      "[[0. 0. 0. 0. 0.]]\n",
      "float64\n",
      "(1, 5)\n",
      "5\n"
     ]
    }
   ],
   "source": [
    "a=np.zeros((1,5))\n",
    "print(a)\n",
    "print(a.dtype)\n",
    "print(a.shape)\n",
    "print(a.size)"
   ]
  },
  {
   "cell_type": "code",
   "execution_count": 9,
   "metadata": {},
   "outputs": [
    {
     "name": "stdout",
     "output_type": "stream",
     "text": [
      "[[[1. 1. 1. 1.]\n",
      "  [1. 1. 1. 1.]\n",
      "  [1. 1. 1. 1.]\n",
      "  [1. 1. 1. 1.]\n",
      "  [1. 1. 1. 1.]]]\n"
     ]
    }
   ],
   "source": [
    "a=np.ones((1,5,4))\n",
    "print(a)"
   ]
  },
  {
   "cell_type": "code",
   "execution_count": 11,
   "metadata": {},
   "outputs": [
    {
     "name": "stdout",
     "output_type": "stream",
     "text": [
      "[[ 1  2  3  4  5]\n",
      " [ 6  7  8  9 10]\n",
      " [11 12 13 14 15]\n",
      " [16 17 18 19 20]]\n"
     ]
    }
   ],
   "source": [
    "print(np.arange(1,21).reshape(4,5))"
   ]
  },
  {
   "cell_type": "code",
   "execution_count": 32,
   "metadata": {},
   "outputs": [
    {
     "name": "stdout",
     "output_type": "stream",
     "text": [
      "[[ 10  20  30  40  50]\n",
      " [ 60  70  80  90 100]\n",
      " [110 120 130 140 150]\n",
      " [160 170 180 190 200]]\n",
      "[ 1  3  5  7  9 11 13 15 17 19]\n"
     ]
    }
   ],
   "source": [
    "a=np.arange(1,21).reshape(4,5)\n",
    "b=a*10\n",
    "print(b)#array multiple of 10\n",
    "print(a[a%2!=0]) #odd numbers"
   ]
  },
  {
   "cell_type": "code",
   "execution_count": 25,
   "metadata": {},
   "outputs": [
    {
     "name": "stdout",
     "output_type": "stream",
     "text": [
      "[[  1  -2   3  -4   5]\n",
      " [ -6   7  -8   9 -10]\n",
      " [ 11 -12  13 -14  15]\n",
      " [-16  17 -18  19 -20]]\n"
     ]
    }
   ],
   "source": [
    "a= np.arange(1, 21) .reshape(4,5)\n",
    "a[a%2==0] *= -1          \n",
    "print (a)"
   ]
  },
  {
   "cell_type": "code",
   "execution_count": 43,
   "metadata": {},
   "outputs": [
    {
     "name": "stdout",
     "output_type": "stream",
     "text": [
      "[[ 1  2  3  4]\n",
      " [ 5  6  7  8]\n",
      " [ 9 10 11 12]\n",
      " [13 14 15 16]]\n"
     ]
    }
   ],
   "source": [
    "M1=np.arange(1,17).reshape(4,4)\n",
    "print(M1)#4*4 matrix"
   ]
  },
  {
   "cell_type": "code",
   "execution_count": 44,
   "metadata": {},
   "outputs": [
    {
     "name": "stdout",
     "output_type": "stream",
     "text": [
      "[[ 1  5  9 13]\n",
      " [ 2  6 10 14]\n",
      " [ 3  7 11 15]\n",
      " [ 4  8 12 16]]\n"
     ]
    }
   ],
   "source": [
    "M1=np.arange(1,17).reshape(4,4)\n",
    "M2=M1.T\n",
    "print(M2)#transpose matrix"
   ]
  },
  {
   "cell_type": "code",
   "execution_count": 45,
   "metadata": {},
   "outputs": [
    {
     "name": "stdout",
     "output_type": "stream",
     "text": [
      "[[ 2  7 12 17]\n",
      " [ 7 12 17 22]\n",
      " [12 17 22 27]\n",
      " [17 22 27 32]]\n"
     ]
    }
   ],
   "source": [
    "M1=np.arange(1,17).reshape(4,4)\n",
    "M2=M1.T\n",
    "M3=M1+M2\n",
    "print(M3)#sum of M1 and M2"
   ]
  },
  {
   "cell_type": "code",
   "execution_count": 46,
   "metadata": {},
   "outputs": [
    {
     "name": "stdout",
     "output_type": "stream",
     "text": [
      "[[ True  True  True  True]\n",
      " [ True  True  True  True]\n",
      " [ True  True  True  True]\n",
      " [ True  True  True  True]]\n"
     ]
    }
   ],
   "source": [
    "#Find Transpose of M3, Call it MT1. Check if M3 == MT1\n",
    "M1=np.arange(1,17).reshape(4,4)\n",
    "M2=M1.T\n",
    "M3=M1+M2\n",
    "MT1=M3.T\n",
    "print(M3==MT1)   "
   ]
  },
  {
   "cell_type": "code",
   "execution_count": 47,
   "metadata": {},
   "outputs": [
    {
     "name": "stdout",
     "output_type": "stream",
     "text": [
      "[[ 0 -3 -6 -9]\n",
      " [ 3  0 -3 -6]\n",
      " [ 6  3  0 -3]\n",
      " [ 9  6  3  0]]\n"
     ]
    }
   ],
   "source": [
    "#find diffrence of M4 = (M1 - M2)\n",
    "M1=np.arange(1,17).reshape(4,4)\n",
    "M2=M1.T\n",
    "M4=M1-M2\n",
    "print(M4)"
   ]
  },
  {
   "cell_type": "code",
   "execution_count": 51,
   "metadata": {},
   "outputs": [
    {
     "name": "stdout",
     "output_type": "stream",
     "text": [
      "[[ True False False False]\n",
      " [False  True False False]\n",
      " [False False  True False]\n",
      " [False False False  True]]\n",
      "[[ True  True  True  True]\n",
      " [ True  True  True  True]\n",
      " [ True  True  True  True]\n",
      " [ True  True  True  True]]\n"
     ]
    }
   ],
   "source": [
    "#Find Transpose of M4, Call it MT2. Check if M4 == MT2. Also check if M4 == -MT2\n",
    "M1=np.arange(1,17).reshape(4,4)\n",
    "M2=M1.T\n",
    "M4=M1-M2\n",
    "MT2=M4.T\n",
    "print(M4==MT2)\n",
    "print(M4==-MT2)"
   ]
  },
  {
   "cell_type": "code",
   "execution_count": 58,
   "metadata": {},
   "outputs": [
    {
     "name": "stdout",
     "output_type": "stream",
     "text": [
      "[[16 18 33 26]\n",
      " [23 14 34 29]\n",
      " [25 14 38 37]]\n"
     ]
    }
   ],
   "source": [
    "#create a matrix (3x4) R1 of random numbers between 10-40\n",
    "from numpy import random\n",
    "r1=random.randint(10,40,size=(3,4))\n",
    "print(r1)"
   ]
  },
  {
   "cell_type": "code",
   "execution_count": 62,
   "metadata": {},
   "outputs": [
    {
     "name": "stdout",
     "output_type": "stream",
     "text": [
      "[[27 22 39 29]\n",
      " [10 13 37 16]\n",
      " [21 32 36 21]]\n",
      "[10 13 36 16]\n",
      "[27 32 39 29]\n"
     ]
    }
   ],
   "source": [
    "#find min and max column wise\n",
    "from numpy import random\n",
    "r1=random.randint(10,40,size=(3,4))\n",
    "print(r1)\n",
    "print(r1.min(0))#min column\n",
    "print(r1.max(0))#max column"
   ]
  },
  {
   "cell_type": "code",
   "execution_count": 2,
   "metadata": {},
   "outputs": [
    {
     "name": "stdout",
     "output_type": "stream",
     "text": [
      "[84 78 78]\n",
      "[19 31 26]\n",
      "\n",
      "[[12 32 21 84]\n",
      " [13 21 13 78]\n",
      " [10 29 13 78]]\n"
     ]
    }
   ],
   "source": [
    "#replace the last column with sum of all the columns\n",
    "from numpy import random\n",
    "r1=random.randint(10,40,size=(3,4))\n",
    "print(r1.sum(axis=1))\n",
    "print(r1[:,3])\n",
    "r1[:,3]=r1.sum(axis=1)\n",
    "print()\n",
    "print(r1)"
   ]
  },
  {
   "cell_type": "code",
   "execution_count": 101,
   "metadata": {},
   "outputs": [
    {
     "name": "stdout",
     "output_type": "stream",
     "text": [
      "[[37 19 23 14]\n",
      " [38 23 14 34]\n",
      " [31 18 34 37]]\n"
     ]
    }
   ],
   "source": [
    "#create a matrix (3x4) R1 of random numbers between 10-40\n",
    "r1=random.randint(10,40,size=(3,4))\n",
    "print(r1)"
   ]
  },
  {
   "cell_type": "code",
   "execution_count": 119,
   "metadata": {},
   "outputs": [
    {
     "name": "stdout",
     "output_type": "stream",
     "text": [
      "[[nan nan 39. 15.]\n",
      " [11. 35. nan 39.]\n",
      " [35. 35. 29. nan]]\n"
     ]
    }
   ],
   "source": [
    "#replace all even elements with nan in R1\n",
    "r1=random.randint(10,40,size=(3,4))\n",
    "r1=r1.astype(\"float\")\n",
    "r1[r1%2==0]=np.NaN\n",
    "print(r1)"
   ]
  },
  {
   "cell_type": "code",
   "execution_count": 128,
   "metadata": {},
   "outputs": [
    {
     "name": "stdout",
     "output_type": "stream",
     "text": [
      "[[nan nan 39. 33.]\n",
      " [nan 11. nan 39.]\n",
      " [nan nan 29. nan]]\n",
      "7\n"
     ]
    }
   ],
   "source": [
    "#count number of nan in R1\n",
    "r1=random.randint(10,40,size=(3,4))\n",
    "r1=r1.astype(\"float\")\n",
    "r1[r1%2==0]=np.NaN\n",
    "a=np.count_nonzero(np.isnan(r1))\n",
    "print(r1)\n",
    "print(a)"
   ]
  },
  {
   "cell_type": "code",
   "execution_count": 129,
   "metadata": {},
   "outputs": [
    {
     "name": "stdout",
     "output_type": "stream",
     "text": [
      "[ 1  2  3  4  5  6  7  8  9 11 12 13 14 15 16 17 18 19]\n",
      "[[ 1  2  3]\n",
      " [ 4  5  6]\n",
      " [ 7  8  9]\n",
      " [11 12 13]\n",
      " [14 15 16]\n",
      " [17 18 19]]\n",
      "[[ 1  2  3 11 12 13]\n",
      " [ 4  5  6 14 15 16]\n",
      " [ 7  8  9 17 18 19]]\n"
     ]
    }
   ],
   "source": [
    "#output\n",
    "a1 = np.arange(1,10).reshape(3,3)\n",
    "a2 = np.arange(11,20).reshape(3,3)\n",
    "a3 = np.append(a1,a2)\n",
    "print(a3)\n",
    "a3 = np.append(a1,a2, axis = 0)\n",
    "print(a3)\n",
    "a3 = np.append(a1,a2, axis = 1)\n",
    "print(a3)"
   ]
  },
  {
   "cell_type": "code",
   "execution_count": null,
   "metadata": {},
   "outputs": [],
   "source": []
  }
 ],
 "metadata": {
  "kernelspec": {
   "display_name": "Python 3",
   "language": "python",
   "name": "python3"
  },
  "language_info": {
   "codemirror_mode": {
    "name": "ipython",
    "version": 3
   },
   "file_extension": ".py",
   "mimetype": "text/x-python",
   "name": "python",
   "nbconvert_exporter": "python",
   "pygments_lexer": "ipython3",
   "version": "3.8.3"
  }
 },
 "nbformat": 4,
 "nbformat_minor": 4
}
