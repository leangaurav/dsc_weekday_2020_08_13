{
 "cells": [
  {
   "cell_type": "code",
   "execution_count": 1,
   "metadata": {},
   "outputs": [
    {
     "name": "stdout",
     "output_type": "stream",
     "text": [
      "25\n",
      "0.5\n",
      "-10\n"
     ]
    }
   ],
   "source": [
    "a=lambda x: x**2\n",
    "print(a(5))\n",
    "b=lambda x:1/x\n",
    "print(b(2))\n",
    "c=lambda x:-x\n",
    "print(c(10))"
   ]
  },
  {
   "cell_type": "code",
   "execution_count": 9,
   "metadata": {},
   "outputs": [
    {
     "name": "stdout",
     "output_type": "stream",
     "text": [
      "7\n"
     ]
    }
   ],
   "source": [
    "import functools\n",
    "l=[1,2,3,4,5,6,7]\n",
    "print (functools.reduce(lambda a,b : a if a > b else b,l))"
   ]
  },
  {
   "cell_type": "code",
   "execution_count": 5,
   "metadata": {},
   "outputs": [
    {
     "data": {
      "text/plain": [
       "[[1, 4, 16], [1.0, 0.25, 0.0625], [-1.0, -0.25, -0.0625]]"
      ]
     },
     "execution_count": 5,
     "metadata": {},
     "output_type": "execute_result"
    }
   ],
   "source": [
    "def map_multiple(functs,sequence):\n",
    "    n1=[]\n",
    "    n2=[]\n",
    "    n3=[]\n",
    "    n1=list(map(functs[0],sequence))\n",
    "    n3.append(n1)\n",
    "    n2=list(n1)\n",
    "    for i in range(1,len(functs)):\n",
    "        v=list(map(functs[i],n2))\n",
    "        n2 = v\n",
    "        n3.append(n2)\n",
    "    return n3\n",
    "map_multiple([lambda x:x**2, lambda x:(1/x), lambda x:-x],[1,2,4])"
   ]
  },
  {
   "cell_type": "code",
   "execution_count": 6,
   "metadata": {},
   "outputs": [
    {
     "name": "stdout",
     "output_type": "stream",
     "text": [
      "50\n"
     ]
    }
   ],
   "source": [
    "from functools import reduce\n",
    "f= lambda x,y : x if x>y else y\n",
    "l=[10,30,50,30,10]\n",
    "num=reduce(f,l)\n",
    "print(num)"
   ]
  },
  {
   "cell_type": "code",
   "execution_count": 7,
   "metadata": {},
   "outputs": [
    {
     "name": "stdout",
     "output_type": "stream",
     "text": [
      "[1.0, 1.0]\n",
      "[1.0, 1.0, 2.0, 0.5]\n",
      "[1.0, 1.0, 2.0, 0.5, 4.0, 0.25]\n",
      "[1.0, 1.0, 2.0, 0.5, 4.0, 0.25, 8.0, 0.125]\n"
     ]
    }
   ],
   "source": [
    "functs = [lambda x:x**0.5 , lambda x:1/x]\n",
    "l=[1,4,16,64]\n",
    "ans=[]\n",
    "for num in l:\n",
    "    res = num\n",
    "    for funct in functs:\n",
    "        res = funct(res)\n",
    "        ans.append(res)\n",
    "    print(ans)"
   ]
  },
  {
   "cell_type": "code",
   "execution_count": 8,
   "metadata": {},
   "outputs": [
    {
     "name": "stdout",
     "output_type": "stream",
     "text": [
      "without using filter\n",
      "[10, 30, 40, 50, 20, 30]\n",
      "using filter\n",
      "[10, 30, 40, 50, 20, 30]\n"
     ]
    }
   ],
   "source": [
    "n=[10,30,40,50,'abd','vk',20,30,\"def\"]\n",
    "print(\"without using filter\")\n",
    "l=[]\n",
    "for i in n:\n",
    "    if(isinstance(i, int) == 1):\n",
    "        l.append(i)\n",
    "print(l)\n",
    "print(\"using filter\")\n",
    "filt = list(filter(lambda x: isinstance(x, (int, float)), n))\n",
    "print(filt)"
   ]
  },
  {
   "cell_type": "code",
   "execution_count": 11,
   "metadata": {},
   "outputs": [
    {
     "data": {
      "text/plain": [
       "[[1.854], [1.702]]"
      ]
     },
     "execution_count": 11,
     "metadata": {},
     "output_type": "execute_result"
    }
   ],
   "source": [
    "def convert_ft_mt(l):\n",
    "    ht_mt=[]\n",
    "    if l.find(\"ft\") > 0 and l.find(\"in\") == -1:\n",
    "        ft = l[0:l.find(\"ft\")]\n",
    "        inch = 0\n",
    "        inch = float(inch) + float(ft) * 12\n",
    "        ht_m = round(((inch * 2.54)/100),3)\n",
    "        ht_mt.append(ht_m)\n",
    "    if l.find(\"ft\") == -1 and l.find(\"in\") > 0:\n",
    "        inch = l[0:l.find(\"in\")]\n",
    "        ft = 0\n",
    "        inch = float(inch) + float(ft) * 12\n",
    "        ht_m = round(((inch * 2.54)/100),3)\n",
    "        ht_mt.append(ht_m)\n",
    "    if l.find(\"ft\") > 0 and l.find(\"in\") > 0:\n",
    "        ft = l[0:l.find(\"ft\")] \n",
    "        inch = l[l.find(\"ft\")+2:l.find(\"in\")]\n",
    "        inch = float(inch) + float(ft) * 12\n",
    "        ht_m = round(((inch * 2.54)/100),3)\n",
    "        ht_mt.append(ht_m)\n",
    "    return ht_mt\n",
    "l = ['6ft1in','5ft7in']\n",
    "list(map(convert_ft_mt,l))"
   ]
  },
  {
   "cell_type": "code",
   "execution_count": 13,
   "metadata": {},
   "outputs": [
    {
     "data": {
      "text/plain": [
       "[[2.108], [1.524]]"
      ]
     },
     "execution_count": 13,
     "metadata": {},
     "output_type": "execute_result"
    }
   ],
   "source": [
    "def my_map(funct,Seq):\n",
    "    for i in Seq:\n",
    "        yield funct(i)\n",
    "list(my_map(convert_ft_mt,['6ft11in','5ft']))"
   ]
  },
  {
   "cell_type": "code",
   "execution_count": null,
   "metadata": {},
   "outputs": [],
   "source": []
  }
 ],
 "metadata": {
  "kernelspec": {
   "display_name": "Python 3",
   "language": "python",
   "name": "python3"
  },
  "language_info": {
   "codemirror_mode": {
    "name": "ipython",
    "version": 3
   },
   "file_extension": ".py",
   "mimetype": "text/x-python",
   "name": "python",
   "nbconvert_exporter": "python",
   "pygments_lexer": "ipython3",
   "version": "3.8.3"
  }
 },
 "nbformat": 4,
 "nbformat_minor": 4
}
