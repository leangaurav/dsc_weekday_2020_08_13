{
 "cells": [
  {
   "cell_type": "code",
   "execution_count": 1,
   "metadata": {},
   "outputs": [
    {
     "name": "stdout",
     "output_type": "stream",
     "text": [
      "d\n",
      "detneirO tcejbO si nohtyP\n",
      "Python is Object Oriente\n",
      "\n",
      "on is \n"
     ]
    }
   ],
   "source": [
    "# Guess output of each slice:\n",
    "s='Python is Object Oriented'\n",
    "print(s[-1]) \n",
    "print(s[::-1])\n",
    "print(s[:-1])\n",
    "print(s[1:1])\n",
    "print(s[4:10])\n"
   ]
  },
  {
   "cell_type": "code",
   "execution_count": 2,
   "metadata": {},
   "outputs": [
    {
     "ename": "IndexError",
     "evalue": "string index out of range",
     "output_type": "error",
     "traceback": [
      "\u001b[1;31m---------------------------------------------------------------------------\u001b[0m",
      "\u001b[1;31mIndexError\u001b[0m                                Traceback (most recent call last)",
      "\u001b[1;32m<ipython-input-2-4b381fb13e43>\u001b[0m in \u001b[0;36m<module>\u001b[1;34m\u001b[0m\n\u001b[0;32m      1\u001b[0m \u001b[1;31m# 2. What error do you see for following statements:\u001b[0m\u001b[1;33m\u001b[0m\u001b[1;33m\u001b[0m\u001b[1;33m\u001b[0m\u001b[0m\n\u001b[0;32m      2\u001b[0m \u001b[0ms\u001b[0m\u001b[1;33m=\u001b[0m \u001b[1;34m''\u001b[0m\u001b[1;33m\u001b[0m\u001b[1;33m\u001b[0m\u001b[0m\n\u001b[1;32m----> 3\u001b[1;33m \u001b[0mprint\u001b[0m\u001b[1;33m(\u001b[0m\u001b[0ms\u001b[0m\u001b[1;33m[\u001b[0m\u001b[1;36m1\u001b[0m\u001b[1;33m]\u001b[0m\u001b[1;33m)\u001b[0m\u001b[1;33m\u001b[0m\u001b[1;33m\u001b[0m\u001b[0m\n\u001b[0m",
      "\u001b[1;31mIndexError\u001b[0m: string index out of range"
     ]
    }
   ],
   "source": [
    "# 2. What error do you see for following statements:\n",
    "s= ''\n",
    "print(s[1])\n"
   ]
  },
  {
   "cell_type": "code",
   "execution_count": null,
   "metadata": {},
   "outputs": [],
   "source": [
    "# 3. Do you get any error for the following code, if not give the output:\n",
    "S='Gaurav'\n",
    "print(s[1])\n"
   ]
  },
  {
   "cell_type": "code",
   "execution_count": null,
   "metadata": {},
   "outputs": [],
   "source": [
    "# 4. Find output of the following:\n",
    "s='a b cd'\n",
    "print(len(s))\n",
    "print(s[::2])\n",
    "print(len(s[::2]))\n",
    "s='a#b#c#d#'\n",
    "print(s.split())\n",
    "print(s.split('#'))\n",
    "l=s.split('#')\n",
    "s='$'.join(l)\n",
    "print(s)\n",
    "S='Gaurav'\n",
    "S=S[::-2][::-2]\n",
    "print(S)\n",
    "print(1>2)\n",
    "print(4%2, 5%2, 2%5, sep=',')\n",
    "s='abcba'\n",
    "s.upper()\n",
    "print(s)\n",
    "print(s.count('A'), end = ' ,')\n",
    "print(s.count('A', 2,4) , end = ',' )\n",
    "print(s.count('a', 2,4) , end = ',' )\n",
    "\n"
   ]
  },
  {
   "cell_type": "code",
   "execution_count": null,
   "metadata": {},
   "outputs": [],
   "source": [
    "# 5. WAP to input a string and remove all spaces from it.\n",
    "my_str=input('Enter String')\n",
    "print(my_str.replace(' ',''))\n",
    "print()\n",
    "print(''.join(my_str.split()))\n"
   ]
  },
  {
   "cell_type": "code",
   "execution_count": null,
   "metadata": {},
   "outputs": [],
   "source": [
    "# 6. What does this symbol denote:\n",
    "# []\n",
    "# In Python lists are written with square brackets []."
   ]
  },
  {
   "cell_type": "code",
   "execution_count": null,
   "metadata": {},
   "outputs": [],
   "source": [
    "# 7. WAP to print all methods(functions/operations) available in a string (Hint : dir())\n",
    "print(dir(str))"
   ]
  },
  {
   "cell_type": "code",
   "execution_count": null,
   "metadata": {},
   "outputs": [],
   "source": [
    "# 8. Write statement to check if rstrip method is available in the str class.\n",
    "# (Hint : Use the find function or in)\n",
    "\n",
    "s = dir(str)\n",
    "print('rstrip' in s)\n",
    "\n",
    "\n",
    "if 'rstrip' in dir(str):\n",
    "    print('yes it is')\n",
    "# print(dir(str).find('rstrip'))\n",
    "\n"
   ]
  },
  {
   "cell_type": "code",
   "execution_count": null,
   "metadata": {},
   "outputs": [],
   "source": [
    "# 9. WAP to store the following patterns in a string variable and then print them:\n",
    "pattern1 = '''\n",
    "      *****\n",
    "        *\n",
    "        *\n",
    "        *\n",
    "        *\n",
    "'''\n",
    "print(pattern1)\n",
    "\n",
    "pattern2 = '''\n",
    "        *     *\n",
    "        * * * *\n",
    "        *  *  *\n",
    "        *     *\n",
    "'''\n",
    "print(pattern2)\n",
    "\n",
    "pattern3 = '''\n",
    " ________     \n",
    " |      |        \n",
    " O      |\n",
    "/|\\     |\n",
    "/ \\     | ''' \n",
    "\n",
    "print(pattern3)\n"
   ]
  },
  {
   "cell_type": "code",
   "execution_count": 1,
   "metadata": {},
   "outputs": [
    {
     "name": "stdout",
     "output_type": "stream",
     "text": [
      "Enter String a a a a a a a a\n",
      "['a', 'a', 'a', 'a', 'a', 'a', 'a', 'a']\n",
      "a\n",
      " \n",
      "a\n",
      " \n",
      "a\n",
      " \n",
      "a\n",
      " \n",
      "a\n",
      " \n",
      "a\n",
      " \n",
      "a\n",
      " \n",
      "a\n",
      "\n",
      "a\n",
      "a\n",
      "a\n",
      "a\n",
      "a\n",
      "a\n",
      "a\n",
      "a\n"
     ]
    }
   ],
   "source": [
    "# 10. WAP to input a string and replace all space with new lines (\\n) and print again.\n",
    "my_str=input(\"Enter String \")\n",
    "print(my_str.split())\n",
    "print('\\n'.join(my_str))\n",
    "print()\n",
    "print(my_str.replace(' ','\\n'))\n"
   ]
  },
  {
   "cell_type": "code",
   "execution_count": 17,
   "metadata": {},
   "outputs": [
    {
     "name": "stdout",
     "output_type": "stream",
     "text": [
      "complete name saba shaikh\n",
      "First Name = SABA    First Name  len= 4\n",
      "Last Name  = SHAIKH  Last Name  len = 6\n"
     ]
    }
   ],
   "source": [
    "# 11. WAP to input complete name(first and last name separated by space) and print first and last\n",
    "# name separately along with their length in upper case.\n",
    "name=input(\"complete name \")\n",
    "print('First Name = ' +name.split()[0].upper() +'    First Name  len= '+str(len(name.split()[0])))\n",
    "print('Last Name  = ' +name.split()[1].upper() +'  Last Name  len = ' +str(len(name.split()[1])))"
   ]
  },
  {
   "cell_type": "code",
   "execution_count": 20,
   "metadata": {},
   "outputs": [
    {
     "name": "stdout",
     "output_type": "stream",
     "text": [
      "words\n",
      "2\n",
      "wo\n",
      "rds\n"
     ]
    }
   ],
   "source": [
    "# 12. WAP to input a string and split it into 2 halves. The string can be of any length\n",
    "# Ex-1: Input = “String”\n",
    "# S1 = Str\n",
    "#  S2 = ing\n",
    "# Ex-2: Input = “words”\n",
    "# S1 = wo\n",
    "# S2 = ds \n",
    "x=input()\n",
    "y=int(len(x)//2)\n",
    "print(y)\n",
    "print(x[:y])\n",
    "print(x[y:])"
   ]
  },
  {
   "cell_type": "code",
   "execution_count": null,
   "metadata": {},
   "outputs": [],
   "source": []
  }
 ],
 "metadata": {
  "kernelspec": {
   "display_name": "Python 3",
   "language": "python",
   "name": "python3"
  },
  "language_info": {
   "codemirror_mode": {
    "name": "ipython",
    "version": 3
   },
   "file_extension": ".py",
   "mimetype": "text/x-python",
   "name": "python",
   "nbconvert_exporter": "python",
   "pygments_lexer": "ipython3",
   "version": "3.8.3"
  }
 },
 "nbformat": 4,
 "nbformat_minor": 4
}
