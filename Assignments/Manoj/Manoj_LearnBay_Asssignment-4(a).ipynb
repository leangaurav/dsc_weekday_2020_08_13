{
 "cells": [
  {
   "cell_type": "code",
   "execution_count": 4,
   "metadata": {},
   "outputs": [
    {
     "name": "stdout",
     "output_type": "stream",
     "text": [
      "Enter a number : 50\n",
      "Enter a number : 5\n",
      "50.0 is divisible by 5.0\n"
     ]
    }
   ],
   "source": [
    "n1 = float(input(\"Enter a number : \"))\n",
    "n2 = float(input(\"Enter a number : \"))\n",
    "if (n1%n2 == 0):\n",
    "    print(f\"{n1} is divisible by {n2}\")\n",
    "else:\n",
    "    print(f\"{n1} is not divisible by {n2}\")"
   ]
  },
  {
   "cell_type": "code",
   "execution_count": 9,
   "metadata": {},
   "outputs": [
    {
     "name": "stdout",
     "output_type": "stream",
     "text": [
      "Enter a string for palindrome check : NAMAN\n",
      "Entered string NAMAN is a palindrome\n"
     ]
    }
   ],
   "source": [
    "s = input(\"Enter a string for palindrome check : \")\n",
    "s1 = str.lower(s)\n",
    "s2 = s1[::-1]\n",
    "if(s1 == s2):\n",
    "    print(f\"Entered string {s} is a palindrome\")\n",
    "else:\n",
    "    print(f\"Entered string {s} is not a palindrome\")"
   ]
  },
  {
   "cell_type": "code",
   "execution_count": 79,
   "metadata": {},
   "outputs": [
    {
     "name": "stdout",
     "output_type": "stream",
     "text": [
      "enter a length of traingle's side-1 : 10\n",
      "enter a length of traingle's side-2 : 10\n",
      "enter a length of traingle's side-3 : 10\n",
      "Equilateral triangle\n"
     ]
    }
   ],
   "source": [
    "s1 = float(input(\"enter a length of traingle's side-1 : \"))\n",
    "s2 = float(input(\"enter a length of traingle's side-2 : \"))\n",
    "s3 = float(input(\"enter a length of traingle's side-3 : \"))\n",
    "if(s1 == s2 == s3):\n",
    "    print(\"Equilateral triangle\")\n",
    "elif(s1==s2 or s1==s3 or s3==s2):\n",
    "    print(\"Isosceles triangle\")\n",
    "else:\n",
    "    print(\"scalene triangle\")"
   ]
  },
  {
   "cell_type": "code",
   "execution_count": 24,
   "metadata": {},
   "outputs": [
    {
     "name": "stdout",
     "output_type": "stream",
     "text": [
      "Enter a number : 21\n",
      "odd number\n"
     ]
    }
   ],
   "source": [
    "n=float(input(\"Enter a number : \"))\n",
    "if(n%2 == 0):\n",
    "    print(\"even number\")\n",
    "else:\n",
    "    print(\"odd number\")"
   ]
  },
  {
   "cell_type": "code",
   "execution_count": 29,
   "metadata": {},
   "outputs": [
    {
     "name": "stdout",
     "output_type": "stream",
     "text": [
      "Enter your age in years : 25\n",
      "Adult\n"
     ]
    }
   ],
   "source": [
    "a = int(input(\"Enter your age in years : \"))\n",
    "if(a>=0 and a<=12):\n",
    "    print(\"child\")\n",
    "elif(a>=13 and a<=17):\n",
    "    print(\"Teen\")\n",
    "elif(a>=18 and a<=50):\n",
    "    print(\"Adult\")\n",
    "elif(a>=51 and a<=100):\n",
    "    print(\"Senior Citizen\")\n",
    "elif(a>100):\n",
    "    print(\"Contratulations\")"
   ]
  },
  {
   "cell_type": "code",
   "execution_count": 51,
   "metadata": {},
   "outputs": [
    {
     "name": "stdout",
     "output_type": "stream",
     "text": [
      "Enter a year : 2004\n",
      "Valid year\n",
      "leap Year\n"
     ]
    }
   ],
   "source": [
    "y=input(\"Enter a year : \")\n",
    "if(len(y) == 4 and int(y) > 0):\n",
    "    print(\"Valid year\")\n",
    "    if(int(y) % 4 !=0):\n",
    "        print(\"not a leap year\")\n",
    "    elif(int(y) % 100 != 0):\n",
    "        print(\"leap Year\")\n",
    "    elif(int(y) % 400 != 0):\n",
    "        print(\"not a leap year\")\n",
    "    else:\n",
    "        print(\"leap Year\")        \n",
    "else:\n",
    "    print(\"please enter a valid year\")"
   ]
  },
  {
   "cell_type": "code",
   "execution_count": 54,
   "metadata": {},
   "outputs": [
    {
     "name": "stdout",
     "output_type": "stream",
     "text": [
      "enter a string : Manoj\n",
      "MANOJ\n"
     ]
    }
   ],
   "source": [
    "s = input(\"enter a string : \")\n",
    "if(len(s) % 2 != 0):\n",
    "    print(s.upper())\n",
    "else:\n",
    "    print(s.lower())"
   ]
  },
  {
   "cell_type": "code",
   "execution_count": 59,
   "metadata": {},
   "outputs": [
    {
     "name": "stdout",
     "output_type": "stream",
     "text": [
      "Enter a string  : I eat vegetables\n",
      "['I', 'eat', 'vegetables']\n",
      "Veg\n"
     ]
    }
   ],
   "source": [
    "s = input(\"Enter a string  : \")\n",
    "e = s.split()\n",
    "print(e)\n",
    "if(\"egg\" in e):\n",
    "    print(\"Non-Veg\")\n",
    "else: \n",
    "    print(\"Veg\")\n"
   ]
  },
  {
   "cell_type": "code",
   "execution_count": 62,
   "metadata": {},
   "outputs": [
    {
     "name": "stdout",
     "output_type": "stream",
     "text": [
      "True\n",
      "True\n",
      "Weird !!\n",
      "[4, 3, 2, 1]\n"
     ]
    }
   ],
   "source": [
    "##### a #####\n",
    "if not 1:\n",
    "    print(\"False\")\n",
    "else:\n",
    "    print(\"True\")\n",
    "##### b #####\n",
    "if 1:\n",
    "    print(\"True\")\n",
    "else:\n",
    "    print(\"False\")\n",
    "##### c #####\n",
    "if 'a'>'A':\n",
    "    print(\"Weird !!\")\n",
    "else:\n",
    "    print(\"Makes Sense\")\n",
    "##### d #####\n",
    "a=[1,2,3,4]\n",
    "if 1>1:\n",
    "    a=a[::-1]\n",
    "else:\n",
    "    a=a[-1::-1]\n",
    "print(a)"
   ]
  },
  {
   "cell_type": "code",
   "execution_count": 63,
   "metadata": {},
   "outputs": [
    {
     "name": "stdout",
     "output_type": "stream",
     "text": [
      "please enter marks in subject-1 : 75\n",
      "please enter marks in subject-2 : 90\n",
      "please enter marks in subject-3 : 56\n",
      "please enter marks in subject-4 : 55\n",
      "please enter marks in subject-5 : 89\n",
      "percentage obtained by student : 73.0%\n",
      "Student's Grade is C\n"
     ]
    }
   ],
   "source": [
    "a = float(input(\"please enter marks in subject-1 : \"))\n",
    "b = float(input(\"please enter marks in subject-2 : \"))\n",
    "c = float(input(\"please enter marks in subject-3 : \"))\n",
    "d = float(input(\"please enter marks in subject-4 : \"))\n",
    "e = float(input(\"please enter marks in subject-5 : \"))\n",
    "if(a>100 or a <0 or b>100 or b <0 or c>100 or c <0 or d>100 or d <0 or e>100 or e <0):\n",
    "    print(\"please enter marks correctly. It should be between 0 and 100\")\n",
    "else:\n",
    "    p = ((a+b+c+d+e)/500)*100\n",
    "    print(\"percentage obtained by student : \" + str(p) + \"%\")\n",
    "    if(p>=90 and p<=100):\n",
    "        print(\"Student's Grade is A\")\n",
    "    elif(p>=80 and p<=89):\n",
    "        print(\"Student's Grade is B\")\n",
    "    elif(p>=60 and p<=79):\n",
    "        print(\"Student's Grade is C\")\n",
    "    else:\n",
    "        print(\"Student's Grade is F\")"
   ]
  },
  {
   "cell_type": "code",
   "execution_count": 65,
   "metadata": {},
   "outputs": [
    {
     "name": "stdout",
     "output_type": "stream",
     "text": [
      "enter your age : 27\n",
      "Enter your salary : 1450000\n",
      "tax is : 217500.0\n"
     ]
    }
   ],
   "source": [
    "a = int(input(\"enter your age : \"))\n",
    "s = float(input(\"Enter your salary : \"))\n",
    "if(a<0 or s<0):\n",
    "    print(\"please enter your details correctly\")\n",
    "else:\n",
    "    if(s>=0 and s<=250000):\n",
    "        print(\"tax is : 0\")\n",
    "    elif(s>=250001 and s<=500000):\n",
    "        if(a<60):\n",
    "            tax = (5/100)*s\n",
    "            print(\"tax is : \" + str(tax))\n",
    "        else:\n",
    "            tax = (3/100)*s\n",
    "            print(\"tax is : \" + str(tax))\n",
    "    elif(s>=500001 and s<=1000000):\n",
    "        if(a<60):\n",
    "            tax = (10/100)*s\n",
    "            print(\"tax is : \" + str(tax))\n",
    "        else:\n",
    "            tax = (8/100)*s\n",
    "            print(\"tax is : \" + str(tax))\n",
    "    else:\n",
    "        if(a<60):\n",
    "            tax = (15/100)*s\n",
    "            print(\"tax is : \" + str(tax))\n",
    "        else:\n",
    "            tax = (12/100)*s\n",
    "            print(\"tax is : \" + str(tax))"
   ]
  },
  {
   "cell_type": "code",
   "execution_count": 67,
   "metadata": {},
   "outputs": [
    {
     "name": "stdout",
     "output_type": "stream",
     "text": [
      "10\n",
      "10\n",
      "10\n",
      "OMG\n"
     ]
    }
   ],
   "source": [
    "print(20 if not 1==1 else 10)\n",
    "print(30 if not 1==1 else 20 if 'a' < 'A' else 10)\n",
    "print(40 if not 1==1 else 30 if 'a' < 'A' else 20 if '' else 10)\n",
    "print('No' if not 1==1 else ('No' if 'a'< 'A' else ('OMG' if 'oh!!' else 'No')))"
   ]
  },
  {
   "cell_type": "code",
   "execution_count": 69,
   "metadata": {},
   "outputs": [
    {
     "name": "stdout",
     "output_type": "stream",
     "text": [
      "enter your weight in Kg : 75\n",
      "Enter your height in cms : 180\n",
      "Your Body Mass Index is : 23.148148148148145\n",
      "Normal (healthy weight)\n"
     ]
    }
   ],
   "source": [
    "w = float(input(\"enter your weight in Kg : \"))\n",
    "hc = float(input(\"Enter your height in cms : \"))\n",
    "h = hc/100\n",
    "bmi = w/h**2\n",
    "print(\"Your Body Mass Index is : \" + str(bmi))\n",
    "if(bmi > 40):\n",
    "    print(\"Obese Class III (Very severely obese)\")\n",
    "elif(bmi > 35 and bmi <= 40):\n",
    "    print(\"Obese Class II (Severely obese)\")\n",
    "elif(bmi > 30 and bmi <= 35):\n",
    "    print(\"Obese Class I (Moderately obese)\")\n",
    "elif(bmi > 25 and bmi <= 30):\n",
    "    print(\"Overweight\")\n",
    "elif(bmi > 18.5 and bmi <= 25):\n",
    "    print(\"Normal (healthy weight)\")\n",
    "elif(bmi > 16 and bmi <= 18.5):\n",
    "    print(\"Underweight\")\n",
    "elif(bmi > 16 and bmi <= 18.5):\n",
    "    print(\"Severely underweight\")\n",
    "else:\n",
    "    print(\"Very severely underweight\")"
   ]
  },
  {
   "cell_type": "code",
   "execution_count": 90,
   "metadata": {},
   "outputs": [
    {
     "name": "stdout",
     "output_type": "stream",
     "text": [
      "User-1:enter your age in years : 25\n",
      "User-2:enter your age in years : 50\n",
      "User-3:enter your age in years : 30\n",
      "User-1 is Younger\n",
      "user-2 is Oldest\n"
     ]
    }
   ],
   "source": [
    "a1=int(input(\"User-1:enter your age in years : \"))\n",
    "a2=int(input(\"User-2:enter your age in years : \"))\n",
    "a3=int(input(\"User-3:enter your age in years : \"))\n",
    "if(a1==a2==a3):\n",
    "    print(\"All are of same age\")\n",
    "elif(a1 > a2 and a1 > a3):\n",
    "    print(\"User-1 is Oldest\")\n",
    "    if(a2 > a3):\n",
    "        print(\"user-3 is Younger\")\n",
    "    else:\n",
    "        print(\"user-2 is Younger\")\n",
    "elif(a1 < a2 and a1 < a3):\n",
    "    print(\"User-1 is Younger\")\n",
    "    if(a2 > a3):\n",
    "        print(\"user-2 is Oldest\")\n",
    "    elif(a2 < a3):\n",
    "        print(\"user-3 is Oldest\")\n",
    "    else:\n",
    "        print(\"User-2 and User-3 are of same age. Both are Oldest\")\n",
    "else:\n",
    "    if(a1 == a2 and a1>a3):\n",
    "        print(\"User-1 and User-2 are of same age. Both are Oldest\")\n",
    "        print(\"User-3 is Younger\")\n",
    "    elif(a1 == a3 and a1<a2):\n",
    "        print(\"User-1 and User-3 are of same age. Both are Younger\")\n",
    "        print(\"User-2 is Oldest\")\n",
    "    elif(a2 == a3 and a2<a1):\n",
    "        print(\"User-2 and User-3 are of same age. Both are Younger\")\n",
    "        print(\"User-1 is Oldest\")"
   ]
  },
  {
   "cell_type": "code",
   "execution_count": 94,
   "metadata": {},
   "outputs": [
    {
     "name": "stdout",
     "output_type": "stream",
     "text": [
      "Enter a number : 77\n",
      "77.0 is divisible by 7 and not by 5\n"
     ]
    }
   ],
   "source": [
    "n=float(input(\"Enter a number : \"))\n",
    "if(n%5==0 and n%7==0):\n",
    "    print(f\"{n} is divisible by both 5 and 7\")\n",
    "elif(n%5==0):\n",
    "    print(f\"{n} is divisible by 5 and not by 7\")\n",
    "elif(n%7==0):\n",
    "    print(f\"{n} is divisible by 7 and not by 5\")\n",
    "else:\n",
    "    print(f\"{n} is not divisible by both 5 and 7\")"
   ]
  }
 ],
 "metadata": {
  "kernelspec": {
   "display_name": "Python 3",
   "language": "python",
   "name": "python3"
  },
  "language_info": {
   "codemirror_mode": {
    "name": "ipython",
    "version": 3
   },
   "file_extension": ".py",
   "mimetype": "text/x-python",
   "name": "python",
   "nbconvert_exporter": "python",
   "pygments_lexer": "ipython3",
   "version": "3.7.6"
  }
 },
 "nbformat": 4,
 "nbformat_minor": 4
}
