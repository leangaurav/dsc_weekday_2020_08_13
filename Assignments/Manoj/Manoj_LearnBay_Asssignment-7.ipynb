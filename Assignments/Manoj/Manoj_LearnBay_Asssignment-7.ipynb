{
 "cells": [
  {
   "cell_type": "code",
   "execution_count": 10,
   "metadata": {},
   "outputs": [
    {
     "name": "stdout",
     "output_type": "stream",
     "text": [
      "------------- with range based FOR loop -------------\n",
      "{1: -1, 2: -2, 3: -3, 4: -4, 5: -5}\n",
      "------------- without range based FOR loop -------------\n",
      "{1: -1, 2: -2, 3: -3, 4: -4, 5: -5}\n"
     ]
    }
   ],
   "source": [
    "print(\"------------- with range based FOR loop -------------\")\n",
    "d={}\n",
    "for i in range(1,6):\n",
    "    d[i] = (-i)\n",
    "print(d)\n",
    "print(\"------------- without range based FOR loop -------------\")\n",
    "d={}\n",
    "n=[1,2,3,4,5]\n",
    "for i in n:\n",
    "    d[i] = -n[i-1]\n",
    "print(d)"
   ]
  },
  {
   "cell_type": "code",
   "execution_count": 2,
   "metadata": {},
   "outputs": [],
   "source": [
    "#    d={1=2,2=3} # will not work - Syntax error\n",
    "#    d={1:2,2:3}  # will work - {1:2 , 2:3}\n",
    "#    d={1,2 ; 2,3} # will not work - Syntax Error\n",
    "#    d={(1,2),(2,3)} # will work - {(1,2) , (2,3)}\n",
    "#    d={'a':'A', 'b':1,'c':[1234]} # will work - {'a' : 'A', 'b' : 1, 'c' : [1234]}\n",
    "#    d={'a':'A', 'b':1, c:[1234]} # will not work - Name Error\n",
    "#    d= dict([(1,2),(2,3)]) # will work - {1:2 , 2:3} \n",
    "#    d= dict(((1,2),(2,3))) # will work - {1:2 , 2:3} \n",
    "#    d= dict((1,2),(2,3)) # will not work - Type error\n",
    "#    d=dict(x=2, y=3) # will work - {'x':2 , 'y':3}\n",
    "#    d=dict('x'=2,'y'=3) # will not work - syntax error\n",
    "#    d=dict(1=2,2=3) # will not work - syntax error "
   ]
  },
  {
   "cell_type": "code",
   "execution_count": 3,
   "metadata": {},
   "outputs": [
    {
     "data": {
      "text/plain": [
       "{1: 10, 2: 20, 3: 30, 4: 40}"
      ]
     },
     "execution_count": 3,
     "metadata": {},
     "output_type": "execute_result"
    }
   ],
   "source": [
    "#  ??zip\n",
    "l1 = [1,2,3,4]\n",
    "l2 = [10,20,30,40]\n",
    "d = dict(zip(l1,l2))\n",
    "d"
   ]
  },
  {
   "cell_type": "code",
   "execution_count": 4,
   "metadata": {},
   "outputs": [
    {
     "name": "stdout",
     "output_type": "stream",
     "text": [
      "{'A': 65, 'B': 66, 'C': 67, 'D': 68, 'E': 69, 'F': 70, 'G': 71, 'H': 72, 'I': 73, 'J': 74, 'K': 75, 'L': 76, 'M': 77, 'N': 78, 'O': 79, 'P': 80, 'Q': 81, 'R': 82, 'S': 83, 'T': 84, 'U': 85, 'V': 86, 'W': 87, 'X': 88, 'Y': 89, 'Z': 90}\n"
     ]
    }
   ],
   "source": [
    "import string\n",
    "s=string.ascii_uppercase\n",
    "c=list(s)\n",
    "a=[]\n",
    "for i in c:\n",
    "    o=ord(i)\n",
    "    a.append(o)\n",
    "print(dict(zip(c,a)))"
   ]
  },
  {
   "cell_type": "code",
   "execution_count": 5,
   "metadata": {},
   "outputs": [
    {
     "name": "stdout",
     "output_type": "stream",
     "text": [
      "Enter a number between 1 and 9 : 4\n",
      "Corresponding Work format for the number 4 : FOUR\n",
      "[0, 1, 2, 3, 4, 5, 6, 7, 8, 9]\n",
      "['ZERO', 'ONE', 'TWO', 'THREE', 'FOUR', 'FIVE', 'SIX', 'SEVEN', 'EIGHT', 'NINE']\n",
      "[(0, 'ZERO'), (1, 'ONE'), (2, 'TWO'), (3, 'THREE'), (4, 'FOUR'), (5, 'FIVE'), (6, 'SIX'), (7, 'SEVEN'), (8, 'EIGHT'), (9, 'NINE')]\n"
     ]
    }
   ],
   "source": [
    "l1 = [0,1,2,3,4,5,6,7,8,9] \n",
    "l2 = ['ZERO','ONE','TWO','THREE','FOUR','FIVE','SIX','SEVEN','EIGHT','NINE'] \n",
    "d=dict(zip(l1,l2))\n",
    "n=int(input(\"Enter a number between 1 and 9 : \"))\n",
    "print(f\"Corresponding Work format for the number {n} : \" + str(d[n]))\n",
    "print(list(d.keys()))\n",
    "print(list(d.values()))\n",
    "print(list(d.items()))"
   ]
  },
  {
   "cell_type": "code",
   "execution_count": 6,
   "metadata": {},
   "outputs": [
    {
     "name": "stdout",
     "output_type": "stream",
     "text": [
      "{'A': 'Apple', 'B': 'Ball', 'C': 'Cat', 'D': 'Dog'}\n",
      "{'A': 'Apple', 'C': 'Cat'}\n"
     ]
    }
   ],
   "source": [
    "l1=['A','B','C','D']\n",
    "l2=['Apple','Ball','Cat','Dog']\n",
    "d1=dict(zip(l1,l2))\n",
    "print(d1) \n",
    "# {'A' : 'Apple' , 'B' : 'Ball' , 'C' : 'Cat' , 'D' : 'Dog'}\n",
    "d2=dict(list(d1.items())[::2])\n",
    "print(d2) \n",
    "#{'A' : 'Apple' , 'C' : 'Cat'}"
   ]
  },
  {
   "cell_type": "code",
   "execution_count": 7,
   "metadata": {},
   "outputs": [
    {
     "name": "stdout",
     "output_type": "stream",
     "text": [
      "Enter a string : Manoj is playing a Game\n",
      "{'A': 0, 'E': 0, 'O': 0, 'I': 0, 'U': 0, 'a': 4, 'e': 1, 'o': 1, 'i': 2, 'u': 0}\n"
     ]
    }
   ],
   "source": [
    "s=input(\"Enter a string : \")\n",
    "d={}\n",
    "for i in 'AEOIUaeoiu':\n",
    "    d1={i: s.count(i)}\n",
    "    d.update(d1)\n",
    "print(d)"
   ]
  },
  {
   "cell_type": "code",
   "execution_count": 8,
   "metadata": {
    "scrolled": true
   },
   "outputs": [
    {
     "name": "stdout",
     "output_type": "stream",
     "text": [
      "Enter a string : Manoj is playing a game\n",
      "{'M': 1, 'a': 4, 'n': 2, 'o': 1, 'j': 1, ' ': 4, 'i': 2, 's': 1, 'p': 1, 'l': 1, 'y': 1, 'g': 2, 'm': 1, 'e': 1}\n"
     ]
    }
   ],
   "source": [
    "s=input(\"Enter a string : \")\n",
    "d={}\n",
    "for i in s:\n",
    "    d1={i: s.count(i)}\n",
    "    d.update(d1)\n",
    "print(d)"
   ]
  },
  {
   "cell_type": "code",
   "execution_count": 24,
   "metadata": {},
   "outputs": [
    {
     "name": "stdout",
     "output_type": "stream",
     "text": [
      "Enter a string : Count the words in the sentence In\n",
      "{'count': 1, 'the': 2, 'words': 1, 'in': 2, 'sentence': 1}\n"
     ]
    }
   ],
   "source": [
    "# Count the words in the sentence in\n",
    "s=input(\"Enter a string : \")\n",
    "l=s.lower().split(\" \")\n",
    "d={}\n",
    "for i in l:\n",
    "    d1={i: l.count(i)}\n",
    "    d.update(d1)\n",
    "print(d)"
   ]
  },
  {
   "cell_type": "code",
   "execution_count": null,
   "metadata": {},
   "outputs": [],
   "source": []
  }
 ],
 "metadata": {
  "kernelspec": {
   "display_name": "Python 3",
   "language": "python",
   "name": "python3"
  },
  "language_info": {
   "codemirror_mode": {
    "name": "ipython",
    "version": 3
   },
   "file_extension": ".py",
   "mimetype": "text/x-python",
   "name": "python",
   "nbconvert_exporter": "python",
   "pygments_lexer": "ipython3",
   "version": "3.7.6"
  }
 },
 "nbformat": 4,
 "nbformat_minor": 4
}
