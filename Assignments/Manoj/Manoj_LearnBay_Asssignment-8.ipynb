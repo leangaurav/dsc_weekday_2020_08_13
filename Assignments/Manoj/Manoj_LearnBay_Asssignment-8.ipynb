{
 "cells": [
  {
   "cell_type": "code",
   "execution_count": 1,
   "metadata": {},
   "outputs": [
    {
     "name": "stdout",
     "output_type": "stream",
     "text": [
      "Enter a number : 5\n",
      "Square of 5.0 is : 25.0\n",
      "Inverse of 5.0 is : 0.2\n",
      "Negate of 5.0 is : -5.0\n"
     ]
    }
   ],
   "source": [
    "n=float(input(\"Enter a number : \"))\n",
    "l1 = lambda x:x**2\n",
    "l2 = lambda x:(1/x)\n",
    "l3 = lambda x:-x\n",
    "print(f\"Square of {n} is : \" + str(l1(n)))\n",
    "print(f\"Inverse of {n} is : \" + str(l2(n)))\n",
    "print(f\"Negate of {n} is : \" + str(l3(n)))"
   ]
  },
  {
   "cell_type": "code",
   "execution_count": 2,
   "metadata": {},
   "outputs": [
    {
     "name": "stdout",
     "output_type": "stream",
     "text": [
      "Enter a list of values seperated by coma: 10,20,50,60,99,8,1,4\n",
      "Maximum value in the list ['10', '20', '50', '60', '99', '8', '1', '4'] is : 99\n"
     ]
    }
   ],
   "source": [
    "import functools\n",
    "l1=(input(\"Enter a list of values seperated by coma: \"))\n",
    "l=l1.split(\",\")\n",
    "maxi = functools.reduce(lambda x, y: x if x > y else y,l)\n",
    "print(f\"Maximum value in the list {l} is : \" + str(maxi))"
   ]
  },
  {
   "cell_type": "code",
   "execution_count": 1,
   "metadata": {},
   "outputs": [
    {
     "data": {
      "text/plain": [
       "[[1, 4, 9, 16, 25],\n",
       " [1.0, 0.25, 0.1111111111111111, 0.0625, 0.04],\n",
       " [-1.0, -0.25, -0.1111111111111111, -0.0625, -0.04]]"
      ]
     },
     "execution_count": 1,
     "metadata": {},
     "output_type": "execute_result"
    }
   ],
   "source": [
    "# l=[lambda x:x**2, lambda x:(1/x), lambda x:-x]\n",
    "# s=[1,2,4]\n",
    "\n",
    "def map_multiple(functs,sequence):\n",
    "    n1=[]\n",
    "    n2=[]\n",
    "    n3=[]\n",
    "    n1=list(map(functs[0],sequence))\n",
    "    n3.append(n1)\n",
    "    n2=list(n1)\n",
    "    for i in range(1,len(functs)):\n",
    "        v=list(map(functs[i],n2))\n",
    "        n2 = v\n",
    "        n3.append(n2)\n",
    "    return n3\n",
    "map_multiple([lambda x:x**2, lambda x:(1/x), lambda x:-x],[1,2,3,4,5])"
   ]
  },
  {
   "cell_type": "code",
   "execution_count": 4,
   "metadata": {},
   "outputs": [
    {
     "name": "stdout",
     "output_type": "stream",
     "text": [
      "50\n"
     ]
    }
   ],
   "source": [
    "from functools import reduce\n",
    "f= lambda x,y : x if x>y else y\n",
    "l=[10,30,50,30,10]\n",
    "num=reduce(f,l)\n",
    "print(num)"
   ]
  },
  {
   "cell_type": "code",
   "execution_count": 5,
   "metadata": {},
   "outputs": [
    {
     "name": "stdout",
     "output_type": "stream",
     "text": [
      "[1.0, 1.0]\n",
      "[1.0, 1.0, 2.0, 0.5]\n",
      "[1.0, 1.0, 2.0, 0.5, 4.0, 0.25]\n",
      "[1.0, 1.0, 2.0, 0.5, 4.0, 0.25, 8.0, 0.125]\n"
     ]
    }
   ],
   "source": [
    "functs = [lambda x:x**0.5 , lambda x:1/x]\n",
    "l=[1,4,16,64]\n",
    "ans=[]\n",
    "for num in l:\n",
    "    res = num\n",
    "    for funct in functs:\n",
    "        res = funct(res)\n",
    "        ans.append(res)\n",
    "    print(ans)"
   ]
  },
  {
   "cell_type": "code",
   "execution_count": 7,
   "metadata": {},
   "outputs": [
    {
     "name": "stdout",
     "output_type": "stream",
     "text": [
      "------------ without using filter ------------\n",
      "[10, 30, 40, 50, 20, 30]\n",
      "------------ using filter ------------\n",
      "[10, 30, 40, 50, 20, 30]\n"
     ]
    }
   ],
   "source": [
    "n=[10,30,40,50,'abd','vk',20,30]\n",
    "print(\"------------ without using filter ------------\")\n",
    "l=[]\n",
    "for i in n:\n",
    "    if(isinstance(i, int) == 1):\n",
    "        l.append(i)\n",
    "print(l)\n",
    "print(\"------------ using filter ------------\")\n",
    "filt = list(filter(lambda x: isinstance(x, (int, float)), n))\n",
    "print(filt)"
   ]
  },
  {
   "cell_type": "code",
   "execution_count": 2,
   "metadata": {},
   "outputs": [
    {
     "data": {
      "text/plain": [
       "[[1.803], [1.524]]"
      ]
     },
     "execution_count": 2,
     "metadata": {},
     "output_type": "execute_result"
    }
   ],
   "source": [
    "def convert_ft_mt(l):\n",
    "    ht_mt=[]\n",
    "    if l.find(\"ft\") > 0 and l.find(\"in\") == -1:\n",
    "        ft = l[0:l.find(\"ft\")]\n",
    "        inch = 0\n",
    "        inch = float(inch) + float(ft) * 12\n",
    "        ht_m = round(((inch * 2.54)/100),3)\n",
    "        ht_mt.append(ht_m)\n",
    "    if l.find(\"ft\") == -1 and l.find(\"in\") > 0:\n",
    "        inch = l[0:l.find(\"in\")]\n",
    "        ft = 0\n",
    "        inch = float(inch) + float(ft) * 12\n",
    "        ht_m = round(((inch * 2.54)/100),3)\n",
    "        ht_mt.append(ht_m)\n",
    "    if l.find(\"ft\") > 0 and l.find(\"in\") > 0:\n",
    "        ft = l[0:l.find(\"ft\")] \n",
    "        inch = l[l.find(\"ft\")+2:l.find(\"in\")]\n",
    "        inch = float(inch) + float(ft) * 12\n",
    "        ht_m = round(((inch * 2.54)/100),3)\n",
    "        ht_mt.append(ht_m)\n",
    "    return ht_mt\n",
    "l = ['5ft11in','5ft']\n",
    "list(map(convert_ft_mt,l))"
   ]
  },
  {
   "cell_type": "code",
   "execution_count": 56,
   "metadata": {},
   "outputs": [
    {
     "data": {
      "text/plain": [
       "[[1.803], [1.524]]"
      ]
     },
     "execution_count": 56,
     "metadata": {},
     "output_type": "execute_result"
    }
   ],
   "source": [
    "def my_map(funct,Seq):\n",
    "    for i in Seq:\n",
    "        yield funct(i)\n",
    "list(my_map(convert_ft_mt,['5ft11in','5ft']))"
   ]
  }
 ],
 "metadata": {
  "kernelspec": {
   "display_name": "Python 3",
   "language": "python",
   "name": "python3"
  },
  "language_info": {
   "codemirror_mode": {
    "name": "ipython",
    "version": 3
   },
   "file_extension": ".py",
   "mimetype": "text/x-python",
   "name": "python",
   "nbconvert_exporter": "python",
   "pygments_lexer": "ipython3",
   "version": "3.7.6"
  }
 },
 "nbformat": 4,
 "nbformat_minor": 4
}
