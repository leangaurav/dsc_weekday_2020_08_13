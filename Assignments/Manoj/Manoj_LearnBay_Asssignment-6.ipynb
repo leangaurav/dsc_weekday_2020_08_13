{
 "cells": [
  {
   "cell_type": "code",
   "execution_count": 1,
   "metadata": {},
   "outputs": [
    {
     "name": "stdout",
     "output_type": "stream",
     "text": [
      "Enter a string : Manoj\n",
      "M,a,n,o,j\n"
     ]
    },
    {
     "data": {
      "text/plain": [
       "str"
      ]
     },
     "execution_count": 1,
     "metadata": {},
     "output_type": "execute_result"
    }
   ],
   "source": [
    "s=input(\"Enter a string : \")\n",
    "a=''\n",
    "for i in range(0,len(s)):\n",
    "    a+=s[i]\n",
    "    if(i<len(s)-1):\n",
    "        a+=\",\"\n",
    "print(a)\n",
    "type(a)"
   ]
  },
  {
   "cell_type": "code",
   "execution_count": 2,
   "metadata": {},
   "outputs": [
    {
     "name": "stdout",
     "output_type": "stream",
     "text": [
      "Enter a string : Manoj\n",
      "ASCII value of M is :77\n",
      "ASCII value of a is :97\n",
      "ASCII value of n is :110\n",
      "ASCII value of o is :111\n",
      "ASCII value of j is :106\n"
     ]
    }
   ],
   "source": [
    "s=input(\"Enter a string : \")\n",
    "for i in s:\n",
    "    print(f\"ASCII value of {i} is :\" + str(ord(i)))"
   ]
  },
  {
   "cell_type": "code",
   "execution_count": 35,
   "metadata": {},
   "outputs": [
    {
     "data": {
      "text/plain": [
       "15"
      ]
     },
     "execution_count": 35,
     "metadata": {},
     "output_type": "execute_result"
    }
   ],
   "source": [
    "def num_to_Odd_Sum(list):\n",
    "    odd_sum=0\n",
    "    for i in list:\n",
    "        odd_sum+=i*(i%2)\n",
    "    return odd_sum\n",
    "num_to_Odd_Sum([1,4,2,9,5,8])"
   ]
  },
  {
   "cell_type": "code",
   "execution_count": 47,
   "metadata": {},
   "outputs": [
    {
     "name": "stdout",
     "output_type": "stream",
     "text": [
      "enter a list of numbers : 1,2,3,4,5,6\n",
      "enter a number : 5\n",
      "index of number 5 in tuple (1, 2, 3, 4, 5, 6) is : 4\n"
     ]
    }
   ],
   "source": [
    "a=input(\"enter a list of numbers : \")\n",
    "n=int(input(\"enter a number : \"))\n",
    "l=[]\n",
    "for i in a:\n",
    "    if(str.isnumeric(i)):\n",
    "        l.append(int(i))\n",
    "t=tuple(l)\n",
    "print(f\"index of number {n} in tuple {t} is : \" + str(t.index(n)))"
   ]
  },
  {
   "cell_type": "code",
   "execution_count": 58,
   "metadata": {},
   "outputs": [
    {
     "name": "stdout",
     "output_type": "stream",
     "text": [
      "list of 10 random numbers : [315, 164, 847, 779, 123, 309, 659, 38, 355, 573]\n",
      "sum 10 random numbers : 4162\n",
      "Average of 10 random numbers : 416.2\n",
      "list with elements at even indexes : [315, 847, 123, 659, 355]\n"
     ]
    }
   ],
   "source": [
    "import random\n",
    "l=[]\n",
    "e=[]\n",
    "for i in range(0,10):\n",
    "    a=random.randint(1,1000)\n",
    "    l.append(a)\n",
    "avg=sum(l)/len(l)\n",
    "for i in range(0,len(l),2):\n",
    "    e.append(l[i])\n",
    "print(\"list of 10 random numbers : \" + str(l))\n",
    "print(\"sum 10 random numbers : \" + str(sum(l)))\n",
    "print(\"Average of 10 random numbers : \" + str(avg))\n",
    "print(\"list with elements at even indexes : \" + str(e))"
   ]
  },
  {
   "cell_type": "code",
   "execution_count": 60,
   "metadata": {},
   "outputs": [
    {
     "name": "stdout",
     "output_type": "stream",
     "text": [
      "Enter a number 1 :5\n",
      "Enter a number 2 :5\n",
      "Enter a number 3 :5\n",
      "Enter a number 4 :5\n",
      "Enter a number 5 :5\n",
      "Enter a number 6 :10\n",
      "Enter a number 7 :10\n",
      "Enter a number 8 :10\n",
      "Enter a number 9 :10\n",
      "Enter a number 10 :10\n",
      "The lsit that got created is[5, 5, 5, 5, 5, 10, 10, 10, 10, 10]\n",
      "sum of all the numbers enetered : 75\n"
     ]
    }
   ],
   "source": [
    "l=[]\n",
    "for i in range(0,10):\n",
    "    a=int(input(f\"Enter a number {i+1} :\"))\n",
    "    l.append(a)\n",
    "print(\"The lsit that got created is\" + str(l))\n",
    "print(\"sum of all the numbers enetered : \" + str(sum(l)))"
   ]
  },
  {
   "cell_type": "code",
   "execution_count": 68,
   "metadata": {},
   "outputs": [
    {
     "name": "stdout",
     "output_type": "stream",
     "text": [
      "enter a number : 7\n",
      "7  *  1  =  7\n",
      "7  *  2  =  14\n",
      "7  *  3  =  21\n",
      "7  *  4  =  28\n",
      "7  *  5  =  35\n",
      "7  *  6  =  42\n",
      "7  *  7  =  49\n",
      "7  *  8  =  56\n",
      "7  *  9  =  63\n",
      "7  *  10  =  70\n"
     ]
    }
   ],
   "source": [
    "n=int(input(\"enter a number : \"))\n",
    "for i in range(0,10):\n",
    "    print(f\"{n}  *  {i+1}\" + \"  =  \" + str(n*(i+1)))"
   ]
  },
  {
   "cell_type": "code",
   "execution_count": 71,
   "metadata": {},
   "outputs": [
    {
     "name": "stdout",
     "output_type": "stream",
     "text": [
      "Enter a string : Manoj is playing a game\n",
      "number of spaces in the string : 4\n"
     ]
    }
   ],
   "source": [
    "s=input(\"Enter a string : \")\n",
    "count=0\n",
    "for i in s:\n",
    "    if(i==' '):\n",
    "        count+=1\n",
    "print(\"number of spaces in the string : \" + str(count))"
   ]
  },
  {
   "cell_type": "code",
   "execution_count": 75,
   "metadata": {},
   "outputs": [
    {
     "name": "stdout",
     "output_type": "stream",
     "text": [
      "Enter a string : Manoj is playing a game\n",
      "number of vowels in the string : 8\n"
     ]
    }
   ],
   "source": [
    "s=input(\"Enter a string : \")\n",
    "count=0\n",
    "for i in s:\n",
    "    if(str.upper(i) in ['A','E','I','O','U']):\n",
    "       count+=1\n",
    "print(\"number of vowels in the string : \" + str(count))"
   ]
  },
  {
   "cell_type": "code",
   "execution_count": 80,
   "metadata": {},
   "outputs": [
    {
     "name": "stdout",
     "output_type": "stream",
     "text": [
      "Enter a string : Manoj is playing a game\n",
      "string Manoj is playing a game after replacement : M_n_j _s pl_y_ng _ g_m_\n"
     ]
    }
   ],
   "source": [
    "s=input(\"Enter a string : \")\n",
    "l=[]\n",
    "for i in s:\n",
    "    if(str.upper(i) in ['A','E','I','O','U']):\n",
    "        l.append(\"_\")\n",
    "    else:\n",
    "        l.append(i)\n",
    "s1 = \"\".join(l)\n",
    "print(f\"string {s} after replacement : \" + str(s1))"
   ]
  },
  {
   "cell_type": "code",
   "execution_count": 83,
   "metadata": {},
   "outputs": [
    {
     "name": "stdout",
     "output_type": "stream",
     "text": [
      "---------------- 11(a) ----------------\n",
      "Num :  0\n",
      "Loop Ends\n",
      "---------------- 11(b) ----------------\n",
      "Num :  0\n"
     ]
    },
    {
     "ename": "SystemExit",
     "evalue": "",
     "output_type": "error",
     "traceback": [
      "An exception has occurred, use %tb to see the full traceback.\n",
      "\u001b[1;31mSystemExit\u001b[0m\n"
     ]
    },
    {
     "name": "stderr",
     "output_type": "stream",
     "text": [
      "C:\\ProgramData\\Anaconda3\\lib\\site-packages\\IPython\\core\\interactiveshell.py:3339: UserWarning: To exit: use 'exit', 'quit', or Ctrl-D.\n",
      "  warn(\"To exit: use 'exit', 'quit', or Ctrl-D.\", stacklevel=1)\n"
     ]
    }
   ],
   "source": [
    "print(\"---------------- 11(a) ----------------\")\n",
    "for num in range(10):\n",
    "    print(\"Num : \", num)\n",
    "    if(num % 4 == 0):\n",
    "        break;\n",
    "print(\"Loop Ends\")\n",
    "print(\"---------------- 11(b) ----------------\")\n",
    "import sys\n",
    "for num in range(10):\n",
    "    print(\"Num : \", num)\n",
    "    if(num % 4 == 0):\n",
    "        sys.exit();\n",
    "print(\"Loop Ends\")"
   ]
  },
  {
   "cell_type": "code",
   "execution_count": 84,
   "metadata": {},
   "outputs": [
    {
     "name": "stdout",
     "output_type": "stream",
     "text": [
      "---------------- 12(a) ----------------\n",
      "*****\n",
      "*****\n",
      "*****\n",
      "*****\n",
      "*****\n",
      "---------------- 12(b) ----------------\n",
      "1\n",
      "22\n",
      "333\n",
      "4444\n",
      "55555\n",
      "---------------- 12(c) ----------------\n",
      "1\n",
      "22\n",
      "333\n",
      "4444\n",
      "55555\n",
      "---------------- 12(d) ----------------\n",
      "**\n",
      "***\n",
      "****\n",
      "*****\n",
      "******\n"
     ]
    }
   ],
   "source": [
    "print(\"---------------- 12(a) ----------------\")\n",
    "for i1 in range(1,6):\n",
    "    for i2 in range(5):\n",
    "        print(\"*\", end=\"\")\n",
    "    print()\n",
    "print(\"---------------- 12(b) ----------------\")\n",
    "for i1 in range(1,6):\n",
    "    for i2 in range(i1):\n",
    "        print(i1, end=\"\")\n",
    "    print()\n",
    "print(\"---------------- 12(c) ----------------\")\n",
    "for i1 in range(1,6):\n",
    "    print(str(i1)*i1)\n",
    "print(\"---------------- 12(d) ----------------\")\n",
    "for i1 in range(1,6):\n",
    "    for i2 in range(i1+1):\n",
    "        print(\"*\", end=\"\")\n",
    "    print()"
   ]
  }
 ],
 "metadata": {
  "kernelspec": {
   "display_name": "Python 3",
   "language": "python",
   "name": "python3"
  },
  "language_info": {
   "codemirror_mode": {
    "name": "ipython",
    "version": 3
   },
   "file_extension": ".py",
   "mimetype": "text/x-python",
   "name": "python",
   "nbconvert_exporter": "python",
   "pygments_lexer": "ipython3",
   "version": "3.7.6"
  }
 },
 "nbformat": 4,
 "nbformat_minor": 4
}
