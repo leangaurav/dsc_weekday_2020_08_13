{
 "cells": [
  {
   "cell_type": "code",
   "execution_count": 15,
   "metadata": {},
   "outputs": [
    {
     "data": {
      "text/plain": [
       "[8, 7, 6, 5, 4, 3, 2, 1]"
      ]
     },
     "execution_count": 15,
     "metadata": {},
     "output_type": "execute_result"
    }
   ],
   "source": [
    "def reverse_list(list):\n",
    "    rl = []\n",
    "    for i in range(len(list)-1,-1,-1):\n",
    "        rl.append(l[i])\n",
    "    return rl\n",
    "reverse_list([1,2,3,4,5,6,7,8])"
   ]
  },
  {
   "cell_type": "code",
   "execution_count": 25,
   "metadata": {},
   "outputs": [
    {
     "data": {
      "text/plain": [
       "'number of even numbers = 4 and number of odd numbers = 5'"
      ]
     },
     "execution_count": 25,
     "metadata": {},
     "output_type": "execute_result"
    }
   ],
   "source": [
    "def count_even_odd(list):\n",
    "    ec = 0\n",
    "    oc = 0\n",
    "    for i in range(len(list)-1,-1,-1):\n",
    "        if(list[i] % 2 == 0):\n",
    "            ec+=1\n",
    "        else:\n",
    "            oc+=1\n",
    "    return \"number of even numbers = \" + str(ec) + \" and \" + \"number of odd numbers = \" + str(oc)\n",
    "count_even_odd([1,2,3,4,5,6,7,8,9])"
   ]
  },
  {
   "cell_type": "code",
   "execution_count": 71,
   "metadata": {},
   "outputs": [
    {
     "data": {
      "text/plain": [
       "'maximum number from the list is : 35565'"
      ]
     },
     "execution_count": 71,
     "metadata": {},
     "output_type": "execute_result"
    }
   ],
   "source": [
    "def maximum(list):\n",
    "    max = 0\n",
    "    for i in range(len(list)-1,-1,-1):\n",
    "        if(max > list[i]):\n",
    "            max=max\n",
    "        else:\n",
    "            max=list[i]\n",
    "    return \"maximum number from the list is : \" + str(max)\n",
    "maximum((1110,2,35565,35565,565,66,7,8,-999))"
   ]
  },
  {
   "cell_type": "code",
   "execution_count": 72,
   "metadata": {},
   "outputs": [
    {
     "data": {
      "text/plain": [
       "'Second maximum number from the list is : 1110'"
      ]
     },
     "execution_count": 72,
     "metadata": {},
     "output_type": "execute_result"
    }
   ],
   "source": [
    "def second_maximum(list):\n",
    "    l=[] #uniqueList\n",
    "    for i in list:\n",
    "        if i not in l:\n",
    "            l.append(i)\n",
    "    l.sort(reverse=True)\n",
    "    return \"Second maximum number from the list is : \" + str(l[1])\n",
    "second_maximum([1110,2,35565,35565,565,66,7,8,-999])"
   ]
  },
  {
   "cell_type": "code",
   "execution_count": 78,
   "metadata": {},
   "outputs": [
    {
     "data": {
      "text/plain": [
       "12.5"
      ]
     },
     "execution_count": 78,
     "metadata": {},
     "output_type": "execute_result"
    }
   ],
   "source": [
    "def mean(list):\n",
    "    s=sum(list)\n",
    "    n=len(list)\n",
    "    mean = s/n\n",
    "    return mean\n",
    "mean((10,10,10,20))"
   ]
  },
  {
   "cell_type": "code",
   "execution_count": 81,
   "metadata": {},
   "outputs": [
    {
     "data": {
      "text/plain": [
       "[5, 8, 7]"
      ]
     },
     "execution_count": 81,
     "metadata": {},
     "output_type": "execute_result"
    }
   ],
   "source": [
    "def find_in_range(list,start,end):\n",
    "    l=[]\n",
    "    for i in list:\n",
    "        if(i==start or (i> start and i<end)):\n",
    "            l.append(i)\n",
    "    return l\n",
    "find_in_range([3,10,5,8,2,7],5,9)"
   ]
  }
 ],
 "metadata": {
  "kernelspec": {
   "display_name": "Python 3",
   "language": "python",
   "name": "python3"
  },
  "language_info": {
   "codemirror_mode": {
    "name": "ipython",
    "version": 3
   },
   "file_extension": ".py",
   "mimetype": "text/x-python",
   "name": "python",
   "nbconvert_exporter": "python",
   "pygments_lexer": "ipython3",
   "version": "3.7.6"
  }
 },
 "nbformat": 4,
 "nbformat_minor": 4
}
