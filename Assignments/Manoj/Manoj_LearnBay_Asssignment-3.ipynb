{
 "cells": [
  {
   "cell_type": "code",
   "execution_count": 1,
   "metadata": {},
   "outputs": [
    {
     "name": "stdout",
     "output_type": "stream",
     "text": [
      "enter a string-1 : Manoj\n",
      "enter a string-2 : Budaraju\n",
      "----- strings before swapping -----\n",
      "string1: Manoj\n",
      "string2: Budaraju\n",
      "----- strings after swapping (temp Variable) -----\n",
      "string1: Budaraju\n",
      "string2: Manoj\n",
      "----- strings after swapping (Pythonic) -----\n",
      "string1: Manoj\n",
      "string2: Budaraju\n"
     ]
    }
   ],
   "source": [
    "s1=input(\"enter a string-1 : \")\n",
    "s2=input(\"enter a string-2 : \")\n",
    "print(\"----- strings before swapping -----\")\n",
    "print(\"string1: \" + s1)\n",
    "print(\"string2: \" + s2)\n",
    "print(\"\"\"----- strings after swapping (temp Variable) -----\"\"\")\n",
    "s3 = s2\n",
    "s2 = s1\n",
    "s1 = s3\n",
    "print(\"string1: \" + s1)\n",
    "print(\"string2: \" + s2)\n",
    "print(\"\"\"----- strings after swapping (Pythonic) -----\"\"\")\n",
    "s1=s1+s2;  \n",
    "s2=s1[0:len(s1)-len(s2)]\n",
    "s1=s1[len(s2):]\n",
    "print(\"string1: \" + s1)\n",
    "print(\"string2: \" + s2)"
   ]
  },
  {
   "cell_type": "code",
   "execution_count": 2,
   "metadata": {},
   "outputs": [
    {
     "name": "stdout",
     "output_type": "stream",
     "text": [
      "[24, 3, 8, 6, 14]\n",
      "11.0\n"
     ]
    }
   ],
   "source": [
    "import random\n",
    "rnums = random.sample(range(0, 26), 5)\n",
    "print(rnums)\n",
    "print(sum(rnums)/len(rnums))"
   ]
  },
  {
   "cell_type": "code",
   "execution_count": 3,
   "metadata": {},
   "outputs": [
    {
     "name": "stdout",
     "output_type": "stream",
     "text": [
      "D\n",
      "j\n"
     ]
    }
   ],
   "source": [
    "s=\"abcdefghijklmnopqrstuvwxyzABCDEFGHIJKLMNOPQRSTUVWXYZ\"\n",
    "print(random.choice(s))\n",
    "# from string\n",
    "import string\n",
    "s=string.ascii_letters\n",
    "print(random.choice(s))"
   ]
  },
  {
   "cell_type": "code",
   "execution_count": 4,
   "metadata": {},
   "outputs": [
    {
     "data": {
      "text/plain": [
       "200.0"
      ]
     },
     "execution_count": 4,
     "metadata": {},
     "output_type": "execute_result"
    }
   ],
   "source": [
    "def get_si(Principle,Rate,Time):\n",
    "    SI = (Principle*Rate*Time) / 100\n",
    "    return SI\n",
    "get_si(1000,20,1)"
   ]
  },
  {
   "cell_type": "code",
   "execution_count": 5,
   "metadata": {},
   "outputs": [
    {
     "data": {
      "text/plain": [
       "1200.0"
      ]
     },
     "execution_count": 5,
     "metadata": {},
     "output_type": "execute_result"
    }
   ],
   "source": [
    "def get_amount(Principle,Rate=10,Time=1):\n",
    "    Amount = get_si(Principle,Rate,Time) + Principle\n",
    "    return Amount\n",
    "get_amount(1000,20)"
   ]
  },
  {
   "cell_type": "code",
   "execution_count": 6,
   "metadata": {},
   "outputs": [
    {
     "data": {
      "text/plain": [
       "6105.100000000006"
      ]
     },
     "execution_count": 6,
     "metadata": {},
     "output_type": "execute_result"
    }
   ],
   "source": [
    "def get_ci(P,R,T):\n",
    "    A = P * pow((1+(R/100)),T)\n",
    "    C = A - P\n",
    "    return C\n",
    "get_ci(10000,10,5)"
   ]
  },
  {
   "cell_type": "code",
   "execution_count": 7,
   "metadata": {},
   "outputs": [
    {
     "data": {
      "text/plain": [
       "(3, 0)"
      ]
     },
     "execution_count": 7,
     "metadata": {},
     "output_type": "execute_result"
    }
   ],
   "source": [
    "def get_q_r(n1,n2):\n",
    "    q = n1//n2\n",
    "    r = n1%n2\n",
    "    return q,r\n",
    "get_q_r(90,30)"
   ]
  },
  {
   "cell_type": "code",
   "execution_count": 8,
   "metadata": {},
   "outputs": [
    {
     "name": "stdout",
     "output_type": "stream",
     "text": [
      "enter the length of Base : 3\n",
      "enter the height : 4\n",
      "length of hypotenuse : 5.0\n"
     ]
    }
   ],
   "source": [
    "b = float(input(\"enter the length of Base : \"))\n",
    "h = float(input(\"enter the height : \"))\n",
    "hyp = pow((b**2 + h**2),0.5)\n",
    "print(\"length of hypotenuse : \" + str(hyp))"
   ]
  },
  {
   "cell_type": "code",
   "execution_count": 9,
   "metadata": {},
   "outputs": [
    {
     "name": "stdout",
     "output_type": "stream",
     "text": [
      "enter total number of seconds : 10000\n",
      "0.0 day 2.0 hour 46.0 minute 40.0 second\n"
     ]
    }
   ],
   "source": [
    "sec = float(input(\"enter total number of seconds : \"))\n",
    "d= sec//86400\n",
    "h= (sec - (d*86400))//3600\n",
    "m= (sec - ((d*86400) + (h*3600)))//60\n",
    "s= sec - ((d*86400) + (h*3600) + (m*60))\n",
    "print(f\"{d} day {h} hour {m} minute {s} second\")"
   ]
  },
  {
   "cell_type": "code",
   "execution_count": 10,
   "metadata": {},
   "outputs": [
    {
     "data": {
      "text/plain": [
       "'3.7.6'"
      ]
     },
     "execution_count": 10,
     "metadata": {},
     "output_type": "execute_result"
    }
   ],
   "source": [
    "from platform import python_version\n",
    "python_version()"
   ]
  },
  {
   "cell_type": "code",
   "execution_count": 11,
   "metadata": {},
   "outputs": [
    {
     "name": "stdout",
     "output_type": "stream",
     "text": [
      "2 -2\n"
     ]
    }
   ],
   "source": [
    "X = 2\n",
    "X *= 3\n",
    "X = X%4\n",
    "Y = -X\n",
    "print(X,Y)"
   ]
  },
  {
   "cell_type": "code",
   "execution_count": 12,
   "metadata": {},
   "outputs": [
    {
     "name": "stdout",
     "output_type": "stream",
     "text": [
      "None\n"
     ]
    }
   ],
   "source": [
    "def funct():\n",
    "    pass\n",
    "print(funct())"
   ]
  }
 ],
 "metadata": {
  "kernelspec": {
   "display_name": "Python 3",
   "language": "python",
   "name": "python3"
  },
  "language_info": {
   "codemirror_mode": {
    "name": "ipython",
    "version": 3
   },
   "file_extension": ".py",
   "mimetype": "text/x-python",
   "name": "python",
   "nbconvert_exporter": "python",
   "pygments_lexer": "ipython3",
   "version": "3.7.6"
  }
 },
 "nbformat": 4,
 "nbformat_minor": 4
}
