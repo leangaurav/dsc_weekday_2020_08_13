{
 "cells": [
  {
   "cell_type": "code",
   "execution_count": 18,
   "metadata": {},
   "outputs": [
    {
     "name": "stdout",
     "output_type": "stream",
     "text": [
      "enter a natural number :10\n",
      "first 10 natural Numbers are : [1, 2, 3, 4, 5, 6, 7, 8, 9, 10]\n"
     ]
    }
   ],
   "source": [
    "n=int(input(\"enter a natural number :\"))\n",
    "l=[]\n",
    "if(n > 0):\n",
    "    for i in range(1,n+1):\n",
    "        l.append(i)\n",
    "    print(f\"first {n} natural Numbers are : \" + str(l))\n",
    "else:\n",
    "    print(\"please enter a Natural Number\") "
   ]
  },
  {
   "cell_type": "code",
   "execution_count": 19,
   "metadata": {},
   "outputs": [
    {
     "name": "stdout",
     "output_type": "stream",
     "text": [
      "enter a natural number :10\n",
      "sum of first 10 natural numbers is : 55\n"
     ]
    }
   ],
   "source": [
    "n=int(input(\"enter a natural number :\"))\n",
    "if(n > 0):\n",
    "    s=0\n",
    "    for i in range(0,n+1):\n",
    "        s+=i\n",
    "    print(f\"sum of first {n} natural numbers is : \" + str(s))\n",
    "else:\n",
    "    print(\"please enter a Natural Number\") "
   ]
  },
  {
   "cell_type": "code",
   "execution_count": 20,
   "metadata": {},
   "outputs": [
    {
     "name": "stdout",
     "output_type": "stream",
     "text": [
      "enter a natural number :10\n",
      "first 10 natural Numbers are : [1, 2, 3, 4, 5, 6, 7, 8, 9, 10]\n",
      "first 10 natural Numbers in reverse order : [10, 9, 8, 7, 6, 5, 4, 3, 2, 1]\n"
     ]
    }
   ],
   "source": [
    "n=int(input(\"enter a natural number :\"))\n",
    "l=[]\n",
    "if(n > 0):\n",
    "    for i in range(1,n+1):\n",
    "        l.append(i)\n",
    "    print(f\"first {n} natural Numbers are : \" + str(l))\n",
    "    l.sort(reverse=True)\n",
    "    print(f\"first {n} natural Numbers in reverse order : \" + str(l))\n",
    "else:\n",
    "    print(\"please enter a Natural Number\") "
   ]
  },
  {
   "cell_type": "code",
   "execution_count": 24,
   "metadata": {},
   "outputs": [
    {
     "name": "stdout",
     "output_type": "stream",
     "text": [
      "enter a number :10\n",
      "3628800\n"
     ]
    }
   ],
   "source": [
    "n=int(input(\"enter a number :\"))\n",
    "f=1\n",
    "for i in range(1,n+1):\n",
    "    f*=i\n",
    "print(f)"
   ]
  },
  {
   "cell_type": "code",
   "execution_count": 37,
   "metadata": {},
   "outputs": [
    {
     "name": "stdout",
     "output_type": "stream",
     "text": [
      "enter a number :10\n",
      "[0, 1, 1, 2, 3, 5, 8, 13, 21, 34, 55]\n"
     ]
    }
   ],
   "source": [
    "n=int(input(\"enter a number :\"))\n",
    "f=[]\n",
    "for i in range(0,n+1):\n",
    "    if(i==0 or i==1):\n",
    "        f.append(i)\n",
    "    else:\n",
    "        f1=f[i-1]+f[i-2]\n",
    "        f.append(f1)\n",
    "print(f)"
   ]
  },
  {
   "cell_type": "code",
   "execution_count": 185,
   "metadata": {},
   "outputs": [
    {
     "name": "stdout",
     "output_type": "stream",
     "text": [
      "enter a number : 516513513\n",
      "[5, 1, 6, 5, 1, 3, 5, 1, 3]\n"
     ]
    }
   ],
   "source": [
    "n=int(input(\"enter a number : \"))\n",
    "d=[]\n",
    "for i in str(n):\n",
    "    d.append(int(i))\n",
    "print(d)"
   ]
  },
  {
   "cell_type": "code",
   "execution_count": 44,
   "metadata": {},
   "outputs": [
    {
     "name": "stdout",
     "output_type": "stream",
     "text": [
      "enter a number : 534351351\n",
      "30\n"
     ]
    }
   ],
   "source": [
    "n=int(input(\"enter a number : \"))\n",
    "d=[]\n",
    "for i in str(n):\n",
    "    d.append(int(i))\n",
    "print(sum(d))"
   ]
  },
  {
   "cell_type": "code",
   "execution_count": 60,
   "metadata": {},
   "outputs": [
    {
     "name": "stdout",
     "output_type": "stream",
     "text": [
      "enter a number :5\n",
      "1\n",
      "2\n",
      "3\n",
      "4\n",
      "5\n",
      "Sum of factorials for 5 numbers is :  153\n"
     ]
    }
   ],
   "source": [
    "n=int(input(\"enter a number :\"))\n",
    "f=1\n",
    "l=[]\n",
    "for i in range(1,n+1):\n",
    "    print(i)\n",
    "    f*=i\n",
    "    l.append(int(f))\n",
    "t = 0 \n",
    "for j in range(0, len(l)): \n",
    "    t = t + l[j] \n",
    "print(f\"Sum of factorials for {n} numbers is : \", t) "
   ]
  },
  {
   "cell_type": "code",
   "execution_count": 64,
   "metadata": {},
   "outputs": [
    {
     "name": "stdout",
     "output_type": "stream",
     "text": [
      "Enter a base value : 10\n",
      " Enter Exponent Value : 3\n",
      "The Result of 10 Power 3 = 1000\n"
     ]
    }
   ],
   "source": [
    "b = int(input(\"Enter a base value : \"))\n",
    "e = int(input(\" Enter Exponent Value : \"))\n",
    "p = 1\n",
    "\n",
    "for i in range(1, e + 1):\n",
    "    p = p * b\n",
    "    \n",
    "print(f\"The Result of {b} Power {e} = {p}\")"
   ]
  },
  {
   "cell_type": "code",
   "execution_count": 181,
   "metadata": {},
   "outputs": [
    {
     "name": "stdout",
     "output_type": "stream",
     "text": [
      "Enter a value : 5\n",
      "----------------------- PATTERN-1 -----------------------\n",
      "\n",
      "* \n",
      "\n",
      "* * \n",
      "\n",
      "* * * \n",
      "\n",
      "* * * * \n",
      "\n",
      "* * * * * \n",
      "\n",
      "----------------------- PATTERN-2 -----------------------\n",
      "\n",
      "* * * * *  \n",
      "\n",
      "* * * *  \n",
      "\n",
      "* * *  \n",
      "\n",
      "* *  \n",
      "\n",
      "*  \n",
      "\n",
      "----------------------- PATTERN-3 -----------------------\n",
      "\n",
      "        *  \n",
      "\n",
      "      * *  \n",
      "\n",
      "    * * *  \n",
      "\n",
      "  * * * *  \n",
      "\n",
      "* * * * *  \n",
      "\n",
      "----------------------- PATTERN-4 -----------------------\n",
      "\n",
      "    * \n",
      "\n",
      "   * * \n",
      "\n",
      "  * * * \n",
      "\n",
      " * * * * \n",
      "\n"
     ]
    }
   ],
   "source": [
    "n = int(input(\"Enter a value : \"))\n",
    "print(\"----------------------- PATTERN-1 -----------------------\" + '\\n')\n",
    "for i in range(0, n):\n",
    "    for j in range(0, i + 1):\n",
    "        print(\"*\", end=' ')\n",
    "    print('\\n')\n",
    "print(\"----------------------- PATTERN-2 -----------------------\" + '\\n')\n",
    "for i in range(n + 1, 1, -1):\n",
    "    for j in range(0, i - 1):\n",
    "        print(\"*\", end=' ')\n",
    "    print(\" \" + '\\n')\n",
    "print(\"----------------------- PATTERN-3 -----------------------\" + '\\n')\n",
    "for i in range(n):\n",
    "    for j in range(n):\n",
    "        if(i+j>=n-1) :\n",
    "            print(\"*\", end=' ')\n",
    "        else: \n",
    "            print(\" \", end=' ')\n",
    "    print(\" \" + '\\n')\n",
    "print(\"----------------------- PATTERN-4 -----------------------\" + '\\n')\n",
    "for i in range(0,n-1):\n",
    "    for j in range(0,n-i-1):\n",
    "        print(end=' ')\n",
    "    for i in range(0,i+1):\n",
    "        print(\"*\", end=' ')\n",
    "    print(\"\\n\")"
   ]
  },
  {
   "cell_type": "code",
   "execution_count": 182,
   "metadata": {},
   "outputs": [
    {
     "name": "stdout",
     "output_type": "stream",
     "text": [
      "Enter a value : 5\n",
      "----------------------- PATTERN-1 -----------------------\n",
      "\n",
      "1 \n",
      "\n",
      "2 2 \n",
      "\n",
      "3 3 3 \n",
      "\n",
      "4 4 4 4 \n",
      "\n",
      "5 5 5 5 5 \n",
      "\n",
      "----------------------- PATTERN-2 -----------------------\n",
      "\n",
      "1 \n",
      "\n",
      "1 2 \n",
      "\n",
      "1 2 3 \n",
      "\n",
      "1 2 3 4 \n",
      "\n",
      "1 2 3 4 5 \n",
      "\n",
      "----------------------- PATTERN-3 -----------------------\n",
      "\n",
      "5 \n",
      "\n",
      "4 4 \n",
      "\n",
      "3 3 3 \n",
      "\n",
      "2 2 2 2 \n",
      "\n",
      "1 1 1 1 1 \n",
      "\n",
      "----------------------- PATTERN-4 -----------------------\n",
      "\n",
      "        1  \n",
      "\n",
      "      2 2  \n",
      "\n",
      "    3 3 3  \n",
      "\n",
      "  4 4 4 4  \n",
      "\n",
      "5 5 5 5 5  \n",
      "\n"
     ]
    }
   ],
   "source": [
    "n = int(input(\"Enter a value : \"))\n",
    "print(\"----------------------- PATTERN-1 -----------------------\" + '\\n')\n",
    "for i in range(0, n):\n",
    "    for j in range(0, i + 1):\n",
    "        print(i+1, end=' ')\n",
    "    print('\\n')\n",
    "print(\"----------------------- PATTERN-2 -----------------------\" + '\\n')\n",
    "for i in range(0, n):\n",
    "    for j in range(0, i + 1):\n",
    "        print(j+1, end=' ')\n",
    "    print('\\n') \n",
    "print(\"----------------------- PATTERN-3 -----------------------\" + '\\n')\n",
    "for i in range(0, n):\n",
    "    for j in range(0, i + 1):\n",
    "        print(n-i, end=' ')\n",
    "    print('\\n') \n",
    "print(\"----------------------- PATTERN-4 -----------------------\" + '\\n')\n",
    "for i in range(n):\n",
    "    for j in range(n):\n",
    "        if(i+j>=n-1) :\n",
    "            print(i+1, end=' ')\n",
    "        else: \n",
    "            print(\" \", end=' ')\n",
    "    print(\" \" + '\\n')"
   ]
  },
  {
   "cell_type": "code",
   "execution_count": 183,
   "metadata": {},
   "outputs": [
    {
     "name": "stdout",
     "output_type": "stream",
     "text": [
      "Enter a value : 5\n",
      "----------------------- PATTERN-1 -----------------------\n",
      "\n",
      "A  \n",
      "\n",
      "A B  \n",
      "\n",
      "A B C  \n",
      "\n",
      "A B C D  \n",
      "\n",
      "A B C D E  \n",
      "\n",
      "----------------------- PATTERN-2 -----------------------\n",
      "\n",
      "A  \n",
      "\n",
      "B C  \n",
      "\n",
      "D E F  \n",
      "\n",
      "G H I J  \n",
      "\n",
      "K L M N O  \n",
      "\n",
      "----------------------- PATTERN-3 -----------------------\n",
      "\n",
      "A  \n",
      "\n",
      "B B  \n",
      "\n",
      "C C C  \n",
      "\n",
      "D D D D  \n",
      "\n",
      "E E E E E  \n",
      "\n",
      "----------------------- PATTERN-4 -----------------------\n",
      "\n",
      "    A \n",
      "\n",
      "   ABA \n",
      "\n",
      "  ABCBA \n",
      "\n",
      " ABCDCBA \n",
      "\n",
      "ABCDEDCBA \n",
      "\n"
     ]
    }
   ],
   "source": [
    "n = int(input(\"Enter a value : \"))\n",
    "print(\"----------------------- PATTERN-1 -----------------------\" + '\\n')\n",
    "val = 65\n",
    "for i in range(1, n+1):\n",
    "    for j in range(val, val+i):\n",
    "        print(chr(j), end=\" \")\n",
    "    print(\" \" + '\\n')\n",
    "print(\"----------------------- PATTERN-2 -----------------------\" + '\\n')\n",
    "val = 65\n",
    "for i in range(0, 5):\n",
    "    for j in range(0, i+1):\n",
    "        print(chr(val), end=\" \")\n",
    "        val+=1\n",
    "    print(\" \" + '\\n')\n",
    "print(\"----------------------- PATTERN-3 -----------------------\" + '\\n')\n",
    "val = 65\n",
    "for i in range(0, 5):\n",
    "    for j in range(0, i+1):\n",
    "        print(chr(val), end=\" \")\n",
    "    val+=1\n",
    "    print(\" \" + '\\n')\n",
    "print(\"----------------------- PATTERN-4 -----------------------\" + '\\n')\n",
    "for i in range (1,n+1):\n",
    "    for j in range(n-i):\n",
    "        print(' ',end='')\n",
    "    for j in range(0, i):\n",
    "        c=65+j\n",
    "        print(chr(c),end=\"\")\n",
    "    for j in range(1, i):\n",
    "        c = c-1\n",
    "        print(chr(c),end=\"\")    \n",
    "    print(\" \" + '\\n')"
   ]
  }
 ],
 "metadata": {
  "kernelspec": {
   "display_name": "Python 3",
   "language": "python",
   "name": "python3"
  },
  "language_info": {
   "codemirror_mode": {
    "name": "ipython",
    "version": 3
   },
   "file_extension": ".py",
   "mimetype": "text/x-python",
   "name": "python",
   "nbconvert_exporter": "python",
   "pygments_lexer": "ipython3",
   "version": "3.7.6"
  }
 },
 "nbformat": 4,
 "nbformat_minor": 4
}
