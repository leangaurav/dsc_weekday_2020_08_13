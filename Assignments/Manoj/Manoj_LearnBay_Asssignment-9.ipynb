{
 "cells": [
  {
   "cell_type": "code",
   "execution_count": 6,
   "metadata": {},
   "outputs": [],
   "source": [
    "import string\n",
    "with open(\"abcz.txt\",'w') as file1:\n",
    "    a=string.ascii_letters\n",
    "    print(a,file = file1)"
   ]
  },
  {
   "cell_type": "code",
   "execution_count": null,
   "metadata": {},
   "outputs": [],
   "source": [
    "import sys\n",
    "with open(sys.argv[0],'r') as file1:\n",
    "    print(file1.read())\n",
    "file1.close()"
   ]
  },
  {
   "cell_type": "code",
   "execution_count": 9,
   "metadata": {},
   "outputs": [
    {
     "name": "stdout",
     "output_type": "stream",
     "text": [
      "0\n",
      "line\n",
      "4\n"
     ]
    }
   ],
   "source": [
    "f=open('file','w')\n",
    "f.write('line with some characters')\n",
    "f.close()\n",
    "\n",
    "f=open('file','r')\n",
    "print(f.tell())\n",
    "print(f.read(4))\n",
    "print(f.tell())"
   ]
  },
  {
   "cell_type": "code",
   "execution_count": 14,
   "metadata": {},
   "outputs": [],
   "source": [
    "import string\n",
    "with open(\"abcz.txt\",'r') as file1:\n",
    "    with open(\"abcz_new.txt\",'w') as file2:\n",
    "        file2.write(file1.read())"
   ]
  },
  {
   "cell_type": "code",
   "execution_count": 15,
   "metadata": {},
   "outputs": [],
   "source": [
    "import string\n",
    "with open(\"abcz.txt\",'r') as file1:\n",
    "    with open(\"abcz_new_swapcase.txt\",'w') as file2:\n",
    "        file2.write(file1.read().swapcase())"
   ]
  },
  {
   "cell_type": "code",
   "execution_count": null,
   "metadata": {},
   "outputs": [],
   "source": [
    "import string\n",
    "import sys\n",
    "with open(sys.argv[1],'r') as file1:\n",
    "    cnt=0\n",
    "    for i in file1.read():\n",
    "        if(i == \" \"):\n",
    "            cnt+=1\n",
    "    print(cnt)"
   ]
  },
  {
   "cell_type": "code",
   "execution_count": null,
   "metadata": {},
   "outputs": [],
   "source": [
    "import string\n",
    "import sys\n",
    "with open(sys.argv[1],'r') as file1:\n",
    "    d={}\n",
    "    for i in file1.read():\n",
    "        if i in d:\n",
    "            d[i] = d[i]+1\n",
    "        else:\n",
    "            d[i] = 1\n",
    "    print(d)"
   ]
  },
  {
   "cell_type": "code",
   "execution_count": null,
   "metadata": {},
   "outputs": [],
   "source": [
    "import string\n",
    "import sys\n",
    "with open(sys.argv[1],'r') as file1:\n",
    "    with open(sys.argv[2],'r') as file2:\n",
    "        if(file1.read() == file2.read()):\n",
    "            print(\"True\")\n",
    "        else:\n",
    "            print(\"False\")\n",
    "    "
   ]
  },
  {
   "cell_type": "code",
   "execution_count": null,
   "metadata": {},
   "outputs": [],
   "source": [
    "import string\n",
    "import sys\n",
    "with open(sys.argv[1],'r') as file1:\n",
    "    data = file1.read()\n",
    "    words = data.split()\n",
    "    print(len(words))"
   ]
  },
  {
   "cell_type": "code",
   "execution_count": null,
   "metadata": {},
   "outputs": [],
   "source": [
    "import string\n",
    "import sys\n",
    "with open(sys.argv[1],'r') as file1:\n",
    "    data = file1.read()\n",
    "    words = data.split()\n",
    "    cnt=0\n",
    "    for i in words:\n",
    "        if str.lower(i) == str.lower(i[::-1]): \n",
    "            cnt += 1\n",
    "    print(cnt)"
   ]
  },
  {
   "cell_type": "code",
   "execution_count": null,
   "metadata": {},
   "outputs": [],
   "source": [
    "import string\n",
    "import sys\n",
    "with open(sys.argv[1],'r') as file1:\n",
    "    data = file1.read()\n",
    "    w=data.split()\n",
    "    l=[]\n",
    "    d={}\n",
    "    for i in w:\n",
    "        a = ''.join(sorted(str.lower(i)))\n",
    "        l.append(a)\n",
    "    for i in l:\n",
    "        if i in d:\n",
    "            d[i] = d[i]+1\n",
    "        else:\n",
    "            d[i] = 1\n",
    "    print(d)\n",
    "    cnt = 0\n",
    "    for i in d.values():\n",
    "        if i > 1:\n",
    "            cnt+=i\n",
    "    print(\"number of anagrams present in the file : \" + str(cnt))"
   ]
  }
 ],
 "metadata": {
  "kernelspec": {
   "display_name": "Python 3",
   "language": "python",
   "name": "python3"
  },
  "language_info": {
   "codemirror_mode": {
    "name": "ipython",
    "version": 3
   },
   "file_extension": ".py",
   "mimetype": "text/x-python",
   "name": "python",
   "nbconvert_exporter": "python",
   "pygments_lexer": "ipython3",
   "version": "3.7.6"
  }
 },
 "nbformat": 4,
 "nbformat_minor": 4
}
