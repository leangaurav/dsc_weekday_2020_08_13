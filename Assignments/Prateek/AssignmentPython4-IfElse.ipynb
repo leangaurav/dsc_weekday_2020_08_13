{
 "cells": [
  {
   "cell_type": "code",
   "execution_count": 3,
   "metadata": {},
   "outputs": [
    {
     "name": "stdout",
     "output_type": "stream",
     "text": [
      "Enter a number:2\n",
      "Enter another number2\n",
      "True\n"
     ]
    }
   ],
   "source": [
    "# Q1 WAP to input 2 numbers and check whether the first is divisible by the second and print true or false\n",
    "# depending on the divisibility.\n",
    "\n",
    "a = int(input('Enter a number:'))\n",
    "b = int(input('Enter another number'))\n",
    "\n",
    "if (a%b) == 0:\n",
    "    print('True')\n",
    "    \n",
    "else:\n",
    "    print('False')"
   ]
  },
  {
   "cell_type": "code",
   "execution_count": 13,
   "metadata": {},
   "outputs": [
    {
     "name": "stdout",
     "output_type": "stream",
     "text": [
      "Enter a string:Naman\n",
      "String is a palindrome\n"
     ]
    }
   ],
   "source": [
    "# Q2 In the palindrome example, make the code case insensitive\n",
    "# Hint: First convert to either upper or lowercase.\n",
    "\n",
    "s1 = str(input('Enter a string:'))\n",
    "s2 = s1.upper()\n",
    "s3 = (s2[::-1])\n",
    "\n",
    "if s3 == s2:\n",
    "    print('String is a palindrome')\n",
    "else:\n",
    "    print('String is not a palindrome')"
   ]
  },
  {
   "cell_type": "code",
   "execution_count": 20,
   "metadata": {},
   "outputs": [
    {
     "name": "stdout",
     "output_type": "stream",
     "text": [
      "Enter base:15\n",
      "Enter height:20\n",
      "Enter hypotenuse:35\n",
      "Triangle is Scalene\n"
     ]
    }
   ],
   "source": [
    "# Q3 WAP to input the sides of a triangle and print whether equilateral(all sides equal), isoceles(2 sides equal),\n",
    "# or scalene(no sides equal).\n",
    "\n",
    "s1 = float(input('Enter base:'))\n",
    "s2 = float(input('Enter height:'))\n",
    "s3 = float(input('Enter hypotenuse:'))\n",
    "\n",
    "if s1 == s2 == s3:\n",
    "    print('Triangle is Equilateral')\n",
    "elif s1 == s2 or s2 == s3 or s1 == s3:\n",
    "    print('Triangle is Isoceles')\n",
    "else:\n",
    "    print('Triangle is Scalene')"
   ]
  },
  {
   "cell_type": "code",
   "execution_count": 28,
   "metadata": {},
   "outputs": [
    {
     "name": "stdout",
     "output_type": "stream",
     "text": [
      "Enter a number:70\n",
      "Number is even\n"
     ]
    }
   ],
   "source": [
    "# Q4 WAP to input a number and print if it is even or odd.\n",
    "\n",
    "a = int(input('Enter a number:'))\n",
    "x = a\n",
    "\n",
    "if (x%2) == 0:\n",
    "    print('Number is even')\n",
    "else:\n",
    "    print('Number is odd')"
   ]
  },
  {
   "cell_type": "code",
   "execution_count": 37,
   "metadata": {},
   "outputs": [
    {
     "name": "stdout",
     "output_type": "stream",
     "text": [
      "Enter age:75\n",
      "Senior Citizen\n"
     ]
    }
   ],
   "source": [
    "# Q5 WAP to input age and print the respective text depending on the age ranges as present in the table\n",
    "# 0-12         Child\n",
    "# 13-17        Teen\n",
    "# 18-50        Adult\n",
    "# 51-100       Senior Citizen\n",
    "# age>100      Congratulations\n",
    "\n",
    "a = int(input('Enter age:'))\n",
    "\n",
    "if (a >=0 and a <=12):\n",
    "    print('Child')\n",
    "elif (a >=13 and a <=17):\n",
    "    print('Teen')\n",
    "elif (a >=18 and a <=50):\n",
    "    print('Adult')\n",
    "elif (a >=51 and a <=100):\n",
    "    print('Senior Citizen')\n",
    "elif (a >=100):\n",
    "    print('Congratulations')\n",
    "else:\n",
    "    print('Invalid Age Entered')"
   ]
  },
  {
   "cell_type": "code",
   "execution_count": 47,
   "metadata": {},
   "outputs": [
    {
     "name": "stdout",
     "output_type": "stream",
     "text": [
      "Enter a year:2012\n",
      "Leap year\n"
     ]
    }
   ],
   "source": [
    "# Q6 WAP to input year (check if user enters valid year. Should be 4 digit number and should not be negative) and\n",
    "# print whether leap year or not.\n",
    "\n",
    "y = int(input('Enter a year:'))\n",
    "\n",
    "if (y < 1000 or y > 9999):\n",
    "    print('Enter a valid year')\n",
    "elif (y % 4) == 0:\n",
    "    print('Leap year')\n",
    "elif(y % 100) == 0:\n",
    "    print('Not a leap year')\n",
    "elif(y % 400) == 0:\n",
    "    print('Leap year')\n",
    "else:\n",
    "    print('Not a leap year')"
   ]
  },
  {
   "cell_type": "code",
   "execution_count": 56,
   "metadata": {},
   "outputs": [
    {
     "name": "stdout",
     "output_type": "stream",
     "text": [
      "Enter a string:RObiN\n",
      "ROBIN\n"
     ]
    }
   ],
   "source": [
    "# Q7 WAP to input a string and convert it to upper case if number of characters are odd and convert to lowercase\n",
    "# otherwise.\n",
    "\n",
    "a = str(input('Enter a string:'))\n",
    "\n",
    "if (len(a)%2==0):\n",
    "    print(a.lower())\n",
    "else:\n",
    "    print(a.upper())"
   ]
  },
  {
   "cell_type": "code",
   "execution_count": 9,
   "metadata": {},
   "outputs": [
    {
     "name": "stdout",
     "output_type": "stream",
     "text": [
      "Enter a string:Egg fried rice\n",
      "Non-Veg\n"
     ]
    }
   ],
   "source": [
    "# Q8 WAP to input a string and print Veg if the string doesn't contain the word egg. Otherwise print Non-Veg.\n",
    "# As usual eggs can be both big and small.\n",
    "\n",
    "x = input('Enter a string:')\n",
    "x = x.lower()\n",
    "\n",
    "if 'egg' in x:\n",
    "    print('Non-Veg')\n",
    "else:\n",
    "    print('Veg')"
   ]
  },
  {
   "cell_type": "code",
   "execution_count": 2,
   "metadata": {},
   "outputs": [
    {
     "name": "stdout",
     "output_type": "stream",
     "text": [
      "True\n",
      "True\n",
      "Weird!!\n",
      "[4, 3, 2, 1]\n"
     ]
    }
   ],
   "source": [
    "# Q9 Give output of :\n",
    "\n",
    "#1\n",
    "if not 1:\n",
    "    print('False')\n",
    "else:\n",
    "    print('True')\n",
    "\n",
    "#2    \n",
    "if 1:\n",
    "    print('True')\n",
    "else:\n",
    "    print('False')\n",
    "    \n",
    "#3\n",
    "if 'a' > 'A':\n",
    "    print('Weird!!')\n",
    "else:\n",
    "    print('Makes Sense')\n",
    "        \n",
    "#4\n",
    "a = [1,2,3,4]\n",
    "if 1 > 1:\n",
    "    a = a[::-1]\n",
    "else:\n",
    "    a = a[-1::-1]\n",
    "    print(a)"
   ]
  },
  {
   "cell_type": "code",
   "execution_count": 13,
   "metadata": {},
   "outputs": [
    {
     "name": "stdout",
     "output_type": "stream",
     "text": [
      "Enter marks:75\n",
      "Grade C\n"
     ]
    }
   ],
   "source": [
    "# Q10 WAP to input marks in 5 subjects and print the grade as per following logic:\n",
    "# % between 90-100 Grade A\n",
    "# % between 80-89  Grade B\n",
    "# % between 60-79  Grade C\n",
    "# <60%             Grade F\n",
    "\n",
    "\n",
    "g = float(input('Enter marks:'))\n",
    "\n",
    "if (g >= 90 and g <= 100):\n",
    "    print('Grade A')\n",
    "elif (g >= 80 and g <= 89):\n",
    "    print('Grade B')\n",
    "elif (g >= 60 and g <= 79):\n",
    "    print('Grade C')\n",
    "else:\n",
    "    print('Grade F')\n"
   ]
  },
  {
   "cell_type": "code",
   "execution_count": 15,
   "metadata": {},
   "outputs": [
    {
     "name": "stdout",
     "output_type": "stream",
     "text": [
      "Enter age:55\n",
      "Enter salary:100000000\n",
      "Tax = 15%\n"
     ]
    }
   ],
   "source": [
    "# Q11 WAP to input salary and calculate tax as per tax rates from the following table:\n",
    "\n",
    "Age = int(input('Enter age:'))\n",
    "Salary = int(input('Enter salary:'))\n",
    "\n",
    "if (Age > 0 and Age < 60):\n",
    "    if (Salary > 0 and Salary <= 250000):\n",
    "        print('Tax = 0%')\n",
    "    elif (Salary >= 250001 and Salary <= 500000):\n",
    "        print('Tax = 5%')\n",
    "    elif (Salary >= 500001 and Salary <= 1000000):\n",
    "        print('Tax = 10%')\n",
    "    elif (Salary > 1000001):\n",
    "        print('Tax = 15%')\n",
    "    else:\n",
    "        print('Invalid Salary')\n",
    "elif (Age >= 60):\n",
    "    if (Salary > 0 and Salary <= 250000):\n",
    "        print('Tax = 0%')\n",
    "    elif (Salary >= 250001 and Salary <= 500000):\n",
    "        print('Tax = 3%')\n",
    "    elif (Salary >= 500001 and Salary <= 1000000):\n",
    "        print('Tax = 8%')\n",
    "    elif (Salary > 1000001):\n",
    "        print('Tax = 12%')"
   ]
  },
  {
   "cell_type": "code",
   "execution_count": 23,
   "metadata": {},
   "outputs": [
    {
     "name": "stdout",
     "output_type": "stream",
     "text": [
      "10\n",
      "10\n",
      "10\n",
      "OMG\n"
     ]
    }
   ],
   "source": [
    "# Q12 Try each of the below statements separately(remember difference between statement and expression) on\n",
    "# on the python interpreter and guess the output before trying:\n",
    "\n",
    "print(20 if not 1 == 1 else 10)\n",
    "print(30 if not 1 == 1 else 20 if 'a' < 'A' else 10)\n",
    "print(40 if not 1 == 1 else 30 if 'a' < 'A' else 20 if '' else 10)\n",
    "print('No' if not 1 == 1 else ('No' if 'a' < 'A' else ('OMG' if 'oh!!' else 'No')))"
   ]
  },
  {
   "cell_type": "code",
   "execution_count": 10,
   "metadata": {},
   "outputs": [
    {
     "name": "stdout",
     "output_type": "stream",
     "text": [
      "Enter weight:75\n",
      "Enter height:180\n",
      "The BMI is 23.148148148148145 so Normal\n"
     ]
    }
   ],
   "source": [
    "# Q13 WAF: bmi() hat takes the weight in kg and height in cm of a person, calculates and returns the BMI.\n",
    "# Write code that calls this function after taking height and weight as inputs and then prints underweight,\n",
    "# normal, overweight, or obese, depending on the value of BMI.\n",
    "\n",
    "weight = float(input('Enter weight:'))\n",
    "height = float(input('Enter height:'))\n",
    "\n",
    "def bmi(height,weight):\n",
    "    bmi = (weight/(height/100)**2)\n",
    "    return bmi\n",
    "\n",
    "BMI = bmi(height, weight)\n",
    "print('The BMI is', format(BMI), 'so ', end='')\n",
    "\n",
    "if (BMI < 18.5):\n",
    "    print('Underweight')\n",
    "elif (BMI >= 18.5 and BMI < 25):\n",
    "    print('Normal')\n",
    "elif (BMI >= 25 and BMI < 30):\n",
    "    print('Overweight')\n",
    "elif (BMI >= 30):\n",
    "    print('Obese')\n"
   ]
  },
  {
   "cell_type": "code",
   "execution_count": 14,
   "metadata": {},
   "outputs": [
    {
     "name": "stdout",
     "output_type": "stream",
     "text": [
      "Enter age of first person:56\n",
      "Enter age of second person:24\n",
      "Enter age of third person:75\n",
      "Third person is eldest\n",
      "Second person is youngest\n"
     ]
    }
   ],
   "source": [
    "# Q14 Take input of age of 3 people by user and determine oldest and youngest among them.\n",
    "\n",
    "p1 = int(input('Enter age of first person:'))\n",
    "p2 = int(input('Enter age of second person:'))\n",
    "p3 = int(input('Enter age of third person:'))\n",
    "\n",
    "if p1 > p2:\n",
    "    if p1 > p3:\n",
    "        print('First person is eldest')\n",
    "    else:\n",
    "        print('Third person is eldest')\n",
    "    if p2 < p3:\n",
    "        print('Second person is youngest')\n",
    "    else:\n",
    "        print('Third person is youngest')\n",
    "else:\n",
    "    if p2 > p3:\n",
    "        print('Second person is the eldest')\n",
    "    else:\n",
    "        print('Third person is the youngest')\n",
    "    if p1 < p3:\n",
    "        print('First person is the youngest')\n",
    "    else:\n",
    "        print('Third person is the youngest')\n",
    "    "
   ]
  },
  {
   "cell_type": "code",
   "execution_count": 3,
   "metadata": {},
   "outputs": [
    {
     "name": "stdout",
     "output_type": "stream",
     "text": [
      "Enter a number:70\n",
      "Number is divisible by both 5 and 7\n"
     ]
    }
   ],
   "source": [
    "# Q15 WAP to input a number nd check if the number is divisible by both 5 and 7.\n",
    "\n",
    "x = int(input('Enter a number:'))\n",
    "\n",
    "if ((x%5) == 0) and ((x%7) == 0):\n",
    "    print('Number is divisible by both 5 and 7')\n",
    "else:\n",
    "    print('Number is not divisible by 5 and 7')"
   ]
  }
 ],
 "metadata": {
  "kernelspec": {
   "display_name": "Python 3",
   "language": "python",
   "name": "python3"
  },
  "language_info": {
   "codemirror_mode": {
    "name": "ipython",
    "version": 3
   },
   "file_extension": ".py",
   "mimetype": "text/x-python",
   "name": "python",
   "nbconvert_exporter": "python",
   "pygments_lexer": "ipython3",
   "version": "3.8.3"
  }
 },
 "nbformat": 4,
 "nbformat_minor": 4
}
