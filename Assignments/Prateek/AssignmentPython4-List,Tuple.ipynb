{
 "cells": [
  {
   "cell_type": "code",
   "execution_count": 4,
   "metadata": {},
   "outputs": [
    {
     "name": "stdout",
     "output_type": "stream",
     "text": [
      "[1, 2, 3, 4, 5]\n"
     ]
    }
   ],
   "source": [
    "# Q1 Conver a Tuple t = (1,2,3,4,5) to a list\n",
    "\n",
    "t = (1,2,3,4,5)\n",
    "x = list(t)\n",
    "print(x)"
   ]
  },
  {
   "cell_type": "code",
   "execution_count": 9,
   "metadata": {},
   "outputs": [
    {
     "name": "stdout",
     "output_type": "stream",
     "text": [
      "(8, 6, 4, 2, 1, 3, 5, 7)\n"
     ]
    }
   ],
   "source": [
    "# Q2 WAP to join a list and a tuple: \n",
    "\n",
    "L = [1,3,5,7]\n",
    "T = (8,6,4,2)\n",
    "\n",
    "LS = T + tuple(L)\n",
    "print(LS)"
   ]
  },
  {
   "cell_type": "code",
   "execution_count": 10,
   "metadata": {},
   "outputs": [
    {
     "data": {
      "text/plain": [
       "'Tuples are immutable while lists are not'"
      ]
     },
     "execution_count": 10,
     "metadata": {},
     "output_type": "execute_result"
    }
   ],
   "source": [
    "# Q3 What is the difference between list and tuple ?\n",
    "\n",
    "'Tuples are immutable while lists are not'"
   ]
  },
  {
   "cell_type": "code",
   "execution_count": 16,
   "metadata": {},
   "outputs": [
    {
     "name": "stdout",
     "output_type": "stream",
     "text": [
      "['C', 'A', 'c', 'b', 'a']\n"
     ]
    }
   ],
   "source": [
    "# Q4 Print the list in reverse order \n",
    "\n",
    "I = ['a','b','c','A','C']\n",
    "I.reverse()\n",
    "print(I)"
   ]
  },
  {
   "cell_type": "code",
   "execution_count": 21,
   "metadata": {},
   "outputs": [
    {
     "name": "stdout",
     "output_type": "stream",
     "text": [
      "[11, 21, 31, 41]\n"
     ]
    }
   ],
   "source": [
    "# Q5 Print elements at odd indexes from a list (do not use loop)\n",
    "\n",
    "I = [10,11,20,21,30,31,40,41]\n",
    "\n",
    "O = I[1::2]\n",
    "print(O)"
   ]
  },
  {
   "cell_type": "code",
   "execution_count": 22,
   "metadata": {},
   "outputs": [],
   "source": [
    "# Q6 How many ways can you copy a list ?\n",
    "\n",
    "#1 Use builtin list.copy() method\n",
    "#  Syntax : new_list = old_list.copy()\n",
    "\n",
    "#2 Slicing\n",
    "#  Syntax: new_list = old_list[:]\n",
    "\n",
    "#3 Use builtin list() function\n",
    "#  Syntax: new_list = list(old_list)\n",
    "\n",
    "#4 Use generic copy.deepcopy()\n",
    "#  Syntax: import copy\n",
    "#          new_list = copy.deepcopy(old_list)\n"
   ]
  },
  {
   "cell_type": "code",
   "execution_count": 25,
   "metadata": {},
   "outputs": [
    {
     "name": "stdout",
     "output_type": "stream",
     "text": [
      "a\n",
      "5\n"
     ]
    }
   ],
   "source": [
    "# Q7 Predict output:\n",
    "\n",
    "n_list = ['Happy', [2,0,1,5]]\n",
    "print(n_list[0][1])\n",
    "print(n_list[1][3])"
   ]
  },
  {
   "cell_type": "code",
   "execution_count": 26,
   "metadata": {},
   "outputs": [
    {
     "name": "stdout",
     "output_type": "stream",
     "text": [
      "[1, 4, 6, 8]\n",
      "[1, 3, 5, 7]\n"
     ]
    }
   ],
   "source": [
    "# Q8 Predict output: \n",
    "\n",
    "odd = [2,4,6,8]\n",
    "odd[0] = 1\n",
    "print(odd)\n",
    "odd[1:4] = 3,5,7\n",
    "print(odd)"
   ]
  },
  {
   "cell_type": "code",
   "execution_count": 27,
   "metadata": {},
   "outputs": [
    {
     "name": "stdout",
     "output_type": "stream",
     "text": [
      "[1, 3, 5, [7, 9]]\n",
      "[1, 3, 5, [7, 9], 11, 13]\n"
     ]
    }
   ],
   "source": [
    "# Q9 Predict output:\n",
    "\n",
    "odd = [1, 3, 5]\n",
    "odd.append([7,9])\n",
    "print(odd)\n",
    "odd.extend([11,13])\n",
    "print(odd)"
   ]
  },
  {
   "cell_type": "code",
   "execution_count": 31,
   "metadata": {},
   "outputs": [
    {
     "name": "stdout",
     "output_type": "stream",
     "text": [
      "<class 'tuple'>\n",
      "<class 'int'>\n",
      "<class 'int'>\n",
      "<class 'tuple'>\n"
     ]
    }
   ],
   "source": [
    "# Q10 Predict output:\n",
    "x = 1,2,3; print (type(x))\n",
    "x = (1); print (type(x))\n",
    "x = 1; print (type(x))\n",
    "x = 1, ; print (type(x))"
   ]
  },
  {
   "cell_type": "code",
   "execution_count": 19,
   "metadata": {},
   "outputs": [
    {
     "name": "stdout",
     "output_type": "stream",
     "text": [
      "[1, 2, 3]\n",
      "[4, 5, 6]\n",
      "[7, 8, 9]\n"
     ]
    }
   ],
   "source": [
    "# Q11 Try to represent a matrix with the following data in python:\n",
    "\n",
    "# 1 2 3\n",
    "# 4 5 6\n",
    "# 7 8 9\n",
    "\n",
    "x = [1,2,3]\n",
    "y = [4,5,6]\n",
    "z = [7,8,9]\n",
    "print(x)\n",
    "print(y)\n",
    "print(z)"
   ]
  },
  {
   "cell_type": "code",
   "execution_count": 32,
   "metadata": {},
   "outputs": [
    {
     "name": "stdout",
     "output_type": "stream",
     "text": [
      "('s', 't', 'r', 'i', 'n', 'g')\n",
      "('g', 'n', 'i', 'r', 't', 's')\n",
      "('n', 's')\n"
     ]
    }
   ],
   "source": [
    "# Q12 Predict output:\n",
    "\n",
    "t = tuple('string')\n",
    "print(t)\n",
    "print(t[::-1])\n",
    "print(t[::2][::-2])"
   ]
  },
  {
   "cell_type": "code",
   "execution_count": 1,
   "metadata": {},
   "outputs": [
    {
     "name": "stdout",
     "output_type": "stream",
     "text": [
      "True\n",
      "False\n",
      "1\n",
      "3\n"
     ]
    }
   ],
   "source": [
    "# Q13 Predict output: \n",
    "\n",
    "t = tuple( [10,20,30,40,50,60])\n",
    "print(60 in t)\n",
    "print('60' in t)\n",
    "print(t.count(10))\n",
    "print(t.index(40))"
   ]
  },
  {
   "cell_type": "code",
   "execution_count": 6,
   "metadata": {},
   "outputs": [
    {
     "name": "stdout",
     "output_type": "stream",
     "text": [
      "Enter a string:naman\n",
      "String is a palindrome\n"
     ]
    }
   ],
   "source": [
    "# Q14 WAP to input a string and print if it is a palindrome or not\n",
    "\n",
    "s = input('Enter a string:')\n",
    "t = s[::-1]\n",
    "\n",
    "if s == t:\n",
    "    print('String is a palindrome')\n",
    "else:\n",
    "    print('string is not a palindrome')"
   ]
  },
  {
   "cell_type": "code",
   "execution_count": 13,
   "metadata": {},
   "outputs": [
    {
     "name": "stdout",
     "output_type": "stream",
     "text": [
      "(20, 15, 10, 5)\n"
     ]
    }
   ],
   "source": [
    "# Q15 Use the range method and create a tuple containing the following values: (20,15,10,5)\n",
    "\n",
    "r = tuple(range(20,0,-5))\n",
    "print(r)"
   ]
  },
  {
   "cell_type": "code",
   "execution_count": 14,
   "metadata": {},
   "outputs": [
    {
     "name": "stdout",
     "output_type": "stream",
     "text": [
      "Enter a string:string\n",
      "['s', 't', 'r', 'i', 'n', 'g']\n"
     ]
    }
   ],
   "source": [
    "# Q16 WAP to convert string to a list of characters\n",
    "\n",
    "s = input('Enter a string:')\n",
    "r = list(s)\n",
    "print(r)"
   ]
  },
  {
   "cell_type": "code",
   "execution_count": 15,
   "metadata": {},
   "outputs": [
    {
     "name": "stdout",
     "output_type": "stream",
     "text": [
      "<class 'list'>\n",
      "<class 'NoneType'>\n",
      "<class 'str'>\n",
      "<class 'bool'>\n"
     ]
    }
   ],
   "source": [
    "# Q17 at is the return type of:\n",
    "\n",
    "print(type( '1 2'.split() ))\n",
    "print(type( [1, 3, 2].sort() ))\n",
    "print(type( 'abc'.upper() ))\n",
    "print(type( 1 in [1, 2] ))"
   ]
  }
 ],
 "metadata": {
  "kernelspec": {
   "display_name": "Python 3",
   "language": "python",
   "name": "python3"
  },
  "language_info": {
   "codemirror_mode": {
    "name": "ipython",
    "version": 3
   },
   "file_extension": ".py",
   "mimetype": "text/x-python",
   "name": "python",
   "nbconvert_exporter": "python",
   "pygments_lexer": "ipython3",
   "version": "3.8.3"
  }
 },
 "nbformat": 4,
 "nbformat_minor": 4
}
