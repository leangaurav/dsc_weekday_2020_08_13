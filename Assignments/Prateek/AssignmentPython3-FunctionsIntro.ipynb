{
 "cells": [
  {
   "cell_type": "code",
   "execution_count": 7,
   "metadata": {},
   "outputs": [
    {
     "name": "stdout",
     "output_type": "stream",
     "text": [
      "Enter first string:Mein\n",
      "Enter second string:leibe\n",
      "First string = leibe\n",
      "Second string =  Mein\n"
     ]
    }
   ],
   "source": [
    "# Q1 WAP to input two strings and swap the strings.\n",
    "\n",
    "a = input('Enter first string:')\n",
    "b = input('Enter second string:')\n",
    "\n",
    "a,b = b,a\n",
    "print('First string =', a)\n",
    "print('Second string = ', b)"
   ]
  },
  {
   "cell_type": "code",
   "execution_count": 7,
   "metadata": {},
   "outputs": [
    {
     "name": "stdout",
     "output_type": "stream",
     "text": [
      "9 6 25 4\n",
      "Average of 4 random numbers is 41.0\n"
     ]
    }
   ],
   "source": [
    "# Q2 WAP to generate 4 random numbers in the range 0-26 and print their average.\n",
    "\n",
    "import random\n",
    "\n",
    "a = random.randrange(0,26)\n",
    "b = random.randrange(0,26)\n",
    "c = random.randrange(0,26)\n",
    "d = random.randrange(0,26)\n",
    "\n",
    "print(a,b,c,d)\n",
    "print(f'Average of 4 random numbers is {(a+b+c+d/4)}')"
   ]
  },
  {
   "cell_type": "code",
   "execution_count": 28,
   "metadata": {},
   "outputs": [
    {
     "name": "stdout",
     "output_type": "stream",
     "text": [
      "Random alphabet is: 28\n"
     ]
    }
   ],
   "source": [
    "# Q3 WAP to generate and print a random uppercase or lowercase alphabet. Try these:\n",
    "# Create a string containing all alphabets and then select a random alphabet.\n",
    "# Check the module string.\n",
    "\n",
    "import string\n",
    "import random\n",
    "\n",
    "dir(string)\n",
    "\n",
    "string1 = string.ascii_letters\n",
    "string2 = random.randrange(0,len(string1))\n",
    "print('Random alphabet is:', string2)"
   ]
  },
  {
   "cell_type": "code",
   "execution_count": 32,
   "metadata": {},
   "outputs": [
    {
     "name": "stdout",
     "output_type": "stream",
     "text": [
      "Enter principle amount:5000\n",
      "Enter rate of interest:10\n",
      "Enter time duration:2\n",
      "Interest on principle 5000.0 for duration 2.0 at interest rate 10.0 is 1000.0\n"
     ]
    }
   ],
   "source": [
    "# Q4 WAF get_si()that takes Principle, Rate, and Time as arguments and returns the Simple Interest.\n",
    "\n",
    "def get_si(p,r,t):\n",
    "    i = (p*r*t)/100\n",
    "    print(f'Interest on principle {p} for duration {t} at interest rate {r} is {i}')\n",
    "    \n",
    "p = float(input('Enter principle amount:'))\n",
    "r = float(input('Enter rate of interest:'))\n",
    "t = float(input('Enter time duration:'))\n",
    "get_si(p,r,t)"
   ]
  },
  {
   "cell_type": "code",
   "execution_count": 10,
   "metadata": {},
   "outputs": [
    {
     "name": "stdout",
     "output_type": "stream",
     "text": [
      "Enter Principal Amount: 100000\n",
      "Enter Rate of Interest(/%) per year: 5\n",
      "Enter Time Period(years): 2\n",
      "Total Amount =  110000.0\n"
     ]
    }
   ],
   "source": [
    "# Q5 WAF get_amount() that takes Principle, Rate, and Time as arguments and returns the Total amount using the\n",
    "# get_si() function from above to calculate the SI. Also provide Rate = 10 and Time = 1 as default argument.\n",
    "\n",
    "\n",
    "def get_si(P, R=10, t=1):\n",
    "    return P * ((R/100)*t)\n",
    "\n",
    "def get_amount(P, R=10, t=1):\n",
    "    return (P + get_si(P, R, t))\n",
    "\n",
    "P = int(input(\"Enter Principal Amount: \"))\n",
    "R = int(input(\"Enter Rate of Interest(/%) per year: \"))\n",
    "t = int(input(\"Enter Time Period(years): \"))\n",
    "\n",
    "print(\"Total Amount = \", get_amount(P, R, t))"
   ]
  },
  {
   "cell_type": "code",
   "execution_count": 13,
   "metadata": {},
   "outputs": [
    {
     "name": "stdout",
     "output_type": "stream",
     "text": [
      "Please enter Principle Amount : 50000\n",
      "Please enter Rate of Interest : 10\n",
      "Please enter Time in years: 2\n",
      "Total Amount on principle 50000.0 for duration 2.0 months with 10.0 rate of interest is 60500.00000000001\n",
      "Total Compound Interest = 10500.000000000007\n"
     ]
    }
   ],
   "source": [
    "# Q6 WAP get_ci() that takes Principle, Rate and Time as arguments and returns the Compound Interest.\n",
    "\n",
    "\n",
    "def get_ci(p,r,t):\n",
    "    a=p*(1+(r/100))**t\n",
    "    ci=a-p\n",
    "    print(f'Total Amount on principle {p} for duration {t} months with {r} rate of interest is {a}')\n",
    "    print('Total Compound Interest =', ci)\n",
    "\n",
    "p=float(input('Please enter Principle Amount : '))\n",
    "r=float(input('Please enter Rate of Interest : '))\n",
    "t=float(input('Please enter Time in years: '))\n",
    "get_ci(p,r,t)"
   ]
  },
  {
   "cell_type": "code",
   "execution_count": 17,
   "metadata": {},
   "outputs": [
    {
     "name": "stdout",
     "output_type": "stream",
     "text": [
      "Enter a number:5\n",
      "Enter another number:6\n",
      "(0, 5)\n"
     ]
    }
   ],
   "source": [
    "# Q7 WAP get_q_r()taking 2 numbers as parameters and returns the quotient and remainder in the form of a tuple.\n",
    "\n",
    "def get_x_y(Num1,Num2):\n",
    "    x = (Num1//Num2)\n",
    "    y = (Num1%Num2)\n",
    "    return(x,y)\n",
    "\n",
    "Num1 = int(input('Enter a number:'))\n",
    "Num2 = int(input('Enter another number:'))\n",
    "print(get_x_y(Num1,Num2))\n",
    "    "
   ]
  },
  {
   "cell_type": "code",
   "execution_count": 21,
   "metadata": {},
   "outputs": [
    {
     "name": "stdout",
     "output_type": "stream",
     "text": [
      "Enter Height:6\n",
      "Enter Base:4\n",
      "Hypotnuse is: 7.211102550927978\n"
     ]
    }
   ],
   "source": [
    "# Q8 WAP to find the length of a hypotenuse of a right angled triangle, input the height height and base from the user.\n",
    "\n",
    "import math\n",
    "Height = int(input('Enter Height:'))\n",
    "Base = int(input('Enter Base:'))\n",
    "\n",
    "print('Hypotnuse is:', math.sqrt((Height**2) + (Base**2)))"
   ]
  },
  {
   "cell_type": "code",
   "execution_count": 23,
   "metadata": {},
   "outputs": [
    {
     "name": "stdout",
     "output_type": "stream",
     "text": [
      "Enter Seconds:100000\n",
      "1 days 3 hour 46 minute 40 seconds\n"
     ]
    }
   ],
   "source": [
    "# Q9 WAP to input number of seconds and print in days, hours, minutes, and seconds \n",
    "# ex: input = 1000\n",
    "# Output = 0 day 2 hour 46 minute 40 second\n",
    "\n",
    "Seconds = int(input('Enter Seconds:'))\n",
    "Day = Seconds//(24*60*60)\n",
    "Remainder = Seconds%(24*60*60)\n",
    "Hours = Remainder//(60*60)\n",
    "Remainder = Remainder%(60*60)\n",
    "Minutes = Remainder//(60)\n",
    "Seconds = Remainder%60\n",
    "print(f'{Day} days {Hours} hour {Minutes} minute {Seconds} seconds')"
   ]
  },
  {
   "cell_type": "code",
   "execution_count": 26,
   "metadata": {},
   "outputs": [
    {
     "name": "stdout",
     "output_type": "stream",
     "text": [
      "python --version\n"
     ]
    }
   ],
   "source": [
    "# Q10 Check your version of the python interpreter ithout opening the interpreter\n",
    "# (which command needs to be used on the command line)\n",
    "\n",
    "print('python --version')"
   ]
  },
  {
   "cell_type": "code",
   "execution_count": 37,
   "metadata": {},
   "outputs": [
    {
     "name": "stdout",
     "output_type": "stream",
     "text": [
      "X =  2 \n",
      " Y =  -2\n"
     ]
    }
   ],
   "source": [
    "# Q11 Find output:\n",
    "\n",
    "\n",
    "X = 2\n",
    "X *= 3\n",
    "X = X%4\n",
    "Y = - X\n",
    "\n",
    "print('X = ',X,'\\n','Y = ',Y)"
   ]
  },
  {
   "cell_type": "code",
   "execution_count": 34,
   "metadata": {},
   "outputs": [
    {
     "name": "stdout",
     "output_type": "stream",
     "text": [
      "None\n"
     ]
    }
   ],
   "source": [
    "# Q12 Find output:\n",
    "\n",
    "def funct():\n",
    "    pass\n",
    "print(funct())"
   ]
  }
 ],
 "metadata": {
  "kernelspec": {
   "display_name": "Python 3",
   "language": "python",
   "name": "python3"
  },
  "language_info": {
   "codemirror_mode": {
    "name": "ipython",
    "version": 3
   },
   "file_extension": ".py",
   "mimetype": "text/x-python",
   "name": "python",
   "nbconvert_exporter": "python",
   "pygments_lexer": "ipython3",
   "version": "3.8.3"
  }
 },
 "nbformat": 4,
 "nbformat_minor": 4
}
