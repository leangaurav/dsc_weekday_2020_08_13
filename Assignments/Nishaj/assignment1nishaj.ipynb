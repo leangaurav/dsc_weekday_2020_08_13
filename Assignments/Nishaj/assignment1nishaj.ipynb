{
 "cells": [
  {
   "cell_type": "code",
   "execution_count": 5,
   "metadata": {},
   "outputs": [
    {
     "name": "stdout",
     "output_type": "stream",
     "text": [
      "Enter the temperature in Fahrenheit:200\n",
      "The temperature is in  93.33 °C\n"
     ]
    }
   ],
   "source": [
    "# Assignment 1 - Q1\n",
    "\n",
    "f = float(input(\"Enter the temperature in Fahrenheit:\"))\n",
    "d = (((f-32)*5)/9)\n",
    "c = round(d,2)\n",
    "print (\"The temperature is in \", c , \"°C\")"
   ]
  },
  {
   "cell_type": "code",
   "execution_count": 7,
   "metadata": {},
   "outputs": [
    {
     "name": "stdout",
     "output_type": "stream",
     "text": [
      "Enter a number to find square and cube2\n",
      "The square of entered number is 4\n",
      "The cube of entered number is 8\n"
     ]
    }
   ],
   "source": [
    "# Assignment 1 - Q2\n",
    "\n",
    "a = int(input(\"Enter a number to find square and cube\"))\n",
    "b = pow(a,2)\n",
    "c = pow(a,3)\n",
    "print(\"The square of entered number is\" ,b)\n",
    "print(\"The cube of entered number is\" ,c)"
   ]
  },
  {
   "cell_type": "code",
   "execution_count": 11,
   "metadata": {},
   "outputs": [
    {
     "name": "stdout",
     "output_type": "stream",
     "text": [
      "Enter the number n  2\n",
      "Enter the number m  3\n",
      "The result is 13\n"
     ]
    }
   ],
   "source": [
    "# Assignment 1 - Q3\n",
    "\n",
    "\n",
    "n = int(input(\"Enter the number n  \"))\n",
    "m = int(input(\"Enter the number m  \"))\n",
    "q = pow(n,2) + pow(m,2)\n",
    "print(\"The result is\", q)"
   ]
  },
  {
   "cell_type": "code",
   "execution_count": 13,
   "metadata": {},
   "outputs": [
    {
     "name": "stdout",
     "output_type": "stream",
     "text": [
      "Enter the number n  4\n",
      "Enter the number m  5\n",
      "The result with ** operation is 625\n",
      "The result with pow operation is 625\n"
     ]
    }
   ],
   "source": [
    "# Assignment 1 - Q4\n",
    "\n",
    "n = int(input(\"Enter the number n  \"))\n",
    "m = int(input(\"Enter the number m  \"))\n",
    "q = m ** n\n",
    "w = pow(m,n)\n",
    "print(\"The result with ** operation is\", q)\n",
    "print(\"The result with pow operation is\", q)"
   ]
  },
  {
   "cell_type": "code",
   "execution_count": 15,
   "metadata": {},
   "outputs": [
    {
     "name": "stdout",
     "output_type": "stream",
     "text": [
      "Enter the principal amount  100500\n",
      "Enter the rate of interest  10.5\n",
      "Enter the number of years  11\n",
      "Simple Interest is   116077.5\n"
     ]
    }
   ],
   "source": [
    "# Assignment 1 - Q5\n",
    "\n",
    "p = float(input(\"Enter the principal amount  \"))\n",
    "r = float(input(\"Enter the rate of interest  \"))\n",
    "t = float(input(\"Enter the number of years  \"))\n",
    "SI = ((p*r*t)/100)\n",
    "print (\"Simple Interest is  \",SI)"
   ]
  },
  {
   "cell_type": "code",
   "execution_count": 18,
   "metadata": {},
   "outputs": [
    {
     "name": "stdout",
     "output_type": "stream",
     "text": [
      "Enter the principal amount  100000\n",
      "Enter the rate of interest  9\n",
      "Enter the number of years  2\n",
      "Total Amount is   118810.0\n",
      "Compound Interest is   18810.0\n"
     ]
    }
   ],
   "source": [
    "# Assignment 1 - Q6\n",
    "\n",
    "p = float(input(\"Enter the principal amount  \"))\n",
    "r = float(input(\"Enter the rate of interest  \"))\n",
    "t = float(input(\"Enter the number of years  \"))\n",
    "A = (p * pow((1+r/100),t))\n",
    "CI = A - p\n",
    "print (\"Total Amount is  \",round(A,2))\n",
    "print (\"Compound Interest is  \",round(CI,2))"
   ]
  },
  {
   "cell_type": "code",
   "execution_count": 24,
   "metadata": {},
   "outputs": [
    {
     "name": "stdout",
     "output_type": "stream",
     "text": [
      "Enter the number to find the sum of entered number10\n",
      "The Sum of first n natural numbers is  55\n"
     ]
    }
   ],
   "source": [
    "# Assignment 1 - Q7\n",
    "\n",
    "n = int(input(\"Enter the number to find the sum of entered number\"))\n",
    "s = (n*((n+1)/2))\n",
    "print (\"The Sum of first n natural numbers is \" , int(s))"
   ]
  },
  {
   "cell_type": "code",
   "execution_count": 27,
   "metadata": {},
   "outputs": [
    {
     "name": "stdout",
     "output_type": "stream",
     "text": [
      "Enter first number1\n",
      "Enter second number2\n",
      " a is  2\n",
      " b is  1\n"
     ]
    }
   ],
   "source": [
    "# Assignment 1 - Q8\n",
    "\n",
    "# using pythonic way\n",
    "a = int(input(\"Enter first number\"))\n",
    "b = int(input(\"Enter second number\"))\n",
    "a , b = b , a\n",
    "print (\" a is \" , a)\n",
    "print (\" b is \" , b)\n",
    "\n",
    "\n"
   ]
  },
  {
   "cell_type": "code",
   "execution_count": 28,
   "metadata": {},
   "outputs": [
    {
     "name": "stdout",
     "output_type": "stream",
     "text": [
      "Enter first number23\n",
      "Enter second number32\n",
      " a is  32\n",
      " b is  23\n"
     ]
    }
   ],
   "source": [
    "# Assignment 1 - Q8\n",
    "\n",
    "# using temp variable\n",
    "a = int(input(\"Enter first number\"))\n",
    "b = int(input(\"Enter second number\"))\n",
    "temp = a;\n",
    "a = b;\n",
    "b = temp;\n",
    "print (\" a is \" , a)\n",
    "print (\" b is \" , b)\n",
    "\n"
   ]
  },
  {
   "cell_type": "code",
   "execution_count": 33,
   "metadata": {},
   "outputs": [
    {
     "name": "stdout",
     "output_type": "stream",
     "text": [
      "Ascii value of horizantal tab  9\n",
      "Ascii value of new line  10\n",
      "Ascii value of carriage return  13\n",
      "Ascii value of feed  12\n",
      "Ascii value of vertical tab  11\n"
     ]
    }
   ],
   "source": [
    "# Assignment 1 - Q9\n",
    "\n",
    "print (\"Ascii value of horizantal tab is : \",ord('\\t'))\n",
    "print (\"Ascii value of new line is \",ord('\\n'))\n",
    "print (\"Ascii value of carriage return is \",ord('\\r'))\n",
    "print (\"Ascii value of feed is \",ord('\\f'))\n",
    "print (\"Ascii value of vertical tab is \",ord('\\v'))\n"
   ]
  },
  {
   "cell_type": "code",
   "execution_count": 41,
   "metadata": {
    "scrolled": true
   },
   "outputs": [
    {
     "name": "stdout",
     "output_type": "stream",
     "text": [
      "Enter a single Character1\n",
      "The ASCII value of entered character is : 49\n"
     ]
    }
   ],
   "source": [
    "# Assignment 1 - Q10\n",
    "\n",
    "a = str(input(\"Enter a single Character\"))\n",
    "print (\"The ASCII value of entered character is :\",ord(a))"
   ]
  },
  {
   "cell_type": "code",
   "execution_count": 43,
   "metadata": {
    "scrolled": true
   },
   "outputs": [
    {
     "name": "stdout",
     "output_type": "stream",
     "text": [
      "Enter the area of the circle100\n",
      "The Radius of the circle is  5.64\n",
      "The Circumference of the circle is  35.45\n"
     ]
    }
   ],
   "source": [
    "# Assignment 1 - Q11\n",
    "\n",
    "A = float(input(\"Enter the area of the circle\"))\n",
    "pi = 3.14159\n",
    "R = pow((A / pi) , 0.5)\n",
    "C = 2 * pi * R\n",
    "print (\"The Radius of the circle is \" , round(R,2))\n",
    "print (\"The Circumference of the circle is \" , round(C,2))"
   ]
  },
  {
   "cell_type": "code",
   "execution_count": 46,
   "metadata": {},
   "outputs": [
    {
     "name": "stdout",
     "output_type": "stream",
     "text": [
      "Enter marks in first subject : 94\n",
      "Enter marks in second subject : 95\n",
      "Enter marks in third subject : 99\n",
      "Enter marks in fourth subject : 97\n",
      "Enter marks in fifth subject : 96\n",
      "The percentage of the entered marks is   96.2 %\n"
     ]
    }
   ],
   "source": [
    "# Assignment 1 - Q12\n",
    "\n",
    "a = float(input(\"Enter marks in first subject : \"))\n",
    "b = float(input(\"Enter marks in second subject : \"))\n",
    "c = float(input(\"Enter marks in third subject : \"))\n",
    "d = float(input(\"Enter marks in fourth subject : \"))\n",
    "e = float(input(\"Enter marks in fifth subject : \"))\n",
    "f = (a + b +c +d +e)/5\n",
    "print(\"The percentage of the entered marks is  \", str(f) , \"%\" )"
   ]
  }
 ],
 "metadata": {
  "kernelspec": {
   "display_name": "Python 3",
   "language": "python",
   "name": "python3"
  },
  "language_info": {
   "codemirror_mode": {
    "name": "ipython",
    "version": 3
   },
   "file_extension": ".py",
   "mimetype": "text/x-python",
   "name": "python",
   "nbconvert_exporter": "python",
   "pygments_lexer": "ipython3",
   "version": "3.8.3"
  }
 },
 "nbformat": 4,
 "nbformat_minor": 4
}
