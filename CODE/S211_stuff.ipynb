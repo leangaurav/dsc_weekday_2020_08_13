{
 "cells": [
  {
   "cell_type": "code",
   "execution_count": 1,
   "metadata": {},
   "outputs": [],
   "source": [
    "import pandas as pd"
   ]
  },
  {
   "cell_type": "code",
   "execution_count": 3,
   "metadata": {},
   "outputs": [],
   "source": [
    "df = pd.read_csv('titanic_dataset.csv')"
   ]
  },
  {
   "cell_type": "code",
   "execution_count": 4,
   "metadata": {},
   "outputs": [],
   "source": [
    "grp = df.groupby(by=[\"survived\", \"gender\"])"
   ]
  },
  {
   "cell_type": "code",
   "execution_count": 6,
   "metadata": {},
   "outputs": [],
   "source": [
    "r = grp.size()"
   ]
  },
  {
   "cell_type": "code",
   "execution_count": 7,
   "metadata": {},
   "outputs": [
    {
     "name": "stdout",
     "output_type": "stream",
     "text": [
      "survived  gender\n",
      "0         female    127\n",
      "          male      682\n",
      "1         female    339\n",
      "          male      161\n",
      "dtype: int64\n"
     ]
    }
   ],
   "source": [
    "print(r)"
   ]
  },
  {
   "cell_type": "code",
   "execution_count": 8,
   "metadata": {},
   "outputs": [
    {
     "data": {
      "text/html": [
       "<div>\n",
       "<style scoped>\n",
       "    .dataframe tbody tr th:only-of-type {\n",
       "        vertical-align: middle;\n",
       "    }\n",
       "\n",
       "    .dataframe tbody tr th {\n",
       "        vertical-align: top;\n",
       "    }\n",
       "\n",
       "    .dataframe thead th {\n",
       "        text-align: right;\n",
       "    }\n",
       "</style>\n",
       "<table border=\"1\" class=\"dataframe\">\n",
       "  <thead>\n",
       "    <tr style=\"text-align: right;\">\n",
       "      <th>gender</th>\n",
       "      <th>female</th>\n",
       "      <th>male</th>\n",
       "    </tr>\n",
       "    <tr>\n",
       "      <th>survived</th>\n",
       "      <th></th>\n",
       "      <th></th>\n",
       "    </tr>\n",
       "  </thead>\n",
       "  <tbody>\n",
       "    <tr>\n",
       "      <th>0</th>\n",
       "      <td>127</td>\n",
       "      <td>682</td>\n",
       "    </tr>\n",
       "    <tr>\n",
       "      <th>1</th>\n",
       "      <td>339</td>\n",
       "      <td>161</td>\n",
       "    </tr>\n",
       "  </tbody>\n",
       "</table>\n",
       "</div>"
      ],
      "text/plain": [
       "gender    female  male\n",
       "survived              \n",
       "0            127   682\n",
       "1            339   161"
      ]
     },
     "execution_count": 8,
     "metadata": {},
     "output_type": "execute_result"
    }
   ],
   "source": [
    "r.unstack()"
   ]
  },
  {
   "cell_type": "code",
   "execution_count": null,
   "metadata": {},
   "outputs": [],
   "source": [
    "data.resample('H', on='created_at').price.sum()"
   ]
  },
  {
   "cell_type": "code",
   "execution_count": 17,
   "metadata": {},
   "outputs": [
    {
     "name": "stdout",
     "output_type": "stream",
     "text": [
      "2000-01-01 00:00:00    0\n",
      "2000-01-01 00:01:00    1\n",
      "2000-01-01 00:02:00    2\n",
      "2000-01-01 00:03:00    3\n",
      "2000-01-01 00:04:00    4\n",
      "2000-01-01 00:05:00    5\n",
      "2000-01-01 00:06:00    6\n",
      "2000-01-01 00:07:00    7\n",
      "2000-01-01 00:08:00    8\n",
      "Freq: T, dtype: int64\n",
      "\n",
      "DatetimeIndexResampler [freq=<3 * Seconds>, axis=0, closed=left, label=left, convention=start, base=0]\n",
      "\n",
      "{Timestamp('2000-01-01 00:00:00', freq='3S'): 1, Timestamp('2000-01-01 00:00:03', freq='3S'): 1, Timestamp('2000-01-01 00:00:06', freq='3S'): 1, Timestamp('2000-01-01 00:00:09', freq='3S'): 1, Timestamp('2000-01-01 00:00:12', freq='3S'): 1, Timestamp('2000-01-01 00:00:15', freq='3S'): 1, Timestamp('2000-01-01 00:00:18', freq='3S'): 1, Timestamp('2000-01-01 00:00:21', freq='3S'): 1, Timestamp('2000-01-01 00:00:24', freq='3S'): 1, Timestamp('2000-01-01 00:00:27', freq='3S'): 1, Timestamp('2000-01-01 00:00:30', freq='3S'): 1, Timestamp('2000-01-01 00:00:33', freq='3S'): 1, Timestamp('2000-01-01 00:00:36', freq='3S'): 1, Timestamp('2000-01-01 00:00:39', freq='3S'): 1, Timestamp('2000-01-01 00:00:42', freq='3S'): 1, Timestamp('2000-01-01 00:00:45', freq='3S'): 1, Timestamp('2000-01-01 00:00:48', freq='3S'): 1, Timestamp('2000-01-01 00:00:51', freq='3S'): 1, Timestamp('2000-01-01 00:00:54', freq='3S'): 1, Timestamp('2000-01-01 00:00:57', freq='3S'): 1, Timestamp('2000-01-01 00:01:00', freq='3S'): 2, Timestamp('2000-01-01 00:01:03', freq='3S'): 2, Timestamp('2000-01-01 00:01:06', freq='3S'): 2, Timestamp('2000-01-01 00:01:09', freq='3S'): 2, Timestamp('2000-01-01 00:01:12', freq='3S'): 2, Timestamp('2000-01-01 00:01:15', freq='3S'): 2, Timestamp('2000-01-01 00:01:18', freq='3S'): 2, Timestamp('2000-01-01 00:01:21', freq='3S'): 2, Timestamp('2000-01-01 00:01:24', freq='3S'): 2, Timestamp('2000-01-01 00:01:27', freq='3S'): 2, Timestamp('2000-01-01 00:01:30', freq='3S'): 2, Timestamp('2000-01-01 00:01:33', freq='3S'): 2, Timestamp('2000-01-01 00:01:36', freq='3S'): 2, Timestamp('2000-01-01 00:01:39', freq='3S'): 2, Timestamp('2000-01-01 00:01:42', freq='3S'): 2, Timestamp('2000-01-01 00:01:45', freq='3S'): 2, Timestamp('2000-01-01 00:01:48', freq='3S'): 2, Timestamp('2000-01-01 00:01:51', freq='3S'): 2, Timestamp('2000-01-01 00:01:54', freq='3S'): 2, Timestamp('2000-01-01 00:01:57', freq='3S'): 2, Timestamp('2000-01-01 00:02:00', freq='3S'): 3, Timestamp('2000-01-01 00:02:03', freq='3S'): 3, Timestamp('2000-01-01 00:02:06', freq='3S'): 3, Timestamp('2000-01-01 00:02:09', freq='3S'): 3, Timestamp('2000-01-01 00:02:12', freq='3S'): 3, Timestamp('2000-01-01 00:02:15', freq='3S'): 3, Timestamp('2000-01-01 00:02:18', freq='3S'): 3, Timestamp('2000-01-01 00:02:21', freq='3S'): 3, Timestamp('2000-01-01 00:02:24', freq='3S'): 3, Timestamp('2000-01-01 00:02:27', freq='3S'): 3, Timestamp('2000-01-01 00:02:30', freq='3S'): 3, Timestamp('2000-01-01 00:02:33', freq='3S'): 3, Timestamp('2000-01-01 00:02:36', freq='3S'): 3, Timestamp('2000-01-01 00:02:39', freq='3S'): 3, Timestamp('2000-01-01 00:02:42', freq='3S'): 3, Timestamp('2000-01-01 00:02:45', freq='3S'): 3, Timestamp('2000-01-01 00:02:48', freq='3S'): 3, Timestamp('2000-01-01 00:02:51', freq='3S'): 3, Timestamp('2000-01-01 00:02:54', freq='3S'): 3, Timestamp('2000-01-01 00:02:57', freq='3S'): 3, Timestamp('2000-01-01 00:03:00', freq='3S'): 4, Timestamp('2000-01-01 00:03:03', freq='3S'): 4, Timestamp('2000-01-01 00:03:06', freq='3S'): 4, Timestamp('2000-01-01 00:03:09', freq='3S'): 4, Timestamp('2000-01-01 00:03:12', freq='3S'): 4, Timestamp('2000-01-01 00:03:15', freq='3S'): 4, Timestamp('2000-01-01 00:03:18', freq='3S'): 4, Timestamp('2000-01-01 00:03:21', freq='3S'): 4, Timestamp('2000-01-01 00:03:24', freq='3S'): 4, Timestamp('2000-01-01 00:03:27', freq='3S'): 4, Timestamp('2000-01-01 00:03:30', freq='3S'): 4, Timestamp('2000-01-01 00:03:33', freq='3S'): 4, Timestamp('2000-01-01 00:03:36', freq='3S'): 4, Timestamp('2000-01-01 00:03:39', freq='3S'): 4, Timestamp('2000-01-01 00:03:42', freq='3S'): 4, Timestamp('2000-01-01 00:03:45', freq='3S'): 4, Timestamp('2000-01-01 00:03:48', freq='3S'): 4, Timestamp('2000-01-01 00:03:51', freq='3S'): 4, Timestamp('2000-01-01 00:03:54', freq='3S'): 4, Timestamp('2000-01-01 00:03:57', freq='3S'): 4, Timestamp('2000-01-01 00:04:00', freq='3S'): 5, Timestamp('2000-01-01 00:04:03', freq='3S'): 5, Timestamp('2000-01-01 00:04:06', freq='3S'): 5, Timestamp('2000-01-01 00:04:09', freq='3S'): 5, Timestamp('2000-01-01 00:04:12', freq='3S'): 5, Timestamp('2000-01-01 00:04:15', freq='3S'): 5, Timestamp('2000-01-01 00:04:18', freq='3S'): 5, Timestamp('2000-01-01 00:04:21', freq='3S'): 5, Timestamp('2000-01-01 00:04:24', freq='3S'): 5, Timestamp('2000-01-01 00:04:27', freq='3S'): 5, Timestamp('2000-01-01 00:04:30', freq='3S'): 5, Timestamp('2000-01-01 00:04:33', freq='3S'): 5, Timestamp('2000-01-01 00:04:36', freq='3S'): 5, Timestamp('2000-01-01 00:04:39', freq='3S'): 5, Timestamp('2000-01-01 00:04:42', freq='3S'): 5, Timestamp('2000-01-01 00:04:45', freq='3S'): 5, Timestamp('2000-01-01 00:04:48', freq='3S'): 5, Timestamp('2000-01-01 00:04:51', freq='3S'): 5, Timestamp('2000-01-01 00:04:54', freq='3S'): 5, Timestamp('2000-01-01 00:04:57', freq='3S'): 5, Timestamp('2000-01-01 00:05:00', freq='3S'): 6, Timestamp('2000-01-01 00:05:03', freq='3S'): 6, Timestamp('2000-01-01 00:05:06', freq='3S'): 6, Timestamp('2000-01-01 00:05:09', freq='3S'): 6, Timestamp('2000-01-01 00:05:12', freq='3S'): 6, Timestamp('2000-01-01 00:05:15', freq='3S'): 6, Timestamp('2000-01-01 00:05:18', freq='3S'): 6, Timestamp('2000-01-01 00:05:21', freq='3S'): 6, Timestamp('2000-01-01 00:05:24', freq='3S'): 6, Timestamp('2000-01-01 00:05:27', freq='3S'): 6, Timestamp('2000-01-01 00:05:30', freq='3S'): 6, Timestamp('2000-01-01 00:05:33', freq='3S'): 6, Timestamp('2000-01-01 00:05:36', freq='3S'): 6, Timestamp('2000-01-01 00:05:39', freq='3S'): 6, Timestamp('2000-01-01 00:05:42', freq='3S'): 6, Timestamp('2000-01-01 00:05:45', freq='3S'): 6, Timestamp('2000-01-01 00:05:48', freq='3S'): 6, Timestamp('2000-01-01 00:05:51', freq='3S'): 6, Timestamp('2000-01-01 00:05:54', freq='3S'): 6, Timestamp('2000-01-01 00:05:57', freq='3S'): 6, Timestamp('2000-01-01 00:06:00', freq='3S'): 7, Timestamp('2000-01-01 00:06:03', freq='3S'): 7, Timestamp('2000-01-01 00:06:06', freq='3S'): 7, Timestamp('2000-01-01 00:06:09', freq='3S'): 7, Timestamp('2000-01-01 00:06:12', freq='3S'): 7, Timestamp('2000-01-01 00:06:15', freq='3S'): 7, Timestamp('2000-01-01 00:06:18', freq='3S'): 7, Timestamp('2000-01-01 00:06:21', freq='3S'): 7, Timestamp('2000-01-01 00:06:24', freq='3S'): 7, Timestamp('2000-01-01 00:06:27', freq='3S'): 7, Timestamp('2000-01-01 00:06:30', freq='3S'): 7, Timestamp('2000-01-01 00:06:33', freq='3S'): 7, Timestamp('2000-01-01 00:06:36', freq='3S'): 7, Timestamp('2000-01-01 00:06:39', freq='3S'): 7, Timestamp('2000-01-01 00:06:42', freq='3S'): 7, Timestamp('2000-01-01 00:06:45', freq='3S'): 7, Timestamp('2000-01-01 00:06:48', freq='3S'): 7, Timestamp('2000-01-01 00:06:51', freq='3S'): 7, Timestamp('2000-01-01 00:06:54', freq='3S'): 7, Timestamp('2000-01-01 00:06:57', freq='3S'): 7, Timestamp('2000-01-01 00:07:00', freq='3S'): 8, Timestamp('2000-01-01 00:07:03', freq='3S'): 8, Timestamp('2000-01-01 00:07:06', freq='3S'): 8, Timestamp('2000-01-01 00:07:09', freq='3S'): 8, Timestamp('2000-01-01 00:07:12', freq='3S'): 8, Timestamp('2000-01-01 00:07:15', freq='3S'): 8, Timestamp('2000-01-01 00:07:18', freq='3S'): 8, Timestamp('2000-01-01 00:07:21', freq='3S'): 8, Timestamp('2000-01-01 00:07:24', freq='3S'): 8, Timestamp('2000-01-01 00:07:27', freq='3S'): 8, Timestamp('2000-01-01 00:07:30', freq='3S'): 8, Timestamp('2000-01-01 00:07:33', freq='3S'): 8, Timestamp('2000-01-01 00:07:36', freq='3S'): 8, Timestamp('2000-01-01 00:07:39', freq='3S'): 8, Timestamp('2000-01-01 00:07:42', freq='3S'): 8, Timestamp('2000-01-01 00:07:45', freq='3S'): 8, Timestamp('2000-01-01 00:07:48', freq='3S'): 8, Timestamp('2000-01-01 00:07:51', freq='3S'): 8, Timestamp('2000-01-01 00:07:54', freq='3S'): 8, Timestamp('2000-01-01 00:07:57', freq='3S'): 8, Timestamp('2000-01-01 00:08:00', freq='3S'): 9}\n"
     ]
    }
   ],
   "source": [
    "index = pd.date_range('1/1/2000', periods=9, freq='T')\n",
    "series = pd.Series(range(9), index=index)\n",
    "r = series.resample('3S')\n",
    "\n",
    "print(series)\n",
    "print()\n",
    "print(r)\n",
    "print()\n",
    "#print(dir(r))\n",
    "print(r.groups)"
   ]
  },
  {
   "cell_type": "code",
   "execution_count": null,
   "metadata": {},
   "outputs": [],
   "source": [
    "[10,20,30,40,50,60]\n",
    " 1m 2m  3 4  5   6"
   ]
  },
  {
   "cell_type": "code",
   "execution_count": null,
   "metadata": {},
   "outputs": [],
   "source": [
    "- continuous\n",
    "- discrete\n",
    "\n",
    "# 0am 1am 2am 3am..... # weighed average ...\n",
    "\n",
    "1am\n",
    "1:30 am\n",
    "\n",
    "# 1am 1.01am 2am ..... \n"
   ]
  },
  {
   "cell_type": "code",
   "execution_count": null,
   "metadata": {},
   "outputs": [],
   "source": [
    "- shuffling\n",
    "- resampling\n",
    "- model training\n",
    "- cross validation"
   ]
  },
  {
   "cell_type": "code",
   "execution_count": 18,
   "metadata": {},
   "outputs": [
    {
     "name": "stdout",
     "output_type": "stream",
     "text": [
      "[0, 1, 2, 3, 4, 5, 6, 7, 8, 9]\n"
     ]
    }
   ],
   "source": [
    "# list comprehension\n",
    "\n",
    "a = []\n",
    "\n",
    "for i in range(10):\n",
    "    a.append(i)\n",
    "    \n",
    "print(a)"
   ]
  },
  {
   "cell_type": "code",
   "execution_count": 19,
   "metadata": {},
   "outputs": [
    {
     "name": "stdout",
     "output_type": "stream",
     "text": [
      "[0, 1, 2, 3, 4, 5, 6, 7, 8, 9]\n"
     ]
    }
   ],
   "source": [
    "print(list(range(10)))"
   ]
  },
  {
   "cell_type": "code",
   "execution_count": 20,
   "metadata": {},
   "outputs": [
    {
     "name": "stdout",
     "output_type": "stream",
     "text": [
      "[19, 18, 14, 13, 19, 14, 14, 16, 10, 10]\n"
     ]
    }
   ],
   "source": [
    "# list comprehension\n",
    "\n",
    "import random\n",
    "a = []\n",
    "\n",
    "for i in range(10):\n",
    "    a.append(random.randint(10,20))\n",
    "    \n",
    "print(a)"
   ]
  },
  {
   "cell_type": "code",
   "execution_count": 21,
   "metadata": {},
   "outputs": [
    {
     "name": "stdout",
     "output_type": "stream",
     "text": [
      "[10, 11, 14, 19, 11, 12, 12, 15, 20, 20]\n"
     ]
    }
   ],
   "source": [
    "a = [random.randint(10,20) for i in range(10)]\n",
    "print(a)"
   ]
  },
  {
   "cell_type": "code",
   "execution_count": 23,
   "metadata": {},
   "outputs": [
    {
     "name": "stdout",
     "output_type": "stream",
     "text": [
      "[0, 1, 2, 3, 4, 5, 6, 7, 8, 9]\n"
     ]
    }
   ],
   "source": [
    "a = [i for i in range(10)]\n",
    "print(a)"
   ]
  },
  {
   "cell_type": "code",
   "execution_count": 24,
   "metadata": {},
   "outputs": [
    {
     "name": "stdout",
     "output_type": "stream",
     "text": [
      "[2, 4, 6, 8]\n"
     ]
    }
   ],
   "source": [
    "a = [i for i in range(2,10,2)]\n",
    "print(a)"
   ]
  },
  {
   "cell_type": "code",
   "execution_count": 27,
   "metadata": {},
   "outputs": [
    {
     "name": "stdout",
     "output_type": "stream",
     "text": [
      "[19, 14, 14, 16, 15, 13, 11, 18, 20, 14]\n",
      "[14, 14, 16, 18, 20, 14]\n"
     ]
    }
   ],
   "source": [
    "# filter only even numbers\n",
    "rands = [random.randint(10,20) for i in range(10)]\n",
    "print(rands)\n",
    "\n",
    "evens = [num for num in rands if num%2 == 0]\n",
    "print(evens)"
   ]
  },
  {
   "cell_type": "code",
   "execution_count": 29,
   "metadata": {},
   "outputs": [
    {
     "name": "stdout",
     "output_type": "stream",
     "text": [
      "[10, 13, 10, 20, 15, 11, 17, 17, 15, 16]\n",
      "[100, 6.5, 100, 400, 7.5, 5.5, 8.5, 8.5, 7.5, 256]\n"
     ]
    }
   ],
   "source": [
    "# for even numbers, square them, for odd numbers half them\n",
    "rands = [random.randint(10,20) for i in range(10)]\n",
    "print(rands)\n",
    "\n",
    "def fun(x):\n",
    "    if x%2:\n",
    "        return x/2\n",
    "    else:\n",
    "        return x**2\n",
    "\n",
    "evens = [fun(num) for num in rands]\n",
    "print(evens)"
   ]
  },
  {
   "cell_type": "code",
   "execution_count": null,
   "metadata": {},
   "outputs": [],
   "source": [
    "# for even numbers, square them, for odd numbers half them\n",
    "rands = [random.randint(10,20) for i in range(10)]\n",
    "print(rands)\n",
    "\n",
    "#        | ----------- expr ------------|\n",
    "evens = [num**2 if num%2 == 0  else num/2 for num in rands]\n",
    "print(evens)"
   ]
  },
  {
   "cell_type": "code",
   "execution_count": 33,
   "metadata": {},
   "outputs": [
    {
     "name": "stdout",
     "output_type": "stream",
     "text": [
      "[0, 0, 0]\n",
      "[0, 0, 1]\n",
      "[0, 0, 2]\n",
      "[0, 0, 3]\n",
      "[0, 0, 4]\n",
      "[0, 0, 5]\n",
      "[0, 1, 0]\n",
      "[0, 1, 1]\n",
      "[0, 1, 2]\n",
      "[0, 1, 3]\n",
      "[0, 1, 4]\n",
      "[0, 1, 5]\n",
      "[0, 2, 0]\n",
      "[0, 2, 1]\n",
      "[0, 2, 2]\n",
      "[0, 2, 3]\n",
      "[0, 2, 4]\n",
      "[0, 2, 5]\n",
      "[0, 3, 0]\n",
      "[0, 3, 1]\n",
      "[0, 3, 2]\n",
      "[0, 3, 3]\n",
      "[0, 3, 4]\n",
      "[0, 3, 5]\n",
      "[0, 4, 0]\n",
      "[0, 4, 1]\n",
      "[0, 4, 2]\n",
      "[0, 4, 3]\n",
      "[0, 4, 4]\n",
      "[0, 4, 5]\n",
      "[1, 0, 0]\n",
      "[1, 0, 1]\n",
      "[1, 0, 2]\n",
      "[1, 0, 3]\n",
      "[1, 0, 4]\n",
      "[1, 0, 5]\n",
      "[1, 1, 0]\n",
      "[1, 1, 1]\n",
      "[1, 1, 2]\n",
      "[1, 1, 3]\n",
      "[1, 1, 4]\n",
      "[1, 1, 5]\n",
      "[1, 2, 0]\n",
      "[1, 2, 1]\n",
      "[1, 2, 2]\n",
      "[1, 2, 3]\n",
      "[1, 2, 4]\n",
      "[1, 2, 5]\n",
      "[1, 3, 0]\n",
      "[1, 3, 1]\n",
      "[1, 3, 2]\n",
      "[1, 3, 3]\n",
      "[1, 3, 4]\n",
      "[1, 3, 5]\n",
      "[1, 4, 0]\n",
      "[1, 4, 1]\n",
      "[1, 4, 2]\n",
      "[1, 4, 3]\n",
      "[1, 4, 4]\n",
      "[1, 4, 5]\n",
      "[2, 0, 0]\n",
      "[2, 0, 1]\n",
      "[2, 0, 2]\n",
      "[2, 0, 3]\n",
      "[2, 0, 4]\n",
      "[2, 0, 5]\n",
      "[2, 1, 0]\n",
      "[2, 1, 1]\n",
      "[2, 1, 2]\n",
      "[2, 1, 3]\n",
      "[2, 1, 4]\n",
      "[2, 1, 5]\n",
      "[2, 2, 0]\n",
      "[2, 2, 1]\n",
      "[2, 2, 2]\n",
      "[2, 2, 3]\n",
      "[2, 2, 4]\n",
      "[2, 2, 5]\n",
      "[2, 3, 0]\n",
      "[2, 3, 1]\n",
      "[2, 3, 2]\n",
      "[2, 3, 3]\n",
      "[2, 3, 4]\n",
      "[2, 3, 5]\n",
      "[2, 4, 0]\n",
      "[2, 4, 1]\n",
      "[2, 4, 2]\n",
      "[2, 4, 3]\n",
      "[2, 4, 4]\n",
      "[2, 4, 5]\n",
      "[3, 0, 0]\n",
      "[3, 0, 1]\n",
      "[3, 0, 2]\n",
      "[3, 0, 3]\n",
      "[3, 0, 4]\n",
      "[3, 0, 5]\n",
      "[3, 1, 0]\n",
      "[3, 1, 1]\n",
      "[3, 1, 2]\n",
      "[3, 1, 3]\n",
      "[3, 1, 4]\n",
      "[3, 1, 5]\n",
      "[3, 2, 0]\n",
      "[3, 2, 1]\n",
      "[3, 2, 2]\n",
      "[3, 2, 3]\n",
      "[3, 2, 4]\n",
      "[3, 2, 5]\n",
      "[3, 3, 0]\n",
      "[3, 3, 1]\n",
      "[3, 3, 2]\n",
      "[3, 3, 3]\n",
      "[3, 3, 4]\n",
      "[3, 3, 5]\n",
      "[3, 4, 0]\n",
      "[3, 4, 1]\n",
      "[3, 4, 2]\n",
      "[3, 4, 3]\n",
      "[3, 4, 4]\n",
      "[3, 4, 5]\n"
     ]
    }
   ],
   "source": [
    "x,y,z =3,4,5\n",
    "finalList=[print([el1,el2,el3]) for el1 in range(x+1) for el2 in range(y+1) for el3 in range(z+1) if el1+el2+el3!=n]\n"
   ]
  },
  {
   "cell_type": "code",
   "execution_count": 34,
   "metadata": {},
   "outputs": [
    {
     "name": "stdout",
     "output_type": "stream",
     "text": [
      "0\n"
     ]
    }
   ],
   "source": [
    "# range(10)\n",
    "\n",
    "def f():\n",
    "    i = 0\n",
    "    while i < 10:\n",
    "        return i\n",
    "        i+=1\n",
    "        \n",
    "print(f())"
   ]
  },
  {
   "cell_type": "code",
   "execution_count": 36,
   "metadata": {},
   "outputs": [
    {
     "name": "stdout",
     "output_type": "stream",
     "text": [
      "<generator object f at 0x7fc96766fcf0>\n",
      "['__class__', '__del__', '__delattr__', '__dir__', '__doc__', '__eq__', '__format__', '__ge__', '__getattribute__', '__gt__', '__hash__', '__init__', '__init_subclass__', '__iter__', '__le__', '__lt__', '__name__', '__ne__', '__new__', '__next__', '__qualname__', '__reduce__', '__reduce_ex__', '__repr__', '__setattr__', '__sizeof__', '__str__', '__subclasshook__', 'close', 'gi_code', 'gi_frame', 'gi_running', 'gi_yieldfrom', 'send', 'throw']\n"
     ]
    }
   ],
   "source": [
    "# range(10)\n",
    "\n",
    "def f():\n",
    "    i = 0\n",
    "    while i < 10:\n",
    "        yield i\n",
    "        i+=1\n",
    "\n",
    "g = f()\n",
    "print(g)\n",
    "print(dir(g))"
   ]
  },
  {
   "cell_type": "code",
   "execution_count": 37,
   "metadata": {},
   "outputs": [
    {
     "name": "stdout",
     "output_type": "stream",
     "text": [
      "0\n",
      "1\n",
      "2\n",
      "3\n",
      "4\n",
      "5\n",
      "6\n",
      "7\n",
      "8\n",
      "9\n"
     ]
    }
   ],
   "source": [
    "# range(10)\n",
    "\n",
    "def f():\n",
    "    i = 0\n",
    "    while i < 10:\n",
    "        yield i\n",
    "        i+=1\n",
    "\n",
    "g = f()\n",
    "for x in g:\n",
    "    print(x)"
   ]
  },
  {
   "cell_type": "code",
   "execution_count": 50,
   "metadata": {},
   "outputs": [
    {
     "name": "stdout",
     "output_type": "stream",
     "text": [
      "Function called\n",
      "yielding: 0\n",
      "0\n",
      "yielding: 1\n",
      "1\n",
      "yielding: 2\n",
      "2\n",
      "yielding: 3\n",
      "3\n"
     ]
    },
    {
     "ename": "StopIteration",
     "evalue": "",
     "output_type": "error",
     "traceback": [
      "\u001b[0;31m---------------------------------------------------------------------------\u001b[0m",
      "\u001b[0;31mStopIteration\u001b[0m                             Traceback (most recent call last)",
      "\u001b[0;32m<ipython-input-50-686d97da312d>\u001b[0m in \u001b[0;36m<module>\u001b[0;34m\u001b[0m\n\u001b[1;32m     15\u001b[0m \u001b[0mprint\u001b[0m\u001b[0;34m(\u001b[0m\u001b[0mnext\u001b[0m\u001b[0;34m(\u001b[0m\u001b[0mg\u001b[0m\u001b[0;34m)\u001b[0m\u001b[0;34m)\u001b[0m\u001b[0;34m\u001b[0m\u001b[0;34m\u001b[0m\u001b[0m\n\u001b[1;32m     16\u001b[0m \u001b[0mprint\u001b[0m\u001b[0;34m(\u001b[0m\u001b[0mnext\u001b[0m\u001b[0;34m(\u001b[0m\u001b[0mg\u001b[0m\u001b[0;34m)\u001b[0m\u001b[0;34m)\u001b[0m\u001b[0;34m\u001b[0m\u001b[0;34m\u001b[0m\u001b[0m\n\u001b[0;32m---> 17\u001b[0;31m \u001b[0mprint\u001b[0m\u001b[0;34m(\u001b[0m\u001b[0mnext\u001b[0m\u001b[0;34m(\u001b[0m\u001b[0mg\u001b[0m\u001b[0;34m)\u001b[0m\u001b[0;34m)\u001b[0m\u001b[0;34m\u001b[0m\u001b[0;34m\u001b[0m\u001b[0m\n\u001b[0m",
      "\u001b[0;31mStopIteration\u001b[0m: "
     ]
    }
   ],
   "source": [
    "# range(10)\n",
    "\n",
    "def f():\n",
    "    i = 0\n",
    "    while i < 4:\n",
    "        print(\"yielding:\", i)\n",
    "        yield i\n",
    "        i+=1\n",
    "\n",
    "g = f()\n",
    "print(\"Function called\")\n",
    "\n",
    "print(next(g))\n",
    "print(next(g))\n",
    "print(next(g))\n",
    "print(next(g))\n",
    "print(next(g))"
   ]
  },
  {
   "cell_type": "code",
   "execution_count": 42,
   "metadata": {},
   "outputs": [
    {
     "name": "stdout",
     "output_type": "stream",
     "text": [
      "[1, 2, 3]\n",
      "[0, 1, 2, 3]\n",
      "[4, 14, 24, 34, 44, 54, 64, 74, 84, 94]\n"
     ]
    }
   ],
   "source": [
    "def my_range(start, end=None, step=1):\n",
    "    s = start\n",
    "    e = end\n",
    "    if end is None:\n",
    "        s = 0\n",
    "        e = start\n",
    "        \n",
    "    while s < e:\n",
    "        yield s\n",
    "        s += step\n",
    "        \n",
    "print((my_range(1,4)))\n",
    "print(list(my_range(4)))\n",
    "print(list(my_range(4,100,10)))"
   ]
  },
  {
   "cell_type": "code",
   "execution_count": 45,
   "metadata": {},
   "outputs": [
    {
     "name": "stdout",
     "output_type": "stream",
     "text": [
      "Yielding:  1\n",
      "Yielding:  2\n",
      "Yielding:  3\n",
      "[1, 2, 3]\n"
     ]
    },
    {
     "data": {
      "text/plain": [
       "<generator object my_range at 0x7fc9675ad120>"
      ]
     },
     "execution_count": 45,
     "metadata": {},
     "output_type": "execute_result"
    }
   ],
   "source": [
    "def my_range(start, end=None, step=1):\n",
    "    s = start\n",
    "    e = end\n",
    "    if end is None:\n",
    "        s = 0\n",
    "        e = start\n",
    "        \n",
    "    while s < e:\n",
    "        print(\"Yielding: \", s)\n",
    "        yield s\n",
    "        s += step\n",
    "        \n",
    "print(list(my_range(1,4)))\n",
    "my_range(1,4)"
   ]
  },
  {
   "cell_type": "code",
   "execution_count": 46,
   "metadata": {},
   "outputs": [
    {
     "name": "stdout",
     "output_type": "stream",
     "text": [
      "2\n",
      "4\n",
      "6\n",
      "8\n",
      "10\n"
     ]
    }
   ],
   "source": [
    "def gen_evens(n):\n",
    "    for num in range(2,n+1,2):\n",
    "        yield num\n",
    "        \n",
    "for num in gen_evens(10):\n",
    "    print(num)"
   ]
  },
  {
   "cell_type": "code",
   "execution_count": 52,
   "metadata": {},
   "outputs": [
    {
     "name": "stdout",
     "output_type": "stream",
     "text": [
      "   A   B\n",
      "0  0  10\n",
      "1  1  11\n",
      "2  2  12\n",
      "3  3  13\n",
      "4  4  14\n",
      "5  5  15\n",
      "6  6  16\n",
      "7  7  17\n",
      "8  8  18\n",
      "9  9  19\n"
     ]
    }
   ],
   "source": [
    "df1 = pd.DataFrame({\"A\": range(10), \"B\":range(10,20)})\n",
    "print(df1)"
   ]
  },
  {
   "cell_type": "code",
   "execution_count": 54,
   "metadata": {},
   "outputs": [
    {
     "name": "stdout",
     "output_type": "stream",
     "text": [
      "    A    C\n",
      "0   5  100\n",
      "1   6  101\n",
      "2   7  102\n",
      "3   8  103\n",
      "4   9  104\n",
      "5  10  105\n",
      "6  11  106\n",
      "7  12  107\n",
      "8  13  108\n",
      "9  14  109\n"
     ]
    }
   ],
   "source": [
    "df2 = pd.DataFrame({\"A\": range(5,15), \"C\":range(100,110)})\n",
    "print(df2)"
   ]
  },
  {
   "cell_type": "code",
   "execution_count": 61,
   "metadata": {},
   "outputs": [
    {
     "name": "stdout",
     "output_type": "stream",
     "text": [
      "   Al   B   A    C\n",
      "0   0  10   5  100\n",
      "1   1  11   6  101\n",
      "2   2  12   7  102\n",
      "3   3  13   8  103\n",
      "4   4  14   9  104\n",
      "5   5  15  10  105\n",
      "6   6  16  11  106\n",
      "7   7  17  12  107\n",
      "8   8  18  13  108\n",
      "9   9  19  14  109\n"
     ]
    }
   ],
   "source": [
    "r = df1.join(df2, on='A', lsuffix='l')\n",
    "print(r)"
   ]
  },
  {
   "cell_type": "code",
   "execution_count": 65,
   "metadata": {},
   "outputs": [
    {
     "name": "stdout",
     "output_type": "stream",
     "text": [
      "    B\n",
      "A    \n",
      "0  10\n",
      "1  11\n",
      "2  12\n",
      "3  13\n",
      "4  14\n",
      "5  15\n",
      "6  16\n",
      "7  17\n",
      "8  18\n",
      "9  19\n"
     ]
    }
   ],
   "source": [
    "df1 = pd.DataFrame({\"A\": range(10), \"B\":range(10,20)})\n",
    "df1 = df1.set_index('A')\n",
    "print(df1)"
   ]
  },
  {
   "cell_type": "code",
   "execution_count": 66,
   "metadata": {},
   "outputs": [
    {
     "name": "stdout",
     "output_type": "stream",
     "text": [
      "      C\n",
      "A      \n",
      "5   100\n",
      "6   101\n",
      "7   102\n",
      "8   103\n",
      "9   104\n",
      "10  105\n",
      "11  106\n",
      "12  107\n",
      "13  108\n",
      "14  109\n"
     ]
    }
   ],
   "source": [
    "df2 = pd.DataFrame({\"A\": range(5,15), \"C\":range(100,110)})\n",
    "df2 = df2.set_index('A')\n",
    "print(df2)"
   ]
  },
  {
   "cell_type": "code",
   "execution_count": 69,
   "metadata": {},
   "outputs": [
    {
     "name": "stdout",
     "output_type": "stream",
     "text": [
      "       B      C\n",
      "A              \n",
      "0   10.0    NaN\n",
      "1   11.0    NaN\n",
      "2   12.0    NaN\n",
      "3   13.0    NaN\n",
      "4   14.0    NaN\n",
      "5   15.0  100.0\n",
      "6   16.0  101.0\n",
      "7   17.0  102.0\n",
      "8   18.0  103.0\n",
      "9   19.0  104.0\n",
      "10   NaN  105.0\n",
      "11   NaN  106.0\n",
      "12   NaN  107.0\n",
      "13   NaN  108.0\n",
      "14   NaN  109.0\n"
     ]
    }
   ],
   "source": [
    "r = df1.join(df2, how='outer')\n",
    "print(r)"
   ]
  },
  {
   "cell_type": "code",
   "execution_count": 70,
   "metadata": {},
   "outputs": [
    {
     "name": "stdout",
     "output_type": "stream",
     "text": [
      "F:  10\n"
     ]
    }
   ],
   "source": [
    "def f(x):\n",
    "    print(\"F: \",x)\n",
    "    \n",
    "f(10)"
   ]
  },
  {
   "cell_type": "code",
   "execution_count": 74,
   "metadata": {},
   "outputs": [
    {
     "name": "stdout",
     "output_type": "stream",
     "text": [
      "F1:  100\n",
      "F2:  10000\n"
     ]
    }
   ],
   "source": [
    "def f1(x):\n",
    "    print(\"F1: \",x)\n",
    "\n",
    "def f2(x):\n",
    "    print(\"F2: \",x**2)\n",
    "    \n",
    "def caller(f):\n",
    "    f(100)\n",
    "\n",
    "    \n",
    "caller(f1)\n",
    "caller(f2)"
   ]
  },
  {
   "cell_type": "code",
   "execution_count": 78,
   "metadata": {},
   "outputs": [
    {
     "name": "stdout",
     "output_type": "stream",
     "text": [
      "Inner:  10\n",
      "Inner:  10\n",
      "Inner:  100\n",
      "Inner:  10\n",
      "<function outer.<locals>.inner at 0x7fc9662c9310> <function outer.<locals>.inner at 0x7fc9653e1670>\n"
     ]
    }
   ],
   "source": [
    "def outer(x):\n",
    "    def inner():\n",
    "        print(\"Inner: \", x)\n",
    "\n",
    "    return inner\n",
    "\n",
    "f = outer(10) # def f() : print(\"Inner\", 10)\n",
    "f()\n",
    "f()\n",
    "\n",
    "f1 = outer(100) # def f1() : print(\"Inner\", 10)\n",
    "f1()\n",
    "f()\n",
    "\n",
    "print(f, f1)"
   ]
  },
  {
   "cell_type": "code",
   "execution_count": 81,
   "metadata": {},
   "outputs": [
    {
     "name": "stdout",
     "output_type": "stream",
     "text": [
      "Inner:  10\n",
      "Inner:  10\n",
      "Inner:  100\n",
      "Inner:  10\n",
      "<function outer.<locals>.inner at 0x7fc9662c9820> <function outer.<locals>.inner at 0x7fc9653e15e0>\n",
      "(<function outer.<locals>.inner at 0x7fc965a74160>, <function outer.<locals>.inner1 at 0x7fc965a741f0>)\n"
     ]
    }
   ],
   "source": [
    "def outer(x):\n",
    "    def inner():\n",
    "        print(\"Inner: \", x)\n",
    "    def inner1():\n",
    "        print(\"Inner1: \", x)\n",
    "\n",
    "    return inner, inner1\n",
    "\n",
    "f,ff = outer(10) # def f() : print(\"Inner\", 10)\n",
    "f()\n",
    "f()\n",
    "\n",
    "f1,ff1 = outer(100) # def f1() : print(\"Inner\", 10)\n",
    "f1()\n",
    "f()\n",
    "\n",
    "print(f, f1)\n",
    "\n",
    "r = outer(10) # def f() : print(\"Inner\", 10)\n",
    "print(r)"
   ]
  },
  {
   "cell_type": "code",
   "execution_count": null,
   "metadata": {},
   "outputs": [],
   "source": [
    "def f1(x):\n",
    "    print(\"F1: \",x)\n",
    "\n",
    "def f2(x):\n",
    "    print(\"F2: \",x**2)\n",
    "    \n",
    "def caller(f):\n",
    "    \n",
    "    \n",
    "    f(100)\n",
    "\n",
    "    \n",
    "caller(f1)\n",
    "caller(f2)"
   ]
  },
  {
   "cell_type": "code",
   "execution_count": 85,
   "metadata": {},
   "outputs": [
    {
     "name": "stdout",
     "output_type": "stream",
     "text": [
      "I call: f1\n",
      "F1\n",
      "I call: f1\n",
      "F1\n"
     ]
    }
   ],
   "source": [
    "def outer(func):\n",
    "    def inner():\n",
    "        print(\"I call:\", func.__name__)\n",
    "        func()\n",
    "    return inner\n",
    "\n",
    "def f1():\n",
    "    print(\"F1\")\n",
    "    \n",
    "def f2():\n",
    "    print(\"F2\")\n",
    "    \n",
    "r1  = outer(f1) # inner() :  print(\"I call:\", f1.__name__); f1()\n",
    "r2  = outer(f2) # inner() :  print(\"I call:\", f2.__name__); f2()\n",
    "\n",
    "r1()\n",
    "r1()"
   ]
  },
  {
   "cell_type": "code",
   "execution_count": 118,
   "metadata": {},
   "outputs": [
    {
     "ename": "TypeError",
     "evalue": "inner() takes 0 positional arguments but 1 was given",
     "output_type": "error",
     "traceback": [
      "\u001b[0;31m---------------------------------------------------------------------------\u001b[0m",
      "\u001b[0;31mTypeError\u001b[0m                                 Traceback (most recent call last)",
      "\u001b[0;32m<ipython-input-118-3fedae27e3f5>\u001b[0m in \u001b[0;36m<module>\u001b[0;34m\u001b[0m\n\u001b[1;32m     18\u001b[0m \u001b[0;34m\u001b[0m\u001b[0m\n\u001b[1;32m     19\u001b[0m \u001b[0mr1\u001b[0m \u001b[0;34m=\u001b[0m \u001b[0mtime_call\u001b[0m\u001b[0;34m(\u001b[0m\u001b[0mf1\u001b[0m\u001b[0;34m)\u001b[0m\u001b[0;34m\u001b[0m\u001b[0;34m\u001b[0m\u001b[0m\n\u001b[0;32m---> 20\u001b[0;31m \u001b[0mr1\u001b[0m\u001b[0;34m(\u001b[0m\u001b[0;36m10\u001b[0m\u001b[0;34m)\u001b[0m\u001b[0;34m\u001b[0m\u001b[0;34m\u001b[0m\u001b[0m\n\u001b[0m\u001b[1;32m     21\u001b[0m \u001b[0mr1\u001b[0m\u001b[0;34m(\u001b[0m\u001b[0;34m)\u001b[0m\u001b[0;34m\u001b[0m\u001b[0;34m\u001b[0m\u001b[0m\n\u001b[1;32m     22\u001b[0m \u001b[0mr1\u001b[0m\u001b[0;34m(\u001b[0m\u001b[0;34m)\u001b[0m\u001b[0;34m\u001b[0m\u001b[0;34m\u001b[0m\u001b[0m\n",
      "\u001b[0;31mTypeError\u001b[0m: inner() takes 0 positional arguments but 1 was given"
     ]
    }
   ],
   "source": [
    "import time\n",
    "def time_call(func):\n",
    "    def inner():\n",
    "        start =  time.time()\n",
    "        func()\n",
    "        print(\"Function:\", func.__name__, \"took: %fs\" % (time.time() - start))\n",
    "    return inner\n",
    "\n",
    "def f1():\n",
    "    for i in range(1000):\n",
    "        pass\n",
    "    \n",
    "\n",
    "def f2():\n",
    "    for i in range(10000000):\n",
    "        pass\n",
    "    \n",
    "    \n",
    "r1 = time_call(f1)\n",
    "r1()\n",
    "r1()\n",
    "r1()\n",
    "f2  = time_call(f2)\n",
    "f2()"
   ]
  },
  {
   "cell_type": "code",
   "execution_count": 90,
   "metadata": {},
   "outputs": [
    {
     "name": "stdout",
     "output_type": "stream",
     "text": [
      "Function: f1 took: 0.000022s\n",
      "Function: f1 took: 0.000021s\n",
      "Function: f2 took: 0.264897s\n"
     ]
    }
   ],
   "source": [
    "import time\n",
    "def time_call(func):\n",
    "    def inner():\n",
    "        start =  time.time()\n",
    "        func()\n",
    "        print(\"Function:\", func.__name__, \"took: %fs\" % (time.time() - start))\n",
    "    \n",
    "    return inner\n",
    "\n",
    "@time_call\n",
    "def f1():\n",
    "    for i in range(1000):\n",
    "        pass\n",
    "    \n",
    "@time_call\n",
    "def f2():\n",
    "    for i in range(10000000):\n",
    "        pass\n",
    "    \n",
    "f1()    \n",
    "f1()\n",
    "f2()"
   ]
  },
  {
   "cell_type": "code",
   "execution_count": 99,
   "metadata": {},
   "outputs": [
    {
     "name": "stdout",
     "output_type": "stream",
     "text": [
      "Function: f1 took: 0.000021s\n",
      "Function: f1 took: 0.000020s\n",
      "Function: f2 took: 0.002213s\n"
     ]
    }
   ],
   "source": [
    "import time\n",
    "def time_call(func):\n",
    "    def inner(*args):\n",
    "        start =  time.time()\n",
    "        func(*args)\n",
    "        print(\"Function:\", func.__name__, \"took: %fs\" % (time.time() - start))\n",
    "    \n",
    "    return inner\n",
    "\n",
    "@time_call\n",
    "def f1(x):\n",
    "    for i in range(x):\n",
    "        pass\n",
    "    \n",
    "@time_call\n",
    "def f2(x,y):\n",
    "    for i in range(x**y):\n",
    "        pass\n",
    "    \n",
    "f1(1000)    \n",
    "f1(1000)\n",
    "f2(10,5)"
   ]
  },
  {
   "cell_type": "code",
   "execution_count": 104,
   "metadata": {},
   "outputs": [
    {
     "name": "stdout",
     "output_type": "stream",
     "text": [
      "Function: f1 took: 0.000022s\n",
      "Function: f1 took: 0.000021s\n",
      "Function: f2 took: 0.001639s\n",
      "None\n"
     ]
    }
   ],
   "source": [
    "import time\n",
    "def time_call(func):\n",
    "    def inner(*args, **kwargs):\n",
    "        start =  time.time()\n",
    "        func(*args, **kwargs)\n",
    "        print(\"Function:\", func.__name__, \"took: %fs\" % (time.time() - start))\n",
    "    \n",
    "    return inner\n",
    "\n",
    "@time_call\n",
    "def f1(x):\n",
    "    for i in range(x):\n",
    "        pass\n",
    "    \n",
    "@time_call\n",
    "def f2(x,y):\n",
    "    \"\"\"this wastes exponential time\"\"\"\n",
    "    for i in range(x**y):\n",
    "        pass\n",
    "    \n",
    "f1(1000)    \n",
    "f1(1000)\n",
    "f2(4,y=8)\n",
    "\n",
    "print(f2.__doc__)"
   ]
  },
  {
   "cell_type": "code",
   "execution_count": 105,
   "metadata": {},
   "outputs": [
    {
     "name": "stdout",
     "output_type": "stream",
     "text": [
      "Function: f1 took: 0.000021s\n",
      "Function: f1 took: 0.000021s\n",
      "Function: f2 took: 0.005289s\n",
      "this wastes exponential time\n"
     ]
    }
   ],
   "source": [
    "from functools import wraps\n",
    "\n",
    "import time\n",
    "def time_call(func):\n",
    "    @wraps(func)\n",
    "    def inner(*args, **kwargs):\n",
    "        start =  time.time()\n",
    "        func(*args, **kwargs)\n",
    "        print(\"Function:\", func.__name__, \"took: %fs\" % (time.time() - start))\n",
    "    \n",
    "    return inner\n",
    "\n",
    "@time_call\n",
    "def f1(x):\n",
    "    for i in range(x):\n",
    "        pass\n",
    "    \n",
    "@time_call\n",
    "def f2(x,y):\n",
    "    \"\"\"this wastes exponential time\"\"\"\n",
    "    for i in range(x**y):\n",
    "        pass\n",
    "    \n",
    "f1(1000)    \n",
    "f1(1000)\n",
    "f2(4,y=8)\n",
    "\n",
    "print(f2.__doc__)"
   ]
  },
  {
   "cell_type": "code",
   "execution_count": 106,
   "metadata": {},
   "outputs": [
    {
     "name": "stdout",
     "output_type": "stream",
     "text": [
      "Function: f1 took: 0.000021s\n",
      "None\n",
      "Function: f1 took: 0.000039s\n"
     ]
    }
   ],
   "source": [
    "from functools import wraps\n",
    "\n",
    "import time\n",
    "def time_call(func):\n",
    "    @wraps(func)\n",
    "    def inner(*args, **kwargs):\n",
    "        start =  time.time()\n",
    "        func(*args, **kwargs)\n",
    "        print(\"Function:\", func.__name__, \"took: %fs\" % (time.time() - start))\n",
    "    \n",
    "    return inner\n",
    "\n",
    "@time_call\n",
    "def f1(x):\n",
    "    for i in range(x):\n",
    "        pass\n",
    "    return 100\n",
    "    \n",
    "@time_call\n",
    "def f2(x,y):\n",
    "    \"\"\"this wastes exponential time\"\"\"\n",
    "    for i in range(x**y):\n",
    "        pass\n",
    "    \n",
    "print(f1(1000))    \n",
    "f1(1000)"
   ]
  },
  {
   "cell_type": "code",
   "execution_count": 109,
   "metadata": {},
   "outputs": [
    {
     "name": "stdout",
     "output_type": "stream",
     "text": [
      "Function: f1 took: 0.000021s\n",
      "100\n",
      "Function: f1 took: 0.000021s\n",
      "100\n"
     ]
    }
   ],
   "source": [
    "from functools import wraps\n",
    "# perfect  decorator\n",
    "# decotor  is a function that adds additional functionality on top of a function without altering original behavior\n",
    "import time\n",
    "def time_call(func):\n",
    "    @wraps(func)\n",
    "    def inner(*args, **kwargs):\n",
    "        start =  time.time()\n",
    "        r  = func(*args, **kwargs)\n",
    "        print(\"Function:\", func.__name__, \"took: %fs\" % (time.time() - start))\n",
    "        return r\n",
    "\n",
    "    return inner\n",
    "\n",
    "@time_call\n",
    "def f1(x):\n",
    "    for i in range(x):\n",
    "        pass\n",
    "    return 100\n",
    "    \n",
    "@time_call\n",
    "def f2(x,y):\n",
    "    \"\"\"this wastes exponential time\"\"\"\n",
    "    for i in range(x**y):\n",
    "        pass\n",
    "    \n",
    "print(f1(1000))    \n",
    "r =  f1(1000)\n",
    "print(r)"
   ]
  },
  {
   "cell_type": "code",
   "execution_count": 117,
   "metadata": {},
   "outputs": [
    {
     "name": "stdout",
     "output_type": "stream",
     "text": [
      "['__annotations__', '__call__', '__class__', '__closure__', '__code__', '__defaults__', '__delattr__', '__dict__', '__dir__', '__doc__', '__eq__', '__format__', '__ge__', '__get__', '__getattribute__', '__globals__', '__gt__', '__hash__', '__init__', '__init_subclass__', '__kwdefaults__', '__le__', '__lt__', '__module__', '__name__', '__ne__', '__new__', '__qualname__', '__reduce__', '__reduce_ex__', '__repr__', '__setattr__', '__sizeof__', '__str__', '__subclasshook__', '__wrapped__']\n",
      "['__annotations__', '__call__', '__class__', '__closure__', '__code__', '__defaults__', '__delattr__', '__dict__', '__dir__', '__doc__', '__eq__', '__format__', '__ge__', '__get__', '__getattribute__', '__globals__', '__gt__', '__hash__', '__init__', '__init_subclass__', '__kwdefaults__', '__le__', '__lt__', '__module__', '__name__', '__ne__', '__new__', '__qualname__', '__reduce__', '__reduce_ex__', '__repr__', '__setattr__', '__sizeof__', '__str__', '__subclasshook__']\n",
      "f1\n",
      "\n",
      "100\n",
      "\n",
      "Function: f1 took: 0.000001s\n",
      "100\n"
     ]
    }
   ],
   "source": [
    "print(dir(f1))\n",
    "print(dir(f1.__wrapped__))\n",
    "print(f1.__wrapped__.__name__)\n",
    "\n",
    "print()\n",
    "print(f1.__wrapped__(10))\n",
    "\n",
    "print()\n",
    "print(f1(10))"
   ]
  }
 ],
 "metadata": {
  "kernelspec": {
   "display_name": "Python 3",
   "language": "python",
   "name": "python3"
  },
  "language_info": {
   "codemirror_mode": {
    "name": "ipython",
    "version": 3
   },
   "file_extension": ".py",
   "mimetype": "text/x-python",
   "name": "python",
   "nbconvert_exporter": "python",
   "pygments_lexer": "ipython3",
   "version": "3.8.3"
  }
 },
 "nbformat": 4,
 "nbformat_minor": 4
}
