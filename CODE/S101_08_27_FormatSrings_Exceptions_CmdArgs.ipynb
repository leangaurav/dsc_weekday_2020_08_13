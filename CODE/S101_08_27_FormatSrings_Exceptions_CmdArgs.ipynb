{
 "cells": [
  {
   "cell_type": "markdown",
   "metadata": {},
   "source": [
    "### format specifiers in string"
   ]
  },
  {
   "cell_type": "code",
   "execution_count": null,
   "metadata": {},
   "outputs": [],
   "source": [
    "\"0516S\""
   ]
  },
  {
   "cell_type": "code",
   "execution_count": 5,
   "metadata": {},
   "outputs": [
    {
     "name": "stdout",
     "output_type": "stream",
     "text": [
      "10\n",
      "483\n",
      "10\n",
      "123\n"
     ]
    }
   ],
   "source": [
    "# 4 number systems\n",
    "b = 0b1010 # binary\n",
    "print(b)\n",
    "b = 0o743 # octal\n",
    "print(b)\n",
    "b = 0xa # hexa\n",
    "print(b)\n",
    "b = 123 # decimal\n",
    "print(b)"
   ]
  },
  {
   "cell_type": "code",
   "execution_count": 11,
   "metadata": {},
   "outputs": [
    {
     "name": "stdout",
     "output_type": "stream",
     "text": [
      "Enter the number: 5\n",
      "5 X 1 = 5\n",
      "5 X 2 = 10\n",
      "5 X 3 = 15\n",
      "5 X 4 = 20\n",
      "5 X 5 = 25\n",
      "5 X 6 = 30\n",
      "5 X 7 = 35\n",
      "5 X 8 = 40\n",
      "5 X 9 = 45\n",
      "5 X 10 = 50\n",
      "\n",
      "5 X 1 = 5\n",
      "5 X 2 = 10\n",
      "5 X 3 = 15\n",
      "5 X 4 = 20\n",
      "5 X 5 = 25\n",
      "5 X 6 = 30\n",
      "5 X 7 = 35\n",
      "5 X 8 = 40\n",
      "5 X 9 = 45\n",
      "5 X 10 = 50\n",
      "\n",
      "5 X 1 = 5\n",
      "5 X 2 = 10\n",
      "5 X 3 = 15\n",
      "5 X 4 = 20\n",
      "5 X 5 = 25\n",
      "5 X 6 = 30\n",
      "5 X 7 = 35\n",
      "5 X 8 = 40\n",
      "5 X 9 = 45\n",
      "5 X 10 = 50\n"
     ]
    }
   ],
   "source": [
    "# WAP to input a number n and print the table of that number\n",
    "n = int(input(\"Enter the number: \"))\n",
    "\n",
    "# format specifiers start with %\n",
    "# %d-> int\n",
    "# %s-> string\n",
    "# %f-> float\n",
    "# %b-> bool\n",
    "\n",
    "for i in range(1,11):\n",
    "    #print(n, \"X\", i , \"=\", n*i)\n",
    "    #s = \"%d X %d = %d\" % (n, i, n*i)\n",
    "    s = \"%s X %s = %s\" % (n, i, n*i)\n",
    "    print(s)\n",
    "    \n",
    "print()\n",
    "for i in range(1,11):\n",
    "    #print(n, \"X\", i , \"=\", n*i)\n",
    "    #s = \"%d X %d = %d\" % (n, i, n*i)\n",
    "    s = \"{} X {} = {}\".format(n, i, n*i)\n",
    "    print(s)\n",
    "    \n",
    "\n",
    "print()\n",
    "for i in range(1,11):\n",
    "    #print(n, \"X\", i , \"=\", n*i)\n",
    "    #s = \"%d X %d = %d\" % (n, i, n*i)\n",
    "    s = f\"{n} X {i} = {n*i}\"\n",
    "    print(s)"
   ]
  },
  {
   "cell_type": "code",
   "execution_count": 26,
   "metadata": {},
   "outputs": [
    {
     "name": "stdout",
     "output_type": "stream",
     "text": [
      "3.33\n",
      "123  abcd\n",
      "0001 abcd\n",
      "  12 abcd\n"
     ]
    }
   ],
   "source": [
    "n = 10/3\n",
    "print(\"%2.2f\" %  n)\n",
    "\n",
    "n = 123\n",
    "print(\"%-4d abcd\" %  n)\n",
    "n = 1\n",
    "print(\"%04d abcd\" %  n)\n",
    "n = 12\n",
    "print(\"%4d abcd\" %  n)"
   ]
  },
  {
   "cell_type": "code",
   "execution_count": null,
   "metadata": {},
   "outputs": [],
   "source": [
    "# exceptions"
   ]
  },
  {
   "cell_type": "code",
   "execution_count": 27,
   "metadata": {},
   "outputs": [
    {
     "name": "stdout",
     "output_type": "stream",
     "text": [
      "1\n",
      "2\n",
      "3\n"
     ]
    },
    {
     "ename": "StopIteration",
     "evalue": "",
     "output_type": "error",
     "traceback": [
      "\u001b[1;31m---------------------------------------------------------------------------\u001b[0m",
      "\u001b[1;31mStopIteration\u001b[0m                             Traceback (most recent call last)",
      "\u001b[1;32m<ipython-input-27-6abb8e79dd3d>\u001b[0m in \u001b[0;36m<module>\u001b[1;34m\u001b[0m\n\u001b[0;32m      7\u001b[0m \u001b[0mprint\u001b[0m\u001b[1;33m(\u001b[0m\u001b[0mnext\u001b[0m\u001b[1;33m(\u001b[0m\u001b[0mit\u001b[0m\u001b[1;33m)\u001b[0m\u001b[1;33m)\u001b[0m\u001b[1;33m\u001b[0m\u001b[1;33m\u001b[0m\u001b[0m\n\u001b[0;32m      8\u001b[0m \u001b[0mprint\u001b[0m\u001b[1;33m(\u001b[0m\u001b[0mnext\u001b[0m\u001b[1;33m(\u001b[0m\u001b[0mit\u001b[0m\u001b[1;33m)\u001b[0m\u001b[1;33m)\u001b[0m\u001b[1;33m\u001b[0m\u001b[1;33m\u001b[0m\u001b[0m\n\u001b[1;32m----> 9\u001b[1;33m \u001b[0mprint\u001b[0m\u001b[1;33m(\u001b[0m\u001b[0mnext\u001b[0m\u001b[1;33m(\u001b[0m\u001b[0mit\u001b[0m\u001b[1;33m)\u001b[0m\u001b[1;33m)\u001b[0m\u001b[1;33m\u001b[0m\u001b[1;33m\u001b[0m\u001b[0m\n\u001b[0m",
      "\u001b[1;31mStopIteration\u001b[0m: "
     ]
    }
   ],
   "source": [
    "# next and iter\n",
    "a =  [1,2,3]\n",
    "\n",
    "it = iter(a)\n",
    "\n",
    "print(next(it))\n",
    "print(next(it))\n",
    "print(next(it))\n",
    "print(next(it))"
   ]
  },
  {
   "cell_type": "code",
   "execution_count": 32,
   "metadata": {},
   "outputs": [
    {
     "name": "stdout",
     "output_type": "stream",
     "text": [
      "1\n",
      "2\n",
      "3\n"
     ]
    }
   ],
   "source": [
    "# next and iter\n",
    "a =  [1,2,3]\n",
    "\n",
    "try:\n",
    "    it = iter(a)\n",
    "    while True:\n",
    "        print(next(it))\n",
    "except StopIteration:\n",
    "    pass"
   ]
  },
  {
   "cell_type": "code",
   "execution_count": 31,
   "metadata": {},
   "outputs": [
    {
     "name": "stdout",
     "output_type": "stream",
     "text": [
      "1\n",
      "2\n",
      "3\n"
     ]
    }
   ],
   "source": [
    "# next and iter\n",
    "a =  [1,2,3]\n",
    "\n",
    "for v in a:\n",
    "    print(v)"
   ]
  },
  {
   "cell_type": "code",
   "execution_count": 37,
   "metadata": {},
   "outputs": [
    {
     "name": "stdout",
     "output_type": "stream",
     "text": [
      "30\n",
      "180\n",
      "\n",
      "exhausted iter\n",
      "0\n",
      "\n",
      "210\n",
      "\n",
      "210\n"
     ]
    }
   ],
   "source": [
    "a =  [10,20,30,40, 50, 60]\n",
    "\n",
    "def consume2(it):\n",
    "    print(next(it) + next(it))\n",
    "    \n",
    "def consume_all(it):\n",
    "    s = 0\n",
    "    for v in it:\n",
    "        s += v\n",
    "    print(s)\n",
    "\n",
    "it = iter(a)\n",
    "consume2(it)\n",
    "consume_all(it)\n",
    "print()\n",
    "print(\"exhausted iter\")\n",
    "consume_all(it)\n",
    "\n",
    "\n",
    "print()\n",
    "consume_all(a)\n",
    "print()\n",
    "consume_all(iter(a))"
   ]
  },
  {
   "cell_type": "code",
   "execution_count": null,
   "metadata": {},
   "outputs": [],
   "source": [
    "# cmd line args\n",
    "\n",
    "import sys\n",
    "print(sys.args)"
   ]
  },
  {
   "cell_type": "code",
   "execution_count": null,
   "metadata": {},
   "outputs": [],
   "source": []
  }
 ],
 "metadata": {
  "kernelspec": {
   "display_name": "Python 3",
   "language": "python",
   "name": "python3"
  },
  "language_info": {
   "codemirror_mode": {
    "name": "ipython",
    "version": 3
   },
   "file_extension": ".py",
   "mimetype": "text/x-python",
   "name": "python",
   "nbconvert_exporter": "python",
   "pygments_lexer": "ipython3",
   "version": "3.7.0"
  }
 },
 "nbformat": 4,
 "nbformat_minor": 2
}
