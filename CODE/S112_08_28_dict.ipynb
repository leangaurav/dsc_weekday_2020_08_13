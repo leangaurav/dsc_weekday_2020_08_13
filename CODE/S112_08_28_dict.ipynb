{
 "cells": [
  {
   "cell_type": "markdown",
   "metadata": {},
   "source": [
    "### Dict\n",
    "- mapping type\n",
    "- key: value\n",
    "- key should be immutable, hashable\n",
    "- optimized for lookeup based on key i.e. get value for a key\n",
    "- no notion of position should be assumed\n",
    "- keys can't be duplicate"
   ]
  },
  {
   "cell_type": "code",
   "execution_count": 2,
   "metadata": {},
   "outputs": [
    {
     "data": {
      "text/plain": [
       "{}"
      ]
     },
     "execution_count": 2,
     "metadata": {},
     "output_type": "execute_result"
    }
   ],
   "source": [
    "[]\n",
    "()\n",
    "{}"
   ]
  },
  {
   "cell_type": "code",
   "execution_count": 3,
   "metadata": {},
   "outputs": [
    {
     "name": "stdout",
     "output_type": "stream",
     "text": [
      "{} <class 'dict'>\n"
     ]
    }
   ],
   "source": [
    "d = {}\n",
    "print(d, type(d))"
   ]
  },
  {
   "cell_type": "code",
   "execution_count": 33,
   "metadata": {},
   "outputs": [
    {
     "name": "stdout",
     "output_type": "stream",
     "text": [
      "{1: 10, 'abcd': 50, 100: [1, 2, 3], 10: 3}\n",
      "10\n",
      "50\n"
     ]
    },
    {
     "ename": "KeyError",
     "evalue": "3",
     "output_type": "error",
     "traceback": [
      "\u001b[1;31m---------------------------------------------------------------------------\u001b[0m",
      "\u001b[1;31mKeyError\u001b[0m                                  Traceback (most recent call last)",
      "\u001b[1;32m<ipython-input-33-08508312425b>\u001b[0m in \u001b[0;36m<module>\u001b[1;34m\u001b[0m\n\u001b[0;32m      4\u001b[0m \u001b[0mprint\u001b[0m\u001b[1;33m(\u001b[0m\u001b[0md\u001b[0m\u001b[1;33m[\u001b[0m\u001b[1;36m1\u001b[0m\u001b[1;33m]\u001b[0m\u001b[1;33m)\u001b[0m\u001b[1;33m\u001b[0m\u001b[1;33m\u001b[0m\u001b[0m\n\u001b[0;32m      5\u001b[0m \u001b[0mprint\u001b[0m\u001b[1;33m(\u001b[0m\u001b[0md\u001b[0m\u001b[1;33m[\u001b[0m\u001b[1;34m\"abcd\"\u001b[0m\u001b[1;33m]\u001b[0m\u001b[1;33m)\u001b[0m\u001b[1;33m\u001b[0m\u001b[1;33m\u001b[0m\u001b[0m\n\u001b[1;32m----> 6\u001b[1;33m \u001b[0mprint\u001b[0m\u001b[1;33m(\u001b[0m\u001b[0md\u001b[0m\u001b[1;33m[\u001b[0m\u001b[1;36m3\u001b[0m\u001b[1;33m]\u001b[0m\u001b[1;33m)\u001b[0m \u001b[1;31m# keyerror\u001b[0m\u001b[1;33m\u001b[0m\u001b[1;33m\u001b[0m\u001b[0m\n\u001b[0m",
      "\u001b[1;31mKeyError\u001b[0m: 3"
     ]
    }
   ],
   "source": [
    "d = { 1:10, \"abcd\": 50 , 100: [1,2,3], 10: 3}\n",
    "print(d)\n",
    "\n",
    "print(d[1])\n",
    "print(d[\"abcd\"])\n",
    "print(d[3]) # keyerror"
   ]
  },
  {
   "cell_type": "code",
   "execution_count": 11,
   "metadata": {},
   "outputs": [
    {
     "name": "stdout",
     "output_type": "stream",
     "text": [
      "{1: 10, 100: 200}\n",
      "{1: 10, 100: 'abcd'}\n",
      "{1: 10, 100: 'abcd', 10: 'abcd'}\n"
     ]
    }
   ],
   "source": [
    "d = {1:10}\n",
    "\n",
    "d[100] = 200 # new key:value create if not  present\n",
    "print(d)\n",
    "\n",
    "d[100] = \"abcd\" # update\n",
    "print(d)\n",
    "\n",
    "d[10] = \"abcd\"\n",
    "print(d)"
   ]
  },
  {
   "cell_type": "code",
   "execution_count": 16,
   "metadata": {},
   "outputs": [
    {
     "name": "stdout",
     "output_type": "stream",
     "text": [
      "20\n",
      "20\n",
      "None\n",
      "0\n",
      "20\n"
     ]
    }
   ],
   "source": [
    "# get function\n",
    "d = {10:20}\n",
    "\n",
    "print(d[10])\n",
    "print(d.get(10))\n",
    "print(d.get(100)) # None if key not present\n",
    "print(d.get(100, 0)) # 0 if key not present\n",
    "print(d.get(10, 0))"
   ]
  },
  {
   "cell_type": "code",
   "execution_count": null,
   "metadata": {},
   "outputs": [],
   "source": []
  },
  {
   "cell_type": "code",
   "execution_count": 32,
   "metadata": {},
   "outputs": [
    {
     "name": "stdout",
     "output_type": "stream",
     "text": [
      "Enter string:abab1122\n",
      "{'a': 2, 'b': 2, '1': 2, '2': 2}\n",
      "{'a': 2, 'b': 2, '1': 2, '2': 2}\n",
      "\n",
      "a : 2\n",
      "b : 2\n",
      "1 : 2\n",
      "2 : 2\n",
      "dict_keys(['a', 'b', '1', '2'])\n",
      "dict_values([2, 2, 2, 2])\n",
      "dict_items([('a', 2), ('b', 2), ('1', 2), ('2', 2)])\n",
      "\n",
      "('a', 2)\n",
      "('b', 2)\n",
      "('1', 2)\n",
      "('2', 2)\n",
      "\n",
      "a 2\n",
      "b 2\n",
      "1 2\n",
      "2 2\n"
     ]
    }
   ],
   "source": [
    "# WAP to input a string and count frequency of each symbol in the string\n",
    "s = input(\"Enter string:\")\n",
    "# abcabdab12\n",
    "# a : 3\n",
    "# b : 3\n",
    "# c : 1\n",
    "# d : 1\n",
    "# 1 : 1\n",
    "# 2 : 1\n",
    "\n",
    "#values = []\n",
    "#counts = []\n",
    "#\n",
    "#for c in s:\n",
    "#    if c in values:\n",
    "#        pos = values.index(c)\n",
    "#    else:\n",
    "#        pos = len(values)\n",
    "#        values.append(c)\n",
    "#    print(pos)\n",
    "#\n",
    "#print(values)\n",
    "\n",
    "d = {}\n",
    "for c in s:\n",
    "    if c in d:\n",
    "        d[c] = d[c] + 1\n",
    "    else:\n",
    "        d[c] = 1\n",
    "\n",
    "print(d)\n",
    "\n",
    "d = {}\n",
    "for c in s:\n",
    "    d[c] = d.get(c,0) + 1\n",
    "print(d)\n",
    "# s = abcabad\n",
    "# c :    a        b             c                       a                       b                       a                     d\n",
    "# d : {} {'a':1} {'a':1, 'b':1} {'a':1, 'b':1,, 'c':1}  {'a':2, 'b':1,, 'c':1}  {'a':2, 'b':2,, 'c':1} {'a':3, 'b':2,, 'c':1} ..\n",
    "\n",
    "print()\n",
    "for k in d:\n",
    "    print(k, \":\", d[k])\n",
    "    \n",
    "# get only keys\n",
    "print(d.keys())\n",
    "# get only values\n",
    "print(d.values())\n",
    "# get key:value as a list of tuples\n",
    "print(d.items())\n",
    "\n",
    "\n",
    "print()\n",
    "for i in d.items():\n",
    "    print(i)\n",
    "    \n",
    "\n",
    "print()\n",
    "for k,v in d.items():\n",
    "    print(k,v)"
   ]
  },
  {
   "cell_type": "code",
   "execution_count": 34,
   "metadata": {},
   "outputs": [
    {
     "name": "stdout",
     "output_type": "stream",
     "text": [
      "{}\n"
     ]
    }
   ],
   "source": [
    "d = dict()\n",
    "print(d)"
   ]
  },
  {
   "cell_type": "code",
   "execution_count": 38,
   "metadata": {},
   "outputs": [
    {
     "name": "stdout",
     "output_type": "stream",
     "text": [
      "{1: 2, 'a': 10}\n",
      "\n",
      "{1: 2, 'a': 10}\n",
      "\n"
     ]
    },
    {
     "ename": "ValueError",
     "evalue": "dictionary update sequence element #0 has length 3; 2 is required",
     "output_type": "error",
     "traceback": [
      "\u001b[1;31m---------------------------------------------------------------------------\u001b[0m",
      "\u001b[1;31mValueError\u001b[0m                                Traceback (most recent call last)",
      "\u001b[1;32m<ipython-input-38-75d405268ee3>\u001b[0m in \u001b[0;36m<module>\u001b[1;34m\u001b[0m\n\u001b[0;32m      7\u001b[0m \u001b[1;33m\u001b[0m\u001b[0m\n\u001b[0;32m      8\u001b[0m \u001b[0mprint\u001b[0m\u001b[1;33m(\u001b[0m\u001b[1;33m)\u001b[0m\u001b[1;33m\u001b[0m\u001b[1;33m\u001b[0m\u001b[0m\n\u001b[1;32m----> 9\u001b[1;33m \u001b[0md\u001b[0m \u001b[1;33m=\u001b[0m \u001b[0mdict\u001b[0m\u001b[1;33m(\u001b[0m \u001b[1;33m[\u001b[0m \u001b[1;33m(\u001b[0m\u001b[1;36m1\u001b[0m\u001b[1;33m,\u001b[0m\u001b[1;36m2\u001b[0m\u001b[1;33m,\u001b[0m \u001b[1;36m3\u001b[0m\u001b[1;33m)\u001b[0m\u001b[1;33m,\u001b[0m \u001b[1;33m(\u001b[0m\u001b[1;34m\"a\"\u001b[0m\u001b[1;33m,\u001b[0m \u001b[1;36m10\u001b[0m\u001b[1;33m)\u001b[0m  \u001b[1;33m]\u001b[0m\u001b[1;33m)\u001b[0m\u001b[1;33m\u001b[0m\u001b[1;33m\u001b[0m\u001b[0m\n\u001b[0m\u001b[0;32m     10\u001b[0m \u001b[0mprint\u001b[0m\u001b[1;33m(\u001b[0m\u001b[0md\u001b[0m\u001b[1;33m)\u001b[0m\u001b[1;33m\u001b[0m\u001b[1;33m\u001b[0m\u001b[0m\n",
      "\u001b[1;31mValueError\u001b[0m: dictionary update sequence element #0 has length 3; 2 is required"
     ]
    }
   ],
   "source": [
    "d = dict( [ (1,2), (\"a\", 10)  ])\n",
    "print(d)\n",
    "\n",
    "print()\n",
    "d = dict(  ([1,2], [\"a\", 10])  )\n",
    "print(d)\n",
    "\n",
    "print()\n",
    "d = dict( [ (1,2, 3), (\"a\", 10)  ])\n",
    "print(d)"
   ]
  }
 ],
 "metadata": {
  "kernelspec": {
   "display_name": "Python 3",
   "language": "python",
   "name": "python3"
  },
  "language_info": {
   "codemirror_mode": {
    "name": "ipython",
    "version": 3
   },
   "file_extension": ".py",
   "mimetype": "text/x-python",
   "name": "python",
   "nbconvert_exporter": "python",
   "pygments_lexer": "ipython3",
   "version": "3.7.4"
  }
 },
 "nbformat": 4,
 "nbformat_minor": 2
}
