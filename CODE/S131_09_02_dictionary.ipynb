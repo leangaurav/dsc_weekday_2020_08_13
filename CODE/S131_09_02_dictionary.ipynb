{
 "cells": [
  {
   "cell_type": "code",
   "execution_count": 1,
   "metadata": {},
   "outputs": [
    {
     "name": "stdout",
     "output_type": "stream",
     "text": [
      "False\n",
      "True\n",
      "False\n"
     ]
    },
    {
     "data": {
      "text/plain": [
       "0"
      ]
     },
     "execution_count": 1,
     "metadata": {},
     "output_type": "execute_result"
    }
   ],
   "source": [
    "a=[1,2,3]\n",
    "#print(sum(a))\n",
    "\n",
    "def odd(a):\n",
    "    sum=0\n",
    "    l=len(a)\n",
    "    for i in range (l):\n",
    "        o=(a[i]%2)==0\n",
    "        print(o)\n",
    "        continue\n",
    "        print(a[i])\n",
    "        sum=sum+a[i]\n",
    "    return sum\n",
    "\n",
    "odd([45,68,87])\n"
   ]
  },
  {
   "cell_type": "code",
   "execution_count": 3,
   "metadata": {},
   "outputs": [
    {
     "name": "stdout",
     "output_type": "stream",
     "text": [
      "4\n",
      "1 2 3 4 \n",
      "\n",
      "4 5 6 7 \n",
      "\n",
      "7 8 9 10 \n",
      "\n",
      "10 11 12 13 \n",
      "\n"
     ]
    }
   ],
   "source": [
    "n=int(input())\n",
    "g=n+1\n",
    "h=1\n",
    "for i in range(n):\n",
    "    for j in range(h,g):\n",
    "        print(j, end=' ')\n",
    "    print('\\n')\n",
    "    h=h+3\n",
    "    g=g+3\n"
   ]
  },
  {
   "cell_type": "code",
   "execution_count": null,
   "metadata": {},
   "outputs": [],
   "source": [
    "a=[[1,2,3],[4,5,6],[7,8,9]]\n"
   ]
  },
  {
   "cell_type": "code",
   "execution_count": 4,
   "metadata": {},
   "outputs": [
    {
     "ename": "SyntaxError",
     "evalue": "unexpected EOF while parsing (<ipython-input-4-e7bdde39475e>, line 20)",
     "output_type": "error",
     "traceback": [
      "\u001b[1;36m  File \u001b[1;32m\"<ipython-input-4-e7bdde39475e>\"\u001b[1;36m, line \u001b[1;32m20\u001b[0m\n\u001b[1;33m    while start < end:\u001b[0m\n\u001b[1;37m                      ^\u001b[0m\n\u001b[1;31mSyntaxError\u001b[0m\u001b[1;31m:\u001b[0m unexpected EOF while parsing\n"
     ]
    }
   ],
   "source": [
    "# WAF that takes string arg, and returns pallindrome or not.\n",
    "# do with a loop, without reversing\n",
    "# abcba\n",
    "# abccba\n",
    "# abcab\n",
    "s=input(\"Enter a string: \")\n",
    "def is_Palindrom(x):\n",
    "    l=len(x)\n",
    "    for i in range(l//2):\n",
    "        if x[i] != x[(l-1)-i]:\n",
    "            return False\n",
    "    return True\n",
    "print(is_Palindrom(s.lower()))\n",
    "\n",
    "\n",
    "def is_pallindrome(s):\n",
    "    start = 0\n",
    "    end = len(s) - 1\n",
    "    while start < end:\n",
    "        if s[start] != s[end]:\n",
    "            return False\n",
    "        start += 1\n",
    "        end -= 1\n",
    "        \n",
    "    return True"
   ]
  },
  {
   "cell_type": "code",
   "execution_count": 5,
   "metadata": {},
   "outputs": [
    {
     "ename": "SyntaxError",
     "evalue": "invalid syntax (<ipython-input-5-ecc2a5276fe7>, line 1)",
     "output_type": "error",
     "traceback": [
      "\u001b[1;36m  File \u001b[1;32m\"<ipython-input-5-ecc2a5276fe7>\"\u001b[1;36m, line \u001b[1;32m1\u001b[0m\n\u001b[1;33m    0 1 1 2 3 5 8...\u001b[0m\n\u001b[1;37m      ^\u001b[0m\n\u001b[1;31mSyntaxError\u001b[0m\u001b[1;31m:\u001b[0m invalid syntax\n"
     ]
    }
   ],
   "source": [
    "0 1 1 2 3 5 8...\n",
    "\n",
    "First 2\n",
    "0 1\n",
    "0 1 1\n",
    "0 1 1 2\n",
    "0 1 1 2 3\n",
    "0 1 1 2 3 5\n",
    "0 1 1 2 3 5 8.....\n",
    "\n"
   ]
  },
  {
   "cell_type": "code",
   "execution_count": null,
   "metadata": {},
   "outputs": [],
   "source": [
    "s= str(input(\"Enter a string \"))\n",
    "\n",
    "a=s[:len(s)//2]\n",
    "print (a)\n",
    "b=s[(len(s)+1)//2:]\n",
    "print(b)\n",
    "if  (a==b[::-1]):\n",
    "    print('yes')\n",
    "    \n",
    "else: \n",
    "    print ('none')"
   ]
  },
  {
   "cell_type": "code",
   "execution_count": null,
   "metadata": {},
   "outputs": [],
   "source": [
    "A\n",
    "BC\n",
    "DEF\n",
    "GHIJ\n",
    "\n",
    "start = 65\n",
    "for i in range(4):\n",
    "    for j in range(i+1):\n",
    "        print(chr(start), end='')\n",
    "        start += 1\n",
    "    print()"
   ]
  },
  {
   "cell_type": "code",
   "execution_count": 16,
   "metadata": {},
   "outputs": [
    {
     "name": "stdout",
     "output_type": "stream",
     "text": [
      "    A\n",
      "   ABA\n",
      "  ABCBA\n",
      " ABCDCBA\n"
     ]
    }
   ],
   "source": [
    "for i in range(4):\n",
    "    start = 65\n",
    "    for j in range(4-i):\n",
    "        print(' ', end='')\n",
    "\n",
    "    for j in range(i+1):\n",
    "        print(chr(start), end='')\n",
    "        start += 1\n",
    "\n",
    "    start -= 1\n",
    "    for j in range(i):\n",
    "        start -= 1\n",
    "        print(chr(start), end='')\n",
    "    print()"
   ]
  },
  {
   "cell_type": "code",
   "execution_count": null,
   "metadata": {},
   "outputs": [],
   "source": [
    "    A\n",
    "   ABA\n",
    "  ABCBA\n",
    " ABCDCBA\n",
    "ABCDEDCBA"
   ]
  },
  {
   "cell_type": "code",
   "execution_count": null,
   "metadata": {},
   "outputs": [],
   "source": [
    "for i in range(1,n):\n",
    "    norstr=\"\"\n",
    "    print(\" \"*(n-1-i),end=\"\")\n",
    "    for j in range(64,64+i):\n",
    "        norstr=chr(j+1)+norstr\n",
    "        print(chr(j+1),end=\"\")\n",
    "    print(norstr[1:])\n",
    "\n",
    "print()"
   ]
  },
  {
   "cell_type": "code",
   "execution_count": 20,
   "metadata": {},
   "outputs": [
    {
     "name": "stdout",
     "output_type": "stream",
     "text": [
      "10\n",
      "10\n"
     ]
    }
   ],
   "source": [
    "s = \"1234\"\n",
    "\n",
    "r = 0\n",
    "for c in s:\n",
    "    r  += int(c)\n",
    "    \n",
    "print(sum(map(int, s)))\n",
    "print(r)"
   ]
  },
  {
   "cell_type": "code",
   "execution_count": null,
   "metadata": {},
   "outputs": [],
   "source": [
    "num = 1234\n",
    "\n",
    "s = 0\n",
    "while num:\n",
    "    s += num % 10\n",
    "    num =  num // 10\n",
    "\n",
    "print(s)"
   ]
  },
  {
   "cell_type": "code",
   "execution_count": null,
   "metadata": {},
   "outputs": [],
   "source": [
    "def my_pow(b, e):\n",
    "    r = 1\n",
    "    for i in range(e):\n",
    "        r *= b\n",
    "    return r\n",
    "\n",
    "#2^4 = 2*2*2*2"
   ]
  },
  {
   "cell_type": "markdown",
   "metadata": {},
   "source": [
    "### map"
   ]
  },
  {
   "cell_type": "code",
   "execution_count": 8,
   "metadata": {},
   "outputs": [
    {
     "name": "stdout",
     "output_type": "stream",
     "text": [
      "Input some words:this is\n",
      "['this', 'is']\n",
      "[4, 2]\n",
      "[4, 2]\n",
      "\n",
      "['__class__', '__delattr__', '__dir__', '__doc__', '__eq__', '__format__', '__ge__', '__getattribute__', '__gt__', '__hash__', '__init__', '__init_subclass__', '__iter__', '__le__', '__lt__', '__ne__', '__new__', '__next__', '__reduce__', '__reduce_ex__', '__repr__', '__setattr__', '__sizeof__', '__str__', '__subclasshook__']\n",
      "After Map\n",
      "data this\n",
      "data is\n",
      "[4, 2]\n",
      "\n",
      "[]\n"
     ]
    }
   ],
   "source": [
    "# input a sentence, break into words, find total  length of words\n",
    "s = input(\"Input some words:\")\n",
    "words  = s.split()\n",
    "\n",
    "\n",
    "print(words)\n",
    "a = []\n",
    "for word in words:\n",
    "    a.append(len(word))\n",
    "print(a)\n",
    "\n",
    "# using map\n",
    "r = map(len, words)\n",
    "print(list(r))\n",
    "\n",
    "def my_len(d):\n",
    "    print(\"data\", d)\n",
    "    return len(d)\n",
    "\n",
    "# using map\n",
    "print()\n",
    "r = map(my_len, words)\n",
    "print(dir(r))\n",
    "print(\"After Map\")\n",
    "print(list(r))\n",
    "\n",
    "print()\n",
    "print(list(r))"
   ]
  },
  {
   "cell_type": "code",
   "execution_count": 10,
   "metadata": {},
   "outputs": [
    {
     "name": "stdout",
     "output_type": "stream",
     "text": [
      "[0, 0, 1, 1, 4, 4, 9, 9, 16, 16]\n"
     ]
    }
   ],
   "source": [
    "def my_map(functs, seq):\n",
    "    for f in functs:\n",
    "        seq = map(f, seq)\n",
    "    return list(seq)\n",
    "\n",
    "nums = list(range(10))\n",
    "\n",
    "print(my_map( [lambda x: x//2, lambda x: x**2] , nums))"
   ]
  },
  {
   "cell_type": "code",
   "execution_count": 11,
   "metadata": {},
   "outputs": [
    {
     "ename": "SyntaxError",
     "evalue": "invalid syntax (<ipython-input-11-6a34c76b0340>, line 2)",
     "output_type": "error",
     "traceback": [
      "\u001b[1;36m  File \u001b[1;32m\"<ipython-input-11-6a34c76b0340>\"\u001b[1;36m, line \u001b[1;32m2\u001b[0m\n\u001b[1;33m    a = [10,20,30,40,15,55...................]\u001b[0m\n\u001b[1;37m                             ^\u001b[0m\n\u001b[1;31mSyntaxError\u001b[0m\u001b[1;31m:\u001b[0m invalid syntax\n"
     ]
    }
   ],
   "source": [
    "# list vs dictionary\n",
    "a = [10,20,30,40,15,55...................]\n",
    "#    0   1  2  3  4  5\n",
    "\n",
    "a[4]\n",
    "\n",
    "# searching\n",
    "-  linear search: no order: O(n) => \n",
    "-  binary search: sorted  : O(logn) => \n",
    "\n",
    "- Dict O(1)\n",
    "A hash function converts the keys to a index.\n",
    "Values are stored at indexes in an array\n",
    "\n",
    "[.... (\"a\",10)....]\n",
    " 0....   7      100\n",
    "{\"a\": 10, \"b\": 10}\n",
    "\n",
    "ord(\"a\")%10\n"
   ]
  },
  {
   "cell_type": "markdown",
   "metadata": {},
   "source": [
    "### dict\n",
    "- Search key : O(1)\n",
    "- key cannot be duplicate\n",
    "- values can be\n",
    "- mapping type\n",
    "- keys need to be immutable\n",
    "- dict itself is mutable"
   ]
  },
  {
   "cell_type": "code",
   "execution_count": 26,
   "metadata": {},
   "outputs": [
    {
     "name": "stdout",
     "output_type": "stream",
     "text": [
      "{1: 10, 'a': 100, 4: False, 5: None}\n",
      "{1: -10, 'a': 100, 4: False, 5: None}\n",
      "{1: -10, 'a': 100, 4: False, 5: None, -2: 'two'}\n",
      "\n",
      "100\n",
      "two\n",
      "\n",
      "True\n",
      "False\n",
      "\n",
      "True\n",
      "False\n",
      "\n",
      "two\n",
      "None\n",
      "10000000\n",
      "two\n"
     ]
    }
   ],
   "source": [
    "d = {1:10, \"a\":100, 4: False, 5: None}\n",
    "print(d)\n",
    "d[1] = -10 # update is already present\n",
    "print(d)\n",
    "d[-2] = \"two\" # key is created as -2 is  not already present\n",
    "print(d)\n",
    "\n",
    "# fetching data by key\n",
    "print()\n",
    "print(d[\"a\"])\n",
    "print(d[-2])\n",
    "if -3 in d:\n",
    "    print(d[-3])\n",
    "\n",
    "print()\n",
    "print(1 in d)\n",
    "print(100 in d)\n",
    "\n",
    "print()\n",
    "print(1 in d)\n",
    "print(100 in d)\n",
    "\n",
    "# read data via get\n",
    "print()\n",
    "print(d.get(-2))\n",
    "print(d.get(200)) # get returns None if key is not present\n",
    "print(d.get(200, 10000000)) # get returns 1000000 if key is not present\n",
    "print(d.get(-2, 10000000)) # get returns 1000000 if key is not present"
   ]
  },
  {
   "cell_type": "code",
   "execution_count": 29,
   "metadata": {},
   "outputs": [
    {
     "name": "stdout",
     "output_type": "stream",
     "text": [
      "{}\n",
      "{}\n"
     ]
    }
   ],
   "source": [
    "d = dict()\n",
    "print(d)\n",
    "\n",
    "d = {}\n",
    "print(d)"
   ]
  },
  {
   "cell_type": "code",
   "execution_count": 27,
   "metadata": {},
   "outputs": [
    {
     "name": "stdout",
     "output_type": "stream",
     "text": [
      "['__class__', '__contains__', '__delattr__', '__delitem__', '__dir__', '__doc__', '__eq__', '__format__', '__ge__', '__getattribute__', '__getitem__', '__gt__', '__hash__', '__init__', '__init_subclass__', '__iter__', '__le__', '__len__', '__lt__', '__ne__', '__new__', '__reduce__', '__reduce_ex__', '__repr__', '__setattr__', '__setitem__', '__sizeof__', '__str__', '__subclasshook__', 'clear', 'copy', 'fromkeys', 'get', 'items', 'keys', 'pop', 'popitem', 'setdefault', 'update', 'values']\n"
     ]
    }
   ],
   "source": [
    "print(dir(dict))"
   ]
  },
  {
   "cell_type": "code",
   "execution_count": 32,
   "metadata": {},
   "outputs": [
    {
     "name": "stdout",
     "output_type": "stream",
     "text": [
      "dict_keys([1, 3])\n",
      "dict_values([2, 4])\n",
      "dict_items([(1, 2), (3, 4)])\n",
      "\n",
      "1\n",
      "3\n"
     ]
    }
   ],
   "source": [
    "d = {1:2, 3:4}\n",
    "print(d.keys())\n",
    "print(d.values())\n",
    "print(d.items())\n",
    "\n",
    "print()\n",
    "for k in d.keys():\n",
    "    print(k)"
   ]
  },
  {
   "cell_type": "code",
   "execution_count": null,
   "metadata": {},
   "outputs": [],
   "source": [
    "# build calculator\n",
    "\"\"\" What operation(+,-,*,?) :\"\"\""
   ]
  },
  {
   "cell_type": "code",
   "execution_count": null,
   "metadata": {},
   "outputs": [],
   "source": [
    "def add(a,b):\n",
    "    return a+b\n",
    "\n",
    "def sub(a,b):\n",
    "    return a-b\n",
    "\n",
    "def mul(a,b):\n",
    "    return a*b\n",
    "\n",
    "def div(a,b):\n",
    "    return a/b\n",
    "\n",
    "cal = {1: add, 2: sub, 3: mul, 4: div}\n",
    "\n",
    "op=int(input(\"Enter the operation 1 to 4\"))\n",
    "while op not in cal.keys():\n",
    "    print(\"Enter proper operation code\")\n",
    "    op=int(input(\"Enter the operation 1 to 4\"))\n",
    "    \n",
    "val1=int(input(\"Enter first value: \"))\n",
    "val2=int(input(\"Enter second value: \"))\n",
    "\n",
    "print(\"Result is\" ,cal.get(op)(val1,val2))\n",
    "\n",
    "\n",
    "while True:\n",
    "    try:\n",
    "        num1=int(input(\"enter a number\"))\n",
    "        num2=int(input(\"enter another number\"))\n",
    "        opr=input(\"enter operator\")\n",
    "        if opr == \"+\":\n",
    "            print(num1+num2)\n",
    "        elif opr == \"-\":\n",
    "            print(num1-num2)\n",
    "        elif opr == \"*\":\n",
    "            print(num1+num2)b\n",
    "        else:\n",
    "            print(\"operator not defined\")\n",
    "    except Exception:\n",
    "        print('Wrong Input')"
   ]
  },
  {
   "cell_type": "code",
   "execution_count": 37,
   "metadata": {},
   "outputs": [
    {
     "name": "stdout",
     "output_type": "stream",
     "text": [
      "Enter operator (+,-,/,*): *\n",
      "Enter num1 : 1\n",
      "Enter num2 : 2\n",
      "2\n"
     ]
    }
   ],
   "source": [
    "\n",
    "op = input('Enter operator (+,-,/,*): ')\n",
    "\n",
    "dic = {'+':lambda x,y:x+y,'-':lambda x,y:x-y, '*':lambda x,y:x*y, '/':lambda x,y:x/y}\n",
    "if op in dic:\n",
    "    in1 = int(input('Enter num1 : '))\n",
    "    in2 = int(input('Enter num2 : '))\n",
    "    print(dic[op](in1,in2))\n",
    "    #f = dic[op]\n",
    "    #print(f(in1,in2))\n",
    "else:\n",
    "    print('Invalid operator')"
   ]
  },
  {
   "cell_type": "code",
   "execution_count": 40,
   "metadata": {},
   "outputs": [
    {
     "name": "stdout",
     "output_type": "stream",
     "text": [
      "Type calculation:\n",
      "10*20/3*4\n"
     ]
    },
    {
     "ename": "TypeError",
     "evalue": "can only concatenate str (not \"float\") to str",
     "output_type": "error",
     "traceback": [
      "\u001b[1;31m---------------------------------------------------------------------------\u001b[0m",
      "\u001b[1;31mTypeError\u001b[0m                                 Traceback (most recent call last)",
      "\u001b[1;32m<ipython-input-40-c02f2827a1b6>\u001b[0m in \u001b[0;36m<module>\u001b[1;34m\u001b[0m\n\u001b[0;32m     15\u001b[0m \u001b[1;33m\u001b[0m\u001b[0m\n\u001b[0;32m     16\u001b[0m \u001b[0mcalc\u001b[0m \u001b[1;33m=\u001b[0m \u001b[0minput\u001b[0m\u001b[1;33m(\u001b[0m\u001b[1;34m\"Type calculation:\\n\"\u001b[0m\u001b[1;33m)\u001b[0m\u001b[1;33m\u001b[0m\u001b[1;33m\u001b[0m\u001b[0m\n\u001b[1;32m---> 17\u001b[1;33m \u001b[0mprint\u001b[0m\u001b[1;33m(\u001b[0m\u001b[1;34m\"Answer: \"\u001b[0m \u001b[1;33m+\u001b[0m \u001b[0mcalculate\u001b[0m\u001b[1;33m(\u001b[0m\u001b[0mcalc\u001b[0m\u001b[1;33m)\u001b[0m\u001b[1;33m)\u001b[0m\u001b[1;33m\u001b[0m\u001b[1;33m\u001b[0m\u001b[0m\n\u001b[0m",
      "\u001b[1;31mTypeError\u001b[0m: can only concatenate str (not \"float\") to str"
     ]
    }
   ],
   "source": [
    "\n",
    "operators = {\n",
    "  '+': lambda x,y :x+y,\n",
    "  '-': lambda x,y :x-y,\n",
    "  '*': lambda x,y :x*y,\n",
    "  '/': lambda x,y :x/y,\n",
    "}\n",
    "\n",
    "def calculate(expr):\n",
    "    if expr.isdigit():\n",
    "        return float(expr)\n",
    "    for c in operators.keys():\n",
    "        left, operator, right = expr.partition(c)\n",
    "        if operator in operators:\n",
    "            return operators[operator](calculate(left), calculate(right))\n",
    "\n",
    "calc = input(\"Type calculation:\\n\")\n",
    "print(\"Answer: \", calculate(calc))\n"
   ]
  },
  {
   "cell_type": "code",
   "execution_count": 45,
   "metadata": {},
   "outputs": [
    {
     "name": "stdout",
     "output_type": "stream",
     "text": [
      "10\n",
      "{2: 20}\n",
      "\n",
      "-1\n",
      "{2: 20}\n"
     ]
    },
    {
     "ename": "KeyError",
     "evalue": "1",
     "output_type": "error",
     "traceback": [
      "\u001b[1;31m---------------------------------------------------------------------------\u001b[0m",
      "\u001b[1;31mKeyError\u001b[0m                                  Traceback (most recent call last)",
      "\u001b[1;32m<ipython-input-45-59946b120b1b>\u001b[0m in \u001b[0;36m<module>\u001b[1;34m\u001b[0m\n\u001b[0;32m      9\u001b[0m \u001b[0mprint\u001b[0m\u001b[1;33m(\u001b[0m\u001b[0md\u001b[0m\u001b[1;33m)\u001b[0m\u001b[1;33m\u001b[0m\u001b[1;33m\u001b[0m\u001b[0m\n\u001b[0;32m     10\u001b[0m \u001b[1;33m\u001b[0m\u001b[0m\n\u001b[1;32m---> 11\u001b[1;33m \u001b[0mr\u001b[0m \u001b[1;33m=\u001b[0m \u001b[0md\u001b[0m\u001b[1;33m.\u001b[0m\u001b[0mpop\u001b[0m\u001b[1;33m(\u001b[0m\u001b[1;36m1\u001b[0m\u001b[1;33m)\u001b[0m\u001b[1;33m\u001b[0m\u001b[1;33m\u001b[0m\u001b[0m\n\u001b[0m\u001b[0;32m     12\u001b[0m \u001b[0mprint\u001b[0m\u001b[1;33m(\u001b[0m\u001b[0mr\u001b[0m\u001b[1;33m)\u001b[0m\u001b[1;33m\u001b[0m\u001b[1;33m\u001b[0m\u001b[0m\n\u001b[0;32m     13\u001b[0m \u001b[0mprint\u001b[0m\u001b[1;33m(\u001b[0m\u001b[0md\u001b[0m\u001b[1;33m)\u001b[0m\u001b[1;33m\u001b[0m\u001b[1;33m\u001b[0m\u001b[0m\n",
      "\u001b[1;31mKeyError\u001b[0m: 1"
     ]
    }
   ],
   "source": [
    "d = {1:10, 2:20}\n",
    "r = d.pop(1)\n",
    "print(r)\n",
    "print(d)\n",
    "\n",
    "print()\n",
    "r = d.pop(1,-1)\n",
    "print(r)\n",
    "print(d)\n",
    "\n",
    "r = d.pop(1)\n",
    "print(r)\n",
    "print(d)"
   ]
  },
  {
   "cell_type": "code",
   "execution_count": 47,
   "metadata": {},
   "outputs": [
    {
     "name": "stdout",
     "output_type": "stream",
     "text": [
      "(2, 20)\n",
      "{1: 10}\n",
      "(1, 10)\n",
      "{}\n"
     ]
    },
    {
     "ename": "KeyError",
     "evalue": "'popitem(): dictionary is empty'",
     "output_type": "error",
     "traceback": [
      "\u001b[1;31m---------------------------------------------------------------------------\u001b[0m",
      "\u001b[1;31mKeyError\u001b[0m                                  Traceback (most recent call last)",
      "\u001b[1;32m<ipython-input-47-4a488c2a1cbf>\u001b[0m in \u001b[0;36m<module>\u001b[1;34m\u001b[0m\n\u001b[0;32m      7\u001b[0m \u001b[0mprint\u001b[0m\u001b[1;33m(\u001b[0m\u001b[0md\u001b[0m\u001b[1;33m)\u001b[0m\u001b[1;33m\u001b[0m\u001b[1;33m\u001b[0m\u001b[0m\n\u001b[0;32m      8\u001b[0m \u001b[1;33m\u001b[0m\u001b[0m\n\u001b[1;32m----> 9\u001b[1;33m \u001b[0mprint\u001b[0m\u001b[1;33m(\u001b[0m\u001b[0md\u001b[0m\u001b[1;33m.\u001b[0m\u001b[0mpopitem\u001b[0m\u001b[1;33m(\u001b[0m\u001b[1;33m)\u001b[0m\u001b[1;33m)\u001b[0m\u001b[1;33m\u001b[0m\u001b[1;33m\u001b[0m\u001b[0m\n\u001b[0m\u001b[0;32m     10\u001b[0m \u001b[0mprint\u001b[0m\u001b[1;33m(\u001b[0m\u001b[0md\u001b[0m\u001b[1;33m)\u001b[0m\u001b[1;33m\u001b[0m\u001b[1;33m\u001b[0m\u001b[0m\n",
      "\u001b[1;31mKeyError\u001b[0m: 'popitem(): dictionary is empty'"
     ]
    }
   ],
   "source": [
    "d = {1:10, 2:20}\n",
    "\n",
    "print(d.popitem())\n",
    "print(d)\n",
    "\n",
    "print(d.popitem())\n",
    "print(d)\n",
    "\n",
    "print(d.popitem())\n",
    "print(d)"
   ]
  },
  {
   "cell_type": "code",
   "execution_count": 51,
   "metadata": {},
   "outputs": [
    {
     "name": "stdout",
     "output_type": "stream",
     "text": [
      "{1: 10, 2: 20}\n",
      "{1: 10, 2: 30}\n"
     ]
    }
   ],
   "source": [
    "a =[(1,10), (2,20)]\n",
    "\n",
    "d = dict(a)\n",
    "print(d)\n",
    "\n",
    "d = {1:2, 1:10, 2:30}\n",
    "print(d)"
   ]
  },
  {
   "cell_type": "code",
   "execution_count": null,
   "metadata": {},
   "outputs": [],
   "source": [
    "# abcab\n",
    "# a:2\n",
    "# b:2\n",
    "# c:1"
   ]
  },
  {
   "cell_type": "code",
   "execution_count": 54,
   "metadata": {},
   "outputs": [
    {
     "name": "stdout",
     "output_type": "stream",
     "text": [
      "{'b': 2, 'a': [1, 22, 33]}\n",
      "True\n",
      "[1, 22, 33]\n"
     ]
    }
   ],
   "source": [
    "s = \"\"\"{\"b\":2, \"a\":[1,22,33]}\"\"\"\n",
    "\n",
    "import json\n",
    "d = json.loads(s)\n",
    "print(d)\n",
    "print('b' in d)\n",
    "print(d['a'])"
   ]
  },
  {
   "cell_type": "code",
   "execution_count": 56,
   "metadata": {},
   "outputs": [
    {
     "name": "stdout",
     "output_type": "stream",
     "text": [
      "{\"a\": 10, \"ba\": true} <class 'str'>\n"
     ]
    }
   ],
   "source": [
    "d = {\"a\":10, \"ba\":True}\n",
    "\n",
    "import json\n",
    "\n",
    "s = json.dumps(d)\n",
    "print(s, type(s))b\n"
   ]
  },
  {
   "cell_type": "code",
   "execution_count": null,
   "metadata": {},
   "outputs": [],
   "source": [
    " # WAP to input a string and count frequency of each symbol in the string without using dictionary \n",
    "#s = input(\"Enter string:\")\n",
    "s ='abcabdab12'\n",
    "s1=[]\n",
    "# finds out unique characters\n",
    "for c in s:\n",
    "    if c not in s1:\n",
    "        s1.append(c)\n",
    "print(s, type(s))\n",
    "print(s1, type(s1))\n",
    "\n",
    "# find freq of each unique character\n",
    "for i in s1:\n",
    "    print(i, s.count(i))\n"
   ]
  },
  {
   "cell_type": "code",
   "execution_count": 58,
   "metadata": {},
   "outputs": [
    {
     "name": "stdout",
     "output_type": "stream",
     "text": [
      "1599021526.346722\n",
      "1.014878511428833\n"
     ]
    }
   ],
   "source": [
    "import time\n",
    "\n",
    "t1 = time.time()\n",
    "print(t1)\n",
    "\n",
    "time.sleep(1)\n",
    "\n",
    "t2 = time.time()\n",
    "print(t2 - t1)"
   ]
  },
  {
   "cell_type": "code",
   "execution_count": null,
   "metadata": {},
   "outputs": [],
   "source": [
    "\n",
    "# WAP to count freq of all characters in a string\n",
    "#  1. sol-1 dict\n",
    "#  2. sol-2 without dict\n",
    "\n",
    "# run both sol for a string with length\n",
    "1.    1000\n",
    "2.    10000\n",
    "3.    100000\n",
    "And see timings of both solution (for timing you can use timeit module)\n",
    "\n",
    " # WAP to input a string and count frequency of each symbol in the string without using dictionary \n",
    "#s = input(\"Enter string:\")\n",
    "s ='abcabdab12'\n",
    "s1=[]\n",
    "# finds out unique characters\n",
    "for c in s:\n",
    "    if c not in s1:\n",
    "        s1.append(c)\n",
    "print(s, type(s))\n",
    "print(s1, type(s1))\n",
    "\n",
    "# find freq of each unique character\n",
    "for i in s1:\n",
    "    print(i, s.count(i))"
   ]
  }
 ],
 "metadata": {
  "kernelspec": {
   "display_name": "Python 3",
   "language": "python",
   "name": "python3"
  },
  "language_info": {
   "codemirror_mode": {
    "name": "ipython",
    "version": 3
   },
   "file_extension": ".py",
   "mimetype": "text/x-python",
   "name": "python",
   "nbconvert_exporter": "python",
   "pygments_lexer": "ipython3",
   "version": "3.7.4"
  }
 },
 "nbformat": 4,
 "nbformat_minor": 2
}
