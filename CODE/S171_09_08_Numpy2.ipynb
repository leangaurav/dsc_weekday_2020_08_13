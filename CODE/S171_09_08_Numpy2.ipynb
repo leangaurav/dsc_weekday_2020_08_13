{
 "cells": [
  {
   "cell_type": "code",
   "execution_count": null,
   "metadata": {},
   "outputs": [],
   "source": [
    "# linspace\n",
    "# any, all\n",
    "# T\n",
    "# isna /isnull\n",
    "# reshape / resize"
   ]
  },
  {
   "cell_type": "code",
   "execution_count": 1,
   "metadata": {},
   "outputs": [],
   "source": [
    "import numpy as np"
   ]
  },
  {
   "cell_type": "code",
   "execution_count": 8,
   "metadata": {},
   "outputs": [
    {
     "name": "stdout",
     "output_type": "stream",
     "text": [
      "[10 11 12 13 14 15 16 17 18 19]\n",
      "\n",
      "[10. 11. 12. 13. 14. 15. 16. 17. 18. 19.]\n",
      "[10.         10.23076923 10.46153846 10.69230769 10.92307692 11.15384615\n",
      " 11.38461538 11.61538462 11.84615385 12.07692308 12.30769231 12.53846154\n",
      " 12.76923077 13.         13.23076923 13.46153846 13.69230769 13.92307692\n",
      " 14.15384615 14.38461538 14.61538462 14.84615385 15.07692308 15.30769231\n",
      " 15.53846154 15.76923077 16.         16.23076923 16.46153846 16.69230769\n",
      " 16.92307692 17.15384615 17.38461538 17.61538462 17.84615385 18.07692308\n",
      " 18.30769231 18.53846154 18.76923077 19.        ]\n"
     ]
    }
   ],
   "source": [
    "a1 = np.arange(10,20)\n",
    "print(a1)\n",
    "\n",
    "print()\n",
    "a2 = np.linspace(10, 19, 10)\n",
    "print(a2)\n",
    "a2 = np.linspace(10, 19, 40)\n",
    "print(a2)"
   ]
  },
  {
   "cell_type": "code",
   "execution_count": 14,
   "metadata": {},
   "outputs": [
    {
     "name": "stdout",
     "output_type": "stream",
     "text": [
      "[[ 0  1  2  3  4]\n",
      " [ 5  6  7  8  9]\n",
      " [10 11 12 13 14]]\n",
      "\n",
      "[[ 0  1  2  3  4]\n",
      " [ 5  6  7  8  9]\n",
      " [10 11 12 13 14]\n",
      " [ 0  0  0  0  0]]\n",
      "\n",
      "[[ 0  1  2  3]\n",
      " [ 4  5  6  7]\n",
      " [ 8  9 10 11]]\n"
     ]
    }
   ],
   "source": [
    "a = np.arange(15).reshape(3,5) # retruns a view\n",
    "print(a)\n",
    "\n",
    "print()\n",
    "#a = np.arange(15).reshape(4,5) #  15=>20 # this doesn't  work\n",
    "a = np.arange(15) # modifies original one. Doesn't create a copy or any view\n",
    "a.resize(4,5) # 15=>20 \n",
    "print(a)\n",
    "\n",
    "print()\n",
    "a = np.arange(15)\n",
    "a.resize(3,4) # 15=>12\n",
    "print(a)"
   ]
  },
  {
   "cell_type": "code",
   "execution_count": 46,
   "metadata": {},
   "outputs": [
    {
     "name": "stdout",
     "output_type": "stream",
     "text": [
      "[[ 0  1  2]\n",
      " [ 3  4  5]\n",
      " [ 6  7  8]\n",
      " [ 9 10 11]\n",
      " [12 13 14]]\n"
     ]
    },
    {
     "ename": "ValueError",
     "evalue": "cannot resize this array: it does not own its data",
     "output_type": "error",
     "traceback": [
      "\u001b[0;31m---------------------------------------------------------------------------\u001b[0m",
      "\u001b[0;31mValueError\u001b[0m                                Traceback (most recent call last)",
      "\u001b[0;32m<ipython-input-46-da27cc0e67a2>\u001b[0m in \u001b[0;36m<module>\u001b[0;34m\u001b[0m\n\u001b[1;32m      6\u001b[0m \u001b[0;31m# 1 2 3 4 5 6\u001b[0m\u001b[0;34m\u001b[0m\u001b[0;34m\u001b[0m\u001b[0;34m\u001b[0m\u001b[0m\n\u001b[1;32m      7\u001b[0m \u001b[0;34m\u001b[0m\u001b[0m\n\u001b[0;32m----> 8\u001b[0;31m \u001b[0ma1\u001b[0m\u001b[0;34m.\u001b[0m\u001b[0mresize\u001b[0m\u001b[0;34m(\u001b[0m\u001b[0;36m10\u001b[0m\u001b[0;34m,\u001b[0m\u001b[0;36m20\u001b[0m\u001b[0;34m)\u001b[0m\u001b[0;34m\u001b[0m\u001b[0;34m\u001b[0m\u001b[0m\n\u001b[0m\u001b[1;32m      9\u001b[0m \u001b[0mprint\u001b[0m\u001b[0;34m(\u001b[0m\u001b[0;34m)\u001b[0m\u001b[0;34m\u001b[0m\u001b[0;34m\u001b[0m\u001b[0m\n\u001b[1;32m     10\u001b[0m \u001b[0ma1\u001b[0m\u001b[0;34m[\u001b[0m\u001b[0;36m0\u001b[0m\u001b[0;34m]\u001b[0m \u001b[0;34m=\u001b[0m \u001b[0;36m100\u001b[0m\u001b[0;34m\u001b[0m\u001b[0;34m\u001b[0m\u001b[0m\n",
      "\u001b[0;31mValueError\u001b[0m: cannot resize this array: it does not own its data"
     ]
    }
   ],
   "source": [
    "a1 = np.arange(15).reshape(5,3)\n",
    "#a2 = a1.reshape(3,5)\n",
    "print(a1)\n",
    "#print(a2)\n",
    "\n",
    "# 1 2 3 4 5 6\n",
    "\n",
    "a1.resize(10,20)\n",
    "print()\n",
    "a1[0] = 100\n",
    "#a2[2,3] = 300\n",
    "print(a1)\n",
    "#print(a2)\n",
    "\n",
    "print(a1.sum())"
   ]
  },
  {
   "cell_type": "code",
   "execution_count": 34,
   "metadata": {},
   "outputs": [
    {
     "name": "stdout",
     "output_type": "stream",
     "text": [
      "[[ 0  1  2  3  4]\n",
      " [ 5  6  7  8  9]\n",
      " [10 11 12 13 14]]\n",
      "\n",
      "105\n",
      "\n",
      "[15 18 21 24 27]\n",
      "\n",
      "[10 35 60]\n",
      "[[ 0  5 10]\n",
      " [ 1  6 11]\n",
      " [ 2  7 12]\n",
      " [ 3  8 13]\n",
      " [ 4  9 14]]\n"
     ]
    }
   ],
   "source": [
    "a = np.arange(15).reshape(3,5)\n",
    "print(a)\n",
    "\n",
    "print()\n",
    "print(a.sum())\n",
    "\n",
    "print()\n",
    "print(a.sum(axis = 0))\n",
    "\n",
    "print()\n",
    "print(a.sum(axis = 1))\n",
    "\n",
    "print(a.T)"
   ]
  },
  {
   "cell_type": "code",
   "execution_count": 33,
   "metadata": {},
   "outputs": [
    {
     "name": "stdout",
     "output_type": "stream",
     "text": [
      "[ 1.  2.  3. nan]\n",
      "nan\n",
      "nan\n",
      "nan\n",
      "False\n",
      "True\n",
      "False\n",
      "False\n",
      "\n",
      "[False False False  True]\n"
     ]
    }
   ],
   "source": [
    "a = np.array([1,2,3, np.nan])\n",
    "print(a)\n",
    "\n",
    "print(a.sum())\n",
    "print(1 + np.nan)\n",
    "print(1 / np.nan)\n",
    "print(np.nan == np.nan)\n",
    "print(np.nan != np.nan)\n",
    "print(np.nan < np.nan)\n",
    "print(np.nan > np.nan)\n",
    "\n",
    "print()\n",
    "print(np.isnan(a))"
   ]
  },
  {
   "cell_type": "code",
   "execution_count": 31,
   "metadata": {},
   "outputs": [
    {
     "name": "stdout",
     "output_type": "stream",
     "text": [
      "['c' 'bcd' 'pwr' '1']\n",
      "<U3\n"
     ]
    }
   ],
   "source": [
    "a = np.array([\"c\", \"bcd\", \"pwr\", \"1\"])\n",
    "print(a)\n",
    "print(a.dtype)"
   ]
  },
  {
   "cell_type": "code",
   "execution_count": 38,
   "metadata": {},
   "outputs": [
    {
     "name": "stdout",
     "output_type": "stream",
     "text": [
      "(10,)\n",
      "(10,)\n",
      "(10, 1)\n",
      "[[0]\n",
      " [1]\n",
      " [2]\n",
      " [3]\n",
      " [4]\n",
      " [5]\n",
      " [6]\n",
      " [7]\n",
      " [8]\n",
      " [9]]\n"
     ]
    }
   ],
   "source": [
    "a = np.arange(10)\n",
    "print(a.shape)\n",
    "print(a.T.shape)\n",
    "\n",
    "a1 = a.reshape(10,1)\n",
    "print(a1.shape)\n",
    "print(a1)"
   ]
  }
 ],
 "metadata": {
  "kernelspec": {
   "display_name": "Python 3",
   "language": "python",
   "name": "python3"
  },
  "language_info": {
   "codemirror_mode": {
    "name": "ipython",
    "version": 3
   },
   "file_extension": ".py",
   "mimetype": "text/x-python",
   "name": "python",
   "nbconvert_exporter": "python",
   "pygments_lexer": "ipython3",
   "version": "3.8.3"
  }
 },
 "nbformat": 4,
 "nbformat_minor": 4
}
