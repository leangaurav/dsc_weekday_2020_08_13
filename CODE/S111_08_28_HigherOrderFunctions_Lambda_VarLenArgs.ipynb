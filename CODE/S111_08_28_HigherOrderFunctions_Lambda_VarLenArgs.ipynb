{
 "cells": [
  {
   "cell_type": "markdown",
   "metadata": {},
   "source": [
    "### Functions\n",
    "- higher order functions\n",
    "- lambdas"
   ]
  },
  {
   "cell_type": "code",
   "execution_count": null,
   "metadata": {},
   "outputs": [],
   "source": [
    "# Synchronous programming\n",
    "p1  ---    ---    --  --  --  --\n",
    " t1    --       --      --x\n",
    " t2      --   --    --      --  --\n",
    "# async programming\n",
    "# async , await"
   ]
  },
  {
   "cell_type": "code",
   "execution_count": 4,
   "metadata": {},
   "outputs": [
    {
     "name": "stdout",
     "output_type": "stream",
     "text": [
      "<function func at 0x0000020A3EA72828>\n"
     ]
    }
   ],
   "source": [
    "def func():\n",
    "    print(10)\n",
    "\n",
    "print(func)"
   ]
  },
  {
   "cell_type": "code",
   "execution_count": 6,
   "metadata": {},
   "outputs": [
    {
     "name": "stdout",
     "output_type": "stream",
     "text": [
      "10\n",
      "<function func at 0x0000020A3EA72B88> None\n"
     ]
    }
   ],
   "source": [
    "def func():\n",
    "    print(10)\n",
    "\n",
    "x = func\n",
    "y = func()\n",
    "\n",
    "print(x, y)"
   ]
  },
  {
   "cell_type": "code",
   "execution_count": 7,
   "metadata": {},
   "outputs": [
    {
     "name": "stdout",
     "output_type": "stream",
     "text": [
      "10\n"
     ]
    }
   ],
   "source": [
    "def func():\n",
    "    print(10)\n",
    "\n",
    "x = func\n",
    "x()"
   ]
  },
  {
   "cell_type": "code",
   "execution_count": 13,
   "metadata": {},
   "outputs": [
    {
     "name": "stdout",
     "output_type": "stream",
     "text": [
      "calling f1\n",
      "F1\n",
      "\n",
      "calling f2\n",
      "F2\n",
      "\n",
      "calling f3\n"
     ]
    },
    {
     "ename": "TypeError",
     "evalue": "f3() missing 1 required positional argument: 'a'",
     "output_type": "error",
     "traceback": [
      "\u001b[1;31m---------------------------------------------------------------------------\u001b[0m",
      "\u001b[1;31mTypeError\u001b[0m                                 Traceback (most recent call last)",
      "\u001b[1;32m<ipython-input-13-6485eba75d2f>\u001b[0m in \u001b[0;36m<module>\u001b[1;34m\u001b[0m\n\u001b[0;32m     15\u001b[0m \u001b[0mcaller\u001b[0m\u001b[1;33m(\u001b[0m\u001b[0mf1\u001b[0m\u001b[1;33m)\u001b[0m\u001b[1;33m\u001b[0m\u001b[1;33m\u001b[0m\u001b[0m\n\u001b[0;32m     16\u001b[0m \u001b[0mcaller\u001b[0m\u001b[1;33m(\u001b[0m\u001b[0mf2\u001b[0m\u001b[1;33m)\u001b[0m\u001b[1;33m\u001b[0m\u001b[1;33m\u001b[0m\u001b[0m\n\u001b[1;32m---> 17\u001b[1;33m \u001b[0mcaller\u001b[0m\u001b[1;33m(\u001b[0m\u001b[0mf3\u001b[0m\u001b[1;33m)\u001b[0m\u001b[1;33m\u001b[0m\u001b[1;33m\u001b[0m\u001b[0m\n\u001b[0m",
      "\u001b[1;32m<ipython-input-13-6485eba75d2f>\u001b[0m in \u001b[0;36mcaller\u001b[1;34m(x)\u001b[0m\n\u001b[0;32m      1\u001b[0m \u001b[1;32mdef\u001b[0m \u001b[0mcaller\u001b[0m\u001b[1;33m(\u001b[0m\u001b[0mx\u001b[0m\u001b[1;33m)\u001b[0m\u001b[1;33m:\u001b[0m\u001b[1;33m\u001b[0m\u001b[1;33m\u001b[0m\u001b[0m\n\u001b[0;32m      2\u001b[0m     \u001b[0mprint\u001b[0m\u001b[1;33m(\u001b[0m\u001b[1;34m\"calling\"\u001b[0m\u001b[1;33m,\u001b[0m \u001b[0mx\u001b[0m\u001b[1;33m.\u001b[0m\u001b[0m__name__\u001b[0m\u001b[1;33m)\u001b[0m\u001b[1;33m\u001b[0m\u001b[1;33m\u001b[0m\u001b[0m\n\u001b[1;32m----> 3\u001b[1;33m     \u001b[0mx\u001b[0m\u001b[1;33m(\u001b[0m\u001b[1;33m)\u001b[0m\u001b[1;33m\u001b[0m\u001b[1;33m\u001b[0m\u001b[0m\n\u001b[0m\u001b[0;32m      4\u001b[0m     \u001b[0mprint\u001b[0m\u001b[1;33m(\u001b[0m\u001b[1;33m)\u001b[0m\u001b[1;33m\u001b[0m\u001b[1;33m\u001b[0m\u001b[0m\n\u001b[0;32m      5\u001b[0m \u001b[1;33m\u001b[0m\u001b[0m\n",
      "\u001b[1;31mTypeError\u001b[0m: f3() missing 1 required positional argument: 'a'"
     ]
    }
   ],
   "source": [
    "def caller(x):\n",
    "    print(\"calling\", x.__name__)\n",
    "    x()\n",
    "    print()\n",
    "    \n",
    "def f1():\n",
    "    print(\"F1\")\n",
    "\n",
    "def f2():\n",
    "    print(\"F2\")\n",
    "\n",
    "def f3(a):\n",
    "    print(\"F3\", a)\n",
    "\n",
    "caller(f1)\n",
    "caller(f2)\n",
    "caller(f3)"
   ]
  },
  {
   "cell_type": "code",
   "execution_count": 16,
   "metadata": {},
   "outputs": [
    {
     "name": "stdout",
     "output_type": "stream",
     "text": [
      "Args ()\n",
      "Args (1,)\n",
      "Args (1, 'abcd')\n"
     ]
    }
   ],
   "source": [
    "# variable length arguments, use a * before parameter name\n",
    "def funct(*args):\n",
    "    print(\"Args\", args)\n",
    "    \n",
    "funct()\n",
    "funct(1)\n",
    "funct(1, \"abcd\")"
   ]
  },
  {
   "cell_type": "code",
   "execution_count": 21,
   "metadata": {},
   "outputs": [
    {
     "name": "stdout",
     "output_type": "stream",
     "text": [
      "1 2\n",
      "10 20\n",
      "10 20\n"
     ]
    },
    {
     "ename": "TypeError",
     "evalue": "funct() takes 2 positional arguments but 3 were given",
     "output_type": "error",
     "traceback": [
      "\u001b[1;31m---------------------------------------------------------------------------\u001b[0m",
      "\u001b[1;31mTypeError\u001b[0m                                 Traceback (most recent call last)",
      "\u001b[1;32m<ipython-input-21-ff513ec4bec7>\u001b[0m in \u001b[0;36m<module>\u001b[1;34m\u001b[0m\n\u001b[0;32m      7\u001b[0m \u001b[0mfunct\u001b[0m\u001b[1;33m(\u001b[0m\u001b[1;33m*\u001b[0m\u001b[0mt\u001b[0m\u001b[1;33m)\u001b[0m\u001b[1;33m\u001b[0m\u001b[1;33m\u001b[0m\u001b[0m\n\u001b[0;32m      8\u001b[0m \u001b[0mt\u001b[0m \u001b[1;33m=\u001b[0m \u001b[1;36m10\u001b[0m\u001b[1;33m,\u001b[0m\u001b[1;36m20\u001b[0m\u001b[1;33m,\u001b[0m\u001b[1;36m30\u001b[0m\u001b[1;33m\u001b[0m\u001b[1;33m\u001b[0m\u001b[0m\n\u001b[1;32m----> 9\u001b[1;33m \u001b[0mfunct\u001b[0m\u001b[1;33m(\u001b[0m\u001b[1;33m*\u001b[0m\u001b[0mt\u001b[0m\u001b[1;33m)\u001b[0m\u001b[1;33m\u001b[0m\u001b[1;33m\u001b[0m\u001b[0m\n\u001b[0m",
      "\u001b[1;31mTypeError\u001b[0m: funct() takes 2 positional arguments but 3 were given"
     ]
    }
   ],
   "source": [
    "def funct(a,b): # pass only 2\n",
    "    print(a,b)\n",
    "    \n",
    "funct(1,2)\n",
    "t = 10,20\n",
    "funct(t[0],t[1])\n",
    "funct(*t)\n",
    "t = 10,20,30\n",
    "funct(*t)"
   ]
  },
  {
   "cell_type": "code",
   "execution_count": 24,
   "metadata": {},
   "outputs": [
    {
     "name": "stdout",
     "output_type": "stream",
     "text": [
      "(1, 2)\n",
      "(10, 20)\n",
      "(10, 20)\n",
      "(10, 20, 30)\n",
      "((10, 20, 30),)\n"
     ]
    }
   ],
   "source": [
    "def funct(*a): # pass any no\n",
    "    print(a)\n",
    "    \n",
    "funct(1,2)\n",
    "t = 10,20\n",
    "funct(t[0],t[1])\n",
    "funct(*t)\n",
    "t = 10,20,30\n",
    "funct(*t)\n",
    "funct(t)"
   ]
  },
  {
   "cell_type": "code",
   "execution_count": 26,
   "metadata": {},
   "outputs": [
    {
     "name": "stdout",
     "output_type": "stream",
     "text": [
      "calling: f1 with args: ()\n",
      "F1\n",
      "\n",
      "calling: f2 with args: ()\n",
      "F2\n",
      "\n",
      "calling: f3 with args: (10,)\n",
      "F3 10\n",
      "\n"
     ]
    }
   ],
   "source": [
    "# why vaiable len args\n",
    "def caller(x,  *args):\n",
    "    print(\"calling:\", x.__name__, \"with args:\", args)\n",
    "    x(*args)\n",
    "    print()\n",
    "    \n",
    "def f1():\n",
    "    print(\"F1\")\n",
    "\n",
    "def f2():\n",
    "    print(\"F2\")\n",
    "\n",
    "def f3(a):\n",
    "    print(\"F3\", a)\n",
    "\n",
    "caller(f1)\n",
    "caller(f2)\n",
    "caller(f3, 10)"
   ]
  },
  {
   "cell_type": "code",
   "execution_count": 30,
   "metadata": {},
   "outputs": [
    {
     "name": "stdout",
     "output_type": "stream",
     "text": [
      "[10, 100, 121, 1089, 1089, 1936, 3025]\n"
     ]
    }
   ],
   "source": [
    "# example custom higer order function\n",
    "def apply(f, seq):\n",
    "    r = []\n",
    "    for e in seq:      # for e in s:\n",
    "        r.append(f(e)) #    r.append( square(e) )\n",
    "    return r\n",
    "\n",
    "def square(x):\n",
    "    return x*x\n",
    "\n",
    "s = [10,11,33,33,44,55]\n",
    "\n",
    "res  = apply(square, s)\n",
    "print(res)"
   ]
  },
  {
   "cell_type": "code",
   "execution_count": 33,
   "metadata": {},
   "outputs": [
    {
     "name": "stdout",
     "output_type": "stream",
     "text": [
      "[3, 2, 0]\n",
      "[3.1622776601683795, 5.0, 2.449489742783178]\n"
     ]
    }
   ],
   "source": [
    "# example custom higer order function\n",
    "def apply(f, seq):\n",
    "    r = []\n",
    "    for e in seq:      # for e in s:\n",
    "        r.append(f(e)) #    r.append( square(e) )\n",
    "    return r\n",
    "\n",
    "import math\n",
    "print(apply(len, [\"abc\", \"qr\", \"\"] ))\n",
    "print(apply(math.sqrt, [10,25,6]))"
   ]
  },
  {
   "cell_type": "code",
   "execution_count": 36,
   "metadata": {},
   "outputs": [
    {
     "name": "stdout",
     "output_type": "stream",
     "text": [
      "<map object at 0x0000020A3EA8E288>\n",
      "3\n",
      "2\n",
      "0\n",
      "\n",
      "Again\n"
     ]
    }
   ],
   "source": [
    "# built in map function\n",
    "# map takes a unary function and a sequence applies the function to each element of sequence\n",
    "\n",
    "m = map(len, [\"abc\", \"pq\", \"\"])\n",
    "print(m)\n",
    "for v in m:\n",
    "    print(v)\n",
    "    \n",
    "print()\n",
    "print(\"Again\")\n",
    "for v in m:\n",
    "    print(v)"
   ]
  },
  {
   "cell_type": "code",
   "execution_count": 40,
   "metadata": {},
   "outputs": [
    {
     "name": "stdout",
     "output_type": "stream",
     "text": [
      "Enter numbers :1 2 3 4 55\n",
      "<map object at 0x0000020A3EAA3E88>\n",
      "[1, 2, 3, 4, 55]\n"
     ]
    }
   ],
   "source": [
    "s = input(\"Enter numbers :\")\n",
    "\n",
    "r = map(int, s.split() )\n",
    "print(r)\n",
    "print(list(r))"
   ]
  },
  {
   "cell_type": "code",
   "execution_count": 37,
   "metadata": {},
   "outputs": [
    {
     "name": "stdout",
     "output_type": "stream",
     "text": [
      "range(0, 10)\n"
     ]
    }
   ],
   "source": [
    "print(range(10))"
   ]
  },
  {
   "cell_type": "code",
   "execution_count": 41,
   "metadata": {},
   "outputs": [
    {
     "name": "stdout",
     "output_type": "stream",
     "text": [
      "Enter numbers :1 2 3 4\n",
      "[1, 2, 3, 4]\n",
      "[1, 4, 9, 16]\n"
     ]
    }
   ],
   "source": [
    "s = input(\"Enter numbers :\")\n",
    "\n",
    "r = map(int, s.split() )\n",
    "r = list(r)\n",
    "print(r)\n",
    "\n",
    "def square(x):\n",
    "    return x*x\n",
    "print( list( map(square, r) ) )"
   ]
  },
  {
   "cell_type": "markdown",
   "metadata": {},
   "source": [
    "# lambda: anonymous function\n",
    " - single line always\n",
    " - no need to write return, value of expression is automatically returned\n",
    " - no names  \n",
    "`lambda <args> : expression`  "
   ]
  },
  {
   "cell_type": "code",
   "execution_count": 43,
   "metadata": {},
   "outputs": [
    {
     "name": "stdout",
     "output_type": "stream",
     "text": [
      "100\n",
      "10000\n"
     ]
    }
   ],
   "source": [
    "f = lambda x : x*x\n",
    "print( f(10) )\n",
    "print( f(100) )"
   ]
  },
  {
   "cell_type": "code",
   "execution_count": 45,
   "metadata": {},
   "outputs": [
    {
     "name": "stdout",
     "output_type": "stream",
     "text": [
      "Enter numbers :1 2 33 44\n",
      "[1, 2, 33, 44]\n",
      "[1, 4, 1089, 1936]\n",
      "[1, 4, 1089, 1936]\n"
     ]
    }
   ],
   "source": [
    "s = input(\"Enter numbers :\")\n",
    "\n",
    "r = map(int, s.split() )\n",
    "r = list(r)\n",
    "print(r)\n",
    "\n",
    "def square(x):\n",
    "    return x*x\n",
    "\n",
    "res  = map(square, r) \n",
    "print( list( res ) )\n",
    "\n",
    "res = map( lambda x : x*x, r) \n",
    "print( list(res) )"
   ]
  },
  {
   "cell_type": "code",
   "execution_count": 46,
   "metadata": {},
   "outputs": [
    {
     "name": "stdout",
     "output_type": "stream",
     "text": [
      "Enter numbers :1 2\n",
      "[1, 2]\n",
      "[1, 4]\n",
      "[1, 4]\n"
     ]
    }
   ],
   "source": [
    "s = input(\"Enter numbers :\")\n",
    "\n",
    "r = map(int, s.split() )\n",
    "r = list(r)\n",
    "print(r)\n",
    "\n",
    "def square(x):\n",
    "    return x*x\n",
    "\n",
    "res  = map(square, r) \n",
    "print( list( res ) )\n",
    "\n",
    "# without square function\n",
    "res = map( lambda x : x*x, r) \n",
    "print( list(res) )"
   ]
  },
  {
   "cell_type": "code",
   "execution_count": 50,
   "metadata": {},
   "outputs": [
    {
     "name": "stdout",
     "output_type": "stream",
     "text": [
      "<filter object at 0x0000020A3EB6C9C8>\n",
      "[22, 44]\n",
      "[11, 22, 33, 44, 55]\n",
      "\n",
      "[22, 44]\n"
     ]
    }
   ],
   "source": [
    "# filter: higher order built-in function\n",
    "\n",
    "s = [11,22,33,44,55]\n",
    "\n",
    "def is_even(n):\n",
    "    return not n%2 # n%2 == 0\n",
    "\n",
    "r = filter(is_even, s)\n",
    "print(r)\n",
    "print( list(r) )\n",
    "print(s)\n",
    "\n",
    "print()\n",
    "r = filter(lambda x: x%2 == 0, s)\n",
    "print( list(r) )"
   ]
  },
  {
   "cell_type": "code",
   "execution_count": null,
   "metadata": {},
   "outputs": [],
   "source": [
    "# WAP to input a sentence, and give a list of words where if word length is even, capitalize it otherwise convert to lower\n"
   ]
  },
  {
   "cell_type": "markdown",
   "metadata": {},
   "source": [
    "### reduce"
   ]
  },
  {
   "cell_type": "code",
   "execution_count": 53,
   "metadata": {},
   "outputs": [
    {
     "name": "stdout",
     "output_type": "stream",
     "text": [
      "2\n",
      "10\n",
      "10\n"
     ]
    }
   ],
   "source": [
    "f = lambda x,y : x if x > y else y\n",
    "\n",
    "print(f(1,2))\n",
    "print(f(10,2))\n",
    "print(f(10,10))"
   ]
  },
  {
   "cell_type": "code",
   "execution_count": 59,
   "metadata": {},
   "outputs": [
    {
     "name": "stdout",
     "output_type": "stream",
     "text": [
      "66\n",
      "197\n"
     ]
    }
   ],
   "source": [
    "from  functools import reduce\n",
    "\n",
    "a = [10,20,11,55,66,33]\n",
    "\n",
    "f = lambda x,y: x if x > y else y\n",
    "\n",
    "r = reduce(f, a)\n",
    "print(r)\n",
    "\n",
    "# x                10  20  20  55  66\n",
    "# y                20  11  55  66  33\n",
    "# result of reduce 20  20  55  66  66\n",
    "\n",
    "r = reduce((lambda x,y: x + y), a)\n",
    "print(r)\n",
    "\n",
    "r = reduce((lambda x,y: x + y), a)\n",
    "print(r)"
   ]
  },
  {
   "cell_type": "code",
   "execution_count": 61,
   "metadata": {},
   "outputs": [
    {
     "name": "stdout",
     "output_type": "stream",
     "text": [
      "3\n"
     ]
    }
   ],
   "source": [
    "s = \"abcdefAgh123\"\n",
    "print( sum( map(lambda c: c.lower() in \"aeiou\", s) ) )"
   ]
  }
 ],
 "metadata": {
  "kernelspec": {
   "display_name": "Python 3",
   "language": "python",
   "name": "python3"
  },
  "language_info": {
   "codemirror_mode": {
    "name": "ipython",
    "version": 3
   },
   "file_extension": ".py",
   "mimetype": "text/x-python",
   "name": "python",
   "nbconvert_exporter": "python",
   "pygments_lexer": "ipython3",
   "version": "3.7.0"
  }
 },
 "nbformat": 4,
 "nbformat_minor": 2
}
