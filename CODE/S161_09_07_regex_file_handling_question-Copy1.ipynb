{
 "cells": [
  {
   "cell_type": "code",
   "execution_count": null,
   "metadata": {},
   "outputs": [],
   "source": [
    "# open\n",
    "# process\n",
    "# close"
   ]
  },
  {
   "cell_type": "code",
   "execution_count": null,
   "metadata": {},
   "outputs": [],
   "source": [
    "with open(<file name> ,<mode>) as file:\n",
    "    ..."
   ]
  },
  {
   "cell_type": "code",
   "execution_count": null,
   "metadata": {},
   "outputs": [],
   "source": [
    "# read : returns string/ byte\n",
    "# write : clean and write if file doesn't exist: takes  string/ byte depending on mode of opening\n",
    "# apped to a file"
   ]
  },
  {
   "cell_type": "code",
   "execution_count": null,
   "metadata": {},
   "outputs": [],
   "source": [
    "# READING\n",
    "# read() ; read(n)\n",
    "# readline() ; till \\n\n",
    "# readlines() ;"
   ]
  },
  {
   "cell_type": "code",
   "execution_count": null,
   "metadata": {},
   "outputs": [],
   "source": [
    "# 1. WAS that prints its name\n",
    "\n",
    "# 2. WAS that takes a file name as argument, prints it on screen, if file name is not given, print itself\n",
    "#  - python f10_copy.py              should print itself\n",
    "#  - python f10_copy.py f1.py        should print f1.py\n",
    "#        if f1.py doesn't exit, it should print error\n",
    "\n",
    "# 3. WAS that takes a file name as argument, and creates its copy\n",
    "#   - python f10_copy.py f1.py\n",
    "#       should create a copy with name f1_copy.py\n",
    "#   - python f10_copy.py f2.py\n",
    "#       should create a copy with name f2_copy.py\n",
    "\n",
    "# 4. WAS that takes a file name as argument, and creates its copy\n",
    "#   - python f10_copy.py f1.py\n",
    "#       should create a copy with name f1_copy.py\n",
    "#   - python f10_copy.py f2.py\n",
    "#       should create a copy with name f2_copy.py\n",
    "# Copy should contain all spaces converted to # and all  numbers converted to ?, for vowels => 0\n"
   ]
  },
  {
   "cell_type": "markdown",
   "metadata": {},
   "source": [
    "### Regex"
   ]
  },
  {
   "cell_type": "code",
   "execution_count": 37,
   "metadata": {},
   "outputs": [
    {
     "name": "stdout",
     "output_type": "stream",
     "text": [
      "['A', 'ASCII', 'DEBUG', 'DOTALL', 'I', 'IGNORECASE', 'L', 'LOCALE', 'M', 'MULTILINE', 'Match', 'Pattern', 'RegexFlag', 'S', 'Scanner', 'T', 'TEMPLATE', 'U', 'UNICODE', 'VERBOSE', 'X', '_MAXCACHE', '__all__', '__builtins__', '__cached__', '__doc__', '__file__', '__loader__', '__name__', '__package__', '__spec__', '__version__', '_cache', '_compile', '_compile_repl', '_expand', '_locale', '_pickle', '_special_chars_map', '_subx', 'compile', 'copyreg', 'enum', 'error', 'escape', 'findall', 'finditer', 'fullmatch', 'functools', 'match', 'purge', 'search', 'split', 'sre_compile', 'sre_parse', 'sub', 'subn', 'template']\n"
     ]
    }
   ],
   "source": [
    "import re # regex, regular expression\n",
    "print(dir(re))"
   ]
  },
  {
   "cell_type": "code",
   "execution_count": 35,
   "metadata": {},
   "outputs": [],
   "source": [
    "# NLP => Natural Language  Processing .. working on text used by humans"
   ]
  },
  {
   "cell_type": "code",
   "execution_count": 38,
   "metadata": {},
   "outputs": [
    {
     "name": "stdout",
     "output_type": "stream",
     "text": [
      "True\n",
      "False\n"
     ]
    }
   ],
   "source": [
    "s  = \"abcd.\"\n",
    "print(s.startswith('a'))\n",
    "print(s.startswith('?'))\n",
    "# check it starts with a number\n",
    "# patterns cannot be checked with normal string search"
   ]
  },
  {
   "cell_type": "code",
   "execution_count": 44,
   "metadata": {},
   "outputs": [
    {
     "name": "stdout",
     "output_type": "stream",
     "text": [
      "abc None\n",
      "123 <re.Match object; span=(0, 1), match='1'>\n",
      "9 <re.Match object; span=(0, 1), match='9'>\n",
      "2 <re.Match object; span=(0, 1), match='2'>\n",
      "2. <re.Match object; span=(0, 1), match='2'>\n"
     ]
    }
   ],
   "source": [
    "# check it starts with a number\n",
    "\n",
    "a = [\"abc\", \"123\", \"9\", \" 2\", \"2.\"]\n",
    "\n",
    "# \\d => digit\n",
    "for s in a:\n",
    "    res = re.match(r\"\\d\", s)\n",
    "    print(s, res)"
   ]
  },
  {
   "cell_type": "code",
   "execution_count": 45,
   "metadata": {},
   "outputs": [
    {
     "name": "stdout",
     "output_type": "stream",
     "text": [
      "abc None\n",
      "123 <re.Match object; span=(0, 2), match='12'>\n",
      "9 None\n",
      " 2 None\n",
      "2. None\n"
     ]
    }
   ],
   "source": [
    "# check it starts with a number\n",
    "\n",
    "a = [\"abc\", \"123\", \"9\", \" 2\", \"2.\"]\n",
    "\n",
    "# \\d => digit\n",
    "for s in a:\n",
    "    res = re.match(r\"\\d\\d\", s)\n",
    "    print(s, res)"
   ]
  },
  {
   "cell_type": "code",
   "execution_count": 48,
   "metadata": {},
   "outputs": [
    {
     "name": "stdout",
     "output_type": "stream",
     "text": [
      "abc None\n",
      "123 <re.Match object; span=(0, 2), match='12'>\n",
      "9 None\n",
      "abc2222 None\n",
      "2. None\n",
      "\n",
      "abc None\n",
      "123 <re.Match object; span=(0, 2), match='12'>\n",
      "9 None\n",
      "abc2222 <re.Match object; span=(3, 5), match='22'>\n",
      "2. None\n"
     ]
    }
   ],
   "source": [
    "# check it starts with two numbers\n",
    "\n",
    "a = [\"abc\", \"123\", \"9\", \"abc2222\", \"2.\"]\n",
    "\n",
    "# \\d => digit\n",
    "for s in a:\n",
    "    res = re.match(r\"\\d\\d\", s)\n",
    "    print(s, res)\n",
    "    \n",
    "# check if  two consecutive digits are present\n",
    "print()\n",
    "for s in a:\n",
    "    res = re.search(r\"\\d\\d\", s)\n",
    "    print(s, res)"
   ]
  },
  {
   "cell_type": "code",
   "execution_count": 52,
   "metadata": {},
   "outputs": [
    {
     "name": "stdout",
     "output_type": "stream",
     "text": [
      "abcdtpq\n",
      "abcd\tpq\n",
      "abcd\\tpq\n",
      "abcd\\tpq\n"
     ]
    }
   ],
   "source": [
    "print('abcdtpq')\n",
    "print('abcd\\tpq')\n",
    "print('abcd\\\\tpq')\n",
    "print(r'abcd\\tpq')"
   ]
  },
  {
   "cell_type": "code",
   "execution_count": 58,
   "metadata": {},
   "outputs": [
    {
     "name": "stdout",
     "output_type": "stream",
     "text": [
      "\n",
      "abc None\n",
      "123 <re.Match object; span=(0, 2), match='12'>\n",
      "9 None\n",
      "abc2222 None\n",
      "2. None\n",
      "\n",
      "ab22c None\n",
      "123 <re.Match object; span=(1, 3), match='23'>\n",
      "9 None\n",
      "abc2222 <re.Match object; span=(5, 7), match='22'>\n",
      "2. None\n"
     ]
    }
   ],
   "source": [
    "# check it starts with two digits\n",
    "# Anchor tag\n",
    "# ^ => start\n",
    "# $ => end\n",
    "print()\n",
    "\n",
    "a = [\"abc\", \"123\", \"9\", \"abc2222\", \"2.\"]\n",
    "for s in a:\n",
    "    res = re.search(r\"^\\d\\d\", s)\n",
    "    print(s, res)\n",
    "    \n",
    "print()\n",
    "# ends with 2 digits\n",
    "a = [\"ab22c\", \"123\", \"9\", \"abc2222\", \"2.\"]\n",
    "for s in a:\n",
    "    res = re.search(r\"\\d\\d$\", s)\n",
    "    print(s, res)"
   ]
  },
  {
   "cell_type": "code",
   "execution_count": 60,
   "metadata": {},
   "outputs": [
    {
     "name": "stdout",
     "output_type": "stream",
     "text": [
      "\n",
      "abc None\n",
      "123 None\n",
      "9 None\n",
      "abc2222 None\n",
      "2. None\n",
      "21 <re.Match object; span=(0, 2), match='21'>\n"
     ]
    }
   ],
   "source": [
    "# exactly 2 digit numbers\n",
    "# ^ => start\n",
    "# $ => end\n",
    "print()\n",
    "\n",
    "a = [\"abc\", \"123\", \"9\", \"abc2222\", \"2.\", \"21\"]\n",
    "for s in a:\n",
    "    res = re.search(r\"^\\d\\d$\", s)\n",
    "    print(s, res)"
   ]
  },
  {
   "cell_type": "code",
   "execution_count": 65,
   "metadata": {},
   "outputs": [
    {
     "name": "stdout",
     "output_type": "stream",
     "text": [
      "abc None\n",
      "123 <re.Match object; span=(0, 1), match='1'>\n",
      "9 <re.Match object; span=(0, 1), match='9'>\n",
      "abc2222 <re.Match object; span=(3, 4), match='2'>\n",
      "2. <re.Match object; span=(0, 1), match='2'>\n",
      "21 <re.Match object; span=(0, 1), match='2'>\n",
      " None\n",
      "\n",
      "abc None\n",
      "123 <re.Match object; span=(0, 3), match='123'>\n",
      "9 <re.Match object; span=(0, 1), match='9'>\n",
      "abc2222 None\n",
      "2. None\n",
      "21 <re.Match object; span=(0, 2), match='21'>\n",
      " None\n",
      "3\n"
     ]
    }
   ],
   "source": [
    "# a string which contains only digits and atleast one digit\n",
    "\n",
    "# Repetition\n",
    "# + => 1 or more times\n",
    "# * => 0-n occurence\n",
    "# ? => exactly 0 or 1 occurence\n",
    "\n",
    "a = [\"abc\", \"123\", \"9\", \"abc2222\", \"2.\", \"21\", \"\"]\n",
    "for s in a:\n",
    "    res = re.search(r\"\\d\", s)\n",
    "    print(s, res)\n",
    "    \n",
    "print()\n",
    "for s in a:\n",
    "    res = re.search(r\"^\\d+$\", s)\n",
    "    print(s, res)\n",
    "    \n",
    "print(1^2) # xor .. different  from re ^"
   ]
  },
  {
   "cell_type": "code",
   "execution_count": 68,
   "metadata": {},
   "outputs": [
    {
     "name": "stdout",
     "output_type": "stream",
     "text": [
      "abc None\n",
      "123 <re.Match object; span=(0, 3), match='123'>\n",
      "9 None\n",
      "abc2222 None\n",
      "1 2 <re.Match object; span=(0, 3), match='1 2'>\n",
      "2. None\n",
      "2a1 <re.Match object; span=(0, 3), match='2a1'>\n",
      " None\n"
     ]
    }
   ],
   "source": [
    "# a 3 char string. first and last should be digit.\n",
    "# middle can be anything...\n",
    "\n",
    "# . => anything .. only one character\n",
    "\n",
    "a = [\"abc\", \"123\", \"9\", \"abc2222\", \"1 2\", \"2.\", \"2a1\", \"\"]\n",
    "for s in a:\n",
    "    res = re.search(r\"^\\d.\\d$\", s)\n",
    "    print(s, res)"
   ]
  },
  {
   "cell_type": "code",
   "execution_count": 67,
   "metadata": {},
   "outputs": [
    {
     "name": "stdout",
     "output_type": "stream",
     "text": [
      "abc None\n",
      "123 None\n",
      "9 None\n",
      "abc2222 None\n",
      "2. None\n",
      "2a1 <re.Match object; span=(0, 3), match='2a1'>\n",
      " None\n"
     ]
    }
   ],
   "source": [
    "# a 3 char string. first and last should be digit.\n",
    "# middle should not be a digit\n",
    "\n",
    "# \\D => not a digit\n",
    "\n",
    "a = [\"abc\", \"123\", \"9\", \"abc2222\", \"2.\", \"2a1\", \"\"]\n",
    "for s in a:\n",
    "    res = re.search(r\"^\\d\\D\\d$\", s)\n",
    "    print(s, res)"
   ]
  },
  {
   "cell_type": "code",
   "execution_count": 88,
   "metadata": {},
   "outputs": [
    {
     "name": "stdout",
     "output_type": "stream",
     "text": [
      "abc None\n",
      "a123  <re.Match object; span=(1, 4), match='123'>\n",
      "abc9aa None\n",
      "abc2222 <re.Match object; span=(3, 6), match='222'>\n",
      "2. None\n",
      "2a1 None\n",
      "aaaaaa12 333433 <re.Match object; span=(9, 12), match='333'>\n",
      "\n",
      "abc None\n",
      "a123  <re.Match object; span=(1, 4), match='123'>\n",
      "abc9aa None\n",
      "abc2222 <re.Match object; span=(3, 7), match='2222'>\n",
      "2. None\n",
      "2a1 None\n",
      "aaaaaa12 333433 a <re.Match object; span=(9, 15), match='333433'>\n",
      "\n",
      "abc None\n",
      "a123  <re.Match object; span=(1, 4), match='123'>\n",
      "abc9aa None\n",
      "abc2222 <re.Match object; span=(3, 6), match='222'>\n",
      "2. None\n",
      "2a1 None\n",
      "aaaaaa12 123456 a <re.Match object; span=(9, 12), match='123'>\n"
     ]
    }
   ],
   "source": [
    "# Exact  repetitions {}\n",
    "# {exact}, {min,}, {,max}, {min,max}\n",
    "\n",
    "# match all stings which contain a 3 digit number anywhere\n",
    "a = [\"abc\", \"a123 \", \"abc9aa\", \"abc2222\", \"2.\", \"2a1\", \"aaaaaa12 333433\"]\n",
    "for s in a:\n",
    "    res = re.search(r\"\\d{3}\", s)\n",
    "    print(s, res)\n",
    "\n",
    "print()\n",
    "# match all stings which contain atleast 3 digit number anywhere\n",
    "a = [\"abc\", \"a123 \", \"abc9aa\", \"abc2222\", \"2.\", \"2a1\", \"aaaaaa12 333433 a\"]\n",
    "for s in a:\n",
    "    res = re.search(r\"\\d{3,}\", s)\n",
    "    print(s, res)\n",
    "\n",
    "# match all stings which contain a 3-5 digit number anywhere\n",
    "print()\n",
    "a = [\"abc\", \"a123 \", \"abc9aa\", \"abc2222\", \"2.\", \"2a1\", \"aaaaaa12 123456 a\"]\n",
    "for s in a:\n",
    "    res = re.search(r\"\\d{3,5}\", s)\n",
    "    print(s, res)\n",
    "    \n",
    "\n"
   ]
  },
  {
   "cell_type": "code",
   "execution_count": 91,
   "metadata": {},
   "outputs": [
    {
     "name": "stdout",
     "output_type": "stream",
     "text": [
      "\n",
      "abc None\n",
      "a123  <re.Match object; span=(0, 5), match='a123 '>\n",
      "abc9aa None\n",
      "abc2222 <re.Match object; span=(2, 7), match='c2222'>\n",
      "2. None\n",
      "2a1 None\n",
      "aaaaaa12 123456 a None\n",
      "1234 <re.Match object; span=(0, 4), match='1234'>\n"
     ]
    }
   ],
   "source": [
    "# | => or operator\n",
    "print()\n",
    "a = [\"abc\", \"a123 \", \"abc9aa\", \"abc2222\", \"2.\", \"2a1\", \"aaaaaa12 123456 a\", \"1234\"]\n",
    "for s in a:\n",
    "    res = re.search(r\"(\\D|^)\\d{3,5}(\\D|$)\", s)\n",
    "    print(s, res)"
   ]
  },
  {
   "cell_type": "code",
   "execution_count": 78,
   "metadata": {},
   "outputs": [],
   "source": [
    "# \\d , \\D => digit, not digit\n",
    "# \\w , \\W => alphanumeric, not alphanumerice\n",
    "# \\s , \\S => space, not space => white space characters [\\n,\\t, ' ']"
   ]
  },
  {
   "cell_type": "code",
   "execution_count": 92,
   "metadata": {},
   "outputs": [
    {
     "name": "stdout",
     "output_type": "stream",
     "text": [
      "\n",
      "abc None\n",
      "1a3  <re.Match object; span=(0, 3), match='1a3'>\n",
      "a9a4a <re.Match object; span=(1, 4), match='9a4'>\n",
      "12abc34 <re.Match object; span=(0, 7), match='12abc34'>\n",
      "1234 <re.Match object; span=(0, 4), match='1234'>\n"
     ]
    }
   ],
   "source": [
    "# greedy vs non-greedy search\n",
    "# *?\n",
    "# +?\n",
    "# {}?\n",
    "\n",
    "# a digit, any character atleast 1 times, a digit, anywhere in a string\n",
    "\n",
    "print()\n",
    "#    -       *        9a4       2abc3\n",
    "a = [\"abc\", \"1a3 \", \"a9a4a\", \"12abc34\", \"1234\"]\n",
    "for s in a:\n",
    "    res = re.search(r\"\\d.+\\d\", s)\n",
    "    print(s, res)"
   ]
  },
  {
   "cell_type": "code",
   "execution_count": 93,
   "metadata": {},
   "outputs": [
    {
     "name": "stdout",
     "output_type": "stream",
     "text": [
      "\n",
      "abc None\n",
      "1a3  <re.Match object; span=(0, 3), match='1a3'>\n",
      "a9a4a <re.Match object; span=(1, 4), match='9a4'>\n",
      "12abc34 <re.Match object; span=(1, 6), match='2abc3'>\n",
      "1234 None\n"
     ]
    }
   ],
   "source": [
    "# a digit, alphabets atleast 1 times, a digit, anywhere in a string\n",
    "\n",
    "# search set = [], [a-z], [a-zA-Z], [1-4], [0-9a-zA-Z] [04AB#,]\n",
    "print()\n",
    "#    -       *        9a4       2abc3\n",
    "a = [\"abc\", \"1a3 \", \"a9a4a\", \"12abc34\", \"1234\"]\n",
    "for s in a:\n",
    "    res = re.search(r\"\\d[a-zA-Z]+\\d\", s)\n",
    "    print(s, res)"
   ]
  },
  {
   "cell_type": "code",
   "execution_count": 94,
   "metadata": {},
   "outputs": [
    {
     "name": "stdout",
     "output_type": "stream",
     "text": [
      "\n",
      "abc None\n",
      "1a3  <re.Match object; span=(0, 3), match='1a3'>\n",
      "a9a4a <re.Match object; span=(1, 4), match='9a4'>\n",
      "12abc34 <re.Match object; span=(1, 6), match='2abc3'>\n",
      "1234 None\n",
      "1a2b3c4d <re.Match object; span=(0, 3), match='1a2'>\n"
     ]
    }
   ],
   "source": [
    "# a digit, alphabets atleast 1 times, a digit, anywhere in a string\n",
    "\n",
    "# search set = [], [a-z], [a-zA-Z], [1-4], [0-9a-zA-Z] [04AB#,]\n",
    "print()\n",
    "#    -       *        9a4       2abc3\n",
    "a = [\"abc\", \"1a3 \", \"a9a4a\", \"12abc34\", \"1234\", \"1a2b3c4d\"]\n",
    "for s in a:\n",
    "    res = re.search(r\"\\d[a-zA-Z]+\\d\", s)\n",
    "    print(s, res)"
   ]
  },
  {
   "cell_type": "code",
   "execution_count": 96,
   "metadata": {},
   "outputs": [
    {
     "name": "stdout",
     "output_type": "stream",
     "text": [
      "\n",
      "abc None\n",
      "1a3  <re.Match object; span=(0, 3), match='1a3'>\n",
      "a9a4a <re.Match object; span=(1, 4), match='9a4'>\n",
      "12abc34 <re.Match object; span=(0, 7), match='12abc34'>\n",
      "1234 <re.Match object; span=(0, 4), match='1234'>\n",
      "1a2b3c4d <re.Match object; span=(0, 7), match='1a2b3c4'>\n",
      "\n",
      "abc None\n",
      "1a3  <re.Match object; span=(0, 3), match='1a3'>\n",
      "a9a4a <re.Match object; span=(1, 4), match='9a4'>\n",
      "12abc34 <re.Match object; span=(0, 6), match='12abc3'>\n",
      "1234 <re.Match object; span=(0, 3), match='123'>\n",
      "1a2b3c4d <re.Match object; span=(0, 3), match='1a2'>\n"
     ]
    }
   ],
   "source": [
    "# a digit, any character atleast 1 times, a digit, anywhere in a string\n",
    "\n",
    "print()\n",
    "#    -       *        9a4       2abc3\n",
    "a = [\"abc\", \"1a3 \", \"a9a4a\", \"12abc34\", \"1234\", \"1a2b3c4d\"]\n",
    "for s in a:\n",
    "    res = re.search(r\"\\d.+\\d\", s) # greedy\n",
    "    print(s, res)\n",
    "\n",
    "print()\n",
    "a = [\"abc\", \"1a3 \", \"a9a4a\", \"12abc34\", \"1234\", \"1a2b3c4d\"]\n",
    "for s in a:\n",
    "    res = re.search(r\"\\d.+?\\d\", s) # non-greedy\n",
    "    print(s, res)"
   ]
  },
  {
   "cell_type": "code",
   "execution_count": 108,
   "metadata": {},
   "outputs": [
    {
     "name": "stdout",
     "output_type": "stream",
     "text": [
      "['__class__', '__copy__', '__deepcopy__', '__delattr__', '__dir__', '__doc__', '__eq__', '__format__', '__ge__', '__getattribute__', '__getitem__', '__gt__', '__hash__', '__init__', '__init_subclass__', '__le__', '__lt__', '__ne__', '__new__', '__reduce__', '__reduce_ex__', '__repr__', '__setattr__', '__sizeof__', '__str__', '__subclasshook__', 'end', 'endpos', 'expand', 'group', 'groupdict', 'groups', 'lastgroup', 'lastindex', 'pos', 're', 'regs', 'span', 'start', 'string']\n",
      "\n",
      "3A2\n",
      "()\n",
      "\n",
      "['__class__', '__copy__', '__deepcopy__', '__delattr__', '__dir__', '__doc__', '__eq__', '__format__', '__ge__', '__getattribute__', '__getitem__', '__gt__', '__hash__', '__init__', '__init_subclass__', '__le__', '__lt__', '__ne__', '__new__', '__reduce__', '__reduce_ex__', '__repr__', '__setattr__', '__sizeof__', '__str__', '__subclasshook__', 'end', 'endpos', 'expand', 'group', 'groupdict', 'groups', 'lastgroup', 'lastindex', 'pos', 're', 'regs', 'span', 'start', 'string']\n",
      "\n",
      "3ASSpqr.. 2\n",
      "('ASSpqr.. ', '2')\n",
      "\n",
      "['__class__', '__copy__', '__deepcopy__', '__delattr__', '__dir__', '__doc__', '__eq__', '__format__', '__ge__', '__getattribute__', '__getitem__', '__gt__', '__hash__', '__init__', '__init_subclass__', '__le__', '__lt__', '__ne__', '__new__', '__reduce__', '__reduce_ex__', '__repr__', '__setattr__', '__sizeof__', '__str__', '__subclasshook__', 'end', 'endpos', 'expand', 'group', 'groupdict', 'groups', 'lastgroup', 'lastindex', 'pos', 're', 'regs', 'span', 'start', 'string']\n",
      "\n",
      "3ASSpqr.. 2\n",
      "('ASSpqr.. ', '2')\n"
     ]
    }
   ],
   "source": [
    "res = re.search(r\"\\d.+?\\d\", \"abc3A2B\")\n",
    "print(dir(res))\n",
    "\n",
    "print()\n",
    "print(res.group())\n",
    "print(res.groups())\n",
    "\n",
    "print()\n",
    "# () => capture-group => sub-groups\n",
    "# (?...) => group without capture\n",
    "res = re.search(r\"\\d(.+?)(\\d)\", \"abc3ASSpqr.. 2B\")\n",
    "print(dir(res))\n",
    "\n",
    "print()\n",
    "print(res.group()) # gives u complete match\n",
    "print(res.groups()) # gives u capture-groups if  any used in the regex\n",
    "\n",
    "\n",
    "print()\n",
    "# () => capture-group => sub-groups\n",
    "res = re.search(r\"\\d(.+?)(\\d)\", \"abc3ASSpqr.. 2B\")\n",
    "print(dir(res))\n",
    "\n",
    "print()\n",
    "print(res.group()) # gives u complete match\n",
    "print(res.groups()) # gives u capture-groups if  any used in the regex"
   ]
  },
  {
   "cell_type": "code",
   "execution_count": null,
   "metadata": {},
   "outputs": [],
   "source": [
    "# \\b => word boundary => \\n,\\t, ' ', end or start of string"
   ]
  },
  {
   "cell_type": "code",
   "execution_count": 6,
   "metadata": {},
   "outputs": [
    {
     "name": "stdout",
     "output_type": "stream",
     "text": [
      "['A', 'ASCII', 'DEBUG', 'DOTALL', 'I', 'IGNORECASE', 'L', 'LOCALE', 'M', 'MULTILINE', 'Match', 'Pattern', 'RegexFlag', 'S', 'Scanner', 'T', 'TEMPLATE', 'U', 'UNICODE', 'VERBOSE', 'X', '_MAXCACHE', '__all__', '__builtins__', '__cached__', '__doc__', '__file__', '__loader__', '__name__', '__package__', '__spec__', '__version__', '_cache', '_compile', '_compile_repl', '_expand', '_locale', '_pickle', '_special_chars_map', '_subx', 'compile', 'copyreg', 'enum', 'error', 'escape', 'findall', 'finditer', 'fullmatch', 'functools', 'match', 'purge', 'search', 'split', 'sre_compile', 'sre_parse', 'sub', 'subn', 'template']\n"
     ]
    }
   ],
   "source": [
    "import re\n",
    "print(dir(re))"
   ]
  },
  {
   "cell_type": "code",
   "execution_count": 11,
   "metadata": {},
   "outputs": [
    {
     "name": "stdout",
     "output_type": "stream",
     "text": [
      "<re.Match object; span=(4, 7), match='ABC'>\n",
      "<re.Match object; span=(0, 3), match='abc'>\n",
      "re.compile('aBc', re.IGNORECASE)\n",
      "<re.Match object; span=(0, 3), match='abc'>\n"
     ]
    }
   ],
   "source": [
    "print(re.search('ABC', \"abcdABC\"))\n",
    "print(re.search('ABC', \"abcdABC\", re.IGNORECASE))\n",
    "\n",
    "print()\n",
    "reg = re.compile(\"aBc\", re.IGNORECASE)\n",
    "print(reg)\n",
    "print(reg.search(\"abc AEC\"))"
   ]
  },
  {
   "cell_type": "code",
   "execution_count": 15,
   "metadata": {},
   "outputs": [
    {
     "name": "stdout",
     "output_type": "stream",
     "text": [
      "abc\n",
      "ABC\n",
      "['abc', 'ABC']\n",
      "<re.Match object; span=(0, 3), match='abc'>\n",
      "<re.Match object; span=(4, 7), match='ABC'>\n"
     ]
    }
   ],
   "source": [
    "for res in re.findall('ABC', \"abcdABC\", re.IGNORECASE):\n",
    "    print(res)\n",
    "    \n",
    "print( re.findall('ABC', \"abcdABC\", re.IGNORECASE))\n",
    "\n",
    "print()\n",
    "for res in re.finditer('ABC', \"abcdABC\", re.IGNORECASE):\n",
    "    print(res)"
   ]
  },
  {
   "cell_type": "code",
   "execution_count": 31,
   "metadata": {},
   "outputs": [
    {
     "name": "stdout",
     "output_type": "stream",
     "text": [
      "Enter a num: 10\n",
      "n= 10\n",
      "r= 0\n",
      "Some unhanadled exception: list index out of range\n",
      "End\n"
     ]
    },
    {
     "name": "stderr",
     "output_type": "stream",
     "text": [
      "  File \"<ipython-input-31-11c98128eb10>\", line 23, in <module>\n",
      "    func1()\n",
      "  File \"<ipython-input-31-11c98128eb10>\", line 16, in func1\n",
      "    func()\n",
      "  File \"<ipython-input-31-11c98128eb10>\", line 9, in func\n",
      "    print(\"value\", a[n])\n"
     ]
    },
    {
     "ename": "IndexError",
     "evalue": "list index out of range",
     "output_type": "error",
     "traceback": [
      "\u001b[0;31m---------------------------------------------------------------------------\u001b[0m",
      "\u001b[0;31mIndexError\u001b[0m                                Traceback (most recent call last)",
      "\u001b[0;32m<ipython-input-31-11c98128eb10>\u001b[0m in \u001b[0;36m<module>\u001b[0;34m\u001b[0m\n\u001b[1;32m     22\u001b[0m \u001b[0;32mtry\u001b[0m\u001b[0;34m:\u001b[0m\u001b[0;34m\u001b[0m\u001b[0;34m\u001b[0m\u001b[0m\n\u001b[0;32m---> 23\u001b[0;31m     \u001b[0mfunc1\u001b[0m\u001b[0;34m(\u001b[0m\u001b[0;34m)\u001b[0m\u001b[0;34m\u001b[0m\u001b[0;34m\u001b[0m\u001b[0m\n\u001b[0m\u001b[1;32m     24\u001b[0m \u001b[0;32mexcept\u001b[0m \u001b[0mException\u001b[0m \u001b[0;32mas\u001b[0m \u001b[0merr\u001b[0m\u001b[0;34m:\u001b[0m \u001b[0;31m# genric one should be at last\u001b[0m\u001b[0;34m\u001b[0m\u001b[0;34m\u001b[0m\u001b[0m\n",
      "\u001b[0;32m<ipython-input-31-11c98128eb10>\u001b[0m in \u001b[0;36mfunc1\u001b[0;34m()\u001b[0m\n\u001b[1;32m     15\u001b[0m     \u001b[0;32mtry\u001b[0m\u001b[0;34m:\u001b[0m\u001b[0;34m\u001b[0m\u001b[0;34m\u001b[0m\u001b[0m\n\u001b[0;32m---> 16\u001b[0;31m         \u001b[0mfunc\u001b[0m\u001b[0;34m(\u001b[0m\u001b[0;34m)\u001b[0m\u001b[0;34m\u001b[0m\u001b[0;34m\u001b[0m\u001b[0m\n\u001b[0m\u001b[1;32m     17\u001b[0m     \u001b[0;32mexcept\u001b[0m \u001b[0mZeroDivisionError\u001b[0m \u001b[0;32mas\u001b[0m \u001b[0merr\u001b[0m\u001b[0;34m:\u001b[0m \u001b[0;31m# exception handlers\u001b[0m\u001b[0;34m\u001b[0m\u001b[0;34m\u001b[0m\u001b[0m\n",
      "\u001b[0;32m<ipython-input-31-11c98128eb10>\u001b[0m in \u001b[0;36mfunc\u001b[0;34m()\u001b[0m\n\u001b[1;32m      8\u001b[0m         \u001b[0mprint\u001b[0m\u001b[0;34m(\u001b[0m\u001b[0;34m\"r=\"\u001b[0m\u001b[0;34m,\u001b[0m \u001b[0mr\u001b[0m\u001b[0;34m)\u001b[0m\u001b[0;34m\u001b[0m\u001b[0;34m\u001b[0m\u001b[0m\n\u001b[0;32m----> 9\u001b[0;31m         \u001b[0mprint\u001b[0m\u001b[0;34m(\u001b[0m\u001b[0;34m\"value\"\u001b[0m\u001b[0;34m,\u001b[0m \u001b[0ma\u001b[0m\u001b[0;34m[\u001b[0m\u001b[0mn\u001b[0m\u001b[0;34m]\u001b[0m\u001b[0;34m)\u001b[0m\u001b[0;34m\u001b[0m\u001b[0;34m\u001b[0m\u001b[0m\n\u001b[0m\u001b[1;32m     10\u001b[0m     \u001b[0;32mexcept\u001b[0m \u001b[0mValueError\u001b[0m \u001b[0;32mas\u001b[0m \u001b[0merr\u001b[0m\u001b[0;34m:\u001b[0m \u001b[0;31m# exception handlers\u001b[0m\u001b[0;34m\u001b[0m\u001b[0;34m\u001b[0m\u001b[0m\n",
      "\u001b[0;31mIndexError\u001b[0m: list index out of range",
      "\nDuring handling of the above exception, another exception occurred:\n",
      "\u001b[0;31mIndexError\u001b[0m                                Traceback (most recent call last)",
      "\u001b[0;32m<ipython-input-31-11c98128eb10>\u001b[0m in \u001b[0;36m<module>\u001b[0;34m\u001b[0m\n\u001b[1;32m     25\u001b[0m     \u001b[0mprint\u001b[0m\u001b[0;34m(\u001b[0m\u001b[0;34m\"Some unhanadled exception:\"\u001b[0m\u001b[0;34m,\u001b[0m \u001b[0merr\u001b[0m\u001b[0;34m)\u001b[0m\u001b[0;34m\u001b[0m\u001b[0;34m\u001b[0m\u001b[0m\n\u001b[1;32m     26\u001b[0m     \u001b[0mtraceback\u001b[0m\u001b[0;34m.\u001b[0m\u001b[0mprint_tb\u001b[0m\u001b[0;34m(\u001b[0m\u001b[0merr\u001b[0m\u001b[0;34m.\u001b[0m\u001b[0m__traceback__\u001b[0m\u001b[0;34m)\u001b[0m\u001b[0;34m\u001b[0m\u001b[0;34m\u001b[0m\u001b[0m\n\u001b[0;32m---> 27\u001b[0;31m     \u001b[0;34m[\u001b[0m\u001b[0;34m]\u001b[0m\u001b[0;34m[\u001b[0m\u001b[0;36m10\u001b[0m\u001b[0;34m]\u001b[0m\u001b[0;34m\u001b[0m\u001b[0;34m\u001b[0m\u001b[0m\n\u001b[0m\u001b[1;32m     28\u001b[0m \u001b[0;32mfinally\u001b[0m\u001b[0;34m:\u001b[0m\u001b[0;34m\u001b[0m\u001b[0;34m\u001b[0m\u001b[0m\n\u001b[1;32m     29\u001b[0m     \u001b[0mprint\u001b[0m\u001b[0;34m(\u001b[0m\u001b[0;34m\"End\"\u001b[0m\u001b[0;34m)\u001b[0m\u001b[0;34m\u001b[0m\u001b[0;34m\u001b[0m\u001b[0m\n",
      "\u001b[0;31mIndexError\u001b[0m: list index out of range"
     ]
    }
   ],
   "source": [
    "import traceback\n",
    "def func():\n",
    "    try:\n",
    "        n = int(input(\"Enter a num: \"))\n",
    "        print(\"n=\", n)\n",
    "        r = 4//n\n",
    "        a = [1,2,3]\n",
    "        print(\"r=\", r)\n",
    "        print(\"value\", a[n])\n",
    "    except ValueError as err: # exception handlers\n",
    "        print(\"Invalid value: \", err)\n",
    "    print(\"Success func\")\n",
    "\n",
    "def func1():\n",
    "    try:\n",
    "        func()\n",
    "    except ZeroDivisionError as err: # exception handlers\n",
    "        print(\"Don't give zeroes: \", err)\n",
    "    print(\"Success func1\")\n",
    "\n",
    "# starts here\n",
    "try:\n",
    "    func1()\n",
    "except Exception as err: # genric one should be at last\n",
    "    print(\"Some unhanadled exception:\", err)\n",
    "    traceback.print_tb(err.__traceback__)\n",
    "    raise\n",
    "finally:\n",
    "    print(\"End\")"
   ]
  },
  {
   "cell_type": "code",
   "execution_count": 23,
   "metadata": {},
   "outputs": [
    {
     "name": "stdout",
     "output_type": "stream",
     "text": [
      "100 1\n",
      "100 2\n",
      "\n",
      "200 1\n",
      "100 1\n"
     ]
    }
   ],
   "source": [
    "def f(x):\n",
    "    def inner(y):\n",
    "        print(x, y)\n",
    "        \n",
    "    return inner\n",
    "\n",
    "r = f(100)\n",
    "r(1)\n",
    "r(2)\n",
    "\n",
    "print()\n",
    "p = f(200) \n",
    "p(1)\n",
    "r(1)"
   ]
  },
  {
   "cell_type": "code",
   "execution_count": 26,
   "metadata": {},
   "outputs": [
    {
     "name": "stdout",
     "output_type": "stream",
     "text": [
      "[10]\n",
      "[10, 20]\n",
      "[10, 20]\n",
      "\n",
      "[10]\n",
      "[10, 20]\n"
     ]
    }
   ],
   "source": [
    "def funct(x,c=[]):\n",
    "    c.append(x)\n",
    "    print(c)\n",
    "    \n",
    "a = []\n",
    "funct(10,a)\n",
    "funct(20,a)\n",
    "print(a)\n",
    "\n",
    "print()\n",
    "funct(10)\n",
    "funct(20)\n"
   ]
  },
  {
   "cell_type": "code",
   "execution_count": 28,
   "metadata": {},
   "outputs": [
    {
     "name": "stdout",
     "output_type": "stream",
     "text": [
      "[10]\n",
      "[10, 20]\n",
      "[10, 20]\n",
      "\n",
      "[10]\n",
      "[20]\n"
     ]
    }
   ],
   "source": [
    "def funct(x,c=None):\n",
    "    if c is None:\n",
    "        c = []\n",
    "    c.append(x)\n",
    "    print(c)\n",
    "\n",
    "a = []\n",
    "funct(10,a)\n",
    "funct(20,a)\n",
    "print(a)\n",
    "\n",
    "print()\n",
    "funct(10)\n",
    "funct(20)\n"
   ]
  }
 ],
 "metadata": {
  "kernelspec": {
   "display_name": "Python 3",
   "language": "python",
   "name": "python3"
  },
  "language_info": {
   "codemirror_mode": {
    "name": "ipython",
    "version": 3
   },
   "file_extension": ".py",
   "mimetype": "text/x-python",
   "name": "python",
   "nbconvert_exporter": "python",
   "pygments_lexer": "ipython3",
   "version": "3.8.3"
  }
 },
 "nbformat": 4,
 "nbformat_minor": 2
}
